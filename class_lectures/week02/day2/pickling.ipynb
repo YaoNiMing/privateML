{
 "cells": [
  {
   "cell_type": "markdown",
   "metadata": {},
   "source": [
    "# Pickling!"
   ]
  },
  {
   "cell_type": "markdown",
   "metadata": {},
   "source": [
    "Python objects can be serialized (\"pickled\") and written to disk, then later deserialized (\"un-pickled\") from disk. This is a handy way to save your Python work, especially when creating it (scraping it, etc.) takes a while."
   ]
  },
  {
   "cell_type": "code",
   "execution_count": 1,
   "metadata": {
    "collapsed": true
   },
   "outputs": [],
   "source": [
    "# Start in a new directory to see the pickle file appear more clearly!"
   ]
  },
  {
   "cell_type": "code",
   "execution_count": 2,
   "metadata": {
    "collapsed": true
   },
   "outputs": [],
   "source": [
    "# Python 2 & 3 Compatibility\n",
    "from __future__ import print_function, division"
   ]
  },
  {
   "cell_type": "code",
   "execution_count": 9,
   "metadata": {
    "collapsed": false
   },
   "outputs": [
    {
     "name": "stdout",
     "output_type": "stream",
     "text": [
      "{'Ramesh': 'happy', 'Paul': 'flat'}\n"
     ]
    }
   ],
   "source": [
    "PAULS_MOOD = 'flat'\n",
    "\n",
    "mood = {'Paul': PAULS_MOOD, 'Ramesh': 'happy'}\n",
    "\n",
    "print(mood)"
   ]
  },
  {
   "cell_type": "code",
   "execution_count": 4,
   "metadata": {
    "collapsed": false
   },
   "outputs": [
    {
     "name": "stdout",
     "output_type": "stream",
     "text": [
      "Intro_to_Regression.ipynb \u001b[34mdata\u001b[m\u001b[m                      pickling.ipynb\r\n",
      "README.md                 pair-numpy_opt.md\r\n"
     ]
    }
   ],
   "source": [
    "!ls"
   ]
  },
  {
   "cell_type": "code",
   "execution_count": 16,
   "metadata": {
    "collapsed": false
   },
   "outputs": [],
   "source": [
    "import pickle\n",
    "\n",
    "with open('data/boring_paul.pkl', 'wb') as picklefile:\n",
    "    pickle.dump(mood, picklefile)"
   ]
  },
  {
   "cell_type": "code",
   "execution_count": 17,
   "metadata": {
    "collapsed": false
   },
   "outputs": [
    {
     "name": "stdout",
     "output_type": "stream",
     "text": [
      "bike_reg_model.pkl         survey_sk_model.pkl\r\n",
      "boring_paul.pkl            survey_sk_model.pkl_01.npy\r\n",
      "\u001b[31mhour.csv\u001b[m\u001b[m                   survey_sk_model.pkl_02.npy\r\n",
      "poly_data.npz              survey_sm_model.pkl\r\n",
      "survey_data.pkl\r\n"
     ]
    }
   ],
   "source": [
    "!ls data"
   ]
  },
  {
   "cell_type": "code",
   "execution_count": 18,
   "metadata": {
    "collapsed": false
   },
   "outputs": [
    {
     "ename": "NameError",
     "evalue": "name 'mood' is not defined",
     "output_type": "error",
     "traceback": [
      "\u001b[0;31m---------------------------------------------------------------------------\u001b[0m",
      "\u001b[0;31mNameError\u001b[0m                                 Traceback (most recent call last)",
      "\u001b[0;32m<ipython-input-18-7b672a9c977b>\u001b[0m in \u001b[0;36m<module>\u001b[0;34m()\u001b[0m\n\u001b[1;32m      1\u001b[0m \u001b[0;32mdel\u001b[0m\u001b[0;34m(\u001b[0m\u001b[0mmood\u001b[0m\u001b[0;34m)\u001b[0m\u001b[0;34m\u001b[0m\u001b[0m\n\u001b[0;32m----> 2\u001b[0;31m \u001b[0mprint\u001b[0m\u001b[0;34m(\u001b[0m\u001b[0mmood\u001b[0m\u001b[0;34m)\u001b[0m\u001b[0;34m\u001b[0m\u001b[0m\n\u001b[0m",
      "\u001b[0;31mNameError\u001b[0m: name 'mood' is not defined"
     ]
    }
   ],
   "source": [
    "del(mood)\n",
    "print(mood)"
   ]
  },
  {
   "cell_type": "code",
   "execution_count": 21,
   "metadata": {
    "collapsed": false
   },
   "outputs": [],
   "source": [
    "with open(\"data/boring_paul.pkl\", 'rb') as picklefile: \n",
    "    my_old_mood = pickle.load(picklefile)"
   ]
  },
  {
   "cell_type": "code",
   "execution_count": 22,
   "metadata": {
    "collapsed": false
   },
   "outputs": [
    {
     "name": "stdout",
     "output_type": "stream",
     "text": [
      "{'Ramesh': 'happy', 'Paul': 'flat'}\n"
     ]
    }
   ],
   "source": [
    "print(my_old_mood)"
   ]
  },
  {
   "cell_type": "markdown",
   "metadata": {
    "collapsed": false
   },
   "source": [
    "You can pickle very nearly any Python data structure. For more, check out:\n",
    "\n",
    " * The [pickle documentation](https://docs.python.org/2/library/pickle.html) for the whole story.\n",
    " * The [pickle_warehouse package](https://pypi.python.org/pypi/pickle-warehouse) for convenient pickling and un-pickling with a dictionary-like interface."
   ]
  }
 ],
 "metadata": {
  "kernelspec": {
   "display_name": "Python 3",
   "language": "python",
   "name": "python3"
  },
  "language_info": {
   "codemirror_mode": {
    "name": "ipython",
    "version": 3
   },
   "file_extension": ".py",
   "mimetype": "text/x-python",
   "name": "python",
   "nbconvert_exporter": "python",
   "pygments_lexer": "ipython3",
   "version": "3.5.1"
  }
 },
 "nbformat": 4,
 "nbformat_minor": 0
}
