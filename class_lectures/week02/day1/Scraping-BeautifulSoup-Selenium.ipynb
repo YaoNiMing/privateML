{
 "cells": [
  {
   "cell_type": "code",
   "execution_count": null,
   "metadata": {
    "collapsed": true
   },
   "outputs": [],
   "source": [
    "# Python 2 & 3 Compatibility\n",
    "from __future__ import print_function, division"
   ]
  },
  {
   "cell_type": "markdown",
   "metadata": {},
   "source": [
    "Our standard imports"
   ]
  },
  {
   "cell_type": "code",
   "execution_count": null,
   "metadata": {
    "collapsed": false
   },
   "outputs": [],
   "source": [
    "import pandas as pd\n",
    "import numpy as np\n",
    "import matplotlib.pyplot as plt\n",
    "\n",
    "%matplotlib inline"
   ]
  },
  {
   "cell_type": "markdown",
   "metadata": {},
   "source": [
    "## First, an HTML refresher\n",
    "HTML is the basic language used to create a web page. \n",
    "\n",
    "It tells the web browser what text/media to display, where to display it, and how to display it (style)\n",
    "\n",
    "HTML is very structured/hirarchical. \n",
    "\n",
    "Every page is made up of discrete \"elements.\"\n",
    "\n",
    "Elements are labeled with \"tags.\"\n",
    "\n",
    "For example:\n",
    "\n",
    "    <p>You are beginning to learn HTML.</p>\n",
    "\n",
    "A start tag also often contains \"attributes\" with info about the element.\n",
    "\n",
    "Attributes usually have a name and value.\n",
    "\n",
    "Example:\n",
    "\n",
    "    <p class=\"my_red_sentences\">You are beginning to learn HTML.</p>\n",
    "\n",
    "A full HTML document has a structure more like this:\n",
    "\n",
    "```\n",
    "<html> \n",
    "  <head> </head>\n",
    "  <body>\n",
    "     <p class=\"red\">You are beginning to learn HTML.</p>\n",
    "     <h1> This is a header </h1>\n",
    "     <a href=\"www.google.com\"> Some link </a>\n",
    "  </body>\n",
    "</html>\n",
    "```\n",
    "\n",
    "Let's explore some live HTML!\n",
    "\n",
    "Go to http://boxofficemojo.com/movies/?id=biglebowski.htm in your browser,\n",
    "click Inspect Element, also click on View Page Source.\n",
    "\n",
    "\n"
   ]
  },
  {
   "cell_type": "code",
   "execution_count": null,
   "metadata": {
    "collapsed": false
   },
   "outputs": [],
   "source": [
    "#conda install beautifulsoup4\n",
    "\n",
    "from bs4 import BeautifulSoup\n",
    "\n"
   ]
  },
  {
   "cell_type": "markdown",
   "metadata": {},
   "source": [
    "### Get the HTML from a page and convert to a BeautifulSoup object\n",
    "\n",
    "We'll start by scraping some of that information about [The Big Lebowski](http://boxofficemojo.com/movies/?id=biglebowski.htm)."
   ]
  },
  {
   "cell_type": "code",
   "execution_count": null,
   "metadata": {
    "collapsed": false
   },
   "outputs": [],
   "source": [
    "# if needed: pip install requests\n",
    "import requests\n",
    "\n",
    "url = 'http://boxofficemojo.com/movies/?id=biglebowski.htm'\n",
    "\n",
    "response = requests.get(url)"
   ]
  },
  {
   "cell_type": "markdown",
   "metadata": {},
   "source": [
    "For information on HTTP status codes, see:\n",
    "\n",
    "https://en.wikipedia.org/wiki/List_of_HTTP_status_codes"
   ]
  },
  {
   "cell_type": "code",
   "execution_count": null,
   "metadata": {
    "collapsed": false
   },
   "outputs": [],
   "source": [
    "response.status_code"
   ]
  },
  {
   "cell_type": "code",
   "execution_count": null,
   "metadata": {
    "collapsed": false
   },
   "outputs": [],
   "source": [
    "print(response.text)"
   ]
  },
  {
   "cell_type": "code",
   "execution_count": null,
   "metadata": {
    "collapsed": false
   },
   "outputs": [],
   "source": [
    "page = response.text\n",
    "soup = BeautifulSoup(page)\n",
    "print(soup)"
   ]
  },
  {
   "cell_type": "code",
   "execution_count": null,
   "metadata": {
    "collapsed": false
   },
   "outputs": [],
   "source": [
    "print(soup.prettify())"
   ]
  },
  {
   "cell_type": "markdown",
   "metadata": {
    "collapsed": true
   },
   "source": [
    "## `soup.find()`\n",
    "\n",
    "`soup.find()` is the most common function we will use from this package.  \n",
    "\n",
    "Let's try out some common variations of `soup.find()`"
   ]
  },
  {
   "cell_type": "code",
   "execution_count": null,
   "metadata": {
    "collapsed": false
   },
   "outputs": [],
   "source": [
    "# soup.find() returns the first matched tag it finds.\n",
    "# It searches the entire tree.\n",
    "\n",
    "# Search for a type of tag by using the tag as a string\n",
    "# (like 'body','div','p','a') as an argument.\n",
    "\n",
    "print(soup.find('a'))"
   ]
  },
  {
   "cell_type": "code",
   "execution_count": null,
   "metadata": {
    "collapsed": false
   },
   "outputs": [],
   "source": [
    "# Equivalently:\n",
    "print(soup.a)"
   ]
  },
  {
   "cell_type": "code",
   "execution_count": null,
   "metadata": {
    "collapsed": false,
    "scrolled": true
   },
   "outputs": [],
   "source": [
    "# soup.find_all() returns a list of all matches\n",
    "\n",
    "for link in soup.find_all('a'): \n",
    "    print(link)"
   ]
  },
  {
   "cell_type": "code",
   "execution_count": null,
   "metadata": {
    "collapsed": false
   },
   "outputs": [],
   "source": [
    "# retrieve the url from an anchor tag\n",
    "soup.find('a')['href']"
   ]
  },
  {
   "cell_type": "code",
   "execution_count": null,
   "metadata": {
    "collapsed": false
   },
   "outputs": [],
   "source": [
    "# You can match on an attribute like an id or class.\n",
    "# Take a look at what the 'mp_box_content' classes\n",
    "# look like on the webpage, with Inspect Element.\n",
    "\n",
    "for element in soup.find_all(class_='mp_box_content'):\n",
    "    print(element, '\\n')"
   ]
  },
  {
   "cell_type": "code",
   "execution_count": null,
   "metadata": {
    "collapsed": false
   },
   "outputs": [],
   "source": [
    "# We can find all the columns in the first mp_box_content table\n",
    "# by \"chaining\" `find` and `find_all`.\n",
    "\n",
    "print(soup.find(class_='mp_box_content').find_all('td'))"
   ]
  },
  {
   "cell_type": "code",
   "execution_count": null,
   "metadata": {
    "collapsed": false
   },
   "outputs": [],
   "source": [
    "# To extract just the value of interest:\n",
    "\n",
    "soup.find(class_='mp_box_content').find_all('td')[1].text"
   ]
  },
  {
   "cell_type": "code",
   "execution_count": null,
   "metadata": {
    "collapsed": false
   },
   "outputs": [],
   "source": [
    "# find with an \"id\". (ID is unique.)\n",
    "\n",
    "print(soup.find(id='hp_footer'))"
   ]
  },
  {
   "cell_type": "markdown",
   "metadata": {},
   "source": [
    "### Consistency Web scraping is made simple by the consistent format of information among like pages of a website.\n",
    "### Items to scrape for each movie:\n",
    "movie title\n",
    "total domestic gross\n",
    "release date\n",
    "runtime\n",
    "rating"
   ]
  },
  {
   "cell_type": "code",
   "execution_count": null,
   "metadata": {
    "collapsed": false
   },
   "outputs": [],
   "source": [
    "# Movie Title\n",
    "\n",
    "print(soup.find('title'))"
   ]
  },
  {
   "cell_type": "code",
   "execution_count": null,
   "metadata": {
    "collapsed": false
   },
   "outputs": [],
   "source": [
    "title_string = soup.find('title').text\n",
    "print(title_string)"
   ]
  },
  {
   "cell_type": "code",
   "execution_count": null,
   "metadata": {
    "collapsed": false
   },
   "outputs": [],
   "source": [
    "print(title_string.split('('))"
   ]
  },
  {
   "cell_type": "code",
   "execution_count": null,
   "metadata": {
    "collapsed": false
   },
   "outputs": [],
   "source": [
    "title = title_string.split('(')[0].strip()\n",
    "print(title)"
   ]
  },
  {
   "cell_type": "code",
   "execution_count": null,
   "metadata": {
    "collapsed": false
   },
   "outputs": [],
   "source": [
    "# Domestic Total Gross\n",
    "\n",
    "## text does an exact match search!\n",
    "print(soup.find(text=\"Domestic Total Gross\"))"
   ]
  },
  {
   "cell_type": "code",
   "execution_count": null,
   "metadata": {
    "collapsed": false
   },
   "outputs": [],
   "source": [
    "# You could find a perfect match:\n",
    "\n",
    "print(soup.find(text=\"Domestic Total Gross: \"))"
   ]
  },
  {
   "cell_type": "markdown",
   "metadata": {},
   "source": [
    "#### You could also use regular expressions\n",
    "![regular expressions](http://imgs.xkcd.com/comics/regular_expressions.png)\n",
    "\n",
    "[Handy Tool for making RegEx](http://pythex.org/)"
   ]
  },
  {
   "cell_type": "code",
   "execution_count": null,
   "metadata": {
    "collapsed": false
   },
   "outputs": [],
   "source": [
    "import re\n",
    "domestic_total_regex = re.compile('Domestic Total')\n",
    "soup.find(text=domestic_total_regex)"
   ]
  },
  {
   "cell_type": "code",
   "execution_count": null,
   "metadata": {
    "collapsed": false
   },
   "outputs": [],
   "source": [
    "dtg_string = soup.find(text=re.compile('Domestic Total'))\n",
    "print(dtg_string)"
   ]
  },
  {
   "cell_type": "code",
   "execution_count": null,
   "metadata": {
    "collapsed": false
   },
   "outputs": [],
   "source": [
    "print(dtg_string.findNextSibling())"
   ]
  },
  {
   "cell_type": "code",
   "execution_count": null,
   "metadata": {
    "collapsed": false
   },
   "outputs": [],
   "source": [
    "dtg = dtg_string.findNextSibling().text\n",
    "dtg = dtg.replace('$','').replace(',','')\n",
    "domestic_total_gross = int(dtg)\n",
    "print(domestic_total_gross)"
   ]
  },
  {
   "cell_type": "markdown",
   "metadata": {},
   "source": [
    "### We can actually do several of these using the text matching method, so let's make a function for that"
   ]
  },
  {
   "cell_type": "code",
   "execution_count": null,
   "metadata": {
    "collapsed": true
   },
   "outputs": [],
   "source": [
    "def get_movie_value(soup, field_name):\n",
    "    '''Grab a value from boxofficemojo HTML\n",
    "    \n",
    "    Takes a string attribute of a movie on the page and\n",
    "    returns the string in the next sibling object\n",
    "    (the value for that attribute)\n",
    "    or None if nothing is found.\n",
    "    '''\n",
    "    obj = soup.find(text=re.compile(field_name))\n",
    "    if not obj: \n",
    "        return None\n",
    "    # this works for most of the values\n",
    "    next_sibling = obj.findNextSibling()\n",
    "    if next_sibling:\n",
    "        return next_sibling.text \n",
    "    else:\n",
    "        return None"
   ]
  },
  {
   "cell_type": "code",
   "execution_count": null,
   "metadata": {
    "collapsed": false
   },
   "outputs": [],
   "source": [
    "# domestic total gross\n",
    "dtg = get_movie_value(soup,'Domestic Total')\n",
    "print(dtg)"
   ]
  },
  {
   "cell_type": "code",
   "execution_count": null,
   "metadata": {
    "collapsed": false
   },
   "outputs": [],
   "source": [
    "# runtime\n",
    "runtime = get_movie_value(soup,'Runtime')\n",
    "print(runtime)"
   ]
  },
  {
   "cell_type": "code",
   "execution_count": null,
   "metadata": {
    "collapsed": false
   },
   "outputs": [],
   "source": [
    "# rating\n",
    "rating = get_movie_value(soup,'MPAA Rating')\n",
    "print(rating)"
   ]
  },
  {
   "cell_type": "code",
   "execution_count": null,
   "metadata": {
    "collapsed": false
   },
   "outputs": [],
   "source": [
    "release_date = get_movie_value(soup,'Release Date')\n",
    "print(release_date)"
   ]
  },
  {
   "cell_type": "markdown",
   "metadata": {},
   "source": [
    "### We need a few helper methods to parse the strings we've gotten"
   ]
  },
  {
   "cell_type": "code",
   "execution_count": null,
   "metadata": {
    "collapsed": true
   },
   "outputs": [],
   "source": [
    "import dateutil.parser\n",
    "\n",
    "def to_date(datestring):\n",
    "    date = dateutil.parser.parse(datestring)\n",
    "    return date\n",
    "\n",
    "def money_to_int(moneystring):\n",
    "    moneystring = moneystring.replace('$', '').replace(',', '')\n",
    "    return int(moneystring)\n",
    "\n",
    "def runtime_to_minutes(runtimestring):\n",
    "    runtime = runtimestring.split()\n",
    "    try:\n",
    "        minutes = int(runtime[0])*60 + int(runtime[2])\n",
    "        return minutes\n",
    "    except:\n",
    "        return None"
   ]
  },
  {
   "cell_type": "code",
   "execution_count": null,
   "metadata": {
    "collapsed": false
   },
   "outputs": [],
   "source": [
    "# Let's get these again and format them all in one swoop\n",
    "\n",
    "from pprint import pprint\n",
    "\n",
    "raw_release_date = get_movie_value(soup,'Release Date')\n",
    "release_date = to_date(raw_release_date)\n",
    "\n",
    "raw_domestic_total_gross = get_movie_value(soup,'Domestic Total')\n",
    "domestic_total_gross = money_to_int(raw_domestic_total_gross)\n",
    "\n",
    "raw_runtime = get_movie_value(soup,'Runtime')\n",
    "runtime = runtime_to_minutes(raw_runtime)\n",
    "\n",
    "headers = ['movie title', 'domestic total gross',\n",
    "           'release date', 'runtime (mins)', 'rating']\n",
    "\n",
    "movie_data = []\n",
    "movie_dict = dict(zip(headers, [title,\n",
    "                                domestic_total_gross,\n",
    "                                release_date,\n",
    "                                runtime,\n",
    "                                rating]))\n",
    "movie_data.append(movie_dict)\n",
    "\n",
    "pprint(movie_data)"
   ]
  },
  {
   "cell_type": "markdown",
   "metadata": {},
   "source": [
    "### What about scraping tables? "
   ]
  },
  {
   "cell_type": "code",
   "execution_count": null,
   "metadata": {
    "collapsed": true
   },
   "outputs": [],
   "source": [
    "response = requests.get(\"https://en.wikipedia.org/wiki/List_of_highest-grossing_films\")\n",
    "soup = BeautifulSoup(response.text)\n",
    "\n",
    "movie_list = soup.find(\"table\",{ \"class\" : \"wikitable sortable plainrowheaders\" })\n",
    "print(movie_list)"
   ]
  },
  {
   "cell_type": "code",
   "execution_count": null,
   "metadata": {
    "collapsed": false,
    "scrolled": true
   },
   "outputs": [],
   "source": [
    "movie_data = []\n",
    "\n",
    "header = ['Rank','Peak','Worldwide Gross','Year','Reference(s)']\n",
    "for row in movie_list.findAll(\"tr\"):\n",
    "    row_dict={}\n",
    "    for i,cell in enumerate(row.findAll(\"td\")):\n",
    "        row_dict[header[i]] = cell.find(text=True)\n",
    "    link = row.find(\"th\").find(\"a\")\n",
    "    if link:\n",
    "        row_dict['Title'] = link.text\n",
    "    movie_data.append(row_dict)\n",
    "    \n",
    "movies_df = pd.DataFrame(movie_data)\n",
    "movies_df.dropna()"
   ]
  },
  {
   "cell_type": "markdown",
   "metadata": {},
   "source": [
    "### Scraping all relevant movie links on a page"
   ]
  },
  {
   "cell_type": "code",
   "execution_count": null,
   "metadata": {
    "collapsed": false
   },
   "outputs": [],
   "source": [
    "url2 = 'http://www.boxofficemojo.com/alltime/adjusted.htm'\n",
    "soup2 = BeautifulSoup(requests.get(url2).text,'html.parser')"
   ]
  },
  {
   "cell_type": "code",
   "execution_count": null,
   "metadata": {
    "collapsed": false
   },
   "outputs": [],
   "source": [
    "all_links = soup2.findAll('a',href = re.compile('/movies/\\?*id='))\n",
    "for link in all_links:\n",
    "    print (link['href'])"
   ]
  },
  {
   "cell_type": "code",
   "execution_count": null,
   "metadata": {
    "collapsed": true
   },
   "outputs": [],
   "source": []
  },
  {
   "cell_type": "code",
   "execution_count": null,
   "metadata": {
    "collapsed": true
   },
   "outputs": [],
   "source": []
  },
  {
   "cell_type": "code",
   "execution_count": null,
   "metadata": {
    "collapsed": true
   },
   "outputs": [],
   "source": []
  },
  {
   "cell_type": "markdown",
   "metadata": {
    "collapsed": true
   },
   "source": [
    "# Scraping the Unscrapable\n",
    "\n",
    "### What happens if I try to parse my gmail with `requests` and `BeautifulSoup`?"
   ]
  },
  {
   "cell_type": "code",
   "execution_count": null,
   "metadata": {
    "collapsed": false
   },
   "outputs": [],
   "source": [
    "import requests\n",
    "from bs4 import BeautifulSoup\n",
    "\n",
    "gmail_url=\"https://mail.google.com\"\n",
    "soup=BeautifulSoup(requests.get(gmail_url).text)\n",
    "print(soup.prettify())"
   ]
  },
  {
   "cell_type": "code",
   "execution_count": null,
   "metadata": {
    "collapsed": false
   },
   "outputs": [],
   "source": [
    "new_url = \"https://mail.google.com/mail\"\n",
    "\n",
    "# get method will navigate the requested url.. \n",
    "soup =BeautifulSoup(requests.get(new_url).text)\n",
    "print(soup.prettify())"
   ]
  },
  {
   "cell_type": "code",
   "execution_count": null,
   "metadata": {
    "collapsed": false
   },
   "outputs": [],
   "source": [
    "print(soup.find(id='Email'))"
   ]
  },
  {
   "cell_type": "code",
   "execution_count": null,
   "metadata": {
    "collapsed": false
   },
   "outputs": [],
   "source": [
    "# pip install selenium \n",
    "\n",
    "#http://chromedriver.storage.googleapis.com/index.html?path=2.19/\n",
    "\n",
    "from selenium import webdriver\n",
    "from selenium.webdriver.common.keys import Keys\n",
    "import time\n",
    "\n",
    "import os\n",
    "chromedriver = \"/Users/username/Downloads/chromedriver\"\n",
    "os.environ[\"webdriver.chrome.driver\"] = chromedriver\n",
    "\n",
    "\n",
    "driver = webdriver.Chrome(chromedriver)\n",
    "driver.get(\"https://mail.google.com\")\n",
    "\n",
    "# Alternatives to Chrome:\n",
    "# Firefox, phantomjs"
   ]
  },
  {
   "cell_type": "markdown",
   "metadata": {},
   "source": [
    "#### Fill out username and password, hit enter to log in"
   ]
  },
  {
   "cell_type": "code",
   "execution_count": null,
   "metadata": {
    "collapsed": true
   },
   "outputs": [],
   "source": [
    "username_form = driver.find_element_by_id(\"Email\")\n",
    "username_form.send_keys(\"username@gmail.com\")"
   ]
  },
  {
   "cell_type": "code",
   "execution_count": null,
   "metadata": {
    "collapsed": true
   },
   "outputs": [],
   "source": [
    "username_form.send_keys(Keys.RETURN)"
   ]
  },
  {
   "cell_type": "code",
   "execution_count": null,
   "metadata": {
    "collapsed": true
   },
   "outputs": [],
   "source": [
    "password_form=driver.find_element_by_id('Passwd')\n",
    "password_form.send_keys('########')"
   ]
  },
  {
   "cell_type": "code",
   "execution_count": null,
   "metadata": {
    "collapsed": true
   },
   "outputs": [],
   "source": [
    "password_form.send_keys(Keys.RETURN)"
   ]
  },
  {
   "cell_type": "markdown",
   "metadata": {},
   "source": [
    "#### Click compose button to start a new email draft!"
   ]
  },
  {
   "cell_type": "code",
   "execution_count": null,
   "metadata": {
    "collapsed": true
   },
   "outputs": [],
   "source": [
    "compose_button=driver.find_element_by_xpath('//div[text()=\"COMPOSE\"]')\n",
    "compose_button.click()"
   ]
  },
  {
   "cell_type": "code",
   "execution_count": null,
   "metadata": {
    "collapsed": true
   },
   "outputs": [],
   "source": [
    "to_field = driver.find_element_by_name(\"to\")\n",
    "to_field.send_keys(\"username@gmail.com\")"
   ]
  },
  {
   "cell_type": "code",
   "execution_count": null,
   "metadata": {
    "collapsed": true
   },
   "outputs": [],
   "source": [
    "subject = driver.find_element_by_name(\"subjectbox\")\n",
    "subject.send_keys(\"This is an alert!\")"
   ]
  },
  {
   "cell_type": "code",
   "execution_count": null,
   "metadata": {
    "collapsed": true
   },
   "outputs": [],
   "source": [
    "message_body = driver.find_element_by_xpath(\"//div[@aria-label='Message Body']\")\n",
    "message_body.send_keys(\"Hello,\")\n",
    "message_body.send_keys([Keys.RETURN, Keys.RETURN])\n",
    "message_body.send_keys(\"I am a computer and I just became self aware.\")"
   ]
  },
  {
   "cell_type": "code",
   "execution_count": null,
   "metadata": {
    "collapsed": true
   },
   "outputs": [],
   "source": [
    "send_button = driver.find_element_by_xpath(\"//div[contains(@aria-label, 'Send')]\")\n",
    "send_button.click()"
   ]
  },
  {
   "cell_type": "markdown",
   "metadata": {},
   "source": [
    "References: \n",
    "- Documentation on finding elements:\n",
    "- http://selenium-python.readthedocs.org/en/latest/locating-elements.html\n",
    "- Xpath tutorial:\n",
    "-  http://www.w3schools.com/xpath/xpath_syntax.asp"
   ]
  }
 ],
 "metadata": {
  "kernelspec": {
   "display_name": "Python 2",
   "language": "python",
   "name": "python2"
  },
  "language_info": {
   "codemirror_mode": {
    "name": "ipython",
    "version": 2
   },
   "file_extension": ".py",
   "mimetype": "text/x-python",
   "name": "python",
   "nbconvert_exporter": "python",
   "pygments_lexer": "ipython2",
   "version": "2.7.12"
  }
 },
 "nbformat": 4,
 "nbformat_minor": 0
}
