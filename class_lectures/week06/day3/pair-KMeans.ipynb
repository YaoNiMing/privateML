{
 "cells": [
  {
   "cell_type": "markdown",
   "metadata": {},
   "source": [
    "#### Pair Problem\n",
    "\n",
    "Write function that would do KMeans clustering: def KMeans(points,k)\n",
    "\n",
    "While this is straightforward, it does involve doing a few steps. \n",
    "1. Initialization\n",
    "1. For each point, assign a cluster based on shortest distance\n",
    "1. calculate mean of all points and update centroid of each cluster\n",
    "1. Repeat 2-3\n",
    "\n",
    "So I set you guys up with this notebook if you want a head start. You just need to complete two functions `assignPoints()` and `updateCentroids()` that are left blank in there."
   ]
  },
  {
   "cell_type": "code",
   "execution_count": null,
   "metadata": {
    "collapsed": true
   },
   "outputs": [],
   "source": [
    "import numpy as np\n",
    "import matplotlib.pyplot as plt\n",
    "% matplotlib inline\n",
    "from copy import deepcopy"
   ]
  },
  {
   "cell_type": "code",
   "execution_count": null,
   "metadata": {
    "collapsed": true
   },
   "outputs": [],
   "source": [
    "from scipy.spatial import distance as d\n",
    "def distance(a, b):\n",
    "    return d.euclidean(a, b)"
   ]
  },
  {
   "cell_type": "code",
   "execution_count": null,
   "metadata": {
    "collapsed": true
   },
   "outputs": [],
   "source": [
    "def inertia(points,centroids,clusters):\n",
    "    value = 0\n",
    "    for i,p in enumerate(points):\n",
    "        value += distance(centroids[clusters[i]],p)\n",
    "    return value"
   ]
  },
  {
   "cell_type": "code",
   "execution_count": null,
   "metadata": {
    "collapsed": true
   },
   "outputs": [],
   "source": [
    "# For each point, find the distance to all centroids and assign it to the closest cluster. \n",
    "# The distance function is already available above.\n",
    "def assignPoints(points,centroids,clusters):\n",
    "    # remember total number of updates we will do, initialize to be zero\n",
    "    update = 0\n",
    "    \n",
    "    # for each point in our dataset:\n",
    "    for i, p in enumerate(points):\n",
    "        \n",
    "        # current assigned cluster of this point is:\n",
    "        \n",
    "        # for each point, calculate the distance to all centroids\n",
    "        \n",
    "        # find the minimum distance, and the corresponding cluster number\n",
    "        # this will be our new assigned cluster\n",
    "        \n",
    "        \n",
    "        # if the new cluster number is not the current cluster, update it\n",
    "        # number of total updates increase 1\n",
    "        \n",
    "        \n",
    "        \n",
    "    return update"
   ]
  },
  {
   "cell_type": "code",
   "execution_count": null,
   "metadata": {
    "collapsed": true
   },
   "outputs": [],
   "source": [
    "# The centroid is just the average of all points in that cluster:\n",
    "def upadteCentroids(points,centroids,clusters):\n",
    "    # for each cluster, get the average coordinates of all points in that cluster\n",
    "    # Your code goes here    \n",
    "    \n",
    "    \n",
    "    \n",
    "    \n",
    "    \n",
    "    \n",
    "    \n",
    "    \n",
    "    \n",
    "    \n",
    "    \n",
    "    \n",
    "    "
   ]
  },
  {
   "cell_type": "code",
   "execution_count": null,
   "metadata": {
    "collapsed": false
   },
   "outputs": [],
   "source": [
    "import matplotlib.cm as cm\n",
    "\n",
    "def KMeans(points,k=3):\n",
    "    # Initialization clusters and centroids\n",
    "    clusters = np.zeros(len(points))\n",
    "    centroids = deepcopy(points[:k])\n",
    "    \n",
    "    # while points assignments updates, continue update centroids\n",
    "    while assignPoints(points,centroids,clusters):\n",
    "        upadteCentroids(points,centroids,clusters)\n",
    "    \n",
    "    # Let's plot the clusters\n",
    "    colors = iter(cm.rainbow(np.linspace(0, 1, len(centroids))))    \n",
    "    fig, ax = plt.subplots(1,1, figsize=(8,8))\n",
    "    for t,marker,c in zip(xrange(len(centroids)),\"x+o>^x+o\", colors) :\n",
    "        ax.scatter(points[clusters == t,0],\n",
    "                points[clusters == t,1],\n",
    "                marker=marker,\n",
    "                c = c)\n",
    "        \n",
    "    # plot the centroid of each cluster\n",
    "    ax.scatter(centroids[:,0],centroids[:,1], marker = 's', c='', s = 80)\n",
    "    return inertia(points,centroids,clusters)"
   ]
  },
  {
   "cell_type": "code",
   "execution_count": null,
   "metadata": {
    "collapsed": true
   },
   "outputs": [],
   "source": []
  },
  {
   "cell_type": "code",
   "execution_count": null,
   "metadata": {
    "collapsed": true
   },
   "outputs": [],
   "source": []
  },
  {
   "cell_type": "code",
   "execution_count": null,
   "metadata": {
    "collapsed": true
   },
   "outputs": [],
   "source": []
  },
  {
   "cell_type": "code",
   "execution_count": null,
   "metadata": {
    "collapsed": true
   },
   "outputs": [],
   "source": []
  },
  {
   "cell_type": "code",
   "execution_count": null,
   "metadata": {
    "collapsed": true
   },
   "outputs": [],
   "source": []
  },
  {
   "cell_type": "code",
   "execution_count": null,
   "metadata": {
    "collapsed": false
   },
   "outputs": [],
   "source": [
    "# Generate 100 random points\n",
    "points = np.random.rand(100,2)\n",
    "\n",
    "# cluster for k = 2, 3, 4, 5 clusters\n",
    "i = [KMeans(points,k) for k in range(2,6)]\n"
   ]
  },
  {
   "cell_type": "code",
   "execution_count": null,
   "metadata": {
    "collapsed": false
   },
   "outputs": [],
   "source": [
    "# print out inertia for each k value\n",
    "print i"
   ]
  },
  {
   "cell_type": "code",
   "execution_count": null,
   "metadata": {
    "collapsed": true
   },
   "outputs": [],
   "source": []
  }
 ],
 "metadata": {
  "kernelspec": {
   "display_name": "Python 2",
   "language": "python",
   "name": "python2"
  },
  "language_info": {
   "codemirror_mode": {
    "name": "ipython",
    "version": 2
   },
   "file_extension": ".py",
   "mimetype": "text/x-python",
   "name": "python",
   "nbconvert_exporter": "python",
   "pygments_lexer": "ipython2",
   "version": "2.7.12"
  }
 },
 "nbformat": 4,
 "nbformat_minor": 0
}
