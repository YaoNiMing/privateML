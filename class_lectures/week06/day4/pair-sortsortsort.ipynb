{
 "cells": [
  {
   "cell_type": "markdown",
   "metadata": {},
   "source": [
    "The sort function below is Seletion Sort. It's complexity is O(N^2). The most efficient way to sort would include recursion (one example: Merge Sort). The complexity for that would be O(N*logN)."
   ]
  },
  {
   "cell_type": "code",
   "execution_count": 89,
   "metadata": {
    "collapsed": false
   },
   "outputs": [],
   "source": [
    "def mysort(l):\n",
    "    n = len(l)\n",
    "    for i in range(n-1):\n",
    "        for j in range(i+1,n):\n",
    "            if l[i]>l[j]:\n",
    "                l[i],l[j]=l[j],l[i]"
   ]
  },
  {
   "cell_type": "code",
   "execution_count": 90,
   "metadata": {
    "collapsed": false
   },
   "outputs": [
    {
     "name": "stdout",
     "output_type": "stream",
     "text": [
      "[1, 2, 2, 3, 5]\n"
     ]
    }
   ],
   "source": [
    "l = [2,1,3,5,2]\n",
    "mysort(l)\n",
    "print l"
   ]
  },
  {
   "cell_type": "markdown",
   "metadata": {},
   "source": [
    "In order to find or insert or delete, we need to look up the variable. I wrote a modified binary search that would return the index of a variable if present and index where it should be inserted in not present. The complexity of this is O(logN)."
   ]
  },
  {
   "cell_type": "code",
   "execution_count": 91,
   "metadata": {
    "collapsed": false
   },
   "outputs": [],
   "source": [
    "def bsearch(l,v):\n",
    "    e1=0; e2=len(l)+1\n",
    "    if v<l[0]:\n",
    "        return 0\n",
    "    if v>l[e2-2]:\n",
    "        return e2-1\n",
    "    while True:\n",
    "        m=(e1+e2)//2\n",
    "        if v==l[m]:\n",
    "            return m\n",
    "        if (e2-e1)<=1:\n",
    "            return e2\n",
    "        if v>l[m]:\n",
    "            e1=m\n",
    "        else:\n",
    "            e2=m"
   ]
  },
  {
   "cell_type": "markdown",
   "metadata": {},
   "source": [
    "Once I have the binary search above, find is just a matter of calling it. So find can be done in O(logN)."
   ]
  },
  {
   "cell_type": "code",
   "execution_count": 92,
   "metadata": {
    "collapsed": false
   },
   "outputs": [],
   "source": [
    "def find(l,v):\n",
    "    p = bsearch(l,v)\n",
    "    if l[p]==v:\n",
    "        return p\n",
    "    else:\n",
    "        return -1"
   ]
  },
  {
   "cell_type": "markdown",
   "metadata": {},
   "source": [
    "For insert, we can do a find and then insert at that location. Unfortunately, to insert, all the elements after the insertion point has to be moved over. Which makes the insert operated O(N)."
   ]
  },
  {
   "cell_type": "code",
   "execution_count": 93,
   "metadata": {
    "collapsed": false
   },
   "outputs": [],
   "source": [
    "def insert(l,v):\n",
    "    p = bsearch(l,v)\n",
    "    l.insert(p,v)"
   ]
  },
  {
   "cell_type": "markdown",
   "metadata": {},
   "source": [
    "Just like insert, remove is O(N) because when we pop out a value, everthing after it has to be shifted forward by one."
   ]
  },
  {
   "cell_type": "code",
   "execution_count": 94,
   "metadata": {
    "collapsed": false
   },
   "outputs": [],
   "source": [
    "def remove(l,v):\n",
    "    p = bsearch(l,v)\n",
    "    if l[p]==v:\n",
    "        l.pop(p)"
   ]
  },
  {
   "cell_type": "markdown",
   "metadata": {},
   "source": [
    "If using arrays, there is no way to do insert and remove operations more efficiently that O(N). One solution is to use Binary Search Trees or a more advanced version call B-Tree. With B-Trees, find, insert and remove are all O(logN) operation. This what is SQL uses to build its indices (Keys)."
   ]
  },
  {
   "cell_type": "code",
   "execution_count": null,
   "metadata": {
    "collapsed": true
   },
   "outputs": [],
   "source": []
  }
 ],
 "metadata": {
  "kernelspec": {
   "display_name": "Python 2",
   "language": "python",
   "name": "python2"
  },
  "language_info": {
   "codemirror_mode": {
    "name": "ipython",
    "version": 2
   },
   "file_extension": ".py",
   "mimetype": "text/x-python",
   "name": "python",
   "nbconvert_exporter": "python",
   "pygments_lexer": "ipython2",
   "version": "2.7.12"
  }
 },
 "nbformat": 4,
 "nbformat_minor": 0
}
