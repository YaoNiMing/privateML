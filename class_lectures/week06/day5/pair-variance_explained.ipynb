{
 "cells": [
  {
   "cell_type": "code",
   "execution_count": null,
   "metadata": {
    "collapsed": true
   },
   "outputs": [],
   "source": [
    "# Imports\n",
    "from __future__ import print_function, division\n",
    "import numpy as np\n",
    "from sklearn.linear_model import LinearRegression\n",
    "from matplotlib import pyplot as plt\n",
    "%matplotlib inline"
   ]
  },
  {
   "cell_type": "markdown",
   "metadata": {},
   "source": [
    "## The Plan\n",
    "We're going to create some fake data and examine how it varies across a bunch of different directions.  To do this we'll use our friendly 2-D Gaussian do get a nice sample of fake data.  In the process, hopefully you'll discover something interesting about how data varies across its different dimensions.\n",
    "\n",
    "### Creating Fake Data\n",
    "Do the following:\n",
    "- Generate a 2-D numpy array called `cov` (`np.array`) that looks like:\n",
    "$$\n",
    "\\begin{bmatrix}2.9 & 2.2 \\\\ 2.2 & 6.5 \\end{bmatrix}\n",
    "$$\n",
    "- Generate a bivariate Gaussian called `X` via `np.random.multivariate_normal()`\n",
    "  - Make sure the parameter for the mean is [0, 0]\n",
    "  - Make sure the parameter for the covariance matrix is your covariance matrix from above (`cov`)\n",
    "  - Make sure the size parameter is set to 1000\n",
    "- Plot a scatter plot of the 1st column of X against the 2nd column"
   ]
  },
  {
   "cell_type": "code",
   "execution_count": null,
   "metadata": {
    "collapsed": false
   },
   "outputs": [],
   "source": [
    "#TODO"
   ]
  },
  {
   "cell_type": "markdown",
   "metadata": {},
   "source": [
    "### Computing Variance in many Directions\n",
    "We need to compute variance of the fake data across all sorts of dimensions.\n",
    "\n",
    "#### Creating the Dimensions\n",
    "- Create a variable `x1` via `np.linspace`, ranging from 0 to 1 with 100 samples\n",
    "- Create a variable `x2` equal to $\\sqrt{1-x1^2}$ (so $x1^2 + x2^2 = 1$ always)\n",
    "- Plot `x1` against `x2`"
   ]
  },
  {
   "cell_type": "code",
   "execution_count": null,
   "metadata": {
    "collapsed": false
   },
   "outputs": [],
   "source": [
    "#TODO"
   ]
  },
  {
   "cell_type": "markdown",
   "metadata": {},
   "source": [
    "#### Computing the Variance\n",
    "- Create a matrix `W` that has 2 rows:\n",
    "  - The first is `x1`\n",
    "  - The second is `x2`\n",
    "  - Do this by using `np.column_stack()` and then taking the `transpose()`\n",
    "  - Check that this matrix has dimensionality 2 x 100\n",
    "- Create a matrix `T` that is equal to $X^TW$ (you'll need to take an inner product (aka \"dot\" product :wink: )\n",
    "  - Check that this matrix has dimensionality 1000 x 100\n",
    "- Create a matrix `var_T` that computes the variance for each column of `T`\n",
    "  - You'll want to use the `var` function\n",
    "  - Make sure you set an appropriate value for the `axis` parameter and that your result has the right dimensions! (100 x 1)\n",
    "- Plot x1 against var_T"
   ]
  },
  {
   "cell_type": "code",
   "execution_count": null,
   "metadata": {
    "collapsed": false
   },
   "outputs": [],
   "source": [
    "#TODO"
   ]
  },
  {
   "cell_type": "markdown",
   "metadata": {},
   "source": [
    "### Finding the maximum Variance Direction\n",
    "- Use `np.argmax` to find the `x1` and `x2` values that have maximum variance\n",
    "  - Call these `x1_max` and `x2_max` respectively"
   ]
  },
  {
   "cell_type": "code",
   "execution_count": null,
   "metadata": {
    "collapsed": false
   },
   "outputs": [],
   "source": [
    "#TODO"
   ]
  },
  {
   "cell_type": "markdown",
   "metadata": {},
   "source": [
    "### Thinking about what you've done\n",
    "- Create a variable `x` defined on 0 to 5, 100 samples (`np.linspace`)\n",
    "- Plot your scatterplot of the fake data `X` again just like above\n",
    "- Plot `x` against $(x2\\_max/x1\\_max)*x$"
   ]
  },
  {
   "cell_type": "code",
   "execution_count": null,
   "metadata": {
    "collapsed": false
   },
   "outputs": [],
   "source": [
    "#TODO"
   ]
  },
  {
   "cell_type": "markdown",
   "metadata": {},
   "source": [
    "### Aha!\n",
    "Does this look interesting to you at all?  What do you think is happening?  Related to any line(s) you've seen before?"
   ]
  },
  {
   "cell_type": "markdown",
   "metadata": {},
   "source": [
    "$$\n",
    "$$"
   ]
  }
 ],
 "metadata": {
  "kernelspec": {
   "display_name": "Python 3",
   "language": "python",
   "name": "python3"
  },
  "language_info": {
   "codemirror_mode": {
    "name": "ipython",
    "version": 3
   },
   "file_extension": ".py",
   "mimetype": "text/x-python",
   "name": "python",
   "nbconvert_exporter": "python",
   "pygments_lexer": "ipython3",
   "version": "3.5.1"
  }
 },
 "nbformat": 4,
 "nbformat_minor": 0
}
