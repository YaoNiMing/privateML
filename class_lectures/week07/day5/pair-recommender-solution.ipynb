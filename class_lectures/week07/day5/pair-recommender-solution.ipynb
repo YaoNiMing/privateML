{
 "cells": [
  {
   "cell_type": "code",
   "execution_count": 4,
   "metadata": {
    "collapsed": true
   },
   "outputs": [],
   "source": [
    "from collections import defaultdict\n",
    "from collections import Counter\n",
    "import csv"
   ]
  },
  {
   "cell_type": "code",
   "execution_count": 2,
   "metadata": {
    "collapsed": true
   },
   "outputs": [],
   "source": [
    "user_movie_map = defaultdict(list)\n",
    "movie_user_map = defaultdict(list)"
   ]
  },
  {
   "cell_type": "code",
   "execution_count": 5,
   "metadata": {
    "collapsed": false
   },
   "outputs": [],
   "source": [
    "with open('user_movie_likes.csv', 'r') as csvfile:\n",
    "    w = csv.reader(csvfile, delimiter=',')\n",
    "    for row in w:\n",
    "        user_movie_map[int(row[0])].append(int(row[1]))\n",
    "        movie_user_map[int(row[1])].append(int(row[0]))"
   ]
  },
  {
   "cell_type": "code",
   "execution_count": 12,
   "metadata": {
    "collapsed": true
   },
   "outputs": [],
   "source": [
    "def get_similar_movie(user_movie_map,movie_user_map,m):\n",
    "    biglist = []\n",
    "    for u in movie_user_map[m]:\n",
    "        biglist.extend(user_movie_map[u])\n",
    "    return Counter(biglist).most_common(4)[1:]"
   ]
  },
  {
   "cell_type": "code",
   "execution_count": 7,
   "metadata": {
    "collapsed": true
   },
   "outputs": [],
   "source": [
    "def get_movie_recommendation(user_movie_map,movie_user_map,u1):\n",
    "    biglist = []\n",
    "    for m in user_movie_map[u1]:\n",
    "        for u in movie_user_map[m]:\n",
    "            biglist.extend(user_movie_map[u])\n",
    "    return Counter(biglist).most_common(3)"
   ]
  },
  {
   "cell_type": "code",
   "execution_count": null,
   "metadata": {
    "collapsed": true
   },
   "outputs": [],
   "source": [
    "get_similar_movie(user_movie_map,movie_user_map,2)"
   ]
  },
  {
   "cell_type": "code",
   "execution_count": null,
   "metadata": {
    "collapsed": true
   },
   "outputs": [],
   "source": [
    "get_movie_recommendation(user_movie_map,movie_user_map,2)"
   ]
  }
 ],
 "metadata": {
  "kernelspec": {
   "display_name": "Python 2",
   "language": "python",
   "name": "python2"
  },
  "language_info": {
   "codemirror_mode": {
    "name": "ipython",
    "version": 2
   },
   "file_extension": ".py",
   "mimetype": "text/x-python",
   "name": "python",
   "nbconvert_exporter": "python",
   "pygments_lexer": "ipython2",
   "version": "2.7.12"
  }
 },
 "nbformat": 4,
 "nbformat_minor": 0
}
