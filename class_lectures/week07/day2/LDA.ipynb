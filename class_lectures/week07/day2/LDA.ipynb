{
 "cells": [
  {
   "cell_type": "markdown",
   "metadata": {
    "run_control": {
     "frozen": false,
     "read_only": false
    }
   },
   "source": [
    "# Topic Modeling with gensim\n",
    "We'll try out [Latent Dirichlet Allocation (LDA)](https://en.wikipedia.org/wiki/Latent_Dirichlet_allocation) in [gensim](http://radimrehurek.com/gensim/index.html) on the [20 Newsgroups dataset](http://scikit-learn.org/stable/datasets/twenty_newsgroups.html) with some simple preprocessing."
   ]
  },
  {
   "cell_type": "markdown",
   "metadata": {
    "run_control": {
     "frozen": false,
     "read_only": false
    }
   },
   "source": [
    "#### Install gensim"
   ]
  },
  {
   "cell_type": "code",
   "execution_count": 1,
   "metadata": {
    "collapsed": true,
    "run_control": {
     "frozen": false,
     "read_only": false
    }
   },
   "outputs": [],
   "source": [
    "# pip install --upgrade gensim"
   ]
  },
  {
   "cell_type": "markdown",
   "metadata": {
    "run_control": {
     "frozen": false,
     "read_only": false
    }
   },
   "source": [
    "##### imports"
   ]
  },
  {
   "cell_type": "code",
   "execution_count": 2,
   "metadata": {
    "collapsed": true,
    "run_control": {
     "frozen": false,
     "read_only": false
    }
   },
   "outputs": [],
   "source": [
    "# gensim\n",
    "from gensim import corpora, models, similarities, matutils\n",
    "# sklearn\n",
    "from sklearn import datasets\n",
    "from sklearn.feature_extraction.text import CountVectorizer\n",
    "from sklearn.cluster import KMeans\n",
    "# logging for gensim (set to INFO)\n",
    "import logging\n",
    "logging.basicConfig(format='%(asctime)s : %(levelname)s : %(message)s', level=logging.INFO)"
   ]
  },
  {
   "cell_type": "markdown",
   "metadata": {
    "run_control": {
     "frozen": false,
     "read_only": false
    }
   },
   "source": [
    "Let's retain only a subset of the 20 categories in the original 20 Newsgroups Dataset."
   ]
  },
  {
   "cell_type": "code",
   "execution_count": 3,
   "metadata": {
    "collapsed": true,
    "run_control": {
     "frozen": false,
     "read_only": false
    }
   },
   "outputs": [],
   "source": [
    "# Set categories\n",
    "categories = ['alt.atheism', 'comp.graphics', 'rec.sport.baseball']#, \n",
    "              #'rec.motorcycles', 'sci.space', 'talk.politics.mideast']\n",
    "# Download the training subset of the 20 NG dataset, with headers, footers, quotes removed\n",
    "# Only keep docs from the 6 categories above\n",
    "ng_train = datasets.fetch_20newsgroups(subset='train', categories=categories, \n",
    "                                      remove=('headers', 'footers', 'quotes'))"
   ]
  },
  {
   "cell_type": "code",
   "execution_count": 4,
   "metadata": {
    "collapsed": false,
    "run_control": {
     "frozen": false,
     "read_only": false
    }
   },
   "outputs": [
    {
     "data": {
      "text/plain": [
       "'\\n\\n\\nI happen to be a big fan of Jayson Stark.  He is a baseball writer for the \\nPhiladelphia Inquirer.  Every tuesday he writes a \"Week in Review\" column.  \\nHe writes about unusual situations that occured during the week.  Unusual\\nstats.  He has a section called \"Kinerisms of the Week\" which are stupid\\nlines by Mets brodcaster Ralph Kiner.  Every year he has the LGTGAH contest.\\nThat stands for \"Last guy to get a hit.\"  He also writes for Baseball \\nAmerica.  That column is sort of a highlights of \"Week in Review.\"  If you \\ncan, check his column out sometime.  He might make you laugh.\\n\\nRob Koffler\\n'"
      ]
     },
     "execution_count": 4,
     "metadata": {},
     "output_type": "execute_result"
    }
   ],
   "source": [
    "# Take a look at the first doc\n",
    "ng_train.data[0]"
   ]
  },
  {
   "cell_type": "markdown",
   "metadata": {
    "run_control": {
     "frozen": false,
     "read_only": false
    }
   },
   "source": [
    "## Document Preprocessing\n",
    "We'll need to generate a term-document matrix of word (token) counts for use in LDA.\n",
    "\n",
    "We'll use `sklearn`'s `CountVectorizer` to generate our term-document matrix of counts. We'll make use of a few parameters to accomplish the following preprocessing of the text documents all within the `CountVectorizer`:\n",
    "* `analyzer=word`: Tokenize by word\n",
    "* `ngram_range=(1,2)`: Keep all 1 and 2-word grams\n",
    "* `stop_words=english`: Remove all English stop words\n",
    "* `token_pattern=\\\\b[a-z][a-z]+\\\\b`: Match all tokens with 2 or more (strictly) alphabet characters"
   ]
  },
  {
   "cell_type": "code",
   "execution_count": 8,
   "metadata": {
    "collapsed": false,
    "run_control": {
     "frozen": false,
     "read_only": false
    }
   },
   "outputs": [
    {
     "data": {
      "text/plain": [
       "CountVectorizer(analyzer='word', binary=False, decode_error='strict',\n",
       "        dtype=<class 'numpy.int64'>, encoding='utf-8', input='content',\n",
       "        lowercase=True, max_df=1.0, max_features=None, min_df=1,\n",
       "        ngram_range=(1, 2), preprocessor=None, stop_words='english',\n",
       "        strip_accents=None, token_pattern='\\\\b[a-z][a-z]+\\\\b',\n",
       "        tokenizer=None, vocabulary=None)"
      ]
     },
     "execution_count": 8,
     "metadata": {},
     "output_type": "execute_result"
    }
   ],
   "source": [
    "# Create a CountVectorizer for parsing/counting words\n",
    "count_vectorizer = CountVectorizer(ngram_range=(1, 2),  \n",
    "                                   stop_words='english', token_pattern=\"\\\\b[a-z][a-z]+\\\\b\")\n",
    "count_vectorizer.fit(ng_train.data)"
   ]
  },
  {
   "cell_type": "code",
   "execution_count": 11,
   "metadata": {
    "collapsed": false,
    "run_control": {
     "frozen": false,
     "read_only": false
    }
   },
   "outputs": [],
   "source": [
    "# Create the term-document matrix\n",
    "# Transpose it so the terms are the rows\n",
    "counts = count_vectorizer.transform(ng_train.data).transpose()"
   ]
  },
  {
   "cell_type": "code",
   "execution_count": 17,
   "metadata": {
    "collapsed": false
   },
   "outputs": [
    {
     "data": {
      "text/plain": [
       "(118113, 1661)"
      ]
     },
     "execution_count": 17,
     "metadata": {},
     "output_type": "execute_result"
    }
   ],
   "source": [
    "counts.shape"
   ]
  },
  {
   "cell_type": "markdown",
   "metadata": {
    "run_control": {
     "frozen": false,
     "read_only": false
    }
   },
   "source": [
    "##### Convert to gensim\n",
    "We need to convert our sparse `scipy` matrix to a `gensim`-friendly object called a Corpus:"
   ]
  },
  {
   "cell_type": "code",
   "execution_count": 12,
   "metadata": {
    "collapsed": true,
    "run_control": {
     "frozen": false,
     "read_only": false
    }
   },
   "outputs": [],
   "source": [
    "# Convert sparse matrix of counts to a gensim corpus\n",
    "corpus = matutils.Sparse2Corpus(counts)"
   ]
  },
  {
   "cell_type": "markdown",
   "metadata": {
    "run_control": {
     "frozen": false,
     "read_only": false
    }
   },
   "source": [
    "##### Map matrix rows to words (tokens)\n",
    "We need to save a mapping (dict) of row id to word (token) for later use by gensim:"
   ]
  },
  {
   "cell_type": "code",
   "execution_count": 20,
   "metadata": {
    "collapsed": false,
    "run_control": {
     "frozen": false,
     "read_only": false
    }
   },
   "outputs": [],
   "source": [
    "id2word = dict((v, k) for k, v in count_vectorizer.vocabulary_.items())"
   ]
  },
  {
   "cell_type": "code",
   "execution_count": 21,
   "metadata": {
    "collapsed": false,
    "run_control": {
     "frozen": false,
     "read_only": false
    }
   },
   "outputs": [
    {
     "data": {
      "text/plain": [
       "118113"
      ]
     },
     "execution_count": 21,
     "metadata": {},
     "output_type": "execute_result"
    }
   ],
   "source": [
    "len(id2word)"
   ]
  },
  {
   "cell_type": "markdown",
   "metadata": {
    "run_control": {
     "frozen": false,
     "read_only": false
    }
   },
   "source": [
    "## LDA\n",
    "At this point we can simply plow ahead in creating an LDA model.  It requires our corpus of word counts, mapping of row ids to words, and the number of topics (3)."
   ]
  },
  {
   "cell_type": "code",
   "execution_count": 22,
   "metadata": {
    "collapsed": false,
    "run_control": {
     "frozen": false,
     "read_only": false
    }
   },
   "outputs": [
    {
     "name": "stderr",
     "output_type": "stream",
     "text": [
      "2016-11-01 14:00:38,555 : INFO : using symmetric alpha at 0.3333333333333333\n",
      "2016-11-01 14:00:38,562 : INFO : using symmetric eta at 0.3333333333333333\n",
      "2016-11-01 14:00:38,564 : INFO : using serial LDA version on this node\n",
      "2016-11-01 14:00:40,740 : INFO : running online LDA training, 3 topics, 10 passes over the supplied corpus of 1661 documents, updating model once every 1661 documents, evaluating perplexity every 1661 documents, iterating 50x with a convergence threshold of 0.001000\n",
      "2016-11-01 14:00:55,523 : INFO : -17.439 per-word bound, 177635.9 perplexity estimate based on a held-out corpus of 1661 documents with 241620 words\n",
      "2016-11-01 14:00:55,523 : INFO : PROGRESS: pass 0, at document #1661/1661\n",
      "2016-11-01 14:00:59,844 : INFO : topic #0 (0.333): 0.001*don + 0.001*edu + 0.001*image + 0.001*people + 0.001*know + 0.001*good + 0.001*think + 0.001*use + 0.001*like + 0.001*year\n",
      "2016-11-01 14:00:59,852 : INFO : topic #1 (0.333): 0.002*don + 0.002*like + 0.002*think + 0.002*just + 0.002*does + 0.001*image + 0.001*graphics + 0.001*god + 0.001*people + 0.001*edu\n",
      "2016-11-01 14:00:59,862 : INFO : topic #2 (0.333): 0.002*don + 0.001*just + 0.001*image + 0.001*know + 0.001*god + 0.001*people + 0.001*graphics + 0.001*good + 0.001*think + 0.001*time\n",
      "2016-11-01 14:00:59,865 : INFO : topic diff=0.853962, rho=1.000000\n",
      "2016-11-01 14:01:14,983 : INFO : -16.086 per-word bound, 69584.4 perplexity estimate based on a held-out corpus of 1661 documents with 241620 words\n",
      "2016-11-01 14:01:14,984 : INFO : PROGRESS: pass 1, at document #1661/1661\n",
      "2016-11-01 14:01:19,068 : INFO : topic #0 (0.333): 0.002*image + 0.002*edu + 0.001*jpeg + 0.001*don + 0.001*graphics + 0.001*use + 0.001*file + 0.001*people + 0.001*know + 0.001*good\n",
      "2016-11-01 14:01:19,072 : INFO : topic #1 (0.333): 0.002*don + 0.002*think + 0.002*just + 0.002*like + 0.002*does + 0.002*god + 0.001*good + 0.001*people + 0.001*know + 0.001*graphics\n",
      "2016-11-01 14:01:19,075 : INFO : topic #2 (0.333): 0.002*don + 0.001*just + 0.001*know + 0.001*people + 0.001*like + 0.001*time + 0.001*god + 0.001*image + 0.001*think + 0.001*does\n",
      "2016-11-01 14:01:19,077 : INFO : topic diff=0.547457, rho=0.577350\n",
      "2016-11-01 14:01:31,892 : INFO : -15.820 per-word bound, 57834.8 perplexity estimate based on a held-out corpus of 1661 documents with 241620 words\n",
      "2016-11-01 14:01:31,894 : INFO : PROGRESS: pass 2, at document #1661/1661\n",
      "2016-11-01 14:01:35,993 : INFO : topic #0 (0.333): 0.002*image + 0.002*edu + 0.002*jpeg + 0.001*graphics + 0.001*don + 0.001*file + 0.001*images + 0.001*use + 0.001*people + 0.001*know\n",
      "2016-11-01 14:01:35,997 : INFO : topic #1 (0.333): 0.002*don + 0.002*think + 0.002*just + 0.002*like + 0.002*does + 0.002*god + 0.002*good + 0.001*people + 0.001*know + 0.001*time\n",
      "2016-11-01 14:01:36,005 : INFO : topic #2 (0.333): 0.002*don + 0.001*know + 0.001*just + 0.001*people + 0.001*like + 0.001*time + 0.001*god + 0.001*think + 0.001*does + 0.001*good\n",
      "2016-11-01 14:01:36,008 : INFO : topic diff=0.300988, rho=0.500000\n",
      "2016-11-01 14:01:48,319 : INFO : -15.745 per-word bound, 54921.8 perplexity estimate based on a held-out corpus of 1661 documents with 241620 words\n",
      "2016-11-01 14:01:48,320 : INFO : PROGRESS: pass 3, at document #1661/1661\n",
      "2016-11-01 14:01:51,359 : INFO : topic #0 (0.333): 0.002*image + 0.002*edu + 0.002*jpeg + 0.001*graphics + 0.001*file + 0.001*don + 0.001*images + 0.001*use + 0.001*gif + 0.001*people\n",
      "2016-11-01 14:01:51,362 : INFO : topic #1 (0.333): 0.002*don + 0.002*think + 0.002*just + 0.002*like + 0.002*does + 0.002*god + 0.002*good + 0.001*people + 0.001*know + 0.001*year\n",
      "2016-11-01 14:01:51,368 : INFO : topic #2 (0.333): 0.002*don + 0.001*know + 0.001*just + 0.001*people + 0.001*like + 0.001*time + 0.001*god + 0.001*think + 0.001*does + 0.001*good\n",
      "2016-11-01 14:01:51,371 : INFO : topic diff=0.163111, rho=0.447214\n",
      "2016-11-01 14:02:08,229 : INFO : -15.723 per-word bound, 54079.6 perplexity estimate based on a held-out corpus of 1661 documents with 241620 words\n",
      "2016-11-01 14:02:08,230 : INFO : PROGRESS: pass 4, at document #1661/1661\n",
      "2016-11-01 14:02:12,128 : INFO : topic #0 (0.333): 0.003*image + 0.002*jpeg + 0.002*edu + 0.001*graphics + 0.001*file + 0.001*don + 0.001*images + 0.001*use + 0.001*gif + 0.001*like\n",
      "2016-11-01 14:02:12,131 : INFO : topic #1 (0.333): 0.002*don + 0.002*think + 0.002*just + 0.002*like + 0.002*does + 0.002*god + 0.002*good + 0.001*people + 0.001*know + 0.001*year\n",
      "2016-11-01 14:02:12,135 : INFO : topic #2 (0.333): 0.002*don + 0.001*know + 0.001*just + 0.001*people + 0.001*like + 0.001*time + 0.001*god + 0.001*think + 0.001*does + 0.001*good\n",
      "2016-11-01 14:02:12,136 : INFO : topic diff=0.093089, rho=0.408248\n",
      "2016-11-01 14:02:29,215 : INFO : -15.715 per-word bound, 53786.1 perplexity estimate based on a held-out corpus of 1661 documents with 241620 words\n",
      "2016-11-01 14:02:29,215 : INFO : PROGRESS: pass 5, at document #1661/1661\n",
      "2016-11-01 14:02:32,778 : INFO : topic #0 (0.333): 0.003*image + 0.002*jpeg + 0.002*edu + 0.001*graphics + 0.001*file + 0.001*don + 0.001*images + 0.001*use + 0.001*gif + 0.001*pub\n",
      "2016-11-01 14:02:32,781 : INFO : topic #1 (0.333): 0.002*don + 0.002*think + 0.002*just + 0.002*like + 0.002*does + 0.002*god + 0.002*good + 0.001*people + 0.001*know + 0.001*year\n",
      "2016-11-01 14:02:32,785 : INFO : topic #2 (0.333): 0.002*don + 0.001*know + 0.001*just + 0.001*people + 0.001*like + 0.001*time + 0.001*god + 0.001*think + 0.001*does + 0.001*good\n",
      "2016-11-01 14:02:32,786 : INFO : topic diff=0.055406, rho=0.377964\n",
      "2016-11-01 14:02:45,209 : INFO : -15.712 per-word bound, 53667.1 perplexity estimate based on a held-out corpus of 1661 documents with 241620 words\n",
      "2016-11-01 14:02:45,209 : INFO : PROGRESS: pass 6, at document #1661/1661\n",
      "2016-11-01 14:02:48,075 : INFO : topic #0 (0.333): 0.003*image + 0.002*jpeg + 0.002*edu + 0.001*graphics + 0.001*file + 0.001*don + 0.001*images + 0.001*use + 0.001*gif + 0.001*pub\n",
      "2016-11-01 14:02:48,078 : INFO : topic #1 (0.333): 0.002*don + 0.002*think + 0.002*just + 0.002*like + 0.002*does + 0.002*god + 0.002*good + 0.001*people + 0.001*know + 0.001*year\n",
      "2016-11-01 14:02:48,082 : INFO : topic #2 (0.333): 0.002*don + 0.001*know + 0.001*just + 0.001*people + 0.001*like + 0.001*time + 0.001*god + 0.001*think + 0.001*does + 0.001*good\n",
      "2016-11-01 14:02:48,084 : INFO : topic diff=0.034234, rho=0.353553\n",
      "2016-11-01 14:03:03,538 : INFO : -15.710 per-word bound, 53610.6 perplexity estimate based on a held-out corpus of 1661 documents with 241620 words\n",
      "2016-11-01 14:03:03,539 : INFO : PROGRESS: pass 7, at document #1661/1661\n",
      "2016-11-01 14:03:06,692 : INFO : topic #0 (0.333): 0.003*image + 0.002*jpeg + 0.002*edu + 0.001*graphics + 0.001*file + 0.001*don + 0.001*images + 0.001*gif + 0.001*use + 0.001*pub\n",
      "2016-11-01 14:03:06,695 : INFO : topic #1 (0.333): 0.002*don + 0.002*think + 0.002*just + 0.002*like + 0.002*god + 0.002*does + 0.002*good + 0.001*people + 0.001*know + 0.001*year\n",
      "2016-11-01 14:03:06,704 : INFO : topic #2 (0.333): 0.002*don + 0.001*know + 0.001*just + 0.001*people + 0.001*like + 0.001*time + 0.001*god + 0.001*think + 0.001*does + 0.001*good\n",
      "2016-11-01 14:03:06,706 : INFO : topic diff=0.021840, rho=0.333333\n",
      "2016-11-01 14:03:21,152 : INFO : -15.709 per-word bound, 53580.4 perplexity estimate based on a held-out corpus of 1661 documents with 241620 words\n",
      "2016-11-01 14:03:21,152 : INFO : PROGRESS: pass 8, at document #1661/1661\n",
      "2016-11-01 14:03:24,657 : INFO : topic #0 (0.333): 0.003*image + 0.002*jpeg + 0.002*edu + 0.001*graphics + 0.001*file + 0.001*images + 0.001*don + 0.001*gif + 0.001*use + 0.001*pub\n",
      "2016-11-01 14:03:24,661 : INFO : topic #1 (0.333): 0.002*don + 0.002*think + 0.002*just + 0.002*like + 0.002*god + 0.002*does + 0.002*good + 0.001*people + 0.001*know + 0.001*year\n",
      "2016-11-01 14:03:24,666 : INFO : topic #2 (0.333): 0.002*don + 0.001*know + 0.001*just + 0.001*people + 0.001*like + 0.001*time + 0.001*god + 0.001*think + 0.001*does + 0.001*good\n",
      "2016-11-01 14:03:24,669 : INFO : topic diff=0.014299, rho=0.316228\n",
      "2016-11-01 14:03:38,173 : INFO : -15.709 per-word bound, 53564.0 perplexity estimate based on a held-out corpus of 1661 documents with 241620 words\n",
      "2016-11-01 14:03:38,174 : INFO : PROGRESS: pass 9, at document #1661/1661\n",
      "2016-11-01 14:03:40,929 : INFO : topic #0 (0.333): 0.003*image + 0.002*jpeg + 0.002*edu + 0.001*graphics + 0.001*file + 0.001*images + 0.001*don + 0.001*gif + 0.001*use + 0.001*pub\n",
      "2016-11-01 14:03:40,932 : INFO : topic #1 (0.333): 0.002*don + 0.002*think + 0.002*just + 0.002*like + 0.002*god + 0.002*does + 0.002*good + 0.001*people + 0.001*know + 0.001*year\n",
      "2016-11-01 14:03:40,937 : INFO : topic #2 (0.333): 0.002*don + 0.001*know + 0.001*just + 0.001*people + 0.001*like + 0.001*time + 0.001*god + 0.001*think + 0.001*does + 0.001*good\n",
      "2016-11-01 14:03:40,939 : INFO : topic diff=0.009594, rho=0.301511\n"
     ]
    }
   ],
   "source": [
    "# Create lda model (equivalent to \"fit\" in sklearn)\n",
    "lda = models.LdaModel(corpus=corpus, num_topics=3, id2word=id2word, passes=10)"
   ]
  },
  {
   "cell_type": "markdown",
   "metadata": {
    "run_control": {
     "frozen": false,
     "read_only": false
    }
   },
   "source": [
    "Let's take a look at what happened.  Here are the 5 most important words for each of the 3 topics we found:"
   ]
  },
  {
   "cell_type": "code",
   "execution_count": 23,
   "metadata": {
    "collapsed": false,
    "run_control": {
     "frozen": false,
     "read_only": false
    }
   },
   "outputs": [
    {
     "name": "stderr",
     "output_type": "stream",
     "text": [
      "2016-11-01 14:04:44,583 : INFO : topic #0 (0.333): 0.003*image + 0.002*jpeg + 0.002*edu + 0.001*graphics + 0.001*file + 0.001*images + 0.001*don + 0.001*gif + 0.001*use + 0.001*pub\n",
      "2016-11-01 14:04:44,587 : INFO : topic #1 (0.333): 0.002*don + 0.002*think + 0.002*just + 0.002*like + 0.002*god + 0.002*does + 0.002*good + 0.001*people + 0.001*know + 0.001*year\n",
      "2016-11-01 14:04:44,591 : INFO : topic #2 (0.333): 0.002*don + 0.001*know + 0.001*just + 0.001*people + 0.001*like + 0.001*time + 0.001*god + 0.001*think + 0.001*does + 0.001*good\n"
     ]
    },
    {
     "data": {
      "text/plain": [
       "[(0,\n",
       "  '0.003*image + 0.002*jpeg + 0.002*edu + 0.001*graphics + 0.001*file + 0.001*images + 0.001*don + 0.001*gif + 0.001*use + 0.001*pub'),\n",
       " (1,\n",
       "  '0.002*don + 0.002*think + 0.002*just + 0.002*like + 0.002*god + 0.002*does + 0.002*good + 0.001*people + 0.001*know + 0.001*year'),\n",
       " (2,\n",
       "  '0.002*don + 0.001*know + 0.001*just + 0.001*people + 0.001*like + 0.001*time + 0.001*god + 0.001*think + 0.001*does + 0.001*good')]"
      ]
     },
     "execution_count": 23,
     "metadata": {},
     "output_type": "execute_result"
    }
   ],
   "source": [
    "lda.print_topics()"
   ]
  },
  {
   "cell_type": "markdown",
   "metadata": {
    "run_control": {
     "frozen": false,
     "read_only": false
    }
   },
   "source": [
    "#### Topic Space\n",
    "If we want to map our documents to the topic space we need to actually use the LdaModel transformer that we created above, like so:"
   ]
  },
  {
   "cell_type": "code",
   "execution_count": 27,
   "metadata": {
    "collapsed": false,
    "run_control": {
     "frozen": false,
     "read_only": false
    }
   },
   "outputs": [
    {
     "data": {
      "text/plain": [
       "<gensim.interfaces.TransformedCorpus at 0x10fd71160>"
      ]
     },
     "execution_count": 27,
     "metadata": {},
     "output_type": "execute_result"
    }
   ],
   "source": [
    "# Transform the docs from the word space to the topic space (like \"transform\" in sklearn)\n",
    "lda_corpus = lda[corpus]\n",
    "lda_corpus"
   ]
  },
  {
   "cell_type": "code",
   "execution_count": 31,
   "metadata": {
    "collapsed": true,
    "run_control": {
     "frozen": false,
     "read_only": false
    }
   },
   "outputs": [],
   "source": [
    "# Store the documents' topic vectors in a list so we can take a peak\n",
    "lda_docs = [doc for doc in lda_corpus]"
   ]
  },
  {
   "cell_type": "markdown",
   "metadata": {
    "run_control": {
     "frozen": false,
     "read_only": false
    }
   },
   "source": [
    "Now we can take a look at the document vectors in the topic space, which are measures of the component of each document along each topic.  Thus, at most a document vector can have num_topics=3 nonzero components in the topic space, and most have far fewer."
   ]
  },
  {
   "cell_type": "code",
   "execution_count": 40,
   "metadata": {
    "collapsed": false,
    "run_control": {
     "frozen": false,
     "read_only": false
    }
   },
   "outputs": [
    {
     "data": {
      "text/plain": [
       "[[(0, 0.99279555865152558)],\n",
       " [(1, 0.98246558383481875)],\n",
       " [(1, 0.98596682308976824)],\n",
       " [(0, 0.021380432710602391),\n",
       "  (1, 0.95630391888657162),\n",
       "  (2, 0.022315648402825867)],\n",
       " [(0, 0.98638820197097887)],\n",
       " [(1, 0.75274047903999508), (2, 0.24358700415759779)],\n",
       " [(1, 0.99390726605868784)],\n",
       " [(0, 0.011600764048619139),\n",
       "  (1, 0.01131638137157851),\n",
       "  (2, 0.97708285457980237)],\n",
       " [(0, 0.017617263280226312),\n",
       "  (1, 0.96457892439353543),\n",
       "  (2, 0.017803812326238171)],\n",
       " [(1, 0.9895168237363563)],\n",
       " [(1, 0.98537359074056685)],\n",
       " [(1, 0.98456791826605339)],\n",
       " [(0, 0.025951601254945982),\n",
       "  (1, 0.029611964983043144),\n",
       "  (2, 0.94443643376201092)],\n",
       " [(1, 0.99274143535311188)],\n",
       " [(1, 0.99282370712978607)]]"
      ]
     },
     "execution_count": 40,
     "metadata": {},
     "output_type": "execute_result"
    }
   ],
   "source": [
    "# Check out the document vectors in the topic space for the first 5 documents\n",
    "lda_docs[0:15]"
   ]
  },
  {
   "cell_type": "code",
   "execution_count": 41,
   "metadata": {
    "collapsed": false,
    "run_control": {
     "frozen": false,
     "read_only": false
    }
   },
   "outputs": [
    {
     "data": {
      "text/plain": [
       "': In article <11838@vice.ICO.TEK.COM>, bobbe@vice.ICO.TEK.COM (Robert\\n: >   Someone spank me if I\\'m wrong, but didn\\'t Lord, Liar, or Lunatic\\n: >   originate with C.S. Lewis?  Who\\'s this Campollo fellow anyway?\\n\\n: I do think so, and isn\\'t there a clear connection with the \"I do\\n: believe, because it is absurd\" notion by one of the original\\n: Christians (Origen?).\\n\\nThere is a similar statement attributed to Anselm, \"I believe so that\\nI may understand\". In both cases reason is somewhat less exalted than\\nanyone posting here could accept, which means that neither statement\\ncan be properly analysed in this venue.'"
      ]
     },
     "execution_count": 41,
     "metadata": {},
     "output_type": "execute_result"
    }
   ],
   "source": [
    "ng_train.data[5]"
   ]
  },
  {
   "cell_type": "code",
   "execution_count": null,
   "metadata": {
    "collapsed": true
   },
   "outputs": [],
   "source": [
    "lda.log_perplexity"
   ]
  },
  {
   "cell_type": "markdown",
   "metadata": {
    "run_control": {
     "frozen": false,
     "read_only": false
    }
   },
   "source": [
    "## On your own...\n",
    "- Go get some of the NIPS papers from [here](https://archive.ics.uci.edu/ml/datasets/Bag+of+Words).  \n",
    "- Try performing LDA on this data with gensim\n",
    "- Play with some of the preprocessing options and parameters for LDA, observe what happens\n",
    "- See if you can use the resulting topic space to extract topic vectors and cluster some documents\n",
    "- How do your results look?"
   ]
  },
  {
   "cell_type": "code",
   "execution_count": null,
   "metadata": {
    "collapsed": true,
    "run_control": {
     "frozen": false,
     "read_only": false
    }
   },
   "outputs": [],
   "source": []
  }
 ],
 "metadata": {
  "anaconda-cloud": {},
  "kernelspec": {
   "display_name": "Python [default]",
   "language": "python",
   "name": "python3"
  },
  "language_info": {
   "codemirror_mode": {
    "name": "ipython",
    "version": 3
   },
   "file_extension": ".py",
   "mimetype": "text/x-python",
   "name": "python",
   "nbconvert_exporter": "python",
   "pygments_lexer": "ipython3",
   "version": "3.5.2"
  },
  "toc": {
   "nav_menu": {
    "height": "123px",
    "width": "252px"
   },
   "navigate_menu": true,
   "number_sections": true,
   "sideBar": true,
   "threshold": 4,
   "toc_cell": false,
   "toc_section_display": "block",
   "toc_window_display": false
  }
 },
 "nbformat": 4,
 "nbformat_minor": 0
}
