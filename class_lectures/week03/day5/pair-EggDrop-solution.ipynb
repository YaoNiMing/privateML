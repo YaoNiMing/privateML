{
 "cells": [
  {
   "cell_type": "markdown",
   "metadata": {},
   "source": [
    "**Let's go over the recursion steps**\n",
    "\n",
    "1) What is the simplest first action you will take:\n",
    "\n",
    "   ** Drop an egg from a floor. Which egg doesn't matter but which floor does. So let's call this floor K**\n",
    "   \n",
    "2) What are the possible results of the action above\n",
    "\n",
    "   ** The egg can break or not**\n",
    "\n",
    "3) How do those outcomes reduce our inputs (N and M in this case)\n",
    "\n",
    "   **If the egg doesn't break N=N-K and M=M. If the egg breaks N=K-1 and M=M-1**\n",
    "\n",
    "4) How should we combine the results of those various outcomes\n",
    "\n",
    "   **We have to take a maximum of tries(N-K,M) and tries(N,M-1) because, we want the worst case scenario. Then we add one to it (since we just dropped an egg). We should do this for all possible K and pick the minimum option.** You can think of it this way, first we took the maximum because we don't control if the egg will break or not. Next we take a minimum because we can control the choice of K, that's upto us.\n",
    "\n",
    "5) What are the end conditions\n",
    "\n",
    "   ** The end conditions are simple. If N or M is zero, it's zero. If M=1 then the number of tries needed is N. If N=1, the number of tries needed is 1.**\n",
    "   \n",
    "**We can put that together and we are done. But since there are so many calls to the function within itself, this will fail without memoization or dynamic programming. I did the former and the code is below.**\n"
   ]
  },
  {
   "cell_type": "code",
   "execution_count": 5,
   "metadata": {
    "collapsed": false
   },
   "outputs": [],
   "source": [
    "from collections import defaultdict\n",
    "d = defaultdict(int)\n",
    "def tries(n,m):\n",
    "    if m==0 or n==0:\n",
    "        return 0\n",
    "    if m==1:\n",
    "        return n\n",
    "    if n==1:\n",
    "        return 1\n",
    "    if d[(n,m)]:\n",
    "        return d[n,m]\n",
    "    t = []\n",
    "    for k in range(1,n+1):\n",
    "        t.append(1+max(tries(n-k,m),tries(k-1,m-1)))\n",
    "    d[(n,m)]=min(t)\n",
    "    return d[(n,m)]"
   ]
  },
  {
   "cell_type": "code",
   "execution_count": 6,
   "metadata": {
    "collapsed": false
   },
   "outputs": [
    {
     "data": {
      "text/plain": [
       "14"
      ]
     },
     "execution_count": 6,
     "metadata": {},
     "output_type": "execute_result"
    }
   ],
   "source": [
    "tries(100,2)"
   ]
  },
  {
   "cell_type": "code",
   "execution_count": 7,
   "metadata": {
    "collapsed": false
   },
   "outputs": [
    {
     "data": {
      "text/plain": [
       "9"
      ]
     },
     "execution_count": 7,
     "metadata": {},
     "output_type": "execute_result"
    }
   ],
   "source": [
    "tries(100,3)"
   ]
  },
  {
   "cell_type": "markdown",
   "metadata": {},
   "source": [
    "Now for some intuition. We might think binary search is the best, but it's not. Think of 100 floors and 2 eggs. If you drop an egg at 50 and it breaks. Then you have one egg and all you can go is floor by floor. So you'll need 50 tries in total.\n",
    "\n",
    "If instead I dropped the first egg at every 10th floor. Say it breaks at 40, I know it didn't break at 30. So with the second egg, I'll just have to search between 30 and 40. So the worst case is 20 tries, if the first egg breaks at 100 (and the second egg searches from 90 to 100).\n",
    "\n",
    "In the above solution, you can see that if the egg breaks at floor 10, we need 11 tries and if it breaks at 100 we need 20 tries. So what if we did increments of lesser and lesser jump. If we do a bit of thinking (or solve a formula) we can see that if we go floors 14, 27, 39... we can do it in 14 tries.\n",
    "\n",
    "With more than two eggs, its much harder to get to a analytical solution. But recursion gets it done pretty nicely."
   ]
  },
  {
   "cell_type": "code",
   "execution_count": null,
   "metadata": {
    "collapsed": true
   },
   "outputs": [],
   "source": []
  }
 ],
 "metadata": {
  "kernelspec": {
   "display_name": "Python 2",
   "language": "python",
   "name": "python2"
  },
  "language_info": {
   "codemirror_mode": {
    "name": "ipython",
    "version": 2
   },
   "file_extension": ".py",
   "mimetype": "text/x-python",
   "name": "python",
   "nbconvert_exporter": "python",
   "pygments_lexer": "ipython2",
   "version": "2.7.12"
  }
 },
 "nbformat": 4,
 "nbformat_minor": 0
}
