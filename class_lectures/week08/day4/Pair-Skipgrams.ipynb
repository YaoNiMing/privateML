{
 "cells": [
  {
   "cell_type": "code",
   "execution_count": null,
   "metadata": {
    "collapsed": true,
    "run_control": {
     "frozen": false,
     "read_only": false
    }
   },
   "outputs": [],
   "source": [
    "# Imports\n",
    "import numpy as np\n",
    "from sklearn.datasets import fetch_20newsgroups\n",
    "from sklearn.feature_extraction.text import CountVectorizer\n",
    "from sklearn.neural_network import MLPClassifier\n",
    "import pandas as pd"
   ]
  },
  {
   "cell_type": "code",
   "execution_count": null,
   "metadata": {
    "collapsed": true
   },
   "outputs": [],
   "source": [
    "# Set Network Parameters\n",
    "window_size = 2\n",
    "dim = 100"
   ]
  },
  {
   "cell_type": "code",
   "execution_count": null,
   "metadata": {
    "collapsed": false,
    "run_control": {
     "frozen": false,
     "read_only": false
    }
   },
   "outputs": [],
   "source": [
    "# Retrieve Data\n",
    "ng = fetch_20newsgroups(categories=['rec.sport.baseball']).data[0:50]"
   ]
  },
  {
   "cell_type": "code",
   "execution_count": null,
   "metadata": {
    "collapsed": true,
    "run_control": {
     "frozen": false,
     "read_only": false
    }
   },
   "outputs": [],
   "source": [
    "# Establish Integer indices for each unique term\n",
    "cv = CountVectorizer()\n",
    "ng_vecs = cv.fit_transform(ng)\n",
    "# Store those indices here\n",
    "vocab = cv.vocabulary_\n",
    "# And the reverse mapping\n",
    "id2word = {v:k for (k,v) in vocab.items()}\n",
    "# The total unique words, aka size of vocabulary\n",
    "V = len(vocab)"
   ]
  },
  {
   "cell_type": "code",
   "execution_count": null,
   "metadata": {
    "collapsed": false,
    "run_control": {
     "frozen": false,
     "read_only": false
    }
   },
   "outputs": [],
   "source": [
    "# Use CountVectorizer to turn our list of documents into a Series of lists of terms\n",
    "tokenizer = cv.build_tokenizer()\n",
    "tokenized_docs = pd.Series(ng).map(tokenizer).map(lambda x: [a.lower() for a in x])"
   ]
  },
  {
   "cell_type": "code",
   "execution_count": 32,
   "metadata": {
    "collapsed": false,
    "run_control": {
     "frozen": false,
     "read_only": false
    }
   },
   "outputs": [],
   "source": [
    "# Generate the X data matrix and y vector for MLP\n",
    "# X: A matrix of one-hot encoded vectors (dimension V) for each center word over all context windows (size 2+2+1=5)\n",
    "# y: A matrix over all context windows where the outputs are the 4 \"labels\", aka the indices of the 4 \"other\" context words\n",
    "X = []\n",
    "y = []\n",
    "# Step thru tokenized document list\n",
    "for doc in tokenized_docs:\n",
    "    # For each document, step thru the words\n",
    "    for index, word in enumerate(doc): \n",
    "        # Skip if at the edge of a document (can handle differently)\n",
    "        if index < 2 or index > (len(doc)-3):\n",
    "            continue\n",
    "        # Retrieve the one-hot V-dimensional input vector and add it to X\n",
    "        one_hot_input = [0]*V \n",
    "        one_hot_input[vocab[word]] = 1\n",
    "        # HACK: Had to do the window cooccurrences separately as MLP won't support multilabel tho it says it does\n",
    "        X.append(one_hot_input)\n",
    "        X.append(one_hot_input)\n",
    "        X.append(one_hot_input)\n",
    "        X.append(one_hot_input)\n",
    "        # Retrieve the 4 outputs for the context window and add them to y\n",
    "        # Same HACK here\n",
    "        context1 = doc[index-2]\n",
    "        y.append(vocab[context1])\n",
    "        context2 = doc[index-1]\n",
    "        y.append(vocab[context2])\n",
    "        context3 = doc[index+1]\n",
    "        y.append(vocab[context3])\n",
    "        context4 = doc[index+2]\n",
    "        y.append(vocab[context4])"
   ]
  },
  {
   "cell_type": "code",
   "execution_count": 33,
   "metadata": {
    "collapsed": false,
    "run_control": {
     "frozen": false,
     "read_only": false
    }
   },
   "outputs": [],
   "source": [
    "# Convert to Numpy arrays\n",
    "X = np.array(X)\n",
    "y = np.array(y)"
   ]
  },
  {
   "cell_type": "code",
   "execution_count": 34,
   "metadata": {
    "collapsed": false
   },
   "outputs": [
    {
     "data": {
      "text/plain": [
       "MLPClassifier(activation='relu', alpha=0.0001, batch_size='auto', beta_1=0.9,\n",
       "       beta_2=0.999, early_stopping=False, epsilon=1e-08,\n",
       "       hidden_layer_sizes=(100,), learning_rate='constant',\n",
       "       learning_rate_init=0.001, max_iter=200, momentum=0.9,\n",
       "       nesterovs_momentum=True, power_t=0.5, random_state=None,\n",
       "       shuffle=True, solver='adam', tol=0.0001, validation_fraction=0.1,\n",
       "       verbose=False, warm_start=False)"
      ]
     },
     "execution_count": 34,
     "metadata": {},
     "output_type": "execute_result"
    }
   ],
   "source": [
    "# Fit the MLP Classifier\n",
    "mlp = MLPClassifier(hidden_layer_sizes=(dim,))\n",
    "mlp.fit(X, y)"
   ]
  },
  {
   "cell_type": "code",
   "execution_count": 38,
   "metadata": {
    "collapsed": false
   },
   "outputs": [],
   "source": [
    "# Here are the word vectors!!\n",
    "word_vecs = mlp.coefs_[0]"
   ]
  },
  {
   "cell_type": "code",
   "execution_count": 54,
   "metadata": {
    "collapsed": false
   },
   "outputs": [
    {
     "data": {
      "text/plain": [
       "NearestNeighbors(algorithm='brute', leaf_size=30, metric='cosine',\n",
       "         metric_params=None, n_jobs=1, n_neighbors=5, p=2, radius=1.0)"
      ]
     },
     "execution_count": 54,
     "metadata": {},
     "output_type": "execute_result"
    }
   ],
   "source": [
    "# Look at the closest words to a query using a K-Nearest Neighbors search with cosine\n",
    "from sklearn.neighbors import NearestNeighbors\n",
    "nn = NearestNeighbors(metric='cosine', algorithm='brute')\n",
    "nn.fit(word_vecs)"
   ]
  },
  {
   "cell_type": "code",
   "execution_count": 84,
   "metadata": {
    "collapsed": false
   },
   "outputs": [],
   "source": [
    "# Look at the closest words to a query using a K-Nearest Neighbors search with cosine\n",
    "def get_similar(query, n=10):\n",
    "    query_index = vocab[query]\n",
    "    if query_index:\n",
    "        dist, index = nn.kneighbors(word_vecs[query_index, :], n_neighbors=n)\n",
    "        return ([(id2word[i[0]], d[0]) for (d, i) in zip(dist.transpose(), index.transpose())])\n",
    "    else:\n",
    "        return \"Query not in the dataset!\""
   ]
  },
  {
   "cell_type": "code",
   "execution_count": 86,
   "metadata": {
    "collapsed": false,
    "run_control": {
     "marked": false
    }
   },
   "outputs": [
    {
     "name": "stderr",
     "output_type": "stream",
     "text": [
      "//anaconda/lib/python3.5/site-packages/sklearn/utils/validation.py:395: DeprecationWarning: Passing 1d arrays as data is deprecated in 0.17 and will raise ValueError in 0.19. Reshape your data either using X.reshape(-1, 1) if your data has a single feature or X.reshape(1, -1) if it contains a single sample.\n",
      "  DeprecationWarning)\n"
     ]
    },
    {
     "data": {
      "text/plain": [
       "[('bat', 0.0),\n",
       " ('pivot', 0.56249454553458655),\n",
       " ('estimate', 0.57451018888023431),\n",
       " ('hand', 0.57471723085951176),\n",
       " ('speed', 0.58302086584558155),\n",
       " ('lesat', 0.5952954103121918),\n",
       " ('moved', 0.60489928762136724),\n",
       " ('remember', 0.60652218493149701),\n",
       " ('day', 0.60773438404801505),\n",
       " ('shutout', 0.61164096971210746),\n",
       " ('result', 0.61224321277217053),\n",
       " ('nicely', 0.61524505916367644),\n",
       " ('holding', 0.61683997165445881),\n",
       " ('timestamps', 0.62353061497667694),\n",
       " ('along', 0.6244347863014339),\n",
       " ('floor', 0.62646560203163504),\n",
       " ('plants', 0.62679990677947361),\n",
       " ('keep', 0.63238050219870612),\n",
       " ('qualifications', 0.63387099268602454),\n",
       " ('absolutely', 0.63415533869202678)]"
      ]
     },
     "execution_count": 86,
     "metadata": {},
     "output_type": "execute_result"
    }
   ],
   "source": [
    "# Try it out!\n",
    "get_similar(\"bat\", 20)"
   ]
  },
  {
   "cell_type": "code",
   "execution_count": null,
   "metadata": {
    "collapsed": true
   },
   "outputs": [],
   "source": []
  }
 ],
 "metadata": {
  "anaconda-cloud": {},
  "kernelspec": {
   "display_name": "Python [default]",
   "language": "python",
   "name": "python3"
  },
  "language_info": {
   "codemirror_mode": {
    "name": "ipython",
    "version": 3
   },
   "file_extension": ".py",
   "mimetype": "text/x-python",
   "name": "python",
   "nbconvert_exporter": "python",
   "pygments_lexer": "ipython3",
   "version": "3.5.2"
  },
  "toc": {
   "nav_menu": {
    "height": "12px",
    "width": "252px"
   },
   "navigate_menu": true,
   "number_sections": true,
   "sideBar": true,
   "threshold": 4,
   "toc_cell": false,
   "toc_section_display": "block",
   "toc_window_display": false
  }
 },
 "nbformat": 4,
 "nbformat_minor": 1
}
