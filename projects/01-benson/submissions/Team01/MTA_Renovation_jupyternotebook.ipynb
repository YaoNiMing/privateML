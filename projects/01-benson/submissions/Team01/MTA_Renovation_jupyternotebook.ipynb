{
 "cells": [
  {
   "cell_type": "markdown",
   "metadata": {},
   "source": [
    "MTA renovation optimizatio"
   ]
  },
  {
   "cell_type": "markdown",
   "metadata": {},
   "source": [
    "0.: Import libraries"
   ]
  },
  {
   "cell_type": "code",
   "execution_count": 1,
   "metadata": {
    "collapsed": true
   },
   "outputs": [],
   "source": [
    "# import libraries\n",
    "\n",
    "import pandas as pd\n",
    "import numpy as np\n",
    "import matplotlib.pyplot as plt\n",
    "import datetime\n",
    "#import dateutil.parser\n",
    "import seaborn as sns\n",
    "\n",
    "from IPython.display import Image\n",
    "\n",
    "from IPython.display import Image\n",
    "\n",
    "# enables inline plots, without it plots don't show up in the notebook\n",
    "%matplotlib inline\n",
    "\n",
    "# various options in pandas\n",
    "pd.set_option('display.max_columns', None)\n",
    "pd.set_option('display.max_rows', 25)\n",
    "pd.set_option('display.precision', 3)"
   ]
  },
  {
   "cell_type": "markdown",
   "metadata": {},
   "source": [
    "1.: Download a couple of MTA data sets and combine them into a data frame"
   ]
  },
  {
   "cell_type": "code",
   "execution_count": 2,
   "metadata": {
    "collapsed": false
   },
   "outputs": [],
   "source": [
    "# downloading a couple of MTA data sets and combining them\n",
    "\n",
    "df = pd.read_csv('http://web.mta.info/developers/data/nyct/turnstile/turnstile_160917.txt')\n",
    "dftemp = pd.read_csv('http://web.mta.info/developers/data/nyct/turnstile/turnstile_160910.txt')\n",
    "df = df.append(dftemp, ignore_index = True)\n",
    "dftemp = pd.read_csv('http://web.mta.info/developers/data/nyct/turnstile/turnstile_160903.txt')\n",
    "df = df.append(dftemp, ignore_index = True)\n",
    "\n",
    "# Sort by C/A, Unit, SCP, Station\n",
    "\n",
    "df = df.sort_values([\"C/A\", \"UNIT\", \"SCP\", \"STATION\"])"
   ]
  },
  {
   "cell_type": "code",
   "execution_count": 3,
   "metadata": {
    "collapsed": false
   },
   "outputs": [],
   "source": [
    "df=df.rename(columns={'EXITS                                                               ': 'EXITS'})"
   ]
  },
  {
   "cell_type": "markdown",
   "metadata": {},
   "source": [
    "2.: Turn this into a time series"
   ]
  },
  {
   "cell_type": "code",
   "execution_count": 4,
   "metadata": {
    "collapsed": false
   },
   "outputs": [],
   "source": [
    "# Add a column that combines date and time in the datetime format\n",
    "\n",
    "df[\"DATETIME\"] = df[\"DATE\"] + \" \" + df[\"TIME\"]\n",
    "df[\"DATETIME\"] = pd.to_datetime(df.DATETIME, infer_datetime_format=True)"
   ]
  },
  {
   "cell_type": "code",
   "execution_count": 5,
   "metadata": {
    "collapsed": false,
    "scrolled": true
   },
   "outputs": [],
   "source": [
    "# Sort by date and time and make the index a date time\n",
    "\n",
    "df=df.sort_values([\"C/A\", \"UNIT\", \"SCP\", \"STATION\", \"DATETIME\"])\n",
    "df.index = df[\"DATETIME\"]"
   ]
  },
  {
   "cell_type": "markdown",
   "metadata": {},
   "source": [
    " 3.: Select the station of interest"
   ]
  },
  {
   "cell_type": "code",
   "execution_count": 6,
   "metadata": {
    "collapsed": false
   },
   "outputs": [],
   "source": [
    "# Filter for station of interest and resample for 4 hour steps\n",
    "\n",
    "df=df[df.STATION == '28 ST']"
   ]
  },
  {
   "cell_type": "markdown",
   "metadata": {
    "collapsed": false
   },
   "source": [
    "4.: Get sum of entries and exits"
   ]
  },
  {
   "cell_type": "code",
   "execution_count": 7,
   "metadata": {
    "collapsed": false
   },
   "outputs": [],
   "source": [
    "# Create a new column to get the daily count instead of the cumulative values and drop unused columns\n",
    "\n",
    "df[\"DAILYENTRIES\"]=df.ENTRIES.diff()\n",
    "df[\"DAILYEXITS\"]=df.EXITS.diff()\n",
    "\n",
    "df['DAILYTRAFFIC'] = df['DAILYEXITS'] + df['DAILYENTRIES']\n",
    "df=df[df.DATE > \"09/02/2016\"]\n",
    "\n",
    "df=df.drop([\"C/A\",'UNIT','SCP','LINENAME','DIVISION','DATE','TIME','DESC','ENTRIES','EXITS','DATETIME','DAILYENTRIES','DAILYEXITS'], axis=1)"
   ]
  },
  {
   "cell_type": "code",
   "execution_count": 8,
   "metadata": {
    "collapsed": false
   },
   "outputs": [
    {
     "name": "stderr",
     "output_type": "stream",
     "text": [
      "/Users/Nils/anaconda/lib/python2.7/site-packages/ipykernel/__main__.py:3: FutureWarning: how in .resample() is deprecated\n",
      "the new syntax is .resample(...)..apply(<func>)\n",
      "  app.launch_new_instance()\n"
     ]
    }
   ],
   "source": [
    "# Resample to 4 hour steps\n",
    "\n",
    "df=df.resample('4H', how = np.sum)"
   ]
  },
  {
   "cell_type": "markdown",
   "metadata": {},
   "source": [
    "5.: Analyze traffic within the day"
   ]
  },
  {
   "cell_type": "code",
   "execution_count": 9,
   "metadata": {
    "collapsed": false
   },
   "outputs": [],
   "source": [
    "# Aggregate by the hour\n",
    "\n",
    "df_dt = df.index.to_datetime()\n",
    "df['hour']= df_dt.hour\n",
    "df_hour=df.groupby(['hour'])['DAILYTRAFFIC'].mean()\n",
    "df_hour=df_hour.reset_index()"
   ]
  },
  {
   "cell_type": "code",
   "execution_count": 10,
   "metadata": {
    "collapsed": false
   },
   "outputs": [
    {
     "name": "stderr",
     "output_type": "stream",
     "text": [
      "/Users/Nils/anaconda/lib/python2.7/site-packages/pandas/core/indexing.py:132: SettingWithCopyWarning: \n",
      "A value is trying to be set on a copy of a slice from a DataFrame\n",
      "\n",
      "See the caveats in the documentation: http://pandas.pydata.org/pandas-docs/stable/indexing.html#indexing-view-versus-copy\n",
      "  self._setitem_with_indexer(indexer, value)\n"
     ]
    },
    {
     "data": {
      "text/plain": [
       "<matplotlib.text.Text at 0x11a03dcd0>"
      ]
     },
     "execution_count": 10,
     "metadata": {},
     "output_type": "execute_result"
    },
    {
     "data": {
      "image/png": "[encoded data removed]",
      "text/plain": [
       "<matplotlib.figure.Figure at 0x118a65f10>"
      ]
     },
     "metadata": {},
     "output_type": "display_data"
    }
   ],
   "source": [
    "# adjust hour to the end of the time slot and plot ba chart\n",
    "\n",
    "df_hour.hour.iloc[0]=24\n",
    "\n",
    "plt.bar(df_hour.hour,df_hour.DAILYTRAFFIC)\n",
    "plt.xlabel('Hour of the day')\n",
    "plt.ylabel('Average number of people in station')"
   ]
  },
  {
   "cell_type": "markdown",
   "metadata": {},
   "source": [
    "6.: Daily data"
   ]
  },
  {
   "cell_type": "code",
   "execution_count": 11,
   "metadata": {
    "collapsed": false
   },
   "outputs": [],
   "source": [
    "df['weekday']=df_dt.weekday"
   ]
  },
  {
   "cell_type": "code",
   "execution_count": 12,
   "metadata": {
    "collapsed": false
   },
   "outputs": [],
   "source": [
    "# Shift weekdays by one entry as midnight is maped towards the following day but has data of the previous 4 hours in it\n",
    "\n",
    "df['weekdayadj']=df['weekday'].shift(periods=1)\n",
    "df['weekdayadj'].iloc[0]=df['weekday'].iloc[0]-1"
   ]
  },
  {
   "cell_type": "code",
   "execution_count": 13,
   "metadata": {
    "collapsed": false,
    "scrolled": true
   },
   "outputs": [
    {
     "data": {
      "text/plain": [
       "<matplotlib.text.Text at 0x10b5dfad0>"
      ]
     },
     "execution_count": 13,
     "metadata": {},
     "output_type": "execute_result"
    },
    {
     "data": {
      "image/png": "[encoded data removed]",
      "text/plain": [
       "<matplotlib.figure.Figure at 0x11a065f50>"
      ]
     },
     "metadata": {},
     "output_type": "display_data"
    }
   ],
   "source": [
    "df_dayadj=df.groupby(['weekdayadj'])['DAILYTRAFFIC'].mean().reset_index()\n",
    "\n",
    "plt.figure()\n",
    "\n",
    "plt.plot(df_dayadj.weekdayadj,df_dayadj.DAILYTRAFFIC)\n",
    "plt.xlabel('Day (0=Monday, 6=Sunday)')\n",
    "plt.ylabel('Average number of people in station')"
   ]
  },
  {
   "cell_type": "markdown",
   "metadata": {
    "collapsed": true
   },
   "source": [
    "7.: Line graph hour over week"
   ]
  },
  {
   "cell_type": "code",
   "execution_count": 14,
   "metadata": {
    "collapsed": false
   },
   "outputs": [],
   "source": [
    "df_how=df"
   ]
  },
  {
   "cell_type": "code",
   "execution_count": 15,
   "metadata": {
    "collapsed": false
   },
   "outputs": [],
   "source": [
    "def change_midnight(x):\n",
    "    if x == 0:\n",
    "        return 24\n",
    "    return x\n",
    "\n",
    "df_how['hour'] = df_how['hour'].map(change_midnight)"
   ]
  },
  {
   "cell_type": "code",
   "execution_count": 16,
   "metadata": {
    "collapsed": false
   },
   "outputs": [],
   "source": [
    "df_how['datetime'] = df_how['weekdayadj']*24+df_how['hour']"
   ]
  },
  {
   "cell_type": "code",
   "execution_count": 17,
   "metadata": {
    "collapsed": false
   },
   "outputs": [],
   "source": [
    "df_how=df_how.groupby(['datetime'])['DAILYTRAFFIC'].mean().reset_index()"
   ]
  },
  {
   "cell_type": "code",
   "execution_count": 18,
   "metadata": {
    "collapsed": false
   },
   "outputs": [
    {
     "data": {
      "text/plain": [
       "[<matplotlib.lines.Line2D at 0x119502e90>]"
      ]
     },
     "execution_count": 18,
     "metadata": {},
     "output_type": "execute_result"
    },
    {
     "data": {
      "image/png": "[encoded data removed]",
      "text/plain": [
       "<matplotlib.figure.Figure at 0x1140a90d0>"
      ]
     },
     "metadata": {},
     "output_type": "display_data"
    }
   ],
   "source": [
    "plt.plot(df_how['datetime'],df_how['DAILYTRAFFIC'])"
   ]
  },
  {
   "cell_type": "code",
   "execution_count": null,
   "metadata": {
    "collapsed": true
   },
   "outputs": [],
   "source": []
  }
 ],
 "metadata": {
  "anaconda-cloud": {},
  "kernelspec": {
   "display_name": "Python [Root]",
   "language": "python",
   "name": "Python [Root]"
  },
  "language_info": {
   "codemirror_mode": {
    "name": "ipython",
    "version": 2
   },
   "file_extension": ".py",
   "mimetype": "text/x-python",
   "name": "python",
   "nbconvert_exporter": "python",
   "pygments_lexer": "ipython2",
   "version": "2.7.12"
  }
 },
 "nbformat": 4,
 "nbformat_minor": 0
}
