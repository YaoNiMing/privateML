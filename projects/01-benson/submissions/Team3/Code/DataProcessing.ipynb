{
 "cells": [
  {
   "cell_type": "markdown",
   "metadata": {},
   "source": [
    "# Data Processing\n",
    "We will clean and process the turnstile datasets in this file, and save the cleaned dictionaries to be loaded by analysis scripts later. This way, we don't need to parse through the raw data files every time we want to analyse it."
   ]
  },
  {
   "cell_type": "code",
   "execution_count": 1,
   "metadata": {
    "collapsed": true
   },
   "outputs": [],
   "source": [
    "#Import libraries\n",
    "import pickle\n",
    "import csv\n",
    "from dateutil import parser as psr\n",
    "import matplotlib.pyplot as plt\n",
    "import numpy as np"
   ]
  },
  {
   "cell_type": "code",
   "execution_count": 2,
   "metadata": {
    "collapsed": true
   },
   "outputs": [],
   "source": [
    "#Initialize the dictionaries to store our time series data.\n",
    "#Each \n",
    "times_dict = {}\n",
    "counts_dict = {}"
   ]
  },
  {
   "cell_type": "code",
   "execution_count": 3,
   "metadata": {
    "collapsed": true
   },
   "outputs": [],
   "source": [
    "#A helper function that takes the dictionary and split it into two time series\n",
    "def splitvalues(dictionary, key):\n",
    "    date_vector = []\n",
    "    count_vector = []\n",
    "    for value in dictionary[key]:\n",
    "        date_vector.append(value[0])\n",
    "        count_vector.append(value[1])\n",
    "    return date_vector, count_vector"
   ]
  },
  {
   "cell_type": "code",
   "execution_count": 4,
   "metadata": {
    "collapsed": false
   },
   "outputs": [],
   "source": [
    "#WARNING: This block will take a minute to run\n",
    "for fileno in range(4):#This iterates through all 4 files\n",
    "    #Open a data file and read it into the dictionary\n",
    "    with open('turnstile'+str(fileno+1)+'.txt','r') as filecsv:\n",
    "        datadict = {};\n",
    "        dataset = csv.reader(filecsv, dialect='excel')\n",
    "        for line in dataset:\n",
    "            strippedline= map(str.strip, line)\n",
    "            key = tuple(strippedline[0:3])\n",
    "            values = strippedline[3:]\n",
    "            for i in range(len(values)):\n",
    "                #the data rolls over after every 5th entry\n",
    "                if (i % 5 == 0):\n",
    "                    if (key not in datadict):\n",
    "                        datadict[key] = []\n",
    "                    if values[i+1][-5:] == '00:00':\n",
    "                        time = psr.parse(values[i] + '-' + values[i+1])\n",
    "                        datadict[key].append((time, values[i+4]))\n",
    "            \n",
    "    for key in datadict:\n",
    "        times, counts = splitvalues(datadict, key)\n",
    "        if key[0] not in times_dict:\n",
    "            times_dict[key[0]] = []\n",
    "            counts_dict[key[0]] = []\n",
    "        exits_last_hour = list(np.diff(map(int, counts)))\n",
    "        if times_dict[key[0]] != [] and times != []:\n",
    "            if times[0] > times_dict[key[0]][-1]: #check if new week\n",
    "                times_dict[key[0]] += times[1:]\n",
    "                counts_dict[key[0]] += exits_last_hour\n",
    "            else: #add turnstile exit data to control area total\n",
    "                num_entries = min(len(exits_last_hour),\\\n",
    "                    len(counts_dict[key[0]][-len(exits_last_hour):]))\n",
    "                if num_entries:\n",
    "                    array1 = np.array(counts_dict[key[0]][-num_entries:])\n",
    "                    array2 = np.array(exits_last_hour[-num_entries:])\n",
    "                    counts_dict[key[0]][-num_entries:] = list(array1+array2)\n",
    "        elif times != []:\n",
    "            times_dict[key[0]] += times[1:]\n",
    "            counts_dict[key[0]] += exits_last_hour"
   ]
  },
  {
   "cell_type": "code",
   "execution_count": 5,
   "metadata": {
    "collapsed": false
   },
   "outputs": [],
   "source": [
    "#Make a dictionary of the form {ControlArea:Station} to be used to combine control areas\n",
    "with open('stationnames.csv') as filecsv2:\n",
    "    station_dict = {};\n",
    "    latlon_dict = {};\n",
    "    CA_to_dict = csv.reader(filecsv2, delimiter=',')\n",
    "    for line in CA_to_dict:\n",
    "        station_dict[line[0]]=line[1]\n",
    "        latlon_dict[line[0]]=[line[2],line[3]]"
   ]
  },
  {
   "cell_type": "code",
   "execution_count": 6,
   "metadata": {
    "collapsed": false
   },
   "outputs": [],
   "source": [
    "times_sta = {} #station time series (combining the control areas)\n",
    "counts_sta = {}\n",
    "for key in times_dict:\n",
    "    if key in station_dict:\n",
    "        newkey = station_dict[key]\n",
    "        if newkey not in times_sta:\n",
    "            times_sta[newkey] = times_dict[key]\n",
    "            counts_sta[newkey] = counts_dict[key]\n",
    "        else:\n",
    "            for i in range(len(counts_sta[newkey])):\n",
    "                if times_sta[newkey][i] == times_dict[key]:\n",
    "                    counts_sta[newkey][i] += counts_dict[key][i]"
   ]
  },
  {
   "cell_type": "code",
   "execution_count": 7,
   "metadata": {
    "collapsed": true
   },
   "outputs": [],
   "source": [
    "#make a list of stations in the timeseries dataset\n",
    "keylist = list(times_sta.keys())\n",
    "sta = keylist[140]"
   ]
  },
  {
   "cell_type": "code",
   "execution_count": 8,
   "metadata": {
    "collapsed": false
   },
   "outputs": [
    {
     "data": {
      "text/plain": [
       "<matplotlib.text.Text at 0x114900150>"
      ]
     },
     "execution_count": 8,
     "metadata": {},
     "output_type": "execute_result"
    },
    {
     "data": {
      "image/png": "[encoded data removed]",
      "text/plain": [
       "<matplotlib.figure.Figure at 0x10c7c9ad0>"
      ]
     },
     "metadata": {},
     "output_type": "display_data"
    }
   ],
   "source": [
    "#plot time series for some random station to visualize the data\n",
    "%matplotlib inline\n",
    "plt.plot(times_sta[sta],counts_sta[sta])\n",
    "plt.title(sta)\n",
    "plt.xlabel('time')\n",
    "plt.ylabel('exits')"
   ]
  },
  {
   "cell_type": "code",
   "execution_count": 9,
   "metadata": {
    "collapsed": true
   },
   "outputs": [],
   "source": [
    "# Saving the dictionaries and a list of keys:\n",
    "with open('StationExitsTimeSeries.pickle', 'w') as file:\n",
    "    pickle.dump([times_sta, counts_sta, keylist], file)"
   ]
  }
 ],
 "metadata": {
  "anaconda-cloud": {},
  "kernelspec": {
   "display_name": "Python [conda root]",
   "language": "python",
   "name": "conda-root-py"
  },
  "language_info": {
   "codemirror_mode": {
    "name": "ipython",
    "version": 2
   },
   "file_extension": ".py",
   "mimetype": "text/x-python",
   "name": "python",
   "nbconvert_exporter": "python",
   "pygments_lexer": "ipython2",
   "version": "2.7.12"
  }
 },
 "nbformat": 4,
 "nbformat_minor": 0
}
