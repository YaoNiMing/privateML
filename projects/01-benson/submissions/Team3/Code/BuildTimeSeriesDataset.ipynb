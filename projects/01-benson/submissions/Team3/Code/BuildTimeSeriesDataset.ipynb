{
 "cells": [
  {
   "cell_type": "markdown",
   "metadata": {},
   "source": [
    "# Time-Series Building\n",
    "Here we will take the uber pickup logs and the station exit data to build time series for both and construct a finalized, cleaned dataset for data exploration."
   ]
  },
  {
   "cell_type": "code",
   "execution_count": 1,
   "metadata": {
    "collapsed": true
   },
   "outputs": [],
   "source": [
    "import pickle\n",
    "import matplotlib.pyplot as plt\n",
    "import numpy as np\n",
    "import pandas as pd\n",
    "from dateutil import parser as psr\n",
    "%matplotlib inline"
   ]
  },
  {
   "cell_type": "code",
   "execution_count": 2,
   "metadata": {
    "collapsed": true
   },
   "outputs": [],
   "source": [
    "# Loading the Uber pickups data and their closest stations:\n",
    "with open('UberData/UberStationPickups.pickle') as file: \n",
    "    datalist = pickle.load(file)\n",
    "    pickups = datalist[0]\n",
    "# Loading the dictionaries of the station timeseries:\n",
    "with open('StationData/StationExitsTimeSeries.pickle') as file: \n",
    "    times_sta, counts_sta, keylist = pickle.load(file)"
   ]
  },
  {
   "cell_type": "markdown",
   "metadata": {},
   "source": [
    "First, we have to build the time series associated with uber pick-ups near each station..."
   ]
  },
  {
   "cell_type": "code",
   "execution_count": 4,
   "metadata": {
    "collapsed": false
   },
   "outputs": [
    {
     "data": {
      "text/html": [
       "<div>\n",
       "<table border=\"1\" class=\"dataframe\">\n",
       "  <thead>\n",
       "    <tr style=\"text-align: right;\">\n",
       "      <th></th>\n",
       "      <th>Date/Time</th>\n",
       "      <th>Lat</th>\n",
       "      <th>Lon</th>\n",
       "      <th>Base</th>\n",
       "      <th>Closest_Station</th>\n",
       "      <th>Closest_Distance</th>\n",
       "    </tr>\n",
       "  </thead>\n",
       "  <tbody>\n",
       "    <tr>\n",
       "      <th>564511</th>\n",
       "      <td>4/30/2014 23:22:00</td>\n",
       "      <td>40.7640</td>\n",
       "      <td>-73.9744</td>\n",
       "      <td>B02764</td>\n",
       "      <td>5TH AV-53RD ST</td>\n",
       "      <td>0.003921</td>\n",
       "    </tr>\n",
       "    <tr>\n",
       "      <th>564512</th>\n",
       "      <td>4/30/2014 23:26:00</td>\n",
       "      <td>40.7629</td>\n",
       "      <td>-73.9672</td>\n",
       "      <td>B02764</td>\n",
       "      <td>LEXINGTON AV</td>\n",
       "      <td>0.002042</td>\n",
       "    </tr>\n",
       "    <tr>\n",
       "      <th>564513</th>\n",
       "      <td>4/30/2014 23:31:00</td>\n",
       "      <td>40.7443</td>\n",
       "      <td>-73.9889</td>\n",
       "      <td>B02764</td>\n",
       "      <td>28TH ST</td>\n",
       "      <td>0.004796</td>\n",
       "    </tr>\n",
       "    <tr>\n",
       "      <th>564514</th>\n",
       "      <td>4/30/2014 23:32:00</td>\n",
       "      <td>40.6756</td>\n",
       "      <td>-73.9405</td>\n",
       "      <td>B02764</td>\n",
       "      <td>KINGSTON-THROOP</td>\n",
       "      <td>0.004336</td>\n",
       "    </tr>\n",
       "    <tr>\n",
       "      <th>564515</th>\n",
       "      <td>4/30/2014 23:48:00</td>\n",
       "      <td>40.6880</td>\n",
       "      <td>-73.9608</td>\n",
       "      <td>B02764</td>\n",
       "      <td>CLASSON AV</td>\n",
       "      <td>0.001138</td>\n",
       "    </tr>\n",
       "  </tbody>\n",
       "</table>\n",
       "</div>"
      ],
      "text/plain": [
       "                 Date/Time      Lat      Lon    Base  Closest_Station  \\\n",
       "564511  4/30/2014 23:22:00  40.7640 -73.9744  B02764   5TH AV-53RD ST   \n",
       "564512  4/30/2014 23:26:00  40.7629 -73.9672  B02764     LEXINGTON AV   \n",
       "564513  4/30/2014 23:31:00  40.7443 -73.9889  B02764          28TH ST   \n",
       "564514  4/30/2014 23:32:00  40.6756 -73.9405  B02764  KINGSTON-THROOP   \n",
       "564515  4/30/2014 23:48:00  40.6880 -73.9608  B02764       CLASSON AV   \n",
       "\n",
       "        Closest_Distance  \n",
       "564511          0.003921  \n",
       "564512          0.002042  \n",
       "564513          0.004796  \n",
       "564514          0.004336  \n",
       "564515          0.001138  "
      ]
     },
     "execution_count": 4,
     "metadata": {},
     "output_type": "execute_result"
    }
   ],
   "source": [
    "pickups.tail()"
   ]
  },
  {
   "cell_type": "code",
   "execution_count": 164,
   "metadata": {
    "collapsed": false
   },
   "outputs": [],
   "source": [
    "times_ube = {}\n",
    "for station, times in times_sta.iteritems():\n",
    "    if station not in times_ube:\n",
    "        times_ube[station] = times_sta[station]"
   ]
  },
  {
   "cell_type": "code",
   "execution_count": 165,
   "metadata": {
    "collapsed": false
   },
   "outputs": [],
   "source": [
    "pickups['Date/Time'] = map(psr.parse,pickups['Date/Time']) #turn date/time string into datetime objects"
   ]
  },
  {
   "cell_type": "code",
   "execution_count": 166,
   "metadata": {
    "collapsed": false
   },
   "outputs": [],
   "source": [
    "counts_ube = {}\n",
    "for station in times_ube:\n",
    "    station_pickups = pickups[pickups.Closest_Station == station].sort_values(['Date/Time'])\n",
    "    counts_ube[station] = []\n",
    "    for t in range(len(times_ube[station])):\n",
    "        if len(station_pickups) == 0:\n",
    "            pickupcount = 0\n",
    "        elif t == 0:\n",
    "            t2 = times_ube[station][t]\n",
    "            pickuplist = station_pickups[(station_pickups['Date/Time'] < t2)]\n",
    "            pickupcount = len(pickuplist)\n",
    "        else:\n",
    "            t1 = times_ube[station][t-1]\n",
    "            t2 = times_ube[station][t]\n",
    "            pickuplist = station_pickups[(station_pickups['Date/Time'] > t1) & (station_pickups['Date/Time'] < t2)]\n",
    "            pickupcount = len(pickuplist)\n",
    "        counts_ube[station].append(pickupcount)"
   ]
  },
  {
   "cell_type": "markdown",
   "metadata": {},
   "source": [
    "There are many stations where there are no pickups by uber in the dataset. Let's get rid of those stations in all our series..."
   ]
  },
  {
   "cell_type": "code",
   "execution_count": 169,
   "metadata": {
    "collapsed": false
   },
   "outputs": [],
   "source": [
    "for station in keylist:\n",
    "    if all(counts == 0 for counts in counts_ube[station]):\n",
    "        del times_ube[station]\n",
    "        del counts_ube[station]\n",
    "        del times_sta[station]\n",
    "        del counts_sta[station]"
   ]
  },
  {
   "cell_type": "code",
   "execution_count": 193,
   "metadata": {
    "collapsed": false
   },
   "outputs": [],
   "source": [
    "#remake the list of stations\n",
    "stationslist = list(times_sta.keys())"
   ]
  },
  {
   "cell_type": "markdown",
   "metadata": {},
   "source": [
    "Now we can finally build the dataset as a dictionary where \n",
    "\n",
    "key = **< station name >**\n",
    "\n",
    "value = pandas dataframe of the form **< time | exits from station | pickups from nearest station >**"
   ]
  },
  {
   "cell_type": "code",
   "execution_count": 194,
   "metadata": {
    "collapsed": false
   },
   "outputs": [],
   "source": [
    "dataset = {}\n",
    "for station in stationslist:\n",
    "    times = times_sta[station][17:]\n",
    "    exits = counts_sta[station][17:]\n",
    "    pickups = counts_ube[station][17:]\n",
    "    dataset[station] = pd.DataFrame({'times' : times, 'exits' : exits, 'pickups':pickups})"
   ]
  },
  {
   "cell_type": "code",
   "execution_count": 195,
   "metadata": {
    "collapsed": true
   },
   "outputs": [],
   "source": [
    "# Saving the dataset and a list of stations:\n",
    "with open('FinalTimeSeriesDataset.pickle', 'w') as file:\n",
    "    pickle.dump([dataset, stationslist], file)"
   ]
  }
 ],
 "metadata": {
  "anaconda-cloud": {},
  "kernelspec": {
   "display_name": "Python [conda root]",
   "language": "python",
   "name": "conda-root-py"
  },
  "language_info": {
   "codemirror_mode": {
    "name": "ipython",
    "version": 2
   },
   "file_extension": ".py",
   "mimetype": "text/x-python",
   "name": "python",
   "nbconvert_exporter": "python",
   "pygments_lexer": "ipython2",
   "version": "2.7.12"
  }
 },
 "nbformat": 4,
 "nbformat_minor": 0
}
