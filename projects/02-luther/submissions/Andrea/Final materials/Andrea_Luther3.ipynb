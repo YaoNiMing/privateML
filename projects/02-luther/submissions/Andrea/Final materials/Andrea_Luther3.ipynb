{
 "cells": [
  {
   "cell_type": "code",
   "execution_count": 8,
   "metadata": {
    "collapsed": true
   },
   "outputs": [],
   "source": [
    "#Import necessary things\n",
    "import pandas as pd\n",
    "import numpy as np\n",
    "import matplotlib.pyplot as plt\n",
    "\n",
    "%matplotlib inline\n",
    "\n",
    "from bs4 import BeautifulSoup"
   ]
  },
  {
   "cell_type": "code",
   "execution_count": 20,
   "metadata": {
    "collapsed": false
   },
   "outputs": [],
   "source": [
    "#Request data from Box Office Mojo and save the files\n",
    "import requests\n",
    "\n",
    "for i in range(1,145):\n",
    "    url = \"http://www.boxofficemojo.com/alltime/domestic.htm?page=\" + str(i) + \"&p=.htm\"\n",
    "    response = requests.get(url)\n",
    "    filename = \"html/page\" + str(i) + \".html\"\n",
    "\n",
    "    #Now save that file\n",
    "    with open(filename, 'w') as f:\n",
    "        f.write(response.text.encode('utf-8'))        "
   ]
  },
  {
   "cell_type": "code",
   "execution_count": 55,
   "metadata": {
    "collapsed": false
   },
   "outputs": [],
   "source": [
    "#Loop through all 144 pages of movies and create two lists\n",
    "#One list capture title, studio, gross, and year\n",
    "#The other captures URL\n",
    "\n",
    "import os  \n",
    "mojo_info = []\n",
    "all_urls = []\n",
    "for file in os.listdir('html/'):\n",
    "\n",
    "    soup = BeautifulSoup(open(os.path.join('./html/',file)).read(), 'lxml')\n",
    "    table = soup.find(lambda tag: tag.name=='table' and tag.has_attr('cellpadding') and tag['cellpadding']==\"5\") \n",
    "\n",
    "    movie_info = []\n",
    "    url = []\n",
    "    header = ['number', 'title', 'studio', 'gross', 'year']\n",
    "\n",
    "    for row in table.findAll('tr'):\n",
    "        url.append(row.find('a')['href'])\n",
    "        row_dict = {}\n",
    "        for i, cell in enumerate(row.findAll('td')):\n",
    "            row_dict[header[i]] = cell.findAll(text = True)\n",
    "        movie_info.append(row_dict)\n",
    "    \n",
    "    #Strip out the first dictionary in movie_info and url because they just contain the table headers\n",
    "    url = url[1:]\n",
    "    movie_info = movie_info[1:]\n",
    "    \n",
    "    mojo_info += movie_info\n",
    "    all_urls += url"
   ]
  },
  {
   "cell_type": "code",
   "execution_count": 64,
   "metadata": {
    "collapsed": false
   },
   "outputs": [],
   "source": [
    "#Put URL info into the dictionaries for each movie\n",
    "for i in range(len(mojo_info)):\n",
    "    mojo_info[i]['url'] = all_urls[i]   "
   ]
  },
  {
   "cell_type": "code",
   "execution_count": 66,
   "metadata": {
    "collapsed": false
   },
   "outputs": [
    {
     "name": "stdout",
     "output_type": "stream",
     "text": [
      "[{'gross': [u'$936,662,225'], 'title': [u'Star Wars: The Force Awakens'], 'url': '/movies/?id=starwars7.htm', 'number': [u'1'], 'studio': [u'BV'], 'year': [u'2015']}, {'gross': [u'$760,507,625'], 'title': [u'Avatar'], 'url': '/movies/?page=releases&id=avatar.htm', 'number': [u'2'], 'studio': [u'Fox'], 'year': [u'2009^']}, {'gross': [u'$658,672,302'], 'title': [u'Titanic'], 'url': '/movies/?page=releases&id=titanic.htm', 'number': [u'3'], 'studio': [u'Par.'], 'year': [u'1997^']}, {'gross': [u'$652,270,625'], 'title': [u'Jurassic World'], 'url': '/movies/?id=jurassicpark4.htm', 'number': [u'4'], 'studio': [u'Uni.'], 'year': [u'2015']}, {'gross': [u'$623,357,910'], 'title': [u\"Marvel's The Avengers\"], 'url': '/movies/?id=avengers11.htm', 'number': [u'5'], 'studio': [u'BV'], 'year': [u'2012']}]\n"
     ]
    }
   ],
   "source": [
    "print mojo_info[0:5]"
   ]
  },
  {
   "cell_type": "code",
   "execution_count": 70,
   "metadata": {
    "collapsed": false
   },
   "outputs": [
    {
     "data": {
      "text/plain": [
       "'/movies/?id=starwars7.htm'"
      ]
     },
     "execution_count": 70,
     "metadata": {},
     "output_type": "execute_result"
    }
   ],
   "source": [
    "mojo_info[0]['url']"
   ]
  },
  {
   "cell_type": "code",
   "execution_count": 73,
   "metadata": {
    "collapsed": false
   },
   "outputs": [],
   "source": [
    "#Create lists to hold the info I want to keep (might as well keep all but 'number')\n",
    "title = []\n",
    "studio = []\n",
    "gross = []\n",
    "year = []\n",
    "url = []\n",
    "\n",
    "#Put data into these lists:\n",
    "for i in mojo_info:\n",
    "    title.append(i['title'][0])\n",
    "    studio.append(i['studio'][0])\n",
    "    gross.append(i['gross'][0])\n",
    "    year.append(i['year'][0])\n",
    "    url.append(i['url'])"
   ]
  },
  {
   "cell_type": "code",
   "execution_count": 95,
   "metadata": {
    "collapsed": false
   },
   "outputs": [
    {
     "name": "stdout",
     "output_type": "stream",
     "text": [
      "14385\n",
      "[u'2015', u'2009', u'1997', u'2015', u'2012', u'2008', u'2016', u'1999', u'1977', u'2015', u'2012', u'2004', u'1982', u'2013', u'2006', u'1994', u'2010', u'2013', u'2016', u'2012']\n"
     ]
    }
   ],
   "source": [
    "# Now use regex to get years correct\n",
    "\n",
    "#But first, found some movies missing the year, looked up on IMDB, and was able to replace\n",
    "#Where I replaced year with 0000, it wasn't actually a movie, and I will want to go through and remove from the dataframe\n",
    "year[9738] = '1988'\n",
    "year[10150] = '1984'\n",
    "year[11879] = '1996'\n",
    "year[11889] = '0000'\n",
    "year[12019] = '1999'\n",
    "year[12064] = '0000'\n",
    "year[14353] = '1973'\n",
    "\n",
    "import re\n",
    "year_regex = []\n",
    "for i in year:\n",
    "    string = re.search( r'\\d\\d\\d\\d', i)\n",
    "    year_regex.append(string.group(0))\n",
    "\n",
    "year = year_regex"
   ]
  },
  {
   "cell_type": "code",
   "execution_count": 98,
   "metadata": {
    "collapsed": false
   },
   "outputs": [
    {
     "name": "stdout",
     "output_type": "stream",
     "text": [
      "<class 'pandas.core.frame.DataFrame'>\n",
      "RangeIndex: 14385 entries, 0 to 14384\n",
      "Data columns (total 5 columns):\n",
      "title     14385 non-null object\n",
      "year      14385 non-null object\n",
      "url       14385 non-null object\n",
      "studio    14385 non-null object\n",
      "gross     14385 non-null object\n",
      "dtypes: object(5)\n",
      "memory usage: 562.0+ KB\n",
      "None\n"
     ]
    },
    {
     "data": {
      "text/html": [
       "<div>\n",
       "<table border=\"1\" class=\"dataframe\">\n",
       "  <thead>\n",
       "    <tr style=\"text-align: right;\">\n",
       "      <th></th>\n",
       "      <th>title</th>\n",
       "      <th>year</th>\n",
       "      <th>url</th>\n",
       "      <th>studio</th>\n",
       "      <th>gross</th>\n",
       "    </tr>\n",
       "  </thead>\n",
       "  <tbody>\n",
       "    <tr>\n",
       "      <th>0</th>\n",
       "      <td>Star Wars: The Force Awakens</td>\n",
       "      <td>2015</td>\n",
       "      <td>/movies/?id=starwars7.htm</td>\n",
       "      <td>BV</td>\n",
       "      <td>$936,662,225</td>\n",
       "    </tr>\n",
       "    <tr>\n",
       "      <th>1</th>\n",
       "      <td>Avatar</td>\n",
       "      <td>2009</td>\n",
       "      <td>/movies/?page=releases&amp;id=avatar.htm</td>\n",
       "      <td>Fox</td>\n",
       "      <td>$760,507,625</td>\n",
       "    </tr>\n",
       "    <tr>\n",
       "      <th>2</th>\n",
       "      <td>Titanic</td>\n",
       "      <td>1997</td>\n",
       "      <td>/movies/?page=releases&amp;id=titanic.htm</td>\n",
       "      <td>Par.</td>\n",
       "      <td>$658,672,302</td>\n",
       "    </tr>\n",
       "    <tr>\n",
       "      <th>3</th>\n",
       "      <td>Jurassic World</td>\n",
       "      <td>2015</td>\n",
       "      <td>/movies/?id=jurassicpark4.htm</td>\n",
       "      <td>Uni.</td>\n",
       "      <td>$652,270,625</td>\n",
       "    </tr>\n",
       "    <tr>\n",
       "      <th>4</th>\n",
       "      <td>Marvel's The Avengers</td>\n",
       "      <td>2012</td>\n",
       "      <td>/movies/?id=avengers11.htm</td>\n",
       "      <td>BV</td>\n",
       "      <td>$623,357,910</td>\n",
       "    </tr>\n",
       "    <tr>\n",
       "      <th>5</th>\n",
       "      <td>The Dark Knight</td>\n",
       "      <td>2008</td>\n",
       "      <td>/movies/?page=releases&amp;id=darkknight.htm</td>\n",
       "      <td>WB</td>\n",
       "      <td>$534,858,444</td>\n",
       "    </tr>\n",
       "    <tr>\n",
       "      <th>6</th>\n",
       "      <td>Finding Dory</td>\n",
       "      <td>2016</td>\n",
       "      <td>/movies/?id=pixar2015.htm</td>\n",
       "      <td>BV</td>\n",
       "      <td>$484,234,949</td>\n",
       "    </tr>\n",
       "    <tr>\n",
       "      <th>7</th>\n",
       "      <td>Star Wars: Episode I - The Phantom Menace</td>\n",
       "      <td>1999</td>\n",
       "      <td>/movies/?page=releases&amp;id=starwars.htm</td>\n",
       "      <td>Fox</td>\n",
       "      <td>$474,544,677</td>\n",
       "    </tr>\n",
       "    <tr>\n",
       "      <th>8</th>\n",
       "      <td>Star Wars</td>\n",
       "      <td>1977</td>\n",
       "      <td>/movies/?page=releases&amp;id=starwars4.htm</td>\n",
       "      <td>Fox</td>\n",
       "      <td>$460,998,007</td>\n",
       "    </tr>\n",
       "    <tr>\n",
       "      <th>9</th>\n",
       "      <td>Avengers: Age of Ultron</td>\n",
       "      <td>2015</td>\n",
       "      <td>/movies/?id=avengers2.htm</td>\n",
       "      <td>BV</td>\n",
       "      <td>$459,005,868</td>\n",
       "    </tr>\n",
       "  </tbody>\n",
       "</table>\n",
       "</div>"
      ],
      "text/plain": [
       "                                       title  year  \\\n",
       "0               Star Wars: The Force Awakens  2015   \n",
       "1                                     Avatar  2009   \n",
       "2                                    Titanic  1997   \n",
       "3                             Jurassic World  2015   \n",
       "4                      Marvel's The Avengers  2012   \n",
       "5                            The Dark Knight  2008   \n",
       "6                               Finding Dory  2016   \n",
       "7  Star Wars: Episode I - The Phantom Menace  1999   \n",
       "8                                  Star Wars  1977   \n",
       "9                    Avengers: Age of Ultron  2015   \n",
       "\n",
       "                                        url studio         gross  \n",
       "0                 /movies/?id=starwars7.htm     BV  $936,662,225  \n",
       "1      /movies/?page=releases&id=avatar.htm    Fox  $760,507,625  \n",
       "2     /movies/?page=releases&id=titanic.htm   Par.  $658,672,302  \n",
       "3             /movies/?id=jurassicpark4.htm   Uni.  $652,270,625  \n",
       "4                /movies/?id=avengers11.htm     BV  $623,357,910  \n",
       "5  /movies/?page=releases&id=darkknight.htm     WB  $534,858,444  \n",
       "6                 /movies/?id=pixar2015.htm     BV  $484,234,949  \n",
       "7    /movies/?page=releases&id=starwars.htm    Fox  $474,544,677  \n",
       "8   /movies/?page=releases&id=starwars4.htm    Fox  $460,998,007  \n",
       "9                 /movies/?id=avengers2.htm     BV  $459,005,868  "
      ]
     },
     "execution_count": 98,
     "metadata": {},
     "output_type": "execute_result"
    }
   ],
   "source": [
    "# Create a dataframe from these lists\n",
    "mojo_df = pd.DataFrame()\n",
    "mojo_df['title'] = title\n",
    "mojo_df['year'] = year\n",
    "mojo_df['url'] = url\n",
    "mojo_df['studio'] = studio\n",
    "mojo_df['gross'] = gross\n",
    "\n",
    "print mojo_df.info()\n",
    "mojo_df.head(10)"
   ]
  },
  {
   "cell_type": "code",
   "execution_count": 100,
   "metadata": {
    "collapsed": true
   },
   "outputs": [],
   "source": [
    "#Save my results to a CSV file locally\n",
    "mojo_df.to_csv('mojo_list.csv', encoding='utf-8')"
   ]
  }
 ],
 "metadata": {
  "anaconda-cloud": {},
  "kernelspec": {
   "display_name": "Python [Root]",
   "language": "python",
   "name": "Python [Root]"
  },
  "language_info": {
   "codemirror_mode": {
    "name": "ipython",
    "version": 2
   },
   "file_extension": ".py",
   "mimetype": "text/x-python",
   "name": "python",
   "nbconvert_exporter": "python",
   "pygments_lexer": "ipython2",
   "version": "2.7.12"
  }
 },
 "nbformat": 4,
 "nbformat_minor": 0
}
