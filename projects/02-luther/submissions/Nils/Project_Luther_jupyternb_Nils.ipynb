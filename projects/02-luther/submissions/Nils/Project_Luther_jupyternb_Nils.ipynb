{
 "cells": [
  {
   "cell_type": "markdown",
   "metadata": {},
   "source": [
    "# Project Luther"
   ]
  },
  {
   "cell_type": "markdown",
   "metadata": {},
   "source": [
    "## 0. Proposal\n",
    "\n",
    "Build a model that advices studios what to spend their money on when producing a movie by setting up a regression with target Return on investment (=Total Gross/Budget) and the following features:\n",
    "\n",
    "- Additional Capital (Buget)\n",
    "- Genre (Action vs. Comedy vs. Drama vs. Animation vs. Documentary)\n",
    "- 3D technology\n",
    "- Reputation of Actors (via imbd)\n",
    "- Reputation of Director (via imbd)\n",
    "- Reputation of Screenwriter (via imbd)\n",
    "\n",
    "Then evaluate the effect of each feature towards return on investment.\n",
    "\n",
    "MVP only includes the first feature answering the question whether it is worthwhile getting more money to increase return on investment."
   ]
  },
  {
   "cell_type": "markdown",
   "metadata": {},
   "source": [
    "## 1. Scrap the web"
   ]
  },
  {
   "cell_type": "markdown",
   "metadata": {},
   "source": [
    "### 1.1 Get Movie data from boxoffice mojo"
   ]
  },
  {
   "cell_type": "code",
   "execution_count": 1,
   "metadata": {
    "collapsed": false
   },
   "outputs": [
    {
     "name": "stderr",
     "output_type": "stream",
     "text": [
      "/Users/Nils/anaconda/lib/python2.7/site-packages/sklearn/cross_validation.py:44: DeprecationWarning: This module was deprecated in version 0.18 in favor of the model_selection module into which all the refactored classes and functions are moved. Also note that the interface of the new CV iterators are different from that of this module. This module will be removed in 0.20.\n",
      "  \"This module will be removed in 0.20.\", DeprecationWarning)\n"
     ]
    }
   ],
   "source": [
    "## **\n",
    "\n",
    "import numpy as np\n",
    "import pandas as pd\n",
    "import requests\n",
    "from bs4 import BeautifulSoup\n",
    "import time\n",
    "import re\n",
    "import dateutil.parser\n",
    "import datetime\n",
    "import statsmodels.api as sm\n",
    "import statsmodels.formula.api as smf\n",
    "import seaborn as sns\n",
    "from sklearn.linear_model import LinearRegression\n",
    "from sklearn.cross_validation import train_test_split\n",
    "from sklearn.linear_model import RidgeCV\n",
    "import pickle\n",
    "import matplotlib.pyplot as plt\n",
    "from sklearn.externals import joblib\n",
    "from sklearn.preprocessing import PolynomialFeatures\n",
    "from sklearn.pipeline import make_pipeline\n",
    "\n",
    "from sklearn.linear_model import LinearRegression\n",
    "from sklearn.cross_validation import train_test_split\n",
    "from sklearn.linear_model import RidgeCV\n",
    "\n",
    "import statsmodels.api as sm\n",
    "import statsmodels.formula.api as smf\n",
    "\n",
    "from sklearn import preprocessing\n",
    "from sklearn.cross_validation import train_test_split\n",
    "from sklearn.decomposition import PCA\n",
    "from sklearn.feature_selection import f_regression, mutual_info_regression\n",
    "from sklearn.feature_selection import mutual_info_regression\n",
    "from sklearn.ensemble import RandomForestRegressor\n",
    "\n",
    "%matplotlib inline\n",
    "\n",
    "import sys\n",
    "reload(sys)\n",
    "sys.setdefaultencoding('utf-8')"
   ]
  },
  {
   "cell_type": "code",
   "execution_count": 2,
   "metadata": {
    "collapsed": true
   },
   "outputs": [],
   "source": [
    "# Adding Headers to Requests (To pretend you are not a bot) **\n",
    "headers = {'User-Agent':'Mozilla/5.0 (Macintosh; Intel Mac OS X 10_8_5)'}"
   ]
  },
  {
   "cell_type": "markdown",
   "metadata": {},
   "source": [
    "#### 1.1.1 Get all pages of the worldwide gross numbers"
   ]
  },
  {
   "cell_type": "code",
   "execution_count": 35,
   "metadata": {
    "collapsed": false
   },
   "outputs": [],
   "source": [
    "# First get all pages of the worldwide gross numbers starting at #1-#100 and save them to later read the links the movies\n",
    "\n",
    "page_nums = range(1,100)\n",
    "\n",
    "for p in page_nums:\n",
    "    time.sleep(np.random.random())\n",
    "    url = \"http://www.boxofficemojo.com/alltime/domestic.htm?page=%s&p=.htm\" %(p)\n",
    "    resp = requests.get(url, headers=headers)\n",
    "    if resp.ok:\n",
    "        soup = BeautifulSoup(resp.text, 'lxml')       \n",
    "    with open(\"html/page_nr_%s.html\" %(p), 'wb') as f:\n",
    "        f.write(resp.text)"
   ]
  },
  {
   "cell_type": "markdown",
   "metadata": {},
   "source": [
    "#### 1.1.2 Go through all pages and save all movies"
   ]
  },
  {
   "cell_type": "code",
   "execution_count": 36,
   "metadata": {
    "collapsed": false
   },
   "outputs": [],
   "source": [
    "# For loop to go through pages\n",
    "\n",
    "movie_list=[]\n",
    "\n",
    "for p in page_nums:\n",
    "    soup = BeautifulSoup(open(\"html/page_nr_%s.html\" %(p)).read())\n",
    "\n",
    "# For loop to go through movies on each page (to come)\n",
    "\n",
    "    for link in soup.find(id='body').find_all('a'):\n",
    "        if \"movies\" in (link['href']):\n",
    "            time.sleep(np.random.random())\n",
    "            try:\n",
    "                cur_mov=(link['href'][(link['href']).index(\"id=\")+3:])\n",
    "                url = \"http://www.boxofficemojo.com/movies/?page=main&id=%s&adjust_yr=2016&p=.htm\" %(cur_mov)\n",
    "                resp = requests.get(url, headers=headers)\n",
    "                if resp.ok:\n",
    "                    soup = BeautifulSoup(resp.text, 'lxml')\n",
    "                with open(\"html/%sl\" %(cur_mov), 'wb') as f:\n",
    "                    f.write(resp.text)\n",
    "                movie_list.append(cur_mov)\n",
    "            except:\n",
    "                pass"
   ]
  },
  {
   "cell_type": "code",
   "execution_count": 37,
   "metadata": {
    "collapsed": false
   },
   "outputs": [],
   "source": [
    "# Save movie_list to pickle file\n",
    "\n",
    "#with open('html/movie_list.pkl', 'wb') as picklefile:\n",
    " #   pickle.dump(movie_list, picklefile)"
   ]
  },
  {
   "cell_type": "code",
   "execution_count": 3,
   "metadata": {
    "collapsed": false
   },
   "outputs": [],
   "source": [
    "# **\n",
    "\n",
    "with open(\"html/movie_list.pkl\", 'rb') as picklefile: \n",
    "    movie_list = pickle.load(picklefile)"
   ]
  },
  {
   "cell_type": "markdown",
   "metadata": {
    "collapsed": true
   },
   "source": [
    "#### 1.1.3 Read data in from all movies"
   ]
  },
  {
   "cell_type": "code",
   "execution_count": 4,
   "metadata": {
    "collapsed": true
   },
   "outputs": [],
   "source": [
    "# Function to get data from movie pages (from lecture)\n",
    "\n",
    "def get_movie_value(soup, field_name):\n",
    "    '''Grab a value from boxofficemojo HTML\n",
    "    \n",
    "    Takes a string attribute of a movie on the page and\n",
    "    returns the string in the next sibling object\n",
    "    (the value for that attribute)\n",
    "    or None if nothing is found.\n",
    "    '''\n",
    "    obj = soup.find(text=re.compile(field_name))\n",
    "    if not obj: \n",
    "        return None\n",
    "    # this works for most of the values\n",
    "    next_sibling = obj.findNextSibling()\n",
    "    if next_sibling:\n",
    "        return next_sibling.text \n",
    "    else:\n",
    "        return None"
   ]
  },
  {
   "cell_type": "code",
   "execution_count": 5,
   "metadata": {
    "collapsed": false
   },
   "outputs": [],
   "source": [
    "# Helper functions to get data from movie pages\n",
    "\n",
    "def to_date(datestring):\n",
    "    date = dateutil.parser.parse(datestring)\n",
    "    return date\n",
    "\n",
    "def money_to_float(moneystring):\n",
    "    moneystring = moneystring.replace('$', '').replace(',', '')\n",
    "    return float(moneystring)\n",
    "\n",
    "def runtime_to_minutes(runtimestring):\n",
    "    runtime = runtimestring.split()\n",
    "    try:\n",
    "        minutes = int(runtime[0])*60 + int(runtime[2])\n",
    "        return minutes\n",
    "    except:\n",
    "        return None\n",
    "    \n",
    "def budget_to_float(budgetstring):\n",
    "    try:\n",
    "        budget = float(budgetstring[budgetstring.index(\"$\")+1:budgetstring.index(\"million\")])\n",
    "        return budget * 1000000\n",
    "    except:\n",
    "        return None"
   ]
  },
  {
   "cell_type": "code",
   "execution_count": 6,
   "metadata": {
    "collapsed": true
   },
   "outputs": [],
   "source": [
    "# Helper function to include and cluster genre\n",
    "\n",
    "genre_list = ['Sci-Fi', 'Romance', 'Action', 'Adventure', 'Documentary', 'Animation', 'Comedy', 'Drama', \n",
    "              'Fantasy', 'Foreign']\n",
    "\n",
    "\n",
    "def allocate_genre(genre):\n",
    "    genre_scifi = 0\n",
    "    genre_rom = 0\n",
    "    genre_act = 0\n",
    "    genre_doc = 0\n",
    "    genre_anim = 0\n",
    "    genre_com = 0\n",
    "    genre_for = 0\n",
    "    \n",
    "    if genre_list[0] in genre or genre_list[8] in genre:\n",
    "        genre_scifi = 1\n",
    "    if genre_list[1] in genre or genre_list[7] in genre:\n",
    "        genre_rom = 1\n",
    "    if genre_list[2] in genre or genre_list[3] in genre:\n",
    "        genre_act = 1\n",
    "    if genre_list[4] in genre:\n",
    "        genre_doc = 1\n",
    "    if genre_list[5] in genre:\n",
    "        genre_anim = 1\n",
    "    if genre_list[6] in genre:\n",
    "        genre_com = 1\n",
    "    if genre_list[9] in genre:\n",
    "        genre_for = 1\n",
    "        \n",
    "    return (genre_scifi, genre_rom, genre_act, genre_doc, genre_anim, genre_com, genre_for)"
   ]
  },
  {
   "cell_type": "code",
   "execution_count": 7,
   "metadata": {
    "collapsed": true
   },
   "outputs": [],
   "source": [
    "# Helper function to include and cluster rating\n",
    "\n",
    "def allocate_rating(rating):\n",
    "    rat_G = 0\n",
    "    rat_PG = 0\n",
    "    rat_PG_13 = 0\n",
    "    rat_R = 0\n",
    "    rat_NC_17 = 0\n",
    "    \n",
    "    if rating == \"G\":\n",
    "        rat_G=1\n",
    "    if rating == \"PG\":\n",
    "        rat_PG=1\n",
    "    if rating == \"PG-13\":\n",
    "        rat_PG_13=1\n",
    "    if rating == \"R\":\n",
    "        rat_R=1\n",
    "    if rating == \"NC-17\":\n",
    "        rat_NC_17=1\n",
    "        \n",
    "    return (rat_G, rat_PG, rat_PG_13, rat_R, rat_NC_17)"
   ]
  },
  {
   "cell_type": "code",
   "execution_count": 8,
   "metadata": {
    "collapsed": false
   },
   "outputs": [],
   "source": [
    "# Helper function to read in actors\n",
    "\n",
    "def actor_str(list_box_contents):\n",
    "    actor_str= list_box_contents[2].find_all('tr')[2].find_all('td')[1].find_all('a')[0].text\n",
    "    for i in xrange(9):\n",
    "        try:\n",
    "            actor_str=actor_str + \",\" + list_box_contents[2].find_all('tr')[2].find_all('td')[1].find_all('a')[i+1].text\n",
    "        except:\n",
    "            continue\n",
    "    return str(actor_str)"
   ]
  },
  {
   "cell_type": "code",
   "execution_count": 246,
   "metadata": {
    "collapsed": false
   },
   "outputs": [],
   "source": [
    "# Initiate list for movie data dictionaries\n",
    "\n",
    "movie_data = []\n",
    "#movie_list2 = ['startrek11.htm']\n",
    "\n",
    "# For loop to go through movies\n",
    "\n",
    "for movie in movie_list:\n",
    "\n",
    "    soup = BeautifulSoup(open(\"html/%sl\" %(movie)).read())\n",
    "    \n",
    "    # Let's get data points again and format them all in one swoop (from lecture)\n",
    "\n",
    "    # Top table\n",
    "    \n",
    "    try:\n",
    "        title_string = soup.find('title').text\n",
    "        title = title_string.split('(')[0].strip()\n",
    "    except:\n",
    "        title = np.nan\n",
    "\n",
    "    try:\n",
    "        raw_release_date = get_movie_value(soup,'Release Date')\n",
    "        release_date = to_date(raw_release_date)\n",
    "    except:\n",
    "        release_date =\"N/A\"\n",
    "    \n",
    "    try:\n",
    "        raw_runtime = get_movie_value(soup,'Runtime')\n",
    "        runtime = runtime_to_minutes(raw_runtime)\n",
    "    except:\n",
    "        runtime = np.nan\n",
    "    \n",
    "    try:\n",
    "        raw_domestic_total_gross_adj = get_movie_value(soup,'Domestic Total')\n",
    "        domestic_total_gross_adj = money_to_float(raw_domestic_total_gross_adj)\n",
    "    except:\n",
    "        domestic_total_gross_adj = np.nan\n",
    "    \n",
    "    try:\n",
    "        budget_raw = get_movie_value(soup,'Production Budget')\n",
    "        budget = budget_to_float(budget_raw)\n",
    "    except:\n",
    "        budget = np.nan\n",
    "        \n",
    "    # rating columns\n",
    "    \n",
    "    try:\n",
    "        rating = get_movie_value(soup,'MPAA Rating')\n",
    "        rat_G = allocate_rating(rating)[0]\n",
    "        rat_PG = allocate_rating(rating)[1]\n",
    "        rat_PG_13 = allocate_rating(rating)[2]\n",
    "        rat_R = allocate_rating(rating)[3]\n",
    "        rat_NC_17 = allocate_rating(rating)[4]\n",
    "    except:\n",
    "        rating = \"N/A\"\n",
    "        rat_G = np.nan\n",
    "        rat_PG = np.nan\n",
    "        rat_PG_13 = np.nan\n",
    "        rat_R = np.nan\n",
    "        rat_NC_17 = np.nan\n",
    "    \n",
    "    # genre columns\n",
    "    \n",
    "    try:\n",
    "        text_genre = get_movie_value(soup,'Genre:')\n",
    "        genre_tup = allocate_genre(text_genre)\n",
    "        genre_scifi = genre_tup[0]\n",
    "        genre_rom = genre_tup[1]\n",
    "        genre_act = genre_tup[2]\n",
    "        genre_doc = genre_tup[3]\n",
    "        genre_anim = genre_tup[4]\n",
    "        genre_com = genre_tup[5]\n",
    "        genre_for = genre_tup[6]\n",
    "    except:\n",
    "        text_genre = np.nan\n",
    "        genre_scifi = np.nan\n",
    "        genre_rom = np.nan\n",
    "        genre_act = np.nan\n",
    "        genre_doc = np.nan\n",
    "        genre_anim = np.nan\n",
    "        genre_com = np.nan\n",
    "        genre_for = np.nan\n",
    "    \n",
    "    # first content box\n",
    "    \n",
    "    try:\n",
    "        list_box_contents = soup.find_all('div', attrs={'class':'mp_box_content'})\n",
    "    except:\n",
    "        list_box_contents = \"N/A\"\n",
    "    \n",
    "    try:\n",
    "        domestic_total_gross_unadj = float(list_box_contents[0].find_all('td')[1].text.replace('$','').replace(',',''))\n",
    "    except:\n",
    "        domestic_total_gross_unadj=np.nan\n",
    "    \n",
    "    try:\n",
    "        foreign_total_gross_unadj = float(list_box_contents[0].find_all('td')[4].text.replace('$','').replace(',',''))\n",
    "    except:\n",
    "        foreign_total_gross_unadj = np.nan\n",
    "    \n",
    "    # third content box (people)\n",
    "    \n",
    "    try:\n",
    "        director = list_box_contents[2].find_all('td')[1].text\n",
    "    except:\n",
    "        director = \"N/A\"\n",
    "        \n",
    "    try:\n",
    "        actors = actor_str(list_box_contents)\n",
    "    except:\n",
    "        actors = \"N/A\"\n",
    "        \n",
    "    \n",
    "    # fifth content box to check on 3D \n",
    "    \n",
    "    try:\n",
    "        feat_3d = int(\"id=3d\" in list_box_contents[4].find_all('td')[0].find('a')['href'])\n",
    "    except:\n",
    "        feat_3d = 0\n",
    "        \n",
    "    \n",
    "    # add movie to movie_dict\n",
    "    \n",
    "    headers_col = ['movie_title', 'domestic_total_gross_adj', 'domestic_total_gross_unadj','foreign_total_gross_unadj', \n",
    "                   'budget_unadj', 'Director', 'Actors', 'Rating', '3D', 'Runtime', 'Release_Date',\n",
    "                   'genre', 'Sci-Fi/ Fantasy', 'Romance/ Drama', 'Action/Adventure', 'Documentary', \n",
    "                   'Animation', 'Comedy', 'ForeignLanguage', 'Rating', 'Rat-G', \"Rat-PG\", \"Rat-PG-13\", \"Rat-R\", \"Rat-NC-17\"]\n",
    "\n",
    "    movie_dict = dict(zip(headers_col, [title,\n",
    "                                    domestic_total_gross_adj,\n",
    "                                    domestic_total_gross_unadj,\n",
    "                                    foreign_total_gross_unadj,\n",
    "                                    budget,\n",
    "                                    director,\n",
    "                                    actors,\n",
    "                                    rating,\n",
    "                                    feat_3d,\n",
    "                                    runtime,\n",
    "                                    release_date,\n",
    "                                    text_genre,\n",
    "                                    genre_scifi,\n",
    "                                    genre_rom,\n",
    "                                    genre_act,\n",
    "                                    genre_doc,\n",
    "                                    genre_anim,\n",
    "                                    genre_com,\n",
    "                                    genre_for,\n",
    "                                    rating,\n",
    "                                    rat_G,\n",
    "                                    rat_PG,\n",
    "                                    rat_PG_13,\n",
    "                                    rat_R,\n",
    "                                    rat_NC_17]))\n",
    "    movie_data.append(movie_dict)\n",
    "    \n",
    "# put into dataframe\n",
    "\n",
    "movie_df = pd.DataFrame(movie_data)"
   ]
  },
  {
   "cell_type": "code",
   "execution_count": 247,
   "metadata": {
    "collapsed": true
   },
   "outputs": [],
   "source": [
    "def to_int(x):\n",
    "    try:\n",
    "        x=int(x)\n",
    "        return x\n",
    "    except:\n",
    "        x=np.nan\n",
    "        return x    "
   ]
  },
  {
   "cell_type": "code",
   "execution_count": 248,
   "metadata": {
    "collapsed": false
   },
   "outputs": [],
   "source": [
    "movie_df[\"runtime\"] = movie_df.Runtime.map(to_int)\n",
    "movie_df = movie_df.drop(\"Runtime\", axis=1)"
   ]
  },
  {
   "cell_type": "code",
   "execution_count": 249,
   "metadata": {
    "collapsed": false
   },
   "outputs": [],
   "source": [
    "# Helper function to determine season\n",
    "\n",
    "Y=2000\n",
    "seasons = [('winter', (datetime.datetime(Y,  1,  1),  datetime.datetime(Y,  2, 28))), \n",
    "           ('spring', (datetime.datetime(Y,  3, 1),  datetime.datetime(Y,  5, 31))),\n",
    "           ('summer', (datetime.datetime(Y,  6, 1),  datetime.datetime(Y,  8, 31))),\n",
    "           ('autumn', (datetime.datetime(Y,  9, 1),  datetime.datetime(Y, 11, 30))),\n",
    "           ('winter', (datetime.datetime(Y, 12, 1),  datetime.datetime(Y, 12, 31)))]\n",
    "\n",
    "def get_season(date):\n",
    "    try:\n",
    "        date_dum = date.replace(year=Y)\n",
    "        return next(season for season, (start, end) in seasons if start <= date_dum <= end)\n",
    "    except:\n",
    "        return \"N/A\""
   ]
  },
  {
   "cell_type": "code",
   "execution_count": 250,
   "metadata": {
    "collapsed": false
   },
   "outputs": [],
   "source": [
    "movie_df[\"Season\"] = movie_df.Release_Date.map(get_season)"
   ]
  },
  {
   "cell_type": "code",
   "execution_count": 251,
   "metadata": {
    "collapsed": false
   },
   "outputs": [],
   "source": [
    "movie_df[\"Winter\"] = movie_df.Season.map(lambda x : int(x == 'winter'))\n",
    "movie_df[\"Spring\"] = movie_df.Season.map(lambda x : int(x == 'spring'))\n",
    "movie_df[\"Summer\"] = movie_df.Season.map(lambda x : int(x == 'summer'))\n",
    "movie_df[\"Autumn\"] = movie_df.Season.map(lambda x : int(x == 'autumn'))"
   ]
  },
  {
   "cell_type": "code",
   "execution_count": 252,
   "metadata": {
    "collapsed": false
   },
   "outputs": [],
   "source": [
    "#Save full movie_df to pickle file\n",
    "\n",
    "with open('html/full_movie_df.pkl', 'wb') as picklefile:\n",
    "    pickle.dump(movie_df, picklefile)"
   ]
  },
  {
   "cell_type": "code",
   "execution_count": 373,
   "metadata": {
    "collapsed": false
   },
   "outputs": [],
   "source": [
    "with open('html/full_movie_df.pkl', 'rb') as picklefile: \n",
    "    movie_df = pickle.load(picklefile)"
   ]
  },
  {
   "cell_type": "code",
   "execution_count": 374,
   "metadata": {
    "collapsed": false
   },
   "outputs": [],
   "source": [
    "# Adjust budget and foreign gross for inflation\n",
    "\n",
    "movie_df[\"budget_adj\"]=movie_df[\"budget_unadj\"]*movie_df[\"domestic_total_gross_adj\"]/movie_df[\"domestic_total_gross_unadj\"]\n",
    "movie_df[\"foreign_total_gross_adj\"]=movie_df[\"foreign_total_gross_unadj\"]*movie_df[\"domestic_total_gross_adj\"]/movie_df[\"domestic_total_gross_unadj\"]\n",
    "\n",
    "movie_df[\"worldwide_total_gross_adj\"] = movie_df[\"foreign_total_gross_adj\"] + movie_df[\"domestic_total_gross_adj\"]"
   ]
  },
  {
   "cell_type": "code",
   "execution_count": 375,
   "metadata": {
    "collapsed": false
   },
   "outputs": [],
   "source": [
    "# add target variable Return on investments\n",
    "\n",
    "movie_df[\"Return_on_investment\"] = (movie_df['worldwide_total_gross_adj']-movie_df[\"budget_adj\"])/movie_df[\"budget_adj\"]"
   ]
  },
  {
   "cell_type": "code",
   "execution_count": 376,
   "metadata": {
    "collapsed": false
   },
   "outputs": [],
   "source": [
    "#drop unneeded columns\n",
    "\n",
    "movie_df=movie_df.drop(['budget_unadj', 'domestic_total_gross_unadj', 'foreign_total_gross_unadj', \n",
    "                        'foreign_total_gross_adj', 'domestic_total_gross_adj', 'Season'], axis = 1)"
   ]
  },
  {
   "cell_type": "code",
   "execution_count": 377,
   "metadata": {
    "collapsed": false
   },
   "outputs": [],
   "source": [
    "#Save movie_df to pickle file\n",
    "\n",
    "with open('html/movie_df2.pkl', 'wb') as picklefile:\n",
    "    pickle.dump(movie_df, picklefile)"
   ]
  },
  {
   "cell_type": "code",
   "execution_count": 36,
   "metadata": {
    "collapsed": true
   },
   "outputs": [],
   "source": [
    "#with open('html/full_movie_df.pkl', 'rb') as picklefile: \n",
    " #   my_old_movie_df = pickle.load(picklefile)"
   ]
  },
  {
   "cell_type": "markdown",
   "metadata": {},
   "source": [
    "### 1.2. Get reputation data from imdb"
   ]
  },
  {
   "cell_type": "markdown",
   "metadata": {},
   "source": [
    "#### 1.2.1. Get Director's reputation from imdb"
   ]
  },
  {
   "cell_type": "code",
   "execution_count": 59,
   "metadata": {
    "collapsed": false
   },
   "outputs": [],
   "source": [
    "# Save the list as html\n",
    "\n",
    "url = \"http://www.imdb.com/list/ls008344500/?start=1&view=compact&sort=listorian:asc&scb=0.8729624355591994\"\n",
    "\n",
    "resp = requests.get(url, headers=headers)\n",
    "if resp.ok:\n",
    "    soup = BeautifulSoup(resp.text, 'lxml')       \n",
    "with open(\"html/directors.html\", 'wb') as f:\n",
    "    f.write(resp.text)"
   ]
  },
  {
   "cell_type": "code",
   "execution_count": 79,
   "metadata": {
    "collapsed": false
   },
   "outputs": [],
   "source": [
    "# Get the information out of the list and cluster them in steps of 25 into a dictionary\n",
    "\n",
    "soup = BeautifulSoup(open(\"html/directors.html\").read())\n",
    "\n",
    "dir_dict_rep={}\n",
    "\n",
    "for i in xrange(250):\n",
    "    dir_name = str(soup.find_all('div', attrs={'class':'list compact'})[0].find_all('tr')[i+1].find_all('td')[1].text)\n",
    "    dir_rank = int(soup.find_all('div', attrs={'class':'list compact'})[0]\n",
    "                   .find_all('tr')[i+1].find_all('td')[0].text.replace(\".\",\"\"))\n",
    "    dir_cluster = -dir_rank/25+11\n",
    "    dir_dict_rep[dir_name] = dir_cluster"
   ]
  },
  {
   "cell_type": "code",
   "execution_count": 378,
   "metadata": {
    "collapsed": true
   },
   "outputs": [],
   "source": [
    "def cluster_map2(director):\n",
    "    try:\n",
    "        sec_name = director[director.index(\" \"): director.index(\" \")+4]\n",
    "        for key, value in dir_dict_rep.iteritems():\n",
    "            if sec_name in key:\n",
    "                return value\n",
    "            else:\n",
    "                return 0\n",
    "    except:\n",
    "        return 0\n"
   ]
  },
  {
   "cell_type": "code",
   "execution_count": 81,
   "metadata": {
    "collapsed": false
   },
   "outputs": [],
   "source": [
    "# save director dict as pickle file\n",
    "\n",
    "with open('html/dir_dict.pkl', 'wb') as picklefile:\n",
    "    pickle.dump(dir_dict_rep, picklefile)"
   ]
  },
  {
   "cell_type": "code",
   "execution_count": 379,
   "metadata": {
    "collapsed": false
   },
   "outputs": [],
   "source": [
    "# open director dict from pickle file\n",
    "\n",
    "with open('html/dir_dict.pkl', 'rb') as picklefile: \n",
    "    dir_dict_rep = pickle.load(picklefile)"
   ]
  },
  {
   "cell_type": "code",
   "execution_count": 380,
   "metadata": {
    "collapsed": false
   },
   "outputs": [],
   "source": [
    "movie_df[\"Director_Rep\"]=movie_df.Director.map(cluster_map2)"
   ]
  },
  {
   "cell_type": "markdown",
   "metadata": {
    "collapsed": true
   },
   "source": [
    "#### 1.2.2 Get Actors reputation from imdb"
   ]
  },
  {
   "cell_type": "code",
   "execution_count": 64,
   "metadata": {
    "collapsed": false
   },
   "outputs": [],
   "source": [
    "# Save the list as html\n",
    "\n",
    "url = \"http://www.imdb.com/list/ls000004615/?start=1&view=compact&sort=listorian:asc&scb=0.4331459497671084\"\n",
    "\n",
    "resp = requests.get(url, headers=headers)\n",
    "if resp.ok:\n",
    "    soup = BeautifulSoup(resp.text, 'lxml')       \n",
    "with open(\"html/actors.html\", 'wb') as f:\n",
    "    f.write(resp.text)"
   ]
  },
  {
   "cell_type": "code",
   "execution_count": 65,
   "metadata": {
    "collapsed": false
   },
   "outputs": [],
   "source": [
    "# Get the information out of the list and cluster them in steps of 25 into a dictionary\n",
    "\n",
    "soup = BeautifulSoup(open(\"html/actors.html\").read())\n",
    "\n",
    "act_dict_rep={}\n",
    "\n",
    "for i in xrange(250):\n",
    "    act_name = str(soup.find_all('div', attrs={'class':'list compact'})[0].find_all('tr')[i+1].find_all('td')[1].text)\n",
    "    act_rank = int(soup.find_all('div', attrs={'class':'list compact'})[0]\n",
    "                   .find_all('tr')[i+1].find_all('td')[0].text.replace(\".\",\"\"))\n",
    "    act_cluster = -act_rank/25+11\n",
    "    act_dict_rep[act_name] = act_cluster"
   ]
  },
  {
   "cell_type": "code",
   "execution_count": 381,
   "metadata": {
    "collapsed": false
   },
   "outputs": [],
   "source": [
    "def map_act_clust2(act_str):\n",
    "    act_score=0\n",
    "    act_list=act_str.split(',')\n",
    "    try:\n",
    "        for i in xrange(len(act_list)):\n",
    "            sec_name = act_list[i][act_list[i].index(\" \"): act_list[i].index(\" \")+4]\n",
    "            for key, value in act_dict_rep.iteritems():\n",
    "                if sec_name in key:\n",
    "                    act_score += value\n",
    "        return act_score\n",
    "    except:\n",
    "        return 0"
   ]
  },
  {
   "cell_type": "code",
   "execution_count": 24,
   "metadata": {
    "collapsed": false
   },
   "outputs": [],
   "source": [
    "# save actors dict as pickle file\n",
    "\n",
    "with open('html/dir_act.pkl', 'wb') as picklefile:\n",
    "    pickle.dump(act_dict_rep, picklefile)"
   ]
  },
  {
   "cell_type": "code",
   "execution_count": 384,
   "metadata": {
    "collapsed": false
   },
   "outputs": [],
   "source": [
    "# open actors dict from pickle file\n",
    "\n",
    "with open('html/dir_dict.pkl', 'rb') as picklefile: \n",
    "    act_dict_rep = pickle.load(picklefile)"
   ]
  },
  {
   "cell_type": "code",
   "execution_count": 385,
   "metadata": {
    "collapsed": false
   },
   "outputs": [],
   "source": [
    "movie_df[\"Actors_Rep\"]=movie_df.Actors.map(map_act_clust2)"
   ]
  },
  {
   "cell_type": "markdown",
   "metadata": {},
   "source": [
    "#### 1.2.3 Get data on based on a book from imdb"
   ]
  },
  {
   "cell_type": "code",
   "execution_count": 41,
   "metadata": {
    "collapsed": true
   },
   "outputs": [],
   "source": [
    "# Save the list as html\n",
    "\n",
    "for i in [1,2,3,4]:\n",
    "    url = \"http://www.goodreads.com/list/show/17956.Best_Movie_Adaptations?page=%s\" %(i)\n",
    "    resp = requests.get(url, headers=headers)\n",
    "    if resp.ok:\n",
    "        soup = BeautifulSoup(resp.text, 'lxml')       \n",
    "    with open(\"html/adaptions_%s.html\" %(i), 'wb') as f:\n",
    "        f.write(resp.text)"
   ]
  },
  {
   "cell_type": "code",
   "execution_count": 51,
   "metadata": {
    "collapsed": false
   },
   "outputs": [],
   "source": [
    "# Set up a dictionary with the movies based on a book\n",
    "\n",
    "# for loop going through the 4 pages (to come)\n",
    "\n",
    "adapt_list=[]\n",
    "\n",
    "for j in [1,2,3,4]:\n",
    "# get list of books on each page\n",
    "\n",
    "    soup = BeautifulSoup(open(\"html/adaptions_%s.html\" %(j)).read())\n",
    "\n",
    "    for i in xrange(99):\n",
    "        try:\n",
    "            movie_name = (soup\n",
    "                      .find_all('table', attrs={'class':'tableList js-dataTooltip'})[0]\n",
    "                      .find_all('tr')[i].find_all('td')[2].find('span').text\n",
    "                      )\n",
    "            adapt_list.append(movie_name)\n",
    "        except:\n",
    "            continue"
   ]
  },
  {
   "cell_type": "code",
   "execution_count": 52,
   "metadata": {
    "collapsed": true
   },
   "outputs": [],
   "source": [
    "# save adaption list as pickel file\n",
    "\n",
    "with open('html/adapt.pkl', 'wb') as picklefile:\n",
    "    pickle.dump(adapt_list, picklefile)"
   ]
  },
  {
   "cell_type": "code",
   "execution_count": 386,
   "metadata": {
    "collapsed": true
   },
   "outputs": [],
   "source": [
    "# open adaption list from pickle file\n",
    "\n",
    "with open('html/adapt.pkl', 'rb') as picklefile: \n",
    "    adapt_list1 = pickle.load(picklefile)"
   ]
  },
  {
   "cell_type": "code",
   "execution_count": 387,
   "metadata": {
    "collapsed": true
   },
   "outputs": [],
   "source": [
    "def map_adapt(title):\n",
    "    if any(title[:min(7, len(title))] in s for s in adapt_list):\n",
    "        return 1\n",
    "    else:\n",
    "        return 0"
   ]
  },
  {
   "cell_type": "code",
   "execution_count": 388,
   "metadata": {
    "collapsed": true
   },
   "outputs": [],
   "source": [
    "movie_df['Adaption'] = movie_df.movie_title.map(map_adapt)"
   ]
  },
  {
   "cell_type": "markdown",
   "metadata": {},
   "source": [
    "#### 1.2.4 Get movie on real story"
   ]
  },
  {
   "cell_type": "code",
   "execution_count": 362,
   "metadata": {
    "collapsed": false
   },
   "outputs": [],
   "source": [
    "# Get the information out of the list \n",
    "\n",
    "true_list =[]\n",
    "\n",
    "# for loop through two pages\n",
    "\n",
    "for i in [1,2]:\n",
    "\n",
    "    soup = BeautifulSoup(open(\"html/movies_true%s.html\" %(i)).read())\n",
    "\n",
    "    for j in xrange(250):\n",
    "        try:\n",
    "            movie_name = str(soup.find_all('div', attrs={'class':'list compact'})[0].find_all('tr')[j+1].find_all('td')[1].text)\n",
    "            true_list.append(movie_name)\n",
    "        except:\n",
    "            continue"
   ]
  },
  {
   "cell_type": "code",
   "execution_count": 389,
   "metadata": {
    "collapsed": true
   },
   "outputs": [],
   "source": [
    "def map_true(title):\n",
    "    if any(title[:min(7, len(title))] in s for s in true_list):\n",
    "        return 1\n",
    "    else:\n",
    "        return 0"
   ]
  },
  {
   "cell_type": "code",
   "execution_count": 395,
   "metadata": {
    "collapsed": true
   },
   "outputs": [],
   "source": [
    "movie_df['Based_Real'] = movie_df.movie_title.map(map_true)"
   ]
  },
  {
   "cell_type": "code",
   "execution_count": 396,
   "metadata": {
    "collapsed": false
   },
   "outputs": [],
   "source": [
    "#Drop \"N/A's\"\n",
    "\n",
    "movie_df=movie_df.dropna(how='any')"
   ]
  },
  {
   "cell_type": "code",
   "execution_count": 397,
   "metadata": {
    "collapsed": false
   },
   "outputs": [],
   "source": [
    "#Save movie_df to pickle file\n",
    "\n",
    "with open('html/movie_df.pkl', 'wb') as picklefile:\n",
    "    pickle.dump(movie_df, picklefile)"
   ]
  },
  {
   "cell_type": "code",
   "execution_count": 3,
   "metadata": {
    "collapsed": true
   },
   "outputs": [],
   "source": [
    "# Open movie df from pickle file **\n",
    "\n",
    "with open('html/movie_df.pkl', 'rb') as picklefile: \n",
    "    movie_df = pickle.load(picklefile)"
   ]
  },
  {
   "cell_type": "markdown",
   "metadata": {},
   "source": [
    "### 2 Examine the data"
   ]
  },
  {
   "cell_type": "markdown",
   "metadata": {},
   "source": [
    "#### 2.0 Overall Correlation"
   ]
  },
  {
   "cell_type": "code",
   "execution_count": 149,
   "metadata": {
    "collapsed": false
   },
   "outputs": [
    {
     "data": {
      "image/png": "[encoded data removed]",
      "text/plain": [
       "<matplotlib.figure.Figure at 0x123318210>"
      ]
     },
     "metadata": {},
     "output_type": "display_data"
    }
   ],
   "source": [
    "plt.figure(figsize=(16,9))\n",
    "\n",
    "plt.hist(movie_df['Return_on_investment'], bins = 86);"
   ]
  },
  {
   "cell_type": "code",
   "execution_count": 151,
   "metadata": {
    "collapsed": false
   },
   "outputs": [
    {
     "data": {
      "text/html": [
       "<div>\n",
       "<table border=\"1\" class=\"dataframe\">\n",
       "  <thead>\n",
       "    <tr style=\"text-align: right;\">\n",
       "      <th></th>\n",
       "      <th>Return_on_investment</th>\n",
       "      <th>movie_title</th>\n",
       "    </tr>\n",
       "  </thead>\n",
       "  <tbody>\n",
       "    <tr>\n",
       "      <th>1360</th>\n",
       "      <td>85.593057</td>\n",
       "      <td>Saw</td>\n",
       "    </tr>\n",
       "    <tr>\n",
       "      <th>12</th>\n",
       "      <td>74.515291</td>\n",
       "      <td>E.T.: The Extra-Terrestrial</td>\n",
       "    </tr>\n",
       "    <tr>\n",
       "      <th>110</th>\n",
       "      <td>72.748809</td>\n",
       "      <td>My Big Fat Greek Wedding</td>\n",
       "    </tr>\n",
       "    <tr>\n",
       "      <th>1678</th>\n",
       "      <td>72.696757</td>\n",
       "      <td>The Full Monty</td>\n",
       "    </tr>\n",
       "    <tr>\n",
       "      <th>8</th>\n",
       "      <td>69.490728</td>\n",
       "      <td>Star Wars</td>\n",
       "    </tr>\n",
       "    <tr>\n",
       "      <th>89</th>\n",
       "      <td>66.236143</td>\n",
       "      <td>Jaws</td>\n",
       "    </tr>\n",
       "    <tr>\n",
       "      <th>188</th>\n",
       "      <td>64.825948</td>\n",
       "      <td>Grease</td>\n",
       "    </tr>\n",
       "    <tr>\n",
       "      <th>1408</th>\n",
       "      <td>63.672767</td>\n",
       "      <td>Insidious</td>\n",
       "    </tr>\n",
       "    <tr>\n",
       "      <th>785</th>\n",
       "      <td>58.170677</td>\n",
       "      <td>Paranormal Activity 2</td>\n",
       "    </tr>\n",
       "    <tr>\n",
       "      <th>1450</th>\n",
       "      <td>54.841098</td>\n",
       "      <td>Four Weddings and a Funeral</td>\n",
       "    </tr>\n",
       "    <tr>\n",
       "      <th>8104</th>\n",
       "      <td>49.382468</td>\n",
       "      <td>Taxi 3</td>\n",
       "    </tr>\n",
       "    <tr>\n",
       "      <th>591</th>\n",
       "      <td>40.407969</td>\n",
       "      <td>Paranormal Activity 3</td>\n",
       "    </tr>\n",
       "    <tr>\n",
       "      <th>372</th>\n",
       "      <td>39.844402</td>\n",
       "      <td>The Godfather</td>\n",
       "    </tr>\n",
       "    <tr>\n",
       "      <th>790</th>\n",
       "      <td>38.519048</td>\n",
       "      <td>Annabelle</td>\n",
       "    </tr>\n",
       "    <tr>\n",
       "      <th>4203</th>\n",
       "      <td>37.678471</td>\n",
       "      <td>The Lives of Others</td>\n",
       "    </tr>\n",
       "    <tr>\n",
       "      <th>1858</th>\n",
       "      <td>36.632272</td>\n",
       "      <td>The Last Exorcism</td>\n",
       "    </tr>\n",
       "    <tr>\n",
       "      <th>480</th>\n",
       "      <td>36.074480</td>\n",
       "      <td>Fahrenheit 9/11</td>\n",
       "    </tr>\n",
       "    <tr>\n",
       "      <th>760</th>\n",
       "      <td>35.937126</td>\n",
       "      <td>Saw II</td>\n",
       "    </tr>\n",
       "    <tr>\n",
       "      <th>1156</th>\n",
       "      <td>34.659046</td>\n",
       "      <td>Dirty Dancing</td>\n",
       "    </tr>\n",
       "    <tr>\n",
       "      <th>219</th>\n",
       "      <td>32.100448</td>\n",
       "      <td>Pretty Woman</td>\n",
       "    </tr>\n",
       "    <tr>\n",
       "      <th>800</th>\n",
       "      <td>31.383864</td>\n",
       "      <td>Insidious Chapter 2</td>\n",
       "    </tr>\n",
       "    <tr>\n",
       "      <th>1225</th>\n",
       "      <td>30.315366</td>\n",
       "      <td>God's Not Dead</td>\n",
       "    </tr>\n",
       "    <tr>\n",
       "      <th>333</th>\n",
       "      <td>29.854878</td>\n",
       "      <td>Juno</td>\n",
       "    </tr>\n",
       "    <tr>\n",
       "      <th>1723</th>\n",
       "      <td>28.930964</td>\n",
       "      <td>Lost in Translation</td>\n",
       "    </tr>\n",
       "    <tr>\n",
       "      <th>1077</th>\n",
       "      <td>28.912007</td>\n",
       "      <td>Lights Out</td>\n",
       "    </tr>\n",
       "    <tr>\n",
       "      <th>73</th>\n",
       "      <td>28.909726</td>\n",
       "      <td>The Empire Strikes Back</td>\n",
       "    </tr>\n",
       "    <tr>\n",
       "      <th>1145</th>\n",
       "      <td>28.776209</td>\n",
       "      <td>The Purge</td>\n",
       "    </tr>\n",
       "    <tr>\n",
       "      <th>1410</th>\n",
       "      <td>27.563598</td>\n",
       "      <td>Paranormal Activity 4</td>\n",
       "    </tr>\n",
       "    <tr>\n",
       "      <th>353</th>\n",
       "      <td>26.614103</td>\n",
       "      <td>The King's Speech</td>\n",
       "    </tr>\n",
       "    <tr>\n",
       "      <th>560</th>\n",
       "      <td>25.741095</td>\n",
       "      <td>Pulp Fiction</td>\n",
       "    </tr>\n",
       "    <tr>\n",
       "      <th>...</th>\n",
       "      <td>...</td>\n",
       "      <td>...</td>\n",
       "    </tr>\n",
       "    <tr>\n",
       "      <th>6172</th>\n",
       "      <td>-0.853989</td>\n",
       "      <td>BloodRayne</td>\n",
       "    </tr>\n",
       "    <tr>\n",
       "      <th>6455</th>\n",
       "      <td>-0.854182</td>\n",
       "      <td>A Sound of Thunder</td>\n",
       "    </tr>\n",
       "    <tr>\n",
       "      <th>9483</th>\n",
       "      <td>-0.859326</td>\n",
       "      <td>Outlander</td>\n",
       "    </tr>\n",
       "    <tr>\n",
       "      <th>7408</th>\n",
       "      <td>-0.860893</td>\n",
       "      <td>Where the Truth Lies</td>\n",
       "    </tr>\n",
       "    <tr>\n",
       "      <th>7965</th>\n",
       "      <td>-0.862937</td>\n",
       "      <td>Ondine</td>\n",
       "    </tr>\n",
       "    <tr>\n",
       "      <th>6042</th>\n",
       "      <td>-0.864604</td>\n",
       "      <td>Bobby Jones: Stroke of Genius</td>\n",
       "    </tr>\n",
       "    <tr>\n",
       "      <th>4373</th>\n",
       "      <td>-0.865384</td>\n",
       "      <td>The Great Raid</td>\n",
       "    </tr>\n",
       "    <tr>\n",
       "      <th>5066</th>\n",
       "      <td>-0.865441</td>\n",
       "      <td>Gigli</td>\n",
       "    </tr>\n",
       "    <tr>\n",
       "      <th>8281</th>\n",
       "      <td>-0.870363</td>\n",
       "      <td>The OH in Ohio</td>\n",
       "    </tr>\n",
       "    <tr>\n",
       "      <th>7647</th>\n",
       "      <td>-0.873387</td>\n",
       "      <td>Rocket Science</td>\n",
       "    </tr>\n",
       "    <tr>\n",
       "      <th>7245</th>\n",
       "      <td>-0.882370</td>\n",
       "      <td>Owning Mahowny</td>\n",
       "    </tr>\n",
       "    <tr>\n",
       "      <th>4934</th>\n",
       "      <td>-0.884752</td>\n",
       "      <td>Town &amp; Country</td>\n",
       "    </tr>\n",
       "    <tr>\n",
       "      <th>8002</th>\n",
       "      <td>-0.888710</td>\n",
       "      <td>Machine Gun Preacher</td>\n",
       "    </tr>\n",
       "    <tr>\n",
       "      <th>7371</th>\n",
       "      <td>-0.896494</td>\n",
       "      <td>The Brothers Solomon</td>\n",
       "    </tr>\n",
       "    <tr>\n",
       "      <th>5231</th>\n",
       "      <td>-0.898368</td>\n",
       "      <td>Monkeybone</td>\n",
       "    </tr>\n",
       "    <tr>\n",
       "      <th>7000</th>\n",
       "      <td>-0.906553</td>\n",
       "      <td>Me and Orson Welles</td>\n",
       "    </tr>\n",
       "    <tr>\n",
       "      <th>7714</th>\n",
       "      <td>-0.907568</td>\n",
       "      <td>The Secret of Kells</td>\n",
       "    </tr>\n",
       "    <tr>\n",
       "      <th>9777</th>\n",
       "      <td>-0.909251</td>\n",
       "      <td>Stolen Summer</td>\n",
       "    </tr>\n",
       "    <tr>\n",
       "      <th>7188</th>\n",
       "      <td>-0.913305</td>\n",
       "      <td>Casino Jack</td>\n",
       "    </tr>\n",
       "    <tr>\n",
       "      <th>6615</th>\n",
       "      <td>-0.916215</td>\n",
       "      <td>Marci X</td>\n",
       "    </tr>\n",
       "    <tr>\n",
       "      <th>7414</th>\n",
       "      <td>-0.917101</td>\n",
       "      <td>Duma</td>\n",
       "    </tr>\n",
       "    <tr>\n",
       "      <th>5461</th>\n",
       "      <td>-0.928960</td>\n",
       "      <td>The Adventures of Pluto Nash</td>\n",
       "    </tr>\n",
       "    <tr>\n",
       "      <th>5941</th>\n",
       "      <td>-0.931743</td>\n",
       "      <td>Isn't She Great</td>\n",
       "    </tr>\n",
       "    <tr>\n",
       "      <th>7802</th>\n",
       "      <td>-0.942581</td>\n",
       "      <td>The Prize Winner of Defiance, Ohio</td>\n",
       "    </tr>\n",
       "    <tr>\n",
       "      <th>9793</th>\n",
       "      <td>-0.946716</td>\n",
       "      <td>The Eclipse</td>\n",
       "    </tr>\n",
       "    <tr>\n",
       "      <th>9676</th>\n",
       "      <td>-0.951596</td>\n",
       "      <td>Carlos</td>\n",
       "    </tr>\n",
       "    <tr>\n",
       "      <th>8561</th>\n",
       "      <td>-0.952859</td>\n",
       "      <td>Enter the Void</td>\n",
       "    </tr>\n",
       "    <tr>\n",
       "      <th>9208</th>\n",
       "      <td>-0.966096</td>\n",
       "      <td>The Girl on the Train</td>\n",
       "    </tr>\n",
       "    <tr>\n",
       "      <th>8418</th>\n",
       "      <td>-0.980550</td>\n",
       "      <td>The Game of Their Lives</td>\n",
       "    </tr>\n",
       "    <tr>\n",
       "      <th>8823</th>\n",
       "      <td>-0.982670</td>\n",
       "      <td>The Tempest</td>\n",
       "    </tr>\n",
       "  </tbody>\n",
       "</table>\n",
       "<p>2322 rows × 2 columns</p>\n",
       "</div>"
      ],
      "text/plain": [
       "      Return_on_investment                         movie_title\n",
       "1360             85.593057                                 Saw\n",
       "12               74.515291         E.T.: The Extra-Terrestrial\n",
       "110              72.748809            My Big Fat Greek Wedding\n",
       "1678             72.696757                      The Full Monty\n",
       "8                69.490728                           Star Wars\n",
       "89               66.236143                                Jaws\n",
       "188              64.825948                              Grease\n",
       "1408             63.672767                           Insidious\n",
       "785              58.170677               Paranormal Activity 2\n",
       "1450             54.841098         Four Weddings and a Funeral\n",
       "8104             49.382468                              Taxi 3\n",
       "591              40.407969               Paranormal Activity 3\n",
       "372              39.844402                       The Godfather\n",
       "790              38.519048                           Annabelle\n",
       "4203             37.678471                 The Lives of Others\n",
       "1858             36.632272                   The Last Exorcism\n",
       "480              36.074480                     Fahrenheit 9/11\n",
       "760              35.937126                              Saw II\n",
       "1156             34.659046                       Dirty Dancing\n",
       "219              32.100448                        Pretty Woman\n",
       "800              31.383864                 Insidious Chapter 2\n",
       "1225             30.315366                      God's Not Dead\n",
       "333              29.854878                                Juno\n",
       "1723             28.930964                 Lost in Translation\n",
       "1077             28.912007                          Lights Out\n",
       "73               28.909726             The Empire Strikes Back\n",
       "1145             28.776209                           The Purge\n",
       "1410             27.563598               Paranormal Activity 4\n",
       "353              26.614103                   The King's Speech\n",
       "560              25.741095                        Pulp Fiction\n",
       "...                    ...                                 ...\n",
       "6172             -0.853989                          BloodRayne\n",
       "6455             -0.854182                  A Sound of Thunder\n",
       "9483             -0.859326                           Outlander\n",
       "7408             -0.860893                Where the Truth Lies\n",
       "7965             -0.862937                              Ondine\n",
       "6042             -0.864604       Bobby Jones: Stroke of Genius\n",
       "4373             -0.865384                      The Great Raid\n",
       "5066             -0.865441                               Gigli\n",
       "8281             -0.870363                      The OH in Ohio\n",
       "7647             -0.873387                      Rocket Science\n",
       "7245             -0.882370                      Owning Mahowny\n",
       "4934             -0.884752                      Town & Country\n",
       "8002             -0.888710                Machine Gun Preacher\n",
       "7371             -0.896494                The Brothers Solomon\n",
       "5231             -0.898368                          Monkeybone\n",
       "7000             -0.906553                 Me and Orson Welles\n",
       "7714             -0.907568                 The Secret of Kells\n",
       "9777             -0.909251                       Stolen Summer\n",
       "7188             -0.913305                         Casino Jack\n",
       "6615             -0.916215                             Marci X\n",
       "7414             -0.917101                                Duma\n",
       "5461             -0.928960        The Adventures of Pluto Nash\n",
       "5941             -0.931743                     Isn't She Great\n",
       "7802             -0.942581  The Prize Winner of Defiance, Ohio\n",
       "9793             -0.946716                         The Eclipse\n",
       "9676             -0.951596                              Carlos\n",
       "8561             -0.952859                      Enter the Void\n",
       "9208             -0.966096               The Girl on the Train\n",
       "8418             -0.980550             The Game of Their Lives\n",
       "8823             -0.982670                         The Tempest\n",
       "\n",
       "[2322 rows x 2 columns]"
      ]
     },
     "execution_count": 151,
     "metadata": {},
     "output_type": "execute_result"
    }
   ],
   "source": [
    "movie_df.sort_values('Return_on_investment', ascending=False)[['Return_on_investment', 'movie_title']]"
   ]
  },
  {
   "cell_type": "code",
   "execution_count": 5,
   "metadata": {
    "collapsed": false
   },
   "outputs": [],
   "source": [
    "# Open the data frame\n",
    "\n",
    "with open(\"html/movie_df.pkl\", 'rb') as picklefile: \n",
    "    movie_df = pickle.load(picklefile)\n"
   ]
  },
  {
   "cell_type": "code",
   "execution_count": 400,
   "metadata": {
    "collapsed": false
   },
   "outputs": [
    {
     "data": {
      "text/html": [
       "<div>\n",
       "<table border=\"1\" class=\"dataframe\">\n",
       "  <thead>\n",
       "    <tr style=\"text-align: right;\">\n",
       "      <th></th>\n",
       "      <th>Return_on_investment</th>\n",
       "      <th>worldwide_total_gross_adj</th>\n",
       "    </tr>\n",
       "  </thead>\n",
       "  <tbody>\n",
       "    <tr>\n",
       "      <th>Return_on_investment</th>\n",
       "      <td>1.000000</td>\n",
       "      <td>0.379666</td>\n",
       "    </tr>\n",
       "    <tr>\n",
       "      <th>worldwide_total_gross_adj</th>\n",
       "      <td>0.379666</td>\n",
       "      <td>1.000000</td>\n",
       "    </tr>\n",
       "    <tr>\n",
       "      <th>Actors_Rep</th>\n",
       "      <td>0.047645</td>\n",
       "      <td>0.221636</td>\n",
       "    </tr>\n",
       "    <tr>\n",
       "      <th>Summer</th>\n",
       "      <td>0.045361</td>\n",
       "      <td>0.129999</td>\n",
       "    </tr>\n",
       "    <tr>\n",
       "      <th>Documentary</th>\n",
       "      <td>0.042158</td>\n",
       "      <td>-0.034603</td>\n",
       "    </tr>\n",
       "    <tr>\n",
       "      <th>Rat-PG</th>\n",
       "      <td>0.038965</td>\n",
       "      <td>0.135695</td>\n",
       "    </tr>\n",
       "    <tr>\n",
       "      <th>Rat-R</th>\n",
       "      <td>0.028524</td>\n",
       "      <td>-0.214755</td>\n",
       "    </tr>\n",
       "    <tr>\n",
       "      <th>Adaption</th>\n",
       "      <td>0.020911</td>\n",
       "      <td>0.063524</td>\n",
       "    </tr>\n",
       "    <tr>\n",
       "      <th>Rat-G</th>\n",
       "      <td>0.014832</td>\n",
       "      <td>0.082028</td>\n",
       "    </tr>\n",
       "    <tr>\n",
       "      <th>3D</th>\n",
       "      <td>0.011891</td>\n",
       "      <td>0.228515</td>\n",
       "    </tr>\n",
       "    <tr>\n",
       "      <th>runtime</th>\n",
       "      <td>0.010391</td>\n",
       "      <td>0.317772</td>\n",
       "    </tr>\n",
       "    <tr>\n",
       "      <th>ForeignLanguage</th>\n",
       "      <td>0.009684</td>\n",
       "      <td>-0.058676</td>\n",
       "    </tr>\n",
       "    <tr>\n",
       "      <th>Based_Real</th>\n",
       "      <td>0.007998</td>\n",
       "      <td>-0.011921</td>\n",
       "    </tr>\n",
       "    <tr>\n",
       "      <th>Autumn</th>\n",
       "      <td>0.007506</td>\n",
       "      <td>-0.101254</td>\n",
       "    </tr>\n",
       "    <tr>\n",
       "      <th>Animation</th>\n",
       "      <td>-0.002312</td>\n",
       "      <td>0.167258</td>\n",
       "    </tr>\n",
       "    <tr>\n",
       "      <th>Rat-NC-17</th>\n",
       "      <td>-0.002483</td>\n",
       "      <td>-0.025443</td>\n",
       "    </tr>\n",
       "    <tr>\n",
       "      <th>Sci-Fi/ Fantasy</th>\n",
       "      <td>-0.011367</td>\n",
       "      <td>0.204591</td>\n",
       "    </tr>\n",
       "    <tr>\n",
       "      <th>Director_Rep</th>\n",
       "      <td>-0.011520</td>\n",
       "      <td>-0.016662</td>\n",
       "    </tr>\n",
       "    <tr>\n",
       "      <th>Spring</th>\n",
       "      <td>-0.017871</td>\n",
       "      <td>0.035853</td>\n",
       "    </tr>\n",
       "    <tr>\n",
       "      <th>Comedy</th>\n",
       "      <td>-0.019745</td>\n",
       "      <td>-0.147337</td>\n",
       "    </tr>\n",
       "    <tr>\n",
       "      <th>Romance/ Drama</th>\n",
       "      <td>-0.032878</td>\n",
       "      <td>-0.158874</td>\n",
       "    </tr>\n",
       "    <tr>\n",
       "      <th>Winter</th>\n",
       "      <td>-0.037104</td>\n",
       "      <td>-0.065406</td>\n",
       "    </tr>\n",
       "    <tr>\n",
       "      <th>Rat-PG-13</th>\n",
       "      <td>-0.063288</td>\n",
       "      <td>0.097081</td>\n",
       "    </tr>\n",
       "    <tr>\n",
       "      <th>Action/Adventure</th>\n",
       "      <td>-0.067347</td>\n",
       "      <td>0.211310</td>\n",
       "    </tr>\n",
       "    <tr>\n",
       "      <th>budget_adj</th>\n",
       "      <td>-0.136756</td>\n",
       "      <td>0.609788</td>\n",
       "    </tr>\n",
       "  </tbody>\n",
       "</table>\n",
       "</div>"
      ],
      "text/plain": [
       "                           Return_on_investment  worldwide_total_gross_adj\n",
       "Return_on_investment                   1.000000                   0.379666\n",
       "worldwide_total_gross_adj              0.379666                   1.000000\n",
       "Actors_Rep                             0.047645                   0.221636\n",
       "Summer                                 0.045361                   0.129999\n",
       "Documentary                            0.042158                  -0.034603\n",
       "Rat-PG                                 0.038965                   0.135695\n",
       "Rat-R                                  0.028524                  -0.214755\n",
       "Adaption                               0.020911                   0.063524\n",
       "Rat-G                                  0.014832                   0.082028\n",
       "3D                                     0.011891                   0.228515\n",
       "runtime                                0.010391                   0.317772\n",
       "ForeignLanguage                        0.009684                  -0.058676\n",
       "Based_Real                             0.007998                  -0.011921\n",
       "Autumn                                 0.007506                  -0.101254\n",
       "Animation                             -0.002312                   0.167258\n",
       "Rat-NC-17                             -0.002483                  -0.025443\n",
       "Sci-Fi/ Fantasy                       -0.011367                   0.204591\n",
       "Director_Rep                          -0.011520                  -0.016662\n",
       "Spring                                -0.017871                   0.035853\n",
       "Comedy                                -0.019745                  -0.147337\n",
       "Romance/ Drama                        -0.032878                  -0.158874\n",
       "Winter                                -0.037104                  -0.065406\n",
       "Rat-PG-13                             -0.063288                   0.097081\n",
       "Action/Adventure                      -0.067347                   0.211310\n",
       "budget_adj                            -0.136756                   0.609788"
      ]
     },
     "execution_count": 400,
     "metadata": {},
     "output_type": "execute_result"
    }
   ],
   "source": [
    "movie_df.corr()[['Return_on_investment', 'worldwide_total_gross_adj']].sort_values('Return_on_investment', \n",
    "                                                                                   ascending=False)"
   ]
  },
  {
   "cell_type": "markdown",
   "metadata": {
    "collapsed": true
   },
   "source": [
    "#### 2.1 Genres"
   ]
  },
  {
   "cell_type": "code",
   "execution_count": 402,
   "metadata": {
    "collapsed": false
   },
   "outputs": [
    {
     "data": {
      "text/plain": [
       "Index([u'3D', u'Action/Adventure', u'Actors', u'Animation', u'Comedy',\n",
       "       u'Director', u'Documentary', u'ForeignLanguage', u'Rat-G', u'Rat-NC-17',\n",
       "       u'Rat-PG', u'Rat-PG-13', u'Rat-R', u'Rating', u'Release_Date',\n",
       "       u'Romance/ Drama', u'Sci-Fi/ Fantasy', u'genre', u'movie_title',\n",
       "       u'runtime', u'Winter', u'Spring', u'Summer', u'Autumn', u'budget_adj',\n",
       "       u'worldwide_total_gross_adj', u'Return_on_investment', u'Director_Rep',\n",
       "       u'Actors_Rep', u'Adaption', u'Based_Real'],\n",
       "      dtype='object')"
      ]
     },
     "execution_count": 402,
     "metadata": {},
     "output_type": "execute_result"
    }
   ],
   "source": [
    "movie_df.columns"
   ]
  },
  {
   "cell_type": "code",
   "execution_count": 404,
   "metadata": {
    "collapsed": false
   },
   "outputs": [],
   "source": [
    "movie_df_genre = movie_df.drop(['3D', 'Rat-G', 'Rat-NC-17', 'Rat-PG', 'Rat-PG-13', 'Winter', 'Spring', 'Summer', 'Autumn',\n",
    "                                'Rat-R','Rating','genre', 'Director_Rep', 'Actors_Rep', 'Actors', 'Director','Based_Real', \n",
    "                                'movie_title', 'budget_adj', 'runtime', 'Adaption' ], axis=1)"
   ]
  },
  {
   "cell_type": "code",
   "execution_count": 405,
   "metadata": {
    "collapsed": false
   },
   "outputs": [
    {
     "data": {
      "text/html": [
       "<div>\n",
       "<table border=\"1\" class=\"dataframe\">\n",
       "  <thead>\n",
       "    <tr style=\"text-align: right;\">\n",
       "      <th></th>\n",
       "      <th>Return_on_investment</th>\n",
       "      <th>worldwide_total_gross_adj</th>\n",
       "    </tr>\n",
       "  </thead>\n",
       "  <tbody>\n",
       "    <tr>\n",
       "      <th>Return_on_investment</th>\n",
       "      <td>1.000000</td>\n",
       "      <td>0.379666</td>\n",
       "    </tr>\n",
       "    <tr>\n",
       "      <th>worldwide_total_gross_adj</th>\n",
       "      <td>0.379666</td>\n",
       "      <td>1.000000</td>\n",
       "    </tr>\n",
       "    <tr>\n",
       "      <th>Documentary</th>\n",
       "      <td>0.042158</td>\n",
       "      <td>-0.034603</td>\n",
       "    </tr>\n",
       "    <tr>\n",
       "      <th>ForeignLanguage</th>\n",
       "      <td>0.009684</td>\n",
       "      <td>-0.058676</td>\n",
       "    </tr>\n",
       "    <tr>\n",
       "      <th>Animation</th>\n",
       "      <td>-0.002312</td>\n",
       "      <td>0.167258</td>\n",
       "    </tr>\n",
       "    <tr>\n",
       "      <th>Sci-Fi/ Fantasy</th>\n",
       "      <td>-0.011367</td>\n",
       "      <td>0.204591</td>\n",
       "    </tr>\n",
       "    <tr>\n",
       "      <th>Comedy</th>\n",
       "      <td>-0.019745</td>\n",
       "      <td>-0.147337</td>\n",
       "    </tr>\n",
       "    <tr>\n",
       "      <th>Romance/ Drama</th>\n",
       "      <td>-0.032878</td>\n",
       "      <td>-0.158874</td>\n",
       "    </tr>\n",
       "    <tr>\n",
       "      <th>Action/Adventure</th>\n",
       "      <td>-0.067347</td>\n",
       "      <td>0.211310</td>\n",
       "    </tr>\n",
       "  </tbody>\n",
       "</table>\n",
       "</div>"
      ],
      "text/plain": [
       "                           Return_on_investment  worldwide_total_gross_adj\n",
       "Return_on_investment                   1.000000                   0.379666\n",
       "worldwide_total_gross_adj              0.379666                   1.000000\n",
       "Documentary                            0.042158                  -0.034603\n",
       "ForeignLanguage                        0.009684                  -0.058676\n",
       "Animation                             -0.002312                   0.167258\n",
       "Sci-Fi/ Fantasy                       -0.011367                   0.204591\n",
       "Comedy                                -0.019745                  -0.147337\n",
       "Romance/ Drama                        -0.032878                  -0.158874\n",
       "Action/Adventure                      -0.067347                   0.211310"
      ]
     },
     "execution_count": 405,
     "metadata": {},
     "output_type": "execute_result"
    }
   ],
   "source": [
    "movie_df_genre.corr()[['Return_on_investment', 'worldwide_total_gross_adj']].sort_values(['Return_on_investment'], \n",
    "                                                                                         ascending=False)"
   ]
  },
  {
   "cell_type": "code",
   "execution_count": 406,
   "metadata": {
    "collapsed": false
   },
   "outputs": [
    {
     "data": {
      "text/plain": [
       "<seaborn.axisgrid.PairGrid at 0x126465cd0>"
      ]
     },
     "execution_count": 406,
     "metadata": {},
     "output_type": "execute_result"
    },
    {
     "data": {
      "image/png": "[encoded data removed]",
      "text/plain": [
       "<matplotlib.figure.Figure at 0x126465790>"
      ]
     },
     "metadata": {},
     "output_type": "display_data"
    }
   ],
   "source": [
    "sns.pairplot(movie_df_genre, y_vars=['Return_on_investment', 'worldwide_total_gross_adj'],\n",
    "             x_vars = ['Action/Adventure', 'Romance/ Drama', 'Comedy',\n",
    "                       'Sci-Fi/ Fantasy', 'Animation', 'ForeignLanguage','Documentary'], plot_kws={\"alpha\":0.2})"
   ]
  },
  {
   "cell_type": "markdown",
   "metadata": {},
   "source": [
    "#### 2.2 Directors and Actors reputation, 3D and Budget, runtime, adaption and based on real"
   ]
  },
  {
   "cell_type": "code",
   "execution_count": 407,
   "metadata": {
    "collapsed": false
   },
   "outputs": [
    {
     "data": {
      "text/html": [
       "<div>\n",
       "<table border=\"1\" class=\"dataframe\">\n",
       "  <thead>\n",
       "    <tr style=\"text-align: right;\">\n",
       "      <th></th>\n",
       "      <th>Return_on_investment</th>\n",
       "      <th>worldwide_total_gross_adj</th>\n",
       "    </tr>\n",
       "  </thead>\n",
       "  <tbody>\n",
       "    <tr>\n",
       "      <th>Return_on_investment</th>\n",
       "      <td>1.000000</td>\n",
       "      <td>0.379666</td>\n",
       "    </tr>\n",
       "    <tr>\n",
       "      <th>worldwide_total_gross_adj</th>\n",
       "      <td>0.379666</td>\n",
       "      <td>1.000000</td>\n",
       "    </tr>\n",
       "    <tr>\n",
       "      <th>Actors_Rep</th>\n",
       "      <td>0.047645</td>\n",
       "      <td>0.221636</td>\n",
       "    </tr>\n",
       "    <tr>\n",
       "      <th>Adaption</th>\n",
       "      <td>0.020911</td>\n",
       "      <td>0.063524</td>\n",
       "    </tr>\n",
       "    <tr>\n",
       "      <th>3D</th>\n",
       "      <td>0.011891</td>\n",
       "      <td>0.228515</td>\n",
       "    </tr>\n",
       "    <tr>\n",
       "      <th>runtime</th>\n",
       "      <td>0.010391</td>\n",
       "      <td>0.317772</td>\n",
       "    </tr>\n",
       "    <tr>\n",
       "      <th>Based_Real</th>\n",
       "      <td>0.007998</td>\n",
       "      <td>-0.011921</td>\n",
       "    </tr>\n",
       "    <tr>\n",
       "      <th>Director_Rep</th>\n",
       "      <td>-0.011520</td>\n",
       "      <td>-0.016662</td>\n",
       "    </tr>\n",
       "    <tr>\n",
       "      <th>budget_adj</th>\n",
       "      <td>-0.136756</td>\n",
       "      <td>0.609788</td>\n",
       "    </tr>\n",
       "  </tbody>\n",
       "</table>\n",
       "</div>"
      ],
      "text/plain": [
       "                           Return_on_investment  worldwide_total_gross_adj\n",
       "Return_on_investment                   1.000000                   0.379666\n",
       "worldwide_total_gross_adj              0.379666                   1.000000\n",
       "Actors_Rep                             0.047645                   0.221636\n",
       "Adaption                               0.020911                   0.063524\n",
       "3D                                     0.011891                   0.228515\n",
       "runtime                                0.010391                   0.317772\n",
       "Based_Real                             0.007998                  -0.011921\n",
       "Director_Rep                          -0.011520                  -0.016662\n",
       "budget_adj                            -0.136756                   0.609788"
      ]
     },
     "execution_count": 407,
     "metadata": {},
     "output_type": "execute_result"
    }
   ],
   "source": [
    "movie_df_rep = movie_df.drop(['movie_title', 'Documentary','Rat-G', 'Rat-NC-17', 'Rat-PG', 'Winter', 'Spring', \n",
    "                              'Summer', 'Autumn',\n",
    "                              'Rat-PG-13','Rat-R','Rating','genre', 'Animation', 'Comedy', 'Action/Adventure',\n",
    "                              'Romance/ Drama','Sci-Fi/ Fantasy', 'Actors', 'Director', 'ForeignLanguage'], axis = 1)\n",
    "\n",
    "movie_df_rep.corr()[['Return_on_investment','worldwide_total_gross_adj']].sort_values('Return_on_investment', ascending=False)"
   ]
  },
  {
   "cell_type": "code",
   "execution_count": 408,
   "metadata": {
    "collapsed": false
   },
   "outputs": [
    {
     "data": {
      "text/plain": [
       "<seaborn.axisgrid.PairGrid at 0x128ac5a10>"
      ]
     },
     "execution_count": 408,
     "metadata": {},
     "output_type": "execute_result"
    },
    {
     "data": {
      "image/png": "[encoded data removed]",
      "text/plain": [
       "<matplotlib.figure.Figure at 0x127c249d0>"
      ]
     },
     "metadata": {},
     "output_type": "display_data"
    }
   ],
   "source": [
    "sns.pairplot(movie_df_rep, y_vars=['Return_on_investment', 'worldwide_total_gross_adj'],\n",
    "             x_vars = ['Director_Rep', 'Actors_Rep', '3D', 'budget_adj', 'runtime', 'Adaption', 'Based_Real'], plot_kws={\"alpha\":0.2})"
   ]
  },
  {
   "cell_type": "markdown",
   "metadata": {},
   "source": [
    "#### 2.3 Rating"
   ]
  },
  {
   "cell_type": "code",
   "execution_count": 409,
   "metadata": {
    "collapsed": false
   },
   "outputs": [
    {
     "data": {
      "text/html": [
       "<div>\n",
       "<table border=\"1\" class=\"dataframe\">\n",
       "  <thead>\n",
       "    <tr style=\"text-align: right;\">\n",
       "      <th></th>\n",
       "      <th>Return_on_investment</th>\n",
       "      <th>worldwide_total_gross_adj</th>\n",
       "    </tr>\n",
       "  </thead>\n",
       "  <tbody>\n",
       "    <tr>\n",
       "      <th>Return_on_investment</th>\n",
       "      <td>1.000000</td>\n",
       "      <td>0.379666</td>\n",
       "    </tr>\n",
       "    <tr>\n",
       "      <th>worldwide_total_gross_adj</th>\n",
       "      <td>0.379666</td>\n",
       "      <td>1.000000</td>\n",
       "    </tr>\n",
       "    <tr>\n",
       "      <th>Rat-PG</th>\n",
       "      <td>0.038965</td>\n",
       "      <td>0.135695</td>\n",
       "    </tr>\n",
       "    <tr>\n",
       "      <th>Rat-R</th>\n",
       "      <td>0.028524</td>\n",
       "      <td>-0.214755</td>\n",
       "    </tr>\n",
       "    <tr>\n",
       "      <th>Rat-G</th>\n",
       "      <td>0.014832</td>\n",
       "      <td>0.082028</td>\n",
       "    </tr>\n",
       "    <tr>\n",
       "      <th>Rat-NC-17</th>\n",
       "      <td>-0.002483</td>\n",
       "      <td>-0.025443</td>\n",
       "    </tr>\n",
       "    <tr>\n",
       "      <th>Rat-PG-13</th>\n",
       "      <td>-0.063288</td>\n",
       "      <td>0.097081</td>\n",
       "    </tr>\n",
       "  </tbody>\n",
       "</table>\n",
       "</div>"
      ],
      "text/plain": [
       "                           Return_on_investment  worldwide_total_gross_adj\n",
       "Return_on_investment                   1.000000                   0.379666\n",
       "worldwide_total_gross_adj              0.379666                   1.000000\n",
       "Rat-PG                                 0.038965                   0.135695\n",
       "Rat-R                                  0.028524                  -0.214755\n",
       "Rat-G                                  0.014832                   0.082028\n",
       "Rat-NC-17                             -0.002483                  -0.025443\n",
       "Rat-PG-13                             -0.063288                   0.097081"
      ]
     },
     "execution_count": 409,
     "metadata": {},
     "output_type": "execute_result"
    }
   ],
   "source": [
    "movie_df_ratings=movie_df.drop(['movie_title', 'budget_adj','Rating','genre', \n",
    "                                'Animation', 'Comedy', 'Action/Adventure','Director_Rep', 'Actors_Rep',\n",
    "                                'Romance/ Drama','Sci-Fi/ Fantasy', 'Actors', 'Adaption', 'Based_Real',\n",
    "                                'Winter', 'Spring','Summer', 'Autumn',\n",
    "                                'Director', 'ForeignLanguage', '3D', 'Actors', 'Director','Documentary','runtime'], axis = 1)\n",
    "\n",
    "movie_df_ratings.corr()[['Return_on_investment', 'worldwide_total_gross_adj']].sort_values('Return_on_investment', ascending=False)"
   ]
  },
  {
   "cell_type": "code",
   "execution_count": 410,
   "metadata": {
    "collapsed": false
   },
   "outputs": [
    {
     "data": {
      "text/plain": [
       "<seaborn.axisgrid.PairGrid at 0x136691310>"
      ]
     },
     "execution_count": 410,
     "metadata": {},
     "output_type": "execute_result"
    },
    {
     "data": {
      "image/png": "[encoded data removed]",
      "text/plain": [
       "<matplotlib.figure.Figure at 0x1368f88d0>"
      ]
     },
     "metadata": {},
     "output_type": "display_data"
    }
   ],
   "source": [
    "sns.pairplot(movie_df_ratings, y_vars=['Return_on_investment', 'worldwide_total_gross_adj'],\n",
    "             x_vars = ['Rat-PG', 'Rat-R', 'Rat-G', 'Rat-NC-17', 'Rat-PG-13'], plot_kws={\"alpha\":0.2})"
   ]
  },
  {
   "cell_type": "markdown",
   "metadata": {},
   "source": [
    "#### 2.4. Season"
   ]
  },
  {
   "cell_type": "code",
   "execution_count": 411,
   "metadata": {
    "collapsed": false
   },
   "outputs": [
    {
     "data": {
      "text/html": [
       "<div>\n",
       "<table border=\"1\" class=\"dataframe\">\n",
       "  <thead>\n",
       "    <tr style=\"text-align: right;\">\n",
       "      <th></th>\n",
       "      <th>Return_on_investment</th>\n",
       "      <th>worldwide_total_gross_adj</th>\n",
       "    </tr>\n",
       "  </thead>\n",
       "  <tbody>\n",
       "    <tr>\n",
       "      <th>Return_on_investment</th>\n",
       "      <td>1.000000</td>\n",
       "      <td>0.379666</td>\n",
       "    </tr>\n",
       "    <tr>\n",
       "      <th>worldwide_total_gross_adj</th>\n",
       "      <td>0.379666</td>\n",
       "      <td>1.000000</td>\n",
       "    </tr>\n",
       "    <tr>\n",
       "      <th>Summer</th>\n",
       "      <td>0.045361</td>\n",
       "      <td>0.129999</td>\n",
       "    </tr>\n",
       "    <tr>\n",
       "      <th>Autumn</th>\n",
       "      <td>0.007506</td>\n",
       "      <td>-0.101254</td>\n",
       "    </tr>\n",
       "    <tr>\n",
       "      <th>Spring</th>\n",
       "      <td>-0.017871</td>\n",
       "      <td>0.035853</td>\n",
       "    </tr>\n",
       "    <tr>\n",
       "      <th>Winter</th>\n",
       "      <td>-0.037104</td>\n",
       "      <td>-0.065406</td>\n",
       "    </tr>\n",
       "  </tbody>\n",
       "</table>\n",
       "</div>"
      ],
      "text/plain": [
       "                           Return_on_investment  worldwide_total_gross_adj\n",
       "Return_on_investment                   1.000000                   0.379666\n",
       "worldwide_total_gross_adj              0.379666                   1.000000\n",
       "Summer                                 0.045361                   0.129999\n",
       "Autumn                                 0.007506                  -0.101254\n",
       "Spring                                -0.017871                   0.035853\n",
       "Winter                                -0.037104                  -0.065406"
      ]
     },
     "execution_count": 411,
     "metadata": {},
     "output_type": "execute_result"
    }
   ],
   "source": [
    "movie_df_seasons=movie_df.drop(['movie_title', 'budget_adj','Rating','genre', \n",
    "                                'Animation', 'Comedy', 'Action/Adventure','Director_Rep', 'Actors_Rep',\n",
    "                                'Romance/ Drama','Sci-Fi/ Fantasy', 'Actors', 'Based_Real', 'Adaption',\n",
    "                                'Rat-G', 'Rat-NC-17', 'Rat-PG', 'Rat-PG-13','Rat-R',\n",
    "                                'Director', 'ForeignLanguage', '3D', 'Actors', 'Director','Documentary','runtime'], axis = 1)\n",
    "\n",
    "movie_df_seasons.corr()[['Return_on_investment', 'worldwide_total_gross_adj']].sort_values('Return_on_investment', ascending=False)"
   ]
  },
  {
   "cell_type": "code",
   "execution_count": 412,
   "metadata": {
    "collapsed": false
   },
   "outputs": [
    {
     "data": {
      "text/plain": [
       "<seaborn.axisgrid.PairGrid at 0x133f399d0>"
      ]
     },
     "execution_count": 412,
     "metadata": {},
     "output_type": "execute_result"
    },
    {
     "data": {
      "image/png": "[encoded data removed]",
      "text/plain": [
       "<matplotlib.figure.Figure at 0x133f39510>"
      ]
     },
     "metadata": {},
     "output_type": "display_data"
    }
   ],
   "source": [
    "sns.pairplot(movie_df_seasons, y_vars=['Return_on_investment', 'worldwide_total_gross_adj'],\n",
    "             x_vars = ['Winter', 'Spring', 'Summer','Autumn'], plot_kws={\"alpha\":0.2})"
   ]
  },
  {
   "cell_type": "markdown",
   "metadata": {},
   "source": [
    "### 3. Regression model"
   ]
  },
  {
   "cell_type": "markdown",
   "metadata": {},
   "source": [
    "#### 3.1.1 Linear regression statsmodels without test/train split"
   ]
  },
  {
   "cell_type": "code",
   "execution_count": 413,
   "metadata": {
    "collapsed": false
   },
   "outputs": [
    {
     "data": {
      "text/html": [
       "<table class=\"simpletable\">\n",
       "<caption>OLS Regression Results</caption>\n",
       "<tr>\n",
       "  <th>Dep. Variable:</th>            <td>Y</td>        <th>  R-squared:         </th> <td>   0.055</td> \n",
       "</tr>\n",
       "<tr>\n",
       "  <th>Model:</th>                   <td>OLS</td>       <th>  Adj. R-squared:    </th> <td>   0.045</td> \n",
       "</tr>\n",
       "<tr>\n",
       "  <th>Method:</th>             <td>Least Squares</td>  <th>  F-statistic:       </th> <td>   5.809</td> \n",
       "</tr>\n",
       "<tr>\n",
       "  <th>Date:</th>             <td>Wed, 05 Oct 2016</td> <th>  Prob (F-statistic):</th> <td>5.30e-17</td> \n",
       "</tr>\n",
       "<tr>\n",
       "  <th>Time:</th>                 <td>22:08:45</td>     <th>  Log-Likelihood:    </th> <td> -7481.6</td> \n",
       "</tr>\n",
       "<tr>\n",
       "  <th>No. Observations:</th>      <td>  2322</td>      <th>  AIC:               </th> <td>1.501e+04</td>\n",
       "</tr>\n",
       "<tr>\n",
       "  <th>Df Residuals:</th>          <td>  2298</td>      <th>  BIC:               </th> <td>1.515e+04</td>\n",
       "</tr>\n",
       "<tr>\n",
       "  <th>Df Model:</th>              <td>    23</td>      <th>                     </th>     <td> </td>    \n",
       "</tr>\n",
       "<tr>\n",
       "  <th>Covariance Type:</th>      <td>nonrobust</td>    <th>                     </th>     <td> </td>    \n",
       "</tr>\n",
       "</table>\n",
       "<table class=\"simpletable\">\n",
       "<tr>\n",
       "      <td></td>         <th>coef</th>     <th>std err</th>      <th>t</th>      <th>P>|t|</th> <th>[95.0% Conf. Int.]</th> \n",
       "</tr>\n",
       "<tr>\n",
       "  <th>Intercept</th> <td>   -1.5018</td> <td>    6.404</td> <td>   -0.235</td> <td> 0.815</td> <td>  -14.059    11.056</td>\n",
       "</tr>\n",
       "<tr>\n",
       "  <th>X1</th>        <td>-2.501e-08</td> <td> 2.94e-09</td> <td>   -8.511</td> <td> 0.000</td> <td>-3.08e-08 -1.92e-08</td>\n",
       "</tr>\n",
       "<tr>\n",
       "  <th>X6</th>        <td>    0.0370</td> <td>    0.009</td> <td>    4.349</td> <td> 0.000</td> <td>    0.020     0.054</td>\n",
       "</tr>\n",
       "<tr>\n",
       "  <th>X21</th>       <td>   -0.6977</td> <td>    0.365</td> <td>   -1.911</td> <td> 0.056</td> <td>   -1.414     0.018</td>\n",
       "</tr>\n",
       "<tr>\n",
       "  <th>X22</th>       <td>   -0.7512</td> <td>    0.733</td> <td>   -1.024</td> <td> 0.306</td> <td>   -2.189     0.687</td>\n",
       "</tr>\n",
       "<tr>\n",
       "  <th>X23</th>       <td>   -0.9475</td> <td>    0.328</td> <td>   -2.890</td> <td> 0.004</td> <td>   -1.590    -0.305</td>\n",
       "</tr>\n",
       "<tr>\n",
       "  <th>X24</th>       <td>    1.6845</td> <td>    1.871</td> <td>    0.900</td> <td> 0.368</td> <td>   -1.985     5.354</td>\n",
       "</tr>\n",
       "<tr>\n",
       "  <th>X25</th>       <td>   -1.5121</td> <td>    1.257</td> <td>   -1.203</td> <td> 0.229</td> <td>   -3.976     0.952</td>\n",
       "</tr>\n",
       "<tr>\n",
       "  <th>X26</th>       <td>   -1.6876</td> <td>    0.360</td> <td>   -4.689</td> <td> 0.000</td> <td>   -2.393    -0.982</td>\n",
       "</tr>\n",
       "<tr>\n",
       "  <th>X27</th>       <td>   -0.0376</td> <td>    0.463</td> <td>   -0.081</td> <td> 0.935</td> <td>   -0.945     0.870</td>\n",
       "</tr>\n",
       "<tr>\n",
       "  <th>X31</th>       <td>   -0.2063</td> <td>    0.541</td> <td>   -0.381</td> <td> 0.703</td> <td>   -1.267     0.854</td>\n",
       "</tr>\n",
       "<tr>\n",
       "  <th>X32</th>       <td>    0.0649</td> <td>    0.017</td> <td>    3.848</td> <td> 0.000</td> <td>    0.032     0.098</td>\n",
       "</tr>\n",
       "<tr>\n",
       "  <th>X4</th>        <td>    1.4365</td> <td>    0.995</td> <td>    1.444</td> <td> 0.149</td> <td>   -0.515     3.388</td>\n",
       "</tr>\n",
       "<tr>\n",
       "  <th>X51</th>       <td>    2.1156</td> <td>    1.868</td> <td>    1.132</td> <td> 0.258</td> <td>   -1.548     5.780</td>\n",
       "</tr>\n",
       "<tr>\n",
       "  <th>X52</th>       <td>   -0.6542</td> <td>    3.416</td> <td>   -0.191</td> <td> 0.848</td> <td>   -7.354     6.045</td>\n",
       "</tr>\n",
       "<tr>\n",
       "  <th>X53</th>       <td>    1.6274</td> <td>    1.671</td> <td>    0.974</td> <td> 0.330</td> <td>   -1.649     4.904</td>\n",
       "</tr>\n",
       "<tr>\n",
       "  <th>X54</th>       <td>    0.2674</td> <td>    1.642</td> <td>    0.163</td> <td> 0.871</td> <td>   -2.953     3.488</td>\n",
       "</tr>\n",
       "<tr>\n",
       "  <th>X55</th>       <td>    0.2905</td> <td>    1.634</td> <td>    0.178</td> <td> 0.859</td> <td>   -2.913     3.494</td>\n",
       "</tr>\n",
       "<tr>\n",
       "  <th>X71</th>       <td>    1.3621</td> <td>    6.122</td> <td>    0.222</td> <td> 0.824</td> <td>  -10.643    13.368</td>\n",
       "</tr>\n",
       "<tr>\n",
       "  <th>X72</th>       <td>    1.7842</td> <td>    6.124</td> <td>    0.291</td> <td> 0.771</td> <td>  -10.224    13.793</td>\n",
       "</tr>\n",
       "<tr>\n",
       "  <th>X73</th>       <td>    2.7148</td> <td>    6.123</td> <td>    0.443</td> <td> 0.658</td> <td>   -9.293    14.723</td>\n",
       "</tr>\n",
       "<tr>\n",
       "  <th>X74</th>       <td>    1.8264</td> <td>    6.122</td> <td>    0.298</td> <td> 0.765</td> <td>  -10.178    13.831</td>\n",
       "</tr>\n",
       "<tr>\n",
       "  <th>X8</th>        <td>    0.3190</td> <td>    0.349</td> <td>    0.915</td> <td> 0.361</td> <td>   -0.365     1.003</td>\n",
       "</tr>\n",
       "<tr>\n",
       "  <th>X9</th>        <td>    0.0796</td> <td>    0.368</td> <td>    0.216</td> <td> 0.829</td> <td>   -0.643     0.802</td>\n",
       "</tr>\n",
       "</table>\n",
       "<table class=\"simpletable\">\n",
       "<tr>\n",
       "  <th>Omnibus:</th>       <td>2819.902</td> <th>  Durbin-Watson:     </th>  <td>   1.765</td> \n",
       "</tr>\n",
       "<tr>\n",
       "  <th>Prob(Omnibus):</th>  <td> 0.000</td>  <th>  Jarque-Bera (JB):  </th> <td>353326.609</td>\n",
       "</tr>\n",
       "<tr>\n",
       "  <th>Skew:</th>           <td> 6.433</td>  <th>  Prob(JB):          </th>  <td>    0.00</td> \n",
       "</tr>\n",
       "<tr>\n",
       "  <th>Kurtosis:</th>       <td>62.046</td>  <th>  Cond. No.          </th>  <td>9.70e+09</td> \n",
       "</tr>\n",
       "</table>"
      ],
      "text/plain": [
       "<class 'statsmodels.iolib.summary.Summary'>\n",
       "\"\"\"\n",
       "                            OLS Regression Results                            \n",
       "==============================================================================\n",
       "Dep. Variable:                      Y   R-squared:                       0.055\n",
       "Model:                            OLS   Adj. R-squared:                  0.045\n",
       "Method:                 Least Squares   F-statistic:                     5.809\n",
       "Date:                Wed, 05 Oct 2016   Prob (F-statistic):           5.30e-17\n",
       "Time:                        22:08:45   Log-Likelihood:                -7481.6\n",
       "No. Observations:                2322   AIC:                         1.501e+04\n",
       "Df Residuals:                    2298   BIC:                         1.515e+04\n",
       "Df Model:                          23                                         \n",
       "Covariance Type:            nonrobust                                         \n",
       "==============================================================================\n",
       "                 coef    std err          t      P>|t|      [95.0% Conf. Int.]\n",
       "------------------------------------------------------------------------------\n",
       "Intercept     -1.5018      6.404     -0.235      0.815       -14.059    11.056\n",
       "X1         -2.501e-08   2.94e-09     -8.511      0.000     -3.08e-08 -1.92e-08\n",
       "X6             0.0370      0.009      4.349      0.000         0.020     0.054\n",
       "X21           -0.6977      0.365     -1.911      0.056        -1.414     0.018\n",
       "X22           -0.7512      0.733     -1.024      0.306        -2.189     0.687\n",
       "X23           -0.9475      0.328     -2.890      0.004        -1.590    -0.305\n",
       "X24            1.6845      1.871      0.900      0.368        -1.985     5.354\n",
       "X25           -1.5121      1.257     -1.203      0.229        -3.976     0.952\n",
       "X26           -1.6876      0.360     -4.689      0.000        -2.393    -0.982\n",
       "X27           -0.0376      0.463     -0.081      0.935        -0.945     0.870\n",
       "X31           -0.2063      0.541     -0.381      0.703        -1.267     0.854\n",
       "X32            0.0649      0.017      3.848      0.000         0.032     0.098\n",
       "X4             1.4365      0.995      1.444      0.149        -0.515     3.388\n",
       "X51            2.1156      1.868      1.132      0.258        -1.548     5.780\n",
       "X52           -0.6542      3.416     -0.191      0.848        -7.354     6.045\n",
       "X53            1.6274      1.671      0.974      0.330        -1.649     4.904\n",
       "X54            0.2674      1.642      0.163      0.871        -2.953     3.488\n",
       "X55            0.2905      1.634      0.178      0.859        -2.913     3.494\n",
       "X71            1.3621      6.122      0.222      0.824       -10.643    13.368\n",
       "X72            1.7842      6.124      0.291      0.771       -10.224    13.793\n",
       "X73            2.7148      6.123      0.443      0.658        -9.293    14.723\n",
       "X74            1.8264      6.122      0.298      0.765       -10.178    13.831\n",
       "X8             0.3190      0.349      0.915      0.361        -0.365     1.003\n",
       "X9             0.0796      0.368      0.216      0.829        -0.643     0.802\n",
       "==============================================================================\n",
       "Omnibus:                     2819.902   Durbin-Watson:                   1.765\n",
       "Prob(Omnibus):                  0.000   Jarque-Bera (JB):           353326.609\n",
       "Skew:                           6.433   Prob(JB):                         0.00\n",
       "Kurtosis:                      62.046   Cond. No.                     9.70e+09\n",
       "==============================================================================\n",
       "\n",
       "Warnings:\n",
       "[1] Standard Errors assume that the covariance matrix of the errors is correctly specified.\n",
       "[2] The condition number is large, 9.7e+09. This might indicate that there are\n",
       "strong multicollinearity or other numerical problems.\n",
       "\"\"\""
      ]
     },
     "execution_count": 413,
     "metadata": {},
     "output_type": "execute_result"
    }
   ],
   "source": [
    "Y = movie_df['Return_on_investment']\n",
    "#Y = movie_df['worldwide_total_gross_adj']\n",
    "X1 = movie_df['budget_adj']\n",
    "X21 = movie_df['Action/Adventure']\n",
    "X22 = movie_df['Animation']\n",
    "X23 = movie_df['Comedy']\n",
    "X24 = movie_df['Documentary']\n",
    "X25 = movie_df['ForeignLanguage']\n",
    "X26 = movie_df['Romance/ Drama']\n",
    "X27 = movie_df['Sci-Fi/ Fantasy']\n",
    "X31 = movie_df['Director_Rep']\n",
    "X32 = movie_df['Actors_Rep']\n",
    "X4 = movie_df['3D']\n",
    "X51 = movie_df['Rat-G']\n",
    "X52 = movie_df['Rat-NC-17']\n",
    "X53 = movie_df['Rat-PG']\n",
    "X54 = movie_df['Rat-PG-13']\n",
    "X55 = movie_df['Rat-R']\n",
    "X6 = movie_df['runtime']\n",
    "X71 = movie_df['Winter']\n",
    "X72 = movie_df['Spring']\n",
    "X73 = movie_df['Summer']\n",
    "X74 = movie_df['Autumn']\n",
    "X8 = movie_df['Adaption']\n",
    "X9 = movie_df['Based_Real']\n",
    "\n",
    "\n",
    "lm1 = smf.ols('Y ~ X1 + X6 + X21 + X22 + X23 + X24 + X25 + X26 + X27 + X31 +X32 + X4 + X51 + X52 + X53 + X54 + X55 + X6 + X71 + X72 + X73 +X74 + X8 + X9', data=movie_df)\n",
    "\n",
    "fit1 = lm1.fit()\n",
    "fit1.summary()"
   ]
  },
  {
   "cell_type": "code",
   "execution_count": 414,
   "metadata": {
    "collapsed": false
   },
   "outputs": [
    {
     "data": {
      "text/plain": [
       "[<matplotlib.lines.Line2D at 0x126f14550>]"
      ]
     },
     "execution_count": 414,
     "metadata": {},
     "output_type": "execute_result"
    },
    {
     "data": {
      "image/png": "[encoded data removed]",
      "text/plain": [
       "<matplotlib.figure.Figure at 0x126465d10>"
      ]
     },
     "metadata": {},
     "output_type": "display_data"
    }
   ],
   "source": [
    "# Plot Residuals\n",
    "plt.plot(fit1.resid.reset_index().iloc[:,1], 'o', alpha=0.5)\n",
    "#fit1.resid.plot(style='o', figsize=(12,8), alpha=0.5)"
   ]
  },
  {
   "cell_type": "code",
   "execution_count": 415,
   "metadata": {
    "collapsed": true
   },
   "outputs": [],
   "source": [
    "# save model to pickle file\n",
    "\n",
    "fit1.save('model.pkl')"
   ]
  },
  {
   "cell_type": "markdown",
   "metadata": {},
   "source": [
    "#### 3.1.2 Linear regression Train / Test split (Sklearn)"
   ]
  },
  {
   "cell_type": "code",
   "execution_count": 11,
   "metadata": {
    "collapsed": true
   },
   "outputs": [],
   "source": [
    "#Helper functions for plots\n",
    "\n",
    "# define error and plot fns\n",
    "def RMSE(y_test, y_predict):\n",
    "    RMSE = (sum((y_predict - y_test)**2)/len(y_test))**0.5\n",
    "    return RMSE\n",
    "\n",
    "def plot_predict(y_test, y_predict):\n",
    "    fig, ax = plt.subplots(1, 1, figsize = (10, 5))\n",
    "    ax.scatter(y_test, y_predict, alpha = 0.25)\n",
    "    ax.plot(np.linspace(min(y_test), max(y_test), 2), np.linspace(min(y_test), max(y_test), 2), 'r--')\n",
    "    ax.set_xlabel('y test', fontsize = 20)\n",
    "    ax.set_ylabel('y predict', fontsize = 20)\n",
    "    ax.set_xlim([-1,20])\n",
    "    ax.set_ylim([-1,15])\n",
    "    #ax.set_aspect(\"equal\")\n",
    "    ax.set_title(('RMSE = ' + str(RMSE(y_test, y_predict)) + '| R - Squared = ' + str(calc_RSquared(y_test, y_predict))), fontsize = 20)\n",
    "    ax.tick_params(axis='x', labelsize=20)\n",
    "    ax.tick_params(axis='y', labelsize=20)\n",
    "    \n",
    "def plot_predict_2(y_test, y_predict):\n",
    "    fig, ax = plt.subplots(1, 1, figsize = (10, 5))\n",
    "    ax.scatter(y_test, y_predict, alpha = 0.5)\n",
    "    ax.plot(np.linspace(min(y_test), max(y_test), 2), np.linspace(min(y_test), max(y_test), 2), 'r--')\n",
    "    ax.set_xlabel('y test', fontsize = 20)\n",
    "    ax.set_ylabel('y predict', fontsize = 20)\n",
    "    ax.set_xlim([-1,15])\n",
    "    ax.set_ylim([-1,15])\n",
    "    #ax.set_aspect(\"equal\")\n",
    "    ax.set_title(('RMSE = ' + str(RMSE(y_test, y_predict)) + '| R - Squared = ' + str(calc_RSquared(y_test, y_predict))), fontsize = 20)\n",
    "    ax.tick_params(axis='x', labelsize=20)\n",
    "    ax.tick_params(axis='y', labelsize=20)\n",
    "\n",
    "\n",
    "def calc_RSquared(y_test, y_predict):\n",
    "    SS_total = np.sum((y_test - np.mean(y_test))**2)\n",
    "    SS_res = np.sum((y_test - y_predict)**2)\n",
    "    return (1 - SS_res/SS_total)"
   ]
  },
  {
   "cell_type": "code",
   "execution_count": 5,
   "metadata": {
    "collapsed": false
   },
   "outputs": [],
   "source": [
    "movie_df_num = movie_df.drop(['Actors', 'Director','Rating', 'Release_Date','genre','movie_title'], axis=1)"
   ]
  },
  {
   "cell_type": "code",
   "execution_count": 418,
   "metadata": {
    "collapsed": true
   },
   "outputs": [],
   "source": [
    "#Save movie_df_num to pickle file\n",
    "\n",
    "with open('html/movie_df_num.pkl', 'wb') as picklefile:\n",
    "    pickle.dump(movie_df_num, picklefile)"
   ]
  },
  {
   "cell_type": "code",
   "execution_count": 6,
   "metadata": {
    "collapsed": false
   },
   "outputs": [],
   "source": [
    "lr2 = LinearRegression()\n",
    "X = movie_df_num.drop(['Return_on_investment','worldwide_total_gross_adj'], axis=1)\n",
    "y = movie_df_num['Return_on_investment']"
   ]
  },
  {
   "cell_type": "code",
   "execution_count": 15,
   "metadata": {
    "collapsed": false
   },
   "outputs": [
    {
     "data": {
      "text/plain": [
       "0.041112519222906374"
      ]
     },
     "execution_count": 15,
     "metadata": {},
     "output_type": "execute_result"
    }
   ],
   "source": [
    "X_train, X_test, y_train, y_test = train_test_split(X, y, test_size=0.3)\n",
    "fit2 = lr2.fit(X_train,y_train)\n",
    "lr2.score(X_test, y_test)"
   ]
  },
  {
   "cell_type": "code",
   "execution_count": 74,
   "metadata": {
    "collapsed": false
   },
   "outputs": [
    {
     "data": {
      "image/png": "[encoded data removed]",
      "text/plain": [
       "<matplotlib.figure.Figure at 0x11a7ca650>"
      ]
     },
     "metadata": {},
     "output_type": "display_data"
    }
   ],
   "source": [
    "plot_predict(y_test, lr2.predict(X_test))"
   ]
  },
  {
   "cell_type": "markdown",
   "metadata": {},
   "source": [
    "#### 3.2 Lasso"
   ]
  },
  {
   "cell_type": "code",
   "execution_count": 75,
   "metadata": {
    "collapsed": false
   },
   "outputs": [
    {
     "data": {
      "image/png": "[encoded data removed]",
      "text/plain": [
       "<matplotlib.figure.Figure at 0x11f575e10>"
      ]
     },
     "metadata": {},
     "output_type": "display_data"
    }
   ],
   "source": [
    "from sklearn.linear_model import Lasso\n",
    "\n",
    "X1=movie_df.drop(['Actors','genre', 'Director', 'Rating','movie_title','Return_on_investment', 'worldwide_total_gross_adj', 'Release_Date'], axis = 1)\n",
    "y1 = movie_df['Return_on_investment']\n",
    "names = X1.columns\n",
    "\n",
    "X_train_l, X_test_l, y_train_l, y_test_l = train_test_split(X1, y1, test_size=0.3)\n",
    "\n",
    "lasso_poly = make_pipeline(PolynomialFeatures(1), Lasso(alpha = 0.00001))\n",
    "lasso_poly.fit(X_train_l, y_train_l)\n",
    "y_predict = lasso_poly.predict(X_test_l)\n",
    "plot_predict(y_test_l, y_predict)"
   ]
  },
  {
   "cell_type": "markdown",
   "metadata": {},
   "source": [
    "#### 3.2. Random Forest"
   ]
  },
  {
   "cell_type": "code",
   "execution_count": 20,
   "metadata": {
    "collapsed": false
   },
   "outputs": [],
   "source": [
    "X_rf = movie_df.drop(['Actors','genre', 'Director', 'Rating','movie_title','Return_on_investment', 'worldwide_total_gross_adj', 'Release_Date'], axis = 1)\n",
    "y_rf = movie_df['Return_on_investment']\n",
    "names = X_rf.columns"
   ]
  },
  {
   "cell_type": "code",
   "execution_count": 67,
   "metadata": {
    "collapsed": false
   },
   "outputs": [
    {
     "data": {
      "text/plain": [
       "0.25566395211008008"
      ]
     },
     "execution_count": 67,
     "metadata": {},
     "output_type": "execute_result"
    }
   ],
   "source": [
    "rf = RandomForestRegressor(n_estimators = 50, max_features = 6)\n",
    "X_train_rf, X_test_rf, y_train_rf, y_test_rf = train_test_split(X_rf, y_rf, test_size=0.25)\n",
    "fit_rf = rf.fit(X_train_rf, y_train_rf)\n",
    "fit_rf.score(X_test_rf,y_test_rf)"
   ]
  },
  {
   "cell_type": "code",
   "execution_count": 76,
   "metadata": {
    "collapsed": false
   },
   "outputs": [
    {
     "data": {
      "image/png": "[encoded data removed]",
      "text/plain": [
       "<matplotlib.figure.Figure at 0x11f59d810>"
      ]
     },
     "metadata": {},
     "output_type": "display_data"
    }
   ],
   "source": [
    "plot_predict(y_test_rf, fit_rf.predict(X_test_rf))"
   ]
  },
  {
   "cell_type": "code",
   "execution_count": 489,
   "metadata": {
    "collapsed": false
   },
   "outputs": [
    {
     "data": {
      "text/plain": [
       "[(0.41547592479824808, 'budget_adj'),\n",
       " (0.20601780756975405, 'runtime'),\n",
       " (0.093361285338586134, 'Actors_Rep'),\n",
       " (0.0290525237978136, 'Rat-PG'),\n",
       " (0.029044755621631908, 'Comedy'),\n",
       " (0.028350980743700686, 'Summer'),\n",
       " (0.024789609932246853, 'Based_Real'),\n",
       " (0.023432354066047233, 'Romance/ Drama'),\n",
       " (0.022680548529965955, 'Autumn'),\n",
       " (0.021943541552630261, 'Adaption'),\n",
       " (0.020433022272735257, 'Action/Adventure'),\n",
       " (0.018514695017665589, 'Spring'),\n",
       " (0.016667555876361508, 'Rat-R'),\n",
       " (0.011006997617240175, 'Rat-PG-13'),\n",
       " (0.0094963739783791631, 'Winter'),\n",
       " (0.0081838022113374237, 'Documentary'),\n",
       " (0.0053824097916880097, 'Sci-Fi/ Fantasy'),\n",
       " (0.0049790794868096247, 'Animation'),\n",
       " (0.004363500729799661, 'ForeignLanguage'),\n",
       " (0.0043032357629569952, 'Rat-G'),\n",
       " (0.0020705158853779786, '3D'),\n",
       " (0.00043659750533407845, 'Rat-NC-17'),\n",
       " (1.2881913689809785e-05, 'Director_Rep')]"
      ]
     },
     "execution_count": 489,
     "metadata": {},
     "output_type": "execute_result"
    }
   ],
   "source": [
    "sorted(zip(rf.feature_importances_, names),reverse=True)"
   ]
  },
  {
   "cell_type": "code",
   "execution_count": 491,
   "metadata": {
    "collapsed": false
   },
   "outputs": [],
   "source": [
    "# Pickle fit_rf to a file \n",
    "joblib.dump(fit_rf, 'fit_rf.pkl')\n",
    "\n",
    "# Save X_test and y_test as csv\n",
    "\n",
    "X_test_rf.to_csv('rf_X_test.csv', index= False)\n",
    "\n",
    "y_test_rf.to_csv('rf_y_test.csv', index= False)"
   ]
  },
  {
   "cell_type": "code",
   "execution_count": 492,
   "metadata": {
    "collapsed": false
   },
   "outputs": [],
   "source": [
    "# save variables to pickle\n",
    "\n",
    "with open('X_test_rf1.pkl', 'wb') as picklefile:\n",
    "    pickle.dump(X_test_rf, picklefile)\n",
    "    \n",
    "with open('Y_test_rf1.pkl', 'wb') as picklefile:\n",
    "    pickle.dump(y_test_rf, picklefile)"
   ]
  },
  {
   "cell_type": "code",
   "execution_count": 463,
   "metadata": {
    "collapsed": false
   },
   "outputs": [],
   "source": [
    "# load fit_rf from pickle file\n",
    "\n",
    "fit_rf = joblib.load('fit_rf.pkl')\n",
    "\n",
    "#open \n",
    "\n",
    "X_test_rf = pd.read_csv('rf_X_test.csv')\n",
    "\n",
    "y_test_rf = pd.read_csv('rf_y_test.csv', header=None)"
   ]
  },
  {
   "cell_type": "markdown",
   "metadata": {},
   "source": [
    "#### 3.2.2 K-fold testing"
   ]
  },
  {
   "cell_type": "code",
   "execution_count": null,
   "metadata": {
    "collapsed": false
   },
   "outputs": [],
   "source": [
    "from sklearn.cross_validation import cross_val_score, train_test_split, KFold\n",
    "\n",
    "kfold = KFold(len(X_train_rf), n_folds=10, shuffle=True)\n",
    "\n",
    "rf2 = RandomForestRegressor(n_estimators = 50, max_features = 6)"
   ]
  },
  {
   "cell_type": "code",
   "execution_count": null,
   "metadata": {
    "collapsed": false
   },
   "outputs": [],
   "source": [
    "scores = cross_val_score(rf2, X_rf, y_rf, cv=10, scoring = 'r2')\n",
    "scores.mean()"
   ]
  },
  {
   "cell_type": "markdown",
   "metadata": {
    "collapsed": true
   },
   "source": [
    "#### 3.3.3 Random Forest without large outliers "
   ]
  },
  {
   "cell_type": "code",
   "execution_count": 77,
   "metadata": {
    "collapsed": false
   },
   "outputs": [],
   "source": [
    "movie_df_wo = movie_df[movie_df['Return_on_investment']<20]"
   ]
  },
  {
   "cell_type": "code",
   "execution_count": 78,
   "metadata": {
    "collapsed": false
   },
   "outputs": [],
   "source": [
    "X_rf_wo = movie_df_wo.drop(['Actors','genre', 'Director', 'Rating','movie_title','Return_on_investment', 'worldwide_total_gross_adj', 'Release_Date'], axis = 1)\n",
    "y_rf_wo = movie_df_wo['Return_on_investment']\n",
    "names = X_rf_wo.columns"
   ]
  },
  {
   "cell_type": "code",
   "execution_count": 85,
   "metadata": {
    "collapsed": false
   },
   "outputs": [
    {
     "data": {
      "text/plain": [
       "0.11241817602590597"
      ]
     },
     "execution_count": 85,
     "metadata": {},
     "output_type": "execute_result"
    }
   ],
   "source": [
    "rf_wo = RandomForestRegressor(n_estimators = 100, max_features = 6)\n",
    "X_train_rf_wo, X_test_rf_wo, y_train_rf_wo, y_test_rf_wo = train_test_split(X_rf_wo, y_rf_wo, test_size=0.25)\n",
    "fit_rf_wo = rf_wo.fit(X_train_rf_wo, y_train_rf_wo)\n",
    "fit_rf_wo.score(X_test_rf_wo,y_test_rf_wo)"
   ]
  },
  {
   "cell_type": "code",
   "execution_count": 86,
   "metadata": {
    "collapsed": false
   },
   "outputs": [
    {
     "data": {
      "image/png": "[encoded data removed]",
      "text/plain": [
       "<matplotlib.figure.Figure at 0x11fac5cd0>"
      ]
     },
     "metadata": {},
     "output_type": "display_data"
    }
   ],
   "source": [
    "plot_predict(y_test_rf_wo, fit_rf_wo.predict(X_test_rf_wo))£"
   ]
  },
  {
   "cell_type": "markdown",
   "metadata": {},
   "source": [
    "#### 3.3.4 Random Forrest for profitable movies only"
   ]
  },
  {
   "cell_type": "code",
   "execution_count": 87,
   "metadata": {
    "collapsed": true
   },
   "outputs": [],
   "source": [
    "movie_df_nl = movie_df[movie_df['Return_on_investment']>0]"
   ]
  },
  {
   "cell_type": "code",
   "execution_count": 88,
   "metadata": {
    "collapsed": false
   },
   "outputs": [],
   "source": [
    "X_rf_nl = movie_df_nl.drop(['Actors','genre', 'Director', 'Rating','movie_title','Return_on_investment', 'worldwide_total_gross_adj', 'Release_Date'], axis = 1)\n",
    "y_rf_nl = movie_df_nl['Return_on_investment']\n",
    "names = X_rf_nl.columns"
   ]
  },
  {
   "cell_type": "code",
   "execution_count": 112,
   "metadata": {
    "collapsed": false
   },
   "outputs": [
    {
     "data": {
      "text/plain": [
       "0.2715224705185405"
      ]
     },
     "execution_count": 112,
     "metadata": {},
     "output_type": "execute_result"
    }
   ],
   "source": [
    "rf_nl = RandomForestRegressor(n_estimators = 100, max_features = 6)\n",
    "X_train_rf_nl, X_test_rf_nl, y_train_rf_nl, y_test_rf_nl = train_test_split(X_rf_nl, y_rf_nl, test_size=0.25)\n",
    "fit_rf_nl = rf_wo.fit(X_train_rf_nl, y_train_rf_nl)\n",
    "fit_rf_nl.score(X_test_rf_nl,y_test_rf_nl)"
   ]
  },
  {
   "cell_type": "code",
   "execution_count": 113,
   "metadata": {
    "collapsed": false
   },
   "outputs": [
    {
     "data": {
      "image/png": "[encoded data removed]",
      "text/plain": [
       "<matplotlib.figure.Figure at 0x11f36dcd0>"
      ]
     },
     "metadata": {},
     "output_type": "display_data"
    }
   ],
   "source": [
    "plot_predict(y_test_rf_nl, fit_rf_nl.predict(X_test_rf_nl))"
   ]
  },
  {
   "cell_type": "markdown",
   "metadata": {},
   "source": [
    "#### 3.3.5 Random Forrest profitable vs. non profitable"
   ]
  },
  {
   "cell_type": "code",
   "execution_count": 114,
   "metadata": {
    "collapsed": true
   },
   "outputs": [],
   "source": [
    "def check_prof(RoI):\n",
    "    if RoI>0:\n",
    "        return 1\n",
    "    else:\n",
    "        return 0"
   ]
  },
  {
   "cell_type": "code",
   "execution_count": 115,
   "metadata": {
    "collapsed": true
   },
   "outputs": [],
   "source": [
    "movie_df_prof = movie_df"
   ]
  },
  {
   "cell_type": "code",
   "execution_count": 116,
   "metadata": {
    "collapsed": false
   },
   "outputs": [],
   "source": [
    "movie_df_prof['Prof'] = movie_df['Return_on_investment'].map(check_prof)"
   ]
  },
  {
   "cell_type": "code",
   "execution_count": 117,
   "metadata": {
    "collapsed": false
   },
   "outputs": [],
   "source": [
    "X_rf_prof = movie_df_prof.drop(['Actors','genre', 'Director', 'Rating','movie_title','Return_on_investment', 'Prof', 'worldwide_total_gross_adj', 'Release_Date'], axis = 1)\n",
    "y_rf_prof = movie_df_prof['Prof']\n",
    "names = X_rf_prof.columns"
   ]
  },
  {
   "cell_type": "code",
   "execution_count": 121,
   "metadata": {
    "collapsed": false
   },
   "outputs": [
    {
     "data": {
      "text/plain": [
       "-0.077580700000000169"
      ]
     },
     "execution_count": 121,
     "metadata": {},
     "output_type": "execute_result"
    }
   ],
   "source": [
    "rf_prof = RandomForestRegressor(n_estimators = 50, max_features = 6)\n",
    "X_train_rf_prof, X_test_rf_prof, y_train_rf_prof, y_test_rf_prof = train_test_split(X_rf_prof, y_rf_prof, test_size=0.25)\n",
    "fit_rf_prof = rf_wo.fit(X_train_rf_prof, y_train_rf_prof)\n",
    "fit_rf_prof.score(X_test_rf_prof,y_test_rf_prof)"
   ]
  },
  {
   "cell_type": "code",
   "execution_count": 122,
   "metadata": {
    "collapsed": false
   },
   "outputs": [
    {
     "data": {
      "image/png": "[encoded data removed]",
      "text/plain": [
       "<matplotlib.figure.Figure at 0x11f3a3b50>"
      ]
     },
     "metadata": {},
     "output_type": "display_data"
    }
   ],
   "source": [
    "plot_predict(y_test_rf_prof, fit_rf_nl.predict(X_test_rf_prof))"
   ]
  },
  {
   "cell_type": "markdown",
   "metadata": {},
   "source": [
    "### 4 Selected Genres only"
   ]
  },
  {
   "cell_type": "markdown",
   "metadata": {},
   "source": [
    "### 4.1 Sci-Fi/ Fantasy Genre"
   ]
  },
  {
   "cell_type": "code",
   "execution_count": 12,
   "metadata": {
    "collapsed": false
   },
   "outputs": [],
   "source": [
    "movie_df_act = movie_df[movie_df['Sci-Fi/ Fantasy']==1]"
   ]
  },
  {
   "cell_type": "code",
   "execution_count": 13,
   "metadata": {
    "collapsed": true
   },
   "outputs": [],
   "source": [
    "X_rf_act = movie_df_act.drop(['Actors','genre', 'Director', 'Rating','movie_title','Return_on_investment', 'worldwide_total_gross_adj', 'Release_Date',\n",
    "                         'Sci-Fi/ Fantasy', 'Romance/ Drama', 'Action/Adventure', 'Documentary', \n",
    "                              'Animation', 'Comedy', 'ForeignLanguage'], axis = 1)\n",
    "y_rf_act = movie_df_act['Return_on_investment']\n",
    "names = X_rf_act.columns"
   ]
  },
  {
   "cell_type": "code",
   "execution_count": 33,
   "metadata": {
    "collapsed": false
   },
   "outputs": [
    {
     "data": {
      "text/plain": [
       "0.50777314457514189"
      ]
     },
     "execution_count": 33,
     "metadata": {},
     "output_type": "execute_result"
    }
   ],
   "source": [
    "rf_act = RandomForestRegressor(n_estimators = 100, max_features = 6)\n",
    "X_train_rf_act, X_test_rf_act, y_train_rf_act, y_test_rf_act = train_test_split(X_rf_act, y_rf_act, test_size=0.25)\n",
    "fit_rf_act = rf_act.fit(X_train_rf_act, y_train_rf_act)\n",
    "fit_rf_act.score(X_test_rf_act,y_test_rf_act)"
   ]
  },
  {
   "cell_type": "code",
   "execution_count": 34,
   "metadata": {
    "collapsed": false
   },
   "outputs": [
    {
     "data": {
      "image/png": "[encoded data removed]",
      "text/plain": [
       "<matplotlib.figure.Figure at 0x11b7eb510>"
      ]
     },
     "metadata": {},
     "output_type": "display_data"
    }
   ],
   "source": [
    "plot_predict_2(y_test_rf_act, fit_rf_act.predict(X_test_rf_act))"
   ]
  },
  {
   "cell_type": "code",
   "execution_count": 136,
   "metadata": {
    "collapsed": false
   },
   "outputs": [
    {
     "data": {
      "text/plain": [
       "(228, 17)"
      ]
     },
     "execution_count": 136,
     "metadata": {},
     "output_type": "execute_result"
    }
   ],
   "source": [
    "X_rf_act.shape"
   ]
  },
  {
   "cell_type": "code",
   "execution_count": 35,
   "metadata": {
    "collapsed": false
   },
   "outputs": [
    {
     "data": {
      "text/plain": [
       "[(0.27273251800337778, 'Actors_Rep'),\n",
       " (0.26485579677094884, 'budget_adj'),\n",
       " (0.23815776339890504, 'runtime'),\n",
       " (0.067592390041385175, 'Rat-PG'),\n",
       " (0.039650012806072638, 'Spring'),\n",
       " (0.030713244171664978, 'Rat-PG-13'),\n",
       " (0.026088092432971621, 'Adaption'),\n",
       " (0.019831525082657519, 'Summer'),\n",
       " (0.011493093506998207, 'Autumn'),\n",
       " (0.0085721531163329614, 'Winter'),\n",
       " (0.0080387262205344132, 'Based_Real'),\n",
       " (0.007550559742223439, 'Rat-R'),\n",
       " (0.0047241247059274429, '3D'),\n",
       " (0.0, 'Rat-NC-17'),\n",
       " (0.0, 'Rat-G'),\n",
       " (0.0, 'Director_Rep')]"
      ]
     },
     "execution_count": 35,
     "metadata": {},
     "output_type": "execute_result"
    }
   ],
   "source": [
    "sorted(zip(rf_act.feature_importances_, names),reverse=True)"
   ]
  },
  {
   "cell_type": "markdown",
   "metadata": {},
   "source": [
    "#### 4.2 Animation"
   ]
  },
  {
   "cell_type": "code",
   "execution_count": 36,
   "metadata": {
    "collapsed": false
   },
   "outputs": [],
   "source": [
    "movie_df_rom = movie_df[movie_df['Animation']==1]"
   ]
  },
  {
   "cell_type": "code",
   "execution_count": 37,
   "metadata": {
    "collapsed": false
   },
   "outputs": [],
   "source": [
    "X_rf_rom = movie_df_rom.drop(['Actors','genre', 'Director', 'Rating','movie_title','Return_on_investment', 'worldwide_total_gross_adj', 'Release_Date',\n",
    "                         'Sci-Fi/ Fantasy', 'Romance/ Drama', 'Action/Adventure', 'Documentary', \n",
    "                              'Animation', 'Comedy', 'ForeignLanguage'], axis = 1)\n",
    "y_rf_rom = movie_df_rom['Return_on_investment']\n",
    "names = X_rf_rom.columns"
   ]
  },
  {
   "cell_type": "code",
   "execution_count": 66,
   "metadata": {
    "collapsed": false
   },
   "outputs": [
    {
     "data": {
      "text/plain": [
       "0.32700553307024616"
      ]
     },
     "execution_count": 66,
     "metadata": {},
     "output_type": "execute_result"
    }
   ],
   "source": [
    "rf_rom = RandomForestRegressor(n_estimators = 100, max_features = 6)\n",
    "X_train_rf_rom, X_test_rf_rom, y_train_rf_rom, y_test_rf_rom = train_test_split(X_rf_rom, y_rf_rom, test_size=0.25)\n",
    "fit_rf_rom = rf_rom.fit(X_train_rf_rom, y_train_rf_rom)\n",
    "fit_rf_rom.score(X_test_rf_rom,y_test_rf_rom)"
   ]
  },
  {
   "cell_type": "code",
   "execution_count": 67,
   "metadata": {
    "collapsed": false
   },
   "outputs": [
    {
     "data": {
      "image/png": "[encoded data removed]",
      "text/plain": [
       "<matplotlib.figure.Figure at 0x11e0dd490>"
      ]
     },
     "metadata": {},
     "output_type": "display_data"
    }
   ],
   "source": [
    "plot_predict_2(y_test_rf_rom, fit_rf_rom.predict(X_test_rf_rom))"
   ]
  },
  {
   "cell_type": "code",
   "execution_count": 68,
   "metadata": {
    "collapsed": false
   },
   "outputs": [
    {
     "data": {
      "text/plain": [
       "(149, 16)"
      ]
     },
     "execution_count": 68,
     "metadata": {},
     "output_type": "execute_result"
    }
   ],
   "source": [
    "X_rf_rom.shape"
   ]
  },
  {
   "cell_type": "code",
   "execution_count": 69,
   "metadata": {
    "collapsed": false
   },
   "outputs": [
    {
     "data": {
      "text/plain": [
       "[(0.24003198644673465, 'budget_adj'),\n",
       " (0.23327330483348374, 'Actors_Rep'),\n",
       " (0.1585010772586247, 'runtime'),\n",
       " (0.099269503801729636, 'Based_Real'),\n",
       " (0.063401422714270475, 'Rat-G'),\n",
       " (0.058144674248564947, 'Summer'),\n",
       " (0.042217653130864043, 'Rat-PG'),\n",
       " (0.03049601929704835, 'Adaption'),\n",
       " (0.026278170280067875, 'Autumn'),\n",
       " (0.024329270858309302, 'Spring'),\n",
       " (0.010512332626383371, '3D'),\n",
       " (0.0070408000493803321, 'Winter'),\n",
       " (0.0049432034808895679, 'Rat-R'),\n",
       " (0.001560580973649104, 'Rat-PG-13'),\n",
       " (0.0, 'Rat-NC-17'),\n",
       " (0.0, 'Director_Rep')]"
      ]
     },
     "execution_count": 69,
     "metadata": {},
     "output_type": "execute_result"
    }
   ],
   "source": [
    "sorted(zip(rf_rom.feature_importances_, names),reverse=True)"
   ]
  },
  {
   "cell_type": "code",
   "execution_count": null,
   "metadata": {
    "collapsed": true
   },
   "outputs": [],
   "source": []
  }
 ],
 "metadata": {
  "anaconda-cloud": {},
  "kernelspec": {
   "display_name": "Python [Root]",
   "language": "python",
   "name": "Python [Root]"
  },
  "language_info": {
   "codemirror_mode": {
    "name": "ipython",
    "version": 2
   },
   "file_extension": ".py",
   "mimetype": "text/x-python",
   "name": "python",
   "nbconvert_exporter": "python",
   "pygments_lexer": "ipython2",
   "version": "2.7.12"
  }
 },
 "nbformat": 4,
 "nbformat_minor": 0
}
