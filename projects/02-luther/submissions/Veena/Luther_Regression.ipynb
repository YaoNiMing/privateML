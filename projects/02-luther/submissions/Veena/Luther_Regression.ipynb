{
 "cells": [
  {
   "cell_type": "code",
   "execution_count": 1,
   "metadata": {
    "collapsed": false
   },
   "outputs": [
    {
     "name": "stderr",
     "output_type": "stream",
     "text": [
      "/Users/veenakumar/anaconda2/lib/python2.7/site-packages/sklearn/cross_validation.py:44: DeprecationWarning: This module was deprecated in version 0.18 in favor of the model_selection module into which all the refactored classes and functions are moved. Also note that the interface of the new CV iterators are different from that of this module. This module will be removed in 0.20.\n",
      "  \"This module will be removed in 0.20.\", DeprecationWarning)\n"
     ]
    }
   ],
   "source": [
    "# Python 2 & 3 Compatibility\n",
    "from __future__ import print_function, division\n",
    "\n",
    "# Necessary imports\n",
    "import pandas as pd\n",
    "import numpy as np\n",
    "import statsmodels.api as sm\n",
    "import statsmodels.formula.api as smf\n",
    "import patsy\n",
    "import seaborn as sns\n",
    "from seaborn import plt\n",
    "from sklearn.linear_model import LinearRegression\n",
    "from sklearn.cross_validation import train_test_split\n",
    "from sklearn.linear_model import RidgeCV\n",
    "\n",
    "%matplotlib inline"
   ]
  },
  {
   "cell_type": "code",
   "execution_count": 2,
   "metadata": {
    "collapsed": true
   },
   "outputs": [],
   "source": [
    "movies = pd.read_csv('/Users/veenakumar/Desktop/Projects/Luther/Luther_Data_Manip.csv')"
   ]
  },
  {
   "cell_type": "code",
   "execution_count": 3,
   "metadata": {
    "collapsed": false
   },
   "outputs": [],
   "source": [
    "movies = movies.drop('Unnamed: 0',axis=1)"
   ]
  },
  {
   "cell_type": "code",
   "execution_count": 4,
   "metadata": {
    "collapsed": false
   },
   "outputs": [
    {
     "data": {
      "text/plain": [
       "Index([u'Distributor', u'Runtime', u'Domestic_Total', u'MPAA_Rating',\n",
       "       u'Production_Budget', u'Release_Date', u'Release_Yr', u'Title',\n",
       "       u'Foreign', u'Genre', u'Total_Gross', u'Domestic_Percent',\n",
       "       u'Foreign_Percent'],\n",
       "      dtype='object')"
      ]
     },
     "execution_count": 4,
     "metadata": {},
     "output_type": "execute_result"
    }
   ],
   "source": [
    "movies.columns = movies.columns.map(str.strip)\n",
    "movies.columns"
   ]
  },
  {
   "cell_type": "code",
   "execution_count": 5,
   "metadata": {
    "collapsed": false
   },
   "outputs": [
    {
     "data": {
      "text/plain": [
       "(1700, 13)"
      ]
     },
     "execution_count": 5,
     "metadata": {},
     "output_type": "execute_result"
    }
   ],
   "source": [
    "movies.shape"
   ]
  },
  {
   "cell_type": "code",
   "execution_count": 6,
   "metadata": {
    "collapsed": false
   },
   "outputs": [
    {
     "data": {
      "text/html": [
       "<div>\n",
       "<table border=\"1\" class=\"dataframe\">\n",
       "  <thead>\n",
       "    <tr style=\"text-align: right;\">\n",
       "      <th></th>\n",
       "      <th>Runtime</th>\n",
       "      <th>Domestic_Total</th>\n",
       "      <th>Production_Budget</th>\n",
       "      <th>Release_Yr</th>\n",
       "      <th>Foreign</th>\n",
       "      <th>Total_Gross</th>\n",
       "      <th>Domestic_Percent</th>\n",
       "      <th>Foreign_Percent</th>\n",
       "    </tr>\n",
       "  </thead>\n",
       "  <tbody>\n",
       "    <tr>\n",
       "      <th>Runtime</th>\n",
       "      <td>1.000000</td>\n",
       "      <td>0.300122</td>\n",
       "      <td>-0.054263</td>\n",
       "      <td>0.049046</td>\n",
       "      <td>0.342898</td>\n",
       "      <td>0.342236</td>\n",
       "      <td>-0.134483</td>\n",
       "      <td>0.134483</td>\n",
       "    </tr>\n",
       "    <tr>\n",
       "      <th>Domestic_Total</th>\n",
       "      <td>0.300122</td>\n",
       "      <td>1.000000</td>\n",
       "      <td>-0.030896</td>\n",
       "      <td>-0.095849</td>\n",
       "      <td>0.818945</td>\n",
       "      <td>0.922000</td>\n",
       "      <td>-0.189145</td>\n",
       "      <td>0.189145</td>\n",
       "    </tr>\n",
       "    <tr>\n",
       "      <th>Production_Budget</th>\n",
       "      <td>-0.054263</td>\n",
       "      <td>-0.030896</td>\n",
       "      <td>1.000000</td>\n",
       "      <td>0.024699</td>\n",
       "      <td>-0.028004</td>\n",
       "      <td>-0.030309</td>\n",
       "      <td>0.022777</td>\n",
       "      <td>-0.022777</td>\n",
       "    </tr>\n",
       "    <tr>\n",
       "      <th>Release_Yr</th>\n",
       "      <td>0.049046</td>\n",
       "      <td>-0.095849</td>\n",
       "      <td>0.024699</td>\n",
       "      <td>1.000000</td>\n",
       "      <td>0.086944</td>\n",
       "      <td>0.023249</td>\n",
       "      <td>-0.209922</td>\n",
       "      <td>0.209922</td>\n",
       "    </tr>\n",
       "    <tr>\n",
       "      <th>Foreign</th>\n",
       "      <td>0.342898</td>\n",
       "      <td>0.818945</td>\n",
       "      <td>-0.028004</td>\n",
       "      <td>0.086944</td>\n",
       "      <td>1.000000</td>\n",
       "      <td>0.977265</td>\n",
       "      <td>-0.502945</td>\n",
       "      <td>0.502945</td>\n",
       "    </tr>\n",
       "    <tr>\n",
       "      <th>Total_Gross</th>\n",
       "      <td>0.342236</td>\n",
       "      <td>0.922000</td>\n",
       "      <td>-0.030309</td>\n",
       "      <td>0.023249</td>\n",
       "      <td>0.977265</td>\n",
       "      <td>1.000000</td>\n",
       "      <td>-0.409405</td>\n",
       "      <td>0.409405</td>\n",
       "    </tr>\n",
       "    <tr>\n",
       "      <th>Domestic_Percent</th>\n",
       "      <td>-0.134483</td>\n",
       "      <td>-0.189145</td>\n",
       "      <td>0.022777</td>\n",
       "      <td>-0.209922</td>\n",
       "      <td>-0.502945</td>\n",
       "      <td>-0.409405</td>\n",
       "      <td>1.000000</td>\n",
       "      <td>-1.000000</td>\n",
       "    </tr>\n",
       "    <tr>\n",
       "      <th>Foreign_Percent</th>\n",
       "      <td>0.134483</td>\n",
       "      <td>0.189145</td>\n",
       "      <td>-0.022777</td>\n",
       "      <td>0.209922</td>\n",
       "      <td>0.502945</td>\n",
       "      <td>0.409405</td>\n",
       "      <td>-1.000000</td>\n",
       "      <td>1.000000</td>\n",
       "    </tr>\n",
       "  </tbody>\n",
       "</table>\n",
       "</div>"
      ],
      "text/plain": [
       "                    Runtime  Domestic_Total  Production_Budget  Release_Yr  \\\n",
       "Runtime            1.000000        0.300122          -0.054263    0.049046   \n",
       "Domestic_Total     0.300122        1.000000          -0.030896   -0.095849   \n",
       "Production_Budget -0.054263       -0.030896           1.000000    0.024699   \n",
       "Release_Yr         0.049046       -0.095849           0.024699    1.000000   \n",
       "Foreign            0.342898        0.818945          -0.028004    0.086944   \n",
       "Total_Gross        0.342236        0.922000          -0.030309    0.023249   \n",
       "Domestic_Percent  -0.134483       -0.189145           0.022777   -0.209922   \n",
       "Foreign_Percent    0.134483        0.189145          -0.022777    0.209922   \n",
       "\n",
       "                    Foreign  Total_Gross  Domestic_Percent  Foreign_Percent  \n",
       "Runtime            0.342898     0.342236         -0.134483         0.134483  \n",
       "Domestic_Total     0.818945     0.922000         -0.189145         0.189145  \n",
       "Production_Budget -0.028004    -0.030309          0.022777        -0.022777  \n",
       "Release_Yr         0.086944     0.023249         -0.209922         0.209922  \n",
       "Foreign            1.000000     0.977265         -0.502945         0.502945  \n",
       "Total_Gross        0.977265     1.000000         -0.409405         0.409405  \n",
       "Domestic_Percent  -0.502945    -0.409405          1.000000        -1.000000  \n",
       "Foreign_Percent    0.502945     0.409405         -1.000000         1.000000  "
      ]
     },
     "execution_count": 6,
     "metadata": {},
     "output_type": "execute_result"
    }
   ],
   "source": [
    "movies.corr()"
   ]
  },
  {
   "cell_type": "code",
   "execution_count": null,
   "metadata": {
    "collapsed": true
   },
   "outputs": [],
   "source": [
    "df = movies.dropna()"
   ]
  },
  {
   "cell_type": "code",
   "execution_count": null,
   "metadata": {
    "collapsed": false
   },
   "outputs": [],
   "source": [
    "df.shape"
   ]
  },
  {
   "cell_type": "code",
   "execution_count": null,
   "metadata": {
    "collapsed": true
   },
   "outputs": [],
   "source": [
    "sns.pairplot(df, size = 1.2, aspect=1.5)"
   ]
  },
  {
   "cell_type": "code",
   "execution_count": null,
   "metadata": {
    "collapsed": true
   },
   "outputs": [],
   "source": [
    "dfregress = df"
   ]
  },
  {
   "cell_type": "code",
   "execution_count": null,
   "metadata": {
    "collapsed": false
   },
   "outputs": [],
   "source": [
    "#Renaming variables to make it easier to run regression.\n",
    "\n",
    "dfregress['y'] = df['Foreign']\n",
    "dfregress['X1'] = df['Distributor']\n",
    "dfregress['X2'] = df['Runtime']\n",
    "dfregress['X3'] = df['MPAA_Rating']\n",
    "dfregress['X4'] = df['Production_Budget']\n",
    "dfregress['X5'] = df['Release_Yr']\n",
    "dfregress['X6'] = df['Genre']\n",
    "\n",
    "dfregress = dfregress.drop(['Foreign','Genre','Total_Gross','Domestic_Percent','Foreign_Percent'],axis=1)"
   ]
  },
  {
   "cell_type": "code",
   "execution_count": null,
   "metadata": {
    "collapsed": false
   },
   "outputs": [],
   "source": [
    "#Creating dummy variables for Genre, Year, Distributor.\n",
    "dfregress = pd.get_dummies(data = dfregress)"
   ]
  },
  {
   "cell_type": "code",
   "execution_count": null,
   "metadata": {
    "collapsed": true
   },
   "outputs": [],
   "source": [
    "dfregress['X5'] = map(str,dfregress['X5'])"
   ]
  },
  {
   "cell_type": "code",
   "execution_count": null,
   "metadata": {
    "collapsed": true
   },
   "outputs": [],
   "source": [
    "dfregress = dfregress.drop('Title',axis=1)"
   ]
  },
  {
   "cell_type": "code",
   "execution_count": null,
   "metadata": {
    "collapsed": false,
    "scrolled": true
   },
   "outputs": [],
   "source": [
    "dfregress"
   ]
  },
  {
   "cell_type": "code",
   "execution_count": null,
   "metadata": {
    "collapsed": true
   },
   "outputs": [],
   "source": [
    "#Creates a list of variables in the proper format for the patsy function. \n",
    "\n",
    "Xs = [c for c in dfregress.columns]\n",
    "'\\\") + Q(\\\"'.join(Xs)"
   ]
  },
  {
   "cell_type": "code",
   "execution_count": null,
   "metadata": {
    "collapsed": true
   },
   "outputs": [],
   "source": [
    "#Starting some modeling!\n",
    "\n",
    "#This creates a feature matrix (X) and target vector (y). Removied 'X6' because X6 was parsed out into dummy variables,\n",
    "#so it no longer exists as simply 'X6'.\n",
    "y, X = patsy.dmatrices('y ~ X1 + X2 + X3 + X4 + X5', data=dfregress, return_type=\"dataframe\")\n",
    "model = sm.OLS(y, X)\n",
    "fit = model.fit()\n",
    "fit.summary()"
   ]
  },
  {
   "cell_type": "code",
   "execution_count": null,
   "metadata": {
    "collapsed": true
   },
   "outputs": [],
   "source": [
    "#Same as above using different function.\n",
    "\n",
    "# Define the model\n",
    "lm1 = smf.ols('y ~ Q(\"X2\") + Q(\"X4\") + Q(\"X1_A24\") + Q(\"X1_Artisan\") + Q(\"X1_Bleecker Street\") + Q(\"X1_Broad Green Pictures\") + Q(\"X1_Buena Vista\") + Q(\"X1_CBS Films\") + Q(\"X1_Dimension Films\") + Q(\"X1_DreamWorks\") + Q(\"X1_FilmDistrict\") + Q(\"X1_Focus Features\") + Q(\"X1_Fox\") + Q(\"X1_Fox Atomic\") + Q(\"X1_Fox Searchlight\") + Q(\"X1_Freestyle Releasing\") + Q(\"X1_High Top Releasing\") + Q(\"X1_IFC\") + Q(\"X1_IMAX\") + Q(\"X1_Lions Gate\") + Q(\"X1_Lionsgate\") + Q(\"X1_Lionsgate/Summit\") + Q(\"X1_MGM\") + Q(\"X1_MGM (Weinstein)\") + Q(\"X1_Miramax\") + Q(\"X1_National Geographic Entertainment\") + Q(\"X1_New Line\") + Q(\"X1_Newmarket\") + Q(\"X1_Open Road Films\") + Q(\"X1_Overture Films\") + Q(\"X1_Paramount\") + Q(\"X1_Paramount (DreamWorks)\") + Q(\"X1_Paramount Vantage\") + Q(\"X1_Picturehouse\") + Q(\"X1_Pure Flix\") + Q(\"X1_Relativity\") + Q(\"X1_Roadside Attractions\") + Q(\"X1_Rocky Mountain Pictures\") + Q(\"X1_Rogue Pictures\") + Q(\"X1_STX Entertainment\") + Q(\"X1_Samuel Goldwyn\") + Q(\"X1_Sony (Revolution)\") + Q(\"X1_Sony / Columbia\") + Q(\"X1_Sony / Screen Gems\") + Q(\"X1_Sony Classics\") + Q(\"X1_Summit Entertainment\") + Q(\"X1_TriStar\") + Q(\"X1_USA Films\") + Q(\"X1_United Artists\") + Q(\"X1_Universal\") + Q(\"X1_Warner Bros.\") + Q(\"X1_Warner Bros. (New Line)\") + Q(\"X1_Warner Independent\") + Q(\"X1_Weinstein / Dimension\") + Q(\"X1_Weinstein Company\") + Q(\"X1_Yari Film Group\") + Q(\"X3_G\") + Q(\"X3_PG\") + Q(\"X3_PG-13\") + Q(\"X3_R\") + Q(\"X3_Unrated\") + Q(\"X5_2000\") + Q(\"X5_2001\") + Q(\"X5_2002\") + Q(\"X5_2003\") + Q(\"X5_2004\") + Q(\"X5_2005\") + Q(\"X5_2006\") + Q(\"X5_2007\") + Q(\"X5_2008\") + Q(\"X5_2009\") + Q(\"X5_2010\") + Q(\"X5_2011\") + Q(\"X5_2012\") + Q(\"X5_2013\") + Q(\"X5_2014\") + Q(\"X5_2015\") + Q(\"X5_2016\") + Q(\"X6_Action\") + Q(\"X6_Action / Adventure\") + Q(\"X6_Action / Crime\") + Q(\"X6_Action Comedy\") + Q(\"X6_Action Drama\") + Q(\"X6_Action Fantasy\") + Q(\"X6_Action Horror\") + Q(\"X6_Action Thriller\") + Q(\"X6_Adventure\") + Q(\"X6_Adventure Comedy\") + Q(\"X6_Animation\") + Q(\"X6_Comedy\") + Q(\"X6_Comedy / Drama\") + Q(\"X6_Comedy Thriller\") + Q(\"X6_Concert\") + Q(\"X6_Crime\") + Q(\"X6_Crime Comedy\") + Q(\"X6_Crime Drama\") + Q(\"X6_Crime Thriller\") + Q(\"X6_Documentary\") + Q(\"X6_Drama\") + Q(\"X6_Drama / Thriller\") + Q(\"X6_Family\") + Q(\"X6_Family Adventure\") + Q(\"X6_Family Comedy\") + Q(\"X6_Fantasy\") + Q(\"X6_Fantasy Comedy\") + Q(\"X6_Fantasy Drama\") + Q(\"X6_Foreign\") + Q(\"X6_Foreign / Action\") + Q(\"X6_Foreign / Horror\") + Q(\"X6_Historical Drama\") + Q(\"X6_Historical Epic\") + Q(\"X6_Horror\") + Q(\"X6_Horror Comedy\") + Q(\"X6_Horror Thriller\") + Q(\"X6_IMAX\") + Q(\"X6_Music Drama\") + Q(\"X6_Musical\") + Q(\"X6_Period Action\") + Q(\"X6_Period Adventure\") + Q(\"X6_Period Comedy\") + Q(\"X6_Period Drama\") + Q(\"X6_Period Horror\") + Q(\"X6_Romance\") + Q(\"X6_Romantic Adventure\") + Q(\"X6_Romantic Comedy\") + Q(\"X6_Romantic Thriller\") + Q(\"X6_Sci-Fi\") + Q(\"X6_Sci-Fi Action\") + Q(\"X6_Sci-Fi Adventure\") + Q(\"X6_Sci-Fi Comedy\") + Q(\"X6_Sci-Fi Fantasy\") + Q(\"X6_Sci-Fi Horror\") + Q(\"X6_Sci-Fi Thriller\") + Q(\"X6_Sports Comedy\") + Q(\"X6_Sports Drama\") + Q(\"X6_Thriller\") + Q(\"X6_War\") + Q(\"X6_War Drama\") + Q(\"X6_War Romance\") + Q(\"X6_Western\") + Q(\"X6_Western Comedy\")', data=dfregress)\n",
    "# Fit the model\n",
    "fit1 = lm1.fit()\n",
    "# Print summary statistics of the model's performance\n",
    "fit1.summary()"
   ]
  },
  {
   "cell_type": "code",
   "execution_count": null,
   "metadata": {
    "collapsed": true
   },
   "outputs": [],
   "source": [
    "lm2 = smf.ols('y ~ Q(\"X1_Bleecker Street\") + Q(\"X1_CBS Films\") + Q(\"X1_Dimension Films\") + Q(\"X1_Freestyle Releasing\")+Q(\"X1_IFC\")+Q(\"X1_IMAX\")+Q(\"X1_National Geographic Entertainment\")+Q(\"X1_Pure Flix\")+Q(\"X1_Roadside Attractions\")+Q(\"X1_Rocky Mountain Pictures\")+Q(\"X1_Rogue Pictures\")+Q(\"X1_United Artists\")+Q(\"X1_Yari Film Group\")+Q(\"X3_Unrated\")+Q(\"X5_2009\")+Q(\"X5_2010\")+Q(\"X6_Concert\")+Q(\"X6_Fantasy Comedy\")+Q(\"X6_Foreign\")+Q(\"X6_Period Horror\")', data=dfregress)\n",
    "fit2 = lm2.fit()\n",
    "fit2.summary()"
   ]
  },
  {
   "cell_type": "code",
   "execution_count": null,
   "metadata": {
    "collapsed": true
   },
   "outputs": [],
   "source": [
    "lm3 = smf.ols('y ~ Q(\"X2\")+ Q(\"X1_A24\")+Q(\"X1_Buena Vista\")+Q(\"X1_DreamWorks\")+Q(\"X1_FilmDistrict\")+Q(\"X1_Focus Features\")+Q(\"X1_Fox\")+Q(\"X1_Fox Searchlight\")+Q(\"X1_Lions Gate\")+Q(\"X1_Lionsgate\")+Q(\"X1_Lionsgate/Summit\")+Q(\"X1_MGM\")+Q(\"X1_MGM (Weinstein)\")+Q(\"X1_Miramax\")+Q(\"X1_New Line\")+Q(\"X1_Newmarket\")+Q(\"X1_Open Road Films\")+Q(\"X1_Paramount\")+Q(\"X1_Paramount (DreamWorks)\")+Q(\"X1_Paramount Vantage\")+Q(\"X1_Relativity\")+Q(\"X1_STX Entertainment\")+Q(\"X1_Sony (Revolution)\")+Q(\"X1_Sony / Columbia\")+Q(\"X1_Sony / Screen Gems\")+Q(\"X1_Summit Entertainment\")+Q(\"X1_TriStar\")+Q(\"X1_USA Films\")+Q(\"X1_Universal\")+Q(\"X1_Warner Bros.\")+Q(\"X1_Warner Bros. (New Line)\")+Q(\"X1_Warner Independent\")+Q(\"X1_Weinstein / Dimension\")+Q(\"X3_G\")+Q(\"X3_PG\")+Q(\"X3_PG-13\")+Q(\"X3_R\")+Q(\"X5_2000\")+Q(\"X5_2001\")+Q(\"X5_2002\")+Q(\"X5_2003\")+Q(\"X5_2004\")+Q(\"X5_2005\")+Q(\"X5_2006\")+Q(\"X5_2007\")+Q(\"X5_2013\")+Q(\"X5_2014\")+Q(\"X5_2015\")+Q(\"X5_2016\")+Q(\"X6_Action\")+Q(\"X6_Action / Adventure\")+Q(\"X6_Action / Crime\")+Q(\"X6_Action Comedy\")+Q(\"X6_Action Drama\")+Q(\"X6_Action Horror\")+Q(\"X6_Action Thriller\")+Q(\"X6_Adventure\")+Q(\"X6_Adventure Comedy\")+Q(\"X6_Animation\")+Q(\"X6_Comedy\")+Q(\"X6_Comedy / Drama\")+Q(\"X6_Comedy Thriller\")+Q(\"X6_Crime\")+Q(\"X6_Crime Drama\")+Q(\"X6_Drama\")+Q(\"X6_Drama / Thriller\")+Q(\"X6_Family\")+Q(\"X6_Family Adventure\")+Q(\"X6_Family Comedy\")+Q(\"X6_Fantasy\")+Q(\"X6_Horror\")+Q(\"X6_Horror Comedy\")+Q(\"X6_Horror Thriller\")+Q(\"X6_IMAX\")+Q(\"X6_Music Drama\")+Q(\"X6_Musical\")+Q(\"X6_Period Adventure\")+Q(\"X6_Period Drama\")+Q(\"X6_Romantic Adventure\")+Q(\"X6_Romantic Comedy\")+Q(\"X6_Romantic Thriller\")+Q(\"X6_Sci-Fi Action\")+Q(\"X6_Sci-Fi Adventure\")+Q(\"X6_Sci-Fi Comedy\")+Q(\"X6_Sci-Fi Fantasy\")+Q(\"X6_Sci-Fi Horror\")+Q(\"X6_Sports Comedy\")+Q(\"X6_Sports Drama\")+Q(\"X6_Thriller\")+Q(\"X6_War\")+Q(\"X6_War Drama\")++Q(\"X6_War Romance\")+Q(\"X6_Western\")+Q(\"X6_Western Comedy\")', data=dfregress)\n",
    "fit3 = lm3.fit()\n",
    "fit3.summary()"
   ]
  },
  {
   "cell_type": "code",
   "execution_count": null,
   "metadata": {
    "collapsed": false
   },
   "outputs": [],
   "source": [
    "y, X = patsy.dmatrices('y ~ Q(\"X2\")+ Q(\"X1_A24\")+Q(\"X1_Buena Vista\")+Q(\"X1_DreamWorks\")+Q(\"X1_FilmDistrict\")+Q(\"X1_Focus Features\")+Q(\"X1_Fox\")+Q(\"X1_Fox Searchlight\")+Q(\"X1_Lions Gate\")+Q(\"X1_Lionsgate\")+Q(\"X1_Lionsgate/Summit\")+Q(\"X1_MGM\")+Q(\"X1_MGM (Weinstein)\")+Q(\"X1_Miramax\")+Q(\"X1_New Line\")+Q(\"X1_Newmarket\")+Q(\"X1_Open Road Films\")+Q(\"X1_Paramount\")+Q(\"X1_Paramount (DreamWorks)\")+Q(\"X1_Paramount Vantage\")+Q(\"X1_Relativity\")+Q(\"X1_STX Entertainment\")+Q(\"X1_Sony (Revolution)\")+Q(\"X1_Sony / Columbia\")+Q(\"X1_Sony / Screen Gems\")+Q(\"X1_Summit Entertainment\")+Q(\"X1_TriStar\")+Q(\"X1_USA Films\")+Q(\"X1_Universal\")+Q(\"X1_Warner Bros.\")+Q(\"X1_Warner Bros. (New Line)\")+Q(\"X1_Warner Independent\")+Q(\"X1_Weinstein / Dimension\")+Q(\"X3_G\")+Q(\"X3_PG\")+Q(\"X3_PG-13\")+Q(\"X3_R\")+Q(\"X5_2000\")+Q(\"X5_2001\")+Q(\"X5_2002\")+Q(\"X5_2003\")+Q(\"X5_2004\")+Q(\"X5_2005\")+Q(\"X5_2006\")+Q(\"X5_2007\")+Q(\"X5_2013\")+Q(\"X5_2014\")+Q(\"X5_2015\")+Q(\"X5_2016\")+Q(\"X6_Action\")+Q(\"X6_Action / Adventure\")+Q(\"X6_Action / Crime\")+Q(\"X6_Action Comedy\")+Q(\"X6_Action Drama\")+Q(\"X6_Action Horror\")+Q(\"X6_Action Thriller\")+Q(\"X6_Adventure\")+Q(\"X6_Adventure Comedy\")+Q(\"X6_Animation\")+Q(\"X6_Comedy\")+Q(\"X6_Comedy / Drama\")+Q(\"X6_Comedy Thriller\")+Q(\"X6_Crime\")+Q(\"X6_Crime Drama\")+Q(\"X6_Drama\")+Q(\"X6_Drama / Thriller\")+Q(\"X6_Family\")+Q(\"X6_Family Adventure\")+Q(\"X6_Family Comedy\")+Q(\"X6_Fantasy\")+Q(\"X6_Horror\")+Q(\"X6_Horror Comedy\")+Q(\"X6_Horror Thriller\")+Q(\"X6_IMAX\")+Q(\"X6_Music Drama\")+Q(\"X6_Musical\")+Q(\"X6_Period Adventure\")+Q(\"X6_Period Drama\")+Q(\"X6_Romantic Adventure\")+Q(\"X6_Romantic Comedy\")+Q(\"X6_Romantic Thriller\")+Q(\"X6_Sci-Fi Action\")+Q(\"X6_Sci-Fi Adventure\")+Q(\"X6_Sci-Fi Comedy\")+Q(\"X6_Sci-Fi Fantasy\")+Q(\"X6_Sci-Fi Horror\")+Q(\"X6_Sports Comedy\")+Q(\"X6_Sports Drama\")+Q(\"X6_Thriller\")+Q(\"X6_War\")+Q(\"X6_War Drama\")++Q(\"X6_War Romance\")+Q(\"X6_Western\")+Q(\"X6_Western Comedy\")', return_type=\"dataframe\",data=dfregress)\n",
    "X_train, X_test, y_train, y_test = train_test_split(X,y, test_size=0.3)\n",
    "model = sm.OLS(y_train, X_train)\n",
    "results = model.fit()\n",
    "results.summary()"
   ]
  },
  {
   "cell_type": "code",
   "execution_count": null,
   "metadata": {
    "collapsed": false
   },
   "outputs": [],
   "source": [
    "# Use statsmodels to plot the residuals\n",
    "fit1.resid.plot(style='o', figsize=(12,8))"
   ]
  },
  {
   "cell_type": "code",
   "execution_count": null,
   "metadata": {
    "collapsed": false
   },
   "outputs": [],
   "source": [
    "lr1 = LinearRegression()\n",
    "lr1.fit(X, y)\n",
    "lr1.score(X, y)"
   ]
  },
  {
   "cell_type": "code",
   "execution_count": null,
   "metadata": {
    "collapsed": true
   },
   "outputs": [],
   "source": []
  }
 ],
 "metadata": {
  "anaconda-cloud": {},
  "kernelspec": {
   "display_name": "Python [Root]",
   "language": "python",
   "name": "Python [Root]"
  },
  "language_info": {
   "codemirror_mode": {
    "name": "ipython",
    "version": 2
   },
   "file_extension": ".py",
   "mimetype": "text/x-python",
   "name": "python",
   "nbconvert_exporter": "python",
   "pygments_lexer": "ipython2",
   "version": "2.7.12"
  }
 },
 "nbformat": 4,
 "nbformat_minor": 0
}
