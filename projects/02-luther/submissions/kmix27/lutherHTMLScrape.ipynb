{
 "cells": [
  {
   "cell_type": "code",
   "execution_count": 2,
   "metadata": {
    "collapsed": false
   },
   "outputs": [],
   "source": [
    "import pandas as pd\n",
    "import requests\n",
    "from bs4 import BeautifulSoup\n",
    "import numpy as np\n",
    "import json\n",
    "import os.path\n",
    "from time import sleep\n",
    "import matplotlib.pyplot as plt\n",
    "import re\n",
    "import string\n",
    "import lxml"
   ]
  },
  {
   "cell_type": "code",
   "execution_count": null,
   "metadata": {
    "collapsed": false,
    "scrolled": true
   },
   "outputs": [],
   "source": [
    "df = pd.read_csv('mojoScrape.csv')\n",
    "testdf = df.head()\n",
    "testdf"
   ]
  },
  {
   "cell_type": "code",
   "execution_count": 19,
   "metadata": {
    "collapsed": false,
    "scrolled": false
   },
   "outputs": [],
   "source": [
    "# def getHtml(tail):\n",
    "#     top = 'http://www.boxofficemojo.com/movies/?id='\n",
    "#     buildURL = top + tail\n",
    "#     header = {'User-Agent': 'Mozilla/5.0 (Macintosh; Intel Mac OS X 10_10_1) AppleWebKit/537.36 (KHTML, like Gecko) Chrome/39.0.2171.95 Safari/537.36'}\n",
    "#     response = requests.get(buildURL, headers = header)\n",
    "#     sleep(.5)\n",
    "#     status = response.status_code\n",
    "#     with (open('html/{}'.format(tail),'w'))as savefile:\n",
    "#         savefile.write(response.text)\n",
    "#     return status\n",
    "\n",
    "\n",
    "# def checkPathOpen(tail):\n",
    "#     if os.path.isfile('html/{}'.format(tail))==False:\n",
    "#         getHtml(tail)\n",
    "#         sleep(.5)\n",
    "#     with (open('html/{}'.format(tail),'r')) as infile:\n",
    "#         soup = BeautifulSoup(infile,'lxml')\n",
    "#         return soup\n",
    "\n",
    "\n",
    "def getHtml(tail):\n",
    "    top = 'http://www.boxofficemojo.com/movies/?id='\n",
    "    buildURL = top + tail\n",
    "    header = {'User-Agent': 'Mozilla/5.0 (Macintosh; Intel Mac OS X 10_10_1) AppleWebKit/537.36 (KHTML, like Gecko) Chrome/39.0.2171.95 Safari/537.36'}\n",
    "    response = requests.get(buildURL, headers = header)\n",
    "    sleep(.5)\n",
    "    status = response.status_code\n",
    "    with (open('htmlThirdTry/{}'.format(tail),'w'))as savefile:\n",
    "        savefile.write(response.text)\n",
    "    return status\n",
    "\n",
    "\n",
    "def checkPathOpen(tail):\n",
    "#     if os.path.isfile('htmlThirdTry/{}'.format(tail))==False:\n",
    "#         getHtml(tail)\n",
    "#         sleep(.5)\n",
    "    with (open('htmlThirdTry/{}.html'.format(tail),'r')) as infile:\n",
    "        soup = BeautifulSoup(infile,'lxml')\n",
    "        return soup\n",
    "\n",
    "\n",
    "# df['status'] = df['flatTitle'].map(lambda x: getHtml(x))\n"
   ]
  },
  {
   "cell_type": "code",
   "execution_count": 21,
   "metadata": {
    "collapsed": false
   },
   "outputs": [],
   "source": [
    "# scraping functions\n",
    "\n",
    "def getDomesticGross(tail):\n",
    "    soup = checkPathOpen(str(tail))\n",
    "    dtgRE = re.compile('Domestic Total Gross')\n",
    "    if soup.find(text=dtgRE):\n",
    "        dtg = int(soup.find(text=dtgRE).findNextSibling().text.replace('$','').replace(',',''))\n",
    "        return dtg\n",
    "    else:\n",
    "        return np.nan\n",
    "\n",
    "\n",
    "    \n",
    "def getProdBudget(tail):\n",
    "    ret = re.compile('Production Budget')\n",
    "    soup = checkPathOpen(str(tail))\n",
    "    obj = soup.find(text=ret)\n",
    "    if not obj:\n",
    "        return np.nan\n",
    "    if obj.findNextSibling():\n",
    "        sib = obj.findNextSibling()\n",
    "        if sib.text != 'N/A':\n",
    "            st = sib.text\n",
    "            if re.search('\\$',st):\n",
    "                stMdol = st.replace('$','')\n",
    "                if re.search('.',stMdol):\n",
    "                    v = stMdol.replace('.','').replace(' million','00000')\n",
    "                    return v\n",
    "                elif re.search(' million',stMdol):\n",
    "                    return int(stMdol.replace(' million','000000'))\n",
    "                else:\n",
    "                    return np.nan\n",
    "            else:\n",
    "                return np.nan\n",
    "        else:\n",
    "            return np.nan\n",
    "    else:\n",
    "        return np.nan\n",
    "\n",
    "\n",
    "    \n",
    "def getProdBudget(tail):\n",
    "    es = re.compile('[%s]' % re.escape(string.punctuation))\n",
    "    ret = re.compile('Production Budget')\n",
    "    soup = checkPathOpen(str(tail))\n",
    "    obj = soup.find(text=ret)\n",
    "    if not obj:\n",
    "        return np.nan\n",
    "    if obj.findNextSibling():\n",
    "        sib = obj.findNextSibling()\n",
    "        if sib.text != 'N/A':\n",
    "            st = sib.text\n",
    "            \n",
    "            if re.search('\\$',st):\n",
    "                stMdol = st.replace('$','')\n",
    "                if re.search('.',stMdol):\n",
    "                    v = stMdol.replace('.','').replace(' million','00000')\n",
    "                    return int(es.sub('',v))\n",
    "                elif re.search(' million',stMdol):\n",
    "                    return int(stMdol.replace(' million','000000'))\n",
    "                else:\n",
    "                    return np.nan\n",
    "            else:\n",
    "                return np.nan\n",
    "        else:\n",
    "            return np.nan\n",
    "    else:\n",
    "        return np.nan\n",
    "\n",
    "    \n",
    "def getForeignGross(tail):\n",
    "    fo = re.compile('\\+\\\\xa0Foreign:')\n",
    "    soup = checkPathOpen(str(tail))\n",
    "    if not soup.find('div', class_ = 'mp_box_content'):\n",
    "        return np.nan\n",
    "    if not soup.find('div', class_ = 'mp_box_content').find('table'):\n",
    "        return np.nan\n",
    "    tab = soup.find('div', class_ = 'mp_box_content').find('table').extract()\n",
    "    rows = tab.find_all('tr')\n",
    "    data = []\n",
    "    for row in rows:\n",
    "        cols =row.find_all('td')\n",
    "        cols = [ele.text.strip() for ele in cols]\n",
    "        data.append([ele for ele in cols if ele])\n",
    "    if len(data)==4:\n",
    "        if re.search(fo,data[1][0]):\n",
    "            if data[1][1] == 'N/A' or data[1][1] == 'n/a':\n",
    "                return np.nan\n",
    "            else:\n",
    "                d = data[1][1]\n",
    "                return int(d.replace('$','').replace(',',''))\n",
    "        else:\n",
    "            return np.nan\n",
    "    else: \n",
    "        return np.nan\n",
    "    \n",
    "    \n",
    "def getWorldGross(tail):\n",
    "    d = getDomesticGross(str(tail))\n",
    "    f = getForeignGross(str(tail))\n",
    "    if (f != np.nan) and (d != np.nan):\n",
    "        return d + f\n",
    "    else:\n",
    "        return np.nan\n",
    "\n",
    "    \n",
    "    \n",
    "\n",
    "# def getGenre(tail):\n",
    "#     soup = checkPathOpen(tail)\n",
    "#     gen = re.compile('Genre')\n",
    "#     if not soup.find(text=gen):\n",
    "#         return np.nan\n",
    "#     else:\n",
    "#         dtg = soup.find(text=gen).findNextSibling().text.lower()\n",
    "#         return dtg\n",
    "\n",
    "    \n",
    "\n",
    "    "
   ]
  },
  {
   "cell_type": "code",
   "execution_count": 14,
   "metadata": {
    "collapsed": false
   },
   "outputs": [
    {
     "data": {
      "text/plain": [
       "nan"
      ]
     },
     "execution_count": 14,
     "metadata": {},
     "output_type": "execute_result"
    }
   ],
   "source": [
    "getDomesticGross(58547)"
   ]
  },
  {
   "cell_type": "code",
   "execution_count": null,
   "metadata": {
    "collapsed": false
   },
   "outputs": [],
   "source": [
    "\n",
    "dfS = pd.read_csv('goodHTML.csv')"
   ]
  },
  {
   "cell_type": "code",
   "execution_count": null,
   "metadata": {
    "collapsed": true
   },
   "outputs": [],
   "source": [
    "dfS.columns = [['dropMe','flatTitle', 'status']]"
   ]
  },
  {
   "cell_type": "code",
   "execution_count": null,
   "metadata": {
    "collapsed": false
   },
   "outputs": [],
   "source": [
    "dfS.drop('dropMe', axis=1, inplace=True)"
   ]
  },
  {
   "cell_type": "code",
   "execution_count": null,
   "metadata": {
    "collapsed": false
   },
   "outputs": [],
   "source": [
    "dfS.head()"
   ]
  },
  {
   "cell_type": "code",
   "execution_count": null,
   "metadata": {
    "collapsed": false
   },
   "outputs": [],
   "source": [
    "\n",
    "DF = pd.merge(df,dfS,how='left',on='flatTitle')\n",
    "DF.head(50)"
   ]
  },
  {
   "cell_type": "code",
   "execution_count": null,
   "metadata": {
    "collapsed": false
   },
   "outputs": [],
   "source": [
    "toScrape = DF[DF['status']== 200]"
   ]
  },
  {
   "cell_type": "code",
   "execution_count": null,
   "metadata": {
    "collapsed": false,
    "scrolled": true
   },
   "outputs": [],
   "source": [
    "toScrape['domesticGross'] = toScrape['flatTitle'].map(lambda x: getDomesticGross(x))\n",
    "toScrape['prodBudget'] = toScrape['flatTitle'].map(lambda x: getProdBudget(x))\n",
    "\n",
    "toScrape.head()"
   ]
  },
  {
   "cell_type": "code",
   "execution_count": null,
   "metadata": {
    "collapsed": false
   },
   "outputs": [],
   "source": [
    "toScrape['foreignGross'] = toScrape['flatTitle'].map(lambda x: getForeignGross(x))\n",
    "\n",
    "toScrape.head()"
   ]
  },
  {
   "cell_type": "code",
   "execution_count": null,
   "metadata": {
    "collapsed": false
   },
   "outputs": [],
   "source": [
    "toScrape['worldGross'] = toScrape['flatTitle'].map(lambda x: getWorldGross(x))\n",
    "toScrape.head()"
   ]
  },
  {
   "cell_type": "code",
   "execution_count": null,
   "metadata": {
    "collapsed": false
   },
   "outputs": [],
   "source": [
    "toScrape.shape\n"
   ]
  },
  {
   "cell_type": "code",
   "execution_count": null,
   "metadata": {
    "collapsed": true
   },
   "outputs": [],
   "source": [
    "toScrape.to_csv('scrapedHTML.csv')\n"
   ]
  },
  {
   "cell_type": "code",
   "execution_count": null,
   "metadata": {
    "collapsed": true
   },
   "outputs": [],
   "source": [
    "t = 'http://www.boxofficemojo.com/search/?q=Code%20Name:%20The%20Cleaner'\n"
   ]
  },
  {
   "cell_type": "code",
   "execution_count": null,
   "metadata": {
    "collapsed": true
   },
   "outputs": [],
   "source": [
    "thirdTry = pd.to_csv()"
   ]
  },
  {
   "cell_type": "code",
   "execution_count": 11,
   "metadata": {
    "collapsed": false
   },
   "outputs": [
    {
     "data": {
      "text/html": [
       "<div>\n",
       "<table border=\"1\" class=\"dataframe\">\n",
       "  <thead>\n",
       "    <tr style=\"text-align: right;\">\n",
       "      <th></th>\n",
       "      <th>Unnamed: 0</th>\n",
       "      <th>file</th>\n",
       "      <th>size</th>\n",
       "      <th>movieId</th>\n",
       "      <th>title</th>\n",
       "      <th>tmdbId</th>\n",
       "      <th>flatTitle</th>\n",
       "      <th>tail</th>\n",
       "    </tr>\n",
       "  </thead>\n",
       "  <tbody>\n",
       "    <tr>\n",
       "      <th>0</th>\n",
       "      <td>0</td>\n",
       "      <td>$999.html</td>\n",
       "      <td>14316</td>\n",
       "      <td>74486</td>\n",
       "      <td>$9.99</td>\n",
       "      <td>19311</td>\n",
       "      <td>999.htm</td>\n",
       "      <td>/movies/?id=9dot99.htm</td>\n",
       "    </tr>\n",
       "    <tr>\n",
       "      <th>1</th>\n",
       "      <td>3</td>\n",
       "      <td>10Years.html</td>\n",
       "      <td>17779</td>\n",
       "      <td>98230</td>\n",
       "      <td>10 Years</td>\n",
       "      <td>58547</td>\n",
       "      <td>10years.htm</td>\n",
       "      <td>/movies/?id=10years.htm</td>\n",
       "    </tr>\n",
       "    <tr>\n",
       "      <th>2</th>\n",
       "      <td>5</td>\n",
       "      <td>12.html</td>\n",
       "      <td>31736</td>\n",
       "      <td>56093</td>\n",
       "      <td>12</td>\n",
       "      <td>20714</td>\n",
       "      <td>12.htm</td>\n",
       "      <td>/movies/?id=12.htm</td>\n",
       "    </tr>\n",
       "    <tr>\n",
       "      <th>3</th>\n",
       "      <td>7</td>\n",
       "      <td>127Hours.html</td>\n",
       "      <td>17779</td>\n",
       "      <td>81562</td>\n",
       "      <td>127 Hours</td>\n",
       "      <td>44115</td>\n",
       "      <td>127hours.htm</td>\n",
       "      <td>/movies/?id=127hours.htm</td>\n",
       "    </tr>\n",
       "    <tr>\n",
       "      <th>4</th>\n",
       "      <td>8</td>\n",
       "      <td>12Rounds.html</td>\n",
       "      <td>14785</td>\n",
       "      <td>70361</td>\n",
       "      <td>12 Rounds</td>\n",
       "      <td>17134</td>\n",
       "      <td>12rounds.htm</td>\n",
       "      <td>/movies/?id=12rounds.htm</td>\n",
       "    </tr>\n",
       "  </tbody>\n",
       "</table>\n",
       "</div>"
      ],
      "text/plain": [
       "   Unnamed: 0           file   size  movieId      title  tmdbId     flatTitle  \\\n",
       "0           0      $999.html  14316    74486      $9.99   19311       999.htm   \n",
       "1           3   10Years.html  17779    98230   10 Years   58547   10years.htm   \n",
       "2           5        12.html  31736    56093         12   20714        12.htm   \n",
       "3           7  127Hours.html  17779    81562  127 Hours   44115  127hours.htm   \n",
       "4           8  12Rounds.html  14785    70361  12 Rounds   17134  12rounds.htm   \n",
       "\n",
       "                       tail  \n",
       "0    /movies/?id=9dot99.htm  \n",
       "1   /movies/?id=10years.htm  \n",
       "2        /movies/?id=12.htm  \n",
       "3  /movies/?id=127hours.htm  \n",
       "4  /movies/?id=12rounds.htm  "
      ]
     },
     "execution_count": 11,
     "metadata": {},
     "output_type": "execute_result"
    }
   ],
   "source": [
    "thirdTry = pd.read_csv('thirdTry.csv')\n",
    "thirdTry.head()"
   ]
  },
  {
   "cell_type": "code",
   "execution_count": 22,
   "metadata": {
    "collapsed": false
   },
   "outputs": [],
   "source": [
    "thirdTry['domesticGross'] = thirdTry['tmdbId'].map(lambda x: getDomesticGross(x))\n",
    "thirdTry['prodBudget'] = thirdTry['tmdbId'].map(lambda x: getProdBudget(x))\n",
    "thirdTry['foreignGross'] = thirdTry['tmdbId'].map(lambda x: getForeignGross(x))\n",
    "thirdTry['worldGross'] = thirdTry['tmdbId'].map(lambda x: getWorldGross(x))"
   ]
  },
  {
   "cell_type": "code",
   "execution_count": 26,
   "metadata": {
    "collapsed": false
   },
   "outputs": [],
   "source": [
    "thirdTry.to_csv('try3.csv')\n"
   ]
  },
  {
   "cell_type": "code",
   "execution_count": null,
   "metadata": {
    "collapsed": true
   },
   "outputs": [],
   "source": []
  }
 ],
 "metadata": {
  "kernelspec": {
   "display_name": "Python 3",
   "language": "python",
   "name": "python3"
  },
  "language_info": {
   "codemirror_mode": {
    "name": "ipython",
    "version": 3
   },
   "file_extension": ".py",
   "mimetype": "text/x-python",
   "name": "python",
   "nbconvert_exporter": "python",
   "pygments_lexer": "ipython3",
   "version": "3.5.2"
  }
 },
 "nbformat": 4,
 "nbformat_minor": 0
}
