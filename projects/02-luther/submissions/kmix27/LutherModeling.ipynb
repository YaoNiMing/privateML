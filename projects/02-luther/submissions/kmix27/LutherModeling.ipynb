{
 "cells": [
  {
   "cell_type": "code",
   "execution_count": 1,
   "metadata": {
    "collapsed": false
   },
   "outputs": [
    {
     "name": "stderr",
     "output_type": "stream",
     "text": [
      "/Users/kylemix/anaconda/lib/python3.5/site-packages/sklearn/cross_validation.py:44: DeprecationWarning: This module was deprecated in version 0.18 in favor of the model_selection module into which all the refactored classes and functions are moved. Also note that the interface of the new CV iterators are different from that of this module. This module will be removed in 0.20.\n",
      "  \"This module will be removed in 0.20.\", DeprecationWarning)\n",
      "/Users/kylemix/anaconda/lib/python3.5/site-packages/sklearn/grid_search.py:43: DeprecationWarning: This module was deprecated in version 0.18 in favor of the model_selection module into which all the refactored classes and functions are moved. This module will be removed in 0.20.\n",
      "  DeprecationWarning)\n"
     ]
    }
   ],
   "source": [
    "import pandas as pd\n",
    "import numpy as np\n",
    "import matplotlib.pyplot as plt\n",
    "import seaborn as sns\n",
    "import statsmodels\n",
    "from sklearn.linear_model import Lasso\n",
    "from sklearn.preprocessing import StandardScaler\n",
    "from sklearn.ensemble import RandomForestRegressor\n",
    "from sklearn.cross_validation import cross_val_score\n",
    "from sklearn.linear_model import Ridge\n",
    "from sklearn.metrics import mean_squared_error\n",
    "from sklearn.linear_model import LinearRegression\n",
    "from sklearn.grid_search import RandomizedSearchCV\n",
    "from sklearn import preprocessing\n",
    "from sklearn.cross_validation import train_test_split\n",
    "from sklearn.decomposition import PCA\n",
    "from sklearn.feature_selection import f_regression\n",
    "from sklearn.feature_selection import mutual_info_regression"
   ]
  },
  {
   "cell_type": "code",
   "execution_count": null,
   "metadata": {
    "collapsed": true
   },
   "outputs": [],
   "source": [
    "pd.set_options"
   ]
  },
  {
   "cell_type": "code",
   "execution_count": 2,
   "metadata": {
    "collapsed": false
   },
   "outputs": [],
   "source": [
    "df = pd.read_csv('modelMe.csv')"
   ]
  },
  {
   "cell_type": "code",
   "execution_count": 3,
   "metadata": {
    "collapsed": false
   },
   "outputs": [
    {
     "data": {
      "text/html": [
       "<div>\n",
       "<table border=\"1\" class=\"dataframe\">\n",
       "  <thead>\n",
       "    <tr style=\"text-align: right;\">\n",
       "      <th></th>\n",
       "      <th>Unnamed: 0</th>\n",
       "      <th>ActualBudget</th>\n",
       "      <th>ActualRevenue</th>\n",
       "      <th>genre1</th>\n",
       "      <th>runtime</th>\n",
       "      <th>DirMeanROI</th>\n",
       "      <th>meanGenreROI</th>\n",
       "      <th>genre3MeanROI</th>\n",
       "      <th>actorsMeanROI</th>\n",
       "      <th>year</th>\n",
       "      <th>month</th>\n",
       "      <th>dirExp</th>\n",
       "      <th>producer</th>\n",
       "      <th>actor1exp</th>\n",
       "      <th>actor2exp</th>\n",
       "      <th>actor3exp</th>\n",
       "      <th>actorsExp</th>\n",
       "      <th>crewsExp</th>\n",
       "      <th>ActualROI</th>\n",
       "    </tr>\n",
       "  </thead>\n",
       "  <tbody>\n",
       "    <tr>\n",
       "      <th>0</th>\n",
       "      <td>0</td>\n",
       "      <td>41250000</td>\n",
       "      <td>355101932</td>\n",
       "      <td>16</td>\n",
       "      <td>87</td>\n",
       "      <td>7.608532</td>\n",
       "      <td>3.645812</td>\n",
       "      <td>4.807178</td>\n",
       "      <td>7.608532</td>\n",
       "      <td>2007</td>\n",
       "      <td>7</td>\n",
       "      <td>2</td>\n",
       "      <td>3</td>\n",
       "      <td>1</td>\n",
       "      <td>1</td>\n",
       "      <td>1</td>\n",
       "      <td>3</td>\n",
       "      <td>5</td>\n",
       "      <td>7.608532</td>\n",
       "    </tr>\n",
       "  </tbody>\n",
       "</table>\n",
       "</div>"
      ],
      "text/plain": [
       "   Unnamed: 0  ActualBudget  ActualRevenue  genre1  runtime  DirMeanROI  \\\n",
       "0           0      41250000      355101932      16       87    7.608532   \n",
       "\n",
       "   meanGenreROI  genre3MeanROI  actorsMeanROI  year  month  dirExp  producer  \\\n",
       "0      3.645812       4.807178       7.608532  2007      7       2         3   \n",
       "\n",
       "   actor1exp  actor2exp  actor3exp  actorsExp  crewsExp  ActualROI  \n",
       "0          1          1          1          3         5   7.608532  "
      ]
     },
     "execution_count": 3,
     "metadata": {},
     "output_type": "execute_result"
    }
   ],
   "source": [
    "df.head(1)"
   ]
  },
  {
   "cell_type": "code",
   "execution_count": 34,
   "metadata": {
    "collapsed": false
   },
   "outputs": [
    {
     "name": "stdout",
     "output_type": "stream",
     "text": [
      "<class 'pandas.core.frame.DataFrame'>\n",
      "Int64Index: 1444 entries, 0 to 1443\n",
      "Data columns (total 18 columns):\n",
      "ActualBudget     1444 non-null float64\n",
      "ActualRevenue    1444 non-null float64\n",
      "genre1           1444 non-null float64\n",
      "runtime          1444 non-null float64\n",
      "DirMeanROI       1444 non-null float64\n",
      "meanGenreROI     1444 non-null float64\n",
      "genre3MeanROI    1444 non-null float64\n",
      "actorsMeanROI    1444 non-null float64\n",
      "year             1444 non-null int64\n",
      "month            1444 non-null int64\n",
      "dirExp           1444 non-null float64\n",
      "producer         1444 non-null float64\n",
      "actor1exp        1444 non-null float64\n",
      "actor2exp        1444 non-null float64\n",
      "actor3exp        1444 non-null float64\n",
      "actorsExp        1444 non-null float64\n",
      "crewsExp         1444 non-null float64\n",
      "ActualROI        1444 non-null float64\n",
      "dtypes: float64(16), int64(2)\n",
      "memory usage: 214.3 KB\n"
     ]
    }
   ],
   "source": [
    "df.info()"
   ]
  },
  {
   "cell_type": "code",
   "execution_count": 4,
   "metadata": {
    "collapsed": false
   },
   "outputs": [],
   "source": [
    "df = df.drop(['Unnamed: 0'], axis = 1)\n"
   ]
  },
  {
   "cell_type": "code",
   "execution_count": 5,
   "metadata": {
    "collapsed": true
   },
   "outputs": [],
   "source": [
    "\n",
    "df = df.fillna(value=0)"
   ]
  },
  {
   "cell_type": "code",
   "execution_count": 6,
   "metadata": {
    "collapsed": false
   },
   "outputs": [],
   "source": [
    "df['winter'] = df['month'].map(lambda x: x in [12,1,2]).astype('int')\n",
    "df['spring'] = df['month'].map(lambda x: x in [3,4,5]).astype('int')\n",
    "df['summer'] = df['month'].map(lambda x: x in [6,7,8]).astype('int')\n",
    "df['fall'] = df['month'].map(lambda x: x in [9,10,11]).astype('int')"
   ]
  },
  {
   "cell_type": "code",
   "execution_count": 7,
   "metadata": {
    "collapsed": false
   },
   "outputs": [],
   "source": [
    "\n",
    "set1=[1998,2006,2007,2008]\n",
    "set2= [2009,2010,2011,2012,2013]\n",
    "set3 = [2014,2015,2016]"
   ]
  },
  {
   "cell_type": "code",
   "execution_count": 8,
   "metadata": {
    "collapsed": true
   },
   "outputs": [],
   "source": [
    "df['earlyYear'] = df['year'].map(lambda x: x in set1).astype('int')\n",
    "df['midYear'] = df['year'].map(lambda x: x in set2).astype('int')\n",
    "df['lateYear'] = df['year'].map(lambda x: x in set3).astype('int')"
   ]
  },
  {
   "cell_type": "code",
   "execution_count": 156,
   "metadata": {
    "collapsed": false
   },
   "outputs": [
    {
     "data": {
      "text/plain": [
       "4.4094196877005363"
      ]
     },
     "execution_count": 156,
     "metadata": {},
     "output_type": "execute_result"
    }
   ],
   "source": []
  },
  {
   "cell_type": "code",
   "execution_count": 149,
   "metadata": {
    "collapsed": false
   },
   "outputs": [
    {
     "data": {
      "text/html": [
       "<div>\n",
       "<table border=\"1\" class=\"dataframe\">\n",
       "  <thead>\n",
       "    <tr style=\"text-align: right;\">\n",
       "      <th></th>\n",
       "      <th>ActualBudget</th>\n",
       "      <th>ActualRevenue</th>\n",
       "      <th>genre1</th>\n",
       "      <th>runtime</th>\n",
       "      <th>DirMeanROI</th>\n",
       "      <th>meanGenreROI</th>\n",
       "      <th>genre3MeanROI</th>\n",
       "      <th>actorsMeanROI</th>\n",
       "      <th>year</th>\n",
       "      <th>month</th>\n",
       "      <th>...</th>\n",
       "      <th>actor3exp</th>\n",
       "      <th>actorsExp</th>\n",
       "      <th>crewsExp</th>\n",
       "      <th>winter</th>\n",
       "      <th>spring</th>\n",
       "      <th>summer</th>\n",
       "      <th>fall</th>\n",
       "      <th>earlyYear</th>\n",
       "      <th>midYear</th>\n",
       "      <th>lateYear</th>\n",
       "    </tr>\n",
       "  </thead>\n",
       "  <tbody>\n",
       "    <tr>\n",
       "      <th>0</th>\n",
       "      <td>41250000</td>\n",
       "      <td>355101932</td>\n",
       "      <td>16</td>\n",
       "      <td>87</td>\n",
       "      <td>7.608532</td>\n",
       "      <td>3.645812</td>\n",
       "      <td>4.807178</td>\n",
       "      <td>7.608532</td>\n",
       "      <td>2007</td>\n",
       "      <td>7</td>\n",
       "      <td>...</td>\n",
       "      <td>1</td>\n",
       "      <td>3</td>\n",
       "      <td>5</td>\n",
       "      <td>0</td>\n",
       "      <td>0</td>\n",
       "      <td>1</td>\n",
       "      <td>0</td>\n",
       "      <td>1</td>\n",
       "      <td>0</td>\n",
       "      <td>0</td>\n",
       "    </tr>\n",
       "    <tr>\n",
       "      <th>1</th>\n",
       "      <td>101750000</td>\n",
       "      <td>767633591</td>\n",
       "      <td>18</td>\n",
       "      <td>152</td>\n",
       "      <td>4.979807</td>\n",
       "      <td>2.218555</td>\n",
       "      <td>2.070272</td>\n",
       "      <td>5.312557</td>\n",
       "      <td>2008</td>\n",
       "      <td>7</td>\n",
       "      <td>...</td>\n",
       "      <td>3</td>\n",
       "      <td>26</td>\n",
       "      <td>34</td>\n",
       "      <td>0</td>\n",
       "      <td>0</td>\n",
       "      <td>1</td>\n",
       "      <td>0</td>\n",
       "      <td>1</td>\n",
       "      <td>0</td>\n",
       "      <td>0</td>\n",
       "    </tr>\n",
       "    <tr>\n",
       "      <th>2</th>\n",
       "      <td>101750000</td>\n",
       "      <td>551868576</td>\n",
       "      <td>12</td>\n",
       "      <td>122</td>\n",
       "      <td>3.274444</td>\n",
       "      <td>1.919598</td>\n",
       "      <td>0.000000</td>\n",
       "      <td>2.651472</td>\n",
       "      <td>2008</td>\n",
       "      <td>5</td>\n",
       "      <td>...</td>\n",
       "      <td>15</td>\n",
       "      <td>37</td>\n",
       "      <td>43</td>\n",
       "      <td>0</td>\n",
       "      <td>1</td>\n",
       "      <td>0</td>\n",
       "      <td>0</td>\n",
       "      <td>1</td>\n",
       "      <td>0</td>\n",
       "      <td>0</td>\n",
       "    </tr>\n",
       "    <tr>\n",
       "      <th>3</th>\n",
       "      <td>165000000</td>\n",
       "      <td>635210212</td>\n",
       "      <td>12</td>\n",
       "      <td>169</td>\n",
       "      <td>1.327290</td>\n",
       "      <td>2.134808</td>\n",
       "      <td>1.841681</td>\n",
       "      <td>1.106099</td>\n",
       "      <td>2007</td>\n",
       "      <td>5</td>\n",
       "      <td>...</td>\n",
       "      <td>15</td>\n",
       "      <td>36</td>\n",
       "      <td>39</td>\n",
       "      <td>0</td>\n",
       "      <td>1</td>\n",
       "      <td>0</td>\n",
       "      <td>0</td>\n",
       "      <td>1</td>\n",
       "      <td>0</td>\n",
       "      <td>0</td>\n",
       "    </tr>\n",
       "    <tr>\n",
       "      <th>4</th>\n",
       "      <td>85000000</td>\n",
       "      <td>214233674</td>\n",
       "      <td>80</td>\n",
       "      <td>122</td>\n",
       "      <td>7.172342</td>\n",
       "      <td>3.390473</td>\n",
       "      <td>0.000000</td>\n",
       "      <td>3.451829</td>\n",
       "      <td>2007</td>\n",
       "      <td>6</td>\n",
       "      <td>...</td>\n",
       "      <td>16</td>\n",
       "      <td>42</td>\n",
       "      <td>43</td>\n",
       "      <td>0</td>\n",
       "      <td>0</td>\n",
       "      <td>1</td>\n",
       "      <td>0</td>\n",
       "      <td>1</td>\n",
       "      <td>0</td>\n",
       "      <td>0</td>\n",
       "    </tr>\n",
       "  </tbody>\n",
       "</table>\n",
       "<p>5 rows × 24 columns</p>\n",
       "</div>"
      ],
      "text/plain": [
       "   ActualBudget  ActualRevenue  genre1  runtime  DirMeanROI  meanGenreROI  \\\n",
       "0      41250000      355101932      16       87    7.608532      3.645812   \n",
       "1     101750000      767633591      18      152    4.979807      2.218555   \n",
       "2     101750000      551868576      12      122    3.274444      1.919598   \n",
       "3     165000000      635210212      12      169    1.327290      2.134808   \n",
       "4      85000000      214233674      80      122    7.172342      3.390473   \n",
       "\n",
       "   genre3MeanROI  actorsMeanROI  year  month    ...     actor3exp  actorsExp  \\\n",
       "0       4.807178       7.608532  2007      7    ...             1          3   \n",
       "1       2.070272       5.312557  2008      7    ...             3         26   \n",
       "2       0.000000       2.651472  2008      5    ...            15         37   \n",
       "3       1.841681       1.106099  2007      5    ...            15         36   \n",
       "4       0.000000       3.451829  2007      6    ...            16         42   \n",
       "\n",
       "   crewsExp  winter  spring  summer  fall  earlyYear  midYear  lateYear  \n",
       "0         5       0       0       1     0          1        0         0  \n",
       "1        34       0       0       1     0          1        0         0  \n",
       "2        43       0       1       0     0          1        0         0  \n",
       "3        39       0       1       0     0          1        0         0  \n",
       "4        43       0       0       1     0          1        0         0  \n",
       "\n",
       "[5 rows x 24 columns]"
      ]
     },
     "execution_count": 149,
     "metadata": {},
     "output_type": "execute_result"
    }
   ],
   "source": [
    "df.head()"
   ]
  },
  {
   "cell_type": "code",
   "execution_count": 9,
   "metadata": {
    "collapsed": true
   },
   "outputs": [],
   "source": [
    "df['dirRoiHigh'] = df.DirMeanROI.map(lambda x: x>=df.DirMeanROI.quantile(.8)).astype('int')\n",
    "df['dirRoiMed'] = df.DirMeanROI.map(lambda x: df.DirMeanROI.quantile(.3)>=x>=df.DirMeanROI.quantile(.8)).astype('int')\n",
    "df['dirRoiLow'] = df.DirMeanROI.map(lambda x: x<df.DirMeanROI.quantile(.3)).astype('int')"
   ]
  },
  {
   "cell_type": "code",
   "execution_count": 15,
   "metadata": {
    "collapsed": true
   },
   "outputs": [],
   "source": [
    "df['actorsMeanRoiHigh'] = df.actorsMeanROI.map(lambda x: x>=df.actorsMeanROI.quantile(.8)).astype('int')\n",
    "df['actorsMeanRoiMid'] = df.actorsMeanROI.map(lambda x: df.actorsMeanROI.quantile(.3)>=x>=df.actorsMeanROI.quantile(.8)).astype('int')\n",
    "df['actorsMeanRoiMid'] = df.actorsMeanROI.map(lambda x: x>=df.actorsMeanROI.quantile(.8)).astype('int')"
   ]
  },
  {
   "cell_type": "code",
   "execution_count": 16,
   "metadata": {
    "collapsed": false
   },
   "outputs": [
    {
     "data": {
      "text/html": [
       "<div>\n",
       "<table border=\"1\" class=\"dataframe\">\n",
       "  <thead>\n",
       "    <tr style=\"text-align: right;\">\n",
       "      <th></th>\n",
       "      <th>ActualBudget</th>\n",
       "      <th>ActualRevenue</th>\n",
       "      <th>genre1</th>\n",
       "      <th>runtime</th>\n",
       "      <th>DirMeanROI</th>\n",
       "      <th>meanGenreROI</th>\n",
       "      <th>genre3MeanROI</th>\n",
       "      <th>actorsMeanROI</th>\n",
       "      <th>year</th>\n",
       "      <th>month</th>\n",
       "      <th>...</th>\n",
       "      <th>summer</th>\n",
       "      <th>fall</th>\n",
       "      <th>earlyYear</th>\n",
       "      <th>midYear</th>\n",
       "      <th>lateYear</th>\n",
       "      <th>dirRoiHigh</th>\n",
       "      <th>dirRoiMed</th>\n",
       "      <th>dirRoiLow</th>\n",
       "      <th>actorsMeanRoiHigh</th>\n",
       "      <th>actorsMeanRoiMid</th>\n",
       "    </tr>\n",
       "  </thead>\n",
       "  <tbody>\n",
       "    <tr>\n",
       "      <th>0</th>\n",
       "      <td>41250000</td>\n",
       "      <td>355101932</td>\n",
       "      <td>16</td>\n",
       "      <td>87</td>\n",
       "      <td>7.608532</td>\n",
       "      <td>3.645812</td>\n",
       "      <td>4.807178</td>\n",
       "      <td>7.608532</td>\n",
       "      <td>2007</td>\n",
       "      <td>7</td>\n",
       "      <td>...</td>\n",
       "      <td>1</td>\n",
       "      <td>0</td>\n",
       "      <td>1</td>\n",
       "      <td>0</td>\n",
       "      <td>0</td>\n",
       "      <td>1</td>\n",
       "      <td>0</td>\n",
       "      <td>0</td>\n",
       "      <td>1</td>\n",
       "      <td>1</td>\n",
       "    </tr>\n",
       "  </tbody>\n",
       "</table>\n",
       "<p>1 rows × 29 columns</p>\n",
       "</div>"
      ],
      "text/plain": [
       "   ActualBudget  ActualRevenue  genre1  runtime  DirMeanROI  meanGenreROI  \\\n",
       "0      41250000      355101932      16       87    7.608532      3.645812   \n",
       "\n",
       "   genre3MeanROI  actorsMeanROI  year  month        ...         summer  fall  \\\n",
       "0       4.807178       7.608532  2007      7        ...              1     0   \n",
       "\n",
       "   earlyYear  midYear  lateYear  dirRoiHigh  dirRoiMed  dirRoiLow  \\\n",
       "0          1        0         0           1          0          0   \n",
       "\n",
       "   actorsMeanRoiHigh  actorsMeanRoiMid  \n",
       "0                  1                 1  \n",
       "\n",
       "[1 rows x 29 columns]"
      ]
     },
     "execution_count": 16,
     "metadata": {},
     "output_type": "execute_result"
    }
   ],
   "source": [
    "# http://stackoverflow.com/questions/19377969/combine-two-columns-of-text-in-dataframe-in-pandas-python\n",
    "# df['yearMonth'] = df.year.astype(str).str.cat(df.month.astype(str), sep=', ').astype('category')\n",
    "# df['genre1'] = df.genre1.astype('category')\n",
    "df.head(1)"
   ]
  },
  {
   "cell_type": "code",
   "execution_count": 17,
   "metadata": {
    "collapsed": false
   },
   "outputs": [],
   "source": [
    "genreDummies = pd.get_dummies(df.genre1)\n"
   ]
  },
  {
   "cell_type": "code",
   "execution_count": 18,
   "metadata": {
    "collapsed": false
   },
   "outputs": [],
   "source": [
    "genreDummies = genreDummies.drop(18,axis=1)"
   ]
  },
  {
   "cell_type": "code",
   "execution_count": 19,
   "metadata": {
    "collapsed": false
   },
   "outputs": [
    {
     "data": {
      "text/html": [
       "<div>\n",
       "<table border=\"1\" class=\"dataframe\">\n",
       "  <thead>\n",
       "    <tr style=\"text-align: right;\">\n",
       "      <th></th>\n",
       "      <th>0.0</th>\n",
       "      <th>12.0</th>\n",
       "      <th>14.0</th>\n",
       "      <th>16.0</th>\n",
       "      <th>27.0</th>\n",
       "      <th>28.0</th>\n",
       "      <th>35.0</th>\n",
       "      <th>36.0</th>\n",
       "      <th>37.0</th>\n",
       "      <th>53.0</th>\n",
       "      <th>80.0</th>\n",
       "      <th>99.0</th>\n",
       "      <th>878.0</th>\n",
       "      <th>9648.0</th>\n",
       "      <th>10402.0</th>\n",
       "      <th>10749.0</th>\n",
       "      <th>10751.0</th>\n",
       "      <th>10752.0</th>\n",
       "    </tr>\n",
       "  </thead>\n",
       "  <tbody>\n",
       "    <tr>\n",
       "      <th>0</th>\n",
       "      <td>0</td>\n",
       "      <td>0</td>\n",
       "      <td>0</td>\n",
       "      <td>1</td>\n",
       "      <td>0</td>\n",
       "      <td>0</td>\n",
       "      <td>0</td>\n",
       "      <td>0</td>\n",
       "      <td>0</td>\n",
       "      <td>0</td>\n",
       "      <td>0</td>\n",
       "      <td>0</td>\n",
       "      <td>0</td>\n",
       "      <td>0</td>\n",
       "      <td>0</td>\n",
       "      <td>0</td>\n",
       "      <td>0</td>\n",
       "      <td>0</td>\n",
       "    </tr>\n",
       "  </tbody>\n",
       "</table>\n",
       "</div>"
      ],
      "text/plain": [
       "   0      12     14     16     27     28     35     36     37     53     \\\n",
       "0      0      0      0      1      0      0      0      0      0      0   \n",
       "\n",
       "   80     99     878    9648   10402  10749  10751  10752  \n",
       "0      0      0      0      0      0      0      0      0  "
      ]
     },
     "execution_count": 19,
     "metadata": {},
     "output_type": "execute_result"
    }
   ],
   "source": [
    "genreDummies.head(1)"
   ]
  },
  {
   "cell_type": "code",
   "execution_count": 20,
   "metadata": {
    "collapsed": true
   },
   "outputs": [
    {
     "ename": "AttributeError",
     "evalue": "'DataFrame' object has no attribute 'ActualROI'",
     "output_type": "error",
     "traceback": [
      "\u001b[0;31m---------------------------------------------------------------------------\u001b[0m",
      "\u001b[0;31mAttributeError\u001b[0m                            Traceback (most recent call last)",
      "\u001b[0;32m<ipython-input-20-8ccbb8fb50f6>\u001b[0m in \u001b[0;36m<module>\u001b[0;34m()\u001b[0m\n\u001b[0;32m----> 1\u001b[0;31m \u001b[0mtarget\u001b[0m \u001b[0;34m=\u001b[0m \u001b[0mdf\u001b[0m\u001b[0;34m.\u001b[0m\u001b[0mActualROI\u001b[0m\u001b[0;34m\u001b[0m\u001b[0m\n\u001b[0m\u001b[1;32m      2\u001b[0m \u001b[0mdf\u001b[0m\u001b[0;34m=\u001b[0m \u001b[0mdf\u001b[0m\u001b[0;34m.\u001b[0m\u001b[0mdrop\u001b[0m\u001b[0;34m(\u001b[0m\u001b[0;34m[\u001b[0m\u001b[0;34m'ActualROI'\u001b[0m\u001b[0;34m]\u001b[0m\u001b[0;34m,\u001b[0m \u001b[0maxis\u001b[0m \u001b[0;34m=\u001b[0m \u001b[0;36m1\u001b[0m\u001b[0;34m)\u001b[0m\u001b[0;34m\u001b[0m\u001b[0m\n",
      "\u001b[0;32m/Users/kylemix/anaconda/lib/python3.5/site-packages/pandas/core/generic.py\u001b[0m in \u001b[0;36m__getattr__\u001b[0;34m(self, name)\u001b[0m\n\u001b[1;32m   2358\u001b[0m                 \u001b[0;32mreturn\u001b[0m \u001b[0mself\u001b[0m\u001b[0;34m[\u001b[0m\u001b[0mname\u001b[0m\u001b[0;34m]\u001b[0m\u001b[0;34m\u001b[0m\u001b[0m\n\u001b[1;32m   2359\u001b[0m             raise AttributeError(\"'%s' object has no attribute '%s'\" %\n\u001b[0;32m-> 2360\u001b[0;31m                                  (type(self).__name__, name))\n\u001b[0m\u001b[1;32m   2361\u001b[0m \u001b[0;34m\u001b[0m\u001b[0m\n\u001b[1;32m   2362\u001b[0m     \u001b[0;32mdef\u001b[0m \u001b[0m__setattr__\u001b[0m\u001b[0;34m(\u001b[0m\u001b[0mself\u001b[0m\u001b[0;34m,\u001b[0m \u001b[0mname\u001b[0m\u001b[0;34m,\u001b[0m \u001b[0mvalue\u001b[0m\u001b[0;34m)\u001b[0m\u001b[0;34m:\u001b[0m\u001b[0;34m\u001b[0m\u001b[0m\n",
      "\u001b[0;31mAttributeError\u001b[0m: 'DataFrame' object has no attribute 'ActualROI'"
     ]
    }
   ],
   "source": [
    "target = df.ActualROI\n",
    "df= df.drop(['ActualROI'], axis = 1)"
   ]
  },
  {
   "cell_type": "code",
   "execution_count": 21,
   "metadata": {
    "collapsed": false
   },
   "outputs": [],
   "source": [
    "df1 = pd.concat([df,genreDummies], axis=1)\n",
    "df1 = df1.drop(['genre1', 'year','month','actorsMeanROI'],axis=1)"
   ]
  },
  {
   "cell_type": "code",
   "execution_count": 37,
   "metadata": {
    "collapsed": false
   },
   "outputs": [],
   "source": [
    "Xval = df1\n",
    "Xval2 = df1.drop('DirMeanROI', axis=1)\n",
    "Xval3 = df1.drop(['ActualRevenue','DirMeanROI'], axis=1)"
   ]
  },
  {
   "cell_type": "code",
   "execution_count": 43,
   "metadata": {
    "collapsed": false
   },
   "outputs": [
    {
     "data": {
      "text/plain": [
       "Index([     'ActualBudget',           'runtime',      'meanGenreROI',\n",
       "           'genre3MeanROI',            'dirExp',          'producer',\n",
       "               'actor1exp',         'actor2exp',         'actor3exp',\n",
       "               'actorsExp',          'crewsExp',            'winter',\n",
       "                  'spring',            'summer',              'fall',\n",
       "               'earlyYear',           'midYear',          'lateYear',\n",
       "              'dirRoiHigh',         'dirRoiMed',         'dirRoiLow',\n",
       "       'actorsMeanRoiHigh',  'actorsMeanRoiMid',                 0.0,\n",
       "                      12.0,                14.0,                16.0,\n",
       "                      27.0,                28.0,                35.0,\n",
       "                      36.0,                37.0,                53.0,\n",
       "                      80.0,                99.0,               878.0,\n",
       "                    9648.0,             10402.0,             10749.0,\n",
       "                   10751.0,             10752.0],\n",
       "      dtype='object')"
      ]
     },
     "execution_count": 43,
     "metadata": {},
     "output_type": "execute_result"
    }
   ],
   "source": [
    "Xval3.columns"
   ]
  },
  {
   "cell_type": "code",
   "execution_count": 54,
   "metadata": {
    "collapsed": false
   },
   "outputs": [],
   "source": [
    "# from x removed:,'DirMeanROI','runtime','actorsMeanROI','genre3MeanROI','DirMeanROI','actor1exp','actor2exp','actor3exp',\n",
    "# t1 = df[['ActualBudget','ActualRevenue','dirExp','meanGenreROI',\n",
    "#         'dirExp','producer','actorsExp','crewsExp','DirMeanROI']]\n",
    "# t2 = df[['ActualBudget','ActualRevenue','dirExp','meanGenreROI',\n",
    "#         'dirExp','producer','actorsExp','crewsExp']]\n",
    "\n",
    "X = Xval3\n",
    "y = target\n",
    "cols = Xval3.columns"
   ]
  },
  {
   "cell_type": "code",
   "execution_count": 173,
   "metadata": {
    "collapsed": true
   },
   "outputs": [],
   "source": [
    "lr1 = LinearRegression(n_jobs=True)"
   ]
  },
  {
   "cell_type": "code",
   "execution_count": 174,
   "metadata": {
    "collapsed": true
   },
   "outputs": [
    {
     "name": "stdout",
     "output_type": "stream",
     "text": [
      "scores=  [-0.53644459  0.16359618  0.30743996  0.33722029  0.32659812  0.20870229\n",
      "  0.38243679 -0.01066331  0.40213114  0.43381854] mean= 0.201483541154\n"
     ]
    }
   ],
   "source": [
    "scores = cross_val_score(lr1, X, y,cv=10,scoring = 'r2',n_jobs = -1)\n",
    "print('scores= ',scores, 'mean=',scores.mean())"
   ]
  },
  {
   "cell_type": "code",
   "execution_count": 140,
   "metadata": {
    "collapsed": false
   },
   "outputs": [],
   "source": [
    "linfit = lr1.fit(X,y)"
   ]
  },
  {
   "cell_type": "code",
   "execution_count": 141,
   "metadata": {
    "collapsed": true
   },
   "outputs": [
    {
     "data": {
      "text/plain": [
       "array([ -1.78628004e-08,  -1.43215416e-02,   2.85080941e+00,\n",
       "        -5.68467113e-02,   1.39549930e+00,   1.33855340e-01,\n",
       "        -5.40676259e-01,  -5.72554430e-01,  -5.54703145e-01,\n",
       "         1.75673250e+00,  -1.26102670e+00,  -1.77525645e-01,\n",
       "        -4.81058800e-01,   3.46777016e-01,   3.11807426e-01,\n",
       "        -4.07217189e-01,   1.51348564e-01,   2.55868623e-01,\n",
       "         1.08357844e+01,   1.75896293e+00,   1.07220948e+00,\n",
       "         4.89550467e-01,  -4.05332254e+00,   7.98498551e-01,\n",
       "         1.14824495e-01,   9.11450010e-01,   4.74212548e-01,\n",
       "        -1.03519014e-01,   7.96675836e-01,  -2.33028203e+01,\n",
       "        -1.81167878e-01,   6.22365693e-01,   7.30129529e-01,\n",
       "         4.35826290e-01,  -1.30624009e-02,   1.36684975e+00])"
      ]
     },
     "execution_count": 141,
     "metadata": {},
     "output_type": "execute_result"
    }
   ],
   "source": [
    "linfit.coef_"
   ]
  },
  {
   "cell_type": "code",
   "execution_count": 196,
   "metadata": {
    "collapsed": true
   },
   "outputs": [
    {
     "ename": "TypeError",
     "evalue": "__init__() missing 1 required positional argument: 'param_distributions'",
     "output_type": "error",
     "traceback": [
      "\u001b[0;31m---------------------------------------------------------------------------\u001b[0m",
      "\u001b[0;31mTypeError\u001b[0m                                 Traceback (most recent call last)",
      "\u001b[0;32m<ipython-input-196-bf04788e1213>\u001b[0m in \u001b[0;36m<module>\u001b[0;34m()\u001b[0m\n\u001b[0;32m----> 1\u001b[0;31m \u001b[0mrand\u001b[0m \u001b[0;34m=\u001b[0m \u001b[0mRandomizedSearchCV\u001b[0m\u001b[0;34m(\u001b[0m\u001b[0mlr1\u001b[0m\u001b[0;34m,\u001b[0m \u001b[0mcv\u001b[0m\u001b[0;34m=\u001b[0m\u001b[0;36m10\u001b[0m\u001b[0;34m,\u001b[0m \u001b[0mscoring\u001b[0m\u001b[0;34m=\u001b[0m\u001b[0;34m'r2'\u001b[0m\u001b[0;34m,\u001b[0m\u001b[0mn_iter\u001b[0m \u001b[0;34m=\u001b[0m \u001b[0;36m10\u001b[0m\u001b[0;34m,\u001b[0m\u001b[0mrandom_state\u001b[0m\u001b[0;34m=\u001b[0m\u001b[0;36m42\u001b[0m\u001b[0;34m)\u001b[0m\u001b[0;34m\u001b[0m\u001b[0m\n\u001b[0m\u001b[1;32m      2\u001b[0m \u001b[0mrand\u001b[0m\u001b[0;34m.\u001b[0m\u001b[0mfit\u001b[0m\u001b[0;34m(\u001b[0m\u001b[0mlinX\u001b[0m\u001b[0;34m,\u001b[0m\u001b[0mliny\u001b[0m\u001b[0;34m)\u001b[0m\u001b[0;34m\u001b[0m\u001b[0m\n\u001b[1;32m      3\u001b[0m \u001b[0mrand\u001b[0m\u001b[0;34m.\u001b[0m\u001b[0mgrid_scores_\u001b[0m\u001b[0;34m\u001b[0m\u001b[0m\n",
      "\u001b[0;31mTypeError\u001b[0m: __init__() missing 1 required positional argument: 'param_distributions'"
     ]
    }
   ],
   "source": [
    "# rand = RandomizedSearchCV(lr1, cv=10, scoring='r2',n_iter = 10,random_state=42)\n",
    "# rand.fit(linX,liny)\n",
    "# rand.grid_scores_"
   ]
  },
  {
   "cell_type": "code",
   "execution_count": 51,
   "metadata": {
    "collapsed": false
   },
   "outputs": [
    {
     "data": {
      "text/plain": [
       "Index([     'ActualBudget',           'runtime',      'meanGenreROI',\n",
       "           'genre3MeanROI',            'dirExp',          'producer',\n",
       "               'actor1exp',         'actor2exp',         'actor3exp',\n",
       "               'actorsExp',          'crewsExp',            'winter',\n",
       "                  'spring',            'summer',              'fall',\n",
       "               'earlyYear',           'midYear',          'lateYear',\n",
       "              'dirRoiHigh',         'dirRoiMed',         'dirRoiLow',\n",
       "       'actorsMeanRoiHigh',  'actorsMeanRoiMid',                 0.0,\n",
       "                      12.0,                14.0,                16.0,\n",
       "                      27.0,                28.0,                35.0,\n",
       "                      36.0,                37.0,                53.0,\n",
       "                      80.0,                99.0,               878.0,\n",
       "                    9648.0,             10402.0,             10749.0,\n",
       "                   10751.0,             10752.0],\n",
       "      dtype='object')"
      ]
     },
     "execution_count": 51,
     "metadata": {},
     "output_type": "execute_result"
    }
   ],
   "source": [
    "\n",
    "X.columns"
   ]
  },
  {
   "cell_type": "code",
   "execution_count": 48,
   "metadata": {
    "collapsed": true
   },
   "outputs": [],
   "source": [
    "randF300 = RandomForestRegressor(n_estimators=300, random_state=42)"
   ]
  },
  {
   "cell_type": "code",
   "execution_count": 45,
   "metadata": {
    "collapsed": false
   },
   "outputs": [
    {
     "data": {
      "text/plain": [
       "RandomForestRegressor(bootstrap=True, criterion='mse', max_depth=None,\n",
       "           max_features='auto', max_leaf_nodes=None,\n",
       "           min_impurity_split=1e-07, min_samples_leaf=1,\n",
       "           min_samples_split=2, min_weight_fraction_leaf=0.0,\n",
       "           n_estimators=300, n_jobs=1, oob_score=False, random_state=42,\n",
       "           verbose=0, warm_start=False)"
      ]
     },
     "execution_count": 45,
     "metadata": {},
     "output_type": "execute_result"
    }
   ],
   "source": [
    "rf.fit(Xval3,target)"
   ]
  },
  {
   "cell_type": "code",
   "execution_count": 55,
   "metadata": {
    "collapsed": false
   },
   "outputs": [
    {
     "data": {
      "text/plain": [
       "[(0.22344680341140469, 'ActualBudget'),\n",
       " (0.16110540433857076, 'actorsMeanRoiHigh'),\n",
       " (0.1597592390632494, 'actorsMeanRoiMid'),\n",
       " (0.15172499927373689, 'meanGenreROI'),\n",
       " (0.044219832349371081, 'runtime'),\n",
       " (0.029408785787397296, 'dirRoiHigh'),\n",
       " (0.024737906456757382, 'producer'),\n",
       " (0.02146967627975728, 'dirExp'),\n",
       " (0.0210448333330162, 'actor1exp'),\n",
       " (0.020888146632341155, 'actorsExp'),\n",
       " (0.019206766254908903, 'crewsExp'),\n",
       " (0.016347796488853573, 'dirRoiLow'),\n",
       " (0.014062638972067616, 99.0),\n",
       " (0.013987107227976265, 'actor2exp'),\n",
       " (0.012920359239964345, 'genre3MeanROI'),\n",
       " (0.010178032891768092, 'actor3exp'),\n",
       " (0.0090849686792346483, 'fall'),\n",
       " (0.007545322486254071, 'earlyYear'),\n",
       " (0.0050118114163378363, 'spring'),\n",
       " (0.0045714430424508784, 'midYear'),\n",
       " (0.0041384350717403318, 'winter'),\n",
       " (0.0031975890980258923, 35.0),\n",
       " (0.0031194742920568931, 14.0),\n",
       " (0.0027976193062729717, 53.0),\n",
       " (0.0027398956395651981, 'lateYear'),\n",
       " (0.0025666537576187723, 'summer'),\n",
       " (0.0024586271048825312, 80.0),\n",
       " (0.0022677995469174285, 27.0),\n",
       " (0.0021806183011602869, 28.0),\n",
       " (0.0015215373359767244, 10751.0),\n",
       " (0.00079460042719117264, 10749.0),\n",
       " (0.00066418380112793856, 0.0),\n",
       " (0.00030415781584442391, 16.0),\n",
       " (0.00025109873583813435, 878.0),\n",
       " (0.00017476595476038453, 12.0),\n",
       " (4.1794167310967408e-05, 36.0),\n",
       " (3.717091515339756e-05, 9648.0),\n",
       " (1.4194461548966379e-05, 10752.0),\n",
       " (7.1779978506649083e-06, 10402.0),\n",
       " (7.326437383807621e-07, 37.0),\n",
       " (0.0, 'dirRoiMed')]"
      ]
     },
     "execution_count": 55,
     "metadata": {},
     "output_type": "execute_result"
    }
   ],
   "source": [
    "randF300.fit(X,y)\n",
    "randF300.feature_importances_\n",
    "sorted(zip(rf.feature_importances_, cols),reverse=True)"
   ]
  },
  {
   "cell_type": "code",
   "execution_count": 49,
   "metadata": {
    "collapsed": false
   },
   "outputs": [
    {
     "name": "stdout",
     "output_type": "stream",
     "text": [
      "scores=  [ 0.67768868  0.34087998  0.60725009  0.61685622  0.69519157  0.5995015\n",
      "  0.60656168  0.26841481  0.62864307  0.36153697] mean= 0.54025245784\n"
     ]
    }
   ],
   "source": [
    "scores = cross_val_score(randF300, X, y,cv=10,scoring = 'r2',n_jobs = -1)\n",
    "print('scores= ',scores, 'mean=',scores.mean())"
   ]
  },
  {
   "cell_type": "code",
   "execution_count": 93,
   "metadata": {
    "collapsed": false,
    "scrolled": true
   },
   "outputs": [
    {
     "data": {
      "text/plain": [
       "[(0.43284264525024801, 'ActualRevenue'),\n",
       " (0.4056940568583437, 'ActualBudget'),\n",
       " (0.044398005276497142, 'DirMeanROI'),\n",
       " (0.025341570971592238, 'runtime'),\n",
       " (0.015579997249064481, 14.0),\n",
       " (0.013527285460164901, 10752.0),\n",
       " (0.0091276439657972091, 'actorsExp'),\n",
       " (0.007662736555970725, 'genre3MeanROI'),\n",
       " (0.0073821081601994328, 'actor3exp'),\n",
       " (0.005535706161935933, 'dirExp'),\n",
       " (0.0054400991510449382, 'actor2exp'),\n",
       " (0.0041257823455429828, 'producer'),\n",
       " (0.0038689463473881702, 'actor1exp'),\n",
       " (0.0036009459959806152, 0.0),\n",
       " (0.0033359103257834472, 'meanGenreROI'),\n",
       " (0.0026938249406605395, 16.0),\n",
       " (0.0018595726461929931, 27.0),\n",
       " (0.0011531866227655655, 28.0),\n",
       " (0.0011213534186060275, 10751.0),\n",
       " (0.0011112498334896531, 12.0),\n",
       " (0.0010173284048436444, 'crewsExp'),\n",
       " (0.00097108618394070026, 99.0),\n",
       " (0.00063693316560165132, 878.0),\n",
       " (0.00062185768343824086, 80.0),\n",
       " (0.00057690298320247886, 10749.0),\n",
       " (0.00033205339395665339, 37.0),\n",
       " (0.00030523619423007334, 35.0),\n",
       " (3.1339185987484527e-05, '2007, 1'),\n",
       " (2.8775737280294279e-05, 53.0),\n",
       " (2.2191835853396335e-05, '2007, 10'),\n",
       " (2.1718783835607773e-05, '2006, 10'),\n",
       " (1.7967324852423396e-05, 36.0),\n",
       " (1.1214762026705078e-05, 9648.0),\n",
       " (1.1061713872371601e-06, '2006, 5'),\n",
       " (9.7752785931330003e-07, '2006, 12'),\n",
       " (5.6633150251408305e-07, '2007, 11'),\n",
       " (1.1679293271221853e-07, 10402.0)]"
      ]
     },
     "execution_count": 93,
     "metadata": {},
     "output_type": "execute_result"
    }
   ],
   "source": [
    "rf2 = RandomForestRegressor(n_estimators=200)\n",
    "rf2.fit(Xval2,y)\n",
    "rf2.feature_importances_\n",
    "sorted(zip(rf2.feature_importances_, cols),reverse=True)"
   ]
  },
  {
   "cell_type": "code",
   "execution_count": 98,
   "metadata": {
    "collapsed": false
   },
   "outputs": [
    {
     "data": {
      "text/plain": [
       "Index([ 'ActualBudget', 'ActualRevenue',       'runtime',  'meanGenreROI',\n",
       "       'genre3MeanROI',        'dirExp',      'producer',     'actor1exp',\n",
       "           'actor2exp',     'actor3exp',     'actorsExp',      'crewsExp',\n",
       "              'winter',        'spring',        'summer',          'fall',\n",
       "           'earlyYear',       'midYear',      'lateYear',             0.0,\n",
       "                  12.0,            14.0,            16.0,            27.0,\n",
       "                  28.0,            35.0,            36.0,            37.0,\n",
       "                  53.0,            80.0,            99.0,           878.0,\n",
       "                9648.0,         10402.0,         10749.0,         10751.0,\n",
       "               10752.0],\n",
       "      dtype='object')"
      ]
     },
     "execution_count": 98,
     "metadata": {},
     "output_type": "execute_result"
    }
   ],
   "source": [
    "Xval2.columns"
   ]
  },
  {
   "cell_type": "code",
   "execution_count": 28,
   "metadata": {
    "collapsed": true
   },
   "outputs": [],
   "source": [
    "lass = Lasso(alpha = .5)"
   ]
  },
  {
   "cell_type": "code",
   "execution_count": 29,
   "metadata": {
    "collapsed": false
   },
   "outputs": [
    {
     "name": "stdout",
     "output_type": "stream",
     "text": [
      "scores=  [ 0.1615236   0.25411388  0.35671963  0.39862209  0.31318359  0.27362806\n",
      "  0.35791866  0.19922462  0.44261008  0.52518577] mean= 0.328272998396\n"
     ]
    }
   ],
   "source": [
    "scores = cross_val_score(lass, X, y,cv=10,scoring = 'r2',n_jobs = -1)\n",
    "print('scores= ',scores, 'mean=',scores.mean())"
   ]
  },
  {
   "cell_type": "code",
   "execution_count": null,
   "metadata": {
    "collapsed": true
   },
   "outputs": [],
   "source": []
  }
 ],
 "metadata": {
  "kernelspec": {
   "display_name": "Python 3",
   "language": "python",
   "name": "python3"
  },
  "language_info": {
   "codemirror_mode": {
    "name": "ipython",
    "version": 3
   },
   "file_extension": ".py",
   "mimetype": "text/x-python",
   "name": "python",
   "nbconvert_exporter": "python",
   "pygments_lexer": "ipython3",
   "version": "3.5.2"
  }
 },
 "nbformat": 4,
 "nbformat_minor": 0
}
