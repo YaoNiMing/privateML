{
 "cells": [
  {
   "cell_type": "code",
   "execution_count": 1,
   "metadata": {
    "collapsed": true
   },
   "outputs": [],
   "source": [
    "import pandas as pd\n",
    "import requests\n",
    "from bs4 import BeautifulSoup\n",
    "import numpy as np\n",
    "import json\n",
    "import os\n",
    "from time import sleep\n",
    "import matplotlib.pyplot as plt\n",
    "import re\n",
    "import string\n",
    "import lxml"
   ]
  },
  {
   "cell_type": "code",
   "execution_count": 2,
   "metadata": {
    "collapsed": false
   },
   "outputs": [],
   "source": [
    "df = pd.read_csv('mojoScrape.csv')\n",
    "half = df.head(5000)\n",
    "small = df.head(3)"
   ]
  },
  {
   "cell_type": "code",
   "execution_count": 22,
   "metadata": {
    "collapsed": true
   },
   "outputs": [],
   "source": [
    "def getHtml(tail,tmdbId):\n",
    "    top = 'http://www.boxofficemojo.com'\n",
    "    t= str(tmdbId)\n",
    "    buildURL = top + tail\n",
    "    header = {'User-Agent': 'Mozilla/5.0 (Macintosh; Intel Mac OS X 10_10_1) AppleWebKit/537.36 (KHTML, like Gecko) Chrome/39.0.2171.95 Safari/537.36'}\n",
    "    response = requests.get(buildURL, headers = header)\n",
    "    sleep(.5)\n",
    "    status = response.status_code\n",
    "    with (open('htmlThirdTry/{}.html'.format(t),'w'))as savefile:\n",
    "        savefile.write(response.text)\n",
    "    return status\n",
    "\n",
    "\n",
    "def checkPathOpen(tail):\n",
    "    if os.path.isfile('searchHtml/{}'.format(tail))==False:\n",
    "        getHtml(tail)\n",
    "        sleep(.5)\n",
    "    with (open('searchHtml/{}'.format(tail),'r')) as infile:\n",
    "        soup = BeautifulSoup(infile,'lxml')\n",
    "        return soup\n",
    "    \n",
    "    \n",
    "\n",
    "s = re.compile('\\ ')\n",
    "punc = re.compile('[/\\.]') \n",
    "\n",
    "\n",
    "def getHTMLsearch(title):\n",
    "    top = 'http://www.boxofficemojo.com/search/?q='\n",
    "    t = title.strip()\n",
    "    fn = re.sub(s,'',t)\n",
    "    p = re.sub(s,'%20',t)\n",
    "    q = re.sub(punc,'',fn)\n",
    "    buildURL = top+p\n",
    "    header = {'User-Agent': 'Mozilla/5.0 (Macintosh; Intel Mac OS X 10_10_1) AppleWebKit/537.36 (KHTML, like Gecko) Chrome/39.0.2171.95 Safari/537.36'}\n",
    "    response = requests.get(buildURL, headers = header)\n",
    "    sleep(.5)\n",
    "    status = response.status_code\n",
    "    with (open('searchHtml/{}.html'.format(q),'w'))as savefile:\n",
    "        savefile.write(response.text)\n",
    "        x = savefile.seek(0,os.SEEK_END)\n",
    "        return (status, x)\n",
    "    \n",
    "    \n",
    "def load(title):\n",
    "    t = title.strip()\n",
    "    fn = re.sub(s,'',t)\n",
    "    q = re.sub(punc,'',fn)\n",
    "    return q+'.html'\n",
    "    \n",
    "def getSize(file):\n",
    "    q = 'searchHtml/{}'.format(file)\n",
    "    st = os.stat(q)\n",
    "    return st.st_size\n",
    "\n",
    "def findHref(file,title):\n",
    "    soup = checkPathOpen(file)\n",
    "    obj = soup.findAll('a',href=True, text ='{}'.format(title))\n",
    "    if not obj:\n",
    "        return np.nan\n",
    "    else:\n",
    "        for link in soup.findAll('a',href=True, text ='{}'.format(title)):\n",
    "            if link['href']:\n",
    "                return link['href']\n",
    "            else:\n",
    "                return np.nan\n",
    "    "
   ]
  },
  {
   "cell_type": "code",
   "execution_count": 6,
   "metadata": {
    "collapsed": false
   },
   "outputs": [
    {
     "data": {
      "text/html": [
       "<div>\n",
       "<table border=\"1\" class=\"dataframe\">\n",
       "  <thead>\n",
       "    <tr style=\"text-align: right;\">\n",
       "      <th></th>\n",
       "      <th>movieId</th>\n",
       "      <th>title</th>\n",
       "      <th>tmdbId</th>\n",
       "      <th>flatTitle</th>\n",
       "      <th>file</th>\n",
       "    </tr>\n",
       "  </thead>\n",
       "  <tbody>\n",
       "    <tr>\n",
       "      <th>0</th>\n",
       "      <td>49910</td>\n",
       "      <td>Freedom Writers</td>\n",
       "      <td>1646</td>\n",
       "      <td>freedomwriters.htm</td>\n",
       "      <td>FreedomWriters.html</td>\n",
       "    </tr>\n",
       "    <tr>\n",
       "      <th>1</th>\n",
       "      <td>50149</td>\n",
       "      <td>Happily N'Ever After</td>\n",
       "      <td>5393</td>\n",
       "      <td>happilyneverafter.htm</td>\n",
       "      <td>HappilyN'EverAfter.html</td>\n",
       "    </tr>\n",
       "    <tr>\n",
       "      <th>2</th>\n",
       "      <td>50151</td>\n",
       "      <td>Home of the Brave</td>\n",
       "      <td>14171</td>\n",
       "      <td>homeofthebrave.htm</td>\n",
       "      <td>HomeoftheBrave.html</td>\n",
       "    </tr>\n",
       "    <tr>\n",
       "      <th>3</th>\n",
       "      <td>50153</td>\n",
       "      <td>Code Name: The Cleaner</td>\n",
       "      <td>14396</td>\n",
       "      <td>codenamethecleaner.htm</td>\n",
       "      <td>CodeName:TheCleaner.html</td>\n",
       "    </tr>\n",
       "    <tr>\n",
       "      <th>4</th>\n",
       "      <td>50158</td>\n",
       "      <td>Stomp the Yard</td>\n",
       "      <td>1931</td>\n",
       "      <td>stomptheyard.htm</td>\n",
       "      <td>StomptheYard.html</td>\n",
       "    </tr>\n",
       "  </tbody>\n",
       "</table>\n",
       "</div>"
      ],
      "text/plain": [
       "   movieId                   title  tmdbId               flatTitle  \\\n",
       "0    49910         Freedom Writers    1646      freedomwriters.htm   \n",
       "1    50149    Happily N'Ever After    5393   happilyneverafter.htm   \n",
       "2    50151       Home of the Brave   14171      homeofthebrave.htm   \n",
       "3    50153  Code Name: The Cleaner   14396  codenamethecleaner.htm   \n",
       "4    50158          Stomp the Yard    1931        stomptheyard.htm   \n",
       "\n",
       "                       file  \n",
       "0       FreedomWriters.html  \n",
       "1   HappilyN'EverAfter.html  \n",
       "2       HomeoftheBrave.html  \n",
       "3  CodeName:TheCleaner.html  \n",
       "4         StomptheYard.html  "
      ]
     },
     "execution_count": 6,
     "metadata": {},
     "output_type": "execute_result"
    }
   ],
   "source": [
    "# df['status'] = df['title'].map(lambda x: getHTMLsearch(x))\n",
    "df['file'] = df['title'].map(lambda x: load(x))\n",
    "df.head()\n",
    "# half['status'] = half['title'].map(lambda x: getHTMLsearch(x))\n",
    "# small['status'] = small['title'].map(lambda x: getHTMLsearch(x))\n",
    "\n"
   ]
  },
  {
   "cell_type": "code",
   "execution_count": null,
   "metadata": {
    "collapsed": true
   },
   "outputs": [],
   "source": []
  },
  {
   "cell_type": "code",
   "execution_count": 7,
   "metadata": {
    "collapsed": false
   },
   "outputs": [
    {
     "data": {
      "text/html": [
       "<div>\n",
       "<table border=\"1\" class=\"dataframe\">\n",
       "  <thead>\n",
       "    <tr style=\"text-align: right;\">\n",
       "      <th></th>\n",
       "      <th>file</th>\n",
       "    </tr>\n",
       "  </thead>\n",
       "  <tbody>\n",
       "    <tr>\n",
       "      <th>0</th>\n",
       "      <td>$999.html</td>\n",
       "    </tr>\n",
       "    <tr>\n",
       "      <th>1</th>\n",
       "      <td>(500)DaysofSummer.html</td>\n",
       "    </tr>\n",
       "    <tr>\n",
       "      <th>2</th>\n",
       "      <td>(Untitled).html</td>\n",
       "    </tr>\n",
       "    <tr>\n",
       "      <th>3</th>\n",
       "      <td>+1.html</td>\n",
       "    </tr>\n",
       "    <tr>\n",
       "      <th>4</th>\n",
       "      <td>009Re:Cyborg.html</td>\n",
       "    </tr>\n",
       "  </tbody>\n",
       "</table>\n",
       "</div>"
      ],
      "text/plain": [
       "                     file\n",
       "0               $999.html\n",
       "1  (500)DaysofSummer.html\n",
       "2         (Untitled).html\n",
       "3                 +1.html\n",
       "4       009Re:Cyborg.html"
      ]
     },
     "execution_count": 7,
     "metadata": {},
     "output_type": "execute_result"
    }
   ],
   "source": [
    "df2 = pd.read_csv('goodHTMLsea.csv')\n",
    "df2.columns = ['drop', 'file']\n",
    "df2.drop('drop', axis=1,inplace=True)\n",
    "\n",
    "\n",
    "df2.head()"
   ]
  },
  {
   "cell_type": "code",
   "execution_count": 8,
   "metadata": {
    "collapsed": false
   },
   "outputs": [],
   "source": [
    "df2['size'] = df2['file'].map(lambda x: getSize(x))\n",
    "df2 = df2[df2['size']>14000]\n",
    "df2.shape\n",
    "\n",
    "df3 = pd.merge(df2, df, how='left', on='file')\n",
    "\n"
   ]
  },
  {
   "cell_type": "code",
   "execution_count": 9,
   "metadata": {
    "collapsed": true
   },
   "outputs": [],
   "source": [
    "df3['tail'] = df3.apply(lambda row: findHref(row['file'],row['title']),axis=1)\n"
   ]
  },
  {
   "cell_type": "code",
   "execution_count": 25,
   "metadata": {
    "collapsed": false
   },
   "outputs": [],
   "source": [
    "# df3.dropna(inplace = True)\n",
    "df3.to_csv('thirdTry.csv')\n"
   ]
  },
  {
   "cell_type": "code",
   "execution_count": 138,
   "metadata": {
    "collapsed": false
   },
   "outputs": [
    {
     "name": "stdout",
     "output_type": "stream",
     "text": [
      "/movies/?id=10years.htm\n"
     ]
    }
   ],
   "source": [
    "file = '10Years.html'\n",
    "title = '10 Years'\n",
    "soup = checkPathOpen(file)\n",
    "matchstr = re.compile('1 Movie Matches:')\n",
    "# for link in soup.find_all('a', href=True, text='10 Years'):\n",
    "#     print(link)\n",
    "\n",
    "\n",
    "print(findHref(file, title))"
   ]
  },
  {
   "cell_type": "code",
   "execution_count": 18,
   "metadata": {
    "collapsed": false
   },
   "outputs": [
    {
     "data": {
      "text/html": [
       "<div>\n",
       "<table border=\"1\" class=\"dataframe\">\n",
       "  <thead>\n",
       "    <tr style=\"text-align: right;\">\n",
       "      <th></th>\n",
       "      <th>title</th>\n",
       "      <th>tmdbId</th>\n",
       "      <th>tail</th>\n",
       "    </tr>\n",
       "  </thead>\n",
       "  <tbody>\n",
       "    <tr>\n",
       "      <th>0</th>\n",
       "      <td>$9.99</td>\n",
       "      <td>19311</td>\n",
       "      <td>/movies/?id=9dot99.htm</td>\n",
       "    </tr>\n",
       "    <tr>\n",
       "      <th>3</th>\n",
       "      <td>10 Years</td>\n",
       "      <td>58547</td>\n",
       "      <td>/movies/?id=10years.htm</td>\n",
       "    </tr>\n",
       "    <tr>\n",
       "      <th>5</th>\n",
       "      <td>12</td>\n",
       "      <td>20714</td>\n",
       "      <td>/movies/?id=12.htm</td>\n",
       "    </tr>\n",
       "    <tr>\n",
       "      <th>7</th>\n",
       "      <td>127 Hours</td>\n",
       "      <td>44115</td>\n",
       "      <td>/movies/?id=127hours.htm</td>\n",
       "    </tr>\n",
       "    <tr>\n",
       "      <th>8</th>\n",
       "      <td>12 Rounds</td>\n",
       "      <td>17134</td>\n",
       "      <td>/movies/?id=12rounds.htm</td>\n",
       "    </tr>\n",
       "  </tbody>\n",
       "</table>\n",
       "</div>"
      ],
      "text/plain": [
       "       title  tmdbId                      tail\n",
       "0      $9.99   19311    /movies/?id=9dot99.htm\n",
       "3   10 Years   58547   /movies/?id=10years.htm\n",
       "5         12   20714        /movies/?id=12.htm\n",
       "7  127 Hours   44115  /movies/?id=127hours.htm\n",
       "8  12 Rounds   17134  /movies/?id=12rounds.htm"
      ]
     },
     "execution_count": 18,
     "metadata": {},
     "output_type": "execute_result"
    }
   ],
   "source": [
    "df4 = df3[['title', 'tmdbId','tail']]\n",
    "df4.head()"
   ]
  },
  {
   "cell_type": "code",
   "execution_count": 23,
   "metadata": {
    "collapsed": false
   },
   "outputs": [
    {
     "name": "stderr",
     "output_type": "stream",
     "text": [
      "/Users/kylemix/anaconda/lib/python3.5/site-packages/ipykernel/__main__.py:1: SettingWithCopyWarning: \n",
      "A value is trying to be set on a copy of a slice from a DataFrame.\n",
      "Try using .loc[row_indexer,col_indexer] = value instead\n",
      "\n",
      "See the caveats in the documentation: http://pandas.pydata.org/pandas-docs/stable/indexing.html#indexing-view-versus-copy\n",
      "  if __name__ == '__main__':\n"
     ]
    },
    {
     "data": {
      "text/html": [
       "<div>\n",
       "<table border=\"1\" class=\"dataframe\">\n",
       "  <thead>\n",
       "    <tr style=\"text-align: right;\">\n",
       "      <th></th>\n",
       "      <th>title</th>\n",
       "      <th>tmdbId</th>\n",
       "      <th>tail</th>\n",
       "      <th>status</th>\n",
       "    </tr>\n",
       "  </thead>\n",
       "  <tbody>\n",
       "    <tr>\n",
       "      <th>0</th>\n",
       "      <td>$9.99</td>\n",
       "      <td>19311</td>\n",
       "      <td>/movies/?id=9dot99.htm</td>\n",
       "      <td>200</td>\n",
       "    </tr>\n",
       "    <tr>\n",
       "      <th>3</th>\n",
       "      <td>10 Years</td>\n",
       "      <td>58547</td>\n",
       "      <td>/movies/?id=10years.htm</td>\n",
       "      <td>200</td>\n",
       "    </tr>\n",
       "    <tr>\n",
       "      <th>5</th>\n",
       "      <td>12</td>\n",
       "      <td>20714</td>\n",
       "      <td>/movies/?id=12.htm</td>\n",
       "      <td>200</td>\n",
       "    </tr>\n",
       "    <tr>\n",
       "      <th>7</th>\n",
       "      <td>127 Hours</td>\n",
       "      <td>44115</td>\n",
       "      <td>/movies/?id=127hours.htm</td>\n",
       "      <td>200</td>\n",
       "    </tr>\n",
       "    <tr>\n",
       "      <th>8</th>\n",
       "      <td>12 Rounds</td>\n",
       "      <td>17134</td>\n",
       "      <td>/movies/?id=12rounds.htm</td>\n",
       "      <td>200</td>\n",
       "    </tr>\n",
       "  </tbody>\n",
       "</table>\n",
       "</div>"
      ],
      "text/plain": [
       "       title  tmdbId                      tail  status\n",
       "0      $9.99   19311    /movies/?id=9dot99.htm     200\n",
       "3   10 Years   58547   /movies/?id=10years.htm     200\n",
       "5         12   20714        /movies/?id=12.htm     200\n",
       "7  127 Hours   44115  /movies/?id=127hours.htm     200\n",
       "8  12 Rounds   17134  /movies/?id=12rounds.htm     200"
      ]
     },
     "execution_count": 23,
     "metadata": {},
     "output_type": "execute_result"
    }
   ],
   "source": [
    "df4['status'] = df4.apply(lambda row: getHtml(row['tail'], row['tmdbId']),axis = 1)\n",
    "df4.head()"
   ]
  },
  {
   "cell_type": "code",
   "execution_count": null,
   "metadata": {
    "collapsed": true
   },
   "outputs": [],
   "source": []
  }
 ],
 "metadata": {
  "kernelspec": {
   "display_name": "Python 3",
   "language": "python",
   "name": "python3"
  },
  "language_info": {
   "codemirror_mode": {
    "name": "ipython",
    "version": 3
   },
   "file_extension": ".py",
   "mimetype": "text/x-python",
   "name": "python",
   "nbconvert_exporter": "python",
   "pygments_lexer": "ipython3",
   "version": "3.5.2"
  }
 },
 "nbformat": 4,
 "nbformat_minor": 0
}
