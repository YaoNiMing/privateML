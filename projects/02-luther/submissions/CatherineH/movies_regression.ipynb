{
 "cells": [
  {
   "cell_type": "code",
   "execution_count": null,
   "metadata": {
    "collapsed": true
   },
   "outputs": [],
   "source": [
    "#4 mins, must discuss what we predicted, NOT a pitch, no acting, features I tried to include, which I tried and how they did/didn't work\n",
    "#no code, keep it pretty\n",
    "#no \"f-test\" language"
   ]
  },
  {
   "cell_type": "markdown",
   "metadata": {},
   "source": [
    "# Importing Packages, Part 1"
   ]
  },
  {
   "cell_type": "code",
   "execution_count": 1,
   "metadata": {
    "collapsed": false
   },
   "outputs": [
    {
     "name": "stderr",
     "output_type": "stream",
     "text": [
      "/home/catherine/anaconda2/lib/python2.7/site-packages/matplotlib/font_manager.py:273: UserWarning: Matplotlib is building the font cache using fc-list. This may take a moment.\n",
      "  warnings.warn('Matplotlib is building the font cache using fc-list. This may take a moment.')\n"
     ]
    }
   ],
   "source": [
    "\n",
    "import pandas as pd\n",
    "import numpy as np\n",
    "import matplotlib.pyplot as plt\n",
    "from bs4 import BeautifulSoup\n",
    "import os\n",
    "import re \n",
    "import seaborn as sns\n",
    "pysqldf = lambda q: sqldf(q, globals())\n",
    "import datetime \n",
    "from dateutil import parser\n",
    "\n",
    "from sklearn import cross_validation, datasets\n",
    "\n",
    "\n",
    "plt.style.available\n",
    "plt.style.use('ggplot')\n",
    "\n",
    "%matplotlib inline"
   ]
  },
  {
   "cell_type": "markdown",
   "metadata": {},
   "source": [
    "# Importing CSV as a dataframe\n",
    "**2000 top grossing films based on domestic adjusted gross"
   ]
  },
  {
   "cell_type": "code",
   "execution_count": 2,
   "metadata": {
    "collapsed": false
   },
   "outputs": [
    {
     "data": {
      "text/html": [
       "<div>\n",
       "<table border=\"1\" class=\"dataframe\">\n",
       "  <thead>\n",
       "    <tr style=\"text-align: right;\">\n",
       "      <th></th>\n",
       "      <th>Unnamed: 0</th>\n",
       "      <th>distributor</th>\n",
       "      <th>domestic_adj_gross</th>\n",
       "      <th>genre</th>\n",
       "      <th>mpaa_rating</th>\n",
       "      <th>production_budget</th>\n",
       "      <th>release_date</th>\n",
       "      <th>runtime_mins</th>\n",
       "      <th>title</th>\n",
       "    </tr>\n",
       "  </thead>\n",
       "  <tbody>\n",
       "    <tr>\n",
       "      <th>0</th>\n",
       "      <td>0</td>\n",
       "      <td>Buena Vista</td>\n",
       "      <td>936276700</td>\n",
       "      <td>Sci-Fi Fantasy</td>\n",
       "      <td>PG-13</td>\n",
       "      <td>$245 million</td>\n",
       "      <td>2015-12-18</td>\n",
       "      <td>136</td>\n",
       "      <td>Star Wars: The Force Awakens</td>\n",
       "    </tr>\n",
       "    <tr>\n",
       "      <th>1</th>\n",
       "      <td>1</td>\n",
       "      <td>Fox</td>\n",
       "      <td>830529800</td>\n",
       "      <td>Sci-Fi Adventure</td>\n",
       "      <td>PG-13</td>\n",
       "      <td>NaN</td>\n",
       "      <td>2009-12-18</td>\n",
       "      <td>160</td>\n",
       "      <td>Avatar</td>\n",
       "    </tr>\n",
       "    <tr>\n",
       "      <th>2</th>\n",
       "      <td>2</td>\n",
       "      <td>Paramount</td>\n",
       "      <td>1111475400</td>\n",
       "      <td>Romance</td>\n",
       "      <td>PG-13</td>\n",
       "      <td>$200 million</td>\n",
       "      <td>1997-12-19</td>\n",
       "      <td>194</td>\n",
       "      <td>Titanic</td>\n",
       "    </tr>\n",
       "    <tr>\n",
       "      <th>3</th>\n",
       "      <td>3</td>\n",
       "      <td>Universal</td>\n",
       "      <td>684566100</td>\n",
       "      <td>Sci-Fi Horror</td>\n",
       "      <td>PG-13</td>\n",
       "      <td>$150 million</td>\n",
       "      <td>2015-06-12</td>\n",
       "      <td>124</td>\n",
       "      <td>Jurassic World</td>\n",
       "    </tr>\n",
       "    <tr>\n",
       "      <th>4</th>\n",
       "      <td>4</td>\n",
       "      <td>Buena Vista</td>\n",
       "      <td>665791300</td>\n",
       "      <td>Action / Adventure</td>\n",
       "      <td>PG-13</td>\n",
       "      <td>$220 million</td>\n",
       "      <td>2012-05-04</td>\n",
       "      <td>142</td>\n",
       "      <td>Marvel's The Avengers</td>\n",
       "    </tr>\n",
       "    <tr>\n",
       "      <th>5</th>\n",
       "      <td>5</td>\n",
       "      <td>Warner Bros.</td>\n",
       "      <td>643169700</td>\n",
       "      <td>Action / Adventure</td>\n",
       "      <td>PG-13</td>\n",
       "      <td>$185 million</td>\n",
       "      <td>2008-07-18</td>\n",
       "      <td>150</td>\n",
       "      <td>The Dark Knight</td>\n",
       "    </tr>\n",
       "    <tr>\n",
       "      <th>6</th>\n",
       "      <td>6</td>\n",
       "      <td>Buena Vista</td>\n",
       "      <td>480339200</td>\n",
       "      <td>Animation</td>\n",
       "      <td>PG</td>\n",
       "      <td>NaN</td>\n",
       "      <td>2016-06-17</td>\n",
       "      <td>103</td>\n",
       "      <td>Finding Dory</td>\n",
       "    </tr>\n",
       "    <tr>\n",
       "      <th>7</th>\n",
       "      <td>7</td>\n",
       "      <td>Fox</td>\n",
       "      <td>734591500</td>\n",
       "      <td>Sci-Fi Fantasy</td>\n",
       "      <td>PG</td>\n",
       "      <td>$115 million</td>\n",
       "      <td>1999-05-19</td>\n",
       "      <td>133</td>\n",
       "      <td>Star Wars: Episode I - The Phantom Menace</td>\n",
       "    </tr>\n",
       "    <tr>\n",
       "      <th>8</th>\n",
       "      <td>8</td>\n",
       "      <td>Fox</td>\n",
       "      <td>1236076600</td>\n",
       "      <td>Sci-Fi Fantasy</td>\n",
       "      <td>PG</td>\n",
       "      <td>$11 million</td>\n",
       "      <td>1977-05-25</td>\n",
       "      <td>121</td>\n",
       "      <td>Star Wars</td>\n",
       "    </tr>\n",
       "    <tr>\n",
       "      <th>9</th>\n",
       "      <td>9</td>\n",
       "      <td>Buena Vista</td>\n",
       "      <td>463543100</td>\n",
       "      <td>Action / Adventure</td>\n",
       "      <td>PG-13</td>\n",
       "      <td>$250 million</td>\n",
       "      <td>2015-05-01</td>\n",
       "      <td>141</td>\n",
       "      <td>Avengers: Age of Ultron</td>\n",
       "    </tr>\n",
       "    <tr>\n",
       "      <th>10</th>\n",
       "      <td>10</td>\n",
       "      <td>Warner Bros.</td>\n",
       "      <td>498658400</td>\n",
       "      <td>Action Thriller</td>\n",
       "      <td>PG-13</td>\n",
       "      <td>$250 million</td>\n",
       "      <td>2012-07-20</td>\n",
       "      <td>165</td>\n",
       "      <td>The Dark Knight Rises</td>\n",
       "    </tr>\n",
       "    <tr>\n",
       "      <th>11</th>\n",
       "      <td>11</td>\n",
       "      <td>DreamWorks</td>\n",
       "      <td>615301000</td>\n",
       "      <td>Animation</td>\n",
       "      <td>PG</td>\n",
       "      <td>$150 million</td>\n",
       "      <td>2004-05-19</td>\n",
       "      <td>93</td>\n",
       "      <td>Shrek 2</td>\n",
       "    </tr>\n",
       "    <tr>\n",
       "      <th>12</th>\n",
       "      <td>12</td>\n",
       "      <td>Universal</td>\n",
       "      <td>1076774300</td>\n",
       "      <td>Family Adventure</td>\n",
       "      <td>PG</td>\n",
       "      <td>$10.5 million</td>\n",
       "      <td>1982-06-11</td>\n",
       "      <td>117</td>\n",
       "      <td>E.T.: The Extra-Terrestrial</td>\n",
       "    </tr>\n",
       "    <tr>\n",
       "      <th>13</th>\n",
       "      <td>13</td>\n",
       "      <td>Lionsgate</td>\n",
       "      <td>442652800</td>\n",
       "      <td>Action / Adventure</td>\n",
       "      <td>PG-13</td>\n",
       "      <td>$130 million</td>\n",
       "      <td>2013-11-22</td>\n",
       "      <td>146</td>\n",
       "      <td>The Hunger Games: Catching Fire</td>\n",
       "    </tr>\n",
       "    <tr>\n",
       "      <th>14</th>\n",
       "      <td>14</td>\n",
       "      <td>Buena Vista</td>\n",
       "      <td>559681700</td>\n",
       "      <td>Period Adventure</td>\n",
       "      <td>PG-13</td>\n",
       "      <td>$225 million</td>\n",
       "      <td>2006-07-07</td>\n",
       "      <td>151</td>\n",
       "      <td>Pirates of the Caribbean: Dead Man's Chest</td>\n",
       "    </tr>\n",
       "    <tr>\n",
       "      <th>15</th>\n",
       "      <td>15</td>\n",
       "      <td>Buena Vista</td>\n",
       "      <td>646247100</td>\n",
       "      <td>Animation</td>\n",
       "      <td>G</td>\n",
       "      <td>$45 million</td>\n",
       "      <td>1994-06-15</td>\n",
       "      <td>89</td>\n",
       "      <td>The Lion King</td>\n",
       "    </tr>\n",
       "    <tr>\n",
       "      <th>16</th>\n",
       "      <td>16</td>\n",
       "      <td>Buena Vista</td>\n",
       "      <td>452068200</td>\n",
       "      <td>Animation</td>\n",
       "      <td>G</td>\n",
       "      <td>$200 million</td>\n",
       "      <td>2010-06-18</td>\n",
       "      <td>103</td>\n",
       "      <td>Toy Story 3</td>\n",
       "    </tr>\n",
       "    <tr>\n",
       "      <th>17</th>\n",
       "      <td>17</td>\n",
       "      <td>Buena Vista</td>\n",
       "      <td>422680300</td>\n",
       "      <td>Action / Adventure</td>\n",
       "      <td>PG-13</td>\n",
       "      <td>$200 million</td>\n",
       "      <td>2013-05-03</td>\n",
       "      <td>129</td>\n",
       "      <td>Iron Man 3</td>\n",
       "    </tr>\n",
       "    <tr>\n",
       "      <th>18</th>\n",
       "      <td>18</td>\n",
       "      <td>Buena Vista</td>\n",
       "      <td>404812200</td>\n",
       "      <td>Action / Adventure</td>\n",
       "      <td>PG-13</td>\n",
       "      <td>$250 million</td>\n",
       "      <td>2016-05-06</td>\n",
       "      <td>147</td>\n",
       "      <td>Captain America: Civil War</td>\n",
       "    </tr>\n",
       "    <tr>\n",
       "      <th>19</th>\n",
       "      <td>19</td>\n",
       "      <td>Lionsgate</td>\n",
       "      <td>440475800</td>\n",
       "      <td>Action / Adventure</td>\n",
       "      <td>PG-13</td>\n",
       "      <td>$78 million</td>\n",
       "      <td>2012-03-23</td>\n",
       "      <td>142</td>\n",
       "      <td>The Hunger Games</td>\n",
       "    </tr>\n",
       "    <tr>\n",
       "      <th>20</th>\n",
       "      <td>20</td>\n",
       "      <td>Sony / Columbia</td>\n",
       "      <td>601737900</td>\n",
       "      <td>Action / Adventure</td>\n",
       "      <td>PG-13</td>\n",
       "      <td>$139 million</td>\n",
       "      <td>2002-05-03</td>\n",
       "      <td>121</td>\n",
       "      <td>Spider-Man</td>\n",
       "    </tr>\n",
       "    <tr>\n",
       "      <th>21</th>\n",
       "      <td>21</td>\n",
       "      <td>Universal</td>\n",
       "      <td>746542600</td>\n",
       "      <td>Sci-Fi Horror</td>\n",
       "      <td>PG-13</td>\n",
       "      <td>$63 million</td>\n",
       "      <td>1993-06-11</td>\n",
       "      <td>127</td>\n",
       "      <td>Jurassic Park</td>\n",
       "    </tr>\n",
       "    <tr>\n",
       "      <th>22</th>\n",
       "      <td>22</td>\n",
       "      <td>Paramount (DreamWorks)</td>\n",
       "      <td>466782000</td>\n",
       "      <td>Sci-Fi Action</td>\n",
       "      <td>PG-13</td>\n",
       "      <td>$200 million</td>\n",
       "      <td>2009-06-24</td>\n",
       "      <td>144</td>\n",
       "      <td>Transformers: Revenge of the Fallen</td>\n",
       "    </tr>\n",
       "    <tr>\n",
       "      <th>23</th>\n",
       "      <td>23</td>\n",
       "      <td>Buena Vista</td>\n",
       "      <td>424695200</td>\n",
       "      <td>Animation</td>\n",
       "      <td>PG</td>\n",
       "      <td>$150 million</td>\n",
       "      <td>2013-11-22</td>\n",
       "      <td>108</td>\n",
       "      <td>Frozen</td>\n",
       "    </tr>\n",
       "    <tr>\n",
       "      <th>24</th>\n",
       "      <td>24</td>\n",
       "      <td>Warner Bros.</td>\n",
       "      <td>415592600</td>\n",
       "      <td>Fantasy</td>\n",
       "      <td>PG-13</td>\n",
       "      <td>NaN</td>\n",
       "      <td>2011-07-15</td>\n",
       "      <td>130</td>\n",
       "      <td>Harry Potter and the Deathly Hallows Part 2</td>\n",
       "    </tr>\n",
       "    <tr>\n",
       "      <th>25</th>\n",
       "      <td>25</td>\n",
       "      <td>Buena Vista</td>\n",
       "      <td>487882500</td>\n",
       "      <td>Animation</td>\n",
       "      <td>G</td>\n",
       "      <td>$94 million</td>\n",
       "      <td>2003-05-30</td>\n",
       "      <td>104</td>\n",
       "      <td>Finding Nemo</td>\n",
       "    </tr>\n",
       "    <tr>\n",
       "      <th>26</th>\n",
       "      <td>26</td>\n",
       "      <td>Fox</td>\n",
       "      <td>513750900</td>\n",
       "      <td>Sci-Fi Fantasy</td>\n",
       "      <td>PG-13</td>\n",
       "      <td>$113 million</td>\n",
       "      <td>2005-05-19</td>\n",
       "      <td>146</td>\n",
       "      <td>Star Wars: Episode III - Revenge of the Sith</td>\n",
       "    </tr>\n",
       "    <tr>\n",
       "      <th>27</th>\n",
       "      <td>27</td>\n",
       "      <td>New Line</td>\n",
       "      <td>532920300</td>\n",
       "      <td>Fantasy</td>\n",
       "      <td>PG-13</td>\n",
       "      <td>$94 million</td>\n",
       "      <td>2003-12-17</td>\n",
       "      <td>200</td>\n",
       "      <td>The Lord of the Rings: The Return of the King</td>\n",
       "    </tr>\n",
       "    <tr>\n",
       "      <th>28</th>\n",
       "      <td>28</td>\n",
       "      <td>Sony / Columbia</td>\n",
       "      <td>520974800</td>\n",
       "      <td>Action / Adventure</td>\n",
       "      <td>PG-13</td>\n",
       "      <td>$200 million</td>\n",
       "      <td>2004-06-30</td>\n",
       "      <td>127</td>\n",
       "      <td>Spider-Man 2</td>\n",
       "    </tr>\n",
       "    <tr>\n",
       "      <th>29</th>\n",
       "      <td>29</td>\n",
       "      <td>Newmarket</td>\n",
       "      <td>516357200</td>\n",
       "      <td>Historical Drama</td>\n",
       "      <td>R</td>\n",
       "      <td>$30 million</td>\n",
       "      <td>2004-02-25</td>\n",
       "      <td>126</td>\n",
       "      <td>The Passion of the Christ</td>\n",
       "    </tr>\n",
       "    <tr>\n",
       "      <th>...</th>\n",
       "      <td>...</td>\n",
       "      <td>...</td>\n",
       "      <td>...</td>\n",
       "      <td>...</td>\n",
       "      <td>...</td>\n",
       "      <td>...</td>\n",
       "      <td>...</td>\n",
       "      <td>...</td>\n",
       "      <td>...</td>\n",
       "    </tr>\n",
       "    <tr>\n",
       "      <th>1970</th>\n",
       "      <td>1970</td>\n",
       "      <td>Buena Vista</td>\n",
       "      <td>59141900</td>\n",
       "      <td>Animation</td>\n",
       "      <td>G</td>\n",
       "      <td>$14 million</td>\n",
       "      <td>1986-07-04</td>\n",
       "      <td>74</td>\n",
       "      <td>The Great Mouse Detective</td>\n",
       "    </tr>\n",
       "    <tr>\n",
       "      <th>1971</th>\n",
       "      <td>1971</td>\n",
       "      <td>Paramount</td>\n",
       "      <td>75666100</td>\n",
       "      <td>Period Adventure</td>\n",
       "      <td>R</td>\n",
       "      <td>NaN</td>\n",
       "      <td>1996-10-11</td>\n",
       "      <td>109</td>\n",
       "      <td>The Ghost and the Darkness</td>\n",
       "    </tr>\n",
       "    <tr>\n",
       "      <th>1972</th>\n",
       "      <td>1972</td>\n",
       "      <td>Warner Bros.</td>\n",
       "      <td>79950600</td>\n",
       "      <td>Action</td>\n",
       "      <td>R</td>\n",
       "      <td>$50 million</td>\n",
       "      <td>1994-02-18</td>\n",
       "      <td>101</td>\n",
       "      <td>On Deadly Ground</td>\n",
       "    </tr>\n",
       "    <tr>\n",
       "      <th>1973</th>\n",
       "      <td>1973</td>\n",
       "      <td>Buena Vista</td>\n",
       "      <td>43900600</td>\n",
       "      <td>Sci-Fi Action</td>\n",
       "      <td>PG-13</td>\n",
       "      <td>$80 million</td>\n",
       "      <td>2009-09-25</td>\n",
       "      <td>89</td>\n",
       "      <td>Surrogates</td>\n",
       "    </tr>\n",
       "    <tr>\n",
       "      <th>1974</th>\n",
       "      <td>1974</td>\n",
       "      <td>Sony / Columbia</td>\n",
       "      <td>41310200</td>\n",
       "      <td>Comedy</td>\n",
       "      <td>R</td>\n",
       "      <td>$40 million</td>\n",
       "      <td>2014-07-18</td>\n",
       "      <td>94</td>\n",
       "      <td>Sex Tape</td>\n",
       "    </tr>\n",
       "    <tr>\n",
       "      <th>1975</th>\n",
       "      <td>1975</td>\n",
       "      <td>Weinstein / Dimension</td>\n",
       "      <td>42032800</td>\n",
       "      <td>Family Adventure</td>\n",
       "      <td>PG</td>\n",
       "      <td>$27 million</td>\n",
       "      <td>2011-08-19</td>\n",
       "      <td>88</td>\n",
       "      <td>Spy Kids: All the Time in the World</td>\n",
       "    </tr>\n",
       "    <tr>\n",
       "      <th>1976</th>\n",
       "      <td>1976</td>\n",
       "      <td>Warner Bros. (New Line)</td>\n",
       "      <td>41375600</td>\n",
       "      <td>Musical</td>\n",
       "      <td>PG-13</td>\n",
       "      <td>$75 million</td>\n",
       "      <td>2012-06-15</td>\n",
       "      <td>123</td>\n",
       "      <td>Rock of Ages</td>\n",
       "    </tr>\n",
       "    <tr>\n",
       "      <th>1977</th>\n",
       "      <td>1977</td>\n",
       "      <td>MGM</td>\n",
       "      <td>89869600</td>\n",
       "      <td>Action Comedy</td>\n",
       "      <td>R</td>\n",
       "      <td>NaN</td>\n",
       "      <td>1986-06-27</td>\n",
       "      <td>122</td>\n",
       "      <td>Running Scared</td>\n",
       "    </tr>\n",
       "    <tr>\n",
       "      <th>1978</th>\n",
       "      <td>1978</td>\n",
       "      <td>Lionsgate</td>\n",
       "      <td>38176400</td>\n",
       "      <td>Thriller</td>\n",
       "      <td>PG-13</td>\n",
       "      <td>NaN</td>\n",
       "      <td>2016-07-27</td>\n",
       "      <td>96</td>\n",
       "      <td>Nerve</td>\n",
       "    </tr>\n",
       "    <tr>\n",
       "      <th>1979</th>\n",
       "      <td>1979</td>\n",
       "      <td>Fox</td>\n",
       "      <td>99064100</td>\n",
       "      <td>Comedy</td>\n",
       "      <td>R</td>\n",
       "      <td>NaN</td>\n",
       "      <td>1984-06-29</td>\n",
       "      <td>105</td>\n",
       "      <td>Bachelor Party</td>\n",
       "    </tr>\n",
       "    <tr>\n",
       "      <th>1980</th>\n",
       "      <td>1980</td>\n",
       "      <td>Sony / Columbia</td>\n",
       "      <td>50813500</td>\n",
       "      <td>Sports Drama</td>\n",
       "      <td>PG-13</td>\n",
       "      <td>$30 million</td>\n",
       "      <td>2006-09-15</td>\n",
       "      <td>120</td>\n",
       "      <td>Gridiron Gang</td>\n",
       "    </tr>\n",
       "    <tr>\n",
       "      <th>1981</th>\n",
       "      <td>1981</td>\n",
       "      <td>Universal</td>\n",
       "      <td>80939600</td>\n",
       "      <td>Action Comedy</td>\n",
       "      <td>R</td>\n",
       "      <td>NaN</td>\n",
       "      <td>1988-07-22</td>\n",
       "      <td>127</td>\n",
       "      <td>Midnight Run</td>\n",
       "    </tr>\n",
       "    <tr>\n",
       "      <th>1982</th>\n",
       "      <td>1982</td>\n",
       "      <td>Focus Features</td>\n",
       "      <td>51722600</td>\n",
       "      <td>Period Comedy</td>\n",
       "      <td>PG</td>\n",
       "      <td>NaN</td>\n",
       "      <td>2005-11-11</td>\n",
       "      <td>126</td>\n",
       "      <td>Pride and Prejudice</td>\n",
       "    </tr>\n",
       "    <tr>\n",
       "      <th>1983</th>\n",
       "      <td>1983</td>\n",
       "      <td>Paramount</td>\n",
       "      <td>50770000</td>\n",
       "      <td>Comedy / Drama</td>\n",
       "      <td>PG-13</td>\n",
       "      <td>$45 million</td>\n",
       "      <td>2006-01-13</td>\n",
       "      <td>112</td>\n",
       "      <td>Last Holiday</td>\n",
       "    </tr>\n",
       "    <tr>\n",
       "      <th>1984</th>\n",
       "      <td>1984</td>\n",
       "      <td>MGM</td>\n",
       "      <td>98910800</td>\n",
       "      <td>Action</td>\n",
       "      <td>PG-13</td>\n",
       "      <td>NaN</td>\n",
       "      <td>1984-08-10</td>\n",
       "      <td>114</td>\n",
       "      <td>Red Dawn</td>\n",
       "    </tr>\n",
       "    <tr>\n",
       "      <th>1985</th>\n",
       "      <td>1985</td>\n",
       "      <td>Orion Pictures</td>\n",
       "      <td>98294900</td>\n",
       "      <td>Sci-Fi Action</td>\n",
       "      <td>R</td>\n",
       "      <td>$6.4 million</td>\n",
       "      <td>1984-10-26</td>\n",
       "      <td>107</td>\n",
       "      <td>The Terminator</td>\n",
       "    </tr>\n",
       "    <tr>\n",
       "      <th>1986</th>\n",
       "      <td>1986</td>\n",
       "      <td>Universal</td>\n",
       "      <td>41192200</td>\n",
       "      <td>Action Drama</td>\n",
       "      <td>PG-13</td>\n",
       "      <td>$175 million</td>\n",
       "      <td>2013-12-25</td>\n",
       "      <td>127</td>\n",
       "      <td>47 Ronin</td>\n",
       "    </tr>\n",
       "    <tr>\n",
       "      <th>1987</th>\n",
       "      <td>1987</td>\n",
       "      <td>Warner Bros.</td>\n",
       "      <td>96418200</td>\n",
       "      <td>Action Comedy</td>\n",
       "      <td>PG</td>\n",
       "      <td>NaN</td>\n",
       "      <td>1984-12-07</td>\n",
       "      <td>99</td>\n",
       "      <td>City Heat</td>\n",
       "    </tr>\n",
       "    <tr>\n",
       "      <th>1988</th>\n",
       "      <td>1988</td>\n",
       "      <td>DreamWorks</td>\n",
       "      <td>58670000</td>\n",
       "      <td>Sci-Fi Comedy</td>\n",
       "      <td>PG-13</td>\n",
       "      <td>$80 million</td>\n",
       "      <td>2001-06-08</td>\n",
       "      <td>102</td>\n",
       "      <td>Evolution</td>\n",
       "    </tr>\n",
       "    <tr>\n",
       "      <th>1989</th>\n",
       "      <td>1989</td>\n",
       "      <td>Sony / Columbia</td>\n",
       "      <td>65339700</td>\n",
       "      <td>Romantic Thriller</td>\n",
       "      <td>R</td>\n",
       "      <td>$10.5 million</td>\n",
       "      <td>1999-03-05</td>\n",
       "      <td>97</td>\n",
       "      <td>Cruel Intentions</td>\n",
       "    </tr>\n",
       "    <tr>\n",
       "      <th>1990</th>\n",
       "      <td>1990</td>\n",
       "      <td>Fox Searchlight</td>\n",
       "      <td>38404100</td>\n",
       "      <td>Drama</td>\n",
       "      <td>PG-13</td>\n",
       "      <td>NaN</td>\n",
       "      <td>2015-11-04</td>\n",
       "      <td>111</td>\n",
       "      <td>Brooklyn</td>\n",
       "    </tr>\n",
       "    <tr>\n",
       "      <th>1991</th>\n",
       "      <td>1991</td>\n",
       "      <td>Sony / Columbia</td>\n",
       "      <td>76229300</td>\n",
       "      <td>Drama</td>\n",
       "      <td>R</td>\n",
       "      <td>NaN</td>\n",
       "      <td>1995-01-13</td>\n",
       "      <td>127</td>\n",
       "      <td>Higher Learning</td>\n",
       "    </tr>\n",
       "    <tr>\n",
       "      <th>1992</th>\n",
       "      <td>1992</td>\n",
       "      <td>Sony / Columbia</td>\n",
       "      <td>58038100</td>\n",
       "      <td>Comedy</td>\n",
       "      <td>R</td>\n",
       "      <td>$15 million</td>\n",
       "      <td>2001-12-14</td>\n",
       "      <td>89</td>\n",
       "      <td>Not Another Teen Movie</td>\n",
       "    </tr>\n",
       "    <tr>\n",
       "      <th>1993</th>\n",
       "      <td>1993</td>\n",
       "      <td>United Artists</td>\n",
       "      <td>148545900</td>\n",
       "      <td>Romantic Comedy</td>\n",
       "      <td>PG</td>\n",
       "      <td>$4 million</td>\n",
       "      <td>1977-04-20</td>\n",
       "      <td>93</td>\n",
       "      <td>Annie Hall</td>\n",
       "    </tr>\n",
       "    <tr>\n",
       "      <th>1994</th>\n",
       "      <td>1994</td>\n",
       "      <td>Fox</td>\n",
       "      <td>46114700</td>\n",
       "      <td>Comedy</td>\n",
       "      <td>PG-13</td>\n",
       "      <td>NaN</td>\n",
       "      <td>2008-01-25</td>\n",
       "      <td>84</td>\n",
       "      <td>Meet the Spartans</td>\n",
       "    </tr>\n",
       "    <tr>\n",
       "      <th>1995</th>\n",
       "      <td>1995</td>\n",
       "      <td>Disney</td>\n",
       "      <td>177039100</td>\n",
       "      <td>Family</td>\n",
       "      <td>G</td>\n",
       "      <td>NaN</td>\n",
       "      <td>1974-06-06</td>\n",
       "      <td>88</td>\n",
       "      <td>Herbie Rides Again</td>\n",
       "    </tr>\n",
       "    <tr>\n",
       "      <th>1996</th>\n",
       "      <td>1996</td>\n",
       "      <td>Fox</td>\n",
       "      <td>76023700</td>\n",
       "      <td>Family Adventure</td>\n",
       "      <td>PG</td>\n",
       "      <td>NaN</td>\n",
       "      <td>1995-06-30</td>\n",
       "      <td>95</td>\n",
       "      <td>Mighty Morphin' Power Rangers</td>\n",
       "    </tr>\n",
       "    <tr>\n",
       "      <th>1997</th>\n",
       "      <td>1997</td>\n",
       "      <td>Paramount</td>\n",
       "      <td>61347500</td>\n",
       "      <td>Concert</td>\n",
       "      <td>R</td>\n",
       "      <td>$13 million</td>\n",
       "      <td>2000-08-18</td>\n",
       "      <td>115</td>\n",
       "      <td>The Original Kings of Comedy</td>\n",
       "    </tr>\n",
       "    <tr>\n",
       "      <th>1998</th>\n",
       "      <td>1998</td>\n",
       "      <td>Weinstein / Dimension</td>\n",
       "      <td>41023200</td>\n",
       "      <td>Horror</td>\n",
       "      <td>R</td>\n",
       "      <td>$40 million</td>\n",
       "      <td>2011-04-15</td>\n",
       "      <td>103</td>\n",
       "      <td>Scream 4</td>\n",
       "    </tr>\n",
       "    <tr>\n",
       "      <th>1999</th>\n",
       "      <td>1999</td>\n",
       "      <td>Buena Vista</td>\n",
       "      <td>65083300</td>\n",
       "      <td>Romantic Comedy</td>\n",
       "      <td>PG-13</td>\n",
       "      <td>$30 million</td>\n",
       "      <td>1999-03-31</td>\n",
       "      <td>97</td>\n",
       "      <td>10 Things I Hate About You</td>\n",
       "    </tr>\n",
       "  </tbody>\n",
       "</table>\n",
       "<p>2000 rows × 9 columns</p>\n",
       "</div>"
      ],
      "text/plain": [
       "      Unnamed: 0              distributor  domestic_adj_gross  \\\n",
       "0              0              Buena Vista           936276700   \n",
       "1              1                      Fox           830529800   \n",
       "2              2                Paramount          1111475400   \n",
       "3              3                Universal           684566100   \n",
       "4              4              Buena Vista           665791300   \n",
       "5              5             Warner Bros.           643169700   \n",
       "6              6              Buena Vista           480339200   \n",
       "7              7                      Fox           734591500   \n",
       "8              8                      Fox          1236076600   \n",
       "9              9              Buena Vista           463543100   \n",
       "10            10             Warner Bros.           498658400   \n",
       "11            11               DreamWorks           615301000   \n",
       "12            12                Universal          1076774300   \n",
       "13            13                Lionsgate           442652800   \n",
       "14            14              Buena Vista           559681700   \n",
       "15            15              Buena Vista           646247100   \n",
       "16            16              Buena Vista           452068200   \n",
       "17            17              Buena Vista           422680300   \n",
       "18            18              Buena Vista           404812200   \n",
       "19            19                Lionsgate           440475800   \n",
       "20            20          Sony / Columbia           601737900   \n",
       "21            21                Universal           746542600   \n",
       "22            22   Paramount (DreamWorks)           466782000   \n",
       "23            23              Buena Vista           424695200   \n",
       "24            24             Warner Bros.           415592600   \n",
       "25            25              Buena Vista           487882500   \n",
       "26            26                      Fox           513750900   \n",
       "27            27                 New Line           532920300   \n",
       "28            28          Sony / Columbia           520974800   \n",
       "29            29                Newmarket           516357200   \n",
       "...          ...                      ...                 ...   \n",
       "1970        1970              Buena Vista            59141900   \n",
       "1971        1971                Paramount            75666100   \n",
       "1972        1972             Warner Bros.            79950600   \n",
       "1973        1973              Buena Vista            43900600   \n",
       "1974        1974          Sony / Columbia            41310200   \n",
       "1975        1975    Weinstein / Dimension            42032800   \n",
       "1976        1976  Warner Bros. (New Line)            41375600   \n",
       "1977        1977                      MGM            89869600   \n",
       "1978        1978                Lionsgate            38176400   \n",
       "1979        1979                      Fox            99064100   \n",
       "1980        1980          Sony / Columbia            50813500   \n",
       "1981        1981                Universal            80939600   \n",
       "1982        1982           Focus Features            51722600   \n",
       "1983        1983                Paramount            50770000   \n",
       "1984        1984                      MGM            98910800   \n",
       "1985        1985           Orion Pictures            98294900   \n",
       "1986        1986                Universal            41192200   \n",
       "1987        1987             Warner Bros.            96418200   \n",
       "1988        1988               DreamWorks            58670000   \n",
       "1989        1989          Sony / Columbia            65339700   \n",
       "1990        1990          Fox Searchlight            38404100   \n",
       "1991        1991          Sony / Columbia            76229300   \n",
       "1992        1992          Sony / Columbia            58038100   \n",
       "1993        1993           United Artists           148545900   \n",
       "1994        1994                      Fox            46114700   \n",
       "1995        1995                   Disney           177039100   \n",
       "1996        1996                      Fox            76023700   \n",
       "1997        1997                Paramount            61347500   \n",
       "1998        1998    Weinstein / Dimension            41023200   \n",
       "1999        1999              Buena Vista            65083300   \n",
       "\n",
       "                   genre mpaa_rating production_budget release_date  \\\n",
       "0         Sci-Fi Fantasy       PG-13      $245 million   2015-12-18   \n",
       "1       Sci-Fi Adventure       PG-13               NaN   2009-12-18   \n",
       "2                Romance       PG-13      $200 million   1997-12-19   \n",
       "3          Sci-Fi Horror       PG-13      $150 million   2015-06-12   \n",
       "4     Action / Adventure       PG-13      $220 million   2012-05-04   \n",
       "5     Action / Adventure       PG-13      $185 million   2008-07-18   \n",
       "6              Animation          PG               NaN   2016-06-17   \n",
       "7         Sci-Fi Fantasy          PG      $115 million   1999-05-19   \n",
       "8         Sci-Fi Fantasy          PG       $11 million   1977-05-25   \n",
       "9     Action / Adventure       PG-13      $250 million   2015-05-01   \n",
       "10       Action Thriller       PG-13      $250 million   2012-07-20   \n",
       "11             Animation          PG      $150 million   2004-05-19   \n",
       "12      Family Adventure          PG     $10.5 million   1982-06-11   \n",
       "13    Action / Adventure       PG-13      $130 million   2013-11-22   \n",
       "14      Period Adventure       PG-13      $225 million   2006-07-07   \n",
       "15             Animation           G       $45 million   1994-06-15   \n",
       "16             Animation           G      $200 million   2010-06-18   \n",
       "17    Action / Adventure       PG-13      $200 million   2013-05-03   \n",
       "18    Action / Adventure       PG-13      $250 million   2016-05-06   \n",
       "19    Action / Adventure       PG-13       $78 million   2012-03-23   \n",
       "20    Action / Adventure       PG-13      $139 million   2002-05-03   \n",
       "21         Sci-Fi Horror       PG-13       $63 million   1993-06-11   \n",
       "22         Sci-Fi Action       PG-13      $200 million   2009-06-24   \n",
       "23             Animation          PG      $150 million   2013-11-22   \n",
       "24               Fantasy       PG-13               NaN   2011-07-15   \n",
       "25             Animation           G       $94 million   2003-05-30   \n",
       "26        Sci-Fi Fantasy       PG-13      $113 million   2005-05-19   \n",
       "27               Fantasy       PG-13       $94 million   2003-12-17   \n",
       "28    Action / Adventure       PG-13      $200 million   2004-06-30   \n",
       "29      Historical Drama           R       $30 million   2004-02-25   \n",
       "...                  ...         ...               ...          ...   \n",
       "1970           Animation           G       $14 million   1986-07-04   \n",
       "1971    Period Adventure           R               NaN   1996-10-11   \n",
       "1972              Action           R       $50 million   1994-02-18   \n",
       "1973       Sci-Fi Action       PG-13       $80 million   2009-09-25   \n",
       "1974              Comedy           R       $40 million   2014-07-18   \n",
       "1975    Family Adventure          PG       $27 million   2011-08-19   \n",
       "1976             Musical       PG-13       $75 million   2012-06-15   \n",
       "1977       Action Comedy           R               NaN   1986-06-27   \n",
       "1978            Thriller       PG-13               NaN   2016-07-27   \n",
       "1979              Comedy           R               NaN   1984-06-29   \n",
       "1980        Sports Drama       PG-13       $30 million   2006-09-15   \n",
       "1981       Action Comedy           R               NaN   1988-07-22   \n",
       "1982       Period Comedy          PG               NaN   2005-11-11   \n",
       "1983      Comedy / Drama       PG-13       $45 million   2006-01-13   \n",
       "1984              Action       PG-13               NaN   1984-08-10   \n",
       "1985       Sci-Fi Action           R      $6.4 million   1984-10-26   \n",
       "1986        Action Drama       PG-13      $175 million   2013-12-25   \n",
       "1987       Action Comedy          PG               NaN   1984-12-07   \n",
       "1988       Sci-Fi Comedy       PG-13       $80 million   2001-06-08   \n",
       "1989   Romantic Thriller           R     $10.5 million   1999-03-05   \n",
       "1990               Drama       PG-13               NaN   2015-11-04   \n",
       "1991               Drama           R               NaN   1995-01-13   \n",
       "1992              Comedy           R       $15 million   2001-12-14   \n",
       "1993     Romantic Comedy          PG        $4 million   1977-04-20   \n",
       "1994              Comedy       PG-13               NaN   2008-01-25   \n",
       "1995              Family           G               NaN   1974-06-06   \n",
       "1996    Family Adventure          PG               NaN   1995-06-30   \n",
       "1997             Concert           R       $13 million   2000-08-18   \n",
       "1998              Horror           R       $40 million   2011-04-15   \n",
       "1999     Romantic Comedy       PG-13       $30 million   1999-03-31   \n",
       "\n",
       "      runtime_mins                                          title  \n",
       "0              136                   Star Wars: The Force Awakens  \n",
       "1              160                                         Avatar  \n",
       "2              194                                        Titanic  \n",
       "3              124                                 Jurassic World  \n",
       "4              142                          Marvel's The Avengers  \n",
       "5              150                                The Dark Knight  \n",
       "6              103                                   Finding Dory  \n",
       "7              133      Star Wars: Episode I - The Phantom Menace  \n",
       "8              121                                      Star Wars  \n",
       "9              141                        Avengers: Age of Ultron  \n",
       "10             165                          The Dark Knight Rises  \n",
       "11              93                                        Shrek 2  \n",
       "12             117                    E.T.: The Extra-Terrestrial  \n",
       "13             146                The Hunger Games: Catching Fire  \n",
       "14             151     Pirates of the Caribbean: Dead Man's Chest  \n",
       "15              89                                  The Lion King  \n",
       "16             103                                    Toy Story 3  \n",
       "17             129                                     Iron Man 3  \n",
       "18             147                     Captain America: Civil War  \n",
       "19             142                               The Hunger Games  \n",
       "20             121                                     Spider-Man  \n",
       "21             127                                  Jurassic Park  \n",
       "22             144            Transformers: Revenge of the Fallen  \n",
       "23             108                                         Frozen  \n",
       "24             130    Harry Potter and the Deathly Hallows Part 2  \n",
       "25             104                                   Finding Nemo  \n",
       "26             146   Star Wars: Episode III - Revenge of the Sith  \n",
       "27             200  The Lord of the Rings: The Return of the King  \n",
       "28             127                                   Spider-Man 2  \n",
       "29             126                      The Passion of the Christ  \n",
       "...            ...                                            ...  \n",
       "1970            74                      The Great Mouse Detective  \n",
       "1971           109                     The Ghost and the Darkness  \n",
       "1972           101                               On Deadly Ground  \n",
       "1973            89                                     Surrogates  \n",
       "1974            94                                       Sex Tape  \n",
       "1975            88            Spy Kids: All the Time in the World  \n",
       "1976           123                                   Rock of Ages  \n",
       "1977           122                                 Running Scared  \n",
       "1978            96                                          Nerve  \n",
       "1979           105                                 Bachelor Party  \n",
       "1980           120                                  Gridiron Gang  \n",
       "1981           127                                   Midnight Run  \n",
       "1982           126                            Pride and Prejudice  \n",
       "1983           112                                   Last Holiday  \n",
       "1984           114                                       Red Dawn  \n",
       "1985           107                                 The Terminator  \n",
       "1986           127                                       47 Ronin  \n",
       "1987            99                                      City Heat  \n",
       "1988           102                                      Evolution  \n",
       "1989            97                               Cruel Intentions  \n",
       "1990           111                                       Brooklyn  \n",
       "1991           127                                Higher Learning  \n",
       "1992            89                         Not Another Teen Movie  \n",
       "1993            93                                     Annie Hall  \n",
       "1994            84                              Meet the Spartans  \n",
       "1995            88                             Herbie Rides Again  \n",
       "1996            95                  Mighty Morphin' Power Rangers  \n",
       "1997           115                   The Original Kings of Comedy  \n",
       "1998           103                                       Scream 4  \n",
       "1999            97                     10 Things I Hate About You  \n",
       "\n",
       "[2000 rows x 9 columns]"
      ]
     },
     "execution_count": 2,
     "metadata": {},
     "output_type": "execute_result"
    }
   ],
   "source": [
    "#top grossing films based on domestic adjusted gross\n",
    "df = pd.read_csv('movie_data.csv')\n",
    "df"
   ]
  },
  {
   "cell_type": "markdown",
   "metadata": {},
   "source": [
    "# Many columns are objects, which I cannot use"
   ]
  },
  {
   "cell_type": "code",
   "execution_count": 3,
   "metadata": {
    "collapsed": false
   },
   "outputs": [
    {
     "data": {
      "text/plain": [
       "Unnamed: 0             int64\n",
       "distributor           object\n",
       "domestic_adj_gross     int64\n",
       "genre                 object\n",
       "mpaa_rating           object\n",
       "production_budget     object\n",
       "release_date          object\n",
       "runtime_mins           int64\n",
       "title                 object\n",
       "dtype: object"
      ]
     },
     "execution_count": 3,
     "metadata": {},
     "output_type": "execute_result"
    }
   ],
   "source": [
    "df.dtypes"
   ]
  },
  {
   "cell_type": "code",
   "execution_count": null,
   "metadata": {
    "collapsed": false
   },
   "outputs": [],
   "source": [
    "# def money_int(moneystring):\n",
    "#     if 'million' in moneystring or 'mil' in moneystring:\n",
    "#                 moneystring = moneystring.replace('$', '')\n",
    "#                 moneystring = moneystring.replace(',', '')\n",
    "#                 moneystring = moneystring.replace('million','')\n",
    "#                 moneystring = int(moneystring)*1000000\n",
    "#     else:\n",
    "#         return None"
   ]
  },
  {
   "cell_type": "code",
   "execution_count": null,
   "metadata": {
    "collapsed": false
   },
   "outputs": [],
   "source": [
    "# df['production_budget'] = money_int(df['production_budget'])"
   ]
  },
  {
   "cell_type": "code",
   "execution_count": null,
   "metadata": {
    "collapsed": false
   },
   "outputs": [],
   "source": [
    "df['production_budget'].dtypes"
   ]
  },
  {
   "cell_type": "markdown",
   "metadata": {},
   "source": [
    "# Just experimenting - highest grossing genres and MPAA ratings"
   ]
  },
  {
   "cell_type": "code",
   "execution_count": null,
   "metadata": {
    "collapsed": false
   },
   "outputs": [],
   "source": [
    "df.groupby('genre')['domestic_adj_gross'].mean().sort_values(ascending=False)"
   ]
  },
  {
   "cell_type": "code",
   "execution_count": null,
   "metadata": {
    "collapsed": false
   },
   "outputs": [],
   "source": [
    "df.groupby('mpaa_rating')['domestic_adj_gross'].mean().sort_values(ascending=False)"
   ]
  },
  {
   "cell_type": "markdown",
   "metadata": {},
   "source": [
    "# More experimenting - top 10 distributors by gross"
   ]
  },
  {
   "cell_type": "code",
   "execution_count": null,
   "metadata": {
    "collapsed": false
   },
   "outputs": [],
   "source": [
    "genre_gross = df.groupby('distributor')['domestic_adj_gross'].mean().sort_values(ascending=False)\n",
    "\n",
    "fig, ax = plt.subplots()\n",
    "ax.barh(range(10), genre_gross[:10])\n",
    "ax.set_yticklabels(genre_gross[:10].index, va='center')\n",
    "ax.set_yticks(np.arange(10)+.5)\n",
    "ax.set_title('Top 10 Distributors by Adj. Mean Gross', fontsize=16, fontweight='bold', y=1.02)\n",
    "ax.set_xlabel('Domestic Total Gross', fontsize=12)\n",
    "ax.set_ylabel('Distributor', fontsize=12)\n",
    "plt.gca().invert_yaxis()"
   ]
  },
  {
   "cell_type": "markdown",
   "metadata": {},
   "source": [
    "# Converting release date to datetime object - can now extract year etc."
   ]
  },
  {
   "cell_type": "code",
   "execution_count": 4,
   "metadata": {
    "collapsed": false
   },
   "outputs": [],
   "source": [
    "df['release_date'] =  pd.to_datetime(df['release_date'], infer_datetime_format=True)"
   ]
  },
  {
   "cell_type": "code",
   "execution_count": 5,
   "metadata": {
    "collapsed": false
   },
   "outputs": [],
   "source": [
    "df['year'] = df['release_date'].apply(lambda x: (x.year))"
   ]
  },
  {
   "cell_type": "markdown",
   "metadata": {},
   "source": [
    "#### Making season variable"
   ]
  },
  {
   "cell_type": "code",
   "execution_count": 6,
   "metadata": {
    "collapsed": true
   },
   "outputs": [],
   "source": [
    "def season(x):\n",
    "    if x in [12,1,2]:\n",
    "        return 'Winter'\n",
    "    elif x in [3,4,5]:\n",
    "        return 'Spring'\n",
    "    elif x in [6,7,8]:\n",
    "        return 'Summer'\n",
    "    else:\n",
    "        return 'Fall'"
   ]
  },
  {
   "cell_type": "code",
   "execution_count": 7,
   "metadata": {
    "collapsed": false
   },
   "outputs": [],
   "source": [
    "df['Season'] = df['release_date'].apply(lambda x: season(x.month))"
   ]
  },
  {
   "cell_type": "code",
   "execution_count": null,
   "metadata": {
    "collapsed": false
   },
   "outputs": [],
   "source": [
    "season_gross = df.groupby('Season')['domestic_adj_gross'].mean().sort_values(ascending=False)\n",
    "\n",
    "fig, ax = plt.subplots()\n",
    "ax.barh(range(len(rating_gross)), rating_gross)\n",
    "ax.set_yticklabels(rating_gross.index, va='center')\n",
    "ax.set_yticks(np.arange(len(rating_gross))+.5)\n",
    "ax.set_title('Mean Gross by Season', fontsize=16, fontweight='bold', y=1.02)\n",
    "ax.set_xlabel('Domestic Adj. Gross', fontsize=12)\n",
    "ax.set_ylabel('Season', fontsize=12)\n",
    "plt.gca().invert_yaxis()"
   ]
  },
  {
   "cell_type": "code",
   "execution_count": null,
   "metadata": {
    "collapsed": false
   },
   "outputs": [],
   "source": [
    "np.log(df['domestic_adj_gross']).hist() "
   ]
  },
  {
   "cell_type": "code",
   "execution_count": 8,
   "metadata": {
    "collapsed": false
   },
   "outputs": [
    {
     "ename": "AttributeError",
     "evalue": "'module' object has no attribute 'fromordinal'",
     "output_type": "error",
     "traceback": [
      "\u001b[1;31m---------------------------------------------------------------------------\u001b[0m",
      "\u001b[1;31mAttributeError\u001b[0m                            Traceback (most recent call last)",
      "\u001b[1;32m<ipython-input-8-3ad034dad1be>\u001b[0m in \u001b[0;36m<module>\u001b[1;34m()\u001b[0m\n\u001b[0;32m      5\u001b[0m \u001b[0max\u001b[0m\u001b[1;33m.\u001b[0m\u001b[0mset_ylabel\u001b[0m\u001b[1;33m(\u001b[0m\u001b[1;34m'Domestic Total Gross'\u001b[0m\u001b[1;33m)\u001b[0m\u001b[1;33m\u001b[0m\u001b[0m\n\u001b[0;32m      6\u001b[0m \u001b[0max\u001b[0m\u001b[1;33m.\u001b[0m\u001b[0mtick_params\u001b[0m\u001b[1;33m(\u001b[0m\u001b[0maxis\u001b[0m\u001b[1;33m=\u001b[0m\u001b[1;34m'both'\u001b[0m\u001b[1;33m,\u001b[0m \u001b[0mwhich\u001b[0m\u001b[1;33m=\u001b[0m\u001b[1;34m'major'\u001b[0m\u001b[1;33m,\u001b[0m \u001b[0mpad\u001b[0m\u001b[1;33m=\u001b[0m\u001b[1;36m8\u001b[0m\u001b[1;33m)\u001b[0m\u001b[1;33m\u001b[0m\u001b[0m\n\u001b[1;32m----> 7\u001b[1;33m \u001b[0mdates\u001b[0m \u001b[1;33m=\u001b[0m \u001b[1;33m[\u001b[0m\u001b[0mdatetime\u001b[0m\u001b[1;33m.\u001b[0m\u001b[0mfromordinal\u001b[0m\u001b[1;33m(\u001b[0m\u001b[0mx\u001b[0m\u001b[1;33m)\u001b[0m\u001b[1;33m.\u001b[0m\u001b[0mstrftime\u001b[0m\u001b[1;33m(\u001b[0m\u001b[1;34m'%m-%d-%Y'\u001b[0m\u001b[1;33m)\u001b[0m \u001b[1;32mfor\u001b[0m \u001b[0mx\u001b[0m \u001b[1;32min\u001b[0m \u001b[0mmap\u001b[0m\u001b[1;33m(\u001b[0m\u001b[0mint\u001b[0m\u001b[1;33m,\u001b[0m \u001b[0max\u001b[0m\u001b[1;33m.\u001b[0m\u001b[0mget_xticks\u001b[0m\u001b[1;33m(\u001b[0m\u001b[1;33m)\u001b[0m\u001b[1;33m.\u001b[0m\u001b[0mtolist\u001b[0m\u001b[1;33m(\u001b[0m\u001b[1;33m)\u001b[0m\u001b[1;33m)\u001b[0m\u001b[1;33m]\u001b[0m\u001b[1;33m\u001b[0m\u001b[0m\n\u001b[0m\u001b[0;32m      8\u001b[0m \u001b[0max\u001b[0m\u001b[1;33m.\u001b[0m\u001b[0mset_xticklabels\u001b[0m\u001b[1;33m(\u001b[0m\u001b[0mdates\u001b[0m\u001b[1;33m,\u001b[0m \u001b[0mrotation\u001b[0m\u001b[1;33m=\u001b[0m\u001b[1;36m45\u001b[0m\u001b[1;33m,\u001b[0m \u001b[0mha\u001b[0m\u001b[1;33m=\u001b[0m\u001b[1;34m'center'\u001b[0m\u001b[1;33m)\u001b[0m\u001b[1;33m\u001b[0m\u001b[0m\n\u001b[0;32m      9\u001b[0m \u001b[0max\u001b[0m\u001b[1;33m.\u001b[0m\u001b[0mxaxis\u001b[0m\u001b[1;33m.\u001b[0m\u001b[0mget_major_ticks\u001b[0m\u001b[1;33m(\u001b[0m\u001b[1;33m)\u001b[0m\u001b[1;33m[\u001b[0m\u001b[1;33m-\u001b[0m\u001b[1;36m1\u001b[0m\u001b[1;33m]\u001b[0m\u001b[1;33m.\u001b[0m\u001b[0mset_visible\u001b[0m\u001b[1;33m(\u001b[0m\u001b[0mFalse\u001b[0m\u001b[1;33m)\u001b[0m\u001b[1;33m\u001b[0m\u001b[0m\n",
      "\u001b[1;31mAttributeError\u001b[0m: 'module' object has no attribute 'fromordinal'"
     ]
    },
    {
     "data": {
      "image/png": "[encoded data removed]",
      "text/plain": [
       "<matplotlib.figure.Figure at 0x7f3e6fa44fd0>"
      ]
     },
     "metadata": {},
     "output_type": "display_data"
    }
   ],
   "source": [
    "fig, ax = plt.subplots()\n",
    "ax.scatter(df['year'], df['runtime_mins'], alpha=0.2)\n",
    "ax.set_title('Domestic Total Gross (1960 - 2016)', fontsize=16, fontweight='bold', y=1.04)\n",
    "ax.set_xlabel('Release Date')\n",
    "ax.set_ylabel('Domestic Total Gross')\n",
    "ax.tick_params(axis='both', which='major', pad=8)\n",
    "dates = [datetime.fromordinal(x).strftime('%m-%d-%Y') for x in map(int, ax.get_xticks().tolist())]\n",
    "ax.set_xticklabels(dates, rotation=45, ha='center')\n",
    "ax.xaxis.get_major_ticks()[-1].set_visible(False)"
   ]
  },
  {
   "cell_type": "markdown",
   "metadata": {},
   "source": [
    "# Must create an ordinal version of release_date for regression"
   ]
  },
  {
   "cell_type": "code",
   "execution_count": 9,
   "metadata": {
    "collapsed": true
   },
   "outputs": [],
   "source": [
    "#gives number of days since year 1, month 1, day 1 (of earth, not the dataset)\n",
    "df['release_date_ordinal'] = df['release_date'].apply(lambda x: x.toordinal())"
   ]
  },
  {
   "cell_type": "markdown",
   "metadata": {},
   "source": [
    "# Converting the money string in budget to a money float"
   ]
  },
  {
   "cell_type": "code",
   "execution_count": 10,
   "metadata": {
    "collapsed": false
   },
   "outputs": [],
   "source": [
    "def money_int(moneystring):\n",
    "    if type(moneystring) == float:\n",
    "        return moneystring\n",
    "    else:\n",
    "            moneystring = moneystring.replace('$', '')\n",
    "            moneystring = moneystring.replace(',', '')\n",
    "            moneystring = moneystring.replace('million','')\n",
    "            moneystring = float(moneystring)*1000000\n",
    "            return moneystring"
   ]
  },
  {
   "cell_type": "code",
   "execution_count": 11,
   "metadata": {
    "collapsed": false
   },
   "outputs": [],
   "source": [
    "df[\"production_budget\"] = df[\"production_budget\"].apply(lambda x: money_int(x))"
   ]
  },
  {
   "cell_type": "markdown",
   "metadata": {},
   "source": [
    "for i, group in df.groupby('genre'):\n",
    "    plt.figure()\n",
    "    group.plot(x='release_date_ordinal', y='domestic_adj_gross', title=str(i))"
   ]
  },
  {
   "cell_type": "code",
   "execution_count": 15,
   "metadata": {
    "collapsed": false
   },
   "outputs": [
    {
     "ename": "NameError",
     "evalue": "name 'dtype' is not defined",
     "output_type": "error",
     "traceback": [
      "\u001b[1;31m---------------------------------------------------------------------------\u001b[0m",
      "\u001b[1;31mNameError\u001b[0m                                 Traceback (most recent call last)",
      "\u001b[1;32m<ipython-input-15-415d2affcd7c>\u001b[0m in \u001b[0;36m<module>\u001b[1;34m()\u001b[0m\n\u001b[1;32m----> 1\u001b[1;33m \u001b[0mdtype\u001b[0m\u001b[1;33m(\u001b[0m\u001b[1;34m'domestic_adj_gross'\u001b[0m\u001b[1;33m)\u001b[0m\u001b[1;33m\u001b[0m\u001b[0m\n\u001b[0m",
      "\u001b[1;31mNameError\u001b[0m: name 'dtype' is not defined"
     ]
    }
   ],
   "source": []
  },
  {
   "cell_type": "code",
   "execution_count": 22,
   "metadata": {
    "collapsed": false
   },
   "outputs": [
    {
     "data": {
      "image/png": "[encoded data removed]",
      "text/plain": [
       "<matplotlib.figure.Figure at 0x7f3e69a2e5d0>"
      ]
     },
     "metadata": {},
     "output_type": "display_data"
    }
   ],
   "source": [
    "egg = df['domestic_adj_gross'].mean\n",
    "\n",
    "# for i, group in df.groupby('genre'): \n",
    "#     plt.figure() \n",
    "#     group.plot(x='year', y = egg, title=str(i))\n",
    "    \n",
    "groups = df.groupby('genre')\n",
    "\n",
    "# Plot\n",
    "fig, ax = plt.subplots()\n",
    "ax.margins(0.05) # Optional, just adds 5% padding to the autoscaling\n",
    "for name, group in groups:\n",
    "    ax.plot(x='year', y=egg, marker='o', linestyle='', ms=12, label='name')\n",
    "ax.legend()\n",
    "\n",
    "plt.show()    "
   ]
  },
  {
   "cell_type": "code",
   "execution_count": null,
   "metadata": {
    "collapsed": false
   },
   "outputs": [],
   "source": [
    "df.head()"
   ]
  },
  {
   "cell_type": "markdown",
   "metadata": {},
   "source": [
    "# A second possibility for what to predict - actual money earned"
   ]
  },
  {
   "cell_type": "code",
   "execution_count": null,
   "metadata": {
    "collapsed": false
   },
   "outputs": [],
   "source": [
    "df['real_profit'] = df[\"domestic_adj_gross\"] - df[\"production_budget\"]"
   ]
  },
  {
   "cell_type": "code",
   "execution_count": null,
   "metadata": {
    "collapsed": false
   },
   "outputs": [],
   "source": [
    "df['real_profit']"
   ]
  },
  {
   "cell_type": "markdown",
   "metadata": {},
   "source": [
    "# Makin' binary dummy variables from our fave categorical vars"
   ]
  },
  {
   "cell_type": "code",
   "execution_count": null,
   "metadata": {
    "collapsed": false
   },
   "outputs": [],
   "source": [
    "#make categorical variables into dummy vars so they can be regressors\n",
    "dist_dum = pd.get_dummies(df['distributor'])\n",
    "gen_dum = pd.get_dummies(df['genre'])\n",
    "rating_dum = pd.get_dummies(df['mpaa_rating'])\n",
    "season_dum = pd.get_dummies(df['Season'])\n",
    "\n",
    "#Drops originals to clean up da cluttuh\n",
    "\n",
    "df = pd.concat([df, dist_dum, gen_dum, rating_dum, season_dum], axis=1)\n",
    "df.drop(['distributor', 'genre', 'mpaa_rating', 'Season'], axis=1, inplace=True)"
   ]
  },
  {
   "cell_type": "markdown",
   "metadata": {},
   "source": [
    "# Drop NAs from df, which is df_1 for this attempt"
   ]
  },
  {
   "cell_type": "code",
   "execution_count": null,
   "metadata": {
    "collapsed": false
   },
   "outputs": [],
   "source": [
    "from sklearn import preprocessing\n",
    "\n",
    "df_1 = df\n",
    "df_1 = df_1.dropna()\n",
    "df_1 = df_1.loc[:, ~df_1.apply(lambda x: np.all(x==0))]\n",
    "df_1.reset_index(drop=True, inplace=True)\n",
    "df_1.head()"
   ]
  },
  {
   "cell_type": "markdown",
   "metadata": {},
   "source": [
    "  # REDUNDANT - Combine old and new MPAA rating labels"
   ]
  },
  {
   "cell_type": "code",
   "execution_count": null,
   "metadata": {
    "collapsed": false,
    "scrolled": true
   },
   "outputs": [],
   "source": [
    "#Redundant after removing NA values\n",
    "# df_1['PG'] = df_1['PG']+df_1['GP']\n",
    "# df_1['R'] = df_1['R']+df_1['M']\n",
    "# df_1 = df_1.drop(['GP'],axis = 1)\n",
    "# df_1 = df_1.drop(['M'], axis = 1)\n",
    "df_1.head()"
   ]
  },
  {
   "cell_type": "markdown",
   "metadata": {},
   "source": [
    "### Look at all these nice columns in our new dataframe clone"
   ]
  },
  {
   "cell_type": "code",
   "execution_count": null,
   "metadata": {
    "collapsed": false
   },
   "outputs": [],
   "source": [
    "df_1.columns.values "
   ]
  },
  {
   "cell_type": "markdown",
   "metadata": {},
   "source": [
    "# drop unhelpful variables before starting analysis"
   ]
  },
  {
   "cell_type": "code",
   "execution_count": null,
   "metadata": {
    "collapsed": false
   },
   "outputs": [],
   "source": [
    "\n",
    "\n",
    "df_1 = df_1.drop(['title'],axis = 1)\n",
    "df_1 = df_1.drop(['release_date'], axis = 1)\n",
    "df_1 = df_1.drop(['Unnamed: 0'], axis = 1)\n",
    "\n",
    "df_1.head()"
   ]
  },
  {
   "cell_type": "markdown",
   "metadata": {},
   "source": [
    "# Choosing variables for initial regression - regress all the things"
   ]
  },
  {
   "cell_type": "code",
   "execution_count": null,
   "metadata": {
    "collapsed": false
   },
   "outputs": [],
   "source": [
    "# a = range(10)\n",
    "# a2 = [x for i,x in enumerate(a) if i!=4 ]\n",
    "# a2"
   ]
  },
  {
   "cell_type": "code",
   "execution_count": null,
   "metadata": {
    "collapsed": true
   },
   "outputs": [],
   "source": [
    "\n",
    "X1 = df_1.iloc[:, 1:123]\n",
    "\n",
    "y1 = df_1.iloc[:, 0]"
   ]
  },
  {
   "cell_type": "code",
   "execution_count": null,
   "metadata": {
    "collapsed": false
   },
   "outputs": [],
   "source": [
    "# import statsmodels.formula.api as smf\n",
    "# lsm1 = smf.ols('domestic_adj_gross ~ runtime_mins + release_date + Horror + Q(\"Historical Epic\") + Q(\"Sci-Fi Fantasy\") + G + PG + Q(\"PG-13\")', data = df)\n",
    "# fit1 = lsm1.fit()\n",
    "# print(fit1.summary())"
   ]
  },
  {
   "cell_type": "markdown",
   "metadata": {},
   "source": [
    "# standardizing all vars"
   ]
  },
  {
   "cell_type": "code",
   "execution_count": null,
   "metadata": {
    "collapsed": false
   },
   "outputs": [],
   "source": [
    "y1=np.log(y1)\n",
    "\n",
    "def standardize(x):\n",
    "    return (x - x.mean()) / x.std()\n",
    "\n",
    "# st. devs to return to original scale later\n",
    "X1_std = X1.std()\n",
    "y1_std = y1.std()\n",
    "\n",
    "\n",
    "X1 = pd.DataFrame(preprocessing.StandardScaler().fit_transform(X1), columns=X1.columns)\n",
    "\n",
    "y1 = standardize(y1)"
   ]
  },
  {
   "cell_type": "markdown",
   "metadata": {},
   "source": [
    "# establishing train and test sets"
   ]
  },
  {
   "cell_type": "code",
   "execution_count": null,
   "metadata": {
    "collapsed": true
   },
   "outputs": [],
   "source": [
    "from sklearn import linear_model, cross_validation, grid_search, preprocessing\n",
    "import matplotlib.pyplot as plt\n",
    "\n",
    "# split into training and hold-out test set\n",
    "\n",
    "X_train, X_test, y_train, y_test = cross_validation.train_test_split(X1.values, y1.values, test_size=0.3, random_state=13)\n",
    "\n",
    "# perform K-fold CV on training set\n",
    "k_folder = cross_validation.KFold(len(X_train), n_folds=10, shuffle=True, random_state=13)\n"
   ]
  },
  {
   "cell_type": "markdown",
   "metadata": {},
   "source": [
    "# make your monster model"
   ]
  },
  {
   "cell_type": "code",
   "execution_count": null,
   "metadata": {
    "collapsed": true
   },
   "outputs": [],
   "source": []
  },
  {
   "cell_type": "code",
   "execution_count": null,
   "metadata": {
    "collapsed": false
   },
   "outputs": [],
   "source": [
    "import statsmodels.api as sm\n",
    "X1 = sm.add_constant(X1)\n",
    "lr1 = sm.OLS(y1,X1)\n",
    "fit1 = lr1.fit()\n",
    "# lr1.predict(X_test)\n",
    "fit1.summary()\n",
    "\n",
    "\n"
   ]
  },
  {
   "cell_type": "code",
   "execution_count": null,
   "metadata": {
    "collapsed": false
   },
   "outputs": [],
   "source": [
    "fit1= linear_model.LinearRegression(fit_intercept=False)\n",
    "fit1.fit(X_train, y_train)\n",
    "print cross_validation.cross_val_score(fit1, X_train, y_train, cv=k_folder).mean()\n",
    "#super low"
   ]
  },
  {
   "cell_type": "code",
   "execution_count": null,
   "metadata": {
    "collapsed": false,
    "scrolled": true
   },
   "outputs": [],
   "source": [
    "fit1.resid.plot(style='o', figsize=(12,8))"
   ]
  },
  {
   "cell_type": "markdown",
   "metadata": {},
   "source": [
    "# Explore relationships via giraffes"
   ]
  },
  {
   "cell_type": "code",
   "execution_count": null,
   "metadata": {
    "collapsed": false
   },
   "outputs": [],
   "source": [
    "fig, ax = plt.subplots(1,1, figsize=(40,10))\n",
    "ax.set_title('Earnings by Year')\n",
    "# Create a seaborn boxplot of count by temperature ordered by temperature\n",
    "sns.boxplot(x=df_1['year'].sort_values(), y=df_1['domestic_adj_gross'], color='LightGreen')\n",
    "ax.set_xlabel('Year')\n",
    "ax.set_ylabel('Domestic Gross')"
   ]
  },
  {
   "cell_type": "code",
   "execution_count": null,
   "metadata": {
    "collapsed": false
   },
   "outputs": [],
   "source": []
  },
  {
   "cell_type": "code",
   "execution_count": null,
   "metadata": {
    "collapsed": false,
    "scrolled": true
   },
   "outputs": [],
   "source": [
    "# fit1.summary()"
   ]
  },
  {
   "cell_type": "code",
   "execution_count": null,
   "metadata": {
    "collapsed": false
   },
   "outputs": [],
   "source": [
    "\n",
    "\n",
    "# # Dump your predictors into X\n",
    "# X0 = df.iloc[:, 2:138]\n",
    "# # Dump your target variables (responses) into y\n",
    "# y0 = df.iloc[:, 1]\n",
    "\n",
    "# import statsmodels.formula.api as smf\n",
    "# lsm1 = smf.ols('y0 ~ X0', data = df)\n",
    "# fit1 = lsm1.fit()\n",
    "# print(fit1.summary())"
   ]
  },
  {
   "cell_type": "markdown",
   "metadata": {},
   "source": [
    "# Trimmed Regression Model Based on Feels"
   ]
  },
  {
   "cell_type": "code",
   "execution_count": null,
   "metadata": {
    "collapsed": false
   },
   "outputs": [],
   "source": [
    "import statsmodels.formula.api as smf\n",
    "lsm1 = smf.ols('domestic_adj_gross ~ runtime_mins + release_date_ordinal + Q(\"Period Drama\") + Disney + Q(\"Focus Features\") + Q(\"Historical Epic\") + Q(\"Sci-Fi Fantasy\") + Summer + Spring + Winter + Fall + Crime + + Q(\"Action / Adventure\") + Q(\"Sports Drama\") + Q(\"Crime Drama\") + War + R + Animation', data = df)\n",
    "fit2 = lsm1.fit()\n",
    "print(fit2.summary())\n",
    "\n",
    "#add season\n",
    "#add economic var"
   ]
  },
  {
   "cell_type": "code",
   "execution_count": null,
   "metadata": {
    "collapsed": false
   },
   "outputs": [],
   "source": [
    "fit2= linear_model.LinearRegression(fit_intercept=False)\n",
    "fit2.fit(X_train, y_train)\n",
    "print cross_validation.cross_val_score(lin2, X_train, y_train, cv=k_folder).mean()\n",
    "#super low"
   ]
  },
  {
   "cell_type": "code",
   "execution_count": null,
   "metadata": {
    "collapsed": false
   },
   "outputs": [],
   "source": [
    "fit2.resid.plot(style='o', figsize=(12,8))"
   ]
  },
  {
   "cell_type": "code",
   "execution_count": null,
   "metadata": {
    "collapsed": false
   },
   "outputs": [],
   "source": [
    "df['domestic_adj_gross'].dtype"
   ]
  },
  {
   "cell_type": "code",
   "execution_count": null,
   "metadata": {
    "collapsed": false
   },
   "outputs": [],
   "source": [
    "df.corr()['domestic_adj_gross'].sort_values(ascending=False)"
   ]
  },
  {
   "cell_type": "code",
   "execution_count": null,
   "metadata": {
    "collapsed": false
   },
   "outputs": [],
   "source": []
  },
  {
   "cell_type": "code",
   "execution_count": null,
   "metadata": {
    "collapsed": true
   },
   "outputs": [],
   "source": []
  },
  {
   "cell_type": "code",
   "execution_count": null,
   "metadata": {
    "collapsed": true
   },
   "outputs": [],
   "source": []
  },
  {
   "cell_type": "code",
   "execution_count": null,
   "metadata": {
    "collapsed": false
   },
   "outputs": [],
   "source": [
    "linear_a = linear_model.LinearRegression(fit_intercept=False)\n",
    "linear_a.fit(X_train, y_train)\n",
    "print cross_validation.cross_val_score(linear_a, X_train, y_train, cv=shuffler).mean()"
   ]
  },
  {
   "cell_type": "code",
   "execution_count": null,
   "metadata": {
    "collapsed": false
   },
   "outputs": [],
   "source": [
    "fig, ax = plt.subplots(1, 2, figsize=(10,5))\n",
    "temp = np.linspace(0,10,30)\n",
    "ax[0].scatter(y_test, linear_a.predict(X_test), alpha=0.1)\n",
    "ax[0].plot"
   ]
  },
  {
   "cell_type": "code",
   "execution_count": null,
   "metadata": {
    "collapsed": false
   },
   "outputs": [],
   "source": []
  },
  {
   "cell_type": "code",
   "execution_count": null,
   "metadata": {
    "collapsed": false
   },
   "outputs": [],
   "source": []
  },
  {
   "cell_type": "code",
   "execution_count": null,
   "metadata": {
    "collapsed": true
   },
   "outputs": [],
   "source": []
  }
 ],
 "metadata": {
  "kernelspec": {
   "display_name": "Python 2",
   "language": "python",
   "name": "python2"
  },
  "language_info": {
   "codemirror_mode": {
    "name": "ipython",
    "version": 2
   },
   "file_extension": ".py",
   "mimetype": "text/x-python",
   "name": "python",
   "nbconvert_exporter": "python",
   "pygments_lexer": "ipython2",
   "version": "2.7.11"
  }
 },
 "nbformat": 4,
 "nbformat_minor": 0
}
