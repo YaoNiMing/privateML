{
 "cells": [
  {
   "cell_type": "code",
   "execution_count": 2,
   "metadata": {
    "collapsed": true
   },
   "outputs": [],
   "source": [
    "import pandas as pd\n",
    "import numpy as np\n",
    "import matplotlib.pyplot as plt\n",
    "import seaborn as sns"
   ]
  },
  {
   "cell_type": "code",
   "execution_count": 10,
   "metadata": {
    "collapsed": false
   },
   "outputs": [
    {
     "name": "stdout",
     "output_type": "stream",
     "text": [
      "33\n"
     ]
    }
   ],
   "source": [
    "from bs4 import BeautifulSoup\n",
    "import requests\n",
    "import time\n",
    "print pagenum"
   ]
  },
  {
   "cell_type": "code",
   "execution_count": 12,
   "metadata": {
    "collapsed": false
   },
   "outputs": [],
   "source": [
    "for pagenum in range(50, 51):\n",
    "    url = 'http://www.boxofficemojo.com/alltime/domestic.htm?page={0}'.format(pagenum) + '&p=.htm'\n",
    "    response = requests.get(url)\n",
    "    response.status_code\n",
    "    page = response.text\n",
    "    soup = BeautifulSoup(page)\n",
    "    listoflinks = []\n",
    "    listofweekly = []\n",
    "    for link in soup.find_all('a'):\n",
    "        if \"movies/?\" in link['href']:\n",
    "            link = link['href'].split(\"id=\")\n",
    "            try:\n",
    "                listoflinks.append('http://www.boxofficemojo.com/movies/?id={0}'.format(link[1]) + '&adjust_yr=2016&p=.htm')\n",
    "                listofweekly.append('http://www.boxofficemojo.com/movies/?page=weekly&id={0}'.format(link[1]) + '&adjust_yr=2016&p=.htm')\n",
    "            except Exception:\n",
    "                print link\n",
    "    headers = {'User-Agent':'Mozilla/5.0 (Macintosh; Intel Mac OS X 10_8_5)'}\n",
    "    for movie in range(0, len(listoflinks)):\n",
    "        time.sleep(np.random.random())\n",
    "        movieurl = listoflinks[movie]\n",
    "        moviewklyurl = listofweekly[movie]\n",
    "        movieresponse = requests.get(movieurl, headers=headers)\n",
    "        moviepage = movieresponse.text\n",
    "        if movieresponse.ok:\n",
    "            filename = movieurl.replace(\"http://www.boxofficemojo.com/movies/?id=\", \"\")\n",
    "            filename = filename.replace(\".htm&adjust_yr=2016&p=.htm\", \"\")\n",
    "            filename = \"BoxMojoHTML/\" + filename + \".html\"\n",
    "            with open(filename, 'wb') as f:\n",
    "                f.write(movieresponse.text.encode(\"utf-8\"))\n",
    "        else:\n",
    "            print(movieresponse.status_code)\n",
    "    \n",
    "        moviewklyresponse = requests.get(moviewklyurl)\n",
    "        moviewklypage = moviewklyresponse.text\n",
    "        if moviewklyresponse.ok:\n",
    "            filewklyname = moviewklyurl.replace(\"http://www.boxofficemojo.com/movies/?page=weekly&id=\",\"\")\n",
    "            filewklyname = filewklyname.replace(\".htm&adjust_yr=2016&p=.htm\", \"\")\n",
    "            filewklyname = \"BoxMojoWkly/\" + filewklyname + \".html\"\n",
    "            with open(filewklyname, 'wb') as f:\n",
    "                f.write(moviewklyresponse.text.encode(\"utf-8\"))"
   ]
  },
  {
   "cell_type": "code",
   "execution_count": null,
   "metadata": {
    "collapsed": false
   },
   "outputs": [],
   "source": [
    "s = u'elizabeth\\xa0.htm'"
   ]
  },
  {
   "cell_type": "code",
   "execution_count": null,
   "metadata": {
    "collapsed": true
   },
   "outputs": [],
   "source": [
    "s.decode(\"utf-8\")"
   ]
  }
 ],
 "metadata": {
  "anaconda-cloud": {},
  "kernelspec": {
   "display_name": "Python [Root]",
   "language": "python",
   "name": "Python [Root]"
  },
  "language_info": {
   "codemirror_mode": {
    "name": "ipython",
    "version": 2
   },
   "file_extension": ".py",
   "mimetype": "text/x-python",
   "name": "python",
   "nbconvert_exporter": "python",
   "pygments_lexer": "ipython2",
   "version": "2.7.12"
  }
 },
 "nbformat": 4,
 "nbformat_minor": 0
}
