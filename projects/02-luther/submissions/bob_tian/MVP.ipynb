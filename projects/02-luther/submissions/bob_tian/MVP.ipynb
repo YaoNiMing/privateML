{
 "cells": [
  {
   "cell_type": "markdown",
   "metadata": {},
   "source": [
    "# Project Luther MVP\n",
    "### What does Facebook know about movies?"
   ]
  },
  {
   "cell_type": "code",
   "execution_count": 3,
   "metadata": {
    "collapsed": true
   },
   "outputs": [],
   "source": [
    "import pandas as pd\n",
    "import math\n",
    "import numpy as np\n",
    "import matplotlib.pyplot as plt\n",
    "import seaborn as sb\n",
    "import statsmodels.api as sm\n",
    "import statsmodels.formula.api as smf\n",
    "from sklearn.cross_validation import train_test_split\n",
    "from sklearn import metrics\n",
    "%matplotlib inline\n",
    "pd.options.display.max_rows = 10"
   ]
  },
  {
   "cell_type": "markdown",
   "metadata": {},
   "source": [
    "# Data Description\n",
    "The scraped data frame contains the following:\n",
    "\n",
    "likes - number of facebook likes of the film\n",
    "\n",
    "imdb - imdb rating of the film\n",
    "\n",
    "metacritic -  metacritic score of the film\n",
    "\n",
    "(director,writer,actor1,actor2,actor3) - number of facebook likes of the (director,writer,actor1,actor2,actor3)\n",
    "\n",
    " All of the data are transformed by standardizing against films released during the same time period."
   ]
  },
  {
   "cell_type": "markdown",
   "metadata": {},
   "source": [
    "# Model\n",
    "Below, I will try to use the model to predict the critical reception of the film (metacritics aggregate score) using facebook popularities of the film and those involved in making the movie."
   ]
  },
  {
   "cell_type": "code",
   "execution_count": 9,
   "metadata": {
    "collapsed": false
   },
   "outputs": [
    {
     "data": {
      "text/html": [
       "<div>\n",
       "<table border=\"1\" class=\"dataframe\">\n",
       "  <thead>\n",
       "    <tr style=\"text-align: right;\">\n",
       "      <th></th>\n",
       "      <th>director</th>\n",
       "      <th>imdb</th>\n",
       "      <th>likes</th>\n",
       "      <th>metacritic</th>\n",
       "      <th>writer</th>\n",
       "      <th>year</th>\n",
       "      <th>actor3</th>\n",
       "      <th>actor2</th>\n",
       "      <th>actor1</th>\n",
       "    </tr>\n",
       "  </thead>\n",
       "  <tbody>\n",
       "    <tr>\n",
       "      <th>0</th>\n",
       "      <td>0.058511</td>\n",
       "      <td>1.036625</td>\n",
       "      <td>1.035670</td>\n",
       "      <td>1.637214</td>\n",
       "      <td>0.692924</td>\n",
       "      <td>2003</td>\n",
       "      <td>-3.173595</td>\n",
       "      <td>-3.972226</td>\n",
       "      <td>-3.136886</td>\n",
       "    </tr>\n",
       "    <tr>\n",
       "      <th>1</th>\n",
       "      <td>0.242825</td>\n",
       "      <td>0.358988</td>\n",
       "      <td>-3.163267</td>\n",
       "      <td>0.831485</td>\n",
       "      <td>0.695444</td>\n",
       "      <td>2005</td>\n",
       "      <td>-3.961961</td>\n",
       "      <td>-4.751953</td>\n",
       "      <td>-0.393670</td>\n",
       "    </tr>\n",
       "    <tr>\n",
       "      <th>2</th>\n",
       "      <td>0.055439</td>\n",
       "      <td>1.213035</td>\n",
       "      <td>1.024388</td>\n",
       "      <td>1.365871</td>\n",
       "      <td>-1.375858</td>\n",
       "      <td>2003</td>\n",
       "      <td>-3.173595</td>\n",
       "      <td>-3.363987</td>\n",
       "      <td>-4.088374</td>\n",
       "    </tr>\n",
       "    <tr>\n",
       "      <th>3</th>\n",
       "      <td>-2.484296</td>\n",
       "      <td>0.111921</td>\n",
       "      <td>-1.315556</td>\n",
       "      <td>-0.504497</td>\n",
       "      <td>-1.375858</td>\n",
       "      <td>2003</td>\n",
       "      <td>-3.173595</td>\n",
       "      <td>-3.588470</td>\n",
       "      <td>-4.227503</td>\n",
       "    </tr>\n",
       "    <tr>\n",
       "      <th>4</th>\n",
       "      <td>-1.703477</td>\n",
       "      <td>0.830522</td>\n",
       "      <td>-0.960428</td>\n",
       "      <td>0.945720</td>\n",
       "      <td>-1.205385</td>\n",
       "      <td>2006</td>\n",
       "      <td>-3.605762</td>\n",
       "      <td>-1.506756</td>\n",
       "      <td>-1.615972</td>\n",
       "    </tr>\n",
       "  </tbody>\n",
       "</table>\n",
       "</div>"
      ],
      "text/plain": [
       "   director      imdb     likes  metacritic    writer  year    actor3  \\\n",
       "0  0.058511  1.036625  1.035670    1.637214  0.692924  2003 -3.173595   \n",
       "1  0.242825  0.358988 -3.163267    0.831485  0.695444  2005 -3.961961   \n",
       "2  0.055439  1.213035  1.024388    1.365871 -1.375858  2003 -3.173595   \n",
       "3 -2.484296  0.111921 -1.315556   -0.504497 -1.375858  2003 -3.173595   \n",
       "4 -1.703477  0.830522 -0.960428    0.945720 -1.205385  2006 -3.605762   \n",
       "\n",
       "     actor2    actor1  \n",
       "0 -3.972226 -3.136886  \n",
       "1 -4.751953 -0.393670  \n",
       "2 -3.363987 -4.088374  \n",
       "3 -3.588470 -4.227503  \n",
       "4 -1.506756 -1.615972  "
      ]
     },
     "execution_count": 9,
     "metadata": {},
     "output_type": "execute_result"
    }
   ],
   "source": [
    "df = pd.DataFrame.from_csv('zscores.csv',header=0,index_col=None); df.head()"
   ]
  },
  {
   "cell_type": "code",
   "execution_count": 14,
   "metadata": {
    "collapsed": false
   },
   "outputs": [
    {
     "name": "stdout",
     "output_type": "stream",
     "text": [
      "Adj. r^2 score on iteration 0: 0.161566228503\n",
      "Adj. r^2 score on iteration 1: 0.149232820487\n",
      "Adj. r^2 score on iteration 2: 0.142729236145\n",
      "Adj. r^2 score on iteration 3: 0.175711889923\n",
      "Adj. r^2 score on iteration 4: 0.164107305157\n",
      "Adj. r^2 score on iteration 5: 0.172789882309\n",
      "Adj. r^2 score on iteration 6: 0.148318513052\n",
      "Adj. r^2 score on iteration 7: 0.154941185245\n",
      "Adj. r^2 score on iteration 8: 0.165355633364\n",
      "Adj. r^2 score on iteration 9: 0.165447139678\n",
      "mean adj. r^2 score: 0.160019983386\n"
     ]
    }
   ],
   "source": [
    "totalscore = 0\n",
    "for i in range(0,10):\n",
    "    y = df.metacritic\n",
    "    ones = (df.director*0+1)\n",
    "    ones = ones.rename('bias')\n",
    "    X = pd.concat([ones, df.likes, df.director, df.writer, df.actor1, df.actor2, df.actor3], axis=1)\n",
    "    X_train, X_test, y_train, y_test = train_test_split(X, y, test_size=0.3)\n",
    "    model = sm.OLS(y_train, X_train) \n",
    "    fit = model.fit()\n",
    "    y_pred = fit.predict(X_test)\n",
    "    score = metrics.r2_score(y_test, y_pred)\n",
    "    print('Adj. r^2 score on iteration ' + str(i) + ': ' + str(score))\n",
    "    totalscore += score\n",
    "print('mean adj. r^2 score: '+ str(totalscore/10))"
   ]
  },
  {
   "cell_type": "code",
   "execution_count": 11,
   "metadata": {
    "collapsed": false
   },
   "outputs": [
    {
     "data": {
      "text/html": [
       "<table class=\"simpletable\">\n",
       "<caption>OLS Regression Results</caption>\n",
       "<tr>\n",
       "  <th>Dep. Variable:</th>       <td>metacritic</td>    <th>  R-squared:         </th> <td>   0.164</td>\n",
       "</tr>\n",
       "<tr>\n",
       "  <th>Model:</th>                   <td>OLS</td>       <th>  Adj. R-squared:    </th> <td>   0.161</td>\n",
       "</tr>\n",
       "<tr>\n",
       "  <th>Method:</th>             <td>Least Squares</td>  <th>  F-statistic:       </th> <td>   75.54</td>\n",
       "</tr>\n",
       "<tr>\n",
       "  <th>Date:</th>             <td>Tue, 04 Oct 2016</td> <th>  Prob (F-statistic):</th> <td>2.33e-86</td>\n",
       "</tr>\n",
       "<tr>\n",
       "  <th>Time:</th>                 <td>13:22:49</td>     <th>  Log-Likelihood:    </th> <td> -3135.5</td>\n",
       "</tr>\n",
       "<tr>\n",
       "  <th>No. Observations:</th>      <td>  2324</td>      <th>  AIC:               </th> <td>   6285.</td>\n",
       "</tr>\n",
       "<tr>\n",
       "  <th>Df Residuals:</th>          <td>  2317</td>      <th>  BIC:               </th> <td>   6325.</td>\n",
       "</tr>\n",
       "<tr>\n",
       "  <th>Df Model:</th>              <td>     6</td>      <th>                     </th>     <td> </td>   \n",
       "</tr>\n",
       "</table>\n",
       "<table class=\"simpletable\">\n",
       "<tr>\n",
       "      <td></td>        <th>coef</th>     <th>std err</th>      <th>t</th>      <th>P>|t|</th> <th>[95.0% Conf. Int.]</th> \n",
       "</tr>\n",
       "<tr>\n",
       "  <th>bias</th>     <td>   -0.0096</td> <td>    0.019</td> <td>   -0.496</td> <td> 0.620</td> <td>   -0.048     0.028</td>\n",
       "</tr>\n",
       "<tr>\n",
       "  <th>likes</th>    <td>    0.3123</td> <td>    0.023</td> <td>   13.852</td> <td> 0.000</td> <td>    0.268     0.357</td>\n",
       "</tr>\n",
       "<tr>\n",
       "  <th>director</th> <td>    0.1684</td> <td>    0.024</td> <td>    7.110</td> <td> 0.000</td> <td>    0.122     0.215</td>\n",
       "</tr>\n",
       "<tr>\n",
       "  <th>writer</th>   <td>    0.0281</td> <td>    0.022</td> <td>    1.296</td> <td> 0.195</td> <td>   -0.014     0.071</td>\n",
       "</tr>\n",
       "<tr>\n",
       "  <th>actor1</th>   <td>    0.0103</td> <td>    0.031</td> <td>    0.334</td> <td> 0.738</td> <td>   -0.050     0.071</td>\n",
       "</tr>\n",
       "<tr>\n",
       "  <th>actor2</th>   <td>   -0.0266</td> <td>    0.038</td> <td>   -0.692</td> <td> 0.489</td> <td>   -0.102     0.049</td>\n",
       "</tr>\n",
       "<tr>\n",
       "  <th>actor3</th>   <td>   -0.1381</td> <td>    0.031</td> <td>   -4.503</td> <td> 0.000</td> <td>   -0.198    -0.078</td>\n",
       "</tr>\n",
       "</table>\n",
       "<table class=\"simpletable\">\n",
       "<tr>\n",
       "  <th>Omnibus:</th>       <td>691.147</td> <th>  Durbin-Watson:     </th> <td>   1.989</td>\n",
       "</tr>\n",
       "<tr>\n",
       "  <th>Prob(Omnibus):</th> <td> 0.000</td>  <th>  Jarque-Bera (JB):  </th> <td>2678.426</td>\n",
       "</tr>\n",
       "<tr>\n",
       "  <th>Skew:</th>          <td>-1.415</td>  <th>  Prob(JB):          </th> <td>    0.00</td>\n",
       "</tr>\n",
       "<tr>\n",
       "  <th>Kurtosis:</th>      <td> 7.432</td>  <th>  Cond. No.          </th> <td>    4.14</td>\n",
       "</tr>\n",
       "</table>"
      ],
      "text/plain": [
       "<class 'statsmodels.iolib.summary.Summary'>\n",
       "\"\"\"\n",
       "                            OLS Regression Results                            \n",
       "==============================================================================\n",
       "Dep. Variable:             metacritic   R-squared:                       0.164\n",
       "Model:                            OLS   Adj. R-squared:                  0.161\n",
       "Method:                 Least Squares   F-statistic:                     75.54\n",
       "Date:                Tue, 04 Oct 2016   Prob (F-statistic):           2.33e-86\n",
       "Time:                        13:22:49   Log-Likelihood:                -3135.5\n",
       "No. Observations:                2324   AIC:                             6285.\n",
       "Df Residuals:                    2317   BIC:                             6325.\n",
       "Df Model:                           6                                         \n",
       "==============================================================================\n",
       "                 coef    std err          t      P>|t|      [95.0% Conf. Int.]\n",
       "------------------------------------------------------------------------------\n",
       "bias          -0.0096      0.019     -0.496      0.620        -0.048     0.028\n",
       "likes          0.3123      0.023     13.852      0.000         0.268     0.357\n",
       "director       0.1684      0.024      7.110      0.000         0.122     0.215\n",
       "writer         0.0281      0.022      1.296      0.195        -0.014     0.071\n",
       "actor1         0.0103      0.031      0.334      0.738        -0.050     0.071\n",
       "actor2        -0.0266      0.038     -0.692      0.489        -0.102     0.049\n",
       "actor3        -0.1381      0.031     -4.503      0.000        -0.198    -0.078\n",
       "==============================================================================\n",
       "Omnibus:                      691.147   Durbin-Watson:                   1.989\n",
       "Prob(Omnibus):                  0.000   Jarque-Bera (JB):             2678.426\n",
       "Skew:                          -1.415   Prob(JB):                         0.00\n",
       "Kurtosis:                       7.432   Cond. No.                         4.14\n",
       "==============================================================================\n",
       "\"\"\""
      ]
     },
     "execution_count": 11,
     "metadata": {},
     "output_type": "execute_result"
    }
   ],
   "source": [
    "fit.summary()"
   ]
  },
  {
   "cell_type": "code",
   "execution_count": 12,
   "metadata": {
    "collapsed": false
   },
   "outputs": [
    {
     "data": {
      "image/png": "[encoded data removed]",
      "text/plain": [
       "<matplotlib.figure.Figure at 0x11eccb190>"
      ]
     },
     "metadata": {},
     "output_type": "display_data"
    }
   ],
   "source": [
    "plt.figure(figsize=(15, 5))\n",
    "plt.subplot(1,2,1)\n",
    "plt.scatter(X_test.iloc[:,1], y_pred-y_test,alpha = .3)\n",
    "plt.plot(X_test.iloc[:,1],X_test.iloc[:,1]*0,alpha = .5)\n",
    "plt.xlabel('feature variable')\n",
    "plt.ylabel('residual')\n",
    "plt.xlim([-2.8,2.5])\n",
    "plt.title('residual plot');\n",
    "\n",
    "plt.subplot(1,2,2)\n",
    "plt.hist(y_pred-y_test,bins = 50)\n",
    "plt.xlabel('feature variable')\n",
    "plt.ylabel('residual')\n",
    "plt.xlim([-2.8,2.5])\n",
    "plt.title('residual histogram');"
   ]
  },
  {
   "cell_type": "code",
   "execution_count": null,
   "metadata": {
    "collapsed": true
   },
   "outputs": [],
   "source": []
  }
 ],
 "metadata": {
  "anaconda-cloud": {},
  "kernelspec": {
   "display_name": "Python [conda root]",
   "language": "python",
   "name": "conda-root-py"
  },
  "language_info": {
   "codemirror_mode": {
    "name": "ipython",
    "version": 2
   },
   "file_extension": ".py",
   "mimetype": "text/x-python",
   "name": "python",
   "nbconvert_exporter": "python",
   "pygments_lexer": "ipython2",
   "version": "2.7.12"
  }
 },
 "nbformat": 4,
 "nbformat_minor": 0
}
