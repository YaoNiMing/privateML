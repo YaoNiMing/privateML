{
 "cells": [
  {
   "cell_type": "code",
   "execution_count": 1,
   "metadata": {
    "collapsed": false
   },
   "outputs": [],
   "source": [
    "import pandas as pd\n",
    "from bs4 import BeautifulSoup\n",
    "import requests\n",
    "import urllib2\n",
    "import sys\n",
    "import random\n",
    "import time"
   ]
  },
  {
   "cell_type": "code",
   "execution_count": 2,
   "metadata": {
    "collapsed": true
   },
   "outputs": [],
   "source": [
    "%matplotlib inline\n",
    "pd.options.display.max_rows = 10"
   ]
  },
  {
   "cell_type": "code",
   "execution_count": 3,
   "metadata": {
    "collapsed": true
   },
   "outputs": [],
   "source": [
    "def get_awards(imdb_id):\n",
    "    content = urllib2.urlopen('http://www.imdb.com/name/'+imdb_id+'/awards?ref_=nm_awd').read()\n",
    "    soup1 = BeautifulSoup(content, \"lxml\")\n",
    "    sentence = soup1.find_all('div',attrs={'class':'desc'});\n",
    "    if len(sentence) == 0:\n",
    "        return 0\n",
    "    else:\n",
    "        s = str(sentence[0]).split('wins')\n",
    "        return int(''.join(c for c in s[0] if c.isdigit())) + int(''.join(c for c in s[1] if c.isdigit()))"
   ]
  },
  {
   "cell_type": "code",
   "execution_count": null,
   "metadata": {
    "collapsed": false
   },
   "outputs": [
    {
     "name": "stdout",
     "output_type": "stream",
     "text": [
      "Finished 0/5000, 0 valid titles recorded\n"
     ]
    }
   ],
   "source": [
    "dataset = pd.DataFrame.from_csv('movielinks.csv',header=0,index_col=None)\n",
    "url_list = list(dataset.imdb_url)\n",
    "l_url = []\n",
    "l_title = []\n",
    "l_rating = []\n",
    "l_metacritic = []\n",
    "l_director_likes = []\n",
    "l_writer_likes = []\n",
    "l_actor_likes = []\n",
    "l_year = []\n",
    "l_title_likes = []\n",
    "l_director_awards = []\n",
    "l_writer_awards = []\n",
    "l_actor_awards = []\n",
    "N = 5000;\n",
    "Nscraped = 0;\n",
    "for i in range(0,N):\n",
    "    try:\n",
    "        url = url_list[i]\n",
    "        response = requests.get(url)\n",
    "        soup0 = BeautifulSoup(response.text, \"lxml\")\n",
    "        #get title\n",
    "        title = str(soup0.find_all(\"title\")[0].string).replace('IMDb','').replace('-',' ').lstrip().rstrip()\n",
    "        #get year\n",
    "        ystring = str(soup0.find_all('span', attrs={\"id\": \"titleYear\"})[0]).split('year/')[1]\n",
    "        year = ystring[0:4]\n",
    "        #get IMDB rating\n",
    "        rating = float(soup0.find_all('span', attrs={\"itemprop\": \"ratingValue\"})[0].string)\n",
    "        #get metacritic score\n",
    "        metascore = int(soup0.find_all(\"a\", attrs={\"href\": \"criticreviews?ref_=tt_ov_rt\"})[0].find('span').text)\n",
    "        #get movie facebook likes\n",
    "        list1 = url.split('/')\n",
    "        title_id = list1[list1.index(\"title\")+1]\n",
    "        facebook_url = \"https://www.facebook.com/widgets/like.php?width=280&show_faces=1&layout=standard&href=http%3A%2F%2Fwww.imdb.com%2Ftitle%2F{}%2F&colorscheme=light\".format(title_id)\n",
    "        content = urllib2.urlopen(facebook_url).read()\n",
    "        soup1 = BeautifulSoup(content, \"lxml\")\n",
    "        sentence = soup1.find_all(id=\"u_0_2\")[0].span.string\n",
    "        title_likes = str(sentence.split(\" \")[0])\n",
    "        #get director likes\n",
    "        temp = soup0.find_all('span', attrs={\"itemprop\": \"director\"})[0].find_all('a')\n",
    "        director_link = 'http://www.imdb.com/' + temp[0]['href']\n",
    "        list1 = director_link.split('/')\n",
    "        temp = list1[list1.index(\"name\")+1]\n",
    "        director_id = temp.split('?')[0]\n",
    "        facebook_url = \"https://www.facebook.com/widgets/like.php?width=280&show_faces=1&layout=standard&href=http%3A%2F%2Fwww.imdb.com%2Fname%2F{}%2F&colorscheme=light\".format(director_id)\n",
    "        content = urllib2.urlopen(facebook_url).read()\n",
    "        soup1 = BeautifulSoup(content, \"lxml\")\n",
    "        sentence = soup1.find_all(id=\"u_0_2\")[0].span.string\n",
    "        director_likes = str(sentence.split(\" \")[0])\n",
    "        #director awards + nominations\n",
    "        director_awards = get_awards(director_id)\n",
    "        #get writer likes\n",
    "        temp = soup0.find_all('span', attrs={\"itemprop\": \"creator\"})[0].find_all('a')\n",
    "        writer_link = 'http://www.imdb.com' + temp[0]['href']\n",
    "        list1 = writer_link.split('/')\n",
    "        temp = list1[list1.index(\"name\")+1]\n",
    "        writer_id = temp.split('?')[0]\n",
    "        facebook_url = \"https://www.facebook.com/widgets/like.php?width=280&show_faces=1&layout=standard&href=http%3A%2F%2Fwww.imdb.com%2Fname%2F{}%2F&colorscheme=light\".format(writer_id)\n",
    "        content = urllib2.urlopen(facebook_url).read()\n",
    "        soup1 = BeautifulSoup(content, \"lxml\")\n",
    "        sentence = soup1.find_all(id=\"u_0_2\")[0].span.string\n",
    "        writer_likes = str(sentence.split(\" \")[0])\n",
    "        #get writer awards\n",
    "        writer_awards = get_awards(writer_id)\n",
    "        #get actor likes and awards\n",
    "        actor_links = []\n",
    "        temp = soup0.find_all('span', attrs={\"itemprop\": \"actors\"})\n",
    "        for item in temp:\n",
    "            actor = item.find_all('a')[0]\n",
    "            actor_links.append('http://www.imdb.com/' + actor['href'])\n",
    "        actor_likes = ''\n",
    "        actor_awards = 0\n",
    "        for item in actor_links:\n",
    "            list1 = item.split('/')\n",
    "            temp = list1[list1.index(\"name\")+1]\n",
    "            actor_id = temp.split('?')[0]\n",
    "            facebook_url = \"https://www.facebook.com/widgets/like.php?width=280&show_faces=1&layout=standard&href=http%3A%2F%2Fwww.imdb.com%2Fname%2F{}%2F&colorscheme=light\".format(actor_id)\n",
    "            content = urllib2.urlopen(facebook_url).read()\n",
    "            soup = BeautifulSoup(content, \"lxml\")\n",
    "            sentence = soup.find_all(id=\"u_0_2\")[0].span.string\n",
    "            actor_likes = actor_likes + str(sentence.split(\" \")[0]) + ','\n",
    "            actor_awards += get_awards(actor_id)\n",
    "        #append to new lists\n",
    "        l_url.append(url)\n",
    "        l_title.append(title)\n",
    "        l_year.append(year)\n",
    "        l_rating.append(rating)\n",
    "        l_metacritic.append(metascore)\n",
    "        l_director_likes.append(director_likes)\n",
    "        l_writer_likes.append(writer_likes)\n",
    "        l_actor_likes.append(actor_likes)\n",
    "        l_title_likes.append(title_likes)\n",
    "        l_director_awards.append(director_awards)\n",
    "        l_writer_awards.append(writer_awards)\n",
    "        l_actor_awards.append(actor_awards)\n",
    "        #print progress\n",
    "        if i % 10 == 0:\n",
    "            print 'Finished ' + str(i) + '/' + str(N) +', ' + str(Nscraped) + ' valid titles recorded'\n",
    "            sys.stdout.flush()\n",
    "        Nscraped += 1\n",
    "    except:\n",
    "        continue"
   ]
  },
  {
   "cell_type": "code",
   "execution_count": null,
   "metadata": {
    "collapsed": true
   },
   "outputs": [],
   "source": [
    "filelist = pd.DataFrame({'url' : l_url, 'title' : l_title, 'year' : l_year, 'imdb' : l_rating, 'metacritic' : l_metacritic,\n",
    "                         'director' : l_director_likes, 'writer' : l_writer_likes, \n",
    "                         'actor' : l_actor_likes, 'likes' : l_title_likes, 'dir_awd' : l_director_awards,\n",
    "                         'writer_awd' : l_writer_awards, 'actor_awd' : l_actor_awards})"
   ]
  },
  {
   "cell_type": "code",
   "execution_count": null,
   "metadata": {
    "collapsed": true
   },
   "outputs": [],
   "source": [
    "filelist.to_csv('dataset.csv')"
   ]
  },
  {
   "cell_type": "code",
   "execution_count": null,
   "metadata": {
    "collapsed": false
   },
   "outputs": [],
   "source": [
    "dataset = pd.DataFrame.from_csv('movielinks.csv',header=0,index_col=None)\n",
    "url_list = list(dataset.imdb_url)    \n",
    "response = requests.get(url_list[0])\n",
    "soup0 = BeautifulSoup(response.text, \"lxml\")\n",
    "temp = soup0.find_all('span', attrs={\"itemprop\": \"director\"})[0].find_all('a')\n",
    "director_link = 'http://www.imdb.com/' + temp[0]['href']\n",
    "list1 = director_link.split('/')\n",
    "temp = list1[list1.index(\"name\")+1]\n",
    "director_id = temp.split('?')[0]"
   ]
  },
  {
   "cell_type": "code",
   "execution_count": null,
   "metadata": {
    "collapsed": false
   },
   "outputs": [],
   "source": [
    "director_id"
   ]
  },
  {
   "cell_type": "code",
   "execution_count": null,
   "metadata": {
    "collapsed": false
   },
   "outputs": [],
   "source": [
    "get_awards(director_id)"
   ]
  },
  {
   "cell_type": "code",
   "execution_count": null,
   "metadata": {
    "collapsed": false
   },
   "outputs": [],
   "source": [
    "l_actor_awards"
   ]
  },
  {
   "cell_type": "code",
   "execution_count": null,
   "metadata": {
    "collapsed": true
   },
   "outputs": [],
   "source": []
  }
 ],
 "metadata": {
  "anaconda-cloud": {},
  "kernelspec": {
   "display_name": "Python [conda root]",
   "language": "python",
   "name": "conda-root-py"
  },
  "language_info": {
   "codemirror_mode": {
    "name": "ipython",
    "version": 2
   },
   "file_extension": ".py",
   "mimetype": "text/x-python",
   "name": "python",
   "nbconvert_exporter": "python",
   "pygments_lexer": "ipython2",
   "version": "2.7.12"
  }
 },
 "nbformat": 4,
 "nbformat_minor": 0
}
