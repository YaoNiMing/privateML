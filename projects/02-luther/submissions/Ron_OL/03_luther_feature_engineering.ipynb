{
 "cells": [
  {
   "cell_type": "markdown",
   "metadata": {
    "collapsed": true
   },
   "source": [
    "Ron Olshansky-Lucero  \n",
    "Project Luther (web scraping, linear regression)  \n",
    "07 October 2016"
   ]
  },
  {
   "cell_type": "code",
   "execution_count": 2,
   "metadata": {
    "collapsed": false
   },
   "outputs": [],
   "source": [
    "# Python 2/3 compatibility\n",
    "from __future__ import print_function, division\n",
    "\n",
    "#\n",
    "import pandas as pd\n",
    "import numpy as np\n",
    "import statsmodels.api as sm\n",
    "import statsmodels.formula.api as smf\n",
    "import patsy\n",
    "import seaborn as sns\n",
    "from seaborn import plt\n",
    "from sklearn.linear_model import LinearRegression\n",
    "from sklearn.cross_validation import train_test_split\n",
    "from sklearn.linear_model import RidgeCV\n",
    "\n",
    "%matplotlib inline\n",
    "\n",
    "import time\n",
    "import re\n",
    "import csv\n",
    "import pickle\n",
    "import dateutil.parser\n",
    "from pprint import pprint"
   ]
  },
  {
   "cell_type": "code",
   "execution_count": 3,
   "metadata": {
    "collapsed": false
   },
   "outputs": [
    {
     "name": "stdout",
     "output_type": "stream",
     "text": [
      "<class 'pandas.core.frame.DataFrame'>\n",
      "Int64Index: 1368 entries, 0 to 1999\n",
      "Data columns (total 8 columns):\n",
      "distributor           1368 non-null object\n",
      "domestic_adj_gross    1368 non-null float64\n",
      "genre                 1368 non-null object\n",
      "mpaa_rating           1368 non-null object\n",
      "production_budget     1368 non-null float64\n",
      "release_date          1368 non-null object\n",
      "runtime_mins          1368 non-null int64\n",
      "title                 1368 non-null object\n",
      "dtypes: float64(2), int64(1), object(5)\n",
      "memory usage: 96.2+ KB\n"
     ]
    }
   ],
   "source": [
    "mdf = pd.read_csv('moviedf.csv', index_col=0)\n",
    "mdf.info()"
   ]
  },
  {
   "cell_type": "code",
   "execution_count": 4,
   "metadata": {
    "collapsed": false
   },
   "outputs": [
    {
     "name": "stdout",
     "output_type": "stream",
     "text": [
      "<class 'pandas.core.frame.DataFrame'>\n",
      "Int64Index: 1368 entries, 0 to 1999\n",
      "Data columns (total 8 columns):\n",
      "distributor          1368 non-null object\n",
      "gross_adj            1368 non-null float64\n",
      "genre                1368 non-null object\n",
      "mpaa_rating          1368 non-null object\n",
      "production_budget    1368 non-null float64\n",
      "release_date         1368 non-null object\n",
      "runtime_mins         1368 non-null int64\n",
      "title                1368 non-null object\n",
      "dtypes: float64(2), int64(1), object(5)\n",
      "memory usage: 96.2+ KB\n"
     ]
    }
   ],
   "source": [
    "# rename some variables\n",
    "mdf = mdf.rename(columns = {'domestic_adj_gross':'gross_adj'})\n",
    "mdf.info()"
   ]
  },
  {
   "cell_type": "code",
   "execution_count": 5,
   "metadata": {
    "collapsed": false
   },
   "outputs": [
    {
     "data": {
      "text/plain": [
       "pandas.core.series.Series"
      ]
     },
     "execution_count": 5,
     "metadata": {},
     "output_type": "execute_result"
    }
   ],
   "source": [
    "type(mdf.release_date)"
   ]
  },
  {
   "cell_type": "code",
   "execution_count": 6,
   "metadata": {
    "collapsed": false
   },
   "outputs": [
    {
     "name": "stdout",
     "output_type": "stream",
     "text": [
      "<class 'pandas.core.frame.DataFrame'>\n",
      "Int64Index: 1368 entries, 0 to 1999\n",
      "Data columns (total 8 columns):\n",
      "distributor          1368 non-null object\n",
      "gross_adj            1368 non-null float64\n",
      "genre                1368 non-null object\n",
      "mpaa_rating          1368 non-null object\n",
      "production_budget    1368 non-null float64\n",
      "release_date         1368 non-null datetime64[ns]\n",
      "runtime_mins         1368 non-null int64\n",
      "title                1368 non-null object\n",
      "dtypes: datetime64[ns](1), float64(2), int64(1), object(4)\n",
      "memory usage: 96.2+ KB\n"
     ]
    }
   ],
   "source": [
    "# convert release_date to datetime object\n",
    "mdf['release_date'] = pd.to_datetime(mdf['release_date'])\n",
    "mdf.info()"
   ]
  },
  {
   "cell_type": "markdown",
   "metadata": {},
   "source": [
    "#### FEATURE ENGINEERING - TRENDS AND SEASONALITY\n",
    "\n",
    "Generate from `release_date`: `year`, `month`, `day` (all int)"
   ]
  },
  {
   "cell_type": "code",
   "execution_count": 7,
   "metadata": {
    "collapsed": false
   },
   "outputs": [
    {
     "data": {
      "text/plain": [
       "dtype('int64')"
      ]
     },
     "execution_count": 7,
     "metadata": {},
     "output_type": "execute_result"
    }
   ],
   "source": [
    "mdf['year'] = mdf['release_date'].dt.year\n",
    "mdf.year.dtype"
   ]
  },
  {
   "cell_type": "code",
   "execution_count": 8,
   "metadata": {
    "collapsed": false
   },
   "outputs": [
    {
     "data": {
      "text/plain": [
       "dtype('int64')"
      ]
     },
     "execution_count": 8,
     "metadata": {},
     "output_type": "execute_result"
    }
   ],
   "source": [
    "mdf['month'] = mdf['release_date'].dt.month\n",
    "mdf.month.dtype"
   ]
  },
  {
   "cell_type": "code",
   "execution_count": 9,
   "metadata": {
    "collapsed": false
   },
   "outputs": [
    {
     "data": {
      "text/plain": [
       "dtype('int64')"
      ]
     },
     "execution_count": 9,
     "metadata": {},
     "output_type": "execute_result"
    }
   ],
   "source": [
    "mdf['day'] = mdf['release_date'].dt.day\n",
    "mdf.day.dtype"
   ]
  },
  {
   "cell_type": "code",
   "execution_count": 10,
   "metadata": {
    "collapsed": false
   },
   "outputs": [
    {
     "data": {
      "text/plain": [
       "(array([   1.,    0.,    4.,    7.,   11.,   27.,   62.,  238.,  493.,  525.]),\n",
       " array([ 1937. ,  1944.9,  1952.8,  1960.7,  1968.6,  1976.5,  1984.4,\n",
       "         1992.3,  2000.2,  2008.1,  2016. ]),\n",
       " <a list of 10 Patch objects>)"
      ]
     },
     "execution_count": 10,
     "metadata": {},
     "output_type": "execute_result"
    },
    {
     "data": {
      "image/png": "[encoded data removed]",
      "text/plain": [
       "<matplotlib.figure.Figure at 0x11b727588>"
      ]
     },
     "metadata": {},
     "output_type": "display_data"
    }
   ],
   "source": [
    "# check distribution of year\n",
    "plt.hist(mdf.year) # most films in sample from 1990 onward"
   ]
  },
  {
   "cell_type": "code",
   "execution_count": 11,
   "metadata": {
    "collapsed": false
   },
   "outputs": [
    {
     "data": {
      "text/plain": [
       "distributor          67\n",
       "gross_adj            67\n",
       "genre                67\n",
       "mpaa_rating          67\n",
       "production_budget    67\n",
       "release_date         67\n",
       "runtime_mins         67\n",
       "title                67\n",
       "year                 67\n",
       "month                67\n",
       "day                  67\n",
       "dtype: int64"
      ]
     },
     "execution_count": 11,
     "metadata": {},
     "output_type": "execute_result"
    }
   ],
   "source": [
    "mdf[mdf.year < 1990].count() # 67 films "
   ]
  },
  {
   "cell_type": "code",
   "execution_count": 12,
   "metadata": {
    "collapsed": false
   },
   "outputs": [
    {
     "data": {
      "text/plain": [
       "distributor          1301\n",
       "gross_adj            1301\n",
       "genre                1301\n",
       "mpaa_rating          1301\n",
       "production_budget    1301\n",
       "release_date         1301\n",
       "runtime_mins         1301\n",
       "title                1301\n",
       "year                 1301\n",
       "month                1301\n",
       "day                  1301\n",
       "dtype: int64"
      ]
     },
     "execution_count": 12,
     "metadata": {},
     "output_type": "execute_result"
    }
   ],
   "source": [
    "mdf[mdf.year >= 1990].count() # 1301 films 1990 - 2016 (so far)"
   ]
  },
  {
   "cell_type": "code",
   "execution_count": 13,
   "metadata": {
    "collapsed": false
   },
   "outputs": [
    {
     "name": "stdout",
     "output_type": "stream",
     "text": [
      "<class 'pandas.core.frame.DataFrame'>\n",
      "Int64Index: 1301 entries, 0 to 1999\n",
      "Data columns (total 11 columns):\n",
      "distributor          1301 non-null object\n",
      "gross_adj            1301 non-null float64\n",
      "genre                1301 non-null object\n",
      "mpaa_rating          1301 non-null object\n",
      "production_budget    1301 non-null float64\n",
      "release_date         1301 non-null datetime64[ns]\n",
      "runtime_mins         1301 non-null int64\n",
      "title                1301 non-null object\n",
      "year                 1301 non-null int64\n",
      "month                1301 non-null int64\n",
      "day                  1301 non-null int64\n",
      "dtypes: datetime64[ns](1), float64(2), int64(4), object(4)\n",
      "memory usage: 122.0+ KB\n"
     ]
    }
   ],
   "source": [
    "# restrict to films 1990 - 2016 (new sample size = 1301)\n",
    "mdf = mdf[mdf.year >= 1990]\n",
    "mdf.info()"
   ]
  },
  {
   "cell_type": "markdown",
   "metadata": {},
   "source": [
    "#### Visual Exploration (`year`,`month`,`day`)"
   ]
  },
  {
   "cell_type": "code",
   "execution_count": 14,
   "metadata": {
    "collapsed": false
   },
   "outputs": [
    {
     "data": {
      "text/plain": [
       "<matplotlib.text.Text at 0x11b3cf7b8>"
      ]
     },
     "execution_count": 14,
     "metadata": {},
     "output_type": "execute_result"
    },
    {
     "data": {
      "image/png": "[encoded data removed]",
      "text/plain": [
       "<matplotlib.figure.Figure at 0x11b356668>"
      ]
     },
     "metadata": {},
     "output_type": "display_data"
    }
   ],
   "source": [
    "# As time goes on, gross seems to go down\n",
    "# ==> harder and harder for films to make money\n",
    "fig, ax = plt.subplots(1,1, figsize = (20, 10))\n",
    "ax.set_title('LOG OF ADJUSTED GROSS (2016 PRICES) BY YEAR')\n",
    "sns.boxplot(x = mdf.year.sort_values(),y = np.log(mdf.gross_adj))\n",
    "ax.set_xlabel('YEAR')\n",
    "ax.set_ylabel('LOG(GROSS_ADJ)')"
   ]
  },
  {
   "cell_type": "code",
   "execution_count": 15,
   "metadata": {
    "collapsed": false
   },
   "outputs": [
    {
     "data": {
      "text/plain": [
       "<matplotlib.text.Text at 0x11ee01f28>"
      ]
     },
     "execution_count": 15,
     "metadata": {},
     "output_type": "execute_result"
    },
    {
     "data": {
      "image/png": "[encoded data removed]",
      "text/plain": [
       "<matplotlib.figure.Figure at 0x11e1669b0>"
      ]
     },
     "metadata": {},
     "output_type": "display_data"
    }
   ],
   "source": [
    "# There is seasonality\n",
    "# - Summer (May, June, July)\n",
    "# - Holiday (November, December)\n",
    "# - Other (rest of year)\n",
    "fig, ax = plt.subplots(1,1, figsize = (20, 10))\n",
    "ax.set_title('LOG OF ADJUSTED GROSS (2016 PRICES) BY MONTH')\n",
    "sns.boxplot(x = mdf.month.sort_values(),y = np.log(mdf.gross_adj))\n",
    "ax.set_xlabel('MONTH')\n",
    "ax.set_ylabel('LOG(GROSS_ADJ)')"
   ]
  },
  {
   "cell_type": "code",
   "execution_count": 16,
   "metadata": {
    "collapsed": false
   },
   "outputs": [
    {
     "data": {
      "text/plain": [
       "<matplotlib.text.Text at 0x11f44c240>"
      ]
     },
     "execution_count": 16,
     "metadata": {},
     "output_type": "execute_result"
    },
    {
     "data": {
      "image/png": "[encoded data removed]",
      "text/plain": [
       "<matplotlib.figure.Figure at 0x11e162b38>"
      ]
     },
     "metadata": {},
     "output_type": "display_data"
    }
   ],
   "source": [
    "# day of the month does not seems to have a noticeable effect\n",
    "fig, ax = plt.subplots(1,1, figsize = (20, 10))\n",
    "ax.set_title('LOG OF ADJUSTED GROSS (2016 PRICES) BY DAY')\n",
    "sns.boxplot(x = mdf.day.sort_values(),y = np.log(mdf.gross_adj))\n",
    "ax.set_xlabel('DAY')\n",
    "ax.set_ylabel('LOG(GROSS_ADJ)')"
   ]
  },
  {
   "cell_type": "markdown",
   "metadata": {},
   "source": [
    "From above, there is a need to construct indicator variables to reflect season.\n",
    "- `summer` (May, June, July)\n",
    "- `holiday` (November, December)\n",
    "- `offseason` (rest of year)"
   ]
  },
  {
   "cell_type": "code",
   "execution_count": 17,
   "metadata": {
    "collapsed": true
   },
   "outputs": [],
   "source": [
    "# initialise variables\n",
    "mdf['summer'] = 0\n",
    "mdf['holiday'] = 0\n",
    "mdf['offseason'] = 0\n",
    "\n",
    "# assign values\n",
    "mdf['summer'] = mdf.month.map(lambda x: 1 if (5 <= x <= 7) else 0)\n",
    "mdf['holiday'] = mdf.month.map(lambda x: 1 if (11 <= x <= 12) else 0)\n",
    "mdf['offseason'] = mdf.month.map(lambda x: 1 if x in [1,2,3,4,8,9,10] else 0)"
   ]
  },
  {
   "cell_type": "code",
   "execution_count": 18,
   "metadata": {
    "collapsed": false
   },
   "outputs": [
    {
     "name": "stdout",
     "output_type": "stream",
     "text": [
      "<class 'pandas.core.frame.DataFrame'>\n",
      "Int64Index: 1301 entries, 0 to 1999\n",
      "Data columns (total 14 columns):\n",
      "distributor          1301 non-null object\n",
      "gross_adj            1301 non-null float64\n",
      "genre                1301 non-null object\n",
      "mpaa_rating          1301 non-null object\n",
      "production_budget    1301 non-null float64\n",
      "release_date         1301 non-null datetime64[ns]\n",
      "runtime_mins         1301 non-null int64\n",
      "title                1301 non-null object\n",
      "year                 1301 non-null int64\n",
      "month                1301 non-null int64\n",
      "day                  1301 non-null int64\n",
      "summer               1301 non-null int64\n",
      "holiday              1301 non-null int64\n",
      "offseason            1301 non-null int64\n",
      "dtypes: datetime64[ns](1), float64(2), int64(7), object(4)\n",
      "memory usage: 152.5+ KB\n"
     ]
    }
   ],
   "source": [
    "mdf.info()"
   ]
  },
  {
   "cell_type": "code",
   "execution_count": 19,
   "metadata": {
    "collapsed": false
   },
   "outputs": [
    {
     "data": {
      "text/plain": [
       "gross_adj            1.000000\n",
       "production_budget    0.433083\n",
       "runtime_mins         0.288056\n",
       "summer               0.255784\n",
       "holiday              0.078535\n",
       "month                0.066616\n",
       "day                 -0.039630\n",
       "year                -0.219817\n",
       "offseason           -0.308781\n",
       "Name: gross_adj, dtype: float64"
      ]
     },
     "execution_count": 19,
     "metadata": {},
     "output_type": "execute_result"
    }
   ],
   "source": [
    "# there is definitely a relationship with summer and offseason, not so much holiday\n",
    "mdf.corr()['gross_adj'].sort_values(ascending=False)"
   ]
  },
  {
   "cell_type": "markdown",
   "metadata": {},
   "source": [
    "For seasonality, the correlation seems strongest between `gross_adj` and `offseason`, followed by correlation between `gross_adj` and `summer`. The weakest correlation seems to be between `gross_adj` and `holiday`."
   ]
  },
  {
   "cell_type": "markdown",
   "metadata": {},
   "source": [
    "#### FEATURE ENGINEERING - INFLATION ADJUSTMENTS\n",
    "\n",
    "Unlike the `gross_adj` figures, the `production_budget` figures are unadjusted. `gross_adj` was adjusted to be equivalent with the gross revenue based on 2016 average ticket prices. This computation was already done by the data source. \n",
    "\n",
    "It is not possible to do the same extrapolation with budget figures. Instead, the budget figures can be adjusted using the CPI as an inflation adjuster.\n",
    "\n",
    "A dictionary is constructed with the help of the the BLS' CPI Inflation Calculator, which was used to compute the equivalence of $1 to 2016 dollars for every year from 1990 to 2016 (27 years). A function was then mapped to a new variable, `budget_adj`."
   ]
  },
  {
   "cell_type": "code",
   "execution_count": 20,
   "metadata": {
    "collapsed": true
   },
   "outputs": [],
   "source": [
    "# inflation adjuster (for production budget)\n",
    "def inflation_adjuster(year):\n",
    "    '''\n",
    "    source: http://data.bls.gov/cgi-bin/cpicalc.pl\n",
    "    retrieved 6 Oct 2016\n",
    "    '''\n",
    "    yr_list = list(mdf.year.unique())\n",
    "    yr_list.sort()\n",
    "    cpi_inflation = [1.84, 1.77, 1.72, 1.67, 1.63, 1.58, 1.54, 1.50, 1.48, 1.45, 1.40, 1.36, 1.34, 1.31, 1.28, 1.23, 1.19, 1.16, 1.12, 1.12, 1.10, 1.07, 1.05, 1.03, 1.02, 1.02, 1.00]\n",
    "    inflation_dict = dict(zip(yr_list, cpi_inflation))\n",
    "    return inflation_dict.get(year)"
   ]
  },
  {
   "cell_type": "code",
   "execution_count": 21,
   "metadata": {
    "collapsed": false
   },
   "outputs": [
    {
     "name": "stdout",
     "output_type": "stream",
     "text": [
      "1.84\n",
      "1.31\n",
      "1.0\n"
     ]
    }
   ],
   "source": [
    "# test\n",
    "print(inflation_adjuster(1990)) # 1.84\n",
    "print(inflation_adjuster(2003)) # 1.31\n",
    "print(inflation_adjuster(2016)) # 1.0"
   ]
  },
  {
   "cell_type": "code",
   "execution_count": 22,
   "metadata": {
    "collapsed": false
   },
   "outputs": [
    {
     "data": {
      "text/plain": [
       "count    1301.000000\n",
       "mean        1.232798\n",
       "std         0.198007\n",
       "min         1.000000\n",
       "25%         1.070000\n",
       "50%         1.190000\n",
       "75%         1.360000\n",
       "max         1.840000\n",
       "Name: inf_adj, dtype: float64"
      ]
     },
     "execution_count": 22,
     "metadata": {},
     "output_type": "execute_result"
    }
   ],
   "source": [
    "# create inflation adjuster variable\n",
    "mdf['inf_adj'] = mdf.year.map(inflation_adjuster)\n",
    "mdf.inf_adj.describe()"
   ]
  },
  {
   "cell_type": "code",
   "execution_count": 23,
   "metadata": {
    "collapsed": false
   },
   "outputs": [
    {
     "data": {
      "text/plain": [
       "count    1301.000000\n",
       "mean       83.121972\n",
       "std        59.154938\n",
       "min         0.016800\n",
       "25%        36.900000\n",
       "50%        68.250000\n",
       "75%       117.600000\n",
       "max       348.000000\n",
       "Name: budget_adj, dtype: float64"
      ]
     },
     "execution_count": 23,
     "metadata": {},
     "output_type": "execute_result"
    }
   ],
   "source": [
    "# create adjusted budget variable\n",
    "mdf['budget_adj'] = mdf.production_budget*mdf.inf_adj\n",
    "mdf.budget_adj.describe()"
   ]
  },
  {
   "cell_type": "code",
   "execution_count": 24,
   "metadata": {
    "collapsed": false
   },
   "outputs": [
    {
     "name": "stdout",
     "output_type": "stream",
     "text": [
      "<class 'pandas.core.frame.DataFrame'>\n",
      "Int64Index: 1301 entries, 0 to 1999\n",
      "Data columns (total 16 columns):\n",
      "distributor          1301 non-null object\n",
      "gross_adj            1301 non-null float64\n",
      "genre                1301 non-null object\n",
      "mpaa_rating          1301 non-null object\n",
      "production_budget    1301 non-null float64\n",
      "release_date         1301 non-null datetime64[ns]\n",
      "runtime_mins         1301 non-null int64\n",
      "title                1301 non-null object\n",
      "year                 1301 non-null int64\n",
      "month                1301 non-null int64\n",
      "day                  1301 non-null int64\n",
      "summer               1301 non-null int64\n",
      "holiday              1301 non-null int64\n",
      "offseason            1301 non-null int64\n",
      "inf_adj              1301 non-null float64\n",
      "budget_adj           1301 non-null float64\n",
      "dtypes: datetime64[ns](1), float64(4), int64(7), object(4)\n",
      "memory usage: 172.8+ KB\n"
     ]
    }
   ],
   "source": [
    "mdf.info()"
   ]
  },
  {
   "cell_type": "code",
   "execution_count": 25,
   "metadata": {
    "collapsed": false
   },
   "outputs": [
    {
     "data": {
      "text/plain": [
       "45"
      ]
     },
     "execution_count": 25,
     "metadata": {},
     "output_type": "execute_result"
    }
   ],
   "source": [
    "len(mdf.distributor.unique())"
   ]
  },
  {
   "cell_type": "markdown",
   "metadata": {},
   "source": [
    "#### FEATURE ENGINEERING - MARKET SHARES (DISTRIBUTOR AND GENRE)\n",
    "\n",
    "Differences in gross revenues are expected among different distributors and different genres.\n",
    "\n",
    "As can be seen below, there are 45 distinct distributors and 60 distinct genres. However, it is possible to reduce dimensionality by further grouping distributors and genres.\n",
    "\n",
    "To facilitate this, distributors and genres are compared by market share (defined as adjusted gross revenues for the whole sample period).\n",
    "\n",
    "Distributors can be grouped by relative market shares to determine an appropriate grouping (small, medium, large distributors).\n",
    "\n",
    "Genres are first broadly classified, and the broad groups are compared based on market share. "
   ]
  },
  {
   "cell_type": "code",
   "execution_count": 26,
   "metadata": {
    "collapsed": false
   },
   "outputs": [
    {
     "name": "stdout",
     "output_type": "stream",
     "text": [
      "45\n",
      "60\n"
     ]
    }
   ],
   "source": [
    "print(len(mdf.distributor.unique())) # 45 studios\n",
    "print(len(mdf.genre.unique())) # 60 genres"
   ]
  },
  {
   "cell_type": "code",
   "execution_count": 27,
   "metadata": {
    "collapsed": false
   },
   "outputs": [
    {
     "data": {
      "text/plain": [
       "190523.66999999963"
      ]
     },
     "execution_count": 27,
     "metadata": {},
     "output_type": "execute_result"
    }
   ],
   "source": [
    "mdf.gross_adj.sum()"
   ]
  },
  {
   "cell_type": "code",
   "execution_count": 28,
   "metadata": {
    "collapsed": false
   },
   "outputs": [
    {
     "data": {
      "text/plain": [
       "{'Artisan': 0.0012574836501942277,\n",
       " 'Buena Vista': 0.15488245948653023,\n",
       " 'CBS Films': 0.00034831315185142157,\n",
       " 'Columbia': 0.0067322049800951382,\n",
       " 'Dimension Films': 0.0066239391672436431,\n",
       " 'DreamWorks': 0.02872835275532962,\n",
       " 'FilmDistrict': 0.0015838263035768761,\n",
       " 'Focus Features': 0.0037049533005531613,\n",
       " 'Fox': 0.1244002123200758,\n",
       " 'Fox Searchlight': 0.0060878336009378906,\n",
       " 'Freestyle Releasing': 0.00033484238467587846,\n",
       " 'Gramercy': 0.0010218604334044183,\n",
       " 'IFC': 0.001882667387207063,\n",
       " 'Lions Gate': 0.0029678732306594822,\n",
       " 'Lionsgate': 0.014482834600026367,\n",
       " 'Lionsgate/Summit': 0.0053708733408295252,\n",
       " 'MGM': 0.011404292705468061,\n",
       " 'MGM (Weinstein)': 0.00047558290263881742,\n",
       " 'Miramax': 0.015339233702563074,\n",
       " 'New Line': 0.036584873155130863,\n",
       " 'Newmarket': 0.0027101997352874897,\n",
       " 'Open Road Films': 0.0011268573610827483,\n",
       " 'Orion Pictures': 0.0033978717709983292,\n",
       " 'Overture Films': 0.00091543166263803523,\n",
       " 'Paramount': 0.10840654602128987,\n",
       " 'Paramount (DreamWorks)': 0.025052680855874802,\n",
       " 'Paramount Vantage': 0.00025466651991324805,\n",
       " 'PolyGram': 0.00053675010564304261,\n",
       " 'Relativity': 0.0026345377453625626,\n",
       " 'Rogue Pictures': 0.0003329743753099031,\n",
       " 'STX Entertainment': 0.00082363834372915605,\n",
       " 'Sony (Revolution)': 0.011466588377181711,\n",
       " 'Sony / Columbia': 0.10371529532262337,\n",
       " 'Sony / Screen Gems': 0.01088954144122882,\n",
       " 'Sony Classics': 0.001354989120249471,\n",
       " 'Summit Entertainment': 0.0079630908852427792,\n",
       " 'TriStar': 0.011840664207234747,\n",
       " 'USA Films': 0.00065411347576917992,\n",
       " 'United Artists': 0.00050821034467790898,\n",
       " 'Universal': 0.12628327388402738,\n",
       " 'Warner Bros.': 0.13280291682393083,\n",
       " 'Warner Bros. (New Line)': 0.015065984189786,\n",
       " 'Weinstein / Dimension': 0.0014918209375244587,\n",
       " 'Weinstein Company': 0.0052802168885367467,\n",
       " 'Yari Film Group': 0.00027662704586784462}"
      ]
     },
     "execution_count": 28,
     "metadata": {},
     "output_type": "execute_result"
    }
   ],
   "source": [
    "dict(mdf.groupby('distributor').gross_adj.sum().sort_values(ascending=False)/mdf.gross_adj.sum())"
   ]
  },
  {
   "cell_type": "code",
   "execution_count": 29,
   "metadata": {
    "collapsed": false
   },
   "outputs": [],
   "source": [
    "# mdf.groupby('distributor').gross_adj.sum().sort_values(ascending=False)/mdf.gross_adj.sum()"
   ]
  },
  {
   "cell_type": "code",
   "execution_count": 30,
   "metadata": {
    "collapsed": true
   },
   "outputs": [],
   "source": [
    "def dist_dollar_share(distributor):\n",
    "    dollar_dict = dict(mdf.groupby('distributor').gross_adj.sum().sort_values(ascending=False)/mdf.gross_adj.sum())\n",
    "    return dollar_dict.get(distributor)*100"
   ]
  },
  {
   "cell_type": "code",
   "execution_count": 31,
   "metadata": {
    "collapsed": false
   },
   "outputs": [
    {
     "data": {
      "text/plain": [
       "12.628327388402738"
      ]
     },
     "execution_count": 31,
     "metadata": {},
     "output_type": "execute_result"
    }
   ],
   "source": [
    "dist_dollar_share('Universal')"
   ]
  },
  {
   "cell_type": "code",
   "execution_count": 32,
   "metadata": {
    "collapsed": true
   },
   "outputs": [],
   "source": [
    "# # function to compute distributor's market share (dollar)\n",
    "# def dist_dollar_share(distributor):\n",
    "#     dollarshare_dict = (mdf.groupby('distributor')['distributor'].count()/len(mdf)).to_dict()\n",
    "#     return countshare_dict.get(distributor)*100"
   ]
  },
  {
   "cell_type": "code",
   "execution_count": 33,
   "metadata": {
    "collapsed": false
   },
   "outputs": [],
   "source": [
    "# construct a variable for distributor market share\n",
    "mdf['dist_mktshare'] = mdf.distributor.map(dist_dollar_share)"
   ]
  },
  {
   "cell_type": "code",
   "execution_count": 34,
   "metadata": {
    "collapsed": false
   },
   "outputs": [
    {
     "name": "stderr",
     "output_type": "stream",
     "text": [
      "/Users/rol-mbp/anaconda/lib/python3.5/site-packages/statsmodels/nonparametric/kdetools.py:20: VisibleDeprecationWarning: using a non-integer number instead of an integer will result in an error in the future\n",
      "  y = X[:m/2+1] + np.r_[0,X[m/2+1:],0]*1j\n"
     ]
    },
    {
     "data": {
      "image/png": "[encoded data removed]",
      "text/plain": [
       "<matplotlib.figure.Figure at 0x11f4542e8>"
      ]
     },
     "metadata": {},
     "output_type": "display_data"
    }
   ],
   "source": [
    "sns.distplot(mdf.dist_mktshare);"
   ]
  },
  {
   "cell_type": "markdown",
   "metadata": {},
   "source": [
    "There are at least 2 distinct groups of distributors based on market share.\n",
    "\n",
    "The first group is one with relatively smaller market share (less than 7%), whilst the second group has considerably larger market share.\n",
    "\n",
    "From this, two indicator variables are created:\n",
    "- `lg_dist` (market share > 8%)\n",
    "- `sm_dist` (market share < 8%)\n"
   ]
  },
  {
   "cell_type": "code",
   "execution_count": 35,
   "metadata": {
    "collapsed": false
   },
   "outputs": [],
   "source": [
    "# initialise variables\n",
    "mdf['lg_dist'] = 0\n",
    "mdf['sm_dist'] = 0\n",
    "\n",
    "# assign values\n",
    "mdf['lg_dist'] = mdf.dist_mktshare.map(lambda x: 1 if (x > 8.0) else 0)\n",
    "mdf['sm_dist'] = mdf.dist_mktshare.map(lambda x: 1 if (x < 8.0) else 0)"
   ]
  },
  {
   "cell_type": "code",
   "execution_count": 36,
   "metadata": {
    "collapsed": false
   },
   "outputs": [],
   "source": [
    "mdf[mdf.lg_dist == 1].count(); # 924 large distributors\n",
    "mdf[mdf.sm_dist == 1].count(); # 377 large distributors"
   ]
  },
  {
   "cell_type": "code",
   "execution_count": 37,
   "metadata": {
    "collapsed": false
   },
   "outputs": [
    {
     "data": {
      "text/plain": [
       "gross_adj            1.000000\n",
       "budget_adj           0.485022\n",
       "production_budget    0.433083\n",
       "runtime_mins         0.288056\n",
       "summer               0.255784\n",
       "inf_adj              0.234022\n",
       "dist_mktshare        0.157432\n",
       "lg_dist              0.117080\n",
       "holiday              0.078535\n",
       "month                0.066616\n",
       "day                 -0.039630\n",
       "sm_dist             -0.117080\n",
       "year                -0.219817\n",
       "offseason           -0.308781\n",
       "Name: gross_adj, dtype: float64"
      ]
     },
     "execution_count": 37,
     "metadata": {},
     "output_type": "execute_result"
    }
   ],
   "source": [
    "mdf.corr()['gross_adj'].sort_values(ascending=False)"
   ]
  },
  {
   "cell_type": "code",
   "execution_count": 38,
   "metadata": {
    "collapsed": false
   },
   "outputs": [
    {
     "data": {
      "text/plain": [
       "<matplotlib.collections.PathCollection at 0x11fe50dd8>"
      ]
     },
     "execution_count": 38,
     "metadata": {},
     "output_type": "execute_result"
    },
    {
     "data": {
      "image/png": "[encoded data removed]",
      "text/plain": [
       "<matplotlib.figure.Figure at 0x11fd92c88>"
      ]
     },
     "metadata": {},
     "output_type": "display_data"
    }
   ],
   "source": [
    "plt.scatter(mdf.runtime_mins,mdf.gross_adj)"
   ]
  },
  {
   "cell_type": "code",
   "execution_count": 39,
   "metadata": {
    "collapsed": false
   },
   "outputs": [
    {
     "data": {
      "text/plain": [
       "<matplotlib.collections.PathCollection at 0x12021e2e8>"
      ]
     },
     "execution_count": 39,
     "metadata": {},
     "output_type": "execute_result"
    },
    {
     "data": {
      "image/png": "[encoded data removed]",
      "text/plain": [
       "<matplotlib.figure.Figure at 0x11fe9cac8>"
      ]
     },
     "metadata": {},
     "output_type": "display_data"
    }
   ],
   "source": [
    "plt.scatter(np.log(mdf.runtime_mins),np.log(mdf.gross_adj))"
   ]
  },
  {
   "cell_type": "code",
   "execution_count": 40,
   "metadata": {
    "collapsed": false
   },
   "outputs": [
    {
     "name": "stdout",
     "output_type": "stream",
     "text": [
      "<class 'pandas.core.frame.DataFrame'>\n",
      "Int64Index: 1301 entries, 0 to 1999\n",
      "Data columns (total 19 columns):\n",
      "distributor          1301 non-null object\n",
      "gross_adj            1301 non-null float64\n",
      "genre                1301 non-null object\n",
      "mpaa_rating          1301 non-null object\n",
      "production_budget    1301 non-null float64\n",
      "release_date         1301 non-null datetime64[ns]\n",
      "runtime_mins         1301 non-null int64\n",
      "title                1301 non-null object\n",
      "year                 1301 non-null int64\n",
      "month                1301 non-null int64\n",
      "day                  1301 non-null int64\n",
      "summer               1301 non-null int64\n",
      "holiday              1301 non-null int64\n",
      "offseason            1301 non-null int64\n",
      "inf_adj              1301 non-null float64\n",
      "budget_adj           1301 non-null float64\n",
      "dist_mktshare        1301 non-null float64\n",
      "lg_dist              1301 non-null int64\n",
      "sm_dist              1301 non-null int64\n",
      "dtypes: datetime64[ns](1), float64(5), int64(9), object(4)\n",
      "memory usage: 203.3+ KB\n"
     ]
    }
   ],
   "source": [
    "mdf.info()"
   ]
  },
  {
   "cell_type": "code",
   "execution_count": null,
   "metadata": {
    "collapsed": true
   },
   "outputs": [],
   "source": []
  },
  {
   "cell_type": "code",
   "execution_count": 43,
   "metadata": {
    "collapsed": false
   },
   "outputs": [
    {
     "data": {
      "text/plain": [
       "{'Action': 0.049915541727702489,\n",
       " 'Action / Adventure': 0.080484983834292242,\n",
       " 'Action / Crime': 0.0023562872791606459,\n",
       " 'Action Comedy': 0.028278348826683904,\n",
       " 'Action Drama': 0.013083698734125819,\n",
       " 'Action Fantasy': 0.00071229312347384586,\n",
       " 'Action Horror': 0.0087472039563378338,\n",
       " 'Action Thriller': 0.027614455463722754,\n",
       " 'Adventure': 0.012561732618314586,\n",
       " 'Adventure Comedy': 0.00083008058788706051,\n",
       " 'Animation': 0.11950663138076256,\n",
       " 'Comedy': 0.10312765600200771,\n",
       " 'Comedy / Drama': 0.01886097617162218,\n",
       " 'Concert': 0.00032199411233260473,\n",
       " 'Crime': 0.0046512378225760697,\n",
       " 'Crime Comedy': 0.0069150237343213183,\n",
       " 'Crime Drama': 0.0098090326519534501,\n",
       " 'Crime Thriller': 0.0011776898901853005,\n",
       " 'Documentary': 0.0012946711555577345,\n",
       " 'Drama': 0.028499330818055387,\n",
       " 'Drama / Thriller': 0.010849235688143126,\n",
       " 'Family': 0.0029565077137134778,\n",
       " 'Family Adventure': 0.023737676268780716,\n",
       " 'Family Comedy': 0.032986245750987318,\n",
       " 'Fantasy': 0.033598525579525168,\n",
       " 'Fantasy Comedy': 0.0086017595608986683,\n",
       " 'Fantasy Drama': 0.00546850110540072,\n",
       " 'Foreign / Action': 0.0014252780245100284,\n",
       " 'Historical Drama': 0.0045251259331714616,\n",
       " 'Historical Epic': 0.0036834184434931436,\n",
       " 'Horror': 0.034910748360033231,\n",
       " 'Horror Comedy': 0.0080523065716716601,\n",
       " 'Horror Thriller': 0.00098762794145210598,\n",
       " 'IMAX': 0.00050961436970010173,\n",
       " 'Music Drama': 0.0050719960412268046,\n",
       " 'Musical': 0.0074787615628021603,\n",
       " 'Period Action': 0.0040708558679349478,\n",
       " 'Period Adventure': 0.02253287741098,\n",
       " 'Period Comedy': 0.00090151423180122629,\n",
       " 'Period Drama': 0.0086765450193144154,\n",
       " 'Period Horror': 0.005742041920565575,\n",
       " 'Romance': 0.024100832720679834,\n",
       " 'Romantic Adventure': 0.00044460407465382205,\n",
       " 'Romantic Comedy': 0.041839353608924386,\n",
       " 'Romantic Thriller': 0.0029877825679087595,\n",
       " 'Sci-Fi': 0.0072229482037586331,\n",
       " 'Sci-Fi Action': 0.03887059124989569,\n",
       " 'Sci-Fi Adventure': 0.010796072739938316,\n",
       " 'Sci-Fi Comedy': 0.0060829433949073225,\n",
       " 'Sci-Fi Fantasy': 0.014495699668182987,\n",
       " 'Sci-Fi Horror': 0.019262933576704704,\n",
       " 'Sci-Fi Thriller': 0.0066395130851720548,\n",
       " 'Sports Comedy': 0.008779856067227778,\n",
       " 'Sports Drama': 0.013100162830161757,\n",
       " 'Thriller': 0.035136081516800588,\n",
       " 'War': 0.010670184969668093,\n",
       " 'War Drama': 0.0031048709065912977,\n",
       " 'War Romance': 0.0015279817987969716,\n",
       " 'Western': 0.0072315271902961076,\n",
       " 'Western Comedy': 0.0021900265725513309}"
      ]
     },
     "execution_count": 43,
     "metadata": {},
     "output_type": "execute_result"
    }
   ],
   "source": [
    "dict(mdf.groupby('genre').gross_adj.sum().sort_values(ascending=False)/mdf.gross_adj.sum())"
   ]
  },
  {
   "cell_type": "code",
   "execution_count": 99,
   "metadata": {
    "collapsed": true
   },
   "outputs": [],
   "source": [
    "# function to compute market share of major genre\n",
    "def g_dollar_share(genre):\n",
    "    dollar_dict = dict(mdf.groupby('genre').gross_adj.sum().sort_values(ascending=False)/mdf.gross_adj.sum())\n",
    "    return dollar_dict.get(genre)*100"
   ]
  },
  {
   "cell_type": "code",
   "execution_count": 100,
   "metadata": {
    "collapsed": false
   },
   "outputs": [
    {
     "data": {
      "text/plain": [
       "8.0484983834292247"
      ]
     },
     "execution_count": 100,
     "metadata": {},
     "output_type": "execute_result"
    }
   ],
   "source": [
    "# test\n",
    "g_dollar_share('Action / Adventure')"
   ]
  },
  {
   "cell_type": "code",
   "execution_count": null,
   "metadata": {
    "collapsed": true
   },
   "outputs": [],
   "source": []
  },
  {
   "cell_type": "markdown",
   "metadata": {},
   "source": [
    "Regroup the 60 `genre` into a smaller space of `major_genre`."
   ]
  },
  {
   "cell_type": "code",
   "execution_count": 44,
   "metadata": {
    "collapsed": false
   },
   "outputs": [],
   "source": [
    "def reduce_genre(genre):\n",
    "    genre_dict = {'Action':'action_adventure',\n",
    "              'Action / Adventure':'action_adventure',\n",
    "              'Action / Crime':'action_adventure',\n",
    "              'Action Comedy':'action_adventure',\n",
    "              'Action Drama':'action_adventure',\n",
    "              'Action Fantasy':'action_adventure',\n",
    "              'Action Horror':'action_adventure',\n",
    "              'Action Thriller':'action_adventure',\n",
    "              'Adventure':'action_adventure',\n",
    "              'Adventure Comedy':'action_adventure',\n",
    "              'Animation':'animation',\n",
    "              'Comedy':'comedy',\n",
    "              'Comedy / Drama':'comedy',\n",
    "              'Crime Comedy':'comedy',\n",
    "              'Fantasy Comedy':'comedy',\n",
    "              'Horror Comedy':'comedy',\n",
    "              'Sports Comedy':'comedy',\n",
    "              'Crime':'crime_thriller',\n",
    "              'Crime Drama':'crime_thriller',\n",
    "              'Crime Thriller':'crime_thriller',\n",
    "              'Thriller':'crime_thriller',\n",
    "              'Drama':'drama',\n",
    "              'Drama / Thriller':'drama',\n",
    "              'Sports Drama':'drama',\n",
    "              'Family':'family',\n",
    "              'Family Adventure':'family',\n",
    "              'Family Comedy':'family',\n",
    "              'Fantasy':'fantasy',\n",
    "              'Fantasy Drama':'fantasy',\n",
    "              'Historical Drama':'historical_period',\n",
    "              'Historical Epic':'historical_period',\n",
    "              'Period Action':'historical_period',\n",
    "              'Period Adventure':'historical_period',\n",
    "              'Period Comedy':'historical_period',\n",
    "              'Period Drama':'historical_period',\n",
    "              'Period Horror':'historical_period',\n",
    "              'Horror':'horror',\n",
    "              'Horror Thriller':'horror',\n",
    "              'Romance':'romantic',\n",
    "              'Romantic Adventure':'romantic',\n",
    "              'Romantic Comedy':'romantic',\n",
    "              'Romantic Thriller':'romantic',\n",
    "              'Sci-Fi':'sci_fi',\n",
    "              'Sci-Fi Action':'sci_fi',\n",
    "              'Sci-Fi Adventure':'sci_fi',\n",
    "              'Sci-Fi Comedy':'sci_fi',\n",
    "              'Sci-Fi Fantasy':'sci_fi',\n",
    "               'Sci-Fi Horror':'sci_fi',\n",
    "              'Sci-Fi Thriller':'sci_fi',\n",
    "              'War':'war',\n",
    "              'War Drama':'war',\n",
    "              'War Romance':'war',\n",
    "              'Western':'western',\n",
    "              'Western Comedy':'western',\n",
    "              'Concert':'other',\n",
    "              'Documentary':'other',\n",
    "              'Foreign / Action':'other',\n",
    "              'IMAX':'other',\n",
    "              'Music Drama':'other',\n",
    "              'Musical':'other'}\n",
    "    return genre_dict.get(genre)"
   ]
  },
  {
   "cell_type": "code",
   "execution_count": 45,
   "metadata": {
    "collapsed": false
   },
   "outputs": [
    {
     "data": {
      "text/plain": [
       "'other'"
      ]
     },
     "execution_count": 45,
     "metadata": {},
     "output_type": "execute_result"
    }
   ],
   "source": [
    "# test function\n",
    "reduce_genre('IMAX')"
   ]
  },
  {
   "cell_type": "code",
   "execution_count": 46,
   "metadata": {
    "collapsed": false
   },
   "outputs": [],
   "source": [
    "mdf['major_genre'] =  mdf.genre.map(reduce_genre)"
   ]
  },
  {
   "cell_type": "code",
   "execution_count": 47,
   "metadata": {
    "collapsed": false
   },
   "outputs": [
    {
     "data": {
      "text/plain": [
       "array(['sci_fi', 'romantic', 'action_adventure', 'animation',\n",
       "       'historical_period', 'fantasy', 'drama', 'family', 'comedy',\n",
       "       'horror', 'crime_thriller', 'war', 'western', 'other'], dtype=object)"
      ]
     },
     "execution_count": 47,
     "metadata": {},
     "output_type": "execute_result"
    }
   ],
   "source": [
    "mdf.major_genre.unique()"
   ]
  },
  {
   "cell_type": "code",
   "execution_count": 48,
   "metadata": {
    "collapsed": false
   },
   "outputs": [
    {
     "name": "stdout",
     "output_type": "stream",
     "text": [
      "<class 'pandas.core.frame.DataFrame'>\n",
      "Int64Index: 1301 entries, 0 to 1999\n",
      "Data columns (total 20 columns):\n",
      "distributor          1301 non-null object\n",
      "gross_adj            1301 non-null float64\n",
      "genre                1301 non-null object\n",
      "mpaa_rating          1301 non-null object\n",
      "production_budget    1301 non-null float64\n",
      "release_date         1301 non-null datetime64[ns]\n",
      "runtime_mins         1301 non-null int64\n",
      "title                1301 non-null object\n",
      "year                 1301 non-null int64\n",
      "month                1301 non-null int64\n",
      "day                  1301 non-null int64\n",
      "summer               1301 non-null int64\n",
      "holiday              1301 non-null int64\n",
      "offseason            1301 non-null int64\n",
      "inf_adj              1301 non-null float64\n",
      "budget_adj           1301 non-null float64\n",
      "dist_mktshare        1301 non-null float64\n",
      "lg_dist              1301 non-null int64\n",
      "sm_dist              1301 non-null int64\n",
      "major_genre          1301 non-null object\n",
      "dtypes: datetime64[ns](1), float64(5), int64(9), object(5)\n",
      "memory usage: 213.4+ KB\n"
     ]
    }
   ],
   "source": [
    "mdf.info()"
   ]
  },
  {
   "cell_type": "markdown",
   "metadata": {},
   "source": [
    "With a narrower `major_genre` grouping, a variable for mg_mktshare is constructed."
   ]
  },
  {
   "cell_type": "code",
   "execution_count": 49,
   "metadata": {
    "collapsed": true
   },
   "outputs": [],
   "source": [
    "# function to compute market share of major genre\n",
    "def mg_dollar_share(major_genre):\n",
    "    dollar_dict = dict(mdf.groupby('major_genre').gross_adj.sum().sort_values(ascending=False)/mdf.gross_adj.sum())\n",
    "    return dollar_dict.get(major_genre)*100"
   ]
  },
  {
   "cell_type": "code",
   "execution_count": 50,
   "metadata": {
    "collapsed": false
   },
   "outputs": [],
   "source": [
    "mdf['mg_mktshare'] = mdf.major_genre.map(mg_dollar_share)"
   ]
  },
  {
   "cell_type": "code",
   "execution_count": 51,
   "metadata": {
    "collapsed": false
   },
   "outputs": [
    {
     "data": {
      "text/plain": [
       "count    1301.000000\n",
       "mean       11.340233\n",
       "std         6.916203\n",
       "min         0.942155\n",
       "25%         5.244873\n",
       "50%        10.337070\n",
       "75%        15.433758\n",
       "max        22.458463\n",
       "Name: mg_mktshare, dtype: float64"
      ]
     },
     "execution_count": 51,
     "metadata": {},
     "output_type": "execute_result"
    }
   ],
   "source": [
    "mdf.mg_mktshare.describe()"
   ]
  },
  {
   "cell_type": "code",
   "execution_count": 52,
   "metadata": {
    "collapsed": false
   },
   "outputs": [
    {
     "name": "stderr",
     "output_type": "stream",
     "text": [
      "/Users/rol-mbp/anaconda/lib/python3.5/site-packages/statsmodels/nonparametric/kdetools.py:20: VisibleDeprecationWarning: using a non-integer number instead of an integer will result in an error in the future\n",
      "  y = X[:m/2+1] + np.r_[0,X[m/2+1:],0]*1j\n"
     ]
    },
    {
     "data": {
      "image/png": "[encoded data removed]",
      "text/plain": [
       "<matplotlib.figure.Figure at 0x11f839630>"
      ]
     },
     "metadata": {},
     "output_type": "display_data"
    }
   ],
   "source": [
    "sns.distplot(mdf.mg_mktshare);"
   ]
  },
  {
   "cell_type": "code",
   "execution_count": 53,
   "metadata": {
    "collapsed": false
   },
   "outputs": [
    {
     "data": {
      "text/plain": [
       "major_genre\n",
       "action_adventure     0.224585\n",
       "comedy               0.154338\n",
       "animation            0.119507\n",
       "sci_fi               0.103371\n",
       "romantic             0.069373\n",
       "family               0.059680\n",
       "drama                0.052449\n",
       "crime_thriller       0.050774\n",
       "historical_period    0.050132\n",
       "fantasy              0.039067\n",
       "horror               0.035898\n",
       "other                0.016102\n",
       "war                  0.015303\n",
       "western              0.009422\n",
       "Name: gross_adj, dtype: float64"
      ]
     },
     "execution_count": 53,
     "metadata": {},
     "output_type": "execute_result"
    }
   ],
   "source": [
    "mdf.groupby('major_genre').gross_adj.sum().sort_values(ascending=False)/mdf.gross_adj.sum()"
   ]
  },
  {
   "cell_type": "markdown",
   "metadata": {},
   "source": [
    "Looking at the distribution of market shares for major genres, it is much harder to delineate a separation of groups.\n",
    "\n",
    "This is because there are only a few genres that tend to always do well - Action/Adventure, Comedy, Animation, and Sci-Fi seem to be the major genres that account for 60% of gross revenues.\n",
    "\n",
    "Apart from comedy, all these genres are generally known to be expensive to produce, based on the required special effects.\n",
    "\n",
    "\n",
    "It may be useful to lump together all the other genres except for the top four into one category called `specialty_genre`, an indicator variable which equals 1 when the major_genre's market share is less than 10% (i.e. those other than `action_adventure`, `comedy`, `animation`, or `sci_fi`)."
   ]
  },
  {
   "cell_type": "code",
   "execution_count": 54,
   "metadata": {
    "collapsed": true
   },
   "outputs": [],
   "source": [
    "# construct indicator for `specialty_genre`\n",
    "mdf['specialty_genre'] = 0 # initialise variable\n",
    "mdf['specialty_genre'] = mdf.mg_mktshare.map(lambda x: 1 if x < 10 else 0)"
   ]
  },
  {
   "cell_type": "code",
   "execution_count": 55,
   "metadata": {
    "collapsed": false
   },
   "outputs": [
    {
     "name": "stdout",
     "output_type": "stream",
     "text": [
      "<class 'pandas.core.frame.DataFrame'>\n",
      "Int64Index: 1301 entries, 0 to 1999\n",
      "Data columns (total 22 columns):\n",
      "distributor          1301 non-null object\n",
      "gross_adj            1301 non-null float64\n",
      "genre                1301 non-null object\n",
      "mpaa_rating          1301 non-null object\n",
      "production_budget    1301 non-null float64\n",
      "release_date         1301 non-null datetime64[ns]\n",
      "runtime_mins         1301 non-null int64\n",
      "title                1301 non-null object\n",
      "year                 1301 non-null int64\n",
      "month                1301 non-null int64\n",
      "day                  1301 non-null int64\n",
      "summer               1301 non-null int64\n",
      "holiday              1301 non-null int64\n",
      "offseason            1301 non-null int64\n",
      "inf_adj              1301 non-null float64\n",
      "budget_adj           1301 non-null float64\n",
      "dist_mktshare        1301 non-null float64\n",
      "lg_dist              1301 non-null int64\n",
      "sm_dist              1301 non-null int64\n",
      "major_genre          1301 non-null object\n",
      "mg_mktshare          1301 non-null float64\n",
      "specialty_genre      1301 non-null int64\n",
      "dtypes: datetime64[ns](1), float64(6), int64(10), object(5)\n",
      "memory usage: 233.8+ KB\n"
     ]
    }
   ],
   "source": [
    "mdf.info()"
   ]
  },
  {
   "cell_type": "markdown",
   "metadata": {},
   "source": [
    "#### FEATURE ENGINEERING - RECODING MPAA RATINGS\n",
    "\n",
    "MPAA ratings can be recoded to reflect the level of restriction numerically.\n",
    "\n",
    "G = 1, PG = 2, PG-13 = 3, R = 4\n"
   ]
  },
  {
   "cell_type": "code",
   "execution_count": 56,
   "metadata": {
    "collapsed": true
   },
   "outputs": [],
   "source": [
    "# function to map\n",
    "def recode_mpaa(rtg):\n",
    "    rtg_dict = {'G':1,'PG':2,'PG-13':3,'R':4}\n",
    "    return rtg_dict.get(rtg)"
   ]
  },
  {
   "cell_type": "code",
   "execution_count": 57,
   "metadata": {
    "collapsed": false
   },
   "outputs": [
    {
     "data": {
      "text/plain": [
       "4"
      ]
     },
     "execution_count": 57,
     "metadata": {},
     "output_type": "execute_result"
    }
   ],
   "source": [
    "# test function\n",
    "recode_mpaa('R')"
   ]
  },
  {
   "cell_type": "code",
   "execution_count": 58,
   "metadata": {
    "collapsed": true
   },
   "outputs": [],
   "source": [
    "mdf['rtg_restrict'] = mdf.mpaa_rating.map(recode_mpaa)"
   ]
  },
  {
   "cell_type": "code",
   "execution_count": 59,
   "metadata": {
    "collapsed": false
   },
   "outputs": [
    {
     "name": "stdout",
     "output_type": "stream",
     "text": [
      "<class 'pandas.core.frame.DataFrame'>\n",
      "Int64Index: 1301 entries, 0 to 1999\n",
      "Data columns (total 23 columns):\n",
      "distributor          1301 non-null object\n",
      "gross_adj            1301 non-null float64\n",
      "genre                1301 non-null object\n",
      "mpaa_rating          1301 non-null object\n",
      "production_budget    1301 non-null float64\n",
      "release_date         1301 non-null datetime64[ns]\n",
      "runtime_mins         1301 non-null int64\n",
      "title                1301 non-null object\n",
      "year                 1301 non-null int64\n",
      "month                1301 non-null int64\n",
      "day                  1301 non-null int64\n",
      "summer               1301 non-null int64\n",
      "holiday              1301 non-null int64\n",
      "offseason            1301 non-null int64\n",
      "inf_adj              1301 non-null float64\n",
      "budget_adj           1301 non-null float64\n",
      "dist_mktshare        1301 non-null float64\n",
      "lg_dist              1301 non-null int64\n",
      "sm_dist              1301 non-null int64\n",
      "major_genre          1301 non-null object\n",
      "mg_mktshare          1301 non-null float64\n",
      "specialty_genre      1301 non-null int64\n",
      "rtg_restrict         1301 non-null int64\n",
      "dtypes: datetime64[ns](1), float64(6), int64(11), object(5)\n",
      "memory usage: 243.9+ KB\n"
     ]
    }
   ],
   "source": [
    "mdf.info()"
   ]
  },
  {
   "cell_type": "code",
   "execution_count": 60,
   "metadata": {
    "collapsed": false
   },
   "outputs": [
    {
     "data": {
      "text/plain": [
       "gross_adj            1.000000\n",
       "budget_adj           0.485022\n",
       "production_budget    0.433083\n",
       "offseason            0.308781\n",
       "runtime_mins         0.288056\n",
       "summer               0.255784\n",
       "inf_adj              0.234022\n",
       "year                 0.219817\n",
       "rtg_restrict         0.159000\n",
       "dist_mktshare        0.157432\n",
       "specialty_genre      0.142480\n",
       "lg_dist              0.117080\n",
       "sm_dist              0.117080\n",
       "mg_mktshare          0.103731\n",
       "holiday              0.078535\n",
       "month                0.066616\n",
       "day                  0.039630\n",
       "Name: gross_adj, dtype: float64"
      ]
     },
     "execution_count": 60,
     "metadata": {},
     "output_type": "execute_result"
    }
   ],
   "source": [
    "mdf.corr()['gross_adj'].abs().sort_values(ascending = False)"
   ]
  },
  {
   "cell_type": "code",
   "execution_count": 61,
   "metadata": {
    "collapsed": false
   },
   "outputs": [
    {
     "data": {
      "text/plain": [
       "gross_adj            1.000000\n",
       "budget_adj           0.485022\n",
       "production_budget    0.433083\n",
       "runtime_mins         0.288056\n",
       "summer               0.255784\n",
       "inf_adj              0.234022\n",
       "dist_mktshare        0.157432\n",
       "lg_dist              0.117080\n",
       "mg_mktshare          0.103731\n",
       "holiday              0.078535\n",
       "month                0.066616\n",
       "day                 -0.039630\n",
       "sm_dist             -0.117080\n",
       "specialty_genre     -0.142480\n",
       "rtg_restrict        -0.159000\n",
       "year                -0.219817\n",
       "offseason           -0.308781\n",
       "Name: gross_adj, dtype: float64"
      ]
     },
     "execution_count": 61,
     "metadata": {},
     "output_type": "execute_result"
    }
   ],
   "source": [
    "mdf.corr()['gross_adj'].sort_values(ascending=False)"
   ]
  },
  {
   "cell_type": "code",
   "execution_count": 62,
   "metadata": {
    "collapsed": false
   },
   "outputs": [
    {
     "data": {
      "text/html": [
       "<div>\n",
       "<table border=\"1\" class=\"dataframe\">\n",
       "  <thead>\n",
       "    <tr style=\"text-align: right;\">\n",
       "      <th></th>\n",
       "      <th>gross_adj</th>\n",
       "      <th>specialty_genre</th>\n",
       "    </tr>\n",
       "  </thead>\n",
       "  <tbody>\n",
       "    <tr>\n",
       "      <th>gross_adj</th>\n",
       "      <td>1.00000</td>\n",
       "      <td>-0.14248</td>\n",
       "    </tr>\n",
       "    <tr>\n",
       "      <th>specialty_genre</th>\n",
       "      <td>-0.14248</td>\n",
       "      <td>1.00000</td>\n",
       "    </tr>\n",
       "  </tbody>\n",
       "</table>\n",
       "</div>"
      ],
      "text/plain": [
       "                 gross_adj  specialty_genre\n",
       "gross_adj          1.00000         -0.14248\n",
       "specialty_genre   -0.14248          1.00000"
      ]
     },
     "execution_count": 62,
     "metadata": {},
     "output_type": "execute_result"
    }
   ],
   "source": [
    "mdf[['gross_adj','specialty_genre']].corr()"
   ]
  },
  {
   "cell_type": "code",
   "execution_count": 63,
   "metadata": {
    "collapsed": false
   },
   "outputs": [
    {
     "data": {
      "text/plain": [
       "<matplotlib.collections.PathCollection at 0x1204ddc18>"
      ]
     },
     "execution_count": 63,
     "metadata": {},
     "output_type": "execute_result"
    },
    {
     "data": {
      "image/png": "[encoded data removed]",
      "text/plain": [
       "<matplotlib.figure.Figure at 0x1203bce10>"
      ]
     },
     "metadata": {},
     "output_type": "display_data"
    }
   ],
   "source": [
    "plt.scatter(np.log(mdf.gross_adj), (mdf.specialty_genre))"
   ]
  },
  {
   "cell_type": "code",
   "execution_count": 64,
   "metadata": {
    "collapsed": false
   },
   "outputs": [
    {
     "data": {
      "text/plain": [
       "<matplotlib.text.Text at 0x12050ccc0>"
      ]
     },
     "execution_count": 64,
     "metadata": {},
     "output_type": "execute_result"
    },
    {
     "data": {
      "image/png": "[encoded data removed]",
      "text/plain": [
       "<matplotlib.figure.Figure at 0x1204fe390>"
      ]
     },
     "metadata": {},
     "output_type": "display_data"
    }
   ],
   "source": [
    "fig, ax = plt.subplots(1,1, figsize = (20, 10))\n",
    "# ax.set_title('Domestic Adjusted Gross (2016 prices) by Month')\n",
    "sns.boxplot(x = mdf.mg_mktshare.sort_values(),y = np.log(mdf.gross_adj))\n",
    "# ax.set_xlabel('Month')\n",
    "ax.set_ylabel('Domestic Adjusted Gross')"
   ]
  },
  {
   "cell_type": "code",
   "execution_count": 65,
   "metadata": {
    "collapsed": false
   },
   "outputs": [],
   "source": [
    "major_genre_dummies = pd.get_dummies(mdf.major_genre, prefix = 'mg')"
   ]
  },
  {
   "cell_type": "code",
   "execution_count": 66,
   "metadata": {
    "collapsed": true
   },
   "outputs": [],
   "source": [
    "mdf2 = pd.concat([mdf,major_genre_dummies], axis = 1)"
   ]
  },
  {
   "cell_type": "code",
   "execution_count": 67,
   "metadata": {
    "collapsed": false
   },
   "outputs": [
    {
     "data": {
      "text/plain": [
       "gross_adj               1.000000\n",
       "budget_adj              0.485022\n",
       "production_budget       0.433083\n",
       "offseason               0.308781\n",
       "runtime_mins            0.288056\n",
       "summer                  0.255784\n",
       "inf_adj                 0.234022\n",
       "year                    0.219817\n",
       "rtg_restrict            0.159000\n",
       "dist_mktshare           0.157432\n",
       "mg_sci_fi               0.149252\n",
       "specialty_genre         0.142480\n",
       "mg_animation            0.128294\n",
       "mg_horror               0.123086\n",
       "lg_dist                 0.117080\n",
       "sm_dist                 0.117080\n",
       "mg_drama                0.107674\n",
       "mg_comedy               0.104929\n",
       "mg_mktshare             0.103731\n",
       "mg_crime_thriller       0.095662\n",
       "mg_action_adventure     0.089597\n",
       "holiday                 0.078535\n",
       "mg_fantasy              0.077225\n",
       "month                   0.066616\n",
       "mg_other                0.061138\n",
       "mg_historical_period    0.051506\n",
       "day                     0.039630\n",
       "mg_western              0.017123\n",
       "mg_family               0.009942\n",
       "mg_romantic             0.001014\n",
       "mg_war                  0.000748\n",
       "Name: gross_adj, dtype: float64"
      ]
     },
     "execution_count": 67,
     "metadata": {},
     "output_type": "execute_result"
    }
   ],
   "source": [
    "mdf2.corr()['gross_adj'].abs().sort_values(ascending=False)"
   ]
  },
  {
   "cell_type": "code",
   "execution_count": 68,
   "metadata": {
    "collapsed": false
   },
   "outputs": [
    {
     "data": {
      "text/plain": [
       "gross_adj            1.000000\n",
       "budget_adj           0.485022\n",
       "production_budget    0.433083\n",
       "offseason            0.308781\n",
       "runtime_mins         0.288056\n",
       "summer               0.255784\n",
       "inf_adj              0.234022\n",
       "year                 0.219817\n",
       "rtg_restrict         0.159000\n",
       "dist_mktshare        0.157432\n",
       "specialty_genre      0.142480\n",
       "lg_dist              0.117080\n",
       "sm_dist              0.117080\n",
       "mg_mktshare          0.103731\n",
       "holiday              0.078535\n",
       "month                0.066616\n",
       "day                  0.039630\n",
       "Name: gross_adj, dtype: float64"
      ]
     },
     "execution_count": 68,
     "metadata": {},
     "output_type": "execute_result"
    }
   ],
   "source": [
    "mdf.corr()['gross_adj'].abs().sort_values(ascending=False)"
   ]
  },
  {
   "cell_type": "code",
   "execution_count": 69,
   "metadata": {
    "collapsed": false
   },
   "outputs": [
    {
     "name": "stdout",
     "output_type": "stream",
     "text": [
      "<class 'pandas.core.frame.DataFrame'>\n",
      "Int64Index: 1301 entries, 0 to 1999\n",
      "Data columns (total 23 columns):\n",
      "distributor          1301 non-null object\n",
      "gross_adj            1301 non-null float64\n",
      "genre                1301 non-null object\n",
      "mpaa_rating          1301 non-null object\n",
      "production_budget    1301 non-null float64\n",
      "release_date         1301 non-null datetime64[ns]\n",
      "runtime_mins         1301 non-null int64\n",
      "title                1301 non-null object\n",
      "year                 1301 non-null int64\n",
      "month                1301 non-null int64\n",
      "day                  1301 non-null int64\n",
      "summer               1301 non-null int64\n",
      "holiday              1301 non-null int64\n",
      "offseason            1301 non-null int64\n",
      "inf_adj              1301 non-null float64\n",
      "budget_adj           1301 non-null float64\n",
      "dist_mktshare        1301 non-null float64\n",
      "lg_dist              1301 non-null int64\n",
      "sm_dist              1301 non-null int64\n",
      "major_genre          1301 non-null object\n",
      "mg_mktshare          1301 non-null float64\n",
      "specialty_genre      1301 non-null int64\n",
      "rtg_restrict         1301 non-null int64\n",
      "dtypes: datetime64[ns](1), float64(6), int64(11), object(5)\n",
      "memory usage: 243.9+ KB\n"
     ]
    }
   ],
   "source": [
    "mdf.info()"
   ]
  },
  {
   "cell_type": "code",
   "execution_count": 70,
   "metadata": {
    "collapsed": false
   },
   "outputs": [],
   "source": [
    "# try fitting a model with mdf\n",
    "\n",
    "# reference levels (to exclude)\n",
    "# - summer (seasonality)\n",
    "# - lg_dist (dist mktshare)\n",
    "\n",
    "subcols1 = ['gross_adj','budget_adj','runtime_mins','year','rtg_restrict',\n",
    "            'specialty_genre','dist_mktshare','lg_dist','sm_dist',\n",
    "            'offseason','summer','holiday']\n",
    "\n",
    "df1 = mdf[subcols1]\n",
    "\n",
    "y,X = patsy.dmatrices('''np.log(gross_adj) ~ \n",
    "budget_adj + runtime_mins + year + rtg_restrict + sm_dist + \n",
    "specialty_genre + offseason + holiday''', \n",
    "                      data = df1,\n",
    "                     return_type = 'dataframe')"
   ]
  },
  {
   "cell_type": "code",
   "execution_count": 71,
   "metadata": {
    "collapsed": true
   },
   "outputs": [],
   "source": [
    "# split\n",
    "X_train, X_test, y_train, y_test = train_test_split(X,y,test_size = 0.3)"
   ]
  },
  {
   "cell_type": "code",
   "execution_count": 72,
   "metadata": {
    "collapsed": false
   },
   "outputs": [
    {
     "data": {
      "text/html": [
       "<table class=\"simpletable\">\n",
       "<caption>OLS Regression Results</caption>\n",
       "<tr>\n",
       "  <th>Dep. Variable:</th>    <td>np.log(gross_adj)</td> <th>  R-squared:         </th> <td>   0.353</td>\n",
       "</tr>\n",
       "<tr>\n",
       "  <th>Model:</th>                   <td>OLS</td>        <th>  Adj. R-squared:    </th> <td>   0.347</td>\n",
       "</tr>\n",
       "<tr>\n",
       "  <th>Method:</th>             <td>Least Squares</td>   <th>  F-statistic:       </th> <td>   61.40</td>\n",
       "</tr>\n",
       "<tr>\n",
       "  <th>Date:</th>             <td>Fri, 07 Oct 2016</td>  <th>  Prob (F-statistic):</th> <td>4.98e-80</td>\n",
       "</tr>\n",
       "<tr>\n",
       "  <th>Time:</th>                 <td>06:35:37</td>      <th>  Log-Likelihood:    </th> <td> -634.05</td>\n",
       "</tr>\n",
       "<tr>\n",
       "  <th>No. Observations:</th>      <td>   910</td>       <th>  AIC:               </th> <td>   1286.</td>\n",
       "</tr>\n",
       "<tr>\n",
       "  <th>Df Residuals:</th>          <td>   901</td>       <th>  BIC:               </th> <td>   1329.</td>\n",
       "</tr>\n",
       "<tr>\n",
       "  <th>Df Model:</th>              <td>     8</td>       <th>                     </th>     <td> </td>   \n",
       "</tr>\n",
       "<tr>\n",
       "  <th>Covariance Type:</th>      <td>nonrobust</td>     <th>                     </th>     <td> </td>   \n",
       "</tr>\n",
       "</table>\n",
       "<table class=\"simpletable\">\n",
       "<tr>\n",
       "         <td></td>            <th>coef</th>     <th>std err</th>      <th>t</th>      <th>P>|t|</th> <th>[95.0% Conf. Int.]</th> \n",
       "</tr>\n",
       "<tr>\n",
       "  <th>Intercept</th>       <td>   53.6202</td> <td>    5.092</td> <td>   10.530</td> <td> 0.000</td> <td>   43.627    63.614</td>\n",
       "</tr>\n",
       "<tr>\n",
       "  <th>budget_adj</th>      <td>    0.0036</td> <td>    0.000</td> <td>   10.500</td> <td> 0.000</td> <td>    0.003     0.004</td>\n",
       "</tr>\n",
       "<tr>\n",
       "  <th>runtime_mins</th>    <td>    0.0050</td> <td>    0.001</td> <td>    4.986</td> <td> 0.000</td> <td>    0.003     0.007</td>\n",
       "</tr>\n",
       "<tr>\n",
       "  <th>year</th>            <td>   -0.0246</td> <td>    0.003</td> <td>   -9.691</td> <td> 0.000</td> <td>   -0.030    -0.020</td>\n",
       "</tr>\n",
       "<tr>\n",
       "  <th>rtg_restrict</th>    <td>   -0.0994</td> <td>    0.023</td> <td>   -4.327</td> <td> 0.000</td> <td>   -0.145    -0.054</td>\n",
       "</tr>\n",
       "<tr>\n",
       "  <th>sm_dist</th>         <td>    0.0509</td> <td>    0.037</td> <td>    1.363</td> <td> 0.173</td> <td>   -0.022     0.124</td>\n",
       "</tr>\n",
       "<tr>\n",
       "  <th>specialty_genre</th> <td>   -0.1266</td> <td>    0.035</td> <td>   -3.592</td> <td> 0.000</td> <td>   -0.196    -0.057</td>\n",
       "</tr>\n",
       "<tr>\n",
       "  <th>offseason</th>       <td>   -0.1390</td> <td>    0.040</td> <td>   -3.436</td> <td> 0.001</td> <td>   -0.218    -0.060</td>\n",
       "</tr>\n",
       "<tr>\n",
       "  <th>holiday</th>         <td>   -0.0212</td> <td>    0.046</td> <td>   -0.459</td> <td> 0.646</td> <td>   -0.112     0.069</td>\n",
       "</tr>\n",
       "</table>\n",
       "<table class=\"simpletable\">\n",
       "<tr>\n",
       "  <th>Omnibus:</th>       <td>20.705</td> <th>  Durbin-Watson:     </th> <td>   2.134</td>\n",
       "</tr>\n",
       "<tr>\n",
       "  <th>Prob(Omnibus):</th> <td> 0.000</td> <th>  Jarque-Bera (JB):  </th> <td>  21.662</td>\n",
       "</tr>\n",
       "<tr>\n",
       "  <th>Skew:</th>          <td> 0.377</td> <th>  Prob(JB):          </th> <td>1.98e-05</td>\n",
       "</tr>\n",
       "<tr>\n",
       "  <th>Kurtosis:</th>      <td> 3.038</td> <th>  Cond. No.          </th> <td>6.33e+05</td>\n",
       "</tr>\n",
       "</table>"
      ],
      "text/plain": [
       "<class 'statsmodels.iolib.summary.Summary'>\n",
       "\"\"\"\n",
       "                            OLS Regression Results                            \n",
       "==============================================================================\n",
       "Dep. Variable:      np.log(gross_adj)   R-squared:                       0.353\n",
       "Model:                            OLS   Adj. R-squared:                  0.347\n",
       "Method:                 Least Squares   F-statistic:                     61.40\n",
       "Date:                Fri, 07 Oct 2016   Prob (F-statistic):           4.98e-80\n",
       "Time:                        06:35:37   Log-Likelihood:                -634.05\n",
       "No. Observations:                 910   AIC:                             1286.\n",
       "Df Residuals:                     901   BIC:                             1329.\n",
       "Df Model:                           8                                         \n",
       "Covariance Type:            nonrobust                                         \n",
       "===================================================================================\n",
       "                      coef    std err          t      P>|t|      [95.0% Conf. Int.]\n",
       "-----------------------------------------------------------------------------------\n",
       "Intercept          53.6202      5.092     10.530      0.000        43.627    63.614\n",
       "budget_adj          0.0036      0.000     10.500      0.000         0.003     0.004\n",
       "runtime_mins        0.0050      0.001      4.986      0.000         0.003     0.007\n",
       "year               -0.0246      0.003     -9.691      0.000        -0.030    -0.020\n",
       "rtg_restrict       -0.0994      0.023     -4.327      0.000        -0.145    -0.054\n",
       "sm_dist             0.0509      0.037      1.363      0.173        -0.022     0.124\n",
       "specialty_genre    -0.1266      0.035     -3.592      0.000        -0.196    -0.057\n",
       "offseason          -0.1390      0.040     -3.436      0.001        -0.218    -0.060\n",
       "holiday            -0.0212      0.046     -0.459      0.646        -0.112     0.069\n",
       "==============================================================================\n",
       "Omnibus:                       20.705   Durbin-Watson:                   2.134\n",
       "Prob(Omnibus):                  0.000   Jarque-Bera (JB):               21.662\n",
       "Skew:                           0.377   Prob(JB):                     1.98e-05\n",
       "Kurtosis:                       3.038   Cond. No.                     6.33e+05\n",
       "==============================================================================\n",
       "\n",
       "Warnings:\n",
       "[1] Standard Errors assume that the covariance matrix of the errors is correctly specified.\n",
       "[2] The condition number is large, 6.33e+05. This might indicate that there are\n",
       "strong multicollinearity or other numerical problems.\n",
       "\"\"\""
      ]
     },
     "execution_count": 72,
     "metadata": {},
     "output_type": "execute_result"
    }
   ],
   "source": [
    "# train model1\n",
    "model1 = sm.OLS(y_train, X_train)\n",
    "res1 = model1.fit()\n",
    "res1.summary()"
   ]
  },
  {
   "cell_type": "code",
   "execution_count": 73,
   "metadata": {
    "collapsed": false
   },
   "outputs": [
    {
     "data": {
      "text/html": [
       "<table class=\"simpletable\">\n",
       "<caption>OLS Regression Results</caption>\n",
       "<tr>\n",
       "  <th>Dep. Variable:</th>    <td>np.log(gross_adj)</td> <th>  R-squared:         </th> <td>   0.493</td>\n",
       "</tr>\n",
       "<tr>\n",
       "  <th>Model:</th>                   <td>OLS</td>        <th>  Adj. R-squared:    </th> <td>   0.482</td>\n",
       "</tr>\n",
       "<tr>\n",
       "  <th>Method:</th>             <td>Least Squares</td>   <th>  F-statistic:       </th> <td>   46.41</td>\n",
       "</tr>\n",
       "<tr>\n",
       "  <th>Date:</th>             <td>Fri, 07 Oct 2016</td>  <th>  Prob (F-statistic):</th> <td>6.93e-52</td>\n",
       "</tr>\n",
       "<tr>\n",
       "  <th>Time:</th>                 <td>06:35:37</td>      <th>  Log-Likelihood:    </th> <td> -248.88</td>\n",
       "</tr>\n",
       "<tr>\n",
       "  <th>No. Observations:</th>      <td>   391</td>       <th>  AIC:               </th> <td>   515.8</td>\n",
       "</tr>\n",
       "<tr>\n",
       "  <th>Df Residuals:</th>          <td>   382</td>       <th>  BIC:               </th> <td>   551.5</td>\n",
       "</tr>\n",
       "<tr>\n",
       "  <th>Df Model:</th>              <td>     8</td>       <th>                     </th>     <td> </td>   \n",
       "</tr>\n",
       "<tr>\n",
       "  <th>Covariance Type:</th>      <td>nonrobust</td>     <th>                     </th>     <td> </td>   \n",
       "</tr>\n",
       "</table>\n",
       "<table class=\"simpletable\">\n",
       "<tr>\n",
       "         <td></td>            <th>coef</th>     <th>std err</th>      <th>t</th>      <th>P>|t|</th> <th>[95.0% Conf. Int.]</th> \n",
       "</tr>\n",
       "<tr>\n",
       "  <th>Intercept</th>       <td>   69.5464</td> <td>    7.455</td> <td>    9.329</td> <td> 0.000</td> <td>   54.889    84.204</td>\n",
       "</tr>\n",
       "<tr>\n",
       "  <th>budget_adj</th>      <td>    0.0038</td> <td>    0.001</td> <td>    7.550</td> <td> 0.000</td> <td>    0.003     0.005</td>\n",
       "</tr>\n",
       "<tr>\n",
       "  <th>runtime_mins</th>    <td>    0.0061</td> <td>    0.001</td> <td>    4.077</td> <td> 0.000</td> <td>    0.003     0.009</td>\n",
       "</tr>\n",
       "<tr>\n",
       "  <th>year</th>            <td>   -0.0325</td> <td>    0.004</td> <td>   -8.735</td> <td> 0.000</td> <td>   -0.040    -0.025</td>\n",
       "</tr>\n",
       "<tr>\n",
       "  <th>rtg_restrict</th>    <td>   -0.0913</td> <td>    0.033</td> <td>   -2.797</td> <td> 0.005</td> <td>   -0.155    -0.027</td>\n",
       "</tr>\n",
       "<tr>\n",
       "  <th>sm_dist</th>         <td>   -0.0384</td> <td>    0.055</td> <td>   -0.701</td> <td> 0.484</td> <td>   -0.146     0.069</td>\n",
       "</tr>\n",
       "<tr>\n",
       "  <th>specialty_genre</th> <td>   -0.1722</td> <td>    0.051</td> <td>   -3.359</td> <td> 0.001</td> <td>   -0.273    -0.071</td>\n",
       "</tr>\n",
       "<tr>\n",
       "  <th>offseason</th>       <td>   -0.2980</td> <td>    0.058</td> <td>   -5.101</td> <td> 0.000</td> <td>   -0.413    -0.183</td>\n",
       "</tr>\n",
       "<tr>\n",
       "  <th>holiday</th>         <td>   -0.2449</td> <td>    0.064</td> <td>   -3.823</td> <td> 0.000</td> <td>   -0.371    -0.119</td>\n",
       "</tr>\n",
       "</table>\n",
       "<table class=\"simpletable\">\n",
       "<tr>\n",
       "  <th>Omnibus:</th>       <td> 4.290</td> <th>  Durbin-Watson:     </th> <td>   1.923</td>\n",
       "</tr>\n",
       "<tr>\n",
       "  <th>Prob(Omnibus):</th> <td> 0.117</td> <th>  Jarque-Bera (JB):  </th> <td>   4.284</td>\n",
       "</tr>\n",
       "<tr>\n",
       "  <th>Skew:</th>          <td> 0.256</td> <th>  Prob(JB):          </th> <td>   0.117</td>\n",
       "</tr>\n",
       "<tr>\n",
       "  <th>Kurtosis:</th>      <td> 2.963</td> <th>  Cond. No.          </th> <td>6.41e+05</td>\n",
       "</tr>\n",
       "</table>"
      ],
      "text/plain": [
       "<class 'statsmodels.iolib.summary.Summary'>\n",
       "\"\"\"\n",
       "                            OLS Regression Results                            \n",
       "==============================================================================\n",
       "Dep. Variable:      np.log(gross_adj)   R-squared:                       0.493\n",
       "Model:                            OLS   Adj. R-squared:                  0.482\n",
       "Method:                 Least Squares   F-statistic:                     46.41\n",
       "Date:                Fri, 07 Oct 2016   Prob (F-statistic):           6.93e-52\n",
       "Time:                        06:35:37   Log-Likelihood:                -248.88\n",
       "No. Observations:                 391   AIC:                             515.8\n",
       "Df Residuals:                     382   BIC:                             551.5\n",
       "Df Model:                           8                                         \n",
       "Covariance Type:            nonrobust                                         \n",
       "===================================================================================\n",
       "                      coef    std err          t      P>|t|      [95.0% Conf. Int.]\n",
       "-----------------------------------------------------------------------------------\n",
       "Intercept          69.5464      7.455      9.329      0.000        54.889    84.204\n",
       "budget_adj          0.0038      0.001      7.550      0.000         0.003     0.005\n",
       "runtime_mins        0.0061      0.001      4.077      0.000         0.003     0.009\n",
       "year               -0.0325      0.004     -8.735      0.000        -0.040    -0.025\n",
       "rtg_restrict       -0.0913      0.033     -2.797      0.005        -0.155    -0.027\n",
       "sm_dist            -0.0384      0.055     -0.701      0.484        -0.146     0.069\n",
       "specialty_genre    -0.1722      0.051     -3.359      0.001        -0.273    -0.071\n",
       "offseason          -0.2980      0.058     -5.101      0.000        -0.413    -0.183\n",
       "holiday            -0.2449      0.064     -3.823      0.000        -0.371    -0.119\n",
       "==============================================================================\n",
       "Omnibus:                        4.290   Durbin-Watson:                   1.923\n",
       "Prob(Omnibus):                  0.117   Jarque-Bera (JB):                4.284\n",
       "Skew:                           0.256   Prob(JB):                        0.117\n",
       "Kurtosis:                       2.963   Cond. No.                     6.41e+05\n",
       "==============================================================================\n",
       "\n",
       "Warnings:\n",
       "[1] Standard Errors assume that the covariance matrix of the errors is correctly specified.\n",
       "[2] The condition number is large, 6.41e+05. This might indicate that there are\n",
       "strong multicollinearity or other numerical problems.\n",
       "\"\"\""
      ]
     },
     "execution_count": 73,
     "metadata": {},
     "output_type": "execute_result"
    }
   ],
   "source": [
    "# test model1\n",
    "model1 = sm.OLS(y_test, X_test)\n",
    "res1 = model1.fit()\n",
    "res1.summary()"
   ]
  },
  {
   "cell_type": "code",
   "execution_count": 74,
   "metadata": {
    "collapsed": false
   },
   "outputs": [
    {
     "name": "stdout",
     "output_type": "stream",
     "text": [
      "<class 'pandas.core.frame.DataFrame'>\n",
      "Int64Index: 1301 entries, 0 to 1999\n",
      "Data columns (total 12 columns):\n",
      "gross_adj          1301 non-null float64\n",
      "budget_adj         1301 non-null float64\n",
      "runtime_mins       1301 non-null int64\n",
      "year               1301 non-null int64\n",
      "rtg_restrict       1301 non-null int64\n",
      "specialty_genre    1301 non-null int64\n",
      "dist_mktshare      1301 non-null float64\n",
      "lg_dist            1301 non-null int64\n",
      "sm_dist            1301 non-null int64\n",
      "offseason          1301 non-null int64\n",
      "summer             1301 non-null int64\n",
      "holiday            1301 non-null int64\n",
      "dtypes: float64(3), int64(9)\n",
      "memory usage: 132.1 KB\n"
     ]
    }
   ],
   "source": [
    "df1.info()"
   ]
  },
  {
   "cell_type": "code",
   "execution_count": 75,
   "metadata": {
    "collapsed": false
   },
   "outputs": [
    {
     "data": {
      "text/html": [
       "<div>\n",
       "<table border=\"1\" class=\"dataframe\">\n",
       "  <thead>\n",
       "    <tr style=\"text-align: right;\">\n",
       "      <th></th>\n",
       "      <th>gross_adj</th>\n",
       "      <th>budget_adj</th>\n",
       "      <th>runtime_mins</th>\n",
       "      <th>year</th>\n",
       "      <th>rtg_restrict</th>\n",
       "      <th>specialty_genre</th>\n",
       "      <th>dist_mktshare</th>\n",
       "      <th>lg_dist</th>\n",
       "      <th>sm_dist</th>\n",
       "      <th>offseason</th>\n",
       "      <th>summer</th>\n",
       "      <th>holiday</th>\n",
       "    </tr>\n",
       "  </thead>\n",
       "  <tbody>\n",
       "    <tr>\n",
       "      <th>gross_adj</th>\n",
       "      <td>1.000000</td>\n",
       "      <td>0.485022</td>\n",
       "      <td>0.288056</td>\n",
       "      <td>-0.219817</td>\n",
       "      <td>-0.159000</td>\n",
       "      <td>-0.142480</td>\n",
       "      <td>0.157432</td>\n",
       "      <td>0.117080</td>\n",
       "      <td>-0.117080</td>\n",
       "      <td>-0.308781</td>\n",
       "      <td>0.255784</td>\n",
       "      <td>0.078535</td>\n",
       "    </tr>\n",
       "    <tr>\n",
       "      <th>budget_adj</th>\n",
       "      <td>0.485022</td>\n",
       "      <td>1.000000</td>\n",
       "      <td>0.349469</td>\n",
       "      <td>0.015699</td>\n",
       "      <td>-0.212667</td>\n",
       "      <td>-0.221605</td>\n",
       "      <td>0.313380</td>\n",
       "      <td>0.279927</td>\n",
       "      <td>-0.279927</td>\n",
       "      <td>-0.355419</td>\n",
       "      <td>0.309077</td>\n",
       "      <td>0.074017</td>\n",
       "    </tr>\n",
       "    <tr>\n",
       "      <th>runtime_mins</th>\n",
       "      <td>0.288056</td>\n",
       "      <td>0.349469</td>\n",
       "      <td>1.000000</td>\n",
       "      <td>-0.043319</td>\n",
       "      <td>0.284374</td>\n",
       "      <td>0.187728</td>\n",
       "      <td>0.096729</td>\n",
       "      <td>0.100415</td>\n",
       "      <td>-0.100415</td>\n",
       "      <td>-0.218845</td>\n",
       "      <td>0.054292</td>\n",
       "      <td>0.197565</td>\n",
       "    </tr>\n",
       "    <tr>\n",
       "      <th>year</th>\n",
       "      <td>-0.219817</td>\n",
       "      <td>0.015699</td>\n",
       "      <td>-0.043319</td>\n",
       "      <td>1.000000</td>\n",
       "      <td>-0.022353</td>\n",
       "      <td>-0.096797</td>\n",
       "      <td>-0.027855</td>\n",
       "      <td>-0.002349</td>\n",
       "      <td>0.002349</td>\n",
       "      <td>0.116467</td>\n",
       "      <td>-0.022733</td>\n",
       "      <td>-0.112026</td>\n",
       "    </tr>\n",
       "    <tr>\n",
       "      <th>rtg_restrict</th>\n",
       "      <td>-0.159000</td>\n",
       "      <td>-0.212667</td>\n",
       "      <td>0.284374</td>\n",
       "      <td>-0.022353</td>\n",
       "      <td>1.000000</td>\n",
       "      <td>0.095000</td>\n",
       "      <td>-0.216427</td>\n",
       "      <td>-0.148271</td>\n",
       "      <td>0.148271</td>\n",
       "      <td>0.108154</td>\n",
       "      <td>-0.044994</td>\n",
       "      <td>-0.077342</td>\n",
       "    </tr>\n",
       "    <tr>\n",
       "      <th>specialty_genre</th>\n",
       "      <td>-0.142480</td>\n",
       "      <td>-0.221605</td>\n",
       "      <td>0.187728</td>\n",
       "      <td>-0.096797</td>\n",
       "      <td>0.095000</td>\n",
       "      <td>1.000000</td>\n",
       "      <td>-0.098150</td>\n",
       "      <td>-0.104212</td>\n",
       "      <td>0.104212</td>\n",
       "      <td>0.077859</td>\n",
       "      <td>-0.170470</td>\n",
       "      <td>0.098615</td>\n",
       "    </tr>\n",
       "    <tr>\n",
       "      <th>dist_mktshare</th>\n",
       "      <td>0.157432</td>\n",
       "      <td>0.313380</td>\n",
       "      <td>0.096729</td>\n",
       "      <td>-0.027855</td>\n",
       "      <td>-0.216427</td>\n",
       "      <td>-0.098150</td>\n",
       "      <td>1.000000</td>\n",
       "      <td>0.958225</td>\n",
       "      <td>-0.958225</td>\n",
       "      <td>-0.152479</td>\n",
       "      <td>0.135749</td>\n",
       "      <td>0.028233</td>\n",
       "    </tr>\n",
       "    <tr>\n",
       "      <th>lg_dist</th>\n",
       "      <td>0.117080</td>\n",
       "      <td>0.279927</td>\n",
       "      <td>0.100415</td>\n",
       "      <td>-0.002349</td>\n",
       "      <td>-0.148271</td>\n",
       "      <td>-0.104212</td>\n",
       "      <td>0.958225</td>\n",
       "      <td>1.000000</td>\n",
       "      <td>-1.000000</td>\n",
       "      <td>-0.150025</td>\n",
       "      <td>0.134481</td>\n",
       "      <td>0.026754</td>\n",
       "    </tr>\n",
       "    <tr>\n",
       "      <th>sm_dist</th>\n",
       "      <td>-0.117080</td>\n",
       "      <td>-0.279927</td>\n",
       "      <td>-0.100415</td>\n",
       "      <td>0.002349</td>\n",
       "      <td>0.148271</td>\n",
       "      <td>0.104212</td>\n",
       "      <td>-0.958225</td>\n",
       "      <td>-1.000000</td>\n",
       "      <td>1.000000</td>\n",
       "      <td>0.150025</td>\n",
       "      <td>-0.134481</td>\n",
       "      <td>-0.026754</td>\n",
       "    </tr>\n",
       "    <tr>\n",
       "      <th>offseason</th>\n",
       "      <td>-0.308781</td>\n",
       "      <td>-0.355419</td>\n",
       "      <td>-0.218845</td>\n",
       "      <td>0.116467</td>\n",
       "      <td>0.108154</td>\n",
       "      <td>0.077859</td>\n",
       "      <td>-0.152479</td>\n",
       "      <td>-0.150025</td>\n",
       "      <td>0.150025</td>\n",
       "      <td>1.000000</td>\n",
       "      <td>-0.622275</td>\n",
       "      <td>-0.484633</td>\n",
       "    </tr>\n",
       "    <tr>\n",
       "      <th>summer</th>\n",
       "      <td>0.255784</td>\n",
       "      <td>0.309077</td>\n",
       "      <td>0.054292</td>\n",
       "      <td>-0.022733</td>\n",
       "      <td>-0.044994</td>\n",
       "      <td>-0.170470</td>\n",
       "      <td>0.135749</td>\n",
       "      <td>0.134481</td>\n",
       "      <td>-0.134481</td>\n",
       "      <td>-0.622275</td>\n",
       "      <td>1.000000</td>\n",
       "      <td>-0.383153</td>\n",
       "    </tr>\n",
       "    <tr>\n",
       "      <th>holiday</th>\n",
       "      <td>0.078535</td>\n",
       "      <td>0.074017</td>\n",
       "      <td>0.197565</td>\n",
       "      <td>-0.112026</td>\n",
       "      <td>-0.077342</td>\n",
       "      <td>0.098615</td>\n",
       "      <td>0.028233</td>\n",
       "      <td>0.026754</td>\n",
       "      <td>-0.026754</td>\n",
       "      <td>-0.484633</td>\n",
       "      <td>-0.383153</td>\n",
       "      <td>1.000000</td>\n",
       "    </tr>\n",
       "  </tbody>\n",
       "</table>\n",
       "</div>"
      ],
      "text/plain": [
       "                 gross_adj  budget_adj  runtime_mins      year  rtg_restrict  \\\n",
       "gross_adj         1.000000    0.485022      0.288056 -0.219817     -0.159000   \n",
       "budget_adj        0.485022    1.000000      0.349469  0.015699     -0.212667   \n",
       "runtime_mins      0.288056    0.349469      1.000000 -0.043319      0.284374   \n",
       "year             -0.219817    0.015699     -0.043319  1.000000     -0.022353   \n",
       "rtg_restrict     -0.159000   -0.212667      0.284374 -0.022353      1.000000   \n",
       "specialty_genre  -0.142480   -0.221605      0.187728 -0.096797      0.095000   \n",
       "dist_mktshare     0.157432    0.313380      0.096729 -0.027855     -0.216427   \n",
       "lg_dist           0.117080    0.279927      0.100415 -0.002349     -0.148271   \n",
       "sm_dist          -0.117080   -0.279927     -0.100415  0.002349      0.148271   \n",
       "offseason        -0.308781   -0.355419     -0.218845  0.116467      0.108154   \n",
       "summer            0.255784    0.309077      0.054292 -0.022733     -0.044994   \n",
       "holiday           0.078535    0.074017      0.197565 -0.112026     -0.077342   \n",
       "\n",
       "                 specialty_genre  dist_mktshare   lg_dist   sm_dist  \\\n",
       "gross_adj              -0.142480       0.157432  0.117080 -0.117080   \n",
       "budget_adj             -0.221605       0.313380  0.279927 -0.279927   \n",
       "runtime_mins            0.187728       0.096729  0.100415 -0.100415   \n",
       "year                   -0.096797      -0.027855 -0.002349  0.002349   \n",
       "rtg_restrict            0.095000      -0.216427 -0.148271  0.148271   \n",
       "specialty_genre         1.000000      -0.098150 -0.104212  0.104212   \n",
       "dist_mktshare          -0.098150       1.000000  0.958225 -0.958225   \n",
       "lg_dist                -0.104212       0.958225  1.000000 -1.000000   \n",
       "sm_dist                 0.104212      -0.958225 -1.000000  1.000000   \n",
       "offseason               0.077859      -0.152479 -0.150025  0.150025   \n",
       "summer                 -0.170470       0.135749  0.134481 -0.134481   \n",
       "holiday                 0.098615       0.028233  0.026754 -0.026754   \n",
       "\n",
       "                 offseason    summer   holiday  \n",
       "gross_adj        -0.308781  0.255784  0.078535  \n",
       "budget_adj       -0.355419  0.309077  0.074017  \n",
       "runtime_mins     -0.218845  0.054292  0.197565  \n",
       "year              0.116467 -0.022733 -0.112026  \n",
       "rtg_restrict      0.108154 -0.044994 -0.077342  \n",
       "specialty_genre   0.077859 -0.170470  0.098615  \n",
       "dist_mktshare    -0.152479  0.135749  0.028233  \n",
       "lg_dist          -0.150025  0.134481  0.026754  \n",
       "sm_dist           0.150025 -0.134481 -0.026754  \n",
       "offseason         1.000000 -0.622275 -0.484633  \n",
       "summer           -0.622275  1.000000 -0.383153  \n",
       "holiday          -0.484633 -0.383153  1.000000  "
      ]
     },
     "execution_count": 75,
     "metadata": {},
     "output_type": "execute_result"
    }
   ],
   "source": [
    "# explore possible interactions\n",
    "\n",
    "# check some pairwise correlations\n",
    "# df1[['budget_adj','runtime_mins']].corr()\n",
    "df1.corr()\n",
    "\n",
    "# budget-runtime: 0.35\n",
    "# budget-distributor_mktshare: 0.31\n",
    "# budget-offseason (negative): -0.36 numeric-factor\n",
    "# budget-summer: 0.31 numeric-factor\n",
    "\n",
    "# runtime-rtg_restrict: 0.28"
   ]
  },
  {
   "cell_type": "code",
   "execution_count": 76,
   "metadata": {
    "collapsed": false
   },
   "outputs": [
    {
     "data": {
      "image/png": "[encoded data removed]",
      "text/plain": [
       "<matplotlib.figure.Figure at 0x1203afe80>"
      ]
     },
     "execution_count": 76,
     "metadata": {},
     "output_type": "execute_result"
    },
    {
     "data": {
      "image/png": "[encoded data removed]",
      "text/plain": [
       "<matplotlib.figure.Figure at 0x1203afe80>"
      ]
     },
     "metadata": {},
     "output_type": "display_data"
    }
   ],
   "source": [
    "\n",
    "# interaction_plot(x, trace, response, xlabel, ylabel, legend)\n",
    "from statsmodels.graphics.api import interaction_plot, abline_plot\n",
    "interaction_plot(df1.specialty_genre, df1.sm_dist, np.log(df1.gross_adj))"
   ]
  },
  {
   "cell_type": "code",
   "execution_count": 77,
   "metadata": {
    "collapsed": false
   },
   "outputs": [],
   "source": [
    "# model 2 with interactions\n",
    "\n",
    "y2,X2 = patsy.dmatrices('''np.log(gross_adj) ~ \n",
    "budget_adj + runtime_mins + budget_adj*runtime_mins + year + rtg_restrict + sm_dist + \n",
    "specialty_genre + offseason + holiday + budget_adj*offseason''', \n",
    "                      data = df1,\n",
    "                     return_type = 'dataframe')"
   ]
  },
  {
   "cell_type": "code",
   "execution_count": 78,
   "metadata": {
    "collapsed": false
   },
   "outputs": [],
   "source": [
    "# split\n",
    "X2_train, X2_test, y2_train, y2_test = train_test_split(X2,y2,test_size = 0.3)"
   ]
  },
  {
   "cell_type": "code",
   "execution_count": 79,
   "metadata": {
    "collapsed": false
   },
   "outputs": [
    {
     "data": {
      "text/html": [
       "<table class=\"simpletable\">\n",
       "<caption>OLS Regression Results</caption>\n",
       "<tr>\n",
       "  <th>Dep. Variable:</th>    <td>np.log(gross_adj)</td> <th>  R-squared:         </th> <td>   0.379</td>\n",
       "</tr>\n",
       "<tr>\n",
       "  <th>Model:</th>                   <td>OLS</td>        <th>  Adj. R-squared:    </th> <td>   0.372</td>\n",
       "</tr>\n",
       "<tr>\n",
       "  <th>Method:</th>             <td>Least Squares</td>   <th>  F-statistic:       </th> <td>   54.79</td>\n",
       "</tr>\n",
       "<tr>\n",
       "  <th>Date:</th>             <td>Fri, 07 Oct 2016</td>  <th>  Prob (F-statistic):</th> <td>4.62e-86</td>\n",
       "</tr>\n",
       "<tr>\n",
       "  <th>Time:</th>                 <td>06:35:37</td>      <th>  Log-Likelihood:    </th> <td> -618.40</td>\n",
       "</tr>\n",
       "<tr>\n",
       "  <th>No. Observations:</th>      <td>   910</td>       <th>  AIC:               </th> <td>   1259.</td>\n",
       "</tr>\n",
       "<tr>\n",
       "  <th>Df Residuals:</th>          <td>   899</td>       <th>  BIC:               </th> <td>   1312.</td>\n",
       "</tr>\n",
       "<tr>\n",
       "  <th>Df Model:</th>              <td>    10</td>       <th>                     </th>     <td> </td>   \n",
       "</tr>\n",
       "<tr>\n",
       "  <th>Covariance Type:</th>      <td>nonrobust</td>     <th>                     </th>     <td> </td>   \n",
       "</tr>\n",
       "</table>\n",
       "<table class=\"simpletable\">\n",
       "<tr>\n",
       "             <td></td>                <th>coef</th>     <th>std err</th>      <th>t</th>      <th>P>|t|</th> <th>[95.0% Conf. Int.]</th> \n",
       "</tr>\n",
       "<tr>\n",
       "  <th>Intercept</th>               <td>   59.6858</td> <td>    4.960</td> <td>   12.032</td> <td> 0.000</td> <td>   49.950    69.421</td>\n",
       "</tr>\n",
       "<tr>\n",
       "  <th>budget_adj</th>              <td>    0.0031</td> <td>    0.002</td> <td>    1.973</td> <td> 0.049</td> <td> 1.64e-05     0.006</td>\n",
       "</tr>\n",
       "<tr>\n",
       "  <th>runtime_mins</th>            <td>    0.0049</td> <td>    0.002</td> <td>    3.102</td> <td> 0.002</td> <td>    0.002     0.008</td>\n",
       "</tr>\n",
       "<tr>\n",
       "  <th>budget_adj:runtime_mins</th> <td> 4.153e-06</td> <td> 1.26e-05</td> <td>    0.329</td> <td> 0.742</td> <td>-2.06e-05  2.89e-05</td>\n",
       "</tr>\n",
       "<tr>\n",
       "  <th>year</th>                    <td>   -0.0276</td> <td>    0.002</td> <td>  -11.163</td> <td> 0.000</td> <td>   -0.032    -0.023</td>\n",
       "</tr>\n",
       "<tr>\n",
       "  <th>rtg_restrict</th>            <td>   -0.0891</td> <td>    0.023</td> <td>   -3.942</td> <td> 0.000</td> <td>   -0.133    -0.045</td>\n",
       "</tr>\n",
       "<tr>\n",
       "  <th>sm_dist</th>                 <td>    0.0324</td> <td>    0.037</td> <td>    0.883</td> <td> 0.378</td> <td>   -0.040     0.104</td>\n",
       "</tr>\n",
       "<tr>\n",
       "  <th>specialty_genre</th>         <td>   -0.1553</td> <td>    0.035</td> <td>   -4.443</td> <td> 0.000</td> <td>   -0.224    -0.087</td>\n",
       "</tr>\n",
       "<tr>\n",
       "  <th>offseason</th>               <td>   -0.1626</td> <td>    0.064</td> <td>   -2.541</td> <td> 0.011</td> <td>   -0.288    -0.037</td>\n",
       "</tr>\n",
       "<tr>\n",
       "  <th>holiday</th>                 <td>   -0.1156</td> <td>    0.045</td> <td>   -2.546</td> <td> 0.011</td> <td>   -0.205    -0.026</td>\n",
       "</tr>\n",
       "<tr>\n",
       "  <th>budget_adj:offseason</th>    <td>   -0.0003</td> <td>    0.001</td> <td>   -0.425</td> <td> 0.671</td> <td>   -0.002     0.001</td>\n",
       "</tr>\n",
       "</table>\n",
       "<table class=\"simpletable\">\n",
       "<tr>\n",
       "  <th>Omnibus:</th>       <td>21.171</td> <th>  Durbin-Watson:     </th> <td>   2.078</td>\n",
       "</tr>\n",
       "<tr>\n",
       "  <th>Prob(Omnibus):</th> <td> 0.000</td> <th>  Jarque-Bera (JB):  </th> <td>  22.119</td>\n",
       "</tr>\n",
       "<tr>\n",
       "  <th>Skew:</th>          <td> 0.380</td> <th>  Prob(JB):          </th> <td>1.57e-05</td>\n",
       "</tr>\n",
       "<tr>\n",
       "  <th>Kurtosis:</th>      <td> 3.074</td> <th>  Cond. No.          </th> <td>3.88e+06</td>\n",
       "</tr>\n",
       "</table>"
      ],
      "text/plain": [
       "<class 'statsmodels.iolib.summary.Summary'>\n",
       "\"\"\"\n",
       "                            OLS Regression Results                            \n",
       "==============================================================================\n",
       "Dep. Variable:      np.log(gross_adj)   R-squared:                       0.379\n",
       "Model:                            OLS   Adj. R-squared:                  0.372\n",
       "Method:                 Least Squares   F-statistic:                     54.79\n",
       "Date:                Fri, 07 Oct 2016   Prob (F-statistic):           4.62e-86\n",
       "Time:                        06:35:37   Log-Likelihood:                -618.40\n",
       "No. Observations:                 910   AIC:                             1259.\n",
       "Df Residuals:                     899   BIC:                             1312.\n",
       "Df Model:                          10                                         \n",
       "Covariance Type:            nonrobust                                         \n",
       "===========================================================================================\n",
       "                              coef    std err          t      P>|t|      [95.0% Conf. Int.]\n",
       "-------------------------------------------------------------------------------------------\n",
       "Intercept                  59.6858      4.960     12.032      0.000        49.950    69.421\n",
       "budget_adj                  0.0031      0.002      1.973      0.049      1.64e-05     0.006\n",
       "runtime_mins                0.0049      0.002      3.102      0.002         0.002     0.008\n",
       "budget_adj:runtime_mins  4.153e-06   1.26e-05      0.329      0.742     -2.06e-05  2.89e-05\n",
       "year                       -0.0276      0.002    -11.163      0.000        -0.032    -0.023\n",
       "rtg_restrict               -0.0891      0.023     -3.942      0.000        -0.133    -0.045\n",
       "sm_dist                     0.0324      0.037      0.883      0.378        -0.040     0.104\n",
       "specialty_genre            -0.1553      0.035     -4.443      0.000        -0.224    -0.087\n",
       "offseason                  -0.1626      0.064     -2.541      0.011        -0.288    -0.037\n",
       "holiday                    -0.1156      0.045     -2.546      0.011        -0.205    -0.026\n",
       "budget_adj:offseason       -0.0003      0.001     -0.425      0.671        -0.002     0.001\n",
       "==============================================================================\n",
       "Omnibus:                       21.171   Durbin-Watson:                   2.078\n",
       "Prob(Omnibus):                  0.000   Jarque-Bera (JB):               22.119\n",
       "Skew:                           0.380   Prob(JB):                     1.57e-05\n",
       "Kurtosis:                       3.074   Cond. No.                     3.88e+06\n",
       "==============================================================================\n",
       "\n",
       "Warnings:\n",
       "[1] Standard Errors assume that the covariance matrix of the errors is correctly specified.\n",
       "[2] The condition number is large, 3.88e+06. This might indicate that there are\n",
       "strong multicollinearity or other numerical problems.\n",
       "\"\"\""
      ]
     },
     "execution_count": 79,
     "metadata": {},
     "output_type": "execute_result"
    }
   ],
   "source": [
    "# train model2\n",
    "model2 = sm.OLS(y2_train, X2_train)\n",
    "res2 = model2.fit()\n",
    "res2.summary()"
   ]
  },
  {
   "cell_type": "code",
   "execution_count": 80,
   "metadata": {
    "collapsed": false
   },
   "outputs": [
    {
     "data": {
      "text/html": [
       "<table class=\"simpletable\">\n",
       "<caption>OLS Regression Results</caption>\n",
       "<tr>\n",
       "  <th>Dep. Variable:</th>    <td>np.log(gross_adj)</td> <th>  R-squared:         </th> <td>   0.424</td>\n",
       "</tr>\n",
       "<tr>\n",
       "  <th>Model:</th>                   <td>OLS</td>        <th>  Adj. R-squared:    </th> <td>   0.408</td>\n",
       "</tr>\n",
       "<tr>\n",
       "  <th>Method:</th>             <td>Least Squares</td>   <th>  F-statistic:       </th> <td>   27.92</td>\n",
       "</tr>\n",
       "<tr>\n",
       "  <th>Date:</th>             <td>Fri, 07 Oct 2016</td>  <th>  Prob (F-statistic):</th> <td>6.67e-40</td>\n",
       "</tr>\n",
       "<tr>\n",
       "  <th>Time:</th>                 <td>06:35:37</td>      <th>  Log-Likelihood:    </th> <td> -271.74</td>\n",
       "</tr>\n",
       "<tr>\n",
       "  <th>No. Observations:</th>      <td>   391</td>       <th>  AIC:               </th> <td>   565.5</td>\n",
       "</tr>\n",
       "<tr>\n",
       "  <th>Df Residuals:</th>          <td>   380</td>       <th>  BIC:               </th> <td>   609.1</td>\n",
       "</tr>\n",
       "<tr>\n",
       "  <th>Df Model:</th>              <td>    10</td>       <th>                     </th>     <td> </td>   \n",
       "</tr>\n",
       "<tr>\n",
       "  <th>Covariance Type:</th>      <td>nonrobust</td>     <th>                     </th>     <td> </td>   \n",
       "</tr>\n",
       "</table>\n",
       "<table class=\"simpletable\">\n",
       "<tr>\n",
       "             <td></td>                <th>coef</th>     <th>std err</th>      <th>t</th>      <th>P>|t|</th> <th>[95.0% Conf. Int.]</th> \n",
       "</tr>\n",
       "<tr>\n",
       "  <th>Intercept</th>               <td>   58.7720</td> <td>    8.110</td> <td>    7.247</td> <td> 0.000</td> <td>   42.826    74.718</td>\n",
       "</tr>\n",
       "<tr>\n",
       "  <th>budget_adj</th>              <td>    0.0017</td> <td>    0.002</td> <td>    0.752</td> <td> 0.452</td> <td>   -0.003     0.006</td>\n",
       "</tr>\n",
       "<tr>\n",
       "  <th>runtime_mins</th>            <td>    0.0031</td> <td>    0.002</td> <td>    1.247</td> <td> 0.213</td> <td>   -0.002     0.008</td>\n",
       "</tr>\n",
       "<tr>\n",
       "  <th>budget_adj:runtime_mins</th> <td> 1.875e-05</td> <td> 1.84e-05</td> <td>    1.018</td> <td> 0.309</td> <td>-1.75e-05   5.5e-05</td>\n",
       "</tr>\n",
       "<tr>\n",
       "  <th>year</th>                    <td>   -0.0270</td> <td>    0.004</td> <td>   -6.697</td> <td> 0.000</td> <td>   -0.035    -0.019</td>\n",
       "</tr>\n",
       "<tr>\n",
       "  <th>rtg_restrict</th>            <td>   -0.1146</td> <td>    0.035</td> <td>   -3.279</td> <td> 0.001</td> <td>   -0.183    -0.046</td>\n",
       "</tr>\n",
       "<tr>\n",
       "  <th>sm_dist</th>                 <td>    0.0051</td> <td>    0.059</td> <td>    0.086</td> <td> 0.931</td> <td>   -0.111     0.122</td>\n",
       "</tr>\n",
       "<tr>\n",
       "  <th>specialty_genre</th>         <td>   -0.1239</td> <td>    0.054</td> <td>   -2.277</td> <td> 0.023</td> <td>   -0.231    -0.017</td>\n",
       "</tr>\n",
       "<tr>\n",
       "  <th>offseason</th>               <td>   -0.2440</td> <td>    0.101</td> <td>   -2.408</td> <td> 0.016</td> <td>   -0.443    -0.045</td>\n",
       "</tr>\n",
       "<tr>\n",
       "  <th>holiday</th>                 <td>   -0.0385</td> <td>    0.070</td> <td>   -0.552</td> <td> 0.581</td> <td>   -0.176     0.099</td>\n",
       "</tr>\n",
       "<tr>\n",
       "  <th>budget_adj:offseason</th>    <td>    0.0006</td> <td>    0.001</td> <td>    0.568</td> <td> 0.570</td> <td>   -0.002     0.003</td>\n",
       "</tr>\n",
       "</table>\n",
       "<table class=\"simpletable\">\n",
       "<tr>\n",
       "  <th>Omnibus:</th>       <td> 4.129</td> <th>  Durbin-Watson:     </th> <td>   1.918</td>\n",
       "</tr>\n",
       "<tr>\n",
       "  <th>Prob(Omnibus):</th> <td> 0.127</td> <th>  Jarque-Bera (JB):  </th> <td>   4.077</td>\n",
       "</tr>\n",
       "<tr>\n",
       "  <th>Skew:</th>          <td> 0.250</td> <th>  Prob(JB):          </th> <td>   0.130</td>\n",
       "</tr>\n",
       "<tr>\n",
       "  <th>Kurtosis:</th>      <td> 2.992</td> <th>  Cond. No.          </th> <td>4.29e+06</td>\n",
       "</tr>\n",
       "</table>"
      ],
      "text/plain": [
       "<class 'statsmodels.iolib.summary.Summary'>\n",
       "\"\"\"\n",
       "                            OLS Regression Results                            \n",
       "==============================================================================\n",
       "Dep. Variable:      np.log(gross_adj)   R-squared:                       0.424\n",
       "Model:                            OLS   Adj. R-squared:                  0.408\n",
       "Method:                 Least Squares   F-statistic:                     27.92\n",
       "Date:                Fri, 07 Oct 2016   Prob (F-statistic):           6.67e-40\n",
       "Time:                        06:35:37   Log-Likelihood:                -271.74\n",
       "No. Observations:                 391   AIC:                             565.5\n",
       "Df Residuals:                     380   BIC:                             609.1\n",
       "Df Model:                          10                                         \n",
       "Covariance Type:            nonrobust                                         \n",
       "===========================================================================================\n",
       "                              coef    std err          t      P>|t|      [95.0% Conf. Int.]\n",
       "-------------------------------------------------------------------------------------------\n",
       "Intercept                  58.7720      8.110      7.247      0.000        42.826    74.718\n",
       "budget_adj                  0.0017      0.002      0.752      0.452        -0.003     0.006\n",
       "runtime_mins                0.0031      0.002      1.247      0.213        -0.002     0.008\n",
       "budget_adj:runtime_mins  1.875e-05   1.84e-05      1.018      0.309     -1.75e-05   5.5e-05\n",
       "year                       -0.0270      0.004     -6.697      0.000        -0.035    -0.019\n",
       "rtg_restrict               -0.1146      0.035     -3.279      0.001        -0.183    -0.046\n",
       "sm_dist                     0.0051      0.059      0.086      0.931        -0.111     0.122\n",
       "specialty_genre            -0.1239      0.054     -2.277      0.023        -0.231    -0.017\n",
       "offseason                  -0.2440      0.101     -2.408      0.016        -0.443    -0.045\n",
       "holiday                    -0.0385      0.070     -0.552      0.581        -0.176     0.099\n",
       "budget_adj:offseason        0.0006      0.001      0.568      0.570        -0.002     0.003\n",
       "==============================================================================\n",
       "Omnibus:                        4.129   Durbin-Watson:                   1.918\n",
       "Prob(Omnibus):                  0.127   Jarque-Bera (JB):                4.077\n",
       "Skew:                           0.250   Prob(JB):                        0.130\n",
       "Kurtosis:                       2.992   Cond. No.                     4.29e+06\n",
       "==============================================================================\n",
       "\n",
       "Warnings:\n",
       "[1] Standard Errors assume that the covariance matrix of the errors is correctly specified.\n",
       "[2] The condition number is large, 4.29e+06. This might indicate that there are\n",
       "strong multicollinearity or other numerical problems.\n",
       "\"\"\""
      ]
     },
     "execution_count": 80,
     "metadata": {},
     "output_type": "execute_result"
    }
   ],
   "source": [
    "# test model2\n",
    "model2 = sm.OLS(y2_test, X2_test)\n",
    "res2 = model2.fit()\n",
    "res2.summary()"
   ]
  },
  {
   "cell_type": "code",
   "execution_count": 81,
   "metadata": {
    "collapsed": false
   },
   "outputs": [
    {
     "name": "stdout",
     "output_type": "stream",
     "text": [
      "<class 'pandas.core.frame.DataFrame'>\n",
      "Int64Index: 1301 entries, 0 to 1999\n",
      "Data columns (total 12 columns):\n",
      "gross_adj          1301 non-null float64\n",
      "budget_adj         1301 non-null float64\n",
      "runtime_mins       1301 non-null int64\n",
      "year               1301 non-null int64\n",
      "rtg_restrict       1301 non-null int64\n",
      "specialty_genre    1301 non-null int64\n",
      "dist_mktshare      1301 non-null float64\n",
      "lg_dist            1301 non-null int64\n",
      "sm_dist            1301 non-null int64\n",
      "offseason          1301 non-null int64\n",
      "summer             1301 non-null int64\n",
      "holiday            1301 non-null int64\n",
      "dtypes: float64(3), int64(9)\n",
      "memory usage: 132.1 KB\n"
     ]
    }
   ],
   "source": [
    "# model 3\n",
    "# - remove the interactions\n",
    "# - replace sm_dist with dist_mktshare\n",
    "\n",
    "df1.info()"
   ]
  },
  {
   "cell_type": "code",
   "execution_count": 82,
   "metadata": {
    "collapsed": true
   },
   "outputs": [],
   "source": [
    "y3,X3 = patsy.dmatrices('''np.log(gross_adj) ~ \n",
    "budget_adj + runtime_mins + year + rtg_restrict + dist_mktshare + \n",
    "specialty_genre + offseason + holiday''', \n",
    "                      data = df1,\n",
    "                     return_type = 'dataframe')"
   ]
  },
  {
   "cell_type": "code",
   "execution_count": 83,
   "metadata": {
    "collapsed": true
   },
   "outputs": [],
   "source": [
    "# split\n",
    "X3_train, X3_test, y3_train, y3_test = train_test_split(X3,y3,test_size = 0.3)"
   ]
  },
  {
   "cell_type": "code",
   "execution_count": 84,
   "metadata": {
    "collapsed": false
   },
   "outputs": [
    {
     "data": {
      "text/html": [
       "<table class=\"simpletable\">\n",
       "<caption>OLS Regression Results</caption>\n",
       "<tr>\n",
       "  <th>Dep. Variable:</th>    <td>np.log(gross_adj)</td> <th>  R-squared:         </th> <td>   0.384</td>\n",
       "</tr>\n",
       "<tr>\n",
       "  <th>Model:</th>                   <td>OLS</td>        <th>  Adj. R-squared:    </th> <td>   0.378</td>\n",
       "</tr>\n",
       "<tr>\n",
       "  <th>Method:</th>             <td>Least Squares</td>   <th>  F-statistic:       </th> <td>   70.13</td>\n",
       "</tr>\n",
       "<tr>\n",
       "  <th>Date:</th>             <td>Fri, 07 Oct 2016</td>  <th>  Prob (F-statistic):</th> <td>1.71e-89</td>\n",
       "</tr>\n",
       "<tr>\n",
       "  <th>Time:</th>                 <td>06:35:37</td>      <th>  Log-Likelihood:    </th> <td> -609.22</td>\n",
       "</tr>\n",
       "<tr>\n",
       "  <th>No. Observations:</th>      <td>   910</td>       <th>  AIC:               </th> <td>   1236.</td>\n",
       "</tr>\n",
       "<tr>\n",
       "  <th>Df Residuals:</th>          <td>   901</td>       <th>  BIC:               </th> <td>   1280.</td>\n",
       "</tr>\n",
       "<tr>\n",
       "  <th>Df Model:</th>              <td>     8</td>       <th>                     </th>     <td> </td>   \n",
       "</tr>\n",
       "<tr>\n",
       "  <th>Covariance Type:</th>      <td>nonrobust</td>     <th>                     </th>     <td> </td>   \n",
       "</tr>\n",
       "</table>\n",
       "<table class=\"simpletable\">\n",
       "<tr>\n",
       "         <td></td>            <th>coef</th>     <th>std err</th>      <th>t</th>      <th>P>|t|</th> <th>[95.0% Conf. Int.]</th> \n",
       "</tr>\n",
       "<tr>\n",
       "  <th>Intercept</th>       <td>   55.2810</td> <td>    5.031</td> <td>   10.988</td> <td> 0.000</td> <td>   45.407    65.155</td>\n",
       "</tr>\n",
       "<tr>\n",
       "  <th>budget_adj</th>      <td>    0.0038</td> <td>    0.000</td> <td>   11.234</td> <td> 0.000</td> <td>    0.003     0.004</td>\n",
       "</tr>\n",
       "<tr>\n",
       "  <th>runtime_mins</th>    <td>    0.0051</td> <td>    0.001</td> <td>    5.343</td> <td> 0.000</td> <td>    0.003     0.007</td>\n",
       "</tr>\n",
       "<tr>\n",
       "  <th>year</th>            <td>   -0.0254</td> <td>    0.003</td> <td>  -10.137</td> <td> 0.000</td> <td>   -0.030    -0.020</td>\n",
       "</tr>\n",
       "<tr>\n",
       "  <th>rtg_restrict</th>    <td>   -0.0868</td> <td>    0.023</td> <td>   -3.807</td> <td> 0.000</td> <td>   -0.132    -0.042</td>\n",
       "</tr>\n",
       "<tr>\n",
       "  <th>dist_mktshare</th>   <td>   -0.0006</td> <td>    0.003</td> <td>   -0.198</td> <td> 0.843</td> <td>   -0.007     0.006</td>\n",
       "</tr>\n",
       "<tr>\n",
       "  <th>specialty_genre</th> <td>   -0.1359</td> <td>    0.034</td> <td>   -3.956</td> <td> 0.000</td> <td>   -0.203    -0.068</td>\n",
       "</tr>\n",
       "<tr>\n",
       "  <th>offseason</th>       <td>   -0.1939</td> <td>    0.039</td> <td>   -4.973</td> <td> 0.000</td> <td>   -0.270    -0.117</td>\n",
       "</tr>\n",
       "<tr>\n",
       "  <th>holiday</th>         <td>   -0.0880</td> <td>    0.043</td> <td>   -2.031</td> <td> 0.043</td> <td>   -0.173    -0.003</td>\n",
       "</tr>\n",
       "</table>\n",
       "<table class=\"simpletable\">\n",
       "<tr>\n",
       "  <th>Omnibus:</th>       <td>14.165</td> <th>  Durbin-Watson:     </th> <td>   1.863</td>\n",
       "</tr>\n",
       "<tr>\n",
       "  <th>Prob(Omnibus):</th> <td> 0.001</td> <th>  Jarque-Bera (JB):  </th> <td>  14.569</td>\n",
       "</tr>\n",
       "<tr>\n",
       "  <th>Skew:</th>          <td> 0.300</td> <th>  Prob(JB):          </th> <td>0.000686</td>\n",
       "</tr>\n",
       "<tr>\n",
       "  <th>Kurtosis:</th>      <td> 2.845</td> <th>  Cond. No.          </th> <td>6.42e+05</td>\n",
       "</tr>\n",
       "</table>"
      ],
      "text/plain": [
       "<class 'statsmodels.iolib.summary.Summary'>\n",
       "\"\"\"\n",
       "                            OLS Regression Results                            \n",
       "==============================================================================\n",
       "Dep. Variable:      np.log(gross_adj)   R-squared:                       0.384\n",
       "Model:                            OLS   Adj. R-squared:                  0.378\n",
       "Method:                 Least Squares   F-statistic:                     70.13\n",
       "Date:                Fri, 07 Oct 2016   Prob (F-statistic):           1.71e-89\n",
       "Time:                        06:35:37   Log-Likelihood:                -609.22\n",
       "No. Observations:                 910   AIC:                             1236.\n",
       "Df Residuals:                     901   BIC:                             1280.\n",
       "Df Model:                           8                                         \n",
       "Covariance Type:            nonrobust                                         \n",
       "===================================================================================\n",
       "                      coef    std err          t      P>|t|      [95.0% Conf. Int.]\n",
       "-----------------------------------------------------------------------------------\n",
       "Intercept          55.2810      5.031     10.988      0.000        45.407    65.155\n",
       "budget_adj          0.0038      0.000     11.234      0.000         0.003     0.004\n",
       "runtime_mins        0.0051      0.001      5.343      0.000         0.003     0.007\n",
       "year               -0.0254      0.003    -10.137      0.000        -0.030    -0.020\n",
       "rtg_restrict       -0.0868      0.023     -3.807      0.000        -0.132    -0.042\n",
       "dist_mktshare      -0.0006      0.003     -0.198      0.843        -0.007     0.006\n",
       "specialty_genre    -0.1359      0.034     -3.956      0.000        -0.203    -0.068\n",
       "offseason          -0.1939      0.039     -4.973      0.000        -0.270    -0.117\n",
       "holiday            -0.0880      0.043     -2.031      0.043        -0.173    -0.003\n",
       "==============================================================================\n",
       "Omnibus:                       14.165   Durbin-Watson:                   1.863\n",
       "Prob(Omnibus):                  0.001   Jarque-Bera (JB):               14.569\n",
       "Skew:                           0.300   Prob(JB):                     0.000686\n",
       "Kurtosis:                       2.845   Cond. No.                     6.42e+05\n",
       "==============================================================================\n",
       "\n",
       "Warnings:\n",
       "[1] Standard Errors assume that the covariance matrix of the errors is correctly specified.\n",
       "[2] The condition number is large, 6.42e+05. This might indicate that there are\n",
       "strong multicollinearity or other numerical problems.\n",
       "\"\"\""
      ]
     },
     "execution_count": 84,
     "metadata": {},
     "output_type": "execute_result"
    }
   ],
   "source": [
    "# train model3\n",
    "model3 = sm.OLS(y3_train, X3_train)\n",
    "res3 = model3.fit()\n",
    "res3.summary()"
   ]
  },
  {
   "cell_type": "code",
   "execution_count": 85,
   "metadata": {
    "collapsed": false
   },
   "outputs": [
    {
     "data": {
      "text/html": [
       "<table class=\"simpletable\">\n",
       "<caption>OLS Regression Results</caption>\n",
       "<tr>\n",
       "  <th>Dep. Variable:</th>    <td>np.log(gross_adj)</td> <th>  R-squared:         </th> <td>   0.414</td>\n",
       "</tr>\n",
       "<tr>\n",
       "  <th>Model:</th>                   <td>OLS</td>        <th>  Adj. R-squared:    </th> <td>   0.402</td>\n",
       "</tr>\n",
       "<tr>\n",
       "  <th>Method:</th>             <td>Least Squares</td>   <th>  F-statistic:       </th> <td>   33.75</td>\n",
       "</tr>\n",
       "<tr>\n",
       "  <th>Date:</th>             <td>Fri, 07 Oct 2016</td>  <th>  Prob (F-statistic):</th> <td>3.94e-40</td>\n",
       "</tr>\n",
       "<tr>\n",
       "  <th>Time:</th>                 <td>06:35:38</td>      <th>  Log-Likelihood:    </th> <td> -280.85</td>\n",
       "</tr>\n",
       "<tr>\n",
       "  <th>No. Observations:</th>      <td>   391</td>       <th>  AIC:               </th> <td>   579.7</td>\n",
       "</tr>\n",
       "<tr>\n",
       "  <th>Df Residuals:</th>          <td>   382</td>       <th>  BIC:               </th> <td>   615.4</td>\n",
       "</tr>\n",
       "<tr>\n",
       "  <th>Df Model:</th>              <td>     8</td>       <th>                     </th>     <td> </td>   \n",
       "</tr>\n",
       "<tr>\n",
       "  <th>Covariance Type:</th>      <td>nonrobust</td>     <th>                     </th>     <td> </td>   \n",
       "</tr>\n",
       "</table>\n",
       "<table class=\"simpletable\">\n",
       "<tr>\n",
       "         <td></td>            <th>coef</th>     <th>std err</th>      <th>t</th>      <th>P>|t|</th> <th>[95.0% Conf. Int.]</th> \n",
       "</tr>\n",
       "<tr>\n",
       "  <th>Intercept</th>       <td>   68.5275</td> <td>    7.791</td> <td>    8.796</td> <td> 0.000</td> <td>   53.209    83.846</td>\n",
       "</tr>\n",
       "<tr>\n",
       "  <th>budget_adj</th>      <td>    0.0036</td> <td>    0.001</td> <td>    6.322</td> <td> 0.000</td> <td>    0.003     0.005</td>\n",
       "</tr>\n",
       "<tr>\n",
       "  <th>runtime_mins</th>    <td>    0.0056</td> <td>    0.002</td> <td>    3.178</td> <td> 0.002</td> <td>    0.002     0.009</td>\n",
       "</tr>\n",
       "<tr>\n",
       "  <th>year</th>            <td>   -0.0319</td> <td>    0.004</td> <td>   -8.230</td> <td> 0.000</td> <td>   -0.040    -0.024</td>\n",
       "</tr>\n",
       "<tr>\n",
       "  <th>rtg_restrict</th>    <td>   -0.1130</td> <td>    0.035</td> <td>   -3.213</td> <td> 0.001</td> <td>   -0.182    -0.044</td>\n",
       "</tr>\n",
       "<tr>\n",
       "  <th>dist_mktshare</th>   <td>   -0.0025</td> <td>    0.005</td> <td>   -0.467</td> <td> 0.641</td> <td>   -0.013     0.008</td>\n",
       "</tr>\n",
       "<tr>\n",
       "  <th>specialty_genre</th> <td>   -0.1509</td> <td>    0.056</td> <td>   -2.719</td> <td> 0.007</td> <td>   -0.260    -0.042</td>\n",
       "</tr>\n",
       "<tr>\n",
       "  <th>offseason</th>       <td>   -0.1805</td> <td>    0.066</td> <td>   -2.756</td> <td> 0.006</td> <td>   -0.309    -0.052</td>\n",
       "</tr>\n",
       "<tr>\n",
       "  <th>holiday</th>         <td>   -0.1167</td> <td>    0.075</td> <td>   -1.552</td> <td> 0.121</td> <td>   -0.264     0.031</td>\n",
       "</tr>\n",
       "</table>\n",
       "<table class=\"simpletable\">\n",
       "<tr>\n",
       "  <th>Omnibus:</th>       <td>10.130</td> <th>  Durbin-Watson:     </th> <td>   2.052</td>\n",
       "</tr>\n",
       "<tr>\n",
       "  <th>Prob(Omnibus):</th> <td> 0.006</td> <th>  Jarque-Bera (JB):  </th> <td>  10.163</td>\n",
       "</tr>\n",
       "<tr>\n",
       "  <th>Skew:</th>          <td> 0.372</td> <th>  Prob(JB):          </th> <td> 0.00621</td>\n",
       "</tr>\n",
       "<tr>\n",
       "  <th>Kurtosis:</th>      <td> 3.267</td> <th>  Cond. No.          </th> <td>6.17e+05</td>\n",
       "</tr>\n",
       "</table>"
      ],
      "text/plain": [
       "<class 'statsmodels.iolib.summary.Summary'>\n",
       "\"\"\"\n",
       "                            OLS Regression Results                            \n",
       "==============================================================================\n",
       "Dep. Variable:      np.log(gross_adj)   R-squared:                       0.414\n",
       "Model:                            OLS   Adj. R-squared:                  0.402\n",
       "Method:                 Least Squares   F-statistic:                     33.75\n",
       "Date:                Fri, 07 Oct 2016   Prob (F-statistic):           3.94e-40\n",
       "Time:                        06:35:38   Log-Likelihood:                -280.85\n",
       "No. Observations:                 391   AIC:                             579.7\n",
       "Df Residuals:                     382   BIC:                             615.4\n",
       "Df Model:                           8                                         \n",
       "Covariance Type:            nonrobust                                         \n",
       "===================================================================================\n",
       "                      coef    std err          t      P>|t|      [95.0% Conf. Int.]\n",
       "-----------------------------------------------------------------------------------\n",
       "Intercept          68.5275      7.791      8.796      0.000        53.209    83.846\n",
       "budget_adj          0.0036      0.001      6.322      0.000         0.003     0.005\n",
       "runtime_mins        0.0056      0.002      3.178      0.002         0.002     0.009\n",
       "year               -0.0319      0.004     -8.230      0.000        -0.040    -0.024\n",
       "rtg_restrict       -0.1130      0.035     -3.213      0.001        -0.182    -0.044\n",
       "dist_mktshare      -0.0025      0.005     -0.467      0.641        -0.013     0.008\n",
       "specialty_genre    -0.1509      0.056     -2.719      0.007        -0.260    -0.042\n",
       "offseason          -0.1805      0.066     -2.756      0.006        -0.309    -0.052\n",
       "holiday            -0.1167      0.075     -1.552      0.121        -0.264     0.031\n",
       "==============================================================================\n",
       "Omnibus:                       10.130   Durbin-Watson:                   2.052\n",
       "Prob(Omnibus):                  0.006   Jarque-Bera (JB):               10.163\n",
       "Skew:                           0.372   Prob(JB):                      0.00621\n",
       "Kurtosis:                       3.267   Cond. No.                     6.17e+05\n",
       "==============================================================================\n",
       "\n",
       "Warnings:\n",
       "[1] Standard Errors assume that the covariance matrix of the errors is correctly specified.\n",
       "[2] The condition number is large, 6.17e+05. This might indicate that there are\n",
       "strong multicollinearity or other numerical problems.\n",
       "\"\"\""
      ]
     },
     "execution_count": 85,
     "metadata": {},
     "output_type": "execute_result"
    }
   ],
   "source": [
    "# test model3\n",
    "model3 = sm.OLS(y3_test, X3_test)\n",
    "res3 = model3.fit()\n",
    "res3.summary()"
   ]
  },
  {
   "cell_type": "code",
   "execution_count": 86,
   "metadata": {
    "collapsed": false
   },
   "outputs": [
    {
     "data": {
      "text/plain": [
       "Intercept          5.769173e+29\n",
       "budget_adj         1.003656e+00\n",
       "runtime_mins       1.005572e+00\n",
       "year               9.685553e-01\n",
       "rtg_restrict       8.931139e-01\n",
       "dist_mktshare      9.974928e-01\n",
       "specialty_genre    8.598961e-01\n",
       "offseason          8.348118e-01\n",
       "holiday            8.898747e-01\n",
       "dtype: float64"
      ]
     },
     "execution_count": 86,
     "metadata": {},
     "output_type": "execute_result"
    }
   ],
   "source": [
    "np.exp(res3.params)"
   ]
  },
  {
   "cell_type": "code",
   "execution_count": 87,
   "metadata": {
    "collapsed": false
   },
   "outputs": [
    {
     "data": {
      "text/html": [
       "<table class=\"simpletable\">\n",
       "<caption>OLS Regression Results</caption>\n",
       "<tr>\n",
       "  <th>Dep. Variable:</th>    <td>np.log(gross_adj)</td> <th>  R-squared:         </th> <td>   0.320</td>\n",
       "</tr>\n",
       "<tr>\n",
       "  <th>Model:</th>                   <td>OLS</td>        <th>  Adj. R-squared:    </th> <td>   0.314</td>\n",
       "</tr>\n",
       "<tr>\n",
       "  <th>Method:</th>             <td>Least Squares</td>   <th>  F-statistic:       </th> <td>   53.04</td>\n",
       "</tr>\n",
       "<tr>\n",
       "  <th>Date:</th>             <td>Fri, 07 Oct 2016</td>  <th>  Prob (F-statistic):</th> <td>1.62e-70</td>\n",
       "</tr>\n",
       "<tr>\n",
       "  <th>Time:</th>                 <td>06:35:38</td>      <th>  Log-Likelihood:    </th> <td> -671.37</td>\n",
       "</tr>\n",
       "<tr>\n",
       "  <th>No. Observations:</th>      <td>   910</td>       <th>  AIC:               </th> <td>   1361.</td>\n",
       "</tr>\n",
       "<tr>\n",
       "  <th>Df Residuals:</th>          <td>   901</td>       <th>  BIC:               </th> <td>   1404.</td>\n",
       "</tr>\n",
       "<tr>\n",
       "  <th>Df Model:</th>              <td>     8</td>       <th>                     </th>     <td> </td>   \n",
       "</tr>\n",
       "<tr>\n",
       "  <th>Covariance Type:</th>      <td>nonrobust</td>     <th>                     </th>     <td> </td>   \n",
       "</tr>\n",
       "</table>\n",
       "<table class=\"simpletable\">\n",
       "<tr>\n",
       "            <td></td>               <th>coef</th>     <th>std err</th>      <th>t</th>      <th>P>|t|</th> <th>[95.0% Conf. Int.]</th> \n",
       "</tr>\n",
       "<tr>\n",
       "  <th>Intercept</th>             <td>  359.0437</td> <td>   40.127</td> <td>    8.948</td> <td> 0.000</td> <td>  280.291   437.797</td>\n",
       "</tr>\n",
       "<tr>\n",
       "  <th>np.log(budget_adj)</th>    <td>    0.1270</td> <td>    0.023</td> <td>    5.619</td> <td> 0.000</td> <td>    0.083     0.171</td>\n",
       "</tr>\n",
       "<tr>\n",
       "  <th>np.log(runtime_mins)</th>  <td>    0.8760</td> <td>    0.119</td> <td>    7.368</td> <td> 0.000</td> <td>    0.643     1.109</td>\n",
       "</tr>\n",
       "<tr>\n",
       "  <th>np.log(year)</th>          <td>  -47.1155</td> <td>    5.279</td> <td>   -8.926</td> <td> 0.000</td> <td>  -57.475   -36.755</td>\n",
       "</tr>\n",
       "<tr>\n",
       "  <th>np.log(rtg_restrict)</th>  <td>   -0.3572</td> <td>    0.061</td> <td>   -5.859</td> <td> 0.000</td> <td>   -0.477    -0.238</td>\n",
       "</tr>\n",
       "<tr>\n",
       "  <th>np.log(dist_mktshare)</th> <td>   -0.0091</td> <td>    0.015</td> <td>   -0.616</td> <td> 0.538</td> <td>   -0.038     0.020</td>\n",
       "</tr>\n",
       "<tr>\n",
       "  <th>specialty_genre</th>       <td>   -0.2129</td> <td>    0.038</td> <td>   -5.660</td> <td> 0.000</td> <td>   -0.287    -0.139</td>\n",
       "</tr>\n",
       "<tr>\n",
       "  <th>offseason</th>             <td>   -0.2482</td> <td>    0.041</td> <td>   -6.066</td> <td> 0.000</td> <td>   -0.328    -0.168</td>\n",
       "</tr>\n",
       "<tr>\n",
       "  <th>holiday</th>               <td>   -0.1240</td> <td>    0.047</td> <td>   -2.665</td> <td> 0.008</td> <td>   -0.215    -0.033</td>\n",
       "</tr>\n",
       "</table>\n",
       "<table class=\"simpletable\">\n",
       "<tr>\n",
       "  <th>Omnibus:</th>       <td>21.984</td> <th>  Durbin-Watson:     </th> <td>   1.941</td>\n",
       "</tr>\n",
       "<tr>\n",
       "  <th>Prob(Omnibus):</th> <td> 0.000</td> <th>  Jarque-Bera (JB):  </th> <td>  23.064</td>\n",
       "</tr>\n",
       "<tr>\n",
       "  <th>Skew:</th>          <td> 0.389</td> <th>  Prob(JB):          </th> <td>9.81e-06</td>\n",
       "</tr>\n",
       "<tr>\n",
       "  <th>Kurtosis:</th>      <td> 3.056</td> <th>  Cond. No.          </th> <td>2.44e+04</td>\n",
       "</tr>\n",
       "</table>"
      ],
      "text/plain": [
       "<class 'statsmodels.iolib.summary.Summary'>\n",
       "\"\"\"\n",
       "                            OLS Regression Results                            \n",
       "==============================================================================\n",
       "Dep. Variable:      np.log(gross_adj)   R-squared:                       0.320\n",
       "Model:                            OLS   Adj. R-squared:                  0.314\n",
       "Method:                 Least Squares   F-statistic:                     53.04\n",
       "Date:                Fri, 07 Oct 2016   Prob (F-statistic):           1.62e-70\n",
       "Time:                        06:35:38   Log-Likelihood:                -671.37\n",
       "No. Observations:                 910   AIC:                             1361.\n",
       "Df Residuals:                     901   BIC:                             1404.\n",
       "Df Model:                           8                                         \n",
       "Covariance Type:            nonrobust                                         \n",
       "=========================================================================================\n",
       "                            coef    std err          t      P>|t|      [95.0% Conf. Int.]\n",
       "-----------------------------------------------------------------------------------------\n",
       "Intercept               359.0437     40.127      8.948      0.000       280.291   437.797\n",
       "np.log(budget_adj)        0.1270      0.023      5.619      0.000         0.083     0.171\n",
       "np.log(runtime_mins)      0.8760      0.119      7.368      0.000         0.643     1.109\n",
       "np.log(year)            -47.1155      5.279     -8.926      0.000       -57.475   -36.755\n",
       "np.log(rtg_restrict)     -0.3572      0.061     -5.859      0.000        -0.477    -0.238\n",
       "np.log(dist_mktshare)    -0.0091      0.015     -0.616      0.538        -0.038     0.020\n",
       "specialty_genre          -0.2129      0.038     -5.660      0.000        -0.287    -0.139\n",
       "offseason                -0.2482      0.041     -6.066      0.000        -0.328    -0.168\n",
       "holiday                  -0.1240      0.047     -2.665      0.008        -0.215    -0.033\n",
       "==============================================================================\n",
       "Omnibus:                       21.984   Durbin-Watson:                   1.941\n",
       "Prob(Omnibus):                  0.000   Jarque-Bera (JB):               23.064\n",
       "Skew:                           0.389   Prob(JB):                     9.81e-06\n",
       "Kurtosis:                       3.056   Cond. No.                     2.44e+04\n",
       "==============================================================================\n",
       "\n",
       "Warnings:\n",
       "[1] Standard Errors assume that the covariance matrix of the errors is correctly specified.\n",
       "[2] The condition number is large, 2.44e+04. This might indicate that there are\n",
       "strong multicollinearity or other numerical problems.\n",
       "\"\"\""
      ]
     },
     "execution_count": 87,
     "metadata": {},
     "output_type": "execute_result"
    }
   ],
   "source": [
    "# model 3b\n",
    "y3b,X3b = patsy.dmatrices('''np.log(gross_adj) ~ \n",
    "np.log(budget_adj) + np.log(runtime_mins) + np.log(year) + np.log(rtg_restrict) \n",
    "+ np.log(dist_mktshare) + specialty_genre + offseason + holiday''', \n",
    "                      data = df1,\n",
    "                     return_type = 'dataframe')\n",
    "\n",
    "# split\n",
    "X3b_train, X3b_test, y3b_train, y3b_test = train_test_split(X3b,y3b,test_size = 0.3)\n",
    "\n",
    "# train model3b\n",
    "model3b = sm.OLS(y3b_train, X3b_train)\n",
    "res3b = model3b.fit()\n",
    "res3b.summary()"
   ]
  },
  {
   "cell_type": "code",
   "execution_count": 88,
   "metadata": {
    "collapsed": false
   },
   "outputs": [
    {
     "data": {
      "text/plain": [
       "0.3280981933824223"
      ]
     },
     "execution_count": 88,
     "metadata": {},
     "output_type": "execute_result"
    }
   ],
   "source": [
    "# Ridge Cross-Validation\n",
    "rcv = RidgeCV(cv=10)\n",
    "rcv.fit(X3b,y3b)\n",
    "rcv.score(X3b_test,y3b_test)"
   ]
  },
  {
   "cell_type": "code",
   "execution_count": 89,
   "metadata": {
    "collapsed": true
   },
   "outputs": [],
   "source": [
    "# model4\n",
    "# drop dist_mktshare (no variables related to distributors)\n",
    "# drop holiday indicator\n",
    "\n",
    "y4,X4 = patsy.dmatrices('''np.log(gross_adj) ~ \n",
    "budget_adj + runtime_mins + year + rtg_restrict +  \n",
    "specialty_genre + offseason''', \n",
    "                      data = df1,\n",
    "                     return_type = 'dataframe')"
   ]
  },
  {
   "cell_type": "code",
   "execution_count": 90,
   "metadata": {
    "collapsed": true
   },
   "outputs": [],
   "source": [
    "# split\n",
    "X4_train, X4_test, y4_train, y4_test = train_test_split(X4,y4,test_size = 0.3)"
   ]
  },
  {
   "cell_type": "code",
   "execution_count": 91,
   "metadata": {
    "collapsed": false
   },
   "outputs": [
    {
     "data": {
      "text/html": [
       "<table class=\"simpletable\">\n",
       "<caption>OLS Regression Results</caption>\n",
       "<tr>\n",
       "  <th>Dep. Variable:</th>    <td>np.log(gross_adj)</td> <th>  R-squared:         </th> <td>   0.387</td>\n",
       "</tr>\n",
       "<tr>\n",
       "  <th>Model:</th>                   <td>OLS</td>        <th>  Adj. R-squared:    </th> <td>   0.383</td>\n",
       "</tr>\n",
       "<tr>\n",
       "  <th>Method:</th>             <td>Least Squares</td>   <th>  F-statistic:       </th> <td>   94.96</td>\n",
       "</tr>\n",
       "<tr>\n",
       "  <th>Date:</th>             <td>Fri, 07 Oct 2016</td>  <th>  Prob (F-statistic):</th> <td>1.88e-92</td>\n",
       "</tr>\n",
       "<tr>\n",
       "  <th>Time:</th>                 <td>06:35:38</td>      <th>  Log-Likelihood:    </th> <td> -650.95</td>\n",
       "</tr>\n",
       "<tr>\n",
       "  <th>No. Observations:</th>      <td>   910</td>       <th>  AIC:               </th> <td>   1316.</td>\n",
       "</tr>\n",
       "<tr>\n",
       "  <th>Df Residuals:</th>          <td>   903</td>       <th>  BIC:               </th> <td>   1350.</td>\n",
       "</tr>\n",
       "<tr>\n",
       "  <th>Df Model:</th>              <td>     6</td>       <th>                     </th>     <td> </td>   \n",
       "</tr>\n",
       "<tr>\n",
       "  <th>Covariance Type:</th>      <td>nonrobust</td>     <th>                     </th>     <td> </td>   \n",
       "</tr>\n",
       "</table>\n",
       "<table class=\"simpletable\">\n",
       "<tr>\n",
       "         <td></td>            <th>coef</th>     <th>std err</th>      <th>t</th>      <th>P>|t|</th> <th>[95.0% Conf. Int.]</th> \n",
       "</tr>\n",
       "<tr>\n",
       "  <th>Intercept</th>       <td>   61.1028</td> <td>    5.188</td> <td>   11.778</td> <td> 0.000</td> <td>   50.921    71.285</td>\n",
       "</tr>\n",
       "<tr>\n",
       "  <th>budget_adj</th>      <td>    0.0038</td> <td>    0.000</td> <td>   11.022</td> <td> 0.000</td> <td>    0.003     0.004</td>\n",
       "</tr>\n",
       "<tr>\n",
       "  <th>runtime_mins</th>    <td>    0.0047</td> <td>    0.001</td> <td>    4.726</td> <td> 0.000</td> <td>    0.003     0.007</td>\n",
       "</tr>\n",
       "<tr>\n",
       "  <th>year</th>            <td>   -0.0283</td> <td>    0.003</td> <td>  -10.940</td> <td> 0.000</td> <td>   -0.033    -0.023</td>\n",
       "</tr>\n",
       "<tr>\n",
       "  <th>rtg_restrict</th>    <td>   -0.0819</td> <td>    0.023</td> <td>   -3.496</td> <td> 0.000</td> <td>   -0.128    -0.036</td>\n",
       "</tr>\n",
       "<tr>\n",
       "  <th>specialty_genre</th> <td>   -0.1693</td> <td>    0.036</td> <td>   -4.767</td> <td> 0.000</td> <td>   -0.239    -0.100</td>\n",
       "</tr>\n",
       "<tr>\n",
       "  <th>offseason</th>       <td>   -0.1533</td> <td>    0.036</td> <td>   -4.250</td> <td> 0.000</td> <td>   -0.224    -0.083</td>\n",
       "</tr>\n",
       "</table>\n",
       "<table class=\"simpletable\">\n",
       "<tr>\n",
       "  <th>Omnibus:</th>       <td> 9.876</td> <th>  Durbin-Watson:     </th> <td>   2.145</td>\n",
       "</tr>\n",
       "<tr>\n",
       "  <th>Prob(Omnibus):</th> <td> 0.007</td> <th>  Jarque-Bera (JB):  </th> <td>  10.099</td>\n",
       "</tr>\n",
       "<tr>\n",
       "  <th>Skew:</th>          <td> 0.251</td> <th>  Prob(JB):          </th> <td> 0.00641</td>\n",
       "</tr>\n",
       "<tr>\n",
       "  <th>Kurtosis:</th>      <td> 2.883</td> <th>  Cond. No.          </th> <td>6.34e+05</td>\n",
       "</tr>\n",
       "</table>"
      ],
      "text/plain": [
       "<class 'statsmodels.iolib.summary.Summary'>\n",
       "\"\"\"\n",
       "                            OLS Regression Results                            \n",
       "==============================================================================\n",
       "Dep. Variable:      np.log(gross_adj)   R-squared:                       0.387\n",
       "Model:                            OLS   Adj. R-squared:                  0.383\n",
       "Method:                 Least Squares   F-statistic:                     94.96\n",
       "Date:                Fri, 07 Oct 2016   Prob (F-statistic):           1.88e-92\n",
       "Time:                        06:35:38   Log-Likelihood:                -650.95\n",
       "No. Observations:                 910   AIC:                             1316.\n",
       "Df Residuals:                     903   BIC:                             1350.\n",
       "Df Model:                           6                                         \n",
       "Covariance Type:            nonrobust                                         \n",
       "===================================================================================\n",
       "                      coef    std err          t      P>|t|      [95.0% Conf. Int.]\n",
       "-----------------------------------------------------------------------------------\n",
       "Intercept          61.1028      5.188     11.778      0.000        50.921    71.285\n",
       "budget_adj          0.0038      0.000     11.022      0.000         0.003     0.004\n",
       "runtime_mins        0.0047      0.001      4.726      0.000         0.003     0.007\n",
       "year               -0.0283      0.003    -10.940      0.000        -0.033    -0.023\n",
       "rtg_restrict       -0.0819      0.023     -3.496      0.000        -0.128    -0.036\n",
       "specialty_genre    -0.1693      0.036     -4.767      0.000        -0.239    -0.100\n",
       "offseason          -0.1533      0.036     -4.250      0.000        -0.224    -0.083\n",
       "==============================================================================\n",
       "Omnibus:                        9.876   Durbin-Watson:                   2.145\n",
       "Prob(Omnibus):                  0.007   Jarque-Bera (JB):               10.099\n",
       "Skew:                           0.251   Prob(JB):                      0.00641\n",
       "Kurtosis:                       2.883   Cond. No.                     6.34e+05\n",
       "==============================================================================\n",
       "\n",
       "Warnings:\n",
       "[1] Standard Errors assume that the covariance matrix of the errors is correctly specified.\n",
       "[2] The condition number is large, 6.34e+05. This might indicate that there are\n",
       "strong multicollinearity or other numerical problems.\n",
       "\"\"\""
      ]
     },
     "execution_count": 91,
     "metadata": {},
     "output_type": "execute_result"
    }
   ],
   "source": [
    "# train model4\n",
    "model4 = sm.OLS(y4_train, X4_train)\n",
    "res4 = model4.fit()\n",
    "res4.summary()"
   ]
  },
  {
   "cell_type": "code",
   "execution_count": 92,
   "metadata": {
    "collapsed": false
   },
   "outputs": [
    {
     "data": {
      "text/html": [
       "<table class=\"simpletable\">\n",
       "<caption>OLS Regression Results</caption>\n",
       "<tr>\n",
       "  <th>Dep. Variable:</th>    <td>np.log(gross_adj)</td> <th>  R-squared:         </th> <td>   0.396</td>\n",
       "</tr>\n",
       "<tr>\n",
       "  <th>Model:</th>                   <td>OLS</td>        <th>  Adj. R-squared:    </th> <td>   0.386</td>\n",
       "</tr>\n",
       "<tr>\n",
       "  <th>Method:</th>             <td>Least Squares</td>   <th>  F-statistic:       </th> <td>   41.93</td>\n",
       "</tr>\n",
       "<tr>\n",
       "  <th>Date:</th>             <td>Fri, 07 Oct 2016</td>  <th>  Prob (F-statistic):</th> <td>2.84e-39</td>\n",
       "</tr>\n",
       "<tr>\n",
       "  <th>Time:</th>                 <td>06:35:38</td>      <th>  Log-Likelihood:    </th> <td> -242.26</td>\n",
       "</tr>\n",
       "<tr>\n",
       "  <th>No. Observations:</th>      <td>   391</td>       <th>  AIC:               </th> <td>   498.5</td>\n",
       "</tr>\n",
       "<tr>\n",
       "  <th>Df Residuals:</th>          <td>   384</td>       <th>  BIC:               </th> <td>   526.3</td>\n",
       "</tr>\n",
       "<tr>\n",
       "  <th>Df Model:</th>              <td>     6</td>       <th>                     </th>     <td> </td>   \n",
       "</tr>\n",
       "<tr>\n",
       "  <th>Covariance Type:</th>      <td>nonrobust</td>     <th>                     </th>     <td> </td>   \n",
       "</tr>\n",
       "</table>\n",
       "<table class=\"simpletable\">\n",
       "<tr>\n",
       "         <td></td>            <th>coef</th>     <th>std err</th>      <th>t</th>      <th>P>|t|</th> <th>[95.0% Conf. Int.]</th> \n",
       "</tr>\n",
       "<tr>\n",
       "  <th>Intercept</th>       <td>   52.3754</td> <td>    7.228</td> <td>    7.246</td> <td> 0.000</td> <td>   38.164    66.587</td>\n",
       "</tr>\n",
       "<tr>\n",
       "  <th>budget_adj</th>      <td>    0.0038</td> <td>    0.000</td> <td>    7.836</td> <td> 0.000</td> <td>    0.003     0.005</td>\n",
       "</tr>\n",
       "<tr>\n",
       "  <th>runtime_mins</th>    <td>    0.0054</td> <td>    0.001</td> <td>    3.652</td> <td> 0.000</td> <td>    0.003     0.008</td>\n",
       "</tr>\n",
       "<tr>\n",
       "  <th>year</th>            <td>   -0.0240</td> <td>    0.004</td> <td>   -6.664</td> <td> 0.000</td> <td>   -0.031    -0.017</td>\n",
       "</tr>\n",
       "<tr>\n",
       "  <th>rtg_restrict</th>    <td>   -0.1040</td> <td>    0.031</td> <td>   -3.366</td> <td> 0.001</td> <td>   -0.165    -0.043</td>\n",
       "</tr>\n",
       "<tr>\n",
       "  <th>specialty_genre</th> <td>   -0.0940</td> <td>    0.051</td> <td>   -1.853</td> <td> 0.065</td> <td>   -0.194     0.006</td>\n",
       "</tr>\n",
       "<tr>\n",
       "  <th>offseason</th>       <td>   -0.1325</td> <td>    0.051</td> <td>   -2.608</td> <td> 0.009</td> <td>   -0.232    -0.033</td>\n",
       "</tr>\n",
       "</table>\n",
       "<table class=\"simpletable\">\n",
       "<tr>\n",
       "  <th>Omnibus:</th>       <td>18.700</td> <th>  Durbin-Watson:     </th> <td>   1.998</td>\n",
       "</tr>\n",
       "<tr>\n",
       "  <th>Prob(Omnibus):</th> <td> 0.000</td> <th>  Jarque-Bera (JB):  </th> <td>  20.018</td>\n",
       "</tr>\n",
       "<tr>\n",
       "  <th>Skew:</th>          <td> 0.531</td> <th>  Prob(JB):          </th> <td>4.50e-05</td>\n",
       "</tr>\n",
       "<tr>\n",
       "  <th>Kurtosis:</th>      <td> 3.320</td> <th>  Cond. No.          </th> <td>6.33e+05</td>\n",
       "</tr>\n",
       "</table>"
      ],
      "text/plain": [
       "<class 'statsmodels.iolib.summary.Summary'>\n",
       "\"\"\"\n",
       "                            OLS Regression Results                            \n",
       "==============================================================================\n",
       "Dep. Variable:      np.log(gross_adj)   R-squared:                       0.396\n",
       "Model:                            OLS   Adj. R-squared:                  0.386\n",
       "Method:                 Least Squares   F-statistic:                     41.93\n",
       "Date:                Fri, 07 Oct 2016   Prob (F-statistic):           2.84e-39\n",
       "Time:                        06:35:38   Log-Likelihood:                -242.26\n",
       "No. Observations:                 391   AIC:                             498.5\n",
       "Df Residuals:                     384   BIC:                             526.3\n",
       "Df Model:                           6                                         \n",
       "Covariance Type:            nonrobust                                         \n",
       "===================================================================================\n",
       "                      coef    std err          t      P>|t|      [95.0% Conf. Int.]\n",
       "-----------------------------------------------------------------------------------\n",
       "Intercept          52.3754      7.228      7.246      0.000        38.164    66.587\n",
       "budget_adj          0.0038      0.000      7.836      0.000         0.003     0.005\n",
       "runtime_mins        0.0054      0.001      3.652      0.000         0.003     0.008\n",
       "year               -0.0240      0.004     -6.664      0.000        -0.031    -0.017\n",
       "rtg_restrict       -0.1040      0.031     -3.366      0.001        -0.165    -0.043\n",
       "specialty_genre    -0.0940      0.051     -1.853      0.065        -0.194     0.006\n",
       "offseason          -0.1325      0.051     -2.608      0.009        -0.232    -0.033\n",
       "==============================================================================\n",
       "Omnibus:                       18.700   Durbin-Watson:                   1.998\n",
       "Prob(Omnibus):                  0.000   Jarque-Bera (JB):               20.018\n",
       "Skew:                           0.531   Prob(JB):                     4.50e-05\n",
       "Kurtosis:                       3.320   Cond. No.                     6.33e+05\n",
       "==============================================================================\n",
       "\n",
       "Warnings:\n",
       "[1] Standard Errors assume that the covariance matrix of the errors is correctly specified.\n",
       "[2] The condition number is large, 6.33e+05. This might indicate that there are\n",
       "strong multicollinearity or other numerical problems.\n",
       "\"\"\""
      ]
     },
     "execution_count": 92,
     "metadata": {},
     "output_type": "execute_result"
    }
   ],
   "source": [
    "# test model4\n",
    "model4 = sm.OLS(y4_test, X4_test)\n",
    "res4 = model4.fit()\n",
    "res4.summary()"
   ]
  },
  {
   "cell_type": "code",
   "execution_count": 93,
   "metadata": {
    "collapsed": false
   },
   "outputs": [
    {
     "data": {
      "text/plain": [
       "0.47238178661525326"
      ]
     },
     "execution_count": 93,
     "metadata": {},
     "output_type": "execute_result"
    }
   ],
   "source": [
    "# Ridge Cross-Validation\n",
    "rcv = RidgeCV(cv=10)\n",
    "rcv.fit(X,y)\n",
    "rcv.score(X_test,y_test)"
   ]
  },
  {
   "cell_type": "code",
   "execution_count": 94,
   "metadata": {
    "collapsed": false
   },
   "outputs": [
    {
     "data": {
      "text/plain": [
       "0.41718383522508223"
      ]
     },
     "execution_count": 94,
     "metadata": {},
     "output_type": "execute_result"
    }
   ],
   "source": [
    "# Ridge Cross-Validation\n",
    "rcv = RidgeCV(cv=10)\n",
    "rcv.fit(X2,y2)\n",
    "rcv.score(X2_test,y2_test)"
   ]
  },
  {
   "cell_type": "code",
   "execution_count": 95,
   "metadata": {
    "collapsed": false
   },
   "outputs": [
    {
     "data": {
      "text/plain": [
       "0.40737707767368952"
      ]
     },
     "execution_count": 95,
     "metadata": {},
     "output_type": "execute_result"
    }
   ],
   "source": [
    "# Ridge Cross-Validation\n",
    "rcv = RidgeCV(cv=10)\n",
    "rcv.fit(X3,y3)\n",
    "rcv.score(X3_test,y3_test)"
   ]
  },
  {
   "cell_type": "code",
   "execution_count": 96,
   "metadata": {
    "collapsed": false
   },
   "outputs": [
    {
     "data": {
      "text/plain": [
       "0.39245169023590953"
      ]
     },
     "execution_count": 96,
     "metadata": {},
     "output_type": "execute_result"
    }
   ],
   "source": [
    "# Ridge Cross-Validation\n",
    "rcv = RidgeCV(cv=10)\n",
    "rcv.fit(X4,y4)\n",
    "rcv.score(X4_test,y4_test)"
   ]
  },
  {
   "cell_type": "code",
   "execution_count": null,
   "metadata": {
    "collapsed": true
   },
   "outputs": [],
   "source": []
  }
 ],
 "metadata": {
  "anaconda-cloud": {},
  "kernelspec": {
   "display_name": "Python [Root]",
   "language": "python",
   "name": "Python [Root]"
  },
  "language_info": {
   "codemirror_mode": {
    "name": "ipython",
    "version": 3
   },
   "file_extension": ".py",
   "mimetype": "text/x-python",
   "name": "python",
   "nbconvert_exporter": "python",
   "pygments_lexer": "ipython3",
   "version": "3.5.2"
  }
 },
 "nbformat": 4,
 "nbformat_minor": 0
}
