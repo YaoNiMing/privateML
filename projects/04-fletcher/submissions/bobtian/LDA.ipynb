{
 "cells": [
  {
   "cell_type": "markdown",
   "metadata": {},
   "source": [
    "# Topic Modeling with gensim\n",
    "We'll try out [Latent Dirichlet Allocation (LDA)](https://en.wikipedia.org/wiki/Latent_Dirichlet_allocation) in [gensim](http://radimrehurek.com/gensim/index.html) on the [20 Newsgroups dataset](http://scikit-learn.org/stable/datasets/twenty_newsgroups.html) with some simple preprocessing."
   ]
  },
  {
   "cell_type": "markdown",
   "metadata": {},
   "source": [
    "#### Install gensim"
   ]
  },
  {
   "cell_type": "code",
   "execution_count": 1,
   "metadata": {
    "collapsed": false
   },
   "outputs": [
    {
     "name": "stdout",
     "output_type": "stream",
     "text": [
      "Collecting gensim\n",
      "  Downloading gensim-0.13.3-cp35-cp35m-macosx_10_6_intel.macosx_10_9_intel.macosx_10_9_x86_64.macosx_10_10_intel.macosx_10_10_x86_64.whl (4.3MB)\n",
      "\u001b[K    100% |████████████████████████████████| 4.3MB 182kB/s \n",
      "\u001b[?25hCollecting numpy>=1.3 (from gensim)\n",
      "  Downloading numpy-1.11.2-cp35-cp35m-macosx_10_6_intel.macosx_10_9_intel.macosx_10_9_x86_64.macosx_10_10_intel.macosx_10_10_x86_64.whl (3.9MB)\n",
      "\u001b[K    100% |████████████████████████████████| 3.9MB 204kB/s \n",
      "\u001b[?25hCollecting smart-open>=1.2.1 (from gensim)\n",
      "  Downloading smart_open-1.3.5.tar.gz\n",
      "Requirement already up-to-date: six>=1.5.0 in /Users/Bob/anaconda/lib/python3.5/site-packages (from gensim)\n",
      "Requirement already up-to-date: scipy>=0.7.0 in /Users/Bob/anaconda/lib/python3.5/site-packages (from gensim)\n",
      "Collecting boto>=2.32 (from smart-open>=1.2.1->gensim)\n",
      "  Downloading boto-2.43.0-py2.py3-none-any.whl (1.3MB)\n",
      "\u001b[K    100% |████████████████████████████████| 1.4MB 555kB/s \n",
      "\u001b[?25hCollecting bz2file (from smart-open>=1.2.1->gensim)\n",
      "  Downloading bz2file-0.98.tar.gz\n",
      "Requirement already up-to-date: requests in /Users/Bob/anaconda/lib/python3.5/site-packages (from smart-open>=1.2.1->gensim)\n",
      "Building wheels for collected packages: smart-open, bz2file\n",
      "  Running setup.py bdist_wheel for smart-open ... \u001b[?25l-\b \b\\\b \bdone\n",
      "\u001b[?25h  Stored in directory: /Users/Bob/Library/Caches/pip/wheels/a6/61/e5/74ff1f24ad225557675acc0cc2ccb196d7b83c1eb7d80390c8\n",
      "  Running setup.py bdist_wheel for bz2file ... \u001b[?25l-\b \b\\\b \bdone\n",
      "\u001b[?25h  Stored in directory: /Users/Bob/Library/Caches/pip/wheels/31/9c/20/996d65ca104cbca940b1b053299b68459391c01c774d073126\n",
      "Successfully built smart-open bz2file\n",
      "Installing collected packages: numpy, boto, bz2file, smart-open, gensim\n",
      "  Found existing installation: numpy 1.11.1\n",
      "    Uninstalling numpy-1.11.1:\n",
      "      Successfully uninstalled numpy-1.11.1\n",
      "  Found existing installation: boto 2.42.0\n",
      "\u001b[33m    DEPRECATION: Uninstalling a distutils installed project (boto) has been deprecated and will be removed in a future version. This is due to the fact that uninstalling a distutils project will only partially uninstall the project.\u001b[0m\n",
      "    Uninstalling boto-2.42.0:\n",
      "      Successfully uninstalled boto-2.42.0\n",
      "Successfully installed boto-2.43.0 bz2file-0.98 gensim-0.13.3 numpy-1.11.2 smart-open-1.3.5\n"
     ]
    }
   ],
   "source": [
    "!pip install --upgrade gensim"
   ]
  },
  {
   "cell_type": "markdown",
   "metadata": {},
   "source": [
    "##### imports"
   ]
  },
  {
   "cell_type": "code",
   "execution_count": 2,
   "metadata": {
    "collapsed": false
   },
   "outputs": [
    {
     "name": "stderr",
     "output_type": "stream",
     "text": [
      "/Users/Bob/anaconda/lib/python3.5/site-packages/gensim/utils.py:1015: UserWarning: Pattern library is not installed, lemmatization won't be available.\n",
      "  warnings.warn(\"Pattern library is not installed, lemmatization won't be available.\")\n"
     ]
    }
   ],
   "source": [
    "# gensim\n",
    "from gensim import corpora, models, similarities, matutils\n",
    "# sklearn\n",
    "from sklearn import datasets\n",
    "from sklearn.feature_extraction.text import CountVectorizer\n",
    "from sklearn.cluster import KMeans\n",
    "# logging for gensim (set to INFO)\n",
    "import logging\n",
    "logging.basicConfig(format='%(asctime)s : %(levelname)s : %(message)s', level=logging.INFO)"
   ]
  },
  {
   "cell_type": "markdown",
   "metadata": {},
   "source": [
    "Let's retain only a subset of the 20 categories in the original 20 Newsgroups Dataset."
   ]
  },
  {
   "cell_type": "code",
   "execution_count": 3,
   "metadata": {
    "collapsed": false
   },
   "outputs": [
    {
     "name": "stderr",
     "output_type": "stream",
     "text": [
      "2016-11-01 11:47:38,569 : WARNING : Downloading dataset from http://people.csail.mit.edu/jrennie/20Newsgroups/20news-bydate.tar.gz (14 MB)\n",
      "2016-11-01 11:47:42,054 : INFO : Decompressing /Users/Bob/scikit_learn_data/20news_home/20news-bydate.tar.gz\n"
     ]
    }
   ],
   "source": [
    "# Set categories\n",
    "categories = ['alt.atheism', 'comp.graphics', 'rec.sport.baseball']#, \n",
    "              #'rec.motorcycles', 'sci.space', 'talk.politics.mideast']\n",
    "# Download the training subset of the 20 NG dataset, with headers, footers, quotes removed\n",
    "# Only keep docs from the 6 categories above\n",
    "ng_train = datasets.fetch_20newsgroups(subset='train', categories=categories, \n",
    "                                      remove=('headers', 'footers', 'quotes'))"
   ]
  },
  {
   "cell_type": "code",
   "execution_count": 5,
   "metadata": {
    "collapsed": false
   },
   "outputs": [
    {
     "data": {
      "text/plain": [
       "['\\n\\n\\nI happen to be a big fan of Jayson Stark.  He is a baseball writer for the \\nPhiladelphia Inquirer.  Every tuesday he writes a \"Week in Review\" column.  \\nHe writes about unusual situations that occured during the week.  Unusual\\nstats.  He has a section called \"Kinerisms of the Week\" which are stupid\\nlines by Mets brodcaster Ralph Kiner.  Every year he has the LGTGAH contest.\\nThat stands for \"Last guy to get a hit.\"  He also writes for Baseball \\nAmerica.  That column is sort of a highlights of \"Week in Review.\"  If you \\ncan, check his column out sometime.  He might make you laugh.\\n\\nRob Koffler\\n',\n",
       " '\\nHere\\'s one I remember: (sort of)\\nYogi\\'s asleep in a hotel room late at night and gets a call from someone.\\nAfter he answers the phone the person at the other end asks if he woke Yogi\\nup. Yogi answered, \"No, the phone did.\"',\n",
       " '\\n\\n\\tSorry, I was, but I somehow have misplaced my diskette from the last \\ncouple of months or so. However, thanks to the efforts of Bobby, it is being \\nreplenished rather quickly!  \\n\\n\\tHere is a recent favorite:\\n\\n\\t--\\n\\n\\n       \"Satan and the Angels do not have freewill.  \\n        They do what god tells them to do. \"\\n\\n        S.N. Mozumder (snm6394@ultb.isc.rit.edu) \\n\\n\\n--\\n\\n\\n       \"Satan and the Angels do not have freewill.  \\n        They do what god tells them to do. \"',\n",
       " '     Since when does atheism mean trashing other religions?There must be a God\\n     of inbreeding to which you are his only son.',\n",
       " '\\n\\n\\n\\n\\nThese people were very silly.  Any team that gets to the World Series\\ncan win the World Series, and anybody who ever expects a sweep is\\ncrazy.  If you put the best team in baseball in the Series against\\nthe worst team in baseball, the worst team would win at least a game\\nmost of the time and very well could win the Series, though the odds\\nwould certainly be against them.']"
      ]
     },
     "execution_count": 5,
     "metadata": {},
     "output_type": "execute_result"
    }
   ],
   "source": [
    "# Take a look at the first doc\n",
    "ng_train.data[0:5]"
   ]
  },
  {
   "cell_type": "markdown",
   "metadata": {},
   "source": [
    "## Document Preprocessing\n",
    "We'll need to generate a term-document matrix of word (token) counts for use in LDA.\n",
    "\n",
    "We'll use `sklearn`'s `CountVectorizer` to generate our term-document matrix of counts. We'll make use of a few parameters to accomplish the following preprocessing of the text documents all within the `CountVectorizer`:\n",
    "* `analyzer=word`: Tokenize by word\n",
    "* `ngram_range=(1,2)`: Keep all 1 and 2-word grams\n",
    "* `stop_words=english`: Remove all English stop words\n",
    "* `token_pattern=\\\\b[a-z][a-z]+\\\\b`: Match all tokens with 2 or more (strictly) alphabet characters"
   ]
  },
  {
   "cell_type": "code",
   "execution_count": 45,
   "metadata": {
    "collapsed": false
   },
   "outputs": [
    {
     "data": {
      "text/plain": [
       "CountVectorizer(analyzer='word', binary=False, decode_error='strict',\n",
       "        dtype=<class 'numpy.int64'>, encoding='utf-8', input='content',\n",
       "        lowercase=True, max_df=0.7, max_features=None, min_df=1,\n",
       "        ngram_range=(1, 2), preprocessor=None, stop_words='english',\n",
       "        strip_accents=None, token_pattern='\\\\b[a-z][a-z]+\\\\b',\n",
       "        tokenizer=None, vocabulary=None)"
      ]
     },
     "execution_count": 45,
     "metadata": {},
     "output_type": "execute_result"
    }
   ],
   "source": [
    "# Create a CountVectorizer for parsing/counting words\n",
    "vectorizer = CountVectorizer(ngram_range=(1,2),stop_words='english',token_pattern='\\\\b[a-z][a-z]+\\\\b',max_df=0.7)\n",
    "vectorizer.fit(ng_train.data)"
   ]
  },
  {
   "cell_type": "code",
   "execution_count": 46,
   "metadata": {
    "collapsed": false
   },
   "outputs": [],
   "source": [
    "# Create the term-document matrix\n",
    "# Transpose it so the terms are the rows\n",
    "counts = vectorizer.transform(ng_train.data).transpose()"
   ]
  },
  {
   "cell_type": "markdown",
   "metadata": {},
   "source": [
    "##### Convert to gensim\n",
    "We need to convert our sparse `scipy` matrix to a `gensim`-friendly object called a Corpus:"
   ]
  },
  {
   "cell_type": "code",
   "execution_count": 47,
   "metadata": {
    "collapsed": true
   },
   "outputs": [],
   "source": [
    "# Convert sparse matrix of counts to a gensim corpus\n",
    "corpus = matutils.Sparse2Corpus(counts)"
   ]
  },
  {
   "cell_type": "markdown",
   "metadata": {},
   "source": [
    "##### Map matrix rows to words (tokens)\n",
    "We need to save a mapping (dict) of row id to word (token) for later use by gensim:"
   ]
  },
  {
   "cell_type": "code",
   "execution_count": 48,
   "metadata": {
    "collapsed": false
   },
   "outputs": [],
   "source": [
    "id2word = dict((v,k) for k,v in vectorizer.vocabulary_.items())"
   ]
  },
  {
   "cell_type": "code",
   "execution_count": 49,
   "metadata": {
    "collapsed": false
   },
   "outputs": [
    {
     "data": {
      "text/plain": [
       "118113"
      ]
     },
     "execution_count": 49,
     "metadata": {},
     "output_type": "execute_result"
    }
   ],
   "source": [
    "len(id2word)"
   ]
  },
  {
   "cell_type": "markdown",
   "metadata": {},
   "source": [
    "## LDA\n",
    "At this point we can simply plow ahead in creating an LDA model.  It requires our corpus of word counts, mapping of row ids to words, and the number of topics (3)."
   ]
  },
  {
   "cell_type": "code",
   "execution_count": 50,
   "metadata": {
    "collapsed": false
   },
   "outputs": [
    {
     "name": "stderr",
     "output_type": "stream",
     "text": [
      "2016-11-01 14:23:19,460 : INFO : using symmetric alpha at 0.3333333333333333\n",
      "2016-11-01 14:23:19,461 : INFO : using symmetric eta at 0.3333333333333333\n",
      "2016-11-01 14:23:19,461 : INFO : using serial LDA version on this node\n",
      "2016-11-01 14:23:21,538 : INFO : running online LDA training, 3 topics, 10 passes over the supplied corpus of 1661 documents, updating model once every 1661 documents, evaluating perplexity every 1661 documents, iterating 50x with a convergence threshold of 0.001000\n",
      "2016-11-01 14:23:34,803 : INFO : -17.439 per-word bound, 177712.2 perplexity estimate based on a held-out corpus of 1661 documents with 241620 words\n",
      "2016-11-01 14:23:34,804 : INFO : PROGRESS: pass 0, at document #1661/1661\n",
      "2016-11-01 14:23:38,226 : INFO : topic #0 (0.333): 0.002*\"don\" + 0.002*\"image\" + 0.001*\"does\" + 0.001*\"good\" + 0.001*\"people\" + 0.001*\"graphics\" + 0.001*\"think\" + 0.001*\"edu\" + 0.001*\"god\" + 0.001*\"like\"\n",
      "2016-11-01 14:23:38,228 : INFO : topic #1 (0.333): 0.002*\"like\" + 0.002*\"think\" + 0.001*\"just\" + 0.001*\"people\" + 0.001*\"don\" + 0.001*\"know\" + 0.001*\"does\" + 0.001*\"image\" + 0.001*\"year\" + 0.001*\"good\"\n",
      "2016-11-01 14:23:38,230 : INFO : topic #2 (0.333): 0.002*\"don\" + 0.002*\"just\" + 0.001*\"image\" + 0.001*\"god\" + 0.001*\"think\" + 0.001*\"know\" + 0.001*\"time\" + 0.001*\"like\" + 0.001*\"edu\" + 0.001*\"graphics\"\n",
      "2016-11-01 14:23:38,231 : INFO : topic diff=0.854212, rho=1.000000\n",
      "2016-11-01 14:23:49,544 : INFO : -16.086 per-word bound, 69557.3 perplexity estimate based on a held-out corpus of 1661 documents with 241620 words\n",
      "2016-11-01 14:23:49,545 : INFO : PROGRESS: pass 1, at document #1661/1661\n",
      "2016-11-01 14:23:53,024 : INFO : topic #0 (0.333): 0.002*\"don\" + 0.001*\"graphics\" + 0.001*\"does\" + 0.001*\"good\" + 0.001*\"people\" + 0.001*\"edu\" + 0.001*\"think\" + 0.001*\"like\" + 0.001*\"image\" + 0.001*\"just\"\n",
      "2016-11-01 14:23:53,027 : INFO : topic #1 (0.333): 0.002*\"like\" + 0.001*\"think\" + 0.001*\"image\" + 0.001*\"just\" + 0.001*\"people\" + 0.001*\"don\" + 0.001*\"jpeg\" + 0.001*\"good\" + 0.001*\"know\" + 0.001*\"year\"\n",
      "2016-11-01 14:23:53,028 : INFO : topic #2 (0.333): 0.002*\"don\" + 0.002*\"god\" + 0.002*\"just\" + 0.001*\"image\" + 0.001*\"think\" + 0.001*\"know\" + 0.001*\"time\" + 0.001*\"does\" + 0.001*\"like\" + 0.001*\"edu\"\n",
      "2016-11-01 14:23:53,029 : INFO : topic diff=0.550975, rho=0.577350\n",
      "2016-11-01 14:24:03,975 : INFO : -15.822 per-word bound, 57914.9 perplexity estimate based on a held-out corpus of 1661 documents with 241620 words\n",
      "2016-11-01 14:24:03,976 : INFO : PROGRESS: pass 2, at document #1661/1661\n",
      "2016-11-01 14:24:06,754 : INFO : topic #0 (0.333): 0.002*\"don\" + 0.002*\"graphics\" + 0.001*\"does\" + 0.001*\"edu\" + 0.001*\"good\" + 0.001*\"like\" + 0.001*\"think\" + 0.001*\"people\" + 0.001*\"just\" + 0.001*\"know\"\n",
      "2016-11-01 14:24:06,757 : INFO : topic #1 (0.333): 0.002*\"image\" + 0.002*\"like\" + 0.002*\"jpeg\" + 0.001*\"think\" + 0.001*\"don\" + 0.001*\"just\" + 0.001*\"people\" + 0.001*\"good\" + 0.001*\"year\" + 0.001*\"know\"\n",
      "2016-11-01 14:24:06,759 : INFO : topic #2 (0.333): 0.002*\"don\" + 0.002*\"god\" + 0.002*\"just\" + 0.001*\"think\" + 0.001*\"know\" + 0.001*\"image\" + 0.001*\"does\" + 0.001*\"time\" + 0.001*\"atheism\" + 0.001*\"like\"\n",
      "2016-11-01 14:24:06,760 : INFO : topic diff=0.298422, rho=0.500000\n",
      "2016-11-01 14:24:17,643 : INFO : -15.750 per-word bound, 55111.4 perplexity estimate based on a held-out corpus of 1661 documents with 241620 words\n",
      "2016-11-01 14:24:17,643 : INFO : PROGRESS: pass 3, at document #1661/1661\n",
      "2016-11-01 14:24:20,218 : INFO : topic #0 (0.333): 0.002*\"don\" + 0.002*\"graphics\" + 0.001*\"does\" + 0.001*\"like\" + 0.001*\"edu\" + 0.001*\"good\" + 0.001*\"think\" + 0.001*\"people\" + 0.001*\"just\" + 0.001*\"know\"\n",
      "2016-11-01 14:24:20,221 : INFO : topic #1 (0.333): 0.002*\"image\" + 0.002*\"jpeg\" + 0.002*\"like\" + 0.001*\"don\" + 0.001*\"think\" + 0.001*\"people\" + 0.001*\"just\" + 0.001*\"good\" + 0.001*\"year\" + 0.001*\"know\"\n",
      "2016-11-01 14:24:20,223 : INFO : topic #2 (0.333): 0.002*\"god\" + 0.002*\"don\" + 0.002*\"just\" + 0.001*\"think\" + 0.001*\"know\" + 0.001*\"does\" + 0.001*\"image\" + 0.001*\"time\" + 0.001*\"atheism\" + 0.001*\"like\"\n",
      "2016-11-01 14:24:20,224 : INFO : topic diff=0.161152, rho=0.447214\n",
      "2016-11-01 14:24:30,673 : INFO : -15.729 per-word bound, 54311.3 perplexity estimate based on a held-out corpus of 1661 documents with 241620 words\n",
      "2016-11-01 14:24:30,673 : INFO : PROGRESS: pass 4, at document #1661/1661\n",
      "2016-11-01 14:24:33,175 : INFO : topic #0 (0.333): 0.002*\"don\" + 0.002*\"graphics\" + 0.001*\"does\" + 0.001*\"like\" + 0.001*\"edu\" + 0.001*\"good\" + 0.001*\"think\" + 0.001*\"people\" + 0.001*\"just\" + 0.001*\"know\"\n",
      "2016-11-01 14:24:33,178 : INFO : topic #1 (0.333): 0.002*\"image\" + 0.002*\"jpeg\" + 0.002*\"like\" + 0.001*\"don\" + 0.001*\"think\" + 0.001*\"people\" + 0.001*\"just\" + 0.001*\"good\" + 0.001*\"year\" + 0.001*\"know\"\n",
      "2016-11-01 14:24:33,180 : INFO : topic #2 (0.333): 0.002*\"god\" + 0.002*\"don\" + 0.002*\"just\" + 0.001*\"think\" + 0.001*\"know\" + 0.001*\"does\" + 0.001*\"atheism\" + 0.001*\"time\" + 0.001*\"image\" + 0.001*\"like\"\n",
      "2016-11-01 14:24:33,181 : INFO : topic diff=0.091602, rho=0.408248\n",
      "2016-11-01 14:24:43,551 : INFO : -15.722 per-word bound, 54036.7 perplexity estimate based on a held-out corpus of 1661 documents with 241620 words\n",
      "2016-11-01 14:24:43,552 : INFO : PROGRESS: pass 5, at document #1661/1661\n",
      "2016-11-01 14:24:46,086 : INFO : topic #0 (0.333): 0.002*\"don\" + 0.002*\"graphics\" + 0.001*\"does\" + 0.001*\"like\" + 0.001*\"edu\" + 0.001*\"good\" + 0.001*\"think\" + 0.001*\"people\" + 0.001*\"just\" + 0.001*\"know\"\n",
      "2016-11-01 14:24:46,089 : INFO : topic #1 (0.333): 0.002*\"image\" + 0.002*\"jpeg\" + 0.002*\"like\" + 0.001*\"don\" + 0.001*\"think\" + 0.001*\"people\" + 0.001*\"just\" + 0.001*\"good\" + 0.001*\"year\" + 0.001*\"know\"\n",
      "2016-11-01 14:24:46,091 : INFO : topic #2 (0.333): 0.002*\"god\" + 0.002*\"don\" + 0.002*\"just\" + 0.001*\"think\" + 0.001*\"know\" + 0.001*\"does\" + 0.001*\"atheism\" + 0.001*\"time\" + 0.001*\"image\" + 0.001*\"data\"\n",
      "2016-11-01 14:24:46,092 : INFO : topic diff=0.054059, rho=0.377964\n",
      "2016-11-01 14:24:56,990 : INFO : -15.719 per-word bound, 53932.9 perplexity estimate based on a held-out corpus of 1661 documents with 241620 words\n",
      "2016-11-01 14:24:56,990 : INFO : PROGRESS: pass 6, at document #1661/1661\n",
      "2016-11-01 14:24:59,516 : INFO : topic #0 (0.333): 0.002*\"don\" + 0.002*\"graphics\" + 0.001*\"does\" + 0.001*\"like\" + 0.001*\"edu\" + 0.001*\"good\" + 0.001*\"think\" + 0.001*\"people\" + 0.001*\"just\" + 0.001*\"know\"\n",
      "2016-11-01 14:24:59,518 : INFO : topic #1 (0.333): 0.002*\"image\" + 0.002*\"jpeg\" + 0.002*\"like\" + 0.001*\"don\" + 0.001*\"think\" + 0.001*\"people\" + 0.001*\"just\" + 0.001*\"good\" + 0.001*\"year\" + 0.001*\"know\"\n",
      "2016-11-01 14:24:59,520 : INFO : topic #2 (0.333): 0.002*\"god\" + 0.002*\"don\" + 0.002*\"just\" + 0.001*\"think\" + 0.001*\"know\" + 0.001*\"does\" + 0.001*\"atheism\" + 0.001*\"time\" + 0.001*\"image\" + 0.001*\"data\"\n",
      "2016-11-01 14:24:59,521 : INFO : topic diff=0.033039, rho=0.353553\n",
      "2016-11-01 14:25:10,107 : INFO : -15.718 per-word bound, 53889.8 perplexity estimate based on a held-out corpus of 1661 documents with 241620 words\n",
      "2016-11-01 14:25:10,107 : INFO : PROGRESS: pass 7, at document #1661/1661\n",
      "2016-11-01 14:25:12,700 : INFO : topic #0 (0.333): 0.002*\"don\" + 0.002*\"graphics\" + 0.001*\"does\" + 0.001*\"like\" + 0.001*\"edu\" + 0.001*\"good\" + 0.001*\"think\" + 0.001*\"people\" + 0.001*\"just\" + 0.001*\"know\"\n",
      "2016-11-01 14:25:12,702 : INFO : topic #1 (0.333): 0.002*\"image\" + 0.002*\"jpeg\" + 0.002*\"like\" + 0.001*\"don\" + 0.001*\"think\" + 0.001*\"people\" + 0.001*\"just\" + 0.001*\"good\" + 0.001*\"year\" + 0.001*\"know\"\n",
      "2016-11-01 14:25:12,704 : INFO : topic #2 (0.333): 0.002*\"god\" + 0.002*\"don\" + 0.002*\"just\" + 0.001*\"think\" + 0.001*\"know\" + 0.001*\"does\" + 0.001*\"atheism\" + 0.001*\"time\" + 0.001*\"image\" + 0.001*\"data\"\n",
      "2016-11-01 14:25:12,705 : INFO : topic diff=0.020820, rho=0.333333\n",
      "2016-11-01 14:25:23,675 : INFO : -15.717 per-word bound, 53870.4 perplexity estimate based on a held-out corpus of 1661 documents with 241620 words\n",
      "2016-11-01 14:25:23,675 : INFO : PROGRESS: pass 8, at document #1661/1661\n",
      "2016-11-01 14:25:26,402 : INFO : topic #0 (0.333): 0.002*\"don\" + 0.002*\"graphics\" + 0.001*\"does\" + 0.001*\"like\" + 0.001*\"edu\" + 0.001*\"good\" + 0.001*\"think\" + 0.001*\"people\" + 0.001*\"just\" + 0.001*\"know\"\n",
      "2016-11-01 14:25:26,404 : INFO : topic #1 (0.333): 0.002*\"image\" + 0.002*\"jpeg\" + 0.002*\"like\" + 0.001*\"don\" + 0.001*\"think\" + 0.001*\"people\" + 0.001*\"just\" + 0.001*\"good\" + 0.001*\"year\" + 0.001*\"know\"\n",
      "2016-11-01 14:25:26,406 : INFO : topic #2 (0.333): 0.002*\"god\" + 0.002*\"don\" + 0.002*\"just\" + 0.001*\"think\" + 0.001*\"know\" + 0.001*\"does\" + 0.001*\"atheism\" + 0.001*\"time\" + 0.001*\"image\" + 0.001*\"data\"\n",
      "2016-11-01 14:25:26,407 : INFO : topic diff=0.013489, rho=0.316228\n",
      "2016-11-01 14:25:38,175 : INFO : -15.717 per-word bound, 53861.0 perplexity estimate based on a held-out corpus of 1661 documents with 241620 words\n",
      "2016-11-01 14:25:38,176 : INFO : PROGRESS: pass 9, at document #1661/1661\n",
      "2016-11-01 14:25:40,898 : INFO : topic #0 (0.333): 0.002*\"don\" + 0.002*\"graphics\" + 0.001*\"does\" + 0.001*\"like\" + 0.001*\"edu\" + 0.001*\"good\" + 0.001*\"think\" + 0.001*\"people\" + 0.001*\"just\" + 0.001*\"know\"\n",
      "2016-11-01 14:25:40,900 : INFO : topic #1 (0.333): 0.002*\"image\" + 0.002*\"jpeg\" + 0.002*\"like\" + 0.001*\"don\" + 0.001*\"think\" + 0.001*\"people\" + 0.001*\"just\" + 0.001*\"good\" + 0.001*\"year\" + 0.001*\"know\"\n",
      "2016-11-01 14:25:40,902 : INFO : topic #2 (0.333): 0.002*\"god\" + 0.002*\"don\" + 0.002*\"just\" + 0.001*\"think\" + 0.001*\"know\" + 0.001*\"does\" + 0.001*\"atheism\" + 0.001*\"time\" + 0.001*\"image\" + 0.001*\"data\"\n",
      "2016-11-01 14:25:40,903 : INFO : topic diff=0.008959, rho=0.301511\n"
     ]
    }
   ],
   "source": [
    "# Create lda model (equivalent to \"fit\" in sklearn)\n",
    "lda = models.LdaModel(corpus=corpus, num_topics=3, id2word=id2word, passes=10)"
   ]
  },
  {
   "cell_type": "markdown",
   "metadata": {},
   "source": [
    "Let's take a look at what happened.  Here are the 5 most important words for each of the 3 topics we found:"
   ]
  },
  {
   "cell_type": "code",
   "execution_count": 51,
   "metadata": {
    "collapsed": false
   },
   "outputs": [
    {
     "name": "stderr",
     "output_type": "stream",
     "text": [
      "2016-11-01 14:25:40,921 : INFO : topic #0 (0.333): 0.002*\"don\" + 0.002*\"graphics\" + 0.001*\"does\" + 0.001*\"like\" + 0.001*\"edu\" + 0.001*\"good\" + 0.001*\"think\" + 0.001*\"people\" + 0.001*\"just\" + 0.001*\"know\"\n",
      "2016-11-01 14:25:40,923 : INFO : topic #1 (0.333): 0.002*\"image\" + 0.002*\"jpeg\" + 0.002*\"like\" + 0.001*\"don\" + 0.001*\"think\" + 0.001*\"people\" + 0.001*\"just\" + 0.001*\"good\" + 0.001*\"year\" + 0.001*\"know\"\n",
      "2016-11-01 14:25:40,925 : INFO : topic #2 (0.333): 0.002*\"god\" + 0.002*\"don\" + 0.002*\"just\" + 0.001*\"think\" + 0.001*\"know\" + 0.001*\"does\" + 0.001*\"atheism\" + 0.001*\"time\" + 0.001*\"image\" + 0.001*\"data\"\n"
     ]
    },
    {
     "data": {
      "text/plain": [
       "[(0,\n",
       "  '0.002*\"don\" + 0.002*\"graphics\" + 0.001*\"does\" + 0.001*\"like\" + 0.001*\"edu\" + 0.001*\"good\" + 0.001*\"think\" + 0.001*\"people\" + 0.001*\"just\" + 0.001*\"know\"'),\n",
       " (1,\n",
       "  '0.002*\"image\" + 0.002*\"jpeg\" + 0.002*\"like\" + 0.001*\"don\" + 0.001*\"think\" + 0.001*\"people\" + 0.001*\"just\" + 0.001*\"good\" + 0.001*\"year\" + 0.001*\"know\"'),\n",
       " (2,\n",
       "  '0.002*\"god\" + 0.002*\"don\" + 0.002*\"just\" + 0.001*\"think\" + 0.001*\"know\" + 0.001*\"does\" + 0.001*\"atheism\" + 0.001*\"time\" + 0.001*\"image\" + 0.001*\"data\"')]"
      ]
     },
     "execution_count": 51,
     "metadata": {},
     "output_type": "execute_result"
    }
   ],
   "source": [
    "lda.print_topics()"
   ]
  },
  {
   "cell_type": "markdown",
   "metadata": {},
   "source": [
    "#### Topic Space\n",
    "If we want to map our documents to the topic space we need to actually use the LdaModel transformer that we created above, like so:"
   ]
  },
  {
   "cell_type": "code",
   "execution_count": 54,
   "metadata": {
    "collapsed": true
   },
   "outputs": [],
   "source": [
    "# Transform the docs from the word space to the topic space (like \"transform\" in sklearn)\n",
    "lda_corpus = lda[corpus]"
   ]
  },
  {
   "cell_type": "code",
   "execution_count": 55,
   "metadata": {
    "collapsed": true
   },
   "outputs": [],
   "source": [
    "# Store the documents' topic vectors in a list so we can take a peak\n",
    "lda_docs = [doc for doc in lda_corpus]"
   ]
  },
  {
   "cell_type": "markdown",
   "metadata": {},
   "source": [
    "Now we can take a look at the document vectors in the topic space, which are measures of the component of each document along each topic.  Thus, at most a document vector can have num_topics=3 nonzero components in the topic space, and most have far fewer."
   ]
  },
  {
   "cell_type": "code",
   "execution_count": 56,
   "metadata": {
    "collapsed": false
   },
   "outputs": [
    {
     "data": {
      "text/plain": [
       "[(2, 0.98227502693866175)]"
      ]
     },
     "execution_count": 56,
     "metadata": {},
     "output_type": "execute_result"
    }
   ],
   "source": [
    "# Check out the document vectors in the topic space for the first 5 documents\n",
    "lda_docs[1]"
   ]
  },
  {
   "cell_type": "code",
   "execution_count": 57,
   "metadata": {
    "collapsed": false
   },
   "outputs": [
    {
     "data": {
      "text/plain": [
       "'\\nHere\\'s one I remember: (sort of)\\nYogi\\'s asleep in a hotel room late at night and gets a call from someone.\\nAfter he answers the phone the person at the other end asks if he woke Yogi\\nup. Yogi answered, \"No, the phone did.\"'"
      ]
     },
     "execution_count": 57,
     "metadata": {},
     "output_type": "execute_result"
    }
   ],
   "source": [
    "ng_train.data[1]"
   ]
  },
  {
   "cell_type": "markdown",
   "metadata": {},
   "source": [
    "## On your own...\n",
    "- Go get some of the NIPS papers from [here](https://archive.ics.uci.edu/ml/datasets/Bag+of+Words).  \n",
    "- Try performing LDA on this data with gensim\n",
    "- Play with some of the preprocessing options and parameters for LDA, observe what happens\n",
    "- See if you can use the resulting topic space to extract topic vectors and cluster some documents\n",
    "- How do your results look?"
   ]
  },
  {
   "cell_type": "code",
   "execution_count": null,
   "metadata": {
    "collapsed": true
   },
   "outputs": [],
   "source": []
  }
 ],
 "metadata": {
  "anaconda-cloud": {},
  "kernelspec": {
   "display_name": "Python [conda root]",
   "language": "python",
   "name": "conda-root-py"
  },
  "language_info": {
   "codemirror_mode": {
    "name": "ipython",
    "version": 3
   },
   "file_extension": ".py",
   "mimetype": "text/x-python",
   "name": "python",
   "nbconvert_exporter": "python",
   "pygments_lexer": "ipython3",
   "version": "3.5.2"
  }
 },
 "nbformat": 4,
 "nbformat_minor": 0
}
