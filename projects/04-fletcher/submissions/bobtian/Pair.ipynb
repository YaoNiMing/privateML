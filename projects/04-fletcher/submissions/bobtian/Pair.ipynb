{
 "cells": [
  {
   "cell_type": "markdown",
   "metadata": {},
   "source": [
    "You are given the following three documents:"
   ]
  },
  {
   "cell_type": "code",
   "execution_count": 54,
   "metadata": {
    "collapsed": true
   },
   "outputs": [],
   "source": [
    "text = [\"wookie stormtrooper\",\n",
    "        \"wookie wookie wookie stormtrooper stormtrooper stormtrooper\",\n",
    "        \"harry potter\"]"
   ]
  },
  {
   "cell_type": "markdown",
   "metadata": {
    "collapsed": false
   },
   "source": [
    " * Transform this data into a bag of words representation, with simple counts. How informative is this format? How much information do you have about individual words?"
   ]
  },
  {
   "cell_type": "code",
   "execution_count": 55,
   "metadata": {
    "collapsed": false
   },
   "outputs": [
    {
     "name": "stdout",
     "output_type": "stream",
     "text": [
      "[[0 0 1 1]\n",
      " [0 0 3 3]\n",
      " [1 1 0 0]]\n"
     ]
    }
   ],
   "source": [
    "from sklearn.feature_extraction.text import CountVectorizer\n",
    "CV = CountVectorizer().fit_transform(text).todense()\n",
    "print(CV)"
   ]
  },
  {
   "cell_type": "markdown",
   "metadata": {},
   "source": [
    " * Calculate Euclidean and cosine distances between each pair of documents. How do these distances relate to your intuition for the documents' similarities?"
   ]
  },
  {
   "cell_type": "code",
   "execution_count": 79,
   "metadata": {
    "collapsed": false
   },
   "outputs": [
    {
     "name": "stdout",
     "output_type": "stream",
     "text": [
      "Euclidian Distance:\n",
      "distance between [wookie wookie wookie stormtrooper stormtrooper stormtrooper] [wookie stormtrooper] : 2.82842712475\n",
      "distance between [harry potter] [wookie stormtrooper] : 2.0\n",
      "distance between [harry potter] [wookie wookie wookie stormtrooper stormtrooper stormtrooper] : 4.472135955\n",
      "Cosine Distance:\n",
      "distance between [wookie wookie wookie stormtrooper stormtrooper stormtrooper] [wookie stormtrooper] : 1.0\n",
      "distance between [harry potter] [wookie stormtrooper] : 0.0\n",
      "distance between [harry potter] [wookie wookie wookie stormtrooper stormtrooper stormtrooper] : 0.0\n"
     ]
    }
   ],
   "source": [
    "from sklearn.feature_extraction.text import CountVectorizer\n",
    "CV = CountVectorizer().fit_transform(text).todense()\n",
    "def euclidian(doc1,doc2):\n",
    "    return np.sqrt(np.sum((doc1-doc2)**2))\n",
    "def cosine(doc1,doc2):\n",
    "    dot = np.sum(doc1*doc2)\n",
    "    mag = np.sqrt(np.sum(doc1**2)*np.sum(doc2**2))\n",
    "    return (dot/mag)\n",
    "\n",
    "print('Euclidian Distance:')     \n",
    "for i,doc1 in enumerate(CV):\n",
    "    for j,doc2 in enumerate(CV):\n",
    "        if i > j: \n",
    "            print('distance between','['+text[i]+']','['+text[j]+']',':',euclidian(np.array(doc1),np.array(doc2)))\n",
    "print('Cosine Distance:')            \n",
    "for i,doc1 in enumerate(CV):\n",
    "    for j,doc2 in enumerate(CV):\n",
    "        if i > j: \n",
    "            print('distance between','['+text[i]+']','['+text[j]+']',':',cosine(np.array(doc1),np.array(doc2)))"
   ]
  },
  {
   "cell_type": "markdown",
   "metadata": {},
   "source": [
    " * Calculate one minus the cosine distance between each pair of de-meaned documents, and the Pearson correlation coefficient between each pair of documents. How are they related? Is this a coincidence? Find a counterexample or prove that there isn't one."
   ]
  },
  {
   "cell_type": "code",
   "execution_count": 80,
   "metadata": {
    "collapsed": false
   },
   "outputs": [
    {
     "name": "stdout",
     "output_type": "stream",
     "text": [
      "1-Cosine Distance:\n",
      "distance between [wookie wookie wookie stormtrooper stormtrooper stormtrooper] [wookie stormtrooper] : 0.0\n",
      "distance between [harry potter] [wookie stormtrooper] : 2.0\n",
      "distance between [harry potter] [wookie wookie wookie stormtrooper stormtrooper stormtrooper] : 2.0\n",
      "Pearson correlation:\n",
      "distance between [wookie wookie wookie stormtrooper stormtrooper stormtrooper] [wookie stormtrooper] : 1.0\n",
      "distance between [harry potter] [wookie stormtrooper] : -1.0\n",
      "distance between [harry potter] [wookie wookie wookie stormtrooper stormtrooper stormtrooper] : -1.0\n"
     ]
    }
   ],
   "source": [
    "print('1-Cosine Distance:')\n",
    "for i,doc1 in enumerate(CV):\n",
    "    for j,doc2 in enumerate(CV):\n",
    "        if i > j: \n",
    "            d1 = np.array(doc1)-np.mean(np.array(doc1))\n",
    "            d2 = np.array(doc2)-np.mean(np.array(doc2))\n",
    "            print('distance between','['+text[i]+']','['+text[j]+']',':',1-cosine(d1,d2))\n",
    "print('Pearson correlation:')\n",
    "for i,doc1 in enumerate(CV):\n",
    "    for j,doc2 in enumerate(CV):\n",
    "        if i > j: \n",
    "            d1 = np.array(doc1)\n",
    "            d2 = np.array(doc2)\n",
    "            print('distance between','['+text[i]+']','['+text[j]+']',':',np.corrcoef(d1,d2)[0,1])"
   ]
  },
  {
   "cell_type": "code",
   "execution_count": 64,
   "metadata": {
    "collapsed": false
   },
   "outputs": [
    {
     "data": {
      "text/plain": [
       "matrix([[ 0.33333333,  0.33333333,  1.33333333,  1.33333333]])"
      ]
     },
     "execution_count": 64,
     "metadata": {},
     "output_type": "execute_result"
    }
   ],
   "source": []
  },
  {
   "cell_type": "code",
   "execution_count": null,
   "metadata": {
    "collapsed": true
   },
   "outputs": [],
   "source": []
  }
 ],
 "metadata": {
  "anaconda-cloud": {},
  "kernelspec": {
   "display_name": "Python [conda root]",
   "language": "python",
   "name": "conda-root-py"
  },
  "language_info": {
   "codemirror_mode": {
    "name": "ipython",
    "version": 3
   },
   "file_extension": ".py",
   "mimetype": "text/x-python",
   "name": "python",
   "nbconvert_exporter": "python",
   "pygments_lexer": "ipython3",
   "version": "3.5.2"
  }
 },
 "nbformat": 4,
 "nbformat_minor": 1
}
