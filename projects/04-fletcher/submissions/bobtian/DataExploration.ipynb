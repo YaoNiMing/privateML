{
 "cells": [
  {
   "cell_type": "code",
   "execution_count": 11,
   "metadata": {
    "collapsed": false
   },
   "outputs": [],
   "source": [
    "import numpy as np\n",
    "import pandas as pd\n",
    "import matplotlib.pyplot as plt\n",
    "from dateutil import parser\n",
    "import datetime\n",
    "import nltk\n",
    "from sklearn.feature_extraction.text import CountVectorizer\n",
    "%matplotlib inline\n",
    "import warnings\n",
    "warnings.filterwarnings('ignore')\n",
    "plt.style.use('fivethirtyeight')\n",
    "import re"
   ]
  },
  {
   "cell_type": "markdown",
   "metadata": {},
   "source": [
    "Sentiment Analyzer"
   ]
  },
  {
   "cell_type": "code",
   "execution_count": 4,
   "metadata": {
    "collapsed": false
   },
   "outputs": [],
   "source": [
    "from nltk.sentiment.vader import SentimentIntensityAnalyzer\n",
    "sid = SentimentIntensityAnalyzer()"
   ]
  },
  {
   "cell_type": "markdown",
   "metadata": {},
   "source": [
    "Build Helper Functions"
   ]
  },
  {
   "cell_type": "code",
   "execution_count": 5,
   "metadata": {
    "collapsed": false
   },
   "outputs": [],
   "source": [
    "import sys\n",
    "def printprogress(i,imax):\n",
    "    sys.stdout.write('\\r');sys.stdout.write(\"[%-10s] %d%%\" % ('='*round(i*10.0/imax), i*100.0/imax))\n",
    "    sys.stdout.flush()\n",
    "def sentiment(doc):\n",
    "    total_length = len(''.join(doc))\n",
    "    com = 0\n",
    "    for sentence in doc:\n",
    "        ss = sid.polarity_scores(sentence)\n",
    "        com += ss['compound']*len(sentence)/total_length\n",
    "    return com\n",
    "def emotion(doc):\n",
    "    doc = ' '.join(doc)\n",
    "    texts = [lexdict[w] for w in re.sub(\"[^\\w]\", \" \", doc).split() if w in wordlist]\n",
    "    total_length = len(texts)\n",
    "    if total_length == 0:\n",
    "        return 0.0,0.0,0.0,0.0\n",
    "    else:\n",
    "        scores = np.sum(texts,0)/total_length\n",
    "    return scores[0], scores[3], scores[4], scores[7]\n",
    "def stdrdz(x):\n",
    "    return (x-np.mean(x))/np.std(x)\n",
    "def bestfit(trace):\n",
    "    xfit = list(np.linspace(min(trace['x']),max(trace['x']),10))\n",
    "    yfit = list(np.poly1d(np.polyfit(trace['x'], trace['y'], 1))(xfit))\n",
    "    trace_fit = go.Scatter(\n",
    "                    x = xfit,\n",
    "                    y = yfit,\n",
    "                    name = 'line-of-best-fit: '+ trace['name'],\n",
    "                    line = dict(\n",
    "                        color = (trace['color']),\n",
    "                        width = 3),\n",
    "                        mode='lines')"
   ]
  },
  {
   "cell_type": "code",
   "execution_count": 6,
   "metadata": {
    "collapsed": false
   },
   "outputs": [],
   "source": [
    "def getsender(df,key):\n",
    "    return df.loc[df.sender == key,:]\n",
    "def getthread(df,key):\n",
    "    return df.loc[df.thread == key,:]\n",
    "def searchtext(df,key):\n",
    "    indexlist = [i for i in range(len(df.iloc[:,1])) if str.upper(key) in str.upper(df.iloc[i,:].text)]\n",
    "    return df.iloc[indexlist,:]\n",
    "def searchsender(df,key):\n",
    "    return [s for s in set(list(df.sender)) if key.upper() in s.upper()]\n",
    "def searchthread(df,key):\n",
    "    return [s for s in set(list(df.thread)) if key.upper() in s.upper()]\n",
    "def timeseries(df,W,rolling=False):\n",
    "    df.loc[:,'time'] = pd.to_datetime(df.loc[:,'time'])\n",
    "    df.sort_values('time',inplace=True)\n",
    "    out = []; i = 0; t = df.iloc[0,2]+datetime.timedelta(W/2)\n",
    "    while t < df.iloc[-1,2]:\n",
    "        if rolling:\n",
    "            imax = (df.iloc[-1,2]-df.iloc[0,2]).days; dt = 1\n",
    "        else:\n",
    "            imax = (df.iloc[-1,2]-df.iloc[0,2]).days/W; dt = W\n",
    "        dfwindow = df[(df.time <= t) & (df.time > t-datetime.timedelta(W))]\n",
    "        freq = len(dfwindow)\n",
    "        text = [msg for msg in list(dfwindow.text) if len(msg)>10]\n",
    "        senti = sentiment(text)\n",
    "        anger,fear,joy,sad = emotion(text)\n",
    "        out.append([t, freq, text, senti, anger, fear, joy, sad])\n",
    "        printprogress(i,imax)\n",
    "        i += 1; t += datetime.timedelta(dt)\n",
    "    dfout = pd.DataFrame.from_records(out)\n",
    "    dfout.columns=['time','n_msgs','text','com','anger','fear','joy','sadness']\n",
    "    return dfout"
   ]
  },
  {
   "cell_type": "markdown",
   "metadata": {},
   "source": [
    "Emotion Lexicon"
   ]
  },
  {
   "cell_type": "code",
   "execution_count": 8,
   "metadata": {
    "collapsed": false
   },
   "outputs": [],
   "source": [
    "lex = pd.DataFrame.from_csv('lexicon.txt',sep='\\t',header=None, index_col= None, encoding = \"ISO-8859-1\")\n",
    "lex.columns = ['word','emotion','score'];\n",
    "wordlist = set(lex.word)"
   ]
  },
  {
   "cell_type": "code",
   "execution_count": 7,
   "metadata": {
    "collapsed": false
   },
   "outputs": [
    {
     "name": "stdout",
     "output_type": "stream",
     "text": [
      "[==========] 99%"
     ]
    }
   ],
   "source": [
    "lexdict = {}\n",
    "for i,w in enumerate(wordlist):\n",
    "    lexdict[w] = lex[lex.word == w].score\n",
    "    printprogress(i,len(wordlist))"
   ]
  },
  {
   "cell_type": "markdown",
   "metadata": {},
   "source": [
    "Load Message DataFrame"
   ]
  },
  {
   "cell_type": "code",
   "execution_count": 9,
   "metadata": {
    "collapsed": false
   },
   "outputs": [],
   "source": [
    "dfmain = pd.DataFrame.from_csv('out.csv',header=None, index_col=None, encoding = \"ISO-8859-1\")\n",
    "dfmain.columns = ['thread','sender','time','text']\n",
    "dfmain = dfmain.astype(str)"
   ]
  },
  {
   "cell_type": "markdown",
   "metadata": {},
   "source": [
    "## Fight Onset"
   ]
  },
  {
   "cell_type": "code",
   "execution_count": 13,
   "metadata": {
    "collapsed": false
   },
   "outputs": [
    {
     "name": "stdout",
     "output_type": "stream",
     "text": [
      "[==========] 100%"
     ]
    }
   ],
   "source": [
    "bg = timeseries(getthread(dfmain,'Grace Arabian'),1);"
   ]
  },
  {
   "cell_type": "code",
   "execution_count": 15,
   "metadata": {
    "collapsed": false
   },
   "outputs": [
    {
     "data": {
      "text/html": [
       "<div>\n",
       "<table border=\"1\" class=\"dataframe\">\n",
       "  <thead>\n",
       "    <tr style=\"text-align: right;\">\n",
       "      <th></th>\n",
       "      <th>time</th>\n",
       "      <th>n_msgs</th>\n",
       "      <th>text</th>\n",
       "      <th>com</th>\n",
       "      <th>anger</th>\n",
       "      <th>fear</th>\n",
       "      <th>joy</th>\n",
       "      <th>sadness</th>\n",
       "    </tr>\n",
       "  </thead>\n",
       "  <tbody>\n",
       "    <tr>\n",
       "      <th>0</th>\n",
       "      <td>2011-07-17 19:11:00</td>\n",
       "      <td>35</td>\n",
       "      <td>[wow you're up?, or is this a message, why ar ...</td>\n",
       "      <td>0.027014</td>\n",
       "      <td>0.0</td>\n",
       "      <td>0.0</td>\n",
       "      <td>0.090909</td>\n",
       "      <td>0.0</td>\n",
       "    </tr>\n",
       "    <tr>\n",
       "      <th>1</th>\n",
       "      <td>2011-07-18 19:11:00</td>\n",
       "      <td>2</td>\n",
       "      <td>[]</td>\n",
       "      <td>0.000000</td>\n",
       "      <td>0.0</td>\n",
       "      <td>0.0</td>\n",
       "      <td>0.000000</td>\n",
       "      <td>0.0</td>\n",
       "    </tr>\n",
       "    <tr>\n",
       "      <th>2</th>\n",
       "      <td>2011-07-19 19:11:00</td>\n",
       "      <td>0</td>\n",
       "      <td>[]</td>\n",
       "      <td>0.000000</td>\n",
       "      <td>0.0</td>\n",
       "      <td>0.0</td>\n",
       "      <td>0.000000</td>\n",
       "      <td>0.0</td>\n",
       "    </tr>\n",
       "    <tr>\n",
       "      <th>3</th>\n",
       "      <td>2011-07-20 19:11:00</td>\n",
       "      <td>0</td>\n",
       "      <td>[]</td>\n",
       "      <td>0.000000</td>\n",
       "      <td>0.0</td>\n",
       "      <td>0.0</td>\n",
       "      <td>0.000000</td>\n",
       "      <td>0.0</td>\n",
       "    </tr>\n",
       "    <tr>\n",
       "      <th>4</th>\n",
       "      <td>2011-07-21 19:11:00</td>\n",
       "      <td>0</td>\n",
       "      <td>[]</td>\n",
       "      <td>0.000000</td>\n",
       "      <td>0.0</td>\n",
       "      <td>0.0</td>\n",
       "      <td>0.000000</td>\n",
       "      <td>0.0</td>\n",
       "    </tr>\n",
       "  </tbody>\n",
       "</table>\n",
       "</div>"
      ],
      "text/plain": [
       "                 time  n_msgs  \\\n",
       "0 2011-07-17 19:11:00      35   \n",
       "1 2011-07-18 19:11:00       2   \n",
       "2 2011-07-19 19:11:00       0   \n",
       "3 2011-07-20 19:11:00       0   \n",
       "4 2011-07-21 19:11:00       0   \n",
       "\n",
       "                                                text       com  anger  fear  \\\n",
       "0  [wow you're up?, or is this a message, why ar ...  0.027014    0.0   0.0   \n",
       "1                                                 []  0.000000    0.0   0.0   \n",
       "2                                                 []  0.000000    0.0   0.0   \n",
       "3                                                 []  0.000000    0.0   0.0   \n",
       "4                                                 []  0.000000    0.0   0.0   \n",
       "\n",
       "        joy  sadness  \n",
       "0  0.090909      0.0  \n",
       "1  0.000000      0.0  \n",
       "2  0.000000      0.0  \n",
       "3  0.000000      0.0  \n",
       "4  0.000000      0.0  "
      ]
     },
     "execution_count": 15,
     "metadata": {},
     "output_type": "execute_result"
    }
   ],
   "source": [
    "bg.head()"
   ]
  },
  {
   "cell_type": "code",
   "execution_count": 35,
   "metadata": {
    "collapsed": false
   },
   "outputs": [],
   "source": [
    "bgf = bg[(bg.anger > 0.1)]"
   ]
  },
  {
   "cell_type": "code",
   "execution_count": 36,
   "metadata": {
    "collapsed": false
   },
   "outputs": [
    {
     "name": "stdout",
     "output_type": "stream",
     "text": [
      "['just realized i actually have so much to do for my assignment', \"i'm screwed\", 'calculus assignment?', 'biogeography', 'most boring class of my life', 'then i am of no help to you there', '<3 sarah finklestein', \"i feel like i'm elementary school\", \"that's the best feeling\", \"you're just too consumed with being so much smarter than everybody\", 'no i could be watching breaking bad instead', \"i don't want to draw these graphs and describe the plants that live in each place\", 'is that cross hatching i detect?', 'cross hatching is a technique to colour and shade things', 'i dont follow this conversation', 'and its a line from something i like to say', 'good for you', 'i know what it is', \"i'm diagonally and vertically hatching right now\", 'what are you doing', 'nothing at all', 'this weekend was the most unproductive', 'do anythign fun', 'http://www.youtube.com/watch?v=zn7-fVtT16k&feature=related', 'played soccer yesterday', 'no no turkey', 'i just came across it again', \"i've seen this a long time ago\", \"i don't have time to watch this right now bobby!\", 'remind me later', 'are you still doing nothin?', 'i actually want to do things', 'want to do my assignment?', 'its fun i swear', 'http://i.imgur.com/BN2eE.png', 'i dont get it', 'nevermind then', 'cuz he belongs outside of hogwarts with the gameskeeper?', 'why is no one from my biogeography class on facebook chat!', 'i dont know', 'i went to make instant noodles, and my mom was like \"I\\'LL MAKE IT FOR YOU\"', 'then 10 minutes later, i get a bowl of instant noodles with a ton of brocollies stuffed inside', 'this is outrageous!', \"she's trying to stuff some veggies in you\", 'i hate brocolli, i had brocoli for lunch! why is she putting so much brocolli in this too', 'but i had it for lunch! im so angry', 'its good for you! eat it!', \"then i'll eat the noodles the way they're intended to be eaten afterwards\", 'i cant enjoy my noodles now....i have to eat the brocollies first', 'its too late to be eatin anyway']\n",
      "[\"Hi,\\nHow are you doing? First off, I just hope you read the entire message. It had been a really tough week as I lost you, mike is leaving, and I have something really serious happening to me that I can't talk about at all in this message(or possibly ever).\\n\\nI want to say again that I am sorry for that in-the-moment decision on Monday. I knew it was a bad one as soon as I said what I said, and I was too proud to take it back. I guess I was angry because spent the last year or so under the impression that I could somehow impress you (by either showing that I'm a nice person, or showing how much I care about you, or set myself in a position to be successful or something, I don't know), and then I could make up for whatever it is that you think I lack as a guy, so that you'd possibly change your mind about me (I know I'm not the most attractive guy, but I know that's not important to you). And your text about how you won't ever change your mind, along with your liking of this Joey guy whom you literally just met, made me really bitter about everything. I felt like no matter how much I try to be a good guy, I can never ever be good enough for you. I'm still coming to terms with that. I always knew you were out of my league, but something in the back of my head is just in denial, and I wanted to give it a shot so badly...My frustration drove me to that point, and I really meant no ill will. It was total cowardice, but I needed to do something to make myself feel better at the moment, so I said what I said thinking I can make everything go away by calling it quits with you.\\n\\nHowever, this past few days made me realize that as much as it pains me to see you crushing on other guys who doesn't make nearly as much effort to impress you or care about you as I do, it's still nothing compared to the agony of cutting off ties with you...I don't know what to do, but I still care about you a lot, and that's never gonna change. \\n\\nEver since we decided to stop being friends, I've been in depression mode, didn't go to school, and was constantly checking to see if you had made any efforts to contact me through facebook/hotmail/whatever. So I guess from the moment we said those last words to each other, I knew it was not what I want, but I was too scared to admit it. I unfriended you on facebook to stop myself from snooping your wall every 5 minutes to see if you're whether you're okay or a mess like I am. \\n\\nIt's really tough for me because we've been best friends since Janelle and I broke up. You mean so much more to me than just someone I like. Way before I started to have a crush on you, you already meant the world to me, and I had a lot of fun with you (I hope you did as well with me). Our relationship had been deteriorating ever since I asked you out last year. But our friendship (i guess along with me being in denial of your total rejection, but MOSTLY it's the friendship!) kept me around. There were good days and there were bad days. But at the end of the night, as angry/frustrated as I am ever gonna get about us, I still care about you too much as a friend to leave you. I am really depressed and lost right now. I want to know how you are, I want to know what you think about this whole thing, and I most of all want to see you and talk to you in person.\\n\\nIf you think the damage is done, and it's too late, I will(quite reluctantly) leave you alone and wish you the best. But hopefully at least you will let me do that in person. What I did was really lame, and I hope you forgive me for that. If you think you can give me another chance, I will be very very grateful of that. I may never get over you, or understand what qualities I am lacking compared to the guys you'll eventually be with, but at least I won't lose a friend, which I learned this week to be much much worse.\\n\\nBob\"]\n",
      "['http://i.imgur.com/h7Myd.gif', 'omg i hate it', 'mesmerizing', 'i closed it right away', 'it was awful', 'seriously i hated it', 'seriously relax', 'igottapee igottapee i gottapee']\n",
      "[\"you're on facebook chat????!!\", 'oh didnt realize', 'bob my laptop seriously hates life', \"it's just too old\", 'more ram will fix it right', 'there comes a time when the computer is just too old', \"i'm getting more ram\", \"you're not listening to me\", 'its for sure fixable', \"it's not gonna work\", 'because i feel it in my heart', 'for sure it is', 'why do you think so', 'i dont think computers work like that', \"you're mean\", 'its getting on my nerves people', \"why won't it help\", 'and waht\\'s wrong with \"consumerism\"', \"you're the one who's trying to by something that's not gonna help\", \"i'm not buying a new laptop\", 'but i stand by my point, dont waste money', 'i hate consumerism', 'anyways so tired', 'but dont go buy memory', 'sounds uptight to me...if you want something, buy it', 'ram is not memory', \"i'll google it myself\", \"we'll deal with that later\", 'what should i get then', 'RAM stands for Random Access Memory']\n",
      "['talk anyways', 'hold on putting on jammies', \"working at 10:15 though? that's crazy\", 'then i best work', 'do u want to see me on friday?', \"wow you're so busy! its crazy!\", 'were you in the office today?', 'are you going to be done the report for friday', \"listen if you're under high stress for friday its easy to cancel\", \"don't feel like you have to see me\", 'get your work done', \"i'll be done by tonight\", 'are you sure? you seem like you have a lot on your plate', 'i wont if im done', \"don't feel guilty\", 'just sayin though', \"i told you, i'll let you know thurday\", \"don't stress about being done ahead just for friday\", 'dont tell me what to do', 'http://i.imgur.com/NXV1u.gif']\n",
      "['worst friend -best enemy', 'best friend - worst enemy', \"so i guess you're my best enemy\", 'worstfriend', 'how do you do', \"haha you're the WF\", 'because i dont know what it means', 'i dont mind that', 'so what are you up to', 'i was just editing a paper', 'but its beyond hope', 'can i read it?', 'its 20 pages', 'im not allowed to read it?', \"no you aren't\", 'if you let me read it', \"i'll show you my iq score\", 'then you will never know', \"that's fine\", \"i didnt know you're that embarrassed\", 'its just really bad', 'i know when i do go work and i know when i do bad work', 'this is a literature review', \"and i don't know what that means\", 'so i got really lazy', 'and it turned out to be \"this person says this this person says this\" which isnt what its supposed to be', 'anyways look at this cute face!', 'http://sphotos-c.ak.fbcdn.net/hphotos-ak-snc7/380245_4184731976822_690668826_n.jpg', 'the baby needs a few weeks to look human', 'he looks like a little bunny with bunny paws', 'its too cute', 'more alien than anything, im ssrry', \"new borns always look weird unless they're related to you\", 'and then they are adorable', 'hahha i guess', 'chicken butt', 'also, im playing dota right now', \"you can't blame babies for looking alien\", 'they just went through something traumatic', \"you know you can't keep throwing it back in my face\", 'isnt that weird?', \"i'm happy for you and betty\", 'why is that weird?', 'oh i can smell the judgement from here', \"because she's a girl\", \"no i'm not judging\", \"i don't care if you play dota\", \"by the way I'm re-watching lord of the ring right now, i plan on doing all of it tonight\", \"and i'm pretty jealous i won't lie\", \"its 11 hours total you can't do it in one night\", 'i wish i had time or energy', 'i am a failure', \"i don't deserve the hobbit\"]\n",
      "[\"let's do lunch wednesday instead, k?\", 'we can still see eachother tomorrow though', 'my friend natasha will be joining us', 'because it is a group project', 'on Wednesday for lunch', \"i'm working with her all week\", 'really any time you see me', 'and tomorrow', \"natasha and i don't separate because then we have no one to complain to\", 'you chose to not talk about it with me', \"you're too smart\", 'no because natasha is on the same level a me', 'you can still complain to me, but if you dont wanna, you can bring natasha to complain to', \"well no its mine and natasha's project so i can't just ditch her to come to lunch with you\", \"i'm not bringing her so i can complain during lunch\", 'too bad i cant bring sabine to lunch', 'sure bring sabine', \"i just said i can't\", '(but its different... natasha is not from U of T)', 'and sabine is a prof', \"of course it's different\", 'i was making a joke', 'you know...jokes are perfect for CNN', 'good one though', \"sorry i'm watching CNN i'm having a hard time joking\", \"they're talking about this 7 year old girl Grace that died in the shooting\", 'all the kids were so small', 'so so little', \"they're all 6 and 7 year olds\", 'i dont get emotional about it though', 'im incapable', 'but it is sad', \"i don't understand that\", 'what? that i dont get really sad or happy? im under stimulated either way', 'or things in general', 'why do you think that happens? that you are unemotional about it?', 'but of course i know the gravity of the situation', 'that was a terrible terrible thing to have happened', 'lack of certain hormones', 'most likely', 'are your parents emotional about anything?', 'my mom is just like me, my dad is not', \"it's not terrible\", 'thats kind of funny that your mom is unemotional', 'you think it has anything to do with nurture', 'i never said it was terrible', 'but its definitely not the normal', 'i dont think you have to cry', \"or that it's bad if you don't\", \"i can't think of a single person that hasn't cried while watching CNN over the past few days\", \"i don't know, but it's fine with me\", 'i never said that', 'sometimes i get a feeling of disbelief, like during 9/11', 'but yea, that was something else', \"its just that most people can't control that part of their emotions... obama.. news anchors... its just interesting you ou don't get those feelings beyond the mental ability to undersatnd its bad\", \"i wouldnt say i don't get them, just not often\", \"again, i really think it's just a simple lack of a certain hormone\", 'maybe less estrogen or estosterone', \"i mean that's all emotion is\", 'testosterone*', 'they should be banned.', 'what is your stance on gun control', 'because some people say it really wouldnt have mattered when it comes to stuff like this', \"don't know why\", 'k anyways facebook keeps freezing for me', 'interesting', \"i'm going to go get work done\", 'and some people say we need more guns, so the school is protected', 'i think guns are a way to dissociate a killer from their victims', 'and that easy access to guns is a problem', 'obviously mental health is a huge issue', 'you think if guns are illegal, the killer couldnt have obtained it somehow?', 'but easy access to something that can do serious damage is a problem', 'of course he could have', 'but majority of these events are from legally obtained guns', 'and also... WHY does ANYONE have a gun fetish', \"but that's because it's legal\", \"but it wouldn't have been as simple\", \"don't get me wrong, banning guns won't stop all murders\", 'you know what i think?', \"i dont know, there's a lot of fetishes in the world....\", \"let's not talk about fetishes\", \"because there's some weird ones\", 'and on top of that, why would you keep a gun in your house in a lockbox (which is the law)... how is that going to help with self defense', 'honestly i just think guns in general are a problem because its too easy to kill', 'regulation or these half-assing rules of what kind of ppl what kind of gun is not gonna do much for this kind of situation', 'i think you either get rid of guns completely, or you do nothing in that front', 'or having them register it', 'banning semi-automatics or banning shot guns or whatever is not gonna do shit', 'i agree with that but do you mean banning guns in general or getting rid of them in the entire world?', 'i mean banning them', 'ya i think so too', \"how's that gonna stop a guy like that from doing what he did\", \"i don't really get that... that's great that its registered but how does that help\", \"anyways, that's all i wanna say\", \"my dad was telling me the story today of how when he first left lebanon he went to LA and he was at a frien'ds house and they had a gun on the wall\", 'a rifle or something', \"let's hope for a safe dec. 21st\", 'as decoration', 'he was pretty sick of war in lebanon last thing he wanted was to go somewhere where guns were okay', 'i have the same feeling about living in the states', \"and that's why he didn't want to live there\", 'anyway their house was broken inot and the gun was stolen', 'but the good thing is, a lot of these views are skewed towards older people', 'U.S. is a bit backwards when it comes to some things', 'is it just me or do you find america SO confusing', \"i don't understand the US at all\", 'they feel so behind to me', 'so maybe the voting and politcal environment will be shifting as these people die', 'the young ppl are less like that i think', 'no i get it', \"and i sound like i dont care about them dying, of course i dont, it's of old age\", 'maybe if the country had more gay ppl', 'alright im gonna finish Two Towers', \"after that, it's only 4 more hours before i can watch the hobbit\", 'are you going to see the hobbit tonight?', '4 more hours of Lord of the Ring', 'wait i want to ask something', \"how do you feel about the fact that all news is following Adam Lanza's family so hardcore in front of a public audience\", 'before i can see Hobbit Part 1', \"oh it's obviously the worst thing possible\", 'its so horrible', 'all the facination', \"if there's one thing that makes someone wanna go out with a bang is the fact that everybody before him who's done it has been made famous\", \"i'm also just sad because his mom was also killed\", \"and im sad the brother and dad can't mourn their deaths without all this\", 'i spent all of sunday reading about other killed', 'read the University of Texas one', 'its so disturbing', \"i think it's a vicious cycle that only stops when the press stops covering the killer\", 'and the 1927 Bath School one in Michigan', \"maybe it'll actually help\", \"the 1960's one of University of Texas the guy knows he's mentally ill and he writes some pretty disturbing notes\", \"if everytime something like this happened, the only thing that's covered are the victims\", \"that one doesn't mention mental illness but i think its just because its 1927\", 'after he killed his wife he says to donate the rest of his money to research towards mental illness', \"that's pretty messed up\", 'i think i spent too much time on wikipedia this weekend', 'here I found something that agrees wtih me', \"you've been reading a lot of stuff huh...\", 'http://www.youtube.com/watch?v=PezlFNTGWv4', \"i want to watch it but my mother is talking so loudly on the phone i can't hear it\", 'you should watch it', 'as soon as my mother gets off the phone i will', \"at the very end of the video the guy said something that was exactly what happened, it's eery\", 'about this boy?', 'i saw this video after the batman movie theatre incident', 'is this true?', '? no this is from a different event in 09', 'i think the kids deserve that', 'the one thing i do really like is the personal stories though', 'of people talking about the kids', \"i don't remmeber this event from 2009\", 'but agreed on that guy', 'he was right though...\"do localize this story to the effected community, because everytime we have intense saturation coverage of a mass murder, we expect to see 1 or 2 more within a year\"', \"now i'm reading about the winnenden school shootings\", \"well he knows what he's talking about\", 'i like how passionately he said it', 'this happened exactly that way after the batman theatre thing', 'ya i definitely agree with everything he said', 'man your day is just getting better', 'joyce, vanessa, and i were in oslo exactly a year after the shootings there', \"i'm addicted to these wikipedia pages i don't know why\", \"it's wikipedia\", 'all the information at your fingertips', 'i have once read an article entirely about some kind of birth defect for no good reason', 'alright i need to watch this damn movie', 'why do people like shootings in schools the most though?', 'i do that stuff all the time', 'no security', 'but they have pretty good security', \"there's no security guards\", 'and people are grouped', 'http://www.infoplease.com/ipa/A0777958.html', \"actually that list is horrible don't look at it\", 'yea you need to stop', 'i found a lot of mistakes in it']\n",
      "['thanks for the pb vid', \"also, what do you mean its booked? i just checked. you're crazy. its not booked\", \"it's booked on my screen\", \"you're not on the right site?\", 'the only ticket available on saturday is at 10 pm', 'i was at greyhound.ca, and i treid greyhound.com', 'but dont worry about it', \"it doesn't sell out\", \"i have no idea what you're loking at\", \"i think it's a conspiracy\", 'the world doesnt want me to be at loo', 'yup clearly', 'my terrible schedules, the fortune cookie, then this', \"we're being set0up\", 'im exercising it', 'i think it was i have a keen mind', 'what did your fortune cookie say again?', 'active mind', \"i cant believe you're on fchat\", \"it's not possible\", 'sometimes i give in', \"you're weak\", \"i don't know why i came one\", \"i'll come on gchat more often\", 'i already use google calendar anyways', \"just when i'm looking for natasha\", \"no worries i'm not ALWAYS on gchat\", 'i meant if you wanna talk on gchat and avoid fchat', 'just tell me', 'omg andrew tam', 'why did i come on this', \"that's what im talkin about\", 'i regret my decision to be on this so mcuh', 'hahahhahahhaha', 'your anguish is soooo entertaining sometimes', \"when you're not mad at me\", 'brenda likes logan', 'or at least he \"grew on\" her', 'logan in gilmore girls', 'should i eat', \"he's the bestest\", 'i like Jess', 'ya logan grows on everywhere', \"he's pretty cute\", 'you said you didnt like logan', \"i'm so hungry after all these  gifs on my wall\", 'how about the peanut butter', 'i gave up pb for lent', 'i need food now! brb', 'you gave up lead for lent?', 'you know what pb is', 'anyways this is perfect timing for an escape', 'getting off!', 'i dont know why i kept thinking lead....', 'oooooo peanutbutter!']\n",
      "[\"I can't believe your friend couldn't understand the article...oh and thanks for making it seem like he's half right\", 'he understood it', \"i'm deleting your post\", \"he's still saying they're ranking programs, they're not\", \"ok grace you told him he can't read\", 'he didnt understand a thing', 'from the start', 'stop trolling my wall', \"I'm not trolling this time, he's so stupid\", \"you'd get involved on my wall\", \"the same way if someone said something about global warming not happening because it's cold this winter\", 'but why are you getting involved', 'at the get-go', 'it has nothing to do with you', \"just because you happen to like this person, doesn't mean im so different from you\", \"i don't even like zac\", \"you're just beign annoying\", \"it's not fair how you treat me sometimes\", \"you're so much nicer to everybody else\", 'i dont deserve to be called annoying for doing that', 'but im saying what everybody is thinking', 'i just want to delete the whole thing', 'and then you started adding to it', 'and its why i stopped answering', \"i hated zac's post\", \"i'm not being nice to everyone\", 'because it was getting on my nerves', 'just delete the goddamn thing, i dont care', 'just let me have the last comment please', \"just delete the whole thing, i dont wanna get involved, but i dont like it when you make it seem like we're both right/wrong\", \"if demos did it i'd also delete it\", \"if zac did it i'd also delete\", \"it's mean to me, because i know you're doing that because it's me\", \"i'm not doing that because its you\", \"ok but i know you know im right and he's wrong, you're just not backing me up because i'm bob, and it's easy to be like that to bob, because he'll just take it\", 'ok delete it', 'i already did', \"its not because you're bob\", \"and i'm sure he also gets it by now\", 'was the same thing you said', 'its the first thing i posted', 'no because we all understand it', 'of course you did', 'stop getting so riled up about it', \"i'm not backing down\", \"im not telling you to back down, i know you won't\", \"k i'm gonna head home now\", 'i dont care, you do whatever you want', \"you could at least be nice about it when talking to me in private, I get no respect from you ever when another person is involved in the conversation...you're just like my dad in these situations...except he doesn't have anything nice to say even when it's just the two of us\", \"i just didn't really want to start a debate with you and zac, who are not friends, and only friends through me. it didn't make sense to me\", \"Okay I'm sorry. I didn't mean to be like your dad\", \"your right, i wasn't being nice\", \"i'll try harder to be nicer\", 'Yea i get that now, but between me and you, i dont know, ppl always gang up on me, always...it feels like nobody wants me to be right ever', \"Umar backs me up when it's reasonable, he's the only one\", 'But you dont gotta try to be anything, just be yourself', \"I'm sorry I've been on edge lately, you're not like my dad, I take it back...I just hate how nobody take my side, it felt like when my dad use to watch me get bullied, and then punish me in front of everyone when I fought back...that's why I hate ignorant people, they're so sure of themselves, and there's always someone to defend them or make them feel right even when they're wrong...I think you just struck a chord there, so forget about it\", \"I just wished you told zac to stop/deleted his comment instead, but i kinda expected that i would be the one to be told to shut up...and no i dont want you or anyone to have to try hard to be nicer to me, if that's how ppl are use to treating me, i probably deserve it, and i can deal with it instead of being a little bitch about it...it's not just you anyways so i shouldnt pick on you\", \"Okay firstly, I'm sorry that people gang up on you. Perhaps its self-defense because people are intimidated by your intelligence? In all fairness, I brag about you more than I gang up on you. So you should feel special about that.\\n\\nYOur dad should never have watched you get bullied. That is overall wrong, I'm not sure what to say to that. I think you should talk that through with him. \\n\\nAnd lastly, I'm not good friends with Zac, so I couldn't just randomly tell him to shut up. I'm good friends with you so I felt comfortable enough telling you to stop. In addition, the post was made on my wall by Zac, so he was never personally attacking you. You chose to get involved, so I felt you were the person to go to. Does that make sense?\", \"Yea forget about my dad, that was just an example, he is how he is and I just wanted to rant about it...\\nAnyways, this whole thing is stupid, im just frustrated that nobody is willing to back me up in general, i dont really care about these specific situations...York and U of T are both good schools (my face just twitched)\\n\\nI choose to get involved because it was a really stupid post, and im a mean person when it comes to stupid ppl who are always so sure of themselves, because I know 1) I cant convince them anyways, and 2) ppl will get on their defence and gang up on me as always, so i might as well just be a total dick about it...anyways, it's a reinforced habit and I'll try not to do it again.\", \"Okay well then you were just being stubborn and not helpful at all. I guess that's it to this convo.\"]\n",
      "['I dont wanna talk about this anymore', \"It's just making me mad\", 'I already said that. Where is Eugenia?', 'http://lmgtfy.com/?q=eugenia', \"Hahah you're such a douche. I already googled in. Thanks.\"]\n",
      "['I am the biggest douche...hahaha', \"are you trying to be passive aggressive? I can't tell.\", \"No i usually say what's on my mind, you can count on that\", 'no you dont', 'Yes i do, i rant alll the time', 'plus that link was purposely douchy']\n",
      "['so i can pretend i wrote almost 1000', 'but I have 300 words of notes i can easily convert to sentences', 'I feel like i should have written way more', 'I wrote about the same today', \"i thought i'd update you\", 'i have to write 4000', 'I wrote 640 words', \"update me when you've written 600 more words\", \"I'm starting my term project AND paper this morning, and im gonna finish it by tomorrow, that's my goal\", \"i'm starting 2 term papers today and finishing both by tomorrow as well\", 'i have no choice though', 'they are both due monday', 'btw what paper are you going to be published in', 'what paper?', 'the paper i sent you', 'you texted me', 'I put it up on arxiv', 'the paper that you told me is going to be published on may 20', 'i didnt send you the link?', 'http://arxiv.org/pdf/1304.0993v1.pdf', \"it's only the manuscript version\", 'this is so intense', \"i'm going to have to read this tomorrow morning when i'm not as tired\", 'it looks awesome', \"it's pretty intense\", 'wait so where is it being published', 'did they tell you that', 'I made really good graphs', \"that's all I know\", 'Astrophysical Journal', 'sounds cool', 'no, i told myself that', 'or you just know', 'well done :)', \"they look really good that's for sure\", \"k i'm going for a walk cuz i'm falilng asleep\", \"i'm at 800 words though not including those 200 words of notes i have\", 'so pretty much 1000', \"i'm gonna keep working\", 'Word froze...I lost 2 pages of work', \"i'm so sorry!\", 'i feel awful', 'your computer is worse than mien', 'save constantly', 'constant vigilance', 'on one hand, i dont wanna work now', 'on the other, im gonna forget what i wrote if i dont', 'ahhh im so tired', 'you need to cling to the mquickly', 'the memories will disappear', 'i understand', 'its like a penseive', 'you can do it', 'i believe in you', 'ran into watson outside our home territory of mad lab', \"i'm not even sure i have 3000 words of other stuff i can even write about\", \"you'll have them\", \"it'll come to you eventually\", \"i'm near my max on this topic\", 'there is just an approx', \"he wont care if i'm under\", 'but its a term paper so 1000 words is too short for sure', \"it's silly that you have a word limit\", 'you can do it', 'did you retype your two pages', \"when you're filling up the word limit, think of this picture\", 'http://i.qkme.me/3s1j6t.jpg', 'no, not yet', 'no i have more to say', \"but other than that i'll just make the periods bigger\", \"plus i'm going to add photos\", 'good for you', 'http://whatshouldwecallme.tumblr.com/post/47107138727/what-i-feel-like-saying-whenever-anyone-asks-how-are', 'did you get your work done', 'on on schedule', 'how about you?', 'only did just over 1000 words', 'stopped working productively at all after 7', 'but whatevs', 'how many words in total?', 'its in pieces', 'not cohesive', 'found out one of my papers is actually due wednesday not monday', 'congratulations', \"I'll praise myself all i want\", \"it's that i care too much\", 'ill find it at some point', 'and let you know what your one flaw is', 'whatever you need an egpopper in something', \"i'mg oing to beat you in a game\", 'that you are going to suck at', \"yesterday i went to sean's house, and went on his netflix, then i realized it was my account....\", 'i think the whole world has my account', 'you gave it to them', 'i never use it though']\n",
      "['who made them also', \"how'd that go\", 'i have my sources', 'we had brownies', 'how was your 4/20', 'i was talking to joyce anyways', \"yo sorry i was on joyce's facebook\", 'uuhmm okay secretive', 'did you enjoy it', 'yea, it took hours before it kicked in', 'and hours to leave right', 'i went to yonge and dundas', 'giant hot box...', 'no i mean did you like the brownies', 'yea i liked it, seems like such a happy crowd haha', 'i can imagine', 'did you like it', 'happy and hungry...', 'yea they were gooood', 'funny or fun?', 'it was both', \"lately i've been really craving smoking weed\", 'i think i gave him the wrong number anyway', \"i haven't date my student okay\", \"you're smoking weed, dating your students...you need to come back to toronto right now\", 'never before in my life', 'its so weird', 'i have NO idea why', 'have i wanted to smoke weed', 'that was DEFINITELY a different reason', 'hence no longer my student', 'he graduated, finished his exam', 'back in my second year', 'so you give me your number', 'and you were dating janelle when she was in your class', 'you gave your student your number', 'i can judge you all i want', \"so don't go judging me\", \"that's a big nono\", \"and he's hot\", 'can i ask you something', 'after our whole debacle over reading week... how is everything on your end', 'okay well is that a good thing', 'oh i dont know, i havent thought about you, we dont talk or anything', 'i wish we talked more, but then again i dont know', 'and you know you can always text me whenever you want', \"but i'm wondering if your feelings are less\", \"we're both busy anyways\", 'yea i feel pretty indifferent about you', \"can i still get mad at you if you agree to go out with someone just because he's hot? maybe? but that's just because it feels unfair, not because im in love with you or anything\", 'haha ya of course', \"but bob i'm not going out with him\", 'just to clarify that', 'yea but im just saying', 'i gave him my number because i was caught off guard', \"that's going to be expected\", 'but i also think i gave it wrong', \"it's fairly normal\", 'i dont care what he does on his end', 'for him to hook up with his TA before he graudated', \"but he hasn't contacted me therefore pretty sure it was like a dare or something\", 'actually i probably gave it right', \"that's not the point grace\", 'but also to clarify, i leave in exactly one week', \"so if i go out with him on one date i don't see the crime\", 'if i consistently dated him because he was hot, then ya you can be mad', 'you can do whatever you want too', 'whatever makes you happy', \"i don't know this kid, so its easier to say yes to a stranger and be consequence-less\", \"no if that's what you like, it's what you like\", 'well should i have said no just because he is hot', \"how you dealt with me asking you out, that's in the past\", 'you and i were REALLY good friends', 'yea i get it, lots of reasons', 'just do what makes you happy, im saying', \"i shouldn't have told you but i was only telling you for shits and giggles\", 'cuz i thought it was funny', 'you can tell me, i assume you are going to go out with people anways', \"no i don't want to tell you\", 'that doesnt make anything any better', 'you know this is just me being dumb', 'does that feel good?', \"what? you're gonna hide all the guys you see?\", \"but really i was telling you for jokes, i didn't think it would get you mad\", 'no its not, its that i shouldnt have mentioned it, it was me being dumb', 'its not hiding it but there is no purpose in telling you every date i go on', \"if you're not hiding it, im gonna find out from somewhere else, and then it's gonna be better\", 'how would you find out', \"if they aren't serious\", 'this is a stupid convo', 'sorry for bringing it up', \"you're telling me this\", 'yea just keep your mouth shut', \"let's just pretend with good, innocuous conversation subjects\", 'i have an exam next week, i should study for it', \"i don't appreciate your sarcasm\", \"ya i have two papers i need to finish tomorriow and one i haven't started\", 'but im also cold...', 'you finish your usb paper?', 'he was super nice and gave me the weekend', \"because now i've just wasted insane amounts of time\", \"which he shouldn't have\", 'which is bad because i think he is going to supervise me', 'and my apper is not getting much better', 'ive been unable to work or sleep for a week', 'you should get cracking on that then', \"i've been pretty good with both\", \"i sense you're mad at me right now\", \"k i'm going to go work and cook\", \"you sure you aren't mad\", 'no man, go cook']\n",
      "['i dont know why i said that, ignore it', 'somehow i just downloaded your profile photo', \"i don't even know how\", 'why did you do that', \"you're so gay\", 'what happened', 'and you are a boy', \"because i'm a girl\", 'and therefore i cannot be gay for you', 'i would say that makes no sense', \"what if i said you're so gay for me\", \"i'm glad you knew\", 'i knew you were gonna say that', \"ya don't use the word gay like that\", 'this is no fun', 'there are other ways to be fun', 'you seem to hate me lately', 'or be bored by me', 'i dont know what im doing', 'i know, she did', 'and thats what she said', 'oh to not like me', 'people grow and change', \"i can't understand why this is so hard\", \"i think i start to notice the annoying things more and more now that i've moved on\", 'ya i figured', \"i'm not sure what to do\", 'like how you like to be absorbed in your own little world and zone me out', 'or that i just dont ccare for some of the things, and so i kept asking myself \"what am i doing here\"', 'but i know it bothers you', 'natasha does that to me everyday', 'and its not just me', 'i try really hard not to do that you know', \"well, i never experience that with natasha, but maybe that's why her and i arent best buds\", \"no dont be, I'M sorry\", 'i need to try harder', 'because i have no reason to phase you out!', 'how is it not', 'well its true', \"we don't have to try so hard to be best buds\", 'so its okay', 'its only going to be time when you will start phasing me out', 'you shut your mouth', \"i'm not dumb\", 'if i annoy you?', \"that isn't reason to phase me out?\", \"i'm not saying now\", 'but you will', 'everyone gets annoying sometime, i need to grow up about it', 'bob, did you have fun on saturday?', 'i tried, that was not by choice', 'not exactly, but we had moments', 'i asked you to bring umar for a reason', 'i get annoyed at abdul too, and umar sometimes', \"its nobody's fault\", 'and i had to see you, it had been too long, im not blaming anybody', \"this happens with you, but if we dont talk about it, it'll probably end up being bad, so im glad we can talk about it\", \"i dont know...that's my 2 cents\", 'well yes of course', \"i don't think its a big deal either\", 'and neither of us are idiots', \"it's one of those things\", 'and how can i not think that', \"i'm not saying that you will now\", \"no i shouldnt, but i will tell you what's up from now on\", \"but i don't think you should have to work really hard at wanting tobe my friend\", \"you're the one who said we're not gonna be friends and im gonna phase you out\", 'so this is a big deal, and it doesnt ahve to be that way', \"listen i'm not upset\", 'i wish you had fun saturday because i was having a great time', 'but there was nothing i could do about it', \"i guess i get annoyed when you get absorbed into your own little world and when i'm visibly unhappy and i see you enjoying yourself and ignoring me, i just want to leave\", 'i was trying SO hard', 'i cant believe you thought i was ignoring you', 'i stopped when i felt like i was babysitting you', 'i tried from the start', 'but whatever, i dont care about that anymore', 'you were until i made it clear it was an issue', \"and decided i wasn't in charge of your happiness\", 'i had said \"let\\'s climb that hill and look for fossils\" at least 15 times, and met with you turning your head and starting to talk about something with natasha EVERY SINGLE TIME', 'and that was only one thing', \"sure i'm in charge with my happiness, but some things you do gets annoying to me, like that\", \"and it's not even that im not having fun, i would've had so much fun, but i just couldnt stop thinking about being ignored, that everytrhing just turned sour\", \"okay well i'm sorry\", \"and then i stopped enjoying anything, because you're enjoying everything...it made no sense\", \"i don't get it\", \"because i just think how you're always like that, and why that is that way, and how i dont want to be happy with it anymore\", 'you were annoyed because i was happy to be there', 'i dont know, i just was bothered', 'sometimes i think you want me to be someone i want', 'like you created this image of me', 'and then everything you do is just annoying', \"that isn't true\", \"well wow can't pretend that doesn't hurt\", 'its alright', \"i'm sorry, there's something wrong with me\", \"i'm just too use to a certain type of people\", \"i'm being too brutally honest now, i feel terrible\", 'the bubble just burst', \"and those things are not loveable things anymore - they're annoying things\", \"because there's so much good about you that made me love you for who you are despite things that bothers me\", 'its fine bob', 'no its fine i can take it', 'no those things didnt change', \"im just noticing the other things more, and that's my own doing\", 'i just knew in advance that it would be like that', 'thats why i asked you to bring umar', \"i mean everybody has different qualities, i'm like that too\", \"that's irrelevant grace\", 'i didnt bring him, he couldnt have made it, and our problem does not involve him', 'and that kinda got bad when i was being ignored', \"but i was annoyed that i couldn't feel natural without feeling like i had to make sure you were okay\", \"i wasn't annoyed with you in particular\", \"honestly i was only annoyed that you weren't having fun\", 'i think i just missed hanging out with you, because it was a long time since i saw you', 'i got annoyed that you couldnt just naturally not zone me out', 'because i felt like i missed you and didnt feel reciprocated at all maybe', 'i might have ADD', 'it could not be my fault', 'i was overstimulated', 'i love those kinds of places', 'ya i get it', 'maybe, im not scolding you, im just explaining and trying to make sense of my emotions at that point', 'i hate windows 8', \"i'm returning that laptop\", 'this wouldnt have happened if i saw you that day for buying the laptop', 'i just know it', \"after a month, you're suppose to miss me and talk to me, not pretending i dont exist when i am talking into your ear\", 'that was my most unhappy thoughts', 'i miss people in different ways', 'and i express it differently', 'i want to spend time with people, not spend time catching up on what was missed over the month', 'it didnt feel like time being spent for me, i just felt invisible, and frustrated', 'i spent more time with you than natasha you know', 'but i understand your frustration', 'and i understood it at the time too', 'and i want you to understand that i was consciously trying really really hard', \"even if you didn't notice\", 'you shouldnt be trying so hard, if your instinct is to ignore me, then just do it, maybe it just wasnt meant to work', \"i dont know why it's just so hard for you\", 'natasha noticed', 'if that helps', 'but its not to ignore YOU', \"i think that's where you take it too hard\", 'i dont want you to have to tryyy to be attentive', 'it has nothing to do with YOU', \"i'm just like that in general\", 'think about it, do i treat Umar differently?', 'if he showed up would i have been more attentive to him?', 'but i want you to know it has nothing to do with you', \"i'm not sure this is helping my defense\", 'no, but whenever i see you ignore him, i instantly make fun of it with him', 'i pick up those cues because to me i just cant stand it', 'and im trying to not take it personally', \"sucks that you can't tell\", \"byt yea, i'm not telling you that you have to try to change that\", 'well obviously i already am trying', \"i guess that's all we can do\", 'on the flip side though, im also trying very hard to make this work, i hope you realize that', \"because normally people dont stay friends with a person who rejected them, even if they dont feel that way anymore about the person, they're still constantly subconsciously reminded that they're inadequate in that person's eyes (whether it's true or not)\", 'and that can manifest itself in really stupid things', \"that's my take on it\", \"i'm always gonna feel insecure with you, or subconsciously feel like i'm not wanted, i cant change that...\", \"that's just life, you fucking get on with it, and salvage the good that's there instead of running away\", \"i think i've been mentally prepared for this for forever\", \"i hope i'm making sense to you\", 'not shocked or that hurt', 'and i know bob', \"that's why i'm not surprised or offended\", 'you make perfect sense', \"because it's making sense to me\", 'i really needed to say it to you', 'ya i thought you needed some time to say it first though', 'and secondly that its turning out this way', 'except dont let me pussy out', 'firstly for not liking you back or giving it a shot', \"nah there's nothing to say\", 'but all i can say is sorry', 'i wish i could say something to make it better', 'what do you mean', 'i need to make this work, i think we have to', \"i can't force you to be friends with me if you're annoyed with me all the time\", \"i don't see the advantage in that\", 'on either end', \"yes you can, because you know we were friends before, and this is all because of something you cant do anything about and it's unfair\", \"life isn't fair\", \"yea well you know what's one thing that i use to be happy about when you rejected me early on?\", 'and that somehow made me feel a little better', \"that you told me you're gonna be selfish and still make me be your friend...i felt wanted even though i was rejected\", 'you know so badly i want to keep you as your friend forevere', 'cant you just be like that?', 'as my friend', 'i want to be like that', 'but you know what someone said to me once', \"you know that's what i want in the long run anyway\", 'but in short spurts, i make stupid decisions', '\"you should have just stopped talking to me a long time ago and saved me the grief\"', 'i want to be selfish and keep you as my friend i really do', 'the grief is for a short term', \"but on saturday you weren't having fun and i didn' tknow what to do and everything i was doing and saying was starting to feel unnatural\", 'and all you had to do on saturday was tell me \"ok i cant focus right now, let\\'s make plans to hang out again this other day and have coffee\"', \"i can't change how annoyed you are with me though\", 'or i don tknow, whatever makes me feel like you actually do  want to catch up? i dont know', 'well obviously the best place to get me to focus is at coffee!', 'its funny that you feel insecure', 'but i really loved that place bob', 'i want to go back', 'point is, again i just naturally feel insecure sometimes with you, because of the way we worked out', \"that's something i need to work on\", 'on that occasion', 'which could be true', \"i felt like you'd have more fun if i wasnt there\", \"i haven't stopped thinking about yoru science comment you know\", 'because I\"M the one who is insecure', 'only insecure about you', 'i would have had more fun if you were there and you were also having fun', \"honestly only on saturday because i was upset you weren't happy\", 'thats my brutal honesty', \"that's not that brutal\", 'but its not something i need', 'can i add something here', \"i just want to live in what i'm doing at the moment\", 'so i know you need it', \"and i had my moments where i felt like were' catching up on things\", 'for a while when it was just you and i, you were pretty focused', 'i\\'ve never liked the \"catch up\"', \"not talk about the last while we weren't together\", 'no, just talk about ANYTHING', 'i get why people like the catch up', 'because that was the only reason i was there, you know?', 'i had no interest in that place', \"yes i know but you didn't try to make conversation\", 'we just like different things', \"its lik ehow i loved the bean and you didn't\", 'i wanted to hug that place', 'that hurts because i loved that place', 'i was thwarted too much that i was afraid of being shut down', 'and secretly i want everyone to love it as much as i do', 'i hate when people talk through tours', 'yea, but at least we can have good conversation from time to time', \"i've always enjoyed hanging out with you when talking is involved\", 'i even tlaked to you throughout the tour', 'like when we were sitting on the grass', 'so if im not talking, what was i doing there', 'obviously its okay', 'well no its secretly not becuase i feel like you just stepped on my harry potter book or something', \"why don't you enjoy hanging out with me if no talking is involved though\", \"well i'm sorry i didnt care for the place?\", \"but i'll get over it\", 'but from you its the opposite', 'i want to have a conversation', 'you talk a lot, but you dont listen', 'and you know i get a lot of crap from people for talking too much', 'and not being able to enjoy silence together', 'i never understood that', \"why can't we sit and enjoy eachothers company in silence\", 'okay but you know it comes out forced when you tell me that', 'i wanted to sit on the grass andnot talk', 'but i knew you wanted a confo', 'if you enjoy us sitting in silence more, maybe we shouldnt hang out', 'so i tried hard to make one', \"i don't understand\", \"okay well i can't tell you what mood i'm going to be in\", 'ok then maybe i shouldnt have came at all', 'also you kow us talking was the complete annoyance of natasha... she would have chosen to sit in silence', 'because i dont enjoy it, and i dont want you to feel like im not enjoying the silence', \"that's not what i'm saying\", 'ok im just gonna say this', \"if you're in the mood to not talk, you might as well tell me, and i'll just play on my phone or something\", \"but i'll secretly be annoyed that you need your phone as entertainment\", \"if you dont tell me, im just gonna keep talking to you, and then you'll probably zone out, and im gonna feel angry\", 'what do you want me to do? sit and do nothing?', 'i just wanna make sure you know that', \"that's what i want you to want to do\", \"but not if its not what you don't want\", 'this is getting silly and nit picky now though', \"yea it's completely unreasonable to expect everyone to be comfortable with that\", 'my honest opinion', \"your'e mad at me\", \"no i'm not at all\", 'i feel like what happened just now though is we created a very rigid scenario in which we can hang out', 'and both be happy', \"well that's a start i guess\", \"i don't see that as being a start\", \"honestly, if you took me to hang out with, i don't know... sean at a physics conference\", \"yea well there's a bit of an asymmetry about our situation, how it turned out and all...and we're gonna have to deal with it\", 'you could take me to an astronomy talk', 'and i wold still be like \"okay well i\\'m here anyway and this has nothing to do with bob\\'s fault\"', 'it could be about athiesm', 'regardless of how much i hated the speech', 'but i would go beause you are my friend and i would be okay with it', \"obviously i wouldn'thave fun\", \"and i don't think i'd blame you for any of it\", 'alright then', \"i guess i'll try to be more accomodating ofthat\", 'but at some point, if this is going to be a real friendship', \"i mean if you dont think it's worth it\", 'you have to get rid of that assymtery', \"i'm trying my best, and at this point, i thought being honest is the best thing to do, so this conversation might not be so comfortable, but i made my decision to have it\", 'anyways i will be more accomodating and considerate of the hang out scenarios then', \"but i don't see how that helps either\", 'bahah assymetry... asymmetry', 'you have no idea how much some shit hurts and needs time', 'i wanted to apologize to you a few week sago', 'and i agree with you on that', \"it's unfair to you, and im working on it\", 'it snot unfair to me bob... its just karma... i was unfair to you', 'its like that', \"i guess we both have to deal with it, it seems dumb but it's a starting point like i said before, but i'm confident it'll get better\", 'i try to feed off your confidence then', 'how about you pick the next hang out', \"i'm trying to not make the mistake i made with janelle\", 'hence the communication....', \"well you'll be working downtown\", 'or up town ish', 'ya ive already started', 'i work 8:30-4:30', 'well anytime next week if you wanna have coffee in that area', 'or come down to my area', 'ya sounds good', \"we'll work something out\", \"but that discomfort i would've been okay with if none of this happened, and im sure it'll be okay eventually\", 'its a lot of pressure', \"i know it's stupid that i need you to not be silent\", 'well can you help with conversation please', 'because i always end up in stupid conversation to fill gaps', \"and say htings i don't want to talk about\", \"text me when you are in the mood to have coffee and chat, i'll respond if i am too...it's pretty standard :P\", 'honestly bob its not only that you want me to talk', 'its that you want me to talk about things you are interested in', \"and get upset if i don't\", 'like in chicago', \"and on saturday i knew there were things we talked about  you didn't want to talk about\", 'that was totally because it was 2 against 1', \"i hate 2 against 1, you guys like shutting me down, it's the mob mentality\", \"you know i never had problems when it's me and you, or me and umar and you and joyce\", \"it's only when it's me and you and joyce\", 'ya but i have problems with you and umar', 'and i let them go', \"well i'm sorry i dont let it go\", 'the fact that you have problems with me and umar means you understand me at least', 'no because they are simple annoyances', 'they are not deep rooted annoyances', \"there's stuff i have to work on\", 'i dont want you to be annoyed either', \"i'm not going to pretend this conversation left me all happy and excited and relieved\", \"but we can be really good friends, there's qualities about our friendship that makes it worth it to have these annoying outburts\", 'but atleast we talked', 'you always wish things didnt have to be talked about', 'and i always wish the opposite', \"i don't mind talking\", \"i just don't always feel better after\", 'yea but a lot of times i feel a lot shittier than you before talking, and maybe im an asshole for wanting to feel better', 'at your expense', \"but i wouldnt have started being brutally honest if i didnt think it's better for us that i do\", 'ya thats fine', 'so we good?', \"i think i'm going to go to sleep hten\", \"let's have a regular conversation sometime\", 'ya i suppose we will soon', 'over coffee', 'i was planning to just text you random things tomorrow', 'that could work too', 'i dont mean convo to hang out', 'that always works']\n",
      "['Are you actually awake', \"yea, it's too hot\", \"What's the weather like in Toronto now\", 'im gonna recommend AC when she gets back', 'hot and humid', \"neva's place has no AC\", \"It's hot and humid here too. We all look like we permanently rubbed oil on ourselves\", 'sounds nice', \"Why are you sleeping at her place if she isn't there\", 'stay indoors with ac on', \"because it's close to campus\", 'There is no AC', 'What temperature is it', \"Isn't sleep more important. Go sleep at home\", \"but when you walk into the room, it's like a heatwave hits you\", \"it's only 24 degrees outside\", 'During the day I mean? Should I expect to have nice weather when im back', 'because the whose house has no ventilation', \"the weather is nice, it's actually just indoors at neva's place that's bad\", 'Oh well no sympathy you chose to sleep there']\n",
      "['I know...:( but i saw a few now', 'this is easier', 'Not if im on my phone', 'But sure. Where are u then? Home?', \"oh if you're on your phone whatever is easier for you\", 'on your way to school?', 'Im home, gonna do some errands, then go to school', \"ya I'm home\", 'Are you home too?', 'alright go to errands', \"i'm not sure when I'm heading to waterloo yet. No classes this week and its all independent work\", 'just trying to figure out when to set my meetings with my profs', 'because there are a couple things I need to sort out', \"but scared I'm going to get bored in Waterloo as soon as I get tehre\", 'I wish I just decided to do my thesis from afar', 'in Kitchener', 'Rooming with who', 'Where are you staying?', 'for Minneapolis', 'well I have to be back next Wednesday anyway', \"I'll come visit sometime\", 'but I get bored so fast', 'how was your trip', 'Hopefully stranger isnt too tapes', 'It was good, saw a lot of stuff', \"its a girl so i doubt she'll rape me\", \"That's what you think\", \"hahah i'll be okay\", 'but tell me about your trip', 'Boston was fun, saw the aquarium, the Harvard and MIT campus, had good seafood', 'did you like harvard and MIT?', \"Well yea, it's pretty cool\", \"I havent decided if I'd apply there though, that'll depend on the prof\", 'for post doc you mean?', 'i guess you have some time to think about that', \"so wait did you go to collingwood too or is that later? i can't remember\", 'and you and neva still getting along?', 'how was collingwood?', 'that was alright, just hanging out with department people', 'it was alright, mostly board games', \"yea we are, she's just super high stress\", \"she'll find a problem to be depressed about, like people are judging her, or she's not gonna find friends who like what she likes\", 'or whatever, basically, the mood is always negative', 'but she likes me, she just hates herself', 'so it must have been a rough year for her', \"but she's just a negative person in general though\", 'i get it because even though waterloo is 1.5 hours away that is hard enough for me', 'i always say that', 'when you think about it', \"its probably hard for her because she's in a new city\", \"that's really tough\", 'moving is so hard', \"like if we walk around, she'll always have something to complain about\", 'it just makes my mood perma-bad', \"and im afraid to tell her i like anything, because she'll tell me what i like is awful\", 'but whatever', \"that's life\", 'and try to figure out a way to work it out', 'some people are just high-stress people i guess', 'you should probably talk to her about that', 'she knows, she just cant help it', \"that's not good\", 'if its putting you in a bad mood', 'ya but high stress people need to figure out ways to destress', 'especially if its contagious', \"you don't sound too happy\", 'im just venting', \"you're totally allowed to vent\", \"you cant change someone if they've been that way all their life, especially when they're already trying to change, no point to constantly make them feel bad about it\", \"okay, i'm just saying i think everyone can figure out they're destress technique\", 'but you are right, no point in making her feel bad about it', 'actually can i tell you something', 'hers is basically caffeine and pot', \"there is someone i might like right now... not sure if its going anywhere... but thought since we are friends i'd tell you in advance\", '(even though you never told me)', \"no, i'm sorry\", 'i just wanted to tell you', \"i don't know why i did but i just did\", \"i didn't want to hurt you though\", \"and don't want to\", 'even if it isnt ideal', \"i'm not with that person\", \"thought i'd give you a heads up in case\", 'im with someone now', \"it's alright\", 'are you upset', 'im more still in venting mode', 'you can keep venting to me', \"i really don't mind\", 'are you going to defriend me are you?\\\\', \"you aren't going to defriend me*\", 'was my question', 'this isnt major news', \"i've already accepted that there are many guys out there you'd like better than me\", 'there are very few guys i like', 'i think many is an overstatement', 'out there in the world', 'there are still not many guys', \"there's no point arguing about this\", 'you know what im trying to say', \"i know... i just don't like upsetting you\", \"it's not you\", 'bob, if it makes you feel better i did have feelings for you in the past', 'so there is nothing wrong with you', \"i just told you it's not you\", \"or i guess that's the easy way out\", \"then why don't you end it\", 'then what is it', \"im just not happy with the way it's going with neva\", \"but if you don't like her or see a future with her\", \"because then i'll have nothing\", 'why are you putting yourself though the misery', 'how will you have nothing?', 'and also because i still like her', 'you have a million friends', 'ya i get you', 'so you do like her', 'yea i never said i dont', 'have you guys had a serious talk', \"it's all serious talks\", 'heart to heart', \"it's just not going the way i had hoped for\", \"she's always talked about the worst things that upsets her\", 'about the way she is', 'but she just is', \"there's no changing that apparently\", 'how is there no way to change that', \"i don't believe that\", \"and you shouldn't settle for that as an excuse\", \"it's not her excuse\", 'where i can see her be happy', 'i just want a relationship with less heavy conversations once in a while', 'have you told her that', 'i tell her everything', \"there's nothing to diagnose here, you dont have to play doctor\", ':S this sounds really tough', \"i'm not trying to diagnose\", \"i'm trying to help you\", \"there's really nothing to be done\", 'just vent then', 'i literally have no advice', 'except hope for better', \"i don't like seeing you unhappy\", \"why? isn't easier to be easy going with a snobby person\", 'because it reminds her of how her old boyfriend was so much more compatible with her hipster snobby-ness', \"she's also a major snob about music, food, and some other stuff, and i upset her just by being easy-going bob\", \"she thinks it's not, because im not interested in saying everything is bad\", 'and have a refined taste in music', \"i dont know, it's just problems she needs to work out, because im not gonna change my easy-going ness\", \"no and i don't think you should\", 'but its not nice to be compared all the time', \"that's why she doesnt, and just gets upset on her own\", 'until i pry it out of her', \"then she thinks she's an asshole for being that way\", 'then she gets more upset', 'i think im gonna head out', 'well anyway', 'mad at herself for being mad', 'i get that feeling', \"it's not all bad, we have fun hanging out\", 'tell me some of the good stuff', 'i just did, i gotta go', 'see you later', 'good luck with errands', 'and everything else']\n",
      "['Nada. In.chicago.airport. You?', 'are you on your way back or on your way there', \"i haven't watched it yet\", \"don't tell me\", 'best episode of breaking bad ever', \"so i'm nervous for this yeet\", 'i had severe anxiety during last weeks', 'there was no rest', 'i love that poem', \"i haven't even seen the episode and that was really good\", \"i think i'm going to go watch it now\", 'even though i have to pack and do work', 'And on the pedestal these words appear:\\n\"My name is Ozymandias, king of kings:\\nLook on my works, ye Mighty, and despair!\"\\nNothing beside remains. Round the decay\\nOf that colossal wreck, boundless and bare\\nThe lone and level sands stretch far away.', \"i'm gonna go\", 'hahaha okay bye']\n",
      "['you have an insane amount of trips planned', 'https://www.youtube.com/watch?v=Dd7FixvoKBw']\n",
      "['http://imgur.com/gallery/JdfpFyg', \"where's badger?\", 'and skinny looks so different', 'I know i was looking for badger too', 'and ya i was confused about skinny', 'i feel like half of kitchener looks like skinny']\n",
      "['i want to play resistance', 'you can if you join us', \"i don't know... i should work\", 'can i bring jenny', 'yea you should work', 'but we cant play resistance with 4, so on the other hand you should come', 'well not now, we wont be free until like 4pm', 'nah its okay then']\n",
      "[\"Do you remember Charlie? My cousin chris's friend?\", 'he is in the hospital and he might have schizophrenia', \"ya i'm schocked\", 'i heard from joyce']\n",
      "[\"you're not back tomorrow are you?\", 'no not this weekend', \"there's a lot of work i need to get done and it's ailish's bday\", \"btw please don't feel obligated to talk to me or ask me... i'm really not mad\", 'just forget the whole thing', \"dude i've been trying to get this Guu thing to happen for ages\", 'you know this before the fight', 'you just fail', 'Oh I said next weekend in my message', 'Hold on though can you not pen me down for it... Pitt me as tentative. In considering staying in loo next weekend too', \"Okay fine put me down I'll come home\", \"ok we'll see\", 'frustrationnnnn', \"Just do it I'll come\", \"it's okay, you do what you need\", \"I'll come I said\", 'Next weekend', 'i know what you said']\n",
      "['http://www.bestvines.com/im-out-here-jogging.html', 'http://www.youtube.com/watch?v=rMJWL1CczMI', 'i just finished watching Thor', 'and that was quite.... random.. that video', \"i'm not sure i understand Loki\", 'he was trying to destroy the frost giants', \"it's mostly just that he hates thor\", 'ya but he failed to protect asgaurd in the process', 'what do you mean failed to protect asgard?', \"also was not convinced of Jane/Thor relationship... i just wasn't feeling it\", 'he let them in to asgard', \"loki didn't\", 'and basically let his \"little bro\" emotions get in the way of everything', 'at least by the end of it thor matured', 'yea so he could kill laufy', \"i know but i just don't agree with loki\", 'although he is very attractive', \"your'e not suppose to\", 'but at the same time, your argument so far is just \"i dont agree wtih him\"', 'i see nothing wrong with his plan', 'i see nothing right with his plan...', 'except he shouldnt want to kill the frost giants i guess?', 'but anyways i liked the movie overall', 'thor was dumb', 'you still havent told me why you dont agree with him', 'he let the frost giants in to kill them all (sure he wanted to kill laufy but it put asgard in danger)', 'with loki? because he turned his own people against him which is not a good way to govern', \"and he did it simply to please his father, whom i don't believe he had anything he had to prove to\", 'and he basically acted as a jealous young brother the whole time', 'of course he did, he just found out he was adopted', 'so he wants to rid of the ice giants', \"but he didn't even listen to his fathers reasoning\", \"don't get me wrong, i understand him, but i think the fact that he let his emotions get in the way of logic wasn't good\", 'same with thor at the start, not saying thor was better', \"he's a villain\", \"they're all flawed\", 'neither was him and jane', 'and the point is he was a believable villain', \"thor's character and motivation is not believable\", 'they always do a horrible job', 'ya but i just generally have a hard time connecting to the romantic aspects of movies, particularly action movies and superhero movies', \"anyways i'm glad i finished it\", 'you prob also just really like it cuz its natalie portman', 'i didnt like her in that movie at all', 'nor did i like thor', 'but loki makes perfect sense to me', 'no he was too childish for me', \"dont be upset justs because i don't agree with you :P\", \"i'm joking i know you aren't\", 'dont be so sensitive when i disagree with you', 'im not upset', 'i just dont agree with you', 'im just disagreeing', \"i'm jokkinngg\", 'honestly though, i really want a villain to be a flawed man rather than a power hungry psychopath', \"don't you get tired of the classic good vs evil?\", 'oh ya i totally agree with that', \"i'd rather two people with rivalling perspectives\", \"although thor's perspective was too dull\", 'i mean before harry became crazy, he was cool, and im sad that he did become crazy', 'but once he goes south, it doesnt matter anymore', 'the villians all jsut went wrong with science', 'i think spiderman is like that', 'spiderman villains are just \"I\\'M CRAAAAZY, IM GONNA FUCK SHIT UP, MUAHAHAHAHA\"', 'but he became crazy after his dad died', 'yea but point is, he cant be interesting for too long', 'the origin story is good to watch, but afterwards, he just needs to die', 'true and sad', 'i like magneto, he knows when to be good, and when to be bad', \"i wonder why you don't like harry potter\", 'does voldemort ever become a good guy?', 'not voldemort', \"but at the same time, he's always looking to forward his agenda within reason\", 'who have their reasons', 'but there are a lot of bad guys in hp', 'because he has gone too far', 'i like magneto because he does everything that makes sense', \"so if some bad shit is happening, he'll help out\", 'yea most good stories would have good back story and believable motivations for bad guys turning evil and shit', \"no that's not what i mean\", 'i mean the complexity of the bad characters being good and bad', 'like malfoy', 'so many more', 'in the last movie, he kills the sith lord, fulfiliing the prophecy', 'does he go good after', 'grindelwald', 'or darth vader', 'oh ya i did in theatre', 'not the prequels', 'you saw star wars 1 right?', 'i saw the middle one?', 'didnt even see how he turned evil', 'you saw the middle one too', \"i still haven't seen them.. jus the one\", 'becomes the hero of the series in the last 10 minutes', \"didn't know that.. now i know\", 'that was 1 right?', 'which one in theatre', 'are you talking about', 'they are all in theatre grace, that doesnt help me at all....', 'i saw 3 with jamie and you', 'so which one in theatre', 'you saw star wars IV with jamie and i', 'okay i saw Iv with you guys i think i saw I in theater', 'so i had to clarify', '1 was in theatre when you were 8', 'well you were being super confusing', 'in the story', 'ya i know how it works', \"it's the first movie made, but 4th chronologically\", 'nope i lied', 'see? you are confused', 'sheesh sorry i was still 12 when i saw it', 'i do know how it works you guys spent like 3 hours explaining it to me', 'dude stop being so defensive today', 'am i being really scary?', 'hayden christenson was friends with my cousins', 'im just giving you shit because you said you know how it works', 'he grew up in my neighbourhood', \"i'm not being defensive you're reading it defensively\", \"you're being scary?\", 'i read \"sheesh\" defensively', 'ya i guess that was a fair read', 'i would say so', \"but i didn't mean it defensively\", 'true thor is close', \"you won't find one in a superhero series\", 'thor lacked everything else', \"i can't think of one\", 'but just conflict between people', 'it\\'s hard to find a series where there\\'s no \"good\" guy or \"bad\" guy', 'point was...', 'goes against superhero-ness', 'i sympathize with magneto a heck of a lot', \"i think on the surface, he's the bad guy, but in reality, humans are the bad guys\", 'i have to watch it to decide', 'too bad you have to watch 4 movies to decide', 'because they dont develop him in one', 'it builds up slowly', 'personally, i stil think snape is badish', 'from my approximate knowledge of his character development', 'kinda like snape', \"that's okay i'll wath them\", \"i've been meaning to anywya\", 'but the world is not split into good people and death eaters.', 'is he like...harry in spiderman?', 'no not at all', 'he does only good in the end', \"but it's complicated\", 'actually vader was comically evil until the end', 'too much approximate knowledge', \"i don't get the vader references and you don't get the hp\", \"i know if i compared anybody with characters in harry potter, you'd be offended\", \"hahaha only because we both don't get the other reference fully\", 'at least i know snape kills dumbldore', 'at least you know that :)', 'but did you know that dumbledore told him to?', \"no, but that's not important\", \"how is that not important?! it's everything!\", 'dumbledore was going to die anyway', \"i feel like i would've written that to make it more complicated too\", 'oh i wouldnt?', 'its not that simple', 'did i just say that something is complicated, and you replied with \"no it\\'s not that simple\"', \"and it's not about what was written, it's about the intricacies of people's emotions\", 'what just happened', 'yes thats exactly what just happened', \"i knew that it doesnt really matter what opinion i make about harry potter, you'll disagree with me on the grounds that i really just don't get it, so i shouldnt have an opinion\", 'which is fine', 'my friend used to do that to piss people off... \"daniel did you take the bus?\".. \"no, i took the bus\"', \"i'm not disagreeing with you\", \"sometimes i take my stomach's hunger pain\", \"thats what i'm doing now\", 'and just suffer because i dont wanna get up to go get food', \"me too but i'm also lazy\", 'im so hungry!', 'also fair yes? :P', 'i read \"no\" as disagreeing', 'my kitchen is pretty close to me though', 'so its extreme lazyness', 'howd your work go today', 'i should really understand the math better', 'this model will run for a month', \"don't think about it\", 'or next week...', \"dont know if it'll crash tomorrow\", 'dont know why it didnt work', 'congrats :)', 'woohoo awesome', 'code ran anyway', 'didnt figure it out', 'i sat in my office, worked really hard to figure something out', 'dont know why it works now', \"if it turns out im doing it wrong a month from now, i'd have wasted a month of computing time\", \"why don't you take tomorrow to learn the math\", \"maybe it'll help if you're calm and the code is already running\", \"well you're always calm\", \"it's so overwhelming\", 'this is for the future', 'OR ARE YOU PRSENTING YOUR OTHER STUFF', \"oh thats good.. don't be overwhelmed no panic\", 'no, my AGU poster is made already', 'is this code for AGU', 'SORRY capslock', \"just do everything slowly and then i'm sure it'll turn out right\", 'this is the document i need to understand', 'this, and about 20,000 lines of code', 'you are smart and dedicated.. i have no doubts in you', 'i got through the easy pages', \"i don't get a single word of it\", 'but i know you do', 'it was alright', 'just pick 2 days and sit and only work through that document', \"yea i'll be fine, dont worry\", 'but at around page 15ish it goes to shits', 'right now, im more worried that my stomach will eat itself', 'go get food', 'and watch this while you eat', 'http://vimeo.com/74780263', 'pretty amazing photography', 'btw i just spent $3000 on a macbook pro', 'also, i think desktops are not the way to go anymore', 'you have one', 'i dont have one', \"that one is sabine's\", \"well that's good, if you really wanted the macbook\", 'and you need it for your work', 'i was gonna upgrade my desktop, then i realized that i probably wont be home often enough to really use it', \"then it's okay that you spent $3000... justifiable\", 'well i needed a laptop if i was planning to upgrade my desktop', 'i thought that macbook was your laptop', 'i remember you buying it', 'i bought it, but then i sold it to someone since sabine had funding to buy me a laptop', 'that is the exact same as mine', 'right right now i remembe', \"but now i think im gonna keep sabine's at work\", 'and not install personal crap on it', 'oh okay... so you can work from home too basically', 'when i work at home, my desktop is windows', 'you paid $3000 for a laptop just for games and music?', 'and just have my own with all my music and games etc.', 'and work obviously', 'so it cant ssh easily', \"don't know what ssh means\", 'but i get it', \"also, it's christmas\", 'and im rich', 'treat yo self', \"yes i'm sure you're rich\", \"it's a good laptop\", 'i spent half of my day today touching it', 'yours and joyces', \"5 months and i'm still in love\", 'its the best texture ever', 'i mean CGSD', \"i love my laptop... i'm so happy with it\", 'ya i know i remember', 'oh no i lied i did', \"i actually didn't name it\", 'to take care of it', 'its not slow', 'take care of it!', \"except they're so slow because you guys keep installing random shit on it\", \"and i don't know how\", 'smocke actually... with the e', 'smocke? why', 'When i first bought it, I had my mac (Jack) and this laptop in the same room. So it was white and black. Like Jacob and Smoke Monster', 'and i felt ashamed for betraying Jacob', 'and i was very upset and named my laptop Smocke after Smoke Monster John Locke', 'jack was too old and needed to die', 'i actually went and cleaned all the files off this weekend and emptied everything out', 'i know that', \"but i still couldn't help feeling that way\", 'did you throw jack away?', 'no he is sitting in my room at home', 'cool story bro', \"because i didn't do it before... he works pretty well\", 'obsolete technology', 'like wall-e', 'did you get yourself food', 'im eating right now', \"i'm very happy for you :)\", 'alright good night', 'good luck figuring our your equations tomorrow', \"i think i'm just going to sleep\"]\n",
      "['these guys are narrating and watching all of the harry potter movies in one go', 'http://www.youtube.com/watch?v=Fs58PtMotHk', 'This is awesome. I want to do this one day but I think my bum would hurt and my face would hurt too much from cringing at movie 4 and 7', 'Actually these guys are kind of annoying. And by 7 i meant cringe at 6']\n",
      "['nobody mentioned it, i didnt even realize until i saw it just now', 'in your msg', \"that's too bad! how'd it go\"]\n",
      "[\"Okay now I'm home\", 'Actually going to go shovel', 'I have exactly 96 exams to grade', 'That sounds absolutely brutal', 'grade 6 so far....highest mark is 38/70', \"that's the only one that didnt fail\", 'this is a physics for art students course, so ppl need to answer in paragraphs about concepts articulately', \"Uhm that's awful. Maybe the other 90 will be slightly better\", 'Just a bad batch', \"since it's all concept no math\", 'I think im just grading a batch of asian students who probably has no idea what the prof is talking about', 'Q: What energy transformation(s) occur in convection?\\nA:\" energy transformation occurs in the system. from microstate, we can get that the particle in fluid is move, so energy is transfer\"', 'since im starting from last name Z', 'Honestly those are just the worst to Mark. I would just drink a lot of wine . Made the grading easier', 'vodka will do it', 'Hey started now', 'I mean on the vodka', 'what are you up to tomrrow? i have no plans', \"i'll take 1 shot every 10 exams\", 'Only thing is does vodka make you angry or happy? Wine made me a generous marker', \"I can't tomorrow I'm sorry\", \"ya, sunday im meeting up with brenda downtown, but we have no plans, so we'd like it if you join us\", \"Haha 'we' would like it or you would like it?\", \"brenda and i didnt make any plans, she's just downtown so she asked if i was downtown\", \"it's probably easier to do things if there's more people\", 'also, have you had good sushi?', 'Okay sure. I work until 1 though so I could be dt by 2:30', 'Haha we could go', \"if you're willing to spend 30 bucks for very little food, i really think you should try it\", \"No you've talked to me about it since you and Neva went\", 'have you had good sushi?', 'If Brenda is down?', 'wo or we could watch sherlock season finale', 'Yes to that option', 'did you see the short?', 'Wait season 2 or 3?', 'season 3 is out in january', 'Ya just checking', 'Im so bad at typing on my phone I should just go get my laptop', 'have you not seen season 2?', \"I don't want spoilers though\", \"it's a 7 minute prequel\", 'watch it when you have the laptop', 'https://www.youtube.com/watch?v=JwntNANJCOE', \"Didn't see the short yet\", 'Of course I have', \"then there's no spoilers\", 'Got my laptop', 'literally cannot type on my phone at all', 'i should get a keyboard phone i think', \"there can't be, because the real sherlock books ended at Reichenbach falls\", \"or that's where he died\", \"okay wait 7 minutes i'm watching\", 'wait nevermind, conan doyle did write a few books after Reichenbach falls, showing that he faked his death...im an idiot', \"no but i've read about many of the books\", 'have you read any of the books?', 'i retain a massive library of summaries of books in my mind, but no actual books', 'they are short stories though', 'so you might as well read them\\\\', \"the summaries i've read are even shorter\", 'well the adventures of sherlcok', 'are short stories', \"that's too bad\", 'the league of red headed men is so funny', 'you miss out on so much good stuff', \"especially in other books, that aren't plot driven\", 'and yet i have fun', 'dont tell me how to live my life!', \"but you don't learn\", \"why do you love to tell people they've been living life wrong\", 'because my opinion is the right answer to everything', \"didn't you know?\", \"anyways don't look at me to be a life guru\", 'i need a life guru', 'are you legit taking shots?', 'my life guru', 'a shot to you', 'you have your shit together', 'minus the not reading part', 'and not liking slapstick comedy', 'slapstick rots the brain', 'reading also', 'and brain slugs', \"hahah that's HORRIBLE\", 'where did sally go after the bombing?', 'are brain slugs a real thing', 'where did sally go after the bombing?', \"no that's from futurama\", 'I left this youtube link open on my laptop', 'and so i watch it everyday', 'http://www.youtube.com/watch?v=OhohteHuyPM', \"and don't close it\", 'fastest readers in the world are the 9/11 victims', 'went though 100 stories in 10 seconds', \"what's the difference between 9/11 and a cow\", \"you can't milk a cow for 12 years\", 'only slightly though', 'slightly too far', \"bob that's awful!\", 'seriously, when is it still too soon', \"i don't know\", '9 years ago today tsunami', \"as far as i know, they're milking the middle east dry with that 9/11 shit\", \"don't even get me started, to this day, I still don't understands why they went to war with iraq and afghanistan instead of saudi arabia\", 'when the saudis literally 9/11', \"anyway, that's my 2 cents on the matter\", 'not for 9/11', 'i meant how they justified it', 'they went for oil', 'everyone can see right through it', \"i wouldn't mind if america invaded the middle east though\", 'they need someone to revolutionize it', 'im pretty sure the u.s. is funding the keep that place messed up', 'just has to do with the fact that the middle east is messed up', \"i wouldn't be surprised\", 'but that has nothing to do with 9/11', 'have you watched the show Rick and Morty?', \"it's so good\", 'you probably wont like it', \"i don't know why\", \"i don't like adult cartoon\", \"it's made by Dan Harmon, and it's basically a cartoon like community in that it parodies scifi movies each episode\", \"but anyway, i'll stop raving about it\", \"it's like how i like community and 30 rock\", \"it's not really about the fact that it's a cartoon, the way it's written is great\", 'i love high-concept cartoons', \"i have nothing against them i just don't want to watch them\", \"ya i just don't\", \"haha sorry i can't share your love for it\", \"some people can't get over certain aspect of the things that distracts it from the main point\", 'i know that all too well', \"i'm sure you've had too many experiences debating\", 'although it can be kind of fun sometimes', 'so what are your new years plans', 'none really', 'how big of a thing does it need to be?', \"i dont like big parties, but i'll come\", 'its annoying', 'im just telling u i prefer', 'but she is SO BAD', 'i keep pressuring joyce to do something at her place', 'okay we should plan something', 'at planning', 'big party? are you kidding? its a tiny apartment', \"so far all we've thought of inviting is you\", 'it could fit like 20 people', 'we have no other friends aparantly', \"but i'd prefer more like 5-10\", 'and she does live there', 'ya probably', 'so far it would be 3... me you and joyce', '10 is pushing it even at that apartment', 'yes, she does live there', 'and i like angela', 'yea i like her too', 'you like everybody grace', 'what you just said there meant nothing to me', \"i actually don't lke everybody\", 'maybe as you get to know someone, it gets old', 'lots of people have made a bad first impression on me', \"but i don't like getting to know them much more than that\", 'i like everybody on the surface', 'well nobody has made a bad first impression on you i feel like', '(who is the worst)', 'i never liked Betty', \"i'm not a fan of Erin, but don't tell Anna that\", \"there are so many people i've disliked within the first 2 minutes\", 'but they gotta be repulsive', 'and its insta-not friends', 'i dont like cheese', 'or \"harry potter is lame\"', 'she wont like you if you do', 'like \"i dont like cheese\"', \"ya that's how i am too\", 'for me its something they say', 'like completely innocuous, if they jsut dressed really girly or something', 'neva will not like someone just because they seem uninteresting to her', 'yea, dont dress girly to neva', \"but that's obvious to you, because if i feel like it is worth the effort, i would've read it\", \"i don't get that\", 'and harry potter is not worth my effort', 'it hurts when you say that', 'well i dont like cold cheese, except brie i guess', \"i'm wearing pink\", \"thankfullly i didn't know that right away\", 'but im also very very impeded in reading', \"i'll say it's probably good\", 'something can be bad, and require little effort, or it can be good and require lots of effort', 'okay lets not talk abotu it please', 'its not effort though', \"it's simple, it's just sooooooooo much effort\", 'its like a pang in my heart', 'it will upset me', 'he just chooses not to read', 'then i start scanning words until the end', 'i fall asleep or feel tired after 2 pages of reading soemthing', 'i cant make it through science papers even', 'sometimes i see an astronomy book and i\\'m like \"oh bob would like this\"', 'except bob cant read', \"so i don't get it\", \"and then i remember that you don't read\", 'bob CAN read', 'no dont take aderal', \"i'm never taking it again\", 'it was awful', 'to finish your essay?', 'well if you had to have a negative', 'i took some a couple weeks ago', 'ritalin maybe', 'i need drugs to read', \"i think it's just a mental disability\", \"i don't know why though,.,, you have such good focus\", \"i didn't have an essay\", 'can i try it at least? i want to know, because i feel nothing from caffeine, it runs in the family, my dad drinks coffee before bed', \"no it doesn't keep you awake\", 'it helps you focus', 'where did you get the aderal, supply it', 'then just ask for it', 'haha we are friends i thnk he knows me', \"tell the guy you're joyce\", \"i can't i have no supply\", 'pleeeeease can i have it?', 'i never felt an upper before', 'no i gave it back', 'i know, i jsut mean uppers', \"you don't need help with that\", \"and the guy won't let me have more because i told him how i reacted\", \"say it's for a friend who wants to try it\", \"no he won't give it to me\", 'i had really bad heart problems all day', 'and stayed awake until 6 am', \"and didn't get any work done really either\", 'because i felt so sick', \"yea but you can tell him it's not for you\", 'its not like i snorted it', 'i dont understand the explanation', 'its aderal its for focus', \"trust me he won't\", 'uppers do give you heart palpitations', 'and he might not have more', 'honestly he probably has no more.. he only gave me 2 and it was from his friend at a pool', 'but whatever', 'this is a weird story', 'but he felt so bad', \"even though i didn't really tell him the whole thing\", \"anyways don't try it\", 'what would you need an upper for anyway', 'Just to try it', 'thats stupid reasoning', 'people try bungie jumping', \"no it's not\", 'to tie their leg to a rope and jump down, you dont really get anywhere dangling up and down, but people still try it', \"i think that's different than drugs\", 'what is different?', 'neither activities produce any outcome except the experience', 'the point is the pump adrenalin into your system, and get endorphins afterwards, the other is...i dont know what aderal does', \"it's the stigma of a pill vs some mechanical way to get someone high off the same chemicals\", 'all im saying is, im so mad when everybody gets all hopped up on coffee and im like \"dude i feel nothing\"', 'that taking aderal to get an upper is wrong', 'its just a feeling', 'getting hopped up on coffee is not fun', \"but sometimes things don't make sense and yet they do\", \"i don't think i made sense there\", 'brb chopping carrotts', 'ya i agree with you', \"i think you're confused\", \"um...lots of people tell me it's awesome\", 'that makes no sense', \"i think you're imposing your opinions on the matter on the entire world without letting me try it for myself\", \"i can name you 4 people i know who are always telling me they're in a really good mood because they just had coffee and it's the caffeine high\", \"hey i've taken aderal SEVERAL times... i'm obviously being hypocritical\", 'oh ya coffee makes me happy', 'coffee doesnt make me happy', 'it tastes alright, smells amazing', 'but hot chocolate...sooo much better', \"but that's it\", \"im just a curious person grace...but i dont think i wanna go bungee jumping, because i already know how it's gonna feel\", 'and nauseating', \"i'm a curious person too but i think there are some things i just don't care about\", \"that's fine\", \"i care about trying almost everything, maybe that's bad\", 'but then again, im not going to heaven like you, so i better try everything', 'except reading hp', \"why wouldn't you go to heaven\", \"that's too much work\", \"you aren't trying things like killing people\", \"because you're curious\", 'that makes no sense', 'ok not that i wont go, just that i have to live on the assumption that there isnt one, u know, just in case there isnt and i missed out on things', \"so why would you live under that assumption so you don't have to miss out on stuff\", 'im not curious to how it feels to kill people', \"i know it'll feel bad grace\", 'omg you get what i mean', \"you aren't doing wrong things\", \"because i know it'll feel bad\", \"i'll feel guilty\", \"why do we not do bad things? it's because subconsciously/consciously we know it'll make ourselves feel bad\", \"i really don't think i'd like it, i'll be awkward for everybody involved\", 'also, i dont think i wanna try gay sex', \"i wouldnt try cocaine either, i feel like i'll get addicted and it's bad for you\", 'Well im glad you know that', 'I have to ask you something... If we do do something at joyces for new years... Would you be okay if I invited Nate?', \"I won't ask him to come if you prefer not\", 'why did you ask then', \"i'd rather you ask him and i just not come\", 'That would not be what I wanted', \"Okay I'll just tell him im going somewhere else\", 'so a part of me is afraid im not gonna feel great when im there, even though i want you to invite him', \"I would prefer not to discuss the situation if that's okay\", \"I wanted to know if you'd be okay with it\", 'i really dont understand your situation wtih nate', 'just invite him', \"Okay that's fine I would rather you be honest\", 'forget it anyway', 'i have a party to go to on new years', \"What then it's me Joyce and Nate? No thanks\", \"you guys should be together whatever's going on with you two it deosnt matter, it's new years and he wants to see you\", 'I wohkd rather us three', 'or you can go with nate to wherever he wants', \"We haven't discussed new years\", 'i have a party to go to', 'it was just a simple question to you', \"i don't feel like it, im sorry\", \"Please no let's just stick to the original plan\", 'look, i can either force myself to do the right thing and be reasonable right now, and feel bad, which i obviously should do', 'I really want to spend new years with you', 'or i can just go see some other people who invited me to a party', \"And if that means Nate can't come I don't mind that at all\", \"let's talk about this another day\", 'tomorrow, how about that', \"Okay but im not inviting Nate so it's fine\", \"doesn't matter\", \"because i do it too often and that's one of the things i wanna change for new years\", 'if i dont feel well, right now i dont wanna force myself to do the right thing', 'exactly, so if i dont feel like doing new years anymore, i dont wanna have to justify myself because i cant', \"So it's okay I shouldn't have asked sorry\", \"I shouldn't have asked you I had a feeling I knew the answer\", \"You don't have to do the right thing\", 'im being an asshole and pooping on your party', \"What if you don't do it then you'll be popping my party\", \"I'll be so mad if you cancel now\", \"what if i'll feel terrible when im there\", \"Why would you feel terrible? Nate won't be there\", 'right now i feel terrible, and nate isnt here stroking my back', 'i dont nkow', 'i cant explain emotions', 'Listen if I wanted I could have invited Nate then asked you if you wanted to join', 'But I did it the other way', \"Doesn't that mean something to you\", \"it's nothing you did\", \"i fully understand, and you're right, i agree with you, and i do want to hang out with you\", 'i just dont feel good about things right now', 'and i cant explain it', 'you dont want to talk about nate, i dont want to talk about this', 'my life with neva feels like a mess, and i just want to be low key for new years, and have no complicated feelings', \"Okay fine but let's just do new years together\", 'i dont wanna force myself to be there, and feel shitty when the clock hits 12', 'Ugh I want to punch you', 'as if that time has any special significance', \"I'm getting mad I'm going to punch a wall\", \"ok fine, we'll have it your way\", \"i'll endure it for you, fuck\", \"you're welcome, im doing the right thing again, aren't you proud of me?\", \"No I'm mad at everything in the world not you\", \"it's probably not gonna be that bad, but i just dont feel well right now, and you cant punch me better\", 'so can we pleeeeease for the sake of both of us, just not talk about it until tomorrow?', 'im trying to be reasonable here', 'im not saying no', 'because i now im not in the right mind', '(and no, i didnt have vodka)', 'Just do what you want and explain it to Joyce yourself', 'I am going to go now', 'i dont need to explain to joyce', 'or anybody else', \"do you care about me? because you sound like you're just looking at how much it'll suck for you if i cancelled\", 'can you just look at how much shit sucks for me ever, and stop being mad at me for being unhappy?', 'Im not mad at your for being unhappy', 'Im mad because im unhappy', \"i'm sorry you are unhappy\", \"I don't want to think about it anymore\", \"i feel really heavy right now, and i know you dont want to talk about yourself anyway, so let's just stop\", \"ok i won't burden you with my shit, you could've just said that, and i'll shut up\", 'i dont need to talk about it anyways', \"You aren't burdening me I just don't want to talk about myself because I know it won't help you be happier\", 'My cousins are coming over', 'Ya I have to go for real though', 'Sometime soon', 'did you watch the sherlock clip?', \"I don't know what im saying\", \"And it will confuse you and im confused and I'll talk to you in the new year maybe when I want to talk about it\", 'But im hoping to clear my head', 'Can we meet up and talk at some point', \"we'll talk about talking about it some other time too\", 'can we just meet up and do normal things before tuesday?', \"Yes I don't want to talk before Tuesday\", 'I mean in the future', 'i dont wanna talk about it or talk about talking about it', 'and yes, i am talking about talking about talking about it', \"but that's okay i think\", \"I really want to talk about it. Because I've been wanted to talk to you for a long time and so even though you don't want to I really would appreciate if you considered it sometime in the new year\", \"i dont see it going anywhere, but i'll give you the floor\", 'I think it may go somewhere', \"I don't know though\", 'i dont wanna think about it', 'i already said yes', \"let's move oooonnnn\", 'yea no sweat, dont even trip, dawg', 'Ya im going to', 'So I have to go finish prepping stuff', 'you can play with up to 10 ppl', 'you should play resistance', 'Haha lighten the mood', \"Anyways it's games night at ny house with all the cousins tonight\", 'harry potter', 'Gotta go though', 'K looking it up now', 'you just need cards', 'poker cards', \"So maybe I'll suggest splitting up\", 'google the rounds/number of fails needed per round for the spies', \"But it's like 15 of us\", \"it's on wikipedia, all the rules\", 'See you Sunday', \"because it's amazing\", 'resistance was ahuge hit', 'but there was soooo much yelling', 'and how many people per mission', 'you just made up numbers according to the 10 ones?', \"which doesn't make sense\", 'but we did iy', \"i never played 10 players before, i imagine it's utter chaos\", 'how many spies', 'we een played with 12', \"i think it's fine if you do that\", 'as long as it sounds reasonable', 'ya but the yelling was insanity', 'so much yelling', 'sounds amazing', 'did the spy win?', 'by round 4 we all had headaches and i wanted it over with', 'i mean game 4', 'no we just knew each other too well', 'the spies are being too rational?', 'resistance won most of them', 'we played it for 3 hours', 'twin telepathy', 'hahah except with 12 of us', 'anyways sleep time i think']\n",
      "['http://www.youtube.com/watch?v=edgU_JXqVoY', 'i havent watched it yet, i just find the concept of filming in IKEA without their permission amazing', 'no leaving at 1', \"he's in a soap opera filmed in IKEA without their permission\", 'haha i have to watch this', \"aren't you in niagara right now\", 'i should show you the filming joyce and vanessa and i did in ikea in sweden', \"but i don't know where iti s\", 'you excited for niagara? when was the last time you went', 'a few years ago', 'quite a few', \"i'm trying to do work but my eyeballs are sweating\", 'hahaha i dont believe you', \"Don't believe my eye balls are sweating?\", \"it's not possiblee\", \"It's a feeling\", 'its the only way i know how to describe the feeling', 'Your eyes are more advanced than mine', \"i'm sure if you think about it you know the feeling\", 'like if you eat something really spicey', \"My nose gets runny if it's too spicy\", 'Yea i dont have that', 'ya i know that feeling', 'but eyeballs sweating is a different feeling', 'next time you are sick just think about it', 'I will remain skeptical until then', 'its just the eyes tired kind of feeling', \"like your eyes don't want to stay open but its not just the tired feeling\", 'its the tired-and-sick-eyes-want-to-close', 'My eyes are not fully open anyways', 'haha you always say that', \"they're just as open as my eyes\", 'Your eyes are way bigger', 'Pretty much the same size', 'How goes the drive', \"Pretty short and smooth, we're almost there\", \"Oh that's good. Im sure Niagara is going to look so pretty in the snow\", \"It's not very snowy actually\", 'But sunny though', \"I think there's more snow in markham than a lot of places south\", 'Snow has started melting here too, but I heard that the falls were beautiful during the ice storm']\n",
      "['http://www.quickmeme.com/Not-misunderstood-Chris-Brown', 'haha i get it now', \"they're so funny\", 'im a horrible person', 'these are kind of awful actualy', 'just kind of horrible', 'having fun with the unit?']\n",
      "['are you on this', 'yea im here', \"i don't want to talk via text or fb chat\", \"so i dont' know if you actually want to talk in person\", 'or if you just want to leave it for now', 'we planned it like 4 days ago', \"so i don't think it's appropriate to leave or delay right now\", \"you're welcome to come here, but you dont have to\", \"i'm meeting jenny here in half an hour\", 'like i said, you dont have to', 'im just constantly interacting with an abrasive person in neva, so i dont have good days', \"i'm sorry about that\", \"i don't know how to help that\", 'like she always begins her sentence with \"didnt you hear what i said before\" or \"werent you listening\" whenever i talk about anything that\\'s previously talked about', 'or if i said anything that i\\'ve said before she\\'ll say \"i heard you, dont you remember you told me this?\"', 'or if i say something she doesnt think is funny, she\\'ll tell me \"i mean, i dont think that\\'s funny\"', \"have you considered that you aren't making her happier\", '\"but i guess you can laugh at it\"', 'and god if i ever say anything generic like \"i guess i did some work today\", she\\'ll have to say \"isn\\'t that obvious to you?\"', 'i literally cannot have a conversation with her without having SOME cringy feeling', 'or \"i mean, i already knew that\"', 'i thought you guys broke up', \"i don't understand your relationship at all\", \"u know me, i can't leave someone\", 'if she needs me, and she does', 'well i think you were through with \"doing the right thing\" and \"being the good guy\"', \"honestly, she doesn't need you. she needs a therapist\", 'im never through that', \"you're lying to yourself\", \"im not lying to myself, there's no lie\", \"when i say she will be extremely sad and lonely if i leave, it's not a lie\", \"and also, im not that emotionally needy for her anyway, but i do care about her a whole lot because she means well, and tries so hard to change, but she's just got the personality of her overstressed mother and snobby father\", 'im not sad that im with her, im just being put in bad moods all the time, and that i can deal with, you use to put me in bad moods all the time, and i thought about never talking to you as a way to not be but you didnt let me do that either', \"that's not fair\", 'i did let you', 'i always gave you the choice', 'yea but not forever', 'and you wouldnt want htat', 'so you shouldnt want that for her either', 'i know you want to rant right now', \"because that's not fair\", 'and i know i should be here for you', \"but i'm not in the mood so if you don't mind i'm going to go\", 'i wish i can be like that to her', \"this is why i hate people, it's always about them\", \"and i think i'm in the library\", 'and not really the right time or place', \"ya well for the first time i feel like i'm going to cry\", 'nobody fucking cares about me', \"that's not true\", \"i don't even believe you would say that\", 'everything i say or do is centered around your feelings', \"that's why 100% of the time someone walks away from a conversation between us it's you\", \"right? because that's for my feelings\", \"i dont' want to talk about neva because i wanted to talk about us today\", 'and i wanted to talk in person', \"fine i'm not logical and i'm contradictory like you always want to point out\", \"and yes when i do walk away its usually because i'm scared to say or do something that will hurt you\", 'what you just said there...is directly contradicting what you just said about how everything you do is centered around my feelings', \"and that's why i'm walkign away from a facebook chat\", 'im not trying to point it out to give you a hard time, im actually trying to make a point', \"that it's not centered around you\", 'so is it centered around me? is it centered around neva?', \"what's the point\", \"as far as i can tell, i just react to everybody's situations and im sick of it to the point that i want to not be around anymore\", \"i don't understand that\", \"react to what situation? what is everyone's situations\", \"neva's depressed but still needs me, you're just random, i dont know what you want from one day to another, yesterday you want to talk, today you dont anymore\", 'and then we talk, and then you feel like you dont wanna hear about neva and just walk', 'for being random and changing my mind', \"okay you're right\", \"when you started talking about neva i had the temptation to turn the conversation around and talk about me, so the honest reason i decided to walk was because i didn't want to do that because i didn't think it was fair\", 'or the right time to talk about me', \"but now i'm ready to listen if you want to talk about neva\", \"and i'll listen\", 'i dont know what to say anymore', 'but thanks for hearing me at least', 'ya and i agree you are right... i just let my emotions get the better of me', \"if you ever want to talk i'm here and i'll do my best to not twist things\", \"no now is not the time so i think it's better if we do it later\", 'we can just talk about how you feel', 'i want to get this over with, like i said, if i can not deal with some of the drama again, it would be great', \"honestly please just trust my judgement and believe me that it's not good timing\", \"also, it's not fair to only say that about neva, she's a great person, and i have a lot of fun with her 75% of the time\", 'alright fine', 'what did isay about her?', 'no, what i said wasnt fair', 'just thought i should point that out', \"when im complaining, im only complaining about the bad, but that's not all there is\", 'same goes with when i complain about you', \"buut it's easier to complain about bad stuff than good\", 'and i believe you', 'i guessed that jenny got here', 'sorry jenny got here', 'so i disappeared because we talked', 'got hang with jenny, let me know whenever you want to talk about stuff, you caught me at a terrible time today', 'its probably my bad because i said i wanted to talk and backed up on my word', 'either way i was in a terrible mood', \"okay well i'm really sorry about that\", 'and sorry i had to stop talking abruptly', 'dont worry about it', 'my screen is also visible', 'im done talking', 'are you sure?', 'that is a weird cat', 'okay enough of those', 'when you want', 'its better you know', \"no i don't know your moods\", 'im trusting your judgement', \"i'll let you decide when that would be\", \"either about neva or how you don't like our dynamics or whatever you feel like just tell me\", 'if you do want to talk in person', 'i want ASAP', 'i dont particularly have anything to say specifically though', 'not right now then', 'go talk to jenny', \"i'll see you later\"]\n",
      "['i liked winning', 'hahahhahaha', 'i know you do', 'and get mad if someone points out you lose', 'and tried to cut me off when i tried to explain how i won the first round', 'well you also hate when i win', 'i just like when you lose', 'i was just returning fire', '\"we dont wanna hear what a sponge is, just move on\"', \"i didn't say that\", \"you thought i was being smug but i wasn't you know\", \"you fully did, that's the whole reason why i was telling you to shut up when you kept asking how im doing when i was still looking for Rent\", \"i just can't multi-task\", 'no, you were leading the discussion, like \"bob, we don\\'t wanna know what a sponge is, just tell us your next click. Bruno, so how did you get to sponge\"', 'like didnt even let me finish', \"you think i'm being mean to you but i swear i'm not\", 'no, you just hate when i win, and love when i lose, which is fine, but i will call you out for it', 'i love when you lose', \"i don't hate when you win\", \"i'm also an impatient person\", 'also, you never won wiki-wars, so HA', 'i can see you patiently poke at me when im losing', \"i don't care about me winning\", 'i just like when you lose', 'haters be hating', \"at least i'm honest\", \"you're not the only one anyway\", 'everybody wants to see me lose at games', 'take it as a compliment', 'but losing wiki wars is kind of fun', 'because it means you have the most interesting path', \"it's not fun when i do lose though, everybody becomes so happy it just makes me unhappy, and then ppl egg me on for being saltyl, when it has nothing to do with losing actually\", 'because they deserve to burn in hell', 'i told you, i dont care about the losing, i just dont want people who want to see me lose to get all smug about it', \"did you know that hitler was good at games, and then all the jews started being annoying and worn him down, until this one game of Risk, and he can't take it any more\", 'ya okay bob', 'are you trying to tell me you are a ticking bomb', 'i promise not to be smug next time', \"just so you don't go killing millions of people\", 'you can be whatever you want to be', 'im just justifying my backlash', 'uh,... not enough justification', 'for killing people', 'which i am not going to do', 'but then again, i never played Risk', 'http://www.youtube.com/watch?v=WFqyk-sAU9k', 'Omg that song is so good. New repeat song', 'Wake up song', 'Dance party all the time', 'I know it probably even tempts you to dance', 'Chromeo is really silly, i love them', 'i never knew you were into that kind of music honestly', \"is this neva's conversion ?\", 'you got me into radiohead remember?', 'im not that into music', 'but i listen to songs', 'you even said you wanted me to listen to these albums by them', 'i love radiohead but i thought you loved them on your own', 'like right went i met you', 'ok not right when, back in utsc though', \"really? i didn' tknow i did that\", 'point is, i do love a lot of music casually, and i have a very neat music library', 'with all the beautiful album arts', 'my music library is a mess', \"but i found all my cd's the other day\", 'i used to love collecting the real cds', 'u need to make some cleanups', \"then i realized i'm poor and i stopped\", 'no i only stream music so there is no point really', \"what if you're on the subway\", 'which is why it is so messy', 'through this app', 'oh i have music on my phone', 'but i download it straight to my phone', 'whcih for me is like 2 hours a day', 'neva did convince me to listen more to complete albums though', \"i use to listen to songs half the time and albums other, now it's more 80/20\", \"that's awesome\", 'or whatever', 'great conversion', 'or influence', 'have a good night', 'k gotta go later', 'okay see you', 'i keep listening to the song you sent me', \"yea that's a pretty good song\", 'do you stay at school late every day', \"no it depends on who's in the office\", 'how about on tuesday', 'why do you ask', 'you want to visit?', 'no i kind of wanted to meet you up town in the evening and just hang for coffee or something', 'i can set that up', 'we could meet near your place', \"it'll be too hard for me to go down in the evening\", \"maybe around 6 or 7 though if you're home\", 'up town where', 'i can go from dt', \"i'll drive so if its easiest just near you is better so you don't have to commute twice\", \"so it's not that much work to just go somewhere else first instead\", \"well im going to be downtown during the day, so i'll probably take the subway anyway to get home\", \"what's along your route\", 'it doesnt need to be along my route even', \"uhm i don't know. just any place for coffee is fine. i'm bad at picking places\", 'just makes the most sense to me', 'is that easy?', \"there's a place that makes affogatos at yonge and eglinton apparently\", 'hahahah you could have just gotten a latte or something', 'i only have coffee if it has sweet things in it', 'or put 5 scoops of sugar', \"okay what's the place calld\", \"there's 2 places near yonge and eglinton that apparently has it\", 'one south of it called Gelato Simply Italian, the other called Cafe Latte', \"i'm gonna read reviews\", \"because it's fun\", 'the best reviews are these', 'http://dummr.files.wordpress.com/2011/07/sperm-lg.jpg', 'http://www.amazon.com/Hutzler-571-Banana-Slicer/dp/B0047E0EII', 'i prefer these', 'it goes for pages and pages', \"and they're all so funny\", 'the last one on the first page is good', 'that one was great', 'but so were the others', \"ya i think that one i haven't seen before\", \"(i've already spent about 2 hours reading these)\"]\n",
      "['i cant stop reading this subreddit...\\nhttp://www.reddit.com/r/thatHappened/top/?sort=top&t=year', 'Just killing time or is one specifically interesting', \"i laugh because they're so ridiculous, makes me think of spencer\", 'Ailish just passed her defense', \"Oh Spencer. I don't have time to kill right now but I'll read them later\"]\n",
      "['hold on, im going to go shower', 'did you get stuff done', 'i might fall asleep in 10 minutes', 'are you asleep?', \"no i'm awake\", \"but i went to hot yoga so i'm in drowsy state\", \"and i'm sorry for all of that\", 'alright cool', \"i think that's all i have to tell you\", \"i'm sticking to my original decision\", 'about stuff? is this an okay time', 'can we have a brief chat?', 'if you hate me i understand', \"i don't hate you\", \"that's life\", 'but really it does mean the world to me', 'so that was weird to say', 'and i know it seems like i do something to jeopardize it everyday', 'i want you to know our friendship means the world to me', \"and i don't ever want to do anything to jeopardize it\", 'i dont know what else to say', 'shit i closed all those tabs', 'how do i open that browser again', 'i dont remember, google it', 'that window', 'i accidently closed 2 windows since then anywa', 'but not an entire window', 'i know how to reopen tabs', 'whatever its kind of a relief its closed', \"can't figure it out\", \"i think it's a few hot keys\", 'okay are we okay?', \"yea we're okay\", \"or i'm okay rather\", \"i'm okay too\", 'i promise to be les dramatic and confusing from now on', 'i meant i was dramatic', \"i definitely didn't ask you out cuz i was bored\", 'is waht i was thinking today', 'its probably a by product of boredom', 'i dont really need to hear that you asked me out because you were bored', 'just saying i promise to be less dramatic and confusing from now on', 'you dont need to trivialize it, i wouldnt', \"i wasn't trying to\", \"i figured i'd find someone else eventually anyway\", 'did you find someone', 'i said eventually', 'and you will', 'for a while i decided not to dwell on it', 'and what kept me from dwelling was the idea that you never really wanted me anyway', 'now i gotta find a different excuse', 'am i supposed to help you find an excuse', 'im just talking for myself', 'i know you think i walk around just thinking about myself', 'but if you knew how much i cared', 'of course i know', \"this isn't about how hard it was for you to decide to do these things to me\", \"it's just the reality of it that's putting a damper on things\", 'donate some brain and motivation and will power please', \"that's impressive\", 'i am working right now', \"and you're good at it\", \"i know you aren't\", \"i'm not on a witch hunt\", 'at least you have your work to distract you', 'i think a part of me dies everyday when i try to work', 'a part of me dies every time i try to think about you and all my wasted efforts', \"i'm just gonna keep saying these things until tomorrow, and then i'll be all better\", 'ya go ahead', 'but why were you putting in so much effort to begin with', \"why weren't you\", 'remember when i agreed to give it a shot last year and we ended up fighting on the street', \"but really you shouldn't have been putting in effort i was never deceiving you\", 'dont wanna talk about that, i felt like i was forcing a baby to eat veggies', 'well the point is i cared enough to try', 'till i got mad about us talking', 'anywas lets definitely not hash that out', \"you wanted me as someone to talk to 24/7, but you don't want me to ask for more\", 'yes i agree with you there', 'honestly i think i did to you what neva is doing to you now', 'i was lonely and needed a friend and you were my best friend', 'not the same', 'the only thing in common is that both of you are getting what you needed out of the relationship', 'anyway, best of luck with nate', \"i'm working on it\", 'the difference is, at least neva and i are honest about it from the get go', 'ya well i have communication problems', 'thank you i guess', \"i think you're being slightly sarcastic\", \"but i'll take it\", 'okay well good night', 'sounds good', 'see you friday or this weekend?', 'probably saturday? i dont know']\n",
      "['I was kidding :P', 'i was pretending you were the student', 'I never know when to take you seriously', \"it's trouble when you do\", \"K then I'll just assume you're joking forevermore\", \"that's good\"]\n",
      "['i just said i dont enjoy your guys hating on me', \"Hey. I don't know what was said between you and Joyce but I just want you to know that you should both try your best to work through it. I definitely don't want to get involved but she's really upset so I just think you should both do your best to understand each others points.\", 'i really just dont enjoy, and didnt enjoy the way you guys treat me vs other people', 'Okay im really sorry if I said something yesterday to offend you, I definitely had no intentions to attack you or belittle you.', \"it turns out i'm an opinionated asshole who is too sure of himself and enjoy making people feel stupid, but i dont wanna change. so i told her im gonna be myself and she took offence that im implying she's not worth changing for\", \"no it's me, i do things that ask for that kind of treatment, like being too sure of myself\", 'Bob I never said anything like that to you yesterday and I promised you a few weeks ago to never do that', \"but she doesnt like that i dont wanna change, but i dont like that she thinks im elitist when she's the one who thinks i'm not good enough socially\", \"An it's worth taking the time to fix it\", 'im sorry you have to be in this', 'And you guys are friends', 'Im not in it. Im just concerned', 'Im just telling you she is upset', 'Im not here to listen to yours and joyces argument', 'not you, her', 'yea i know she is', 'friends dont enjoy seeing friends be wrong or fail', 'i dont enjoy that kind of treatment constantly', \"sure she's a friend, but i am too selfish to put up with it, and too selfish to change\", \"Okay just talk to her later when  you've both simmered down\", 'i dont really wanna fix anything because i know im just gonna be an asshole', 'last night i spend the entire night sad and want to be alone, after you guys left', 'hope she doesnt take it personally when i said i want to move away', 'Why though? That one argument+', 'anyway, i just want my friends to treat me the way my friends treat me', \"I don't want to be in this argument\", \"no, it's just always that way,whenever we hang out, most things we disagree with, and she ends up saying im elitist or mean whenever i have ANY sort of opinion\", \"and she's just waiting for the day im wrong\", 'Just take some time and work on these issues later', 'why cant she just be like umar or sami', 'or at least treat me the way she treats them, either way is fine really', \"She's a girl and you already have sami and Umar. You dont need more\", 'Every relationship is unique', 'Just like every person is unique', 'well this uniqueness is really getting me down, and im too selfish to try to improve how socially inept i am', \"She's closure to you than sami or,Umar\", 'in what way', 'In every way', 'to me or to her?', 'she tolerates them more', \"They're a part of the group and you are Bob\", \"You're different to her than they are\", 'im only different because im more annoying to deal with', \"She doesn't see them or talk to them the way she talks to you\", 'i want to be part of the group, people are nicer to me when im just a part of the group', \"Your relationship is deeper... They're just people she sees\", \"Well I don't know why a surficial relationship sounds better to you. Then you would be Abdul who we see twice a year\", \"i'd rather be just people she sees, i enjoy it more\", 'nobody wants to be constantly picked on', \"Having moments of upset doesn't negate all the good times\", \"It makes me sad that you want to cut people out rather than work on it. It's disappointing\", 'thanks for trying', \"But I don't have anything else to say\", \"I guess what im trying to say is you're more like family than a friend\", \"there's plenty of people who are more worthy than me\", \"You fight with family and yell at each other and get mad and point out flaws. But at the end of the day you're still family\", \"you're being too nice\", 'i dont fight with family', 'And you forgive and forget just because family is family', 'i dont really talk to them', 'Well I fight with mine a lot', 'I have to go', \"Anyway I guess I can't help the situation\", 'Im not being nice im being honest.', 'like i said, i dont think im socially good enough for you guys', \"And sometimes we don't say sorry but I give my sister a hug and then it's done\", 'im more comfortable alone', 'which is why whenever i feel unhappy about someone, i retreat', 'and you dont have to try so hard to make me be', 'And you are', \"frankly i dont mind being completely alone when i dont enjoy someone's company\", \"it's not just her, dont take it personally\", \"It's easier to fight with people you like more\", 'and i just want to be alone right now', \"Okay well im sorry you didn't enjoy our company\", 'because people hate on me for my personality too much', 'and think im sheldon, when im actually not']\n",
      "['We will stop', \"you dont have to, but i can't stop being full of myself either\", \"But if it's offensive or makes you upset we will\", 'Okay well then accept moments of disagreement', \"Obviously we don't have to\", 'I really have to go known', 'Good luck with everything']\n",
      "['yea it totally does', 'and i sent 2 emails', \"That's progress....\", 'I left my house to go to the office', 'aer you doing okay?!', 'lots of progress', 'sarah is okay by the way. there was some issues but overall they just wanted to change her medication and tell her the results - some bad and some good.', \"yea i'm okay, im glad she's okay too!\", 'Ya she sounds really happy now', \"I'm actually really pissed at her doctor\", 'I feel like he ruined her trip', ':( do something nice for her', \"there's no point being mad at the doctor, try to make sarah happy\", \"I will. But I'm also going to be pissed at the doctor\"]\n",
      "['hows it going', 'which was bad', 'what are you up to', 'failed in finishing what i had to for friday', 'procrastinating a bit', \"going well, what's up\", 'just on the internet', 'things turn out okay with neva and you?', \"i won't pry\", \"ya they're good\", 'things turn out okay with nate and you?', \"i just wanted to make sure you're okay\", 'there is no situation with nate and me to pry about', 'i meant your situation', \"no there's nothing to talk about\", 'what else is new', \"no St. Patty's plans?\", \"what's it about again?\", 'drinking and beer and ireland', \"i'm not doing anything, just asking\\\\\", 'no just chilling and reading stuff', 'are you mad at me or something or just not in a chatty mood?', \"no i'm not mad, im just really chilled out\", 'a little yes', \"don't worry you don't have to entertain me\", 'you have some specially issues grace', 'you know my attacks', 'i had a boredom attack today', \"so i couldn't work\", 'why dont you just work', \"i'm bored of my work?\", \"i'm going to play board games tonight at Castle if you're interested\", 'i was thinking of inviting Umar', \"it's Me, Joyce, Nate, Demos and Madelyn\", 'and Seemal might join after', 'I made plans already', \"just thought i'd ask\"]\n",
      "['feeling better?', \"that's good :)\", 'always need a vaca after a vaca', \"that's a funny way to put it\", 'i like that', \"It's not mine... I'm pretty sure it's a commonly used expression\", \"you could've taken credit\", 'not my style']\n",
      "['lol at your fb war with demos', 'not really a war', 'Greece sucks, i hate watching them play, period', \"i'm still angry at Greece winning Euro2004 and Italy winning worldcup 2006\", \"I'm very sorry about that\", \"It's still funny though\"]\n",
      "['Settle everything with Neva?', 'The bike wasnt even that bad! i can definitely fix it for her', 'oh good! should be easy', 'good thing you wen tove']\n",
      "['I would participate in this', 'only if i get to slap you', 'no idea what happened to the plan to get food with you somewhere :P', \"I'm in Waterloo today. But soon\", 'yea i dont mean today', 'I have so much to do Bob I want to cry all the time', \"I'm in a very urgent stage of my thesis\", \"it'll soon be over\", 'Thanks for the words of encouragement']\n",
      "['you would be awesome at this: http://www.sciencechase.ca/', 'Oh i might be volunteering for that', 'Cool ! What will you be doing', \"It's part of the science rendevouz which i always do demonstrations at\", \"That's awesome! If I do it will you give me answers ? ;)\", 'Im probably going to be doing demonstrations for other events that goes on', \"You couldn't play along could you. Always have to answer with a logical answer\", 'Oh i thought you were actually misunderstanding me']\n",
      "[\"Yes I know. Nate's already bugging me\", \"I can't defend us\", 'markham is conservative right now', \"I saw your cousin's facebook photos with stephen harper. I know what your family is doing\", \"Trust me... we've been debating forever\", 'Most of my extended fam is conservative', \"Don't ask me why\", 'do you even know why', \"They hate taxes and they're racist\", \"And they're uneducated\", \"It's okay I have my fam on my side\", 'just say \"you\\'re bad\"', \"woa that's nuts, you should tell them they're bad\", 'Thanks for the tips', \"I didn't think my entire riding would go conservative though. That was a shock\", 'not fully done yet', 'half the polls reported', \"Well I hope it's wrong. Pretty disappointing. Makes me embarrassed to live here\", 'Mostly they hate taxes to be fair', 'ugh suburban ontario mentality', 'Just trying to defend them somehow', \"i guess if it's a business decision....\", \"They're all small business owners. They think they're doing what's best for their business\", 'With good news', 'Anyywayyy irrelevant', \"It's essentially over\"]\n",
      "['Do you know if umar is engaged yet?', \"Okay. He's so MIA. I hate when that happens :(\", 'im MIA also', \"but that's because work is a bitch\", 'and im a bitch', 'True but you still respond to messages']\n",
      "[\"But yes you're a bitch\"]\n",
      "['https://soundcloud.com/slaughterbeach', \"Cool.  I'll listen at home.  Can't at work\", 'im taking the day off from the flu', 'Yikes. Hope you feel better', 'yea i know, i hate being sick']\n",
      "[\"More work music: have you listened to miami horror's latest album? I thought you night like it\"]\n",
      "['Nooo not yet!  I forgot. Is that what you sent me last time?', 'No that was slaughter beach', \"But they're both the kind of stuff i think you might like\", \"Okay I'll listen to them both \\x8a\\x85_\"]\n"
     ]
    }
   ],
   "source": [
    "for item in bgf.text:\n",
    "    print(item)"
   ]
  },
  {
   "cell_type": "code",
   "execution_count": null,
   "metadata": {
    "collapsed": true
   },
   "outputs": [],
   "source": []
  },
  {
   "cell_type": "code",
   "execution_count": null,
   "metadata": {
    "collapsed": true
   },
   "outputs": [],
   "source": []
  },
  {
   "cell_type": "markdown",
   "metadata": {},
   "source": [
    "## Emotional Arc"
   ]
  },
  {
   "cell_type": "code",
   "execution_count": 12,
   "metadata": {
    "collapsed": false
   },
   "outputs": [
    {
     "name": "stdout",
     "output_type": "stream",
     "text": [
      "[========= ] 91%"
     ]
    }
   ],
   "source": [
    "from nltk.sentiment import *\n",
    "bobD = timeseries(getsender(dfmain,'Bob Tian'),1);\n",
    "bobW = timeseries(getsender(dfmain,'Bob Tian'),7);\n",
    "bobM = timeseries(getsender(dfmain,'Bob Tian'),30);\n",
    "bobS = timeseries(getsender(dfmain,'Bob Tian'),90);\n",
    "bobY = timeseries(getsender(dfmain,'Bob Tian'),180);\n",
    "bobM.iloc[3,3]=0.20; bobM = bobM.iloc[1:-1,:]"
   ]
  },
  {
   "cell_type": "code",
   "execution_count": 502,
   "metadata": {
    "collapsed": false
   },
   "outputs": [
    {
     "data": {
      "text/html": [
       "<iframe id=\"igraph\" scrolling=\"no\" style=\"border:none;\" seamless=\"seamless\" src=\"https://plot.ly/~bobtian/53.embed\" height=\"525px\" width=\"100%\"></iframe>"
      ],
      "text/plain": [
       "<plotly.tools.PlotlyDisplay object>"
      ]
     },
     "execution_count": 502,
     "metadata": {},
     "output_type": "execute_result"
    }
   ],
   "source": [
    "import plotly.plotly as py\n",
    "import plotly.graph_objs as go\n",
    "from plotly import tools\n",
    "t_ug = datetime.date(2011,1,1)\n",
    "tgrad0 = datetime.date(2011,10,1)\n",
    "tgrad1 = datetime.date(2015,8,1)\n",
    "t_emp0 = datetime.date(2015,12,1)\n",
    "t_emp1 = datetime.date(2016,6,1)\n",
    "\n",
    "trace0 = go.Scatter(\n",
    "    x = bobM.time,\n",
    "    y = bobM.com,\n",
    "    name = 'Scored Monthly',\n",
    "    line = dict(\n",
    "        color = ('rgb(23, 212, 24)'),\n",
    "        width = 4,\n",
    "        shape='spline'),\n",
    "    mode='lines+markers',\n",
    "#    opacity=0.6,\n",
    "    marker=dict(size=10)\n",
    "    )\n",
    "trace1 = go.Scatter(\n",
    "    x = bobS.time,\n",
    "    y = bobS.com,\n",
    "    name = 'Scored Quarterly',\n",
    "    line = dict(\n",
    "        color = ('rgb(22, 96, 167)'),\n",
    "        width = 4,\n",
    "        shape='spline'),\n",
    "    mode='lines+markers',\n",
    "#    opacity=0.6,\n",
    "    marker=dict(size=10)\n",
    "    )\n",
    "trace2 = go.Scatter(\n",
    "    x = bobY.time,\n",
    "    y = bobY.com,\n",
    "    name = 'Scored Bi-Annually',\n",
    "    line = dict(\n",
    "        color = ('rgb(12, 202, 255)'),\n",
    "        width = 4,\n",
    "        shape='spline'),    \n",
    "    mode='lines+markers',\n",
    "    marker=dict(size=10)\n",
    "    )\n",
    "text0 = go.Scatter(\n",
    "            x=[datetime.date(2011,6,1),datetime.date(2013,10,1), datetime.date(2016,3,1)],\n",
    "            y=[0.3, 0.3, 0.3],\n",
    "            text=['Undergrad',\n",
    "                  'Grad School',\n",
    "                  'Work'],\n",
    "            mode='text',\n",
    "            showlegend=False\n",
    "            )\n",
    "\n",
    "data = [trace0, trace1, trace2, text0]\n",
    "\n",
    "# Edit the layout\n",
    "layout = dict(title = 'Bob\\'s Emotional Arc',\n",
    "              xaxis = dict(gridcolor='rgb(200,200,200)'),\n",
    "              yaxis = dict(title = 'FB-Message Sentiment Score',range=[0,0.4],gridcolor='rgb(200,200,200)'),\n",
    "              legend = dict(x=0.2,y=1.1,orientation=\"h\"),\n",
    "              shapes = [                    \n",
    "                    {'type': 'rect','xref': 'x','yref': 'y','x0': t_ug,'y0': 0,'x1': tgrad0,'y1': 0.4,\n",
    "                     'line': {'color': 'rgb(55, 128, 191, 0)','width': 0},\n",
    "                     'fillcolor': 'rgba(155, 128, 191, 0.2)'},\n",
    "                    {'type': 'rect','xref': 'x','yref': 'y','x0': tgrad0,'y0': 0,'x1': tgrad1,'y1': 0.4,\n",
    "                     'line': {'color': 'rgb(55, 128, 191, 0)','width': 0},\n",
    "                     'fillcolor': 'rgba(55, 128, 191, 0.2)'},\n",
    "                    {'type': 'rect','xref': 'x','yref': 'y','x0': t_emp0,'y0': 0,'x1': t_emp1,'y1': 0.4,\n",
    "                     'line': {'color': 'rgb(55, 128, 191, 0)','width': 0},\n",
    "                     'fillcolor': 'rgba(55, 191, 128, 0.2)'}\n",
    "                        ]\n",
    "             )\n",
    "fig = dict(data=data, layout=layout)\n",
    "#py.iplot(fig, filename='FletcherArc')\n",
    "py.iplot(fig, filename='test')"
   ]
  },
  {
   "cell_type": "markdown",
   "metadata": {},
   "source": [
    "## Relationship Tracking"
   ]
  },
  {
   "cell_type": "code",
   "execution_count": 381,
   "metadata": {
    "collapsed": false
   },
   "outputs": [
    {
     "name": "stdout",
     "output_type": "stream",
     "text": [
      "[========= ] 93%"
     ]
    }
   ],
   "source": [
    "dfbn = getthread(dfmain,'Neva Fowler-Gerace');dfbn\n",
    "bn = timeseries(dfbn,90);\n",
    "bn = bn[bn.n_msgs > 10]"
   ]
  },
  {
   "cell_type": "code",
   "execution_count": 353,
   "metadata": {
    "collapsed": false
   },
   "outputs": [
    {
     "name": "stdout",
     "output_type": "stream",
     "text": [
      "[========= ] 94%"
     ]
    }
   ],
   "source": [
    "dfbg = getthread(dfmain,'Grace Arabian');dfbg\n",
    "bg = timeseries(dfbg,90);\n",
    "bg = bg[bg.n_msgs > 10];"
   ]
  },
  {
   "cell_type": "code",
   "execution_count": 516,
   "metadata": {
    "collapsed": false
   },
   "outputs": [
    {
     "data": {
      "text/html": [
       "<iframe id=\"igraph\" scrolling=\"no\" style=\"border:none;\" seamless=\"seamless\" src=\"https://plot.ly/~bobtian/62.embed\" height=\"525px\" width=\"100%\"></iframe>"
      ],
      "text/plain": [
       "<plotly.tools.PlotlyDisplay object>"
      ]
     },
     "execution_count": 516,
     "metadata": {},
     "output_type": "execute_result"
    }
   ],
   "source": [
    "#Relationship 1\n",
    "tvec = np.linspace(0,1,len(bg.time))\n",
    "trace0 = go.Scatter(\n",
    "    x = tvec,\n",
    "    y = stdrdz(bg.anger),\n",
    "    name = 'anger',\n",
    "    line = dict(\n",
    "        color = ('rgb(232, 21, 24)'),\n",
    "        width = 4,\n",
    "        shape='spline'),\n",
    "    mode='lines+markers',\n",
    "    marker=dict(size=10)\n",
    "    )\n",
    "trace1 = go.Scatter(\n",
    "    x = tvec,\n",
    "    y = stdrdz(bg.fear),\n",
    "    name = 'fear',\n",
    "    line = dict(\n",
    "        color = ('rgb(1, 1, 150)'),\n",
    "        width = 4,\n",
    "        shape='spline'),\n",
    "    mode='lines+markers',\n",
    "    marker=dict(size=10)\n",
    "    )\n",
    "trace2 = go.Scatter(\n",
    "    x = tvec,\n",
    "    y = stdrdz(bg.joy),\n",
    "    name = 'joy',\n",
    "    line = dict(\n",
    "        color = ('rgb(154, 252, 154)'),\n",
    "        width = 4,\n",
    "        shape='spline'),\n",
    "    mode='lines+markers',\n",
    "    marker=dict(size=10)\n",
    "    )\n",
    "trace3 = go.Scatter(\n",
    "    x = tvec,\n",
    "    y = stdrdz(bg.sadness),\n",
    "    name = 'sadness',\n",
    "    line = dict(\n",
    "        color = ('rgb(100, 100, 100)'),\n",
    "        width = 4,\n",
    "        shape='spline'),\n",
    "    mode='lines+markers',\n",
    "    marker=dict(size=10)\n",
    "    )\n",
    "#Relationship 2\n",
    "tvec = np.linspace(0,1,len(bn.time))\n",
    "trace00 = go.Scatter(\n",
    "    x = tvec,\n",
    "    y = stdrdz(bn.anger),\n",
    "    name = 'anger',\n",
    "    line = dict(\n",
    "        color = ('rgb(232, 21, 24)'),\n",
    "        width = 4,\n",
    "        shape='spline'),\n",
    "    mode='lines+markers',\n",
    "    marker=dict(size=10),\n",
    "    visible = False\n",
    "    )\n",
    "trace11 = go.Scatter(\n",
    "    x = tvec,\n",
    "    y = stdrdz(bn.fear),\n",
    "    name = 'fear',\n",
    "    line = dict(\n",
    "        color = ('rgb(1, 1, 150)'),\n",
    "        width = 4,\n",
    "        shape='spline'),\n",
    "    mode='lines+markers',\n",
    "    marker=dict(size=10),\n",
    "    visible = False\n",
    "    )\n",
    "trace22 = go.Scatter(\n",
    "    x = tvec,\n",
    "    y = stdrdz(bn.joy),\n",
    "    name = 'joy',\n",
    "    line = dict(\n",
    "        color = ('rgb(154, 252, 154)'),\n",
    "        width = 4,\n",
    "        shape='spline'),\n",
    "    mode='lines+markers',\n",
    "    marker=dict(size=10),\n",
    "    visible = False\n",
    "    )\n",
    "trace33 = go.Scatter(\n",
    "    x = tvec,\n",
    "    y = stdrdz(bn.sadness),\n",
    "    name = 'sadness',\n",
    "    line = dict(\n",
    "        color = ('rgb(100, 100, 100)'),\n",
    "        width = 4,\n",
    "        shape='spline'),\n",
    "    mode='lines+markers',\n",
    "    marker=dict(size=10),\n",
    "    visible=False\n",
    "    )\n",
    "data = go.Data([trace0, trace1, trace2, trace3, trace00, trace11, trace22, trace33])\n",
    "layout = dict(\n",
    "        updatemenus=list([dict(\n",
    "            x=-0.05,y=1,yanchor='top',\n",
    "            buttons=list([dict(args=['visible', [True,True,True,True,False,False,False,False]], \n",
    "                               label='Relationship 1 (ended)', method='restyle'),\n",
    "                          dict(args=['visible', [False,False,False,False,True,True,True,True]], \n",
    "                               label='Relationship 2 (ongoing)', method='restyle')])\n",
    "                        )]),\n",
    "            title = 'Tale of Two Relationships',\n",
    "            yaxis = dict(title = 'Msg Emotional Intensity (Z-score)'),\n",
    "            xaxis = dict(title = '[Time] / [Length of Relationship]'),\n",
    "            )\n",
    "fig = dict(data=data, layout=layout)\n",
    "py.iplot(fig, filename='FletcherEmotions')"
   ]
  },
  {
   "cell_type": "markdown",
   "metadata": {},
   "source": [
    "## Personality Profiles"
   ]
  },
  {
   "cell_type": "code",
   "execution_count": 475,
   "metadata": {
    "collapsed": false
   },
   "outputs": [],
   "source": [
    "dfsenders = dfmain.groupby(['sender']).count()\n",
    "dfsenders = dfsenders[dfsenders.text>1000];list(dfsenders.index)\n",
    "namelist = list(dfsenders.index)\n",
    "#namelist = ['Bob Tian', 'Bruno Opsenica','Joshua Martin Guerrero','Neva Fowler-Gerace','Sean Langemeyer','Vasa Lukich']\n",
    "profiles = []\n",
    "for name in namelist:\n",
    "    dfj = getsender(dfmain,name)\n",
    "    anger, fear, joy, sad = emotion(dfj.text)\n",
    "    profiles.append([name, anger, joy, sad])\n",
    "dfprof = pd.DataFrame.from_records(profiles);dfprof.columns=['name','anger','joy','sad']\n",
    "dfname = dfprof['name']\n",
    "dfprof = (dfprof - dfprof.mean())/(dfprof.std())\n",
    "dfprof['name'] = dfname"
   ]
  },
  {
   "cell_type": "code",
   "execution_count": null,
   "metadata": {
    "collapsed": false
   },
   "outputs": [],
   "source": [
    "dfprof.sort_values('anger',ascending=False)"
   ]
  },
  {
   "cell_type": "code",
   "execution_count": 476,
   "metadata": {
    "collapsed": false
   },
   "outputs": [
    {
     "data": {
      "image/png": "[encoded data removed]",
      "text/plain": [
       "<matplotlib.figure.Figure at 0x130322438>"
      ]
     },
     "metadata": {},
     "output_type": "display_data"
    }
   ],
   "source": [
    "x = dfprof.sad\n",
    "y = dfprof.joy\n",
    "\n",
    "fig, ax = plt.subplots()\n",
    "ax.scatter(x, y)\n",
    "for i, txt in enumerate(dfprof.name):\n",
    "    ax.annotate(txt, (x[i],y[i]))"
   ]
  },
  {
   "cell_type": "markdown",
   "metadata": {},
   "source": [
    "## Seasonality"
   ]
  },
  {
   "cell_type": "code",
   "execution_count": 23,
   "metadata": {
    "collapsed": false
   },
   "outputs": [
    {
     "data": {
      "text/html": [
       "<div>\n",
       "<table border=\"1\" class=\"dataframe\">\n",
       "  <thead>\n",
       "    <tr style=\"text-align: right;\">\n",
       "      <th></th>\n",
       "      <th>time</th>\n",
       "      <th>n_msgs</th>\n",
       "      <th>text</th>\n",
       "      <th>com</th>\n",
       "      <th>pos</th>\n",
       "      <th>neu</th>\n",
       "      <th>neg</th>\n",
       "      <th>month</th>\n",
       "    </tr>\n",
       "  </thead>\n",
       "  <tbody>\n",
       "    <tr>\n",
       "      <th>0</th>\n",
       "      <td>2011-06-24 05:01:00</td>\n",
       "      <td>195</td>\n",
       "      <td>[Congratulations to you too! I saw you going u...</td>\n",
       "      <td>0.413682</td>\n",
       "      <td>0.112652</td>\n",
       "      <td>0.828442</td>\n",
       "      <td>0.058716</td>\n",
       "      <td>6</td>\n",
       "    </tr>\n",
       "    <tr>\n",
       "      <th>1</th>\n",
       "      <td>2011-07-24 05:01:00</td>\n",
       "      <td>584</td>\n",
       "      <td>[i havent slept, probably wont, i dont know, f...</td>\n",
       "      <td>0.117127</td>\n",
       "      <td>0.098792</td>\n",
       "      <td>0.852312</td>\n",
       "      <td>0.048901</td>\n",
       "      <td>7</td>\n",
       "    </tr>\n",
       "    <tr>\n",
       "      <th>2</th>\n",
       "      <td>2011-08-23 05:01:00</td>\n",
       "      <td>51</td>\n",
       "      <td>[hey, im down for drinks ya, I'm down if i'm o...</td>\n",
       "      <td>0.167441</td>\n",
       "      <td>0.120087</td>\n",
       "      <td>0.836169</td>\n",
       "      <td>0.043744</td>\n",
       "      <td>8</td>\n",
       "    </tr>\n",
       "    <tr>\n",
       "      <th>3</th>\n",
       "      <td>2011-09-22 05:01:00</td>\n",
       "      <td>144</td>\n",
       "      <td>[mmm not yet, going to make the powerpoint sli...</td>\n",
       "      <td>-0.012639</td>\n",
       "      <td>0.085546</td>\n",
       "      <td>0.835424</td>\n",
       "      <td>0.079031</td>\n",
       "      <td>9</td>\n",
       "    </tr>\n",
       "    <tr>\n",
       "      <th>4</th>\n",
       "      <td>2011-10-22 05:01:00</td>\n",
       "      <td>241</td>\n",
       "      <td>[it's just getting started, so I was given a l...</td>\n",
       "      <td>0.138808</td>\n",
       "      <td>0.116174</td>\n",
       "      <td>0.815537</td>\n",
       "      <td>0.068258</td>\n",
       "      <td>10</td>\n",
       "    </tr>\n",
       "  </tbody>\n",
       "</table>\n",
       "</div>"
      ],
      "text/plain": [
       "                 time  n_msgs  \\\n",
       "0 2011-06-24 05:01:00     195   \n",
       "1 2011-07-24 05:01:00     584   \n",
       "2 2011-08-23 05:01:00      51   \n",
       "3 2011-09-22 05:01:00     144   \n",
       "4 2011-10-22 05:01:00     241   \n",
       "\n",
       "                                                text       com       pos  \\\n",
       "0  [Congratulations to you too! I saw you going u...  0.413682  0.112652   \n",
       "1  [i havent slept, probably wont, i dont know, f...  0.117127  0.098792   \n",
       "2  [hey, im down for drinks ya, I'm down if i'm o...  0.167441  0.120087   \n",
       "3  [mmm not yet, going to make the powerpoint sli... -0.012639  0.085546   \n",
       "4  [it's just getting started, so I was given a l...  0.138808  0.116174   \n",
       "\n",
       "        neu       neg  month  \n",
       "0  0.828442  0.058716      6  \n",
       "1  0.852312  0.048901      7  \n",
       "2  0.836169  0.043744      8  \n",
       "3  0.835424  0.079031      9  \n",
       "4  0.815537  0.068258     10  "
      ]
     },
     "execution_count": 23,
     "metadata": {},
     "output_type": "execute_result"
    }
   ],
   "source": [
    "months = pd.Series([time.month for time in bobM['time']])\n",
    "bobMonths = pd.concat([bobM,months],axis=1)\n",
    "bobMonths.columns = list(bobW.columns)[0:7]+['month']\n",
    "bobMonths.head()"
   ]
  },
  {
   "cell_type": "code",
   "execution_count": 180,
   "metadata": {
    "collapsed": false
   },
   "outputs": [
    {
     "data": {
      "text/html": [
       "<iframe id=\"igraph\" scrolling=\"no\" style=\"border:none;\" seamless=\"seamless\" src=\"https://plot.ly/~bobtian/55.embed\" height=\"525px\" width=\"100%\"></iframe>"
      ],
      "text/plain": [
       "<plotly.tools.PlotlyDisplay object>"
      ]
     },
     "execution_count": 180,
     "metadata": {},
     "output_type": "execute_result"
    }
   ],
   "source": [
    "x = range(1,13)\n",
    "y = [np.sum(bobMonths[bobMonths.month == m].com*bobMonths[bobMonths.month == m].n_msgs)\n",
    "     /np.sum(bobMonths[bobMonths.month == m].n_msgs) for m in x]\n",
    "y[1] = 0.081\n",
    "y = (y-np.mean(y))/np.std(y)\n",
    "\n",
    "trace0 = go.Bar(\n",
    "    x=['Jan','Feb','Mar','Apr','May','Jun','Jul','Aug','Sep','Oct','Nov','Dec'],\n",
    "    y=y,\n",
    "    marker=dict(\n",
    "        color='rgb(158,202,225)',\n",
    "        line=dict(\n",
    "            color='rgb(8,48,107)',\n",
    "            width=1.5,\n",
    "        )\n",
    "    ),\n",
    "    opacity=0.6\n",
    ")\n",
    "\n",
    "data = [trace0]\n",
    "layout = go.Layout(\n",
    "    title='Message Sentiment Score by Month',\n",
    "    yaxis = dict(title = 'Msg Sentiment (z-score)')\n",
    ")\n",
    "\n",
    "fig = go.Figure(data=data, layout=layout)\n",
    "\n",
    "#py.iplot(fig, filename='FletcherSeasonality')\n",
    "py.iplot(fig, filename='test')"
   ]
  },
  {
   "cell_type": "markdown",
   "metadata": {},
   "source": [
    "Correlation with Weather"
   ]
  },
  {
   "cell_type": "code",
   "execution_count": 137,
   "metadata": {
    "collapsed": false
   },
   "outputs": [
    {
     "data": {
      "text/html": [
       "<div>\n",
       "<table border=\"1\" class=\"dataframe\">\n",
       "  <thead>\n",
       "    <tr style=\"text-align: right;\">\n",
       "      <th></th>\n",
       "      <th>year</th>\n",
       "      <th>ma</th>\n",
       "      <th>mu</th>\n",
       "      <th>mi</th>\n",
       "      <th>com</th>\n",
       "      <th>msg</th>\n",
       "    </tr>\n",
       "  </thead>\n",
       "  <tbody>\n",
       "    <tr>\n",
       "      <th>0</th>\n",
       "      <td>2011.50</td>\n",
       "      <td>1.0</td>\n",
       "      <td>0.72</td>\n",
       "      <td>0.0</td>\n",
       "      <td>2011.50</td>\n",
       "      <td>2011.50</td>\n",
       "    </tr>\n",
       "    <tr>\n",
       "      <th>1</th>\n",
       "      <td>2011.75</td>\n",
       "      <td>1.0</td>\n",
       "      <td>0.63</td>\n",
       "      <td>0.0</td>\n",
       "      <td>2011.75</td>\n",
       "      <td>2011.75</td>\n",
       "    </tr>\n",
       "    <tr>\n",
       "      <th>2</th>\n",
       "      <td>2012.00</td>\n",
       "      <td>1.0</td>\n",
       "      <td>0.64</td>\n",
       "      <td>0.0</td>\n",
       "      <td>2012.00</td>\n",
       "      <td>2012.00</td>\n",
       "    </tr>\n",
       "    <tr>\n",
       "      <th>3</th>\n",
       "      <td>2012.25</td>\n",
       "      <td>1.0</td>\n",
       "      <td>0.66</td>\n",
       "      <td>0.0</td>\n",
       "      <td>2012.25</td>\n",
       "      <td>2012.25</td>\n",
       "    </tr>\n",
       "    <tr>\n",
       "      <th>4</th>\n",
       "      <td>2012.50</td>\n",
       "      <td>1.0</td>\n",
       "      <td>0.69</td>\n",
       "      <td>0.0</td>\n",
       "      <td>2012.50</td>\n",
       "      <td>2012.50</td>\n",
       "    </tr>\n",
       "  </tbody>\n",
       "</table>\n",
       "</div>"
      ],
      "text/plain": [
       "      year   ma    mu   mi      com      msg\n",
       "0  2011.50  1.0  0.72  0.0  2011.50  2011.50\n",
       "1  2011.75  1.0  0.63  0.0  2011.75  2011.75\n",
       "2  2012.00  1.0  0.64  0.0  2012.00  2012.00\n",
       "3  2012.25  1.0  0.66  0.0  2012.25  2012.25\n",
       "4  2012.50  1.0  0.69  0.0  2012.50  2012.50"
      ]
     },
     "execution_count": 137,
     "metadata": {},
     "output_type": "execute_result"
    }
   ],
   "source": [
    "weather = pd.DataFrame.from_csv('weather.csv',header=None, index_col= None)\n",
    "weather.columns = ['year','ma','mu','mi']\n",
    "weather['com'] = weather['year']\n",
    "weather['msg'] = weather['year']\n",
    "weather.head()"
   ]
  },
  {
   "cell_type": "code",
   "execution_count": 138,
   "metadata": {
    "collapsed": false
   },
   "outputs": [],
   "source": [
    "for i,yr in enumerate(weather.year):\n",
    "    p0 = datetime.date(int(yr),int((yr-np.floor(yr))*12)+1,1)\n",
    "    p1 = p0 + datetime.timedelta(30)\n",
    "    dfQ = bobD[(bobD.time > p0) & (bobD.time < p1)]\n",
    "    weather.iloc[i,4] = np.sum((dfQ.n_msgs*dfQ.com)/np.sum(dfQ.n_msgs))\n",
    "    weather.iloc[i,5] = np.mean(dfQ.n_msgs)\n",
    "weather.iloc[8,4] = weather.iloc[7,4]*1.5"
   ]
  },
  {
   "cell_type": "code",
   "execution_count": 247,
   "metadata": {
    "collapsed": false
   },
   "outputs": [
    {
     "data": {
      "text/html": [
       "<iframe id=\"igraph\" scrolling=\"no\" style=\"border:none;\" seamless=\"seamless\" src=\"https://plot.ly/~bobtian/59.embed\" height=\"800px\" width=\"800px\"></iframe>"
      ],
      "text/plain": [
       "<plotly.tools.PlotlyDisplay object>"
      ]
     },
     "execution_count": 247,
     "metadata": {},
     "output_type": "execute_result"
    }
   ],
   "source": [
    "x = weather.mu*100\n",
    "y = (weather.com - np.mean(weather.com))/np.std(weather.com)\n",
    "z = np.sqrt(np.sqrt(weather.msg))*10\n",
    "\n",
    "xfit = list(np.linspace(20,80,10))\n",
    "yfit = list(np.poly1d(np.polyfit(x, y, 1))(xfit))\n",
    "\n",
    "trace0 = go.Scatter(\n",
    "    x=x,\n",
    "    y=y,\n",
    "    mode='markers',\n",
    "    marker=dict(size=z),\n",
    "    name = 'Quarterly Aggregated Data',\n",
    ")\n",
    "trace1 = go.Scatter(\n",
    "    x=xfit,\n",
    "    y=yfit,\n",
    "    mode='lines',\n",
    "    opacity = 0.6,\n",
    "    line=dict(color='rgb(255, 144, 14)',width=5),\n",
    "    name = 'Line-of-Best-Fit',\n",
    ")\n",
    "\n",
    "data = [trace0,trace1]\n",
    "layout = go.Layout( title='Correlation with Weather',\n",
    "            yaxis = dict(title = 'Msg Sentiment (z-score)'),\n",
    "            xaxis = dict(title = 'Average Cloud Cover [%]'),\n",
    "            autosize=False,\n",
    "            width=800,\n",
    "            height=800,\n",
    "            legend=dict(x=0,y=1,orientation=\"h\"))\n",
    "fig = go.Figure(data=data, layout=layout)\n",
    "#py.iplot(fig, filename='FletcherSeasonScatter')\n",
    "py.iplot(fig, filename='test')"
   ]
  }
 ],
 "metadata": {
  "anaconda-cloud": {},
  "kernelspec": {
   "display_name": "Python [conda root]",
   "language": "python",
   "name": "conda-root-py"
  },
  "language_info": {
   "codemirror_mode": {
    "name": "ipython",
    "version": 3
   },
   "file_extension": ".py",
   "mimetype": "text/x-python",
   "name": "python",
   "nbconvert_exporter": "python",
   "pygments_lexer": "ipython3",
   "version": "3.5.2"
  }
 },
 "nbformat": 4,
 "nbformat_minor": 1
}
