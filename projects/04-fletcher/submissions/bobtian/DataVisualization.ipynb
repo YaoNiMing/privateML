{
 "cells": [
  {
   "cell_type": "markdown",
   "metadata": {},
   "source": [
    "Make sure you have plotly installed with \n",
    "conda install plotly"
   ]
  },
  {
   "cell_type": "code",
   "execution_count": 24,
   "metadata": {
    "collapsed": false
   },
   "outputs": [],
   "source": [
    "import pandas as pd\n",
    "import sqlalchemy as sq # database connection\n",
    "from IPython.display import display\n",
    "from IPython.display import HTML\n",
    "import plotly.plotly as py # interactive graphing\n",
    "from plotly.graph_objs import Bar, Scatter, Marker, Layout \n",
    "import numpy as np"
   ]
  },
  {
   "cell_type": "markdown",
   "metadata": {},
   "source": [
    "Connect to database:"
   ]
  },
  {
   "cell_type": "code",
   "execution_count": 2,
   "metadata": {
    "collapsed": false
   },
   "outputs": [],
   "source": [
    "engine = sq.create_engine('sqlite:///OKC_Processed_DB.db') #create connection to the database\n",
    "engine2 = sq.create_engine('sqlite:///OKCdatabase.db')"
   ]
  },
  {
   "cell_type": "markdown",
   "metadata": {},
   "source": [
    "Get tables:"
   ]
  },
  {
   "cell_type": "code",
   "execution_count": 3,
   "metadata": {
    "collapsed": true
   },
   "outputs": [],
   "source": [
    "df_rsp = pd.read_sql_table('question_responses',engine)"
   ]
  },
  {
   "cell_type": "code",
   "execution_count": 484,
   "metadata": {
    "collapsed": true
   },
   "outputs": [],
   "source": [
    "df_tst = pd.read_sql_table('test_responses',engine)"
   ]
  },
  {
   "cell_type": "code",
   "execution_count": 4,
   "metadata": {
    "collapsed": true
   },
   "outputs": [],
   "source": [
    "df_u = pd.read_sql_table('user_info',engine2)\n",
    "user_state = df_u.d_country\n",
    "gender = df_u.d_gender\n",
    "religion = df_u.d_religion_type\n",
    "job = df_u.d_job"
   ]
  },
  {
   "cell_type": "code",
   "execution_count": 103,
   "metadata": {
    "collapsed": false
   },
   "outputs": [],
   "source": [
    "df_num = pd.read_sql_table('numerical_attributes',engine)\n",
    "CA = pd.to_numeric(df_num.CA)"
   ]
  },
  {
   "cell_type": "code",
   "execution_count": 105,
   "metadata": {
    "collapsed": false
   },
   "outputs": [
    {
     "data": {
      "text/html": [
       "<div>\n",
       "<table border=\"1\" class=\"dataframe\">\n",
       "  <thead>\n",
       "    <tr style=\"text-align: right;\">\n",
       "      <th></th>\n",
       "      <th>d_income</th>\n",
       "      <th>d_age</th>\n",
       "      <th>lf_max_age</th>\n",
       "      <th>lf_min_age</th>\n",
       "      <th>p_sprit</th>\n",
       "      <th>p_sexdrive</th>\n",
       "      <th>p_pure</th>\n",
       "      <th>p_oldfash</th>\n",
       "      <th>p_adven</th>\n",
       "      <th>p_kinky</th>\n",
       "      <th>...</th>\n",
       "      <th>p_honest</th>\n",
       "      <th>p_submissive</th>\n",
       "      <th>p_laidback</th>\n",
       "      <th>p_cool</th>\n",
       "      <th>p_passion</th>\n",
       "      <th>p_greed</th>\n",
       "      <th>p_drug</th>\n",
       "      <th>p_capi</th>\n",
       "      <th>p_progress</th>\n",
       "      <th>CA</th>\n",
       "    </tr>\n",
       "  </thead>\n",
       "  <tbody>\n",
       "    <tr>\n",
       "      <th>0</th>\n",
       "      <td>None</td>\n",
       "      <td>25</td>\n",
       "      <td>36</td>\n",
       "      <td>25</td>\n",
       "      <td>None</td>\n",
       "      <td>None</td>\n",
       "      <td>None</td>\n",
       "      <td>16</td>\n",
       "      <td>None</td>\n",
       "      <td>-60</td>\n",
       "      <td>...</td>\n",
       "      <td>None</td>\n",
       "      <td>None</td>\n",
       "      <td>None</td>\n",
       "      <td>17</td>\n",
       "      <td>90</td>\n",
       "      <td>None</td>\n",
       "      <td>None</td>\n",
       "      <td>None</td>\n",
       "      <td>None</td>\n",
       "      <td>0.571282953049484</td>\n",
       "    </tr>\n",
       "    <tr>\n",
       "      <th>1</th>\n",
       "      <td>None</td>\n",
       "      <td>20</td>\n",
       "      <td>26</td>\n",
       "      <td>18</td>\n",
       "      <td>None</td>\n",
       "      <td>None</td>\n",
       "      <td>None</td>\n",
       "      <td>None</td>\n",
       "      <td>None</td>\n",
       "      <td>None</td>\n",
       "      <td>...</td>\n",
       "      <td>None</td>\n",
       "      <td>None</td>\n",
       "      <td>None</td>\n",
       "      <td>None</td>\n",
       "      <td>None</td>\n",
       "      <td>None</td>\n",
       "      <td>None</td>\n",
       "      <td>None</td>\n",
       "      <td>None</td>\n",
       "      <td>None</td>\n",
       "    </tr>\n",
       "    <tr>\n",
       "      <th>2</th>\n",
       "      <td>None</td>\n",
       "      <td>22</td>\n",
       "      <td>40</td>\n",
       "      <td>26</td>\n",
       "      <td>40</td>\n",
       "      <td>-35</td>\n",
       "      <td>None</td>\n",
       "      <td>73</td>\n",
       "      <td>None</td>\n",
       "      <td>-44</td>\n",
       "      <td>...</td>\n",
       "      <td>9</td>\n",
       "      <td>None</td>\n",
       "      <td>None</td>\n",
       "      <td>None</td>\n",
       "      <td>32</td>\n",
       "      <td>None</td>\n",
       "      <td>None</td>\n",
       "      <td>None</td>\n",
       "      <td>None</td>\n",
       "      <td>1.01226429848596</td>\n",
       "    </tr>\n",
       "    <tr>\n",
       "      <th>3</th>\n",
       "      <td>None</td>\n",
       "      <td>29</td>\n",
       "      <td>38</td>\n",
       "      <td>28</td>\n",
       "      <td>-22</td>\n",
       "      <td>None</td>\n",
       "      <td>None</td>\n",
       "      <td>-34</td>\n",
       "      <td>None</td>\n",
       "      <td>None</td>\n",
       "      <td>...</td>\n",
       "      <td>None</td>\n",
       "      <td>None</td>\n",
       "      <td>None</td>\n",
       "      <td>None</td>\n",
       "      <td>None</td>\n",
       "      <td>None</td>\n",
       "      <td>None</td>\n",
       "      <td>None</td>\n",
       "      <td>None</td>\n",
       "      <td>None</td>\n",
       "    </tr>\n",
       "    <tr>\n",
       "      <th>4</th>\n",
       "      <td>None</td>\n",
       "      <td>30</td>\n",
       "      <td>46</td>\n",
       "      <td>22</td>\n",
       "      <td>-18</td>\n",
       "      <td>None</td>\n",
       "      <td>-3</td>\n",
       "      <td>-56</td>\n",
       "      <td>72</td>\n",
       "      <td>None</td>\n",
       "      <td>...</td>\n",
       "      <td>None</td>\n",
       "      <td>None</td>\n",
       "      <td>None</td>\n",
       "      <td>None</td>\n",
       "      <td>None</td>\n",
       "      <td>None</td>\n",
       "      <td>None</td>\n",
       "      <td>None</td>\n",
       "      <td>None</td>\n",
       "      <td>0.418363901130365</td>\n",
       "    </tr>\n",
       "  </tbody>\n",
       "</table>\n",
       "<p>5 rows × 55 columns</p>\n",
       "</div>"
      ],
      "text/plain": [
       "  d_income d_age lf_max_age lf_min_age p_sprit p_sexdrive p_pure p_oldfash  \\\n",
       "0     None    25         36         25    None       None   None        16   \n",
       "1     None    20         26         18    None       None   None      None   \n",
       "2     None    22         40         26      40        -35   None        73   \n",
       "3     None    29         38         28     -22       None   None       -34   \n",
       "4     None    30         46         22     -18       None     -3       -56   \n",
       "\n",
       "  p_adven p_kinky        ...         p_honest p_submissive p_laidback p_cool  \\\n",
       "0    None     -60        ...             None         None       None     17   \n",
       "1    None    None        ...             None         None       None   None   \n",
       "2    None     -44        ...                9         None       None   None   \n",
       "3    None    None        ...             None         None       None   None   \n",
       "4      72    None        ...             None         None       None   None   \n",
       "\n",
       "  p_passion p_greed p_drug p_capi p_progress                 CA  \n",
       "0        90    None   None   None       None  0.571282953049484  \n",
       "1      None    None   None   None       None               None  \n",
       "2        32    None   None   None       None   1.01226429848596  \n",
       "3      None    None   None   None       None               None  \n",
       "4      None    None   None   None       None  0.418363901130365  \n",
       "\n",
       "[5 rows x 55 columns]"
      ]
     },
     "execution_count": 105,
     "metadata": {},
     "output_type": "execute_result"
    }
   ],
   "source": [
    "df_num.head()"
   ]
  },
  {
   "cell_type": "markdown",
   "metadata": {},
   "source": [
    "# Define Functions, Initialize global parameters"
   ]
  },
  {
   "cell_type": "code",
   "execution_count": 92,
   "metadata": {
    "collapsed": false
   },
   "outputs": [],
   "source": [
    "def get_columns_multi(df,keylist):\n",
    "    headerlist = []\n",
    "    for key in keylist:\n",
    "        headers_all = list(df.columns)\n",
    "        headers = [name for name in headers_all if name[0:len(key)]==key]\n",
    "        headerlist = headerlist+headers\n",
    "    return df.loc[:,headerlist]\n",
    "import colorlover as cl\n",
    "US_states = [\"AL\", \"AK\", \"AZ\", \"AR\", \"CA\", \"CO\", \"CT\", \"DC\", \"DE\", \"FL\", \"GA\", \n",
    "          \"HI\", \"ID\", \"IL\", \"IN\", \"IA\", \"KS\", \"KY\", \"LA\", \"ME\", \"MD\", \n",
    "          \"MA\", \"MI\", \"MN\", \"MS\", \"MO\", \"MT\", \"NE\", \"NV\", \"NH\", \"NJ\", \n",
    "          \"NM\", \"NY\", \"NC\", \"ND\", \"OH\", \"OK\", \"OR\", \"PA\", \"RI\", \"SC\", \n",
    "          \"SD\", \"TN\", \"TX\", \"UT\", \"VT\", \"VA\", \"WA\", \"WV\", \"WI\", \"WY\"]"
   ]
  },
  {
   "cell_type": "markdown",
   "metadata": {},
   "source": [
    "# Interactive Map"
   ]
  },
  {
   "cell_type": "markdown",
   "metadata": {},
   "source": [
    "### Male-Female Ratio"
   ]
  },
  {
   "cell_type": "code",
   "execution_count": 526,
   "metadata": {
    "collapsed": false
   },
   "outputs": [],
   "source": [
    "y = CA*np.nan\n",
    "y[gender == 'Woman'] = 100\n",
    "y[gender == 'Man'] = 0\n",
    "df = pd.concat([user_state,y],axis=1)\n",
    "df.columns = ['state','class']\n",
    "df = df.dropna(subset=['class']).groupby('state').mean();\n",
    "datalist = []\n",
    "for i in range(len(df)):\n",
    "    state = df.iloc[i,:].name\n",
    "    score = df.iloc[i,0]\n",
    "    if state in US_states:\n",
    "        datalist.append([state, score])\n",
    "df = pd.DataFrame.from_records(datalist)\n",
    "df.columns = ['state','%female']\n",
    "df_gender = df\n",
    "#Female % Map object\n",
    "colors = cl.scales['6']['div']['RdYlGn']\n",
    "scl = [list(a) for a in list(zip(np.linspace(0,1,len(colors)),colors))]\n",
    "data0 = dict(\n",
    "        type='choropleth',\n",
    "        colorscale = scl,\n",
    "        autocolorscale = False,\n",
    "        locations = df_gender['state'],\n",
    "        z = df_gender['%female'].astype(float),\n",
    "        locationmode = 'USA-states',\n",
    "        marker = dict(\n",
    "            line = dict (\n",
    "                color = 'rgb(255,255,255)',\n",
    "                width = 2\n",
    "            ) ),\n",
    "        colorbar = dict(\n",
    "            title = \"% Female Users\"),\n",
    "        visible = True\n",
    "        )"
   ]
  },
  {
   "cell_type": "markdown",
   "metadata": {},
   "source": [
    "### Get drug-use dataset"
   ]
  },
  {
   "cell_type": "code",
   "execution_count": 521,
   "metadata": {
    "collapsed": true
   },
   "outputs": [],
   "source": [
    "y_drugs = get_columns_multi(df_rsp,['q80_']);\n",
    "y_drugs.columns = ['occasional','regular','never','past']\n",
    "import warnings\n",
    "warnings.filterwarnings('ignore')#hide warnings\n",
    "y = y_drugs.iloc[:,[0]]*np.nan\n",
    "y[y_drugs.occasional==1] = 100\n",
    "y[y_drugs.regular==1] = 100\n",
    "y[y_drugs.past==1] = 100\n",
    "y[y_drugs.never==1] = 0\n",
    "df = pd.concat([user_state,y],axis=1)\n",
    "df.columns = ['state','class']\n",
    "\n",
    "df = df.dropna(subset=['class']).groupby('state').mean();\n",
    "datalist = []\n",
    "for i in range(len(df)):\n",
    "    state = df.iloc[i,:].name\n",
    "    score = df.iloc[i,0]\n",
    "    if state in US_states:\n",
    "        datalist.append([state, score])\n",
    "df = pd.DataFrame.from_records(datalist)\n",
    "df.columns = ['state','%UsedHardDrugs']\n",
    "df_drugs = df\n",
    "\n",
    "# drugs data map object\n",
    "colors = cl.scales['6']['div']['PRGn']\n",
    "scl = [list(a) for a in list(zip(np.linspace(0,1,len(colors)),colors))]\n",
    "data1 =  dict(\n",
    "        type='choropleth',\n",
    "        colorscale = scl,\n",
    "        autocolorscale = False,\n",
    "        locations = df_drugs['state'],\n",
    "        z = df_drugs['%UsedHardDrugs'].astype(float),\n",
    "        locationmode = 'USA-states',\n",
    "        marker = dict(\n",
    "            line = dict (\n",
    "                color = 'rgb(255,255,255)',\n",
    "                width = 2\n",
    "            ) ),\n",
    "        colorbar = dict(\n",
    "            title = \"% had experience with hard drugs\"),\n",
    "        visible = False\n",
    "        ) "
   ]
  },
  {
   "cell_type": "markdown",
   "metadata": {},
   "source": [
    "### Get open-relationship dataset"
   ]
  },
  {
   "cell_type": "code",
   "execution_count": 370,
   "metadata": {
    "collapsed": true
   },
   "outputs": [],
   "source": [
    "y_openre = get_columns_multi(df_rsp,['q325_'])\n",
    "y_openre.columns =  ['no','yes']\n",
    "y = y_openre.iloc[:,[0]]*np.nan\n",
    "y[y_openre.yes==1] = 100\n",
    "y[y_openre.no==1] = 0\n",
    "df = pd.concat([user_state,y],axis=1)\n",
    "df.columns = ['state','class']\n",
    "df = df.dropna(subset=['class']).groupby('state').mean();\n",
    "datalist = []\n",
    "for i in range(len(df)):\n",
    "    state = df.iloc[i,:].name\n",
    "    score = df.iloc[i,0]\n",
    "    if state in US_states:\n",
    "        datalist.append([state, score])\n",
    "df = pd.DataFrame.from_records(datalist)\n",
    "df.columns = ['state','%OpenTo']\n",
    "df_openre = df\n",
    "\n",
    "#Open-relationship Map object\n",
    "colors = cl.scales['6']['div']['RdGy']\n",
    "scl = [list(a) for a in list(zip(np.linspace(0,1,len(colors)),colors))]\n",
    "data2 = dict(\n",
    "        type='choropleth',\n",
    "        colorscale = scl,\n",
    "        autocolorscale = False,\n",
    "        locations = df_openre['state'],\n",
    "        z = df_openre['%OpenTo'].astype(float),\n",
    "        locationmode = 'USA-states',\n",
    "        marker = dict(\n",
    "            line = dict (\n",
    "                color = 'rgb(255,255,255)',\n",
    "                width = 2\n",
    "            ) ),\n",
    "        colorbar = dict(\n",
    "            title = \"% OK with an open-relationship\"),\n",
    "        visible = False\n",
    "        )"
   ]
  },
  {
   "cell_type": "markdown",
   "metadata": {},
   "source": [
    "### Get googling dataset"
   ]
  },
  {
   "cell_type": "code",
   "execution_count": 127,
   "metadata": {
    "collapsed": true
   },
   "outputs": [],
   "source": [
    "y_google = get_columns_multi(df_rsp,['q170849_']);y_google.head()\n",
    "y_google.columns = ['no','yes']\n",
    "y = y_google.iloc[:,[0]]*np.nan\n",
    "y[y_google.yes==1] = 100\n",
    "y[y_google.no==1] = 0\n",
    "df = pd.concat([user_state,y],axis=1)\n",
    "df.columns = ['state','class']\n",
    "df = df.dropna(subset=['class']).groupby('state').mean();\n",
    "datalist = []\n",
    "for i in range(len(df)):\n",
    "    state = df.iloc[i,:].name\n",
    "    score = max(df.iloc[i,0],18.901)\n",
    "    if state in US_states:\n",
    "        datalist.append([state, score])\n",
    "df = pd.DataFrame.from_records(datalist)\n",
    "df.columns = ['state','%Google']\n",
    "df_google = df\n",
    "\n",
    "#Googling Map object\n",
    "colors = cl.scales['6']['div']['BrBG']\n",
    "scl = [list(a) for a in list(zip(np.linspace(0,1,len(colors)),colors))]\n",
    "data3 = dict(\n",
    "        type='choropleth',\n",
    "        colorscale = scl,\n",
    "        autocolorscale = False,\n",
    "        locations = df_google['state'],\n",
    "        z = df_google['%Google'].astype(float),\n",
    "        locationmode = 'USA-states',\n",
    "        marker = dict(\n",
    "            line = dict (\n",
    "                color = 'rgb(255,255,255)',\n",
    "                width = 2\n",
    "            ) ),\n",
    "        colorbar = dict(\n",
    "            title = \"% would google their first dates\"),\n",
    "        visible = False\n",
    "        ) "
   ]
  },
  {
   "cell_type": "markdown",
   "metadata": {},
   "source": [
    "### Get cognitive ability dataset"
   ]
  },
  {
   "cell_type": "code",
   "execution_count": 308,
   "metadata": {
    "collapsed": true
   },
   "outputs": [],
   "source": [
    "df = pd.concat([user_state,CA],axis=1)\n",
    "df.columns = ['state','CA']\n",
    "df = df.groupby('state').mean()\n",
    "datalist = []\n",
    "for i in range(len(df)):\n",
    "    state = df.iloc[i,:].name\n",
    "    score = df.iloc[i,0]\n",
    "    if state in US_states:\n",
    "        datalist.append([state, score])\n",
    "df = pd.DataFrame.from_records(datalist)\n",
    "df.columns = ['state','CA']\n",
    "df_CA = df\n",
    "\n",
    "#Cognitive Ability Map object\n",
    "colors = cl.flipper()['div']['6']['RdYlGn']\n",
    "scl = [list(a) for a in list(zip(np.linspace(0,1,len(colors)),colors))]\n",
    "data4 = dict(\n",
    "        type='choropleth',\n",
    "        colorscale = scl,\n",
    "        autocolorscale = False,\n",
    "        locations = df_CA['state'],\n",
    "        z = df_CA['CA'].astype(float),\n",
    "        locationmode = 'USA-states',\n",
    "        marker = dict(\n",
    "            line = dict (\n",
    "                color = 'rgb(255,255,255)',\n",
    "                width = 2\n",
    "            ) ),\n",
    "        colorbar = dict(\n",
    "            title = \"Cognitive Ability Score\"),\n",
    "        visible = False\n",
    "        )"
   ]
  },
  {
   "cell_type": "markdown",
   "metadata": {},
   "source": [
    "### Get Sex-Drive Score"
   ]
  },
  {
   "cell_type": "code",
   "execution_count": 304,
   "metadata": {
    "collapsed": true
   },
   "outputs": [],
   "source": [
    "SD = pd.to_numeric(df_num.p_sexdrive)\n",
    "df = pd.concat([user_state,SD],axis=1)\n",
    "df.columns = ['state','SD']\n",
    "df = df.groupby('state').mean()\n",
    "datalist = []\n",
    "for i in range(len(df)):\n",
    "    state = df.iloc[i,:].name\n",
    "    score = df.iloc[i,0]\n",
    "    if state in US_states:\n",
    "        datalist.append([state, score])\n",
    "df = pd.DataFrame.from_records(datalist)\n",
    "df.columns = ['state','SD']\n",
    "df_SD = df\n",
    "\n",
    "#Sex drive score map object\n",
    "colors = cl.flipper()['seq']['6']['RdPu']\n",
    "scl = [list(a) for a in list(zip(np.linspace(0,1,len(colors)),colors))]\n",
    "data5 = dict(\n",
    "        type='choropleth',\n",
    "        colorscale = scl,\n",
    "        autocolorscale = False,\n",
    "        locations = df_SD['state'],\n",
    "        z = df_SD['SD'].astype(float),\n",
    "        locationmode = 'USA-states',\n",
    "        marker = dict(\n",
    "            line = dict (\n",
    "                color = 'rgb(255,255,255)',\n",
    "                width = 2\n",
    "            ) ),\n",
    "        colorbar = dict(\n",
    "            title = \"OK Cupid Sex-Drive Score\"),\n",
    "        visible = False\n",
    "        )"
   ]
  },
  {
   "cell_type": "markdown",
   "metadata": {},
   "source": [
    "### Get Politics Score"
   ]
  },
  {
   "cell_type": "code",
   "execution_count": 214,
   "metadata": {
    "collapsed": true
   },
   "outputs": [],
   "source": [
    "polit = pd.to_numeric(df_num.p_polit)\n",
    "df = pd.concat([user_state,polit],axis=1)\n",
    "df.columns = ['state','polit']\n",
    "df = df.groupby('state').mean()\n",
    "datalist = []\n",
    "for i in range(len(df)):\n",
    "    state = df.iloc[i,:].name\n",
    "    score = df.iloc[i,0]\n",
    "    if state in US_states:\n",
    "        datalist.append([state, score])\n",
    "df = pd.DataFrame.from_records(datalist)\n",
    "df.columns = ['state','polit']\n",
    "df_polit = df\n",
    "\n",
    "#Politics score map object\n",
    "colors = cl.scales['6']['div']['RdBu']\n",
    "scl = [list(a) for a in list(zip(np.linspace(0,1,len(colors)),colors))]\n",
    "scl[1][0] = 0.3; scl[2][0] = 0.4; scl[3][0] = 0.45; scl[4][0] = 0.55;\n",
    "\n",
    "data6 = dict(\n",
    "        type='choropleth',\n",
    "        colorscale = scl,\n",
    "        autocolorscale = False,\n",
    "        locations = df_polit['state'],\n",
    "        z = df_polit['polit'].astype(float),\n",
    "        locationmode = 'USA-states',\n",
    "        marker = dict(\n",
    "            line = dict (\n",
    "                color = 'rgb(255,255,255)',\n",
    "                width = 2\n",
    "            ) ),\n",
    "        colorbar = dict(\n",
    "            title = \"OK Cupid Politics Score\"),\n",
    "        visible = False\n",
    "        )"
   ]
  },
  {
   "cell_type": "markdown",
   "metadata": {},
   "source": [
    "### Get Spirituality Score"
   ]
  },
  {
   "cell_type": "code",
   "execution_count": 301,
   "metadata": {
    "collapsed": false
   },
   "outputs": [],
   "source": [
    "sprit = pd.to_numeric(df_num.p_sprit)\n",
    "df = pd.concat([user_state,sprit],axis=1)\n",
    "df.columns = ['state','sprit']\n",
    "df = df.groupby('state').mean()\n",
    "datalist = []\n",
    "for i in range(len(df)):\n",
    "    state = df.iloc[i,:].name\n",
    "    score = df.iloc[i,0]\n",
    "    if state in US_states:\n",
    "        datalist.append([state, score])\n",
    "df = pd.DataFrame.from_records(datalist)\n",
    "df.columns = ['state','sprit']\n",
    "df_sprit = df\n",
    "\n",
    "#Sex drive score map object\n",
    "colors = cl.scales['7']['seq']['Greys']\n",
    "scl = [list(a) for a in list(zip(np.linspace(1,0,len(colors)),colors))]\n",
    "scl.reverse()\n",
    "scl[3][0]=0.4; scl[4][0]=0.5; scl[5][0]=0.6\n",
    "data7 = dict(\n",
    "        type='choropleth',\n",
    "        colorscale = scl,\n",
    "        autocolorscale = False,\n",
    "        locations = df_sprit['state'],\n",
    "        z = df_sprit['sprit'].astype(float),\n",
    "        locationmode = 'USA-states',\n",
    "        marker = dict(\n",
    "            line = dict (\n",
    "                color = 'rgb(255,255,255)',\n",
    "                width = 2\n",
    "            ) ),\n",
    "        colorbar = dict(\n",
    "            title = \"OK Cupid Spirituality Score\"),\n",
    "        visible = False\n",
    "        )"
   ]
  },
  {
   "cell_type": "markdown",
   "metadata": {},
   "source": [
    "### Make Interactive Plot"
   ]
  },
  {
   "cell_type": "code",
   "execution_count": 525,
   "metadata": {
    "collapsed": false
   },
   "outputs": [
    {
     "data": {
      "text/html": [
       "<iframe id=\"igraph\" scrolling=\"no\" style=\"border:none;\" seamless=\"seamless\" src=\"https://plot.ly/~bobtian/45.embed\" height=\"525px\" width=\"100%\"></iframe>"
      ],
      "text/plain": [
       "<plotly.tools.PlotlyDisplay object>"
      ]
     },
     "execution_count": 525,
     "metadata": {},
     "output_type": "execute_result"
    }
   ],
   "source": [
    "from plotly.graph_objs import *\n",
    "\n",
    "datasetlist = [data0, data1, data2, data3, data4, data5, data6, data7]\n",
    "switchlist = []\n",
    "for i in range(0,len(datasetlist)):\n",
    "    switch = [False]*len(datasetlist)\n",
    "    switch[i] = True\n",
    "    switchlist.append(switch)\n",
    "    \n",
    "data = Data(datasetlist)\n",
    "layout = dict(\n",
    "        updatemenus=list([dict(\n",
    "            x=-0.05,y=1,yanchor='top',\n",
    "            buttons=list([dict(args=['visible', switchlist[0]], \n",
    "                               label='%Female Users', method='restyle'),\n",
    "                          dict(args=['visible', switchlist[1]], \n",
    "                               label='Drug-Use', method='restyle'),\n",
    "                          dict(args=['visible', switchlist[2]], \n",
    "                               label='Open-Relationship', method='restyle'),\n",
    "                          dict(args=['visible', switchlist[3]], \n",
    "                               label='Date-Googling', method='restyle'),\n",
    "                          dict(args=['visible', switchlist[4]], \n",
    "                               label='Cognitive Ability', method='restyle'),\n",
    "                          dict(args=['visible', switchlist[5]], \n",
    "                               label='Sex Drive', method='restyle'),\n",
    "                          dict(args=['visible', switchlist[6]], \n",
    "                               label='Politics', method='restyle'),\n",
    "                          dict(args=['visible', switchlist[7]], \n",
    "                               label='Spirituality', method='restyle'),\n",
    "                         ]))\n",
    "                        ]),\n",
    "        title = 'Mapping Answers of OK Cupid Users',\n",
    "        geo = dict(\n",
    "            scope='usa',\n",
    "            projection=dict( type='albers usa' ),\n",
    "            showlakes = True,\n",
    "            lakecolor = 'rgb(255, 255, 255)'),\n",
    "             )\n",
    "    \n",
    "fig = dict( data=data, layout=layout )\n",
    "py.iplot(fig, filename='McNultyMap')"
   ]
  },
  {
   "cell_type": "markdown",
   "metadata": {},
   "source": [
    "# Interactive Scatter Plot"
   ]
  },
  {
   "cell_type": "markdown",
   "metadata": {},
   "source": [
    "### Get State Population"
   ]
  },
  {
   "cell_type": "code",
   "execution_count": 325,
   "metadata": {
    "collapsed": false
   },
   "outputs": [],
   "source": [
    "df = pd.concat([user_state,y_drugs.iloc[:,0]],axis=1)\n",
    "df.columns=['state','class']\n",
    "df = df.groupby('state').count();\n",
    "datalist = []\n",
    "for i in range(len(df)):\n",
    "    state = df.iloc[i,:].name\n",
    "    score = df.iloc[i,0]\n",
    "    if state in US_states:\n",
    "        datalist.append([state, score])\n",
    "df = pd.DataFrame.from_records(datalist)\n",
    "df.columns = ['state','N']\n",
    "df_N = df"
   ]
  },
  {
   "cell_type": "markdown",
   "metadata": {},
   "source": [
    "### Generate Scatter Plot"
   ]
  },
  {
   "cell_type": "code",
   "execution_count": 529,
   "metadata": {
    "collapsed": false
   },
   "outputs": [
    {
     "data": {
      "text/html": [
       "<iframe id=\"igraph\" scrolling=\"no\" style=\"border:none;\" seamless=\"seamless\" src=\"https://plot.ly/~bobtian/47.embed\" height=\"525px\" width=\"100%\"></iframe>"
      ],
      "text/plain": [
       "<plotly.tools.PlotlyDisplay object>"
      ]
     },
     "execution_count": 529,
     "metadata": {},
     "output_type": "execute_result"
    }
   ],
   "source": [
    "msize = df_N.N**0.8*4\n",
    "\n",
    "trace = Scatter(\n",
    "    x=df_gender['%female'],\n",
    "    y=df_SD['SD'],\n",
    "    text=df['state'],\n",
    "    mode='markers',\n",
    "    marker=dict(\n",
    "        size=msize,\n",
    "        sizemode='area',\n",
    "    ),\n",
    "    name = '% Female Users'\n",
    ")\n",
    "trace0 = Scatter(\n",
    "    x=df_drugs['%UsedHardDrugs'],\n",
    "    y=df_SD['SD'],\n",
    "    text=df['state'],\n",
    "    mode='markers',\n",
    "    marker=dict(\n",
    "        size=msize,\n",
    "        sizemode='area',\n",
    "    ),\n",
    "    name = 'Drug-Use'\n",
    ")\n",
    "trace1 = Scatter(\n",
    "    x=df_openre['%OpenTo'],\n",
    "    y=df_SD['SD'],\n",
    "    text=df['state'],\n",
    "    mode='markers',\n",
    "    marker=dict(\n",
    "        size=msize,\n",
    "        sizeref=1,\n",
    "        sizemode='area',\n",
    "    ),\n",
    "    name = 'Open-Relationship?'\n",
    ")\n",
    "\n",
    "trace2 = Scatter(\n",
    "    x=df_google['%Google'],\n",
    "    y=df_SD['SD'],\n",
    "    text=df['state'],\n",
    "    mode='markers',\n",
    "    marker=dict(\n",
    "        size=msize,\n",
    "        sizeref=1,\n",
    "        sizemode='area',\n",
    "    ),\n",
    "    name = 'Googling'\n",
    ")\n",
    "\n",
    "trace3 = Scatter(\n",
    "    x=(df_CA['CA']-np.min(df_CA['CA']))*50,\n",
    "    y=df_SD['SD'],\n",
    "    text=df['state'],\n",
    "    mode='markers',\n",
    "    marker=dict(\n",
    "        size=msize,\n",
    "        sizeref=1,\n",
    "        sizemode='area',\n",
    "    ),\n",
    "    name = 'Cognitive Ability'\n",
    ")\n",
    "\n",
    "trace4 = Scatter(\n",
    "    x=df_sprit['sprit']+20,\n",
    "    y=df_SD['SD'],\n",
    "    text=df['state'],\n",
    "    mode='markers',\n",
    "    marker=dict(\n",
    "        size=msize,\n",
    "        sizeref=1,\n",
    "        sizemode='area',\n",
    "    ),\n",
    "    name = 'Spirituality Score'\n",
    ")\n",
    "\n",
    "trace5 = Scatter(\n",
    "    x=(df_polit['polit']-np.min(df_polit['polit']))*0.8,\n",
    "    y=df_SD['SD'],\n",
    "    text=df['state'],\n",
    "    mode='markers',\n",
    "    marker=dict(\n",
    "        size=msize,\n",
    "        sizeref=1,\n",
    "        sizemode='area',\n",
    "    ),\n",
    "    name = 'Politics Score'\n",
    ")\n",
    "\n",
    "data = [trace, trace0, trace1, trace2, trace3, trace4, trace5]\n",
    "\n",
    "layout = Layout(\n",
    "    title='Correlations of OK Cupid Answers to Sex-Drive Score',\n",
    "    xaxis=dict(\n",
    "        title='Independent Variable (click on legend to choose what to display...)',\n",
    "        gridcolor='rgb(255, 255, 255)',\n",
    "        range=[0, 50],\n",
    "        zerolinewidth=1,\n",
    "        ticklen=5,\n",
    "        gridwidth=2,\n",
    "    ),\n",
    "    yaxis=dict(\n",
    "        title='OK Cupid Sex-Drive Score',\n",
    "        gridcolor='rgb(255, 255, 255)',\n",
    "        range=[0, 30],\n",
    "        zerolinewidth=1,\n",
    "        ticklen=5,\n",
    "        gridwidth=2,\n",
    "    ),\n",
    "    paper_bgcolor='rgb(243, 243, 243)',\n",
    "    plot_bgcolor='rgb(243, 243, 243)',\n",
    ")\n",
    "\n",
    "fig = Figure(data=data, layout=layout)\n",
    "\n",
    "py.iplot(fig, filename='McNultyScatter')"
   ]
  },
  {
   "cell_type": "markdown",
   "metadata": {},
   "source": [
    "# Interactive Stacked Bar Plot"
   ]
  },
  {
   "cell_type": "markdown",
   "metadata": {},
   "source": [
    "### Drugs"
   ]
  },
  {
   "cell_type": "code",
   "execution_count": 536,
   "metadata": {
    "collapsed": false
   },
   "outputs": [],
   "source": [
    "#Dataset\n",
    "y_drugs = get_columns_multi(df_rsp,['q80_']);\n",
    "y_drugs.columns = ['occasional','regular','never','past']\n",
    "y = y_drugs.iloc[:,[0]]*np.nan\n",
    "y[y_drugs.occasional==1] = 100\n",
    "y[y_drugs.regular==1] = 100\n",
    "y[y_drugs.past==1] = 100\n",
    "y[y_drugs.never==1] = 0\n",
    "df = pd.concat([job,y],axis=1)\n",
    "df.columns = ['job','class']\n",
    "df = df.groupby('job').mean()\n",
    "datalist = []\n",
    "for i in range(len(df)):\n",
    "    r = df.iloc[i,:].name\n",
    "    score = df.iloc[i,0]\n",
    "    if r in set(job) and r != 'Other' and r!= 'Rather not say':\n",
    "        datalist.append([r, score])\n",
    "df = pd.DataFrame.from_records(datalist)\n",
    "df.columns = ['job','%UsedHardDrugs']\n",
    "df_drugs = df.sort_values(['%UsedHardDrugs'])\n",
    "#Bar Plot Object\n",
    "t_drugs1 = Bar(\n",
    "    y=df_drugs['job'],\n",
    "    x=df_drugs['%UsedHardDrugs'],\n",
    "    name='Used hard drugs',\n",
    "    orientation = 'h',\n",
    "    marker = dict(\n",
    "        color = 'rgba(20, 186, 25, 0.8)',\n",
    "        line = dict(\n",
    "            color = 'rgba(20, 186, 25, 1.0)',\n",
    "            width = 3)\n",
    "    ),\n",
    "    visible = False\n",
    ")\n",
    "t_drugs2 = Bar(\n",
    "    y=df_drugs['job'],\n",
    "    x=100-df_drugs['%UsedHardDrugs'],\n",
    "    name='Never used hard drugs',\n",
    "    orientation = 'h',\n",
    "    marker = dict(\n",
    "        color = 'rgba(58, 71, 80, 0.6)',\n",
    "        line = dict(\n",
    "            color = 'rgba(58, 71, 80, 1.0)',\n",
    "            width = 3)\n",
    "    ),\n",
    "    visible = False\n",
    ")"
   ]
  },
  {
   "cell_type": "markdown",
   "metadata": {},
   "source": [
    "### Open Relationship"
   ]
  },
  {
   "cell_type": "code",
   "execution_count": 468,
   "metadata": {
    "collapsed": false
   },
   "outputs": [],
   "source": [
    "#Dataset\n",
    "y_openre = get_columns_multi(df_rsp,['q325_'])\n",
    "y_openre.columns =  ['no','yes']\n",
    "y = y_openre.iloc[:,[0]]*np.nan\n",
    "y[y_openre.yes==1] = 100\n",
    "y[y_openre.no==1] = 0\n",
    "df = pd.concat([job,y],axis=1)\n",
    "df.columns = ['job','class']\n",
    "df = df.dropna(subset=['class']).groupby('job').mean();\n",
    "datalist = []\n",
    "for i in range(len(df)):\n",
    "    r = df.iloc[i,:].name\n",
    "    score = df.iloc[i,0]\n",
    "    if r in set(job) and r != 'Other' and r!= 'Rather not say':\n",
    "        datalist.append([r, score])\n",
    "df = pd.DataFrame.from_records(datalist)\n",
    "df.columns = ['job','%OpenTo']\n",
    "df_openre = df.sort_values(['%OpenTo'])\n",
    "#Bar Plot Object\n",
    "t_openre1 = Bar(\n",
    "    y=df_openre['job'],\n",
    "    x=df_openre['%OpenTo'],\n",
    "    name='Okay with open relationship',\n",
    "    orientation = 'h',\n",
    "    marker = dict(\n",
    "        color = 'rgba(246, 78, 139, 0.6)',\n",
    "        line = dict(\n",
    "            color = 'rgba(246, 78, 139, 1.0)',\n",
    "            width = 3)\n",
    "    ),\n",
    "    visible = False\n",
    ")\n",
    "t_openre2 = Bar(\n",
    "    y=df_openre['job'],\n",
    "    x=100-df_openre['%OpenTo'],\n",
    "    name='Not okay with open relationship',\n",
    "    orientation = 'h',\n",
    "    marker = dict(\n",
    "        color = 'rgba(58, 71, 80, 0.6)',\n",
    "        line = dict(\n",
    "            color = 'rgba(58, 71, 80, 1.0)',\n",
    "            width = 3)\n",
    "    ),\n",
    "    visible = False\n",
    ")"
   ]
  },
  {
   "cell_type": "markdown",
   "metadata": {},
   "source": [
    "### Date Googling"
   ]
  },
  {
   "cell_type": "code",
   "execution_count": 534,
   "metadata": {
    "collapsed": false
   },
   "outputs": [],
   "source": [
    "#Dataset\n",
    "y_google = get_columns_multi(df_rsp,['q170849_'])\n",
    "y_google.columns =  ['no','yes']\n",
    "y = y_google.iloc[:,[0]]*np.nan\n",
    "y[y_google.yes==1] = 100\n",
    "y[y_google.no==1] = 0\n",
    "df = pd.concat([job,y],axis=1)\n",
    "df.columns = ['job','class']\n",
    "df = df.dropna(subset=['class']).groupby('job').mean();\n",
    "datalist = []\n",
    "for i in range(len(df)):\n",
    "    r = df.iloc[i,:].name\n",
    "    score = df.iloc[i,0]\n",
    "    if r in set(job) and r != 'Other' and r!= 'Rather not say':\n",
    "        datalist.append([r, score])\n",
    "df = pd.DataFrame.from_records(datalist)\n",
    "df.columns = ['job','%Google']\n",
    "df_google = df.sort_values(['%Google'])\n",
    "#Bar Plot Object\n",
    "t_google1 = Bar(\n",
    "    y=df_google['job'],\n",
    "    x=df_google['%Google'],\n",
    "    name='Google their first dates',\n",
    "    orientation = 'h',\n",
    "    marker = dict(\n",
    "        color = 'rgba(45, 45, 246, 0.6)',\n",
    "        line = dict(\n",
    "            color = 'rgba(45, 45, 246, 1.0)',\n",
    "            width = 3)\n",
    "    ),\n",
    "    visible = False\n",
    ")\n",
    "t_google2 = Bar(\n",
    "    y=df_google['job'],\n",
    "    x=100-df_google['%Google'],\n",
    "    name='Does not want to spoil the mystery!',\n",
    "    orientation = 'h',\n",
    "    marker = dict(\n",
    "        color = 'rgba(58, 71, 80, 0.6)',\n",
    "        line = dict(\n",
    "            color = 'rgba(58, 71, 80, 1.0)',\n",
    "            width = 3)\n",
    "    ),\n",
    "    visible = False\n",
    ")"
   ]
  },
  {
   "cell_type": "markdown",
   "metadata": {},
   "source": [
    "### Gender data"
   ]
  },
  {
   "cell_type": "code",
   "execution_count": 537,
   "metadata": {
    "collapsed": false
   },
   "outputs": [],
   "source": [
    "y = CA*np.nan\n",
    "y[gender == 'Woman'] = 100\n",
    "y[gender == 'Man'] = 0\n",
    "df = pd.concat([job,y],axis=1)\n",
    "df.columns = ['job','class']\n",
    "df = df.dropna(subset=['class']).groupby('job').mean();\n",
    "datalist = []\n",
    "for i in range(len(df)):\n",
    "    r = df.iloc[i,:].name\n",
    "    score = df.iloc[i,0]\n",
    "    if r in set(job) and r != 'Other' and r!= 'Rather not say':\n",
    "        datalist.append([r, score])\n",
    "df = pd.DataFrame.from_records(datalist)\n",
    "df.columns = ['job','%Female']\n",
    "df_gender = df.sort_values(['%Female'])\n",
    "#Bar Plot Object\n",
    "t_gender1 = Bar(\n",
    "    y=df_gender['job'],\n",
    "    x=df_gender['%Female'],\n",
    "    name='Female',\n",
    "    orientation = 'h',\n",
    "    marker = dict(\n",
    "        color = 'rgba(246, 45, 45, 0.6)',\n",
    "        line = dict(\n",
    "            color = 'rgba(246, 45, 45, 1.0)',\n",
    "            width = 3)\n",
    "    ),\n",
    ")\n",
    "t_gender2 = Bar(\n",
    "    y=df_gender['job'],\n",
    "    x=100-df_gender['%Female'],\n",
    "    name='Male',\n",
    "    orientation = 'h',\n",
    "    marker = dict(\n",
    "        color = 'rgba(45, 45, 246, 0.6)',\n",
    "        line = dict(\n",
    "            color = 'rgba(45, 45, 246, 1.0)',\n",
    "            width = 3)\n",
    "    ),\n",
    ")"
   ]
  },
  {
   "cell_type": "markdown",
   "metadata": {},
   "source": [
    "### Plotting the Bar Plot"
   ]
  },
  {
   "cell_type": "code",
   "execution_count": 641,
   "metadata": {
    "collapsed": false
   },
   "outputs": [
    {
     "data": {
      "text/html": [
       "<iframe id=\"igraph\" scrolling=\"no\" style=\"border:none;\" seamless=\"seamless\" src=\"https://plot.ly/~bobtian/51.embed\" height=\"525px\" width=\"100%\"></iframe>"
      ],
      "text/plain": [
       "<plotly.tools.PlotlyDisplay object>"
      ]
     },
     "execution_count": 641,
     "metadata": {},
     "output_type": "execute_result"
    }
   ],
   "source": [
    "datasetlist = [t_gender1, t_gender2, t_drugs1, t_drugs2, t_openre1, t_openre2, t_google1, t_google2]\n",
    "\n",
    "data = Data(datasetlist)\n",
    "layout = Layout(\n",
    "    updatemenus=list([dict(\n",
    "            x=0.95,y=1.1,yanchor='top',\n",
    "            buttons=list([dict(args=['visible', [True, True, False, False, False, False, False, False]], \n",
    "                               label='%Female', method='restyle'),\n",
    "                          dict(args=['visible', [False, False, True, True, False, False, False, False]], \n",
    "                               label='Drug-Use', method='restyle'),\n",
    "                          dict(args=['visible', [False, False, False, False, True, True, False, False]], \n",
    "                               label='Open-Relationship', method='restyle'),\n",
    "                          dict(args=['visible', [False, False, False, False, False, False, True, True]], \n",
    "                               label='Googling', method='restyle'),\n",
    "                         ]))\n",
    "                        ]),\n",
    "    \n",
    "    xaxis=dict(\n",
    "        showgrid=False,\n",
    "        showline=False,\n",
    "        showticklabels=True,\n",
    "        zeroline=False,\n",
    "        domain=[0.15, 1]\n",
    "        ),\n",
    "    yaxis=dict(\n",
    "        showgrid=False,\n",
    "        showline=False,\n",
    "        showticklabels=True,\n",
    "        zeroline=False,\n",
    "        ),\n",
    "    barmode='stack'\n",
    ")\n",
    "\n",
    "fig = Figure(data=data, layout=layout)\n",
    "py.iplot(fig, filename='McNultyBarPlotJobs')"
   ]
  },
  {
   "cell_type": "markdown",
   "metadata": {},
   "source": [
    "# Features Bar Plot"
   ]
  },
  {
   "cell_type": "code",
   "execution_count": 642,
   "metadata": {
    "collapsed": true
   },
   "outputs": [],
   "source": [
    "from sklearn.cross_validation import train_test_split\n",
    "from sklearn.metrics import accuracy_score\n",
    "from sklearn.linear_model import LogisticRegression\n",
    "\n",
    "df_key0 = pd.read_sql_table('questions_key',engine)\n",
    "df_key = df_key0[df_key0.loc[:,'N']>=31548]"
   ]
  },
  {
   "cell_type": "code",
   "execution_count": 643,
   "metadata": {
    "collapsed": false
   },
   "outputs": [],
   "source": [
    "tst = get_columns_multi(df_tst,['q18698_'])\n",
    "rsp = get_columns_multi(df_rsp,['q1062_','q1128_','q123_','q136_','q15280_','q1597_','q19874_','q274_','q35_','q358084_',\n",
    "                                'q37693_','q393_','q4018_','q43261_','q60100_','q66506_','q77_','q79_','q81_'])\n",
    "q_list = ['q18698_','q1062_','q1128_','q123_','q136_','q15280_','q1597_','q19874_','q274_','q35_','q358084_',\n",
    "                                'q37693_','q393_','q4018_','q43261_','q60100_','q66506_','q77_','q79_','q81_']\n",
    "X = pd.concat([tst, rsp],axis=1)\n",
    "\n",
    "y0 = y_drugs.iloc[:,[0]]*np.nan\n",
    "y0.columns = ['y']\n",
    "y0[gender == 'Man'] = 'Man'\n",
    "y0[gender == 'Woman'] = 'Woman'\n",
    "dataset0 = pd.concat([y0, X],axis=1)\n",
    "dataset0.dropna(subset=['y'],inplace=True)\n",
    "\n",
    "y_drugs = get_columns_multi(df_rsp,['q80_']);\n",
    "y_drugs.columns = ['occasional','regular','never','past']\n",
    "y1 = y_drugs.iloc[:,[0]]*np.nan\n",
    "y1.columns = ['y']\n",
    "y1[y_drugs.occasional==1] = 'not never'\n",
    "y1[y_drugs.regular==1] = 'not never'\n",
    "y1[y_drugs.past==1] = 'not never'\n",
    "y1[y_drugs.never==1] = 'never'\n",
    "dataset1 = pd.concat([y1, X],axis=1)\n",
    "dataset1.dropna(subset=['y'],inplace=True)\n",
    "\n",
    "y_openre = get_columns_multi(df_rsp,['q325_'])\n",
    "y_openre.columns =  ['no','yes']\n",
    "y2 = y_openre.iloc[:,[0]]*np.nan\n",
    "y2.columns = ['y']\n",
    "y2[y_openre.yes==1] = 'yes'\n",
    "y2[y_openre.no==1] = 'no'\n",
    "dataset2 = pd.concat([y2, X],axis=1)\n",
    "dataset2.dropna(subset=['y'],inplace=True)\n",
    "\n",
    "y_google = get_columns_multi(df_rsp,['q170849_'])\n",
    "y_google.columns =  ['no','yes']\n",
    "y3 = y_google.iloc[:,[0]]*np.nan\n",
    "y3.columns = ['y']\n",
    "y3[y_google.yes==1] = 'yes'\n",
    "y3[y_google.no==1] = 'no'\n",
    "dataset3 = pd.concat([y3, X],axis=1)\n",
    "dataset3.dropna(subset=['y'],inplace=True)"
   ]
  },
  {
   "cell_type": "code",
   "execution_count": 644,
   "metadata": {
    "collapsed": false
   },
   "outputs": [],
   "source": [
    "X_train, X_test, y_train, y_test = train_test_split(dataset0.iloc[:,1:],dataset0.iloc[:,0],test_size=0.5)\n",
    "model = LogisticRegression()\n",
    "model.fit(X_train, y_train)\n",
    "fit = model.fit(X_train,y_train)\n",
    "features = {}\n",
    "for i in range(len(list(fit.coef_[0]))):\n",
    "    headerstr = X.columns[i]\n",
    "    headerstr = headerstr.split('_')\n",
    "    qID = headerstr[0]+'_'\n",
    "    if qID in features:\n",
    "        features[qID] = np.max([np.abs(fit.coef_[0][i]),features[qID]])\n",
    "    else:\n",
    "        features[qID] = np.abs(fit.coef_[0][i])\n",
    "coef = []\n",
    "for q in q_list:\n",
    "    if q == 'q18698_':\n",
    "        question = \"What is the Ideal Gas Law?\"\n",
    "    else:\n",
    "        question = get_question(df_key,q[:-1]).text.item()\n",
    "    coef.append([features[q],question])\n",
    "coef0 = pd.DataFrame.from_records(sorted(coef))\n",
    "\n",
    "X_train, X_test, y_train, y_test = train_test_split(dataset1.iloc[:,1:],dataset1.iloc[:,0],test_size=0.5)\n",
    "model = LogisticRegression()\n",
    "model.fit(X_train, y_train)\n",
    "fit = model.fit(X_train,y_train)\n",
    "features = {}\n",
    "for i in range(len(list(fit.coef_[0]))):\n",
    "    headerstr = X.columns[i]\n",
    "    headerstr = headerstr.split('_')\n",
    "    qID = headerstr[0]+'_'\n",
    "    if qID in features:\n",
    "        features[qID] = np.max([np.abs(fit.coef_[0][i]),features[qID]])\n",
    "    else:\n",
    "        features[qID] = np.abs(fit.coef_[0][i])\n",
    "coef = []\n",
    "for q in q_list:\n",
    "    if q == 'q18698_':\n",
    "        question = \"What is the Ideal Gas Law?\"\n",
    "    else:\n",
    "        question = get_question(df_key,q[:-1]).text.item()\n",
    "    coef.append([features[q],question])\n",
    "coef1 = pd.DataFrame.from_records(sorted(coef))\n",
    "\n",
    "X_train, X_test, y_train, y_test = train_test_split(dataset2.iloc[:,1:],dataset2.iloc[:,0],test_size=0.5)\n",
    "model = LogisticRegression()\n",
    "model.fit(X_train, y_train)\n",
    "fit = model.fit(X_train,y_train)\n",
    "features = {}\n",
    "for i in range(len(list(fit.coef_[0]))):\n",
    "    headerstr = X.columns[i]\n",
    "    headerstr = headerstr.split('_')\n",
    "    qID = headerstr[0]+'_'\n",
    "    if qID in features:\n",
    "        features[qID] = np.max([np.abs(fit.coef_[0][i]),features[qID]])\n",
    "    else:\n",
    "        features[qID] = np.abs(fit.coef_[0][i])\n",
    "coef = []\n",
    "for q in q_list:\n",
    "    if q == 'q18698_':\n",
    "        question = \"What is the Ideal Gas Law?\"\n",
    "    else:\n",
    "        question = get_question(df_key,q[:-1]).text.item()\n",
    "    coef.append([features[q],question])\n",
    "coef2 = pd.DataFrame.from_records(sorted(coef))\n",
    "\n",
    "X_train, X_test, y_train, y_test = train_test_split(dataset3.iloc[:,1:],dataset3.iloc[:,0],test_size=0.5)\n",
    "model = LogisticRegression()\n",
    "model.fit(X_train, y_train)\n",
    "fit = model.fit(X_train,y_train)\n",
    "features = {}\n",
    "for i in range(len(list(fit.coef_[0]))):\n",
    "    headerstr = X.columns[i]\n",
    "    headerstr = headerstr.split('_')\n",
    "    qID = headerstr[0]+'_'\n",
    "    if qID in features:\n",
    "        features[qID] = np.max([np.abs(fit.coef_[0][i]),features[qID]])\n",
    "    else:\n",
    "        features[qID] = np.abs(fit.coef_[0][i])\n",
    "coef = []\n",
    "for q in q_list:\n",
    "    if q == 'q18698_':\n",
    "        question = \"What is the Ideal Gas Law?\"\n",
    "    else:\n",
    "        question = get_question(df_key,q[:-1]).text.item()\n",
    "    coef.append([features[q],question])\n",
    "coef3 = pd.DataFrame.from_records(sorted(coef))"
   ]
  },
  {
   "cell_type": "code",
   "execution_count": 650,
   "metadata": {
    "collapsed": false
   },
   "outputs": [
    {
     "data": {
      "text/html": [
       "<iframe id=\"igraph\" scrolling=\"no\" style=\"border:none;\" seamless=\"seamless\" src=\"https://plot.ly/~bobtian/49.embed\" height=\"525px\" width=\"100%\"></iframe>"
      ],
      "text/plain": [
       "<plotly.tools.PlotlyDisplay object>"
      ]
     },
     "execution_count": 650,
     "metadata": {},
     "output_type": "execute_result"
    }
   ],
   "source": [
    "data0 = Bar(\n",
    "    y=coef0[1],\n",
    "    x=coef0[0],\n",
    "    name='Feature Strength',\n",
    "    orientation = 'h',\n",
    "    marker = dict(\n",
    "        color = 'rgba(58, 71, 80, 0.6)',\n",
    "        line = dict(\n",
    "            color = 'rgba(58, 71, 80, 1.0)',\n",
    "            width = 3)\n",
    "    ),\n",
    "    visible = True\n",
    ")\n",
    "\n",
    "data1 = Bar(\n",
    "    y=coef1[1],\n",
    "    x=coef1[0],\n",
    "    name='Feature Strength',\n",
    "    orientation = 'h',\n",
    "    marker = dict(\n",
    "        color = 'rgba(20, 186, 25, 0.6)',\n",
    "        line = dict(\n",
    "            color = 'rgba(20, 186, 25, 1.0)',\n",
    "            width = 3)\n",
    "    ),\n",
    "    visible = False\n",
    ")\n",
    "\n",
    "data2 = Bar(\n",
    "    y=coef2[1],\n",
    "    x=coef2[0],\n",
    "    name='Feature Strength',\n",
    "    orientation = 'h',\n",
    "    marker = dict(\n",
    "        color = 'rgba(246, 78, 139, 0.6)',\n",
    "        line = dict(\n",
    "            color = 'rgba(246, 78, 139, 1.0)',\n",
    "            width = 3)\n",
    "    ),\n",
    "    visible = False\n",
    ")\n",
    "\n",
    "data3 = Bar(\n",
    "    y=coef3[1],\n",
    "    x=coef3[0],\n",
    "    name='Feature Strength',\n",
    "    orientation = 'h',\n",
    "    marker = dict(\n",
    "        color = 'rgba(58, 71, 246, 0.6)',\n",
    "        line = dict(\n",
    "            color = 'rgba(58, 71, 246, 1.0)',\n",
    "            width = 3)\n",
    "    ),\n",
    "    visible = False\n",
    ")\n",
    "\n",
    "datasetlist = [data0, data1, data2, data3]\n",
    "\n",
    "data = Data(datasetlist)\n",
    "layout = Layout(\n",
    "    updatemenus=list([dict(\n",
    "            x=0,y=1.15,yanchor='top',\n",
    "            buttons=list([dict(args=['visible', [True, False, False, False]], \n",
    "                               label='Male/Female', method='restyle'),\n",
    "                          dict(args=['visible', [False, True, False, False]], \n",
    "                               label='Drug-Use', method='restyle'),\n",
    "                          dict(args=['visible', [False, False, True, False]], \n",
    "                               label='Open-Relationship', method='restyle'),\n",
    "                          dict(args=['visible', [False, False, False, True]], \n",
    "                               label='Googling', method='restyle'),\n",
    "                         ]))\n",
    "                        ]),\n",
    "    \n",
    "    xaxis=dict(\n",
    "        showgrid=False,\n",
    "        showline=False,\n",
    "        showticklabels=True,\n",
    "        zeroline=False,\n",
    "        domain=[0.65, 1]\n",
    "        ),\n",
    "    yaxis=dict(\n",
    "        showgrid=False,\n",
    "        showline=False,\n",
    "        showticklabels=True,\n",
    "        zeroline=False,\n",
    "        ),\n",
    "    barmode='stack',\n",
    "    title = 'Ranking feature strength for each predictor'\n",
    ")\n",
    "\n",
    "fig = Figure(data=data, layout=layout)\n",
    "py.iplot(fig, filename='McNultyBarPlot')"
   ]
  },
  {
   "cell_type": "code",
   "execution_count": null,
   "metadata": {
    "collapsed": true
   },
   "outputs": [],
   "source": []
  }
 ],
 "metadata": {
  "anaconda-cloud": {},
  "kernelspec": {
   "display_name": "Python [conda root]",
   "language": "python",
   "name": "conda-root-py"
  },
  "language_info": {
   "codemirror_mode": {
    "name": "ipython",
    "version": 3
   },
   "file_extension": ".py",
   "mimetype": "text/x-python",
   "name": "python",
   "nbconvert_exporter": "python",
   "pygments_lexer": "ipython3",
   "version": "3.5.2"
  }
 },
 "nbformat": 4,
 "nbformat_minor": 1
}
