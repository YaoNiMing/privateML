{
 "cells": [
  {
   "cell_type": "code",
   "execution_count": null,
   "metadata": {
    "collapsed": false
   },
   "outputs": [],
   "source": [
    "import matplotlib.pyplot as plt\n",
    "import matplotlib.image as mpimg\n",
    "import numpy as np\n",
    "%matplotlib inline"
   ]
  },
  {
   "cell_type": "code",
   "execution_count": null,
   "metadata": {
    "collapsed": false
   },
   "outputs": [],
   "source": [
    "img = mpimg.imread('map.jpg')\n",
    "img.shape"
   ]
  },
  {
   "cell_type": "code",
   "execution_count": null,
   "metadata": {
    "collapsed": true
   },
   "outputs": [],
   "source": [
    "def coord2px(lonlist, latlist):\n",
    "    lat0 = 47.749748\n",
    "    lon0 = -122.467063\n",
    "    lat1 = 47.483141\n",
    "    lon1 = -122.189658\n",
    "\n",
    "    latpx_range = 1154\n",
    "    lonpx_range = 810\n",
    "\n",
    "    lonnp = np.array(lonlist)\n",
    "    latnp = np.array(latlist)\n",
    "\n",
    "    lonpxnp = ((lonnp - lon0)/(lon1 - lon0) * lonpx_range)\n",
    "    latpxnp = ((latnp - lat0)/(lat1 - lat0) * latpx_range)\n",
    "\n",
    "    lonpxlist = [int(lon) for lon in lonpxnp]\n",
    "    latpxlist = [int(lat) for lat in latpxnp]\n",
    "    return lonpxlist, latpxlist\n",
    "    "
   ]
  },
  {
   "cell_type": "code",
   "execution_count": null,
   "metadata": {
    "collapsed": false
   },
   "outputs": [],
   "source": [
    "lonpxlist, latpxlist = coord2px(lonlist, latlist)"
   ]
  },
  {
   "cell_type": "code",
   "execution_count": null,
   "metadata": {
    "collapsed": false
   },
   "outputs": [],
   "source": [
    "img = mpimg.imread('map.jpg')\n",
    "fig, ax = plt.subplots(1, 1, figsize = (15, 15))\n",
    "ax.imshow(img)\n",
    "ax.scatter(lonpxlist, latpxlist, alpha= 0.5, s = 100, c = 'r')"
   ]
  },
  {
   "cell_type": "code",
   "execution_count": null,
   "metadata": {
    "collapsed": true
   },
   "outputs": [],
   "source": []
  }
 ],
 "metadata": {
  "anaconda-cloud": {},
  "kernelspec": {
   "display_name": "Python [Root]",
   "language": "python",
   "name": "Python [Root]"
  },
  "language_info": {
   "codemirror_mode": {
    "name": "ipython",
    "version": 2
   },
   "file_extension": ".py",
   "mimetype": "text/x-python",
   "name": "python",
   "nbconvert_exporter": "python",
   "pygments_lexer": "ipython2",
   "version": "2.7.12"
  }
 },
 "nbformat": 4,
 "nbformat_minor": 0
}
