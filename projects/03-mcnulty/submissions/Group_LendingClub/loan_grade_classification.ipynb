{
 "cells": [
  {
   "cell_type": "code",
   "execution_count": 63,
   "metadata": {
    "collapsed": false
   },
   "outputs": [],
   "source": [
    "import pandas as pd\n",
    "import numpy as np\n",
    "import matplotlib as plt\n",
    "import seaborn as sns\n",
    "import xgboost as xgb\n",
    "import sklearn\n",
    "from sklearn import preprocessing\n",
    "from sklearn.cross_validation import train_test_split\n",
    "from sklearn.decomposition import PCA\n",
    "from sklearn.feature_selection import f_regression, mutual_info_regression\n",
    "from sklearn.feature_selection import mutual_info_regression\n",
    "from sklearn.linear_model import LinearRegression, LogisticRegression\n",
    "from sklearn import cross_validation\n",
    "from sklearn.ensemble import RandomForestRegressor\n",
    "from sklearn import metrics\n",
    "from sklearn.preprocessing import LabelEncoder\n",
    "import pickle\n",
    "\n",
    "\n",
    "%matplotlib inline"
   ]
  },
  {
   "cell_type": "code",
   "execution_count": 41,
   "metadata": {
    "collapsed": false
   },
   "outputs": [
    {
     "name": "stderr",
     "output_type": "stream",
     "text": [
      "/Users/travisjames/anaconda3/lib/python3.5/site-packages/IPython/core/interactiveshell.py:2723: DtypeWarning: Columns (0,19,55) have mixed types. Specify dtype option on import or set low_memory=False.\n",
      "  interactivity=interactivity, compiler=compiler, result=result)\n"
     ]
    }
   ],
   "source": [
    "df = pd.read_csv('LoanStats3d.csv', header=1)"
   ]
  },
  {
   "cell_type": "code",
   "execution_count": 45,
   "metadata": {
    "collapsed": false
   },
   "outputs": [
    {
     "data": {
      "text/html": [
       "<div>\n",
       "<table border=\"1\" class=\"dataframe\">\n",
       "  <thead>\n",
       "    <tr style=\"text-align: right;\">\n",
       "      <th></th>\n",
       "      <th>id</th>\n",
       "      <th>member_id</th>\n",
       "      <th>loan_amnt</th>\n",
       "      <th>funded_amnt</th>\n",
       "      <th>funded_amnt_inv</th>\n",
       "      <th>term</th>\n",
       "      <th>int_rate</th>\n",
       "      <th>installment</th>\n",
       "      <th>grade</th>\n",
       "      <th>sub_grade</th>\n",
       "      <th>...</th>\n",
       "      <th>num_tl_90g_dpd_24m</th>\n",
       "      <th>num_tl_op_past_12m</th>\n",
       "      <th>pct_tl_nvr_dlq</th>\n",
       "      <th>percent_bc_gt_75</th>\n",
       "      <th>pub_rec_bankruptcies</th>\n",
       "      <th>tax_liens</th>\n",
       "      <th>tot_hi_cred_lim</th>\n",
       "      <th>total_bal_ex_mort</th>\n",
       "      <th>total_bc_limit</th>\n",
       "      <th>total_il_high_credit_limit</th>\n",
       "    </tr>\n",
       "  </thead>\n",
       "  <tbody>\n",
       "    <tr>\n",
       "      <th>0</th>\n",
       "      <td>68516507</td>\n",
       "      <td>73406314.0</td>\n",
       "      <td>14000.0</td>\n",
       "      <td>14000.0</td>\n",
       "      <td>14000.0</td>\n",
       "      <td>36 months</td>\n",
       "      <td>9.80%</td>\n",
       "      <td>450.43</td>\n",
       "      <td>B</td>\n",
       "      <td>B3</td>\n",
       "      <td>...</td>\n",
       "      <td>0.0</td>\n",
       "      <td>2.0</td>\n",
       "      <td>100.0</td>\n",
       "      <td>0.0</td>\n",
       "      <td>0.0</td>\n",
       "      <td>0.0</td>\n",
       "      <td>531602.0</td>\n",
       "      <td>84039.0</td>\n",
       "      <td>34500.0</td>\n",
       "      <td>55842.0</td>\n",
       "    </tr>\n",
       "    <tr>\n",
       "      <th>1</th>\n",
       "      <td>68587652</td>\n",
       "      <td>73477494.0</td>\n",
       "      <td>25000.0</td>\n",
       "      <td>25000.0</td>\n",
       "      <td>25000.0</td>\n",
       "      <td>36 months</td>\n",
       "      <td>5.32%</td>\n",
       "      <td>752.87</td>\n",
       "      <td>A</td>\n",
       "      <td>A1</td>\n",
       "      <td>...</td>\n",
       "      <td>0.0</td>\n",
       "      <td>1.0</td>\n",
       "      <td>100.0</td>\n",
       "      <td>0.0</td>\n",
       "      <td>0.0</td>\n",
       "      <td>0.0</td>\n",
       "      <td>512381.0</td>\n",
       "      <td>44786.0</td>\n",
       "      <td>44000.0</td>\n",
       "      <td>51081.0</td>\n",
       "    </tr>\n",
       "    <tr>\n",
       "      <th>2</th>\n",
       "      <td>68009401</td>\n",
       "      <td>72868139.0</td>\n",
       "      <td>16000.0</td>\n",
       "      <td>16000.0</td>\n",
       "      <td>16000.0</td>\n",
       "      <td>60 months</td>\n",
       "      <td>14.85%</td>\n",
       "      <td>379.39</td>\n",
       "      <td>C</td>\n",
       "      <td>C5</td>\n",
       "      <td>...</td>\n",
       "      <td>0.0</td>\n",
       "      <td>2.0</td>\n",
       "      <td>78.9</td>\n",
       "      <td>0.0</td>\n",
       "      <td>0.0</td>\n",
       "      <td>2.0</td>\n",
       "      <td>298100.0</td>\n",
       "      <td>31329.0</td>\n",
       "      <td>281300.0</td>\n",
       "      <td>13400.0</td>\n",
       "    </tr>\n",
       "    <tr>\n",
       "      <th>3</th>\n",
       "      <td>68416935</td>\n",
       "      <td>73306760.0</td>\n",
       "      <td>15000.0</td>\n",
       "      <td>15000.0</td>\n",
       "      <td>15000.0</td>\n",
       "      <td>36 months</td>\n",
       "      <td>9.80%</td>\n",
       "      <td>482.61</td>\n",
       "      <td>B</td>\n",
       "      <td>B3</td>\n",
       "      <td>...</td>\n",
       "      <td>0.0</td>\n",
       "      <td>4.0</td>\n",
       "      <td>100.0</td>\n",
       "      <td>0.0</td>\n",
       "      <td>1.0</td>\n",
       "      <td>0.0</td>\n",
       "      <td>347470.0</td>\n",
       "      <td>53397.0</td>\n",
       "      <td>36100.0</td>\n",
       "      <td>47370.0</td>\n",
       "    </tr>\n",
       "    <tr>\n",
       "      <th>4</th>\n",
       "      <td>68357012</td>\n",
       "      <td>73246847.0</td>\n",
       "      <td>15000.0</td>\n",
       "      <td>15000.0</td>\n",
       "      <td>15000.0</td>\n",
       "      <td>36 months</td>\n",
       "      <td>8.49%</td>\n",
       "      <td>473.45</td>\n",
       "      <td>B</td>\n",
       "      <td>B1</td>\n",
       "      <td>...</td>\n",
       "      <td>0.0</td>\n",
       "      <td>4.0</td>\n",
       "      <td>100.0</td>\n",
       "      <td>20.0</td>\n",
       "      <td>1.0</td>\n",
       "      <td>0.0</td>\n",
       "      <td>369112.0</td>\n",
       "      <td>27849.0</td>\n",
       "      <td>28200.0</td>\n",
       "      <td>21124.0</td>\n",
       "    </tr>\n",
       "  </tbody>\n",
       "</table>\n",
       "<p>5 rows × 111 columns</p>\n",
       "</div>"
      ],
      "text/plain": [
       "         id   member_id  loan_amnt  funded_amnt  funded_amnt_inv        term  \\\n",
       "0  68516507  73406314.0    14000.0      14000.0          14000.0   36 months   \n",
       "1  68587652  73477494.0    25000.0      25000.0          25000.0   36 months   \n",
       "2  68009401  72868139.0    16000.0      16000.0          16000.0   60 months   \n",
       "3  68416935  73306760.0    15000.0      15000.0          15000.0   36 months   \n",
       "4  68357012  73246847.0    15000.0      15000.0          15000.0   36 months   \n",
       "\n",
       "  int_rate  installment grade sub_grade            ...              \\\n",
       "0    9.80%       450.43     B        B3            ...               \n",
       "1    5.32%       752.87     A        A1            ...               \n",
       "2   14.85%       379.39     C        C5            ...               \n",
       "3    9.80%       482.61     B        B3            ...               \n",
       "4    8.49%       473.45     B        B1            ...               \n",
       "\n",
       "  num_tl_90g_dpd_24m num_tl_op_past_12m pct_tl_nvr_dlq  percent_bc_gt_75  \\\n",
       "0                0.0                2.0          100.0               0.0   \n",
       "1                0.0                1.0          100.0               0.0   \n",
       "2                0.0                2.0           78.9               0.0   \n",
       "3                0.0                4.0          100.0               0.0   \n",
       "4                0.0                4.0          100.0              20.0   \n",
       "\n",
       "  pub_rec_bankruptcies tax_liens tot_hi_cred_lim total_bal_ex_mort  \\\n",
       "0                  0.0       0.0        531602.0           84039.0   \n",
       "1                  0.0       0.0        512381.0           44786.0   \n",
       "2                  0.0       2.0        298100.0           31329.0   \n",
       "3                  1.0       0.0        347470.0           53397.0   \n",
       "4                  1.0       0.0        369112.0           27849.0   \n",
       "\n",
       "  total_bc_limit total_il_high_credit_limit  \n",
       "0        34500.0                    55842.0  \n",
       "1        44000.0                    51081.0  \n",
       "2       281300.0                    13400.0  \n",
       "3        36100.0                    47370.0  \n",
       "4        28200.0                    21124.0  \n",
       "\n",
       "[5 rows x 111 columns]"
      ]
     },
     "execution_count": 45,
     "metadata": {},
     "output_type": "execute_result"
    }
   ],
   "source": [
    "df.head()"
   ]
  },
  {
   "cell_type": "code",
   "execution_count": 51,
   "metadata": {
    "collapsed": false
   },
   "outputs": [],
   "source": [
    "df_new = df[['int_rate', 'grade']]"
   ]
  },
  {
   "cell_type": "code",
   "execution_count": 66,
   "metadata": {
    "collapsed": false
   },
   "outputs": [],
   "source": [
    "X_grade = df_new['grade'].astype(str)"
   ]
  },
  {
   "cell_type": "code",
   "execution_count": 67,
   "metadata": {
    "collapsed": false
   },
   "outputs": [],
   "source": [
    "enc = LabelEncoder()\n",
    "X_grade = enc.fit_transform(X_grade)"
   ]
  },
  {
   "cell_type": "code",
   "execution_count": 68,
   "metadata": {
    "collapsed": false
   },
   "outputs": [
    {
     "name": "stderr",
     "output_type": "stream",
     "text": [
      "/Users/travisjames/anaconda3/lib/python3.5/site-packages/ipykernel/__main__.py:1: SettingWithCopyWarning: \n",
      "A value is trying to be set on a copy of a slice from a DataFrame.\n",
      "Try using .loc[row_indexer,col_indexer] = value instead\n",
      "\n",
      "See the caveats in the documentation: http://pandas.pydata.org/pandas-docs/stable/indexing.html#indexing-view-versus-copy\n",
      "  if __name__ == '__main__':\n"
     ]
    }
   ],
   "source": [
    "df_new['grade'] = X_grade"
   ]
  },
  {
   "cell_type": "code",
   "execution_count": 71,
   "metadata": {
    "collapsed": false
   },
   "outputs": [
    {
     "name": "stderr",
     "output_type": "stream",
     "text": [
      "/Users/travisjames/anaconda3/lib/python3.5/site-packages/ipykernel/__main__.py:1: SettingWithCopyWarning: \n",
      "A value is trying to be set on a copy of a slice from a DataFrame.\n",
      "Try using .loc[row_indexer,col_indexer] = value instead\n",
      "\n",
      "See the caveats in the documentation: http://pandas.pydata.org/pandas-docs/stable/indexing.html#indexing-view-versus-copy\n",
      "  if __name__ == '__main__':\n"
     ]
    }
   ],
   "source": [
    "df_new['int_rate'] = df_new['int_rate'].replace('%', '', regex=True)"
   ]
  },
  {
   "cell_type": "code",
   "execution_count": 72,
   "metadata": {
    "collapsed": false
   },
   "outputs": [
    {
     "name": "stderr",
     "output_type": "stream",
     "text": [
      "/Users/travisjames/anaconda3/lib/python3.5/site-packages/ipykernel/__main__.py:1: SettingWithCopyWarning: \n",
      "A value is trying to be set on a copy of a slice from a DataFrame.\n",
      "Try using .loc[row_indexer,col_indexer] = value instead\n",
      "\n",
      "See the caveats in the documentation: http://pandas.pydata.org/pandas-docs/stable/indexing.html#indexing-view-versus-copy\n",
      "  if __name__ == '__main__':\n"
     ]
    }
   ],
   "source": [
    "df_new['int_rate'] = df_new['int_rate'].astype(float)"
   ]
  },
  {
   "cell_type": "code",
   "execution_count": 73,
   "metadata": {
    "collapsed": false
   },
   "outputs": [
    {
     "data": {
      "text/html": [
       "<div>\n",
       "<table border=\"1\" class=\"dataframe\">\n",
       "  <thead>\n",
       "    <tr style=\"text-align: right;\">\n",
       "      <th></th>\n",
       "      <th>int_rate</th>\n",
       "      <th>grade</th>\n",
       "    </tr>\n",
       "  </thead>\n",
       "  <tbody>\n",
       "    <tr>\n",
       "      <th>int_rate</th>\n",
       "      <td>1.000000</td>\n",
       "      <td>0.972247</td>\n",
       "    </tr>\n",
       "    <tr>\n",
       "      <th>grade</th>\n",
       "      <td>0.972247</td>\n",
       "      <td>1.000000</td>\n",
       "    </tr>\n",
       "  </tbody>\n",
       "</table>\n",
       "</div>"
      ],
      "text/plain": [
       "          int_rate     grade\n",
       "int_rate  1.000000  0.972247\n",
       "grade     0.972247  1.000000"
      ]
     },
     "execution_count": 73,
     "metadata": {},
     "output_type": "execute_result"
    }
   ],
   "source": [
    "df_new.corr()"
   ]
  },
  {
   "cell_type": "code",
   "execution_count": 7,
   "metadata": {
    "collapsed": true
   },
   "outputs": [],
   "source": [
    "col_drop = ['total_cu_tl', 'max_bal_bc', 'open_il_24m', 'open_il_12m', 'open_il_6m',\n",
    "            'open_acc_6m', 'open_rv_24m', 'inq_last_12m', 'open_rv_12m', \n",
    "            'mths_since_recent_bc_dlq', 'mths_since_last_major_derog', \n",
    "            'mths_since_recent_revol_delinq', 'mths_since_last_delinq',\n",
    "            'dti_joint','id', 'desc', 'verification_status_joint', 'mths_since_last_delinq', \n",
    "            'mths_since_last_record','annual_inc_joint','il_util','mths_since_rcnt_il',\n",
    "            'all_util','total_bal_il','inq_fi','total_cu_tl','next_pymnt_d',\n",
    "            'mths_since_recent_inq','emp_title','sub_grade','id','member_id',\n",
    "            'url','title','zip_code'\n",
    "           ]"
   ]
  },
  {
   "cell_type": "code",
   "execution_count": 8,
   "metadata": {
    "collapsed": false
   },
   "outputs": [],
   "source": [
    "df2 = df.drop(col_drop, axis=1)"
   ]
  },
  {
   "cell_type": "code",
   "execution_count": 10,
   "metadata": {
    "collapsed": false
   },
   "outputs": [
    {
     "data": {
      "text/plain": [
       "num_tl_120dpd_2m              19232\n",
       "mo_sin_old_il_acct            12256\n",
       "percent_bc_gt_75               4241\n",
       "bc_util                        4229\n",
       "bc_open_to_buy                 3965\n",
       "mths_since_recent_bc           3800\n",
       "last_pymnt_d                    296\n",
       "revol_util                      164\n",
       "last_credit_pull_d               10\n",
       "num_rev_accts                     3\n",
       "installment                       2\n",
       "out_prncp                         2\n",
       "revol_bal                         2\n",
       "funded_amnt_inv                   2\n",
       "funded_amnt                       2\n",
       "total_acc                         2\n",
       "initial_list_status               2\n",
       "total_pymnt                       2\n",
       "out_prncp_inv                     2\n",
       "pub_rec                           2\n",
       "total_pymnt_inv                   2\n",
       "total_rec_prncp                   2\n",
       "total_rec_int                     2\n",
       "total_rec_late_fee                2\n",
       "recoveries                        2\n",
       "term                              2\n",
       "open_acc                          2\n",
       "grade                             2\n",
       "loan_status                       2\n",
       "emp_length                        2\n",
       "                              ...  \n",
       "num_il_tl                         2\n",
       "num_op_rev_tl                     2\n",
       "num_rev_tl_bal_gt_0               2\n",
       "num_sats                          2\n",
       "num_tl_90g_dpd_24m                2\n",
       "collections_12_mths_ex_med        2\n",
       "num_tl_op_past_12m                2\n",
       "pct_tl_nvr_dlq                    2\n",
       "pub_rec_bankruptcies              2\n",
       "tax_liens                         2\n",
       "tot_hi_cred_lim                   2\n",
       "total_bal_ex_mort                 2\n",
       "num_actv_rev_tl                   2\n",
       "num_actv_bc_tl                    2\n",
       "num_accts_ever_120_pd             2\n",
       "mort_acc                          2\n",
       "mo_sin_rcnt_tl                    2\n",
       "mo_sin_rcnt_rev_tl_op             2\n",
       "mo_sin_old_rev_tl_op              2\n",
       "delinq_amnt                       2\n",
       "chargeoff_within_12_mths          2\n",
       "avg_cur_bal                       2\n",
       "acc_open_past_24mths              2\n",
       "total_rev_hi_lim                  2\n",
       "tot_cur_bal                       2\n",
       "tot_coll_amt                      2\n",
       "acc_now_delinq                    2\n",
       "application_type                  2\n",
       "total_bc_limit                    2\n",
       "loan_amnt                         2\n",
       "dtype: int64"
      ]
     },
     "execution_count": 10,
     "metadata": {},
     "output_type": "execute_result"
    }
   ],
   "source": [
    "df2.isnull().sum().sort_values(ascending = False)"
   ]
  },
  {
   "cell_type": "code",
   "execution_count": 12,
   "metadata": {
    "collapsed": true
   },
   "outputs": [],
   "source": [
    "df3 = df2.dropna()"
   ]
  },
  {
   "cell_type": "code",
   "execution_count": 14,
   "metadata": {
    "collapsed": false
   },
   "outputs": [],
   "source": [
    "y = df3['grade']\n",
    "X = df3.drop('grade', axis=1)"
   ]
  },
  {
   "cell_type": "code",
   "execution_count": 15,
   "metadata": {
    "collapsed": true
   },
   "outputs": [],
   "source": [
    "X['int_rate'] = X['int_rate'].replace('%', '', regex=True)\n",
    "X['int_rate'] = X['int_rate'].astype(float)"
   ]
  },
  {
   "cell_type": "code",
   "execution_count": 16,
   "metadata": {
    "collapsed": false
   },
   "outputs": [],
   "source": [
    "X['term'] = X['term'].replace(' months', '', regex=True)\n",
    "X['term'] = X['term'].astype(float)"
   ]
  },
  {
   "cell_type": "code",
   "execution_count": 20,
   "metadata": {
    "collapsed": false
   },
   "outputs": [
    {
     "name": "stdout",
     "output_type": "stream",
     "text": [
      "[ 0.01100968  0.01067383  0.01061551 ...,  0.00018315  0.00144832\n",
      "  0.00011848]\n"
     ]
    }
   ],
   "source": [
    "# Feature Importance\n",
    "from sklearn import datasets\n",
    "from sklearn import metrics\n",
    "from sklearn.ensemble import ExtraTreesClassifier\n",
    "\n",
    "# fit an Extra Trees model to the data\n",
    "model = ExtraTreesClassifier()\n",
    "model.fit(X_dummied, y)\n",
    "# display the relative importance of each attribute\n",
    "print(model.feature_importances_)"
   ]
  },
  {
   "cell_type": "code",
   "execution_count": 22,
   "metadata": {
    "collapsed": true
   },
   "outputs": [],
   "source": [
    "df_features = pd.DataFrame(model.feature_importances_)"
   ]
  },
  {
   "cell_type": "code",
   "execution_count": 30,
   "metadata": {
    "collapsed": false
   },
   "outputs": [],
   "source": [
    "#4,19,3,5,18,57,33,32,23,62\n",
    "X_new = X[['term','installment',\n",
    "                   'bc_util', 'dti', 'loan_amnt',\n",
    "          'num_tl_op_past_12m']]\n"
   ]
  },
  {
   "cell_type": "code",
   "execution_count": 40,
   "metadata": {
    "collapsed": false
   },
   "outputs": [
    {
     "data": {
      "text/html": [
       "<div>\n",
       "<table border=\"1\" class=\"dataframe\">\n",
       "  <thead>\n",
       "    <tr style=\"text-align: right;\">\n",
       "      <th></th>\n",
       "      <th>term</th>\n",
       "      <th>installment</th>\n",
       "      <th>bc_util</th>\n",
       "      <th>dti</th>\n",
       "      <th>loan_amnt</th>\n",
       "      <th>num_tl_op_past_12m</th>\n",
       "    </tr>\n",
       "  </thead>\n",
       "  <tbody>\n",
       "    <tr>\n",
       "      <th>0</th>\n",
       "      <td>36.0</td>\n",
       "      <td>450.43</td>\n",
       "      <td>36.1</td>\n",
       "      <td>15.97</td>\n",
       "      <td>14000.0</td>\n",
       "      <td>2.0</td>\n",
       "    </tr>\n",
       "    <tr>\n",
       "      <th>1</th>\n",
       "      <td>36.0</td>\n",
       "      <td>752.87</td>\n",
       "      <td>44.0</td>\n",
       "      <td>9.54</td>\n",
       "      <td>25000.0</td>\n",
       "      <td>1.0</td>\n",
       "    </tr>\n",
       "    <tr>\n",
       "      <th>2</th>\n",
       "      <td>60.0</td>\n",
       "      <td>379.39</td>\n",
       "      <td>17.6</td>\n",
       "      <td>33.18</td>\n",
       "      <td>16000.0</td>\n",
       "      <td>2.0</td>\n",
       "    </tr>\n",
       "    <tr>\n",
       "      <th>3</th>\n",
       "      <td>36.0</td>\n",
       "      <td>482.61</td>\n",
       "      <td>35.2</td>\n",
       "      <td>13.89</td>\n",
       "      <td>15000.0</td>\n",
       "      <td>4.0</td>\n",
       "    </tr>\n",
       "    <tr>\n",
       "      <th>4</th>\n",
       "      <td>36.0</td>\n",
       "      <td>473.45</td>\n",
       "      <td>62.9</td>\n",
       "      <td>13.24</td>\n",
       "      <td>15000.0</td>\n",
       "      <td>4.0</td>\n",
       "    </tr>\n",
       "  </tbody>\n",
       "</table>\n",
       "</div>"
      ],
      "text/plain": [
       "   term  installment  bc_util    dti  loan_amnt  num_tl_op_past_12m\n",
       "0  36.0       450.43     36.1  15.97    14000.0                 2.0\n",
       "1  36.0       752.87     44.0   9.54    25000.0                 1.0\n",
       "2  60.0       379.39     17.6  33.18    16000.0                 2.0\n",
       "3  36.0       482.61     35.2  13.89    15000.0                 4.0\n",
       "4  36.0       473.45     62.9  13.24    15000.0                 4.0"
      ]
     },
     "execution_count": 40,
     "metadata": {},
     "output_type": "execute_result"
    }
   ],
   "source": [
    "X_new.head()"
   ]
  },
  {
   "cell_type": "code",
   "execution_count": 31,
   "metadata": {
    "collapsed": false
   },
   "outputs": [],
   "source": [
    "X_train, X_test, y_train, y_test = cross_validation.train_test_split(X_new, y, test_size = 0.3, stratify = y, random_state=0)\n"
   ]
  },
  {
   "cell_type": "code",
   "execution_count": 32,
   "metadata": {
    "collapsed": false
   },
   "outputs": [],
   "source": [
    "gbm = xgb.XGBClassifier(max_depth = 2, n_estimators=200, learning_rate=0.1).fit(X_train, y_train)"
   ]
  },
  {
   "cell_type": "code",
   "execution_count": 33,
   "metadata": {
    "collapsed": false
   },
   "outputs": [
    {
     "name": "stdout",
     "output_type": "stream",
     "text": [
      "0.566599538458\n"
     ]
    }
   ],
   "source": [
    "predictions = gbm.predict(X_test)\n",
    "print(gbm.score(X_test, y_test))"
   ]
  },
  {
   "cell_type": "code",
   "execution_count": 36,
   "metadata": {
    "collapsed": false
   },
   "outputs": [
    {
     "data": {
      "text/plain": [
       "array([[12991,  6844,  1122,     5,     0,     0,     0],\n",
       "       [ 4784, 21729,  5811,   171,    12,     0,     0],\n",
       "       [ 2522,  6835, 22166,  1042,   191,     0,     0],\n",
       "       [  883,  3458,  6816,  4912,   686,     0,     0],\n",
       "       [  213,  1064,  3172,  1730,  3275,    19,     0],\n",
       "       [   26,   104,   708,   447,   943,   417,     4],\n",
       "       [    3,    22,   104,    73,   226,   104,    65]])"
      ]
     },
     "execution_count": 36,
     "metadata": {},
     "output_type": "execute_result"
    }
   ],
   "source": [
    "metrics.confusion_matrix(y_test, predictions)"
   ]
  },
  {
   "cell_type": "code",
   "execution_count": 39,
   "metadata": {
    "collapsed": false
   },
   "outputs": [],
   "source": [
    "with open('loan_app/models/loan_grade.pkl', 'wb') as picklefile:\n",
    "    pickle.dump(gbm, picklefile)"
   ]
  },
  {
   "cell_type": "code",
   "execution_count": null,
   "metadata": {
    "collapsed": true
   },
   "outputs": [],
   "source": []
  }
 ],
 "metadata": {
  "anaconda-cloud": {},
  "kernelspec": {
   "display_name": "Python [Root]",
   "language": "python",
   "name": "Python [Root]"
  },
  "language_info": {
   "codemirror_mode": {
    "name": "ipython",
    "version": 3
   },
   "file_extension": ".py",
   "mimetype": "text/x-python",
   "name": "python",
   "nbconvert_exporter": "python",
   "pygments_lexer": "ipython3",
   "version": "3.5.2"
  }
 },
 "nbformat": 4,
 "nbformat_minor": 0
}
