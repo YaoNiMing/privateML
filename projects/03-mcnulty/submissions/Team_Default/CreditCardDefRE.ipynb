{
 "cells": [
  {
   "cell_type": "code",
   "execution_count": 1,
   "metadata": {
    "collapsed": false
   },
   "outputs": [
    {
     "name": "stderr",
     "output_type": "stream",
     "text": [
      "/Users/Sam/anaconda2/lib/python2.7/site-packages/sklearn/cross_validation.py:44: DeprecationWarning: This module was deprecated in version 0.18 in favor of the model_selection module into which all the refactored classes and functions are moved. Also note that the interface of the new CV iterators are different from that of this module. This module will be removed in 0.20.\n",
      "  \"This module will be removed in 0.20.\", DeprecationWarning)\n",
      "/Users/Sam/anaconda2/lib/python2.7/site-packages/sklearn/learning_curve.py:23: DeprecationWarning: This module was deprecated in version 0.18 in favor of the model_selection module into which all the functions are moved. This module will be removed in 0.20\n",
      "  DeprecationWarning)\n"
     ]
    }
   ],
   "source": [
    "import numpy as np\n",
    "import pandas as pd\n",
    "import os\n",
    "from sklearn.model_selection import train_test_split\n",
    "from sklearn.metrics import accuracy_score\n",
    "from sklearn.externals import joblib\n",
    "from sklearn.metrics import recall_score\n",
    "from sklearn.metrics import precision_score\n",
    "from sklearn.metrics import confusion_matrix\n",
    "\n",
    "\n",
    "from sklearn.neighbors import KNeighborsClassifier\n",
    "from sklearn.linear_model import LogisticRegression\n",
    "from sklearn.learning_curve import learning_curve\n",
    "from sklearn.naive_bayes import GaussianNB\n",
    "from sklearn.svm import SVC\n",
    "from sklearn.tree import DecisionTreeClassifier\n",
    "from sklearn.ensemble import RandomForestClassifier\n",
    "from sklearn.metrics import confusion_matrix\n",
    "from sklearn.metrics import precision_recall_curve\n",
    "import matplotlib.pyplot as plt\n",
    "from sklearn.ensemble import GradientBoostingClassifier\n",
    "%matplotlib inline"
   ]
  },
  {
   "cell_type": "code",
   "execution_count": 2,
   "metadata": {
    "collapsed": false
   },
   "outputs": [],
   "source": [
    "df = pd.read_csv('default_of_credit_card_clients.csv')\n",
    "df = df.dropna()"
   ]
  },
  {
   "cell_type": "code",
   "execution_count": 3,
   "metadata": {
    "collapsed": false
   },
   "outputs": [],
   "source": [
    "df = df.drop('ID', axis = 1)"
   ]
  },
  {
   "cell_type": "code",
   "execution_count": 4,
   "metadata": {
    "collapsed": false
   },
   "outputs": [
    {
     "data": {
      "text/html": [
       "<div>\n",
       "<table border=\"1\" class=\"dataframe\">\n",
       "  <thead>\n",
       "    <tr style=\"text-align: right;\">\n",
       "      <th></th>\n",
       "      <th>LIMIT_BAL</th>\n",
       "      <th>SEX</th>\n",
       "      <th>EDUCATION</th>\n",
       "      <th>MARRIAGE</th>\n",
       "      <th>AGE</th>\n",
       "      <th>PAY_0</th>\n",
       "      <th>PAY_2</th>\n",
       "      <th>PAY_3</th>\n",
       "      <th>PAY_4</th>\n",
       "      <th>PAY_5</th>\n",
       "      <th>...</th>\n",
       "      <th>BILL_AMT4</th>\n",
       "      <th>BILL_AMT5</th>\n",
       "      <th>BILL_AMT6</th>\n",
       "      <th>PAY_AMT1</th>\n",
       "      <th>PAY_AMT2</th>\n",
       "      <th>PAY_AMT3</th>\n",
       "      <th>PAY_AMT4</th>\n",
       "      <th>PAY_AMT5</th>\n",
       "      <th>PAY_AMT6</th>\n",
       "      <th>default payment next month</th>\n",
       "    </tr>\n",
       "  </thead>\n",
       "  <tbody>\n",
       "    <tr>\n",
       "      <th>0</th>\n",
       "      <td>20000.0</td>\n",
       "      <td>2.0</td>\n",
       "      <td>2.0</td>\n",
       "      <td>1.0</td>\n",
       "      <td>24.0</td>\n",
       "      <td>2.0</td>\n",
       "      <td>2.0</td>\n",
       "      <td>-1.0</td>\n",
       "      <td>-1.0</td>\n",
       "      <td>-2.0</td>\n",
       "      <td>...</td>\n",
       "      <td>0.0</td>\n",
       "      <td>0.0</td>\n",
       "      <td>0.0</td>\n",
       "      <td>0.0</td>\n",
       "      <td>689.0</td>\n",
       "      <td>0.0</td>\n",
       "      <td>0.0</td>\n",
       "      <td>0.0</td>\n",
       "      <td>0.0</td>\n",
       "      <td>1.0</td>\n",
       "    </tr>\n",
       "    <tr>\n",
       "      <th>1</th>\n",
       "      <td>120000.0</td>\n",
       "      <td>2.0</td>\n",
       "      <td>2.0</td>\n",
       "      <td>2.0</td>\n",
       "      <td>26.0</td>\n",
       "      <td>-1.0</td>\n",
       "      <td>2.0</td>\n",
       "      <td>0.0</td>\n",
       "      <td>0.0</td>\n",
       "      <td>0.0</td>\n",
       "      <td>...</td>\n",
       "      <td>3272.0</td>\n",
       "      <td>3455.0</td>\n",
       "      <td>3261.0</td>\n",
       "      <td>0.0</td>\n",
       "      <td>1000.0</td>\n",
       "      <td>1000.0</td>\n",
       "      <td>1000.0</td>\n",
       "      <td>0.0</td>\n",
       "      <td>2000.0</td>\n",
       "      <td>1.0</td>\n",
       "    </tr>\n",
       "    <tr>\n",
       "      <th>2</th>\n",
       "      <td>90000.0</td>\n",
       "      <td>2.0</td>\n",
       "      <td>2.0</td>\n",
       "      <td>2.0</td>\n",
       "      <td>34.0</td>\n",
       "      <td>0.0</td>\n",
       "      <td>0.0</td>\n",
       "      <td>0.0</td>\n",
       "      <td>0.0</td>\n",
       "      <td>0.0</td>\n",
       "      <td>...</td>\n",
       "      <td>14331.0</td>\n",
       "      <td>14948.0</td>\n",
       "      <td>15549.0</td>\n",
       "      <td>1518.0</td>\n",
       "      <td>1500.0</td>\n",
       "      <td>1000.0</td>\n",
       "      <td>1000.0</td>\n",
       "      <td>1000.0</td>\n",
       "      <td>5000.0</td>\n",
       "      <td>0.0</td>\n",
       "    </tr>\n",
       "    <tr>\n",
       "      <th>3</th>\n",
       "      <td>50000.0</td>\n",
       "      <td>2.0</td>\n",
       "      <td>2.0</td>\n",
       "      <td>1.0</td>\n",
       "      <td>37.0</td>\n",
       "      <td>0.0</td>\n",
       "      <td>0.0</td>\n",
       "      <td>0.0</td>\n",
       "      <td>0.0</td>\n",
       "      <td>0.0</td>\n",
       "      <td>...</td>\n",
       "      <td>28314.0</td>\n",
       "      <td>28959.0</td>\n",
       "      <td>29547.0</td>\n",
       "      <td>2000.0</td>\n",
       "      <td>2019.0</td>\n",
       "      <td>1200.0</td>\n",
       "      <td>1100.0</td>\n",
       "      <td>1069.0</td>\n",
       "      <td>1000.0</td>\n",
       "      <td>0.0</td>\n",
       "    </tr>\n",
       "    <tr>\n",
       "      <th>4</th>\n",
       "      <td>50000.0</td>\n",
       "      <td>1.0</td>\n",
       "      <td>2.0</td>\n",
       "      <td>1.0</td>\n",
       "      <td>57.0</td>\n",
       "      <td>-1.0</td>\n",
       "      <td>0.0</td>\n",
       "      <td>-1.0</td>\n",
       "      <td>0.0</td>\n",
       "      <td>0.0</td>\n",
       "      <td>...</td>\n",
       "      <td>20940.0</td>\n",
       "      <td>19146.0</td>\n",
       "      <td>19131.0</td>\n",
       "      <td>2000.0</td>\n",
       "      <td>36681.0</td>\n",
       "      <td>10000.0</td>\n",
       "      <td>9000.0</td>\n",
       "      <td>689.0</td>\n",
       "      <td>679.0</td>\n",
       "      <td>0.0</td>\n",
       "    </tr>\n",
       "  </tbody>\n",
       "</table>\n",
       "<p>5 rows × 24 columns</p>\n",
       "</div>"
      ],
      "text/plain": [
       "   LIMIT_BAL  SEX  EDUCATION  MARRIAGE   AGE  PAY_0  PAY_2  PAY_3  PAY_4  \\\n",
       "0    20000.0  2.0        2.0       1.0  24.0    2.0    2.0   -1.0   -1.0   \n",
       "1   120000.0  2.0        2.0       2.0  26.0   -1.0    2.0    0.0    0.0   \n",
       "2    90000.0  2.0        2.0       2.0  34.0    0.0    0.0    0.0    0.0   \n",
       "3    50000.0  2.0        2.0       1.0  37.0    0.0    0.0    0.0    0.0   \n",
       "4    50000.0  1.0        2.0       1.0  57.0   -1.0    0.0   -1.0    0.0   \n",
       "\n",
       "   PAY_5             ...              BILL_AMT4  BILL_AMT5  BILL_AMT6  \\\n",
       "0   -2.0             ...                    0.0        0.0        0.0   \n",
       "1    0.0             ...                 3272.0     3455.0     3261.0   \n",
       "2    0.0             ...                14331.0    14948.0    15549.0   \n",
       "3    0.0             ...                28314.0    28959.0    29547.0   \n",
       "4    0.0             ...                20940.0    19146.0    19131.0   \n",
       "\n",
       "   PAY_AMT1  PAY_AMT2  PAY_AMT3  PAY_AMT4  PAY_AMT5  PAY_AMT6  \\\n",
       "0       0.0     689.0       0.0       0.0       0.0       0.0   \n",
       "1       0.0    1000.0    1000.0    1000.0       0.0    2000.0   \n",
       "2    1518.0    1500.0    1000.0    1000.0    1000.0    5000.0   \n",
       "3    2000.0    2019.0    1200.0    1100.0    1069.0    1000.0   \n",
       "4    2000.0   36681.0   10000.0    9000.0     689.0     679.0   \n",
       "\n",
       "   default payment next month  \n",
       "0                         1.0  \n",
       "1                         1.0  \n",
       "2                         0.0  \n",
       "3                         0.0  \n",
       "4                         0.0  \n",
       "\n",
       "[5 rows x 24 columns]"
      ]
     },
     "execution_count": 4,
     "metadata": {},
     "output_type": "execute_result"
    }
   ],
   "source": [
    "df.head()"
   ]
  },
  {
   "cell_type": "code",
   "execution_count": 5,
   "metadata": {
    "collapsed": true
   },
   "outputs": [],
   "source": [
    "df['default payment next month'] = df['default payment next month'].replace(to_replace=0, value=\"Paid\")\n",
    "df['default payment next month'] = df['default payment next month'].replace(to_replace=1, value=\"Default\")\n",
    "target_names = [\"Default\", \"Paid\"]"
   ]
  },
  {
   "cell_type": "markdown",
   "metadata": {
    "collapsed": true
   },
   "source": [
    "# Feature Scaling Limit Balance"
   ]
  },
  {
   "cell_type": "code",
   "execution_count": 6,
   "metadata": {
    "collapsed": false
   },
   "outputs": [],
   "source": [
    "df['LIMIT_BAL'] = df['LIMIT_BAL']/1000"
   ]
  },
  {
   "cell_type": "markdown",
   "metadata": {},
   "source": [
    "# Feature Selection"
   ]
  },
  {
   "cell_type": "code",
   "execution_count": 7,
   "metadata": {
    "collapsed": true
   },
   "outputs": [],
   "source": [
    "def onefeature(model, name):\n",
    "    arr = []\n",
    "    X_feature = df[[name]]\n",
    "    X_train, X_test, y_train, y_test = train_test_split(X_feature, target, test_size = 0.3, random_state = 42)\n",
    "    modelfit = model.fit(X_train, y_train)\n",
    "    modely_pred = modelfit.predict(X_test)\n",
    "    arr.append(round(accuracy_score(y_test, modely_pred),3))\n",
    "    arr.append(round(recall_score(y_test, modely_pred, labels = [\"Paid\", \"Default\"], pos_label= \"Default\"),3))\n",
    "    arr.append(round(precision_score(y_test, modely_pred, labels = [\"Paid\", \"Default\"], pos_label = \"Default\"),3))\n",
    "    return arr"
   ]
  },
  {
   "cell_type": "code",
   "execution_count": 8,
   "metadata": {
    "collapsed": false
   },
   "outputs": [],
   "source": [
    "colnames = df.columns.tolist()\n",
    "colnames.pop()\n",
    "target = df['default payment next month']"
   ]
  },
  {
   "cell_type": "code",
   "execution_count": 9,
   "metadata": {
    "collapsed": false
   },
   "outputs": [],
   "source": [
    "onemodel = KNeighborsClassifier()"
   ]
  },
  {
   "cell_type": "code",
   "execution_count": 10,
   "metadata": {
    "collapsed": false
   },
   "outputs": [
    {
     "name": "stdout",
     "output_type": "stream",
     "text": [
      "LIMIT_BAL\n",
      "[0.759, 0.105, 0.334]\n",
      "SEX\n"
     ]
    },
    {
     "name": "stderr",
     "output_type": "stream",
     "text": [
      "/Users/Sam/anaconda2/lib/python2.7/site-packages/sklearn/metrics/classification.py:1113: UndefinedMetricWarning: Precision is ill-defined and being set to 0.0 due to no predicted samples.\n",
      "  'precision', 'predicted', average, warn_for)\n"
     ]
    },
    {
     "name": "stdout",
     "output_type": "stream",
     "text": [
      "[0.782, 0.0, 0.0]\n",
      "EDUCATION\n",
      "[0.782, 0.0, 0.0]\n",
      "MARRIAGE\n",
      "[0.782, 0.0, 0.0]\n",
      "AGE\n",
      "[0.746, 0.07, 0.228]\n",
      "PAY_0\n",
      "[0.782, 0.009, 0.45]\n",
      "PAY_2\n",
      "[0.79, 0.32, 0.531]\n",
      "PAY_3\n",
      "[0.437, 0.736, 0.241]\n",
      "PAY_4\n",
      "[0.786, 0.265, 0.515]\n",
      "PAY_5\n",
      "[0.792, 0.249, 0.55]\n",
      "PAY_6\n",
      "[0.787, 0.238, 0.522]\n",
      "BILL_AMT1\n",
      "[0.742, 0.097, 0.256]\n",
      "BILL_AMT2\n",
      "[0.745, 0.082, 0.246]\n",
      "BILL_AMT3\n",
      "[0.743, 0.076, 0.227]\n",
      "BILL_AMT4\n",
      "[0.744, 0.073, 0.229]\n",
      "BILL_AMT5\n",
      "[0.748, 0.078, 0.25]\n",
      "BILL_AMT6\n",
      "[0.75, 0.082, 0.264]\n",
      "PAY_AMT1\n",
      "[0.765, 0.036, 0.237]\n",
      "PAY_AMT2\n",
      "[0.744, 0.051, 0.183]\n",
      "PAY_AMT3\n",
      "[0.764, 0.039, 0.242]\n",
      "PAY_AMT4\n",
      "[0.755, 0.044, 0.206]\n",
      "PAY_AMT5\n",
      "[0.763, 0.034, 0.218]\n",
      "PAY_AMT6\n",
      "[0.648, 0.412, 0.286]\n"
     ]
    }
   ],
   "source": [
    "for title in colnames:\n",
    "    print title\n",
    "    print onefeature(onemodel, title)"
   ]
  },
  {
   "cell_type": "markdown",
   "metadata": {},
   "source": [
    "# Model Exploration"
   ]
  },
  {
   "cell_type": "code",
   "execution_count": 11,
   "metadata": {
    "collapsed": false
   },
   "outputs": [],
   "source": [
    "#makes the percentage columns I was talking about\n",
    "def percent_maker(df):\n",
    "    for i in range(1,7):\n",
    "        df[('pct_paid_{}'.format(i))] = df[('PAY_AMT{}'.format(i))] / df[('BILL_AMT{}'.format(i))]\n",
    "\n",
    "percent_maker(df)\n",
    "\n",
    "#replaces null and infinite values\n",
    "df = df.replace({None:0, np.inf:1})\n",
    "\n",
    "#new X features for modeling...\n",
    "X = df[['LIMIT_BAL', 'SEX', 'EDUCATION', 'MARRIAGE', 'AGE','pct_paid_1', 'pct_paid_2', 'pct_paid_3',\n",
    "       'pct_paid_4', 'pct_paid_5', 'pct_paid_6']]\n",
    "\n",
    "target = df['default payment next month']"
   ]
  },
  {
   "cell_type": "code",
   "execution_count": 12,
   "metadata": {
    "collapsed": true
   },
   "outputs": [],
   "source": [
    "X_train, X_test, y_train, y_test = train_test_split(X, target, test_size = 0.3, random_state = 42)"
   ]
  },
  {
   "cell_type": "code",
   "execution_count": 13,
   "metadata": {
    "collapsed": false
   },
   "outputs": [
    {
     "data": {
      "text/html": [
       "<div>\n",
       "<table border=\"1\" class=\"dataframe\">\n",
       "  <thead>\n",
       "    <tr style=\"text-align: right;\">\n",
       "      <th></th>\n",
       "      <th>LIMIT_BAL</th>\n",
       "      <th>SEX</th>\n",
       "      <th>EDUCATION</th>\n",
       "      <th>MARRIAGE</th>\n",
       "      <th>AGE</th>\n",
       "      <th>pct_paid_1</th>\n",
       "      <th>pct_paid_2</th>\n",
       "      <th>pct_paid_3</th>\n",
       "      <th>pct_paid_4</th>\n",
       "      <th>pct_paid_5</th>\n",
       "      <th>pct_paid_6</th>\n",
       "    </tr>\n",
       "  </thead>\n",
       "  <tbody>\n",
       "    <tr>\n",
       "      <th>0</th>\n",
       "      <td>20.0</td>\n",
       "      <td>2.0</td>\n",
       "      <td>2.0</td>\n",
       "      <td>1.0</td>\n",
       "      <td>24.0</td>\n",
       "      <td>0.000000</td>\n",
       "      <td>0.222115</td>\n",
       "      <td>0.000000</td>\n",
       "      <td>0.000000</td>\n",
       "      <td>0.000000</td>\n",
       "      <td>0.000000</td>\n",
       "    </tr>\n",
       "    <tr>\n",
       "      <th>1</th>\n",
       "      <td>120.0</td>\n",
       "      <td>2.0</td>\n",
       "      <td>2.0</td>\n",
       "      <td>2.0</td>\n",
       "      <td>26.0</td>\n",
       "      <td>0.000000</td>\n",
       "      <td>0.579710</td>\n",
       "      <td>0.372856</td>\n",
       "      <td>0.305623</td>\n",
       "      <td>0.000000</td>\n",
       "      <td>0.613309</td>\n",
       "    </tr>\n",
       "    <tr>\n",
       "      <th>2</th>\n",
       "      <td>90.0</td>\n",
       "      <td>2.0</td>\n",
       "      <td>2.0</td>\n",
       "      <td>2.0</td>\n",
       "      <td>34.0</td>\n",
       "      <td>0.051917</td>\n",
       "      <td>0.106937</td>\n",
       "      <td>0.073752</td>\n",
       "      <td>0.069779</td>\n",
       "      <td>0.066899</td>\n",
       "      <td>0.321564</td>\n",
       "    </tr>\n",
       "    <tr>\n",
       "      <th>3</th>\n",
       "      <td>50.0</td>\n",
       "      <td>2.0</td>\n",
       "      <td>2.0</td>\n",
       "      <td>1.0</td>\n",
       "      <td>37.0</td>\n",
       "      <td>0.042562</td>\n",
       "      <td>0.041859</td>\n",
       "      <td>0.024345</td>\n",
       "      <td>0.038850</td>\n",
       "      <td>0.036914</td>\n",
       "      <td>0.033844</td>\n",
       "    </tr>\n",
       "    <tr>\n",
       "      <th>4</th>\n",
       "      <td>50.0</td>\n",
       "      <td>1.0</td>\n",
       "      <td>2.0</td>\n",
       "      <td>1.0</td>\n",
       "      <td>57.0</td>\n",
       "      <td>0.232099</td>\n",
       "      <td>6.469312</td>\n",
       "      <td>0.279057</td>\n",
       "      <td>0.429799</td>\n",
       "      <td>0.035987</td>\n",
       "      <td>0.035492</td>\n",
       "    </tr>\n",
       "  </tbody>\n",
       "</table>\n",
       "</div>"
      ],
      "text/plain": [
       "   LIMIT_BAL  SEX  EDUCATION  MARRIAGE   AGE  pct_paid_1  pct_paid_2  \\\n",
       "0       20.0  2.0        2.0       1.0  24.0    0.000000    0.222115   \n",
       "1      120.0  2.0        2.0       2.0  26.0    0.000000    0.579710   \n",
       "2       90.0  2.0        2.0       2.0  34.0    0.051917    0.106937   \n",
       "3       50.0  2.0        2.0       1.0  37.0    0.042562    0.041859   \n",
       "4       50.0  1.0        2.0       1.0  57.0    0.232099    6.469312   \n",
       "\n",
       "   pct_paid_3  pct_paid_4  pct_paid_5  pct_paid_6  \n",
       "0    0.000000    0.000000    0.000000    0.000000  \n",
       "1    0.372856    0.305623    0.000000    0.613309  \n",
       "2    0.073752    0.069779    0.066899    0.321564  \n",
       "3    0.024345    0.038850    0.036914    0.033844  \n",
       "4    0.279057    0.429799    0.035987    0.035492  "
      ]
     },
     "execution_count": 13,
     "metadata": {},
     "output_type": "execute_result"
    }
   ],
   "source": [
    "X.head()"
   ]
  },
  {
   "cell_type": "code",
   "execution_count": 14,
   "metadata": {
    "collapsed": false
   },
   "outputs": [],
   "source": [
    "modellist = [KNeighborsClassifier(), LogisticRegression(), GaussianNB(), DecisionTreeClassifier(), RandomForestClassifier(), GradientBoostingClassifier()]"
   ]
  },
  {
   "cell_type": "code",
   "execution_count": 15,
   "metadata": {
    "collapsed": false
   },
   "outputs": [
    {
     "name": "stdout",
     "output_type": "stream",
     "text": [
      "KNeighborsClassifier: 0.738\n",
      "[[ 279 1681]\n",
      " [ 674 6366]]\n",
      "LogisticRegression: 0.782\n",
      "[[   0 1960]\n",
      " [   0 7040]]\n",
      "GaussianNB: 0.234\n",
      "[[1931   29]\n",
      " [6865  175]]\n",
      "DecisionTreeClassifier: 0.681\n",
      "[[ 618 1342]\n",
      " [1527 5513]]\n",
      "RandomForestClassifier: 0.754\n",
      "[[ 551 1409]\n",
      " [ 804 6236]]\n",
      "GradientBoostingClassifier: 0.782\n",
      "[[ 177 1783]\n",
      " [ 175 6865]]\n"
     ]
    }
   ],
   "source": [
    "for model in modellist:\n",
    "    modelfit = model.fit(X_train, y_train)\n",
    "    modelypred = modelfit.predict(X_test)\n",
    "    print str(model).split(\"(\")[0] + \": \" + str(round(accuracy_score(y_test, modelypred),3))\n",
    "    print confusion_matrix(y_test, model.predict(X_test))"
   ]
  },
  {
   "cell_type": "markdown",
   "metadata": {},
   "source": [
    "# Model Selection"
   ]
  },
  {
   "cell_type": "code",
   "execution_count": 16,
   "metadata": {
    "collapsed": false
   },
   "outputs": [],
   "source": [
    "y = target.replace(\"Paid\", 0).replace(\"Default\", 1)"
   ]
  },
  {
   "cell_type": "code",
   "execution_count": 17,
   "metadata": {
    "collapsed": true
   },
   "outputs": [],
   "source": [
    "def cost(tp, fp):\n",
    "    letter = 1.5\n",
    "    notdef = 1000\n",
    "    probnotdef = 0.05\n",
    "    lossfalsep = 2000\n",
    "    probleave = 0.01\n",
    "    totcost = letter * (tp + fp) - notdef * probnotdef * tp + lossfalsep * probleave * fp\n",
    "    return totcost"
   ]
  },
  {
   "cell_type": "code",
   "execution_count": 18,
   "metadata": {
    "collapsed": true
   },
   "outputs": [],
   "source": [
    "def allfeaturecost(model, thresh):\n",
    "    \n",
    "    #fit model using different thresholds\n",
    "    X_train, X_test, y_train, y_test = train_test_split(X, y, test_size = 0.3, random_state = 42)\n",
    "    y_test2 = np.array(y_test)\n",
    "    modelfit = model.fit(X_train, y_train)\n",
    "    pred_proba = modelfit.predict_proba(X_test)\n",
    "    fplist = []\n",
    "    tplist = []\n",
    "    costlist = []\n",
    "    \n",
    "    #determine true positives and false positives for cost calculation\n",
    "    for item in range(len(thresh)):\n",
    "        tp = 0\n",
    "        fp = 0\n",
    "        for elem in range(len(pred_proba)):\n",
    "            if pred_proba[elem][1]>=thresh[item] and y_test2[elem] == 1:\n",
    "                tp += 1\n",
    "            elif pred_proba[elem][1] >=thresh[item] and y_test2[elem] == 0:\n",
    "                fp += 1\n",
    "            else:\n",
    "                pass\n",
    "        tplist.append(tp)\n",
    "        fplist.append(fp)\n",
    "        costlist.append(cost(tp,fp))\n",
    "        \n",
    "    #plot the cost against the threshold\n",
    "    \n",
    "    plt.plot(thresh, costlist, label='Model: ' + str(model).split(\"(\")[0])\n",
    "    plt.xlabel('Threshold', fontsize = 20)\n",
    "    plt.ylabel('Cost', fontsize = 20)\n",
    "    plt.title('Cost-Threshold Curve', fontsize = 30)\n",
    "    plt.legend(loc=\"upper right\")\n",
    "        \n",
    "    return tplist, fplist, costlist, thresh"
   ]
  },
  {
   "cell_type": "code",
   "execution_count": 19,
   "metadata": {
    "collapsed": false
   },
   "outputs": [],
   "source": [
    "def plotfunction(models, thresh):\n",
    "    plt.figure(figsize = (20, 10))\n",
    "    for model in models:\n",
    "        tplist, fplist, costlist, thresh = allfeaturecost(model, thresh)\n",
    "    plt.plot(thresh, costlist)"
   ]
  },
  {
   "cell_type": "code",
   "execution_count": 20,
   "metadata": {
    "collapsed": false
   },
   "outputs": [
    {
     "data": {
      "image/png": "[encoded data removed]",
      "text/plain": [
       "<matplotlib.figure.Figure at 0x11a23c250>"
      ]
     },
     "metadata": {},
     "output_type": "display_data"
    }
   ],
   "source": [
    "thresh = [0.2, 0.4, 0.5, 0.6, 0.8]\n",
    "plotfunction(modellist, thresh)"
   ]
  },
  {
   "cell_type": "markdown",
   "metadata": {},
   "source": [
    "# Precision/Accuracy Testing"
   ]
  },
  {
   "cell_type": "code",
   "execution_count": 21,
   "metadata": {
    "collapsed": true
   },
   "outputs": [],
   "source": [
    "def allfeature(model):\n",
    "    arr = []\n",
    "    X_train, X_test, y_train, y_test = train_test_split(X, target, test_size = 0.3, random_state = 42)\n",
    "    modelfit = model.fit(X_train, y_train)\n",
    "    modely_pred = modelfit.predict(X_test)\n",
    "    pred_proba = modelfit.predict_proba(X_test)\n",
    "    arr.append(round(accuracy_score(y_test, modely_pred),3))\n",
    "    arr.append(round(recall_score(y_test, modely_pred, labels = [\"Paid\", \"Default\"], pos_label= \"Default\"),3))\n",
    "    arr.append(round(precision_score(y_test, modely_pred, labels = [\"Paid\", \"Default\"], pos_label = \"Default\"),3))\n",
    "    precision, recall, thresholds = precision_recall_curve(y_test, pred_proba[:,1], pos_label = \"Default\")\n",
    "\n",
    "    print precision, recall, thresholds"
   ]
  },
  {
   "cell_type": "code",
   "execution_count": 23,
   "metadata": {
    "collapsed": false,
    "scrolled": false
   },
   "outputs": [
    {
     "name": "stdout",
     "output_type": "stream",
     "text": [
      " KNeighborsClassifier(algorithm='auto', leaf_size=30, metric='minkowski',\n",
      "           metric_params=None, n_jobs=1, n_neighbors=5, p=2,\n",
      "           weights='uniform')\n",
      "[ 0.21777778  0.21729934  0.21489939  0.20889773  0.19490838  0.16755853\n",
      "  1.        ] [ 1.          0.99591837  0.96989796  0.85765306  0.61326531  0.25561224\n",
      "  0.        ] [ 0.   0.2  0.4  0.6  0.8  1. ]\n",
      "None\n",
      "LogisticRegression(C=1.0, class_weight=None, dual=False, fit_intercept=True,\n",
      "          intercept_scaling=1, max_iter=100, multi_class='ovr', n_jobs=1,\n",
      "          penalty='l2', random_state=None, solver='liblinear', tol=0.0001,\n",
      "          verbose=0, warm_start=False)\n",
      "[ 0.21789883  0.21781187  0.2177249  ...,  0.5         0.          1.        ] [  1.00000000e+00   9.99489796e-01   9.98979592e-01 ...,   5.10204082e-04\n",
      "   0.00000000e+00   0.00000000e+00] [ 0.59954895  0.60001971  0.60071793 ...,  0.96634049  0.96647397\n",
      "  0.96967935]\n",
      "None\n",
      "GaussianNB(priors=None)\n",
      "[ 0.21780198  0.21771505  0.21773925 ...,  0.09375     0.09473684  1.        ] [ 1.          0.9994898   0.9994898  ...,  0.00459184  0.00459184  0.        ] [  9.73113459e-61   1.10154363e-49   5.93590794e-34 ...,   1.00000000e+00\n",
      "   1.00000000e+00   1.00000000e+00]\n",
      "None\n",
      "DecisionTreeClassifier(class_weight=None, criterion='gini', max_depth=None,\n",
      "            max_features=None, max_leaf_nodes=None,\n",
      "            min_impurity_split=1e-07, min_samples_leaf=1,\n",
      "            min_samples_split=2, min_weight_fraction_leaf=0.0,\n",
      "            presort=False, random_state=None, splitter='best')\n",
      "[ 0.21777778  0.19538888  0.19527145  0.19476149  0.19460727  1.        ] [ 1.          0.68316327  0.68265306  0.67908163  0.67755102  0.        ] [ 0.          0.33333333  0.5         0.66666667  1.        ]\n",
      "None\n",
      "RandomForestClassifier(bootstrap=True, class_weight=None, criterion='gini',\n",
      "            max_depth=None, max_features='auto', max_leaf_nodes=None,\n",
      "            min_impurity_split=1e-07, min_samples_leaf=1,\n",
      "            min_samples_split=2, min_weight_fraction_leaf=0.0,\n",
      "            n_estimators=10, n_jobs=1, oob_score=False, random_state=None,\n",
      "            verbose=0, warm_start=False)\n",
      "[ 0.21777778  0.21672792  0.2156512   0.21569943  0.21572355  0.21084269\n",
      "  0.21075318  0.21066364  0.2105084   0.20618677  0.20621075  0.20628272\n",
      "  0.20630673  0.20621436  0.19698993  0.19701384  0.19681884  0.19684274\n",
      "  0.19686665  0.1967691   0.19674323  0.19676714  0.19669341  0.19659574\n",
      "  0.19649805  0.19652195  0.19654585  0.18655746  0.18637014  0.18639438\n",
      "  0.18644288  0.18633702  0.18623113  0.18614944  0.18609194  0.18601016\n",
      "  0.17567963  0.17555913  0.17561047  0.17548991  0.17551558  0.17556693\n",
      "  0.16185897  0.16170971  0.16156038  0.16158917  0.16114082  0.16101997\n",
      "  0.16104869  0.16101392  0.16104267  0.16089286  0.16092159  0.16095034\n",
      "  0.14992109  0.14996054  0.14973684  0.14993412  0.14997364  0.14978903\n",
      "  0.14982854  0.13439905  0.13396562  0.13404508  0.13376932  0.13325402\n",
      "  0.13333333  0.13281715  0.13237925  1.        ] [ 1.          0.99285714  0.98418367  0.98418367  0.98418367  0.94846939\n",
      "  0.94795918  0.94744898  0.94642857  0.90459184  0.90459184  0.90459184\n",
      "  0.90459184  0.90408163  0.82806122  0.82806122  0.82704082  0.82704082\n",
      "  0.82704082  0.82653061  0.82602041  0.82602041  0.8255102   0.825\n",
      "  0.8244898   0.8244898   0.8244898   0.73214286  0.73112245  0.73112245\n",
      "  0.73112245  0.73061224  0.73010204  0.72959184  0.72908163  0.72857143\n",
      "  0.61326531  0.6127551   0.6127551   0.6122449   0.6122449   0.6122449\n",
      "  0.46377551  0.46326531  0.4627551   0.4627551   0.46122449  0.46071429\n",
      "  0.46071429  0.46020408  0.46020408  0.45969388  0.45969388  0.45969388\n",
      "  0.29081633  0.29081633  0.29030612  0.29030612  0.29030612  0.28979592\n",
      "  0.28979592  0.11581633  0.11530612  0.11530612  0.11479592  0.11428571\n",
      "  0.11428571  0.11377551  0.11326531  0.        ] [ 0.          0.1         0.13333333  0.15        0.2         0.225       0.23\n",
      "  0.25        0.3         0.31666667  0.35        0.36        0.36666667\n",
      "  0.4         0.41        0.425       0.43        0.44        0.44333333\n",
      "  0.45        0.46        0.475       0.48        0.485       0.49166667\n",
      "  0.5         0.5         0.53333333  0.53333333  0.55        0.55833333\n",
      "  0.56        0.57380952  0.575       0.58        0.6         0.63333333\n",
      "  0.65        0.655       0.68        0.68333333  0.7         0.70833333\n",
      "  0.71333333  0.72333333  0.725       0.73333333  0.73333333  0.75        0.775\n",
      "  0.785       0.78666667  0.78833333  0.8         0.83333333  0.84        0.85\n",
      "  0.86666667  0.875       0.88        0.9         0.925       0.93333333\n",
      "  0.95        0.95714286  0.96        0.96666667  0.98        1.        ]\n",
      "None\n",
      "GradientBoostingClassifier(criterion='friedman_mse', init=None,\n",
      "              learning_rate=0.1, loss='deviance', max_depth=3,\n",
      "              max_features=None, max_leaf_nodes=None,\n",
      "              min_impurity_split=1e-07, min_samples_leaf=1,\n",
      "              min_samples_split=2, min_weight_fraction_leaf=0.0,\n",
      "              n_estimators=100, presort='auto', random_state=None,\n",
      "              subsample=1.0, verbose=0, warm_start=False)\n",
      "[ 0.21782618  0.21773925  0.21765229 ...,  0.          0.          1.        ] [ 1.          0.9994898   0.99897959 ...,  0.          0.          0.        ] [ 0.28245336  0.28657836  0.30953054 ...,  0.95827758  0.95883932\n",
      "  0.96337499]\n",
      "None\n"
     ]
    }
   ],
   "source": [
    "for model in modellist:\n",
    "    print model\n",
    "    print allfeature(model)"
   ]
  },
  {
   "cell_type": "code",
   "execution_count": 2,
   "metadata": {
    "collapsed": false
   },
   "outputs": [],
   "source": [
    "import numpy as np\n",
    "import pandas as pd\n",
    "import os\n",
    "from sklearn.cross_validation import train_test_split\n",
    "from sklearn.metrics import accuracy_score\n",
    "from sklearn.externals import joblib\n",
    "from sklearn.metrics import recall_score\n",
    "from sklearn.metrics import precision_score\n",
    "from sklearn.metrics import confusion_matrix\n",
    "\n",
    "from sklearn.neighbors import KNeighborsClassifier\n",
    "from sklearn.linear_model import LogisticRegression\n",
    "from sklearn.learning_curve import learning_curve\n",
    "from sklearn.naive_bayes import GaussianNB\n",
    "from sklearn.svm import SVC\n",
    "from sklearn.tree import DecisionTreeClassifier\n",
    "from sklearn.ensemble import RandomForestClassifier\n",
    "from sklearn.metrics import confusion_matrix\n",
    "\n",
    "# old code from iris example for reference\n",
    "# if __name__ == \"__main__\":\n",
    "#         # Load Iris Data\n",
    "#         iris_data = load_iris()\n",
    "#         features = iris_data.data\n",
    "#         feature_names = iris_data.feature_names\n",
    "#         target = iris_data.target\n",
    "#         target_names = iris_data.target_names\n",
    "#\n",
    "#         knn = KNeighborsClassifier(n_neighbors=3)  # replace with your own ML model here\n",
    "#         knn.fit(features, target)\n",
    "#\n",
    "#         joblib.dump(knn, 'models/iris_model.pkl')\n",
    "if __name__ == \"__main__\":\n",
    "    #load data\n",
    "    df = pd.read_csv('default_of_credit_card_clients.csv')\n",
    "    df = df.dropna()\n",
    "    df = df.drop('ID', axis = 1)\n",
    "    df['default payment next month'] = df['default payment next month'].replace(to_replace=0, value=\"Paid\")\n",
    "    df['default payment next month'] = df['default payment next month'].replace(to_replace=1, value=\"Default\")\n",
    "    df['LIMIT_BAL'] = df['LIMIT_BAL']/1000\n",
    "\n",
    "    #makes the percentage columns I was talking about - pct paid 1 is 1 month ago, pct paid 2 is 2 months ago, etc.\n",
    "    def percent_maker(df):\n",
    "        for i in range(1,7):\n",
    "            df[('pct_paid_{}'.format(i))] = df[('PAY_AMT{}'.format(i))] / df[('BILL_AMT{}'.format(i))]\n",
    "    percent_maker(df)\n",
    "\n",
    "    #replaces null and infinite values\n",
    "    df = df.replace({None:0, np.inf:1})\n",
    "\n",
    "    #new X features for modeling...\n",
    "    features = df[['LIMIT_BAL', 'SEX', 'EDUCATION', 'MARRIAGE', 'AGE','pct_paid_1', 'pct_paid_2', 'pct_paid_3',\n",
    "       'pct_paid_4', 'pct_paid_5', 'pct_paid_6']]\n",
    "    feature_names = list(features.columns.values)\n",
    "    target = df['default payment next month']\n",
    "    target_names = [\"Paid\", \"Default\"]\n",
    "\n",
    "    # run randomforest on data we have\n",
    "    RF = RandomForestClassifier()\n",
    "    RF.fit(features, target)\n"
   ]
  },
  {
   "cell_type": "code",
   "execution_count": 9,
   "metadata": {
    "collapsed": false
   },
   "outputs": [],
   "source": [
    "from sklearn.metrics import confusion_matrix, classification_report"
   ]
  },
  {
   "cell_type": "code",
   "execution_count": 11,
   "metadata": {
    "collapsed": false
   },
   "outputs": [
    {
     "data": {
      "text/plain": [
       "array(['Default', 'Default', 'Paid', ..., 'Default', 'Default', 'Default'], dtype=object)"
      ]
     },
     "execution_count": 11,
     "metadata": {},
     "output_type": "execute_result"
    }
   ],
   "source": [
    "RF.predict(features)"
   ]
  },
  {
   "cell_type": "code",
   "execution_count": 13,
   "metadata": {
    "collapsed": false
   },
   "outputs": [
    {
     "data": {
      "text/plain": [
       "LIMIT_BAL     20.000000\n",
       "SEX            2.000000\n",
       "EDUCATION      2.000000\n",
       "MARRIAGE       1.000000\n",
       "AGE           24.000000\n",
       "pct_paid_1     0.000000\n",
       "pct_paid_2     0.222115\n",
       "pct_paid_3     0.000000\n",
       "pct_paid_4     0.000000\n",
       "pct_paid_5     0.000000\n",
       "pct_paid_6     0.000000\n",
       "Name: 0, dtype: float64"
      ]
     },
     "execution_count": 13,
     "metadata": {},
     "output_type": "execute_result"
    }
   ],
   "source": [
    "features.ix[0]"
   ]
  },
  {
   "cell_type": "code",
   "execution_count": 10,
   "metadata": {
    "collapsed": false
   },
   "outputs": [
    {
     "data": {
      "text/plain": [
       "array([[ 6375,   261],\n",
       "       [  121, 23243]])"
      ]
     },
     "execution_count": 10,
     "metadata": {},
     "output_type": "execute_result"
    }
   ],
   "source": [
    "confusion_matrix(target, RF.predict(features))"
   ]
  },
  {
   "cell_type": "code",
   "execution_count": 24,
   "metadata": {
    "collapsed": false
   },
   "outputs": [
    {
     "name": "stderr",
     "output_type": "stream",
     "text": [
      "/Users/rebeccahyde/anaconda/lib/python2.7/site-packages/sklearn/utils/validation.py:395: DeprecationWarning: Passing 1d arrays as data is deprecated in 0.17 and will raise ValueError in 0.19. Reshape your data either using X.reshape(-1, 1) if your data has a single feature or X.reshape(1, -1) if it contains a single sample.\n",
      "  DeprecationWarning)\n"
     ]
    },
    {
     "data": {
      "text/plain": [
       "array(['Paid'], dtype=object)"
      ]
     },
     "execution_count": 24,
     "metadata": {},
     "output_type": "execute_result"
    }
   ],
   "source": [
    "RF.predict([20,2,2,1,24,0,0.222115,0.,0.222115,0,0.222115])"
   ]
  },
  {
   "cell_type": "code",
   "execution_count": null,
   "metadata": {
    "collapsed": true
   },
   "outputs": [],
   "source": []
  }
 ],
 "metadata": {
  "anaconda-cloud": {},
  "kernelspec": {
   "display_name": "Python [Root]",
   "language": "python",
   "name": "Python [Root]"
  },
  "language_info": {
   "codemirror_mode": {
    "name": "ipython",
    "version": 2
   },
   "file_extension": ".py",
   "mimetype": "text/x-python",
   "name": "python",
   "nbconvert_exporter": "python",
   "pygments_lexer": "ipython2",
   "version": "2.7.12"
  }
 },
 "nbformat": 4,
 "nbformat_minor": 0
}
