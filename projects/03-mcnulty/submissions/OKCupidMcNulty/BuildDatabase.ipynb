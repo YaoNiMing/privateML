{
 "cells": [
  {
   "cell_type": "code",
   "execution_count": 1,
   "metadata": {
    "collapsed": true
   },
   "outputs": [],
   "source": [
    "import pandas as pd\n",
    "import sqlalchemy as sq"
   ]
  },
  {
   "cell_type": "markdown",
   "metadata": {},
   "source": [
    "Create a connection to the database. This will eventually create a .db file in the directory of the notebook once we write something to the connection."
   ]
  },
  {
   "cell_type": "code",
   "execution_count": 20,
   "metadata": {
    "collapsed": false
   },
   "outputs": [],
   "source": [
    "engine = sq.create_engine('sqlite:///OKCdatabase.db')"
   ]
  },
  {
   "cell_type": "markdown",
   "metadata": {},
   "source": [
    "Load the dataframes"
   ]
  },
  {
   "cell_type": "code",
   "execution_count": 3,
   "metadata": {
    "collapsed": false
   },
   "outputs": [],
   "source": [
    "#main dataframe of user answers\n",
    "df_main = pd.read_csv('user_data_public.csv',index_col=None, dtype=str)"
   ]
  },
  {
   "cell_type": "code",
   "execution_count": 4,
   "metadata": {
    "collapsed": false
   },
   "outputs": [],
   "source": [
    "#dataframe of general questions\n",
    "df_qs = pd.read_csv('question_data.csv',sep=';',index_col=None)\n",
    "df_qs = df_qs.sort_values('N',ascending=False);"
   ]
  },
  {
   "cell_type": "code",
   "execution_count": 5,
   "metadata": {
    "collapsed": true
   },
   "outputs": [],
   "source": [
    "#dataframe of cognitive test questions\n",
    "df_ts = pd.read_csv('test_items.csv',index_col=None)"
   ]
  },
  {
   "cell_type": "markdown",
   "metadata": {},
   "source": [
    "Examining the questions set, we see that there are 5 types of questions:\n",
    "\n",
    "1. Personality questions, denoted by columns named qXXX (where X is numeric)\n",
    "2. Test questions, also denoted by columns named qXXX\n",
    "3. User's match preferences, denoted by columns named lf_ZZZZ (where Z is alphabetic)\n",
    "4. User attributes, denoted by columns named d_ZZZZ\n",
    "5. OKC personality scale scores, denoted by columns named p_ZZZZ\n",
    "\n",
    "Since different question types have different kinds of answers, we will break the main table into 5 smaller tables"
   ]
  },
  {
   "cell_type": "code",
   "execution_count": 7,
   "metadata": {
    "collapsed": true
   },
   "outputs": [],
   "source": [
    "#list of all of the question headers (sorted by number of responses):\n",
    "headers_all = list(df_qs.iloc[:,0])\n",
    "#list of headers that starts with q\n",
    "headers_q = [name for name in headers_all if (name[0] == 'q')]\n",
    "#list of headers that starts with If\n",
    "headers_lf = [name for name in headers_all if (name[0] == 'l')]\n",
    "#list of headers that starts with d\n",
    "headers_d = [name for name in headers_all if (name[0] == 'd')]\n",
    "#list of headers that starts with p\n",
    "headers_p = [name for name in headers_all if (name[0] == 'p')]\n",
    "#list of cognitive test question headers\n",
    "headers_ts = list(df_ts.iloc[:,0])\n",
    "#list of non-cognitive test question headers\n",
    "headers_qns = [name for name in headers_q if (name not in headers_ts)]"
   ]
  },
  {
   "cell_type": "code",
   "execution_count": 8,
   "metadata": {
    "collapsed": false
   },
   "outputs": [],
   "source": [
    "#OKC Personality Scores Table:\n",
    "tab_per = df_main.loc[:,headers_p]"
   ]
  },
  {
   "cell_type": "code",
   "execution_count": 9,
   "metadata": {
    "collapsed": true
   },
   "outputs": [],
   "source": [
    "#User Attributes Table:\n",
    "tab_att = df_main.loc[:,headers_d]"
   ]
  },
  {
   "cell_type": "code",
   "execution_count": 10,
   "metadata": {
    "collapsed": true
   },
   "outputs": [],
   "source": [
    "#User Match Preferences Table:\n",
    "tab_prf = df_main.loc[:,headers_lf]"
   ]
  },
  {
   "cell_type": "code",
   "execution_count": 11,
   "metadata": {
    "collapsed": false
   },
   "outputs": [],
   "source": [
    "#Test Questions Table:\n",
    "tab_tst = df_main.loc[:,headers_ts]"
   ]
  },
  {
   "cell_type": "markdown",
   "metadata": {},
   "source": [
    "The table to store other questions need to be broken up into smaller chunks. We'll just store the top 1000 in 5 tables, and use the first one for our MVP. We can add more features to [possibly] improve the model scores afterwards. "
   ]
  },
  {
   "cell_type": "code",
   "execution_count": 12,
   "metadata": {
    "collapsed": false
   },
   "outputs": [],
   "source": [
    "#Other Questions Table (top 200):\n",
    "tab_qn1 = df_main.loc[:,headers_qns[0:200]]"
   ]
  },
  {
   "cell_type": "code",
   "execution_count": 13,
   "metadata": {
    "collapsed": true
   },
   "outputs": [],
   "source": [
    "#Other Questions Table (200-400):\n",
    "tab_qn2 = df_main.loc[:,headers_qns[200:400]]"
   ]
  },
  {
   "cell_type": "code",
   "execution_count": 14,
   "metadata": {
    "collapsed": true
   },
   "outputs": [],
   "source": [
    "#Other Questions Table (400-600):\n",
    "tab_qn3 = df_main.loc[:,headers_qns[400:600]]"
   ]
  },
  {
   "cell_type": "code",
   "execution_count": 15,
   "metadata": {
    "collapsed": true
   },
   "outputs": [],
   "source": [
    "#Other Questions Table (600-800):\n",
    "tab_qn4 = df_main.loc[:,headers_qns[600:800]]"
   ]
  },
  {
   "cell_type": "code",
   "execution_count": 16,
   "metadata": {
    "collapsed": true
   },
   "outputs": [],
   "source": [
    "#Other Questions Table (800-1000):\n",
    "tab_qn5 = df_main.loc[:,headers_qns[800:1000]]"
   ]
  },
  {
   "cell_type": "markdown",
   "metadata": {},
   "source": [
    "Table for the 2 questions keys tables"
   ]
  },
  {
   "cell_type": "code",
   "execution_count": 17,
   "metadata": {
    "collapsed": false
   },
   "outputs": [],
   "source": [
    "#Test Questions Key Table:\n",
    "tab_keyq = df_qs\n",
    "#Other Questions Key Table:\n",
    "tab_keyt = df_ts"
   ]
  },
  {
   "cell_type": "code",
   "execution_count": 18,
   "metadata": {
    "collapsed": true
   },
   "outputs": [],
   "source": [
    "#Cognitive Score Table\n",
    "tab_CA = df_main.CA"
   ]
  },
  {
   "cell_type": "markdown",
   "metadata": {},
   "source": [
    "Now we write these tables into the SQL database connection set up by the 'create_engine' statement"
   ]
  },
  {
   "cell_type": "code",
   "execution_count": 21,
   "metadata": {
    "collapsed": false
   },
   "outputs": [],
   "source": [
    "tab_per.to_sql('personality_scores',engine,index=False)"
   ]
  },
  {
   "cell_type": "code",
   "execution_count": 22,
   "metadata": {
    "collapsed": true
   },
   "outputs": [],
   "source": [
    "tab_CA.to_sql('cognitive_scores',engine,index=False)"
   ]
  },
  {
   "cell_type": "code",
   "execution_count": 23,
   "metadata": {
    "collapsed": true
   },
   "outputs": [],
   "source": [
    "tab_att.to_sql('user_info',engine,index=False)"
   ]
  },
  {
   "cell_type": "code",
   "execution_count": 24,
   "metadata": {
    "collapsed": true
   },
   "outputs": [],
   "source": [
    "tab_prf.to_sql('match_preferences',engine,index=False)"
   ]
  },
  {
   "cell_type": "code",
   "execution_count": 25,
   "metadata": {
    "collapsed": true
   },
   "outputs": [],
   "source": [
    "tab_tst.to_sql('test_answers',engine,index=False)"
   ]
  },
  {
   "cell_type": "code",
   "execution_count": 26,
   "metadata": {
    "collapsed": true
   },
   "outputs": [],
   "source": [
    "tab_qn1.to_sql('question_responses1',engine,index=False)"
   ]
  },
  {
   "cell_type": "code",
   "execution_count": 27,
   "metadata": {
    "collapsed": false
   },
   "outputs": [],
   "source": [
    "tab_qn2.to_sql('question_responses2',engine,index=False)"
   ]
  },
  {
   "cell_type": "code",
   "execution_count": 28,
   "metadata": {
    "collapsed": true
   },
   "outputs": [],
   "source": [
    "tab_qn3.to_sql('question_responses3',engine,index=False)"
   ]
  },
  {
   "cell_type": "code",
   "execution_count": 29,
   "metadata": {
    "collapsed": true
   },
   "outputs": [],
   "source": [
    "tab_qn4.to_sql('question_responses4',engine,index=False)"
   ]
  },
  {
   "cell_type": "code",
   "execution_count": 30,
   "metadata": {
    "collapsed": true
   },
   "outputs": [],
   "source": [
    "tab_qn5.to_sql('question_responses5',engine,index=False)"
   ]
  },
  {
   "cell_type": "code",
   "execution_count": null,
   "metadata": {
    "collapsed": true
   },
   "outputs": [],
   "source": []
  },
  {
   "cell_type": "code",
   "execution_count": null,
   "metadata": {
    "collapsed": true
   },
   "outputs": [],
   "source": []
  },
  {
   "cell_type": "code",
   "execution_count": null,
   "metadata": {
    "collapsed": true
   },
   "outputs": [],
   "source": []
  },
  {
   "cell_type": "code",
   "execution_count": null,
   "metadata": {
    "collapsed": true
   },
   "outputs": [],
   "source": []
  },
  {
   "cell_type": "code",
   "execution_count": null,
   "metadata": {
    "collapsed": true
   },
   "outputs": [],
   "source": []
  },
  {
   "cell_type": "code",
   "execution_count": null,
   "metadata": {
    "collapsed": true
   },
   "outputs": [],
   "source": []
  },
  {
   "cell_type": "code",
   "execution_count": null,
   "metadata": {
    "collapsed": true
   },
   "outputs": [],
   "source": []
  },
  {
   "cell_type": "code",
   "execution_count": null,
   "metadata": {
    "collapsed": true
   },
   "outputs": [],
   "source": []
  },
  {
   "cell_type": "code",
   "execution_count": null,
   "metadata": {
    "collapsed": true
   },
   "outputs": [],
   "source": []
  },
  {
   "cell_type": "code",
   "execution_count": null,
   "metadata": {
    "collapsed": true
   },
   "outputs": [],
   "source": []
  },
  {
   "cell_type": "code",
   "execution_count": null,
   "metadata": {
    "collapsed": true
   },
   "outputs": [],
   "source": []
  }
 ],
 "metadata": {
  "anaconda-cloud": {},
  "kernelspec": {
   "display_name": "Python [conda root]",
   "language": "python",
   "name": "conda-root-py"
  },
  "language_info": {
   "codemirror_mode": {
    "name": "ipython",
    "version": 3
   },
   "file_extension": ".py",
   "mimetype": "text/x-python",
   "name": "python",
   "nbconvert_exporter": "python",
   "pygments_lexer": "ipython3",
   "version": "3.5.2"
  }
 },
 "nbformat": 4,
 "nbformat_minor": 1
}
