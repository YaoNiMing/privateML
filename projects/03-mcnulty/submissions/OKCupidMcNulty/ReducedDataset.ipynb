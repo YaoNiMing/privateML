{
 "cells": [
  {
   "cell_type": "code",
   "execution_count": 105,
   "metadata": {
    "collapsed": true
   },
   "outputs": [],
   "source": [
    "import pandas as pd\n",
    "import sqlalchemy as sq\n",
    "import numpy as np\n",
    "import matplotlib.pyplot as plt\n",
    "from sklearn.cross_validation import train_test_split\n",
    "from sklearn.metrics import accuracy_score\n",
    "plt.style.use('fivethirtyeight')\n",
    "\n",
    "%matplotlib inline"
   ]
  },
  {
   "cell_type": "markdown",
   "metadata": {},
   "source": [
    "# Connect to database"
   ]
  },
  {
   "cell_type": "code",
   "execution_count": 106,
   "metadata": {
    "collapsed": true
   },
   "outputs": [],
   "source": [
    "engine = sq.create_engine('sqlite:///OKC_Processed_DB.db') #create connection to the database"
   ]
  },
  {
   "cell_type": "markdown",
   "metadata": {},
   "source": [
    "# Get table"
   ]
  },
  {
   "cell_type": "code",
   "execution_count": 107,
   "metadata": {
    "collapsed": true
   },
   "outputs": [],
   "source": [
    "df_rsp = pd.read_sql_table('question_responses',engine)"
   ]
  },
  {
   "cell_type": "markdown",
   "metadata": {},
   "source": [
    "# Function to get the columns we need"
   ]
  },
  {
   "cell_type": "code",
   "execution_count": 108,
   "metadata": {
    "collapsed": true
   },
   "outputs": [],
   "source": [
    "def get_columns_multi(df,keylist):\n",
    "    headerlist = []\n",
    "    for key in keylist:\n",
    "        headers_all = list(df.columns)\n",
    "        headers = [name for name in headers_all if name[0:len(key)]==key]\n",
    "        headerlist = headerlist+headers\n",
    "    return df.loc[:,headerlist]"
   ]
  },
  {
   "cell_type": "markdown",
   "metadata": {},
   "source": [
    "# Questions list"
   ]
  },
  {
   "cell_type": "code",
   "execution_count": 110,
   "metadata": {
    "collapsed": true
   },
   "outputs": [],
   "source": [
    "q_drugs = ['q79_','q77_','q1062_','qq66506_','q43261_',\n",
    "            'q1052_','q21411_','q45428_','q35355_','q31877_']\n",
    "q_openre = ['q34113_','q1597_','q35_','q1128_','q17_',\n",
    "            'q24375_','q393_','q35203_','q136_','q9688_']\n",
    "q_google = ['q19874_','q4018_','q60100_','q308_','q358084_',\n",
    "            'q358077_','q12964_','q501_','q154_','q20930_']\n",
    "\n",
    "a_drugs = ['q80_']\n",
    "a_openre = ['q325_']\n",
    "a_google = ['q170849_']"
   ]
  },
  {
   "cell_type": "code",
   "execution_count": 111,
   "metadata": {
    "collapsed": false
   },
   "outputs": [],
   "source": [
    "q_all = q_drugs + q_openre + q_google\n",
    "a_all = a_drugs + a_openre + a_google"
   ]
  },
  {
   "cell_type": "code",
   "execution_count": 112,
   "metadata": {
    "collapsed": false
   },
   "outputs": [],
   "source": [
    "X = get_columns_multi(df_rsp,q_all);np.shape(X)\n",
    "X.fillna(value=0,inplace=True)"
   ]
  },
  {
   "cell_type": "markdown",
   "metadata": {},
   "source": [
    "# Modelling Drug Experience"
   ]
  },
  {
   "cell_type": "code",
   "execution_count": 450,
   "metadata": {
    "collapsed": false
   },
   "outputs": [
    {
     "data": {
      "text/html": [
       "<div>\n",
       "<table border=\"1\" class=\"dataframe\">\n",
       "  <thead>\n",
       "    <tr style=\"text-align: right;\">\n",
       "      <th></th>\n",
       "      <th>q80_I do drugs occasionally.</th>\n",
       "      <th>q80_I do drugs regularly.</th>\n",
       "      <th>q80_I never do drugs.</th>\n",
       "      <th>q80_I've done drugs in the past, but no longer.</th>\n",
       "    </tr>\n",
       "  </thead>\n",
       "  <tbody>\n",
       "    <tr>\n",
       "      <th>0</th>\n",
       "      <td>0</td>\n",
       "      <td>0</td>\n",
       "      <td>1</td>\n",
       "      <td>0</td>\n",
       "    </tr>\n",
       "    <tr>\n",
       "      <th>1</th>\n",
       "      <td>0</td>\n",
       "      <td>0</td>\n",
       "      <td>0</td>\n",
       "      <td>0</td>\n",
       "    </tr>\n",
       "    <tr>\n",
       "      <th>2</th>\n",
       "      <td>0</td>\n",
       "      <td>0</td>\n",
       "      <td>0</td>\n",
       "      <td>0</td>\n",
       "    </tr>\n",
       "    <tr>\n",
       "      <th>3</th>\n",
       "      <td>0</td>\n",
       "      <td>0</td>\n",
       "      <td>0</td>\n",
       "      <td>0</td>\n",
       "    </tr>\n",
       "    <tr>\n",
       "      <th>4</th>\n",
       "      <td>0</td>\n",
       "      <td>0</td>\n",
       "      <td>0</td>\n",
       "      <td>0</td>\n",
       "    </tr>\n",
       "  </tbody>\n",
       "</table>\n",
       "</div>"
      ],
      "text/plain": [
       "   q80_I do drugs occasionally.  q80_I do drugs regularly.  \\\n",
       "0                             0                          0   \n",
       "1                             0                          0   \n",
       "2                             0                          0   \n",
       "3                             0                          0   \n",
       "4                             0                          0   \n",
       "\n",
       "   q80_I never do drugs.  q80_I've done drugs in the past, but no longer.  \n",
       "0                      1                                                0  \n",
       "1                      0                                                0  \n",
       "2                      0                                                0  \n",
       "3                      0                                                0  \n",
       "4                      0                                                0  "
      ]
     },
     "execution_count": 450,
     "metadata": {},
     "output_type": "execute_result"
    }
   ],
   "source": [
    "y_drugs = get_columns_multi(df_rsp,a_drugs);y_drugs.head()"
   ]
  },
  {
   "cell_type": "code",
   "execution_count": 451,
   "metadata": {
    "collapsed": false
   },
   "outputs": [
    {
     "data": {
      "text/plain": [
       "occasional     4169\n",
       "regular         192\n",
       "never         35650\n",
       "past          10096\n",
       "dtype: int64"
      ]
     },
     "execution_count": 451,
     "metadata": {},
     "output_type": "execute_result"
    }
   ],
   "source": [
    "y_drugs.columns =  ['occasional','regular','never','past']\n",
    "np.sum(y_drugs,0)"
   ]
  },
  {
   "cell_type": "code",
   "execution_count": 331,
   "metadata": {
    "collapsed": false
   },
   "outputs": [],
   "source": [
    "import warnings\n",
    "warnings.filterwarnings('ignore')#hide warnings\n",
    "\n",
    "y = y_drugs.iloc[:,[0]]\n",
    "y.columns = ['class']\n",
    "y[y_drugs.occasional==1] = 'Not Never'\n",
    "y[y_drugs.regular==1] = 'Not Never'\n",
    "y[y_drugs.past==1] = 'Not Never'\n",
    "y[y_drugs.never==1] = 'Never'\n",
    "y[y==0] = np.nan #remove non-respondents after other classes have been assigned"
   ]
  },
  {
   "cell_type": "code",
   "execution_count": 332,
   "metadata": {
    "collapsed": true
   },
   "outputs": [],
   "source": [
    "dfdrugs = pd.concat([y,X],axis=1)\n",
    "dfdrugs.dropna(subset=['class'],inplace=True)"
   ]
  },
  {
   "cell_type": "code",
   "execution_count": 442,
   "metadata": {
    "collapsed": false
   },
   "outputs": [
    {
     "data": {
      "text/plain": [
       "0.80989063622575241"
      ]
     },
     "execution_count": 442,
     "metadata": {},
     "output_type": "execute_result"
    }
   ],
   "source": [
    "from sklearn.calibration import CalibratedClassifierCV\n",
    "X_train, X_test, y_train, y_test = train_test_split(dfdrugs.iloc[:,1:],dfdrugs.iloc[:,0],test_size=0.5)\n",
    "LR = LogisticRegression()\n",
    "model = CalibratedClassifierCV(LR, cv=10, method='sigmoid')\n",
    "model.fit(X_train, y_train)\n",
    "fit = model.fit(X_train,y_train)\n",
    "y_pred = fit.predict(X_test)\n",
    "accuracy_score(y_pred,y_test)"
   ]
  },
  {
   "cell_type": "code",
   "execution_count": 446,
   "metadata": {
    "collapsed": false
   },
   "outputs": [
    {
     "name": "stdout",
     "output_type": "stream",
     "text": [
      "Probability that Bachelor #29481 has tried drugs harder than marijuana: 60%\n"
     ]
    }
   ],
   "source": [
    "bachelorID = np.random.choice(range(len(X)))\n",
    "RandomBachelor = X.iloc[bachelorID,:].values.reshape(1,-1)\n",
    "y_pred = fit.predict_proba(RandomBachelor)\n",
    "print('Probability that Bachelor #'+str(bachelorID)+\n",
    "      ' has tried drugs harder than marijuana:',\n",
    "      str(int(y_pred[0][1]*100))+'%')"
   ]
  },
  {
   "cell_type": "code",
   "execution_count": null,
   "metadata": {
    "collapsed": true
   },
   "outputs": [],
   "source": []
  }
 ],
 "metadata": {
  "anaconda-cloud": {},
  "kernelspec": {
   "display_name": "Python [conda root]",
   "language": "python",
   "name": "conda-root-py"
  },
  "language_info": {
   "codemirror_mode": {
    "name": "ipython",
    "version": 3
   },
   "file_extension": ".py",
   "mimetype": "text/x-python",
   "name": "python",
   "nbconvert_exporter": "python",
   "pygments_lexer": "ipython3",
   "version": "3.5.2"
  }
 },
 "nbformat": 4,
 "nbformat_minor": 1
}
