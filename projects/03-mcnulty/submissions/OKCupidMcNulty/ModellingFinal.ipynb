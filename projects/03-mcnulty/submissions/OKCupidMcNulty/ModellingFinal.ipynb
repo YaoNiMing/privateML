{
 "cells": [
  {
   "cell_type": "code",
   "execution_count": 1,
   "metadata": {
    "collapsed": false
   },
   "outputs": [
    {
     "name": "stderr",
     "output_type": "stream",
     "text": [
      "/Users/kylemix/anaconda/lib/python3.5/site-packages/sklearn/cross_validation.py:44: DeprecationWarning: This module was deprecated in version 0.18 in favor of the model_selection module into which all the refactored classes and functions are moved. Also note that the interface of the new CV iterators are different from that of this module. This module will be removed in 0.20.\n",
      "  \"This module will be removed in 0.20.\", DeprecationWarning)\n"
     ]
    }
   ],
   "source": [
    "import pandas as pd\n",
    "import sqlalchemy as sq\n",
    "import numpy as np\n",
    "import matplotlib.pyplot as plt\n",
    "import seaborn as sns\n",
    "%matplotlib inline\n",
    "pd.set_option(\"display.max_columns\",200)\n",
    "from matplotlib import cm as cm\n",
    "from sklearn import linear_model\n",
    "\n",
    "from itertools import cycle\n",
    "\n",
    "from sklearn import svm, datasets\n",
    "from sklearn.metrics import roc_curve, auc\n",
    "from sklearn.cross_validation import train_test_split\n",
    "from sklearn.preprocessing import label_binarize\n",
    "from sklearn.multiclass import OneVsRestClassifier\n",
    "from sklearn.metrics import roc_auc_score\n",
    "from sklearn.metrics import classification_report"
   ]
  },
  {
   "cell_type": "markdown",
   "metadata": {},
   "source": [
    "# Helper Functions"
   ]
  },
  {
   "cell_type": "markdown",
   "metadata": {},
   "source": [
    "This function takes a dataframe and a string, and returns a new dataframe with all columns with headers that begin with that string"
   ]
  },
  {
   "cell_type": "code",
   "execution_count": 2,
   "metadata": {
    "collapsed": true
   },
   "outputs": [],
   "source": [
    "def get_columns(df,key):\n",
    "    headers_all = list(df.columns)\n",
    "    headers = [name for name in headers_all if name[0:len(key)]==key]\n",
    "    return df.loc[:,headers]"
   ]
  },
  {
   "cell_type": "markdown",
   "metadata": {},
   "source": [
    "This function takes a question key table + a question key, and return the question associated with the key"
   ]
  },
  {
   "cell_type": "code",
   "execution_count": 3,
   "metadata": {
    "collapsed": true
   },
   "outputs": [],
   "source": [
    "def get_question(df,key):\n",
    "    return df.loc[df.iloc[:,0]==key,:]"
   ]
  },
  {
   "cell_type": "code",
   "execution_count": 4,
   "metadata": {
    "collapsed": false
   },
   "outputs": [],
   "source": [
    "def get_question_text(key):\n",
    "    q = df_key0.loc[df_key0.iloc[:,0]==str(key.strip()),'text']\n",
    "    if len(q.values)>0:\n",
    "        return q.values[0]\n",
    "    else:\n",
    "        return 'shitsfucked'\n"
   ]
  },
  {
   "cell_type": "code",
   "execution_count": null,
   "metadata": {
    "collapsed": false
   },
   "outputs": [],
   "source": []
  },
  {
   "cell_type": "markdown",
   "metadata": {},
   "source": [
    "# Connect to database"
   ]
  },
  {
   "cell_type": "code",
   "execution_count": 5,
   "metadata": {
    "collapsed": false
   },
   "outputs": [],
   "source": [
    "engine = sq.create_engine('sqlite:///OKC_Processed_DB.db') #create connection to the database"
   ]
  },
  {
   "cell_type": "markdown",
   "metadata": {},
   "source": [
    "# Get tables"
   ]
  },
  {
   "cell_type": "code",
   "execution_count": 6,
   "metadata": {
    "collapsed": false
   },
   "outputs": [],
   "source": [
    "df_num = pd.read_sql_table('numerical_attributes',engine)\n",
    "df_rsp = pd.read_sql_table('question_responses',engine)\n",
    "df_att = pd.read_sql_table('attributes_preferences',engine)\n",
    "df_tst = pd.read_sql_table('test_responses',engine)\n",
    "df_key0 = pd.read_sql_table('questions_key',engine)\n",
    "df_key = df_key0[df_key0.loc[:,'N']>=31548]"
   ]
  },
  {
   "cell_type": "code",
   "execution_count": 7,
   "metadata": {
    "collapsed": false
   },
   "outputs": [
    {
     "name": "stdout",
     "output_type": "stream",
     "text": [
      "[(68372, 56), (68371, 578), (68371, 146), (68371, 47), (231, 10)]\n"
     ]
    }
   ],
   "source": [
    "tableList = [df_num,df_rsp,df_att,df_tst,df_key]\n",
    "shapeList = []\n",
    "for I in tableList:\n",
    "    shapeList.append(I.shape)\n",
    "print(shapeList)\n",
    "\n"
   ]
  },
  {
   "cell_type": "markdown",
   "metadata": {},
   "source": [
    "### table shapes:\n",
    "\n",
    "+ df_num , 'numerical_attributes' , (68371, 55)\n",
    "\n",
    "+ df_rsp, question_responses, (68371, 577)\n",
    "\n",
    "+ df_att, attributes_preferences (68371, 84)\n",
    "\n",
    "+ df_tst, test_responses, (68371, 46)\n",
    "\n",
    "+ df_key, questions_key, (231, 10)"
   ]
  },
  {
   "cell_type": "markdown",
   "metadata": {},
   "source": [
    "# Modelling"
   ]
  },
  {
   "cell_type": "code",
   "execution_count": 8,
   "metadata": {
    "collapsed": false
   },
   "outputs": [
    {
     "data": {
      "text/plain": [
       "'How long do your romantic relationships usually last?'"
      ]
     },
     "execution_count": 8,
     "metadata": {},
     "output_type": "execute_result"
    }
   ],
   "source": [
    "str(get_question(df_key,'q19874').text.values[0])"
   ]
  },
  {
   "cell_type": "code",
   "execution_count": 9,
   "metadata": {
    "collapsed": false
   },
   "outputs": [
    {
     "data": {
      "text/plain": [
       "q34113_It's_okay,_if_it_is_not_abused    18029\n",
       "q34113_Never_-_Get_a_job                 37271\n",
       "q34113_No_problem                         9395\n",
       "q34113_Okay_for_short_amounts_of_time     3676\n",
       "dtype: float64"
      ]
     },
     "execution_count": 9,
     "metadata": {},
     "output_type": "execute_result"
    }
   ],
   "source": [
    "get_columns(df_rsp,'q34113').sum()"
   ]
  },
  {
   "cell_type": "code",
   "execution_count": 10,
   "metadata": {
    "collapsed": true
   },
   "outputs": [],
   "source": [
    "c1 = get_columns(df_rsp,'q19874')"
   ]
  },
  {
   "cell_type": "code",
   "execution_count": 11,
   "metadata": {
    "collapsed": false
   },
   "outputs": [
    {
     "name": "stderr",
     "output_type": "stream",
     "text": [
      "/Users/kylemix/anaconda/lib/python3.5/site-packages/pandas/core/frame.py:2705: SettingWithCopyWarning: \n",
      "A value is trying to be set on a copy of a slice from a DataFrame\n",
      "\n",
      "See the caveats in the documentation: http://pandas.pydata.org/pandas-docs/stable/indexing.html#indexing-view-versus-copy\n",
      "  **kwargs)\n"
     ]
    },
    {
     "data": {
      "text/html": [
       "<div>\n",
       "<table border=\"1\" class=\"dataframe\">\n",
       "  <thead>\n",
       "    <tr style=\"text-align: right;\">\n",
       "      <th></th>\n",
       "      <th>Unnamed: 0</th>\n",
       "      <th>text</th>\n",
       "      <th>option_1</th>\n",
       "      <th>option_2</th>\n",
       "      <th>option_3</th>\n",
       "      <th>option_4</th>\n",
       "      <th>N</th>\n",
       "      <th>Type</th>\n",
       "      <th>Order</th>\n",
       "      <th>Keywords</th>\n",
       "    </tr>\n",
       "  </thead>\n",
       "  <tbody>\n",
       "    <tr>\n",
       "      <th>3</th>\n",
       "      <td>d_orientation</td>\n",
       "      <td>Sexual orientation</td>\n",
       "      <td>0</td>\n",
       "      <td>0</td>\n",
       "      <td>0</td>\n",
       "      <td>0</td>\n",
       "      <td>66365</td>\n",
       "      <td>0</td>\n",
       "      <td>0</td>\n",
       "      <td>0</td>\n",
       "    </tr>\n",
       "    <tr>\n",
       "      <th>29</th>\n",
       "      <td>q325</td>\n",
       "      <td>Would you consider having an open relationship...</td>\n",
       "      <td>Yes</td>\n",
       "      <td>No</td>\n",
       "      <td>0</td>\n",
       "      <td>0</td>\n",
       "      <td>54443</td>\n",
       "      <td>O</td>\n",
       "      <td>0</td>\n",
       "      <td>sex/intimacy; preference</td>\n",
       "    </tr>\n",
       "    <tr>\n",
       "      <th>36</th>\n",
       "      <td>q1597</td>\n",
       "      <td>Would you consider sleeping with someone on th...</td>\n",
       "      <td>Yes</td>\n",
       "      <td>No</td>\n",
       "      <td>0</td>\n",
       "      <td>0</td>\n",
       "      <td>52509</td>\n",
       "      <td>O</td>\n",
       "      <td>0</td>\n",
       "      <td>sex/intimacy; preference</td>\n",
       "    </tr>\n",
       "    <tr>\n",
       "      <th>42</th>\n",
       "      <td>q24375</td>\n",
       "      <td>Say you've started seeing someone you really l...</td>\n",
       "      <td>1-2 dates</td>\n",
       "      <td>3-5 dates</td>\n",
       "      <td>6 or more dates</td>\n",
       "      <td>Only after the wedding</td>\n",
       "      <td>51072</td>\n",
       "      <td>O</td>\n",
       "      <td>0</td>\n",
       "      <td>sex/intimacy; religion/superstition; preference</td>\n",
       "    </tr>\n",
       "    <tr>\n",
       "      <th>46</th>\n",
       "      <td>q35</td>\n",
       "      <td>Regardless of future plans, what's more intere...</td>\n",
       "      <td>Sex</td>\n",
       "      <td>Love</td>\n",
       "      <td>0</td>\n",
       "      <td>0</td>\n",
       "      <td>50384</td>\n",
       "      <td>N</td>\n",
       "      <td>0</td>\n",
       "      <td>sex/intimacy</td>\n",
       "    </tr>\n",
       "    <tr>\n",
       "      <th>47</th>\n",
       "      <td>q12964</td>\n",
       "      <td>Would you need to sleep with someone before yo...</td>\n",
       "      <td>Yes</td>\n",
       "      <td>No</td>\n",
       "      <td>0</td>\n",
       "      <td>0</td>\n",
       "      <td>50115</td>\n",
       "      <td>O</td>\n",
       "      <td>0</td>\n",
       "      <td>sex/intimacy; preference</td>\n",
       "    </tr>\n",
       "    <tr>\n",
       "      <th>53</th>\n",
       "      <td>q149</td>\n",
       "      <td>Which makes for a better relationship?</td>\n",
       "      <td>Passion</td>\n",
       "      <td>Dedication</td>\n",
       "      <td>0</td>\n",
       "      <td>0</td>\n",
       "      <td>49355</td>\n",
       "      <td>N</td>\n",
       "      <td>0</td>\n",
       "      <td>sex/intimacy</td>\n",
       "    </tr>\n",
       "    <tr>\n",
       "      <th>54</th>\n",
       "      <td>q70</td>\n",
       "      <td>Do you think homosexuality is a sin?</td>\n",
       "      <td>Yes</td>\n",
       "      <td>No</td>\n",
       "      <td>0</td>\n",
       "      <td>0</td>\n",
       "      <td>48983</td>\n",
       "      <td>O</td>\n",
       "      <td>0</td>\n",
       "      <td>religion/superstition</td>\n",
       "    </tr>\n",
       "    <tr>\n",
       "      <th>69</th>\n",
       "      <td>q12605</td>\n",
       "      <td>Once you're intimate, how often would you and ...</td>\n",
       "      <td>Every day</td>\n",
       "      <td>About every other day</td>\n",
       "      <td>Once or twice a week</td>\n",
       "      <td>A few times a month or less</td>\n",
       "      <td>46098</td>\n",
       "      <td>O</td>\n",
       "      <td>0</td>\n",
       "      <td>sex/intimacy</td>\n",
       "    </tr>\n",
       "    <tr>\n",
       "      <th>76</th>\n",
       "      <td>q20135</td>\n",
       "      <td>How do you feel about falling in love?</td>\n",
       "      <td>I love it and want it very much</td>\n",
       "      <td>I try to avoid it</td>\n",
       "      <td>I like to just let it happen</td>\n",
       "      <td>I'm indifferent / not sure</td>\n",
       "      <td>44683</td>\n",
       "      <td>O</td>\n",
       "      <td>2, (3, 4), 1</td>\n",
       "      <td>sex/intimacy; preference</td>\n",
       "    </tr>\n",
       "    <tr>\n",
       "      <th>93</th>\n",
       "      <td>q1401</td>\n",
       "      <td>Have you ever had a sexual encounter with some...</td>\n",
       "      <td>Yes, and I enjoyed myself.</td>\n",
       "      <td>Yes, and I did not enjoy myself.</td>\n",
       "      <td>No, and I would never.</td>\n",
       "      <td>No, but I would like to.</td>\n",
       "      <td>41622</td>\n",
       "      <td>O</td>\n",
       "      <td>3, 4, 2, 1</td>\n",
       "      <td>sex/intimacy; descriptive</td>\n",
       "    </tr>\n",
       "    <tr>\n",
       "      <th>108</th>\n",
       "      <td>q35355</td>\n",
       "      <td>How open are you to trying new things in bed?</td>\n",
       "      <td>Very open. I'll try anything once.</td>\n",
       "      <td>I'm open, but I don't get too crazy.</td>\n",
       "      <td>Hesitant, but it might happen.</td>\n",
       "      <td>Not at all.</td>\n",
       "      <td>40231</td>\n",
       "      <td>O</td>\n",
       "      <td>0</td>\n",
       "      <td>sex/intimacy</td>\n",
       "    </tr>\n",
       "    <tr>\n",
       "      <th>109</th>\n",
       "      <td>q19378</td>\n",
       "      <td>How are you most likely to show your partner y...</td>\n",
       "      <td>Words: Tell them how much you appreciate them</td>\n",
       "      <td>Actions: Do something nice (like a date or err...</td>\n",
       "      <td>Gifts: Buy them flowers, jewelery or a new gadget</td>\n",
       "      <td>Touch: Give them a hug, massage or kiss</td>\n",
       "      <td>40178</td>\n",
       "      <td>N</td>\n",
       "      <td>0</td>\n",
       "      <td>sex/intimacy; preference; descriptive</td>\n",
       "    </tr>\n",
       "    <tr>\n",
       "      <th>114</th>\n",
       "      <td>q14913</td>\n",
       "      <td>Did you join OkCupid just so you could find pe...</td>\n",
       "      <td>Yes</td>\n",
       "      <td>No</td>\n",
       "      <td>0</td>\n",
       "      <td>0</td>\n",
       "      <td>39790</td>\n",
       "      <td>O</td>\n",
       "      <td>0</td>\n",
       "      <td>sex/intimacy; descriptive</td>\n",
       "    </tr>\n",
       "    <tr>\n",
       "      <th>120</th>\n",
       "      <td>q31840</td>\n",
       "      <td>I prefer to sleep:</td>\n",
       "      <td>Alone</td>\n",
       "      <td>With my partner, but apart (not touching)</td>\n",
       "      <td>Touching my partner</td>\n",
       "      <td>Embracing / cuddling my partner</td>\n",
       "      <td>39117</td>\n",
       "      <td>O</td>\n",
       "      <td>0</td>\n",
       "      <td>sex/intimacy</td>\n",
       "    </tr>\n",
       "    <tr>\n",
       "      <th>121</th>\n",
       "      <td>q146</td>\n",
       "      <td>Choose the better romantic activity:</td>\n",
       "      <td>Kissing in Paris</td>\n",
       "      <td>Kissing in a tent, in the woods</td>\n",
       "      <td>0</td>\n",
       "      <td>0</td>\n",
       "      <td>39103</td>\n",
       "      <td>N</td>\n",
       "      <td>0</td>\n",
       "      <td>sex/intimacy; preference</td>\n",
       "    </tr>\n",
       "    <tr>\n",
       "      <th>128</th>\n",
       "      <td>q63114</td>\n",
       "      <td>How do you think your sex drive compares to wh...</td>\n",
       "      <td>My sex drive is higher than average.</td>\n",
       "      <td>My sex drive is about average.</td>\n",
       "      <td>My sex drive is below average.</td>\n",
       "      <td>I'm insatiable.</td>\n",
       "      <td>38203</td>\n",
       "      <td>O</td>\n",
       "      <td>4, 1, 2, 3</td>\n",
       "      <td>sex/intimacy</td>\n",
       "    </tr>\n",
       "    <tr>\n",
       "      <th>129</th>\n",
       "      <td>q17</td>\n",
       "      <td>Would you date someone just for the sex?</td>\n",
       "      <td>Yes</td>\n",
       "      <td>No</td>\n",
       "      <td>0</td>\n",
       "      <td>0</td>\n",
       "      <td>38180</td>\n",
       "      <td>O</td>\n",
       "      <td>0</td>\n",
       "      <td>sex/intimacy</td>\n",
       "    </tr>\n",
       "    <tr>\n",
       "      <th>130</th>\n",
       "      <td>q784</td>\n",
       "      <td>Would you be okay with your significant other ...</td>\n",
       "      <td>Yes</td>\n",
       "      <td>No</td>\n",
       "      <td>0</td>\n",
       "      <td>0</td>\n",
       "      <td>38166</td>\n",
       "      <td>O</td>\n",
       "      <td>0</td>\n",
       "      <td>sex/intimacy; preference</td>\n",
       "    </tr>\n",
       "    <tr>\n",
       "      <th>133</th>\n",
       "      <td>q18530</td>\n",
       "      <td>Do you want your partner to be kinkier than you?</td>\n",
       "      <td>Yes</td>\n",
       "      <td>No</td>\n",
       "      <td>Not possible</td>\n",
       "      <td>0</td>\n",
       "      <td>37678</td>\n",
       "      <td>M</td>\n",
       "      <td>[3]</td>\n",
       "      <td>sex/intimacy</td>\n",
       "    </tr>\n",
       "    <tr>\n",
       "      <th>137</th>\n",
       "      <td>q25228</td>\n",
       "      <td>Do you think drug use with your partner can be...</td>\n",
       "      <td>Yes</td>\n",
       "      <td>No</td>\n",
       "      <td>0</td>\n",
       "      <td>0</td>\n",
       "      <td>37188</td>\n",
       "      <td>O</td>\n",
       "      <td>0</td>\n",
       "      <td>sex/intimacy; preference; opinion</td>\n",
       "    </tr>\n",
       "    <tr>\n",
       "      <th>138</th>\n",
       "      <td>q31877</td>\n",
       "      <td>When men show extra courtesy toward women (ope...</td>\n",
       "      <td>Admirable and desirable. Chivalry's not dead.</td>\n",
       "      <td>Unnecessary but appreciated.</td>\n",
       "      <td>Sexist and insulting, women are perfectly capa...</td>\n",
       "      <td>0</td>\n",
       "      <td>37183</td>\n",
       "      <td>O</td>\n",
       "      <td>0</td>\n",
       "      <td>politics; opinion</td>\n",
       "    </tr>\n",
       "    <tr>\n",
       "      <th>139</th>\n",
       "      <td>q1028</td>\n",
       "      <td>Is your ideal sex rough or gentle?</td>\n",
       "      <td>Rough</td>\n",
       "      <td>Gentle</td>\n",
       "      <td>I enjoy both equally</td>\n",
       "      <td>I'm a virgin</td>\n",
       "      <td>37097</td>\n",
       "      <td>M</td>\n",
       "      <td>2, 3, 1, [4]</td>\n",
       "      <td>sex/intimacy</td>\n",
       "    </tr>\n",
       "    <tr>\n",
       "      <th>142</th>\n",
       "      <td>q20889</td>\n",
       "      <td>What's your opinion of the phrase 'making love...</td>\n",
       "      <td>It's beautiful.</td>\n",
       "      <td>It's hokey and overly sentimental.</td>\n",
       "      <td>It refers to a very specific kind of sex.</td>\n",
       "      <td>It's no better or worse than any other.</td>\n",
       "      <td>36901</td>\n",
       "      <td>N</td>\n",
       "      <td>0</td>\n",
       "      <td>opinion</td>\n",
       "    </tr>\n",
       "    <tr>\n",
       "      <th>149</th>\n",
       "      <td>q979</td>\n",
       "      <td>How many children would you ideally like to have?</td>\n",
       "      <td>None</td>\n",
       "      <td>1-2</td>\n",
       "      <td>3-4</td>\n",
       "      <td>5 or more!</td>\n",
       "      <td>36507</td>\n",
       "      <td>O</td>\n",
       "      <td>0</td>\n",
       "      <td>sex/intimacy; preference</td>\n",
       "    </tr>\n",
       "    <tr>\n",
       "      <th>150</th>\n",
       "      <td>q136</td>\n",
       "      <td>Would you get upset if your girlfriend/boyfrie...</td>\n",
       "      <td>Yes</td>\n",
       "      <td>No</td>\n",
       "      <td>0</td>\n",
       "      <td>0</td>\n",
       "      <td>36168</td>\n",
       "      <td>O</td>\n",
       "      <td>0</td>\n",
       "      <td>sex/intimacy; preference; descriptive</td>\n",
       "    </tr>\n",
       "    <tr>\n",
       "      <th>152</th>\n",
       "      <td>q1185</td>\n",
       "      <td>In a serious relationship, do you feel it's im...</td>\n",
       "      <td>Yes</td>\n",
       "      <td>No</td>\n",
       "      <td>Some</td>\n",
       "      <td>I don't do serious relationships</td>\n",
       "      <td>36121</td>\n",
       "      <td>M</td>\n",
       "      <td>2, 3, 1, [4]</td>\n",
       "      <td>sex/intimacy; preference; opinion</td>\n",
       "    </tr>\n",
       "    <tr>\n",
       "      <th>162</th>\n",
       "      <td>q527</td>\n",
       "      <td>Is marriage a necessity for two people who lov...</td>\n",
       "      <td>Yes</td>\n",
       "      <td>No</td>\n",
       "      <td>0</td>\n",
       "      <td>0</td>\n",
       "      <td>35270</td>\n",
       "      <td>O</td>\n",
       "      <td>0</td>\n",
       "      <td>sex/intimacy; religion/superstition</td>\n",
       "    </tr>\n",
       "    <tr>\n",
       "      <th>168</th>\n",
       "      <td>q86366</td>\n",
       "      <td>Could you have respect for someone after havin...</td>\n",
       "      <td>Yes.</td>\n",
       "      <td>No.</td>\n",
       "      <td>Maybe, depending upon the circumstances.</td>\n",
       "      <td>0</td>\n",
       "      <td>34988</td>\n",
       "      <td>O</td>\n",
       "      <td>2, 3, 1</td>\n",
       "      <td>sex/intimacy; descriptive</td>\n",
       "    </tr>\n",
       "    <tr>\n",
       "      <th>169</th>\n",
       "      <td>q8054</td>\n",
       "      <td>Have you ever been in love?</td>\n",
       "      <td>Yes</td>\n",
       "      <td>No</td>\n",
       "      <td>0</td>\n",
       "      <td>0</td>\n",
       "      <td>34876</td>\n",
       "      <td>O</td>\n",
       "      <td>0</td>\n",
       "      <td>sex/intimacy; descriptive</td>\n",
       "    </tr>\n",
       "    <tr>\n",
       "      <th>171</th>\n",
       "      <td>q324</td>\n",
       "      <td>Orgasms are clearly the most important part of...</td>\n",
       "      <td>I agree.</td>\n",
       "      <td>I disagree.</td>\n",
       "      <td>0</td>\n",
       "      <td>0</td>\n",
       "      <td>34643</td>\n",
       "      <td>O</td>\n",
       "      <td>0</td>\n",
       "      <td>sex/intimacy; opinion</td>\n",
       "    </tr>\n",
       "    <tr>\n",
       "      <th>172</th>\n",
       "      <td>q20976</td>\n",
       "      <td>You're in a new relationship and your partner ...</td>\n",
       "      <td>Yes, and it makes me uncomfortable.</td>\n",
       "      <td>I guess, but It doesn't change how I feel.</td>\n",
       "      <td>That seems like an average number.</td>\n",
       "      <td>No, that's nothing.</td>\n",
       "      <td>34627</td>\n",
       "      <td>O</td>\n",
       "      <td>0</td>\n",
       "      <td>opinion</td>\n",
       "    </tr>\n",
       "    <tr>\n",
       "      <th>175</th>\n",
       "      <td>q23993</td>\n",
       "      <td>In terms of sex, how experienced would your id...</td>\n",
       "      <td>Innocent (Virgin)</td>\n",
       "      <td>Slightly Experienced</td>\n",
       "      <td>Moderately Experienced</td>\n",
       "      <td>Very Experienced</td>\n",
       "      <td>34518</td>\n",
       "      <td>O</td>\n",
       "      <td>0</td>\n",
       "      <td>sex/intimacy</td>\n",
       "    </tr>\n",
       "    <tr>\n",
       "      <th>178</th>\n",
       "      <td>q9668</td>\n",
       "      <td>Not as in whips and chains, but in general, do...</td>\n",
       "      <td>Dominant</td>\n",
       "      <td>Submissive</td>\n",
       "      <td>Balanced</td>\n",
       "      <td>0</td>\n",
       "      <td>34373</td>\n",
       "      <td>O</td>\n",
       "      <td>2, 3, 1</td>\n",
       "      <td>sex/intimacy; preference; BDSM</td>\n",
       "    </tr>\n",
       "    <tr>\n",
       "      <th>179</th>\n",
       "      <td>q29384</td>\n",
       "      <td>Would you allow your partner to kiss you after...</td>\n",
       "      <td>Allow? I enjoy it.</td>\n",
       "      <td>Yes.</td>\n",
       "      <td>No.</td>\n",
       "      <td>It depends.</td>\n",
       "      <td>34342</td>\n",
       "      <td>O</td>\n",
       "      <td>0</td>\n",
       "      <td>sex/intimacy</td>\n",
       "    </tr>\n",
       "    <tr>\n",
       "      <th>181</th>\n",
       "      <td>q393</td>\n",
       "      <td>Is there a such thing as having had too many s...</td>\n",
       "      <td>Yes</td>\n",
       "      <td>No</td>\n",
       "      <td>0</td>\n",
       "      <td>0</td>\n",
       "      <td>34232</td>\n",
       "      <td>O</td>\n",
       "      <td>0</td>\n",
       "      <td>sex/intimacy</td>\n",
       "    </tr>\n",
       "    <tr>\n",
       "      <th>184</th>\n",
       "      <td>q1128</td>\n",
       "      <td>Would you date someone who was already in a co...</td>\n",
       "      <td>Yes, even in secret.</td>\n",
       "      <td>Yes, but only if everybody knew.</td>\n",
       "      <td>No, but I don't think it's inherently wrong.</td>\n",
       "      <td>No, it's wrong.</td>\n",
       "      <td>34032</td>\n",
       "      <td>N</td>\n",
       "      <td>0</td>\n",
       "      <td>sex/intimacy; preference</td>\n",
       "    </tr>\n",
       "    <tr>\n",
       "      <th>186</th>\n",
       "      <td>q46563</td>\n",
       "      <td>Assume you have a homosexual friend who is the...</td>\n",
       "      <td>Yes.</td>\n",
       "      <td>No.</td>\n",
       "      <td>Only if I thought the hug was more than friendly.</td>\n",
       "      <td>0</td>\n",
       "      <td>33991</td>\n",
       "      <td>O</td>\n",
       "      <td>2, 3, 1</td>\n",
       "      <td>preference; descriptive</td>\n",
       "    </tr>\n",
       "    <tr>\n",
       "      <th>192</th>\n",
       "      <td>q26557</td>\n",
       "      <td>You're dating someone new. You discover that t...</td>\n",
       "      <td>Makes you feel uncomfortable</td>\n",
       "      <td>Doesn't faze you one bit</td>\n",
       "      <td>0</td>\n",
       "      <td>0</td>\n",
       "      <td>33640</td>\n",
       "      <td>O</td>\n",
       "      <td>0</td>\n",
       "      <td>descriptive</td>\n",
       "    </tr>\n",
       "    <tr>\n",
       "      <th>193</th>\n",
       "      <td>q30169</td>\n",
       "      <td>Do you enjoy giving oral sex?</td>\n",
       "      <td>Love it!</td>\n",
       "      <td>It's okay.</td>\n",
       "      <td>Not so much.</td>\n",
       "      <td>Gross!</td>\n",
       "      <td>33482</td>\n",
       "      <td>O</td>\n",
       "      <td>0</td>\n",
       "      <td>sex/intimacy</td>\n",
       "    </tr>\n",
       "    <tr>\n",
       "      <th>196</th>\n",
       "      <td>q35203</td>\n",
       "      <td>Would you consider being in a relationship wit...</td>\n",
       "      <td>Yes</td>\n",
       "      <td>No</td>\n",
       "      <td>I'm Not Sure / Depends how serious it was</td>\n",
       "      <td>0</td>\n",
       "      <td>33362</td>\n",
       "      <td>O</td>\n",
       "      <td>2, 3, 1</td>\n",
       "      <td>sex/intimacy; preference</td>\n",
       "    </tr>\n",
       "    <tr>\n",
       "      <th>201</th>\n",
       "      <td>q6258</td>\n",
       "      <td>Would you date someone who is bisexual?</td>\n",
       "      <td>Yes</td>\n",
       "      <td>No</td>\n",
       "      <td>0</td>\n",
       "      <td>0</td>\n",
       "      <td>33111</td>\n",
       "      <td>O</td>\n",
       "      <td>0</td>\n",
       "      <td>sex/intimacy; preference</td>\n",
       "    </tr>\n",
       "    <tr>\n",
       "      <th>203</th>\n",
       "      <td>q60852</td>\n",
       "      <td>Do you believe that regular sex is necessary i...</td>\n",
       "      <td>Yes</td>\n",
       "      <td>No</td>\n",
       "      <td>0</td>\n",
       "      <td>0</td>\n",
       "      <td>32953</td>\n",
       "      <td>O</td>\n",
       "      <td>0</td>\n",
       "      <td>sex/intimacy; opinion</td>\n",
       "    </tr>\n",
       "    <tr>\n",
       "      <th>204</th>\n",
       "      <td>q32</td>\n",
       "      <td>Group sex (with 3 or more people):</td>\n",
       "      <td>I have tried it.</td>\n",
       "      <td>It seriously interests me.</td>\n",
       "      <td>I have little or no interest.</td>\n",
       "      <td>0</td>\n",
       "      <td>32816</td>\n",
       "      <td>O</td>\n",
       "      <td>0</td>\n",
       "      <td>sex/intimacy</td>\n",
       "    </tr>\n",
       "    <tr>\n",
       "      <th>205</th>\n",
       "      <td>q72086</td>\n",
       "      <td>If your partner needed lovemaking to always be...</td>\n",
       "      <td>Yes.</td>\n",
       "      <td>No.</td>\n",
       "      <td>0</td>\n",
       "      <td>0</td>\n",
       "      <td>32810</td>\n",
       "      <td>O</td>\n",
       "      <td>0</td>\n",
       "      <td>sex/intimacy</td>\n",
       "    </tr>\n",
       "    <tr>\n",
       "      <th>207</th>\n",
       "      <td>q13</td>\n",
       "      <td>Is a girl who's slept with 100 guys a bad person?</td>\n",
       "      <td>Yes</td>\n",
       "      <td>No</td>\n",
       "      <td>0</td>\n",
       "      <td>0</td>\n",
       "      <td>32581</td>\n",
       "      <td>O</td>\n",
       "      <td>0</td>\n",
       "      <td>sex/intimacy</td>\n",
       "    </tr>\n",
       "    <tr>\n",
       "      <th>214</th>\n",
       "      <td>q1132</td>\n",
       "      <td>Would you ever consider cutting a partner (who...</td>\n",
       "      <td>Yes</td>\n",
       "      <td>Maybe</td>\n",
       "      <td>No</td>\n",
       "      <td>0</td>\n",
       "      <td>32264</td>\n",
       "      <td>O</td>\n",
       "      <td>0</td>\n",
       "      <td>sex/intimacy</td>\n",
       "    </tr>\n",
       "    <tr>\n",
       "      <th>217</th>\n",
       "      <td>q30</td>\n",
       "      <td>Would you like to receive pain during sex?</td>\n",
       "      <td>Yes, lots and lots</td>\n",
       "      <td>Yes, some</td>\n",
       "      <td>No</td>\n",
       "      <td>0</td>\n",
       "      <td>32084</td>\n",
       "      <td>O</td>\n",
       "      <td>0</td>\n",
       "      <td>sex/intimacy; BDSM</td>\n",
       "    </tr>\n",
       "    <tr>\n",
       "      <th>225</th>\n",
       "      <td>q9379</td>\n",
       "      <td>Would you ever date or mess around with a good...</td>\n",
       "      <td>Yes, why not?</td>\n",
       "      <td>No</td>\n",
       "      <td>Yes, but only with my friend's permission</td>\n",
       "      <td>0</td>\n",
       "      <td>31625</td>\n",
       "      <td>O</td>\n",
       "      <td>3, 1, 2</td>\n",
       "      <td>sex/intimacy</td>\n",
       "    </tr>\n",
       "    <tr>\n",
       "      <th>230</th>\n",
       "      <td>q491</td>\n",
       "      <td>What would be more likely to bother you in a r...</td>\n",
       "      <td>Not enough space</td>\n",
       "      <td>Not enough affection</td>\n",
       "      <td>0</td>\n",
       "      <td>0</td>\n",
       "      <td>31548</td>\n",
       "      <td>N</td>\n",
       "      <td>0</td>\n",
       "      <td>sex/intimacy; preference; descriptive</td>\n",
       "    </tr>\n",
       "  </tbody>\n",
       "</table>\n",
       "</div>"
      ],
      "text/plain": [
       "        Unnamed: 0                                               text  \\\n",
       "3    d_orientation                                 Sexual orientation   \n",
       "29            q325  Would you consider having an open relationship...   \n",
       "36           q1597  Would you consider sleeping with someone on th...   \n",
       "42          q24375  Say you've started seeing someone you really l...   \n",
       "46             q35  Regardless of future plans, what's more intere...   \n",
       "47          q12964  Would you need to sleep with someone before yo...   \n",
       "53            q149             Which makes for a better relationship?   \n",
       "54             q70               Do you think homosexuality is a sin?   \n",
       "69          q12605  Once you're intimate, how often would you and ...   \n",
       "76          q20135             How do you feel about falling in love?   \n",
       "93           q1401  Have you ever had a sexual encounter with some...   \n",
       "108         q35355      How open are you to trying new things in bed?   \n",
       "109         q19378  How are you most likely to show your partner y...   \n",
       "114         q14913  Did you join OkCupid just so you could find pe...   \n",
       "120         q31840                                 I prefer to sleep:   \n",
       "121           q146               Choose the better romantic activity:   \n",
       "128         q63114  How do you think your sex drive compares to wh...   \n",
       "129            q17           Would you date someone just for the sex?   \n",
       "130           q784  Would you be okay with your significant other ...   \n",
       "133         q18530   Do you want your partner to be kinkier than you?   \n",
       "137         q25228  Do you think drug use with your partner can be...   \n",
       "138         q31877  When men show extra courtesy toward women (ope...   \n",
       "139          q1028                 Is your ideal sex rough or gentle?   \n",
       "142         q20889  What's your opinion of the phrase 'making love...   \n",
       "149           q979  How many children would you ideally like to have?   \n",
       "150           q136  Would you get upset if your girlfriend/boyfrie...   \n",
       "152          q1185  In a serious relationship, do you feel it's im...   \n",
       "162           q527  Is marriage a necessity for two people who lov...   \n",
       "168         q86366  Could you have respect for someone after havin...   \n",
       "169          q8054                        Have you ever been in love?   \n",
       "171           q324  Orgasms are clearly the most important part of...   \n",
       "172         q20976  You're in a new relationship and your partner ...   \n",
       "175         q23993  In terms of sex, how experienced would your id...   \n",
       "178          q9668  Not as in whips and chains, but in general, do...   \n",
       "179         q29384  Would you allow your partner to kiss you after...   \n",
       "181           q393  Is there a such thing as having had too many s...   \n",
       "184          q1128  Would you date someone who was already in a co...   \n",
       "186         q46563  Assume you have a homosexual friend who is the...   \n",
       "192         q26557  You're dating someone new. You discover that t...   \n",
       "193         q30169                      Do you enjoy giving oral sex?   \n",
       "196         q35203  Would you consider being in a relationship wit...   \n",
       "201          q6258            Would you date someone who is bisexual?   \n",
       "203         q60852  Do you believe that regular sex is necessary i...   \n",
       "204            q32                 Group sex (with 3 or more people):   \n",
       "205         q72086  If your partner needed lovemaking to always be...   \n",
       "207            q13  Is a girl who's slept with 100 guys a bad person?   \n",
       "214          q1132  Would you ever consider cutting a partner (who...   \n",
       "217            q30         Would you like to receive pain during sex?   \n",
       "225          q9379  Would you ever date or mess around with a good...   \n",
       "230           q491  What would be more likely to bother you in a r...   \n",
       "\n",
       "                                          option_1  \\\n",
       "3                                                0   \n",
       "29                                             Yes   \n",
       "36                                             Yes   \n",
       "42                                       1-2 dates   \n",
       "46                                             Sex   \n",
       "47                                             Yes   \n",
       "53                                         Passion   \n",
       "54                                             Yes   \n",
       "69                                       Every day   \n",
       "76                 I love it and want it very much   \n",
       "93                      Yes, and I enjoyed myself.   \n",
       "108             Very open. I'll try anything once.   \n",
       "109  Words: Tell them how much you appreciate them   \n",
       "114                                            Yes   \n",
       "120                                          Alone   \n",
       "121                               Kissing in Paris   \n",
       "128           My sex drive is higher than average.   \n",
       "129                                            Yes   \n",
       "130                                            Yes   \n",
       "133                                            Yes   \n",
       "137                                            Yes   \n",
       "138  Admirable and desirable. Chivalry's not dead.   \n",
       "139                                          Rough   \n",
       "142                                It's beautiful.   \n",
       "149                                           None   \n",
       "150                                            Yes   \n",
       "152                                            Yes   \n",
       "162                                            Yes   \n",
       "168                                           Yes.   \n",
       "169                                            Yes   \n",
       "171                                       I agree.   \n",
       "172            Yes, and it makes me uncomfortable.   \n",
       "175                              Innocent (Virgin)   \n",
       "178                                       Dominant   \n",
       "179                             Allow? I enjoy it.   \n",
       "181                                            Yes   \n",
       "184                           Yes, even in secret.   \n",
       "186                                           Yes.   \n",
       "192                   Makes you feel uncomfortable   \n",
       "193                                       Love it!   \n",
       "196                                            Yes   \n",
       "201                                            Yes   \n",
       "203                                            Yes   \n",
       "204                               I have tried it.   \n",
       "205                                           Yes.   \n",
       "207                                            Yes   \n",
       "214                                            Yes   \n",
       "217                             Yes, lots and lots   \n",
       "225                                  Yes, why not?   \n",
       "230                               Not enough space   \n",
       "\n",
       "                                              option_2  \\\n",
       "3                                                    0   \n",
       "29                                                  No   \n",
       "36                                                  No   \n",
       "42                                           3-5 dates   \n",
       "46                                                Love   \n",
       "47                                                  No   \n",
       "53                                          Dedication   \n",
       "54                                                  No   \n",
       "69                               About every other day   \n",
       "76                                   I try to avoid it   \n",
       "93                    Yes, and I did not enjoy myself.   \n",
       "108               I'm open, but I don't get too crazy.   \n",
       "109  Actions: Do something nice (like a date or err...   \n",
       "114                                                 No   \n",
       "120          With my partner, but apart (not touching)   \n",
       "121                    Kissing in a tent, in the woods   \n",
       "128                     My sex drive is about average.   \n",
       "129                                                 No   \n",
       "130                                                 No   \n",
       "133                                                 No   \n",
       "137                                                 No   \n",
       "138                       Unnecessary but appreciated.   \n",
       "139                                             Gentle   \n",
       "142                 It's hokey and overly sentimental.   \n",
       "149                                                1-2   \n",
       "150                                                 No   \n",
       "152                                                 No   \n",
       "162                                                 No   \n",
       "168                                                No.   \n",
       "169                                                 No   \n",
       "171                                        I disagree.   \n",
       "172         I guess, but It doesn't change how I feel.   \n",
       "175                               Slightly Experienced   \n",
       "178                                         Submissive   \n",
       "179                                               Yes.   \n",
       "181                                                 No   \n",
       "184                   Yes, but only if everybody knew.   \n",
       "186                                                No.   \n",
       "192                           Doesn't faze you one bit   \n",
       "193                                         It's okay.   \n",
       "196                                                 No   \n",
       "201                                                 No   \n",
       "203                                                 No   \n",
       "204                         It seriously interests me.   \n",
       "205                                                No.   \n",
       "207                                                 No   \n",
       "214                                              Maybe   \n",
       "217                                          Yes, some   \n",
       "225                                                 No   \n",
       "230                               Not enough affection   \n",
       "\n",
       "                                              option_3  \\\n",
       "3                                                    0   \n",
       "29                                                   0   \n",
       "36                                                   0   \n",
       "42                                     6 or more dates   \n",
       "46                                                   0   \n",
       "47                                                   0   \n",
       "53                                                   0   \n",
       "54                                                   0   \n",
       "69                                Once or twice a week   \n",
       "76                        I like to just let it happen   \n",
       "93                              No, and I would never.   \n",
       "108                     Hesitant, but it might happen.   \n",
       "109  Gifts: Buy them flowers, jewelery or a new gadget   \n",
       "114                                                  0   \n",
       "120                                Touching my partner   \n",
       "121                                                  0   \n",
       "128                     My sex drive is below average.   \n",
       "129                                                  0   \n",
       "130                                                  0   \n",
       "133                                       Not possible   \n",
       "137                                                  0   \n",
       "138  Sexist and insulting, women are perfectly capa...   \n",
       "139                               I enjoy both equally   \n",
       "142          It refers to a very specific kind of sex.   \n",
       "149                                                3-4   \n",
       "150                                                  0   \n",
       "152                                               Some   \n",
       "162                                                  0   \n",
       "168           Maybe, depending upon the circumstances.   \n",
       "169                                                  0   \n",
       "171                                                  0   \n",
       "172                 That seems like an average number.   \n",
       "175                             Moderately Experienced   \n",
       "178                                           Balanced   \n",
       "179                                                No.   \n",
       "181                                                  0   \n",
       "184       No, but I don't think it's inherently wrong.   \n",
       "186  Only if I thought the hug was more than friendly.   \n",
       "192                                                  0   \n",
       "193                                       Not so much.   \n",
       "196          I'm Not Sure / Depends how serious it was   \n",
       "201                                                  0   \n",
       "203                                                  0   \n",
       "204                      I have little or no interest.   \n",
       "205                                                  0   \n",
       "207                                                  0   \n",
       "214                                                 No   \n",
       "217                                                 No   \n",
       "225          Yes, but only with my friend's permission   \n",
       "230                                                  0   \n",
       "\n",
       "                                    option_4      N Type         Order  \\\n",
       "3                                          0  66365    0             0   \n",
       "29                                         0  54443    O             0   \n",
       "36                                         0  52509    O             0   \n",
       "42                    Only after the wedding  51072    O             0   \n",
       "46                                         0  50384    N             0   \n",
       "47                                         0  50115    O             0   \n",
       "53                                         0  49355    N             0   \n",
       "54                                         0  48983    O             0   \n",
       "69               A few times a month or less  46098    O             0   \n",
       "76                I'm indifferent / not sure  44683    O  2, (3, 4), 1   \n",
       "93                  No, but I would like to.  41622    O    3, 4, 2, 1   \n",
       "108                              Not at all.  40231    O             0   \n",
       "109  Touch: Give them a hug, massage or kiss  40178    N             0   \n",
       "114                                        0  39790    O             0   \n",
       "120          Embracing / cuddling my partner  39117    O             0   \n",
       "121                                        0  39103    N             0   \n",
       "128                          I'm insatiable.  38203    O    4, 1, 2, 3   \n",
       "129                                        0  38180    O             0   \n",
       "130                                        0  38166    O             0   \n",
       "133                                        0  37678    M           [3]   \n",
       "137                                        0  37188    O             0   \n",
       "138                                        0  37183    O             0   \n",
       "139                             I'm a virgin  37097    M  2, 3, 1, [4]   \n",
       "142  It's no better or worse than any other.  36901    N             0   \n",
       "149                               5 or more!  36507    O             0   \n",
       "150                                        0  36168    O             0   \n",
       "152         I don't do serious relationships  36121    M  2, 3, 1, [4]   \n",
       "162                                        0  35270    O             0   \n",
       "168                                        0  34988    O       2, 3, 1   \n",
       "169                                        0  34876    O             0   \n",
       "171                                        0  34643    O             0   \n",
       "172                      No, that's nothing.  34627    O             0   \n",
       "175                         Very Experienced  34518    O             0   \n",
       "178                                        0  34373    O       2, 3, 1   \n",
       "179                              It depends.  34342    O             0   \n",
       "181                                        0  34232    O             0   \n",
       "184                          No, it's wrong.  34032    N             0   \n",
       "186                                        0  33991    O       2, 3, 1   \n",
       "192                                        0  33640    O             0   \n",
       "193                                   Gross!  33482    O             0   \n",
       "196                                        0  33362    O       2, 3, 1   \n",
       "201                                        0  33111    O             0   \n",
       "203                                        0  32953    O             0   \n",
       "204                                        0  32816    O             0   \n",
       "205                                        0  32810    O             0   \n",
       "207                                        0  32581    O             0   \n",
       "214                                        0  32264    O             0   \n",
       "217                                        0  32084    O             0   \n",
       "225                                        0  31625    O       3, 1, 2   \n",
       "230                                        0  31548    N             0   \n",
       "\n",
       "                                            Keywords  \n",
       "3                                                  0  \n",
       "29                          sex/intimacy; preference  \n",
       "36                          sex/intimacy; preference  \n",
       "42   sex/intimacy; religion/superstition; preference  \n",
       "46                                      sex/intimacy  \n",
       "47                          sex/intimacy; preference  \n",
       "53                                      sex/intimacy  \n",
       "54                             religion/superstition  \n",
       "69                                      sex/intimacy  \n",
       "76                          sex/intimacy; preference  \n",
       "93                         sex/intimacy; descriptive  \n",
       "108                                     sex/intimacy  \n",
       "109            sex/intimacy; preference; descriptive  \n",
       "114                        sex/intimacy; descriptive  \n",
       "120                                     sex/intimacy  \n",
       "121                         sex/intimacy; preference  \n",
       "128                                     sex/intimacy  \n",
       "129                                     sex/intimacy  \n",
       "130                         sex/intimacy; preference  \n",
       "133                                     sex/intimacy  \n",
       "137                sex/intimacy; preference; opinion  \n",
       "138                                politics; opinion  \n",
       "139                                     sex/intimacy  \n",
       "142                                          opinion  \n",
       "149                         sex/intimacy; preference  \n",
       "150            sex/intimacy; preference; descriptive  \n",
       "152                sex/intimacy; preference; opinion  \n",
       "162              sex/intimacy; religion/superstition  \n",
       "168                        sex/intimacy; descriptive  \n",
       "169                        sex/intimacy; descriptive  \n",
       "171                            sex/intimacy; opinion  \n",
       "172                                          opinion  \n",
       "175                                     sex/intimacy  \n",
       "178                   sex/intimacy; preference; BDSM  \n",
       "179                                     sex/intimacy  \n",
       "181                                     sex/intimacy  \n",
       "184                         sex/intimacy; preference  \n",
       "186                          preference; descriptive  \n",
       "192                                      descriptive  \n",
       "193                                     sex/intimacy  \n",
       "196                         sex/intimacy; preference  \n",
       "201                         sex/intimacy; preference  \n",
       "203                            sex/intimacy; opinion  \n",
       "204                                     sex/intimacy  \n",
       "205                                     sex/intimacy  \n",
       "207                                     sex/intimacy  \n",
       "214                                     sex/intimacy  \n",
       "217                               sex/intimacy; BDSM  \n",
       "225                                     sex/intimacy  \n",
       "230            sex/intimacy; preference; descriptive  "
      ]
     },
     "execution_count": 11,
     "metadata": {},
     "output_type": "execute_result"
    }
   ],
   "source": [
    "def search_questions(df,key):\n",
    "    indexlist = []\n",
    "    key = str.upper(key)\n",
    "    df.fillna(value=0,inplace=True)\n",
    "    for i in range(len(df_key.iloc[:,1])):\n",
    "        if key in str.upper(str(df_key.iloc[i,1])):\n",
    "            indexlist.append(i)\n",
    "        elif key in str.upper(str(df_key.iloc[i,2])):\n",
    "            indexlist.append(i)\n",
    "        elif key in str.upper(str(df_key.iloc[i,3])):\n",
    "            indexlist.append(i)\n",
    "        elif key in str.upper(str(df_key.iloc[i,4])):\n",
    "            indexlist.append(i)\n",
    "        elif key in str.upper(str(df_key.iloc[i,5])):\n",
    "            indexlist.append(i)\n",
    "        elif key in str.upper(str(df_key.iloc[i,6])):\n",
    "            indexlist.append(i)\n",
    "        elif key in str.upper(str(df_key.iloc[i,7])):\n",
    "            indexlist.append(i)\n",
    "        elif key in str.upper(str(df_key.iloc[i,8])):\n",
    "            indexlist.append(i)\n",
    "        elif key in str.upper(str(df_key.iloc[i,9])):\n",
    "            indexlist.append(i)\n",
    "    return df_key.iloc[indexlist,:]\n",
    "#Example\n",
    "search_questions(df_key,'sex')"
   ]
  },
  {
   "cell_type": "code",
   "execution_count": 12,
   "metadata": {
    "collapsed": false
   },
   "outputs": [
    {
     "name": "stderr",
     "output_type": "stream",
     "text": [
      "/Users/kylemix/anaconda/lib/python3.5/site-packages/pandas/core/frame.py:2705: SettingWithCopyWarning: \n",
      "A value is trying to be set on a copy of a slice from a DataFrame\n",
      "\n",
      "See the caveats in the documentation: http://pandas.pydata.org/pandas-docs/stable/indexing.html#indexing-view-versus-copy\n",
      "  **kwargs)\n"
     ]
    }
   ],
   "source": [
    "dfSex = search_questions(df_key,'virgin')\n",
    "dfPartners = search_questions(df_key,'open')\n"
   ]
  },
  {
   "cell_type": "code",
   "execution_count": 13,
   "metadata": {
    "collapsed": false
   },
   "outputs": [],
   "source": [
    "sql1 = \"SELECT AVG(num.CA) FROM numerical_attributes num INNER JOIN attributes_preferences att ON num.userID = att.userID WHERE att.d_education_type_Two_year_college = 1\"  \n",
    "\n",
    "sql2 = \"SELECT rsp FROM attributes_preferences att INNER JOIN question_responses rsp ON att.userID = rsp.userID WHERE att.d_Black = 1\""
   ]
  },
  {
   "cell_type": "code",
   "execution_count": 14,
   "metadata": {
    "collapsed": true
   },
   "outputs": [],
   "source": [
    "lawyers = \"SELECT * FROM question_responses rsp WHERE rsp.userID IN (SELECT userID FROM attributes_preferences WHERE d_education_type_Law_school = 1)\"\n",
    "fatties = \"SELECT * FROM question_responses rsp WHERE rsp.userID IN (SELECT userID FROM attributes_preferences WHERE d_bodytype_Overweight = 1)\"\n",
    "taken = \"SELECT * FROM question_responses rsp WHERE rsp.userID IN (SELECT userID FROM attributes_preferences WHERE d_relationship_Seeing_Someone = 1)\"\n",
    "sales =  \"SELECT * FROM question_responses rsp WHERE rsp.userID IN (SELECT userID FROM attributes_preferences WHERE d_job_Sales_\\/_Marketing = 1)\"\n",
    "wellFareHaters = \"SELECT * FROM question_responses rsp WHERE rsp.q34113_Never_-_Get_a_job = 1\""
   ]
  },
  {
   "cell_type": "code",
   "execution_count": 15,
   "metadata": {
    "collapsed": false
   },
   "outputs": [],
   "source": [
    "# result = engine.execute(\"SELECT * FROM question_responses LIMIT 1 \")\n",
    "# dfx = pd.read_sql_query(\"SELECT * FROM questions_key WHERE Keywords LIKE '%preference%' \",engine)\n",
    "# well = pd.read_sql_query(wellFareHaters,engine)\n"
   ]
  },
  {
   "cell_type": "code",
   "execution_count": 16,
   "metadata": {
    "collapsed": false,
    "scrolled": true
   },
   "outputs": [],
   "source": [
    "# lawyerCorrelations = dfx.corr()"
   ]
  },
  {
   "cell_type": "code",
   "execution_count": 19,
   "metadata": {
    "collapsed": false
   },
   "outputs": [],
   "source": [
    "def nullAutoCorr(x):\n",
    "    if x == 1.0:\n",
    "        return np.nan\n",
    "    else:\n",
    "        return x"
   ]
  },
  {
   "cell_type": "code",
   "execution_count": 20,
   "metadata": {
    "collapsed": true
   },
   "outputs": [],
   "source": [
    "def split_questionID(x):\n",
    "    bb = x.split('_')\n",
    "    return bb[0]\n",
    "\n",
    "def splt_Q_Response(x):\n",
    "    bb = x.split('_')\n",
    "    ret = bb[1:]\n",
    "    return ' '.join(ret)\n",
    "\n",
    "def mostNegTable(df,newdf):\n",
    "    newdf.columns=['testQuestionResponseNeg','QuesIDTestNeg','testResponseTextNeg','corrNeg']\n",
    "    for x in range(1,df.shape[1]-1):\n",
    "        tt = df.iloc[:,x].nsmallest(2)\n",
    "        a = tt.reset_index()\n",
    "        qResp = a.iloc[1,0]\n",
    "        respCorr = a.iloc[1,1]\n",
    "        qID = split_questionID(qResp)\n",
    "        respText = splt_Q_Response(qResp)\n",
    "        newdf.loc[x]= str(qResp), str(qID), str(respText), str(respCorr)  \n",
    "\n",
    "        \n",
    "def mpt(df,newdf):\n",
    "    newdf.columns=['testQuestionResponsePos','QuesIDTestPos','testResponseTextPos','corrPos']\n",
    "    for x in range(1,df.shape[1]-1):\n",
    "        tt = df.iloc[:,x].nlargest(2)\n",
    "        a = tt.reset_index()\n",
    "        qResp = a.iloc[0,0]\n",
    "        respCorr = a.iloc[0,1]\n",
    "        qID = split_questionID(qResp)\n",
    "        respText = splt_Q_Response(qResp)\n",
    "        newdf.loc[x]= str(qResp), str(qID), str(respText), str(respCorr) \n",
    "        "
   ]
  },
  {
   "cell_type": "code",
   "execution_count": 21,
   "metadata": {
    "collapsed": false
   },
   "outputs": [],
   "source": [
    "# list of pridictor questions\n",
    "\n",
    "df_q18698 = get_columns(df_tst,'q18698')\n",
    "df_q1062 = get_columns(df_rsp,'q1062')\n",
    "df_q1128 = get_columns(df_rsp,'q1128')\n",
    "df_q123 = get_columns(df_rsp,'q123')\n",
    "df_q123['blank1'] = np.zeros((68371,1))\n",
    "df_q123['blank2'] = np.zeros((68371,1))\n",
    "df_q136 = get_columns(df_rsp,'q136')\n",
    "df_q136['blank3'] = np.zeros((68371,1))\n",
    "df_q136['blank4'] = np.zeros((68371,1))\n",
    "df_q15280 = get_columns(df_rsp,'q15280')\n",
    "df_q15280['blank5'] = np.zeros((68371,1))\n",
    "df_q15280['blank6'] = np.zeros((68371,1))\n",
    "df_q1597 = get_columns(df_rsp,'q1597')\n",
    "df_q1597['blank7'] = np.zeros((68371,1))\n",
    "df_q1597['blank8'] = np.zeros((68371,1))\n",
    "df_q19874 = get_columns(df_rsp,'q19874')\n",
    "df_q274 = get_columns(df_rsp,'q274_')\n",
    "df_q35 = get_columns(df_rsp,'q35_')\n",
    "df_q35['blank9'] = np.zeros((68371,1))\n",
    "df_q35['blank10'] = np.zeros((68371,1))\n",
    "df_q358084 = get_columns(df_rsp,'q358084')\n",
    "df_q358084['blank11'] = np.zeros((68371,1))\n",
    "df_q358084['blank12'] = np.zeros((68371,1))\n",
    "df_q37693 = get_columns(df_rsp,'q37693')\n",
    "df_q393 = get_columns(df_rsp,'q393_')\n",
    "df_q393['blank13'] = np.zeros((68371,1))\n",
    "df_q393['blank14'] = np.zeros((68371,1))\n",
    "df_q4018 = get_columns(df_rsp,'q4018')\n",
    "df_q4018['blank15'] = np.zeros((68371,1))\n",
    "df_q4018['blank16'] = np.zeros((68371,1))\n",
    "df_q43261 = get_columns(df_rsp,'q43261')\n",
    "df_q60100 = get_columns(df_rsp,'q60100')\n",
    "df_q60100['blank17'] = np.zeros((68371,1))\n",
    "df_q60100['blank18'] = np.zeros((68371,1))\n",
    "df_q66506 = get_columns(df_rsp,'q66506')\n",
    "df_q66506['blank19'] = np.zeros((68371,1))\n",
    "df_q77 = get_columns(df_rsp,'q77')\n",
    "df_q79 = get_columns(df_rsp,'q79')\n",
    "df_q81 = get_columns(df_rsp,'q81_')\n",
    "dfPred = pd.concat([df_q81,df_q79,df_q77,df_q66506,df_q60100,\n",
    "                    df_q43261,df_q4018,df_q393,df_q37693,df_q358084,df_q35,df_q274,df_q19874,df_q1597,\n",
    "                   df_q15280,df_q136,df_q123,df_q1128,df_q1062, df_q18698],axis=1)"
   ]
  },
  {
   "cell_type": "code",
   "execution_count": 22,
   "metadata": {
    "collapsed": false
   },
   "outputs": [
    {
     "data": {
      "text/plain": [
       "(68371, 80)"
      ]
     },
     "execution_count": 22,
     "metadata": {},
     "output_type": "execute_result"
    }
   ],
   "source": [
    "dfPred.shape"
   ]
  },
  {
   "cell_type": "code",
   "execution_count": 23,
   "metadata": {
    "collapsed": false
   },
   "outputs": [
    {
     "data": {
      "text/plain": [
       "(68371, 80)"
      ]
     },
     "execution_count": 23,
     "metadata": {},
     "output_type": "execute_result"
    }
   ],
   "source": [
    "dfPred.shape\n",
    "\n",
    "\n",
    "# 41, 42 "
   ]
  },
  {
   "cell_type": "code",
   "execution_count": 24,
   "metadata": {
    "collapsed": false
   },
   "outputs": [
    {
     "ename": "NameError",
     "evalue": "name 'dftest' is not defined",
     "output_type": "error",
     "traceback": [
      "\u001b[0;31m---------------------------------------------------------------------------\u001b[0m",
      "\u001b[0;31mNameError\u001b[0m                                 Traceback (most recent call last)",
      "\u001b[0;32m<ipython-input-24-6c23d2b69bc4>\u001b[0m in \u001b[0;36m<module>\u001b[0;34m()\u001b[0m\n\u001b[0;32m----> 1\u001b[0;31m \u001b[0mdftest\u001b[0m\u001b[0;34m.\u001b[0m\u001b[0mhead\u001b[0m\u001b[0;34m(\u001b[0m\u001b[0;34m)\u001b[0m\u001b[0;34m\u001b[0m\u001b[0m\n\u001b[0m",
      "\u001b[0;31mNameError\u001b[0m: name 'dftest' is not defined"
     ]
    }
   ],
   "source": [
    "dftest.head()"
   ]
  },
  {
   "cell_type": "code",
   "execution_count": 25,
   "metadata": {
    "collapsed": false
   },
   "outputs": [
    {
     "data": {
      "text/plain": [
       "Index(['q81_Lots', 'q81_Never', 'q81_Rarely', 'q81_Sometimes',\n",
       "       'q79_I_smoke_occasionally.', 'q79_I_smoke_regularly.',\n",
       "       'q79_I_smoked_in_the_past,_but_no_longer.', 'q79_Never.', 'q77_Never',\n",
       "       'q77_Rarely', 'q77_Sometimes', 'q77_Very_often',\n",
       "       'q66506_Not_important.', 'q66506_Somewhat_important.',\n",
       "       'q66506_Very_important.', 'blank19', 'q60100_No', 'q60100_Yes',\n",
       "       'blank17', 'blank18',\n",
       "       'q43261_I_almost_always_do_what_my_parents_think_is_best.',\n",
       "       'q43261_I_always_do_what_my_parents_say.', 'q43261_I_am_my_own_person.',\n",
       "       'q43261_I_consider_their_opinion_but_go_my_own_way.', 'q4018_No',\n",
       "       'q4018_Yes', 'blank15', 'blank16', 'q393_No', 'q393_Yes', 'blank13',\n",
       "       'blank14', 'q37693_No.', 'q37693_Yes,_I'd_be_playing_with_them.',\n",
       "       'q37693_Yes,_but_I_don't_like_video_games.',\n",
       "       'q37693_Yes,_but_I_would_not_play_that_much.', 'q358084_No',\n",
       "       'q358084_Yes', 'blank11', 'blank12', 'q35_Love', 'q35_Sex', 'blank9',\n",
       "       'blank10', 'q274_College', 'q274_Graduate_School', 'q274_High_School',\n",
       "       'q274_Junior_High', 'q19874_0-6_months', 'q19874_12+_months',\n",
       "       'q19874_6-12_months', 'q19874_I've_never_been_in_a_relationship',\n",
       "       'q1597_No', 'q1597_Yes', 'blank7', 'blank8', 'q15280_No', 'q15280_Yes',\n",
       "       'blank5', 'blank6', 'q136_No', 'q136_Yes', 'blank3', 'blank4',\n",
       "       'q123_No', 'q123_Yes', 'blank1', 'blank2',\n",
       "       'q1128_No,_but_I_don't_think_it's_inherently_wrong.',\n",
       "       'q1128_No,_it's_wrong.', 'q1128_Yes,_but_only_if_everybody_knew.',\n",
       "       'q1128_Yes,_even_in_secret.', 'q1062_A_couple_times_a_week.',\n",
       "       'q1062_At_least_once_a_day.', 'q1062_Once_a_week_or_less.',\n",
       "       'q1062_Usually_daily.__I_skip_some.', 'q18698_G_+_V_=_1/T',\n",
       "       'q18698_Not_sure_/_wish_I_could_skip_this_one', 'q18698_PV_=_nRT',\n",
       "       'q18698_y=mx+b'],\n",
       "      dtype='object')"
      ]
     },
     "execution_count": 25,
     "metadata": {},
     "output_type": "execute_result"
    }
   ],
   "source": [
    "dfPred.columns"
   ]
  },
  {
   "cell_type": "code",
   "execution_count": null,
   "metadata": {
    "collapsed": true
   },
   "outputs": [],
   "source": [
    "get_columns(df_rsp,'q170849')\n",
    "# d_gender_Woman"
   ]
  },
  {
   "cell_type": "code",
   "execution_count": 26,
   "metadata": {
    "collapsed": false
   },
   "outputs": [],
   "source": [
    "# what is your stance on open relationships?\n",
    "y1 = df_rsp[['q325_Yes','q325_No']]\n",
    "# what is your gender?\n",
    "y2 = df_att[['d_gender_Man','d_gender_Woman']]\n",
    "# do you google someone on the first date?\n",
    "y3 = df_rsp[[\"q170849_No._Why_spoil_the_mystery?\",\"q170849_Yes._Knowledge_is_power!\"]]\n",
    "# what is your stance on drug use?\n",
    "y4 = get_columns(df_rsp,'q80_')\n",
    "# orgasams are the most important part of sex y/n\n",
    "y5 = get_columns(df_rsp,'q324')\n",
    "# whach best describes you carfree or intense?\n",
    "y6 = get_columns(df_rsp,'q49')\n",
    "# is art important to you?\n",
    "y7 = get_columns(df_rsp, 'q1766')\n",
    "# which would you rather have?  flight or invisibility?\n",
    "y8 = get_columns(df_rsp, 'q445141')\n",
    "# are you annoyed by super logical people?\n",
    "y9 = get_columns(df_rsp, 'q301')\n",
    "# which do you spend more money on clothes or food?\n",
    "y10 = get_columns(df_rsp, 'q74')\n",
    "# would you date someone who kept a gun in the house?\n",
    "y11 = get_columns(df_rsp, 'q31055')\n",
    "# would not enough space or not enough affection bother you more in a relationship?\n",
    "y12 = get_columns(df_rsp, 'q491')\n",
    "# were you picked on a lot in school?\n",
    "y13 = get_columns(df_rsp, 'q313640')"
   ]
  },
  {
   "cell_type": "code",
   "execution_count": 27,
   "metadata": {
    "collapsed": false
   },
   "outputs": [],
   "source": [
    "\n",
    "dfRon = pd.concat([y1,dfPred], axis=1)\n",
    "\n",
    "dfBob = pd.concat([y4,dfPred],axis=1)\n",
    "\n",
    "dfDan = pd.concat([y3,dfPred],axis=1)\n",
    "\n",
    "dfKyle = pd.concat([y2,dfPred],axis=1)\n",
    "\n",
    "dfOrg = pd.concat([y5,dfPred], axis=1)\n",
    "\n",
    "dfInt = pd.concat([y6,dfPred], axis=1)\n",
    "\n",
    "dfArt = pd.concat([y7,dfPred], axis=1)\n",
    "\n",
    "dfFlight = pd.concat([y8,dfPred], axis=1)\n",
    "\n",
    "dfLogic = pd.concat([y9,dfPred], axis=1)\n",
    "\n",
    "dfClothes = pd.concat([y10,dfPred], axis=1)\n",
    "\n",
    "dfGuns = pd.concat([y11,dfPred], axis=1)\n",
    "\n",
    "dfSpace = pd.concat([y12,dfPred], axis=1)\n",
    "\n",
    "dfBullied = pd.concat([y13,dfPred], axis=1)"
   ]
  },
  {
   "cell_type": "code",
   "execution_count": 28,
   "metadata": {
    "collapsed": false
   },
   "outputs": [],
   "source": [
    "\n",
    "dfRon[(dfRon['q325_Yes']==0)&(dfRon['q325_No']==0)]=np.nan\n",
    "dfKyle[(dfKyle['d_gender_Man']==0)&(dfKyle['d_gender_Woman']==0)]=np.nan\n",
    "dfDan[(dfDan[\"q170849_No._Why_spoil_the_mystery?\"]==0)&(dfDan[\"q170849_Yes._Knowledge_is_power!\"]==0)]=np.nan\n",
    "dfBob[(dfBob.iloc[:,0]==0)&(dfBob.iloc[:,1]==0)&(dfBob.iloc[:,2]==0)&(dfBob.iloc[:,3]==0)]=np.nan\n",
    "dfOrg[(dfOrg.iloc[:,0]==0)&(dfOrg.iloc[:,1]==0)]=np.nan\n",
    "dfInt[(dfInt.iloc[:,0]==0)&(dfInt.iloc[:,1]==0)]=np.nan\n",
    "dfArt[(dfArt.iloc[:,0]==0)&(dfArt.iloc[:,1]==0)]=np.nan\n",
    "dfFlight[(dfFlight.iloc[:,0]==0)&(dfFlight.iloc[:,1]==0)]=np.nan\n",
    "dfLogic[(dfLogic.iloc[:,0]==0)&(dfLogic.iloc[:,1]==0)]=np.nan\n",
    "dfClothes[(dfClothes.iloc[:,0]==0)&(dfClothes.iloc[:,1]==0)]=np.nan\n",
    "dfGuns[(dfGuns.iloc[:,0]==0)&(dfGuns.iloc[:,1]==0)]=np.nan\n",
    "dfSpace[(dfSpace.iloc[:,0]==0)&(dfSpace.iloc[:,1]==0)]=np.nan\n",
    "dfBullied[(dfBullied.iloc[:,0]==0)&(dfBullied.iloc[:,1]==0)]=np.nan"
   ]
  },
  {
   "cell_type": "code",
   "execution_count": 29,
   "metadata": {
    "collapsed": false
   },
   "outputs": [],
   "source": [
    "dfRon = dfRon.dropna()\n",
    "dfKyle = dfKyle.dropna()\n",
    "dfDan = dfDan.dropna()\n",
    "dfBob = dfBob.dropna()\n",
    "dfOrg = dfOrg.dropna()\n",
    "dfInt = dfInt.dropna()\n",
    "dfArt = dfArt.dropna()\n",
    "dfFlight = dfFlight.dropna()\n",
    "dfLogic = dfLogic.dropna()\n",
    "dfClothes = dfClothes.dropna()\n",
    "dfGuns = dfGuns.dropna()\n",
    "dfSpace = dfSpace.dropna()\n",
    "dfBullied = dfBullied.dropna()"
   ]
  },
  {
   "cell_type": "code",
   "execution_count": 30,
   "metadata": {
    "collapsed": false
   },
   "outputs": [],
   "source": [
    "ron_y = dfRon.iloc[:,0:1]\n",
    "ron_x = dfRon.iloc[:,2:]\n",
    "kyle_y = dfKyle.iloc[:,0:1]\n",
    "kyle_x = dfKyle.iloc[:,2:]\n",
    "dan_y = dfDan.iloc[:,0:1]\n",
    "dan_x = dfDan.iloc[:,2:]\n",
    "bob_y = dfBob.iloc[:,3:4]\n",
    "bob_x = dfBob.iloc[:,4:]\n",
    "org_y = dfOrg.iloc[:,0:1]\n",
    "org_x = dfOrg.iloc[:,2:]\n",
    "int_y = dfInt.iloc[:,0:1]\n",
    "int_x =dfInt.iloc[:,2:]\n",
    "art_y = dfArt.iloc[:,0:1]\n",
    "art_x =dfArt.iloc[:,2:]\n",
    "flight_y = dfFlight.iloc[:,0:1]\n",
    "flight_x =dfFlight.iloc[:,2:]\n",
    "logic_y = dfLogic.iloc[:,0:1]\n",
    "logic_x =dfLogic.iloc[:,2:]\n",
    "clothes_y = dfClothes.iloc[:,0:1]\n",
    "clothes_x = dfClothes.iloc[:,2:]\n",
    "guns_y = dfGuns.iloc[:,0:1]\n",
    "guns_x = dfGuns.iloc[:,2:]\n",
    "space_y = dfSpace.iloc[:,0:1]\n",
    "space_x = dfSpace.iloc[:,2:]\n",
    "bullied_y = dfBullied.iloc[:,0:1]\n",
    "bullied_x = dfBullied.iloc[:,2:]"
   ]
  },
  {
   "cell_type": "code",
   "execution_count": 50,
   "metadata": {
    "collapsed": false
   },
   "outputs": [
    {
     "data": {
      "text/html": [
       "<div>\n",
       "<table border=\"1\" class=\"dataframe\">\n",
       "  <thead>\n",
       "    <tr style=\"text-align: right;\">\n",
       "      <th></th>\n",
       "      <th>q80_I_never_do_drugs.</th>\n",
       "    </tr>\n",
       "  </thead>\n",
       "  <tbody>\n",
       "    <tr>\n",
       "      <th>0</th>\n",
       "      <td>1</td>\n",
       "    </tr>\n",
       "    <tr>\n",
       "      <th>5</th>\n",
       "      <td>1</td>\n",
       "    </tr>\n",
       "    <tr>\n",
       "      <th>8</th>\n",
       "      <td>1</td>\n",
       "    </tr>\n",
       "    <tr>\n",
       "      <th>10</th>\n",
       "      <td>1</td>\n",
       "    </tr>\n",
       "    <tr>\n",
       "      <th>12</th>\n",
       "      <td>1</td>\n",
       "    </tr>\n",
       "  </tbody>\n",
       "</table>\n",
       "</div>"
      ],
      "text/plain": [
       "    q80_I_never_do_drugs.\n",
       "0                       1\n",
       "5                       1\n",
       "8                       1\n",
       "10                      1\n",
       "12                      1"
      ]
     },
     "execution_count": 50,
     "metadata": {},
     "output_type": "execute_result"
    }
   ],
   "source": [
    "bob_y.head()"
   ]
  },
  {
   "cell_type": "code",
   "execution_count": 32,
   "metadata": {
    "collapsed": false
   },
   "outputs": [
    {
     "name": "stderr",
     "output_type": "stream",
     "text": [
      "/Users/kylemix/anaconda/lib/python3.5/site-packages/sklearn/utils/validation.py:526: DataConversionWarning: A column-vector y was passed when a 1d array was expected. Please change the shape of y to (n_samples, ), for example using ravel().\n",
      "  y = column_or_1d(y, warn=True)\n"
     ]
    },
    {
     "data": {
      "text/plain": [
       "0.84875446544920385"
      ]
     },
     "execution_count": 32,
     "metadata": {},
     "output_type": "execute_result"
    }
   ],
   "source": [
    "# how do you feel about open relationships?\n",
    "X_trainR, X_testR, y_trainR, y_testR = train_test_split(ron_x, ron_y, test_size=.3,random_state=0)\n",
    "modR = linear_model.LogisticRegression()\n",
    "fitR = modR.fit(X_trainR, y_trainR)\n",
    "y_predR = fitR.predict_proba(X_testR)\n",
    "roc_auc_score(y_testR,y_predR[:,1])"
   ]
  },
  {
   "cell_type": "code",
   "execution_count": 33,
   "metadata": {
    "collapsed": false
   },
   "outputs": [
    {
     "name": "stderr",
     "output_type": "stream",
     "text": [
      "/Users/kylemix/anaconda/lib/python3.5/site-packages/sklearn/utils/validation.py:526: DataConversionWarning: A column-vector y was passed when a 1d array was expected. Please change the shape of y to (n_samples, ), for example using ravel().\n",
      "  y = column_or_1d(y, warn=True)\n"
     ]
    },
    {
     "data": {
      "text/plain": [
       "0.60960339224287607"
      ]
     },
     "execution_count": 33,
     "metadata": {},
     "output_type": "execute_result"
    }
   ],
   "source": [
    "# do you google someone before the first date?\n",
    "X_trainD, X_testD, y_trainD, y_testD = train_test_split(dan_x, dan_y, test_size=.3,random_state=0)\n",
    "modD = linear_model.LogisticRegression()\n",
    "fitD = modD.fit(X_trainD, y_trainD)\n",
    "y_predD = fitD.predict_proba(X_testD)\n",
    "roc_auc_score(y_testD,y_predD[:,1])"
   ]
  },
  {
   "cell_type": "code",
   "execution_count": 34,
   "metadata": {
    "collapsed": false
   },
   "outputs": [
    {
     "name": "stderr",
     "output_type": "stream",
     "text": [
      "/Users/kylemix/anaconda/lib/python3.5/site-packages/sklearn/utils/validation.py:526: DataConversionWarning: A column-vector y was passed when a 1d array was expected. Please change the shape of y to (n_samples, ), for example using ravel().\n",
      "  y = column_or_1d(y, warn=True)\n"
     ]
    },
    {
     "data": {
      "text/plain": [
       "0.77391653191956677"
      ]
     },
     "execution_count": 34,
     "metadata": {},
     "output_type": "execute_result"
    }
   ],
   "source": [
    "# male or female?\n",
    "X_trainK, X_testK, y_trainK, y_testK = train_test_split(kyle_x, kyle_y, test_size=.3,random_state=0)\n",
    "modK = linear_model.LogisticRegression()\n",
    "fitK = modK.fit(X_trainK, y_trainK)\n",
    "y_predK = fitK.predict_proba(X_testK)\n",
    "roc_auc_score(y_testK,y_predK[:,1])"
   ]
  },
  {
   "cell_type": "code",
   "execution_count": 35,
   "metadata": {
    "collapsed": false
   },
   "outputs": [
    {
     "name": "stderr",
     "output_type": "stream",
     "text": [
      "/Users/kylemix/anaconda/lib/python3.5/site-packages/sklearn/utils/validation.py:526: DataConversionWarning: A column-vector y was passed when a 1d array was expected. Please change the shape of y to (n_samples, ), for example using ravel().\n",
      "  y = column_or_1d(y, warn=True)\n"
     ]
    },
    {
     "data": {
      "text/plain": [
       "0.84401671153177926"
      ]
     },
     "execution_count": 35,
     "metadata": {},
     "output_type": "execute_result"
    }
   ],
   "source": [
    "# what is your stance on drug use?\n",
    "X_trainB, X_testB, y_trainB, y_testB = train_test_split(bob_x, bob_y, test_size=.3,random_state=0)\n",
    "modB = linear_model.LogisticRegression()\n",
    "fitB = modB.fit(X_trainB, y_trainB)\n",
    "y_predB = fitB.predict_proba(X_testB)\n",
    "roc_auc_score(y_testB,y_predB[:,1])"
   ]
  },
  {
   "cell_type": "code",
   "execution_count": 51,
   "metadata": {
    "collapsed": false
   },
   "outputs": [
    {
     "data": {
      "text/plain": [
       "array([ 0.,  1.])"
      ]
     },
     "execution_count": 51,
     "metadata": {},
     "output_type": "execute_result"
    }
   ],
   "source": [
    "fitB.classes_"
   ]
  },
  {
   "cell_type": "code",
   "execution_count": 36,
   "metadata": {
    "collapsed": false
   },
   "outputs": [
    {
     "name": "stderr",
     "output_type": "stream",
     "text": [
      "/Users/kylemix/anaconda/lib/python3.5/site-packages/sklearn/utils/validation.py:526: DataConversionWarning: A column-vector y was passed when a 1d array was expected. Please change the shape of y to (n_samples, ), for example using ravel().\n",
      "  y = column_or_1d(y, warn=True)\n"
     ]
    },
    {
     "data": {
      "text/plain": [
       "0.66415554899781293"
      ]
     },
     "execution_count": 36,
     "metadata": {},
     "output_type": "execute_result"
    }
   ],
   "source": [
    "# orgasms are the most important part of sex\n",
    "X_traino, X_testo, y_traino, y_testo = train_test_split(org_x, org_y, test_size=.3,random_state=0)\n",
    "modo = linear_model.LogisticRegression()\n",
    "fito = modo.fit(X_traino, y_traino)\n",
    "y_predo = fito.predict_proba(X_testo)\n",
    "roc_auc_score(y_testo,y_predo[:,1])"
   ]
  },
  {
   "cell_type": "code",
   "execution_count": null,
   "metadata": {
    "collapsed": true
   },
   "outputs": [],
   "source": []
  },
  {
   "cell_type": "code",
   "execution_count": 37,
   "metadata": {
    "collapsed": false
   },
   "outputs": [
    {
     "name": "stderr",
     "output_type": "stream",
     "text": [
      "/Users/kylemix/anaconda/lib/python3.5/site-packages/sklearn/utils/validation.py:526: DataConversionWarning: A column-vector y was passed when a 1d array was expected. Please change the shape of y to (n_samples, ), for example using ravel().\n",
      "  y = column_or_1d(y, warn=True)\n"
     ]
    },
    {
     "data": {
      "text/plain": [
       "0.62120568667423814"
      ]
     },
     "execution_count": 37,
     "metadata": {},
     "output_type": "execute_result"
    }
   ],
   "source": [
    "# are you intense or carefree\n",
    "X_trainI, X_testI, y_trainI, y_testI = train_test_split(int_x, int_y, test_size=.3,random_state=0)\n",
    "modI = linear_model.LogisticRegression()\n",
    "fitI = modI.fit(X_trainI, y_trainI)\n",
    "y_predI = fitI.predict_proba(X_testI)\n",
    "roc_auc_score(y_testI,y_predI[:,1])"
   ]
  },
  {
   "cell_type": "code",
   "execution_count": 38,
   "metadata": {
    "collapsed": false
   },
   "outputs": [
    {
     "name": "stderr",
     "output_type": "stream",
     "text": [
      "/Users/kylemix/anaconda/lib/python3.5/site-packages/sklearn/utils/validation.py:526: DataConversionWarning: A column-vector y was passed when a 1d array was expected. Please change the shape of y to (n_samples, ), for example using ravel().\n",
      "  y = column_or_1d(y, warn=True)\n"
     ]
    },
    {
     "data": {
      "text/plain": [
       "0.72158578662115813"
      ]
     },
     "execution_count": 38,
     "metadata": {},
     "output_type": "execute_result"
    }
   ],
   "source": [
    "# is art important to you?\n",
    "X_trainA, X_testA, y_trainA, y_testA = train_test_split(art_x, art_y, test_size=.3,random_state=0)\n",
    "modA = linear_model.LogisticRegression()\n",
    "fitA = modA.fit(X_trainA, y_trainA)\n",
    "y_predA = fitA.predict_proba(X_testA)\n",
    "roc_auc_score(y_testA,y_predA[:,1])"
   ]
  },
  {
   "cell_type": "code",
   "execution_count": 52,
   "metadata": {
    "collapsed": false
   },
   "outputs": [
    {
     "name": "stderr",
     "output_type": "stream",
     "text": [
      "/Users/kylemix/anaconda/lib/python3.5/site-packages/sklearn/utils/validation.py:526: DataConversionWarning: A column-vector y was passed when a 1d array was expected. Please change the shape of y to (n_samples, ), for example using ravel().\n",
      "  y = column_or_1d(y, warn=True)\n"
     ]
    },
    {
     "data": {
      "text/plain": [
       "0.57431713014793095"
      ]
     },
     "execution_count": 52,
     "metadata": {},
     "output_type": "execute_result"
    }
   ],
   "source": [
    "# which would you rather have flight or invisibility?\n",
    "X_trainF, X_testF, y_trainF, y_testF = train_test_split(flight_x, flight_y, test_size=.3,random_state=0)\n",
    "modF = linear_model.LogisticRegression()\n",
    "fitF = modF.fit(X_trainF, y_trainF)\n",
    "y_predF = fitF.predict_proba(X_testF)\n",
    "roc_auc_score(y_testF,y_predF[:,1])"
   ]
  },
  {
   "cell_type": "code",
   "execution_count": 40,
   "metadata": {
    "collapsed": false,
    "scrolled": true
   },
   "outputs": [
    {
     "name": "stderr",
     "output_type": "stream",
     "text": [
      "/Users/kylemix/anaconda/lib/python3.5/site-packages/sklearn/utils/validation.py:526: DataConversionWarning: A column-vector y was passed when a 1d array was expected. Please change the shape of y to (n_samples, ), for example using ravel().\n",
      "  y = column_or_1d(y, warn=True)\n"
     ]
    },
    {
     "data": {
      "text/plain": [
       "0.62609822593727293"
      ]
     },
     "execution_count": 40,
     "metadata": {},
     "output_type": "execute_result"
    }
   ],
   "source": [
    "# are you annoyed by super logical people?\n",
    "X_trainL, X_testL, y_trainL, y_testL = train_test_split(logic_x, logic_y, test_size=.3,random_state=0)\n",
    "modL = linear_model.LogisticRegression()\n",
    "fitL = modL.fit(X_trainL, y_trainL)\n",
    "y_predL = fitL.predict_proba(X_testL)\n",
    "roc_auc_score(y_testL,y_predL[:,1])\n",
    "# NOT INCLUDED"
   ]
  },
  {
   "cell_type": "code",
   "execution_count": 41,
   "metadata": {
    "collapsed": false,
    "scrolled": true
   },
   "outputs": [
    {
     "name": "stderr",
     "output_type": "stream",
     "text": [
      "/Users/kylemix/anaconda/lib/python3.5/site-packages/sklearn/utils/validation.py:526: DataConversionWarning: A column-vector y was passed when a 1d array was expected. Please change the shape of y to (n_samples, ), for example using ravel().\n",
      "  y = column_or_1d(y, warn=True)\n"
     ]
    },
    {
     "data": {
      "text/plain": [
       "0.6839064448525034"
      ]
     },
     "execution_count": 41,
     "metadata": {},
     "output_type": "execute_result"
    }
   ],
   "source": [
    "# which do you spend more money on, clothes or food?\n",
    "X_trainC, X_testC, y_trainC, y_testC = train_test_split(clothes_x, clothes_y, test_size=.3,random_state=0)\n",
    "modC = linear_model.LogisticRegression()\n",
    "fitC = modC.fit(X_trainC, y_trainC)\n",
    "y_predC = fitC.predict_proba(X_testC)\n",
    "roc_auc_score(y_testC,y_predC[:,1])"
   ]
  },
  {
   "cell_type": "code",
   "execution_count": 42,
   "metadata": {
    "collapsed": false
   },
   "outputs": [
    {
     "name": "stderr",
     "output_type": "stream",
     "text": [
      "/Users/kylemix/anaconda/lib/python3.5/site-packages/sklearn/utils/validation.py:526: DataConversionWarning: A column-vector y was passed when a 1d array was expected. Please change the shape of y to (n_samples, ), for example using ravel().\n",
      "  y = column_or_1d(y, warn=True)\n"
     ]
    },
    {
     "data": {
      "text/plain": [
       "0.6983180807258017"
      ]
     },
     "execution_count": 42,
     "metadata": {},
     "output_type": "execute_result"
    }
   ],
   "source": [
    "# would you date someone that kept a gun in the house?\n",
    "X_trainG, X_testG, y_trainG, y_testG = train_test_split(guns_x, guns_y, test_size=.3,random_state=0)\n",
    "modG = linear_model.LogisticRegression()\n",
    "fitG = modG.fit(X_trainG, y_trainG)\n",
    "y_predG = fitG.predict_proba(X_testG)\n",
    "roc_auc_score(y_testG,y_predG[:,1])"
   ]
  },
  {
   "cell_type": "code",
   "execution_count": 43,
   "metadata": {
    "collapsed": false
   },
   "outputs": [
    {
     "data": {
      "text/plain": [
       "0.65691231188861421"
      ]
     },
     "execution_count": 43,
     "metadata": {},
     "output_type": "execute_result"
    }
   ],
   "source": [
    "# would not enough affection or not enough space bother you more in a relationship?\n",
    "X_trainS, X_testS, y_trainS, y_testS = train_test_split(space_x, space_y, test_size=.3,random_state=0)\n",
    "modS = linear_model.LogisticRegression()\n",
    "fitS = modS.fit(X_trainS, np.ravel(y_trainS))\n",
    "y_predS = fitS.predict_proba(X_testS)\n",
    "roc_auc_score(y_testS,y_predS[:,1])\n",
    "# NOT INCLUDED"
   ]
  },
  {
   "cell_type": "code",
   "execution_count": 44,
   "metadata": {
    "collapsed": false
   },
   "outputs": [
    {
     "name": "stderr",
     "output_type": "stream",
     "text": [
      "/Users/kylemix/anaconda/lib/python3.5/site-packages/sklearn/utils/validation.py:526: DataConversionWarning: A column-vector y was passed when a 1d array was expected. Please change the shape of y to (n_samples, ), for example using ravel().\n",
      "  y = column_or_1d(y, warn=True)\n"
     ]
    },
    {
     "data": {
      "text/plain": [
       "0.65966312918105119"
      ]
     },
     "execution_count": 44,
     "metadata": {},
     "output_type": "execute_result"
    }
   ],
   "source": [
    "# where you picked on a lot in school?\n",
    "X_trainP, X_testP, y_trainP, y_testP = train_test_split(bullied_x, bullied_y, test_size=.3,random_state=0)\n",
    "modP = linear_model.LogisticRegression()\n",
    "fitP = modP.fit(X_trainP, y_trainP)\n",
    "y_predP = fitP.predict_proba(X_testP)\n",
    "roc_auc_score(y_testP,y_predP[:,1])"
   ]
  },
  {
   "cell_type": "code",
   "execution_count": null,
   "metadata": {
    "collapsed": true
   },
   "outputs": [],
   "source": [
    "from sklearn.neural_network import MLPClassifier"
   ]
  },
  {
   "cell_type": "code",
   "execution_count": null,
   "metadata": {
    "collapsed": true
   },
   "outputs": [],
   "source": [
    "mlpP = MLPClassifier(solver='lbfgs', alpha=1e-5,\n",
    "                     hidden_layer_sizes=(5, 2), random_state=1)"
   ]
  },
  {
   "cell_type": "code",
   "execution_count": null,
   "metadata": {
    "collapsed": false
   },
   "outputs": [],
   "source": [
    "mlpfitp = mlpP.fit(X_trainP, np.ravel(y_trainP))"
   ]
  },
  {
   "cell_type": "code",
   "execution_count": null,
   "metadata": {
    "collapsed": true
   },
   "outputs": [],
   "source": [
    "y_predPmlp = fitP.predict_proba(X_testP)"
   ]
  },
  {
   "cell_type": "code",
   "execution_count": null,
   "metadata": {
    "collapsed": false
   },
   "outputs": [],
   "source": [
    "roc_auc_score(y_testP,y_predPmlp[:,1])"
   ]
  },
  {
   "cell_type": "code",
   "execution_count": null,
   "metadata": {
    "collapsed": false
   },
   "outputs": [],
   "source": [
    "X_trainDm, X_testDm, y_trainDm, y_testDm = train_test_split(dan_x, np.ravel(dan_y), test_size=.3,random_state=0)\n",
    "modDm = MLPClassifier(solver='adam', alpha=0.0001,\n",
    "                     hidden_layer_sizes=(500, 20), random_state=5, verbose=True)\n",
    "fitDm = modDm.fit(X_trainDm, y_trainDm)\n",
    "y_predDm = fitDm.predict(X_testDm)\n",
    "roc_auc_score(y_testDm,y_predDm)"
   ]
  },
  {
   "cell_type": "code",
   "execution_count": null,
   "metadata": {
    "collapsed": true
   },
   "outputs": [],
   "source": [
    "# how do you feel about open relationships?  0.85394482894181467\n",
    "# do you google someone before the first date? 0.61841297722880673\n",
    "# male or female? 0.81857854533715779\n",
    "# what is your stance on drug use?  0.8508118087357841\n",
    "# orgasms are the most important part of sex  0.69458068866753209\n",
    "# do you enjoy intense intellectual conversations? 0.64880138495641893\n",
    "# is art important to you?  0.7350071409537583\n",
    "# which would you rather have flight or invisibility? 0.5903666027237543\n",
    "# are you annoyed by super logical people?  0.65179081131608485\n",
    "# which do you spend more money on, clothes or food? 0.81218014182992082\n",
    "# would you date someone that kept a gun in the house? 0.72021617752653999\n",
    "# would not enough affection or not enough space bother you more in a relationship? 0.68686916947024468\n",
    "# where you picked on a lot in school? 0.6789656815650138"
   ]
  },
  {
   "cell_type": "code",
   "execution_count": null,
   "metadata": {
    "collapsed": false
   },
   "outputs": [],
   "source": [
    "predictors = dfPred.columns"
   ]
  },
  {
   "cell_type": "code",
   "execution_count": null,
   "metadata": {
    "collapsed": false
   },
   "outputs": [],
   "source": [
    "dfPred.head()"
   ]
  },
  {
   "cell_type": "code",
   "execution_count": null,
   "metadata": {
    "collapsed": false
   },
   "outputs": [],
   "source": [
    "predictors"
   ]
  },
  {
   "cell_type": "code",
   "execution_count": null,
   "metadata": {
    "collapsed": true
   },
   "outputs": [],
   "source": [
    "q8155 = RadioField('On average, which best describes how often you GET WICKED DRUNK?', choices=[('1','Once every month or three.'),('2','Seldom or never.'),('3','Twice a week or more'),('4','Weekly / Bi-Weekly')])"
   ]
  },
  {
   "cell_type": "code",
   "execution_count": null,
   "metadata": {
    "collapsed": false
   },
   "outputs": [],
   "source": [
    "dfPred.head()"
   ]
  },
  {
   "cell_type": "code",
   "execution_count": null,
   "metadata": {
    "collapsed": false
   },
   "outputs": [],
   "source": [
    "fitR , fitD , fitK, fitB, fitA, fitG, fitP, fitS"
   ]
  },
  {
   "cell_type": "code",
   "execution_count": null,
   "metadata": {
    "collapsed": true
   },
   "outputs": [],
   "source": [
    "import pickle\n",
    "\n"
   ]
  },
  {
   "cell_type": "code",
   "execution_count": null,
   "metadata": {
    "collapsed": false
   },
   "outputs": [],
   "source": [
    "with open('models/fitR.pkl', 'wb') as picklefile1:\n",
    "    pickle.dump(fitR, picklefile1)"
   ]
  },
  {
   "cell_type": "code",
   "execution_count": null,
   "metadata": {
    "collapsed": false
   },
   "outputs": [],
   "source": [
    "with open('models/fitD.pkl', 'wb') as picklefile2:\n",
    "    pickle.dump(fitD, picklefile2)"
   ]
  },
  {
   "cell_type": "code",
   "execution_count": null,
   "metadata": {
    "collapsed": true
   },
   "outputs": [],
   "source": [
    "with open('models/fitK.pkl', 'wb') as picklefile3:\n",
    "    pickle.dump(fitK, picklefile3)"
   ]
  },
  {
   "cell_type": "code",
   "execution_count": null,
   "metadata": {
    "collapsed": true
   },
   "outputs": [],
   "source": [
    "with open('models/fitB.pkl', 'wb') as picklefile4:\n",
    "    pickle.dump(fitB, picklefile4)"
   ]
  },
  {
   "cell_type": "code",
   "execution_count": null,
   "metadata": {
    "collapsed": true
   },
   "outputs": [],
   "source": [
    "with open('models/fitA.pkl', 'wb') as picklefile5:\n",
    "    pickle.dump(fitA, picklefile5)"
   ]
  },
  {
   "cell_type": "code",
   "execution_count": null,
   "metadata": {
    "collapsed": true
   },
   "outputs": [],
   "source": [
    "with open('models/fitG.pkl', 'wb') as picklefile6:\n",
    "    pickle.dump(fitG, picklefile6)"
   ]
  },
  {
   "cell_type": "code",
   "execution_count": null,
   "metadata": {
    "collapsed": true
   },
   "outputs": [],
   "source": [
    "with open('models/fitP.pkl', 'wb') as picklefile7:\n",
    "    pickle.dump(fitP, picklefile7)"
   ]
  },
  {
   "cell_type": "code",
   "execution_count": null,
   "metadata": {
    "collapsed": true
   },
   "outputs": [],
   "source": [
    "with open('models/fitS.pkl', 'wb') as picklefile8:\n",
    "    pickle.dump(fitS, picklefile8)"
   ]
  },
  {
   "cell_type": "code",
   "execution_count": null,
   "metadata": {
    "collapsed": true
   },
   "outputs": [],
   "source": [
    "with open('models/fitL.pkl', 'wb') as picklefile9:\n",
    "    pickle.dump(fitL, picklefile9)"
   ]
  },
  {
   "cell_type": "code",
   "execution_count": null,
   "metadata": {
    "collapsed": true
   },
   "outputs": [],
   "source": [
    "with open('models/fitC.pkl', 'wb') as picklefile10:\n",
    "    pickle.dump(fitC, picklefile10)"
   ]
  },
  {
   "cell_type": "code",
   "execution_count": null,
   "metadata": {
    "collapsed": false
   },
   "outputs": [],
   "source": [
    "\n",
    "def plotRoc(test, score, title):\n",
    "    fpr, tpr, thresholds = roc_curve(test, score)\n",
    "    plt.figure(figsize=(10,10))\n",
    "    plt.plot(fpr, tpr, color='red', label='ROC curve (area = %0.3f)' % roc_auc_score(test,score))\n",
    "    plt.plot((0.0,1.0), color='steelblue', linestyle='--');\n",
    "    plt.xlabel('False Positive Rate')\n",
    "    plt.ylabel('True Positive Rate')\n",
    "    plt.legend(loc=\"lower right\")\n",
    "    plt.xlim([-0.02, 1.0])\n",
    "    plt.ylim([0.0, 1.02])\n",
    "    plt.title(title)\n",
    "    plt.show();\n",
    "    \n",
    "def saveRocPlot(test, score, title,filename):\n",
    "    fpr, tpr, thresholds = roc_curve(test, score)\n",
    "    plt.figure(figsize=(10,10))\n",
    "    plt.plot(fpr, tpr, color='red', label='ROC curve (area = %0.3f)' % roc_auc_score(test,score))\n",
    "    plt.plot((0.0,1.0), color='steelblue', linestyle='--');\n",
    "    plt.xlabel('False Positive Rate')\n",
    "    plt.ylabel('True Positive Rate')\n",
    "    plt.legend(loc=\"lower right\")\n",
    "    plt.xlim([-0.02, 1.0])\n",
    "    plt.ylim([0.0, 1.02])\n",
    "    plt.title(title)\n",
    "    plt.savefig(filename);"
   ]
  },
  {
   "cell_type": "code",
   "execution_count": null,
   "metadata": {
    "collapsed": false
   },
   "outputs": [],
   "source": [
    "plotRoc(y_testR,y_predR[:,1], 'How do you feel about open relationships?')\n",
    "saveRocPlot(y_testR,y_predR[:,1], 'How do you feel about open relationships?','ronPlot.png')"
   ]
  },
  {
   "cell_type": "code",
   "execution_count": null,
   "metadata": {
    "collapsed": false
   },
   "outputs": [],
   "source": [
    "plotRoc(y_testD,y_predD[:,1],'Do you google before the first date?')\n",
    "saveRocPlot(y_testD,y_predD[:,1],'Do you google before the first date?', 'danielPlot.png')"
   ]
  },
  {
   "cell_type": "code",
   "execution_count": null,
   "metadata": {
    "collapsed": false
   },
   "outputs": [],
   "source": [
    "plotRoc(y_testK,y_predK[:,1], 'Are you male or female?')\n",
    "saveRocPlot(y_testK,y_predK[:,1], 'Are you male or female?', 'kylePlot.png')"
   ]
  },
  {
   "cell_type": "code",
   "execution_count": null,
   "metadata": {
    "collapsed": false
   },
   "outputs": [],
   "source": [
    "plotRoc(y_testB,y_predB[:,1], 'What is your feeling on drugs?')\n",
    "saveRocPlot(y_testB,y_predB[:,1], 'What is your feeling on drugs?', 'bobPlot.png')"
   ]
  },
  {
   "cell_type": "code",
   "execution_count": null,
   "metadata": {
    "collapsed": false
   },
   "outputs": [],
   "source": [
    "plotRoc(y_testA,y_predA[:,1], 'Is art important to you?')\n",
    "saveRocPlot(y_testA,y_predA[:,1], 'Is art important to you?', 'artPlot.png')"
   ]
  },
  {
   "cell_type": "code",
   "execution_count": null,
   "metadata": {
    "collapsed": false
   },
   "outputs": [],
   "source": [
    "import PIL\n"
   ]
  },
  {
   "cell_type": "code",
   "execution_count": null,
   "metadata": {
    "collapsed": false
   },
   "outputs": [],
   "source": [
    "\n",
    "from PIL import Image\n",
    "\n",
    "basewidth = 3000\n",
    "img = Image.open('rspcorr.png')\n",
    "wpercent = (basewidth/float(img.size[0]))\n",
    "hsize = int((float(img.size[1])*float(wpercent)))\n",
    "img = img.resize((basewidth,hsize), PIL.Image.ANTIALIAS)\n",
    "img.save('corrSmall.jpg')\n"
   ]
  },
  {
   "cell_type": "code",
   "execution_count": 48,
   "metadata": {
    "collapsed": false
   },
   "outputs": [
    {
     "data": {
      "text/html": [
       "<div>\n",
       "<table border=\"1\" class=\"dataframe\">\n",
       "  <thead>\n",
       "    <tr style=\"text-align: right;\">\n",
       "      <th></th>\n",
       "      <th>q301_No</th>\n",
       "      <th>q301_Yes</th>\n",
       "      <th>q30169_Gross!</th>\n",
       "      <th>q30169_It's_okay.</th>\n",
       "      <th>q30169_Love_it!</th>\n",
       "      <th>q30169_Not_so_much.</th>\n",
       "      <th>q81_Lots</th>\n",
       "      <th>q81_Never</th>\n",
       "      <th>q81_Rarely</th>\n",
       "      <th>q81_Sometimes</th>\n",
       "      <th>q79_I_smoke_occasionally.</th>\n",
       "      <th>q79_I_smoke_regularly.</th>\n",
       "      <th>q79_I_smoked_in_the_past,_but_no_longer.</th>\n",
       "      <th>q79_Never.</th>\n",
       "      <th>q77_Never</th>\n",
       "      <th>q77_Rarely</th>\n",
       "      <th>q77_Sometimes</th>\n",
       "      <th>q77_Very_often</th>\n",
       "      <th>q66506_Not_important.</th>\n",
       "      <th>q66506_Somewhat_important.</th>\n",
       "      <th>q66506_Very_important.</th>\n",
       "      <th>blank19</th>\n",
       "      <th>q60100_No</th>\n",
       "      <th>q60100_Yes</th>\n",
       "      <th>blank17</th>\n",
       "      <th>blank18</th>\n",
       "      <th>q43261_I_almost_always_do_what_my_parents_think_is_best.</th>\n",
       "      <th>q43261_I_always_do_what_my_parents_say.</th>\n",
       "      <th>q43261_I_am_my_own_person.</th>\n",
       "      <th>q43261_I_consider_their_opinion_but_go_my_own_way.</th>\n",
       "      <th>q4018_No</th>\n",
       "      <th>q4018_Yes</th>\n",
       "      <th>blank15</th>\n",
       "      <th>blank16</th>\n",
       "      <th>q393_No</th>\n",
       "      <th>q393_Yes</th>\n",
       "      <th>blank13</th>\n",
       "      <th>blank14</th>\n",
       "      <th>q37693_No.</th>\n",
       "      <th>q37693_Yes,_I'd_be_playing_with_them.</th>\n",
       "      <th>q37693_Yes,_but_I_don't_like_video_games.</th>\n",
       "      <th>q37693_Yes,_but_I_would_not_play_that_much.</th>\n",
       "      <th>q358084_No</th>\n",
       "      <th>q358084_Yes</th>\n",
       "      <th>blank11</th>\n",
       "      <th>blank12</th>\n",
       "      <th>q35_Love</th>\n",
       "      <th>q35_Sex</th>\n",
       "      <th>blank9</th>\n",
       "      <th>blank10</th>\n",
       "      <th>q274_College</th>\n",
       "      <th>q274_Graduate_School</th>\n",
       "      <th>q274_High_School</th>\n",
       "      <th>q274_Junior_High</th>\n",
       "      <th>q19874_0-6_months</th>\n",
       "      <th>q19874_12+_months</th>\n",
       "      <th>q19874_6-12_months</th>\n",
       "      <th>q19874_I've_never_been_in_a_relationship</th>\n",
       "      <th>q1597_No</th>\n",
       "      <th>q1597_Yes</th>\n",
       "      <th>blank7</th>\n",
       "      <th>blank8</th>\n",
       "      <th>q15280_No</th>\n",
       "      <th>q15280_Yes</th>\n",
       "      <th>blank5</th>\n",
       "      <th>blank6</th>\n",
       "      <th>q136_No</th>\n",
       "      <th>q136_Yes</th>\n",
       "      <th>blank3</th>\n",
       "      <th>blank4</th>\n",
       "      <th>q123_No</th>\n",
       "      <th>q123_Yes</th>\n",
       "      <th>blank1</th>\n",
       "      <th>blank2</th>\n",
       "      <th>q1128_No,_but_I_don't_think_it's_inherently_wrong.</th>\n",
       "      <th>q1128_No,_it's_wrong.</th>\n",
       "      <th>q1128_Yes,_but_only_if_everybody_knew.</th>\n",
       "      <th>q1128_Yes,_even_in_secret.</th>\n",
       "      <th>q1062_A_couple_times_a_week.</th>\n",
       "      <th>q1062_At_least_once_a_day.</th>\n",
       "      <th>q1062_Once_a_week_or_less.</th>\n",
       "      <th>q1062_Usually_daily.__I_skip_some.</th>\n",
       "      <th>q18698_G_+_V_=_1/T</th>\n",
       "      <th>q18698_Not_sure_/_wish_I_could_skip_this_one</th>\n",
       "      <th>q18698_PV_=_nRT</th>\n",
       "      <th>q18698_y=mx+b</th>\n",
       "    </tr>\n",
       "  </thead>\n",
       "  <tbody>\n",
       "    <tr>\n",
       "      <th>5</th>\n",
       "      <td>1</td>\n",
       "      <td>0</td>\n",
       "      <td>0</td>\n",
       "      <td>0</td>\n",
       "      <td>1</td>\n",
       "      <td>0</td>\n",
       "      <td>0</td>\n",
       "      <td>1</td>\n",
       "      <td>0</td>\n",
       "      <td>0</td>\n",
       "      <td>1</td>\n",
       "      <td>0</td>\n",
       "      <td>0</td>\n",
       "      <td>0</td>\n",
       "      <td>0</td>\n",
       "      <td>0</td>\n",
       "      <td>1</td>\n",
       "      <td>0</td>\n",
       "      <td>0</td>\n",
       "      <td>0</td>\n",
       "      <td>0</td>\n",
       "      <td>0</td>\n",
       "      <td>1</td>\n",
       "      <td>0</td>\n",
       "      <td>0</td>\n",
       "      <td>0</td>\n",
       "      <td>0</td>\n",
       "      <td>0</td>\n",
       "      <td>1</td>\n",
       "      <td>0</td>\n",
       "      <td>0</td>\n",
       "      <td>0</td>\n",
       "      <td>0</td>\n",
       "      <td>0</td>\n",
       "      <td>1</td>\n",
       "      <td>0</td>\n",
       "      <td>0</td>\n",
       "      <td>0</td>\n",
       "      <td>0</td>\n",
       "      <td>1</td>\n",
       "      <td>0</td>\n",
       "      <td>0</td>\n",
       "      <td>0</td>\n",
       "      <td>1</td>\n",
       "      <td>0</td>\n",
       "      <td>0</td>\n",
       "      <td>0</td>\n",
       "      <td>1</td>\n",
       "      <td>0</td>\n",
       "      <td>0</td>\n",
       "      <td>0</td>\n",
       "      <td>0</td>\n",
       "      <td>0</td>\n",
       "      <td>0</td>\n",
       "      <td>0</td>\n",
       "      <td>0</td>\n",
       "      <td>0</td>\n",
       "      <td>0</td>\n",
       "      <td>0</td>\n",
       "      <td>1</td>\n",
       "      <td>0</td>\n",
       "      <td>0</td>\n",
       "      <td>0</td>\n",
       "      <td>1</td>\n",
       "      <td>0</td>\n",
       "      <td>0</td>\n",
       "      <td>0</td>\n",
       "      <td>1</td>\n",
       "      <td>0</td>\n",
       "      <td>0</td>\n",
       "      <td>1</td>\n",
       "      <td>0</td>\n",
       "      <td>0</td>\n",
       "      <td>0</td>\n",
       "      <td>0</td>\n",
       "      <td>0</td>\n",
       "      <td>0</td>\n",
       "      <td>0</td>\n",
       "      <td>0</td>\n",
       "      <td>0</td>\n",
       "      <td>0</td>\n",
       "      <td>1</td>\n",
       "      <td>0</td>\n",
       "      <td>0</td>\n",
       "      <td>0</td>\n",
       "      <td>0</td>\n",
       "    </tr>\n",
       "    <tr>\n",
       "      <th>6</th>\n",
       "      <td>0</td>\n",
       "      <td>1</td>\n",
       "      <td>0</td>\n",
       "      <td>0</td>\n",
       "      <td>0</td>\n",
       "      <td>0</td>\n",
       "      <td>0</td>\n",
       "      <td>0</td>\n",
       "      <td>0</td>\n",
       "      <td>1</td>\n",
       "      <td>0</td>\n",
       "      <td>0</td>\n",
       "      <td>0</td>\n",
       "      <td>0</td>\n",
       "      <td>0</td>\n",
       "      <td>0</td>\n",
       "      <td>0</td>\n",
       "      <td>1</td>\n",
       "      <td>0</td>\n",
       "      <td>1</td>\n",
       "      <td>0</td>\n",
       "      <td>0</td>\n",
       "      <td>1</td>\n",
       "      <td>0</td>\n",
       "      <td>0</td>\n",
       "      <td>0</td>\n",
       "      <td>0</td>\n",
       "      <td>0</td>\n",
       "      <td>1</td>\n",
       "      <td>0</td>\n",
       "      <td>1</td>\n",
       "      <td>0</td>\n",
       "      <td>0</td>\n",
       "      <td>0</td>\n",
       "      <td>0</td>\n",
       "      <td>0</td>\n",
       "      <td>0</td>\n",
       "      <td>0</td>\n",
       "      <td>0</td>\n",
       "      <td>0</td>\n",
       "      <td>1</td>\n",
       "      <td>0</td>\n",
       "      <td>0</td>\n",
       "      <td>1</td>\n",
       "      <td>0</td>\n",
       "      <td>0</td>\n",
       "      <td>1</td>\n",
       "      <td>0</td>\n",
       "      <td>0</td>\n",
       "      <td>0</td>\n",
       "      <td>0</td>\n",
       "      <td>0</td>\n",
       "      <td>0</td>\n",
       "      <td>0</td>\n",
       "      <td>0</td>\n",
       "      <td>0</td>\n",
       "      <td>0</td>\n",
       "      <td>0</td>\n",
       "      <td>0</td>\n",
       "      <td>0</td>\n",
       "      <td>0</td>\n",
       "      <td>0</td>\n",
       "      <td>0</td>\n",
       "      <td>0</td>\n",
       "      <td>0</td>\n",
       "      <td>0</td>\n",
       "      <td>0</td>\n",
       "      <td>0</td>\n",
       "      <td>0</td>\n",
       "      <td>0</td>\n",
       "      <td>0</td>\n",
       "      <td>0</td>\n",
       "      <td>0</td>\n",
       "      <td>0</td>\n",
       "      <td>0</td>\n",
       "      <td>0</td>\n",
       "      <td>0</td>\n",
       "      <td>0</td>\n",
       "      <td>0</td>\n",
       "      <td>1</td>\n",
       "      <td>0</td>\n",
       "      <td>0</td>\n",
       "      <td>0</td>\n",
       "      <td>0</td>\n",
       "      <td>0</td>\n",
       "      <td>0</td>\n",
       "    </tr>\n",
       "    <tr>\n",
       "      <th>10</th>\n",
       "      <td>1</td>\n",
       "      <td>0</td>\n",
       "      <td>0</td>\n",
       "      <td>0</td>\n",
       "      <td>0</td>\n",
       "      <td>0</td>\n",
       "      <td>0</td>\n",
       "      <td>0</td>\n",
       "      <td>1</td>\n",
       "      <td>0</td>\n",
       "      <td>0</td>\n",
       "      <td>0</td>\n",
       "      <td>0</td>\n",
       "      <td>1</td>\n",
       "      <td>0</td>\n",
       "      <td>0</td>\n",
       "      <td>1</td>\n",
       "      <td>0</td>\n",
       "      <td>0</td>\n",
       "      <td>1</td>\n",
       "      <td>0</td>\n",
       "      <td>0</td>\n",
       "      <td>1</td>\n",
       "      <td>0</td>\n",
       "      <td>0</td>\n",
       "      <td>0</td>\n",
       "      <td>0</td>\n",
       "      <td>0</td>\n",
       "      <td>1</td>\n",
       "      <td>0</td>\n",
       "      <td>0</td>\n",
       "      <td>1</td>\n",
       "      <td>0</td>\n",
       "      <td>0</td>\n",
       "      <td>0</td>\n",
       "      <td>1</td>\n",
       "      <td>0</td>\n",
       "      <td>0</td>\n",
       "      <td>1</td>\n",
       "      <td>0</td>\n",
       "      <td>0</td>\n",
       "      <td>0</td>\n",
       "      <td>0</td>\n",
       "      <td>1</td>\n",
       "      <td>0</td>\n",
       "      <td>0</td>\n",
       "      <td>1</td>\n",
       "      <td>0</td>\n",
       "      <td>0</td>\n",
       "      <td>0</td>\n",
       "      <td>1</td>\n",
       "      <td>0</td>\n",
       "      <td>0</td>\n",
       "      <td>0</td>\n",
       "      <td>0</td>\n",
       "      <td>1</td>\n",
       "      <td>0</td>\n",
       "      <td>0</td>\n",
       "      <td>1</td>\n",
       "      <td>0</td>\n",
       "      <td>0</td>\n",
       "      <td>0</td>\n",
       "      <td>1</td>\n",
       "      <td>0</td>\n",
       "      <td>0</td>\n",
       "      <td>0</td>\n",
       "      <td>0</td>\n",
       "      <td>1</td>\n",
       "      <td>0</td>\n",
       "      <td>0</td>\n",
       "      <td>1</td>\n",
       "      <td>0</td>\n",
       "      <td>0</td>\n",
       "      <td>0</td>\n",
       "      <td>0</td>\n",
       "      <td>1</td>\n",
       "      <td>0</td>\n",
       "      <td>0</td>\n",
       "      <td>0</td>\n",
       "      <td>0</td>\n",
       "      <td>0</td>\n",
       "      <td>0</td>\n",
       "      <td>0</td>\n",
       "      <td>0</td>\n",
       "      <td>0</td>\n",
       "      <td>0</td>\n",
       "    </tr>\n",
       "    <tr>\n",
       "      <th>12</th>\n",
       "      <td>1</td>\n",
       "      <td>0</td>\n",
       "      <td>0</td>\n",
       "      <td>0</td>\n",
       "      <td>1</td>\n",
       "      <td>0</td>\n",
       "      <td>0</td>\n",
       "      <td>1</td>\n",
       "      <td>0</td>\n",
       "      <td>0</td>\n",
       "      <td>0</td>\n",
       "      <td>0</td>\n",
       "      <td>0</td>\n",
       "      <td>1</td>\n",
       "      <td>0</td>\n",
       "      <td>0</td>\n",
       "      <td>1</td>\n",
       "      <td>0</td>\n",
       "      <td>0</td>\n",
       "      <td>1</td>\n",
       "      <td>0</td>\n",
       "      <td>0</td>\n",
       "      <td>1</td>\n",
       "      <td>0</td>\n",
       "      <td>0</td>\n",
       "      <td>0</td>\n",
       "      <td>0</td>\n",
       "      <td>0</td>\n",
       "      <td>0</td>\n",
       "      <td>1</td>\n",
       "      <td>0</td>\n",
       "      <td>1</td>\n",
       "      <td>0</td>\n",
       "      <td>0</td>\n",
       "      <td>1</td>\n",
       "      <td>0</td>\n",
       "      <td>0</td>\n",
       "      <td>0</td>\n",
       "      <td>0</td>\n",
       "      <td>0</td>\n",
       "      <td>0</td>\n",
       "      <td>1</td>\n",
       "      <td>0</td>\n",
       "      <td>1</td>\n",
       "      <td>0</td>\n",
       "      <td>0</td>\n",
       "      <td>1</td>\n",
       "      <td>0</td>\n",
       "      <td>0</td>\n",
       "      <td>0</td>\n",
       "      <td>0</td>\n",
       "      <td>0</td>\n",
       "      <td>0</td>\n",
       "      <td>0</td>\n",
       "      <td>0</td>\n",
       "      <td>1</td>\n",
       "      <td>0</td>\n",
       "      <td>0</td>\n",
       "      <td>0</td>\n",
       "      <td>1</td>\n",
       "      <td>0</td>\n",
       "      <td>0</td>\n",
       "      <td>1</td>\n",
       "      <td>0</td>\n",
       "      <td>0</td>\n",
       "      <td>0</td>\n",
       "      <td>1</td>\n",
       "      <td>0</td>\n",
       "      <td>0</td>\n",
       "      <td>0</td>\n",
       "      <td>1</td>\n",
       "      <td>0</td>\n",
       "      <td>0</td>\n",
       "      <td>0</td>\n",
       "      <td>0</td>\n",
       "      <td>0</td>\n",
       "      <td>1</td>\n",
       "      <td>0</td>\n",
       "      <td>0</td>\n",
       "      <td>0</td>\n",
       "      <td>0</td>\n",
       "      <td>0</td>\n",
       "      <td>0</td>\n",
       "      <td>0</td>\n",
       "      <td>0</td>\n",
       "      <td>0</td>\n",
       "    </tr>\n",
       "    <tr>\n",
       "      <th>14</th>\n",
       "      <td>1</td>\n",
       "      <td>0</td>\n",
       "      <td>0</td>\n",
       "      <td>0</td>\n",
       "      <td>0</td>\n",
       "      <td>0</td>\n",
       "      <td>0</td>\n",
       "      <td>1</td>\n",
       "      <td>0</td>\n",
       "      <td>0</td>\n",
       "      <td>0</td>\n",
       "      <td>0</td>\n",
       "      <td>0</td>\n",
       "      <td>1</td>\n",
       "      <td>1</td>\n",
       "      <td>0</td>\n",
       "      <td>0</td>\n",
       "      <td>0</td>\n",
       "      <td>0</td>\n",
       "      <td>0</td>\n",
       "      <td>1</td>\n",
       "      <td>0</td>\n",
       "      <td>1</td>\n",
       "      <td>0</td>\n",
       "      <td>0</td>\n",
       "      <td>0</td>\n",
       "      <td>0</td>\n",
       "      <td>0</td>\n",
       "      <td>0</td>\n",
       "      <td>1</td>\n",
       "      <td>1</td>\n",
       "      <td>0</td>\n",
       "      <td>0</td>\n",
       "      <td>0</td>\n",
       "      <td>0</td>\n",
       "      <td>0</td>\n",
       "      <td>0</td>\n",
       "      <td>0</td>\n",
       "      <td>0</td>\n",
       "      <td>1</td>\n",
       "      <td>0</td>\n",
       "      <td>0</td>\n",
       "      <td>0</td>\n",
       "      <td>1</td>\n",
       "      <td>0</td>\n",
       "      <td>0</td>\n",
       "      <td>1</td>\n",
       "      <td>0</td>\n",
       "      <td>0</td>\n",
       "      <td>0</td>\n",
       "      <td>0</td>\n",
       "      <td>0</td>\n",
       "      <td>0</td>\n",
       "      <td>0</td>\n",
       "      <td>0</td>\n",
       "      <td>1</td>\n",
       "      <td>0</td>\n",
       "      <td>0</td>\n",
       "      <td>1</td>\n",
       "      <td>0</td>\n",
       "      <td>0</td>\n",
       "      <td>0</td>\n",
       "      <td>1</td>\n",
       "      <td>0</td>\n",
       "      <td>0</td>\n",
       "      <td>0</td>\n",
       "      <td>0</td>\n",
       "      <td>1</td>\n",
       "      <td>0</td>\n",
       "      <td>0</td>\n",
       "      <td>1</td>\n",
       "      <td>0</td>\n",
       "      <td>0</td>\n",
       "      <td>0</td>\n",
       "      <td>0</td>\n",
       "      <td>1</td>\n",
       "      <td>0</td>\n",
       "      <td>0</td>\n",
       "      <td>0</td>\n",
       "      <td>1</td>\n",
       "      <td>0</td>\n",
       "      <td>0</td>\n",
       "      <td>0</td>\n",
       "      <td>0</td>\n",
       "      <td>0</td>\n",
       "      <td>0</td>\n",
       "    </tr>\n",
       "  </tbody>\n",
       "</table>\n",
       "</div>"
      ],
      "text/plain": [
       "    q301_No  q301_Yes  q30169_Gross!  q30169_It's_okay.  q30169_Love_it!  \\\n",
       "5         1         0              0                  0                1   \n",
       "6         0         1              0                  0                0   \n",
       "10        1         0              0                  0                0   \n",
       "12        1         0              0                  0                1   \n",
       "14        1         0              0                  0                0   \n",
       "\n",
       "    q30169_Not_so_much.  q81_Lots  q81_Never  q81_Rarely  q81_Sometimes  \\\n",
       "5                     0         0          1           0              0   \n",
       "6                     0         0          0           0              1   \n",
       "10                    0         0          0           1              0   \n",
       "12                    0         0          1           0              0   \n",
       "14                    0         0          1           0              0   \n",
       "\n",
       "    q79_I_smoke_occasionally.  q79_I_smoke_regularly.  \\\n",
       "5                           1                       0   \n",
       "6                           0                       0   \n",
       "10                          0                       0   \n",
       "12                          0                       0   \n",
       "14                          0                       0   \n",
       "\n",
       "    q79_I_smoked_in_the_past,_but_no_longer.  q79_Never.  q77_Never  \\\n",
       "5                                          0           0          0   \n",
       "6                                          0           0          0   \n",
       "10                                         0           1          0   \n",
       "12                                         0           1          0   \n",
       "14                                         0           1          1   \n",
       "\n",
       "    q77_Rarely  q77_Sometimes  q77_Very_often  q66506_Not_important.  \\\n",
       "5            0              1               0                      0   \n",
       "6            0              0               1                      0   \n",
       "10           0              1               0                      0   \n",
       "12           0              1               0                      0   \n",
       "14           0              0               0                      0   \n",
       "\n",
       "    q66506_Somewhat_important.  q66506_Very_important.  blank19  q60100_No  \\\n",
       "5                            0                       0        0          1   \n",
       "6                            1                       0        0          1   \n",
       "10                           1                       0        0          1   \n",
       "12                           1                       0        0          1   \n",
       "14                           0                       1        0          1   \n",
       "\n",
       "    q60100_Yes  blank17  blank18  \\\n",
       "5            0        0        0   \n",
       "6            0        0        0   \n",
       "10           0        0        0   \n",
       "12           0        0        0   \n",
       "14           0        0        0   \n",
       "\n",
       "    q43261_I_almost_always_do_what_my_parents_think_is_best.  \\\n",
       "5                                                   0          \n",
       "6                                                   0          \n",
       "10                                                  0          \n",
       "12                                                  0          \n",
       "14                                                  0          \n",
       "\n",
       "    q43261_I_always_do_what_my_parents_say.  q43261_I_am_my_own_person.  \\\n",
       "5                                         0                           1   \n",
       "6                                         0                           1   \n",
       "10                                        0                           1   \n",
       "12                                        0                           0   \n",
       "14                                        0                           0   \n",
       "\n",
       "    q43261_I_consider_their_opinion_but_go_my_own_way.  q4018_No  q4018_Yes  \\\n",
       "5                                                   0          0          0   \n",
       "6                                                   0          1          0   \n",
       "10                                                  0          0          1   \n",
       "12                                                  1          0          1   \n",
       "14                                                  1          1          0   \n",
       "\n",
       "    blank15  blank16  q393_No  q393_Yes  blank13  blank14  q37693_No.  \\\n",
       "5         0        0        1         0        0        0           0   \n",
       "6         0        0        0         0        0        0           0   \n",
       "10        0        0        0         1        0        0           1   \n",
       "12        0        0        1         0        0        0           0   \n",
       "14        0        0        0         0        0        0           0   \n",
       "\n",
       "    q37693_Yes,_I'd_be_playing_with_them.  \\\n",
       "5                                       1   \n",
       "6                                       0   \n",
       "10                                      0   \n",
       "12                                      0   \n",
       "14                                      1   \n",
       "\n",
       "    q37693_Yes,_but_I_don't_like_video_games.  \\\n",
       "5                                           0   \n",
       "6                                           1   \n",
       "10                                          0   \n",
       "12                                          0   \n",
       "14                                          0   \n",
       "\n",
       "    q37693_Yes,_but_I_would_not_play_that_much.  q358084_No  q358084_Yes  \\\n",
       "5                                             0           0            1   \n",
       "6                                             0           0            1   \n",
       "10                                            0           0            1   \n",
       "12                                            1           0            1   \n",
       "14                                            0           0            1   \n",
       "\n",
       "    blank11  blank12  q35_Love  q35_Sex  blank9  blank10  q274_College  \\\n",
       "5         0        0         0        1       0        0             0   \n",
       "6         0        0         1        0       0        0             0   \n",
       "10        0        0         1        0       0        0             1   \n",
       "12        0        0         1        0       0        0             0   \n",
       "14        0        0         1        0       0        0             0   \n",
       "\n",
       "    q274_Graduate_School  q274_High_School  q274_Junior_High  \\\n",
       "5                      0                 0                 0   \n",
       "6                      0                 0                 0   \n",
       "10                     0                 0                 0   \n",
       "12                     0                 0                 0   \n",
       "14                     0                 0                 0   \n",
       "\n",
       "    q19874_0-6_months  q19874_12+_months  q19874_6-12_months  \\\n",
       "5                   0                  0                   0   \n",
       "6                   0                  0                   0   \n",
       "10                  0                  1                   0   \n",
       "12                  0                  1                   0   \n",
       "14                  0                  1                   0   \n",
       "\n",
       "    q19874_I've_never_been_in_a_relationship  q1597_No  q1597_Yes  blank7  \\\n",
       "5                                          0         0          1       0   \n",
       "6                                          0         0          0       0   \n",
       "10                                         0         1          0       0   \n",
       "12                                         0         0          1       0   \n",
       "14                                         0         1          0       0   \n",
       "\n",
       "    blank8  q15280_No  q15280_Yes  blank5  blank6  q136_No  q136_Yes  blank3  \\\n",
       "5        0          0           1       0       0        0         1       0   \n",
       "6        0          0           0       0       0        0         0       0   \n",
       "10       0          1           0       0       0        0         1       0   \n",
       "12       0          1           0       0       0        1         0       0   \n",
       "14       0          1           0       0       0        0         1       0   \n",
       "\n",
       "    blank4  q123_No  q123_Yes  blank1  blank2  \\\n",
       "5        0        1         0       0       0   \n",
       "6        0        0         0       0       0   \n",
       "10       0        1         0       0       0   \n",
       "12       0        1         0       0       0   \n",
       "14       0        1         0       0       0   \n",
       "\n",
       "    q1128_No,_but_I_don't_think_it's_inherently_wrong.  q1128_No,_it's_wrong.  \\\n",
       "5                                                   0                       0   \n",
       "6                                                   0                       0   \n",
       "10                                                  0                       1   \n",
       "12                                                  0                       0   \n",
       "14                                                  0                       1   \n",
       "\n",
       "    q1128_Yes,_but_only_if_everybody_knew.  q1128_Yes,_even_in_secret.  \\\n",
       "5                                        0                           0   \n",
       "6                                        0                           0   \n",
       "10                                       0                           0   \n",
       "12                                       1                           0   \n",
       "14                                       0                           0   \n",
       "\n",
       "    q1062_A_couple_times_a_week.  q1062_At_least_once_a_day.  \\\n",
       "5                              0                           0   \n",
       "6                              0                           1   \n",
       "10                             0                           0   \n",
       "12                             0                           0   \n",
       "14                             0                           1   \n",
       "\n",
       "    q1062_Once_a_week_or_less.  q1062_Usually_daily.__I_skip_some.  \\\n",
       "5                            0                                   1   \n",
       "6                            0                                   0   \n",
       "10                           0                                   0   \n",
       "12                           0                                   0   \n",
       "14                           0                                   0   \n",
       "\n",
       "    q18698_G_+_V_=_1/T  q18698_Not_sure_/_wish_I_could_skip_this_one  \\\n",
       "5                    0                                             0   \n",
       "6                    0                                             0   \n",
       "10                   0                                             0   \n",
       "12                   0                                             0   \n",
       "14                   0                                             0   \n",
       "\n",
       "    q18698_PV_=_nRT  q18698_y=mx+b  \n",
       "5                 0              0  \n",
       "6                 0              0  \n",
       "10                0              0  \n",
       "12                0              0  \n",
       "14                0              0  "
      ]
     },
     "execution_count": 48,
     "metadata": {},
     "output_type": "execute_result"
    }
   ],
   "source": [
    "dfLogic.head()"
   ]
  },
  {
   "cell_type": "code",
   "execution_count": 53,
   "metadata": {
    "collapsed": false
   },
   "outputs": [],
   "source": [
    "scores = [0.84875446544920385,0.60960339224287607,0.77391653191956677,0.84401671153177926,0.62120568667423814,\n",
    "0.72158578662115813,0.6839064448525034,0.6983180807258017,0.65966312918105119]"
   ]
  },
  {
   "cell_type": "code",
   "execution_count": 54,
   "metadata": {
    "collapsed": false
   },
   "outputs": [
    {
     "ename": "AttributeError",
     "evalue": "'list' object has no attribute 'median'",
     "output_type": "error",
     "traceback": [
      "\u001b[0;31m---------------------------------------------------------------------------\u001b[0m",
      "\u001b[0;31mAttributeError\u001b[0m                            Traceback (most recent call last)",
      "\u001b[0;32m<ipython-input-54-cc833e3b81dc>\u001b[0m in \u001b[0;36m<module>\u001b[0;34m()\u001b[0m\n\u001b[0;32m----> 1\u001b[0;31m \u001b[0mscores\u001b[0m\u001b[0;34m.\u001b[0m\u001b[0mmedian\u001b[0m\u001b[0;34m(\u001b[0m\u001b[0;34m)\u001b[0m\u001b[0;34m\u001b[0m\u001b[0m\n\u001b[0m",
      "\u001b[0;31mAttributeError\u001b[0m: 'list' object has no attribute 'median'"
     ]
    }
   ],
   "source": [
    "scores.median()"
   ]
  },
  {
   "cell_type": "code",
   "execution_count": 55,
   "metadata": {
    "collapsed": false
   },
   "outputs": [
    {
     "data": {
      "text/plain": [
       "0.6983180807258017"
      ]
     },
     "execution_count": 55,
     "metadata": {},
     "output_type": "execute_result"
    }
   ],
   "source": [
    "np.median(scores)"
   ]
  },
  {
   "cell_type": "code",
   "execution_count": 56,
   "metadata": {
    "collapsed": false
   },
   "outputs": [
    {
     "data": {
      "text/plain": [
       "0.71788558102201983"
      ]
     },
     "execution_count": 56,
     "metadata": {},
     "output_type": "execute_result"
    }
   ],
   "source": [
    "np.mean(scores)"
   ]
  },
  {
   "cell_type": "code",
   "execution_count": null,
   "metadata": {
    "collapsed": true
   },
   "outputs": [],
   "source": []
  }
 ],
 "metadata": {
  "anaconda-cloud": {},
  "kernelspec": {
   "display_name": "Python 3",
   "language": "python",
   "name": "python3"
  },
  "language_info": {
   "codemirror_mode": {
    "name": "ipython",
    "version": 3
   },
   "file_extension": ".py",
   "mimetype": "text/x-python",
   "name": "python",
   "nbconvert_exporter": "python",
   "pygments_lexer": "ipython3",
   "version": "3.5.2"
  }
 },
 "nbformat": 4,
 "nbformat_minor": 1
}
