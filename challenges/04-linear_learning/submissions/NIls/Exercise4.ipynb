{
 "cells": [
  {
   "cell_type": "markdown",
   "metadata": {},
   "source": [
    "# Exercise 4 - Nils"
   ]
  },
  {
   "cell_type": "code",
   "execution_count": 128,
   "metadata": {
    "collapsed": false
   },
   "outputs": [],
   "source": [
    "import numpy as np\n",
    "import pandas as pd\n",
    "import matplotlib.pyplot as plt\n",
    "from sklearn.linear_model import LinearRegression\n",
    "from sklearn.cross_validation import train_test_split\n",
    "\n",
    "import sklearn.metrics\n",
    "\n",
    "\n",
    "# import PolynomialFeatures and make_pipeline for Polynomial Regression\n",
    "from sklearn.preprocessing import PolynomialFeatures\n",
    "from sklearn.pipeline import make_pipeline\n",
    "\n",
    "%matplotlib inline"
   ]
  },
  {
   "cell_type": "code",
   "execution_count": 43,
   "metadata": {
    "collapsed": true
   },
   "outputs": [],
   "source": [
    "def RMSE(y_test, y_predict):\n",
    "    RMSE = (sum((y_predict - y_test)**2)/len(y_test))**0.5\n",
    "    return RMSE\n",
    "\n",
    "def plot_predict(y_test, y_predict):\n",
    "    fig, ax = plt.subplots(1, 1, figsize = (10, 5))\n",
    "    ax.scatter(y_test, y_predict, alpha = 0.25)\n",
    "    ax.plot(np.linspace(min(y_test), max(y_test), 2), np.linspace(min(y_test), max(y_test), 2), 'r--')\n",
    "    ax.set_xlabel('y test', fontsize = 20)\n",
    "    ax.set_ylabel('y predict', fontsize = 20)\n",
    "    ax.set_title(('RMSE = ' + str(RMSE(y_test, y_predict)) + '| R - Squared = ' + str(calc_RSquared(y_test, y_predict))), fontsize = 20)\n",
    "    ax.tick_params(axis='x', labelsize=20)\n",
    "    ax.tick_params(axis='y', labelsize=20)\n",
    "\n",
    "def calc_RSquared(y_test, y_predict):\n",
    "    SS_total = np.sum((y_test - np.mean(y_test))**2)\n",
    "    SS_res = np.sum((y_test - y_predict)**2)\n",
    "    return (1 - SS_res/SS_total)"
   ]
  },
  {
   "cell_type": "markdown",
   "metadata": {},
   "source": [
    "### Exercise 4.1"
   ]
  },
  {
   "cell_type": "markdown",
   "metadata": {},
   "source": [
    "#### 4.1.1 create model"
   ]
  },
  {
   "cell_type": "code",
   "execution_count": 112,
   "metadata": {
    "collapsed": true
   },
   "outputs": [],
   "source": [
    "B0=0\n",
    "B1=0.5"
   ]
  },
  {
   "cell_type": "code",
   "execution_count": 113,
   "metadata": {
    "collapsed": true
   },
   "outputs": [],
   "source": [
    "df = pd.DataFrame()"
   ]
  },
  {
   "cell_type": "code",
   "execution_count": 114,
   "metadata": {
    "collapsed": false
   },
   "outputs": [],
   "source": [
    "df['X']=np.random.rand(100)*10"
   ]
  },
  {
   "cell_type": "code",
   "execution_count": 115,
   "metadata": {
    "collapsed": true
   },
   "outputs": [],
   "source": [
    "# make help function to create the target\n",
    "\n",
    "def create_target(x):\n",
    "    y=B0+B1*np.log(x)+np.random.rand()*0.8\n",
    "    return y"
   ]
  },
  {
   "cell_type": "code",
   "execution_count": 116,
   "metadata": {
    "collapsed": true
   },
   "outputs": [],
   "source": [
    "df['y']=df['X'].map(create_target)"
   ]
  },
  {
   "cell_type": "markdown",
   "metadata": {},
   "source": [
    "#### 4.1.2 Quadratic model"
   ]
  },
  {
   "cell_type": "code",
   "execution_count": 117,
   "metadata": {
    "collapsed": false
   },
   "outputs": [],
   "source": [
    "quad = make_pipeline(PolynomialFeatures(2), LinearRegression())"
   ]
  },
  {
   "cell_type": "code",
   "execution_count": 118,
   "metadata": {
    "collapsed": false
   },
   "outputs": [],
   "source": [
    "X = df['X'].reshape(len(df['X']),1)\n",
    "y = df['y']"
   ]
  },
  {
   "cell_type": "code",
   "execution_count": 119,
   "metadata": {
    "collapsed": false
   },
   "outputs": [
    {
     "data": {
      "text/plain": [
       "0.68713237826336115"
      ]
     },
     "execution_count": 119,
     "metadata": {},
     "output_type": "execute_result"
    }
   ],
   "source": [
    "X_train, X_test, y_train, y_test = train_test_split(X,y,test_size=0.3)\n",
    "quad.fit(X_train,y_train)\n",
    "quad.score(X_test,y_test)"
   ]
  },
  {
   "cell_type": "code",
   "execution_count": 120,
   "metadata": {
    "collapsed": false
   },
   "outputs": [
    {
     "data": {
      "image/png": "[encoded data removed]",
      "text/plain": [
       "<matplotlib.figure.Figure at 0x11dd82a90>"
      ]
     },
     "metadata": {},
     "output_type": "display_data"
    }
   ],
   "source": [
    "plot_predict(y_test, quad.predict(X_test))"
   ]
  },
  {
   "cell_type": "markdown",
   "metadata": {},
   "source": [
    "#### 4.1.3. Log model"
   ]
  },
  {
   "cell_type": "code",
   "execution_count": 121,
   "metadata": {
    "collapsed": true
   },
   "outputs": [],
   "source": [
    "df['logX']=df['X'].map(lambda x: np.log(x))\n",
    "log = LinearRegression()"
   ]
  },
  {
   "cell_type": "code",
   "execution_count": 122,
   "metadata": {
    "collapsed": true
   },
   "outputs": [],
   "source": [
    "Xlog=df['logX'].reshape(len(df['X']),1)"
   ]
  },
  {
   "cell_type": "code",
   "execution_count": 123,
   "metadata": {
    "collapsed": false
   },
   "outputs": [
    {
     "data": {
      "image/png": "[encoded data removed]",
      "text/plain": [
       "<matplotlib.figure.Figure at 0x11e220210>"
      ]
     },
     "metadata": {},
     "output_type": "display_data"
    }
   ],
   "source": [
    "X_train, X_test, y_train, y_test = train_test_split(Xlog, y, test_size=0.3)\n",
    "log.fit(X_train,y_train)\n",
    "plot_predict(y_test, log.predict(X_test))"
   ]
  },
  {
   "cell_type": "markdown",
   "metadata": {},
   "source": [
    "### Exercise 4.2. "
   ]
  },
  {
   "cell_type": "code",
   "execution_count": 130,
   "metadata": {
    "collapsed": true
   },
   "outputs": [],
   "source": [
    "B2 = 2"
   ]
  },
  {
   "cell_type": "code",
   "execution_count": 131,
   "metadata": {
    "collapsed": true
   },
   "outputs": [],
   "source": [
    "df2 = pd.DataFrame()"
   ]
  },
  {
   "cell_type": "code",
   "execution_count": 132,
   "metadata": {
    "collapsed": false
   },
   "outputs": [],
   "source": [
    "df2['X']=np.random.rand(100)*10"
   ]
  },
  {
   "cell_type": "code",
   "execution_count": 133,
   "metadata": {
    "collapsed": true
   },
   "outputs": [],
   "source": [
    "# Function to create y's\n",
    "\n",
    "def get_target2(x):\n",
    "    y = B0 + B1*x+B2*x**2+np.random.rand()\n",
    "    return y"
   ]
  },
  {
   "cell_type": "code",
   "execution_count": 134,
   "metadata": {
    "collapsed": false
   },
   "outputs": [],
   "source": [
    "df2['y']=df2['X'].map(get_target2)"
   ]
  },
  {
   "cell_type": "code",
   "execution_count": 138,
   "metadata": {
    "collapsed": true
   },
   "outputs": [],
   "source": [
    "X3=df2['X'].reshape(len(df2['X']),1)\n",
    "y2=df2['y']"
   ]
  },
  {
   "cell_type": "code",
   "execution_count": 156,
   "metadata": {
    "collapsed": false
   },
   "outputs": [
    {
     "data": {
      "text/plain": [
       "0.070002146987218863"
      ]
     },
     "execution_count": 156,
     "metadata": {},
     "output_type": "execute_result"
    }
   ],
   "source": [
    "X_train, X_test, y_train, y_test = train_test_split(X3,y2,test_size=0.3)\n",
    "quad2 = make_pipeline(PolynomialFeatures(2), LinearRegression())\n",
    "quad2.fit(X_train,y_train)\n",
    "sklearn.metrics.mean_squared_error(y_train,quad2.predict(X_train))"
   ]
  },
  {
   "cell_type": "code",
   "execution_count": 157,
   "metadata": {
    "collapsed": false
   },
   "outputs": [
    {
     "data": {
      "text/plain": [
       "0.084866933182233845"
      ]
     },
     "execution_count": 157,
     "metadata": {},
     "output_type": "execute_result"
    }
   ],
   "source": [
    "sklearn.metrics.mean_squared_error(y_test,quad2.predict(X_test))"
   ]
  },
  {
   "cell_type": "markdown",
   "metadata": {},
   "source": [
    "### Exercise 4.3"
   ]
  },
  {
   "cell_type": "code",
   "execution_count": 164,
   "metadata": {
    "collapsed": false
   },
   "outputs": [],
   "source": [
    "test_error =[] \n",
    "train_error =[]\n",
    "rsqrd=[]\n",
    "degrees=range(8)\n",
    "\n",
    "for degree in degrees:\n",
    "    poly = make_pipeline(PolynomialFeatures(degree), LinearRegression())\n",
    "    poly.fit(X_train,y_train)\n",
    "    test_error.append(sklearn.metrics.mean_squared_error(y_test,poly.predict(X_test)))\n",
    "    train_error.append(sklearn.metrics.mean_squared_error(y_train,poly.predict(X_train)))\n",
    "    rsqrd.append(poly.score(X_train,y_train))"
   ]
  },
  {
   "cell_type": "code",
   "execution_count": 194,
   "metadata": {
    "collapsed": false
   },
   "outputs": [
    {
     "data": {
      "image/png": "[encoded data removed]",
      "text/plain": [
       "<matplotlib.figure.Figure at 0x11ef9e450>"
      ]
     },
     "metadata": {},
     "output_type": "display_data"
    }
   ],
   "source": [
    "plt.plot(degrees,test_error/test_error[0],'-o', linewidth = 1)\n",
    "plt.plot(degrees,train_error/test_error[0],'-o',linewidth = 1)\n",
    "plt.plot(degrees,rsqrd,linewidth = 1)\n",
    "plt.xlabel('Polynomial Degree')\n",
    "plt.legend(['Test MSE','Train MSE','Train R-Squared'])\n",
    "plt.ylim([-0.5,2.5]);"
   ]
  },
  {
   "cell_type": "markdown",
   "metadata": {},
   "source": [
    "### Exercise 4.4."
   ]
  },
  {
   "cell_type": "code",
   "execution_count": 186,
   "metadata": {
    "collapsed": true
   },
   "outputs": [],
   "source": [
    "test_error2=[]\n",
    "train_error2=[]\n",
    "\n",
    "ml = [5,10,15,20,25,30,35,40,45,50,55,60,65,70]"
   ]
  },
  {
   "cell_type": "code",
   "execution_count": 187,
   "metadata": {
    "collapsed": true
   },
   "outputs": [],
   "source": [
    "for m in ml:\n",
    "    poly2 = make_pipeline(PolynomialFeatures(2), LinearRegression())\n",
    "    poly2.fit(X_train[:m],y_train[:m])\n",
    "    test_error2.append(sklearn.metrics.mean_squared_error(y_test,poly2.predict(X_test)))\n",
    "    train_error2.append(sklearn.metrics.mean_squared_error(y_train,poly2.predict(X_train)))"
   ]
  },
  {
   "cell_type": "code",
   "execution_count": 192,
   "metadata": {
    "collapsed": false
   },
   "outputs": [
    {
     "data": {
      "text/plain": [
       "<matplotlib.legend.Legend at 0x11e87b190>"
      ]
     },
     "execution_count": 192,
     "metadata": {},
     "output_type": "execute_result"
    },
    {
     "data": {
      "image/png": "[encoded data removed]",
      "text/plain": [
       "<matplotlib.figure.Figure at 0x11f182990>"
      ]
     },
     "metadata": {},
     "output_type": "display_data"
    }
   ],
   "source": [
    "plt.plot(ml,test_error2,'-o',linewidth = 1)\n",
    "plt.plot(ml,train_error2,'-o',linewidth = 1)\n",
    "plt.xlabel('size of train set')\n",
    "plt.legend(['Test MSE','Train MSE','Train R-Squared'])"
   ]
  }
 ],
 "metadata": {
  "anaconda-cloud": {},
  "kernelspec": {
   "display_name": "Python [Root]",
   "language": "python",
   "name": "Python [Root]"
  },
  "language_info": {
   "codemirror_mode": {
    "name": "ipython",
    "version": 2
   },
   "file_extension": ".py",
   "mimetype": "text/x-python",
   "name": "python",
   "nbconvert_exporter": "python",
   "pygments_lexer": "ipython2",
   "version": "2.7.12"
  }
 },
 "nbformat": 4,
 "nbformat_minor": 0
}
