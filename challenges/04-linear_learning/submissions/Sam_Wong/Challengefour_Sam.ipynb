{
 "cells": [
  {
   "cell_type": "markdown",
   "metadata": {},
   "source": [
    "# Exercise 4.1"
   ]
  },
  {
   "cell_type": "code",
   "execution_count": 60,
   "metadata": {
    "collapsed": true
   },
   "outputs": [],
   "source": [
    "import numpy as np\n",
    "import pandas as pd\n",
    "import random\n",
    "import matplotlib.pyplot as plt\n",
    "import seaborn as sns\n",
    "from sklearn.linear_model import LinearRegression\n",
    "from sklearn.pipeline import make_pipeline\n",
    "from sklearn.preprocessing import PolynomialFeatures\n",
    "from sklearn.model_selection import train_test_split\n",
    "from sklearn.metrics import mean_squared_error\n",
    "\n",
    "%matplotlib inline"
   ]
  },
  {
   "cell_type": "code",
   "execution_count": 61,
   "metadata": {
    "collapsed": true
   },
   "outputs": [],
   "source": [
    "b0 = 5\n",
    "b1 = 10"
   ]
  },
  {
   "cell_type": "code",
   "execution_count": 62,
   "metadata": {
    "collapsed": true
   },
   "outputs": [],
   "source": [
    "def randgenerate(n):\n",
    "    x = []\n",
    "    y = []\n",
    "    for i in range(n):\n",
    "        x.append(random.uniform(1,100))\n",
    "        epsilon = random.normalvariate(0,1)\n",
    "        y.append(b0 + b1*np.log(x[i]) + epsilon)\n",
    "    return x,y"
   ]
  },
  {
   "cell_type": "code",
   "execution_count": 63,
   "metadata": {
    "collapsed": false
   },
   "outputs": [
    {
     "data": {
      "text/plain": [
       "<matplotlib.collections.PathCollection at 0x11e6b2550>"
      ]
     },
     "execution_count": 63,
     "metadata": {},
     "output_type": "execute_result"
    },
    {
     "data": {
      "image/png": "[encoded data removed]",
      "text/plain": [
       "<matplotlib.figure.Figure at 0x11e0ec5d0>"
      ]
     },
     "metadata": {},
     "output_type": "display_data"
    }
   ],
   "source": [
    "randx, randy = randgenerate(100)\n",
    "randx = np.array(randx)\n",
    "randy = np.array(randy)\n",
    "plt.scatter(randx,randy)"
   ]
  },
  {
   "cell_type": "code",
   "execution_count": 64,
   "metadata": {
    "collapsed": false
   },
   "outputs": [],
   "source": [
    "randx = randx.reshape(-1,1)"
   ]
  },
  {
   "cell_type": "code",
   "execution_count": 65,
   "metadata": {
    "collapsed": false
   },
   "outputs": [
    {
     "data": {
      "text/plain": [
       "0.92530864521619205"
      ]
     },
     "execution_count": 65,
     "metadata": {},
     "output_type": "execute_result"
    }
   ],
   "source": [
    "lr = make_pipeline(PolynomialFeatures(2), LinearRegression())\n",
    "model1 = lr.fit(randx, randy)\n",
    "model1.score(randx, randy)"
   ]
  },
  {
   "cell_type": "code",
   "execution_count": 66,
   "metadata": {
    "collapsed": true
   },
   "outputs": [],
   "source": [
    "y_pred = model1.predict(randx)"
   ]
  },
  {
   "cell_type": "code",
   "execution_count": 67,
   "metadata": {
    "collapsed": true
   },
   "outputs": [],
   "source": [
    "randlogx = np.log(randx)\n",
    "randlogx = randlogx.reshape(-1,1)"
   ]
  },
  {
   "cell_type": "code",
   "execution_count": 68,
   "metadata": {
    "collapsed": false
   },
   "outputs": [
    {
     "data": {
      "text/plain": [
       "0.99100837684982013"
      ]
     },
     "execution_count": 68,
     "metadata": {},
     "output_type": "execute_result"
    }
   ],
   "source": [
    "lr2 = LinearRegression()\n",
    "model2 = lr2.fit(randlogx, randy)\n",
    "model2.score(randlogx, randy)"
   ]
  },
  {
   "cell_type": "code",
   "execution_count": 69,
   "metadata": {
    "collapsed": true
   },
   "outputs": [],
   "source": [
    "y_pred2 = model2.predict(randlogx)"
   ]
  },
  {
   "cell_type": "markdown",
   "metadata": {},
   "source": [
    "# Exercise 4.2"
   ]
  },
  {
   "cell_type": "code",
   "execution_count": 77,
   "metadata": {
    "collapsed": true
   },
   "outputs": [],
   "source": [
    "b2 = 0.05"
   ]
  },
  {
   "cell_type": "code",
   "execution_count": 78,
   "metadata": {
    "collapsed": true
   },
   "outputs": [],
   "source": [
    "def randgeneratesq(n):\n",
    "    x = []\n",
    "    y = []\n",
    "    for i in range(n):\n",
    "        x.append(random.uniform(1,100))\n",
    "        epsilon = random.normalvariate(0,1)\n",
    "        y.append(b0 + b1*(x[i]) + b2*(x[i])**2 + 50*epsilon)\n",
    "    return x,y"
   ]
  },
  {
   "cell_type": "code",
   "execution_count": 79,
   "metadata": {
    "collapsed": false
   },
   "outputs": [
    {
     "data": {
      "text/plain": [
       "<matplotlib.collections.PathCollection at 0x11f386b90>"
      ]
     },
     "execution_count": 79,
     "metadata": {},
     "output_type": "execute_result"
    },
    {
     "data": {
      "image/png": "[encoded data removed]",
      "text/plain": [
       "<matplotlib.figure.Figure at 0x11f129690>"
      ]
     },
     "metadata": {},
     "output_type": "display_data"
    }
   ],
   "source": [
    "randx2, randy2 = randgeneratesq(100)\n",
    "randx2 = np.array(randx2)\n",
    "randy2 = np.array(randy2)\n",
    "plt.scatter(randx2, randy2)"
   ]
  },
  {
   "cell_type": "code",
   "execution_count": 80,
   "metadata": {
    "collapsed": true
   },
   "outputs": [],
   "source": [
    "randx2 = randx2.reshape(-1,1)"
   ]
  },
  {
   "cell_type": "code",
   "execution_count": 81,
   "metadata": {
    "collapsed": true
   },
   "outputs": [],
   "source": [
    "X_train, X_test, y_train, y_test = train_test_split(randx2, randy2, test_size = 0.2)"
   ]
  },
  {
   "cell_type": "code",
   "execution_count": 18,
   "metadata": {
    "collapsed": false
   },
   "outputs": [
    {
     "data": {
      "text/plain": [
       "0.98262020624860513"
      ]
     },
     "execution_count": 18,
     "metadata": {},
     "output_type": "execute_result"
    }
   ],
   "source": [
    "lr3 = make_pipeline(PolynomialFeatures(2), LinearRegression())\n",
    "model3 = lr.fit(X_train, y_train)\n",
    "model3.score(X_test, y_test)"
   ]
  },
  {
   "cell_type": "code",
   "execution_count": 19,
   "metadata": {
    "collapsed": true
   },
   "outputs": [],
   "source": [
    "ypredtrain = model3.predict(X_train)\n",
    "ypredtest = model3.predict(X_test)"
   ]
  },
  {
   "cell_type": "code",
   "execution_count": 20,
   "metadata": {
    "collapsed": false
   },
   "outputs": [
    {
     "data": {
      "text/plain": [
       "2144.9090109243934"
      ]
     },
     "execution_count": 20,
     "metadata": {},
     "output_type": "execute_result"
    }
   ],
   "source": [
    "mean_squared_error(y_train, ypredtrain)"
   ]
  },
  {
   "cell_type": "code",
   "execution_count": 21,
   "metadata": {
    "collapsed": false
   },
   "outputs": [
    {
     "data": {
      "text/plain": [
       "3111.875837439819"
      ]
     },
     "execution_count": 21,
     "metadata": {},
     "output_type": "execute_result"
    }
   ],
   "source": [
    "mean_squared_error(y_test, ypredtest)"
   ]
  },
  {
   "cell_type": "markdown",
   "metadata": {},
   "source": [
    "# Exercise 4.3"
   ]
  },
  {
   "cell_type": "code",
   "execution_count": 22,
   "metadata": {
    "collapsed": false
   },
   "outputs": [],
   "source": [
    "def polymodel(n):\n",
    "    trainerr = 0\n",
    "    testerr = 0\n",
    "    testsco = 0\n",
    "    aic = 0\n",
    "    lr = make_pipeline(PolynomialFeatures(n), LinearRegression())\n",
    "    model = lr.fit(X_train, y_train)\n",
    "    \n",
    "    testsco = model.score(X_test, y_test)\n",
    "    ypredtrain = model.predict(X_train)\n",
    "    ypredtest = model.predict(X_test)\n",
    "    trainerr = mean_squared_error(y_train, ypredtrain)\n",
    "    testerr = mean_squared_error(y_test, ypredtest)\n",
    "    return trainerr, testerr, testsco, aic\n",
    "    "
   ]
  },
  {
   "cell_type": "code",
   "execution_count": 23,
   "metadata": {
    "collapsed": true
   },
   "outputs": [],
   "source": [
    "trainerr = []\n",
    "testerr = []\n",
    "testsco = []\n",
    "aic = []"
   ]
  },
  {
   "cell_type": "code",
   "execution_count": 24,
   "metadata": {
    "collapsed": false
   },
   "outputs": [],
   "source": [
    "for num in range(8):\n",
    "    tnrr, ttrr, ttso, ac = polymodel(num)\n",
    "    trainerr.append(tnrr)\n",
    "    testerr.append(ttrr)\n",
    "    testsco.append(ttso)\n",
    "    aic.append(ac)"
   ]
  },
  {
   "cell_type": "code",
   "execution_count": 92,
   "metadata": {
    "collapsed": false
   },
   "outputs": [
    {
     "data": {
      "text/plain": [
       "(0, 10000)"
      ]
     },
     "execution_count": 92,
     "metadata": {},
     "output_type": "execute_result"
    },
    {
     "data": {
      "image/png": "[encoded data removed]",
      "text/plain": [
       "<matplotlib.figure.Figure at 0x11f935490>"
      ]
     },
     "metadata": {},
     "output_type": "display_data"
    }
   ],
   "source": [
    "powers = range(0,8)\n",
    "plt.plot(powers, trainerr)\n",
    "plt.title('Training Error with Different Powers')\n",
    "plt.xlabel('Powers')\n",
    "plt.ylabel('Mean Squared Error')\n",
    "plt.ylim(0,10000)"
   ]
  },
  {
   "cell_type": "code",
   "execution_count": 91,
   "metadata": {
    "collapsed": false
   },
   "outputs": [
    {
     "data": {
      "text/plain": [
       "(0, 10000)"
      ]
     },
     "execution_count": 91,
     "metadata": {},
     "output_type": "execute_result"
    },
    {
     "data": {
      "image/png": "[encoded data removed]",
      "text/plain": [
       "<matplotlib.figure.Figure at 0x11f935250>"
      ]
     },
     "metadata": {},
     "output_type": "display_data"
    }
   ],
   "source": [
    "plt.plot(powers, testerr)\n",
    "plt.title('Testing Error with Different Powers')\n",
    "plt.xlabel('Powers')\n",
    "plt.ylabel('Mean Squared Error')\n",
    "plt.ylim(0, 10000)"
   ]
  },
  {
   "cell_type": "code",
   "execution_count": 90,
   "metadata": {
    "collapsed": false
   },
   "outputs": [
    {
     "data": {
      "text/plain": [
       "(0.8, 1)"
      ]
     },
     "execution_count": 90,
     "metadata": {},
     "output_type": "execute_result"
    },
    {
     "data": {
      "image/png": "[encoded data removed]",
      "text/plain": [
       "<matplotlib.figure.Figure at 0x11f830ad0>"
      ]
     },
     "metadata": {},
     "output_type": "display_data"
    }
   ],
   "source": [
    "plt.plot(powers, testsco)\n",
    "plt.title('R Squared with Different Powers')\n",
    "plt.xlabel('Powers')\n",
    "plt.ylabel('R Squared')\n",
    "plt.ylim(0.8,1)"
   ]
  },
  {
   "cell_type": "markdown",
   "metadata": {},
   "source": [
    "# Exercise 4.4"
   ]
  },
  {
   "cell_type": "code",
   "execution_count": 82,
   "metadata": {
    "collapsed": false
   },
   "outputs": [],
   "source": [
    "def traintest(modelpoints, X_train, X_test, y_train, y_test):\n",
    "    trainerror = 0\n",
    "    testerror = 0\n",
    "    X_train = X_train[0:modelpoints]\n",
    "    y_train = y_train[0:modelpoints]\n",
    "    lr = make_pipeline(PolynomialFeatures(2), LinearRegression())\n",
    "    model = lr.fit(X_train, y_train)\n",
    "    ypredtrain = model.predict(X_train)\n",
    "    ypredtest = model.predict(X_test)\n",
    "    trainerror = mean_squared_error(y_train, ypredtrain)\n",
    "    testerror = mean_squared_error(y_test, ypredtest)\n",
    "    return trainerror, testerror"
   ]
  },
  {
   "cell_type": "code",
   "execution_count": 85,
   "metadata": {
    "collapsed": true
   },
   "outputs": [],
   "source": [
    "trainerrorlist = []\n",
    "testerrorlist = []\n",
    "m = range(1, 105, 5)"
   ]
  },
  {
   "cell_type": "code",
   "execution_count": 86,
   "metadata": {
    "collapsed": false
   },
   "outputs": [
    {
     "name": "stdout",
     "output_type": "stream",
     "text": [
      "[0.0, 1056.9593721378021, 1289.0957114065397, 1435.5588934193379, 1348.3085774340066, 1647.4490651950837, 1650.4296580161199, 1811.9716417166928, 1797.2964885177105, 2112.5590072466152, 2080.1828858701974, 2281.3703659663629, 2394.1873567488137, 2496.0183414765957, 2356.901053380423, 2237.4451506598502, 2135.2417244806252, 2135.2417244806252, 2135.2417244806252, 2135.2417244806252, 2135.2417244806252]\n",
      "[1451148.5405439097, 4482.0300798767612, 2937.7645599772336, 3075.9693940960442, 2857.3376600248985, 2781.0241126772821, 2902.0968646658753, 2539.1553070344298, 2416.2703107389175, 2509.2341042930293, 2588.0217222168508, 2527.8888568794137, 2306.0105528431541, 2295.411332056331, 2304.9143413055472, 2260.3286484366427, 2279.451751856217, 2279.451751856217, 2279.451751856217, 2279.451751856217, 2279.451751856217]\n"
     ]
    }
   ],
   "source": [
    "for modpts in range(1, 105, 5):\n",
    "    trainerror, testerror = traintest(modpts, X_train, X_test, y_train, y_test)\n",
    "    trainerrorlist.append(trainerror)\n",
    "    testerrorlist.append(testerror)\n",
    "print trainerrorlist\n",
    "print testerrorlist"
   ]
  },
  {
   "cell_type": "code",
   "execution_count": 89,
   "metadata": {
    "collapsed": false
   },
   "outputs": [
    {
     "data": {
      "text/plain": [
       "(0, 5000)"
      ]
     },
     "execution_count": 89,
     "metadata": {},
     "output_type": "execute_result"
    },
    {
     "data": {
      "image/png": "[encoded data removed]",
      "text/plain": [
       "<matplotlib.figure.Figure at 0x11f74b5d0>"
      ]
     },
     "metadata": {},
     "output_type": "display_data"
    }
   ],
   "source": [
    "plt.plot(m, trainerrorlist)\n",
    "plt.plot(m, testerrorlist)\n",
    "plt.ylim(0, 5000)"
   ]
  },
  {
   "cell_type": "code",
   "execution_count": null,
   "metadata": {
    "collapsed": true
   },
   "outputs": [],
   "source": []
  }
 ],
 "metadata": {
  "kernelspec": {
   "display_name": "Python [Root]",
   "language": "python",
   "name": "Python [Root]"
  },
  "language_info": {
   "codemirror_mode": {
    "name": "ipython",
    "version": 2
   },
   "file_extension": ".py",
   "mimetype": "text/x-python",
   "name": "python",
   "nbconvert_exporter": "python",
   "pygments_lexer": "ipython2",
   "version": "2.7.12"
  }
 },
 "nbformat": 4,
 "nbformat_minor": 0
}
