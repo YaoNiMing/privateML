{
 "cells": [
  {
   "cell_type": "code",
   "execution_count": 267,
   "metadata": {
    "collapsed": false
   },
   "outputs": [],
   "source": [
    "import pandas as pd\n",
    "import math\n",
    "import random\n",
    "import numpy as np\n",
    "import matplotlib.pyplot as plt\n",
    "import seaborn as sb\n",
    "import statsmodels.api as sm\n",
    "import statsmodels.formula.api as smf\n",
    "from sklearn.cross_validation import train_test_split\n",
    "from sklearn import metrics\n",
    "\n",
    "%matplotlib inline"
   ]
  },
  {
   "cell_type": "code",
   "execution_count": 268,
   "metadata": {
    "collapsed": true
   },
   "outputs": [],
   "source": [
    "#4.1\n",
    "#Generate (fake) data that is linearly related to log(x).\n",
    "#You are making this model up. It is of the form B0 + B1*log(x) + epsilon. (You are making up the parameters.)\n",
    "#Simulate some data from this model.\n",
    "#Then fit two models to it:\n",
    "#quadratic (second degree polynomial)\n",
    "#logarithmic (log(x))\n",
    "#(The second one should fit really well, since it has the same form as the underlying model!)"
   ]
  },
  {
   "cell_type": "code",
   "execution_count": 281,
   "metadata": {
    "collapsed": false
   },
   "outputs": [
    {
     "data": {
      "image/png": "[encoded data removed]",
      "text/plain": [
       "<matplotlib.figure.Figure at 0x11ac22710>"
      ]
     },
     "metadata": {},
     "output_type": "display_data"
    }
   ],
   "source": [
    "x = np.random.uniform(1, 100, 1000)\n",
    "beta0 = 0\n",
    "beta1 = 1\n",
    "y = [beta0 + beta1 * math.log(n) + random.random() for n in x]\n",
    "df = pd.DataFrame({'y':y, 'x':x})\n",
    "plt.plot(df.x, df.y, 'o');"
   ]
  },
  {
   "cell_type": "code",
   "execution_count": 282,
   "metadata": {
    "collapsed": false
   },
   "outputs": [],
   "source": [
    "df['x^2'] = np.square(df['x'])\n",
    "df['logx'] = np.log(df['x'])"
   ]
  },
  {
   "cell_type": "code",
   "execution_count": 283,
   "metadata": {
    "collapsed": false
   },
   "outputs": [
    {
     "data": {
      "text/html": [
       "<table class=\"simpletable\">\n",
       "<caption>OLS Regression Results</caption>\n",
       "<tr>\n",
       "  <th>Dep. Variable:</th>            <td>y</td>        <th>  R-squared:         </th> <td>   0.970</td> \n",
       "</tr>\n",
       "<tr>\n",
       "  <th>Model:</th>                   <td>OLS</td>       <th>  Adj. R-squared:    </th> <td>   0.970</td> \n",
       "</tr>\n",
       "<tr>\n",
       "  <th>Method:</th>             <td>Least Squares</td>  <th>  F-statistic:       </th> <td>1.599e+04</td>\n",
       "</tr>\n",
       "<tr>\n",
       "  <th>Date:</th>             <td>Thu, 27 Oct 2016</td> <th>  Prob (F-statistic):</th>  <td>  0.00</td>  \n",
       "</tr>\n",
       "<tr>\n",
       "  <th>Time:</th>                 <td>13:08:49</td>     <th>  Log-Likelihood:    </th> <td> -1114.0</td> \n",
       "</tr>\n",
       "<tr>\n",
       "  <th>No. Observations:</th>      <td>  1000</td>      <th>  AIC:               </th> <td>   2232.</td> \n",
       "</tr>\n",
       "<tr>\n",
       "  <th>Df Residuals:</th>          <td>   998</td>      <th>  BIC:               </th> <td>   2242.</td> \n",
       "</tr>\n",
       "<tr>\n",
       "  <th>Df Model:</th>              <td>     2</td>      <th>                     </th>     <td> </td>    \n",
       "</tr>\n",
       "<tr>\n",
       "  <th>Covariance Type:</th>      <td>nonrobust</td>    <th>                     </th>     <td> </td>    \n",
       "</tr>\n",
       "</table>\n",
       "<table class=\"simpletable\">\n",
       "<tr>\n",
       "   <td></td>      <th>coef</th>     <th>std err</th>      <th>t</th>      <th>P>|t|</th> <th>[95.0% Conf. Int.]</th> \n",
       "</tr>\n",
       "<tr>\n",
       "  <th>x</th>   <td>    0.1499</td> <td>    0.002</td> <td>   93.083</td> <td> 0.000</td> <td>    0.147     0.153</td>\n",
       "</tr>\n",
       "<tr>\n",
       "  <th>x^2</th> <td>   -0.0011</td> <td> 2.07e-05</td> <td>  -52.073</td> <td> 0.000</td> <td>   -0.001    -0.001</td>\n",
       "</tr>\n",
       "</table>\n",
       "<table class=\"simpletable\">\n",
       "<tr>\n",
       "  <th>Omnibus:</th>       <td>85.682</td> <th>  Durbin-Watson:     </th> <td>   1.738</td>\n",
       "</tr>\n",
       "<tr>\n",
       "  <th>Prob(Omnibus):</th> <td> 0.000</td> <th>  Jarque-Bera (JB):  </th> <td>  50.970</td>\n",
       "</tr>\n",
       "<tr>\n",
       "  <th>Skew:</th>          <td> 0.415</td> <th>  Prob(JB):          </th> <td>8.55e-12</td>\n",
       "</tr>\n",
       "<tr>\n",
       "  <th>Kurtosis:</th>      <td> 2.269</td> <th>  Cond. No.          </th> <td>    313.</td>\n",
       "</tr>\n",
       "</table>"
      ],
      "text/plain": [
       "<class 'statsmodels.iolib.summary.Summary'>\n",
       "\"\"\"\n",
       "                            OLS Regression Results                            \n",
       "==============================================================================\n",
       "Dep. Variable:                      y   R-squared:                       0.970\n",
       "Model:                            OLS   Adj. R-squared:                  0.970\n",
       "Method:                 Least Squares   F-statistic:                 1.599e+04\n",
       "Date:                Thu, 27 Oct 2016   Prob (F-statistic):               0.00\n",
       "Time:                        13:08:49   Log-Likelihood:                -1114.0\n",
       "No. Observations:                1000   AIC:                             2232.\n",
       "Df Residuals:                     998   BIC:                             2242.\n",
       "Df Model:                           2                                         \n",
       "Covariance Type:            nonrobust                                         \n",
       "==============================================================================\n",
       "                 coef    std err          t      P>|t|      [95.0% Conf. Int.]\n",
       "------------------------------------------------------------------------------\n",
       "x              0.1499      0.002     93.083      0.000         0.147     0.153\n",
       "x^2           -0.0011   2.07e-05    -52.073      0.000        -0.001    -0.001\n",
       "==============================================================================\n",
       "Omnibus:                       85.682   Durbin-Watson:                   1.738\n",
       "Prob(Omnibus):                  0.000   Jarque-Bera (JB):               50.970\n",
       "Skew:                           0.415   Prob(JB):                     8.55e-12\n",
       "Kurtosis:                       2.269   Cond. No.                         313.\n",
       "==============================================================================\n",
       "\n",
       "Warnings:\n",
       "[1] Standard Errors assume that the covariance matrix of the errors is correctly specified.\n",
       "\"\"\""
      ]
     },
     "execution_count": 283,
     "metadata": {},
     "output_type": "execute_result"
    }
   ],
   "source": [
    "X = df[['x', 'x^2']]\n",
    "model = smf.OLS(y, X)\n",
    "fit = model.fit()\n",
    "fit.summary()"
   ]
  },
  {
   "cell_type": "code",
   "execution_count": 284,
   "metadata": {
    "collapsed": false
   },
   "outputs": [
    {
     "data": {
      "image/png": "[encoded data removed]",
      "text/plain": [
       "<matplotlib.figure.Figure at 0x11c014290>"
      ]
     },
     "metadata": {},
     "output_type": "display_data"
    }
   ],
   "source": [
    "y_predict = fit.predict(X) \n",
    "plt.plot(df.x, df.y, '.', df.x, y_predict, 'r-');"
   ]
  },
  {
   "cell_type": "code",
   "execution_count": 285,
   "metadata": {
    "collapsed": false
   },
   "outputs": [
    {
     "data": {
      "text/html": [
       "<table class=\"simpletable\">\n",
       "<caption>OLS Regression Results</caption>\n",
       "<tr>\n",
       "  <th>Dep. Variable:</th>            <td>y</td>        <th>  R-squared:         </th> <td>   0.995</td> \n",
       "</tr>\n",
       "<tr>\n",
       "  <th>Model:</th>                   <td>OLS</td>       <th>  Adj. R-squared:    </th> <td>   0.995</td> \n",
       "</tr>\n",
       "<tr>\n",
       "  <th>Method:</th>             <td>Least Squares</td>  <th>  F-statistic:       </th> <td>9.974e+04</td>\n",
       "</tr>\n",
       "<tr>\n",
       "  <th>Date:</th>             <td>Thu, 27 Oct 2016</td> <th>  Prob (F-statistic):</th>  <td>  0.00</td>  \n",
       "</tr>\n",
       "<tr>\n",
       "  <th>Time:</th>                 <td>13:08:55</td>     <th>  Log-Likelihood:    </th> <td> -211.65</td> \n",
       "</tr>\n",
       "<tr>\n",
       "  <th>No. Observations:</th>      <td>  1000</td>      <th>  AIC:               </th> <td>   427.3</td> \n",
       "</tr>\n",
       "<tr>\n",
       "  <th>Df Residuals:</th>          <td>   998</td>      <th>  BIC:               </th> <td>   437.1</td> \n",
       "</tr>\n",
       "<tr>\n",
       "  <th>Df Model:</th>              <td>     2</td>      <th>                     </th>     <td> </td>    \n",
       "</tr>\n",
       "<tr>\n",
       "  <th>Covariance Type:</th>      <td>nonrobust</td>    <th>                     </th>     <td> </td>    \n",
       "</tr>\n",
       "</table>\n",
       "<table class=\"simpletable\">\n",
       "<tr>\n",
       "    <td></td>      <th>coef</th>     <th>std err</th>      <th>t</th>      <th>P>|t|</th> <th>[95.0% Conf. Int.]</th> \n",
       "</tr>\n",
       "<tr>\n",
       "  <th>x</th>    <td>   -0.0045</td> <td>    0.001</td> <td>   -8.641</td> <td> 0.000</td> <td>   -0.006    -0.004</td>\n",
       "</tr>\n",
       "<tr>\n",
       "  <th>logx</th> <td>    1.1948</td> <td>    0.008</td> <td>  146.795</td> <td> 0.000</td> <td>    1.179     1.211</td>\n",
       "</tr>\n",
       "</table>\n",
       "<table class=\"simpletable\">\n",
       "<tr>\n",
       "  <th>Omnibus:</th>       <td>161.205</td> <th>  Durbin-Watson:     </th> <td>   1.961</td>\n",
       "</tr>\n",
       "<tr>\n",
       "  <th>Prob(Omnibus):</th> <td> 0.000</td>  <th>  Jarque-Bera (JB):  </th> <td>  37.283</td>\n",
       "</tr>\n",
       "<tr>\n",
       "  <th>Skew:</th>          <td> 0.031</td>  <th>  Prob(JB):          </th> <td>8.02e-09</td>\n",
       "</tr>\n",
       "<tr>\n",
       "  <th>Kurtosis:</th>      <td> 2.056</td>  <th>  Cond. No.          </th> <td>    50.2</td>\n",
       "</tr>\n",
       "</table>"
      ],
      "text/plain": [
       "<class 'statsmodels.iolib.summary.Summary'>\n",
       "\"\"\"\n",
       "                            OLS Regression Results                            \n",
       "==============================================================================\n",
       "Dep. Variable:                      y   R-squared:                       0.995\n",
       "Model:                            OLS   Adj. R-squared:                  0.995\n",
       "Method:                 Least Squares   F-statistic:                 9.974e+04\n",
       "Date:                Thu, 27 Oct 2016   Prob (F-statistic):               0.00\n",
       "Time:                        13:08:55   Log-Likelihood:                -211.65\n",
       "No. Observations:                1000   AIC:                             427.3\n",
       "Df Residuals:                     998   BIC:                             437.1\n",
       "Df Model:                           2                                         \n",
       "Covariance Type:            nonrobust                                         \n",
       "==============================================================================\n",
       "                 coef    std err          t      P>|t|      [95.0% Conf. Int.]\n",
       "------------------------------------------------------------------------------\n",
       "x             -0.0045      0.001     -8.641      0.000        -0.006    -0.004\n",
       "logx           1.1948      0.008    146.795      0.000         1.179     1.211\n",
       "==============================================================================\n",
       "Omnibus:                      161.205   Durbin-Watson:                   1.961\n",
       "Prob(Omnibus):                  0.000   Jarque-Bera (JB):               37.283\n",
       "Skew:                           0.031   Prob(JB):                     8.02e-09\n",
       "Kurtosis:                       2.056   Cond. No.                         50.2\n",
       "==============================================================================\n",
       "\n",
       "Warnings:\n",
       "[1] Standard Errors assume that the covariance matrix of the errors is correctly specified.\n",
       "\"\"\""
      ]
     },
     "execution_count": 285,
     "metadata": {},
     "output_type": "execute_result"
    }
   ],
   "source": [
    "X = df[['x', 'logx']]\n",
    "model = smf.OLS(y, X)\n",
    "fit = model.fit()\n",
    "fit.summary()"
   ]
  },
  {
   "cell_type": "code",
   "execution_count": 286,
   "metadata": {
    "collapsed": false
   },
   "outputs": [
    {
     "data": {
      "image/png": "[encoded data removed]",
      "text/plain": [
       "<matplotlib.figure.Figure at 0x11f193bd0>"
      ]
     },
     "metadata": {},
     "output_type": "display_data"
    }
   ],
   "source": [
    "y_predict = fit.predict(X) \n",
    "plt.plot(df.x, df.y, '.', df.x, y_predict, 'r');"
   ]
  },
  {
   "cell_type": "code",
   "execution_count": 287,
   "metadata": {
    "collapsed": true
   },
   "outputs": [],
   "source": [
    "# 4.2\n",
    "# Generate (fake) data from a model of the form B0 + B1*x + B2*x^2 + epsilon. \n",
    "#(You are making up the parameters.)\n",
    "# Split the data into a training and test set.\n",
    "# Fit a model to your training set. Calculate mean squared error on your training set. \n",
    "#Then calculate it on your test set.\n",
    "# (You could use sklearn.metrics.mean_squared_error.)"
   ]
  },
  {
   "cell_type": "code",
   "execution_count": 288,
   "metadata": {
    "collapsed": false
   },
   "outputs": [
    {
     "data": {
      "image/png": "[encoded data removed]",
      "text/plain": [
       "<matplotlib.figure.Figure at 0x11f19d550>"
      ]
     },
     "metadata": {},
     "output_type": "display_data"
    }
   ],
   "source": [
    "from sklearn.metrics import mean_squared_error\n",
    "\n",
    "x = np.linspace(0, 50, num=1000)\n",
    "beta0 = 0\n",
    "beta1 = 1\n",
    "beta2 = 2\n",
    "y = beta0 + beta1 * x + beta2 * (x**2) + random.random()\n",
    "df = pd.DataFrame({'y':y, 'x':x, 'x^2':x**2})\n",
    "plt.plot(df['x'], df.y);"
   ]
  },
  {
   "cell_type": "code",
   "execution_count": 289,
   "metadata": {
    "collapsed": false
   },
   "outputs": [
    {
     "data": {
      "text/html": [
       "<table class=\"simpletable\">\n",
       "<caption>OLS Regression Results</caption>\n",
       "<tr>\n",
       "  <th>Dep. Variable:</th>            <td>y</td>        <th>  R-squared:         </th> <td>   1.000</td> \n",
       "</tr>\n",
       "<tr>\n",
       "  <th>Model:</th>                   <td>OLS</td>       <th>  Adj. R-squared:    </th> <td>   1.000</td> \n",
       "</tr>\n",
       "<tr>\n",
       "  <th>Method:</th>             <td>Least Squares</td>  <th>  F-statistic:       </th> <td>1.970e+10</td>\n",
       "</tr>\n",
       "<tr>\n",
       "  <th>Date:</th>             <td>Thu, 27 Oct 2016</td> <th>  Prob (F-statistic):</th>  <td>  0.00</td>  \n",
       "</tr>\n",
       "<tr>\n",
       "  <th>Time:</th>                 <td>13:09:05</td>     <th>  Log-Likelihood:    </th> <td> -146.57</td> \n",
       "</tr>\n",
       "<tr>\n",
       "  <th>No. Observations:</th>      <td>   700</td>      <th>  AIC:               </th> <td>   297.1</td> \n",
       "</tr>\n",
       "<tr>\n",
       "  <th>Df Residuals:</th>          <td>   698</td>      <th>  BIC:               </th> <td>   306.2</td> \n",
       "</tr>\n",
       "<tr>\n",
       "  <th>Df Model:</th>              <td>     2</td>      <th>                     </th>     <td> </td>    \n",
       "</tr>\n",
       "<tr>\n",
       "  <th>Covariance Type:</th>      <td>nonrobust</td>    <th>                     </th>     <td> </td>    \n",
       "</tr>\n",
       "</table>\n",
       "<table class=\"simpletable\">\n",
       "<tr>\n",
       "   <td></td>      <th>coef</th>     <th>std err</th>      <th>t</th>      <th>P>|t|</th> <th>[95.0% Conf. Int.]</th> \n",
       "</tr>\n",
       "<tr>\n",
       "  <th>x</th>   <td>    1.0702</td> <td>    0.002</td> <td>  683.999</td> <td> 0.000</td> <td>    1.067     1.073</td>\n",
       "</tr>\n",
       "<tr>\n",
       "  <th>x^2</th> <td>    1.9988</td> <td> 4.06e-05</td> <td> 4.92e+04</td> <td> 0.000</td> <td>    1.999     1.999</td>\n",
       "</tr>\n",
       "</table>\n",
       "<table class=\"simpletable\">\n",
       "<tr>\n",
       "  <th>Omnibus:</th>       <td>100.360</td> <th>  Durbin-Watson:     </th> <td>   1.709</td>\n",
       "</tr>\n",
       "<tr>\n",
       "  <th>Prob(Omnibus):</th> <td> 0.000</td>  <th>  Jarque-Bera (JB):  </th> <td> 144.028</td>\n",
       "</tr>\n",
       "<tr>\n",
       "  <th>Skew:</th>          <td> 1.106</td>  <th>  Prob(JB):          </th> <td>5.31e-32</td>\n",
       "</tr>\n",
       "<tr>\n",
       "  <th>Kurtosis:</th>      <td> 3.215</td>  <th>  Cond. No.          </th> <td>    153.</td>\n",
       "</tr>\n",
       "</table>"
      ],
      "text/plain": [
       "<class 'statsmodels.iolib.summary.Summary'>\n",
       "\"\"\"\n",
       "                            OLS Regression Results                            \n",
       "==============================================================================\n",
       "Dep. Variable:                      y   R-squared:                       1.000\n",
       "Model:                            OLS   Adj. R-squared:                  1.000\n",
       "Method:                 Least Squares   F-statistic:                 1.970e+10\n",
       "Date:                Thu, 27 Oct 2016   Prob (F-statistic):               0.00\n",
       "Time:                        13:09:05   Log-Likelihood:                -146.57\n",
       "No. Observations:                 700   AIC:                             297.1\n",
       "Df Residuals:                     698   BIC:                             306.2\n",
       "Df Model:                           2                                         \n",
       "Covariance Type:            nonrobust                                         \n",
       "==============================================================================\n",
       "                 coef    std err          t      P>|t|      [95.0% Conf. Int.]\n",
       "------------------------------------------------------------------------------\n",
       "x              1.0702      0.002    683.999      0.000         1.067     1.073\n",
       "x^2            1.9988   4.06e-05   4.92e+04      0.000         1.999     1.999\n",
       "==============================================================================\n",
       "Omnibus:                      100.360   Durbin-Watson:                   1.709\n",
       "Prob(Omnibus):                  0.000   Jarque-Bera (JB):              144.028\n",
       "Skew:                           1.106   Prob(JB):                     5.31e-32\n",
       "Kurtosis:                       3.215   Cond. No.                         153.\n",
       "==============================================================================\n",
       "\n",
       "Warnings:\n",
       "[1] Standard Errors assume that the covariance matrix of the errors is correctly specified.\n",
       "\"\"\""
      ]
     },
     "execution_count": 289,
     "metadata": {},
     "output_type": "execute_result"
    }
   ],
   "source": [
    "#train_test_split\n",
    "\n",
    "X_train, X_test, y_train, y_test = train_test_split(df[['x', 'x^2']], df['y'], test_size = 0.3)\n",
    "\n",
    "model = smf.OLS(y_train, X_train)\n",
    "fit = model.fit()\n",
    "fit.summary()"
   ]
  },
  {
   "cell_type": "code",
   "execution_count": 290,
   "metadata": {
    "collapsed": false
   },
   "outputs": [
    {
     "data": {
      "text/plain": [
       "0.089000552290072033"
      ]
     },
     "execution_count": 290,
     "metadata": {},
     "output_type": "execute_result"
    }
   ],
   "source": [
    "y_train_predict = fit.predict(X_train) \n",
    "mean_squared_error(y_train, y_train_predict)"
   ]
  },
  {
   "cell_type": "code",
   "execution_count": 291,
   "metadata": {
    "collapsed": false
   },
   "outputs": [
    {
     "data": {
      "text/plain": [
       "0.082381200123101378"
      ]
     },
     "execution_count": 291,
     "metadata": {},
     "output_type": "execute_result"
    }
   ],
   "source": [
    "y_test_predict = fit.predict(X_test) \n",
    "mean_squared_error(y_test, y_test_predict)"
   ]
  },
  {
   "cell_type": "code",
   "execution_count": 292,
   "metadata": {
    "collapsed": true
   },
   "outputs": [],
   "source": [
    "# 4.3\n",
    "\n",
    "#For the data from two (above), try polynomial fits from 0th (just constant) \n",
    "#to 7th order (highest term x^7). Over the x axis of model degree (8 points), plot:\n",
    "\n",
    "#training error\n",
    "#test error\n",
    "#R squared"
   ]
  },
  {
   "cell_type": "code",
   "execution_count": 293,
   "metadata": {
    "collapsed": false
   },
   "outputs": [
    {
     "data": {
      "text/html": [
       "<div>\n",
       "<table border=\"1\" class=\"dataframe\">\n",
       "  <thead>\n",
       "    <tr style=\"text-align: right;\">\n",
       "      <th></th>\n",
       "      <th>x</th>\n",
       "      <th>x^2</th>\n",
       "      <th>constant</th>\n",
       "      <th>x^3</th>\n",
       "      <th>x^4</th>\n",
       "      <th>x^5</th>\n",
       "      <th>x^6</th>\n",
       "      <th>x^7</th>\n",
       "    </tr>\n",
       "  </thead>\n",
       "  <tbody>\n",
       "    <tr>\n",
       "      <th>0</th>\n",
       "      <td>0.00000</td>\n",
       "      <td>0.000000</td>\n",
       "      <td>0.0</td>\n",
       "      <td>0.000000</td>\n",
       "      <td>0.000000</td>\n",
       "      <td>0.000000e+00</td>\n",
       "      <td>0.000000e+00</td>\n",
       "      <td>0.000000e+00</td>\n",
       "    </tr>\n",
       "    <tr>\n",
       "      <th>1</th>\n",
       "      <td>0.05005</td>\n",
       "      <td>0.002505</td>\n",
       "      <td>0.0</td>\n",
       "      <td>0.000125</td>\n",
       "      <td>0.000006</td>\n",
       "      <td>3.140672e-07</td>\n",
       "      <td>1.571908e-08</td>\n",
       "      <td>7.867407e-10</td>\n",
       "    </tr>\n",
       "    <tr>\n",
       "      <th>2</th>\n",
       "      <td>0.10010</td>\n",
       "      <td>0.010020</td>\n",
       "      <td>0.0</td>\n",
       "      <td>0.001003</td>\n",
       "      <td>0.000100</td>\n",
       "      <td>1.005015e-05</td>\n",
       "      <td>1.006021e-06</td>\n",
       "      <td>1.007028e-07</td>\n",
       "    </tr>\n",
       "    <tr>\n",
       "      <th>3</th>\n",
       "      <td>0.15015</td>\n",
       "      <td>0.022545</td>\n",
       "      <td>0.0</td>\n",
       "      <td>0.003385</td>\n",
       "      <td>0.000508</td>\n",
       "      <td>7.631833e-05</td>\n",
       "      <td>1.145921e-05</td>\n",
       "      <td>1.720602e-06</td>\n",
       "    </tr>\n",
       "    <tr>\n",
       "      <th>4</th>\n",
       "      <td>0.20020</td>\n",
       "      <td>0.040080</td>\n",
       "      <td>0.0</td>\n",
       "      <td>0.008024</td>\n",
       "      <td>0.001606</td>\n",
       "      <td>3.216048e-04</td>\n",
       "      <td>6.438535e-05</td>\n",
       "      <td>1.288996e-05</td>\n",
       "    </tr>\n",
       "  </tbody>\n",
       "</table>\n",
       "</div>"
      ],
      "text/plain": [
       "         x       x^2  constant       x^3       x^4           x^5  \\\n",
       "0  0.00000  0.000000       0.0  0.000000  0.000000  0.000000e+00   \n",
       "1  0.05005  0.002505       0.0  0.000125  0.000006  3.140672e-07   \n",
       "2  0.10010  0.010020       0.0  0.001003  0.000100  1.005015e-05   \n",
       "3  0.15015  0.022545       0.0  0.003385  0.000508  7.631833e-05   \n",
       "4  0.20020  0.040080       0.0  0.008024  0.001606  3.216048e-04   \n",
       "\n",
       "            x^6           x^7  \n",
       "0  0.000000e+00  0.000000e+00  \n",
       "1  1.571908e-08  7.867407e-10  \n",
       "2  1.006021e-06  1.007028e-07  \n",
       "3  1.145921e-05  1.720602e-06  \n",
       "4  6.438535e-05  1.288996e-05  "
      ]
     },
     "execution_count": 293,
     "metadata": {},
     "output_type": "execute_result"
    }
   ],
   "source": [
    "df['constant'] = df.x*0\n",
    "df.head()\n",
    "\n",
    "for i in range(3, 8):\n",
    "    df['x^%d' % i] = df.x**i\n",
    "    \n",
    "df_poly = df.drop('y', axis=1)\n",
    "df_poly.head()"
   ]
  },
  {
   "cell_type": "code",
   "execution_count": 301,
   "metadata": {
    "collapsed": true
   },
   "outputs": [],
   "source": [
    "features = ['constant', 'x', 'x^2', 'x^3', 'x^4', 'x^5',  'x^6',  'x^7']"
   ]
  },
  {
   "cell_type": "code",
   "execution_count": 302,
   "metadata": {
    "collapsed": false
   },
   "outputs": [],
   "source": [
    "train_error =  []\n",
    "test_error = []\n",
    "r2 = []\n",
    "\n",
    "for i in features:\n",
    "    X_train, X_test, y_train, y_test = train_test_split(df[i], df.y, test_size = 0.3)\n",
    "    \n",
    "    model = sm.OLS(y_train, X_train)\n",
    "    fit = model.fit()\n",
    "    y_train_predict = fit.predict(X_train) \n",
    "    y_test_predict = fit.predict(X_test) \n",
    "    train_error.append(mean_squared_error(y_train, y_train_predict))\n",
    "    test_error.append(mean_squared_error(y_test, y_test_predict))\n",
    "    r2.append(fit.rsquared_adj)\n",
    "    "
   ]
  },
  {
   "cell_type": "code",
   "execution_count": 303,
   "metadata": {
    "collapsed": false
   },
   "outputs": [
    {
     "data": {
      "text/plain": [
       "[<matplotlib.lines.Line2D at 0x1200eef50>]"
      ]
     },
     "execution_count": 303,
     "metadata": {},
     "output_type": "execute_result"
    },
    {
     "data": {
      "image/png": "[encoded data removed]",
      "text/plain": [
       "<matplotlib.figure.Figure at 0x11db65650>"
      ]
     },
     "metadata": {},
     "output_type": "display_data"
    }
   ],
   "source": [
    "plt.plot(range(1,9), train_error)\n",
    "plt.title(\"Training Error(blue), Testing Error(green), R^2(red)\")\n",
    "\n",
    "plt.plot(range(1,9), test_error)\n",
    "\n",
    "plt.plot(range(1,9), r2)"
   ]
  },
  {
   "cell_type": "code",
   "execution_count": 304,
   "metadata": {
    "collapsed": true
   },
   "outputs": [],
   "source": [
    "#4.4\n",
    "#For the data from two (above), fit a model to only the first 5 of your data points (m=5). \n",
    "#Then to first 10 (m=10). Then to first 15 (m=15). \n",
    "#In this manner, keep fitting until you fit your entire training set. \n",
    "#For each step, calculate the training error and the test error. \n",
    "#Plot both (in the same plot) over m. This is called a learning curve."
   ]
  },
  {
   "cell_type": "code",
   "execution_count": 305,
   "metadata": {
    "collapsed": false
   },
   "outputs": [
    {
     "data": {
      "text/html": [
       "<div>\n",
       "<table border=\"1\" class=\"dataframe\">\n",
       "  <thead>\n",
       "    <tr style=\"text-align: right;\">\n",
       "      <th></th>\n",
       "      <th>x</th>\n",
       "      <th>x^2</th>\n",
       "      <th>y</th>\n",
       "      <th>constant</th>\n",
       "      <th>x^3</th>\n",
       "      <th>x^4</th>\n",
       "      <th>x^5</th>\n",
       "      <th>x^6</th>\n",
       "      <th>x^7</th>\n",
       "    </tr>\n",
       "  </thead>\n",
       "  <tbody>\n",
       "    <tr>\n",
       "      <th>0</th>\n",
       "      <td>0.00000</td>\n",
       "      <td>0.000000</td>\n",
       "      <td>0.883079</td>\n",
       "      <td>0.0</td>\n",
       "      <td>0.000000</td>\n",
       "      <td>0.000000</td>\n",
       "      <td>0.000000e+00</td>\n",
       "      <td>0.000000e+00</td>\n",
       "      <td>0.000000e+00</td>\n",
       "    </tr>\n",
       "    <tr>\n",
       "      <th>1</th>\n",
       "      <td>0.05005</td>\n",
       "      <td>0.002505</td>\n",
       "      <td>0.938139</td>\n",
       "      <td>0.0</td>\n",
       "      <td>0.000125</td>\n",
       "      <td>0.000006</td>\n",
       "      <td>3.140672e-07</td>\n",
       "      <td>1.571908e-08</td>\n",
       "      <td>7.867407e-10</td>\n",
       "    </tr>\n",
       "    <tr>\n",
       "      <th>2</th>\n",
       "      <td>0.10010</td>\n",
       "      <td>0.010020</td>\n",
       "      <td>1.003219</td>\n",
       "      <td>0.0</td>\n",
       "      <td>0.001003</td>\n",
       "      <td>0.000100</td>\n",
       "      <td>1.005015e-05</td>\n",
       "      <td>1.006021e-06</td>\n",
       "      <td>1.007028e-07</td>\n",
       "    </tr>\n",
       "    <tr>\n",
       "      <th>3</th>\n",
       "      <td>0.15015</td>\n",
       "      <td>0.022545</td>\n",
       "      <td>1.078319</td>\n",
       "      <td>0.0</td>\n",
       "      <td>0.003385</td>\n",
       "      <td>0.000508</td>\n",
       "      <td>7.631833e-05</td>\n",
       "      <td>1.145921e-05</td>\n",
       "      <td>1.720602e-06</td>\n",
       "    </tr>\n",
       "    <tr>\n",
       "      <th>4</th>\n",
       "      <td>0.20020</td>\n",
       "      <td>0.040080</td>\n",
       "      <td>1.163439</td>\n",
       "      <td>0.0</td>\n",
       "      <td>0.008024</td>\n",
       "      <td>0.001606</td>\n",
       "      <td>3.216048e-04</td>\n",
       "      <td>6.438535e-05</td>\n",
       "      <td>1.288996e-05</td>\n",
       "    </tr>\n",
       "  </tbody>\n",
       "</table>\n",
       "</div>"
      ],
      "text/plain": [
       "         x       x^2         y  constant       x^3       x^4           x^5  \\\n",
       "0  0.00000  0.000000  0.883079       0.0  0.000000  0.000000  0.000000e+00   \n",
       "1  0.05005  0.002505  0.938139       0.0  0.000125  0.000006  3.140672e-07   \n",
       "2  0.10010  0.010020  1.003219       0.0  0.001003  0.000100  1.005015e-05   \n",
       "3  0.15015  0.022545  1.078319       0.0  0.003385  0.000508  7.631833e-05   \n",
       "4  0.20020  0.040080  1.163439       0.0  0.008024  0.001606  3.216048e-04   \n",
       "\n",
       "            x^6           x^7  \n",
       "0  0.000000e+00  0.000000e+00  \n",
       "1  1.571908e-08  7.867407e-10  \n",
       "2  1.006021e-06  1.007028e-07  \n",
       "3  1.145921e-05  1.720602e-06  \n",
       "4  6.438535e-05  1.288996e-05  "
      ]
     },
     "execution_count": 305,
     "metadata": {},
     "output_type": "execute_result"
    }
   ],
   "source": [
    "df.head()"
   ]
  },
  {
   "cell_type": "code",
   "execution_count": 324,
   "metadata": {
    "collapsed": false
   },
   "outputs": [],
   "source": [
    "X = df[['constant', 'x', 'x^2', 'x^3', 'x^4', 'x^5', 'x^6', 'x^7']]\n",
    "y = df.y\n",
    "train_error = []\n",
    "test_error = []\n",
    "\n",
    "for i in range(5,105,5):\n",
    "    X_train, X_test, y_train, y_test = train_test_split(X[:i], df.y[:i], test_size = 0.3)\n",
    "    model = sm.OLS(y_train, X_train)\n",
    "    fit = model.fit()\n",
    "    y_train_predict = fit.predict(X_train) \n",
    "    y_test_predict = fit.predict(X_test) \n",
    "    train_error.append(mean_squared_error(y_train, y_train_predict))\n",
    "    test_error.append(mean_squared_error(y_test, y_test_predict))"
   ]
  },
  {
   "cell_type": "code",
   "execution_count": 325,
   "metadata": {
    "collapsed": false
   },
   "outputs": [
    {
     "data": {
      "text/plain": [
       "(0, 1)"
      ]
     },
     "execution_count": 325,
     "metadata": {},
     "output_type": "execute_result"
    },
    {
     "data": {
      "image/png": "[encoded data removed]",
      "text/plain": [
       "<matplotlib.figure.Figure at 0x11c3ebf90>"
      ]
     },
     "metadata": {},
     "output_type": "display_data"
    }
   ],
   "source": [
    "plt.figure(figsize=(12,6))\n",
    "plt.plot(range(20), train_error, 'g')\n",
    "plt.plot(range(20), test_error, 'r')\n",
    "plt.xlabel('# of data points')\n",
    "plt.xticks(range(20), range(0,100,5))\n",
    "plt.ylabel('MSE')\n",
    "plt.xlim(1,20)\n",
    "plt.ylim(0,1)"
   ]
  },
  {
   "cell_type": "code",
   "execution_count": null,
   "metadata": {
    "collapsed": true
   },
   "outputs": [],
   "source": []
  }
 ],
 "metadata": {
  "anaconda-cloud": {},
  "kernelspec": {
   "display_name": "Python [Root]",
   "language": "python",
   "name": "Python [Root]"
  },
  "language_info": {
   "codemirror_mode": {
    "name": "ipython",
    "version": 2
   },
   "file_extension": ".py",
   "mimetype": "text/x-python",
   "name": "python",
   "nbconvert_exporter": "python",
   "pygments_lexer": "ipython2",
   "version": "2.7.12"
  }
 },
 "nbformat": 4,
 "nbformat_minor": 0
}
