{
 "cells": [
  {
   "cell_type": "code",
   "execution_count": 1,
   "metadata": {
    "collapsed": false
   },
   "outputs": [],
   "source": [
    "#Import necessary things\n",
    "\n",
    "# Python 2 & 3 Compatibility\n",
    "from __future__ import division\n",
    "\n",
    "import pandas as pd\n",
    "import numpy as np\n",
    "import statsmodels.api as sm\n",
    "import statsmodels.formula.api as smf\n",
    "import patsy\n",
    "import matplotlib.dates as dte\n",
    "import matplotlib.pyplot as plt\n",
    "import seaborn as sns\n",
    "from seaborn import plt\n",
    "from sklearn.linear_model import LinearRegression\n",
    "from sklearn.model_selection import train_test_split\n",
    "from sklearn.linear_model import RidgeCV\n",
    "import datetime\n",
    "\n",
    "%matplotlib inline"
   ]
  },
  {
   "cell_type": "code",
   "execution_count": 2,
   "metadata": {
    "collapsed": true
   },
   "outputs": [],
   "source": [
    "#Import the movies data from '2013_movies.csv'\n",
    "chall3movies = pd.read_csv('../challenges/02-pandas/2013_movies.csv', parse_dates=['ReleaseDate'])"
   ]
  },
  {
   "cell_type": "code",
   "execution_count": 3,
   "metadata": {
    "collapsed": false
   },
   "outputs": [
    {
     "name": "stdout",
     "output_type": "stream",
     "text": [
      "<class 'pandas.core.frame.DataFrame'>\n",
      "RangeIndex: 100 entries, 0 to 99\n",
      "Data columns (total 7 columns):\n",
      "Title                 100 non-null object\n",
      "Budget                89 non-null float64\n",
      "DomesticTotalGross    100 non-null int64\n",
      "Director              96 non-null object\n",
      "Rating                100 non-null object\n",
      "Runtime               100 non-null int64\n",
      "ReleaseDate           100 non-null datetime64[ns]\n",
      "dtypes: datetime64[ns](1), float64(1), int64(2), object(3)\n",
      "memory usage: 5.5+ KB\n",
      "None\n"
     ]
    },
    {
     "data": {
      "text/html": [
       "<div>\n",
       "<table border=\"1\" class=\"dataframe\">\n",
       "  <thead>\n",
       "    <tr style=\"text-align: right;\">\n",
       "      <th></th>\n",
       "      <th>Title</th>\n",
       "      <th>Budget</th>\n",
       "      <th>DomesticTotalGross</th>\n",
       "      <th>Director</th>\n",
       "      <th>Rating</th>\n",
       "      <th>Runtime</th>\n",
       "      <th>ReleaseDate</th>\n",
       "    </tr>\n",
       "  </thead>\n",
       "  <tbody>\n",
       "    <tr>\n",
       "      <th>0</th>\n",
       "      <td>The Hunger Games: Catching Fire</td>\n",
       "      <td>130000000.0</td>\n",
       "      <td>424668047</td>\n",
       "      <td>Francis Lawrence</td>\n",
       "      <td>PG-13</td>\n",
       "      <td>146</td>\n",
       "      <td>2013-11-22</td>\n",
       "    </tr>\n",
       "    <tr>\n",
       "      <th>1</th>\n",
       "      <td>Iron Man 3</td>\n",
       "      <td>200000000.0</td>\n",
       "      <td>409013994</td>\n",
       "      <td>Shane Black</td>\n",
       "      <td>PG-13</td>\n",
       "      <td>129</td>\n",
       "      <td>2013-05-03</td>\n",
       "    </tr>\n",
       "    <tr>\n",
       "      <th>2</th>\n",
       "      <td>Frozen</td>\n",
       "      <td>150000000.0</td>\n",
       "      <td>400738009</td>\n",
       "      <td>Chris BuckJennifer Lee</td>\n",
       "      <td>PG</td>\n",
       "      <td>108</td>\n",
       "      <td>2013-11-22</td>\n",
       "    </tr>\n",
       "    <tr>\n",
       "      <th>3</th>\n",
       "      <td>Despicable Me 2</td>\n",
       "      <td>76000000.0</td>\n",
       "      <td>368061265</td>\n",
       "      <td>Pierre CoffinChris Renaud</td>\n",
       "      <td>PG</td>\n",
       "      <td>98</td>\n",
       "      <td>2013-07-03</td>\n",
       "    </tr>\n",
       "    <tr>\n",
       "      <th>4</th>\n",
       "      <td>Man of Steel</td>\n",
       "      <td>225000000.0</td>\n",
       "      <td>291045518</td>\n",
       "      <td>Zack Snyder</td>\n",
       "      <td>PG-13</td>\n",
       "      <td>143</td>\n",
       "      <td>2013-06-14</td>\n",
       "    </tr>\n",
       "  </tbody>\n",
       "</table>\n",
       "</div>"
      ],
      "text/plain": [
       "                             Title       Budget  DomesticTotalGross  \\\n",
       "0  The Hunger Games: Catching Fire  130000000.0           424668047   \n",
       "1                       Iron Man 3  200000000.0           409013994   \n",
       "2                           Frozen  150000000.0           400738009   \n",
       "3                  Despicable Me 2   76000000.0           368061265   \n",
       "4                     Man of Steel  225000000.0           291045518   \n",
       "\n",
       "                    Director Rating  Runtime ReleaseDate  \n",
       "0           Francis Lawrence  PG-13      146  2013-11-22  \n",
       "1                Shane Black  PG-13      129  2013-05-03  \n",
       "2     Chris BuckJennifer Lee     PG      108  2013-11-22  \n",
       "3  Pierre CoffinChris Renaud     PG       98  2013-07-03  \n",
       "4                Zack Snyder  PG-13      143  2013-06-14  "
      ]
     },
     "execution_count": 3,
     "metadata": {},
     "output_type": "execute_result"
    }
   ],
   "source": [
    "print chall3movies.info()\n",
    "chall3movies.head()"
   ]
  },
  {
   "cell_type": "markdown",
   "metadata": {},
   "source": [
    "**Exercise 3.1**\n",
    "\n",
    "Build a linear model that uses only a constant term (a column of ones) to predict a continuous outcome (like domestic total gross). How can you interpret the results of this model? What does it predict? Make a plot of predictions against actual outcome. Make a histogram of residuals. How are the residuals distributed?\n",
    "\n",
    "**Discussion**  \n",
    "The only thing it predicts is an intercept. As a result, all the predicted values are the same and the model does not account for any of the variation in the target variable, Domestic Total Gross. The histogram of the residuals shows that they are not normally distributed. The bin for the smallest values is largest by far, and the # in each larger bin drops off quickly.  There is a long tail on the right reflecting the model's especially poor fit for the largest grossing movies. "
   ]
  },
  {
   "cell_type": "code",
   "execution_count": 4,
   "metadata": {
    "collapsed": false
   },
   "outputs": [],
   "source": [
    "# Create the feature matrix (X) and target vector (y)\n",
    "y = chall3movies['DomesticTotalGross']\n",
    "chall3movies['Constant'] = 1\n",
    "X = chall3movies[['Constant', 'Runtime']]"
   ]
  },
  {
   "cell_type": "code",
   "execution_count": 5,
   "metadata": {
    "collapsed": false
   },
   "outputs": [
    {
     "data": {
      "text/html": [
       "<table class=\"simpletable\">\n",
       "<caption>OLS Regression Results</caption>\n",
       "<tr>\n",
       "  <th>Dep. Variable:</th>    <td>DomesticTotalGross</td> <th>  R-squared:         </th> <td>   0.000</td>\n",
       "</tr>\n",
       "<tr>\n",
       "  <th>Model:</th>                    <td>OLS</td>        <th>  Adj. R-squared:    </th> <td>   0.000</td>\n",
       "</tr>\n",
       "<tr>\n",
       "  <th>Method:</th>              <td>Least Squares</td>   <th>  F-statistic:       </th> <td>     inf</td>\n",
       "</tr>\n",
       "<tr>\n",
       "  <th>Date:</th>              <td>Tue, 11 Oct 2016</td>  <th>  Prob (F-statistic):</th>  <td>   nan</td> \n",
       "</tr>\n",
       "<tr>\n",
       "  <th>Time:</th>                  <td>18:28:43</td>      <th>  Log-Likelihood:    </th> <td> -1970.0</td>\n",
       "</tr>\n",
       "<tr>\n",
       "  <th>No. Observations:</th>       <td>   100</td>       <th>  AIC:               </th> <td>   3942.</td>\n",
       "</tr>\n",
       "<tr>\n",
       "  <th>Df Residuals:</th>           <td>    99</td>       <th>  BIC:               </th> <td>   3945.</td>\n",
       "</tr>\n",
       "<tr>\n",
       "  <th>Df Model:</th>               <td>     0</td>       <th>                     </th>     <td> </td>   \n",
       "</tr>\n",
       "<tr>\n",
       "  <th>Covariance Type:</th>       <td>nonrobust</td>     <th>                     </th>     <td> </td>   \n",
       "</tr>\n",
       "</table>\n",
       "<table class=\"simpletable\">\n",
       "<tr>\n",
       "      <td></td>        <th>coef</th>     <th>std err</th>      <th>t</th>      <th>P>|t|</th> <th>[95.0% Conf. Int.]</th> \n",
       "</tr>\n",
       "<tr>\n",
       "  <th>Constant</th> <td> 1.006e+08</td> <td> 8.74e+06</td> <td>   11.510</td> <td> 0.000</td> <td> 8.33e+07  1.18e+08</td>\n",
       "</tr>\n",
       "</table>\n",
       "<table class=\"simpletable\">\n",
       "<tr>\n",
       "  <th>Omnibus:</th>       <td>51.114</td> <th>  Durbin-Watson:     </th> <td>   0.013</td>\n",
       "</tr>\n",
       "<tr>\n",
       "  <th>Prob(Omnibus):</th> <td> 0.000</td> <th>  Jarque-Bera (JB):  </th> <td> 125.961</td>\n",
       "</tr>\n",
       "<tr>\n",
       "  <th>Skew:</th>          <td> 1.985</td> <th>  Prob(JB):          </th> <td>4.45e-28</td>\n",
       "</tr>\n",
       "<tr>\n",
       "  <th>Kurtosis:</th>      <td> 6.804</td> <th>  Cond. No.          </th> <td>    1.00</td>\n",
       "</tr>\n",
       "</table>"
      ],
      "text/plain": [
       "<class 'statsmodels.iolib.summary.Summary'>\n",
       "\"\"\"\n",
       "                            OLS Regression Results                            \n",
       "==============================================================================\n",
       "Dep. Variable:     DomesticTotalGross   R-squared:                       0.000\n",
       "Model:                            OLS   Adj. R-squared:                  0.000\n",
       "Method:                 Least Squares   F-statistic:                       inf\n",
       "Date:                Tue, 11 Oct 2016   Prob (F-statistic):                nan\n",
       "Time:                        18:28:43   Log-Likelihood:                -1970.0\n",
       "No. Observations:                 100   AIC:                             3942.\n",
       "Df Residuals:                      99   BIC:                             3945.\n",
       "Df Model:                           0                                         \n",
       "Covariance Type:            nonrobust                                         \n",
       "==============================================================================\n",
       "                 coef    std err          t      P>|t|      [95.0% Conf. Int.]\n",
       "------------------------------------------------------------------------------\n",
       "Constant    1.006e+08   8.74e+06     11.510      0.000      8.33e+07  1.18e+08\n",
       "==============================================================================\n",
       "Omnibus:                       51.114   Durbin-Watson:                   0.013\n",
       "Prob(Omnibus):                  0.000   Jarque-Bera (JB):              125.961\n",
       "Skew:                           1.985   Prob(JB):                     4.45e-28\n",
       "Kurtosis:                       6.804   Cond. No.                         1.00\n",
       "==============================================================================\n",
       "\n",
       "Warnings:\n",
       "[1] Standard Errors assume that the covariance matrix of the errors is correctly specified.\n",
       "\"\"\""
      ]
     },
     "execution_count": 5,
     "metadata": {},
     "output_type": "execute_result"
    }
   ],
   "source": [
    "#Run the model with statsmodels so I can see the regression table\n",
    "model = sm.OLS(y, X.Constant)\n",
    "fit = model.fit()\n",
    "fit.summary()"
   ]
  },
  {
   "cell_type": "code",
   "execution_count": 6,
   "metadata": {
    "collapsed": false
   },
   "outputs": [],
   "source": [
    "#Run the model with sklearn so I can get predictions\n",
    "Constant = X['Constant']\n",
    "Constant = Constant.reshape(-1, 1)\n",
    "\n",
    "lr = LinearRegression()\n",
    "lr.fit(Constant, y)\n",
    "\n",
    "# Generate predicted values\n",
    "y_pred = lr.predict(Constant)"
   ]
  },
  {
   "cell_type": "code",
   "execution_count": 7,
   "metadata": {
    "collapsed": false
   },
   "outputs": [
    {
     "data": {
      "image/png": "[encoded data removed]",
      "text/plain": [
       "<matplotlib.figure.Figure at 0x103dd1d10>"
      ]
     },
     "metadata": {},
     "output_type": "display_data"
    }
   ],
   "source": [
    "plt.scatter(y, y_pred);"
   ]
  },
  {
   "cell_type": "code",
   "execution_count": 8,
   "metadata": {
    "collapsed": false
   },
   "outputs": [
    {
     "data": {
      "image/png": "[encoded data removed]",
      "text/plain": [
       "<matplotlib.figure.Figure at 0x11bc1a250>"
      ]
     },
     "metadata": {},
     "output_type": "display_data"
    }
   ],
   "source": [
    "# Generate and plot residuals\n",
    "resids = y - y_pred\n",
    "resids.hist();"
   ]
  },
  {
   "cell_type": "markdown",
   "metadata": {},
   "source": [
    "**Exercise 3.2**\n",
    "\n",
    "Repeat the process of challenge one, but also add one continuous (numeric) predictor variable. Also add plots of model prediction against your feature variable and residuals against feature variable. How can you interpret what's happening in the model?\n",
    "\n",
    "**Discussion**  \n",
    "Here the feature variable is the film's runtime in minutes.  Runtime has a statistically significant positive effect on Domestic Total Gross, which can account for almost 9% of the variation in it. The histogram of residuals is slightly closer to a normal distribution than above, but still has a long right tail. For large values of Domestic Total Gross the predicted value is much too small, and for small values the predictions are somewhat too high."
   ]
  },
  {
   "cell_type": "code",
   "execution_count": 9,
   "metadata": {
    "collapsed": false
   },
   "outputs": [
    {
     "name": "stdout",
     "output_type": "stream",
     "text": [
      "<class 'pandas.core.frame.DataFrame'>\n",
      "RangeIndex: 100 entries, 0 to 99\n",
      "Data columns (total 2 columns):\n",
      "Constant    100 non-null int64\n",
      "Runtime     100 non-null int64\n",
      "dtypes: int64(2)\n",
      "memory usage: 1.6 KB\n"
     ]
    }
   ],
   "source": [
    "X1 = X.copy()\n",
    "X1.info()"
   ]
  },
  {
   "cell_type": "code",
   "execution_count": 10,
   "metadata": {
    "collapsed": false
   },
   "outputs": [
    {
     "data": {
      "text/html": [
       "<table class=\"simpletable\">\n",
       "<caption>OLS Regression Results</caption>\n",
       "<tr>\n",
       "  <th>Dep. Variable:</th>    <td>DomesticTotalGross</td> <th>  R-squared:         </th> <td>   0.086</td>\n",
       "</tr>\n",
       "<tr>\n",
       "  <th>Model:</th>                    <td>OLS</td>        <th>  Adj. R-squared:    </th> <td>   0.076</td>\n",
       "</tr>\n",
       "<tr>\n",
       "  <th>Method:</th>              <td>Least Squares</td>   <th>  F-statistic:       </th> <td>   9.180</td>\n",
       "</tr>\n",
       "<tr>\n",
       "  <th>Date:</th>              <td>Tue, 11 Oct 2016</td>  <th>  Prob (F-statistic):</th>  <td>0.00313</td>\n",
       "</tr>\n",
       "<tr>\n",
       "  <th>Time:</th>                  <td>18:29:19</td>      <th>  Log-Likelihood:    </th> <td> -1965.5</td>\n",
       "</tr>\n",
       "<tr>\n",
       "  <th>No. Observations:</th>       <td>   100</td>       <th>  AIC:               </th> <td>   3935.</td>\n",
       "</tr>\n",
       "<tr>\n",
       "  <th>Df Residuals:</th>           <td>    98</td>       <th>  BIC:               </th> <td>   3940.</td>\n",
       "</tr>\n",
       "<tr>\n",
       "  <th>Df Model:</th>               <td>     1</td>       <th>                     </th>     <td> </td>   \n",
       "</tr>\n",
       "<tr>\n",
       "  <th>Covariance Type:</th>       <td>nonrobust</td>     <th>                     </th>     <td> </td>   \n",
       "</tr>\n",
       "</table>\n",
       "<table class=\"simpletable\">\n",
       "<tr>\n",
       "      <td></td>        <th>coef</th>     <th>std err</th>      <th>t</th>      <th>P>|t|</th> <th>[95.0% Conf. Int.]</th> \n",
       "</tr>\n",
       "<tr>\n",
       "  <th>Constant</th> <td>-5.725e+07</td> <td> 5.28e+07</td> <td>   -1.085</td> <td> 0.281</td> <td>-1.62e+08  4.75e+07</td>\n",
       "</tr>\n",
       "<tr>\n",
       "  <th>Runtime</th>  <td> 1.406e+06</td> <td> 4.64e+05</td> <td>    3.030</td> <td> 0.003</td> <td> 4.85e+05  2.33e+06</td>\n",
       "</tr>\n",
       "</table>\n",
       "<table class=\"simpletable\">\n",
       "<tr>\n",
       "  <th>Omnibus:</th>       <td>50.222</td> <th>  Durbin-Watson:     </th> <td>   0.189</td>\n",
       "</tr>\n",
       "<tr>\n",
       "  <th>Prob(Omnibus):</th> <td> 0.000</td> <th>  Jarque-Bera (JB):  </th> <td> 125.001</td>\n",
       "</tr>\n",
       "<tr>\n",
       "  <th>Skew:</th>          <td> 1.932</td> <th>  Prob(JB):          </th> <td>7.19e-28</td>\n",
       "</tr>\n",
       "<tr>\n",
       "  <th>Kurtosis:</th>      <td> 6.883</td> <th>  Cond. No.          </th> <td>    714.</td>\n",
       "</tr>\n",
       "</table>"
      ],
      "text/plain": [
       "<class 'statsmodels.iolib.summary.Summary'>\n",
       "\"\"\"\n",
       "                            OLS Regression Results                            \n",
       "==============================================================================\n",
       "Dep. Variable:     DomesticTotalGross   R-squared:                       0.086\n",
       "Model:                            OLS   Adj. R-squared:                  0.076\n",
       "Method:                 Least Squares   F-statistic:                     9.180\n",
       "Date:                Tue, 11 Oct 2016   Prob (F-statistic):            0.00313\n",
       "Time:                        18:29:19   Log-Likelihood:                -1965.5\n",
       "No. Observations:                 100   AIC:                             3935.\n",
       "Df Residuals:                      98   BIC:                             3940.\n",
       "Df Model:                           1                                         \n",
       "Covariance Type:            nonrobust                                         \n",
       "==============================================================================\n",
       "                 coef    std err          t      P>|t|      [95.0% Conf. Int.]\n",
       "------------------------------------------------------------------------------\n",
       "Constant   -5.725e+07   5.28e+07     -1.085      0.281     -1.62e+08  4.75e+07\n",
       "Runtime     1.406e+06   4.64e+05      3.030      0.003      4.85e+05  2.33e+06\n",
       "==============================================================================\n",
       "Omnibus:                       50.222   Durbin-Watson:                   0.189\n",
       "Prob(Omnibus):                  0.000   Jarque-Bera (JB):              125.001\n",
       "Skew:                           1.932   Prob(JB):                     7.19e-28\n",
       "Kurtosis:                       6.883   Cond. No.                         714.\n",
       "==============================================================================\n",
       "\n",
       "Warnings:\n",
       "[1] Standard Errors assume that the covariance matrix of the errors is correctly specified.\n",
       "\"\"\""
      ]
     },
     "execution_count": 10,
     "metadata": {},
     "output_type": "execute_result"
    }
   ],
   "source": [
    "#Run the model with statsmodels so I can see the regression table\n",
    "model = sm.OLS(y, X1)\n",
    "fit = model.fit()\n",
    "fit.summary()"
   ]
  },
  {
   "cell_type": "code",
   "execution_count": 11,
   "metadata": {
    "collapsed": false
   },
   "outputs": [],
   "source": [
    "#And with sklearn so I can get predictions\n",
    "lr = LinearRegression()\n",
    "lr.fit(X1, y)\n",
    "\n",
    "# Generate predicted values\n",
    "y_pred = lr.predict(X1)"
   ]
  },
  {
   "cell_type": "code",
   "execution_count": 12,
   "metadata": {
    "collapsed": false
   },
   "outputs": [
    {
     "data": {
      "image/png": "[encoded data removed]",
      "text/plain": [
       "<matplotlib.figure.Figure at 0x11912df10>"
      ]
     },
     "metadata": {},
     "output_type": "display_data"
    }
   ],
   "source": [
    "plt.scatter(y, y_pred);\n",
    "plt.xlim([0,5e8])\n",
    "plt.ylim([0, 5e8])\n",
    "plt.plot([0, 5e8], [0, 5e8], 'r--');"
   ]
  },
  {
   "cell_type": "code",
   "execution_count": 13,
   "metadata": {
    "collapsed": false
   },
   "outputs": [
    {
     "data": {
      "image/png": "[encoded data removed]",
      "text/plain": [
       "<matplotlib.figure.Figure at 0x11bd31b90>"
      ]
     },
     "metadata": {},
     "output_type": "display_data"
    }
   ],
   "source": [
    "# Generate and plot residuals\n",
    "resids = y - y_pred\n",
    "resids.hist();"
   ]
  },
  {
   "cell_type": "code",
   "execution_count": 14,
   "metadata": {
    "collapsed": false
   },
   "outputs": [
    {
     "data": {
      "image/png": "[encoded data removed]",
      "text/plain": [
       "<matplotlib.figure.Figure at 0x11c1d4510>"
      ]
     },
     "metadata": {},
     "output_type": "display_data"
    }
   ],
   "source": [
    "plt.scatter(y_pred, X1.Runtime);"
   ]
  },
  {
   "cell_type": "code",
   "execution_count": 15,
   "metadata": {
    "collapsed": false
   },
   "outputs": [
    {
     "data": {
      "image/png": "[encoded data removed]",
      "text/plain": [
       "<matplotlib.figure.Figure at 0x11bf15890>"
      ]
     },
     "metadata": {},
     "output_type": "display_data"
    }
   ],
   "source": [
    "plt.scatter(X1.Runtime, resids);"
   ]
  },
  {
   "cell_type": "markdown",
   "metadata": {},
   "source": [
    "**Exercise 3.3**\n",
    "\n",
    "Repeat the process of challenge 1, but add a categorical feature (like genre). You'll have to convert a column of text into a number of numerical columns (\"dummy variables\"). How can you interpret what's happening in the model?\n",
    "\n",
    "**Discussion**  \n",
    "Here the categorical variable is the Rating, for which there are four categories.  I drop one, R, for the regression.  Accounting for the ratings categories allows the model to account for almost 11% of the variation in Domestic Total Gross.  Each rating G, PG, and PG-13 has a statistically significant positive effect on Domestic Total Gross when compared with the reference category of an R rating.  This model generates four distinct predicted values of Domestic Total Gross, which is obviously much less than the true number of distinct values.  The residuals are again a bit closer to normally distributed when compared with the constant-only model, but there is still no left tail and a long right one. "
   ]
  },
  {
   "cell_type": "code",
   "execution_count": 46,
   "metadata": {
    "collapsed": false
   },
   "outputs": [
    {
     "name": "stdout",
     "output_type": "stream",
     "text": [
      "<class 'pandas.core.frame.DataFrame'>\n",
      "RangeIndex: 100 entries, 0 to 99\n",
      "Data columns (total 4 columns):\n",
      "Constant        100 non-null int64\n",
      "Rating_G        100 non-null float64\n",
      "Rating_PG       100 non-null float64\n",
      "Rating_PG-13    100 non-null float64\n",
      "dtypes: float64(3), int64(1)\n",
      "memory usage: 3.2 KB\n",
      "None\n"
     ]
    }
   ],
   "source": [
    "#Create a matrix with constant plus categorical variable rating, create dummies, and drop R as a reference category\n",
    "X2 = chall3movies[['Constant', 'Rating']].copy() \n",
    "X2 = pd.get_dummies(X_cat)\n",
    "X2a = X2.drop('Rating_R', axis = 1)\n",
    "print X2a.info()"
   ]
  },
  {
   "cell_type": "code",
   "execution_count": 47,
   "metadata": {
    "collapsed": false
   },
   "outputs": [
    {
     "data": {
      "text/html": [
       "<table class=\"simpletable\">\n",
       "<caption>OLS Regression Results</caption>\n",
       "<tr>\n",
       "  <th>Dep. Variable:</th>    <td>DomesticTotalGross</td> <th>  R-squared:         </th> <td>   0.109</td>\n",
       "</tr>\n",
       "<tr>\n",
       "  <th>Model:</th>                    <td>OLS</td>        <th>  Adj. R-squared:    </th> <td>   0.081</td>\n",
       "</tr>\n",
       "<tr>\n",
       "  <th>Method:</th>              <td>Least Squares</td>   <th>  F-statistic:       </th> <td>   3.924</td>\n",
       "</tr>\n",
       "<tr>\n",
       "  <th>Date:</th>              <td>Tue, 11 Oct 2016</td>  <th>  Prob (F-statistic):</th>  <td>0.0109</td> \n",
       "</tr>\n",
       "<tr>\n",
       "  <th>Time:</th>                  <td>18:38:13</td>      <th>  Log-Likelihood:    </th> <td> -1964.2</td>\n",
       "</tr>\n",
       "<tr>\n",
       "  <th>No. Observations:</th>       <td>   100</td>       <th>  AIC:               </th> <td>   3936.</td>\n",
       "</tr>\n",
       "<tr>\n",
       "  <th>Df Residuals:</th>           <td>    96</td>       <th>  BIC:               </th> <td>   3947.</td>\n",
       "</tr>\n",
       "<tr>\n",
       "  <th>Df Model:</th>               <td>     3</td>       <th>                     </th>     <td> </td>   \n",
       "</tr>\n",
       "<tr>\n",
       "  <th>Covariance Type:</th>       <td>nonrobust</td>     <th>                     </th>     <td> </td>   \n",
       "</tr>\n",
       "</table>\n",
       "<table class=\"simpletable\">\n",
       "<tr>\n",
       "        <td></td>          <th>coef</th>     <th>std err</th>      <th>t</th>      <th>P>|t|</th> <th>[95.0% Conf. Int.]</th> \n",
       "</tr>\n",
       "<tr>\n",
       "  <th>Constant</th>     <td> 6.989e+07</td> <td> 1.38e+07</td> <td>    5.075</td> <td> 0.000</td> <td> 4.26e+07  9.72e+07</td>\n",
       "</tr>\n",
       "<tr>\n",
       "  <th>Rating_G</th>     <td> 1.986e+08</td> <td> 8.49e+07</td> <td>    2.340</td> <td> 0.021</td> <td> 3.01e+07  3.67e+08</td>\n",
       "</tr>\n",
       "<tr>\n",
       "  <th>Rating_PG</th>    <td> 6.124e+07</td> <td> 2.56e+07</td> <td>    2.389</td> <td> 0.019</td> <td> 1.03e+07  1.12e+08</td>\n",
       "</tr>\n",
       "<tr>\n",
       "  <th>Rating_PG-13</th> <td> 4.156e+07</td> <td> 1.84e+07</td> <td>    2.257</td> <td> 0.026</td> <td> 5.01e+06  7.81e+07</td>\n",
       "</tr>\n",
       "</table>\n",
       "<table class=\"simpletable\">\n",
       "<tr>\n",
       "  <th>Omnibus:</th>       <td>46.897</td> <th>  Durbin-Watson:     </th> <td>   0.240</td>\n",
       "</tr>\n",
       "<tr>\n",
       "  <th>Prob(Omnibus):</th> <td> 0.000</td> <th>  Jarque-Bera (JB):  </th> <td> 109.261</td>\n",
       "</tr>\n",
       "<tr>\n",
       "  <th>Skew:</th>          <td> 1.826</td> <th>  Prob(JB):          </th> <td>1.88e-24</td>\n",
       "</tr>\n",
       "<tr>\n",
       "  <th>Kurtosis:</th>      <td> 6.589</td> <th>  Cond. No.          </th> <td>    11.5</td>\n",
       "</tr>\n",
       "</table>"
      ],
      "text/plain": [
       "<class 'statsmodels.iolib.summary.Summary'>\n",
       "\"\"\"\n",
       "                            OLS Regression Results                            \n",
       "==============================================================================\n",
       "Dep. Variable:     DomesticTotalGross   R-squared:                       0.109\n",
       "Model:                            OLS   Adj. R-squared:                  0.081\n",
       "Method:                 Least Squares   F-statistic:                     3.924\n",
       "Date:                Tue, 11 Oct 2016   Prob (F-statistic):             0.0109\n",
       "Time:                        18:38:13   Log-Likelihood:                -1964.2\n",
       "No. Observations:                 100   AIC:                             3936.\n",
       "Df Residuals:                      96   BIC:                             3947.\n",
       "Df Model:                           3                                         \n",
       "Covariance Type:            nonrobust                                         \n",
       "================================================================================\n",
       "                   coef    std err          t      P>|t|      [95.0% Conf. Int.]\n",
       "--------------------------------------------------------------------------------\n",
       "Constant      6.989e+07   1.38e+07      5.075      0.000      4.26e+07  9.72e+07\n",
       "Rating_G      1.986e+08   8.49e+07      2.340      0.021      3.01e+07  3.67e+08\n",
       "Rating_PG     6.124e+07   2.56e+07      2.389      0.019      1.03e+07  1.12e+08\n",
       "Rating_PG-13  4.156e+07   1.84e+07      2.257      0.026      5.01e+06  7.81e+07\n",
       "==============================================================================\n",
       "Omnibus:                       46.897   Durbin-Watson:                   0.240\n",
       "Prob(Omnibus):                  0.000   Jarque-Bera (JB):              109.261\n",
       "Skew:                           1.826   Prob(JB):                     1.88e-24\n",
       "Kurtosis:                       6.589   Cond. No.                         11.5\n",
       "==============================================================================\n",
       "\n",
       "Warnings:\n",
       "[1] Standard Errors assume that the covariance matrix of the errors is correctly specified.\n",
       "\"\"\""
      ]
     },
     "execution_count": 47,
     "metadata": {},
     "output_type": "execute_result"
    }
   ],
   "source": [
    "#Run the model with statsmodels so I can see the regression table\n",
    "model = sm.OLS(y, X2a)\n",
    "fit = model.fit()\n",
    "fit.summary()"
   ]
  },
  {
   "cell_type": "code",
   "execution_count": 48,
   "metadata": {
    "collapsed": true
   },
   "outputs": [],
   "source": [
    "#And with sklearn so I can get predictions\n",
    "lr = LinearRegression()\n",
    "lr.fit(X2a, y)\n",
    "\n",
    "# Generate predicted values\n",
    "y_pred = lr.predict(X2a)"
   ]
  },
  {
   "cell_type": "code",
   "execution_count": 49,
   "metadata": {
    "collapsed": false
   },
   "outputs": [
    {
     "data": {
      "image/png": "[encoded data removed]",
      "text/plain": [
       "<matplotlib.figure.Figure at 0x11bf22450>"
      ]
     },
     "metadata": {},
     "output_type": "display_data"
    }
   ],
   "source": [
    "plt.scatter(y, y_pred);"
   ]
  },
  {
   "cell_type": "code",
   "execution_count": 50,
   "metadata": {
    "collapsed": false
   },
   "outputs": [
    {
     "data": {
      "image/png": "[encoded data removed]",
      "text/plain": [
       "<matplotlib.figure.Figure at 0x11d6a0b50>"
      ]
     },
     "metadata": {},
     "output_type": "display_data"
    }
   ],
   "source": [
    "# Generate and plot residuals\n",
    "resids = y - y_pred\n",
    "resids.hist();"
   ]
  },
  {
   "cell_type": "code",
   "execution_count": 51,
   "metadata": {
    "collapsed": false
   },
   "outputs": [
    {
     "data": {
      "image/png": "[encoded data removed]",
      "text/plain": [
       "<matplotlib.figure.Figure at 0x11d01e510>"
      ]
     },
     "metadata": {},
     "output_type": "display_data"
    }
   ],
   "source": [
    "#Plot the predictions against the dummies for each rating level\n",
    "#These graphs look strange -- they appear to have too few observations -- but are correct.  \n",
    "#There are multiple observations at each dot since there are only 4 distinct predicted values of y in this model.\n",
    "\n",
    "plt.figure(figsize=(22, 10))\n",
    "\n",
    "plt.subplot(2, 2, 1)\n",
    "plt.scatter(y_pred, X2a.Rating_G)\n",
    "plt.title('G')\n",
    "plt.ylabel('Rating')\n",
    "plt.xlabel('y_pred')\n",
    "\n",
    "plt.subplot(2, 2, 2)\n",
    "plt.scatter(y_pred, X2a.Rating_PG)\n",
    "plt.title('PG')\n",
    "plt.ylabel('Rating')\n",
    "plt.xlabel('y_pred')\n",
    "\n",
    "plt.subplot(2, 2, 3)\n",
    "plt.scatter(y_pred, X2a['Rating_PG-13'])\n",
    "plt.title('PG-13')\n",
    "plt.ylabel('Rating')\n",
    "plt.xlabel('y_pred')\n",
    "\n",
    "plt.subplot(2, 2, 4)\n",
    "plt.scatter(y_pred, X2.Rating_R)\n",
    "plt.title('R')\n",
    "plt.ylabel('Rating')\n",
    "plt.xlabel('y_pred');"
   ]
  },
  {
   "cell_type": "code",
   "execution_count": 52,
   "metadata": {
    "collapsed": false
   },
   "outputs": [
    {
     "data": {
      "image/png": "[encoded data removed]",
      "text/plain": [
       "<matplotlib.figure.Figure at 0x11edbff50>"
      ]
     },
     "metadata": {},
     "output_type": "display_data"
    }
   ],
   "source": [
    "#Plot the predictions against the residuals\n",
    "\n",
    "plt.figure(figsize=(22, 10))\n",
    "\n",
    "plt.subplot(2, 2, 1)\n",
    "plt.scatter(X2a.Rating_G, resids)\n",
    "plt.title('G')\n",
    "plt.ylabel('Residuals')\n",
    "\n",
    "plt.subplot(2, 2, 2)\n",
    "plt.scatter(X2a.Rating_PG, resids)\n",
    "plt.title('PG')\n",
    "plt.ylabel('Residuals')\n",
    "\n",
    "plt.subplot(2, 2, 3)\n",
    "plt.scatter(X2a['Rating_PG-13'], resids)\n",
    "plt.title('PG-13')\n",
    "plt.ylabel('Residuals')\n",
    "\n",
    "plt.subplot(2, 2, 4)\n",
    "plt.scatter(X2.Rating_R, resids)\n",
    "plt.title('R')\n",
    "plt.ylabel('Residuals');"
   ]
  },
  {
   "cell_type": "markdown",
   "metadata": {},
   "source": [
    "**Exercise 3.4**\n",
    "\n",
    "Enhance your model further by adding more features and/or transforming existing features. Think about how you build the model matrix and how to interpret what the model is doing.\n",
    "\n",
    "**Discussion**  \n",
    "Here I've surrendered some data points in order to be able to include budget.  I also generated an indicator variable for whether the movie was released in the summer months (May-August) based on looking at the Seaborn boxplots below.  Overall the model explains more of the variation than the above ones -- about 30% of the variation in Domestic Total Gross. You can see this in the histogram of the residuals, which is significantly closer to a normal distribution than in the above models. Outliers on the high end of Domestic Total Gross are still significantly underpredicted."
   ]
  },
  {
   "cell_type": "code",
   "execution_count": 53,
   "metadata": {
    "collapsed": false
   },
   "outputs": [],
   "source": [
    "#Create feature matrix for this larger model. First include ReleaseDate and then use this to get the month.\n",
    "X3 = chall3movies[['Constant', 'Runtime', 'Budget', 'Rating', 'ReleaseDate']].copy()\n",
    "X3['ReleaseMonth'] = pd.DatetimeIndex(X3['ReleaseDate']).month"
   ]
  },
  {
   "cell_type": "code",
   "execution_count": 54,
   "metadata": {
    "collapsed": false
   },
   "outputs": [
    {
     "data": {
      "image/png": "[encoded data removed]",
      "text/plain": [
       "<matplotlib.figure.Figure at 0x11e7071d0>"
      ]
     },
     "metadata": {},
     "output_type": "display_data"
    }
   ],
   "source": [
    "#Use Seaborn boxplots to look at relationship between y and ReleaseMonth \n",
    "fig, ax = plt.subplots(1,1, figsize=(20,10))\n",
    "ax.set_title('DomesticTotalGross by ReleaseMonth')\n",
    "sns.boxplot(x=X3['ReleaseMonth'].sort_values(), y=y)\n",
    "ax.set_xlabel('Month')\n",
    "ax.set_ylabel('Domestic Total Gross');"
   ]
  },
  {
   "cell_type": "code",
   "execution_count": 55,
   "metadata": {
    "collapsed": false
   },
   "outputs": [],
   "source": [
    "#Looks like summer is distinct from the rest of the year\n",
    "#Create a variable to capture movies released in the summer months: May-August\n",
    "\n",
    "def get_summer(cell):\n",
    "    if cell in range(5, 9):\n",
    "        return 1\n",
    "    else:\n",
    "        return 0\n",
    "        \n",
    "X3['SummerRelease'] = map(get_summer, X3['ReleaseMonth'])"
   ]
  },
  {
   "cell_type": "code",
   "execution_count": 56,
   "metadata": {
    "collapsed": false
   },
   "outputs": [
    {
     "name": "stdout",
     "output_type": "stream",
     "text": [
      "<class 'pandas.core.frame.DataFrame'>\n",
      "Int64Index: 89 entries, 0 to 99\n",
      "Data columns (total 6 columns):\n",
      "Constant         89 non-null int64\n",
      "Runtime          89 non-null int64\n",
      "Budget           89 non-null float64\n",
      "SummerRelease    89 non-null int64\n",
      "Rating_PG        89 non-null float64\n",
      "Rating_PG-13     89 non-null float64\n",
      "dtypes: float64(3), int64(3)\n",
      "memory usage: 4.9 KB\n"
     ]
    }
   ],
   "source": [
    "X3 = X3.drop(['ReleaseDate', 'ReleaseMonth'], axis = 1)\n",
    "X3 = X3.dropna(how='any')\n",
    "X3 = pd.get_dummies(X3)\n",
    "\n",
    "#Now drop final column so we only include PG and PG-13 and leave R as the reference category\n",
    "#(No G movies in this set with the budget)\n",
    "X3 = X3.drop('Rating_R', axis = 1)\n",
    "y2 = y[X3.index]\n",
    "X3.info()"
   ]
  },
  {
   "cell_type": "code",
   "execution_count": 57,
   "metadata": {
    "collapsed": false
   },
   "outputs": [
    {
     "data": {
      "text/html": [
       "<table class=\"simpletable\">\n",
       "<caption>OLS Regression Results</caption>\n",
       "<tr>\n",
       "  <th>Dep. Variable:</th>    <td>DomesticTotalGross</td> <th>  R-squared:         </th> <td>   0.302</td>\n",
       "</tr>\n",
       "<tr>\n",
       "  <th>Model:</th>                    <td>OLS</td>        <th>  Adj. R-squared:    </th> <td>   0.260</td>\n",
       "</tr>\n",
       "<tr>\n",
       "  <th>Method:</th>              <td>Least Squares</td>   <th>  F-statistic:       </th> <td>   7.191</td>\n",
       "</tr>\n",
       "<tr>\n",
       "  <th>Date:</th>              <td>Tue, 11 Oct 2016</td>  <th>  Prob (F-statistic):</th> <td>1.23e-05</td>\n",
       "</tr>\n",
       "<tr>\n",
       "  <th>Time:</th>                  <td>18:39:51</td>      <th>  Log-Likelihood:    </th> <td> -1737.0</td>\n",
       "</tr>\n",
       "<tr>\n",
       "  <th>No. Observations:</th>       <td>    89</td>       <th>  AIC:               </th> <td>   3486.</td>\n",
       "</tr>\n",
       "<tr>\n",
       "  <th>Df Residuals:</th>           <td>    83</td>       <th>  BIC:               </th> <td>   3501.</td>\n",
       "</tr>\n",
       "<tr>\n",
       "  <th>Df Model:</th>               <td>     5</td>       <th>                     </th>     <td> </td>   \n",
       "</tr>\n",
       "<tr>\n",
       "  <th>Covariance Type:</th>       <td>nonrobust</td>     <th>                     </th>     <td> </td>   \n",
       "</tr>\n",
       "</table>\n",
       "<table class=\"simpletable\">\n",
       "<tr>\n",
       "        <td></td>           <th>coef</th>     <th>std err</th>      <th>t</th>      <th>P>|t|</th> <th>[95.0% Conf. Int.]</th> \n",
       "</tr>\n",
       "<tr>\n",
       "  <th>Constant</th>      <td>-2.222e+07</td> <td> 5.82e+07</td> <td>   -0.382</td> <td> 0.704</td> <td>-1.38e+08  9.36e+07</td>\n",
       "</tr>\n",
       "<tr>\n",
       "  <th>Runtime</th>       <td>  6.13e+05</td> <td> 5.25e+05</td> <td>    1.168</td> <td> 0.246</td> <td>-4.31e+05  1.66e+06</td>\n",
       "</tr>\n",
       "<tr>\n",
       "  <th>Budget</th>        <td>    0.6963</td> <td>    0.173</td> <td>    4.017</td> <td> 0.000</td> <td>    0.352     1.041</td>\n",
       "</tr>\n",
       "<tr>\n",
       "  <th>SummerRelease</th> <td> 2.537e+06</td> <td> 1.72e+07</td> <td>    0.148</td> <td> 0.883</td> <td>-3.16e+07  3.67e+07</td>\n",
       "</tr>\n",
       "<tr>\n",
       "  <th>Rating_PG</th>     <td> 2.551e+07</td> <td> 2.68e+07</td> <td>    0.953</td> <td> 0.343</td> <td>-2.77e+07  7.87e+07</td>\n",
       "</tr>\n",
       "<tr>\n",
       "  <th>Rating_PG-13</th>  <td>-2.283e+06</td> <td> 1.96e+07</td> <td>   -0.116</td> <td> 0.908</td> <td>-4.14e+07  3.68e+07</td>\n",
       "</tr>\n",
       "</table>\n",
       "<table class=\"simpletable\">\n",
       "<tr>\n",
       "  <th>Omnibus:</th>       <td>37.072</td> <th>  Durbin-Watson:     </th> <td>   0.741</td>\n",
       "</tr>\n",
       "<tr>\n",
       "  <th>Prob(Omnibus):</th> <td> 0.000</td> <th>  Jarque-Bera (JB):  </th> <td>  83.203</td>\n",
       "</tr>\n",
       "<tr>\n",
       "  <th>Skew:</th>          <td> 1.531</td> <th>  Prob(JB):          </th> <td>8.56e-19</td>\n",
       "</tr>\n",
       "<tr>\n",
       "  <th>Kurtosis:</th>      <td> 6.615</td> <th>  Cond. No.          </th> <td>7.17e+08</td>\n",
       "</tr>\n",
       "</table>"
      ],
      "text/plain": [
       "<class 'statsmodels.iolib.summary.Summary'>\n",
       "\"\"\"\n",
       "                            OLS Regression Results                            \n",
       "==============================================================================\n",
       "Dep. Variable:     DomesticTotalGross   R-squared:                       0.302\n",
       "Model:                            OLS   Adj. R-squared:                  0.260\n",
       "Method:                 Least Squares   F-statistic:                     7.191\n",
       "Date:                Tue, 11 Oct 2016   Prob (F-statistic):           1.23e-05\n",
       "Time:                        18:39:51   Log-Likelihood:                -1737.0\n",
       "No. Observations:                  89   AIC:                             3486.\n",
       "Df Residuals:                      83   BIC:                             3501.\n",
       "Df Model:                           5                                         \n",
       "Covariance Type:            nonrobust                                         \n",
       "=================================================================================\n",
       "                    coef    std err          t      P>|t|      [95.0% Conf. Int.]\n",
       "---------------------------------------------------------------------------------\n",
       "Constant      -2.222e+07   5.82e+07     -0.382      0.704     -1.38e+08  9.36e+07\n",
       "Runtime         6.13e+05   5.25e+05      1.168      0.246     -4.31e+05  1.66e+06\n",
       "Budget            0.6963      0.173      4.017      0.000         0.352     1.041\n",
       "SummerRelease  2.537e+06   1.72e+07      0.148      0.883     -3.16e+07  3.67e+07\n",
       "Rating_PG      2.551e+07   2.68e+07      0.953      0.343     -2.77e+07  7.87e+07\n",
       "Rating_PG-13  -2.283e+06   1.96e+07     -0.116      0.908     -4.14e+07  3.68e+07\n",
       "==============================================================================\n",
       "Omnibus:                       37.072   Durbin-Watson:                   0.741\n",
       "Prob(Omnibus):                  0.000   Jarque-Bera (JB):               83.203\n",
       "Skew:                           1.531   Prob(JB):                     8.56e-19\n",
       "Kurtosis:                       6.615   Cond. No.                     7.17e+08\n",
       "==============================================================================\n",
       "\n",
       "Warnings:\n",
       "[1] Standard Errors assume that the covariance matrix of the errors is correctly specified.\n",
       "[2] The condition number is large, 7.17e+08. This might indicate that there are\n",
       "strong multicollinearity or other numerical problems.\n",
       "\"\"\""
      ]
     },
     "execution_count": 57,
     "metadata": {},
     "output_type": "execute_result"
    }
   ],
   "source": [
    "#Run the model with statsmodels so I can see the regression table\n",
    "model = sm.OLS(y2, X3)\n",
    "fit = model.fit()\n",
    "fit.summary()"
   ]
  },
  {
   "cell_type": "code",
   "execution_count": 58,
   "metadata": {
    "collapsed": true
   },
   "outputs": [],
   "source": [
    "#And with sklearn so I can get predictions\n",
    "lr = LinearRegression()\n",
    "lr.fit(X3, y2)\n",
    "\n",
    "# Generate predicted values\n",
    "y2_pred = lr.predict(X3)"
   ]
  },
  {
   "cell_type": "code",
   "execution_count": 59,
   "metadata": {
    "collapsed": false
   },
   "outputs": [
    {
     "data": {
      "image/png": "[encoded data removed]",
      "text/plain": [
       "<matplotlib.figure.Figure at 0x11b724290>"
      ]
     },
     "metadata": {},
     "output_type": "display_data"
    }
   ],
   "source": [
    "plt.scatter(y2, y2_pred)\n",
    "plt.xlim([0,5e8])\n",
    "plt.ylim([0, 5e8])\n",
    "plt.plot([0, 5e8], [0, 5e8], 'r--');"
   ]
  },
  {
   "cell_type": "code",
   "execution_count": 60,
   "metadata": {
    "collapsed": false
   },
   "outputs": [
    {
     "data": {
      "image/png": "[encoded data removed]",
      "text/plain": [
       "<matplotlib.figure.Figure at 0x11bf1c1d0>"
      ]
     },
     "metadata": {},
     "output_type": "display_data"
    }
   ],
   "source": [
    "# Generate and plot residuals\n",
    "resids = y2 - y2_pred\n",
    "resids.hist();"
   ]
  },
  {
   "cell_type": "markdown",
   "metadata": {},
   "source": [
    "**Exercise 3.5**\n",
    "\n",
    "Fitting and checking predictions on the exact same data set can be misleading. Divide your data into two sets: a training and a test set (roughly 75% training, 25% test is a fine split). Fit a model on the training set, check the predictions (by plotting versus actual values) in the test set."
   ]
  },
  {
   "cell_type": "code",
   "execution_count": 61,
   "metadata": {
    "collapsed": true
   },
   "outputs": [],
   "source": [
    "X3_train, X3_test, y2_train, y2_test = train_test_split(X3, y2, test_size=0.25, random_state=42)\n",
    "\n",
    "#Run with sklearn:\n",
    "lr = LinearRegression()\n",
    "\n",
    "# Fit the model to the training data\n",
    "lr.fit(X3_train, y2_train)\n",
    "\n",
    "# Test it on the test set\n",
    "y2_pred = lr.predict(X3_test)"
   ]
  },
  {
   "cell_type": "code",
   "execution_count": 62,
   "metadata": {
    "collapsed": false
   },
   "outputs": [
    {
     "data": {
      "image/png": "[encoded data removed]",
      "text/plain": [
       "<matplotlib.figure.Figure at 0x11bf15150>"
      ]
     },
     "metadata": {},
     "output_type": "display_data"
    }
   ],
   "source": [
    "plt.scatter(y2_test, y2_pred)\n",
    "plt.xlim([0,5e8])\n",
    "plt.ylim([0, 5e8])\n",
    "plt.plot([0, 5e8], [0, 5e8], 'r--');"
   ]
  }
 ],
 "metadata": {
  "anaconda-cloud": {},
  "kernelspec": {
   "display_name": "Python [Root]",
   "language": "python",
   "name": "Python [Root]"
  },
  "language_info": {
   "codemirror_mode": {
    "name": "ipython",
    "version": 2
   },
   "file_extension": ".py",
   "mimetype": "text/x-python",
   "name": "python",
   "nbconvert_exporter": "python",
   "pygments_lexer": "ipython2",
   "version": "2.7.12"
  }
 },
 "nbformat": 4,
 "nbformat_minor": 0
}
