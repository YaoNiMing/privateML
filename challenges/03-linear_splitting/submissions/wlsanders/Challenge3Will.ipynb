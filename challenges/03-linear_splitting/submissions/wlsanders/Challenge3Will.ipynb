{
 "cells": [
  {
   "cell_type": "markdown",
   "metadata": {},
   "source": [
    "Challenge Set 3: Linear Regression and Train/Test Split"
   ]
  },
  {
   "cell_type": "markdown",
   "metadata": {},
   "source": [
    "Data used is 2013_movies.csv"
   ]
  },
  {
   "cell_type": "markdown",
   "metadata": {},
   "source": [
    "___"
   ]
  },
  {
   "cell_type": "markdown",
   "metadata": {},
   "source": [
    "## Exercise 3.1\n",
    "\n",
    "Build a linear model that uses only a constant term (a column of ones) to predict a continuous outcome (like domestic total gross). How can you interpret the results of this model? What does it predict? Make a plot of predictions against actual outcome. Make a histogram of residuals. How are the residuals distributed?"
   ]
  },
  {
   "cell_type": "code",
   "execution_count": 28,
   "metadata": {
    "collapsed": false
   },
   "outputs": [
    {
     "name": "stdout",
     "output_type": "stream",
     "text": [
      "Populating the interactive namespace from numpy and matplotlib\n"
     ]
    }
   ],
   "source": [
    "\n",
    "import pandas as pd\n",
    "import numpy as np\n",
    "import matplotlib.pyplot as plt\n",
    "import seaborn as sns\n",
    "from sklearn.linear_model import LinearRegression\n",
    "from sklearn.cross_validation import train_test_split\n",
    "%pylab inline\n",
    "from sklearn.cross_validation import train_test_split\n",
    "import statsmodels.formula.api as smf"
   ]
  },
  {
   "cell_type": "code",
   "execution_count": 29,
   "metadata": {
    "collapsed": false
   },
   "outputs": [
    {
     "name": "stdout",
     "output_type": "stream",
     "text": [
      "2013_movies.csv      Challenge3Will.ipynb pairprogramming.py\r\n"
     ]
    }
   ],
   "source": [
    "!ls"
   ]
  },
  {
   "cell_type": "code",
   "execution_count": 30,
   "metadata": {
    "collapsed": false
   },
   "outputs": [],
   "source": [
    "movie_data = pd.read_csv('2013_movies.csv')"
   ]
  },
  {
   "cell_type": "code",
   "execution_count": 31,
   "metadata": {
    "collapsed": false
   },
   "outputs": [
    {
     "data": {
      "text/plain": [
       "Index([u'Title', u'Budget', u'DomesticTotalGross', u'Director', u'Rating',\n",
       "       u'Runtime', u'ReleaseDate'],\n",
       "      dtype='object')"
      ]
     },
     "execution_count": 31,
     "metadata": {},
     "output_type": "execute_result"
    }
   ],
   "source": [
    "movie_data.columns"
   ]
  },
  {
   "cell_type": "code",
   "execution_count": 32,
   "metadata": {
    "collapsed": false
   },
   "outputs": [
    {
     "data": {
      "text/html": [
       "<div>\n",
       "<table border=\"1\" class=\"dataframe\">\n",
       "  <thead>\n",
       "    <tr style=\"text-align: right;\">\n",
       "      <th></th>\n",
       "      <th>Title</th>\n",
       "      <th>Budget</th>\n",
       "      <th>DomesticTotalGross</th>\n",
       "      <th>Director</th>\n",
       "      <th>Rating</th>\n",
       "      <th>Runtime</th>\n",
       "      <th>ReleaseDate</th>\n",
       "    </tr>\n",
       "  </thead>\n",
       "  <tbody>\n",
       "    <tr>\n",
       "      <th>0</th>\n",
       "      <td>The Hunger Games: Catching Fire</td>\n",
       "      <td>130000000.0</td>\n",
       "      <td>424668047</td>\n",
       "      <td>Francis Lawrence</td>\n",
       "      <td>PG-13</td>\n",
       "      <td>146</td>\n",
       "      <td>11/22/13 0:00</td>\n",
       "    </tr>\n",
       "    <tr>\n",
       "      <th>1</th>\n",
       "      <td>Iron Man 3</td>\n",
       "      <td>200000000.0</td>\n",
       "      <td>409013994</td>\n",
       "      <td>Shane Black</td>\n",
       "      <td>PG-13</td>\n",
       "      <td>129</td>\n",
       "      <td>5/3/13 0:00</td>\n",
       "    </tr>\n",
       "    <tr>\n",
       "      <th>2</th>\n",
       "      <td>Frozen</td>\n",
       "      <td>150000000.0</td>\n",
       "      <td>400738009</td>\n",
       "      <td>Chris BuckJennifer Lee</td>\n",
       "      <td>PG</td>\n",
       "      <td>108</td>\n",
       "      <td>11/22/13 0:00</td>\n",
       "    </tr>\n",
       "    <tr>\n",
       "      <th>3</th>\n",
       "      <td>Despicable Me 2</td>\n",
       "      <td>76000000.0</td>\n",
       "      <td>368061265</td>\n",
       "      <td>Pierre CoffinChris Renaud</td>\n",
       "      <td>PG</td>\n",
       "      <td>98</td>\n",
       "      <td>7/3/13 0:00</td>\n",
       "    </tr>\n",
       "    <tr>\n",
       "      <th>4</th>\n",
       "      <td>Man of Steel</td>\n",
       "      <td>225000000.0</td>\n",
       "      <td>291045518</td>\n",
       "      <td>Zack Snyder</td>\n",
       "      <td>PG-13</td>\n",
       "      <td>143</td>\n",
       "      <td>6/14/13 0:00</td>\n",
       "    </tr>\n",
       "  </tbody>\n",
       "</table>\n",
       "</div>"
      ],
      "text/plain": [
       "                             Title       Budget  DomesticTotalGross  \\\n",
       "0  The Hunger Games: Catching Fire  130000000.0           424668047   \n",
       "1                       Iron Man 3  200000000.0           409013994   \n",
       "2                           Frozen  150000000.0           400738009   \n",
       "3                  Despicable Me 2   76000000.0           368061265   \n",
       "4                     Man of Steel  225000000.0           291045518   \n",
       "\n",
       "                    Director Rating  Runtime    ReleaseDate  \n",
       "0           Francis Lawrence  PG-13      146  11/22/13 0:00  \n",
       "1                Shane Black  PG-13      129    5/3/13 0:00  \n",
       "2     Chris BuckJennifer Lee     PG      108  11/22/13 0:00  \n",
       "3  Pierre CoffinChris Renaud     PG       98    7/3/13 0:00  \n",
       "4                Zack Snyder  PG-13      143   6/14/13 0:00  "
      ]
     },
     "execution_count": 32,
     "metadata": {},
     "output_type": "execute_result"
    }
   ],
   "source": [
    "movie_data.head()"
   ]
  },
  {
   "cell_type": "markdown",
   "metadata": {},
   "source": [
    "### Predicting Rating vs. DomesticTotalGross"
   ]
  },
  {
   "cell_type": "code",
   "execution_count": 41,
   "metadata": {
    "collapsed": false
   },
   "outputs": [],
   "source": [
    "# movie_data = movie_data.dropna()"
   ]
  },
  {
   "cell_type": "code",
   "execution_count": 34,
   "metadata": {
    "collapsed": true
   },
   "outputs": [],
   "source": [
    "movie_data['constant'] = 1"
   ]
  },
  {
   "cell_type": "code",
   "execution_count": 35,
   "metadata": {
    "collapsed": true
   },
   "outputs": [],
   "source": [
    "X = movie_data['constant']\n",
    "y = movie_data['DomesticTotalGross'] "
   ]
  },
  {
   "cell_type": "code",
   "execution_count": 36,
   "metadata": {
    "collapsed": true
   },
   "outputs": [],
   "source": [
    "X_train, X_test, y_train, y_test = train_test_split(X,y,test_size=0.3)"
   ]
  },
  {
   "cell_type": "code",
   "execution_count": 37,
   "metadata": {
    "collapsed": false
   },
   "outputs": [
    {
     "data": {
      "text/html": [
       "<table class=\"simpletable\">\n",
       "<caption>OLS Regression Results</caption>\n",
       "<tr>\n",
       "  <th>Dep. Variable:</th>    <td>DomesticTotalGross</td> <th>  R-squared:         </th> <td>  -0.000</td>\n",
       "</tr>\n",
       "<tr>\n",
       "  <th>Model:</th>                    <td>OLS</td>        <th>  Adj. R-squared:    </th> <td>  -0.000</td>\n",
       "</tr>\n",
       "<tr>\n",
       "  <th>Method:</th>              <td>Least Squares</td>   <th>  F-statistic:       </th> <td>    -inf</td>\n",
       "</tr>\n",
       "<tr>\n",
       "  <th>Date:</th>              <td>Fri, 14 Oct 2016</td>  <th>  Prob (F-statistic):</th>  <td>   nan</td> \n",
       "</tr>\n",
       "<tr>\n",
       "  <th>Time:</th>                  <td>15:58:12</td>      <th>  Log-Likelihood:    </th> <td> -1714.4</td>\n",
       "</tr>\n",
       "<tr>\n",
       "  <th>No. Observations:</th>       <td>    87</td>       <th>  AIC:               </th> <td>   3431.</td>\n",
       "</tr>\n",
       "<tr>\n",
       "  <th>Df Residuals:</th>           <td>    86</td>       <th>  BIC:               </th> <td>   3433.</td>\n",
       "</tr>\n",
       "<tr>\n",
       "  <th>Df Model:</th>               <td>     0</td>       <th>                     </th>     <td> </td>   \n",
       "</tr>\n",
       "<tr>\n",
       "  <th>Covariance Type:</th>       <td>nonrobust</td>     <th>                     </th>     <td> </td>   \n",
       "</tr>\n",
       "</table>\n",
       "<table class=\"simpletable\">\n",
       "<tr>\n",
       "      <td></td>        <th>coef</th>     <th>std err</th>      <th>t</th>      <th>P>|t|</th> <th>[95.0% Conf. Int.]</th> \n",
       "</tr>\n",
       "<tr>\n",
       "  <th>constant</th> <td> 1.035e+08</td> <td> 9.43e+06</td> <td>   10.975</td> <td> 0.000</td> <td> 8.48e+07  1.22e+08</td>\n",
       "</tr>\n",
       "</table>\n",
       "<table class=\"simpletable\">\n",
       "<tr>\n",
       "  <th>Omnibus:</th>       <td>47.828</td> <th>  Durbin-Watson:     </th> <td>   0.016</td>\n",
       "</tr>\n",
       "<tr>\n",
       "  <th>Prob(Omnibus):</th> <td> 0.000</td> <th>  Jarque-Bera (JB):  </th> <td> 119.528</td>\n",
       "</tr>\n",
       "<tr>\n",
       "  <th>Skew:</th>          <td> 2.032</td> <th>  Prob(JB):          </th> <td>1.11e-26</td>\n",
       "</tr>\n",
       "<tr>\n",
       "  <th>Kurtosis:</th>      <td> 7.058</td> <th>  Cond. No.          </th> <td>    1.00</td>\n",
       "</tr>\n",
       "</table>"
      ],
      "text/plain": [
       "<class 'statsmodels.iolib.summary.Summary'>\n",
       "\"\"\"\n",
       "                            OLS Regression Results                            \n",
       "==============================================================================\n",
       "Dep. Variable:     DomesticTotalGross   R-squared:                      -0.000\n",
       "Model:                            OLS   Adj. R-squared:                 -0.000\n",
       "Method:                 Least Squares   F-statistic:                      -inf\n",
       "Date:                Fri, 14 Oct 2016   Prob (F-statistic):                nan\n",
       "Time:                        15:58:12   Log-Likelihood:                -1714.4\n",
       "No. Observations:                  87   AIC:                             3431.\n",
       "Df Residuals:                      86   BIC:                             3433.\n",
       "Df Model:                           0                                         \n",
       "Covariance Type:            nonrobust                                         \n",
       "==============================================================================\n",
       "                 coef    std err          t      P>|t|      [95.0% Conf. Int.]\n",
       "------------------------------------------------------------------------------\n",
       "constant    1.035e+08   9.43e+06     10.975      0.000      8.48e+07  1.22e+08\n",
       "==============================================================================\n",
       "Omnibus:                       47.828   Durbin-Watson:                   0.016\n",
       "Prob(Omnibus):                  0.000   Jarque-Bera (JB):              119.528\n",
       "Skew:                           2.032   Prob(JB):                     1.11e-26\n",
       "Kurtosis:                       7.058   Cond. No.                         1.00\n",
       "==============================================================================\n",
       "\n",
       "Warnings:\n",
       "[1] Standard Errors assume that the covariance matrix of the errors is correctly specified.\n",
       "\"\"\""
      ]
     },
     "execution_count": 37,
     "metadata": {},
     "output_type": "execute_result"
    }
   ],
   "source": [
    "model = smf.OLS(y, X)\n",
    "fit1 = model.fit()\n",
    "fit1.summary()"
   ]
  },
  {
   "cell_type": "code",
   "execution_count": 43,
   "metadata": {
    "collapsed": false
   },
   "outputs": [],
   "source": [
    "# lm1 = LinearRegression()\n",
    "# lm1.fit(X_train, y_train)\n",
    "# lm1.score(X_test, y_test)"
   ]
  },
  {
   "cell_type": "code",
   "execution_count": 39,
   "metadata": {
    "collapsed": false
   },
   "outputs": [],
   "source": [
    "# fit1.resid.plot(style='o', figsize=(12,8))"
   ]
  },
  {
   "cell_type": "code",
   "execution_count": 44,
   "metadata": {
    "collapsed": false
   },
   "outputs": [],
   "source": [
    "y_pred = fit1.predict(X)"
   ]
  },
  {
   "cell_type": "code",
   "execution_count": 45,
   "metadata": {
    "collapsed": false
   },
   "outputs": [
    {
     "data": {
      "image/png": "[encoded data removed]",
      "text/plain": [
       "<matplotlib.figure.Figure at 0x11a9f2450>"
      ]
     },
     "metadata": {},
     "output_type": "display_data"
    }
   ],
   "source": [
    "plt.plot(y, y_pred, 'p')\n",
    "plt.xlabel('Actual Domestic Total Gross')\n",
    "plt.ylabel('Predicted Domestic Total Gross')\n",
    "plt.title('Actual vs. Predicted Domestic Total Gross');"
   ]
  },
  {
   "cell_type": "markdown",
   "metadata": {},
   "source": [
    "residual: the difference between the observed value and the depenent variable (y) and the predicted value (yhat)"
   ]
  },
  {
   "cell_type": "code",
   "execution_count": 46,
   "metadata": {
    "collapsed": false
   },
   "outputs": [],
   "source": [
    "residuals = y - y_pred"
   ]
  },
  {
   "cell_type": "code",
   "execution_count": 47,
   "metadata": {
    "collapsed": false,
    "scrolled": true
   },
   "outputs": [
    {
     "data": {
      "text/plain": [
       "<matplotlib.text.Text at 0x11aa4e490>"
      ]
     },
     "execution_count": 47,
     "metadata": {},
     "output_type": "execute_result"
    },
    {
     "data": {
      "image/png": "[encoded data removed]",
      "text/plain": [
       "<matplotlib.figure.Figure at 0x11ac7f890>"
      ]
     },
     "metadata": {},
     "output_type": "display_data"
    }
   ],
   "source": [
    "plt.hist(residuals, bins = 25)\n",
    "plt.xlabel('Residual')\n",
    "plt.ylabel('Count of Residuals')\n",
    "plt.title('Residuals Count')"
   ]
  },
  {
   "cell_type": "markdown",
   "metadata": {},
   "source": [
    "Looking at the Domestic Total Gross and Predicted, our constant term does not help us. There is no relationship between the variables. \n",
    "\n",
    "With the residual histogram, the distribution is not Gaussian, and we are seeing a tail."
   ]
  },
  {
   "cell_type": "markdown",
   "metadata": {},
   "source": [
    "___"
   ]
  },
  {
   "cell_type": "markdown",
   "metadata": {},
   "source": [
    "## Exercise 3.2\n",
    "\n",
    "Repeat the process of challenge one, but also add one continuous (numeric) predictor variable. Also add plots of model prediction against your feature variable and residuals against feature variable. How can you interpret what's happening in the model?"
   ]
  },
  {
   "cell_type": "code",
   "execution_count": 65,
   "metadata": {
    "collapsed": false
   },
   "outputs": [
    {
     "data": {
      "text/html": [
       "<table class=\"simpletable\">\n",
       "<caption>OLS Regression Results</caption>\n",
       "<tr>\n",
       "  <th>Dep. Variable:</th>    <td>DomesticTotalGross</td> <th>  R-squared:         </th> <td>   0.282</td>\n",
       "</tr>\n",
       "<tr>\n",
       "  <th>Model:</th>                    <td>OLS</td>        <th>  Adj. R-squared:    </th> <td>   0.274</td>\n",
       "</tr>\n",
       "<tr>\n",
       "  <th>Method:</th>              <td>Least Squares</td>   <th>  F-statistic:       </th> <td>   33.43</td>\n",
       "</tr>\n",
       "<tr>\n",
       "  <th>Date:</th>              <td>Fri, 14 Oct 2016</td>  <th>  Prob (F-statistic):</th> <td>1.19e-07</td>\n",
       "</tr>\n",
       "<tr>\n",
       "  <th>Time:</th>                  <td>16:11:26</td>      <th>  Log-Likelihood:    </th> <td> -1700.0</td>\n",
       "</tr>\n",
       "<tr>\n",
       "  <th>No. Observations:</th>       <td>    87</td>       <th>  AIC:               </th> <td>   3404.</td>\n",
       "</tr>\n",
       "<tr>\n",
       "  <th>Df Residuals:</th>           <td>    85</td>       <th>  BIC:               </th> <td>   3409.</td>\n",
       "</tr>\n",
       "<tr>\n",
       "  <th>Df Model:</th>               <td>     1</td>       <th>                     </th>     <td> </td>   \n",
       "</tr>\n",
       "<tr>\n",
       "  <th>Covariance Type:</th>       <td>nonrobust</td>     <th>                     </th>     <td> </td>   \n",
       "</tr>\n",
       "</table>\n",
       "<table class=\"simpletable\">\n",
       "<tr>\n",
       "      <td></td>        <th>coef</th>     <th>std err</th>      <th>t</th>      <th>P>|t|</th> <th>[95.0% Conf. Int.]</th> \n",
       "</tr>\n",
       "<tr>\n",
       "  <th>constant</th> <td> 4.443e+07</td> <td>  1.3e+07</td> <td>    3.418</td> <td> 0.001</td> <td> 1.86e+07  7.03e+07</td>\n",
       "</tr>\n",
       "<tr>\n",
       "  <th>Budget</th>   <td>    0.7831</td> <td>    0.135</td> <td>    5.782</td> <td> 0.000</td> <td>    0.514     1.052</td>\n",
       "</tr>\n",
       "</table>\n",
       "<table class=\"simpletable\">\n",
       "<tr>\n",
       "  <th>Omnibus:</th>       <td>38.475</td> <th>  Durbin-Watson:     </th> <td>   0.666</td>\n",
       "</tr>\n",
       "<tr>\n",
       "  <th>Prob(Omnibus):</th> <td> 0.000</td> <th>  Jarque-Bera (JB):  </th> <td>  92.671</td>\n",
       "</tr>\n",
       "<tr>\n",
       "  <th>Skew:</th>          <td> 1.577</td> <th>  Prob(JB):          </th> <td>7.53e-21</td>\n",
       "</tr>\n",
       "<tr>\n",
       "  <th>Kurtosis:</th>      <td> 6.952</td> <th>  Cond. No.          </th> <td>1.55e+08</td>\n",
       "</tr>\n",
       "</table>"
      ],
      "text/plain": [
       "<class 'statsmodels.iolib.summary.Summary'>\n",
       "\"\"\"\n",
       "                            OLS Regression Results                            \n",
       "==============================================================================\n",
       "Dep. Variable:     DomesticTotalGross   R-squared:                       0.282\n",
       "Model:                            OLS   Adj. R-squared:                  0.274\n",
       "Method:                 Least Squares   F-statistic:                     33.43\n",
       "Date:                Fri, 14 Oct 2016   Prob (F-statistic):           1.19e-07\n",
       "Time:                        16:11:26   Log-Likelihood:                -1700.0\n",
       "No. Observations:                  87   AIC:                             3404.\n",
       "Df Residuals:                      85   BIC:                             3409.\n",
       "Df Model:                           1                                         \n",
       "Covariance Type:            nonrobust                                         \n",
       "==============================================================================\n",
       "                 coef    std err          t      P>|t|      [95.0% Conf. Int.]\n",
       "------------------------------------------------------------------------------\n",
       "constant    4.443e+07    1.3e+07      3.418      0.001      1.86e+07  7.03e+07\n",
       "Budget         0.7831      0.135      5.782      0.000         0.514     1.052\n",
       "==============================================================================\n",
       "Omnibus:                       38.475   Durbin-Watson:                   0.666\n",
       "Prob(Omnibus):                  0.000   Jarque-Bera (JB):               92.671\n",
       "Skew:                           1.577   Prob(JB):                     7.53e-21\n",
       "Kurtosis:                       6.952   Cond. No.                     1.55e+08\n",
       "==============================================================================\n",
       "\n",
       "Warnings:\n",
       "[1] Standard Errors assume that the covariance matrix of the errors is correctly specified.\n",
       "[2] The condition number is large, 1.55e+08. This might indicate that there are\n",
       "strong multicollinearity or other numerical problems.\n",
       "\"\"\""
      ]
     },
     "execution_count": 65,
     "metadata": {},
     "output_type": "execute_result"
    }
   ],
   "source": [
    "X2 = movie_data[['constant', 'Budget']]\n",
    "lm1 = smf.OLS(y, X2)\n",
    "fit1 = lm1.fit()\n",
    "fit1.summary()"
   ]
  },
  {
   "cell_type": "markdown",
   "metadata": {},
   "source": [
    "#### Finding the residuals"
   ]
  },
  {
   "cell_type": "code",
   "execution_count": null,
   "metadata": {
    "collapsed": true
   },
   "outputs": [],
   "source": [
    "y_pred2 = fit1.predict(X2)"
   ]
  },
  {
   "cell_type": "code",
   "execution_count": 70,
   "metadata": {
    "collapsed": false
   },
   "outputs": [
    {
     "data": {
      "image/png": "[encoded data removed]",
      "text/plain": [
       "<matplotlib.figure.Figure at 0x11b47c490>"
      ]
     },
     "metadata": {},
     "output_type": "display_data"
    }
   ],
   "source": [
    "plt.plot(y, y_pred2, 'p')\n",
    "plt.xlabel('Actual Domestic Total Gross')\n",
    "plt.ylabel('Predicted Domestic Total Gross')\n",
    "plt.title('Actual vs. Predicted Domestic Total Gross');"
   ]
  },
  {
   "cell_type": "code",
   "execution_count": 71,
   "metadata": {
    "collapsed": false
   },
   "outputs": [
    {
     "data": {
      "text/plain": [
       "<matplotlib.text.Text at 0x11b837850>"
      ]
     },
     "execution_count": 71,
     "metadata": {},
     "output_type": "execute_result"
    },
    {
     "data": {
      "image/png": "[encoded data removed]",
      "text/plain": [
       "<matplotlib.figure.Figure at 0x11b5b22d0>"
      ]
     },
     "metadata": {},
     "output_type": "display_data"
    }
   ],
   "source": [
    "residuals = y - y_pred2\n",
    "plt.hist(residuals, bins = 25)\n",
    "plt.xlabel('Residual')\n",
    "plt.ylabel('Count of Residuals')\n",
    "plt.title('Residuals Count')"
   ]
  },
  {
   "cell_type": "code",
   "execution_count": 75,
   "metadata": {
    "collapsed": false
   },
   "outputs": [
    {
     "data": {
      "image/png": "[encoded data removed]",
      "text/plain": [
       "<matplotlib.figure.Figure at 0x11a996410>"
      ]
     },
     "metadata": {},
     "output_type": "display_data"
    }
   ],
   "source": [
    "plt.plot(movie_data['constant'], y_pred2, 'p')\n",
    "plt.xlabel('Constant = 1')\n",
    "plt.ylabel('Predicted Domestic Total Gross')\n",
    "plt.title('Constant vs. Predicted Domestic Total Gross');"
   ]
  },
  {
   "cell_type": "code",
   "execution_count": 78,
   "metadata": {
    "collapsed": false
   },
   "outputs": [],
   "source": [
    "# y_pred2"
   ]
  },
  {
   "cell_type": "code",
   "execution_count": 79,
   "metadata": {
    "collapsed": false
   },
   "outputs": [
    {
     "data": {
      "image/png": "[encoded data removed]",
      "text/plain": [
       "<matplotlib.figure.Figure at 0x11b22dd10>"
      ]
     },
     "metadata": {},
     "output_type": "display_data"
    }
   ],
   "source": [
    "plt.plot(movie_data['Budget'], y_pred2, 'p')\n",
    "plt.xlabel('Budget')\n",
    "plt.ylabel('Predicted Domestic Total Gross')\n",
    "plt.title('Constant vs. Predicted Domestic Total Gross');"
   ]
  },
  {
   "cell_type": "markdown",
   "metadata": {},
   "source": [
    "There is a linear relationship between Budget and our Predicted Domestic Total Gross. This is because the constant is not changing, so our y_pred2 variable is found by predicting y_pred2"
   ]
  },
  {
   "cell_type": "markdown",
   "metadata": {},
   "source": [
    "----"
   ]
  },
  {
   "cell_type": "markdown",
   "metadata": {},
   "source": [
    "## Exercise 3.3\n",
    "\n",
    "Repeat the process of challenge 1, but add a categorical feature (like genre). You'll have to convert a column of text into a number of numerical columns (\"dummy variables\"). How can you interpret what's happening in the model?"
   ]
  },
  {
   "cell_type": "code",
   "execution_count": 80,
   "metadata": {
    "collapsed": false
   },
   "outputs": [
    {
     "data": {
      "text/html": [
       "<table class=\"simpletable\">\n",
       "<caption>OLS Regression Results</caption>\n",
       "<tr>\n",
       "  <th>Dep. Variable:</th>    <td>DomesticTotalGross</td> <th>  R-squared:         </th> <td>   0.287</td>\n",
       "</tr>\n",
       "<tr>\n",
       "  <th>Model:</th>                    <td>OLS</td>        <th>  Adj. R-squared:    </th> <td>   0.261</td>\n",
       "</tr>\n",
       "<tr>\n",
       "  <th>Method:</th>              <td>Least Squares</td>   <th>  F-statistic:       </th> <td>   11.13</td>\n",
       "</tr>\n",
       "<tr>\n",
       "  <th>Date:</th>              <td>Fri, 14 Oct 2016</td>  <th>  Prob (F-statistic):</th> <td>3.25e-06</td>\n",
       "</tr>\n",
       "<tr>\n",
       "  <th>Time:</th>                  <td>16:25:21</td>      <th>  Log-Likelihood:    </th> <td> -1699.7</td>\n",
       "</tr>\n",
       "<tr>\n",
       "  <th>No. Observations:</th>       <td>    87</td>       <th>  AIC:               </th> <td>   3407.</td>\n",
       "</tr>\n",
       "<tr>\n",
       "  <th>Df Residuals:</th>           <td>    83</td>       <th>  BIC:               </th> <td>   3417.</td>\n",
       "</tr>\n",
       "<tr>\n",
       "  <th>Df Model:</th>               <td>     3</td>       <th>                     </th>     <td> </td>   \n",
       "</tr>\n",
       "<tr>\n",
       "  <th>Covariance Type:</th>       <td>nonrobust</td>     <th>                     </th>     <td> </td>   \n",
       "</tr>\n",
       "</table>\n",
       "<table class=\"simpletable\">\n",
       "<tr>\n",
       "        <td></td>          <th>coef</th>     <th>std err</th>      <th>t</th>      <th>P>|t|</th> <th>[95.0% Conf. Int.]</th> \n",
       "</tr>\n",
       "<tr>\n",
       "  <th>constant</th>     <td> 5.773e+07</td> <td> 2.51e+07</td> <td>    2.303</td> <td> 0.024</td> <td> 7.88e+06  1.08e+08</td>\n",
       "</tr>\n",
       "<tr>\n",
       "  <th>Budget</th>       <td>    0.7806</td> <td>    0.156</td> <td>    5.005</td> <td> 0.000</td> <td>    0.470     1.091</td>\n",
       "</tr>\n",
       "<tr>\n",
       "  <th>Rating_PG-13</th> <td>-1.711e+07</td> <td> 2.35e+07</td> <td>   -0.728</td> <td> 0.468</td> <td>-6.38e+07  2.96e+07</td>\n",
       "</tr>\n",
       "<tr>\n",
       "  <th>Rating_R</th>     <td>-1.384e+07</td> <td> 2.57e+07</td> <td>   -0.539</td> <td> 0.591</td> <td>-6.49e+07  3.72e+07</td>\n",
       "</tr>\n",
       "</table>\n",
       "<table class=\"simpletable\">\n",
       "<tr>\n",
       "  <th>Omnibus:</th>       <td>36.518</td> <th>  Durbin-Watson:     </th> <td>   0.668</td>\n",
       "</tr>\n",
       "<tr>\n",
       "  <th>Prob(Omnibus):</th> <td> 0.000</td> <th>  Jarque-Bera (JB):  </th> <td>  81.882</td>\n",
       "</tr>\n",
       "<tr>\n",
       "  <th>Skew:</th>          <td> 1.529</td> <th>  Prob(JB):          </th> <td>1.66e-18</td>\n",
       "</tr>\n",
       "<tr>\n",
       "  <th>Kurtosis:</th>      <td> 6.638</td> <th>  Cond. No.          </th> <td>4.61e+08</td>\n",
       "</tr>\n",
       "</table>"
      ],
      "text/plain": [
       "<class 'statsmodels.iolib.summary.Summary'>\n",
       "\"\"\"\n",
       "                            OLS Regression Results                            \n",
       "==============================================================================\n",
       "Dep. Variable:     DomesticTotalGross   R-squared:                       0.287\n",
       "Model:                            OLS   Adj. R-squared:                  0.261\n",
       "Method:                 Least Squares   F-statistic:                     11.13\n",
       "Date:                Fri, 14 Oct 2016   Prob (F-statistic):           3.25e-06\n",
       "Time:                        16:25:21   Log-Likelihood:                -1699.7\n",
       "No. Observations:                  87   AIC:                             3407.\n",
       "Df Residuals:                      83   BIC:                             3417.\n",
       "Df Model:                           3                                         \n",
       "Covariance Type:            nonrobust                                         \n",
       "================================================================================\n",
       "                   coef    std err          t      P>|t|      [95.0% Conf. Int.]\n",
       "--------------------------------------------------------------------------------\n",
       "constant      5.773e+07   2.51e+07      2.303      0.024      7.88e+06  1.08e+08\n",
       "Budget           0.7806      0.156      5.005      0.000         0.470     1.091\n",
       "Rating_PG-13 -1.711e+07   2.35e+07     -0.728      0.468     -6.38e+07  2.96e+07\n",
       "Rating_R     -1.384e+07   2.57e+07     -0.539      0.591     -6.49e+07  3.72e+07\n",
       "==============================================================================\n",
       "Omnibus:                       36.518   Durbin-Watson:                   0.668\n",
       "Prob(Omnibus):                  0.000   Jarque-Bera (JB):               81.882\n",
       "Skew:                           1.529   Prob(JB):                     1.66e-18\n",
       "Kurtosis:                       6.638   Cond. No.                     4.61e+08\n",
       "==============================================================================\n",
       "\n",
       "Warnings:\n",
       "[1] Standard Errors assume that the covariance matrix of the errors is correctly specified.\n",
       "[2] The condition number is large, 4.61e+08. This might indicate that there are\n",
       "strong multicollinearity or other numerical problems.\n",
       "\"\"\""
      ]
     },
     "execution_count": 80,
     "metadata": {},
     "output_type": "execute_result"
    }
   ],
   "source": [
    "X3 = movie_data[['constant', 'Budget', 'Rating']]\n",
    "X3 = pd.get_dummies(X3, drop_first = True)\n",
    "\n",
    "lm1 = smf.OLS(y, X3)\n",
    "fit1 = lm1.fit()\n",
    "fit1.summary()"
   ]
  },
  {
   "cell_type": "code",
   "execution_count": 81,
   "metadata": {
    "collapsed": true
   },
   "outputs": [],
   "source": [
    "y_pred3 = fit1.predict(X3)"
   ]
  },
  {
   "cell_type": "code",
   "execution_count": 82,
   "metadata": {
    "collapsed": false
   },
   "outputs": [
    {
     "data": {
      "image/png": "[encoded data removed]",
      "text/plain": [
       "<matplotlib.figure.Figure at 0x11b3a7ad0>"
      ]
     },
     "metadata": {},
     "output_type": "display_data"
    }
   ],
   "source": [
    "plt.plot(y, y_pred3, 'p')\n",
    "plt.xlabel('Actual Domestic Total Gross')\n",
    "plt.ylabel('Predicted Domestic Total Gross')\n",
    "plt.title('Actual vs. Predicted Domestic Total Gross');"
   ]
  },
  {
   "cell_type": "code",
   "execution_count": 83,
   "metadata": {
    "collapsed": false
   },
   "outputs": [
    {
     "data": {
      "text/plain": [
       "<matplotlib.text.Text at 0x11c00efd0>"
      ]
     },
     "execution_count": 83,
     "metadata": {},
     "output_type": "execute_result"
    },
    {
     "data": {
      "image/png": "[encoded data removed]",
      "text/plain": [
       "<matplotlib.figure.Figure at 0x11bfcbf10>"
      ]
     },
     "metadata": {},
     "output_type": "display_data"
    }
   ],
   "source": [
    "residuals = y - y_pred3\n",
    "plt.hist(residuals, bins = 25)\n",
    "plt.xlabel('Residual')\n",
    "plt.ylabel('Count of Residuals')\n",
    "plt.title('Residuals Count')"
   ]
  },
  {
   "cell_type": "code",
   "execution_count": 84,
   "metadata": {
    "collapsed": false
   },
   "outputs": [
    {
     "data": {
      "image/png": "[encoded data removed]",
      "text/plain": [
       "<matplotlib.figure.Figure at 0x11bfcb050>"
      ]
     },
     "metadata": {},
     "output_type": "display_data"
    }
   ],
   "source": [
    "plt.plot(movie_data['constant'], y_pred3, 'p')\n",
    "plt.xlabel('Constant = 1')\n",
    "plt.ylabel('Predicted Domestic Total Gross')\n",
    "plt.title('Constant vs. Predicted Domestic Total Gross');"
   ]
  },
  {
   "cell_type": "code",
   "execution_count": 85,
   "metadata": {
    "collapsed": false
   },
   "outputs": [
    {
     "data": {
      "image/png": "[encoded data removed]",
      "text/plain": [
       "<matplotlib.figure.Figure at 0x11bb66990>"
      ]
     },
     "metadata": {},
     "output_type": "display_data"
    }
   ],
   "source": [
    "plt.plot(movie_data['Budget'], y_pred3, 'p')\n",
    "plt.xlabel('Budget')\n",
    "plt.ylabel('Predicted Domestic Total Gross')\n",
    "plt.title('Constant vs. Predicted Domestic Total Gross');"
   ]
  },
  {
   "cell_type": "markdown",
   "metadata": {},
   "source": [
    "The plots are similar to the previous question. We see our model has a bit less adjusted R-Squared from the previous question. The residual plots of predicted vs actual look similar to the plot before we added dummies. "
   ]
  },
  {
   "cell_type": "markdown",
   "metadata": {},
   "source": [
    "### Exercise 3.4\n",
    "\n",
    "Enhance your model further by adding more features and/or transforming existing features. Think about how you build the model matrix and how to interpret what the model is doing."
   ]
  },
  {
   "cell_type": "code",
   "execution_count": 87,
   "metadata": {
    "collapsed": false
   },
   "outputs": [
    {
     "data": {
      "text/plain": [
       "<seaborn.axisgrid.PairGrid at 0x11b94ff90>"
      ]
     },
     "execution_count": 87,
     "metadata": {},
     "output_type": "execute_result"
    },
    {
     "data": {
      "image/png": "[encoded data removed]",
      "text/plain": [
       "<matplotlib.figure.Figure at 0x11b5b2a50>"
      ]
     },
     "metadata": {},
     "output_type": "display_data"
    }
   ],
   "source": [
    "sns.pairplot(movie_data)"
   ]
  },
  {
   "cell_type": "code",
   "execution_count": 111,
   "metadata": {
    "collapsed": false
   },
   "outputs": [],
   "source": [
    "movie_data = pd.get_dummies(movie_data, columns=['Rating'])"
   ]
  },
  {
   "cell_type": "code",
   "execution_count": 112,
   "metadata": {
    "collapsed": false
   },
   "outputs": [],
   "source": [
    "# movie_data.ReleaseDate.value_counts()"
   ]
  },
  {
   "cell_type": "code",
   "execution_count": 113,
   "metadata": {
    "collapsed": false
   },
   "outputs": [],
   "source": [
    "# movie_data['month'] = movie_data.DatetimeIndex(movie_data['ReleaseDate']).month"
   ]
  },
  {
   "cell_type": "code",
   "execution_count": 114,
   "metadata": {
    "collapsed": false
   },
   "outputs": [
    {
     "data": {
      "text/plain": [
       "Title                  object\n",
       "Budget                float64\n",
       "DomesticTotalGross      int64\n",
       "Director               object\n",
       "Runtime                 int64\n",
       "ReleaseDate            object\n",
       "constant                int64\n",
       "Rating_PG             float64\n",
       "Rating_PG-13          float64\n",
       "Rating_R              float64\n",
       "dtype: object"
      ]
     },
     "execution_count": 114,
     "metadata": {},
     "output_type": "execute_result"
    }
   ],
   "source": [
    "movie_data.dtypes"
   ]
  },
  {
   "cell_type": "code",
   "execution_count": 115,
   "metadata": {
    "collapsed": false
   },
   "outputs": [],
   "source": [
    "# pd.get_dummies(movie_data['Rating', 'constant','Runtime','Budget'])"
   ]
  },
  {
   "cell_type": "code",
   "execution_count": 118,
   "metadata": {
    "collapsed": false
   },
   "outputs": [
    {
     "data": {
      "text/html": [
       "<table class=\"simpletable\">\n",
       "<caption>OLS Regression Results</caption>\n",
       "<tr>\n",
       "  <th>Dep. Variable:</th>    <td>DomesticTotalGross</td> <th>  R-squared:         </th> <td>   0.299</td>\n",
       "</tr>\n",
       "<tr>\n",
       "  <th>Model:</th>                    <td>OLS</td>        <th>  Adj. R-squared:    </th> <td>   0.264</td>\n",
       "</tr>\n",
       "<tr>\n",
       "  <th>Method:</th>              <td>Least Squares</td>   <th>  F-statistic:       </th> <td>   8.730</td>\n",
       "</tr>\n",
       "<tr>\n",
       "  <th>Date:</th>              <td>Fri, 14 Oct 2016</td>  <th>  Prob (F-statistic):</th> <td>6.38e-06</td>\n",
       "</tr>\n",
       "<tr>\n",
       "  <th>Time:</th>                  <td>16:42:13</td>      <th>  Log-Likelihood:    </th> <td> -1699.0</td>\n",
       "</tr>\n",
       "<tr>\n",
       "  <th>No. Observations:</th>       <td>    87</td>       <th>  AIC:               </th> <td>   3408.</td>\n",
       "</tr>\n",
       "<tr>\n",
       "  <th>Df Residuals:</th>           <td>    82</td>       <th>  BIC:               </th> <td>   3420.</td>\n",
       "</tr>\n",
       "<tr>\n",
       "  <th>Df Model:</th>               <td>     4</td>       <th>                     </th>     <td> </td>   \n",
       "</tr>\n",
       "<tr>\n",
       "  <th>Covariance Type:</th>       <td>nonrobust</td>     <th>                     </th>     <td> </td>   \n",
       "</tr>\n",
       "</table>\n",
       "<table class=\"simpletable\">\n",
       "<tr>\n",
       "        <td></td>          <th>coef</th>     <th>std err</th>      <th>t</th>      <th>P>|t|</th> <th>[95.0% Conf. Int.]</th> \n",
       "</tr>\n",
       "<tr>\n",
       "  <th>constant</th>     <td>-1.103e+07</td> <td> 4.13e+07</td> <td>   -0.267</td> <td> 0.790</td> <td>-9.31e+07  7.11e+07</td>\n",
       "</tr>\n",
       "<tr>\n",
       "  <th>Budget</th>       <td>    0.6957</td> <td>    0.172</td> <td>    4.054</td> <td> 0.000</td> <td>    0.354     1.037</td>\n",
       "</tr>\n",
       "<tr>\n",
       "  <th>Rating_PG</th>    <td> 1.412e+07</td> <td> 1.81e+07</td> <td>    0.779</td> <td> 0.438</td> <td>-2.19e+07  5.02e+07</td>\n",
       "</tr>\n",
       "<tr>\n",
       "  <th>Rating_PG-13</th> <td>-1.335e+07</td> <td> 2.01e+07</td> <td>   -0.666</td> <td> 0.508</td> <td>-5.33e+07  2.66e+07</td>\n",
       "</tr>\n",
       "<tr>\n",
       "  <th>Rating_R</th>     <td>-1.179e+07</td> <td> 2.08e+07</td> <td>   -0.566</td> <td> 0.573</td> <td>-5.32e+07  2.97e+07</td>\n",
       "</tr>\n",
       "<tr>\n",
       "  <th>Runtime</th>      <td> 6.254e+05</td> <td> 5.33e+05</td> <td>    1.173</td> <td> 0.244</td> <td>-4.35e+05  1.69e+06</td>\n",
       "</tr>\n",
       "</table>\n",
       "<table class=\"simpletable\">\n",
       "<tr>\n",
       "  <th>Omnibus:</th>       <td>35.472</td> <th>  Durbin-Watson:     </th> <td>   0.733</td>\n",
       "</tr>\n",
       "<tr>\n",
       "  <th>Prob(Omnibus):</th> <td> 0.000</td> <th>  Jarque-Bera (JB):  </th> <td>  76.021</td>\n",
       "</tr>\n",
       "<tr>\n",
       "  <th>Skew:</th>          <td> 1.509</td> <th>  Prob(JB):          </th> <td>3.11e-17</td>\n",
       "</tr>\n",
       "<tr>\n",
       "  <th>Kurtosis:</th>      <td> 6.445</td> <th>  Cond. No.          </th> <td>4.36e+23</td>\n",
       "</tr>\n",
       "</table>"
      ],
      "text/plain": [
       "<class 'statsmodels.iolib.summary.Summary'>\n",
       "\"\"\"\n",
       "                            OLS Regression Results                            \n",
       "==============================================================================\n",
       "Dep. Variable:     DomesticTotalGross   R-squared:                       0.299\n",
       "Model:                            OLS   Adj. R-squared:                  0.264\n",
       "Method:                 Least Squares   F-statistic:                     8.730\n",
       "Date:                Fri, 14 Oct 2016   Prob (F-statistic):           6.38e-06\n",
       "Time:                        16:42:13   Log-Likelihood:                -1699.0\n",
       "No. Observations:                  87   AIC:                             3408.\n",
       "Df Residuals:                      82   BIC:                             3420.\n",
       "Df Model:                           4                                         \n",
       "Covariance Type:            nonrobust                                         \n",
       "================================================================================\n",
       "                   coef    std err          t      P>|t|      [95.0% Conf. Int.]\n",
       "--------------------------------------------------------------------------------\n",
       "constant     -1.103e+07   4.13e+07     -0.267      0.790     -9.31e+07  7.11e+07\n",
       "Budget           0.6957      0.172      4.054      0.000         0.354     1.037\n",
       "Rating_PG     1.412e+07   1.81e+07      0.779      0.438     -2.19e+07  5.02e+07\n",
       "Rating_PG-13 -1.335e+07   2.01e+07     -0.666      0.508     -5.33e+07  2.66e+07\n",
       "Rating_R     -1.179e+07   2.08e+07     -0.566      0.573     -5.32e+07  2.97e+07\n",
       "Runtime       6.254e+05   5.33e+05      1.173      0.244     -4.35e+05  1.69e+06\n",
       "==============================================================================\n",
       "Omnibus:                       35.472   Durbin-Watson:                   0.733\n",
       "Prob(Omnibus):                  0.000   Jarque-Bera (JB):               76.021\n",
       "Skew:                           1.509   Prob(JB):                     3.11e-17\n",
       "Kurtosis:                       6.445   Cond. No.                     4.36e+23\n",
       "==============================================================================\n",
       "\n",
       "Warnings:\n",
       "[1] Standard Errors assume that the covariance matrix of the errors is correctly specified.\n",
       "[2] The smallest eigenvalue is 4.21e-30. This might indicate that there are\n",
       "strong multicollinearity problems or that the design matrix is singular.\n",
       "\"\"\""
      ]
     },
     "execution_count": 118,
     "metadata": {},
     "output_type": "execute_result"
    }
   ],
   "source": [
    "X4 = movie_data[['constant', 'Budget', 'Rating_PG','Rating_PG-13','Rating_R', 'Runtime']]\n",
    "\n",
    "lm1 = smf.OLS(y, X4)\n",
    "fit1 = lm1.fit()\n",
    "fit1.summary()"
   ]
  },
  {
   "cell_type": "code",
   "execution_count": 122,
   "metadata": {
    "collapsed": true
   },
   "outputs": [],
   "source": [
    "y_pred4 = fit1.predict(X4)"
   ]
  },
  {
   "cell_type": "code",
   "execution_count": 123,
   "metadata": {
    "collapsed": false
   },
   "outputs": [
    {
     "data": {
      "image/png": "[encoded data removed]",
      "text/plain": [
       "<matplotlib.figure.Figure at 0x11d832950>"
      ]
     },
     "metadata": {},
     "output_type": "display_data"
    }
   ],
   "source": [
    "plt.plot(y, y_pred4, 'p')\n",
    "plt.xlabel('Actual Domestic Total Gross')\n",
    "plt.ylabel('Predicted Domestic Total Gross')\n",
    "plt.title('Actual vs. Predicted Domestic Total Gross');"
   ]
  },
  {
   "cell_type": "code",
   "execution_count": 124,
   "metadata": {
    "collapsed": false
   },
   "outputs": [
    {
     "data": {
      "text/plain": [
       "<matplotlib.text.Text at 0x11dda78d0>"
      ]
     },
     "execution_count": 124,
     "metadata": {},
     "output_type": "execute_result"
    },
    {
     "data": {
      "image/png": "[encoded data removed]",
      "text/plain": [
       "<matplotlib.figure.Figure at 0x11d897a50>"
      ]
     },
     "metadata": {},
     "output_type": "display_data"
    }
   ],
   "source": [
    "residuals = y - y_pred4\n",
    "plt.hist(residuals, bins = 25)\n",
    "plt.xlabel('Residual')\n",
    "plt.ylabel('Count of Residuals')\n",
    "plt.title('Residuals Count')"
   ]
  },
  {
   "cell_type": "markdown",
   "metadata": {},
   "source": [
    "When adding Runtime, we saw our adjusted-R squared go down. It would be nice to run more predictors like Genre or how many theatres the movie was release in, but that isn't possible with this data set. "
   ]
  },
  {
   "cell_type": "markdown",
   "metadata": {},
   "source": [
    "---"
   ]
  },
  {
   "cell_type": "markdown",
   "metadata": {},
   "source": [
    "### Exercise 3.5\n",
    "\n",
    "Fitting and checking predictions on the exact same data set can be misleading. Divide your data into two sets: a training and a test set (roughly 75% training, 25% test is a fine split). Fit a model on the training set, check the predictions (by plotting versus actual values) in the test set."
   ]
  },
  {
   "cell_type": "code",
   "execution_count": 147,
   "metadata": {
    "collapsed": false
   },
   "outputs": [
    {
     "data": {
      "text/plain": [
       "-0.11468755638574191"
      ]
     },
     "execution_count": 147,
     "metadata": {},
     "output_type": "execute_result"
    }
   ],
   "source": [
    "lr = LinearRegression()\n",
    "X_train, X_test, y_train, y_test = train_test_split(X4, y, test_size=0.25)\n",
    "y_pred = fit1.predict(X_test)\n",
    "# Fit the model against the training data\n",
    "lr.fit(X_train, y_train)\n",
    "# Evaluate the model against the testing data\n",
    "lr.score(X_test, y_test)"
   ]
  },
  {
   "cell_type": "code",
   "execution_count": 148,
   "metadata": {
    "collapsed": false
   },
   "outputs": [
    {
     "data": {
      "text/html": [
       "<table class=\"simpletable\">\n",
       "<caption>OLS Regression Results</caption>\n",
       "<tr>\n",
       "  <th>Dep. Variable:</th>    <td>DomesticTotalGross</td> <th>  R-squared:         </th> <td>   0.345</td>\n",
       "</tr>\n",
       "<tr>\n",
       "  <th>Model:</th>                    <td>OLS</td>        <th>  Adj. R-squared:    </th> <td>   0.302</td>\n",
       "</tr>\n",
       "<tr>\n",
       "  <th>Method:</th>              <td>Least Squares</td>   <th>  F-statistic:       </th> <td>   7.906</td>\n",
       "</tr>\n",
       "<tr>\n",
       "  <th>Date:</th>              <td>Fri, 14 Oct 2016</td>  <th>  Prob (F-statistic):</th> <td>3.46e-05</td>\n",
       "</tr>\n",
       "<tr>\n",
       "  <th>Time:</th>                  <td>17:04:50</td>      <th>  Log-Likelihood:    </th> <td> -1271.7</td>\n",
       "</tr>\n",
       "<tr>\n",
       "  <th>No. Observations:</th>       <td>    65</td>       <th>  AIC:               </th> <td>   2553.</td>\n",
       "</tr>\n",
       "<tr>\n",
       "  <th>Df Residuals:</th>           <td>    60</td>       <th>  BIC:               </th> <td>   2564.</td>\n",
       "</tr>\n",
       "<tr>\n",
       "  <th>Df Model:</th>               <td>     4</td>       <th>                     </th>     <td> </td>   \n",
       "</tr>\n",
       "<tr>\n",
       "  <th>Covariance Type:</th>       <td>nonrobust</td>     <th>                     </th>     <td> </td>   \n",
       "</tr>\n",
       "</table>\n",
       "<table class=\"simpletable\">\n",
       "<tr>\n",
       "        <td></td>          <th>coef</th>     <th>std err</th>      <th>t</th>      <th>P>|t|</th> <th>[95.0% Conf. Int.]</th> \n",
       "</tr>\n",
       "<tr>\n",
       "  <th>constant</th>     <td>-8.245e+06</td> <td> 4.94e+07</td> <td>   -0.167</td> <td> 0.868</td> <td>-1.07e+08  9.05e+07</td>\n",
       "</tr>\n",
       "<tr>\n",
       "  <th>Budget</th>       <td>    0.7969</td> <td>    0.210</td> <td>    3.800</td> <td> 0.000</td> <td>    0.377     1.216</td>\n",
       "</tr>\n",
       "<tr>\n",
       "  <th>Rating_PG</th>    <td> 2.546e+07</td> <td> 2.14e+07</td> <td>    1.192</td> <td> 0.238</td> <td>-1.73e+07  6.82e+07</td>\n",
       "</tr>\n",
       "<tr>\n",
       "  <th>Rating_PG-13</th> <td>-2.045e+07</td> <td> 2.45e+07</td> <td>   -0.837</td> <td> 0.406</td> <td>-6.94e+07  2.85e+07</td>\n",
       "</tr>\n",
       "<tr>\n",
       "  <th>Rating_R</th>     <td>-1.325e+07</td> <td>  2.5e+07</td> <td>   -0.530</td> <td> 0.598</td> <td>-6.33e+07  3.68e+07</td>\n",
       "</tr>\n",
       "<tr>\n",
       "  <th>Runtime</th>      <td> 5.555e+05</td> <td> 6.32e+05</td> <td>    0.879</td> <td> 0.383</td> <td>-7.08e+05  1.82e+06</td>\n",
       "</tr>\n",
       "</table>\n",
       "<table class=\"simpletable\">\n",
       "<tr>\n",
       "  <th>Omnibus:</th>       <td>27.099</td> <th>  Durbin-Watson:     </th> <td>   2.067</td>\n",
       "</tr>\n",
       "<tr>\n",
       "  <th>Prob(Omnibus):</th> <td> 0.000</td> <th>  Jarque-Bera (JB):  </th> <td>  48.956</td>\n",
       "</tr>\n",
       "<tr>\n",
       "  <th>Skew:</th>          <td> 1.452</td> <th>  Prob(JB):          </th> <td>2.34e-11</td>\n",
       "</tr>\n",
       "<tr>\n",
       "  <th>Kurtosis:</th>      <td> 6.106</td> <th>  Cond. No.          </th> <td>1.26e+24</td>\n",
       "</tr>\n",
       "</table>"
      ],
      "text/plain": [
       "<class 'statsmodels.iolib.summary.Summary'>\n",
       "\"\"\"\n",
       "                            OLS Regression Results                            \n",
       "==============================================================================\n",
       "Dep. Variable:     DomesticTotalGross   R-squared:                       0.345\n",
       "Model:                            OLS   Adj. R-squared:                  0.302\n",
       "Method:                 Least Squares   F-statistic:                     7.906\n",
       "Date:                Fri, 14 Oct 2016   Prob (F-statistic):           3.46e-05\n",
       "Time:                        17:04:50   Log-Likelihood:                -1271.7\n",
       "No. Observations:                  65   AIC:                             2553.\n",
       "Df Residuals:                      60   BIC:                             2564.\n",
       "Df Model:                           4                                         \n",
       "Covariance Type:            nonrobust                                         \n",
       "================================================================================\n",
       "                   coef    std err          t      P>|t|      [95.0% Conf. Int.]\n",
       "--------------------------------------------------------------------------------\n",
       "constant     -8.245e+06   4.94e+07     -0.167      0.868     -1.07e+08  9.05e+07\n",
       "Budget           0.7969      0.210      3.800      0.000         0.377     1.216\n",
       "Rating_PG     2.546e+07   2.14e+07      1.192      0.238     -1.73e+07  6.82e+07\n",
       "Rating_PG-13 -2.045e+07   2.45e+07     -0.837      0.406     -6.94e+07  2.85e+07\n",
       "Rating_R     -1.325e+07    2.5e+07     -0.530      0.598     -6.33e+07  3.68e+07\n",
       "Runtime       5.555e+05   6.32e+05      0.879      0.383     -7.08e+05  1.82e+06\n",
       "==============================================================================\n",
       "Omnibus:                       27.099   Durbin-Watson:                   2.067\n",
       "Prob(Omnibus):                  0.000   Jarque-Bera (JB):               48.956\n",
       "Skew:                           1.452   Prob(JB):                     2.34e-11\n",
       "Kurtosis:                       6.106   Cond. No.                     1.26e+24\n",
       "==============================================================================\n",
       "\n",
       "Warnings:\n",
       "[1] Standard Errors assume that the covariance matrix of the errors is correctly specified.\n",
       "[2] The smallest eigenvalue is 4.07e-31. This might indicate that there are\n",
       "strong multicollinearity problems or that the design matrix is singular.\n",
       "\"\"\""
      ]
     },
     "execution_count": 148,
     "metadata": {},
     "output_type": "execute_result"
    }
   ],
   "source": [
    "lm1 = smf.OLS(y_train, X_train)\n",
    "fit1 = lm1.fit()\n",
    "fit1.summary()"
   ]
  },
  {
   "cell_type": "code",
   "execution_count": 145,
   "metadata": {
    "collapsed": false
   },
   "outputs": [
    {
     "data": {
      "text/plain": [
       "<matplotlib.text.Text at 0x11e4d76d0>"
      ]
     },
     "execution_count": 145,
     "metadata": {},
     "output_type": "execute_result"
    },
    {
     "data": {
      "image/png": "[encoded data removed]",
      "text/plain": [
       "<matplotlib.figure.Figure at 0x11e42a7d0>"
      ]
     },
     "metadata": {},
     "output_type": "display_data"
    }
   ],
   "source": [
    "plt.scatter(y_pred, y_test)\n",
    "plt.title('Predicted Gross Revenue vs. Actual Gross Score on Test Set')\n",
    "plt.xlabel('Predicted')\n",
    "plt.ylabel('Actual')\n",
    "plt.plot(np.unique(y_pred), np.poly1d())"
   ]
  },
  {
   "cell_type": "code",
   "execution_count": null,
   "metadata": {
    "collapsed": false
   },
   "outputs": [],
   "source": []
  },
  {
   "cell_type": "code",
   "execution_count": null,
   "metadata": {
    "collapsed": true
   },
   "outputs": [],
   "source": []
  }
 ],
 "metadata": {
  "anaconda-cloud": {},
  "kernelspec": {
   "display_name": "Python [Root]",
   "language": "python",
   "name": "Python [Root]"
  },
  "language_info": {
   "codemirror_mode": {
    "name": "ipython",
    "version": 2
   },
   "file_extension": ".py",
   "mimetype": "text/x-python",
   "name": "python",
   "nbconvert_exporter": "python",
   "pygments_lexer": "ipython2",
   "version": "2.7.11"
  }
 },
 "nbformat": 4,
 "nbformat_minor": 1
}
