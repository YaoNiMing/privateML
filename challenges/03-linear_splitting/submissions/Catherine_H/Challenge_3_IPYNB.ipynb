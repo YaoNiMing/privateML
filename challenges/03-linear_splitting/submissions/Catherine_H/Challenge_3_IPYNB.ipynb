{
 "cells": [
  {
   "cell_type": "code",
   "execution_count": null,
   "metadata": {
    "collapsed": true
   },
   "outputs": [],
   "source": [
    "Exercise 3.1\n",
    "\n",
    "Build a linear model that uses only a constant term (a column of ones) to predict a continuous outcome (like domestic total gross). How can you interpret the results of this model? What does it predict? Make a plot of predictions against actual outcome. Make a histogram of residuals. How are the residuals distributed?\n",
    "Exercise 3.2\n",
    "\n",
    "Repeat the process of challenge one, but also add one continuous (numeric) predictor variable. Also add plots of model prediction against your feature variable and residuals against feature variable. How can you interpret what's happening in the model?\n",
    "Exercise 3.3\n",
    "\n",
    "Repeat the process of challenge 1, but add a categorical feature (like genre). You'll have to convert a column of text into a number of numerical columns (\"dummy variables\"). How can you interpret what's happening in the model?\n",
    "Exercise 3.4\n",
    "\n",
    "Enhance your model further by adding more features and/or transforming existing features. Think about how you build the model matrix and how to interpret what the model is doing.\n",
    "Exercise 3.5\n",
    "\n",
    "Fitting and checking predictions on the exact same data set can be misleading. Divide your data into two sets: a training and a test set (roughly 75% training, 25% test is a fine split). Fit a model on the training set, check the predictions (by plotting versus actual values) in the test set."
   ]
  },
  {
   "cell_type": "markdown",
   "metadata": {},
   "source": [
    "## 3.1"
   ]
  },
  {
   "cell_type": "code",
   "execution_count": null,
   "metadata": {
    "collapsed": true
   },
   "outputs": [],
   "source": [
    "import pandas as pd \n",
    "import numpy as np\n",
    "import matplotlib.pyplot as plt\n",
    "from sklearn.model_selection import cross_val_predict\n",
    "from sklearn import linear_model\n",
    "import seaborn as sns\n",
    "import statsmodels.formula.api as smf\n",
    "import statsmodels.api as sm\n",
    "from sklearn.cross_validation import train_test_split\n",
    "from datetime import datetime\n",
    "\n",
    "%matplotlib inline"
   ]
  },
  {
   "cell_type": "code",
   "execution_count": null,
   "metadata": {
    "collapsed": true
   },
   "outputs": [],
   "source": [
    "data = pd.read_csv('2013_movies.csv')\n",
    "data = data.dropna()\n",
    "data['const_var'] = 1"
   ]
  },
  {
   "cell_type": "code",
   "execution_count": null,
   "metadata": {
    "collapsed": true
   },
   "outputs": [],
   "source": [
    "X = data['const_var']\n",
    "y = data['DomesticTotalGross']\n",
    "olsmod = sm.OLS(y, X)\n",
    "ols_res = olsmod.fit()\n",
    "ypred = ols_res.predict(X)\n",
    "print(ols_res.summary())"
   ]
  },
  {
   "cell_type": "markdown",
   "metadata": {},
   "source": [
    "How can you interpret the results of this model?\n",
    "\n",
    "The R^2 value tells us that there is no relationship at all between the constant var and DomesticTotalGrpss.\n",
    "DomesticTotalGross increases relative to the constant, which remains flat.\n",
    "\n",
    "What does it predict?\n",
    "\n",
    "It predicts an increase in y without any change in x."
   ]
  },
  {
   "cell_type": "code",
   "execution_count": null,
   "metadata": {
    "collapsed": true
   },
   "outputs": [],
   "source": [
    "fig, ax = plt.subplots()\n",
    "ax.scatter(y, ypred, alpha = .3)\n",
    "ax.plot([y.min(), y.max()], [y.min(), y.max()], 'r--', lw=3)\n",
    "ax.set_title('Predicted vs. Actual')\n",
    "ax.set_xlabel('Actual')\n",
    "ax.set_ylabel('Predicted')\n",
    "plt.show()"
   ]
  },
  {
   "cell_type": "code",
   "execution_count": null,
   "metadata": {
    "collapsed": true
   },
   "outputs": [],
   "source": [
    "sns.plt.hist(olsres.resid, bins=(round(len(olsres.resid)*0.33,0)));\n",
    "plt.title('Resduals');\n",
    "olsres.resid.plot()"
   ]
  },
  {
   "cell_type": "markdown",
   "metadata": {},
   "source": [
    "## 3.2"
   ]
  },
  {
   "cell_type": "code",
   "execution_count": null,
   "metadata": {
    "collapsed": true
   },
   "outputs": [],
   "source": [
    "data2 = data[['DomesticTotalGross', 'const_var','Budget']].reset_index()\n",
    "data2.info()"
   ]
  },
  {
   "cell_type": "code",
   "execution_count": null,
   "metadata": {
    "collapsed": true
   },
   "outputs": [],
   "source": [
    "X2 = data[['Budget', 'const_var' ]]\n",
    "y2 = data['DomesticTotalGross']\n",
    "olsmod = sm.OLS(y2, X2)\n",
    "olsres2 = olsmod.fit()\n",
    "ypred2 = olsres2.predict(X2)\n",
    "print(olsres2.summary())"
   ]
  },
  {
   "cell_type": "code",
   "execution_count": null,
   "metadata": {
    "collapsed": true
   },
   "outputs": [],
   "source": [
    "fig, ax = plt.subplots()\n",
    "ax.scatter(y2, ypred2, alpha = .3)\n",
    "ax.plot([y2.min(), y2.max()], [y2.min(), y2.max()], 'r--', lw=2)\n",
    "ax.set_title('Predicted vs. Actuals')\n",
    "ax.set_xlabel('Actuals')\n",
    "ax.set_ylabel('Predicted')\n",
    "plt.show()"
   ]
  },
  {
   "cell_type": "code",
   "execution_count": null,
   "metadata": {
    "collapsed": true
   },
   "outputs": [],
   "source": [
    "sns.plt.hist(olsres2.resid, bins = round(len(olsres2.resid)*0.33,0));\n",
    "plt.title('Resduals');\n"
   ]
  },
  {
   "cell_type": "code",
   "execution_count": null,
   "metadata": {
    "collapsed": true
   },
   "outputs": [],
   "source": [
    "ax = plt.gca()\n",
    "res = olsres2.resid # residuals\n",
    "fig = sm.qqplot(res,ax=ax, fit=True, line='r')\n",
    "plt.show()"
   ]
  },
  {
   "cell_type": "code",
   "execution_count": null,
   "metadata": {
    "collapsed": true
   },
   "outputs": [],
   "source": [
    "#The new beta coefficient has a stronger correlation and we can see a relationship emerging."
   ]
  },
  {
   "cell_type": "markdown",
   "metadata": {},
   "source": [
    "## 3.3"
   ]
  },
  {
   "cell_type": "code",
   "execution_count": null,
   "metadata": {
    "collapsed": true
   },
   "outputs": [],
   "source": [
    "data3 = data[['const_var','Rating','DomesticTotalGross']].reset_index()\n",
    "data3 = pd.concat([data3, pd.get_dummies(data3['Rating'])], axis=1)\n",
    "data3 = data3.drop(['Rating'],axis=1)\n",
    "data3.info()"
   ]
  },
  {
   "cell_type": "code",
   "execution_count": null,
   "metadata": {
    "collapsed": true
   },
   "outputs": [],
   "source": [
    "X3 = data3[['PG-13','R', 'const_var']]\n",
    "y3 = data3['DomesticTotalGross']\n",
    "olsmod = sm.OLS(y3, X3)\n",
    "olsres3 = olsmod.fit()\n",
    "ypred3 = olsres3.predict(X3)\n",
    "print(olsres3.summary())"
   ]
  },
  {
   "cell_type": "code",
   "execution_count": null,
   "metadata": {
    "collapsed": true
   },
   "outputs": [],
   "source": [
    "fig, ax = plt.subplots()\n",
    "ax.scatter(y3, ypred3, alpha = .3)\n",
    "ax.plot([y3.min(), y3.max()], [y3.min(), y3.max()], 'r--', lw=2)\n",
    "ax.set_title('Predicted vs. Actual')\n",
    "ax.set_xlabel('Actual')\n",
    "ax.set_ylabel('Predicted')\n",
    "plt.show()"
   ]
  },
  {
   "cell_type": "code",
   "execution_count": null,
   "metadata": {
    "collapsed": true
   },
   "outputs": [],
   "source": [
    "sns.plt.hist(olsres3.resid, bins = round(len(olsres3.resid)*.33,0));\n",
    "plt.title('Resduals');"
   ]
  },
  {
   "cell_type": "markdown",
   "metadata": {},
   "source": [
    "## 3.4"
   ]
  },
  {
   "cell_type": "code",
   "execution_count": null,
   "metadata": {
    "collapsed": true
   },
   "outputs": [],
   "source": [
    "X = data[['Budget','Runtime','ReleaseDate']]\n",
    "y = data['DomesticTotalGross']\n",
    "X['Budget'] = np.sqrt(data['Budget'])\n",
    "X['month'] = pd.DatetimeIndex(X['ReleaseDate']).month\n",
    "# X = pd.concat([X, pd.get_dummies(X['month'])], axis=1)\n",
    "X = pd.concat([X, pd.get_dummies(data['Rating'])], axis=1)\n",
    "X = X.drop(['ReleaseDate'], axis=1)\n",
    "X = X.drop(['month'], axis=1)\n",
    "\n",
    "# Initialize linear model\n",
    "lr = linear_model.LinearRegression()\n",
    "lr_fit = lr.fit(X, y)\n",
    "# cross_val_predict returns an array of the same size as `y` where each entry\n",
    "# is a prediction obtained by cross validation:\n",
    "predicted = cross_val_predict(lr, X, y, cv=10)\n",
    "\n",
    "fig, ax = plt.subplots()\n",
    "ax.scatter(y, predicted)\n",
    "ax.plot([y.min(), y.max()], [y.min(), y.max()], 'r--', lw=3)\n",
    "ax.set_xlabel('Measured')\n",
    "ax.set_ylabel('Predicted')\n",
    "plt.show()"
   ]
  },
  {
   "cell_type": "markdown",
   "metadata": {},
   "source": [
    "## 3.5"
   ]
  },
  {
   "cell_type": "code",
   "execution_count": null,
   "metadata": {
    "collapsed": true
   },
   "outputs": [],
   "source": [
    "from sklearn.cross_validation import train_test_split\n",
    "X_train, X_test, y_train, y_test = train_test_split(X, y, test_size=0.25, random_state=42)"
   ]
  },
  {
   "cell_type": "code",
   "execution_count": null,
   "metadata": {
    "collapsed": true
   },
   "outputs": [],
   "source": [
    "model_lr = linear_model.LinearRegression(fit_intercept=True, normalize=True)\n",
    "model_lr.fit(X_train, y_train)\n",
    "pred_vals_lr = model_lr.predict(X_test)\n",
    "RMSE_lr = np.sqrt(np.sum((pred_vals_lr - y_test)**2)/len(y_test))\n",
    "\n",
    "\n",
    "print 'Train set: %.2f' % model_lr.score(X_train,y_train)\n",
    "print 'Test set: %.2f' % model_lr.score(X_test,y_test)"
   ]
  }
 ],
 "metadata": {
  "kernelspec": {
   "display_name": "Python 2",
   "language": "python",
   "name": "python2"
  },
  "language_info": {
   "codemirror_mode": {
    "name": "ipython",
    "version": 2
   },
   "file_extension": ".py",
   "mimetype": "text/x-python",
   "name": "python",
   "nbconvert_exporter": "python",
   "pygments_lexer": "ipython2",
   "version": "2.7.11"
  }
 },
 "nbformat": 4,
 "nbformat_minor": 0
}
