{
 "cells": [
  {
   "cell_type": "code",
   "execution_count": 37,
   "metadata": {
    "collapsed": false
   },
   "outputs": [],
   "source": [
    "import pandas as pd\n",
    "import numpy as np\n",
    "from sklearn import preprocessing\n",
    "from sklearn.cross_validation import train_test_split\n",
    "from sklearn.decomposition import PCA\n",
    "from sklearn.feature_selection import f_regression\n",
    "import statsmodels.api as sm\n",
    "import statsmodels.formula.api as smf\n",
    "import patsy\n",
    "import seaborn as sns\n",
    "from seaborn import plt\n",
    "from sklearn.linear_model import LinearRegression\n",
    "from sklearn.cross_validation import train_test_split\n",
    "from sklearn.linear_model import RidgeCV\n",
    "%matplotlib inline"
   ]
  },
  {
   "cell_type": "code",
   "execution_count": 38,
   "metadata": {
    "collapsed": true
   },
   "outputs": [],
   "source": [
    "\n",
    "df = pd.read_csv(\"2013_movies.csv\")"
   ]
  },
  {
   "cell_type": "code",
   "execution_count": 39,
   "metadata": {
    "collapsed": false
   },
   "outputs": [
    {
     "data": {
      "text/html": [
       "<div>\n",
       "<table border=\"1\" class=\"dataframe\">\n",
       "  <thead>\n",
       "    <tr style=\"text-align: right;\">\n",
       "      <th></th>\n",
       "      <th>Title</th>\n",
       "      <th>Budget</th>\n",
       "      <th>DomesticTotalGross</th>\n",
       "      <th>Director</th>\n",
       "      <th>Rating</th>\n",
       "      <th>Runtime</th>\n",
       "      <th>ReleaseDate</th>\n",
       "      <th>tester</th>\n",
       "    </tr>\n",
       "  </thead>\n",
       "  <tbody>\n",
       "    <tr>\n",
       "      <th>0</th>\n",
       "      <td>The Hunger Games: Catching Fire</td>\n",
       "      <td>130000000.0</td>\n",
       "      <td>424668047</td>\n",
       "      <td>Francis Lawrence</td>\n",
       "      <td>PG-13</td>\n",
       "      <td>146</td>\n",
       "      <td>11/22/13 0:00</td>\n",
       "      <td>1.0</td>\n",
       "    </tr>\n",
       "    <tr>\n",
       "      <th>1</th>\n",
       "      <td>Iron Man 3</td>\n",
       "      <td>200000000.0</td>\n",
       "      <td>409013994</td>\n",
       "      <td>Shane Black</td>\n",
       "      <td>PG-13</td>\n",
       "      <td>129</td>\n",
       "      <td>5/3/13 0:00</td>\n",
       "      <td>1.0</td>\n",
       "    </tr>\n",
       "    <tr>\n",
       "      <th>2</th>\n",
       "      <td>Frozen</td>\n",
       "      <td>150000000.0</td>\n",
       "      <td>400738009</td>\n",
       "      <td>Chris BuckJennifer Lee</td>\n",
       "      <td>PG</td>\n",
       "      <td>108</td>\n",
       "      <td>11/22/13 0:00</td>\n",
       "      <td>1.0</td>\n",
       "    </tr>\n",
       "    <tr>\n",
       "      <th>3</th>\n",
       "      <td>Despicable Me 2</td>\n",
       "      <td>76000000.0</td>\n",
       "      <td>368061265</td>\n",
       "      <td>Pierre CoffinChris Renaud</td>\n",
       "      <td>PG</td>\n",
       "      <td>98</td>\n",
       "      <td>7/3/13 0:00</td>\n",
       "      <td>1.0</td>\n",
       "    </tr>\n",
       "    <tr>\n",
       "      <th>4</th>\n",
       "      <td>Man of Steel</td>\n",
       "      <td>225000000.0</td>\n",
       "      <td>291045518</td>\n",
       "      <td>Zack Snyder</td>\n",
       "      <td>PG-13</td>\n",
       "      <td>143</td>\n",
       "      <td>6/14/13 0:00</td>\n",
       "      <td>1.0</td>\n",
       "    </tr>\n",
       "  </tbody>\n",
       "</table>\n",
       "</div>"
      ],
      "text/plain": [
       "                             Title       Budget  DomesticTotalGross  \\\n",
       "0  The Hunger Games: Catching Fire  130000000.0           424668047   \n",
       "1                       Iron Man 3  200000000.0           409013994   \n",
       "2                           Frozen  150000000.0           400738009   \n",
       "3                  Despicable Me 2   76000000.0           368061265   \n",
       "4                     Man of Steel  225000000.0           291045518   \n",
       "\n",
       "                    Director Rating  Runtime    ReleaseDate  tester  \n",
       "0           Francis Lawrence  PG-13      146  11/22/13 0:00     1.0  \n",
       "1                Shane Black  PG-13      129    5/3/13 0:00     1.0  \n",
       "2     Chris BuckJennifer Lee     PG      108  11/22/13 0:00     1.0  \n",
       "3  Pierre CoffinChris Renaud     PG       98    7/3/13 0:00     1.0  \n",
       "4                Zack Snyder  PG-13      143   6/14/13 0:00     1.0  "
      ]
     },
     "execution_count": 39,
     "metadata": {},
     "output_type": "execute_result"
    }
   ],
   "source": [
    "\n",
    "df[\"tester\"] = df.Budget*0 +1\n",
    "df.fillna(0, inplace=True)\n",
    "df.head()"
   ]
  },
  {
   "cell_type": "code",
   "execution_count": 40,
   "metadata": {
    "collapsed": false
   },
   "outputs": [
    {
     "data": {
      "text/html": [
       "<table class=\"simpletable\">\n",
       "<caption>OLS Regression Results</caption>\n",
       "<tr>\n",
       "  <th>Dep. Variable:</th>         <td>Runtime</td>     <th>  R-squared:         </th> <td>   0.000</td>\n",
       "</tr>\n",
       "<tr>\n",
       "  <th>Model:</th>                   <td>OLS</td>       <th>  Adj. R-squared:    </th> <td>   0.000</td>\n",
       "</tr>\n",
       "<tr>\n",
       "  <th>Method:</th>             <td>Least Squares</td>  <th>  F-statistic:       </th> <td>     nan</td>\n",
       "</tr>\n",
       "<tr>\n",
       "  <th>Date:</th>             <td>Mon, 10 Oct 2016</td> <th>  Prob (F-statistic):</th>  <td>   nan</td> \n",
       "</tr>\n",
       "<tr>\n",
       "  <th>Time:</th>                 <td>15:13:24</td>     <th>  Log-Likelihood:    </th> <td> -431.48</td>\n",
       "</tr>\n",
       "<tr>\n",
       "  <th>No. Observations:</th>      <td>   100</td>      <th>  AIC:               </th> <td>   865.0</td>\n",
       "</tr>\n",
       "<tr>\n",
       "  <th>Df Residuals:</th>          <td>    99</td>      <th>  BIC:               </th> <td>   867.6</td>\n",
       "</tr>\n",
       "<tr>\n",
       "  <th>Df Model:</th>              <td>     0</td>      <th>                     </th>     <td> </td>   \n",
       "</tr>\n",
       "<tr>\n",
       "  <th>Covariance Type:</th>      <td>nonrobust</td>    <th>                     </th>     <td> </td>   \n",
       "</tr>\n",
       "</table>\n",
       "<table class=\"simpletable\">\n",
       "<tr>\n",
       "    <td></td>       <th>coef</th>     <th>std err</th>      <th>t</th>      <th>P>|t|</th> <th>[95.0% Conf. Int.]</th> \n",
       "</tr>\n",
       "<tr>\n",
       "  <th>const</th> <td>  112.2600</td> <td>    1.819</td> <td>   61.713</td> <td> 0.000</td> <td>  108.651   115.869</td>\n",
       "</tr>\n",
       "</table>\n",
       "<table class=\"simpletable\">\n",
       "<tr>\n",
       "  <th>Omnibus:</th>       <td>11.447</td> <th>  Durbin-Watson:     </th> <td>   1.800</td>\n",
       "</tr>\n",
       "<tr>\n",
       "  <th>Prob(Omnibus):</th> <td> 0.003</td> <th>  Jarque-Bera (JB):  </th> <td>  12.285</td>\n",
       "</tr>\n",
       "<tr>\n",
       "  <th>Skew:</th>          <td> 0.699</td> <th>  Prob(JB):          </th> <td> 0.00215</td>\n",
       "</tr>\n",
       "<tr>\n",
       "  <th>Kurtosis:</th>      <td> 3.998</td> <th>  Cond. No.          </th> <td>    1.00</td>\n",
       "</tr>\n",
       "</table>"
      ],
      "text/plain": [
       "<class 'statsmodels.iolib.summary.Summary'>\n",
       "\"\"\"\n",
       "                            OLS Regression Results                            \n",
       "==============================================================================\n",
       "Dep. Variable:                Runtime   R-squared:                       0.000\n",
       "Model:                            OLS   Adj. R-squared:                  0.000\n",
       "Method:                 Least Squares   F-statistic:                       nan\n",
       "Date:                Mon, 10 Oct 2016   Prob (F-statistic):                nan\n",
       "Time:                        15:13:24   Log-Likelihood:                -431.48\n",
       "No. Observations:                 100   AIC:                             865.0\n",
       "Df Residuals:                      99   BIC:                             867.6\n",
       "Df Model:                           0                                         \n",
       "Covariance Type:            nonrobust                                         \n",
       "==============================================================================\n",
       "                 coef    std err          t      P>|t|      [95.0% Conf. Int.]\n",
       "------------------------------------------------------------------------------\n",
       "const        112.2600      1.819     61.713      0.000       108.651   115.869\n",
       "==============================================================================\n",
       "Omnibus:                       11.447   Durbin-Watson:                   1.800\n",
       "Prob(Omnibus):                  0.003   Jarque-Bera (JB):               12.285\n",
       "Skew:                           0.699   Prob(JB):                      0.00215\n",
       "Kurtosis:                       3.998   Cond. No.                         1.00\n",
       "==============================================================================\n",
       "\n",
       "Warnings:\n",
       "[1] Standard Errors assume that the covariance matrix of the errors is correctly specified.\n",
       "\"\"\""
      ]
     },
     "execution_count": 40,
     "metadata": {},
     "output_type": "execute_result"
    }
   ],
   "source": [
    "y = df.Runtime\n",
    "X = np.ones([len(y),1])\n",
    "model = sm.OLS(y, X) \n",
    "fit = model.fit()\n",
    "fit.summary()"
   ]
  },
  {
   "cell_type": "code",
   "execution_count": 41,
   "metadata": {
    "collapsed": false
   },
   "outputs": [
    {
     "name": "stdout",
     "output_type": "stream",
     "text": [
      "0.0\n"
     ]
    }
   ],
   "source": [
    "from sklearn import metrics\n",
    "y_pred = fit.predict(X)\n",
    "print(metrics.r2_score(y, y_pred))"
   ]
  },
  {
   "cell_type": "code",
   "execution_count": 42,
   "metadata": {
    "collapsed": false
   },
   "outputs": [
    {
     "data": {
      "image/png": "[encoded data removed]",
      "text/plain": [
       "<matplotlib.figure.Figure at 0x11c0622d0>"
      ]
     },
     "metadata": {},
     "output_type": "display_data"
    }
   ],
   "source": [
    "plt.scatter(y_pred, y, alpha = .3)\n",
    "plt.xlabel('prediction')\n",
    "plt.ylabel('actual');\n",
    "\n",
    "plt.hist(y_pred-y,bins = 50)\n",
    "plt.xlabel('residual value');"
   ]
  },
  {
   "cell_type": "code",
   "execution_count": 44,
   "metadata": {
    "collapsed": false
   },
   "outputs": [
    {
     "data": {
      "text/html": [
       "<table class=\"simpletable\">\n",
       "<caption>OLS Regression Results</caption>\n",
       "<tr>\n",
       "  <th>Dep. Variable:</th>         <td>Runtime</td>     <th>  R-squared:         </th> <td>   0.874</td>\n",
       "</tr>\n",
       "<tr>\n",
       "  <th>Model:</th>                   <td>OLS</td>       <th>  Adj. R-squared:    </th> <td>   0.872</td>\n",
       "</tr>\n",
       "<tr>\n",
       "  <th>Method:</th>             <td>Least Squares</td>  <th>  F-statistic:       </th> <td>   340.2</td>\n",
       "</tr>\n",
       "<tr>\n",
       "  <th>Date:</th>             <td>Mon, 10 Oct 2016</td> <th>  Prob (F-statistic):</th> <td>7.96e-45</td>\n",
       "</tr>\n",
       "<tr>\n",
       "  <th>Time:</th>                 <td>15:13:40</td>     <th>  Log-Likelihood:    </th> <td> -511.65</td>\n",
       "</tr>\n",
       "<tr>\n",
       "  <th>No. Observations:</th>      <td>   100</td>      <th>  AIC:               </th> <td>   1027.</td>\n",
       "</tr>\n",
       "<tr>\n",
       "  <th>Df Residuals:</th>          <td>    98</td>      <th>  BIC:               </th> <td>   1033.</td>\n",
       "</tr>\n",
       "<tr>\n",
       "  <th>Df Model:</th>              <td>     2</td>      <th>                     </th>     <td> </td>   \n",
       "</tr>\n",
       "<tr>\n",
       "  <th>Covariance Type:</th>      <td>nonrobust</td>    <th>                     </th>     <td> </td>   \n",
       "</tr>\n",
       "</table>\n",
       "<table class=\"simpletable\">\n",
       "<tr>\n",
       "     <td></td>       <th>coef</th>     <th>std err</th>      <th>t</th>      <th>P>|t|</th> <th>[95.0% Conf. Int.]</th> \n",
       "</tr>\n",
       "<tr>\n",
       "  <th>tester</th> <td>  104.6292</td> <td>    6.967</td> <td>   15.018</td> <td> 0.000</td> <td>   90.804   118.455</td>\n",
       "</tr>\n",
       "<tr>\n",
       "  <th>Budget</th> <td> 1.055e-07</td> <td> 7.31e-08</td> <td>    1.443</td> <td> 0.152</td> <td>-3.96e-08  2.51e-07</td>\n",
       "</tr>\n",
       "</table>\n",
       "<table class=\"simpletable\">\n",
       "<tr>\n",
       "  <th>Omnibus:</th>       <td>48.445</td> <th>  Durbin-Watson:     </th> <td>   1.394</td>\n",
       "</tr>\n",
       "<tr>\n",
       "  <th>Prob(Omnibus):</th> <td> 0.000</td> <th>  Jarque-Bera (JB):  </th> <td> 107.593</td>\n",
       "</tr>\n",
       "<tr>\n",
       "  <th>Skew:</th>          <td> 1.952</td> <th>  Prob(JB):          </th> <td>4.33e-24</td>\n",
       "</tr>\n",
       "<tr>\n",
       "  <th>Kurtosis:</th>      <td> 6.254</td> <th>  Cond. No.          </th> <td>1.54e+08</td>\n",
       "</tr>\n",
       "</table>"
      ],
      "text/plain": [
       "<class 'statsmodels.iolib.summary.Summary'>\n",
       "\"\"\"\n",
       "                            OLS Regression Results                            \n",
       "==============================================================================\n",
       "Dep. Variable:                Runtime   R-squared:                       0.874\n",
       "Model:                            OLS   Adj. R-squared:                  0.872\n",
       "Method:                 Least Squares   F-statistic:                     340.2\n",
       "Date:                Mon, 10 Oct 2016   Prob (F-statistic):           7.96e-45\n",
       "Time:                        15:13:40   Log-Likelihood:                -511.65\n",
       "No. Observations:                 100   AIC:                             1027.\n",
       "Df Residuals:                      98   BIC:                             1033.\n",
       "Df Model:                           2                                         \n",
       "Covariance Type:            nonrobust                                         \n",
       "==============================================================================\n",
       "                 coef    std err          t      P>|t|      [95.0% Conf. Int.]\n",
       "------------------------------------------------------------------------------\n",
       "tester       104.6292      6.967     15.018      0.000        90.804   118.455\n",
       "Budget      1.055e-07   7.31e-08      1.443      0.152     -3.96e-08  2.51e-07\n",
       "==============================================================================\n",
       "Omnibus:                       48.445   Durbin-Watson:                   1.394\n",
       "Prob(Omnibus):                  0.000   Jarque-Bera (JB):              107.593\n",
       "Skew:                           1.952   Prob(JB):                     4.33e-24\n",
       "Kurtosis:                       6.254   Cond. No.                     1.54e+08\n",
       "==============================================================================\n",
       "\n",
       "Warnings:\n",
       "[1] Standard Errors assume that the covariance matrix of the errors is correctly specified.\n",
       "[2] The condition number is large, 1.54e+08. This might indicate that there are\n",
       "strong multicollinearity or other numerical problems.\n",
       "\"\"\""
      ]
     },
     "execution_count": 44,
     "metadata": {},
     "output_type": "execute_result"
    }
   ],
   "source": [
    "y = df.Runtime\n",
    "X = pd.concat([df.tester, df.Budget], axis=1)\n",
    "\n",
    "model = sm.OLS(y, X) \n",
    "fit = model.fit()\n",
    "fit.summary()\n"
   ]
  },
  {
   "cell_type": "code",
   "execution_count": 47,
   "metadata": {
    "collapsed": false
   },
   "outputs": [
    {
     "name": "stdout",
     "output_type": "stream",
     "text": [
      "-3.96918555029\n"
     ]
    }
   ],
   "source": [
    "y_pred = fit.predict(X)\n",
    "print(metrics.r2_score(y, y_pred))\n",
    "\n",
    "\n"
   ]
  },
  {
   "cell_type": "code",
   "execution_count": 48,
   "metadata": {
    "collapsed": false
   },
   "outputs": [
    {
     "data": {
      "image/png": "[encoded data removed]",
      "text/plain": [
       "<matplotlib.figure.Figure at 0x11c6349d0>"
      ]
     },
     "metadata": {},
     "output_type": "display_data"
    }
   ],
   "source": [
    "plt.scatter(X.iloc[:,1], y_pred, alpha = .3)\n",
    "plt.xlabel('feature variable')\n",
    "plt.ylabel('predicted value');\n"
   ]
  },
  {
   "cell_type": "code",
   "execution_count": 49,
   "metadata": {
    "collapsed": false
   },
   "outputs": [
    {
     "data": {
      "image/png": "[encoded data removed]",
      "text/plain": [
       "<matplotlib.figure.Figure at 0x11b525210>"
      ]
     },
     "metadata": {},
     "output_type": "display_data"
    }
   ],
   "source": [
    "plt.figure(figsize=(15, 5))\n",
    "plt.subplot(1,2,1)\n",
    "plt.plot(X.iloc[:,1],X.iloc[:,1]*0,alpha = .5)\n",
    "plt.scatter(X.iloc[:,1], y_pred-y, alpha = .3)\n",
    "plt.xlabel('feature variable')\n",
    "plt.ylabel('residual')\n",
    "plt.xlim([-2.8,2.5])\n",
    "plt.title('residual plot');\n",
    "\n",
    "plt.subplot(1,2,2)\n",
    "plt.hist(y_pred-y,bins = 50)\n",
    "plt.xlabel('feature variable')\n",
    "plt.ylabel('residual')\n",
    "plt.xlim([-2.8,2.5])\n",
    "plt.title('residual histogram');\n"
   ]
  },
  {
   "cell_type": "code",
   "execution_count": 51,
   "metadata": {
    "collapsed": false
   },
   "outputs": [
    {
     "data": {
      "text/html": [
       "<table class=\"simpletable\">\n",
       "<caption>OLS Regression Results</caption>\n",
       "<tr>\n",
       "  <th>Dep. Variable:</th>         <td>Runtime</td>     <th>  R-squared:         </th> <td>   0.228</td>\n",
       "</tr>\n",
       "<tr>\n",
       "  <th>Model:</th>                   <td>OLS</td>       <th>  Adj. R-squared:    </th> <td>   0.187</td>\n",
       "</tr>\n",
       "<tr>\n",
       "  <th>Method:</th>             <td>Least Squares</td>  <th>  F-statistic:       </th> <td>   5.551</td>\n",
       "</tr>\n",
       "<tr>\n",
       "  <th>Date:</th>             <td>Mon, 10 Oct 2016</td> <th>  Prob (F-statistic):</th> <td>0.000159</td>\n",
       "</tr>\n",
       "<tr>\n",
       "  <th>Time:</th>                 <td>15:17:43</td>     <th>  Log-Likelihood:    </th> <td> -418.55</td>\n",
       "</tr>\n",
       "<tr>\n",
       "  <th>No. Observations:</th>      <td>   100</td>      <th>  AIC:               </th> <td>   849.1</td>\n",
       "</tr>\n",
       "<tr>\n",
       "  <th>Df Residuals:</th>          <td>    94</td>      <th>  BIC:               </th> <td>   864.7</td>\n",
       "</tr>\n",
       "<tr>\n",
       "  <th>Df Model:</th>              <td>     5</td>      <th>                     </th>     <td> </td>   \n",
       "</tr>\n",
       "<tr>\n",
       "  <th>Covariance Type:</th>      <td>nonrobust</td>    <th>                     </th>     <td> </td>   \n",
       "</tr>\n",
       "</table>\n",
       "<table class=\"simpletable\">\n",
       "<tr>\n",
       "     <td></td>       <th>coef</th>     <th>std err</th>      <th>t</th>      <th>P>|t|</th> <th>[95.0% Conf. Int.]</th> \n",
       "</tr>\n",
       "<tr>\n",
       "  <th>tester</th> <td>   -3.8607</td> <td>    6.028</td> <td>   -0.640</td> <td> 0.523</td> <td>  -15.829     8.107</td>\n",
       "</tr>\n",
       "<tr>\n",
       "  <th>Budget</th> <td> 1.195e-07</td> <td> 3.28e-08</td> <td>    3.642</td> <td> 0.000</td> <td> 5.43e-08  1.85e-07</td>\n",
       "</tr>\n",
       "<tr>\n",
       "  <th>G</th>      <td>  107.0000</td> <td>   16.403</td> <td>    6.523</td> <td> 0.000</td> <td>   74.432   139.568</td>\n",
       "</tr>\n",
       "<tr>\n",
       "  <th>PG</th>     <td>   92.5736</td> <td>    6.998</td> <td>   13.229</td> <td> 0.000</td> <td>   78.680   106.468</td>\n",
       "</tr>\n",
       "<tr>\n",
       "  <th>PG-13</th>  <td>  110.8116</td> <td>    5.425</td> <td>   20.425</td> <td> 0.000</td> <td>  100.039   121.584</td>\n",
       "</tr>\n",
       "<tr>\n",
       "  <th>R</th>      <td>  110.0326</td> <td>    5.709</td> <td>   19.272</td> <td> 0.000</td> <td>   98.696   121.369</td>\n",
       "</tr>\n",
       "</table>\n",
       "<table class=\"simpletable\">\n",
       "<tr>\n",
       "  <th>Omnibus:</th>       <td>15.938</td> <th>  Durbin-Watson:     </th> <td>   1.775</td>\n",
       "</tr>\n",
       "<tr>\n",
       "  <th>Prob(Omnibus):</th> <td> 0.000</td> <th>  Jarque-Bera (JB):  </th> <td>  23.002</td>\n",
       "</tr>\n",
       "<tr>\n",
       "  <th>Skew:</th>          <td> 0.740</td> <th>  Prob(JB):          </th> <td>1.01e-05</td>\n",
       "</tr>\n",
       "<tr>\n",
       "  <th>Kurtosis:</th>      <td> 4.824</td> <th>  Cond. No.          </th> <td>8.99e+08</td>\n",
       "</tr>\n",
       "</table>"
      ],
      "text/plain": [
       "<class 'statsmodels.iolib.summary.Summary'>\n",
       "\"\"\"\n",
       "                            OLS Regression Results                            \n",
       "==============================================================================\n",
       "Dep. Variable:                Runtime   R-squared:                       0.228\n",
       "Model:                            OLS   Adj. R-squared:                  0.187\n",
       "Method:                 Least Squares   F-statistic:                     5.551\n",
       "Date:                Mon, 10 Oct 2016   Prob (F-statistic):           0.000159\n",
       "Time:                        15:17:43   Log-Likelihood:                -418.55\n",
       "No. Observations:                 100   AIC:                             849.1\n",
       "Df Residuals:                      94   BIC:                             864.7\n",
       "Df Model:                           5                                         \n",
       "Covariance Type:            nonrobust                                         \n",
       "==============================================================================\n",
       "                 coef    std err          t      P>|t|      [95.0% Conf. Int.]\n",
       "------------------------------------------------------------------------------\n",
       "tester        -3.8607      6.028     -0.640      0.523       -15.829     8.107\n",
       "Budget      1.195e-07   3.28e-08      3.642      0.000      5.43e-08  1.85e-07\n",
       "G            107.0000     16.403      6.523      0.000        74.432   139.568\n",
       "PG            92.5736      6.998     13.229      0.000        78.680   106.468\n",
       "PG-13        110.8116      5.425     20.425      0.000       100.039   121.584\n",
       "R            110.0326      5.709     19.272      0.000        98.696   121.369\n",
       "==============================================================================\n",
       "Omnibus:                       15.938   Durbin-Watson:                   1.775\n",
       "Prob(Omnibus):                  0.000   Jarque-Bera (JB):               23.002\n",
       "Skew:                           0.740   Prob(JB):                     1.01e-05\n",
       "Kurtosis:                       4.824   Cond. No.                     8.99e+08\n",
       "==============================================================================\n",
       "\n",
       "Warnings:\n",
       "[1] Standard Errors assume that the covariance matrix of the errors is correctly specified.\n",
       "[2] The condition number is large, 8.99e+08. This might indicate that there are\n",
       "strong multicollinearity or other numerical problems.\n",
       "\"\"\""
      ]
     },
     "execution_count": 51,
     "metadata": {},
     "output_type": "execute_result"
    }
   ],
   "source": [
    "\n",
    "y = df.Runtime\n",
    "X = pd.concat([df.tester, df.Budget, pd.get_dummies(df.Rating)], axis=1)\n",
    "\n",
    "model = sm.OLS(y, X) \n",
    "fit = model.fit()\n",
    "fit.summary()"
   ]
  },
  {
   "cell_type": "code",
   "execution_count": 52,
   "metadata": {
    "collapsed": false
   },
   "outputs": [
    {
     "name": "stdout",
     "output_type": "stream",
     "text": [
      "0.227972955852\n"
     ]
    }
   ],
   "source": [
    "y_pred = fit.predict(X)\n",
    "print(metrics.r2_score(y, y_pred))"
   ]
  },
  {
   "cell_type": "code",
   "execution_count": 53,
   "metadata": {
    "collapsed": false
   },
   "outputs": [
    {
     "data": {
      "image/png": "[encoded data removed]",
      "text/plain": [
       "<matplotlib.figure.Figure at 0x11c3b6ed0>"
      ]
     },
     "metadata": {},
     "output_type": "display_data"
    }
   ],
   "source": [
    "plt.scatter(X.iloc[:,1], y_pred, alpha = .3)\n",
    "plt.xlabel('feature variable')\n",
    "plt.ylabel('predicted value');"
   ]
  },
  {
   "cell_type": "code",
   "execution_count": 54,
   "metadata": {
    "collapsed": false
   },
   "outputs": [
    {
     "data": {
      "image/png": "[encoded data removed]",
      "text/plain": [
       "<matplotlib.figure.Figure at 0x11c1cbcd0>"
      ]
     },
     "metadata": {},
     "output_type": "display_data"
    }
   ],
   "source": [
    "plt.figure(figsize=(15, 5))\n",
    "plt.subplot(1,2,1)\n",
    "plt.plot(X.iloc[:,1],X.iloc[:,1]*0,alpha = .5)\n",
    "plt.scatter(X.iloc[:,1], y_pred-y, alpha = .3)\n",
    "plt.xlabel('feature variable')\n",
    "plt.ylabel('residual')\n",
    "plt.xlim([-2.8,2.5])\n",
    "plt.title('residual plot');\n",
    "\n",
    "plt.subplot(1,2,2)\n",
    "plt.hist(y_pred-y,bins = 50)\n",
    "plt.xlabel('feature variable')\n",
    "plt.ylabel('residual')\n",
    "plt.xlim([-2.8,2.5])\n",
    "plt.title('residual histogram');"
   ]
  },
  {
   "cell_type": "code",
   "execution_count": 55,
   "metadata": {
    "collapsed": false
   },
   "outputs": [
    {
     "data": {
      "text/html": [
       "<table class=\"simpletable\">\n",
       "<caption>OLS Regression Results</caption>\n",
       "<tr>\n",
       "  <th>Dep. Variable:</th>         <td>Runtime</td>     <th>  R-squared:         </th> <td>   0.262</td>\n",
       "</tr>\n",
       "<tr>\n",
       "  <th>Model:</th>                   <td>OLS</td>       <th>  Adj. R-squared:    </th> <td>   0.214</td>\n",
       "</tr>\n",
       "<tr>\n",
       "  <th>Method:</th>             <td>Least Squares</td>  <th>  F-statistic:       </th> <td>   5.496</td>\n",
       "</tr>\n",
       "<tr>\n",
       "  <th>Date:</th>             <td>Mon, 10 Oct 2016</td> <th>  Prob (F-statistic):</th> <td>6.60e-05</td>\n",
       "</tr>\n",
       "<tr>\n",
       "  <th>Time:</th>                 <td>15:20:35</td>     <th>  Log-Likelihood:    </th> <td> -416.31</td>\n",
       "</tr>\n",
       "<tr>\n",
       "  <th>No. Observations:</th>      <td>   100</td>      <th>  AIC:               </th> <td>   846.6</td>\n",
       "</tr>\n",
       "<tr>\n",
       "  <th>Df Residuals:</th>          <td>    93</td>      <th>  BIC:               </th> <td>   864.9</td>\n",
       "</tr>\n",
       "<tr>\n",
       "  <th>Df Model:</th>              <td>     6</td>      <th>                     </th>     <td> </td>   \n",
       "</tr>\n",
       "<tr>\n",
       "  <th>Covariance Type:</th>      <td>nonrobust</td>    <th>                     </th>     <td> </td>   \n",
       "</tr>\n",
       "</table>\n",
       "<table class=\"simpletable\">\n",
       "<tr>\n",
       "           <td></td>             <th>coef</th>     <th>std err</th>      <th>t</th>      <th>P>|t|</th> <th>[95.0% Conf. Int.]</th> \n",
       "</tr>\n",
       "<tr>\n",
       "  <th>tester</th>             <td>   -3.0214</td> <td>    5.940</td> <td>   -0.509</td> <td> 0.612</td> <td>  -14.817     8.774</td>\n",
       "</tr>\n",
       "<tr>\n",
       "  <th>Budget</th>             <td> 8.444e-08</td> <td> 3.64e-08</td> <td>    2.318</td> <td> 0.023</td> <td> 1.21e-08  1.57e-07</td>\n",
       "</tr>\n",
       "<tr>\n",
       "  <th>G</th>                  <td>   94.5855</td> <td>   17.211</td> <td>    5.496</td> <td> 0.000</td> <td>   60.407   128.764</td>\n",
       "</tr>\n",
       "<tr>\n",
       "  <th>PG</th>                 <td>   88.9595</td> <td>    7.099</td> <td>   12.531</td> <td> 0.000</td> <td>   74.862   103.057</td>\n",
       "</tr>\n",
       "<tr>\n",
       "  <th>PG-13</th>              <td>  107.8767</td> <td>    5.520</td> <td>   19.542</td> <td> 0.000</td> <td>   96.915   118.839</td>\n",
       "</tr>\n",
       "<tr>\n",
       "  <th>R</th>                  <td>  107.2659</td> <td>    5.771</td> <td>   18.588</td> <td> 0.000</td> <td>   95.806   118.726</td>\n",
       "</tr>\n",
       "<tr>\n",
       "  <th>DomesticTotalGross</th> <td> 4.624e-08</td> <td> 2.24e-08</td> <td>    2.064</td> <td> 0.042</td> <td> 1.74e-09  9.07e-08</td>\n",
       "</tr>\n",
       "</table>\n",
       "<table class=\"simpletable\">\n",
       "<tr>\n",
       "  <th>Omnibus:</th>       <td>13.350</td> <th>  Durbin-Watson:     </th> <td>   1.857</td>\n",
       "</tr>\n",
       "<tr>\n",
       "  <th>Prob(Omnibus):</th> <td> 0.001</td> <th>  Jarque-Bera (JB):  </th> <td>  18.296</td>\n",
       "</tr>\n",
       "<tr>\n",
       "  <th>Skew:</th>          <td> 0.645</td> <th>  Prob(JB):          </th> <td>0.000106</td>\n",
       "</tr>\n",
       "<tr>\n",
       "  <th>Kurtosis:</th>      <td> 4.652</td> <th>  Cond. No.          </th> <td>1.63e+09</td>\n",
       "</tr>\n",
       "</table>"
      ],
      "text/plain": [
       "<class 'statsmodels.iolib.summary.Summary'>\n",
       "\"\"\"\n",
       "                            OLS Regression Results                            \n",
       "==============================================================================\n",
       "Dep. Variable:                Runtime   R-squared:                       0.262\n",
       "Model:                            OLS   Adj. R-squared:                  0.214\n",
       "Method:                 Least Squares   F-statistic:                     5.496\n",
       "Date:                Mon, 10 Oct 2016   Prob (F-statistic):           6.60e-05\n",
       "Time:                        15:20:35   Log-Likelihood:                -416.31\n",
       "No. Observations:                 100   AIC:                             846.6\n",
       "Df Residuals:                      93   BIC:                             864.9\n",
       "Df Model:                           6                                         \n",
       "Covariance Type:            nonrobust                                         \n",
       "======================================================================================\n",
       "                         coef    std err          t      P>|t|      [95.0% Conf. Int.]\n",
       "--------------------------------------------------------------------------------------\n",
       "tester                -3.0214      5.940     -0.509      0.612       -14.817     8.774\n",
       "Budget              8.444e-08   3.64e-08      2.318      0.023      1.21e-08  1.57e-07\n",
       "G                     94.5855     17.211      5.496      0.000        60.407   128.764\n",
       "PG                    88.9595      7.099     12.531      0.000        74.862   103.057\n",
       "PG-13                107.8767      5.520     19.542      0.000        96.915   118.839\n",
       "R                    107.2659      5.771     18.588      0.000        95.806   118.726\n",
       "DomesticTotalGross  4.624e-08   2.24e-08      2.064      0.042      1.74e-09  9.07e-08\n",
       "==============================================================================\n",
       "Omnibus:                       13.350   Durbin-Watson:                   1.857\n",
       "Prob(Omnibus):                  0.001   Jarque-Bera (JB):               18.296\n",
       "Skew:                           0.645   Prob(JB):                     0.000106\n",
       "Kurtosis:                       4.652   Cond. No.                     1.63e+09\n",
       "==============================================================================\n",
       "\n",
       "Warnings:\n",
       "[1] Standard Errors assume that the covariance matrix of the errors is correctly specified.\n",
       "[2] The condition number is large, 1.63e+09. This might indicate that there are\n",
       "strong multicollinearity or other numerical problems.\n",
       "\"\"\""
      ]
     },
     "execution_count": 55,
     "metadata": {},
     "output_type": "execute_result"
    }
   ],
   "source": [
    "y = df.Runtime\n",
    "X = pd.concat([df.tester, df.Budget, pd.get_dummies(df.Rating), df.DomesticTotalGross], axis=1)\n",
    "\n",
    "model = sm.OLS(y, X) \n",
    "fit = model.fit()\n",
    "fit.summary()"
   ]
  },
  {
   "cell_type": "code",
   "execution_count": 56,
   "metadata": {
    "collapsed": false
   },
   "outputs": [
    {
     "name": "stdout",
     "output_type": "stream",
     "text": [
      "0.261775208942\n"
     ]
    }
   ],
   "source": [
    "y_pred = fit.predict(X)\n",
    "print(metrics.r2_score(y, y_pred))"
   ]
  },
  {
   "cell_type": "code",
   "execution_count": 57,
   "metadata": {
    "collapsed": false
   },
   "outputs": [
    {
     "data": {
      "image/png": "[encoded data removed]",
      "text/plain": [
       "<matplotlib.figure.Figure at 0x11c024850>"
      ]
     },
     "metadata": {},
     "output_type": "display_data"
    }
   ],
   "source": [
    "plt.scatter(X.iloc[:,1], y_pred, alpha = .3)\n",
    "plt.xlabel('feature variable')\n",
    "plt.ylabel('predicted value');"
   ]
  },
  {
   "cell_type": "code",
   "execution_count": 58,
   "metadata": {
    "collapsed": false
   },
   "outputs": [
    {
     "data": {
      "image/png": "[encoded data removed]",
      "text/plain": [
       "<matplotlib.figure.Figure at 0x11c650110>"
      ]
     },
     "metadata": {},
     "output_type": "display_data"
    }
   ],
   "source": [
    "plt.figure(figsize=(15, 5))\n",
    "plt.subplot(1,2,1)\n",
    "plt.plot(X.iloc[:,1],X.iloc[:,1]*0,alpha = .5)\n",
    "plt.scatter(X.iloc[:,1], y_pred-y, alpha = .3)\n",
    "plt.xlabel('feature variable')\n",
    "plt.ylabel('residual')\n",
    "plt.xlim([-2.8,2.5])\n",
    "plt.title('residual plot');\n",
    "\n",
    "plt.subplot(1,2,2)\n",
    "plt.hist(y_pred-y,bins = 50)\n",
    "plt.xlabel('feature variable')\n",
    "plt.ylabel('residual')\n",
    "plt.xlim([-2.8,2.5])\n",
    "plt.title('residual histogram');"
   ]
  },
  {
   "cell_type": "code",
   "execution_count": 62,
   "metadata": {
    "collapsed": false
   },
   "outputs": [
    {
     "name": "stdout",
     "output_type": "stream",
     "text": [
      "-0.0785578788734\n"
     ]
    }
   ],
   "source": [
    "\n",
    "y = df.Runtime\n",
    "X = pd.concat([df.tester, df.Budget, pd.get_dummies(df.Rating), df.DomesticTotalGross], axis=1)\n",
    "X_train, X_test, y_train, y_test = train_test_split(X, y, test_size=0.3)\n",
    "model = sm.OLS(y_train, X_train) \n",
    "fit = model.fit()\n",
    "y_pred = fit.predict(X_test)\n",
    "score = metrics.r2_score(y_test, y_pred)\n",
    "print score"
   ]
  },
  {
   "cell_type": "code",
   "execution_count": null,
   "metadata": {
    "collapsed": true
   },
   "outputs": [],
   "source": []
  }
 ],
 "metadata": {
  "anaconda-cloud": {},
  "kernelspec": {
   "display_name": "Python [Root]",
   "language": "python",
   "name": "Python [Root]"
  },
  "language_info": {
   "codemirror_mode": {
    "name": "ipython",
    "version": 2
   },
   "file_extension": ".py",
   "mimetype": "text/x-python",
   "name": "python",
   "nbconvert_exporter": "python",
   "pygments_lexer": "ipython2",
   "version": "2.7.12"
  }
 },
 "nbformat": 4,
 "nbformat_minor": 0
}
