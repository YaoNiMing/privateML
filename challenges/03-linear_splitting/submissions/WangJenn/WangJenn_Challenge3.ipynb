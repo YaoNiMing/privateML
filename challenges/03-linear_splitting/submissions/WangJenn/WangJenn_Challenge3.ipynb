{
 "cells": [
  {
   "cell_type": "code",
   "execution_count": 58,
   "metadata": {
    "collapsed": false
   },
   "outputs": [],
   "source": [
    "# import packages \n",
    "\n",
    "import pandas as pd\n",
    "import numpy as np\n",
    "import matplotlib.pyplot as plt\n",
    "import seaborn as sb\n",
    "import statsmodels.api as sm\n",
    "import statsmodels.formula.api as smf\n",
    "from sklearn.cross_validation import train_test_split\n",
    "from sklearn import metrics\n",
    "import math as math \n",
    "from sklearn.linear_model import LinearRegression\n",
    "from sklearn.cross_validation import train_test_split\n",
    "%matplotlib inline\n",
    "pd.options.display.max_rows = 10"
   ]
  },
  {
   "cell_type": "code",
   "execution_count": 3,
   "metadata": {
    "collapsed": false
   },
   "outputs": [
    {
     "data": {
      "text/html": [
       "<div>\n",
       "<table border=\"1\" class=\"dataframe\">\n",
       "  <thead>\n",
       "    <tr style=\"text-align: right;\">\n",
       "      <th></th>\n",
       "      <th>IMDB_Title</th>\n",
       "      <th>IMDB_Year</th>\n",
       "      <th>URL</th>\n",
       "      <th>IMDB_ID</th>\n",
       "      <th>IMDB_User_Rating</th>\n",
       "      <th>Action</th>\n",
       "      <th>Comedy</th>\n",
       "      <th>Drama</th>\n",
       "      <th>Crime</th>\n",
       "      <th>Fantasy</th>\n",
       "      <th>...</th>\n",
       "      <th>Discrepancy</th>\n",
       "      <th>budget</th>\n",
       "      <th>gross</th>\n",
       "      <th>budget_cur</th>\n",
       "      <th>gross_cur</th>\n",
       "      <th>budget_usd</th>\n",
       "      <th>gross_usd</th>\n",
       "      <th>budget_trueusd</th>\n",
       "      <th>gross_trueusd</th>\n",
       "      <th>success</th>\n",
       "    </tr>\n",
       "  </thead>\n",
       "  <tbody>\n",
       "    <tr>\n",
       "      <th>0</th>\n",
       "      <td>The Dogs of War</td>\n",
       "      <td>1980.0</td>\n",
       "      <td>http://www.imdb.com/title/tt0080641</td>\n",
       "      <td>tt0080641</td>\n",
       "      <td>6.3</td>\n",
       "      <td>1.0</td>\n",
       "      <td>0.0</td>\n",
       "      <td>1.0</td>\n",
       "      <td>0.0</td>\n",
       "      <td>0.0</td>\n",
       "      <td>...</td>\n",
       "      <td>0.1</td>\n",
       "      <td>NaN</td>\n",
       "      <td>NaN</td>\n",
       "      <td>NaN</td>\n",
       "      <td>NaN</td>\n",
       "      <td>NaN</td>\n",
       "      <td>NaN</td>\n",
       "      <td>NaN</td>\n",
       "      <td>NaN</td>\n",
       "      <td>NaN</td>\n",
       "    </tr>\n",
       "    <tr>\n",
       "      <th>1</th>\n",
       "      <td>Spring Breakers</td>\n",
       "      <td>2012.0</td>\n",
       "      <td>http://www.imdb.com/title/tt2101441</td>\n",
       "      <td>tt2101441</td>\n",
       "      <td>5.3</td>\n",
       "      <td>1.0</td>\n",
       "      <td>0.0</td>\n",
       "      <td>1.0</td>\n",
       "      <td>1.0</td>\n",
       "      <td>0.0</td>\n",
       "      <td>...</td>\n",
       "      <td>0.9</td>\n",
       "      <td>$5,000,000</td>\n",
       "      <td>$14,123,773</td>\n",
       "      <td>$</td>\n",
       "      <td>$</td>\n",
       "      <td>5000000.0</td>\n",
       "      <td>14123773.0</td>\n",
       "      <td>5000000.0</td>\n",
       "      <td>14123773.0</td>\n",
       "      <td>2.824755</td>\n",
       "    </tr>\n",
       "    <tr>\n",
       "      <th>2</th>\n",
       "      <td>The Newton Boys</td>\n",
       "      <td>1998.0</td>\n",
       "      <td>http://www.imdb.com/title/tt0120769</td>\n",
       "      <td>tt0120769</td>\n",
       "      <td>6.0</td>\n",
       "      <td>1.0</td>\n",
       "      <td>0.0</td>\n",
       "      <td>1.0</td>\n",
       "      <td>1.0</td>\n",
       "      <td>0.0</td>\n",
       "      <td>...</td>\n",
       "      <td>0.3</td>\n",
       "      <td>$27,000,000</td>\n",
       "      <td>$10,297,897</td>\n",
       "      <td>$</td>\n",
       "      <td>$</td>\n",
       "      <td>27000000.0</td>\n",
       "      <td>10297897.0</td>\n",
       "      <td>27000000.0</td>\n",
       "      <td>10297897.0</td>\n",
       "      <td>0.381404</td>\n",
       "    </tr>\n",
       "    <tr>\n",
       "      <th>3</th>\n",
       "      <td>Blue Thunder</td>\n",
       "      <td>1983.0</td>\n",
       "      <td>http://www.imdb.com/title/tt0085255</td>\n",
       "      <td>tt0085255</td>\n",
       "      <td>6.3</td>\n",
       "      <td>1.0</td>\n",
       "      <td>0.0</td>\n",
       "      <td>1.0</td>\n",
       "      <td>1.0</td>\n",
       "      <td>0.0</td>\n",
       "      <td>...</td>\n",
       "      <td>0.1</td>\n",
       "      <td>$22,000,000</td>\n",
       "      <td>$42,300,000</td>\n",
       "      <td>$</td>\n",
       "      <td>$</td>\n",
       "      <td>22000000.0</td>\n",
       "      <td>42300000.0</td>\n",
       "      <td>22000000.0</td>\n",
       "      <td>42300000.0</td>\n",
       "      <td>1.922727</td>\n",
       "    </tr>\n",
       "    <tr>\n",
       "      <th>4</th>\n",
       "      <td>Cleopatra Jones</td>\n",
       "      <td>1973.0</td>\n",
       "      <td>http://www.imdb.com/title/tt0069890</td>\n",
       "      <td>tt0069890</td>\n",
       "      <td>5.8</td>\n",
       "      <td>1.0</td>\n",
       "      <td>0.0</td>\n",
       "      <td>0.0</td>\n",
       "      <td>1.0</td>\n",
       "      <td>0.0</td>\n",
       "      <td>...</td>\n",
       "      <td>0.1</td>\n",
       "      <td>NaN</td>\n",
       "      <td>NaN</td>\n",
       "      <td>NaN</td>\n",
       "      <td>NaN</td>\n",
       "      <td>NaN</td>\n",
       "      <td>NaN</td>\n",
       "      <td>NaN</td>\n",
       "      <td>NaN</td>\n",
       "      <td>NaN</td>\n",
       "    </tr>\n",
       "    <tr>\n",
       "      <th>...</th>\n",
       "      <td>...</td>\n",
       "      <td>...</td>\n",
       "      <td>...</td>\n",
       "      <td>...</td>\n",
       "      <td>...</td>\n",
       "      <td>...</td>\n",
       "      <td>...</td>\n",
       "      <td>...</td>\n",
       "      <td>...</td>\n",
       "      <td>...</td>\n",
       "      <td>...</td>\n",
       "      <td>...</td>\n",
       "      <td>...</td>\n",
       "      <td>...</td>\n",
       "      <td>...</td>\n",
       "      <td>...</td>\n",
       "      <td>...</td>\n",
       "      <td>...</td>\n",
       "      <td>...</td>\n",
       "      <td>...</td>\n",
       "      <td>...</td>\n",
       "    </tr>\n",
       "    <tr>\n",
       "      <th>7112</th>\n",
       "      <td>Manos: The Hands of Fate</td>\n",
       "      <td>1966.0</td>\n",
       "      <td>http://www.imdb.com/title/tt0060666</td>\n",
       "      <td>tt0060666</td>\n",
       "      <td>1.9</td>\n",
       "      <td>0.0</td>\n",
       "      <td>0.0</td>\n",
       "      <td>0.0</td>\n",
       "      <td>0.0</td>\n",
       "      <td>0.0</td>\n",
       "      <td>...</td>\n",
       "      <td>2.1</td>\n",
       "      <td>$19,000</td>\n",
       "      <td>NaN</td>\n",
       "      <td>$</td>\n",
       "      <td>NaN</td>\n",
       "      <td>19000.0</td>\n",
       "      <td>NaN</td>\n",
       "      <td>19000.0</td>\n",
       "      <td>NaN</td>\n",
       "      <td>NaN</td>\n",
       "    </tr>\n",
       "    <tr>\n",
       "      <th>7113</th>\n",
       "      <td>United Passions</td>\n",
       "      <td>2014.0</td>\n",
       "      <td>http://www.imdb.com/title/tt2814362</td>\n",
       "      <td>tt2814362</td>\n",
       "      <td>2.0</td>\n",
       "      <td>0.0</td>\n",
       "      <td>0.0</td>\n",
       "      <td>1.0</td>\n",
       "      <td>0.0</td>\n",
       "      <td>0.0</td>\n",
       "      <td>...</td>\n",
       "      <td>2.2</td>\n",
       "      <td>$25,000,000</td>\n",
       "      <td>NaN</td>\n",
       "      <td>$</td>\n",
       "      <td>NaN</td>\n",
       "      <td>25000000.0</td>\n",
       "      <td>NaN</td>\n",
       "      <td>25000000.0</td>\n",
       "      <td>NaN</td>\n",
       "      <td>NaN</td>\n",
       "    </tr>\n",
       "    <tr>\n",
       "      <th>7114</th>\n",
       "      <td>The Starving Games</td>\n",
       "      <td>2013.0</td>\n",
       "      <td>http://www.imdb.com/title/tt2403029</td>\n",
       "      <td>tt2403029</td>\n",
       "      <td>3.3</td>\n",
       "      <td>0.0</td>\n",
       "      <td>1.0</td>\n",
       "      <td>0.0</td>\n",
       "      <td>0.0</td>\n",
       "      <td>0.0</td>\n",
       "      <td>...</td>\n",
       "      <td>3.2</td>\n",
       "      <td>$4,500,000</td>\n",
       "      <td>NaN</td>\n",
       "      <td>$</td>\n",
       "      <td>NaN</td>\n",
       "      <td>4500000.0</td>\n",
       "      <td>NaN</td>\n",
       "      <td>4500000.0</td>\n",
       "      <td>NaN</td>\n",
       "      <td>NaN</td>\n",
       "    </tr>\n",
       "    <tr>\n",
       "      <th>7115</th>\n",
       "      <td>Smokey and the Bandit Part 3</td>\n",
       "      <td>1983.0</td>\n",
       "      <td>http://www.imdb.com/title/tt0086325</td>\n",
       "      <td>tt0086325</td>\n",
       "      <td>3.2</td>\n",
       "      <td>0.0</td>\n",
       "      <td>1.0</td>\n",
       "      <td>0.0</td>\n",
       "      <td>1.0</td>\n",
       "      <td>0.0</td>\n",
       "      <td>...</td>\n",
       "      <td>4.6</td>\n",
       "      <td>NaN</td>\n",
       "      <td>NaN</td>\n",
       "      <td>NaN</td>\n",
       "      <td>NaN</td>\n",
       "      <td>NaN</td>\n",
       "      <td>NaN</td>\n",
       "      <td>NaN</td>\n",
       "      <td>NaN</td>\n",
       "      <td>NaN</td>\n",
       "    </tr>\n",
       "    <tr>\n",
       "      <th>7116</th>\n",
       "      <td>10 Rules for Sleeping Around</td>\n",
       "      <td>2013.0</td>\n",
       "      <td>http://www.imdb.com/title/tt1993391</td>\n",
       "      <td>tt1993391</td>\n",
       "      <td>3.7</td>\n",
       "      <td>0.0</td>\n",
       "      <td>1.0</td>\n",
       "      <td>0.0</td>\n",
       "      <td>0.0</td>\n",
       "      <td>0.0</td>\n",
       "      <td>...</td>\n",
       "      <td>3.6</td>\n",
       "      <td>$2,500,000</td>\n",
       "      <td>NaN</td>\n",
       "      <td>$</td>\n",
       "      <td>NaN</td>\n",
       "      <td>2500000.0</td>\n",
       "      <td>NaN</td>\n",
       "      <td>2500000.0</td>\n",
       "      <td>NaN</td>\n",
       "      <td>NaN</td>\n",
       "    </tr>\n",
       "  </tbody>\n",
       "</table>\n",
       "<p>7117 rows × 36 columns</p>\n",
       "</div>"
      ],
      "text/plain": [
       "                        IMDB_Title  IMDB_Year  \\\n",
       "0                  The Dogs of War     1980.0   \n",
       "1                  Spring Breakers     2012.0   \n",
       "2                  The Newton Boys     1998.0   \n",
       "3                     Blue Thunder     1983.0   \n",
       "4                  Cleopatra Jones     1973.0   \n",
       "...                            ...        ...   \n",
       "7112      Manos: The Hands of Fate     1966.0   \n",
       "7113               United Passions     2014.0   \n",
       "7114            The Starving Games     2013.0   \n",
       "7115  Smokey and the Bandit Part 3     1983.0   \n",
       "7116  10 Rules for Sleeping Around     2013.0   \n",
       "\n",
       "                                      URL    IMDB_ID  IMDB_User_Rating  \\\n",
       "0     http://www.imdb.com/title/tt0080641  tt0080641               6.3   \n",
       "1     http://www.imdb.com/title/tt2101441  tt2101441               5.3   \n",
       "2     http://www.imdb.com/title/tt0120769  tt0120769               6.0   \n",
       "3     http://www.imdb.com/title/tt0085255  tt0085255               6.3   \n",
       "4     http://www.imdb.com/title/tt0069890  tt0069890               5.8   \n",
       "...                                   ...        ...               ...   \n",
       "7112  http://www.imdb.com/title/tt0060666  tt0060666               1.9   \n",
       "7113  http://www.imdb.com/title/tt2814362  tt2814362               2.0   \n",
       "7114  http://www.imdb.com/title/tt2403029  tt2403029               3.3   \n",
       "7115  http://www.imdb.com/title/tt0086325  tt0086325               3.2   \n",
       "7116  http://www.imdb.com/title/tt1993391  tt1993391               3.7   \n",
       "\n",
       "      Action  Comedy  Drama  Crime  Fantasy    ...     Discrepancy  \\\n",
       "0        1.0     0.0    1.0    0.0      0.0    ...             0.1   \n",
       "1        1.0     0.0    1.0    1.0      0.0    ...             0.9   \n",
       "2        1.0     0.0    1.0    1.0      0.0    ...             0.3   \n",
       "3        1.0     0.0    1.0    1.0      0.0    ...             0.1   \n",
       "4        1.0     0.0    0.0    1.0      0.0    ...             0.1   \n",
       "...      ...     ...    ...    ...      ...    ...             ...   \n",
       "7112     0.0     0.0    0.0    0.0      0.0    ...             2.1   \n",
       "7113     0.0     0.0    1.0    0.0      0.0    ...             2.2   \n",
       "7114     0.0     1.0    0.0    0.0      0.0    ...             3.2   \n",
       "7115     0.0     1.0    0.0    1.0      0.0    ...             4.6   \n",
       "7116     0.0     1.0    0.0    0.0      0.0    ...             3.6   \n",
       "\n",
       "            budget         gross  budget_cur  gross_cur  budget_usd  \\\n",
       "0              NaN           NaN         NaN        NaN         NaN   \n",
       "1      $5,000,000   $14,123,773            $          $   5000000.0   \n",
       "2     $27,000,000   $10,297,897            $          $  27000000.0   \n",
       "3     $22,000,000   $42,300,000            $          $  22000000.0   \n",
       "4              NaN           NaN         NaN        NaN         NaN   \n",
       "...            ...           ...         ...        ...         ...   \n",
       "7112      $19,000            NaN           $        NaN     19000.0   \n",
       "7113  $25,000,000            NaN           $        NaN  25000000.0   \n",
       "7114   $4,500,000            NaN           $        NaN   4500000.0   \n",
       "7115           NaN           NaN         NaN        NaN         NaN   \n",
       "7116   $2,500,000            NaN           $        NaN   2500000.0   \n",
       "\n",
       "       gross_usd  budget_trueusd  gross_trueusd   success  \n",
       "0            NaN             NaN            NaN       NaN  \n",
       "1     14123773.0       5000000.0     14123773.0  2.824755  \n",
       "2     10297897.0      27000000.0     10297897.0  0.381404  \n",
       "3     42300000.0      22000000.0     42300000.0  1.922727  \n",
       "4            NaN             NaN            NaN       NaN  \n",
       "...          ...             ...            ...       ...  \n",
       "7112         NaN         19000.0            NaN       NaN  \n",
       "7113         NaN      25000000.0            NaN       NaN  \n",
       "7114         NaN       4500000.0            NaN       NaN  \n",
       "7115         NaN             NaN            NaN       NaN  \n",
       "7116         NaN       2500000.0            NaN       NaN  \n",
       "\n",
       "[7117 rows x 36 columns]"
      ]
     },
     "execution_count": 3,
     "metadata": {},
     "output_type": "execute_result"
    }
   ],
   "source": [
    "# import own data \n",
    "finalfinal_meta3 = pd.read_csv('finalfinal_meta3.csv', header=0,index_col=None, encoding='latin1')\n",
    "finalfinal_meta3"
   ]
  },
  {
   "cell_type": "markdown",
   "metadata": {},
   "source": [
    "## Exercise 3.1"
   ]
  },
  {
   "cell_type": "code",
   "execution_count": 13,
   "metadata": {
    "collapsed": false
   },
   "outputs": [
    {
     "data": {
      "text/html": [
       "<table class=\"simpletable\">\n",
       "<caption>OLS Regression Results</caption>\n",
       "<tr>\n",
       "  <th>Dep. Variable:</th>      <td>RT_Audience_2</td>  <th>  R-squared:         </th> <td>   0.000</td> \n",
       "</tr>\n",
       "<tr>\n",
       "  <th>Model:</th>                   <td>OLS</td>       <th>  Adj. R-squared:    </th> <td>   0.000</td> \n",
       "</tr>\n",
       "<tr>\n",
       "  <th>Method:</th>             <td>Least Squares</td>  <th>  F-statistic:       </th> <td>     inf</td> \n",
       "</tr>\n",
       "<tr>\n",
       "  <th>Date:</th>             <td>Sun, 16 Oct 2016</td> <th>  Prob (F-statistic):</th>  <td>   nan</td>  \n",
       "</tr>\n",
       "<tr>\n",
       "  <th>Time:</th>                 <td>17:45:04</td>     <th>  Log-Likelihood:    </th> <td> -8434.8</td> \n",
       "</tr>\n",
       "<tr>\n",
       "  <th>No. Observations:</th>      <td>  7117</td>      <th>  AIC:               </th> <td>1.687e+04</td>\n",
       "</tr>\n",
       "<tr>\n",
       "  <th>Df Residuals:</th>          <td>  7116</td>      <th>  BIC:               </th> <td>1.688e+04</td>\n",
       "</tr>\n",
       "<tr>\n",
       "  <th>Df Model:</th>              <td>     0</td>      <th>                     </th>     <td> </td>    \n",
       "</tr>\n",
       "<tr>\n",
       "  <th>Covariance Type:</th>      <td>nonrobust</td>    <th>                     </th>     <td> </td>    \n",
       "</tr>\n",
       "</table>\n",
       "<table class=\"simpletable\">\n",
       "<tr>\n",
       "    <td></td>       <th>coef</th>     <th>std err</th>      <th>t</th>      <th>P>|t|</th> <th>[95.0% Conf. Int.]</th> \n",
       "</tr>\n",
       "<tr>\n",
       "  <th>const</th> <td>    6.2062</td> <td>    0.009</td> <td>  661.412</td> <td> 0.000</td> <td>    6.188     6.225</td>\n",
       "</tr>\n",
       "</table>\n",
       "<table class=\"simpletable\">\n",
       "<tr>\n",
       "  <th>Omnibus:</th>       <td>45.785</td> <th>  Durbin-Watson:     </th> <td>   1.294</td>\n",
       "</tr>\n",
       "<tr>\n",
       "  <th>Prob(Omnibus):</th> <td> 0.000</td> <th>  Jarque-Bera (JB):  </th> <td>  58.261</td>\n",
       "</tr>\n",
       "<tr>\n",
       "  <th>Skew:</th>          <td>-0.107</td> <th>  Prob(JB):          </th> <td>2.23e-13</td>\n",
       "</tr>\n",
       "<tr>\n",
       "  <th>Kurtosis:</th>      <td> 3.388</td> <th>  Cond. No.          </th> <td>    1.00</td>\n",
       "</tr>\n",
       "</table>"
      ],
      "text/plain": [
       "<class 'statsmodels.iolib.summary.Summary'>\n",
       "\"\"\"\n",
       "                            OLS Regression Results                            \n",
       "==============================================================================\n",
       "Dep. Variable:          RT_Audience_2   R-squared:                       0.000\n",
       "Model:                            OLS   Adj. R-squared:                  0.000\n",
       "Method:                 Least Squares   F-statistic:                       inf\n",
       "Date:                Sun, 16 Oct 2016   Prob (F-statistic):                nan\n",
       "Time:                        17:45:04   Log-Likelihood:                -8434.8\n",
       "No. Observations:                7117   AIC:                         1.687e+04\n",
       "Df Residuals:                    7116   BIC:                         1.688e+04\n",
       "Df Model:                           0                                         \n",
       "Covariance Type:            nonrobust                                         \n",
       "==============================================================================\n",
       "                 coef    std err          t      P>|t|      [95.0% Conf. Int.]\n",
       "------------------------------------------------------------------------------\n",
       "const          6.2062      0.009    661.412      0.000         6.188     6.225\n",
       "==============================================================================\n",
       "Omnibus:                       45.785   Durbin-Watson:                   1.294\n",
       "Prob(Omnibus):                  0.000   Jarque-Bera (JB):               58.261\n",
       "Skew:                          -0.107   Prob(JB):                     2.23e-13\n",
       "Kurtosis:                       3.388   Cond. No.                         1.00\n",
       "==============================================================================\n",
       "\n",
       "Warnings:\n",
       "[1] Standard Errors assume that the covariance matrix of the errors is correctly specified.\n",
       "\"\"\""
      ]
     },
     "execution_count": 13,
     "metadata": {},
     "output_type": "execute_result"
    }
   ],
   "source": [
    "# Predict only using constant of ones in linear model \n",
    "\n",
    "y = finalfinal_meta3.RT_Audience_2\n",
    "X = np.ones([len(y),1])\n",
    "model = sm.OLS(y, X) \n",
    "fit = model.fit() \n",
    "fit.summary () "
   ]
  },
  {
   "cell_type": "markdown",
   "metadata": {},
   "source": [
    "As evident from the results above, the R^2 is 0, demonstrating that the model accounts for no variance in the outcome. This model demonstrates that average values of predictive variables (when all predictive variables are average in value) are associated with average Rotten Tomatoes user ratings."
   ]
  },
  {
   "cell_type": "code",
   "execution_count": 5,
   "metadata": {
    "collapsed": false
   },
   "outputs": [
    {
     "name": "stdout",
     "output_type": "stream",
     "text": [
      "0.0\n"
     ]
    }
   ],
   "source": [
    "y_pred = fit.predict(X)\n",
    "print(metrics.r2_score(y, y_pred))"
   ]
  },
  {
   "cell_type": "markdown",
   "metadata": {},
   "source": [
    "The 0 r-squared value demonstrates that we have not extracted any information from the model. "
   ]
  },
  {
   "cell_type": "code",
   "execution_count": 6,
   "metadata": {
    "collapsed": false
   },
   "outputs": [
    {
     "data": {
      "image/png": "[encoded data removed]",
      "text/plain": [
       "<matplotlib.figure.Figure at 0x11c4db278>"
      ]
     },
     "metadata": {},
     "output_type": "display_data"
    }
   ],
   "source": [
    "# Plot \n",
    "plt.scatter(y_pred, y, alpha = .3)\n",
    "plt.xlabel('Prediction of the Test Set')\n",
    "plt.ylabel('Actual Value in the Test Set');"
   ]
  },
  {
   "cell_type": "code",
   "execution_count": 7,
   "metadata": {
    "collapsed": false
   },
   "outputs": [
    {
     "data": {
      "image/png": "[encoded data removed]",
      "text/plain": [
       "<matplotlib.figure.Figure at 0x11c6edd30>"
      ]
     },
     "metadata": {},
     "output_type": "display_data"
    }
   ],
   "source": [
    "# Residual variables plot \n",
    "\n",
    "plt.hist(y_pred-y,bins = 50)\n",
    "plt.xlabel('residual value');"
   ]
  },
  {
   "cell_type": "markdown",
   "metadata": {},
   "source": [
    "The residuals are simply the distribution of the Z-scores of IMBD user ratings. "
   ]
  },
  {
   "cell_type": "markdown",
   "metadata": {},
   "source": [
    "## Exercise 3.2 "
   ]
  },
  {
   "cell_type": "code",
   "execution_count": 17,
   "metadata": {
    "collapsed": false
   },
   "outputs": [
    {
     "data": {
      "text/html": [
       "<table class=\"simpletable\">\n",
       "<caption>OLS Regression Results</caption>\n",
       "<tr>\n",
       "  <th>Dep. Variable:</th>      <td>RT_Audience_2</td>  <th>  R-squared:         </th> <td>   0.558</td> \n",
       "</tr>\n",
       "<tr>\n",
       "  <th>Model:</th>                   <td>OLS</td>       <th>  Adj. R-squared:    </th> <td>   0.558</td> \n",
       "</tr>\n",
       "<tr>\n",
       "  <th>Method:</th>             <td>Least Squares</td>  <th>  F-statistic:       </th> <td>   8971.</td> \n",
       "</tr>\n",
       "<tr>\n",
       "  <th>Date:</th>             <td>Sun, 16 Oct 2016</td> <th>  Prob (F-statistic):</th>  <td>  0.00</td>  \n",
       "</tr>\n",
       "<tr>\n",
       "  <th>Time:</th>                 <td>17:46:13</td>     <th>  Log-Likelihood:    </th> <td> -5531.9</td> \n",
       "</tr>\n",
       "<tr>\n",
       "  <th>No. Observations:</th>      <td>  7117</td>      <th>  AIC:               </th> <td>1.107e+04</td>\n",
       "</tr>\n",
       "<tr>\n",
       "  <th>Df Residuals:</th>          <td>  7115</td>      <th>  BIC:               </th> <td>1.108e+04</td>\n",
       "</tr>\n",
       "<tr>\n",
       "  <th>Df Model:</th>              <td>     1</td>      <th>                     </th>     <td> </td>    \n",
       "</tr>\n",
       "<tr>\n",
       "  <th>Covariance Type:</th>      <td>nonrobust</td>    <th>                     </th>     <td> </td>    \n",
       "</tr>\n",
       "</table>\n",
       "<table class=\"simpletable\">\n",
       "<tr>\n",
       "          <td></td>            <th>coef</th>     <th>std err</th>      <th>t</th>      <th>P>|t|</th> <th>[95.0% Conf. Int.]</th> \n",
       "</tr>\n",
       "<tr>\n",
       "  <th>bias</th>             <td>    2.3756</td> <td>    0.041</td> <td>   58.052</td> <td> 0.000</td> <td>    2.295     2.456</td>\n",
       "</tr>\n",
       "<tr>\n",
       "  <th>IMDB_User_Rating</th> <td>    0.6456</td> <td>    0.007</td> <td>   94.717</td> <td> 0.000</td> <td>    0.632     0.659</td>\n",
       "</tr>\n",
       "</table>\n",
       "<table class=\"simpletable\">\n",
       "<tr>\n",
       "  <th>Omnibus:</th>       <td>1326.099</td> <th>  Durbin-Watson:     </th> <td>   1.807</td>\n",
       "</tr>\n",
       "<tr>\n",
       "  <th>Prob(Omnibus):</th>  <td> 0.000</td>  <th>  Jarque-Bera (JB):  </th> <td>5371.642</td>\n",
       "</tr>\n",
       "<tr>\n",
       "  <th>Skew:</th>           <td> 0.874</td>  <th>  Prob(JB):          </th> <td>    0.00</td>\n",
       "</tr>\n",
       "<tr>\n",
       "  <th>Kurtosis:</th>       <td> 6.880</td>  <th>  Cond. No.          </th> <td>    40.4</td>\n",
       "</tr>\n",
       "</table>"
      ],
      "text/plain": [
       "<class 'statsmodels.iolib.summary.Summary'>\n",
       "\"\"\"\n",
       "                            OLS Regression Results                            \n",
       "==============================================================================\n",
       "Dep. Variable:          RT_Audience_2   R-squared:                       0.558\n",
       "Model:                            OLS   Adj. R-squared:                  0.558\n",
       "Method:                 Least Squares   F-statistic:                     8971.\n",
       "Date:                Sun, 16 Oct 2016   Prob (F-statistic):               0.00\n",
       "Time:                        17:46:13   Log-Likelihood:                -5531.9\n",
       "No. Observations:                7117   AIC:                         1.107e+04\n",
       "Df Residuals:                    7115   BIC:                         1.108e+04\n",
       "Df Model:                           1                                         \n",
       "Covariance Type:            nonrobust                                         \n",
       "====================================================================================\n",
       "                       coef    std err          t      P>|t|      [95.0% Conf. Int.]\n",
       "------------------------------------------------------------------------------------\n",
       "bias                 2.3756      0.041     58.052      0.000         2.295     2.456\n",
       "IMDB_User_Rating     0.6456      0.007     94.717      0.000         0.632     0.659\n",
       "==============================================================================\n",
       "Omnibus:                     1326.099   Durbin-Watson:                   1.807\n",
       "Prob(Omnibus):                  0.000   Jarque-Bera (JB):             5371.642\n",
       "Skew:                           0.874   Prob(JB):                         0.00\n",
       "Kurtosis:                       6.880   Cond. No.                         40.4\n",
       "==============================================================================\n",
       "\n",
       "Warnings:\n",
       "[1] Standard Errors assume that the covariance matrix of the errors is correctly specified.\n",
       "\"\"\""
      ]
     },
     "execution_count": 17,
     "metadata": {},
     "output_type": "execute_result"
    }
   ],
   "source": [
    "y = finalfinal_meta3.RT_Audience_2\n",
    "ones = (finalfinal_meta3.Action*0+1)\n",
    "ones = ones.rename('bias')\n",
    "X = pd.concat([ones, finalfinal_meta3.IMDB_User_Rating], axis=1)\n",
    "model = sm.OLS(y, X) \n",
    "fit = model.fit()\n",
    "fit.summary()"
   ]
  },
  {
   "cell_type": "code",
   "execution_count": 18,
   "metadata": {
    "collapsed": false
   },
   "outputs": [
    {
     "name": "stdout",
     "output_type": "stream",
     "text": [
      "0.557700117772\n"
     ]
    }
   ],
   "source": [
    "y_pred = fit.predict(X)\n",
    "print(metrics.r2_score(y, y_pred))"
   ]
  },
  {
   "cell_type": "markdown",
   "metadata": {},
   "source": [
    "As demonstrated, the r-squared score is improved. "
   ]
  },
  {
   "cell_type": "code",
   "execution_count": 19,
   "metadata": {
    "collapsed": false
   },
   "outputs": [
    {
     "data": {
      "image/png": "[encoded data removed]",
      "text/plain": [
       "<matplotlib.figure.Figure at 0x12148e438>"
      ]
     },
     "metadata": {},
     "output_type": "display_data"
    }
   ],
   "source": [
    "# Linear plot of Feature Variable and Target Variable \n",
    "plt.scatter(X.iloc[:,1], y_pred, alpha = .3)\n",
    "plt.xlabel('Feature Variable')\n",
    "plt.ylabel('Target Variable');"
   ]
  },
  {
   "cell_type": "code",
   "execution_count": 21,
   "metadata": {
    "collapsed": false
   },
   "outputs": [
    {
     "data": {
      "image/png": "[encoded data removed]",
      "text/plain": [
       "<matplotlib.figure.Figure at 0x11d2c04a8>"
      ]
     },
     "metadata": {},
     "output_type": "display_data"
    }
   ],
   "source": [
    "# Residual Plots \n",
    "\n",
    "plt.figure(figsize=(15, 5))\n",
    "plt.subplot(1,2,1)\n",
    "plt.plot(X.iloc[:,1],X.iloc[:,1]*0,alpha = .5)\n",
    "plt.scatter(X.iloc[:,1], y_pred-y, alpha = .3)\n",
    "plt.xlabel('Feature Variable')\n",
    "plt.ylabel('Residual')\n",
    "plt.xlim([-2.8,2.5])\n",
    "plt.title('Residual Plot');\n",
    "\n",
    "plt.subplot(1,2,2)\n",
    "plt.hist(y_pred-y,bins = 50)\n",
    "plt.xlabel('Feature Variable')\n",
    "plt.ylabel('Residual')\n",
    "plt.xlim([-2.8,2.5])\n",
    "plt.title('Residual Histogram');"
   ]
  },
  {
   "cell_type": "markdown",
   "metadata": {},
   "source": [
    "The residual looks much more normally distributed. "
   ]
  },
  {
   "cell_type": "markdown",
   "metadata": {},
   "source": [
    "## Exercise 3.3 "
   ]
  },
  {
   "cell_type": "code",
   "execution_count": 47,
   "metadata": {
    "collapsed": false
   },
   "outputs": [
    {
     "data": {
      "text/html": [
       "<table class=\"simpletable\">\n",
       "<caption>OLS Regression Results</caption>\n",
       "<tr>\n",
       "  <th>Dep. Variable:</th>      <td>RT_Audience_2</td>  <th>  R-squared:         </th> <td>   0.558</td> \n",
       "</tr>\n",
       "<tr>\n",
       "  <th>Model:</th>                   <td>OLS</td>       <th>  Adj. R-squared:    </th> <td>   0.558</td> \n",
       "</tr>\n",
       "<tr>\n",
       "  <th>Method:</th>             <td>Least Squares</td>  <th>  F-statistic:       </th> <td>   4495.</td> \n",
       "</tr>\n",
       "<tr>\n",
       "  <th>Date:</th>             <td>Sun, 16 Oct 2016</td> <th>  Prob (F-statistic):</th>  <td>  0.00</td>  \n",
       "</tr>\n",
       "<tr>\n",
       "  <th>Time:</th>                 <td>17:57:20</td>     <th>  Log-Likelihood:    </th> <td> -5527.7</td> \n",
       "</tr>\n",
       "<tr>\n",
       "  <th>No. Observations:</th>      <td>  7117</td>      <th>  AIC:               </th> <td>1.106e+04</td>\n",
       "</tr>\n",
       "<tr>\n",
       "  <th>Df Residuals:</th>          <td>  7114</td>      <th>  BIC:               </th> <td>1.108e+04</td>\n",
       "</tr>\n",
       "<tr>\n",
       "  <th>Df Model:</th>              <td>     2</td>      <th>                     </th>     <td> </td>    \n",
       "</tr>\n",
       "<tr>\n",
       "  <th>Covariance Type:</th>      <td>nonrobust</td>    <th>                     </th>     <td> </td>    \n",
       "</tr>\n",
       "</table>\n",
       "<table class=\"simpletable\">\n",
       "<tr>\n",
       "          <td></td>            <th>coef</th>     <th>std err</th>      <th>t</th>      <th>P>|t|</th> <th>[95.0% Conf. Int.]</th> \n",
       "</tr>\n",
       "<tr>\n",
       "  <th>bias</th>             <td>    2.3755</td> <td>    0.041</td> <td>   58.082</td> <td> 0.000</td> <td>    2.295     2.456</td>\n",
       "</tr>\n",
       "<tr>\n",
       "  <th>IMDB_User_Rating</th> <td>    0.6444</td> <td>    0.007</td> <td>   94.410</td> <td> 0.000</td> <td>    0.631     0.658</td>\n",
       "</tr>\n",
       "<tr>\n",
       "  <th>Romance</th>          <td>    0.0526</td> <td>    0.018</td> <td>    2.899</td> <td> 0.004</td> <td>    0.017     0.088</td>\n",
       "</tr>\n",
       "</table>\n",
       "<table class=\"simpletable\">\n",
       "<tr>\n",
       "  <th>Omnibus:</th>       <td>1327.226</td> <th>  Durbin-Watson:     </th> <td>   1.808</td>\n",
       "</tr>\n",
       "<tr>\n",
       "  <th>Prob(Omnibus):</th>  <td> 0.000</td>  <th>  Jarque-Bera (JB):  </th> <td>5389.908</td>\n",
       "</tr>\n",
       "<tr>\n",
       "  <th>Skew:</th>           <td> 0.874</td>  <th>  Prob(JB):          </th> <td>    0.00</td>\n",
       "</tr>\n",
       "<tr>\n",
       "  <th>Kurtosis:</th>       <td> 6.888</td>  <th>  Cond. No.          </th> <td>    40.4</td>\n",
       "</tr>\n",
       "</table>"
      ],
      "text/plain": [
       "<class 'statsmodels.iolib.summary.Summary'>\n",
       "\"\"\"\n",
       "                            OLS Regression Results                            \n",
       "==============================================================================\n",
       "Dep. Variable:          RT_Audience_2   R-squared:                       0.558\n",
       "Model:                            OLS   Adj. R-squared:                  0.558\n",
       "Method:                 Least Squares   F-statistic:                     4495.\n",
       "Date:                Sun, 16 Oct 2016   Prob (F-statistic):               0.00\n",
       "Time:                        17:57:20   Log-Likelihood:                -5527.7\n",
       "No. Observations:                7117   AIC:                         1.106e+04\n",
       "Df Residuals:                    7114   BIC:                         1.108e+04\n",
       "Df Model:                           2                                         \n",
       "Covariance Type:            nonrobust                                         \n",
       "====================================================================================\n",
       "                       coef    std err          t      P>|t|      [95.0% Conf. Int.]\n",
       "------------------------------------------------------------------------------------\n",
       "bias                 2.3755      0.041     58.082      0.000         2.295     2.456\n",
       "IMDB_User_Rating     0.6444      0.007     94.410      0.000         0.631     0.658\n",
       "Romance              0.0526      0.018      2.899      0.004         0.017     0.088\n",
       "==============================================================================\n",
       "Omnibus:                     1327.226   Durbin-Watson:                   1.808\n",
       "Prob(Omnibus):                  0.000   Jarque-Bera (JB):             5389.908\n",
       "Skew:                           0.874   Prob(JB):                         0.00\n",
       "Kurtosis:                       6.888   Cond. No.                         40.4\n",
       "==============================================================================\n",
       "\n",
       "Warnings:\n",
       "[1] Standard Errors assume that the covariance matrix of the errors is correctly specified.\n",
       "\"\"\""
      ]
     },
     "execution_count": 47,
     "metadata": {},
     "output_type": "execute_result"
    }
   ],
   "source": [
    "# Movie genre (Action) as categorical variable \n",
    "\n",
    "y = finalfinal_meta3.RT_Audience_2\n",
    "ones = (finalfinal_meta3.IMDB_User_Rating*0+1)\n",
    "ones = ones.rename('bias')\n",
    "X = pd.concat([ones,finalfinal_meta3.IMDB_User_Rating, finalfinal_meta3.Romance], axis=1)\n",
    "model = sm.OLS(y, X) \n",
    "fit = model.fit()\n",
    "fit.summary()"
   ]
  },
  {
   "cell_type": "markdown",
   "metadata": {},
   "source": [
    "The categorical variable (Romance) was significant. "
   ]
  },
  {
   "cell_type": "code",
   "execution_count": 48,
   "metadata": {
    "collapsed": false
   },
   "outputs": [
    {
     "name": "stdout",
     "output_type": "stream",
     "text": [
      "0.558222087141\n"
     ]
    }
   ],
   "source": [
    "y_pred = fit.predict(X)\n",
    "print(metrics.r2_score(y, y_pred))"
   ]
  },
  {
   "cell_type": "markdown",
   "metadata": {},
   "source": [
    "Given Romance was a significant feature, it improved our model a bit. "
   ]
  },
  {
   "cell_type": "markdown",
   "metadata": {},
   "source": [
    "## Exercise 3.4"
   ]
  },
  {
   "cell_type": "code",
   "execution_count": 53,
   "metadata": {
    "collapsed": false
   },
   "outputs": [
    {
     "data": {
      "text/html": [
       "<table class=\"simpletable\">\n",
       "<caption>OLS Regression Results</caption>\n",
       "<tr>\n",
       "  <th>Dep. Variable:</th>      <td>RT_Audience_2</td>  <th>  R-squared:         </th> <td>   0.990</td> \n",
       "</tr>\n",
       "<tr>\n",
       "  <th>Model:</th>                   <td>OLS</td>       <th>  Adj. R-squared:    </th> <td>   0.990</td> \n",
       "</tr>\n",
       "<tr>\n",
       "  <th>Method:</th>             <td>Least Squares</td>  <th>  F-statistic:       </th> <td>1.697e+05</td>\n",
       "</tr>\n",
       "<tr>\n",
       "  <th>Date:</th>             <td>Sun, 16 Oct 2016</td> <th>  Prob (F-statistic):</th>  <td>  0.00</td>  \n",
       "</tr>\n",
       "<tr>\n",
       "  <th>Time:</th>                 <td>18:01:55</td>     <th>  Log-Likelihood:    </th> <td> -6889.8</td> \n",
       "</tr>\n",
       "<tr>\n",
       "  <th>No. Observations:</th>      <td>  7117</td>      <th>  AIC:               </th> <td>1.379e+04</td>\n",
       "</tr>\n",
       "<tr>\n",
       "  <th>Df Residuals:</th>          <td>  7113</td>      <th>  BIC:               </th> <td>1.382e+04</td>\n",
       "</tr>\n",
       "<tr>\n",
       "  <th>Df Model:</th>              <td>     4</td>      <th>                     </th>     <td> </td>    \n",
       "</tr>\n",
       "<tr>\n",
       "  <th>Covariance Type:</th>      <td>nonrobust</td>    <th>                     </th>     <td> </td>    \n",
       "</tr>\n",
       "</table>\n",
       "<table class=\"simpletable\">\n",
       "<tr>\n",
       "          <td></td>            <th>coef</th>     <th>std err</th>      <th>t</th>      <th>P>|t|</th> <th>[95.0% Conf. Int.]</th> \n",
       "</tr>\n",
       "<tr>\n",
       "  <th>IMDB_User_Rating</th> <td>    1.0302</td> <td>    0.002</td> <td>  642.123</td> <td> 0.000</td> <td>    1.027     1.033</td>\n",
       "</tr>\n",
       "<tr>\n",
       "  <th>Action</th>           <td>    0.0973</td> <td>    0.019</td> <td>    5.171</td> <td> 0.000</td> <td>    0.060     0.134</td>\n",
       "</tr>\n",
       "<tr>\n",
       "  <th>Romance</th>          <td>    0.0748</td> <td>    0.022</td> <td>    3.339</td> <td> 0.001</td> <td>    0.031     0.119</td>\n",
       "</tr>\n",
       "<tr>\n",
       "  <th>Fantasy</th>          <td>    0.0845</td> <td>    0.024</td> <td>    3.464</td> <td> 0.001</td> <td>    0.037     0.132</td>\n",
       "</tr>\n",
       "</table>\n",
       "<table class=\"simpletable\">\n",
       "<tr>\n",
       "  <th>Omnibus:</th>       <td>2303.825</td> <th>  Durbin-Watson:     </th> <td>   1.615</td> \n",
       "</tr>\n",
       "<tr>\n",
       "  <th>Prob(Omnibus):</th>  <td> 0.000</td>  <th>  Jarque-Bera (JB):  </th> <td>14292.948</td>\n",
       "</tr>\n",
       "<tr>\n",
       "  <th>Skew:</th>           <td> 1.407</td>  <th>  Prob(JB):          </th> <td>    0.00</td> \n",
       "</tr>\n",
       "<tr>\n",
       "  <th>Kurtosis:</th>       <td> 9.347</td>  <th>  Cond. No.          </th> <td>    19.4</td> \n",
       "</tr>\n",
       "</table>"
      ],
      "text/plain": [
       "<class 'statsmodels.iolib.summary.Summary'>\n",
       "\"\"\"\n",
       "                            OLS Regression Results                            \n",
       "==============================================================================\n",
       "Dep. Variable:          RT_Audience_2   R-squared:                       0.990\n",
       "Model:                            OLS   Adj. R-squared:                  0.990\n",
       "Method:                 Least Squares   F-statistic:                 1.697e+05\n",
       "Date:                Sun, 16 Oct 2016   Prob (F-statistic):               0.00\n",
       "Time:                        18:01:55   Log-Likelihood:                -6889.8\n",
       "No. Observations:                7117   AIC:                         1.379e+04\n",
       "Df Residuals:                    7113   BIC:                         1.382e+04\n",
       "Df Model:                           4                                         \n",
       "Covariance Type:            nonrobust                                         \n",
       "====================================================================================\n",
       "                       coef    std err          t      P>|t|      [95.0% Conf. Int.]\n",
       "------------------------------------------------------------------------------------\n",
       "IMDB_User_Rating     1.0302      0.002    642.123      0.000         1.027     1.033\n",
       "Action               0.0973      0.019      5.171      0.000         0.060     0.134\n",
       "Romance              0.0748      0.022      3.339      0.001         0.031     0.119\n",
       "Fantasy              0.0845      0.024      3.464      0.001         0.037     0.132\n",
       "==============================================================================\n",
       "Omnibus:                     2303.825   Durbin-Watson:                   1.615\n",
       "Prob(Omnibus):                  0.000   Jarque-Bera (JB):            14292.948\n",
       "Skew:                           1.407   Prob(JB):                         0.00\n",
       "Kurtosis:                       9.347   Cond. No.                         19.4\n",
       "==============================================================================\n",
       "\n",
       "Warnings:\n",
       "[1] Standard Errors assume that the covariance matrix of the errors is correctly specified.\n",
       "\"\"\""
      ]
     },
     "execution_count": 53,
     "metadata": {},
     "output_type": "execute_result"
    }
   ],
   "source": [
    "# Improving the model \n",
    "\n",
    "y = finalfinal_meta3.RT_Audience_2\n",
    "X = pd.concat([finalfinal_meta3.IMDB_User_Rating, finalfinal_meta3.Action, finalfinal_meta3.Romance,finalfinal_meta3.Fantasy], axis=1)\n",
    "model = sm.OLS(y, X) \n",
    "fit = model.fit()\n",
    "fit.summary()"
   ]
  },
  {
   "cell_type": "markdown",
   "metadata": {},
   "source": [
    "The r-squared value significanlty improved with additional feature variables. "
   ]
  },
  {
   "cell_type": "code",
   "execution_count": 55,
   "metadata": {
    "collapsed": false
   },
   "outputs": [
    {
     "data": {
      "image/png": "[encoded data removed]",
      "text/plain": [
       "<matplotlib.figure.Figure at 0x121f39b38>"
      ]
     },
     "metadata": {},
     "output_type": "display_data"
    }
   ],
   "source": [
    "# Plots of Residual \n",
    "\n",
    "plt.figure(figsize=(15, 5))\n",
    "plt.subplot(1,2,1)\n",
    "plt.scatter(X.iloc[:,1], y_pred-y,alpha = .3)\n",
    "plt.plot(X.iloc[:,1],X.iloc[:,1]*0,alpha = .5)\n",
    "plt.xlabel('Feature Variable')\n",
    "plt.ylabel('Residual')\n",
    "plt.xlim([-2.8,2.5])\n",
    "plt.title('Residual Plot');\n",
    "\n",
    "plt.subplot(1,2,2)\n",
    "plt.hist(y_pred-y,bins = 50)\n",
    "plt.xlabel('Feature Variable')\n",
    "plt.ylabel('Residual')\n",
    "plt.xlim([-2.8,2.5])\n",
    "plt.title('Residual Histogram');"
   ]
  },
  {
   "cell_type": "markdown",
   "metadata": {},
   "source": [
    "Again, as evident from the plots, the residuals are normally distributed. "
   ]
  },
  {
   "cell_type": "markdown",
   "metadata": {},
   "source": [
    "## Exercise 3.5"
   ]
  },
  {
   "cell_type": "code",
   "execution_count": 56,
   "metadata": {
    "collapsed": true
   },
   "outputs": [],
   "source": [
    "X_train, X_test, y_train, y_test = train_test_split(X, y, test_size=0.25)"
   ]
  },
  {
   "cell_type": "code",
   "execution_count": 59,
   "metadata": {
    "collapsed": false
   },
   "outputs": [],
   "source": [
    "lreg = LinearRegression()\n",
    "lreg.fit(X_train,y_train)\n",
    "lreg.score(X_test, y_test)\n",
    "\n",
    "model1 = lreg"
   ]
  },
  {
   "cell_type": "code",
   "execution_count": 62,
   "metadata": {
    "collapsed": false
   },
   "outputs": [
    {
     "data": {
      "text/plain": [
       "<matplotlib.collections.PathCollection at 0x11d1d4860>"
      ]
     },
     "execution_count": 62,
     "metadata": {},
     "output_type": "execute_result"
    },
    {
     "data": {
      "image/png": "[encoded data removed]",
      "text/plain": [
       "<matplotlib.figure.Figure at 0x12132c1d0>"
      ]
     },
     "metadata": {},
     "output_type": "display_data"
    }
   ],
   "source": [
    "plt.figure(figsize=(7,7))\n",
    "plt.title('Observed vs. Predicted Audience Ratings', fontsize=15)\n",
    "plt.ylim(0,10)\n",
    "plt.xlim(0,10)\n",
    "plt.xlabel('Observed Audience Ratings')\n",
    "plt.ylabel ('Predicted Audience Ratings')\n",
    "plt.scatter(y_test, y_predict)"
   ]
  }
 ],
 "metadata": {
  "kernelspec": {
   "display_name": "Python 3",
   "language": "python",
   "name": "python3"
  },
  "language_info": {
   "codemirror_mode": {
    "name": "ipython",
    "version": 3
   },
   "file_extension": ".py",
   "mimetype": "text/x-python",
   "name": "python",
   "nbconvert_exporter": "python",
   "pygments_lexer": "ipython3",
   "version": "3.4.4"
  }
 },
 "nbformat": 4,
 "nbformat_minor": 0
}
