{
 "cells": [
  {
   "cell_type": "code",
   "execution_count": 367,
   "metadata": {
    "collapsed": false
   },
   "outputs": [],
   "source": [
    "import numpy as np\n",
    "import pandas as pd\n",
    "import matplotlib as plt\n",
    "import statsmodels.api as sm\n",
    "import statsmodels.formula.api as smf\n",
    "import patsy\n",
    "import seaborn as sns\n",
    "from seaborn import plt\n",
    "from sklearn.linear_model import LinearRegression\n",
    "from sklearn.cross_validation import train_test_split\n",
    "from sklearn.linear_model import RidgeCV\n",
    "\n",
    "%matplotlib inline"
   ]
  },
  {
   "cell_type": "code",
   "execution_count": 368,
   "metadata": {
    "collapsed": false
   },
   "outputs": [],
   "source": [
    "####Exercise 3.1\n",
    "\n",
    "#Build a linear model that uses only a constant term (a column of ones) to predict a continuous outcome \n",
    "#(like domestic total gross). How can you interpret the results of this model? What does it predict? \n",
    "#Make a plot of predictions against actual outcome. Make a histogram of residuals. How are the residuals distributed?"
   ]
  },
  {
   "cell_type": "code",
   "execution_count": 369,
   "metadata": {
    "collapsed": false
   },
   "outputs": [
    {
     "data": {
      "text/html": [
       "<div>\n",
       "<table border=\"1\" class=\"dataframe\">\n",
       "  <thead>\n",
       "    <tr style=\"text-align: right;\">\n",
       "      <th></th>\n",
       "      <th>Title</th>\n",
       "      <th>Budget</th>\n",
       "      <th>DomesticTotalGross</th>\n",
       "      <th>Director</th>\n",
       "      <th>Rating</th>\n",
       "      <th>Runtime</th>\n",
       "      <th>ReleaseDate</th>\n",
       "    </tr>\n",
       "  </thead>\n",
       "  <tbody>\n",
       "    <tr>\n",
       "      <th>0</th>\n",
       "      <td>The Hunger Games: Catching Fire</td>\n",
       "      <td>130000000.0</td>\n",
       "      <td>424668047</td>\n",
       "      <td>Francis Lawrence</td>\n",
       "      <td>PG-13</td>\n",
       "      <td>146</td>\n",
       "      <td>11/22/13 0:00</td>\n",
       "    </tr>\n",
       "    <tr>\n",
       "      <th>1</th>\n",
       "      <td>Iron Man 3</td>\n",
       "      <td>200000000.0</td>\n",
       "      <td>409013994</td>\n",
       "      <td>Shane Black</td>\n",
       "      <td>PG-13</td>\n",
       "      <td>129</td>\n",
       "      <td>5/3/13 0:00</td>\n",
       "    </tr>\n",
       "    <tr>\n",
       "      <th>2</th>\n",
       "      <td>Frozen</td>\n",
       "      <td>150000000.0</td>\n",
       "      <td>400738009</td>\n",
       "      <td>Chris BuckJennifer Lee</td>\n",
       "      <td>PG</td>\n",
       "      <td>108</td>\n",
       "      <td>11/22/13 0:00</td>\n",
       "    </tr>\n",
       "    <tr>\n",
       "      <th>3</th>\n",
       "      <td>Despicable Me 2</td>\n",
       "      <td>76000000.0</td>\n",
       "      <td>368061265</td>\n",
       "      <td>Pierre CoffinChris Renaud</td>\n",
       "      <td>PG</td>\n",
       "      <td>98</td>\n",
       "      <td>7/3/13 0:00</td>\n",
       "    </tr>\n",
       "    <tr>\n",
       "      <th>4</th>\n",
       "      <td>Man of Steel</td>\n",
       "      <td>225000000.0</td>\n",
       "      <td>291045518</td>\n",
       "      <td>Zack Snyder</td>\n",
       "      <td>PG-13</td>\n",
       "      <td>143</td>\n",
       "      <td>6/14/13 0:00</td>\n",
       "    </tr>\n",
       "    <tr>\n",
       "      <th>5</th>\n",
       "      <td>Gravity</td>\n",
       "      <td>100000000.0</td>\n",
       "      <td>274092705</td>\n",
       "      <td>Alfonso Cuaron</td>\n",
       "      <td>PG-13</td>\n",
       "      <td>91</td>\n",
       "      <td>10/4/13 0:00</td>\n",
       "    </tr>\n",
       "    <tr>\n",
       "      <th>8</th>\n",
       "      <td>Fast &amp; Furious 6</td>\n",
       "      <td>160000000.0</td>\n",
       "      <td>238679850</td>\n",
       "      <td>Justin Lin</td>\n",
       "      <td>PG-13</td>\n",
       "      <td>130</td>\n",
       "      <td>5/24/13 0:00</td>\n",
       "    </tr>\n",
       "    <tr>\n",
       "      <th>9</th>\n",
       "      <td>Oz The Great and Powerful</td>\n",
       "      <td>215000000.0</td>\n",
       "      <td>234911825</td>\n",
       "      <td>Sam Raimi</td>\n",
       "      <td>PG</td>\n",
       "      <td>127</td>\n",
       "      <td>3/8/13 0:00</td>\n",
       "    </tr>\n",
       "    <tr>\n",
       "      <th>10</th>\n",
       "      <td>Star Trek Into Darkness</td>\n",
       "      <td>190000000.0</td>\n",
       "      <td>228778661</td>\n",
       "      <td>J.J. Abrams</td>\n",
       "      <td>PG-13</td>\n",
       "      <td>123</td>\n",
       "      <td>5/16/13 0:00</td>\n",
       "    </tr>\n",
       "    <tr>\n",
       "      <th>11</th>\n",
       "      <td>Thor: The Dark World</td>\n",
       "      <td>170000000.0</td>\n",
       "      <td>206362140</td>\n",
       "      <td>Alan Taylor</td>\n",
       "      <td>PG-13</td>\n",
       "      <td>120</td>\n",
       "      <td>11/8/13 0:00</td>\n",
       "    </tr>\n",
       "    <tr>\n",
       "      <th>12</th>\n",
       "      <td>World War Z</td>\n",
       "      <td>190000000.0</td>\n",
       "      <td>202359711</td>\n",
       "      <td>Marc Forster</td>\n",
       "      <td>PG-13</td>\n",
       "      <td>116</td>\n",
       "      <td>6/21/13 0:00</td>\n",
       "    </tr>\n",
       "    <tr>\n",
       "      <th>13</th>\n",
       "      <td>The Croods</td>\n",
       "      <td>135000000.0</td>\n",
       "      <td>187168425</td>\n",
       "      <td>Kirk De MiccoChris Sanders</td>\n",
       "      <td>PG</td>\n",
       "      <td>98</td>\n",
       "      <td>3/22/13 0:00</td>\n",
       "    </tr>\n",
       "    <tr>\n",
       "      <th>14</th>\n",
       "      <td>The Heat</td>\n",
       "      <td>43000000.0</td>\n",
       "      <td>159582188</td>\n",
       "      <td>Paul Feig</td>\n",
       "      <td>R</td>\n",
       "      <td>117</td>\n",
       "      <td>6/28/13 0:00</td>\n",
       "    </tr>\n",
       "    <tr>\n",
       "      <th>15</th>\n",
       "      <td>We're the Millers</td>\n",
       "      <td>37000000.0</td>\n",
       "      <td>150394119</td>\n",
       "      <td>Rawson Marshall Thurber</td>\n",
       "      <td>R</td>\n",
       "      <td>110</td>\n",
       "      <td>8/7/13 0:00</td>\n",
       "    </tr>\n",
       "    <tr>\n",
       "      <th>16</th>\n",
       "      <td>American Hustle</td>\n",
       "      <td>40000000.0</td>\n",
       "      <td>150117807</td>\n",
       "      <td>David O. Russell</td>\n",
       "      <td>R</td>\n",
       "      <td>138</td>\n",
       "      <td>12/13/13 0:00</td>\n",
       "    </tr>\n",
       "    <tr>\n",
       "      <th>17</th>\n",
       "      <td>The Great Gatsby</td>\n",
       "      <td>105000000.0</td>\n",
       "      <td>144840419</td>\n",
       "      <td>Baz Luhrmann</td>\n",
       "      <td>PG-13</td>\n",
       "      <td>143</td>\n",
       "      <td>5/10/13 0:00</td>\n",
       "    </tr>\n",
       "    <tr>\n",
       "      <th>18</th>\n",
       "      <td>The Conjuring</td>\n",
       "      <td>20000000.0</td>\n",
       "      <td>137400141</td>\n",
       "      <td>James Wan</td>\n",
       "      <td>R</td>\n",
       "      <td>112</td>\n",
       "      <td>7/19/13 0:00</td>\n",
       "    </tr>\n",
       "    <tr>\n",
       "      <th>19</th>\n",
       "      <td>Identity Thief</td>\n",
       "      <td>35000000.0</td>\n",
       "      <td>134506920</td>\n",
       "      <td>Seth Gordon</td>\n",
       "      <td>R</td>\n",
       "      <td>111</td>\n",
       "      <td>2/8/13 0:00</td>\n",
       "    </tr>\n",
       "    <tr>\n",
       "      <th>20</th>\n",
       "      <td>Grown Ups 2</td>\n",
       "      <td>80000000.0</td>\n",
       "      <td>133668525</td>\n",
       "      <td>Dennis Dugan</td>\n",
       "      <td>PG-13</td>\n",
       "      <td>101</td>\n",
       "      <td>7/12/13 0:00</td>\n",
       "    </tr>\n",
       "    <tr>\n",
       "      <th>21</th>\n",
       "      <td>The Wolverine</td>\n",
       "      <td>120000000.0</td>\n",
       "      <td>132556852</td>\n",
       "      <td>James Mangold</td>\n",
       "      <td>PG-13</td>\n",
       "      <td>126</td>\n",
       "      <td>7/26/13 0:00</td>\n",
       "    </tr>\n",
       "    <tr>\n",
       "      <th>22</th>\n",
       "      <td>Anchorman 2: The Legend Continues</td>\n",
       "      <td>50000000.0</td>\n",
       "      <td>125168368</td>\n",
       "      <td>Adam McKay</td>\n",
       "      <td>PG-13</td>\n",
       "      <td>119</td>\n",
       "      <td>12/18/13 0:00</td>\n",
       "    </tr>\n",
       "    <tr>\n",
       "      <th>23</th>\n",
       "      <td>Lone Survivor</td>\n",
       "      <td>40000000.0</td>\n",
       "      <td>125095601</td>\n",
       "      <td>Peter Berg</td>\n",
       "      <td>R</td>\n",
       "      <td>121</td>\n",
       "      <td>12/25/13 0:00</td>\n",
       "    </tr>\n",
       "    <tr>\n",
       "      <th>24</th>\n",
       "      <td>G.I. Joe: Retaliation</td>\n",
       "      <td>130000000.0</td>\n",
       "      <td>122523060</td>\n",
       "      <td>Jon Chu</td>\n",
       "      <td>PG-13</td>\n",
       "      <td>99</td>\n",
       "      <td>3/28/13 0:00</td>\n",
       "    </tr>\n",
       "    <tr>\n",
       "      <th>25</th>\n",
       "      <td>Cloudy with a Chance of Meatballs 2</td>\n",
       "      <td>78000000.0</td>\n",
       "      <td>119793567</td>\n",
       "      <td>NaN</td>\n",
       "      <td>PG</td>\n",
       "      <td>95</td>\n",
       "      <td>9/27/13 0:00</td>\n",
       "    </tr>\n",
       "    <tr>\n",
       "      <th>26</th>\n",
       "      <td>Now You See Me</td>\n",
       "      <td>75000000.0</td>\n",
       "      <td>117723989</td>\n",
       "      <td>Louis Leterrier</td>\n",
       "      <td>PG-13</td>\n",
       "      <td>116</td>\n",
       "      <td>5/31/13 0:00</td>\n",
       "    </tr>\n",
       "    <tr>\n",
       "      <th>27</th>\n",
       "      <td>The Wolf of Wall Street</td>\n",
       "      <td>100000000.0</td>\n",
       "      <td>116900694</td>\n",
       "      <td>Martin Scorsese</td>\n",
       "      <td>R</td>\n",
       "      <td>180</td>\n",
       "      <td>12/25/13 0:00</td>\n",
       "    </tr>\n",
       "    <tr>\n",
       "      <th>28</th>\n",
       "      <td>Lee Daniels' The Butler</td>\n",
       "      <td>30000000.0</td>\n",
       "      <td>116632095</td>\n",
       "      <td>Lee Daniels</td>\n",
       "      <td>PG-13</td>\n",
       "      <td>132</td>\n",
       "      <td>8/16/13 0:00</td>\n",
       "    </tr>\n",
       "    <tr>\n",
       "      <th>29</th>\n",
       "      <td>The Hangover Part III</td>\n",
       "      <td>103000000.0</td>\n",
       "      <td>112200072</td>\n",
       "      <td>Todd Phillips</td>\n",
       "      <td>R</td>\n",
       "      <td>100</td>\n",
       "      <td>5/23/13 0:00</td>\n",
       "    </tr>\n",
       "    <tr>\n",
       "      <th>30</th>\n",
       "      <td>Epic</td>\n",
       "      <td>100000000.0</td>\n",
       "      <td>107518682</td>\n",
       "      <td>Chris Wedge</td>\n",
       "      <td>PG</td>\n",
       "      <td>102</td>\n",
       "      <td>5/24/13 0:00</td>\n",
       "    </tr>\n",
       "    <tr>\n",
       "      <th>31</th>\n",
       "      <td>Captain Phillips</td>\n",
       "      <td>55000000.0</td>\n",
       "      <td>107100855</td>\n",
       "      <td>Paul Greengrass</td>\n",
       "      <td>PG-13</td>\n",
       "      <td>134</td>\n",
       "      <td>10/11/13 0:00</td>\n",
       "    </tr>\n",
       "  </tbody>\n",
       "</table>\n",
       "</div>"
      ],
      "text/plain": [
       "                                  Title       Budget  DomesticTotalGross  \\\n",
       "0       The Hunger Games: Catching Fire  130000000.0           424668047   \n",
       "1                            Iron Man 3  200000000.0           409013994   \n",
       "2                                Frozen  150000000.0           400738009   \n",
       "3                       Despicable Me 2   76000000.0           368061265   \n",
       "4                          Man of Steel  225000000.0           291045518   \n",
       "5                               Gravity  100000000.0           274092705   \n",
       "8                      Fast & Furious 6  160000000.0           238679850   \n",
       "9             Oz The Great and Powerful  215000000.0           234911825   \n",
       "10              Star Trek Into Darkness  190000000.0           228778661   \n",
       "11                 Thor: The Dark World  170000000.0           206362140   \n",
       "12                          World War Z  190000000.0           202359711   \n",
       "13                           The Croods  135000000.0           187168425   \n",
       "14                             The Heat   43000000.0           159582188   \n",
       "15                    We're the Millers   37000000.0           150394119   \n",
       "16                      American Hustle   40000000.0           150117807   \n",
       "17                     The Great Gatsby  105000000.0           144840419   \n",
       "18                        The Conjuring   20000000.0           137400141   \n",
       "19                       Identity Thief   35000000.0           134506920   \n",
       "20                          Grown Ups 2   80000000.0           133668525   \n",
       "21                        The Wolverine  120000000.0           132556852   \n",
       "22    Anchorman 2: The Legend Continues   50000000.0           125168368   \n",
       "23                        Lone Survivor   40000000.0           125095601   \n",
       "24                G.I. Joe: Retaliation  130000000.0           122523060   \n",
       "25  Cloudy with a Chance of Meatballs 2   78000000.0           119793567   \n",
       "26                       Now You See Me   75000000.0           117723989   \n",
       "27              The Wolf of Wall Street  100000000.0           116900694   \n",
       "28              Lee Daniels' The Butler   30000000.0           116632095   \n",
       "29                The Hangover Part III  103000000.0           112200072   \n",
       "30                                 Epic  100000000.0           107518682   \n",
       "31                     Captain Phillips   55000000.0           107100855   \n",
       "\n",
       "                      Director Rating  Runtime    ReleaseDate  \n",
       "0             Francis Lawrence  PG-13      146  11/22/13 0:00  \n",
       "1                  Shane Black  PG-13      129    5/3/13 0:00  \n",
       "2       Chris BuckJennifer Lee     PG      108  11/22/13 0:00  \n",
       "3    Pierre CoffinChris Renaud     PG       98    7/3/13 0:00  \n",
       "4                  Zack Snyder  PG-13      143   6/14/13 0:00  \n",
       "5               Alfonso Cuaron  PG-13       91   10/4/13 0:00  \n",
       "8                   Justin Lin  PG-13      130   5/24/13 0:00  \n",
       "9                    Sam Raimi     PG      127    3/8/13 0:00  \n",
       "10                 J.J. Abrams  PG-13      123   5/16/13 0:00  \n",
       "11                 Alan Taylor  PG-13      120   11/8/13 0:00  \n",
       "12                Marc Forster  PG-13      116   6/21/13 0:00  \n",
       "13  Kirk De MiccoChris Sanders     PG       98   3/22/13 0:00  \n",
       "14                   Paul Feig      R      117   6/28/13 0:00  \n",
       "15     Rawson Marshall Thurber      R      110    8/7/13 0:00  \n",
       "16            David O. Russell      R      138  12/13/13 0:00  \n",
       "17                Baz Luhrmann  PG-13      143   5/10/13 0:00  \n",
       "18                   James Wan      R      112   7/19/13 0:00  \n",
       "19                 Seth Gordon      R      111    2/8/13 0:00  \n",
       "20                Dennis Dugan  PG-13      101   7/12/13 0:00  \n",
       "21               James Mangold  PG-13      126   7/26/13 0:00  \n",
       "22                  Adam McKay  PG-13      119  12/18/13 0:00  \n",
       "23                  Peter Berg      R      121  12/25/13 0:00  \n",
       "24                     Jon Chu  PG-13       99   3/28/13 0:00  \n",
       "25                         NaN     PG       95   9/27/13 0:00  \n",
       "26             Louis Leterrier  PG-13      116   5/31/13 0:00  \n",
       "27             Martin Scorsese      R      180  12/25/13 0:00  \n",
       "28                 Lee Daniels  PG-13      132   8/16/13 0:00  \n",
       "29               Todd Phillips      R      100   5/23/13 0:00  \n",
       "30                 Chris Wedge     PG      102   5/24/13 0:00  \n",
       "31             Paul Greengrass  PG-13      134  10/11/13 0:00  "
      ]
     },
     "execution_count": 369,
     "metadata": {},
     "output_type": "execute_result"
    }
   ],
   "source": [
    "df = pd.read_csv(\"2013_movies.csv\")\n",
    "df = df[np.isfinite(df['Budget'])]\n",
    "df.head(30)"
   ]
  },
  {
   "cell_type": "code",
   "execution_count": 370,
   "metadata": {
    "collapsed": true
   },
   "outputs": [],
   "source": [
    "df['ReleaseDate'] = pd.to_datetime(df['ReleaseDate'])\n",
    "df['ReleaseMonth'] = df['ReleaseDate'].map(lambda x: x.month)"
   ]
  },
  {
   "cell_type": "code",
   "execution_count": 371,
   "metadata": {
    "collapsed": false
   },
   "outputs": [],
   "source": [
    "y = df.DomesticTotalGross #iloc[:, 2:3]\n",
    "ones_array = np.ones([len(y),1])\n",
    "X = ones_array\n",
    "#one = np.ones([3,1])"
   ]
  },
  {
   "cell_type": "code",
   "execution_count": 372,
   "metadata": {
    "collapsed": false
   },
   "outputs": [
    {
     "data": {
      "text/html": [
       "<table class=\"simpletable\">\n",
       "<caption>OLS Regression Results</caption>\n",
       "<tr>\n",
       "  <th>Dep. Variable:</th>    <td>DomesticTotalGross</td> <th>  R-squared:         </th> <td>   0.000</td>\n",
       "</tr>\n",
       "<tr>\n",
       "  <th>Model:</th>                    <td>OLS</td>        <th>  Adj. R-squared:    </th> <td>   0.000</td>\n",
       "</tr>\n",
       "<tr>\n",
       "  <th>Method:</th>              <td>Least Squares</td>   <th>  F-statistic:       </th> <td>     nan</td>\n",
       "</tr>\n",
       "<tr>\n",
       "  <th>Date:</th>              <td>Fri, 21 Oct 2016</td>  <th>  Prob (F-statistic):</th>  <td>   nan</td> \n",
       "</tr>\n",
       "<tr>\n",
       "  <th>Time:</th>                  <td>10:01:03</td>      <th>  Log-Likelihood:    </th> <td> -1753.0</td>\n",
       "</tr>\n",
       "<tr>\n",
       "  <th>No. Observations:</th>       <td>    89</td>       <th>  AIC:               </th> <td>   3508.</td>\n",
       "</tr>\n",
       "<tr>\n",
       "  <th>Df Residuals:</th>           <td>    88</td>       <th>  BIC:               </th> <td>   3511.</td>\n",
       "</tr>\n",
       "<tr>\n",
       "  <th>Df Model:</th>               <td>     0</td>       <th>                     </th>     <td> </td>   \n",
       "</tr>\n",
       "<tr>\n",
       "  <th>Covariance Type:</th>       <td>nonrobust</td>     <th>                     </th>     <td> </td>   \n",
       "</tr>\n",
       "</table>\n",
       "<table class=\"simpletable\">\n",
       "<tr>\n",
       "    <td></td>       <th>coef</th>     <th>std err</th>      <th>t</th>      <th>P>|t|</th> <th>[95.0% Conf. Int.]</th> \n",
       "</tr>\n",
       "<tr>\n",
       "  <th>const</th> <td>  1.03e+08</td> <td> 9.24e+06</td> <td>   11.148</td> <td> 0.000</td> <td> 8.47e+07  1.21e+08</td>\n",
       "</tr>\n",
       "</table>\n",
       "<table class=\"simpletable\">\n",
       "<tr>\n",
       "  <th>Omnibus:</th>       <td>49.405</td> <th>  Durbin-Watson:     </th> <td>   0.016</td>\n",
       "</tr>\n",
       "<tr>\n",
       "  <th>Prob(Omnibus):</th> <td> 0.000</td> <th>  Jarque-Bera (JB):  </th> <td> 127.458</td>\n",
       "</tr>\n",
       "<tr>\n",
       "  <th>Skew:</th>          <td> 2.051</td> <th>  Prob(JB):          </th> <td>2.10e-28</td>\n",
       "</tr>\n",
       "<tr>\n",
       "  <th>Kurtosis:</th>      <td> 7.189</td> <th>  Cond. No.          </th> <td>    1.00</td>\n",
       "</tr>\n",
       "</table>"
      ],
      "text/plain": [
       "<class 'statsmodels.iolib.summary.Summary'>\n",
       "\"\"\"\n",
       "                            OLS Regression Results                            \n",
       "==============================================================================\n",
       "Dep. Variable:     DomesticTotalGross   R-squared:                       0.000\n",
       "Model:                            OLS   Adj. R-squared:                  0.000\n",
       "Method:                 Least Squares   F-statistic:                       nan\n",
       "Date:                Fri, 21 Oct 2016   Prob (F-statistic):                nan\n",
       "Time:                        10:01:03   Log-Likelihood:                -1753.0\n",
       "No. Observations:                  89   AIC:                             3508.\n",
       "Df Residuals:                      88   BIC:                             3511.\n",
       "Df Model:                           0                                         \n",
       "Covariance Type:            nonrobust                                         \n",
       "==============================================================================\n",
       "                 coef    std err          t      P>|t|      [95.0% Conf. Int.]\n",
       "------------------------------------------------------------------------------\n",
       "const        1.03e+08   9.24e+06     11.148      0.000      8.47e+07  1.21e+08\n",
       "==============================================================================\n",
       "Omnibus:                       49.405   Durbin-Watson:                   0.016\n",
       "Prob(Omnibus):                  0.000   Jarque-Bera (JB):              127.458\n",
       "Skew:                           2.051   Prob(JB):                     2.10e-28\n",
       "Kurtosis:                       7.189   Cond. No.                         1.00\n",
       "==============================================================================\n",
       "\n",
       "Warnings:\n",
       "[1] Standard Errors assume that the covariance matrix of the errors is correctly specified.\n",
       "\"\"\""
      ]
     },
     "execution_count": 372,
     "metadata": {},
     "output_type": "execute_result"
    }
   ],
   "source": [
    "# Create your model\n",
    "model = sm.OLS(y, X)\n",
    "# Fit your model to your training set\n",
    "fit = model.fit()\n",
    "# Print summary statistics of the model's performance\n",
    "fit.summary()"
   ]
  },
  {
   "cell_type": "code",
   "execution_count": 327,
   "metadata": {
    "collapsed": false
   },
   "outputs": [],
   "source": [
    "# \n",
    "#\n",
    "#"
   ]
  },
  {
   "cell_type": "code",
   "execution_count": 373,
   "metadata": {
    "collapsed": false
   },
   "outputs": [
    {
     "data": {
      "text/plain": [
       "[<matplotlib.lines.Line2D at 0x141501650>]"
      ]
     },
     "execution_count": 373,
     "metadata": {},
     "output_type": "execute_result"
    },
    {
     "data": {
      "image/png": "[encoded data removed]",
      "text/plain": [
       "<matplotlib.figure.Figure at 0x139e4c090>"
      ]
     },
     "metadata": {},
     "output_type": "display_data"
    }
   ],
   "source": [
    "y_predict = fit.predict(X)\n",
    "plt.plot(y, y_predict)\n",
    "# No predictive insight from this plot since R^2 is zero. "
   ]
  },
  {
   "cell_type": "code",
   "execution_count": 374,
   "metadata": {
    "collapsed": false
   },
   "outputs": [
    {
     "data": {
      "text/plain": [
       "<matplotlib.axes._subplots.AxesSubplot at 0x13bef1090>"
      ]
     },
     "execution_count": 374,
     "metadata": {},
     "output_type": "execute_result"
    },
    {
     "data": {
      "image/png": "[encoded data removed]",
      "text/plain": [
       "<matplotlib.figure.Figure at 0x141517d50>"
      ]
     },
     "metadata": {},
     "output_type": "display_data"
    }
   ],
   "source": [
    "plt.figure(figsize=(12, 4))\n",
    "plt.subplot(1,2,1)\n",
    "fit.resid.plot.hist()\n",
    "\n",
    "plt.subplot(1,2,2)\n",
    "fit.resid.plot(style='o')"
   ]
  },
  {
   "cell_type": "code",
   "execution_count": 375,
   "metadata": {
    "collapsed": true
   },
   "outputs": [],
   "source": [
    "# While the distribution of residuals is normally distributed, the model leaves a biased and heterostochastic spread\n",
    "# for the error. "
   ]
  },
  {
   "cell_type": "code",
   "execution_count": 376,
   "metadata": {
    "collapsed": true
   },
   "outputs": [],
   "source": [
    "#3.2 Repeat the process of challenge one, but also add one continuous (numeric) predictor variable. \n",
    "#Also add plots of model prediction against your feature variable and residuals against feature variable. \n",
    "#How can you interpret what's happening in the model?"
   ]
  },
  {
   "cell_type": "code",
   "execution_count": 377,
   "metadata": {
    "collapsed": false
   },
   "outputs": [
    {
     "data": {
      "text/html": [
       "<div>\n",
       "<table border=\"1\" class=\"dataframe\">\n",
       "  <thead>\n",
       "    <tr style=\"text-align: right;\">\n",
       "      <th></th>\n",
       "      <th>Title</th>\n",
       "      <th>Budget</th>\n",
       "      <th>DomesticTotalGross</th>\n",
       "      <th>Director</th>\n",
       "      <th>Rating</th>\n",
       "      <th>Runtime</th>\n",
       "      <th>ReleaseDate</th>\n",
       "      <th>ReleaseMonth</th>\n",
       "      <th>Ones</th>\n",
       "    </tr>\n",
       "  </thead>\n",
       "  <tbody>\n",
       "    <tr>\n",
       "      <th>0</th>\n",
       "      <td>The Hunger Games: Catching Fire</td>\n",
       "      <td>130000000.0</td>\n",
       "      <td>424668047</td>\n",
       "      <td>Francis Lawrence</td>\n",
       "      <td>PG-13</td>\n",
       "      <td>146</td>\n",
       "      <td>2013-11-22</td>\n",
       "      <td>11</td>\n",
       "      <td>1</td>\n",
       "    </tr>\n",
       "    <tr>\n",
       "      <th>1</th>\n",
       "      <td>Iron Man 3</td>\n",
       "      <td>200000000.0</td>\n",
       "      <td>409013994</td>\n",
       "      <td>Shane Black</td>\n",
       "      <td>PG-13</td>\n",
       "      <td>129</td>\n",
       "      <td>2013-05-03</td>\n",
       "      <td>5</td>\n",
       "      <td>1</td>\n",
       "    </tr>\n",
       "    <tr>\n",
       "      <th>2</th>\n",
       "      <td>Frozen</td>\n",
       "      <td>150000000.0</td>\n",
       "      <td>400738009</td>\n",
       "      <td>Chris BuckJennifer Lee</td>\n",
       "      <td>PG</td>\n",
       "      <td>108</td>\n",
       "      <td>2013-11-22</td>\n",
       "      <td>11</td>\n",
       "      <td>1</td>\n",
       "    </tr>\n",
       "    <tr>\n",
       "      <th>3</th>\n",
       "      <td>Despicable Me 2</td>\n",
       "      <td>76000000.0</td>\n",
       "      <td>368061265</td>\n",
       "      <td>Pierre CoffinChris Renaud</td>\n",
       "      <td>PG</td>\n",
       "      <td>98</td>\n",
       "      <td>2013-07-03</td>\n",
       "      <td>7</td>\n",
       "      <td>1</td>\n",
       "    </tr>\n",
       "    <tr>\n",
       "      <th>4</th>\n",
       "      <td>Man of Steel</td>\n",
       "      <td>225000000.0</td>\n",
       "      <td>291045518</td>\n",
       "      <td>Zack Snyder</td>\n",
       "      <td>PG-13</td>\n",
       "      <td>143</td>\n",
       "      <td>2013-06-14</td>\n",
       "      <td>6</td>\n",
       "      <td>1</td>\n",
       "    </tr>\n",
       "  </tbody>\n",
       "</table>\n",
       "</div>"
      ],
      "text/plain": [
       "                             Title       Budget  DomesticTotalGross  \\\n",
       "0  The Hunger Games: Catching Fire  130000000.0           424668047   \n",
       "1                       Iron Man 3  200000000.0           409013994   \n",
       "2                           Frozen  150000000.0           400738009   \n",
       "3                  Despicable Me 2   76000000.0           368061265   \n",
       "4                     Man of Steel  225000000.0           291045518   \n",
       "\n",
       "                    Director Rating  Runtime ReleaseDate  ReleaseMonth  Ones  \n",
       "0           Francis Lawrence  PG-13      146  2013-11-22            11     1  \n",
       "1                Shane Black  PG-13      129  2013-05-03             5     1  \n",
       "2     Chris BuckJennifer Lee     PG      108  2013-11-22            11     1  \n",
       "3  Pierre CoffinChris Renaud     PG       98  2013-07-03             7     1  \n",
       "4                Zack Snyder  PG-13      143  2013-06-14             6     1  "
      ]
     },
     "execution_count": 377,
     "metadata": {},
     "output_type": "execute_result"
    }
   ],
   "source": [
    "df['Ones'] = 1\n",
    "df.head()"
   ]
  },
  {
   "cell_type": "code",
   "execution_count": 378,
   "metadata": {
    "collapsed": false
   },
   "outputs": [
    {
     "data": {
      "text/html": [
       "<table class=\"simpletable\">\n",
       "<caption>OLS Regression Results</caption>\n",
       "<tr>\n",
       "  <th>Dep. Variable:</th>    <td>DomesticTotalGross</td> <th>  R-squared:         </th> <td>   0.286</td>\n",
       "</tr>\n",
       "<tr>\n",
       "  <th>Model:</th>                    <td>OLS</td>        <th>  Adj. R-squared:    </th> <td>   0.278</td>\n",
       "</tr>\n",
       "<tr>\n",
       "  <th>Method:</th>              <td>Least Squares</td>   <th>  F-statistic:       </th> <td>   34.82</td>\n",
       "</tr>\n",
       "<tr>\n",
       "  <th>Date:</th>              <td>Fri, 21 Oct 2016</td>  <th>  Prob (F-statistic):</th> <td>6.80e-08</td>\n",
       "</tr>\n",
       "<tr>\n",
       "  <th>Time:</th>                  <td>10:01:28</td>      <th>  Log-Likelihood:    </th> <td> -1738.1</td>\n",
       "</tr>\n",
       "<tr>\n",
       "  <th>No. Observations:</th>       <td>    89</td>       <th>  AIC:               </th> <td>   3480.</td>\n",
       "</tr>\n",
       "<tr>\n",
       "  <th>Df Residuals:</th>           <td>    87</td>       <th>  BIC:               </th> <td>   3485.</td>\n",
       "</tr>\n",
       "<tr>\n",
       "  <th>Df Model:</th>               <td>     1</td>       <th>                     </th>     <td> </td>   \n",
       "</tr>\n",
       "<tr>\n",
       "  <th>Covariance Type:</th>       <td>nonrobust</td>     <th>                     </th>     <td> </td>   \n",
       "</tr>\n",
       "</table>\n",
       "<table class=\"simpletable\">\n",
       "<tr>\n",
       "      <td></td>         <th>coef</th>     <th>std err</th>      <th>t</th>      <th>P>|t|</th> <th>[95.0% Conf. Int.]</th> \n",
       "</tr>\n",
       "<tr>\n",
       "  <th>Intercept</th> <td>  2.22e+07</td> <td> 6.33e+06</td> <td>    3.504</td> <td> 0.001</td> <td> 9.61e+06  3.48e+07</td>\n",
       "</tr>\n",
       "<tr>\n",
       "  <th>Budget</th>    <td>    0.7846</td> <td>    0.133</td> <td>    5.901</td> <td> 0.000</td> <td>    0.520     1.049</td>\n",
       "</tr>\n",
       "<tr>\n",
       "  <th>Ones</th>      <td>  2.22e+07</td> <td> 6.33e+06</td> <td>    3.504</td> <td> 0.001</td> <td> 9.61e+06  3.48e+07</td>\n",
       "</tr>\n",
       "</table>\n",
       "<table class=\"simpletable\">\n",
       "<tr>\n",
       "  <th>Omnibus:</th>       <td>39.749</td> <th>  Durbin-Watson:     </th> <td>   0.674</td>\n",
       "</tr>\n",
       "<tr>\n",
       "  <th>Prob(Omnibus):</th> <td> 0.000</td> <th>  Jarque-Bera (JB):  </th> <td>  99.441</td>\n",
       "</tr>\n",
       "<tr>\n",
       "  <th>Skew:</th>          <td> 1.587</td> <th>  Prob(JB):          </th> <td>2.55e-22</td>\n",
       "</tr>\n",
       "<tr>\n",
       "  <th>Kurtosis:</th>      <td> 7.091</td> <th>  Cond. No.          </th> <td>8.19e+23</td>\n",
       "</tr>\n",
       "</table>"
      ],
      "text/plain": [
       "<class 'statsmodels.iolib.summary.Summary'>\n",
       "\"\"\"\n",
       "                            OLS Regression Results                            \n",
       "==============================================================================\n",
       "Dep. Variable:     DomesticTotalGross   R-squared:                       0.286\n",
       "Model:                            OLS   Adj. R-squared:                  0.278\n",
       "Method:                 Least Squares   F-statistic:                     34.82\n",
       "Date:                Fri, 21 Oct 2016   Prob (F-statistic):           6.80e-08\n",
       "Time:                        10:01:28   Log-Likelihood:                -1738.1\n",
       "No. Observations:                  89   AIC:                             3480.\n",
       "Df Residuals:                      87   BIC:                             3485.\n",
       "Df Model:                           1                                         \n",
       "Covariance Type:            nonrobust                                         \n",
       "==============================================================================\n",
       "                 coef    std err          t      P>|t|      [95.0% Conf. Int.]\n",
       "------------------------------------------------------------------------------\n",
       "Intercept    2.22e+07   6.33e+06      3.504      0.001      9.61e+06  3.48e+07\n",
       "Budget         0.7846      0.133      5.901      0.000         0.520     1.049\n",
       "Ones         2.22e+07   6.33e+06      3.504      0.001      9.61e+06  3.48e+07\n",
       "==============================================================================\n",
       "Omnibus:                       39.749   Durbin-Watson:                   0.674\n",
       "Prob(Omnibus):                  0.000   Jarque-Bera (JB):               99.441\n",
       "Skew:                           1.587   Prob(JB):                     2.55e-22\n",
       "Kurtosis:                       7.091   Cond. No.                     8.19e+23\n",
       "==============================================================================\n",
       "\n",
       "Warnings:\n",
       "[1] Standard Errors assume that the covariance matrix of the errors is correctly specified.\n",
       "[2] The smallest eigenvalue is 1.21e-30. This might indicate that there are\n",
       "strong multicollinearity problems or that the design matrix is singular.\n",
       "\"\"\""
      ]
     },
     "execution_count": 378,
     "metadata": {},
     "output_type": "execute_result"
    }
   ],
   "source": [
    "y1, X1 = patsy.dmatrices('DomesticTotalGross ~ Budget + Ones', data=df, return_type=\"dataframe\")\n",
    "\n",
    "model = sm.OLS(y1, X1)\n",
    "\n",
    "fit1 = model.fit()\n",
    "\n",
    "fit1.summary()"
   ]
  },
  {
   "cell_type": "code",
   "execution_count": 379,
   "metadata": {
    "collapsed": false
   },
   "outputs": [
    {
     "data": {
      "text/plain": [
       "<matplotlib.text.Text at 0x141c4c3d0>"
      ]
     },
     "execution_count": 379,
     "metadata": {},
     "output_type": "execute_result"
    },
    {
     "data": {
      "image/png": "[encoded data removed]",
      "text/plain": [
       "<matplotlib.figure.Figure at 0x141517c90>"
      ]
     },
     "metadata": {},
     "output_type": "display_data"
    }
   ],
   "source": [
    "y_pred = fit1.predict(X1)\n",
    "plt.plot(y1, y_pred, 'o')\n",
    "plt.xlabel('X')\n",
    "plt.ylabel('Y')\n",
    "#With a R sqrd of ~.28, there appears to be a slight positive correlation that may be accounted for as a log or polynomial"
   ]
  },
  {
   "cell_type": "code",
   "execution_count": 380,
   "metadata": {
    "collapsed": false
   },
   "outputs": [
    {
     "data": {
      "text/plain": [
       "<matplotlib.text.Text at 0x141e99410>"
      ]
     },
     "execution_count": 380,
     "metadata": {},
     "output_type": "execute_result"
    },
    {
     "data": {
      "image/png": "[encoded data removed]",
      "text/plain": [
       "<matplotlib.figure.Figure at 0x141c5f990>"
      ]
     },
     "metadata": {},
     "output_type": "display_data"
    }
   ],
   "source": [
    "plt.figure(figsize=(12, 4))\n",
    "plt.subplot(1,2,1)\n",
    "fit1.resid.plot.hist()\n",
    "plt.xlabel('feature')\n",
    "plt.ylabel('residual')\n",
    "\n",
    "plt.subplot(1,2,2)\n",
    "fit1.resid.plot(style='o')\n",
    "plt.xlabel('feature variable')\n",
    "plt.ylabel('residual')"
   ]
  },
  {
   "cell_type": "code",
   "execution_count": 381,
   "metadata": {
    "collapsed": true
   },
   "outputs": [],
   "source": [
    "#Approaching normally distributed, roughly what would be expected to be drawn from the random noise remaining. \n",
    "#However, in a scatter the error is biased and heterostochastic. A predictive relationship is unaccounted for in the present model.\n",
    "#No large change from previous plot."
   ]
  },
  {
   "cell_type": "code",
   "execution_count": 382,
   "metadata": {
    "collapsed": true
   },
   "outputs": [],
   "source": [
    "#3.3 Repeat the process of challenge 1, but add a categorical feature (like genre). \n",
    "#You'll have to convert a column of text into a number of numerical columns (\"dummy variables\"). \n",
    "#How can you interpret what's happening in the model?"
   ]
  },
  {
   "cell_type": "code",
   "execution_count": 383,
   "metadata": {
    "collapsed": false
   },
   "outputs": [
    {
     "data": {
      "text/html": [
       "<div>\n",
       "<table border=\"1\" class=\"dataframe\">\n",
       "  <thead>\n",
       "    <tr style=\"text-align: right;\">\n",
       "      <th></th>\n",
       "      <th>Title</th>\n",
       "      <th>Budget</th>\n",
       "      <th>DomesticTotalGross</th>\n",
       "      <th>Director</th>\n",
       "      <th>Rating</th>\n",
       "      <th>Runtime</th>\n",
       "      <th>ReleaseDate</th>\n",
       "      <th>ReleaseMonth</th>\n",
       "      <th>Ones</th>\n",
       "      <th>PG</th>\n",
       "      <th>PG-13</th>\n",
       "      <th>R</th>\n",
       "      <th>PGthirteen</th>\n",
       "    </tr>\n",
       "  </thead>\n",
       "  <tbody>\n",
       "    <tr>\n",
       "      <th>0</th>\n",
       "      <td>The Hunger Games: Catching Fire</td>\n",
       "      <td>130000000.0</td>\n",
       "      <td>424668047</td>\n",
       "      <td>Francis Lawrence</td>\n",
       "      <td>PG-13</td>\n",
       "      <td>146</td>\n",
       "      <td>2013-11-22</td>\n",
       "      <td>11</td>\n",
       "      <td>1</td>\n",
       "      <td>0.0</td>\n",
       "      <td>1.0</td>\n",
       "      <td>0.0</td>\n",
       "      <td>1.0</td>\n",
       "    </tr>\n",
       "    <tr>\n",
       "      <th>1</th>\n",
       "      <td>Iron Man 3</td>\n",
       "      <td>200000000.0</td>\n",
       "      <td>409013994</td>\n",
       "      <td>Shane Black</td>\n",
       "      <td>PG-13</td>\n",
       "      <td>129</td>\n",
       "      <td>2013-05-03</td>\n",
       "      <td>5</td>\n",
       "      <td>1</td>\n",
       "      <td>0.0</td>\n",
       "      <td>1.0</td>\n",
       "      <td>0.0</td>\n",
       "      <td>1.0</td>\n",
       "    </tr>\n",
       "    <tr>\n",
       "      <th>2</th>\n",
       "      <td>Frozen</td>\n",
       "      <td>150000000.0</td>\n",
       "      <td>400738009</td>\n",
       "      <td>Chris BuckJennifer Lee</td>\n",
       "      <td>PG</td>\n",
       "      <td>108</td>\n",
       "      <td>2013-11-22</td>\n",
       "      <td>11</td>\n",
       "      <td>1</td>\n",
       "      <td>1.0</td>\n",
       "      <td>0.0</td>\n",
       "      <td>0.0</td>\n",
       "      <td>0.0</td>\n",
       "    </tr>\n",
       "    <tr>\n",
       "      <th>3</th>\n",
       "      <td>Despicable Me 2</td>\n",
       "      <td>76000000.0</td>\n",
       "      <td>368061265</td>\n",
       "      <td>Pierre CoffinChris Renaud</td>\n",
       "      <td>PG</td>\n",
       "      <td>98</td>\n",
       "      <td>2013-07-03</td>\n",
       "      <td>7</td>\n",
       "      <td>1</td>\n",
       "      <td>1.0</td>\n",
       "      <td>0.0</td>\n",
       "      <td>0.0</td>\n",
       "      <td>0.0</td>\n",
       "    </tr>\n",
       "    <tr>\n",
       "      <th>4</th>\n",
       "      <td>Man of Steel</td>\n",
       "      <td>225000000.0</td>\n",
       "      <td>291045518</td>\n",
       "      <td>Zack Snyder</td>\n",
       "      <td>PG-13</td>\n",
       "      <td>143</td>\n",
       "      <td>2013-06-14</td>\n",
       "      <td>6</td>\n",
       "      <td>1</td>\n",
       "      <td>0.0</td>\n",
       "      <td>1.0</td>\n",
       "      <td>0.0</td>\n",
       "      <td>1.0</td>\n",
       "    </tr>\n",
       "  </tbody>\n",
       "</table>\n",
       "</div>"
      ],
      "text/plain": [
       "                             Title       Budget  DomesticTotalGross  \\\n",
       "0  The Hunger Games: Catching Fire  130000000.0           424668047   \n",
       "1                       Iron Man 3  200000000.0           409013994   \n",
       "2                           Frozen  150000000.0           400738009   \n",
       "3                  Despicable Me 2   76000000.0           368061265   \n",
       "4                     Man of Steel  225000000.0           291045518   \n",
       "\n",
       "                    Director Rating  Runtime ReleaseDate  ReleaseMonth  Ones  \\\n",
       "0           Francis Lawrence  PG-13      146  2013-11-22            11     1   \n",
       "1                Shane Black  PG-13      129  2013-05-03             5     1   \n",
       "2     Chris BuckJennifer Lee     PG      108  2013-11-22            11     1   \n",
       "3  Pierre CoffinChris Renaud     PG       98  2013-07-03             7     1   \n",
       "4                Zack Snyder  PG-13      143  2013-06-14             6     1   \n",
       "\n",
       "    PG  PG-13    R  PGthirteen  \n",
       "0  0.0    1.0  0.0         1.0  \n",
       "1  0.0    1.0  0.0         1.0  \n",
       "2  1.0    0.0  0.0         0.0  \n",
       "3  1.0    0.0  0.0         0.0  \n",
       "4  0.0    1.0  0.0         1.0  "
      ]
     },
     "execution_count": 383,
     "metadata": {},
     "output_type": "execute_result"
    }
   ],
   "source": [
    "dummies = pd.get_dummies(df['Rating'], )\n",
    "df_new = pd.concat([df, dummies], axis=1)\n",
    "df_new['PGthirteen'] = df_new['PG-13']\n",
    "df_new.head()"
   ]
  },
  {
   "cell_type": "code",
   "execution_count": 384,
   "metadata": {
    "collapsed": false
   },
   "outputs": [],
   "source": [
    "#df_new.drop(df_new.columns[[9]], axis=1)\n",
    "#df_new.head()"
   ]
  },
  {
   "cell_type": "code",
   "execution_count": 385,
   "metadata": {
    "collapsed": false
   },
   "outputs": [
    {
     "data": {
      "text/html": [
       "<table class=\"simpletable\">\n",
       "<caption>OLS Regression Results</caption>\n",
       "<tr>\n",
       "  <th>Dep. Variable:</th>    <td>DomesticTotalGross</td> <th>  R-squared:         </th> <td>   0.291</td>\n",
       "</tr>\n",
       "<tr>\n",
       "  <th>Model:</th>                    <td>OLS</td>        <th>  Adj. R-squared:    </th> <td>   0.266</td>\n",
       "</tr>\n",
       "<tr>\n",
       "  <th>Method:</th>              <td>Least Squares</td>   <th>  F-statistic:       </th> <td>   11.61</td>\n",
       "</tr>\n",
       "<tr>\n",
       "  <th>Date:</th>              <td>Fri, 21 Oct 2016</td>  <th>  Prob (F-statistic):</th> <td>1.87e-06</td>\n",
       "</tr>\n",
       "<tr>\n",
       "  <th>Time:</th>                  <td>10:01:41</td>      <th>  Log-Likelihood:    </th> <td> -1737.7</td>\n",
       "</tr>\n",
       "<tr>\n",
       "  <th>No. Observations:</th>       <td>    89</td>       <th>  AIC:               </th> <td>   3483.</td>\n",
       "</tr>\n",
       "<tr>\n",
       "  <th>Df Residuals:</th>           <td>    85</td>       <th>  BIC:               </th> <td>   3493.</td>\n",
       "</tr>\n",
       "<tr>\n",
       "  <th>Df Model:</th>               <td>     3</td>       <th>                     </th>     <td> </td>   \n",
       "</tr>\n",
       "<tr>\n",
       "  <th>Covariance Type:</th>       <td>nonrobust</td>     <th>                     </th>     <td> </td>   \n",
       "</tr>\n",
       "</table>\n",
       "<table class=\"simpletable\">\n",
       "<tr>\n",
       "       <td></td>         <th>coef</th>     <th>std err</th>      <th>t</th>      <th>P>|t|</th> <th>[95.0% Conf. Int.]</th> \n",
       "</tr>\n",
       "<tr>\n",
       "  <th>Intercept</th>  <td> 2.029e+07</td> <td> 6.21e+06</td> <td>    3.270</td> <td> 0.002</td> <td> 7.95e+06  3.26e+07</td>\n",
       "</tr>\n",
       "<tr>\n",
       "  <th>Budget</th>     <td>    0.7816</td> <td>    0.152</td> <td>    5.157</td> <td> 0.000</td> <td>    0.480     1.083</td>\n",
       "</tr>\n",
       "<tr>\n",
       "  <th>Ones</th>       <td> 2.029e+07</td> <td> 6.21e+06</td> <td>    3.270</td> <td> 0.002</td> <td> 7.95e+06  3.26e+07</td>\n",
       "</tr>\n",
       "<tr>\n",
       "  <th>PG</th>         <td> 1.714e+07</td> <td> 1.53e+07</td> <td>    1.122</td> <td> 0.265</td> <td>-1.32e+07  4.75e+07</td>\n",
       "</tr>\n",
       "<tr>\n",
       "  <th>PGthirteen</th> <td>-1.257e+05</td> <td> 1.17e+07</td> <td>   -0.011</td> <td> 0.991</td> <td>-2.33e+07   2.3e+07</td>\n",
       "</tr>\n",
       "<tr>\n",
       "  <th>R</th>          <td> 3.275e+06</td> <td>  1.2e+07</td> <td>    0.273</td> <td> 0.786</td> <td>-2.06e+07  2.71e+07</td>\n",
       "</tr>\n",
       "</table>\n",
       "<table class=\"simpletable\">\n",
       "<tr>\n",
       "  <th>Omnibus:</th>       <td>37.951</td> <th>  Durbin-Watson:     </th> <td>   0.674</td>\n",
       "</tr>\n",
       "<tr>\n",
       "  <th>Prob(Omnibus):</th> <td> 0.000</td> <th>  Jarque-Bera (JB):  </th> <td>  88.664</td>\n",
       "</tr>\n",
       "<tr>\n",
       "  <th>Skew:</th>          <td> 1.546</td> <th>  Prob(JB):          </th> <td>5.58e-20</td>\n",
       "</tr>\n",
       "<tr>\n",
       "  <th>Kurtosis:</th>      <td> 6.788</td> <th>  Cond. No.          </th> <td>1.28e+24</td>\n",
       "</tr>\n",
       "</table>"
      ],
      "text/plain": [
       "<class 'statsmodels.iolib.summary.Summary'>\n",
       "\"\"\"\n",
       "                            OLS Regression Results                            \n",
       "==============================================================================\n",
       "Dep. Variable:     DomesticTotalGross   R-squared:                       0.291\n",
       "Model:                            OLS   Adj. R-squared:                  0.266\n",
       "Method:                 Least Squares   F-statistic:                     11.61\n",
       "Date:                Fri, 21 Oct 2016   Prob (F-statistic):           1.87e-06\n",
       "Time:                        10:01:41   Log-Likelihood:                -1737.7\n",
       "No. Observations:                  89   AIC:                             3483.\n",
       "Df Residuals:                      85   BIC:                             3493.\n",
       "Df Model:                           3                                         \n",
       "Covariance Type:            nonrobust                                         \n",
       "==============================================================================\n",
       "                 coef    std err          t      P>|t|      [95.0% Conf. Int.]\n",
       "------------------------------------------------------------------------------\n",
       "Intercept   2.029e+07   6.21e+06      3.270      0.002      7.95e+06  3.26e+07\n",
       "Budget         0.7816      0.152      5.157      0.000         0.480     1.083\n",
       "Ones        2.029e+07   6.21e+06      3.270      0.002      7.95e+06  3.26e+07\n",
       "PG          1.714e+07   1.53e+07      1.122      0.265     -1.32e+07  4.75e+07\n",
       "PGthirteen -1.257e+05   1.17e+07     -0.011      0.991     -2.33e+07   2.3e+07\n",
       "R           3.275e+06    1.2e+07      0.273      0.786     -2.06e+07  2.71e+07\n",
       "==============================================================================\n",
       "Omnibus:                       37.951   Durbin-Watson:                   0.674\n",
       "Prob(Omnibus):                  0.000   Jarque-Bera (JB):               88.664\n",
       "Skew:                           1.546   Prob(JB):                     5.58e-20\n",
       "Kurtosis:                       6.788   Cond. No.                     1.28e+24\n",
       "==============================================================================\n",
       "\n",
       "Warnings:\n",
       "[1] Standard Errors assume that the covariance matrix of the errors is correctly specified.\n",
       "[2] The smallest eigenvalue is 4.94e-31. This might indicate that there are\n",
       "strong multicollinearity problems or that the design matrix is singular.\n",
       "\"\"\""
      ]
     },
     "execution_count": 385,
     "metadata": {},
     "output_type": "execute_result"
    }
   ],
   "source": [
    "y2, X2 = patsy.dmatrices('DomesticTotalGross ~ Budget + Ones + PG + PGthirteen + R', data=df_new, return_type=\"dataframe\")\n",
    "\n",
    "model = sm.OLS(y2, X2)\n",
    "\n",
    "fit1 = model.fit()\n",
    "\n",
    "fit1.summary()"
   ]
  },
  {
   "cell_type": "code",
   "execution_count": 386,
   "metadata": {
    "collapsed": true
   },
   "outputs": [],
   "source": [
    "# 3.4\n",
    "#Enhance your model further by adding more features and/or transforming existing features. \n",
    "#Think about how you build the model matrix and how to interpret what the model is doing."
   ]
  },
  {
   "cell_type": "code",
   "execution_count": 387,
   "metadata": {
    "collapsed": false
   },
   "outputs": [
    {
     "data": {
      "text/html": [
       "<div>\n",
       "<table border=\"1\" class=\"dataframe\">\n",
       "  <thead>\n",
       "    <tr style=\"text-align: right;\">\n",
       "      <th></th>\n",
       "      <th>Title</th>\n",
       "      <th>Budget</th>\n",
       "      <th>DomesticTotalGross</th>\n",
       "      <th>Director</th>\n",
       "      <th>Rating</th>\n",
       "      <th>Runtime</th>\n",
       "      <th>ReleaseDate</th>\n",
       "      <th>ReleaseMonth</th>\n",
       "      <th>Ones</th>\n",
       "      <th>PG</th>\n",
       "      <th>PG-13</th>\n",
       "      <th>R</th>\n",
       "      <th>PGthirteen</th>\n",
       "      <th>month</th>\n",
       "    </tr>\n",
       "  </thead>\n",
       "  <tbody>\n",
       "    <tr>\n",
       "      <th>0</th>\n",
       "      <td>The Hunger Games: Catching Fire</td>\n",
       "      <td>130000000.0</td>\n",
       "      <td>424668047</td>\n",
       "      <td>Francis Lawrence</td>\n",
       "      <td>PG-13</td>\n",
       "      <td>146</td>\n",
       "      <td>2013-11-22</td>\n",
       "      <td>11</td>\n",
       "      <td>1</td>\n",
       "      <td>0.0</td>\n",
       "      <td>1.0</td>\n",
       "      <td>0.0</td>\n",
       "      <td>1.0</td>\n",
       "      <td>11</td>\n",
       "    </tr>\n",
       "    <tr>\n",
       "      <th>1</th>\n",
       "      <td>Iron Man 3</td>\n",
       "      <td>200000000.0</td>\n",
       "      <td>409013994</td>\n",
       "      <td>Shane Black</td>\n",
       "      <td>PG-13</td>\n",
       "      <td>129</td>\n",
       "      <td>2013-05-03</td>\n",
       "      <td>5</td>\n",
       "      <td>1</td>\n",
       "      <td>0.0</td>\n",
       "      <td>1.0</td>\n",
       "      <td>0.0</td>\n",
       "      <td>1.0</td>\n",
       "      <td>5</td>\n",
       "    </tr>\n",
       "    <tr>\n",
       "      <th>2</th>\n",
       "      <td>Frozen</td>\n",
       "      <td>150000000.0</td>\n",
       "      <td>400738009</td>\n",
       "      <td>Chris BuckJennifer Lee</td>\n",
       "      <td>PG</td>\n",
       "      <td>108</td>\n",
       "      <td>2013-11-22</td>\n",
       "      <td>11</td>\n",
       "      <td>1</td>\n",
       "      <td>1.0</td>\n",
       "      <td>0.0</td>\n",
       "      <td>0.0</td>\n",
       "      <td>0.0</td>\n",
       "      <td>11</td>\n",
       "    </tr>\n",
       "    <tr>\n",
       "      <th>3</th>\n",
       "      <td>Despicable Me 2</td>\n",
       "      <td>76000000.0</td>\n",
       "      <td>368061265</td>\n",
       "      <td>Pierre CoffinChris Renaud</td>\n",
       "      <td>PG</td>\n",
       "      <td>98</td>\n",
       "      <td>2013-07-03</td>\n",
       "      <td>7</td>\n",
       "      <td>1</td>\n",
       "      <td>1.0</td>\n",
       "      <td>0.0</td>\n",
       "      <td>0.0</td>\n",
       "      <td>0.0</td>\n",
       "      <td>7</td>\n",
       "    </tr>\n",
       "    <tr>\n",
       "      <th>4</th>\n",
       "      <td>Man of Steel</td>\n",
       "      <td>225000000.0</td>\n",
       "      <td>291045518</td>\n",
       "      <td>Zack Snyder</td>\n",
       "      <td>PG-13</td>\n",
       "      <td>143</td>\n",
       "      <td>2013-06-14</td>\n",
       "      <td>6</td>\n",
       "      <td>1</td>\n",
       "      <td>0.0</td>\n",
       "      <td>1.0</td>\n",
       "      <td>0.0</td>\n",
       "      <td>1.0</td>\n",
       "      <td>6</td>\n",
       "    </tr>\n",
       "  </tbody>\n",
       "</table>\n",
       "</div>"
      ],
      "text/plain": [
       "                             Title       Budget  DomesticTotalGross  \\\n",
       "0  The Hunger Games: Catching Fire  130000000.0           424668047   \n",
       "1                       Iron Man 3  200000000.0           409013994   \n",
       "2                           Frozen  150000000.0           400738009   \n",
       "3                  Despicable Me 2   76000000.0           368061265   \n",
       "4                     Man of Steel  225000000.0           291045518   \n",
       "\n",
       "                    Director Rating  Runtime ReleaseDate  ReleaseMonth  Ones  \\\n",
       "0           Francis Lawrence  PG-13      146  2013-11-22            11     1   \n",
       "1                Shane Black  PG-13      129  2013-05-03             5     1   \n",
       "2     Chris BuckJennifer Lee     PG      108  2013-11-22            11     1   \n",
       "3  Pierre CoffinChris Renaud     PG       98  2013-07-03             7     1   \n",
       "4                Zack Snyder  PG-13      143  2013-06-14             6     1   \n",
       "\n",
       "    PG  PG-13    R  PGthirteen  month  \n",
       "0  0.0    1.0  0.0         1.0     11  \n",
       "1  0.0    1.0  0.0         1.0      5  \n",
       "2  1.0    0.0  0.0         0.0     11  \n",
       "3  1.0    0.0  0.0         0.0      7  \n",
       "4  0.0    1.0  0.0         1.0      6  "
      ]
     },
     "execution_count": 387,
     "metadata": {},
     "output_type": "execute_result"
    }
   ],
   "source": [
    "import dateutil.parser\n",
    "\n",
    "df_new['month'] = pd.to_datetime(df_new['ReleaseDate'])\n",
    "df_new['month'] = df_new['month'].map(lambda x: x.month)\n",
    "\n",
    "df_new.head()"
   ]
  },
  {
   "cell_type": "code",
   "execution_count": 388,
   "metadata": {
    "collapsed": false
   },
   "outputs": [
    {
     "data": {
      "text/html": [
       "<table class=\"simpletable\">\n",
       "<caption>OLS Regression Results</caption>\n",
       "<tr>\n",
       "  <th>Dep. Variable:</th>    <td>DomesticTotalGross</td> <th>  R-squared:         </th> <td>   0.303</td>\n",
       "</tr>\n",
       "<tr>\n",
       "  <th>Model:</th>                    <td>OLS</td>        <th>  Adj. R-squared:    </th> <td>   0.261</td>\n",
       "</tr>\n",
       "<tr>\n",
       "  <th>Method:</th>              <td>Least Squares</td>   <th>  F-statistic:       </th> <td>   7.218</td>\n",
       "</tr>\n",
       "<tr>\n",
       "  <th>Date:</th>              <td>Fri, 21 Oct 2016</td>  <th>  Prob (F-statistic):</th> <td>1.18e-05</td>\n",
       "</tr>\n",
       "<tr>\n",
       "  <th>Time:</th>                  <td>10:01:44</td>      <th>  Log-Likelihood:    </th> <td> -1737.0</td>\n",
       "</tr>\n",
       "<tr>\n",
       "  <th>No. Observations:</th>       <td>    89</td>       <th>  AIC:               </th> <td>   3486.</td>\n",
       "</tr>\n",
       "<tr>\n",
       "  <th>Df Residuals:</th>           <td>    83</td>       <th>  BIC:               </th> <td>   3501.</td>\n",
       "</tr>\n",
       "<tr>\n",
       "  <th>Df Model:</th>               <td>     5</td>       <th>                     </th>     <td> </td>   \n",
       "</tr>\n",
       "<tr>\n",
       "  <th>Covariance Type:</th>       <td>nonrobust</td>     <th>                     </th>     <td> </td>   \n",
       "</tr>\n",
       "</table>\n",
       "<table class=\"simpletable\">\n",
       "<tr>\n",
       "       <td></td>         <th>coef</th>     <th>std err</th>      <th>t</th>      <th>P>|t|</th> <th>[95.0% Conf. Int.]</th> \n",
       "</tr>\n",
       "<tr>\n",
       "  <th>Intercept</th>  <td>-1.068e+07</td> <td> 4.08e+07</td> <td>   -0.262</td> <td> 0.794</td> <td>-9.18e+07  7.05e+07</td>\n",
       "</tr>\n",
       "<tr>\n",
       "  <th>Budget</th>     <td>    0.7160</td> <td>    0.170</td> <td>    4.208</td> <td> 0.000</td> <td>    0.378     1.055</td>\n",
       "</tr>\n",
       "<tr>\n",
       "  <th>Runtime</th>    <td> 5.499e+05</td> <td> 5.51e+05</td> <td>    0.998</td> <td> 0.321</td> <td>-5.46e+05  1.65e+06</td>\n",
       "</tr>\n",
       "<tr>\n",
       "  <th>PG</th>         <td> 1.307e+07</td> <td> 1.79e+07</td> <td>    0.729</td> <td> 0.468</td> <td>-2.26e+07  4.87e+07</td>\n",
       "</tr>\n",
       "<tr>\n",
       "  <th>PGthirteen</th> <td>-1.322e+07</td> <td> 1.99e+07</td> <td>   -0.664</td> <td> 0.509</td> <td>-5.29e+07  2.64e+07</td>\n",
       "</tr>\n",
       "<tr>\n",
       "  <th>R</th>          <td>-1.052e+07</td> <td> 2.05e+07</td> <td>   -0.514</td> <td> 0.608</td> <td>-5.12e+07  3.02e+07</td>\n",
       "</tr>\n",
       "<tr>\n",
       "  <th>month</th>      <td> 8.671e+05</td> <td> 2.54e+06</td> <td>    0.342</td> <td> 0.733</td> <td>-4.18e+06  5.91e+06</td>\n",
       "</tr>\n",
       "</table>\n",
       "<table class=\"simpletable\">\n",
       "<tr>\n",
       "  <th>Omnibus:</th>       <td>35.764</td> <th>  Durbin-Watson:     </th> <td>   0.743</td>\n",
       "</tr>\n",
       "<tr>\n",
       "  <th>Prob(Omnibus):</th> <td> 0.000</td> <th>  Jarque-Bera (JB):  </th> <td>  78.218</td>\n",
       "</tr>\n",
       "<tr>\n",
       "  <th>Skew:</th>          <td> 1.485</td> <th>  Prob(JB):          </th> <td>1.04e-17</td>\n",
       "</tr>\n",
       "<tr>\n",
       "  <th>Kurtosis:</th>      <td> 6.503</td> <th>  Cond. No.          </th> <td>1.39e+24</td>\n",
       "</tr>\n",
       "</table>"
      ],
      "text/plain": [
       "<class 'statsmodels.iolib.summary.Summary'>\n",
       "\"\"\"\n",
       "                            OLS Regression Results                            \n",
       "==============================================================================\n",
       "Dep. Variable:     DomesticTotalGross   R-squared:                       0.303\n",
       "Model:                            OLS   Adj. R-squared:                  0.261\n",
       "Method:                 Least Squares   F-statistic:                     7.218\n",
       "Date:                Fri, 21 Oct 2016   Prob (F-statistic):           1.18e-05\n",
       "Time:                        10:01:44   Log-Likelihood:                -1737.0\n",
       "No. Observations:                  89   AIC:                             3486.\n",
       "Df Residuals:                      83   BIC:                             3501.\n",
       "Df Model:                           5                                         \n",
       "Covariance Type:            nonrobust                                         \n",
       "==============================================================================\n",
       "                 coef    std err          t      P>|t|      [95.0% Conf. Int.]\n",
       "------------------------------------------------------------------------------\n",
       "Intercept  -1.068e+07   4.08e+07     -0.262      0.794     -9.18e+07  7.05e+07\n",
       "Budget         0.7160      0.170      4.208      0.000         0.378     1.055\n",
       "Runtime     5.499e+05   5.51e+05      0.998      0.321     -5.46e+05  1.65e+06\n",
       "PG          1.307e+07   1.79e+07      0.729      0.468     -2.26e+07  4.87e+07\n",
       "PGthirteen -1.322e+07   1.99e+07     -0.664      0.509     -5.29e+07  2.64e+07\n",
       "R          -1.052e+07   2.05e+07     -0.514      0.608     -5.12e+07  3.02e+07\n",
       "month       8.671e+05   2.54e+06      0.342      0.733     -4.18e+06  5.91e+06\n",
       "==============================================================================\n",
       "Omnibus:                       35.764   Durbin-Watson:                   0.743\n",
       "Prob(Omnibus):                  0.000   Jarque-Bera (JB):               78.218\n",
       "Skew:                           1.485   Prob(JB):                     1.04e-17\n",
       "Kurtosis:                       6.503   Cond. No.                     1.39e+24\n",
       "==============================================================================\n",
       "\n",
       "Warnings:\n",
       "[1] Standard Errors assume that the covariance matrix of the errors is correctly specified.\n",
       "[2] The smallest eigenvalue is 4.15e-31. This might indicate that there are\n",
       "strong multicollinearity problems or that the design matrix is singular.\n",
       "\"\"\""
      ]
     },
     "execution_count": 388,
     "metadata": {},
     "output_type": "execute_result"
    }
   ],
   "source": [
    "y3, X3 = patsy.dmatrices('DomesticTotalGross ~ Budget + Runtime + PG + PGthirteen + R + month*month + month', data=df_new, return_type=\"dataframe\")\n",
    "\n",
    "model = sm.OLS(y3, X3)\n",
    "\n",
    "fit1 = model.fit()\n",
    "\n",
    "fit1.summary()"
   ]
  },
  {
   "cell_type": "code",
   "execution_count": 389,
   "metadata": {
    "collapsed": false
   },
   "outputs": [
    {
     "data": {
      "text/plain": [
       "<seaborn.axisgrid.PairGrid at 0x1420b4f10>"
      ]
     },
     "execution_count": 389,
     "metadata": {},
     "output_type": "execute_result"
    },
    {
     "data": {
      "image/png": "[encoded data removed]",
      "text/plain": [
       "<matplotlib.figure.Figure at 0x1420b4950>"
      ]
     },
     "metadata": {},
     "output_type": "display_data"
    }
   ],
   "source": [
    "sns.pairplot(df_new[['DomesticTotalGross', 'Budget', 'Runtime', 'PG', 'PGthirteen', 'R', 'month']])"
   ]
  },
  {
   "cell_type": "code",
   "execution_count": 390,
   "metadata": {
    "collapsed": false
   },
   "outputs": [
    {
     "data": {
      "text/plain": [
       "<matplotlib.text.Text at 0x1473ef590>"
      ]
     },
     "execution_count": 390,
     "metadata": {},
     "output_type": "execute_result"
    },
    {
     "data": {
      "image/png": "[encoded data removed]",
      "text/plain": [
       "<matplotlib.figure.Figure at 0x142093990>"
      ]
     },
     "metadata": {},
     "output_type": "display_data"
    }
   ],
   "source": [
    "#sns.pairplot(df_new[['DomesticTotalGross', 'Budget', 'Runtime', 'PG', 'PGthirteen', 'R', 'month']])\n",
    "#df_new.corr()\n",
    "fig, ax = plt.subplots(1,1, figsize=(20,10))\n",
    "ax.set_title('Revenue by studio')\n",
    "# set a seaborn box plot\n",
    "sns.boxplot(x=df_new['Budget'].sort_values(), y=df_new['DomesticTotalGross'])\n",
    "ax.set_xlabel('feature')\n",
    "ax.set_ylabel('DGR')"
   ]
  },
  {
   "cell_type": "code",
   "execution_count": 391,
   "metadata": {
    "collapsed": true
   },
   "outputs": [],
   "source": [
    "# 3.5\n",
    "#Fitting and checking predictions on the exact same data set can be misleading. \n",
    "#Divide your data into two sets: a training and a test set (roughly 75% training, 25% test is a fine split). \n",
    "#Fit a model on the training set, check the predictions (by plotting versus actual values) in the test set."
   ]
  },
  {
   "cell_type": "code",
   "execution_count": 392,
   "metadata": {
    "collapsed": false
   },
   "outputs": [
    {
     "data": {
      "text/html": [
       "<div>\n",
       "<table border=\"1\" class=\"dataframe\">\n",
       "  <thead>\n",
       "    <tr style=\"text-align: right;\">\n",
       "      <th></th>\n",
       "      <th>Budget</th>\n",
       "      <th>Runtime</th>\n",
       "      <th>ReleaseMonth</th>\n",
       "      <th>PG</th>\n",
       "      <th>PG-13</th>\n",
       "      <th>R</th>\n",
       "      <th>PGthirteen</th>\n",
       "      <th>month</th>\n",
       "    </tr>\n",
       "  </thead>\n",
       "  <tbody>\n",
       "    <tr>\n",
       "      <th>0</th>\n",
       "      <td>130000000.0</td>\n",
       "      <td>146</td>\n",
       "      <td>11</td>\n",
       "      <td>0.0</td>\n",
       "      <td>1.0</td>\n",
       "      <td>0.0</td>\n",
       "      <td>1.0</td>\n",
       "      <td>11</td>\n",
       "    </tr>\n",
       "    <tr>\n",
       "      <th>1</th>\n",
       "      <td>200000000.0</td>\n",
       "      <td>129</td>\n",
       "      <td>5</td>\n",
       "      <td>0.0</td>\n",
       "      <td>1.0</td>\n",
       "      <td>0.0</td>\n",
       "      <td>1.0</td>\n",
       "      <td>5</td>\n",
       "    </tr>\n",
       "    <tr>\n",
       "      <th>2</th>\n",
       "      <td>150000000.0</td>\n",
       "      <td>108</td>\n",
       "      <td>11</td>\n",
       "      <td>1.0</td>\n",
       "      <td>0.0</td>\n",
       "      <td>0.0</td>\n",
       "      <td>0.0</td>\n",
       "      <td>11</td>\n",
       "    </tr>\n",
       "    <tr>\n",
       "      <th>3</th>\n",
       "      <td>76000000.0</td>\n",
       "      <td>98</td>\n",
       "      <td>7</td>\n",
       "      <td>1.0</td>\n",
       "      <td>0.0</td>\n",
       "      <td>0.0</td>\n",
       "      <td>0.0</td>\n",
       "      <td>7</td>\n",
       "    </tr>\n",
       "    <tr>\n",
       "      <th>4</th>\n",
       "      <td>225000000.0</td>\n",
       "      <td>143</td>\n",
       "      <td>6</td>\n",
       "      <td>0.0</td>\n",
       "      <td>1.0</td>\n",
       "      <td>0.0</td>\n",
       "      <td>1.0</td>\n",
       "      <td>6</td>\n",
       "    </tr>\n",
       "  </tbody>\n",
       "</table>\n",
       "</div>"
      ],
      "text/plain": [
       "        Budget  Runtime  ReleaseMonth   PG  PG-13    R  PGthirteen  month\n",
       "0  130000000.0      146            11  0.0    1.0  0.0         1.0     11\n",
       "1  200000000.0      129             5  0.0    1.0  0.0         1.0      5\n",
       "2  150000000.0      108            11  1.0    0.0  0.0         0.0     11\n",
       "3   76000000.0       98             7  1.0    0.0  0.0         0.0      7\n",
       "4  225000000.0      143             6  0.0    1.0  0.0         1.0      6"
      ]
     },
     "execution_count": 392,
     "metadata": {},
     "output_type": "execute_result"
    }
   ],
   "source": [
    "# Dump your predictors into X\n",
    "#features = test_df.columns.difference([\"DGR\"]) #difference excludes id'd \n",
    "#X = test_df.loc[:, features] #.drop creates a copy of a df, .loc encompasses change across defined rows and columns\n",
    "# Dump your target variables (responses) into y\n",
    "#y = test_df[\"DGR\"] #response vector selected\n",
    "\n",
    "y = df_new['DomesticTotalGross']\n",
    "X = df_new.drop('DomesticTotalGross', 1).drop('Director',1).drop('Title',1).drop('Rating',1).drop('ReleaseDate',1).drop('Ones', 1)\n",
    "\n",
    "X.head()"
   ]
  },
  {
   "cell_type": "code",
   "execution_count": 411,
   "metadata": {
    "collapsed": false
   },
   "outputs": [],
   "source": [
    "from sklearn import metrics\n",
    "#lr = LinearRegression()\n",
    "\n",
    "X_train, X_test, y_train, y_test = train_test_split(X, y, train_size =0.75)\n",
    "\n",
    "#fit\n",
    "#lr.fit(X_train, y_train)\n",
    "#score\n",
    "##y_predict = lr.score(X_test, y_test)\n",
    "\n",
    "#y_pred = fit.predict(X_test)\n",
    "model = sm.OLS(y_train, X_train) \n",
    "fit = model.fit()\n",
    "y_predict = fit.predict(X_test)\n",
    "score = metrics.r2_score(y_test, y_predict)"
   ]
  },
  {
   "cell_type": "code",
   "execution_count": 405,
   "metadata": {
    "collapsed": false
   },
   "outputs": [
    {
     "data": {
      "text/plain": [
       "'from sklearn.cross_validation import train_test_split\\nX_train, X_test, y_train, y_test = train_test_split(X, y, test_size=0.4, random_state=42)\\nprint(X_train.shape)\\nprint(X_test.shape)\\nprint(y_train.shape)\\nprint(y_test.shape)\\nknn = KNeighborsClassifier(n_neighbors=5)\\nknn.fit(X_train, y_train)\\ny_pred = knn.predict(X_test)\\nprint(metrics.accuracy_score(y_test, y_pred))\\n'"
      ]
     },
     "execution_count": 405,
     "metadata": {},
     "output_type": "execute_result"
    }
   ],
   "source": [
    "\"\"\"from sklearn.cross_validation import train_test_split\n",
    "X_train, X_test, y_train, y_test = train_test_split(X, y, test_size=0.4, random_state=42)\n",
    "print(X_train.shape)\n",
    "print(X_test.shape)\n",
    "print(y_train.shape)\n",
    "print(y_test.shape)\n",
    "knn = KNeighborsClassifier(n_neighbors=5)\n",
    "knn.fit(X_train, y_train)\n",
    "y_pred = knn.predict(X_test)\n",
    "print(metrics.accuracy_score(y_test, y_pred))\n",
    "\"\"\""
   ]
  },
  {
   "cell_type": "code",
   "execution_count": 420,
   "metadata": {
    "collapsed": false
   },
   "outputs": [
    {
     "name": "stdout",
     "output_type": "stream",
     "text": [
      "(23,)\n",
      "(23,)\n"
     ]
    }
   ],
   "source": [
    "print(y_predict.shape)\n",
    "print(y_test.shape)"
   ]
  },
  {
   "cell_type": "code",
   "execution_count": 418,
   "metadata": {
    "collapsed": false
   },
   "outputs": [
    {
     "data": {
      "text/plain": [
       "<matplotlib.text.Text at 0x1473ef590>"
      ]
     },
     "execution_count": 418,
     "metadata": {},
     "output_type": "execute_result"
    },
    {
     "data": {
      "image/png": "[encoded data removed]",
      "text/plain": [
       "<matplotlib.figure.Figure at 0x14969f390>"
      ]
     },
     "metadata": {},
     "output_type": "display_data"
    }
   ],
   "source": [
    "plt.plot(y_test ,y_predict, 'o')\n",
    "ax.set_xlabel('Actual')\n",
    "ax.set_ylabel('Predicted')\n"
   ]
  }
 ],
 "metadata": {
  "anaconda-cloud": {},
  "kernelspec": {
   "display_name": "Python [Root]",
   "language": "python",
   "name": "Python [Root]"
  },
  "language_info": {
   "codemirror_mode": {
    "name": "ipython",
    "version": 2
   },
   "file_extension": ".py",
   "mimetype": "text/x-python",
   "name": "python",
   "nbconvert_exporter": "python",
   "pygments_lexer": "ipython2",
   "version": "2.7.12"
  }
 },
 "nbformat": 4,
 "nbformat_minor": 0
}
