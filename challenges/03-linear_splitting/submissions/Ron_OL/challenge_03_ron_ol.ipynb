{
 "cells": [
  {
   "cell_type": "markdown",
   "metadata": {},
   "source": [
    "#### Challenge Set 3  \n",
    "\n",
    "**Topic:** Linear Regression and Train/Test Split  \n",
    "**Date:** 17 October 2016  \n",
    "**Name:** Ron Olshansky-Lucero  "
   ]
  },
  {
   "cell_type": "code",
   "execution_count": 257,
   "metadata": {
    "collapsed": false
   },
   "outputs": [],
   "source": [
    "# Python 2/3 compatibility\n",
    "from __future__ import print_function, division\n",
    "\n",
    "#\n",
    "import pandas as pd\n",
    "import numpy as np\n",
    "import matplotlib.pyplot as plt\n",
    "import seaborn as sns\n",
    "import statsmodels.api as sm\n",
    "import statsmodels.formula.api as smf\n",
    "import patsy\n",
    "from sklearn.linear_model import LinearRegression\n",
    "from sklearn.cross_validation import train_test_split\n",
    "from sklearn.linear_model import RidgeCV\n",
    "from datetime import datetime\n",
    "\n",
    "%matplotlib inline"
   ]
  },
  {
   "cell_type": "code",
   "execution_count": 258,
   "metadata": {
    "collapsed": false
   },
   "outputs": [],
   "source": [
    "data_path = 'data/2013_movies.csv'\n",
    "df = pd.read_csv(data_path)"
   ]
  },
  {
   "cell_type": "code",
   "execution_count": 259,
   "metadata": {
    "collapsed": false
   },
   "outputs": [
    {
     "name": "stdout",
     "output_type": "stream",
     "text": [
      "<class 'pandas.core.frame.DataFrame'>\n",
      "RangeIndex: 100 entries, 0 to 99\n",
      "Data columns (total 7 columns):\n",
      "Title                 100 non-null object\n",
      "Budget                89 non-null float64\n",
      "DomesticTotalGross    100 non-null int64\n",
      "Director              96 non-null object\n",
      "Rating                100 non-null object\n",
      "Runtime               100 non-null int64\n",
      "ReleaseDate           100 non-null object\n",
      "dtypes: float64(1), int64(2), object(4)\n",
      "memory usage: 5.5+ KB\n"
     ]
    }
   ],
   "source": [
    "df.info() # need to drop null values"
   ]
  },
  {
   "cell_type": "code",
   "execution_count": 260,
   "metadata": {
    "collapsed": false
   },
   "outputs": [
    {
     "name": "stdout",
     "output_type": "stream",
     "text": [
      "<class 'pandas.core.frame.DataFrame'>\n",
      "Int64Index: 87 entries, 0 to 99\n",
      "Data columns (total 7 columns):\n",
      "Title                 87 non-null object\n",
      "Budget                87 non-null float64\n",
      "DomesticTotalGross    87 non-null int64\n",
      "Director              87 non-null object\n",
      "Rating                87 non-null object\n",
      "Runtime               87 non-null int64\n",
      "ReleaseDate           87 non-null object\n",
      "dtypes: float64(1), int64(2), object(4)\n",
      "memory usage: 5.4+ KB\n"
     ]
    }
   ],
   "source": [
    "df.dropna(inplace = True)\n",
    "df.info() # dropped 13 observations"
   ]
  },
  {
   "cell_type": "markdown",
   "metadata": {},
   "source": [
    "#### Exercise 3.1  \n",
    "\n",
    "Build a linear model that uses only a constant term (a column of ones) to predict a continuous outcome (like domestic total gross).\n",
    "\n",
    "How can you interpret the results of this model? What does it predict?\n",
    "\n",
    "Make a plot of predictions against actual outcome. Make a histogram of residuals. How are the residuals distributed?"
   ]
  },
  {
   "cell_type": "code",
   "execution_count": 261,
   "metadata": {
    "collapsed": false
   },
   "outputs": [
    {
     "data": {
      "text/html": [
       "<div>\n",
       "<table border=\"1\" class=\"dataframe\">\n",
       "  <thead>\n",
       "    <tr style=\"text-align: right;\">\n",
       "      <th></th>\n",
       "      <th>Title</th>\n",
       "      <th>Budget</th>\n",
       "      <th>DomesticTotalGross</th>\n",
       "      <th>Director</th>\n",
       "      <th>Rating</th>\n",
       "      <th>Runtime</th>\n",
       "      <th>ReleaseDate</th>\n",
       "    </tr>\n",
       "  </thead>\n",
       "  <tbody>\n",
       "    <tr>\n",
       "      <th>0</th>\n",
       "      <td>The Hunger Games: Catching Fire</td>\n",
       "      <td>130000000.0</td>\n",
       "      <td>424668047</td>\n",
       "      <td>Francis Lawrence</td>\n",
       "      <td>PG-13</td>\n",
       "      <td>146</td>\n",
       "      <td>11/22/13 0:00</td>\n",
       "    </tr>\n",
       "    <tr>\n",
       "      <th>1</th>\n",
       "      <td>Iron Man 3</td>\n",
       "      <td>200000000.0</td>\n",
       "      <td>409013994</td>\n",
       "      <td>Shane Black</td>\n",
       "      <td>PG-13</td>\n",
       "      <td>129</td>\n",
       "      <td>5/3/13 0:00</td>\n",
       "    </tr>\n",
       "    <tr>\n",
       "      <th>2</th>\n",
       "      <td>Frozen</td>\n",
       "      <td>150000000.0</td>\n",
       "      <td>400738009</td>\n",
       "      <td>Chris BuckJennifer Lee</td>\n",
       "      <td>PG</td>\n",
       "      <td>108</td>\n",
       "      <td>11/22/13 0:00</td>\n",
       "    </tr>\n",
       "    <tr>\n",
       "      <th>3</th>\n",
       "      <td>Despicable Me 2</td>\n",
       "      <td>76000000.0</td>\n",
       "      <td>368061265</td>\n",
       "      <td>Pierre CoffinChris Renaud</td>\n",
       "      <td>PG</td>\n",
       "      <td>98</td>\n",
       "      <td>7/3/13 0:00</td>\n",
       "    </tr>\n",
       "    <tr>\n",
       "      <th>4</th>\n",
       "      <td>Man of Steel</td>\n",
       "      <td>225000000.0</td>\n",
       "      <td>291045518</td>\n",
       "      <td>Zack Snyder</td>\n",
       "      <td>PG-13</td>\n",
       "      <td>143</td>\n",
       "      <td>6/14/13 0:00</td>\n",
       "    </tr>\n",
       "  </tbody>\n",
       "</table>\n",
       "</div>"
      ],
      "text/plain": [
       "                             Title       Budget  DomesticTotalGross  \\\n",
       "0  The Hunger Games: Catching Fire  130000000.0           424668047   \n",
       "1                       Iron Man 3  200000000.0           409013994   \n",
       "2                           Frozen  150000000.0           400738009   \n",
       "3                  Despicable Me 2   76000000.0           368061265   \n",
       "4                     Man of Steel  225000000.0           291045518   \n",
       "\n",
       "                    Director Rating  Runtime    ReleaseDate  \n",
       "0           Francis Lawrence  PG-13      146  11/22/13 0:00  \n",
       "1                Shane Black  PG-13      129    5/3/13 0:00  \n",
       "2     Chris BuckJennifer Lee     PG      108  11/22/13 0:00  \n",
       "3  Pierre CoffinChris Renaud     PG       98    7/3/13 0:00  \n",
       "4                Zack Snyder  PG-13      143   6/14/13 0:00  "
      ]
     },
     "execution_count": 261,
     "metadata": {},
     "output_type": "execute_result"
    }
   ],
   "source": [
    "df.head()"
   ]
  },
  {
   "cell_type": "code",
   "execution_count": 262,
   "metadata": {
    "collapsed": false
   },
   "outputs": [],
   "source": [
    "# predict DomesticTotalGross with a constant term\n",
    "df['Constant'] = 1\n",
    "X1 = df['Constant']\n",
    "y1 = df['DomesticTotalGross']"
   ]
  },
  {
   "cell_type": "code",
   "execution_count": 263,
   "metadata": {
    "collapsed": false
   },
   "outputs": [
    {
     "name": "stdout",
     "output_type": "stream",
     "text": [
      "                            OLS Regression Results                            \n",
      "==============================================================================\n",
      "Dep. Variable:     DomesticTotalGross   R-squared:                      -0.000\n",
      "Model:                            OLS   Adj. R-squared:                 -0.000\n",
      "Method:                 Least Squares   F-statistic:                      -inf\n",
      "Date:                Sat, 15 Oct 2016   Prob (F-statistic):                nan\n",
      "Time:                        22:08:10   Log-Likelihood:                -1714.4\n",
      "No. Observations:                  87   AIC:                             3431.\n",
      "Df Residuals:                      86   BIC:                             3433.\n",
      "Df Model:                           0                                         \n",
      "Covariance Type:            nonrobust                                         \n",
      "==============================================================================\n",
      "                 coef    std err          t      P>|t|      [95.0% Conf. Int.]\n",
      "------------------------------------------------------------------------------\n",
      "Constant    1.035e+08   9.43e+06     10.975      0.000      8.48e+07  1.22e+08\n",
      "==============================================================================\n",
      "Omnibus:                       47.828   Durbin-Watson:                   0.016\n",
      "Prob(Omnibus):                  0.000   Jarque-Bera (JB):              119.528\n",
      "Skew:                           2.032   Prob(JB):                     1.11e-26\n",
      "Kurtosis:                       7.058   Cond. No.                         1.00\n",
      "==============================================================================\n",
      "\n",
      "Warnings:\n",
      "[1] Standard Errors assume that the covariance matrix of the errors is correctly specified.\n"
     ]
    }
   ],
   "source": [
    "# model1 (null model with only constant term)\n",
    "model1 = sm.OLS(y1, X1)\n",
    "fit1 = model1.fit()\n",
    "print(fit1.summary())"
   ]
  },
  {
   "cell_type": "code",
   "execution_count": 264,
   "metadata": {
    "collapsed": false
   },
   "outputs": [
    {
     "data": {
      "text/plain": [
       "103515275.64367816"
      ]
     },
     "execution_count": 264,
     "metadata": {},
     "output_type": "execute_result"
    }
   ],
   "source": [
    "y1.mean() # 103,515,275.64367816"
   ]
  },
  {
   "cell_type": "code",
   "execution_count": 265,
   "metadata": {
    "collapsed": false
   },
   "outputs": [],
   "source": [
    "# generate predicted values and residuals\n",
    "y1_pred = fit1.predict(X1)\n",
    "resid1 = fit1.resid"
   ]
  },
  {
   "cell_type": "code",
   "execution_count": 266,
   "metadata": {
    "collapsed": false
   },
   "outputs": [
    {
     "data": {
      "image/png": "[encoded data removed]",
      "text/plain": [
       "<matplotlib.figure.Figure at 0x139d9d400>"
      ]
     },
     "metadata": {},
     "output_type": "display_data"
    }
   ],
   "source": [
    "plt.figure(figsize = (20, 10))\n",
    "\n",
    "# plot predicted vs actual y values\n",
    "plt.subplot(1, 3, 1)\n",
    "plt.title('PREDICTED VS. ACTUAL RESPONSE', fontsize = 15)\n",
    "plt.xlabel('Actual Domestic Total Gross')\n",
    "plt.ylabel('Predicted Domestic Total Gross')\n",
    "plt.plot(y1, y1_pred, 'o')\n",
    "\n",
    "# plot histogram of residuals\n",
    "plt.subplot(1, 3, 2)\n",
    "plt.title('RESIDUALS', fontsize = 15)\n",
    "plt.hist(resid1)\n",
    "\n",
    "# plot histogram of actual values\n",
    "plt.subplot(1, 3, 3)\n",
    "plt.title('ACTUAL RESPONSE', fontsize = 15)\n",
    "plt.hist(y1);"
   ]
  },
  {
   "cell_type": "markdown",
   "metadata": {},
   "source": [
    "A regression model with only a constant/intercept term (also known as a 'null' model) is basically the same as computing the mean of the response variable.\n",
    "\n",
    "The intercept can be interpreted as the expected mean value of y when all other predictors (Xs) are zero (hence the term 'null' model).\n",
    "\n",
    "In fact, the value of the intercept is equal to the mean of y in this model, which is approximately $103 million (rounded). This is demonstrated visually in the plot of predicted vs. actual values of the response. The plot shows a horizontal line at approximately y = 1.03 million, which is the mean of the response. \n",
    "\n",
    "Consequently, the R^2 and adjusted R^2 are essentially zero, because the model does not take into account any other data but the response variable. This means that the variation in y is being explained only by y itself. Hence the model cannot explain any of the variation in the response data.\n",
    "\n",
    "Since the model is merely computing the mean of the response variable, the distribution of the residuals is identical to the distribution of the response variable, as can be seen in the histograms above (center and right figure).\n"
   ]
  },
  {
   "cell_type": "markdown",
   "metadata": {
    "collapsed": false
   },
   "source": [
    "#### Exercise 3.2\n",
    "\n",
    "Repeat the process above, but also add one continuous (numeric) predictor variable.\n",
    "\n",
    "Also add plots of model prediction against your feature variable (predicted vs predictor) and residuals against feature variable.\n",
    "\n",
    "How can you interpret what's happening in the model?"
   ]
  },
  {
   "cell_type": "code",
   "execution_count": 267,
   "metadata": {
    "collapsed": true
   },
   "outputs": [],
   "source": [
    "# model2 (one numeric predictor)\n",
    "y2 = y1\n",
    "X2 = df[['Constant','Budget']]"
   ]
  },
  {
   "cell_type": "code",
   "execution_count": 268,
   "metadata": {
    "collapsed": false
   },
   "outputs": [
    {
     "name": "stdout",
     "output_type": "stream",
     "text": [
      "                            OLS Regression Results                            \n",
      "==============================================================================\n",
      "Dep. Variable:     DomesticTotalGross   R-squared:                       0.282\n",
      "Model:                            OLS   Adj. R-squared:                  0.274\n",
      "Method:                 Least Squares   F-statistic:                     33.43\n",
      "Date:                Sat, 15 Oct 2016   Prob (F-statistic):           1.19e-07\n",
      "Time:                        22:08:10   Log-Likelihood:                -1700.0\n",
      "No. Observations:                  87   AIC:                             3404.\n",
      "Df Residuals:                      85   BIC:                             3409.\n",
      "Df Model:                           1                                         \n",
      "Covariance Type:            nonrobust                                         \n",
      "==============================================================================\n",
      "                 coef    std err          t      P>|t|      [95.0% Conf. Int.]\n",
      "------------------------------------------------------------------------------\n",
      "Constant    4.443e+07    1.3e+07      3.418      0.001      1.86e+07  7.03e+07\n",
      "Budget         0.7831      0.135      5.782      0.000         0.514     1.052\n",
      "==============================================================================\n",
      "Omnibus:                       38.475   Durbin-Watson:                   0.666\n",
      "Prob(Omnibus):                  0.000   Jarque-Bera (JB):               92.671\n",
      "Skew:                           1.577   Prob(JB):                     7.53e-21\n",
      "Kurtosis:                       6.952   Cond. No.                     1.55e+08\n",
      "==============================================================================\n",
      "\n",
      "Warnings:\n",
      "[1] Standard Errors assume that the covariance matrix of the errors is correctly specified.\n",
      "[2] The condition number is large, 1.55e+08. This might indicate that there are\n",
      "strong multicollinearity or other numerical problems.\n"
     ]
    }
   ],
   "source": [
    "model2 = sm.OLS(y2, X2)\n",
    "fit2 = model2.fit()\n",
    "print(fit2.summary())"
   ]
  },
  {
   "cell_type": "code",
   "execution_count": 269,
   "metadata": {
    "collapsed": true
   },
   "outputs": [],
   "source": [
    "# generate predicted values and residuals\n",
    "y2_pred = fit2.predict(X2)\n",
    "resid2 = fit2.resid"
   ]
  },
  {
   "cell_type": "code",
   "execution_count": 270,
   "metadata": {
    "collapsed": false
   },
   "outputs": [
    {
     "data": {
      "image/png": "[encoded data removed]",
      "text/plain": [
       "<matplotlib.figure.Figure at 0x12f6bab38>"
      ]
     },
     "metadata": {},
     "output_type": "display_data"
    }
   ],
   "source": [
    "plt.figure(figsize = (20, 20))\n",
    "\n",
    "# plot predicted vs actual y values\n",
    "plt.subplot(2, 3, 1)\n",
    "plt.title('PREDICTED VS. ACTUAL RESPONSE', fontsize = 15)\n",
    "plt.xlabel('Actual Domestic Total Gross')\n",
    "plt.ylabel('Predicted Domestic Total Gross')\n",
    "plt.plot(y2, y2_pred, 'o')\n",
    "\n",
    "# plot residuals vs predictor (budget)\n",
    "plt.subplot(2, 3, 2)\n",
    "plt.title('RESIDUALS VS. PREDICTOR', fontsize = 15)\n",
    "plt.xlabel('Budget')\n",
    "plt.ylabel('Residuals')\n",
    "plt.plot(X2['Budget'], resid2, 'o')\n",
    "\n",
    "# plot predicted values vs predictor (budget)\n",
    "plt.subplot(2, 3, 3)\n",
    "plt.title('PREDICTED RESPONSE VS. PREDICTOR', fontsize = 15)\n",
    "plt.xlabel('Budget')\n",
    "plt.ylabel('Predicted Domestic Total Gross')\n",
    "plt.plot(X2['Budget'], y2_pred, 'o')\n",
    "\n",
    "# plot response vs predictor (budget)\n",
    "plt.subplot(2, 3, 4)\n",
    "plt.title('RESPONSE VS. PREDICTOR', fontsize = 15)\n",
    "plt.xlabel('Budget')\n",
    "plt.ylabel('Domestic Total Gross')\n",
    "plt.plot(X2['Budget'], y2, 'o')\n",
    "\n",
    "# plot histogram of residuals\n",
    "plt.subplot(2, 3, 5)\n",
    "plt.title('RESIDUALS', fontsize = 15)\n",
    "plt.hist(resid2)\n",
    "\n",
    "# plot histogram of actual values\n",
    "plt.subplot(2, 3, 6)\n",
    "plt.title('ACTUAL RESPONSE', fontsize = 15)\n",
    "plt.hist(y2);"
   ]
  },
  {
   "cell_type": "markdown",
   "metadata": {},
   "source": [
    "The second model is definitely an improvement on the first (null) model. The adjusted R^2 of 0.274 means that the added predictor, `Budget`, is able to explain about 27% of the variation in the response variable, `DomesticTotalGross`, compared to the null model.\n",
    "\n",
    "Although adding a predictor helps, the model suffers from nonconstant variance (heteroscedasticity), as can be seen in the first two plots:\n",
    "\n",
    "- predicted vs actual response\n",
    "- residuals vs predictor (budget)\n",
    "\n",
    "The first plot shows that while there appears to be a somehwat linear relationship between the predicted and actual `DomesticTotalGross` values, the dispersion of the data points tends to get worse as the actual `DomesticTotalGross` values increase, which means that the predictive power of the model gets worse for observations where the value of the response `DomesticTotalGross` is larger than a certain value (above $3 million, in this case). This likely has to do with the fact that there might be two different groups of films, which can be seen in the histogram of the actual response variable (last plot).\n",
    "\n",
    "The nonconstant variance can also be seen in the plot of residuals against the predictor, which shows that the errors tend to get worse for larger values of the predictor `Budget`. The histogram of residuals also points to the possibility of two different groups of films, since the residuals tend to be almost normally distributed for most of the films, except for a a much smaller group.\n",
    "\n",
    "Finally, a plot of `DomesticTotalGross` against the predictor `Budget`  (bottom left) again points to a weaker relationship for larger values of both variables."
   ]
  },
  {
   "cell_type": "markdown",
   "metadata": {},
   "source": [
    "#### Exercise 3.3\n",
    "\n",
    "Repeat the process from 3.1, but add a categorical feature. You'll have to convert a column of text into a number of numerical columns ('dummy variables').\n",
    "\n",
    "How can you interpret what's happening in the model?"
   ]
  },
  {
   "cell_type": "code",
   "execution_count": 271,
   "metadata": {
    "collapsed": false
   },
   "outputs": [
    {
     "data": {
      "text/html": [
       "<div>\n",
       "<table border=\"1\" class=\"dataframe\">\n",
       "  <thead>\n",
       "    <tr style=\"text-align: right;\">\n",
       "      <th></th>\n",
       "      <th>const</th>\n",
       "      <th>PG</th>\n",
       "      <th>PG-13</th>\n",
       "      <th>R</th>\n",
       "    </tr>\n",
       "  </thead>\n",
       "  <tbody>\n",
       "    <tr>\n",
       "      <th>0</th>\n",
       "      <td>1</td>\n",
       "      <td>0.0</td>\n",
       "      <td>1.0</td>\n",
       "      <td>0.0</td>\n",
       "    </tr>\n",
       "    <tr>\n",
       "      <th>1</th>\n",
       "      <td>1</td>\n",
       "      <td>0.0</td>\n",
       "      <td>1.0</td>\n",
       "      <td>0.0</td>\n",
       "    </tr>\n",
       "    <tr>\n",
       "      <th>2</th>\n",
       "      <td>1</td>\n",
       "      <td>1.0</td>\n",
       "      <td>0.0</td>\n",
       "      <td>0.0</td>\n",
       "    </tr>\n",
       "    <tr>\n",
       "      <th>3</th>\n",
       "      <td>1</td>\n",
       "      <td>1.0</td>\n",
       "      <td>0.0</td>\n",
       "      <td>0.0</td>\n",
       "    </tr>\n",
       "    <tr>\n",
       "      <th>4</th>\n",
       "      <td>1</td>\n",
       "      <td>0.0</td>\n",
       "      <td>1.0</td>\n",
       "      <td>0.0</td>\n",
       "    </tr>\n",
       "  </tbody>\n",
       "</table>\n",
       "</div>"
      ],
      "text/plain": [
       "   const   PG  PG-13    R\n",
       "0      1  0.0    1.0  0.0\n",
       "1      1  0.0    1.0  0.0\n",
       "2      1  1.0    0.0  0.0\n",
       "3      1  1.0    0.0  0.0\n",
       "4      1  0.0    1.0  0.0"
      ]
     },
     "execution_count": 271,
     "metadata": {},
     "output_type": "execute_result"
    }
   ],
   "source": [
    "# model3 (categorical feature)\n",
    "# - turn levels into features\n",
    "# df.Rating.unique() # ['PG-13', 'PG', 'R']\n",
    "y3 = y1\n",
    "X3 = pd.get_dummies(df['Rating'])\n",
    "X3 = sm.add_constant(X3) # alternative to adding a column of 1s to df\n",
    "X3.head()"
   ]
  },
  {
   "cell_type": "code",
   "execution_count": 272,
   "metadata": {
    "collapsed": false
   },
   "outputs": [
    {
     "name": "stdout",
     "output_type": "stream",
     "text": [
      "                            OLS Regression Results                            \n",
      "==============================================================================\n",
      "Dep. Variable:     DomesticTotalGross   R-squared:                       0.072\n",
      "Model:                            OLS   Adj. R-squared:                  0.050\n",
      "Method:                 Least Squares   F-statistic:                     3.242\n",
      "Date:                Sat, 15 Oct 2016   Prob (F-statistic):             0.0440\n",
      "Time:                        22:08:12   Log-Likelihood:                -1711.2\n",
      "No. Observations:                  87   AIC:                             3428.\n",
      "Df Residuals:                      84   BIC:                             3436.\n",
      "Df Model:                           2                                         \n",
      "Covariance Type:            nonrobust                                         \n",
      "==============================================================================\n",
      "                 coef    std err          t      P>|t|      [95.0% Conf. Int.]\n",
      "------------------------------------------------------------------------------\n",
      "const       8.098e+07   7.63e+06     10.609      0.000      6.58e+07  9.62e+07\n",
      "PG          5.097e+07   1.79e+07      2.845      0.006      1.53e+07  8.66e+07\n",
      "PG-13       3.675e+07   1.23e+07      2.999      0.004      1.24e+07  6.11e+07\n",
      "R          -6.747e+06    1.3e+07     -0.518      0.606     -3.27e+07  1.92e+07\n",
      "==============================================================================\n",
      "Omnibus:                       39.974   Durbin-Watson:                   0.169\n",
      "Prob(Omnibus):                  0.000   Jarque-Bera (JB):               83.928\n",
      "Skew:                           1.759   Prob(JB):                     5.96e-19\n",
      "Kurtosis:                       6.283   Cond. No.                     6.20e+15\n",
      "==============================================================================\n",
      "\n",
      "Warnings:\n",
      "[1] Standard Errors assume that the covariance matrix of the errors is correctly specified.\n",
      "[2] The smallest eigenvalue is 3.15e-30. This might indicate that there are\n",
      "strong multicollinearity problems or that the design matrix is singular.\n"
     ]
    }
   ],
   "source": [
    "model3 = sm.OLS(y3, X3)\n",
    "fit3 = model3.fit()\n",
    "print(fit3.summary())"
   ]
  },
  {
   "cell_type": "code",
   "execution_count": 273,
   "metadata": {
    "collapsed": true
   },
   "outputs": [],
   "source": [
    "# generate predicted values and residuals\n",
    "y3_pred = fit3.predict(X3)\n",
    "resid3 = fit3.resid"
   ]
  },
  {
   "cell_type": "code",
   "execution_count": 274,
   "metadata": {
    "collapsed": false
   },
   "outputs": [
    {
     "data": {
      "image/png": "[encoded data removed]",
      "text/plain": [
       "<matplotlib.figure.Figure at 0x13a353978>"
      ]
     },
     "metadata": {},
     "output_type": "display_data"
    }
   ],
   "source": [
    "plt.figure(figsize = (20, 20))\n",
    "\n",
    "# plot predicted vs actual y values\n",
    "plt.subplot(2, 2, 1)\n",
    "plt.title('PREDICTED VS. ACTUAL RESPONSE', fontsize = 15)\n",
    "plt.xlabel('Actual Domestic Total Gross')\n",
    "plt.ylabel('Predicted Domestic Total Gross')\n",
    "plt.plot(y3, y3_pred, 'o')\n",
    "\n",
    "plt.subplot(2, 2, 2)\n",
    "plt.title('DOMESTIC TOTAL GROSS FOR DIFFERENT RATINGS', fontsize = 15)\n",
    "sns.boxplot(x = df['Rating'], y = df['DomesticTotalGross'])\n",
    "\n",
    "# plot histogram of residuals\n",
    "plt.subplot(2, 2, 3)\n",
    "plt.title('RESIDUALS', fontsize = 15)\n",
    "plt.hist(resid3)\n",
    "\n",
    "# plot histogram of actual values\n",
    "plt.subplot(2, 2, 4)\n",
    "plt.title('ACTUAL RESPONSE', fontsize = 15)\n",
    "plt.hist(y3);"
   ]
  },
  {
   "cell_type": "markdown",
   "metadata": {},
   "source": [
    "The model with only categorical predictors and a constant term performs considerably worse.\n",
    "\n",
    "This model is basically a variation on ANOVA, and is effectively merely computing differences in group means, where the groups are the levels of `Rating` (PG, PG-13, R).\n",
    "\n",
    "The distribution of the residuals are not that different from the distribution of the response variable (as can be seen in the histograms)."
   ]
  },
  {
   "cell_type": "markdown",
   "metadata": {},
   "source": [
    "#### Exercise 3.4\n",
    "\n",
    "Enhance your model further by adding more features and/or transforming existing features. This about how you build the model matrix and how to interpret what the model is doing."
   ]
  },
  {
   "cell_type": "code",
   "execution_count": 275,
   "metadata": {
    "collapsed": false
   },
   "outputs": [
    {
     "data": {
      "text/html": [
       "<div>\n",
       "<table border=\"1\" class=\"dataframe\">\n",
       "  <thead>\n",
       "    <tr style=\"text-align: right;\">\n",
       "      <th></th>\n",
       "      <th>Title</th>\n",
       "      <th>Budget</th>\n",
       "      <th>DomesticTotalGross</th>\n",
       "      <th>Director</th>\n",
       "      <th>Rating</th>\n",
       "      <th>Runtime</th>\n",
       "      <th>ReleaseDate</th>\n",
       "    </tr>\n",
       "  </thead>\n",
       "  <tbody>\n",
       "    <tr>\n",
       "      <th>0</th>\n",
       "      <td>The Hunger Games: Catching Fire</td>\n",
       "      <td>130000000.0</td>\n",
       "      <td>424668047</td>\n",
       "      <td>Francis Lawrence</td>\n",
       "      <td>PG-13</td>\n",
       "      <td>146</td>\n",
       "      <td>11/22/13 0:00</td>\n",
       "    </tr>\n",
       "    <tr>\n",
       "      <th>1</th>\n",
       "      <td>Iron Man 3</td>\n",
       "      <td>200000000.0</td>\n",
       "      <td>409013994</td>\n",
       "      <td>Shane Black</td>\n",
       "      <td>PG-13</td>\n",
       "      <td>129</td>\n",
       "      <td>5/3/13 0:00</td>\n",
       "    </tr>\n",
       "    <tr>\n",
       "      <th>2</th>\n",
       "      <td>Frozen</td>\n",
       "      <td>150000000.0</td>\n",
       "      <td>400738009</td>\n",
       "      <td>Chris BuckJennifer Lee</td>\n",
       "      <td>PG</td>\n",
       "      <td>108</td>\n",
       "      <td>11/22/13 0:00</td>\n",
       "    </tr>\n",
       "    <tr>\n",
       "      <th>3</th>\n",
       "      <td>Despicable Me 2</td>\n",
       "      <td>76000000.0</td>\n",
       "      <td>368061265</td>\n",
       "      <td>Pierre CoffinChris Renaud</td>\n",
       "      <td>PG</td>\n",
       "      <td>98</td>\n",
       "      <td>7/3/13 0:00</td>\n",
       "    </tr>\n",
       "    <tr>\n",
       "      <th>4</th>\n",
       "      <td>Man of Steel</td>\n",
       "      <td>225000000.0</td>\n",
       "      <td>291045518</td>\n",
       "      <td>Zack Snyder</td>\n",
       "      <td>PG-13</td>\n",
       "      <td>143</td>\n",
       "      <td>6/14/13 0:00</td>\n",
       "    </tr>\n",
       "  </tbody>\n",
       "</table>\n",
       "</div>"
      ],
      "text/plain": [
       "                             Title       Budget  DomesticTotalGross  \\\n",
       "0  The Hunger Games: Catching Fire  130000000.0           424668047   \n",
       "1                       Iron Man 3  200000000.0           409013994   \n",
       "2                           Frozen  150000000.0           400738009   \n",
       "3                  Despicable Me 2   76000000.0           368061265   \n",
       "4                     Man of Steel  225000000.0           291045518   \n",
       "\n",
       "                    Director Rating  Runtime    ReleaseDate  \n",
       "0           Francis Lawrence  PG-13      146  11/22/13 0:00  \n",
       "1                Shane Black  PG-13      129    5/3/13 0:00  \n",
       "2     Chris BuckJennifer Lee     PG      108  11/22/13 0:00  \n",
       "3  Pierre CoffinChris Renaud     PG       98    7/3/13 0:00  \n",
       "4                Zack Snyder  PG-13      143   6/14/13 0:00  "
      ]
     },
     "execution_count": 275,
     "metadata": {},
     "output_type": "execute_result"
    }
   ],
   "source": [
    "df = df.drop('Constant', axis=1)\n",
    "df.head()"
   ]
  },
  {
   "cell_type": "code",
   "execution_count": 276,
   "metadata": {
    "collapsed": false
   },
   "outputs": [],
   "source": [
    "# scale to millions\n",
    "df['DomesticTotalGross'] = df.DomesticTotalGross/1000000\n",
    "df['Budget'] = df.Budget/1000000"
   ]
  },
  {
   "cell_type": "code",
   "execution_count": 277,
   "metadata": {
    "collapsed": false
   },
   "outputs": [
    {
     "data": {
      "text/plain": [
       "Rating\n",
       "PG       131.945870\n",
       "PG-13    117.726612\n",
       "R         74.227949\n",
       "Name: DomesticTotalGross, dtype: float64"
      ]
     },
     "execution_count": 277,
     "metadata": {},
     "output_type": "execute_result"
    }
   ],
   "source": [
    "# DomesticTotalGross varies considerably by rating\n",
    "# - good candidate for dummy variable\n",
    "(df\n",
    ".groupby('Rating')\n",
    ".DomesticTotalGross\n",
    ".mean()\n",
    ".sort_values(ascending=False))"
   ]
  },
  {
   "cell_type": "code",
   "execution_count": 278,
   "metadata": {
    "collapsed": false
   },
   "outputs": [
    {
     "data": {
      "text/plain": [
       "<matplotlib.axes._subplots.AxesSubplot at 0x13a321be0>"
      ]
     },
     "execution_count": 278,
     "metadata": {},
     "output_type": "execute_result"
    },
    {
     "data": {
      "image/png": "[encoded data removed]",
      "text/plain": [
       "<matplotlib.figure.Figure at 0x13a5f0470>"
      ]
     },
     "metadata": {},
     "output_type": "display_data"
    }
   ],
   "source": [
    "sns.boxplot(x=df['Rating'], y = df['DomesticTotalGross'])"
   ]
  },
  {
   "cell_type": "code",
   "execution_count": 279,
   "metadata": {
    "collapsed": false
   },
   "outputs": [],
   "source": [
    "# construct dummy variables for ratings\n",
    "rtg = pd.get_dummies(df['Rating'])\n",
    "df = pd.concat([df,rtg], axis = 1)"
   ]
  },
  {
   "cell_type": "code",
   "execution_count": 280,
   "metadata": {
    "collapsed": false
   },
   "outputs": [],
   "source": [
    "# cast ReleaseDate as datetime object\n",
    "df['ReleaseDate'] = pd.to_datetime(df['ReleaseDate'])"
   ]
  },
  {
   "cell_type": "code",
   "execution_count": 281,
   "metadata": {
    "collapsed": false
   },
   "outputs": [],
   "source": [
    "# extract Month\n",
    "df['Month'] = df['ReleaseDate'].dt.month"
   ]
  },
  {
   "cell_type": "code",
   "execution_count": 282,
   "metadata": {
    "collapsed": false
   },
   "outputs": [
    {
     "data": {
      "text/plain": [
       "<matplotlib.axes._subplots.AxesSubplot at 0x1848c2978>"
      ]
     },
     "execution_count": 282,
     "metadata": {},
     "output_type": "execute_result"
    },
    {
     "data": {
      "image/png": "[encoded data removed]",
      "text/plain": [
       "<matplotlib.figure.Figure at 0x139f8e518>"
      ]
     },
     "metadata": {},
     "output_type": "display_data"
    }
   ],
   "source": [
    "plt.figure(figsize = (20,10))\n",
    "sns.boxplot(x = df['Month'], y = np.log(df['DomesticTotalGross']))"
   ]
  },
  {
   "cell_type": "code",
   "execution_count": 283,
   "metadata": {
    "collapsed": true
   },
   "outputs": [],
   "source": [
    "# construct a `Season` variable\n",
    "\n",
    "df['Summer'] = 0\n",
    "df['Holiday'] = 0\n",
    "df['Offseason'] = 0\n",
    "\n",
    "df['Summer'] = df.Month.map(lambda x: 1 if (5 <= x <= 7) else 0)\n",
    "df['Holiday'] = df.Month.map(lambda x: 1 if x in [11,12] else 0)\n",
    "df['Offseason'] = df.Month.map(lambda x: 1 if x in [1,2,3,4,8,9,10] else 0)"
   ]
  },
  {
   "cell_type": "code",
   "execution_count": 284,
   "metadata": {
    "collapsed": false
   },
   "outputs": [
    {
     "data": {
      "text/html": [
       "<div>\n",
       "<table border=\"1\" class=\"dataframe\">\n",
       "  <thead>\n",
       "    <tr style=\"text-align: right;\">\n",
       "      <th></th>\n",
       "      <th>DomesticTotalGross</th>\n",
       "      <th>Budget</th>\n",
       "      <th>Runtime</th>\n",
       "      <th>PG</th>\n",
       "      <th>PG-13</th>\n",
       "      <th>R</th>\n",
       "      <th>Summer</th>\n",
       "      <th>Holiday</th>\n",
       "      <th>Offseason</th>\n",
       "    </tr>\n",
       "  </thead>\n",
       "  <tbody>\n",
       "    <tr>\n",
       "      <th>0</th>\n",
       "      <td>424.668047</td>\n",
       "      <td>130.0</td>\n",
       "      <td>146</td>\n",
       "      <td>0.0</td>\n",
       "      <td>1.0</td>\n",
       "      <td>0.0</td>\n",
       "      <td>0</td>\n",
       "      <td>1</td>\n",
       "      <td>0</td>\n",
       "    </tr>\n",
       "    <tr>\n",
       "      <th>1</th>\n",
       "      <td>409.013994</td>\n",
       "      <td>200.0</td>\n",
       "      <td>129</td>\n",
       "      <td>0.0</td>\n",
       "      <td>1.0</td>\n",
       "      <td>0.0</td>\n",
       "      <td>1</td>\n",
       "      <td>0</td>\n",
       "      <td>0</td>\n",
       "    </tr>\n",
       "    <tr>\n",
       "      <th>2</th>\n",
       "      <td>400.738009</td>\n",
       "      <td>150.0</td>\n",
       "      <td>108</td>\n",
       "      <td>1.0</td>\n",
       "      <td>0.0</td>\n",
       "      <td>0.0</td>\n",
       "      <td>0</td>\n",
       "      <td>1</td>\n",
       "      <td>0</td>\n",
       "    </tr>\n",
       "    <tr>\n",
       "      <th>3</th>\n",
       "      <td>368.061265</td>\n",
       "      <td>76.0</td>\n",
       "      <td>98</td>\n",
       "      <td>1.0</td>\n",
       "      <td>0.0</td>\n",
       "      <td>0.0</td>\n",
       "      <td>1</td>\n",
       "      <td>0</td>\n",
       "      <td>0</td>\n",
       "    </tr>\n",
       "    <tr>\n",
       "      <th>4</th>\n",
       "      <td>291.045518</td>\n",
       "      <td>225.0</td>\n",
       "      <td>143</td>\n",
       "      <td>0.0</td>\n",
       "      <td>1.0</td>\n",
       "      <td>0.0</td>\n",
       "      <td>1</td>\n",
       "      <td>0</td>\n",
       "      <td>0</td>\n",
       "    </tr>\n",
       "  </tbody>\n",
       "</table>\n",
       "</div>"
      ],
      "text/plain": [
       "   DomesticTotalGross  Budget  Runtime   PG  PG-13    R  Summer  Holiday  \\\n",
       "0          424.668047   130.0      146  0.0    1.0  0.0       0        1   \n",
       "1          409.013994   200.0      129  0.0    1.0  0.0       1        0   \n",
       "2          400.738009   150.0      108  1.0    0.0  0.0       0        1   \n",
       "3          368.061265    76.0       98  1.0    0.0  0.0       1        0   \n",
       "4          291.045518   225.0      143  0.0    1.0  0.0       1        0   \n",
       "\n",
       "   Offseason  \n",
       "0          0  \n",
       "1          0  \n",
       "2          0  \n",
       "3          0  \n",
       "4          0  "
      ]
     },
     "execution_count": 284,
     "metadata": {},
     "output_type": "execute_result"
    }
   ],
   "source": [
    "# dataframe for model4\n",
    "features = ['DomesticTotalGross','Budget','Runtime',\n",
    "            'PG','PG-13','R','Summer','Holiday','Offseason']\n",
    "df4 = df[features]\n",
    "df4.head()"
   ]
  },
  {
   "cell_type": "code",
   "execution_count": 285,
   "metadata": {
    "collapsed": false
   },
   "outputs": [
    {
     "data": {
      "text/plain": [
       "DomesticTotalGross    1.000000\n",
       "Budget                0.531319\n",
       "Summer                0.282216\n",
       "Runtime               0.265719\n",
       "PG-13                 0.149891\n",
       "PG                    0.142347\n",
       "Holiday               0.030513\n",
       "R                    -0.261758\n",
       "Offseason            -0.281266\n",
       "Name: DomesticTotalGross, dtype: float64"
      ]
     },
     "execution_count": 285,
     "metadata": {},
     "output_type": "execute_result"
    }
   ],
   "source": [
    "(df4\n",
    " .corr()['DomesticTotalGross']\n",
    "#  .abs()\n",
    " .sort_values(ascending=False))"
   ]
  },
  {
   "cell_type": "markdown",
   "metadata": {},
   "source": [
    "`DomesticTotalGross` seems to be most correlated with `Budget`, followed by features indicating rating and seasonality.\n",
    "\n",
    "Based on visual exploration earlier, `Summer` release and `PG` rating seem to have higher `DomesticTotalGross` relative to the other levels. Let's use these as the reference levels.\n",
    "\n",
    "Let's consider a model with the following features:\n",
    "\n",
    "- `Budget`\n",
    "- `Runtime`\n",
    "- `PG-13` (difference from `PG` rated films, the reference level)\n",
    "- `R` (difference from `PG` rated films, the reference level)\n",
    "- `Holiday` (difference from `Summer`, the reference level)\n",
    "- `Offseason` (difference from `Summer`, the reference level)\n"
   ]
  },
  {
   "cell_type": "code",
   "execution_count": 286,
   "metadata": {
    "collapsed": false
   },
   "outputs": [
    {
     "data": {
      "text/html": [
       "<div>\n",
       "<table border=\"1\" class=\"dataframe\">\n",
       "  <thead>\n",
       "    <tr style=\"text-align: right;\">\n",
       "      <th></th>\n",
       "      <th>const</th>\n",
       "      <th>Budget</th>\n",
       "      <th>Runtime</th>\n",
       "      <th>PG-13</th>\n",
       "      <th>R</th>\n",
       "      <th>Holiday</th>\n",
       "      <th>Offseason</th>\n",
       "    </tr>\n",
       "  </thead>\n",
       "  <tbody>\n",
       "    <tr>\n",
       "      <th>0</th>\n",
       "      <td>1</td>\n",
       "      <td>130.0</td>\n",
       "      <td>146</td>\n",
       "      <td>1.0</td>\n",
       "      <td>0.0</td>\n",
       "      <td>1</td>\n",
       "      <td>0</td>\n",
       "    </tr>\n",
       "    <tr>\n",
       "      <th>1</th>\n",
       "      <td>1</td>\n",
       "      <td>200.0</td>\n",
       "      <td>129</td>\n",
       "      <td>1.0</td>\n",
       "      <td>0.0</td>\n",
       "      <td>0</td>\n",
       "      <td>0</td>\n",
       "    </tr>\n",
       "    <tr>\n",
       "      <th>2</th>\n",
       "      <td>1</td>\n",
       "      <td>150.0</td>\n",
       "      <td>108</td>\n",
       "      <td>0.0</td>\n",
       "      <td>0.0</td>\n",
       "      <td>1</td>\n",
       "      <td>0</td>\n",
       "    </tr>\n",
       "    <tr>\n",
       "      <th>3</th>\n",
       "      <td>1</td>\n",
       "      <td>76.0</td>\n",
       "      <td>98</td>\n",
       "      <td>0.0</td>\n",
       "      <td>0.0</td>\n",
       "      <td>0</td>\n",
       "      <td>0</td>\n",
       "    </tr>\n",
       "    <tr>\n",
       "      <th>4</th>\n",
       "      <td>1</td>\n",
       "      <td>225.0</td>\n",
       "      <td>143</td>\n",
       "      <td>1.0</td>\n",
       "      <td>0.0</td>\n",
       "      <td>0</td>\n",
       "      <td>0</td>\n",
       "    </tr>\n",
       "  </tbody>\n",
       "</table>\n",
       "</div>"
      ],
      "text/plain": [
       "   const  Budget  Runtime  PG-13    R  Holiday  Offseason\n",
       "0      1   130.0      146    1.0  0.0        1          0\n",
       "1      1   200.0      129    1.0  0.0        0          0\n",
       "2      1   150.0      108    0.0  0.0        1          0\n",
       "3      1    76.0       98    0.0  0.0        0          0\n",
       "4      1   225.0      143    1.0  0.0        0          0"
      ]
     },
     "execution_count": 286,
     "metadata": {},
     "output_type": "execute_result"
    }
   ],
   "source": [
    "# model4\n",
    "y4 = np.log(df4['DomesticTotalGross'])\n",
    "predictors = ['Budget','Runtime','PG-13','R','Holiday','Offseason']\n",
    "X4 = df4[predictors]\n",
    "X4 = sm.add_constant(X4)\n",
    "X4.head()"
   ]
  },
  {
   "cell_type": "code",
   "execution_count": 287,
   "metadata": {
    "collapsed": false
   },
   "outputs": [
    {
     "name": "stdout",
     "output_type": "stream",
     "text": [
      "                            OLS Regression Results                            \n",
      "==============================================================================\n",
      "Dep. Variable:     DomesticTotalGross   R-squared:                       0.333\n",
      "Model:                            OLS   Adj. R-squared:                  0.283\n",
      "Method:                 Least Squares   F-statistic:                     6.657\n",
      "Date:                Sat, 15 Oct 2016   Prob (F-statistic):           9.70e-06\n",
      "Time:                        22:08:14   Log-Likelihood:                -76.229\n",
      "No. Observations:                  87   AIC:                             166.5\n",
      "Df Residuals:                      80   BIC:                             183.7\n",
      "Df Model:                           6                                         \n",
      "Covariance Type:            nonrobust                                         \n",
      "==============================================================================\n",
      "                 coef    std err          t      P>|t|      [95.0% Conf. Int.]\n",
      "------------------------------------------------------------------------------\n",
      "const          3.5917      0.453      7.933      0.000         2.691     4.493\n",
      "Budget         0.0049      0.001      3.303      0.001         0.002     0.008\n",
      "Runtime        0.0066      0.004      1.506      0.136        -0.002     0.015\n",
      "PG-13         -0.2219      0.203     -1.093      0.278        -0.626     0.182\n",
      "R             -0.1784      0.226     -0.788      0.433        -0.629     0.272\n",
      "Holiday       -0.2417      0.196     -1.235      0.220        -0.631     0.148\n",
      "Offseason     -0.2419      0.173     -1.402      0.165        -0.585     0.101\n",
      "==============================================================================\n",
      "Omnibus:                        1.761   Durbin-Watson:                   0.841\n",
      "Prob(Omnibus):                  0.415   Jarque-Bera (JB):                1.528\n",
      "Skew:                           0.183   Prob(JB):                        0.466\n",
      "Kurtosis:                       2.464   Cond. No.                     1.00e+03\n",
      "==============================================================================\n",
      "\n",
      "Warnings:\n",
      "[1] Standard Errors assume that the covariance matrix of the errors is correctly specified.\n",
      "[2] The condition number is large,  1e+03. This might indicate that there are\n",
      "strong multicollinearity or other numerical problems.\n"
     ]
    }
   ],
   "source": [
    "model4 = sm.OLS(y4, X4)\n",
    "fit4 = model4.fit()\n",
    "print(fit4.summary())"
   ]
  },
  {
   "cell_type": "code",
   "execution_count": 288,
   "metadata": {
    "collapsed": false
   },
   "outputs": [
    {
     "data": {
      "text/plain": [
       "<matplotlib.collections.PathCollection at 0x182f46588>"
      ]
     },
     "execution_count": 288,
     "metadata": {},
     "output_type": "execute_result"
    },
    {
     "data": {
      "image/png": "[encoded data removed]",
      "text/plain": [
       "<matplotlib.figure.Figure at 0x13a0b9358>"
      ]
     },
     "metadata": {},
     "output_type": "display_data"
    }
   ],
   "source": [
    "plt.scatter(df4['Runtime'],np.log(df4['DomesticTotalGross']))"
   ]
  },
  {
   "cell_type": "code",
   "execution_count": 289,
   "metadata": {
    "collapsed": false
   },
   "outputs": [
    {
     "data": {
      "text/html": [
       "<div>\n",
       "<table border=\"1\" class=\"dataframe\">\n",
       "  <thead>\n",
       "    <tr style=\"text-align: right;\">\n",
       "      <th></th>\n",
       "      <th>const</th>\n",
       "      <th>Budget</th>\n",
       "      <th>Runtime</th>\n",
       "      <th>Holiday</th>\n",
       "      <th>Offseason</th>\n",
       "    </tr>\n",
       "  </thead>\n",
       "  <tbody>\n",
       "    <tr>\n",
       "      <th>0</th>\n",
       "      <td>1</td>\n",
       "      <td>130.0</td>\n",
       "      <td>146</td>\n",
       "      <td>1</td>\n",
       "      <td>0</td>\n",
       "    </tr>\n",
       "    <tr>\n",
       "      <th>1</th>\n",
       "      <td>1</td>\n",
       "      <td>200.0</td>\n",
       "      <td>129</td>\n",
       "      <td>0</td>\n",
       "      <td>0</td>\n",
       "    </tr>\n",
       "    <tr>\n",
       "      <th>2</th>\n",
       "      <td>1</td>\n",
       "      <td>150.0</td>\n",
       "      <td>108</td>\n",
       "      <td>1</td>\n",
       "      <td>0</td>\n",
       "    </tr>\n",
       "    <tr>\n",
       "      <th>3</th>\n",
       "      <td>1</td>\n",
       "      <td>76.0</td>\n",
       "      <td>98</td>\n",
       "      <td>0</td>\n",
       "      <td>0</td>\n",
       "    </tr>\n",
       "    <tr>\n",
       "      <th>4</th>\n",
       "      <td>1</td>\n",
       "      <td>225.0</td>\n",
       "      <td>143</td>\n",
       "      <td>0</td>\n",
       "      <td>0</td>\n",
       "    </tr>\n",
       "  </tbody>\n",
       "</table>\n",
       "</div>"
      ],
      "text/plain": [
       "   const  Budget  Runtime  Holiday  Offseason\n",
       "0      1   130.0      146        1          0\n",
       "1      1   200.0      129        0          0\n",
       "2      1   150.0      108        1          0\n",
       "3      1    76.0       98        0          0\n",
       "4      1   225.0      143        0          0"
      ]
     },
     "execution_count": 289,
     "metadata": {},
     "output_type": "execute_result"
    }
   ],
   "source": [
    "# model 4b\n",
    "# - drop features related to ratings\n",
    "y4b = np.log(df4['DomesticTotalGross'])\n",
    "predictors = ['Budget','Runtime','Holiday','Offseason']\n",
    "X4b = df4[predictors]\n",
    "X4b = sm.add_constant(X4b)\n",
    "X4b.head()"
   ]
  },
  {
   "cell_type": "code",
   "execution_count": 290,
   "metadata": {
    "collapsed": false
   },
   "outputs": [
    {
     "name": "stdout",
     "output_type": "stream",
     "text": [
      "                            OLS Regression Results                            \n",
      "==============================================================================\n",
      "Dep. Variable:     DomesticTotalGross   R-squared:                       0.323\n",
      "Model:                            OLS   Adj. R-squared:                  0.290\n",
      "Method:                 Least Squares   F-statistic:                     9.783\n",
      "Date:                Sat, 15 Oct 2016   Prob (F-statistic):           1.61e-06\n",
      "Time:                        22:08:14   Log-Likelihood:                -76.874\n",
      "No. Observations:                  87   AIC:                             163.7\n",
      "Df Residuals:                      82   BIC:                             176.1\n",
      "Df Model:                           4                                         \n",
      "Covariance Type:            nonrobust                                         \n",
      "==============================================================================\n",
      "                 coef    std err          t      P>|t|      [95.0% Conf. Int.]\n",
      "------------------------------------------------------------------------------\n",
      "const          3.5870      0.450      7.963      0.000         2.691     4.483\n",
      "Budget         0.0052      0.001      4.015      0.000         0.003     0.008\n",
      "Runtime        0.0049      0.004      1.221      0.226        -0.003     0.013\n",
      "Holiday       -0.2127      0.192     -1.107      0.271        -0.595     0.169\n",
      "Offseason     -0.2277      0.171     -1.335      0.186        -0.567     0.112\n",
      "==============================================================================\n",
      "Omnibus:                        0.759   Durbin-Watson:                   0.818\n",
      "Prob(Omnibus):                  0.684   Jarque-Bera (JB):                0.882\n",
      "Skew:                           0.173   Prob(JB):                        0.643\n",
      "Kurtosis:                       2.648   Cond. No.                     1.00e+03\n",
      "==============================================================================\n",
      "\n",
      "Warnings:\n",
      "[1] Standard Errors assume that the covariance matrix of the errors is correctly specified.\n",
      "[2] The condition number is large,  1e+03. This might indicate that there are\n",
      "strong multicollinearity or other numerical problems.\n"
     ]
    }
   ],
   "source": [
    "model4b = sm.OLS(y4b, X4b)\n",
    "fit4b = model4b.fit()\n",
    "print(fit4b.summary())"
   ]
  },
  {
   "cell_type": "code",
   "execution_count": 291,
   "metadata": {
    "collapsed": false
   },
   "outputs": [
    {
     "data": {
      "text/html": [
       "<div>\n",
       "<table border=\"1\" class=\"dataframe\">\n",
       "  <thead>\n",
       "    <tr style=\"text-align: right;\">\n",
       "      <th></th>\n",
       "      <th>const</th>\n",
       "      <th>Budget</th>\n",
       "      <th>Runtime</th>\n",
       "    </tr>\n",
       "  </thead>\n",
       "  <tbody>\n",
       "    <tr>\n",
       "      <th>0</th>\n",
       "      <td>1</td>\n",
       "      <td>130.0</td>\n",
       "      <td>146</td>\n",
       "    </tr>\n",
       "    <tr>\n",
       "      <th>1</th>\n",
       "      <td>1</td>\n",
       "      <td>200.0</td>\n",
       "      <td>129</td>\n",
       "    </tr>\n",
       "    <tr>\n",
       "      <th>2</th>\n",
       "      <td>1</td>\n",
       "      <td>150.0</td>\n",
       "      <td>108</td>\n",
       "    </tr>\n",
       "    <tr>\n",
       "      <th>3</th>\n",
       "      <td>1</td>\n",
       "      <td>76.0</td>\n",
       "      <td>98</td>\n",
       "    </tr>\n",
       "    <tr>\n",
       "      <th>4</th>\n",
       "      <td>1</td>\n",
       "      <td>225.0</td>\n",
       "      <td>143</td>\n",
       "    </tr>\n",
       "  </tbody>\n",
       "</table>\n",
       "</div>"
      ],
      "text/plain": [
       "   const  Budget  Runtime\n",
       "0      1   130.0      146\n",
       "1      1   200.0      129\n",
       "2      1   150.0      108\n",
       "3      1    76.0       98\n",
       "4      1   225.0      143"
      ]
     },
     "execution_count": 291,
     "metadata": {},
     "output_type": "execute_result"
    }
   ],
   "source": [
    "# model 4c\n",
    "# - drop features related to seasonality\n",
    "# - keep only const and Budget\n",
    "y4c = np.log(df4['DomesticTotalGross'])\n",
    "predictors = ['Budget','Runtime']\n",
    "X4c = df4[predictors]\n",
    "X4c = sm.add_constant(X4c)\n",
    "X4c.head()"
   ]
  },
  {
   "cell_type": "code",
   "execution_count": 292,
   "metadata": {
    "collapsed": false
   },
   "outputs": [
    {
     "name": "stdout",
     "output_type": "stream",
     "text": [
      "                            OLS Regression Results                            \n",
      "==============================================================================\n",
      "Dep. Variable:     DomesticTotalGross   R-squared:                       0.307\n",
      "Model:                            OLS   Adj. R-squared:                  0.290\n",
      "Method:                 Least Squares   F-statistic:                     18.60\n",
      "Date:                Sat, 15 Oct 2016   Prob (F-statistic):           2.05e-07\n",
      "Time:                        22:08:14   Log-Likelihood:                -77.897\n",
      "No. Observations:                  87   AIC:                             161.8\n",
      "Df Residuals:                      84   BIC:                             169.2\n",
      "Df Model:                           2                                         \n",
      "Covariance Type:            nonrobust                                         \n",
      "==============================================================================\n",
      "                 coef    std err          t      P>|t|      [95.0% Conf. Int.]\n",
      "------------------------------------------------------------------------------\n",
      "const          3.3942      0.421      8.054      0.000         2.556     4.232\n",
      "Budget         0.0060      0.001      5.126      0.000         0.004     0.008\n",
      "Runtime        0.0046      0.004      1.184      0.240        -0.003     0.012\n",
      "==============================================================================\n",
      "Omnibus:                        0.649   Durbin-Watson:                   0.750\n",
      "Prob(Omnibus):                  0.723   Jarque-Bera (JB):                0.784\n",
      "Skew:                           0.154   Prob(JB):                        0.676\n",
      "Kurtosis:                       2.652   Cond. No.                         926.\n",
      "==============================================================================\n",
      "\n",
      "Warnings:\n",
      "[1] Standard Errors assume that the covariance matrix of the errors is correctly specified.\n"
     ]
    }
   ],
   "source": [
    "model4c = sm.OLS(y4c, X4c)\n",
    "fit4c = model4c.fit()\n",
    "print(fit4c.summary())"
   ]
  },
  {
   "cell_type": "code",
   "execution_count": 293,
   "metadata": {
    "collapsed": false
   },
   "outputs": [
    {
     "data": {
      "text/html": [
       "<div>\n",
       "<table border=\"1\" class=\"dataframe\">\n",
       "  <thead>\n",
       "    <tr style=\"text-align: right;\">\n",
       "      <th></th>\n",
       "      <th>const</th>\n",
       "      <th>Budget</th>\n",
       "    </tr>\n",
       "  </thead>\n",
       "  <tbody>\n",
       "    <tr>\n",
       "      <th>0</th>\n",
       "      <td>1</td>\n",
       "      <td>130.0</td>\n",
       "    </tr>\n",
       "    <tr>\n",
       "      <th>1</th>\n",
       "      <td>1</td>\n",
       "      <td>200.0</td>\n",
       "    </tr>\n",
       "    <tr>\n",
       "      <th>2</th>\n",
       "      <td>1</td>\n",
       "      <td>150.0</td>\n",
       "    </tr>\n",
       "    <tr>\n",
       "      <th>3</th>\n",
       "      <td>1</td>\n",
       "      <td>76.0</td>\n",
       "    </tr>\n",
       "    <tr>\n",
       "      <th>4</th>\n",
       "      <td>1</td>\n",
       "      <td>225.0</td>\n",
       "    </tr>\n",
       "  </tbody>\n",
       "</table>\n",
       "</div>"
      ],
      "text/plain": [
       "   const  Budget\n",
       "0      1   130.0\n",
       "1      1   200.0\n",
       "2      1   150.0\n",
       "3      1    76.0\n",
       "4      1   225.0"
      ]
     },
     "execution_count": 293,
     "metadata": {},
     "output_type": "execute_result"
    }
   ],
   "source": [
    "# model 4d\n",
    "# - keep only Budget as predictor\n",
    "y4d = np.log(df4['DomesticTotalGross'])\n",
    "predictors = ['Budget']\n",
    "X4d = df4[predictors]\n",
    "X4d = sm.add_constant(X4d)\n",
    "X4d.head()"
   ]
  },
  {
   "cell_type": "code",
   "execution_count": 294,
   "metadata": {
    "collapsed": false
   },
   "outputs": [
    {
     "name": "stdout",
     "output_type": "stream",
     "text": [
      "                            OLS Regression Results                            \n",
      "==============================================================================\n",
      "Dep. Variable:     DomesticTotalGross   R-squared:                       0.295\n",
      "Model:                            OLS   Adj. R-squared:                  0.287\n",
      "Method:                 Least Squares   F-statistic:                     35.63\n",
      "Date:                Sat, 15 Oct 2016   Prob (F-statistic):           5.34e-08\n",
      "Time:                        22:08:14   Log-Likelihood:                -78.617\n",
      "No. Observations:                  87   AIC:                             161.2\n",
      "Df Residuals:                      85   BIC:                             166.2\n",
      "Df Model:                           1                                         \n",
      "Covariance Type:            nonrobust                                         \n",
      "==============================================================================\n",
      "                 coef    std err          t      P>|t|      [95.0% Conf. Int.]\n",
      "------------------------------------------------------------------------------\n",
      "const          3.8777      0.105     37.002      0.000         3.669     4.086\n",
      "Budget         0.0065      0.001      5.969      0.000         0.004     0.009\n",
      "==============================================================================\n",
      "Omnibus:                        1.096   Durbin-Watson:                   0.674\n",
      "Prob(Omnibus):                  0.578   Jarque-Bera (JB):                1.103\n",
      "Skew:                           0.151   Prob(JB):                        0.576\n",
      "Kurtosis:                       2.539   Cond. No.                         155.\n",
      "==============================================================================\n",
      "\n",
      "Warnings:\n",
      "[1] Standard Errors assume that the covariance matrix of the errors is correctly specified.\n"
     ]
    }
   ],
   "source": [
    "model4d = sm.OLS(y4d, X4d)\n",
    "fit4d = model4d.fit()\n",
    "print(fit4d.summary())"
   ]
  },
  {
   "cell_type": "code",
   "execution_count": 295,
   "metadata": {
    "collapsed": false
   },
   "outputs": [
    {
     "data": {
      "text/plain": [
       "const     48.314266\n",
       "Budget     1.006538\n",
       "dtype: float64"
      ]
     },
     "execution_count": 295,
     "metadata": {},
     "output_type": "execute_result"
    }
   ],
   "source": [
    "np.exp(fit4d.params)"
   ]
  },
  {
   "cell_type": "markdown",
   "metadata": {},
   "source": [
    "This final model keeps only `Budget` as the predictor. The adjusted R^2 stays at around 0.29, with all the coefficients being statistically significant.\n",
    "\n",
    "The coefficients for the log-linear model (log response) are exponentiated to aid in interpretation. The resulting model equation is as follows:\n",
    "\n",
    "`DomesticTotalGross` ~ 48.3 + (1 x `Budget`)\n",
    "\n",
    "The model can thus be interpreted as follows:\n",
    "\n",
    "*The expected mean response of DomesticTotalGross is 48.3 million plus an additional million for every million in the `Budget`.*"
   ]
  },
  {
   "cell_type": "markdown",
   "metadata": {},
   "source": [
    "#### Exercise 3.5\n",
    "\n",
    "Fitting and checking predictions on the exact same data set can be misleading. Divide your data into two sets: a training set and a test set (roughly 75% training, 25% test).\n",
    "\n",
    "Fit a model on the training set, check the predictions (by plotting versus actual values) in the test set."
   ]
  },
  {
   "cell_type": "code",
   "execution_count": 296,
   "metadata": {
    "collapsed": false
   },
   "outputs": [],
   "source": [
    "# model 4d\n",
    "y4d = np.log(df4['DomesticTotalGross'])\n",
    "predictors = ['Budget']\n",
    "X4d = df4[predictors]\n",
    "X4d = sm.add_constant(X4d)"
   ]
  },
  {
   "cell_type": "code",
   "execution_count": 297,
   "metadata": {
    "collapsed": true
   },
   "outputs": [],
   "source": [
    "# split into train and test sets\n",
    "X_train, X_test, y_train, y_test = train_test_split(X4d, y4d, test_size = 0.25,\n",
    "                                                    random_state = 36)"
   ]
  },
  {
   "cell_type": "code",
   "execution_count": 298,
   "metadata": {
    "collapsed": false
   },
   "outputs": [
    {
     "name": "stdout",
     "output_type": "stream",
     "text": [
      "                            OLS Regression Results                            \n",
      "==============================================================================\n",
      "Dep. Variable:     DomesticTotalGross   R-squared:                       0.307\n",
      "Model:                            OLS   Adj. R-squared:                  0.296\n",
      "Method:                 Least Squares   F-statistic:                     27.89\n",
      "Date:                Sat, 15 Oct 2016   Prob (F-statistic):           1.69e-06\n",
      "Time:                        22:08:14   Log-Likelihood:                -59.665\n",
      "No. Observations:                  65   AIC:                             123.3\n",
      "Df Residuals:                      63   BIC:                             127.7\n",
      "Df Model:                           1                                         \n",
      "Covariance Type:            nonrobust                                         \n",
      "==============================================================================\n",
      "                 coef    std err          t      P>|t|      [95.0% Conf. Int.]\n",
      "------------------------------------------------------------------------------\n",
      "const          3.8774      0.125     30.984      0.000         3.627     4.128\n",
      "Budget         0.0068      0.001      5.281      0.000         0.004     0.009\n",
      "==============================================================================\n",
      "Omnibus:                        0.201   Durbin-Watson:                   2.302\n",
      "Prob(Omnibus):                  0.904   Jarque-Bera (JB):                0.382\n",
      "Skew:                           0.087   Prob(JB):                        0.826\n",
      "Kurtosis:                       2.667   Cond. No.                         160.\n",
      "==============================================================================\n",
      "\n",
      "Warnings:\n",
      "[1] Standard Errors assume that the covariance matrix of the errors is correctly specified.\n"
     ]
    }
   ],
   "source": [
    "# train the model\n",
    "mod = sm.OLS(y_train, X_train)\n",
    "fit = mod.fit()\n",
    "print(fit.summary())"
   ]
  },
  {
   "cell_type": "code",
   "execution_count": 299,
   "metadata": {
    "collapsed": false
   },
   "outputs": [
    {
     "data": {
      "text/plain": [
       "0.22817962118555002"
      ]
     },
     "execution_count": 299,
     "metadata": {},
     "output_type": "execute_result"
    }
   ],
   "source": [
    "# test the model (Ridge Cross-Validation)\n",
    "rcv = RidgeCV(cv = 10)\n",
    "rcv.fit(X_train, y_train)\n",
    "rcv.score(X_test, y_test)"
   ]
  },
  {
   "cell_type": "code",
   "execution_count": 300,
   "metadata": {
    "collapsed": false
   },
   "outputs": [
    {
     "data": {
      "image/png": "[encoded data removed]",
      "text/plain": [
       "<matplotlib.figure.Figure at 0x13aba9a90>"
      ]
     },
     "metadata": {},
     "output_type": "display_data"
    }
   ],
   "source": [
    "# test set predictions vs test set actuals\n",
    "\n",
    "y_test_pred = fit.predict(X_test)\n",
    "resid = fit.resid\n",
    "\n",
    "plt.figure(figsize = (20, 10))\n",
    "\n",
    "# plot of predicted vs actual response (using test set)\n",
    "plt.subplot(1,2,1)\n",
    "plt.title('PREDICTED VS. ACTUAL RESPONSE (TEST SET)', fontsize = 15)\n",
    "plt.xlabel('Actual Domestic Total Gross')\n",
    "plt.ylabel('Predicted Domestic Total Gross')\n",
    "plt.plot(y_test, y_test_pred, 'o')\n",
    "\n",
    "# plot histogram of residuals\n",
    "plt.subplot(1,2,2)\n",
    "plt.title('RESIDUALS', fontsize = 15)\n",
    "plt.hist(resid);"
   ]
  },
  {
   "cell_type": "markdown",
   "metadata": {},
   "source": [
    "The model performed slightly better in the training set than in the test set (training set adjusted R^2 of 0.296 vs test set RidgeCV score of 0.228), which is expected.\n",
    "\n",
    "The plot of predicted vs actual values shows a slight improvement in the heteroscedasticity. The histogram of residuals also shows a nearly normal distribution of residuals, which means that the model mostly satisfies the OLS assumptions."
   ]
  },
  {
   "cell_type": "code",
   "execution_count": null,
   "metadata": {
    "collapsed": true
   },
   "outputs": [],
   "source": []
  }
 ],
 "metadata": {
  "kernelspec": {
   "display_name": "Python [Root]",
   "language": "python",
   "name": "Python [Root]"
  },
  "language_info": {
   "codemirror_mode": {
    "name": "ipython",
    "version": 3
   },
   "file_extension": ".py",
   "mimetype": "text/x-python",
   "name": "python",
   "nbconvert_exporter": "python",
   "pygments_lexer": "ipython3",
   "version": "3.5.2"
  }
 },
 "nbformat": 4,
 "nbformat_minor": 0
}
