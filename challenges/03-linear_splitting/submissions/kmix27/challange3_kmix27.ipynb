{
 "cells": [
  {
   "cell_type": "code",
   "execution_count": 1,
   "metadata": {
    "collapsed": false
   },
   "outputs": [
    {
     "name": "stderr",
     "output_type": "stream",
     "text": [
      "/Users/kylemix/anaconda/lib/python3.5/site-packages/sklearn/cross_validation.py:44: DeprecationWarning: This module was deprecated in version 0.18 in favor of the model_selection module into which all the refactored classes and functions are moved. Also note that the interface of the new CV iterators are different from that of this module. This module will be removed in 0.20.\n",
      "  \"This module will be removed in 0.20.\", DeprecationWarning)\n"
     ]
    }
   ],
   "source": [
    "import pandas as pd\n",
    "import numpy as np\n",
    "import matplotlib.pyplot as plt\n",
    "import seaborn as sns\n",
    "from sklearn.cross_validation import train_test_split\n",
    "from sklearn import metrics\n",
    "import statsmodels.api as sm\n",
    "import statsmodels.formula.api as smf\n",
    "%matplotlib inline\n",
    "pd.options.display.max_rows = 10"
   ]
  },
  {
   "cell_type": "code",
   "execution_count": 133,
   "metadata": {
    "collapsed": true
   },
   "outputs": [],
   "source": [
    "df = pd.read_csv('2013_movies.csv')"
   ]
  },
  {
   "cell_type": "markdown",
   "metadata": {},
   "source": [
    "### First,  we'll normalize the data by creating z-scores for continuous variables and dummies for categorical ones, and finally dropping anything that we can't easily model\n"
   ]
  },
  {
   "cell_type": "code",
   "execution_count": 134,
   "metadata": {
    "collapsed": false
   },
   "outputs": [
    {
     "data": {
      "text/html": [
       "<div>\n",
       "<table border=\"1\" class=\"dataframe\">\n",
       "  <thead>\n",
       "    <tr style=\"text-align: right;\">\n",
       "      <th></th>\n",
       "      <th>Title</th>\n",
       "      <th>Budget</th>\n",
       "      <th>DomesticTotalGross</th>\n",
       "      <th>Director</th>\n",
       "      <th>Rating</th>\n",
       "      <th>Runtime</th>\n",
       "      <th>ReleaseDate</th>\n",
       "    </tr>\n",
       "  </thead>\n",
       "  <tbody>\n",
       "    <tr>\n",
       "      <th>0</th>\n",
       "      <td>The Hunger Games: Catching Fire</td>\n",
       "      <td>130000000</td>\n",
       "      <td>424668047</td>\n",
       "      <td>Francis Lawrence</td>\n",
       "      <td>PG-13</td>\n",
       "      <td>146</td>\n",
       "      <td>11/22/13 0:00</td>\n",
       "    </tr>\n",
       "    <tr>\n",
       "      <th>1</th>\n",
       "      <td>Iron Man 3</td>\n",
       "      <td>200000000</td>\n",
       "      <td>409013994</td>\n",
       "      <td>Shane Black</td>\n",
       "      <td>PG-13</td>\n",
       "      <td>129</td>\n",
       "      <td>5/3/13 0:00</td>\n",
       "    </tr>\n",
       "    <tr>\n",
       "      <th>2</th>\n",
       "      <td>Frozen</td>\n",
       "      <td>150000000</td>\n",
       "      <td>400738009</td>\n",
       "      <td>Chris BuckJennifer Lee</td>\n",
       "      <td>PG</td>\n",
       "      <td>108</td>\n",
       "      <td>11/22/13 0:00</td>\n",
       "    </tr>\n",
       "    <tr>\n",
       "      <th>3</th>\n",
       "      <td>Despicable Me 2</td>\n",
       "      <td>76000000</td>\n",
       "      <td>368061265</td>\n",
       "      <td>Pierre CoffinChris Renaud</td>\n",
       "      <td>PG</td>\n",
       "      <td>98</td>\n",
       "      <td>7/3/13 0:00</td>\n",
       "    </tr>\n",
       "    <tr>\n",
       "      <th>4</th>\n",
       "      <td>Man of Steel</td>\n",
       "      <td>225000000</td>\n",
       "      <td>291045518</td>\n",
       "      <td>Zack Snyder</td>\n",
       "      <td>PG-13</td>\n",
       "      <td>143</td>\n",
       "      <td>6/14/13 0:00</td>\n",
       "    </tr>\n",
       "  </tbody>\n",
       "</table>\n",
       "</div>"
      ],
      "text/plain": [
       "                             Title     Budget  DomesticTotalGross  \\\n",
       "0  The Hunger Games: Catching Fire  130000000           424668047   \n",
       "1                       Iron Man 3  200000000           409013994   \n",
       "2                           Frozen  150000000           400738009   \n",
       "3                  Despicable Me 2   76000000           368061265   \n",
       "4                     Man of Steel  225000000           291045518   \n",
       "\n",
       "                    Director Rating  Runtime    ReleaseDate  \n",
       "0           Francis Lawrence  PG-13      146  11/22/13 0:00  \n",
       "1                Shane Black  PG-13      129    5/3/13 0:00  \n",
       "2     Chris BuckJennifer Lee     PG      108  11/22/13 0:00  \n",
       "3  Pierre CoffinChris Renaud     PG       98    7/3/13 0:00  \n",
       "4                Zack Snyder  PG-13      143   6/14/13 0:00  "
      ]
     },
     "execution_count": 134,
     "metadata": {},
     "output_type": "execute_result"
    }
   ],
   "source": [
    "df.head()"
   ]
  },
  {
   "cell_type": "code",
   "execution_count": 135,
   "metadata": {
    "collapsed": true
   },
   "outputs": [],
   "source": [
    "# convert to datetime,  add column for release quarter\n",
    "df['ReleaseDate'] = pd.to_datetime(df.ReleaseDate,infer_datetime_format=True)\n",
    "df['ReleaseQuarter'] = df.ReleaseDate.dt.quarter"
   ]
  },
  {
   "cell_type": "code",
   "execution_count": null,
   "metadata": {
    "collapsed": true
   },
   "outputs": [],
   "source": []
  },
  {
   "cell_type": "code",
   "execution_count": 136,
   "metadata": {
    "collapsed": false
   },
   "outputs": [],
   "source": [
    "# pull constant variable columns\n",
    "df_z = df[['Budget', 'DomesticTotalGross', 'Runtime']]"
   ]
  },
  {
   "cell_type": "code",
   "execution_count": 137,
   "metadata": {
    "collapsed": false
   },
   "outputs": [
    {
     "name": "stderr",
     "output_type": "stream",
     "text": [
      "/Users/kylemix/anaconda/lib/python3.5/site-packages/ipykernel/__main__.py:5: SettingWithCopyWarning: \n",
      "A value is trying to be set on a copy of a slice from a DataFrame.\n",
      "Try using .loc[row_indexer,col_indexer] = value instead\n",
      "\n",
      "See the caveats in the documentation: http://pandas.pydata.org/pandas-docs/stable/indexing.html#indexing-view-versus-copy\n"
     ]
    }
   ],
   "source": [
    "# generate z-scores for selected cols\n",
    "cols = list(df_z.columns)\n",
    "for col in cols:\n",
    "    col_zscore = col + '_zscore'\n",
    "    df_z[col_zscore] = (df_z[col] - df_z[col].mean())/df_z[col].std(ddof=0)"
   ]
  },
  {
   "cell_type": "code",
   "execution_count": 138,
   "metadata": {
    "collapsed": true
   },
   "outputs": [],
   "source": [
    "ratings = pd.get_dummies(df.Rating)"
   ]
  },
  {
   "cell_type": "code",
   "execution_count": 268,
   "metadata": {
    "collapsed": true
   },
   "outputs": [],
   "source": [
    "quarters = pd.get_dummies(df.ReleaseQuarter, prefix='Q')"
   ]
  },
  {
   "cell_type": "code",
   "execution_count": 140,
   "metadata": {
    "collapsed": true
   },
   "outputs": [],
   "source": [
    "dfz = pd.concat([df_z[['Budget_zscore','DomesticTotalGross_zscore','Runtime_zscore']], ratings, quarters], axis=1)"
   ]
  },
  {
   "cell_type": "code",
   "execution_count": 269,
   "metadata": {
    "collapsed": false,
    "scrolled": false
   },
   "outputs": [
    {
     "data": {
      "text/html": [
       "<div>\n",
       "<table border=\"1\" class=\"dataframe\">\n",
       "  <thead>\n",
       "    <tr style=\"text-align: right;\">\n",
       "      <th></th>\n",
       "      <th>Q_1</th>\n",
       "      <th>Q_2</th>\n",
       "      <th>Q_3</th>\n",
       "      <th>Q_4</th>\n",
       "    </tr>\n",
       "  </thead>\n",
       "  <tbody>\n",
       "    <tr>\n",
       "      <th>0</th>\n",
       "      <td>0</td>\n",
       "      <td>0</td>\n",
       "      <td>0</td>\n",
       "      <td>1</td>\n",
       "    </tr>\n",
       "    <tr>\n",
       "      <th>1</th>\n",
       "      <td>0</td>\n",
       "      <td>1</td>\n",
       "      <td>0</td>\n",
       "      <td>0</td>\n",
       "    </tr>\n",
       "    <tr>\n",
       "      <th>2</th>\n",
       "      <td>0</td>\n",
       "      <td>0</td>\n",
       "      <td>0</td>\n",
       "      <td>1</td>\n",
       "    </tr>\n",
       "    <tr>\n",
       "      <th>3</th>\n",
       "      <td>0</td>\n",
       "      <td>0</td>\n",
       "      <td>1</td>\n",
       "      <td>0</td>\n",
       "    </tr>\n",
       "    <tr>\n",
       "      <th>4</th>\n",
       "      <td>0</td>\n",
       "      <td>1</td>\n",
       "      <td>0</td>\n",
       "      <td>0</td>\n",
       "    </tr>\n",
       "  </tbody>\n",
       "</table>\n",
       "</div>"
      ],
      "text/plain": [
       "   Q_1  Q_2  Q_3  Q_4\n",
       "0    0    0    0    1\n",
       "1    0    1    0    0\n",
       "2    0    0    0    1\n",
       "3    0    0    1    0\n",
       "4    0    1    0    0"
      ]
     },
     "execution_count": 269,
     "metadata": {},
     "output_type": "execute_result"
    }
   ],
   "source": [
    "quarters.head()"
   ]
  },
  {
   "cell_type": "markdown",
   "metadata": {},
   "source": [
    "# exercise 3.1\n",
    "### Predict using a column of ones"
   ]
  },
  {
   "cell_type": "code",
   "execution_count": 142,
   "metadata": {
    "collapsed": false
   },
   "outputs": [
    {
     "data": {
      "text/html": [
       "<table class=\"simpletable\">\n",
       "<caption>OLS Regression Results</caption>\n",
       "<tr>\n",
       "  <th>Dep. Variable:</th>    <td>DomesticTotalGross_zscore</td> <th>  R-squared:         </th> <td>  -0.000</td>\n",
       "</tr>\n",
       "<tr>\n",
       "  <th>Model:</th>                       <td>OLS</td>            <th>  Adj. R-squared:    </th> <td>  -0.000</td>\n",
       "</tr>\n",
       "<tr>\n",
       "  <th>Method:</th>                 <td>Least Squares</td>       <th>  F-statistic:       </th> <td>    -inf</td>\n",
       "</tr>\n",
       "<tr>\n",
       "  <th>Date:</th>                 <td>Thu, 13 Oct 2016</td>      <th>  Prob (F-statistic):</th>  <td>   nan</td> \n",
       "</tr>\n",
       "<tr>\n",
       "  <th>Time:</th>                     <td>23:01:55</td>          <th>  Log-Likelihood:    </th> <td> -141.89</td>\n",
       "</tr>\n",
       "<tr>\n",
       "  <th>No. Observations:</th>          <td>   100</td>           <th>  AIC:               </th> <td>   285.8</td>\n",
       "</tr>\n",
       "<tr>\n",
       "  <th>Df Residuals:</th>              <td>    99</td>           <th>  BIC:               </th> <td>   288.4</td>\n",
       "</tr>\n",
       "<tr>\n",
       "  <th>Df Model:</th>                  <td>     0</td>           <th>                     </th>     <td> </td>   \n",
       "</tr>\n",
       "<tr>\n",
       "  <th>Covariance Type:</th>          <td>nonrobust</td>         <th>                     </th>     <td> </td>   \n",
       "</tr>\n",
       "</table>\n",
       "<table class=\"simpletable\">\n",
       "<tr>\n",
       "    <td></td>       <th>coef</th>     <th>std err</th>      <th>t</th>      <th>P>|t|</th> <th>[95.0% Conf. Int.]</th> \n",
       "</tr>\n",
       "<tr>\n",
       "  <th>const</th> <td> 2.082e-17</td> <td>    0.101</td> <td> 2.07e-16</td> <td> 1.000</td> <td>   -0.199     0.199</td>\n",
       "</tr>\n",
       "</table>\n",
       "<table class=\"simpletable\">\n",
       "<tr>\n",
       "  <th>Omnibus:</th>       <td>51.114</td> <th>  Durbin-Watson:     </th> <td>   0.013</td>\n",
       "</tr>\n",
       "<tr>\n",
       "  <th>Prob(Omnibus):</th> <td> 0.000</td> <th>  Jarque-Bera (JB):  </th> <td> 125.961</td>\n",
       "</tr>\n",
       "<tr>\n",
       "  <th>Skew:</th>          <td> 1.985</td> <th>  Prob(JB):          </th> <td>4.45e-28</td>\n",
       "</tr>\n",
       "<tr>\n",
       "  <th>Kurtosis:</th>      <td> 6.804</td> <th>  Cond. No.          </th> <td>    1.00</td>\n",
       "</tr>\n",
       "</table>"
      ],
      "text/plain": [
       "<class 'statsmodels.iolib.summary.Summary'>\n",
       "\"\"\"\n",
       "                                OLS Regression Results                               \n",
       "=====================================================================================\n",
       "Dep. Variable:     DomesticTotalGross_zscore   R-squared:                      -0.000\n",
       "Model:                                   OLS   Adj. R-squared:                 -0.000\n",
       "Method:                        Least Squares   F-statistic:                      -inf\n",
       "Date:                       Thu, 13 Oct 2016   Prob (F-statistic):                nan\n",
       "Time:                               23:01:55   Log-Likelihood:                -141.89\n",
       "No. Observations:                        100   AIC:                             285.8\n",
       "Df Residuals:                             99   BIC:                             288.4\n",
       "Df Model:                                  0                                         \n",
       "Covariance Type:                   nonrobust                                         \n",
       "==============================================================================\n",
       "                 coef    std err          t      P>|t|      [95.0% Conf. Int.]\n",
       "------------------------------------------------------------------------------\n",
       "const       2.082e-17      0.101   2.07e-16      1.000        -0.199     0.199\n",
       "==============================================================================\n",
       "Omnibus:                       51.114   Durbin-Watson:                   0.013\n",
       "Prob(Omnibus):                  0.000   Jarque-Bera (JB):              125.961\n",
       "Skew:                           1.985   Prob(JB):                     4.45e-28\n",
       "Kurtosis:                       6.804   Cond. No.                         1.00\n",
       "==============================================================================\n",
       "\n",
       "Warnings:\n",
       "[1] Standard Errors assume that the covariance matrix of the errors is correctly specified.\n",
       "\"\"\""
      ]
     },
     "execution_count": 142,
     "metadata": {},
     "output_type": "execute_result"
    }
   ],
   "source": [
    "y = dfz.DomesticTotalGross_zscore\n",
    "X1 = np.ones([len(y),1],dtype=np.int8)\n",
    "mod1 = sm.OLS(y,X1)\n",
    "fit1 = mod1.fit()\n",
    "fit1.summary()"
   ]
  },
  {
   "cell_type": "code",
   "execution_count": 143,
   "metadata": {
    "collapsed": false
   },
   "outputs": [],
   "source": [
    "y_pred1 = fit1.predict(X1)"
   ]
  },
  {
   "cell_type": "code",
   "execution_count": 144,
   "metadata": {
    "collapsed": false
   },
   "outputs": [
    {
     "data": {
      "image/png": "[encoded data removed]",
      "text/plain": [
       "<matplotlib.figure.Figure at 0x11d4385c0>"
      ]
     },
     "metadata": {},
     "output_type": "display_data"
    }
   ],
   "source": [
    "plt.figure(figsize=(6,6))\n",
    "plt.scatter(y, y_pred1)\n",
    "plt.title('Prdicted vs observed value of DomesticTotalGross')\n",
    "plt.xlabel('observed DomesticTotalGross')\n",
    "plt.ylabel('predicted DomesticTotalGross')\n",
    "plt.plot(y,y);"
   ]
  },
  {
   "cell_type": "markdown",
   "metadata": {},
   "source": [
    "##### given a column of ones as a feature,  the predicted value of DomesticTotalGross of every movie in the dataset is the same.  This value is equal to the intercept."
   ]
  },
  {
   "cell_type": "code",
   "execution_count": 145,
   "metadata": {
    "collapsed": false
   },
   "outputs": [
    {
     "data": {
      "image/png": "[encoded data removed]",
      "text/plain": [
       "<matplotlib.figure.Figure at 0x11d6016d8>"
      ]
     },
     "metadata": {},
     "output_type": "display_data"
    }
   ],
   "source": [
    "residuals = y - y_pred1\n",
    "plt.hist(residuals, bins = 40)\n",
    "plt.xlabel('residuals');"
   ]
  },
  {
   "cell_type": "markdown",
   "metadata": {},
   "source": [
    "#####  this plot shows a strong skew to the right.  due to the very low coefficient, this is effectively a distribution of the z-scores of domesticTotalGross,  as you can see below"
   ]
  },
  {
   "cell_type": "code",
   "execution_count": 146,
   "metadata": {
    "collapsed": false
   },
   "outputs": [
    {
     "data": {
      "image/png": "[encoded data removed]",
      "text/plain": [
       "<matplotlib.figure.Figure at 0x11bfbd320>"
      ]
     },
     "metadata": {},
     "output_type": "display_data"
    }
   ],
   "source": [
    "plt.hist(dfz.DomesticTotalGross_zscore, bins = 40)\n",
    "plt.xlabel('DomesticTotalGross_zscore');"
   ]
  },
  {
   "cell_type": "markdown",
   "metadata": {},
   "source": [
    "# Exercise 3.2"
   ]
  },
  {
   "cell_type": "code",
   "execution_count": 147,
   "metadata": {
    "collapsed": false
   },
   "outputs": [
    {
     "data": {
      "text/html": [
       "<table class=\"simpletable\">\n",
       "<caption>OLS Regression Results</caption>\n",
       "<tr>\n",
       "  <th>Dep. Variable:</th>    <td>DomesticTotalGross_zscore</td> <th>  R-squared:         </th> <td>   0.086</td>\n",
       "</tr>\n",
       "<tr>\n",
       "  <th>Model:</th>                       <td>OLS</td>            <th>  Adj. R-squared:    </th> <td>   0.076</td>\n",
       "</tr>\n",
       "<tr>\n",
       "  <th>Method:</th>                 <td>Least Squares</td>       <th>  F-statistic:       </th> <td>   9.180</td>\n",
       "</tr>\n",
       "<tr>\n",
       "  <th>Date:</th>                 <td>Thu, 13 Oct 2016</td>      <th>  Prob (F-statistic):</th>  <td>0.00313</td>\n",
       "</tr>\n",
       "<tr>\n",
       "  <th>Time:</th>                     <td>23:01:58</td>          <th>  Log-Likelihood:    </th> <td> -137.42</td>\n",
       "</tr>\n",
       "<tr>\n",
       "  <th>No. Observations:</th>          <td>   100</td>           <th>  AIC:               </th> <td>   278.8</td>\n",
       "</tr>\n",
       "<tr>\n",
       "  <th>Df Residuals:</th>              <td>    98</td>           <th>  BIC:               </th> <td>   284.0</td>\n",
       "</tr>\n",
       "<tr>\n",
       "  <th>Df Model:</th>                  <td>     1</td>           <th>                     </th>     <td> </td>   \n",
       "</tr>\n",
       "<tr>\n",
       "  <th>Covariance Type:</th>          <td>nonrobust</td>         <th>                     </th>     <td> </td>   \n",
       "</tr>\n",
       "</table>\n",
       "<table class=\"simpletable\">\n",
       "<tr>\n",
       "         <td></td>           <th>coef</th>     <th>std err</th>      <th>t</th>      <th>P>|t|</th> <th>[95.0% Conf. Int.]</th> \n",
       "</tr>\n",
       "<tr>\n",
       "  <th>Runtime_zscore</th> <td>    0.2927</td> <td>    0.097</td> <td>    3.030</td> <td> 0.003</td> <td>    0.101     0.484</td>\n",
       "</tr>\n",
       "<tr>\n",
       "  <th>ones</th>           <td> 9.368e-17</td> <td>    0.097</td> <td>  9.7e-16</td> <td> 1.000</td> <td>   -0.192     0.192</td>\n",
       "</tr>\n",
       "</table>\n",
       "<table class=\"simpletable\">\n",
       "<tr>\n",
       "  <th>Omnibus:</th>       <td>50.222</td> <th>  Durbin-Watson:     </th> <td>   0.189</td>\n",
       "</tr>\n",
       "<tr>\n",
       "  <th>Prob(Omnibus):</th> <td> 0.000</td> <th>  Jarque-Bera (JB):  </th> <td> 125.001</td>\n",
       "</tr>\n",
       "<tr>\n",
       "  <th>Skew:</th>          <td> 1.932</td> <th>  Prob(JB):          </th> <td>7.19e-28</td>\n",
       "</tr>\n",
       "<tr>\n",
       "  <th>Kurtosis:</th>      <td> 6.883</td> <th>  Cond. No.          </th> <td>    1.00</td>\n",
       "</tr>\n",
       "</table>"
      ],
      "text/plain": [
       "<class 'statsmodels.iolib.summary.Summary'>\n",
       "\"\"\"\n",
       "                                OLS Regression Results                               \n",
       "=====================================================================================\n",
       "Dep. Variable:     DomesticTotalGross_zscore   R-squared:                       0.086\n",
       "Model:                                   OLS   Adj. R-squared:                  0.076\n",
       "Method:                        Least Squares   F-statistic:                     9.180\n",
       "Date:                       Thu, 13 Oct 2016   Prob (F-statistic):            0.00313\n",
       "Time:                               23:01:58   Log-Likelihood:                -137.42\n",
       "No. Observations:                        100   AIC:                             278.8\n",
       "Df Residuals:                             98   BIC:                             284.0\n",
       "Df Model:                                  1                                         \n",
       "Covariance Type:                   nonrobust                                         \n",
       "==================================================================================\n",
       "                     coef    std err          t      P>|t|      [95.0% Conf. Int.]\n",
       "----------------------------------------------------------------------------------\n",
       "Runtime_zscore     0.2927      0.097      3.030      0.003         0.101     0.484\n",
       "ones            9.368e-17      0.097    9.7e-16      1.000        -0.192     0.192\n",
       "==============================================================================\n",
       "Omnibus:                       50.222   Durbin-Watson:                   0.189\n",
       "Prob(Omnibus):                  0.000   Jarque-Bera (JB):              125.001\n",
       "Skew:                           1.932   Prob(JB):                     7.19e-28\n",
       "Kurtosis:                       6.883   Cond. No.                         1.00\n",
       "==============================================================================\n",
       "\n",
       "Warnings:\n",
       "[1] Standard Errors assume that the covariance matrix of the errors is correctly specified.\n",
       "\"\"\""
      ]
     },
     "execution_count": 147,
     "metadata": {},
     "output_type": "execute_result"
    }
   ],
   "source": [
    "y = dfz.DomesticTotalGross_zscore\n",
    "X2 = pd.concat([dfz.Runtime_zscore, pd.DataFrame(np.ones([len(y),1]), columns=['ones'])], axis=1)\n",
    "model2 = sm.OLS(y,X2)\n",
    "fit2 = model2.fit()\n",
    "fit2.summary()"
   ]
  },
  {
   "cell_type": "markdown",
   "metadata": {},
   "source": [
    "#### Our R2 improved,  not by much,  but it shows we are beginning to predict something.  the coefficient for runtime confirms this"
   ]
  },
  {
   "cell_type": "code",
   "execution_count": 148,
   "metadata": {
    "collapsed": true
   },
   "outputs": [],
   "source": [
    "y_pred2 = fit.predict(X2)"
   ]
  },
  {
   "cell_type": "code",
   "execution_count": 150,
   "metadata": {
    "collapsed": false
   },
   "outputs": [
    {
     "data": {
      "image/png": "[encoded data removed]",
      "text/plain": [
       "<matplotlib.figure.Figure at 0x11d766b38>"
      ]
     },
     "metadata": {},
     "output_type": "display_data"
    }
   ],
   "source": [
    "plt.scatter(X2.iloc[:,0],y_pred2)\n",
    "plt.xlabel('runtime feature')\n",
    "\n",
    "plt.ylabel('predicted domestic total gross');"
   ]
  },
  {
   "cell_type": "code",
   "execution_count": 151,
   "metadata": {
    "collapsed": false
   },
   "outputs": [
    {
     "data": {
      "image/png": "[encoded data removed]",
      "text/plain": [
       "<matplotlib.figure.Figure at 0x11daee438>"
      ]
     },
     "metadata": {},
     "output_type": "display_data"
    }
   ],
   "source": [
    "plt.figure(figsize=(15,5))\n",
    "plt.subplot(1,2,1)\n",
    "plt.scatter(X2.iloc[:,0], y_pred2-y)\n",
    "plt.plot(X2.iloc[:,0],X2.iloc[:,0])\n",
    "plt.title('Residuals')\n",
    "plt.xlabel('runtime feature')\n",
    "plt.ylabel('residual')\n",
    "plt.xlim(min(X2.iloc[:,0]), max(X2.iloc[:,0]))\n",
    "plt.ylim(min(y), max(y));\n",
    "\n",
    "plt.subplot(1,2,2)\n",
    "plt.hist(y_pred2-y, bins = 40)\n",
    "plt.xlabel('runtime feature')\n",
    "plt.ylabel('residual')\n",
    "plt.title('residual histogram');"
   ]
  },
  {
   "cell_type": "markdown",
   "metadata": {},
   "source": [
    "##### We can see that our model is beginning to preform,  the histogram shows that we are beginning to approach a normal distribution, though clearly we still have a ways to go.  the residuals will represent random noise in our dataset, and so when we see a nice clean normal distribution,  we can be confident that we are effectively fitting"
   ]
  },
  {
   "cell_type": "markdown",
   "metadata": {},
   "source": [
    "# Exercise 3.3"
   ]
  },
  {
   "cell_type": "markdown",
   "metadata": {},
   "source": [
    "###### as a categorical variable I'll use rating which I converted earlier"
   ]
  },
  {
   "cell_type": "code",
   "execution_count": 152,
   "metadata": {
    "collapsed": false
   },
   "outputs": [
    {
     "data": {
      "text/html": [
       "<table class=\"simpletable\">\n",
       "<caption>OLS Regression Results</caption>\n",
       "<tr>\n",
       "  <th>Dep. Variable:</th>    <td>DomesticTotalGross_zscore</td> <th>  R-squared:         </th> <td>   0.215</td>\n",
       "</tr>\n",
       "<tr>\n",
       "  <th>Model:</th>                       <td>OLS</td>            <th>  Adj. R-squared:    </th> <td>   0.182</td>\n",
       "</tr>\n",
       "<tr>\n",
       "  <th>Method:</th>                 <td>Least Squares</td>       <th>  F-statistic:       </th> <td>   6.497</td>\n",
       "</tr>\n",
       "<tr>\n",
       "  <th>Date:</th>                 <td>Thu, 13 Oct 2016</td>      <th>  Prob (F-statistic):</th> <td>0.000115</td>\n",
       "</tr>\n",
       "<tr>\n",
       "  <th>Time:</th>                     <td>23:02:41</td>          <th>  Log-Likelihood:    </th> <td> -129.80</td>\n",
       "</tr>\n",
       "<tr>\n",
       "  <th>No. Observations:</th>          <td>   100</td>           <th>  AIC:               </th> <td>   269.6</td>\n",
       "</tr>\n",
       "<tr>\n",
       "  <th>Df Residuals:</th>              <td>    95</td>           <th>  BIC:               </th> <td>   282.6</td>\n",
       "</tr>\n",
       "<tr>\n",
       "  <th>Df Model:</th>                  <td>     4</td>           <th>                     </th>     <td> </td>   \n",
       "</tr>\n",
       "<tr>\n",
       "  <th>Covariance Type:</th>          <td>nonrobust</td>         <th>                     </th>     <td> </td>   \n",
       "</tr>\n",
       "</table>\n",
       "<table class=\"simpletable\">\n",
       "<tr>\n",
       "         <td></td>           <th>coef</th>     <th>std err</th>      <th>t</th>      <th>P>|t|</th> <th>[95.0% Conf. Int.]</th> \n",
       "</tr>\n",
       "<tr>\n",
       "  <th>Runtime_zscore</th> <td>    0.3449</td> <td>    0.097</td> <td>    3.574</td> <td> 0.001</td> <td>    0.153     0.537</td>\n",
       "</tr>\n",
       "<tr>\n",
       "  <th>ones</th>           <td>    0.4636</td> <td>    0.193</td> <td>    2.407</td> <td> 0.018</td> <td>    0.081     0.846</td>\n",
       "</tr>\n",
       "<tr>\n",
       "  <th>G</th>              <td>    1.5674</td> <td>    0.730</td> <td>    2.147</td> <td> 0.034</td> <td>    0.118     3.017</td>\n",
       "</tr>\n",
       "<tr>\n",
       "  <th>PG</th>             <td>    0.1225</td> <td>    0.269</td> <td>    0.455</td> <td> 0.650</td> <td>   -0.412     0.657</td>\n",
       "</tr>\n",
       "<tr>\n",
       "  <th>PG-13</th>          <td>   -0.4388</td> <td>    0.222</td> <td>   -1.978</td> <td> 0.051</td> <td>   -0.879     0.002</td>\n",
       "</tr>\n",
       "<tr>\n",
       "  <th>R</th>              <td>   -0.7875</td> <td>    0.224</td> <td>   -3.511</td> <td> 0.001</td> <td>   -1.233    -0.342</td>\n",
       "</tr>\n",
       "</table>\n",
       "<table class=\"simpletable\">\n",
       "<tr>\n",
       "  <th>Omnibus:</th>       <td>43.608</td> <th>  Durbin-Watson:     </th> <td>   0.448</td>\n",
       "</tr>\n",
       "<tr>\n",
       "  <th>Prob(Omnibus):</th> <td> 0.000</td> <th>  Jarque-Bera (JB):  </th> <td>  95.295</td>\n",
       "</tr>\n",
       "<tr>\n",
       "  <th>Skew:</th>          <td> 1.721</td> <th>  Prob(JB):          </th> <td>2.03e-21</td>\n",
       "</tr>\n",
       "<tr>\n",
       "  <th>Kurtosis:</th>      <td> 6.319</td> <th>  Cond. No.          </th> <td>1.25e+16</td>\n",
       "</tr>\n",
       "</table>"
      ],
      "text/plain": [
       "<class 'statsmodels.iolib.summary.Summary'>\n",
       "\"\"\"\n",
       "                                OLS Regression Results                               \n",
       "=====================================================================================\n",
       "Dep. Variable:     DomesticTotalGross_zscore   R-squared:                       0.215\n",
       "Model:                                   OLS   Adj. R-squared:                  0.182\n",
       "Method:                        Least Squares   F-statistic:                     6.497\n",
       "Date:                       Thu, 13 Oct 2016   Prob (F-statistic):           0.000115\n",
       "Time:                               23:02:41   Log-Likelihood:                -129.80\n",
       "No. Observations:                        100   AIC:                             269.6\n",
       "Df Residuals:                             95   BIC:                             282.6\n",
       "Df Model:                                  4                                         \n",
       "Covariance Type:                   nonrobust                                         \n",
       "==================================================================================\n",
       "                     coef    std err          t      P>|t|      [95.0% Conf. Int.]\n",
       "----------------------------------------------------------------------------------\n",
       "Runtime_zscore     0.3449      0.097      3.574      0.001         0.153     0.537\n",
       "ones               0.4636      0.193      2.407      0.018         0.081     0.846\n",
       "G                  1.5674      0.730      2.147      0.034         0.118     3.017\n",
       "PG                 0.1225      0.269      0.455      0.650        -0.412     0.657\n",
       "PG-13             -0.4388      0.222     -1.978      0.051        -0.879     0.002\n",
       "R                 -0.7875      0.224     -3.511      0.001        -1.233    -0.342\n",
       "==============================================================================\n",
       "Omnibus:                       43.608   Durbin-Watson:                   0.448\n",
       "Prob(Omnibus):                  0.000   Jarque-Bera (JB):               95.295\n",
       "Skew:                           1.721   Prob(JB):                     2.03e-21\n",
       "Kurtosis:                       6.319   Cond. No.                     1.25e+16\n",
       "==============================================================================\n",
       "\n",
       "Warnings:\n",
       "[1] Standard Errors assume that the covariance matrix of the errors is correctly specified.\n",
       "[2] The smallest eigenvalue is 8.99e-31. This might indicate that there are\n",
       "strong multicollinearity problems or that the design matrix is singular.\n",
       "\"\"\""
      ]
     },
     "execution_count": 152,
     "metadata": {},
     "output_type": "execute_result"
    }
   ],
   "source": [
    "y = dfz.DomesticTotalGross_zscore\n",
    "X3 = pd.concat([X2, ratings], axis=1)\n",
    "mod3 = sm.OLS(y,X)\n",
    "fit3 = mod3.fit()\n",
    "fit3.summary()"
   ]
  },
  {
   "cell_type": "code",
   "execution_count": 153,
   "metadata": {
    "collapsed": false
   },
   "outputs": [
    {
     "data": {
      "text/html": [
       "<div>\n",
       "<table border=\"1\" class=\"dataframe\">\n",
       "  <thead>\n",
       "    <tr style=\"text-align: right;\">\n",
       "      <th></th>\n",
       "      <th>Runtime_zscore</th>\n",
       "      <th>ones</th>\n",
       "      <th>G</th>\n",
       "      <th>PG</th>\n",
       "      <th>PG-13</th>\n",
       "      <th>R</th>\n",
       "    </tr>\n",
       "  </thead>\n",
       "  <tbody>\n",
       "    <tr>\n",
       "      <th>0</th>\n",
       "      <td>1.864138</td>\n",
       "      <td>1</td>\n",
       "      <td>0</td>\n",
       "      <td>0</td>\n",
       "      <td>1</td>\n",
       "      <td>0</td>\n",
       "    </tr>\n",
       "    <tr>\n",
       "      <th>1</th>\n",
       "      <td>0.924887</td>\n",
       "      <td>1</td>\n",
       "      <td>0</td>\n",
       "      <td>0</td>\n",
       "      <td>1</td>\n",
       "      <td>0</td>\n",
       "    </tr>\n",
       "    <tr>\n",
       "      <th>2</th>\n",
       "      <td>-0.235365</td>\n",
       "      <td>1</td>\n",
       "      <td>0</td>\n",
       "      <td>1</td>\n",
       "      <td>0</td>\n",
       "      <td>0</td>\n",
       "    </tr>\n",
       "    <tr>\n",
       "      <th>3</th>\n",
       "      <td>-0.787866</td>\n",
       "      <td>1</td>\n",
       "      <td>0</td>\n",
       "      <td>1</td>\n",
       "      <td>0</td>\n",
       "      <td>0</td>\n",
       "    </tr>\n",
       "    <tr>\n",
       "      <th>4</th>\n",
       "      <td>1.698388</td>\n",
       "      <td>1</td>\n",
       "      <td>0</td>\n",
       "      <td>0</td>\n",
       "      <td>1</td>\n",
       "      <td>0</td>\n",
       "    </tr>\n",
       "    <tr>\n",
       "      <th>...</th>\n",
       "      <td>...</td>\n",
       "      <td>...</td>\n",
       "      <td>...</td>\n",
       "      <td>...</td>\n",
       "      <td>...</td>\n",
       "      <td>...</td>\n",
       "    </tr>\n",
       "    <tr>\n",
       "      <th>95</th>\n",
       "      <td>0.593386</td>\n",
       "      <td>1</td>\n",
       "      <td>0</td>\n",
       "      <td>0</td>\n",
       "      <td>0</td>\n",
       "      <td>1</td>\n",
       "    </tr>\n",
       "    <tr>\n",
       "      <th>96</th>\n",
       "      <td>0.703886</td>\n",
       "      <td>1</td>\n",
       "      <td>0</td>\n",
       "      <td>0</td>\n",
       "      <td>1</td>\n",
       "      <td>0</td>\n",
       "    </tr>\n",
       "    <tr>\n",
       "      <th>97</th>\n",
       "      <td>-0.180115</td>\n",
       "      <td>1</td>\n",
       "      <td>0</td>\n",
       "      <td>0</td>\n",
       "      <td>0</td>\n",
       "      <td>1</td>\n",
       "    </tr>\n",
       "    <tr>\n",
       "      <th>98</th>\n",
       "      <td>-1.064117</td>\n",
       "      <td>1</td>\n",
       "      <td>0</td>\n",
       "      <td>0</td>\n",
       "      <td>0</td>\n",
       "      <td>1</td>\n",
       "    </tr>\n",
       "    <tr>\n",
       "      <th>99</th>\n",
       "      <td>0.427636</td>\n",
       "      <td>1</td>\n",
       "      <td>0</td>\n",
       "      <td>0</td>\n",
       "      <td>0</td>\n",
       "      <td>1</td>\n",
       "    </tr>\n",
       "  </tbody>\n",
       "</table>\n",
       "<p>100 rows × 6 columns</p>\n",
       "</div>"
      ],
      "text/plain": [
       "    Runtime_zscore  ones  G  PG  PG-13  R\n",
       "0         1.864138     1  0   0      1  0\n",
       "1         0.924887     1  0   0      1  0\n",
       "2        -0.235365     1  0   1      0  0\n",
       "3        -0.787866     1  0   1      0  0\n",
       "4         1.698388     1  0   0      1  0\n",
       "..             ...   ... ..  ..    ... ..\n",
       "95        0.593386     1  0   0      0  1\n",
       "96        0.703886     1  0   0      1  0\n",
       "97       -0.180115     1  0   0      0  1\n",
       "98       -1.064117     1  0   0      0  1\n",
       "99        0.427636     1  0   0      0  1\n",
       "\n",
       "[100 rows x 6 columns]"
      ]
     },
     "execution_count": 153,
     "metadata": {},
     "output_type": "execute_result"
    }
   ],
   "source": [
    "X3"
   ]
  },
  {
   "cell_type": "code",
   "execution_count": 154,
   "metadata": {
    "collapsed": false
   },
   "outputs": [
    {
     "name": "stdout",
     "output_type": "stream",
     "text": [
      "0.214804839881\n"
     ]
    }
   ],
   "source": [
    "y_pred3 = fit3.predict(X3)\n",
    "print(metrics.r2_score(y,y_pred3))"
   ]
  },
  {
   "cell_type": "markdown",
   "metadata": {},
   "source": [
    "###### Our r-squared jumped with the addition of the categorical variable rating,  this was to be expected given the nature of how ratings can affect the size of the market available to a given movie.  p-values showed signifigance for all but one rating,  PG,  this is also intuitive given that a parent who will let their child see a G movie will likely also let them see a PG movie,  future iterations will combine the G and PG rating into one category to see how that effects the p-value"
   ]
  },
  {
   "cell_type": "markdown",
   "metadata": {},
   "source": [
    "# Exercise 3.4"
   ]
  },
  {
   "cell_type": "code",
   "execution_count": 155,
   "metadata": {
    "collapsed": true
   },
   "outputs": [],
   "source": [
    "ratings['kids'] = ratings.G + ratings.PG\n",
    "ratings2 = ratings.drop(ratings[['G','PG']], axis=1)"
   ]
  },
  {
   "cell_type": "code",
   "execution_count": 156,
   "metadata": {
    "collapsed": false
   },
   "outputs": [
    {
     "data": {
      "text/html": [
       "<div>\n",
       "<table border=\"1\" class=\"dataframe\">\n",
       "  <thead>\n",
       "    <tr style=\"text-align: right;\">\n",
       "      <th></th>\n",
       "      <th>PG-13</th>\n",
       "      <th>R</th>\n",
       "      <th>kids</th>\n",
       "    </tr>\n",
       "  </thead>\n",
       "  <tbody>\n",
       "    <tr>\n",
       "      <th>0</th>\n",
       "      <td>1</td>\n",
       "      <td>0</td>\n",
       "      <td>0</td>\n",
       "    </tr>\n",
       "    <tr>\n",
       "      <th>1</th>\n",
       "      <td>1</td>\n",
       "      <td>0</td>\n",
       "      <td>0</td>\n",
       "    </tr>\n",
       "    <tr>\n",
       "      <th>2</th>\n",
       "      <td>0</td>\n",
       "      <td>0</td>\n",
       "      <td>1</td>\n",
       "    </tr>\n",
       "    <tr>\n",
       "      <th>3</th>\n",
       "      <td>0</td>\n",
       "      <td>0</td>\n",
       "      <td>1</td>\n",
       "    </tr>\n",
       "    <tr>\n",
       "      <th>4</th>\n",
       "      <td>1</td>\n",
       "      <td>0</td>\n",
       "      <td>0</td>\n",
       "    </tr>\n",
       "  </tbody>\n",
       "</table>\n",
       "</div>"
      ],
      "text/plain": [
       "   PG-13  R  kids\n",
       "0      1  0     0\n",
       "1      1  0     0\n",
       "2      0  0     1\n",
       "3      0  0     1\n",
       "4      1  0     0"
      ]
     },
     "execution_count": 156,
     "metadata": {},
     "output_type": "execute_result"
    }
   ],
   "source": [
    "ratings2.head()"
   ]
  },
  {
   "cell_type": "code",
   "execution_count": 157,
   "metadata": {
    "collapsed": false
   },
   "outputs": [
    {
     "data": {
      "text/html": [
       "<table class=\"simpletable\">\n",
       "<caption>OLS Regression Results</caption>\n",
       "<tr>\n",
       "  <th>Dep. Variable:</th>    <td>DomesticTotalGross_zscore</td> <th>  R-squared:         </th> <td>   0.195</td>\n",
       "</tr>\n",
       "<tr>\n",
       "  <th>Model:</th>                       <td>OLS</td>            <th>  Adj. R-squared:    </th> <td>   0.170</td>\n",
       "</tr>\n",
       "<tr>\n",
       "  <th>Method:</th>                 <td>Least Squares</td>       <th>  F-statistic:       </th> <td>   7.765</td>\n",
       "</tr>\n",
       "<tr>\n",
       "  <th>Date:</th>                 <td>Thu, 13 Oct 2016</td>      <th>  Prob (F-statistic):</th> <td>0.000107</td>\n",
       "</tr>\n",
       "<tr>\n",
       "  <th>Time:</th>                     <td>23:04:58</td>          <th>  Log-Likelihood:    </th> <td> -131.03</td>\n",
       "</tr>\n",
       "<tr>\n",
       "  <th>No. Observations:</th>          <td>   100</td>           <th>  AIC:               </th> <td>   270.1</td>\n",
       "</tr>\n",
       "<tr>\n",
       "  <th>Df Residuals:</th>              <td>    96</td>           <th>  BIC:               </th> <td>   280.5</td>\n",
       "</tr>\n",
       "<tr>\n",
       "  <th>Df Model:</th>                  <td>     3</td>           <th>                     </th>     <td> </td>   \n",
       "</tr>\n",
       "<tr>\n",
       "  <th>Covariance Type:</th>          <td>nonrobust</td>         <th>                     </th>     <td> </td>   \n",
       "</tr>\n",
       "</table>\n",
       "<table class=\"simpletable\">\n",
       "<tr>\n",
       "         <td></td>           <th>coef</th>     <th>std err</th>      <th>t</th>      <th>P>|t|</th> <th>[95.0% Conf. Int.]</th> \n",
       "</tr>\n",
       "<tr>\n",
       "  <th>Runtime_zscore</th> <td>    0.3509</td> <td>    0.097</td> <td>    3.613</td> <td> 0.000</td> <td>    0.158     0.544</td>\n",
       "</tr>\n",
       "<tr>\n",
       "  <th>ones</th>           <td>    0.0950</td> <td>    0.077</td> <td>    1.234</td> <td> 0.220</td> <td>   -0.058     0.248</td>\n",
       "</tr>\n",
       "<tr>\n",
       "  <th>PG-13</th>          <td>   -0.0720</td> <td>    0.127</td> <td>   -0.564</td> <td> 0.574</td> <td>   -0.325     0.181</td>\n",
       "</tr>\n",
       "<tr>\n",
       "  <th>R</th>              <td>   -0.4184</td> <td>    0.131</td> <td>   -3.196</td> <td> 0.002</td> <td>   -0.678    -0.159</td>\n",
       "</tr>\n",
       "<tr>\n",
       "  <th>kids</th>           <td>    0.5853</td> <td>    0.187</td> <td>    3.138</td> <td> 0.002</td> <td>    0.215     0.956</td>\n",
       "</tr>\n",
       "</table>\n",
       "<table class=\"simpletable\">\n",
       "<tr>\n",
       "  <th>Omnibus:</th>       <td>39.053</td> <th>  Durbin-Watson:     </th> <td>   0.406</td>\n",
       "</tr>\n",
       "<tr>\n",
       "  <th>Prob(Omnibus):</th> <td> 0.000</td> <th>  Jarque-Bera (JB):  </th> <td>  76.018</td>\n",
       "</tr>\n",
       "<tr>\n",
       "  <th>Skew:</th>          <td> 1.600</td> <th>  Prob(JB):          </th> <td>3.11e-17</td>\n",
       "</tr>\n",
       "<tr>\n",
       "  <th>Kurtosis:</th>      <td> 5.828</td> <th>  Cond. No.          </th> <td>2.30e+16</td>\n",
       "</tr>\n",
       "</table>"
      ],
      "text/plain": [
       "<class 'statsmodels.iolib.summary.Summary'>\n",
       "\"\"\"\n",
       "                                OLS Regression Results                               \n",
       "=====================================================================================\n",
       "Dep. Variable:     DomesticTotalGross_zscore   R-squared:                       0.195\n",
       "Model:                                   OLS   Adj. R-squared:                  0.170\n",
       "Method:                        Least Squares   F-statistic:                     7.765\n",
       "Date:                       Thu, 13 Oct 2016   Prob (F-statistic):           0.000107\n",
       "Time:                               23:04:58   Log-Likelihood:                -131.03\n",
       "No. Observations:                        100   AIC:                             270.1\n",
       "Df Residuals:                             96   BIC:                             280.5\n",
       "Df Model:                                  3                                         \n",
       "Covariance Type:                   nonrobust                                         \n",
       "==================================================================================\n",
       "                     coef    std err          t      P>|t|      [95.0% Conf. Int.]\n",
       "----------------------------------------------------------------------------------\n",
       "Runtime_zscore     0.3509      0.097      3.613      0.000         0.158     0.544\n",
       "ones               0.0950      0.077      1.234      0.220        -0.058     0.248\n",
       "PG-13             -0.0720      0.127     -0.564      0.574        -0.325     0.181\n",
       "R                 -0.4184      0.131     -3.196      0.002        -0.678    -0.159\n",
       "kids               0.5853      0.187      3.138      0.002         0.215     0.956\n",
       "==============================================================================\n",
       "Omnibus:                       39.053   Durbin-Watson:                   0.406\n",
       "Prob(Omnibus):                  0.000   Jarque-Bera (JB):               76.018\n",
       "Skew:                           1.600   Prob(JB):                     3.11e-17\n",
       "Kurtosis:                       5.828   Cond. No.                     2.30e+16\n",
       "==============================================================================\n",
       "\n",
       "Warnings:\n",
       "[1] Standard Errors assume that the covariance matrix of the errors is correctly specified.\n",
       "[2] The smallest eigenvalue is 2.64e-31. This might indicate that there are\n",
       "strong multicollinearity problems or that the design matrix is singular.\n",
       "\"\"\""
      ]
     },
     "execution_count": 157,
     "metadata": {},
     "output_type": "execute_result"
    }
   ],
   "source": [
    "X4 = pd.concat([X2, ratings2],axis=1)\n",
    "mod4 = sm.OLS(y,X4)\n",
    "fit4 = mod4.fit()\n",
    "fit4.summary()"
   ]
  },
  {
   "cell_type": "markdown",
   "metadata": {},
   "source": [
    "##### well that didn't work as expected, r2 dropped,  we'll try again,  and this time simply drop PG"
   ]
  },
  {
   "cell_type": "code",
   "execution_count": 275,
   "metadata": {
    "collapsed": false
   },
   "outputs": [],
   "source": [
    "ratings3 = ratings.drop(ratings[['kids']], axis=1)\n"
   ]
  },
  {
   "cell_type": "code",
   "execution_count": 162,
   "metadata": {
    "collapsed": false,
    "scrolled": true
   },
   "outputs": [
    {
     "data": {
      "text/html": [
       "<table class=\"simpletable\">\n",
       "<caption>OLS Regression Results</caption>\n",
       "<tr>\n",
       "  <th>Dep. Variable:</th>    <td>DomesticTotalGross_zscore</td> <th>  R-squared:         </th> <td>   0.215</td>\n",
       "</tr>\n",
       "<tr>\n",
       "  <th>Model:</th>                       <td>OLS</td>            <th>  Adj. R-squared:    </th> <td>   0.182</td>\n",
       "</tr>\n",
       "<tr>\n",
       "  <th>Method:</th>                 <td>Least Squares</td>       <th>  F-statistic:       </th> <td>   6.497</td>\n",
       "</tr>\n",
       "<tr>\n",
       "  <th>Date:</th>                 <td>Thu, 13 Oct 2016</td>      <th>  Prob (F-statistic):</th> <td>0.000115</td>\n",
       "</tr>\n",
       "<tr>\n",
       "  <th>Time:</th>                     <td>23:08:06</td>          <th>  Log-Likelihood:    </th> <td> -129.80</td>\n",
       "</tr>\n",
       "<tr>\n",
       "  <th>No. Observations:</th>          <td>   100</td>           <th>  AIC:               </th> <td>   269.6</td>\n",
       "</tr>\n",
       "<tr>\n",
       "  <th>Df Residuals:</th>              <td>    95</td>           <th>  BIC:               </th> <td>   282.6</td>\n",
       "</tr>\n",
       "<tr>\n",
       "  <th>Df Model:</th>                  <td>     4</td>           <th>                     </th>     <td> </td>   \n",
       "</tr>\n",
       "<tr>\n",
       "  <th>Covariance Type:</th>          <td>nonrobust</td>         <th>                     </th>     <td> </td>   \n",
       "</tr>\n",
       "</table>\n",
       "<table class=\"simpletable\">\n",
       "<tr>\n",
       "         <td></td>           <th>coef</th>     <th>std err</th>      <th>t</th>      <th>P>|t|</th> <th>[95.0% Conf. Int.]</th> \n",
       "</tr>\n",
       "<tr>\n",
       "  <th>Runtime_zscore</th> <td>    0.3449</td> <td>    0.097</td> <td>    3.574</td> <td> 0.001</td> <td>    0.153     0.537</td>\n",
       "</tr>\n",
       "<tr>\n",
       "  <th>ones</th>           <td>    0.5861</td> <td>    0.244</td> <td>    2.404</td> <td> 0.018</td> <td>    0.102     1.070</td>\n",
       "</tr>\n",
       "<tr>\n",
       "  <th>G</th>              <td>    1.4449</td> <td>    0.940</td> <td>    1.538</td> <td> 0.127</td> <td>   -0.421     3.310</td>\n",
       "</tr>\n",
       "<tr>\n",
       "  <th>PG-13</th>          <td>   -0.5614</td> <td>    0.285</td> <td>   -1.967</td> <td> 0.052</td> <td>   -1.128     0.005</td>\n",
       "</tr>\n",
       "<tr>\n",
       "  <th>R</th>              <td>   -0.9100</td> <td>    0.284</td> <td>   -3.202</td> <td> 0.002</td> <td>   -1.474    -0.346</td>\n",
       "</tr>\n",
       "</table>\n",
       "<table class=\"simpletable\">\n",
       "<tr>\n",
       "  <th>Omnibus:</th>       <td>43.608</td> <th>  Durbin-Watson:     </th> <td>   0.448</td>\n",
       "</tr>\n",
       "<tr>\n",
       "  <th>Prob(Omnibus):</th> <td> 0.000</td> <th>  Jarque-Bera (JB):  </th> <td>  95.295</td>\n",
       "</tr>\n",
       "<tr>\n",
       "  <th>Skew:</th>          <td> 1.721</td> <th>  Prob(JB):          </th> <td>2.03e-21</td>\n",
       "</tr>\n",
       "<tr>\n",
       "  <th>Kurtosis:</th>      <td> 6.319</td> <th>  Cond. No.          </th> <td>    12.3</td>\n",
       "</tr>\n",
       "</table>"
      ],
      "text/plain": [
       "<class 'statsmodels.iolib.summary.Summary'>\n",
       "\"\"\"\n",
       "                                OLS Regression Results                               \n",
       "=====================================================================================\n",
       "Dep. Variable:     DomesticTotalGross_zscore   R-squared:                       0.215\n",
       "Model:                                   OLS   Adj. R-squared:                  0.182\n",
       "Method:                        Least Squares   F-statistic:                     6.497\n",
       "Date:                       Thu, 13 Oct 2016   Prob (F-statistic):           0.000115\n",
       "Time:                               23:08:06   Log-Likelihood:                -129.80\n",
       "No. Observations:                        100   AIC:                             269.6\n",
       "Df Residuals:                             95   BIC:                             282.6\n",
       "Df Model:                                  4                                         \n",
       "Covariance Type:                   nonrobust                                         \n",
       "==================================================================================\n",
       "                     coef    std err          t      P>|t|      [95.0% Conf. Int.]\n",
       "----------------------------------------------------------------------------------\n",
       "Runtime_zscore     0.3449      0.097      3.574      0.001         0.153     0.537\n",
       "ones               0.5861      0.244      2.404      0.018         0.102     1.070\n",
       "G                  1.4449      0.940      1.538      0.127        -0.421     3.310\n",
       "PG-13             -0.5614      0.285     -1.967      0.052        -1.128     0.005\n",
       "R                 -0.9100      0.284     -3.202      0.002        -1.474    -0.346\n",
       "==============================================================================\n",
       "Omnibus:                       43.608   Durbin-Watson:                   0.448\n",
       "Prob(Omnibus):                  0.000   Jarque-Bera (JB):               95.295\n",
       "Skew:                           1.721   Prob(JB):                     2.03e-21\n",
       "Kurtosis:                       6.319   Cond. No.                         12.3\n",
       "==============================================================================\n",
       "\n",
       "Warnings:\n",
       "[1] Standard Errors assume that the covariance matrix of the errors is correctly specified.\n",
       "\"\"\""
      ]
     },
     "execution_count": 162,
     "metadata": {},
     "output_type": "execute_result"
    }
   ],
   "source": [
    "X5 = pd.concat([X2, ratings3],axis=1)\n",
    "mod5 = sm.OLS(y,X5)\n",
    "fit5 = mod5.fit()\n",
    "fit5.summary()"
   ]
  },
  {
   "cell_type": "code",
   "execution_count": 163,
   "metadata": {
    "collapsed": false
   },
   "outputs": [
    {
     "name": "stdout",
     "output_type": "stream",
     "text": [
      "0.214804839881\n"
     ]
    }
   ],
   "source": [
    "y_pred5 = fit5.predict(X5)\n",
    "print(metrics.r2_score(y,y_pred5))"
   ]
  },
  {
   "cell_type": "markdown",
   "metadata": {},
   "source": [
    "##### interesting, exactly the same performance,  we'll stick with a dropped PG column so that we're sure our P-Values are all good, and add our release quarter"
   ]
  },
  {
   "cell_type": "code",
   "execution_count": 188,
   "metadata": {
    "collapsed": false
   },
   "outputs": [
    {
     "data": {
      "text/plain": [
       "Index(['Runtime_zscore', 'ones'], dtype='object')"
      ]
     },
     "execution_count": 188,
     "metadata": {},
     "output_type": "execute_result"
    }
   ],
   "source": [
    "X2.columns"
   ]
  },
  {
   "cell_type": "code",
   "execution_count": 184,
   "metadata": {
    "collapsed": false
   },
   "outputs": [
    {
     "data": {
      "text/html": [
       "<table class=\"simpletable\">\n",
       "<caption>OLS Regression Results</caption>\n",
       "<tr>\n",
       "  <th>Dep. Variable:</th>    <td>DomesticTotalGross_zscore</td> <th>  R-squared:         </th> <td>   0.248</td>\n",
       "</tr>\n",
       "<tr>\n",
       "  <th>Model:</th>                       <td>OLS</td>            <th>  Adj. R-squared:    </th> <td>   0.191</td>\n",
       "</tr>\n",
       "<tr>\n",
       "  <th>Method:</th>                 <td>Least Squares</td>       <th>  F-statistic:       </th> <td>   4.344</td>\n",
       "</tr>\n",
       "<tr>\n",
       "  <th>Date:</th>                 <td>Thu, 13 Oct 2016</td>      <th>  Prob (F-statistic):</th> <td>0.000339</td>\n",
       "</tr>\n",
       "<tr>\n",
       "  <th>Time:</th>                     <td>23:33:03</td>          <th>  Log-Likelihood:    </th> <td> -127.62</td>\n",
       "</tr>\n",
       "<tr>\n",
       "  <th>No. Observations:</th>          <td>   100</td>           <th>  AIC:               </th> <td>   271.2</td>\n",
       "</tr>\n",
       "<tr>\n",
       "  <th>Df Residuals:</th>              <td>    92</td>           <th>  BIC:               </th> <td>   292.1</td>\n",
       "</tr>\n",
       "<tr>\n",
       "  <th>Df Model:</th>                  <td>     7</td>           <th>                     </th>     <td> </td>   \n",
       "</tr>\n",
       "<tr>\n",
       "  <th>Covariance Type:</th>          <td>nonrobust</td>         <th>                     </th>     <td> </td>   \n",
       "</tr>\n",
       "</table>\n",
       "<table class=\"simpletable\">\n",
       "<tr>\n",
       "         <td></td>           <th>coef</th>     <th>std err</th>      <th>t</th>      <th>P>|t|</th> <th>[95.0% Conf. Int.]</th> \n",
       "</tr>\n",
       "<tr>\n",
       "  <th>Runtime_zscore</th> <td>    0.3229</td> <td>    0.100</td> <td>    3.244</td> <td> 0.002</td> <td>    0.125     0.521</td>\n",
       "</tr>\n",
       "<tr>\n",
       "  <th>ones</th>           <td>    0.5361</td> <td>    0.199</td> <td>    2.693</td> <td> 0.008</td> <td>    0.141     0.931</td>\n",
       "</tr>\n",
       "<tr>\n",
       "  <th>G</th>              <td>    1.0536</td> <td>    0.958</td> <td>    1.100</td> <td> 0.274</td> <td>   -0.849     2.957</td>\n",
       "</tr>\n",
       "<tr>\n",
       "  <th>PG-13</th>          <td>   -0.6664</td> <td>    0.290</td> <td>   -2.299</td> <td> 0.024</td> <td>   -1.242    -0.091</td>\n",
       "</tr>\n",
       "<tr>\n",
       "  <th>R</th>              <td>   -0.9572</td> <td>    0.286</td> <td>   -3.350</td> <td> 0.001</td> <td>   -1.525    -0.390</td>\n",
       "</tr>\n",
       "<tr>\n",
       "  <th>1</th>              <td>    0.0334</td> <td>    0.185</td> <td>    0.180</td> <td> 0.857</td> <td>   -0.334     0.400</td>\n",
       "</tr>\n",
       "<tr>\n",
       "  <th>2</th>              <td>    0.4349</td> <td>    0.185</td> <td>    2.348</td> <td> 0.021</td> <td>    0.067     0.803</td>\n",
       "</tr>\n",
       "<tr>\n",
       "  <th>3</th>              <td>   -0.0938</td> <td>    0.151</td> <td>   -0.619</td> <td> 0.537</td> <td>   -0.395     0.207</td>\n",
       "</tr>\n",
       "<tr>\n",
       "  <th>4</th>              <td>    0.1616</td> <td>    0.159</td> <td>    1.020</td> <td> 0.311</td> <td>   -0.153     0.476</td>\n",
       "</tr>\n",
       "</table>\n",
       "<table class=\"simpletable\">\n",
       "<tr>\n",
       "  <th>Omnibus:</th>       <td>42.429</td> <th>  Durbin-Watson:     </th> <td>   0.515</td>\n",
       "</tr>\n",
       "<tr>\n",
       "  <th>Prob(Omnibus):</th> <td> 0.000</td> <th>  Jarque-Bera (JB):  </th> <td>  92.702</td>\n",
       "</tr>\n",
       "<tr>\n",
       "  <th>Skew:</th>          <td> 1.665</td> <th>  Prob(JB):          </th> <td>7.41e-21</td>\n",
       "</tr>\n",
       "<tr>\n",
       "  <th>Kurtosis:</th>      <td> 6.340</td> <th>  Cond. No.          </th> <td>1.44e+16</td>\n",
       "</tr>\n",
       "</table>"
      ],
      "text/plain": [
       "<class 'statsmodels.iolib.summary.Summary'>\n",
       "\"\"\"\n",
       "                                OLS Regression Results                               \n",
       "=====================================================================================\n",
       "Dep. Variable:     DomesticTotalGross_zscore   R-squared:                       0.248\n",
       "Model:                                   OLS   Adj. R-squared:                  0.191\n",
       "Method:                        Least Squares   F-statistic:                     4.344\n",
       "Date:                       Thu, 13 Oct 2016   Prob (F-statistic):           0.000339\n",
       "Time:                               23:33:03   Log-Likelihood:                -127.62\n",
       "No. Observations:                        100   AIC:                             271.2\n",
       "Df Residuals:                             92   BIC:                             292.1\n",
       "Df Model:                                  7                                         \n",
       "Covariance Type:                   nonrobust                                         \n",
       "==================================================================================\n",
       "                     coef    std err          t      P>|t|      [95.0% Conf. Int.]\n",
       "----------------------------------------------------------------------------------\n",
       "Runtime_zscore     0.3229      0.100      3.244      0.002         0.125     0.521\n",
       "ones               0.5361      0.199      2.693      0.008         0.141     0.931\n",
       "G                  1.0536      0.958      1.100      0.274        -0.849     2.957\n",
       "PG-13             -0.6664      0.290     -2.299      0.024        -1.242    -0.091\n",
       "R                 -0.9572      0.286     -3.350      0.001        -1.525    -0.390\n",
       "1                  0.0334      0.185      0.180      0.857        -0.334     0.400\n",
       "2                  0.4349      0.185      2.348      0.021         0.067     0.803\n",
       "3                 -0.0938      0.151     -0.619      0.537        -0.395     0.207\n",
       "4                  0.1616      0.159      1.020      0.311        -0.153     0.476\n",
       "==============================================================================\n",
       "Omnibus:                       42.429   Durbin-Watson:                   0.515\n",
       "Prob(Omnibus):                  0.000   Jarque-Bera (JB):               92.702\n",
       "Skew:                           1.665   Prob(JB):                     7.41e-21\n",
       "Kurtosis:                       6.340   Cond. No.                     1.44e+16\n",
       "==============================================================================\n",
       "\n",
       "Warnings:\n",
       "[1] Standard Errors assume that the covariance matrix of the errors is correctly specified.\n",
       "[2] The smallest eigenvalue is 7.9e-31. This might indicate that there are\n",
       "strong multicollinearity problems or that the design matrix is singular.\n",
       "\"\"\""
      ]
     },
     "execution_count": 184,
     "metadata": {},
     "output_type": "execute_result"
    }
   ],
   "source": [
    "\n",
    "X6 = pd.concat([X2, ratings3, quarters], axis=1)\n",
    "mod6 = sm.OLS(y,X6)\n",
    "fit6 = mod6.fit()\n",
    "fit6.summary()\n"
   ]
  },
  {
   "cell_type": "markdown",
   "metadata": {},
   "source": [
    "###### Slightly better performance here, I think we'll try with budget now"
   ]
  },
  {
   "cell_type": "code",
   "execution_count": 191,
   "metadata": {
    "collapsed": false
   },
   "outputs": [
    {
     "data": {
      "text/plain": [
       "Index([            'Budget_zscore', 'DomesticTotalGross_zscore',\n",
       "                  'Runtime_zscore',                         'G',\n",
       "                              'PG',                     'PG-13',\n",
       "                               'R',                           1,\n",
       "                                 2,                           3,\n",
       "                                 4],\n",
       "      dtype='object')"
      ]
     },
     "execution_count": 191,
     "metadata": {},
     "output_type": "execute_result"
    }
   ],
   "source": [
    "dfz.columns"
   ]
  },
  {
   "cell_type": "code",
   "execution_count": 301,
   "metadata": {
    "collapsed": false
   },
   "outputs": [],
   "source": [
    "X7 = dfz.drop(dfz[['DomesticTotalGross_zscore','G']], axis=1)\n",
    "\n",
    "X7.fillna(0,inplace=True)"
   ]
  },
  {
   "cell_type": "code",
   "execution_count": 302,
   "metadata": {
    "collapsed": false
   },
   "outputs": [
    {
     "data": {
      "text/html": [
       "<table class=\"simpletable\">\n",
       "<caption>OLS Regression Results</caption>\n",
       "<tr>\n",
       "  <th>Dep. Variable:</th>    <td>DomesticTotalGross_zscore</td> <th>  R-squared:         </th> <td>   0.363</td>\n",
       "</tr>\n",
       "<tr>\n",
       "  <th>Model:</th>                       <td>OLS</td>            <th>  Adj. R-squared:    </th> <td>   0.307</td>\n",
       "</tr>\n",
       "<tr>\n",
       "  <th>Method:</th>                 <td>Least Squares</td>       <th>  F-statistic:       </th> <td>   6.477</td>\n",
       "</tr>\n",
       "<tr>\n",
       "  <th>Date:</th>                 <td>Fri, 14 Oct 2016</td>      <th>  Prob (F-statistic):</th> <td>1.19e-06</td>\n",
       "</tr>\n",
       "<tr>\n",
       "  <th>Time:</th>                     <td>01:00:17</td>          <th>  Log-Likelihood:    </th> <td> -119.36</td>\n",
       "</tr>\n",
       "<tr>\n",
       "  <th>No. Observations:</th>          <td>   100</td>           <th>  AIC:               </th> <td>   256.7</td>\n",
       "</tr>\n",
       "<tr>\n",
       "  <th>Df Residuals:</th>              <td>    91</td>           <th>  BIC:               </th> <td>   280.2</td>\n",
       "</tr>\n",
       "<tr>\n",
       "  <th>Df Model:</th>                  <td>     8</td>           <th>                     </th>     <td> </td>   \n",
       "</tr>\n",
       "<tr>\n",
       "  <th>Covariance Type:</th>          <td>nonrobust</td>         <th>                     </th>     <td> </td>   \n",
       "</tr>\n",
       "</table>\n",
       "<table class=\"simpletable\">\n",
       "<tr>\n",
       "         <td></td>           <th>coef</th>     <th>std err</th>      <th>t</th>      <th>P>|t|</th> <th>[95.0% Conf. Int.]</th> \n",
       "</tr>\n",
       "<tr>\n",
       "  <th>Budget_zscore</th>  <td>    0.4393</td> <td>    0.109</td> <td>    4.042</td> <td> 0.000</td> <td>    0.223     0.655</td>\n",
       "</tr>\n",
       "<tr>\n",
       "  <th>Runtime_zscore</th> <td>    0.1709</td> <td>    0.100</td> <td>    1.717</td> <td> 0.089</td> <td>   -0.027     0.369</td>\n",
       "</tr>\n",
       "<tr>\n",
       "  <th>PG</th>             <td>   -1.3749</td> <td>    0.891</td> <td>   -1.544</td> <td> 0.126</td> <td>   -3.144     0.394</td>\n",
       "</tr>\n",
       "<tr>\n",
       "  <th>PG-13</th>          <td>   -1.8721</td> <td>    0.862</td> <td>   -2.173</td> <td> 0.032</td> <td>   -3.583    -0.161</td>\n",
       "</tr>\n",
       "<tr>\n",
       "  <th>R</th>              <td>   -1.8448</td> <td>    0.868</td> <td>   -2.126</td> <td> 0.036</td> <td>   -3.569    -0.121</td>\n",
       "</tr>\n",
       "<tr>\n",
       "  <th>1</th>              <td>    1.6139</td> <td>    0.881</td> <td>    1.833</td> <td> 0.070</td> <td>   -0.135     3.363</td>\n",
       "</tr>\n",
       "<tr>\n",
       "  <th>2</th>              <td>    1.9804</td> <td>    0.837</td> <td>    2.365</td> <td> 0.020</td> <td>    0.317     3.644</td>\n",
       "</tr>\n",
       "<tr>\n",
       "  <th>3</th>              <td>    1.5655</td> <td>    0.873</td> <td>    1.792</td> <td> 0.076</td> <td>   -0.170     3.301</td>\n",
       "</tr>\n",
       "<tr>\n",
       "  <th>4</th>              <td>    1.9289</td> <td>    0.873</td> <td>    2.210</td> <td> 0.030</td> <td>    0.195     3.663</td>\n",
       "</tr>\n",
       "</table>\n",
       "<table class=\"simpletable\">\n",
       "<tr>\n",
       "  <th>Omnibus:</th>       <td>39.141</td> <th>  Durbin-Watson:     </th> <td>   0.826</td>\n",
       "</tr>\n",
       "<tr>\n",
       "  <th>Prob(Omnibus):</th> <td> 0.000</td> <th>  Jarque-Bera (JB):  </th> <td>  88.303</td>\n",
       "</tr>\n",
       "<tr>\n",
       "  <th>Skew:</th>          <td> 1.493</td> <th>  Prob(JB):          </th> <td>6.69e-20</td>\n",
       "</tr>\n",
       "<tr>\n",
       "  <th>Kurtosis:</th>      <td> 6.503</td> <th>  Cond. No.          </th> <td>    31.4</td>\n",
       "</tr>\n",
       "</table>"
      ],
      "text/plain": [
       "<class 'statsmodels.iolib.summary.Summary'>\n",
       "\"\"\"\n",
       "                                OLS Regression Results                               \n",
       "=====================================================================================\n",
       "Dep. Variable:     DomesticTotalGross_zscore   R-squared:                       0.363\n",
       "Model:                                   OLS   Adj. R-squared:                  0.307\n",
       "Method:                        Least Squares   F-statistic:                     6.477\n",
       "Date:                       Fri, 14 Oct 2016   Prob (F-statistic):           1.19e-06\n",
       "Time:                               01:00:17   Log-Likelihood:                -119.36\n",
       "No. Observations:                        100   AIC:                             256.7\n",
       "Df Residuals:                             91   BIC:                             280.2\n",
       "Df Model:                                  8                                         \n",
       "Covariance Type:                   nonrobust                                         \n",
       "==================================================================================\n",
       "                     coef    std err          t      P>|t|      [95.0% Conf. Int.]\n",
       "----------------------------------------------------------------------------------\n",
       "Budget_zscore      0.4393      0.109      4.042      0.000         0.223     0.655\n",
       "Runtime_zscore     0.1709      0.100      1.717      0.089        -0.027     0.369\n",
       "PG                -1.3749      0.891     -1.544      0.126        -3.144     0.394\n",
       "PG-13             -1.8721      0.862     -2.173      0.032        -3.583    -0.161\n",
       "R                 -1.8448      0.868     -2.126      0.036        -3.569    -0.121\n",
       "1                  1.6139      0.881      1.833      0.070        -0.135     3.363\n",
       "2                  1.9804      0.837      2.365      0.020         0.317     3.644\n",
       "3                  1.5655      0.873      1.792      0.076        -0.170     3.301\n",
       "4                  1.9289      0.873      2.210      0.030         0.195     3.663\n",
       "==============================================================================\n",
       "Omnibus:                       39.141   Durbin-Watson:                   0.826\n",
       "Prob(Omnibus):                  0.000   Jarque-Bera (JB):               88.303\n",
       "Skew:                           1.493   Prob(JB):                     6.69e-20\n",
       "Kurtosis:                       6.503   Cond. No.                         31.4\n",
       "==============================================================================\n",
       "\n",
       "Warnings:\n",
       "[1] Standard Errors assume that the covariance matrix of the errors is correctly specified.\n",
       "\"\"\""
      ]
     },
     "execution_count": 302,
     "metadata": {},
     "output_type": "execute_result"
    }
   ],
   "source": [
    "mod7 = sm.OLS(y,X7)\n",
    "fit7 = mod7.fit()\n",
    "fit7.summary()"
   ]
  },
  {
   "cell_type": "markdown",
   "metadata": {},
   "source": [
    "###### Now we can run some plots and see if any transforms will help us"
   ]
  },
  {
   "cell_type": "code",
   "execution_count": 217,
   "metadata": {
    "collapsed": false
   },
   "outputs": [
    {
     "data": {
      "text/plain": [
       "<matplotlib.text.Text at 0x18a4644e0>"
      ]
     },
     "execution_count": 217,
     "metadata": {},
     "output_type": "execute_result"
    },
    {
     "data": {
      "image/png": "[encoded data removed]",
      "text/plain": [
       "<matplotlib.figure.Figure at 0x1894f34e0>"
      ]
     },
     "metadata": {},
     "output_type": "display_data"
    }
   ],
   "source": [
    "plt.figure(figsize = (15,10))\n",
    "plt.subplot(3,3,1)\n",
    "plt.scatter(y, X7.iloc[:,0])\n",
    "plt.title('budget')\n",
    "plt.subplot(3,3,2)\n",
    "plt.scatter(y, X7.iloc[:,1])\n",
    "plt.title('runtime')\n",
    "plt.subplot(3,3,3)\n",
    "plt.scatter(y, X7.iloc[:,2])\n",
    "plt.title('G rated')\n",
    "plt.subplot(3,3,4)\n",
    "plt.scatter(y, X7.iloc[:,3])\n",
    "plt.title('PG13 rated')\n",
    "plt.subplot(3,3,5)\n",
    "plt.scatter(y, X7.iloc[:,4])\n",
    "plt.title('R rated')\n",
    "plt.subplot(3,3,6)\n",
    "plt.scatter(y, X7.iloc[:,5])\n",
    "plt.title('Q1 release')\n",
    "plt.subplot(3,3,7)\n",
    "plt.scatter(y, X7.iloc[:,6])\n",
    "plt.title('Q2 release')\n",
    "plt.subplot(3,3,8)\n",
    "plt.scatter(y, X7.iloc[:,7])\n",
    "plt.title('Q3 release')\n",
    "plt.subplot(3,3,9)\n",
    "plt.scatter(y, X7.iloc[:,8])\n",
    "plt.title('Q4 release')"
   ]
  },
  {
   "cell_type": "markdown",
   "metadata": {},
   "source": [
    "######  we might get some benefit out of a log transform on budget an runtime,  we'll give that a go"
   ]
  },
  {
   "cell_type": "code",
   "execution_count": 249,
   "metadata": {
    "collapsed": true
   },
   "outputs": [],
   "source": [
    "dfLog = df[['Budget', 'Runtime']]"
   ]
  },
  {
   "cell_type": "code",
   "execution_count": 287,
   "metadata": {
    "collapsed": false,
    "scrolled": true
   },
   "outputs": [
    {
     "name": "stderr",
     "output_type": "stream",
     "text": [
      "/Users/kylemix/anaconda/lib/python3.5/site-packages/ipykernel/__main__.py:2: SettingWithCopyWarning: \n",
      "A value is trying to be set on a copy of a slice from a DataFrame.\n",
      "Try using .loc[row_indexer,col_indexer] = value instead\n",
      "\n",
      "See the caveats in the documentation: http://pandas.pydata.org/pandas-docs/stable/indexing.html#indexing-view-versus-copy\n",
      "  from ipykernel import kernelapp as app\n",
      "/Users/kylemix/anaconda/lib/python3.5/site-packages/ipykernel/__main__.py:3: SettingWithCopyWarning: \n",
      "A value is trying to be set on a copy of a slice from a DataFrame.\n",
      "Try using .loc[row_indexer,col_indexer] = value instead\n",
      "\n",
      "See the caveats in the documentation: http://pandas.pydata.org/pandas-docs/stable/indexing.html#indexing-view-versus-copy\n",
      "  app.launch_new_instance()\n"
     ]
    }
   ],
   "source": [
    "dfLog.head()\n",
    "dfLog['Budget'] = np.power(np.log10(dfLog.Budget),2)\n",
    "dfLog['Runtime'] = np.log10(dfLog.Runtime)\n"
   ]
  },
  {
   "cell_type": "code",
   "execution_count": 288,
   "metadata": {
    "collapsed": false
   },
   "outputs": [],
   "source": [
    "\n",
    "\n",
    "X8 = pd.concat([dfLog, ratings3, quarters], axis=1)"
   ]
  },
  {
   "cell_type": "code",
   "execution_count": 289,
   "metadata": {
    "collapsed": false
   },
   "outputs": [
    {
     "data": {
      "text/html": [
       "<div>\n",
       "<table border=\"1\" class=\"dataframe\">\n",
       "  <thead>\n",
       "    <tr style=\"text-align: right;\">\n",
       "      <th></th>\n",
       "      <th>Budget</th>\n",
       "      <th>Runtime</th>\n",
       "      <th>G</th>\n",
       "      <th>PG</th>\n",
       "      <th>PG-13</th>\n",
       "      <th>R</th>\n",
       "      <th>Q_1</th>\n",
       "      <th>Q_2</th>\n",
       "      <th>Q_3</th>\n",
       "      <th>Q_4</th>\n",
       "    </tr>\n",
       "  </thead>\n",
       "  <tbody>\n",
       "    <tr>\n",
       "      <th>0</th>\n",
       "      <td>0.081732</td>\n",
       "      <td>-0.530099</td>\n",
       "      <td>0</td>\n",
       "      <td>0</td>\n",
       "      <td>1</td>\n",
       "      <td>0</td>\n",
       "      <td>0</td>\n",
       "      <td>0</td>\n",
       "      <td>0</td>\n",
       "      <td>1</td>\n",
       "    </tr>\n",
       "    <tr>\n",
       "      <th>1</th>\n",
       "      <td>0.080306</td>\n",
       "      <td>-0.538381</td>\n",
       "      <td>0</td>\n",
       "      <td>0</td>\n",
       "      <td>1</td>\n",
       "      <td>0</td>\n",
       "      <td>0</td>\n",
       "      <td>1</td>\n",
       "      <td>0</td>\n",
       "      <td>0</td>\n",
       "    </tr>\n",
       "    <tr>\n",
       "      <th>2</th>\n",
       "      <td>0.081251</td>\n",
       "      <td>-0.551149</td>\n",
       "      <td>0</td>\n",
       "      <td>1</td>\n",
       "      <td>0</td>\n",
       "      <td>0</td>\n",
       "      <td>0</td>\n",
       "      <td>0</td>\n",
       "      <td>0</td>\n",
       "      <td>1</td>\n",
       "    </tr>\n",
       "    <tr>\n",
       "      <th>3</th>\n",
       "      <td>0.083601</td>\n",
       "      <td>-0.558619</td>\n",
       "      <td>0</td>\n",
       "      <td>1</td>\n",
       "      <td>0</td>\n",
       "      <td>0</td>\n",
       "      <td>0</td>\n",
       "      <td>0</td>\n",
       "      <td>1</td>\n",
       "      <td>0</td>\n",
       "    </tr>\n",
       "    <tr>\n",
       "      <th>4</th>\n",
       "      <td>0.079927</td>\n",
       "      <td>-0.531455</td>\n",
       "      <td>0</td>\n",
       "      <td>0</td>\n",
       "      <td>1</td>\n",
       "      <td>0</td>\n",
       "      <td>0</td>\n",
       "      <td>1</td>\n",
       "      <td>0</td>\n",
       "      <td>0</td>\n",
       "    </tr>\n",
       "  </tbody>\n",
       "</table>\n",
       "</div>"
      ],
      "text/plain": [
       "     Budget   Runtime  G  PG  PG-13  R  Q_1  Q_2  Q_3  Q_4\n",
       "0  0.081732 -0.530099  0   0      1  0    0    0    0    1\n",
       "1  0.080306 -0.538381  0   0      1  0    0    1    0    0\n",
       "2  0.081251 -0.551149  0   1      0  0    0    0    0    1\n",
       "3  0.083601 -0.558619  0   1      0  0    0    0    1    0\n",
       "4  0.079927 -0.531455  0   0      1  0    0    1    0    0"
      ]
     },
     "execution_count": 289,
     "metadata": {},
     "output_type": "execute_result"
    }
   ],
   "source": [
    "X8.fillna(0,inplace=True)\n",
    "X8.head()"
   ]
  },
  {
   "cell_type": "code",
   "execution_count": 290,
   "metadata": {
    "collapsed": false
   },
   "outputs": [
    {
     "data": {
      "text/plain": [
       "<matplotlib.axes._subplots.AxesSubplot at 0x18c1daf60>"
      ]
     },
     "execution_count": 290,
     "metadata": {},
     "output_type": "execute_result"
    },
    {
     "data": {
      "image/png": "[encoded data removed]",
      "text/plain": [
       "<matplotlib.figure.Figure at 0x18c0bf9e8>"
      ]
     },
     "metadata": {},
     "output_type": "display_data"
    }
   ],
   "source": [
    "plt.figure(figsize = (15,10))\n",
    "plt.subplot(3,3,1)\n",
    "plt.scatter(y, dfLog.iloc[:,0])\n",
    "plt.title('budget')\n",
    "plt.subplot(3,3,2)\n",
    "plt.scatter(y, dfLog.iloc[:,1])\n",
    "plt.title('runtime')\n",
    "plt.subplot(3,3,3)"
   ]
  },
  {
   "cell_type": "code",
   "execution_count": 291,
   "metadata": {
    "collapsed": false
   },
   "outputs": [
    {
     "data": {
      "text/html": [
       "<table class=\"simpletable\">\n",
       "<caption>OLS Regression Results</caption>\n",
       "<tr>\n",
       "  <th>Dep. Variable:</th>    <td>DomesticTotalGross_zscore</td> <th>  R-squared:         </th> <td>   0.243</td>\n",
       "</tr>\n",
       "<tr>\n",
       "  <th>Model:</th>                       <td>OLS</td>            <th>  Adj. R-squared:    </th> <td>   0.177</td>\n",
       "</tr>\n",
       "<tr>\n",
       "  <th>Method:</th>                 <td>Least Squares</td>       <th>  F-statistic:       </th> <td>   3.657</td>\n",
       "</tr>\n",
       "<tr>\n",
       "  <th>Date:</th>                 <td>Fri, 14 Oct 2016</td>      <th>  Prob (F-statistic):</th> <td>0.000978</td>\n",
       "</tr>\n",
       "<tr>\n",
       "  <th>Time:</th>                     <td>00:46:19</td>          <th>  Log-Likelihood:    </th> <td> -127.95</td>\n",
       "</tr>\n",
       "<tr>\n",
       "  <th>No. Observations:</th>          <td>   100</td>           <th>  AIC:               </th> <td>   273.9</td>\n",
       "</tr>\n",
       "<tr>\n",
       "  <th>Df Residuals:</th>              <td>    91</td>           <th>  BIC:               </th> <td>   297.4</td>\n",
       "</tr>\n",
       "<tr>\n",
       "  <th>Df Model:</th>                  <td>     8</td>           <th>                     </th>     <td> </td>   \n",
       "</tr>\n",
       "<tr>\n",
       "  <th>Covariance Type:</th>          <td>nonrobust</td>         <th>                     </th>     <td> </td>   \n",
       "</tr>\n",
       "</table>\n",
       "<table class=\"simpletable\">\n",
       "<tr>\n",
       "     <td></td>        <th>coef</th>     <th>std err</th>      <th>t</th>      <th>P>|t|</th> <th>[95.0% Conf. Int.]</th> \n",
       "</tr>\n",
       "<tr>\n",
       "  <th>Budget</th>  <td>    1.2475</td> <td>    3.654</td> <td>    0.341</td> <td> 0.734</td> <td>   -6.011     8.506</td>\n",
       "</tr>\n",
       "<tr>\n",
       "  <th>Runtime</th> <td>   26.6207</td> <td>    8.607</td> <td>    3.093</td> <td> 0.003</td> <td>    9.525    43.716</td>\n",
       "</tr>\n",
       "<tr>\n",
       "  <th>G</th>       <td>    8.7911</td> <td>    2.524</td> <td>    3.483</td> <td> 0.001</td> <td>    3.777    13.805</td>\n",
       "</tr>\n",
       "<tr>\n",
       "  <th>PG</th>      <td>    7.6510</td> <td>    2.449</td> <td>    3.124</td> <td> 0.002</td> <td>    2.786    12.515</td>\n",
       "</tr>\n",
       "<tr>\n",
       "  <th>PG-13</th>   <td>    7.0016</td> <td>    2.343</td> <td>    2.988</td> <td> 0.004</td> <td>    2.348    11.656</td>\n",
       "</tr>\n",
       "<tr>\n",
       "  <th>R</th>       <td>    6.7145</td> <td>    2.382</td> <td>    2.819</td> <td> 0.006</td> <td>    1.983    11.446</td>\n",
       "</tr>\n",
       "<tr>\n",
       "  <th>Q_1</th>     <td>    7.4385</td> <td>    2.429</td> <td>    3.062</td> <td> 0.003</td> <td>    2.613    12.264</td>\n",
       "</tr>\n",
       "<tr>\n",
       "  <th>Q_2</th>     <td>    7.8302</td> <td>    2.377</td> <td>    3.295</td> <td> 0.001</td> <td>    3.109    12.551</td>\n",
       "</tr>\n",
       "<tr>\n",
       "  <th>Q_3</th>     <td>    7.3077</td> <td>    2.386</td> <td>    3.062</td> <td> 0.003</td> <td>    2.567    12.048</td>\n",
       "</tr>\n",
       "<tr>\n",
       "  <th>Q_4</th>     <td>    7.5817</td> <td>    2.364</td> <td>    3.208</td> <td> 0.002</td> <td>    2.886    12.277</td>\n",
       "</tr>\n",
       "</table>\n",
       "<table class=\"simpletable\">\n",
       "<tr>\n",
       "  <th>Omnibus:</th>       <td>42.419</td> <th>  Durbin-Watson:     </th> <td>   0.501</td>\n",
       "</tr>\n",
       "<tr>\n",
       "  <th>Prob(Omnibus):</th> <td> 0.000</td> <th>  Jarque-Bera (JB):  </th> <td>  92.743</td>\n",
       "</tr>\n",
       "<tr>\n",
       "  <th>Skew:</th>          <td> 1.664</td> <th>  Prob(JB):          </th> <td>7.26e-21</td>\n",
       "</tr>\n",
       "<tr>\n",
       "  <th>Kurtosis:</th>      <td> 6.344</td> <th>  Cond. No.          </th> <td>1.26e+16</td>\n",
       "</tr>\n",
       "</table>"
      ],
      "text/plain": [
       "<class 'statsmodels.iolib.summary.Summary'>\n",
       "\"\"\"\n",
       "                                OLS Regression Results                               \n",
       "=====================================================================================\n",
       "Dep. Variable:     DomesticTotalGross_zscore   R-squared:                       0.243\n",
       "Model:                                   OLS   Adj. R-squared:                  0.177\n",
       "Method:                        Least Squares   F-statistic:                     3.657\n",
       "Date:                       Fri, 14 Oct 2016   Prob (F-statistic):           0.000978\n",
       "Time:                               00:46:19   Log-Likelihood:                -127.95\n",
       "No. Observations:                        100   AIC:                             273.9\n",
       "Df Residuals:                             91   BIC:                             297.4\n",
       "Df Model:                                  8                                         \n",
       "Covariance Type:                   nonrobust                                         \n",
       "==============================================================================\n",
       "                 coef    std err          t      P>|t|      [95.0% Conf. Int.]\n",
       "------------------------------------------------------------------------------\n",
       "Budget         1.2475      3.654      0.341      0.734        -6.011     8.506\n",
       "Runtime       26.6207      8.607      3.093      0.003         9.525    43.716\n",
       "G              8.7911      2.524      3.483      0.001         3.777    13.805\n",
       "PG             7.6510      2.449      3.124      0.002         2.786    12.515\n",
       "PG-13          7.0016      2.343      2.988      0.004         2.348    11.656\n",
       "R              6.7145      2.382      2.819      0.006         1.983    11.446\n",
       "Q_1            7.4385      2.429      3.062      0.003         2.613    12.264\n",
       "Q_2            7.8302      2.377      3.295      0.001         3.109    12.551\n",
       "Q_3            7.3077      2.386      3.062      0.003         2.567    12.048\n",
       "Q_4            7.5817      2.364      3.208      0.002         2.886    12.277\n",
       "==============================================================================\n",
       "Omnibus:                       42.419   Durbin-Watson:                   0.501\n",
       "Prob(Omnibus):                  0.000   Jarque-Bera (JB):               92.743\n",
       "Skew:                           1.664   Prob(JB):                     7.26e-21\n",
       "Kurtosis:                       6.344   Cond. No.                     1.26e+16\n",
       "==============================================================================\n",
       "\n",
       "Warnings:\n",
       "[1] Standard Errors assume that the covariance matrix of the errors is correctly specified.\n",
       "[2] The smallest eigenvalue is 6.09e-31. This might indicate that there are\n",
       "strong multicollinearity problems or that the design matrix is singular.\n",
       "\"\"\""
      ]
     },
     "execution_count": 291,
     "metadata": {},
     "output_type": "execute_result"
    }
   ],
   "source": [
    "mod8 = sm.OLS(y,X8)\n",
    "fit8 = mod8.fit()\n",
    "fit8.summary()"
   ]
  },
  {
   "cell_type": "markdown",
   "metadata": {},
   "source": [
    "##### fit 7 it is"
   ]
  },
  {
   "cell_type": "markdown",
   "metadata": {},
   "source": [
    "# Exercise 3.5"
   ]
  },
  {
   "cell_type": "code",
   "execution_count": 303,
   "metadata": {
    "collapsed": true
   },
   "outputs": [],
   "source": [
    "X_train, X_test, y_train, y_test = train_test_split(X7, y, test_size=0.25)"
   ]
  },
  {
   "cell_type": "code",
   "execution_count": 304,
   "metadata": {
    "collapsed": false
   },
   "outputs": [
    {
     "data": {
      "text/html": [
       "<table class=\"simpletable\">\n",
       "<caption>OLS Regression Results</caption>\n",
       "<tr>\n",
       "  <th>Dep. Variable:</th>    <td>DomesticTotalGross_zscore</td> <th>  R-squared:         </th> <td>   0.355</td>\n",
       "</tr>\n",
       "<tr>\n",
       "  <th>Model:</th>                       <td>OLS</td>            <th>  Adj. R-squared:    </th> <td>   0.288</td>\n",
       "</tr>\n",
       "<tr>\n",
       "  <th>Method:</th>                 <td>Least Squares</td>       <th>  F-statistic:       </th> <td>   5.268</td>\n",
       "</tr>\n",
       "<tr>\n",
       "  <th>Date:</th>                 <td>Fri, 14 Oct 2016</td>      <th>  Prob (F-statistic):</th> <td>7.94e-05</td>\n",
       "</tr>\n",
       "<tr>\n",
       "  <th>Time:</th>                     <td>01:00:31</td>          <th>  Log-Likelihood:    </th> <td> -95.126</td>\n",
       "</tr>\n",
       "<tr>\n",
       "  <th>No. Observations:</th>          <td>    75</td>           <th>  AIC:               </th> <td>   206.3</td>\n",
       "</tr>\n",
       "<tr>\n",
       "  <th>Df Residuals:</th>              <td>    67</td>           <th>  BIC:               </th> <td>   224.8</td>\n",
       "</tr>\n",
       "<tr>\n",
       "  <th>Df Model:</th>                  <td>     7</td>           <th>                     </th>     <td> </td>   \n",
       "</tr>\n",
       "<tr>\n",
       "  <th>Covariance Type:</th>          <td>nonrobust</td>         <th>                     </th>     <td> </td>   \n",
       "</tr>\n",
       "</table>\n",
       "<table class=\"simpletable\">\n",
       "<tr>\n",
       "         <td></td>           <th>coef</th>     <th>std err</th>      <th>t</th>      <th>P>|t|</th> <th>[95.0% Conf. Int.]</th> \n",
       "</tr>\n",
       "<tr>\n",
       "  <th>Budget_zscore</th>  <td>    0.5032</td> <td>    0.137</td> <td>    3.676</td> <td> 0.000</td> <td>    0.230     0.776</td>\n",
       "</tr>\n",
       "<tr>\n",
       "  <th>Runtime_zscore</th> <td>    0.1532</td> <td>    0.128</td> <td>    1.201</td> <td> 0.234</td> <td>   -0.101     0.408</td>\n",
       "</tr>\n",
       "<tr>\n",
       "  <th>PG</th>             <td>    0.4316</td> <td>    0.270</td> <td>    1.599</td> <td> 0.115</td> <td>   -0.107     0.971</td>\n",
       "</tr>\n",
       "<tr>\n",
       "  <th>PG-13</th>          <td>   -0.1642</td> <td>    0.149</td> <td>   -1.103</td> <td> 0.274</td> <td>   -0.461     0.133</td>\n",
       "</tr>\n",
       "<tr>\n",
       "  <th>R</th>              <td>   -0.0350</td> <td>    0.175</td> <td>   -0.200</td> <td> 0.842</td> <td>   -0.385     0.315</td>\n",
       "</tr>\n",
       "<tr>\n",
       "  <th>1</th>              <td>   -0.0170</td> <td>    0.228</td> <td>   -0.075</td> <td> 0.941</td> <td>   -0.472     0.438</td>\n",
       "</tr>\n",
       "<tr>\n",
       "  <th>2</th>              <td>    0.2994</td> <td>    0.201</td> <td>    1.493</td> <td> 0.140</td> <td>   -0.101     0.700</td>\n",
       "</tr>\n",
       "<tr>\n",
       "  <th>3</th>              <td>   -0.2221</td> <td>    0.175</td> <td>   -1.268</td> <td> 0.209</td> <td>   -0.572     0.128</td>\n",
       "</tr>\n",
       "<tr>\n",
       "  <th>4</th>              <td>    0.1720</td> <td>    0.182</td> <td>    0.945</td> <td> 0.348</td> <td>   -0.191     0.535</td>\n",
       "</tr>\n",
       "</table>\n",
       "<table class=\"simpletable\">\n",
       "<tr>\n",
       "  <th>Omnibus:</th>       <td>30.019</td> <th>  Durbin-Watson:     </th> <td>   2.110</td>\n",
       "</tr>\n",
       "<tr>\n",
       "  <th>Prob(Omnibus):</th> <td> 0.000</td> <th>  Jarque-Bera (JB):  </th> <td>  54.531</td>\n",
       "</tr>\n",
       "<tr>\n",
       "  <th>Skew:</th>          <td> 1.493</td> <th>  Prob(JB):          </th> <td>1.44e-12</td>\n",
       "</tr>\n",
       "<tr>\n",
       "  <th>Kurtosis:</th>      <td> 5.921</td> <th>  Cond. No.          </th> <td>1.13e+16</td>\n",
       "</tr>\n",
       "</table>"
      ],
      "text/plain": [
       "<class 'statsmodels.iolib.summary.Summary'>\n",
       "\"\"\"\n",
       "                                OLS Regression Results                               \n",
       "=====================================================================================\n",
       "Dep. Variable:     DomesticTotalGross_zscore   R-squared:                       0.355\n",
       "Model:                                   OLS   Adj. R-squared:                  0.288\n",
       "Method:                        Least Squares   F-statistic:                     5.268\n",
       "Date:                       Fri, 14 Oct 2016   Prob (F-statistic):           7.94e-05\n",
       "Time:                               01:00:31   Log-Likelihood:                -95.126\n",
       "No. Observations:                         75   AIC:                             206.3\n",
       "Df Residuals:                             67   BIC:                             224.8\n",
       "Df Model:                                  7                                         \n",
       "Covariance Type:                   nonrobust                                         \n",
       "==================================================================================\n",
       "                     coef    std err          t      P>|t|      [95.0% Conf. Int.]\n",
       "----------------------------------------------------------------------------------\n",
       "Budget_zscore      0.5032      0.137      3.676      0.000         0.230     0.776\n",
       "Runtime_zscore     0.1532      0.128      1.201      0.234        -0.101     0.408\n",
       "PG                 0.4316      0.270      1.599      0.115        -0.107     0.971\n",
       "PG-13             -0.1642      0.149     -1.103      0.274        -0.461     0.133\n",
       "R                 -0.0350      0.175     -0.200      0.842        -0.385     0.315\n",
       "1                 -0.0170      0.228     -0.075      0.941        -0.472     0.438\n",
       "2                  0.2994      0.201      1.493      0.140        -0.101     0.700\n",
       "3                 -0.2221      0.175     -1.268      0.209        -0.572     0.128\n",
       "4                  0.1720      0.182      0.945      0.348        -0.191     0.535\n",
       "==============================================================================\n",
       "Omnibus:                       30.019   Durbin-Watson:                   2.110\n",
       "Prob(Omnibus):                  0.000   Jarque-Bera (JB):               54.531\n",
       "Skew:                           1.493   Prob(JB):                     1.44e-12\n",
       "Kurtosis:                       5.921   Cond. No.                     1.13e+16\n",
       "==============================================================================\n",
       "\n",
       "Warnings:\n",
       "[1] Standard Errors assume that the covariance matrix of the errors is correctly specified.\n",
       "[2] The smallest eigenvalue is 8.44e-31. This might indicate that there are\n",
       "strong multicollinearity problems or that the design matrix is singular.\n",
       "\"\"\""
      ]
     },
     "execution_count": 304,
     "metadata": {},
     "output_type": "execute_result"
    }
   ],
   "source": [
    "mod10 = sm.OLS(y_train, X_train)\n",
    "fit10 = mod10.fit()\n",
    "fit10.summary()"
   ]
  },
  {
   "cell_type": "code",
   "execution_count": 305,
   "metadata": {
    "collapsed": true
   },
   "outputs": [],
   "source": [
    "y_pred10 = fit10.predict(X_test)"
   ]
  },
  {
   "cell_type": "code",
   "execution_count": 306,
   "metadata": {
    "collapsed": false
   },
   "outputs": [
    {
     "name": "stdout",
     "output_type": "stream",
     "text": [
      "0.0286048492019\n"
     ]
    }
   ],
   "source": [
    "print(metrics.r2_score(y_test,y_pred10 ))"
   ]
  },
  {
   "cell_type": "code",
   "execution_count": 312,
   "metadata": {
    "collapsed": false
   },
   "outputs": [
    {
     "data": {
      "text/plain": [
       "[<matplotlib.lines.Line2D at 0x18d1ed278>]"
      ]
     },
     "execution_count": 312,
     "metadata": {},
     "output_type": "execute_result"
    },
    {
     "data": {
      "image/png": "[encoded data removed]",
      "text/plain": [
       "<matplotlib.figure.Figure at 0x18d1ed240>"
      ]
     },
     "metadata": {},
     "output_type": "display_data"
    }
   ],
   "source": [
    "plt.scatter(y_test, y_pred10)\n",
    "plt.plot(y,y)"
   ]
  },
  {
   "cell_type": "markdown",
   "metadata": {},
   "source": [
    "###### so it would seem this fell apart due to 5 outliers.  to hell with them.  this will generalize\n"
   ]
  },
  {
   "cell_type": "code",
   "execution_count": null,
   "metadata": {
    "collapsed": true
   },
   "outputs": [],
   "source": []
  }
 ],
 "metadata": {
  "kernelspec": {
   "display_name": "Python 3",
   "language": "python",
   "name": "python3"
  },
  "language_info": {
   "codemirror_mode": {
    "name": "ipython",
    "version": 3
   },
   "file_extension": ".py",
   "mimetype": "text/x-python",
   "name": "python",
   "nbconvert_exporter": "python",
   "pygments_lexer": "ipython3",
   "version": "3.5.2"
  }
 },
 "nbformat": 4,
 "nbformat_minor": 0
}
