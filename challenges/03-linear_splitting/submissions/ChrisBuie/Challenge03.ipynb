{
 "cells": [
  {
   "cell_type": "markdown",
   "metadata": {},
   "source": [
    "### import data and create ones column\n"
   ]
  },
  {
   "cell_type": "code",
   "execution_count": 1,
   "metadata": {
    "collapsed": false
   },
   "outputs": [
    {
     "name": "stdout",
     "output_type": "stream",
     "text": [
      "2013_movies.csv README.md       \u001b[34msubmissions\u001b[m\u001b[m\r\n"
     ]
    },
    {
     "name": "stderr",
     "output_type": "stream",
     "text": [
      "//anaconda/lib/python2.7/site-packages/matplotlib/font_manager.py:273: UserWarning: Matplotlib is building the font cache using fc-list. This may take a moment.\n",
      "  warnings.warn('Matplotlib is building the font cache using fc-list. This may take a moment.')\n",
      "//anaconda/lib/python2.7/site-packages/sklearn/cross_validation.py:44: DeprecationWarning: This module was deprecated in version 0.18 in favor of the model_selection module into which all the refactored classes and functions are moved. Also note that the interface of the new CV iterators are different from that of this module. This module will be removed in 0.20.\n",
      "  \"This module will be removed in 0.20.\", DeprecationWarning)\n"
     ]
    }
   ],
   "source": [
    "# Redirct directory \n",
    "\n",
    "\n",
    "import os\n",
    "os.chdir(\"/Users/cbuie/PycharmProjects/sf16_ds4/challenges/03-linear_splitting\")\n",
    "!ls\n",
    "\n",
    "#import necessary pack.\n",
    "\n",
    "\n",
    "import pandas as pd \n",
    "import numpy as np\n",
    "import seaborn as sns\n",
    "import matplotlib.pyplot as plt\n",
    "import statsmodels.formula.api as smf\n",
    "import statsmodels.api as sm\n",
    "from sklearn.cross_validation import train_test_split\n",
    "from datetime import datetime\n",
    "\n",
    "%matplotlib inline\n"
   ]
  },
  {
   "cell_type": "code",
   "execution_count": 2,
   "metadata": {
    "collapsed": true
   },
   "outputs": [],
   "source": [
    "#drop na and create column of ones for constant term\n",
    "\n",
    "data = pd.read_csv('2013_movies.csv')\n",
    "data = data.dropna()\n",
    "data['constant_term'] = 1"
   ]
  },
  {
   "cell_type": "code",
   "execution_count": 3,
   "metadata": {
    "collapsed": false
   },
   "outputs": [
    {
     "name": "stdout",
     "output_type": "stream",
     "text": [
      "<class 'pandas.core.frame.DataFrame'>\n",
      "Int64Index: 87 entries, 0 to 99\n",
      "Data columns (total 8 columns):\n",
      "Title                 87 non-null object\n",
      "Budget                87 non-null float64\n",
      "DomesticTotalGross    87 non-null int64\n",
      "Director              87 non-null object\n",
      "Rating                87 non-null object\n",
      "Runtime               87 non-null int64\n",
      "ReleaseDate           87 non-null object\n",
      "constant_term         87 non-null int64\n",
      "dtypes: float64(1), int64(3), object(4)\n",
      "memory usage: 6.1+ KB\n"
     ]
    }
   ],
   "source": [
    "data.info()"
   ]
  },
  {
   "cell_type": "markdown",
   "metadata": {},
   "source": [
    "### Exercise 3.1\n",
    "\n",
    "##### Build a linear model that uses only a constant term (a column of ones) to predict a continuous outcome (like domestic total gross). \n",
    "\n",
    "##### 1) How can you interpret the results of this model? \n",
    "\n",
    "There is not a relationship between DomesticTotalGross and the constant term.  While the constant stays flat the DomesticTotalGross increaseses. The beta coeff is constant at one.\n",
    "\n",
    "#### 2) What does it predict?\n",
    "\n",
    "It predicts a constant increase in y without an increase in x. This indicates that x has not affect on y.\n",
    "\n",
    "\n",
    "\n",
    "\n"
   ]
  },
  {
   "cell_type": "code",
   "execution_count": 4,
   "metadata": {
    "collapsed": false
   },
   "outputs": [],
   "source": [
    "# list(data.columns)"
   ]
  },
  {
   "cell_type": "code",
   "execution_count": 5,
   "metadata": {
    "collapsed": false
   },
   "outputs": [
    {
     "name": "stdout",
     "output_type": "stream",
     "text": [
      "                            OLS Regression Results                            \n",
      "==============================================================================\n",
      "Dep. Variable:     DomesticTotalGross   R-squared:                      -0.000\n",
      "Model:                            OLS   Adj. R-squared:                 -0.000\n",
      "Method:                 Least Squares   F-statistic:                      -inf\n",
      "Date:                Tue, 11 Oct 2016   Prob (F-statistic):                nan\n",
      "Time:                        11:38:28   Log-Likelihood:                -1714.4\n",
      "No. Observations:                  87   AIC:                             3431.\n",
      "Df Residuals:                      86   BIC:                             3433.\n",
      "Df Model:                           0                                         \n",
      "Covariance Type:            nonrobust                                         \n",
      "=================================================================================\n",
      "                    coef    std err          t      P>|t|      [95.0% Conf. Int.]\n",
      "---------------------------------------------------------------------------------\n",
      "constant_term  1.035e+08   9.43e+06     10.975      0.000      8.48e+07  1.22e+08\n",
      "==============================================================================\n",
      "Omnibus:                       47.828   Durbin-Watson:                   0.016\n",
      "Prob(Omnibus):                  0.000   Jarque-Bera (JB):              119.528\n",
      "Skew:                           2.032   Prob(JB):                     1.11e-26\n",
      "Kurtosis:                       7.058   Cond. No.                         1.00\n",
      "==============================================================================\n",
      "\n",
      "Warnings:\n",
      "[1] Standard Errors assume that the covariance matrix of the errors is correctly specified.\n"
     ]
    }
   ],
   "source": [
    "X = data['constant_term']\n",
    "y = data['DomesticTotalGross']\n",
    "olsmod = sm.OLS(y, X)\n",
    "olsres = olsmod.fit()\n",
    "ypred = olsres.predict(X)\n",
    "print(olsres.summary())"
   ]
  },
  {
   "cell_type": "markdown",
   "metadata": {},
   "source": [
    "#### Make a plot of predictions against actual outcome. "
   ]
  },
  {
   "cell_type": "code",
   "execution_count": 6,
   "metadata": {
    "collapsed": false
   },
   "outputs": [
    {
     "data": {
      "image/png": "[encoded data removed]",
      "text/plain": [
       "<matplotlib.figure.Figure at 0x11ab98a10>"
      ]
     },
     "metadata": {},
     "output_type": "display_data"
    }
   ],
   "source": [
    "fig, ax = plt.subplots()\n",
    "ax.scatter(y, ypred, alpha = .3)\n",
    "ax.plot([y.min(), y.max()], [y.min(), y.max()], 'r--', lw=3)\n",
    "ax.set_title('Predicted vs. Actuals')\n",
    "ax.set_xlabel('Actuals')\n",
    "ax.set_ylabel('Predicted')\n",
    "plt.show()"
   ]
  },
  {
   "cell_type": "markdown",
   "metadata": {},
   "source": [
    "#### Make a histogram of residuals. How are the residuals distributed?\n",
    "\n"
   ]
  },
  {
   "cell_type": "code",
   "execution_count": 7,
   "metadata": {
    "collapsed": false
   },
   "outputs": [
    {
     "name": "stderr",
     "output_type": "stream",
     "text": [
      "//anaconda/lib/python2.7/site-packages/numpy/lib/function_base.py:564: VisibleDeprecationWarning: using a non-integer number instead of an integer will result in an error in the future\n",
      "  n = np.zeros(bins, ntype)\n",
      "//anaconda/lib/python2.7/site-packages/numpy/lib/function_base.py:611: VisibleDeprecationWarning: using a non-integer number instead of an integer will result in an error in the future\n",
      "  n += np.bincount(indices, weights=tmp_w, minlength=bins).astype(ntype)\n"
     ]
    },
    {
     "data": {
      "image/png": "[encoded data removed]",
      "text/plain": [
       "<matplotlib.figure.Figure at 0x11ab47e50>"
      ]
     },
     "metadata": {},
     "output_type": "display_data"
    }
   ],
   "source": [
    "sns.plt.hist(olsres.resid, bins=(round(len(olsres.resid)*0.33,0)));\n",
    "plt.title('Risduals');\n",
    "# olsres.resid.plot()\n"
   ]
  },
  {
   "cell_type": "code",
   "execution_count": 8,
   "metadata": {
    "collapsed": false
   },
   "outputs": [
    {
     "data": {
      "image/png": "[encoded data removed]",
      "text/plain": [
       "<matplotlib.figure.Figure at 0x11ab47d50>"
      ]
     },
     "metadata": {},
     "output_type": "display_data"
    }
   ],
   "source": [
    "ax = plt.gca()\n",
    "res = olsres.resid # residuals\n",
    "fig = sm.qqplot(res,ax=ax, fit=True, line='r')\n",
    "plt.show()"
   ]
  },
  {
   "cell_type": "markdown",
   "metadata": {
    "collapsed": false
   },
   "source": [
    "### Exercise 3.2\n",
    "\n",
    "##### Repeat the process of challenge one: \n",
    "##### Add one continuous (numeric) predictor variable. \n",
    "##### Add plots of model prediction against your feature variable and residuals against feature variable. \n",
    "##### How can you interpret what's happening in the model?\n",
    "As we add a new Beta coeff that has a stronger correlation we can see a relationship emerging.\n"
   ]
  },
  {
   "cell_type": "code",
   "execution_count": 9,
   "metadata": {
    "collapsed": false
   },
   "outputs": [
    {
     "name": "stdout",
     "output_type": "stream",
     "text": [
      "<class 'pandas.core.frame.DataFrame'>\n",
      "RangeIndex: 87 entries, 0 to 86\n",
      "Data columns (total 4 columns):\n",
      "index                 87 non-null int64\n",
      "DomesticTotalGross    87 non-null int64\n",
      "constant_term         87 non-null int64\n",
      "Budget                87 non-null float64\n",
      "dtypes: float64(1), int64(3)\n",
      "memory usage: 2.8 KB\n"
     ]
    }
   ],
   "source": [
    "data2 = data[['DomesticTotalGross', 'constant_term','Budget']].reset_index()\n",
    "data2.info()"
   ]
  },
  {
   "cell_type": "code",
   "execution_count": 10,
   "metadata": {
    "collapsed": false
   },
   "outputs": [
    {
     "name": "stdout",
     "output_type": "stream",
     "text": [
      "                            OLS Regression Results                            \n",
      "==============================================================================\n",
      "Dep. Variable:     DomesticTotalGross   R-squared:                       0.282\n",
      "Model:                            OLS   Adj. R-squared:                  0.274\n",
      "Method:                 Least Squares   F-statistic:                     33.43\n",
      "Date:                Tue, 11 Oct 2016   Prob (F-statistic):           1.19e-07\n",
      "Time:                        11:38:35   Log-Likelihood:                -1700.0\n",
      "No. Observations:                  87   AIC:                             3404.\n",
      "Df Residuals:                      85   BIC:                             3409.\n",
      "Df Model:                           1                                         \n",
      "Covariance Type:            nonrobust                                         \n",
      "=================================================================================\n",
      "                    coef    std err          t      P>|t|      [95.0% Conf. Int.]\n",
      "---------------------------------------------------------------------------------\n",
      "Budget            0.7831      0.135      5.782      0.000         0.514     1.052\n",
      "constant_term  4.443e+07    1.3e+07      3.418      0.001      1.86e+07  7.03e+07\n",
      "==============================================================================\n",
      "Omnibus:                       38.475   Durbin-Watson:                   0.666\n",
      "Prob(Omnibus):                  0.000   Jarque-Bera (JB):               92.671\n",
      "Skew:                           1.577   Prob(JB):                     7.53e-21\n",
      "Kurtosis:                       6.952   Cond. No.                     1.55e+08\n",
      "==============================================================================\n",
      "\n",
      "Warnings:\n",
      "[1] Standard Errors assume that the covariance matrix of the errors is correctly specified.\n",
      "[2] The condition number is large, 1.55e+08. This might indicate that there are\n",
      "strong multicollinearity or other numerical problems.\n"
     ]
    }
   ],
   "source": [
    "X2 = data[['Budget', 'constant_term' ]]\n",
    "y2 = data['DomesticTotalGross']\n",
    "olsmod = sm.OLS(y2, X2)\n",
    "olsres2 = olsmod.fit()\n",
    "ypred2 = olsres2.predict(X2)\n",
    "print(olsres2.summary())"
   ]
  },
  {
   "cell_type": "code",
   "execution_count": 11,
   "metadata": {
    "collapsed": false
   },
   "outputs": [
    {
     "data": {
      "image/png": "[encoded data removed]",
      "text/plain": [
       "<matplotlib.figure.Figure at 0x11d8f3f90>"
      ]
     },
     "metadata": {},
     "output_type": "display_data"
    }
   ],
   "source": [
    "fig, ax = plt.subplots()\n",
    "ax.scatter(y2, ypred2, alpha = .3)\n",
    "ax.plot([y2.min(), y2.max()], [y2.min(), y2.max()], 'r--', lw=2)\n",
    "ax.set_title('Predicted vs. Actuals')\n",
    "ax.set_xlabel('Actuals')\n",
    "ax.set_ylabel('Predicted')\n",
    "plt.show()"
   ]
  },
  {
   "cell_type": "code",
   "execution_count": 12,
   "metadata": {
    "collapsed": false
   },
   "outputs": [
    {
     "data": {
      "image/png": "[encoded data removed]",
      "text/plain": [
       "<matplotlib.figure.Figure at 0x11db21c50>"
      ]
     },
     "metadata": {},
     "output_type": "display_data"
    }
   ],
   "source": [
    "sns.plt.hist(olsres2.resid, bins = round(len(olsres2.resid)*0.33,0));\n",
    "plt.title('Risduals');\n"
   ]
  },
  {
   "cell_type": "code",
   "execution_count": 13,
   "metadata": {
    "collapsed": false
   },
   "outputs": [
    {
     "data": {
      "image/png": "[encoded data removed]",
      "text/plain": [
       "<matplotlib.figure.Figure at 0x11dd03210>"
      ]
     },
     "metadata": {},
     "output_type": "display_data"
    }
   ],
   "source": [
    "ax = plt.gca()\n",
    "res = olsres2.resid # residuals\n",
    "fig = sm.qqplot(res,ax=ax, fit=True, line='r')\n",
    "plt.show()"
   ]
  },
  {
   "cell_type": "code",
   "execution_count": 14,
   "metadata": {
    "collapsed": false
   },
   "outputs": [
    {
     "data": {
      "text/plain": [
       "<matplotlib.text.Text at 0x11e1ea410>"
      ]
     },
     "execution_count": 14,
     "metadata": {},
     "output_type": "execute_result"
    },
    {
     "data": {
      "image/png": "[encoded data removed]",
      "text/plain": [
       "<matplotlib.figure.Figure at 0x11e095310>"
      ]
     },
     "metadata": {},
     "output_type": "display_data"
    }
   ],
   "source": [
    "\n",
    "plt.scatter(data2['Budget'], olsres2.resid, alpha = 0.5)\n",
    "plt.xlabel('Budget')\n",
    "plt.ylabel('Risduals')\n",
    "plt.title('Residuals vs DomGrossTot')\n",
    "\n"
   ]
  },
  {
   "cell_type": "markdown",
   "metadata": {},
   "source": [
    "### Exercise 3.3\n",
    "\n",
    "#### Repeat the process of challenge 1, but add a categorical feature (like genre). \n",
    "#### You will have to convert a column of text into a number of numerical columns. \n",
    "#### How can you interpret what is happening to the model?"
   ]
  },
  {
   "cell_type": "code",
   "execution_count": 15,
   "metadata": {
    "collapsed": false
   },
   "outputs": [
    {
     "name": "stdout",
     "output_type": "stream",
     "text": [
      "<class 'pandas.core.frame.DataFrame'>\n",
      "RangeIndex: 87 entries, 0 to 86\n",
      "Data columns (total 6 columns):\n",
      "index                 87 non-null int64\n",
      "constant_term         87 non-null int64\n",
      "DomesticTotalGross    87 non-null int64\n",
      "PG                    87 non-null float64\n",
      "PG-13                 87 non-null float64\n",
      "R                     87 non-null float64\n",
      "dtypes: float64(3), int64(3)\n",
      "memory usage: 4.1 KB\n"
     ]
    }
   ],
   "source": [
    "data3 = data[['constant_term','Rating','DomesticTotalGross']].reset_index()\n",
    "data3 = pd.concat([data3, pd.get_dummies(data3['Rating'])], axis=1)\n",
    "data3 = data3.drop(['Rating'],axis=1)\n",
    "data3.info()"
   ]
  },
  {
   "cell_type": "code",
   "execution_count": 16,
   "metadata": {
    "collapsed": false
   },
   "outputs": [
    {
     "name": "stdout",
     "output_type": "stream",
     "text": [
      "                            OLS Regression Results                            \n",
      "==============================================================================\n",
      "Dep. Variable:     DomesticTotalGross   R-squared:                       0.072\n",
      "Model:                            OLS   Adj. R-squared:                  0.050\n",
      "Method:                 Least Squares   F-statistic:                     3.242\n",
      "Date:                Tue, 11 Oct 2016   Prob (F-statistic):             0.0440\n",
      "Time:                        11:38:42   Log-Likelihood:                -1711.2\n",
      "No. Observations:                  87   AIC:                             3428.\n",
      "Df Residuals:                      84   BIC:                             3436.\n",
      "Df Model:                           2                                         \n",
      "Covariance Type:            nonrobust                                         \n",
      "=================================================================================\n",
      "                    coef    std err          t      P>|t|      [95.0% Conf. Int.]\n",
      "---------------------------------------------------------------------------------\n",
      "PG-13         -1.422e+07   2.66e+07     -0.534      0.595     -6.72e+07  3.87e+07\n",
      "R             -5.772e+07   2.74e+07     -2.110      0.038     -1.12e+08 -3.32e+06\n",
      "constant_term  1.319e+08   2.29e+07      5.756      0.000      8.64e+07  1.78e+08\n",
      "==============================================================================\n",
      "Omnibus:                       39.974   Durbin-Watson:                   0.169\n",
      "Prob(Omnibus):                  0.000   Jarque-Bera (JB):               83.928\n",
      "Skew:                           1.759   Prob(JB):                     5.96e-19\n",
      "Kurtosis:                       6.283   Cond. No.                         5.29\n",
      "==============================================================================\n",
      "\n",
      "Warnings:\n",
      "[1] Standard Errors assume that the covariance matrix of the errors is correctly specified.\n"
     ]
    }
   ],
   "source": [
    "X3 = data3[['PG-13','R', 'constant_term']]\n",
    "y3 = data3['DomesticTotalGross']\n",
    "olsmod = sm.OLS(y3, X3)\n",
    "olsres3 = olsmod.fit()\n",
    "ypred3 = olsres3.predict(X3)\n",
    "print(olsres3.summary())"
   ]
  },
  {
   "cell_type": "code",
   "execution_count": 17,
   "metadata": {
    "collapsed": false
   },
   "outputs": [
    {
     "data": {
      "image/png": "[encoded data removed]",
      "text/plain": [
       "<matplotlib.figure.Figure at 0x11e2cf490>"
      ]
     },
     "metadata": {},
     "output_type": "display_data"
    }
   ],
   "source": [
    "fig, ax = plt.subplots()\n",
    "ax.scatter(y3, ypred3, alpha = .3)\n",
    "ax.plot([y3.min(), y3.max()], [y3.min(), y3.max()], 'r--', lw=2)\n",
    "ax.set_title('Predicted vs. Actuals')\n",
    "ax.set_xlabel('Actuals')\n",
    "ax.set_ylabel('Predicted')\n",
    "plt.show()"
   ]
  },
  {
   "cell_type": "code",
   "execution_count": 18,
   "metadata": {
    "collapsed": false
   },
   "outputs": [
    {
     "data": {
      "image/png": "[encoded data removed]",
      "text/plain": [
       "<matplotlib.figure.Figure at 0x11e08a690>"
      ]
     },
     "metadata": {},
     "output_type": "display_data"
    }
   ],
   "source": [
    "sns.plt.hist(olsres3.resid, bins = round(len(olsres3.resid)*.33,0));\n",
    "plt.title('Risduals');"
   ]
  },
  {
   "cell_type": "code",
   "execution_count": 19,
   "metadata": {
    "collapsed": false
   },
   "outputs": [
    {
     "data": {
      "image/png": "[encoded data removed]",
      "text/plain": [
       "<matplotlib.figure.Figure at 0x11dd6e090>"
      ]
     },
     "metadata": {},
     "output_type": "display_data"
    }
   ],
   "source": [
    "ax = plt.gca()\n",
    "res = olsres3.resid # residuals\n",
    "fig = sm.qqplot(res,ax=ax, fit=True, line='r')\n",
    "plt.show()"
   ]
  },
  {
   "cell_type": "markdown",
   "metadata": {},
   "source": [
    "#### Exercise 3.4\n",
    "\n",
    "Enhance your model further by adding more features and/or transforming existing features. Think about how you build the model matrix and how to interpret what the model is doing."
   ]
  },
  {
   "cell_type": "code",
   "execution_count": 20,
   "metadata": {
    "collapsed": false
   },
   "outputs": [
    {
     "name": "stdout",
     "output_type": "stream",
     "text": [
      "<class 'pandas.core.frame.DataFrame'>\n",
      "Int64Index: 87 entries, 0 to 99\n",
      "Data columns (total 8 columns):\n",
      "Title                 87 non-null object\n",
      "Budget                87 non-null float64\n",
      "DomesticTotalGross    87 non-null int64\n",
      "Director              87 non-null object\n",
      "Rating                87 non-null object\n",
      "Runtime               87 non-null int64\n",
      "ReleaseDate           87 non-null object\n",
      "constant_term         87 non-null int64\n",
      "dtypes: float64(1), int64(3), object(4)\n",
      "memory usage: 6.1+ KB\n"
     ]
    }
   ],
   "source": [
    "data.info()"
   ]
  },
  {
   "cell_type": "code",
   "execution_count": 185,
   "metadata": {
    "collapsed": false
   },
   "outputs": [
    {
     "name": "stderr",
     "output_type": "stream",
     "text": [
      "/anaconda/lib/python2.7/site-packages/ipykernel/__main__.py:7: SettingWithCopyWarning: \n",
      "A value is trying to be set on a copy of a slice from a DataFrame.\n",
      "Try using .loc[row_indexer,col_indexer] = value instead\n",
      "\n",
      "See the caveats in the documentation: http://pandas.pydata.org/pandas-docs/stable/indexing.html#indexing-view-versus-copy\n",
      "/anaconda/lib/python2.7/site-packages/ipykernel/__main__.py:8: SettingWithCopyWarning: \n",
      "A value is trying to be set on a copy of a slice from a DataFrame.\n",
      "Try using .loc[row_indexer,col_indexer] = value instead\n",
      "\n",
      "See the caveats in the documentation: http://pandas.pydata.org/pandas-docs/stable/indexing.html#indexing-view-versus-copy\n"
     ]
    },
    {
     "data": {
      "image/png": "[encoded data removed]",
      "text/plain": [
       "<matplotlib.figure.Figure at 0x11d6c9ad0>"
      ]
     },
     "metadata": {},
     "output_type": "display_data"
    }
   ],
   "source": [
    "from sklearn.model_selection import cross_val_predict\n",
    "from sklearn import linear_model\n",
    "import matplotlib.pyplot as plt\n",
    "\n",
    "X = data[['Budget','Runtime','ReleaseDate']]\n",
    "y = data['DomesticTotalGross']\n",
    "X['Budget'] = np.sqrt(data['Budget'])\n",
    "X['month'] = pd.DatetimeIndex(X['ReleaseDate']).month\n",
    "# X = pd.concat([X, pd.get_dummies(X['month'])], axis=1)\n",
    "X = pd.concat([X, pd.get_dummies(data['Rating'])], axis=1)\n",
    "X = X.drop(['ReleaseDate'], axis=1)\n",
    "X = X.drop(['month'], axis=1)\n",
    "\n",
    "# Initialize linear model\n",
    "lr = linear_model.LinearRegression()\n",
    "lr_fit = lr.fit(X, y)\n",
    "# cross_val_predict returns an array of the same size as `y` where each entry\n",
    "# is a prediction obtained by cross validation:\n",
    "predicted = cross_val_predict(lr, X, y, cv=10)\n",
    "\n",
    "fig, ax = plt.subplots()\n",
    "ax.scatter(y, predicted)\n",
    "ax.plot([y.min(), y.max()], [y.min(), y.max()], 'r--', lw=3)\n",
    "ax.set_xlabel('Measured')\n",
    "ax.set_ylabel('Predicted')\n",
    "plt.show()\n"
   ]
  },
  {
   "cell_type": "code",
   "execution_count": 192,
   "metadata": {
    "collapsed": false
   },
   "outputs": [
    {
     "name": "stdout",
     "output_type": "stream",
     "text": [
      "Results from a 10k x-validated model\n",
      "['Budget', 'Runtime', 'PG', 'PG-13', 'R']\n",
      "('Coefficients: \\n', array([  1.15168239e+04,   6.16621982e+05,   1.59783549e+07,\n",
      "        -7.86051101e+06,  -8.11784388e+06]))\n",
      "Mean squared error: 74094712.61\n",
      "Variance score: 0.28\n"
     ]
    }
   ],
   "source": [
    "lr_fit.score(X,y)\n",
    "# The coefficients\n",
    "print ('Results from a 10k x-validated model')\n",
    "print(list(X.columns))\n",
    "print('Coefficients: \\n', lr_fit.coef_)\n",
    "# The mean squared error\n",
    "print(\"Mean squared error: %.2f\"\n",
    "      % np.sqrt(np.mean((lr_fit.predict(X) - y) ** 2)))\n",
    "# Explained variance score: 1 is perfect prediction\n",
    "print('Variance score: %.2f' % lr_fit.score(X, y))\n"
   ]
  },
  {
   "cell_type": "markdown",
   "metadata": {},
   "source": [
    "#### Exercise 3.5\n",
    "\n",
    "Fitting and checking predictions on the exact same data set can be misleading. Divide your data into two sets: a training and a test set (roughly 75% training, 25% test is a fine split). Fit a model on the training set, check the predictions (by plotting versus actual values) in the test set."
   ]
  },
  {
   "cell_type": "code",
   "execution_count": 197,
   "metadata": {
    "collapsed": true
   },
   "outputs": [],
   "source": [
    "from sklearn.cross_validation import train_test_split\n",
    "X_train, X_test, y_train, y_test = train_test_split(X, y, test_size=0.25, random_state=42)"
   ]
  },
  {
   "cell_type": "code",
   "execution_count": 198,
   "metadata": {
    "collapsed": false
   },
   "outputs": [
    {
     "name": "stdout",
     "output_type": "stream",
     "text": [
      "Train set: 0.23\n",
      "Test set: 0.37\n"
     ]
    }
   ],
   "source": [
    "model_lr = linear_model.LinearRegression(fit_intercept=True, normalize=True)\n",
    "model_lr.fit(X_train, y_train)\n",
    "pred_vals_lr = model_lr.predict(X_test)\n",
    "RMSE_lr = np.sqrt(np.sum((pred_vals_lr - y_test)**2)/len(y_test))\n",
    "\n",
    "\n",
    "print 'Train set: %.2f' % model_lr.score(X_train,y_train)\n",
    "print 'Test set: %.2f' % model_lr.score(X_test,y_test)\n",
    "\n"
   ]
  },
  {
   "cell_type": "code",
   "execution_count": null,
   "metadata": {
    "collapsed": false
   },
   "outputs": [],
   "source": []
  },
  {
   "cell_type": "code",
   "execution_count": null,
   "metadata": {
    "collapsed": true
   },
   "outputs": [],
   "source": []
  }
 ],
 "metadata": {
  "anaconda-cloud": {},
  "kernelspec": {
   "display_name": "Python [Root]",
   "language": "python",
   "name": "Python [Root]"
  },
  "language_info": {
   "codemirror_mode": {
    "name": "ipython",
    "version": 2
   },
   "file_extension": ".py",
   "mimetype": "text/x-python",
   "name": "python",
   "nbconvert_exporter": "python",
   "pygments_lexer": "ipython2",
   "version": "2.7.12"
  }
 },
 "nbformat": 4,
 "nbformat_minor": 0
}
