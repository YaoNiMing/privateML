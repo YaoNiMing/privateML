{
 "cells": [
  {
   "cell_type": "markdown",
   "metadata": {
    "collapsed": true
   },
   "source": [
    "# Challenge 5\n",
    "\n",
    "Topic: Classification<br>\n",
    "Date: xx/xx/2016 <br>\n",
    "Name: Travis James <br>"
   ]
  },
  {
   "cell_type": "code",
   "execution_count": 22,
   "metadata": {
    "collapsed": false
   },
   "outputs": [
    {
     "name": "stderr",
     "output_type": "stream",
     "text": [
      "/Users/travisjames/anaconda3/lib/python3.5/site-packages/sklearn/learning_curve.py:23: DeprecationWarning: This module was deprecated in version 0.18 in favor of the model_selection module into which all the functions are moved. This module will be removed in 0.20\n",
      "  DeprecationWarning)\n"
     ]
    }
   ],
   "source": [
    "import pandas as pd\n",
    "import numpy as np\n",
    "import matplotlib.pyplot as plt\n",
    "import seaborn as sns\n",
    "from sklearn.cross_validation import train_test_split\n",
    "import statsmodels.formula.api as smf\n",
    "from sklearn.neighbors import KNeighborsClassifier\n",
    "from sklearn.metrics import accuracy_score\n",
    "from sklearn.linear_model import LogisticRegression\n",
    "from sklearn.learning_curve import learning_curve\n",
    "\n",
    "%matplotlib inline"
   ]
  },
  {
   "cell_type": "markdown",
   "metadata": {},
   "source": [
    "**Challenge 5.1**"
   ]
  },
  {
   "cell_type": "code",
   "execution_count": 123,
   "metadata": {
    "collapsed": false
   },
   "outputs": [],
   "source": [
    "df_vote = pd.read_csv('https://archive.ics.uci.edu/ml/machine-learning-databases/voting-records/house-votes-84.data', header=None)"
   ]
  },
  {
   "cell_type": "code",
   "execution_count": 124,
   "metadata": {
    "collapsed": false
   },
   "outputs": [
    {
     "data": {
      "text/html": [
       "<div>\n",
       "<table border=\"1\" class=\"dataframe\">\n",
       "  <thead>\n",
       "    <tr style=\"text-align: right;\">\n",
       "      <th></th>\n",
       "      <th>0</th>\n",
       "      <th>1</th>\n",
       "      <th>2</th>\n",
       "      <th>3</th>\n",
       "      <th>4</th>\n",
       "      <th>5</th>\n",
       "      <th>6</th>\n",
       "      <th>7</th>\n",
       "      <th>8</th>\n",
       "      <th>9</th>\n",
       "      <th>10</th>\n",
       "      <th>11</th>\n",
       "      <th>12</th>\n",
       "      <th>13</th>\n",
       "      <th>14</th>\n",
       "      <th>15</th>\n",
       "      <th>16</th>\n",
       "    </tr>\n",
       "  </thead>\n",
       "  <tbody>\n",
       "    <tr>\n",
       "      <th>0</th>\n",
       "      <td>republican</td>\n",
       "      <td>n</td>\n",
       "      <td>y</td>\n",
       "      <td>n</td>\n",
       "      <td>y</td>\n",
       "      <td>y</td>\n",
       "      <td>y</td>\n",
       "      <td>n</td>\n",
       "      <td>n</td>\n",
       "      <td>n</td>\n",
       "      <td>y</td>\n",
       "      <td>?</td>\n",
       "      <td>y</td>\n",
       "      <td>y</td>\n",
       "      <td>y</td>\n",
       "      <td>n</td>\n",
       "      <td>y</td>\n",
       "    </tr>\n",
       "    <tr>\n",
       "      <th>1</th>\n",
       "      <td>republican</td>\n",
       "      <td>n</td>\n",
       "      <td>y</td>\n",
       "      <td>n</td>\n",
       "      <td>y</td>\n",
       "      <td>y</td>\n",
       "      <td>y</td>\n",
       "      <td>n</td>\n",
       "      <td>n</td>\n",
       "      <td>n</td>\n",
       "      <td>n</td>\n",
       "      <td>n</td>\n",
       "      <td>y</td>\n",
       "      <td>y</td>\n",
       "      <td>y</td>\n",
       "      <td>n</td>\n",
       "      <td>?</td>\n",
       "    </tr>\n",
       "    <tr>\n",
       "      <th>2</th>\n",
       "      <td>democrat</td>\n",
       "      <td>?</td>\n",
       "      <td>y</td>\n",
       "      <td>y</td>\n",
       "      <td>?</td>\n",
       "      <td>y</td>\n",
       "      <td>y</td>\n",
       "      <td>n</td>\n",
       "      <td>n</td>\n",
       "      <td>n</td>\n",
       "      <td>n</td>\n",
       "      <td>y</td>\n",
       "      <td>n</td>\n",
       "      <td>y</td>\n",
       "      <td>y</td>\n",
       "      <td>n</td>\n",
       "      <td>n</td>\n",
       "    </tr>\n",
       "    <tr>\n",
       "      <th>3</th>\n",
       "      <td>democrat</td>\n",
       "      <td>n</td>\n",
       "      <td>y</td>\n",
       "      <td>y</td>\n",
       "      <td>n</td>\n",
       "      <td>?</td>\n",
       "      <td>y</td>\n",
       "      <td>n</td>\n",
       "      <td>n</td>\n",
       "      <td>n</td>\n",
       "      <td>n</td>\n",
       "      <td>y</td>\n",
       "      <td>n</td>\n",
       "      <td>y</td>\n",
       "      <td>n</td>\n",
       "      <td>n</td>\n",
       "      <td>y</td>\n",
       "    </tr>\n",
       "    <tr>\n",
       "      <th>4</th>\n",
       "      <td>democrat</td>\n",
       "      <td>y</td>\n",
       "      <td>y</td>\n",
       "      <td>y</td>\n",
       "      <td>n</td>\n",
       "      <td>y</td>\n",
       "      <td>y</td>\n",
       "      <td>n</td>\n",
       "      <td>n</td>\n",
       "      <td>n</td>\n",
       "      <td>n</td>\n",
       "      <td>y</td>\n",
       "      <td>?</td>\n",
       "      <td>y</td>\n",
       "      <td>y</td>\n",
       "      <td>y</td>\n",
       "      <td>y</td>\n",
       "    </tr>\n",
       "  </tbody>\n",
       "</table>\n",
       "</div>"
      ],
      "text/plain": [
       "           0  1  2  3  4  5  6  7  8  9  10 11 12 13 14 15 16\n",
       "0  republican  n  y  n  y  y  y  n  n  n  y  ?  y  y  y  n  y\n",
       "1  republican  n  y  n  y  y  y  n  n  n  n  n  y  y  y  n  ?\n",
       "2    democrat  ?  y  y  ?  y  y  n  n  n  n  y  n  y  y  n  n\n",
       "3    democrat  n  y  y  n  ?  y  n  n  n  n  y  n  y  n  n  y\n",
       "4    democrat  y  y  y  n  y  y  n  n  n  n  y  ?  y  y  y  y"
      ]
     },
     "execution_count": 124,
     "metadata": {},
     "output_type": "execute_result"
    }
   ],
   "source": [
    "df_vote.head()"
   ]
  },
  {
   "cell_type": "code",
   "execution_count": 125,
   "metadata": {
    "collapsed": false
   },
   "outputs": [],
   "source": [
    "for index in range(1, 17):\n",
    "    df_vote[index] = df_vote[index].map(lambda x: 1 if x == 'y' else 0 if x == 'n' else np.nan)"
   ]
  },
  {
   "cell_type": "code",
   "execution_count": 126,
   "metadata": {
    "collapsed": false
   },
   "outputs": [
    {
     "data": {
      "text/html": [
       "<div>\n",
       "<table border=\"1\" class=\"dataframe\">\n",
       "  <thead>\n",
       "    <tr style=\"text-align: right;\">\n",
       "      <th></th>\n",
       "      <th>0</th>\n",
       "      <th>1</th>\n",
       "      <th>2</th>\n",
       "      <th>3</th>\n",
       "      <th>4</th>\n",
       "      <th>5</th>\n",
       "      <th>6</th>\n",
       "      <th>7</th>\n",
       "      <th>8</th>\n",
       "      <th>9</th>\n",
       "      <th>10</th>\n",
       "      <th>11</th>\n",
       "      <th>12</th>\n",
       "      <th>13</th>\n",
       "      <th>14</th>\n",
       "      <th>15</th>\n",
       "      <th>16</th>\n",
       "    </tr>\n",
       "  </thead>\n",
       "  <tbody>\n",
       "    <tr>\n",
       "      <th>0</th>\n",
       "      <td>republican</td>\n",
       "      <td>0.0</td>\n",
       "      <td>1.0</td>\n",
       "      <td>0.0</td>\n",
       "      <td>1.0</td>\n",
       "      <td>1.0</td>\n",
       "      <td>1.0</td>\n",
       "      <td>0.0</td>\n",
       "      <td>0.0</td>\n",
       "      <td>0.0</td>\n",
       "      <td>1.0</td>\n",
       "      <td>NaN</td>\n",
       "      <td>1.0</td>\n",
       "      <td>1.0</td>\n",
       "      <td>1.0</td>\n",
       "      <td>0.0</td>\n",
       "      <td>1.0</td>\n",
       "    </tr>\n",
       "    <tr>\n",
       "      <th>1</th>\n",
       "      <td>republican</td>\n",
       "      <td>0.0</td>\n",
       "      <td>1.0</td>\n",
       "      <td>0.0</td>\n",
       "      <td>1.0</td>\n",
       "      <td>1.0</td>\n",
       "      <td>1.0</td>\n",
       "      <td>0.0</td>\n",
       "      <td>0.0</td>\n",
       "      <td>0.0</td>\n",
       "      <td>0.0</td>\n",
       "      <td>0.0</td>\n",
       "      <td>1.0</td>\n",
       "      <td>1.0</td>\n",
       "      <td>1.0</td>\n",
       "      <td>0.0</td>\n",
       "      <td>NaN</td>\n",
       "    </tr>\n",
       "    <tr>\n",
       "      <th>2</th>\n",
       "      <td>democrat</td>\n",
       "      <td>NaN</td>\n",
       "      <td>1.0</td>\n",
       "      <td>1.0</td>\n",
       "      <td>NaN</td>\n",
       "      <td>1.0</td>\n",
       "      <td>1.0</td>\n",
       "      <td>0.0</td>\n",
       "      <td>0.0</td>\n",
       "      <td>0.0</td>\n",
       "      <td>0.0</td>\n",
       "      <td>1.0</td>\n",
       "      <td>0.0</td>\n",
       "      <td>1.0</td>\n",
       "      <td>1.0</td>\n",
       "      <td>0.0</td>\n",
       "      <td>0.0</td>\n",
       "    </tr>\n",
       "    <tr>\n",
       "      <th>3</th>\n",
       "      <td>democrat</td>\n",
       "      <td>0.0</td>\n",
       "      <td>1.0</td>\n",
       "      <td>1.0</td>\n",
       "      <td>0.0</td>\n",
       "      <td>NaN</td>\n",
       "      <td>1.0</td>\n",
       "      <td>0.0</td>\n",
       "      <td>0.0</td>\n",
       "      <td>0.0</td>\n",
       "      <td>0.0</td>\n",
       "      <td>1.0</td>\n",
       "      <td>0.0</td>\n",
       "      <td>1.0</td>\n",
       "      <td>0.0</td>\n",
       "      <td>0.0</td>\n",
       "      <td>1.0</td>\n",
       "    </tr>\n",
       "    <tr>\n",
       "      <th>4</th>\n",
       "      <td>democrat</td>\n",
       "      <td>1.0</td>\n",
       "      <td>1.0</td>\n",
       "      <td>1.0</td>\n",
       "      <td>0.0</td>\n",
       "      <td>1.0</td>\n",
       "      <td>1.0</td>\n",
       "      <td>0.0</td>\n",
       "      <td>0.0</td>\n",
       "      <td>0.0</td>\n",
       "      <td>0.0</td>\n",
       "      <td>1.0</td>\n",
       "      <td>NaN</td>\n",
       "      <td>1.0</td>\n",
       "      <td>1.0</td>\n",
       "      <td>1.0</td>\n",
       "      <td>1.0</td>\n",
       "    </tr>\n",
       "  </tbody>\n",
       "</table>\n",
       "</div>"
      ],
      "text/plain": [
       "           0    1    2    3    4    5    6    7    8    9    10   11   12  \\\n",
       "0  republican  0.0  1.0  0.0  1.0  1.0  1.0  0.0  0.0  0.0  1.0  NaN  1.0   \n",
       "1  republican  0.0  1.0  0.0  1.0  1.0  1.0  0.0  0.0  0.0  0.0  0.0  1.0   \n",
       "2    democrat  NaN  1.0  1.0  NaN  1.0  1.0  0.0  0.0  0.0  0.0  1.0  0.0   \n",
       "3    democrat  0.0  1.0  1.0  0.0  NaN  1.0  0.0  0.0  0.0  0.0  1.0  0.0   \n",
       "4    democrat  1.0  1.0  1.0  0.0  1.0  1.0  0.0  0.0  0.0  0.0  1.0  NaN   \n",
       "\n",
       "    13   14   15   16  \n",
       "0  1.0  1.0  0.0  1.0  \n",
       "1  1.0  1.0  0.0  NaN  \n",
       "2  1.0  1.0  0.0  0.0  \n",
       "3  1.0  0.0  0.0  1.0  \n",
       "4  1.0  1.0  1.0  1.0  "
      ]
     },
     "execution_count": 126,
     "metadata": {},
     "output_type": "execute_result"
    }
   ],
   "source": [
    "df_vote.head()"
   ]
  },
  {
   "cell_type": "code",
   "execution_count": 127,
   "metadata": {
    "collapsed": false
   },
   "outputs": [],
   "source": [
    "df_vote = df_vote.fillna(df_vote.mean())"
   ]
  },
  {
   "cell_type": "markdown",
   "metadata": {},
   "source": [
    "**Challenge 5.2**"
   ]
  },
  {
   "cell_type": "code",
   "execution_count": 7,
   "metadata": {
    "collapsed": false
   },
   "outputs": [],
   "source": [
    "y = df_vote[0]\n",
    "X = df_vote.iloc[:,1:]"
   ]
  },
  {
   "cell_type": "code",
   "execution_count": 8,
   "metadata": {
    "collapsed": true
   },
   "outputs": [],
   "source": [
    "X_train, X_test, y_train, y_test = train_test_split(X, y, test_size = 0.3, random_state = 4444)"
   ]
  },
  {
   "cell_type": "markdown",
   "metadata": {},
   "source": [
    "**Challenge 5.3**"
   ]
  },
  {
   "cell_type": "code",
   "execution_count": 9,
   "metadata": {
    "collapsed": true
   },
   "outputs": [],
   "source": [
    "accuracy_scores = []\n",
    "for i in range(1,21):\n",
    "    knn = KNeighborsClassifier(n_neighbors = i).fit(X_train, y_train)\n",
    "    y_pred = knn.predict(X_test)\n",
    "    acc = accuracy_score(y_test, y_pred)\n",
    "    accuracy_scores.append(acc)"
   ]
  },
  {
   "cell_type": "code",
   "execution_count": 10,
   "metadata": {
    "collapsed": false
   },
   "outputs": [
    {
     "data": {
      "text/plain": [
       "[0.9007633587786259,\n",
       " 0.89312977099236646,\n",
       " 0.9007633587786259,\n",
       " 0.9007633587786259,\n",
       " 0.91603053435114501,\n",
       " 0.93129770992366412,\n",
       " 0.91603053435114501,\n",
       " 0.92366412213740456,\n",
       " 0.93129770992366412,\n",
       " 0.93129770992366412,\n",
       " 0.92366412213740456,\n",
       " 0.92366412213740456,\n",
       " 0.92366412213740456,\n",
       " 0.92366412213740456,\n",
       " 0.92366412213740456,\n",
       " 0.92366412213740456,\n",
       " 0.92366412213740456,\n",
       " 0.91603053435114501,\n",
       " 0.91603053435114501,\n",
       " 0.91603053435114501]"
      ]
     },
     "execution_count": 10,
     "metadata": {},
     "output_type": "execute_result"
    }
   ],
   "source": [
    "accuracy_scores"
   ]
  },
  {
   "cell_type": "markdown",
   "metadata": {},
   "source": [
    "9 and 10 neighbors gave the maximum accuracy score of 0.9313"
   ]
  },
  {
   "cell_type": "markdown",
   "metadata": {},
   "source": [
    "**Challenge 5.4**"
   ]
  },
  {
   "cell_type": "code",
   "execution_count": 11,
   "metadata": {
    "collapsed": false
   },
   "outputs": [
    {
     "name": "stdout",
     "output_type": "stream",
     "text": [
      "0.93893129771\n"
     ]
    }
   ],
   "source": [
    "logit = LogisticRegression().fit(X_train, y_train)\n",
    "y_pred = logit.predict(X_test)\n",
    "print(accuracy_score(y_test, y_pred))"
   ]
  },
  {
   "cell_type": "markdown",
   "metadata": {},
   "source": [
    "**Challenge 5.5**"
   ]
  },
  {
   "cell_type": "code",
   "execution_count": 12,
   "metadata": {
    "collapsed": false
   },
   "outputs": [
    {
     "data": {
      "text/plain": [
       "0    republican\n",
       "1    republican\n",
       "2      democrat\n",
       "3      democrat\n",
       "4      democrat\n",
       "Name: 0, dtype: object"
      ]
     },
     "execution_count": 12,
     "metadata": {},
     "output_type": "execute_result"
    }
   ],
   "source": [
    "y.head()"
   ]
  },
  {
   "cell_type": "code",
   "execution_count": 13,
   "metadata": {
    "collapsed": false
   },
   "outputs": [],
   "source": [
    "democrats = 0\n",
    "republicans = 0\n",
    "for house_member in y:\n",
    "    if house_member == 'republican':\n",
    "        republicans += 1\n",
    "    else:\n",
    "        democrats += 1"
   ]
  },
  {
   "cell_type": "code",
   "execution_count": 14,
   "metadata": {
    "collapsed": false
   },
   "outputs": [],
   "source": [
    "party_counts = (democrats, republicans)\n",
    "parties = ('Democrats', 'Republicans')\n",
    "y_pos = np.arange(len(parties))"
   ]
  },
  {
   "cell_type": "code",
   "execution_count": 15,
   "metadata": {
    "collapsed": false
   },
   "outputs": [
    {
     "data": {
      "image/png": "[encoded data removed]",
      "text/plain": [
       "<matplotlib.figure.Figure at 0x11808f208>"
      ]
     },
     "metadata": {},
     "output_type": "display_data"
    }
   ],
   "source": [
    "plt.bar(y_pos, party_counts, align = 'center')\n",
    "plt.xticks(y_pos, parties)\n",
    "plt.xlabel('Political Party')\n",
    "plt.ylabel('Number of House Members')\n",
    "plt.title('Number of House Members by Party');"
   ]
  },
  {
   "cell_type": "markdown",
   "metadata": {},
   "source": [
    "There are 267 democrats and 168 republicans"
   ]
  },
  {
   "cell_type": "code",
   "execution_count": 16,
   "metadata": {
    "collapsed": true
   },
   "outputs": [],
   "source": [
    "def generate_democrats(X):\n",
    "    democrat_all = ['democrat' for x in range(0, len(X.index))]\n",
    "    return democrat_all\n",
    "\n",
    "def generate_republicans(X):\n",
    "    republican_all = ['republican' for x in range(0, len(X.index))]\n",
    "    return republican_all"
   ]
  },
  {
   "cell_type": "code",
   "execution_count": 17,
   "metadata": {
    "collapsed": false
   },
   "outputs": [
    {
     "name": "stdout",
     "output_type": "stream",
     "text": [
      "0.587786259542\n"
     ]
    }
   ],
   "source": [
    "y_pred_democrat = generate_democrats(X_test)\n",
    "print(accuracy_score(y_test, y_pred_democrat))"
   ]
  },
  {
   "cell_type": "code",
   "execution_count": 18,
   "metadata": {
    "collapsed": false
   },
   "outputs": [
    {
     "name": "stdout",
     "output_type": "stream",
     "text": [
      "0.412213740458\n"
     ]
    }
   ],
   "source": [
    "y_pred_republican = generate_republicans(X_test)\n",
    "print(accuracy_score(y_test, y_pred_republican))"
   ]
  },
  {
   "cell_type": "markdown",
   "metadata": {},
   "source": [
    "**Challenge 5.6**"
   ]
  },
  {
   "cell_type": "code",
   "execution_count": 19,
   "metadata": {
    "collapsed": true
   },
   "outputs": [],
   "source": [
    "logit_acc = accuracy_score(y_test, y_pred)\n",
    "democrat_acc = accuracy_score(y_test, y_pred_democrat)\n",
    "republican_acc = accuracy_score(y_test, y_pred_republican)"
   ]
  },
  {
   "cell_type": "code",
   "execution_count": 20,
   "metadata": {
    "collapsed": false
   },
   "outputs": [],
   "source": [
    "logit_accs = [logit_acc]*20\n",
    "democrat_accs = [democrat_acc]*20\n",
    "republican_accs = [republican_acc]*20\n",
    "neighbors = list(range(1, 21))"
   ]
  },
  {
   "cell_type": "code",
   "execution_count": 21,
   "metadata": {
    "collapsed": false
   },
   "outputs": [
    {
     "data": {
      "image/png": "[encoded data removed]",
      "text/plain": [
       "<matplotlib.figure.Figure at 0x11a534588>"
      ]
     },
     "metadata": {},
     "output_type": "display_data"
    }
   ],
   "source": [
    "plt.plot(neighbors, accuracy_scores)\n",
    "plt.plot(neighbors, logit_accs)\n",
    "plt.plot(neighbors, democrat_accs)\n",
    "plt.plot(neighbors, republican_accs)\n",
    "plt.ylabel('Accuracy')\n",
    "plt.xlabel('Number of Neighbors')\n",
    "plt.title('Model Accuracy by Number of Neighbors')\n",
    "plt.legend(['KNN', 'Logistic', 'All Democrat', 'All Republican'], loc = 'center right');"
   ]
  },
  {
   "cell_type": "markdown",
   "metadata": {},
   "source": [
    "**Challenge 5.7**"
   ]
  },
  {
   "cell_type": "code",
   "execution_count": 47,
   "metadata": {
    "collapsed": false
   },
   "outputs": [],
   "source": [
    "m, train_acc, test_acc = learning_curve(LogisticRegression(), X, y, cv=5)"
   ]
  },
  {
   "cell_type": "code",
   "execution_count": 48,
   "metadata": {
    "collapsed": false
   },
   "outputs": [],
   "source": [
    "train_cv_acc = np.mean(train_acc, axis=1)\n",
    "test_cv_acc = np.mean(test_acc, axis=1)"
   ]
  },
  {
   "cell_type": "code",
   "execution_count": 58,
   "metadata": {
    "collapsed": false
   },
   "outputs": [
    {
     "data": {
      "image/png": "[encoded data removed]",
      "text/plain": [
       "<matplotlib.figure.Figure at 0x11b43c710>"
      ]
     },
     "metadata": {},
     "output_type": "display_data"
    }
   ],
   "source": [
    "plt.plot(m, train_cv_acc)\n",
    "plt.plot(m, test_cv_acc)\n",
    "plt.title('Logistic Regression Learning Curve')\n",
    "plt.xlabel('Number of Training Samples')\n",
    "plt.ylabel('Accuracy')\n",
    "plt.legend(['Train Set', 'Test Set'], loc = 'lower right');"
   ]
  },
  {
   "cell_type": "code",
   "execution_count": 53,
   "metadata": {
    "collapsed": false
   },
   "outputs": [],
   "source": [
    "m_knn, tr_acc_knn, ts_acc_knn = learning_curve(KNeighborsClassifier(n_neighbors = 9), X, y, cv=5)"
   ]
  },
  {
   "cell_type": "code",
   "execution_count": 54,
   "metadata": {
    "collapsed": true
   },
   "outputs": [],
   "source": [
    "ts_cv_acc_knn = np.mean(tr_acc_knn, axis=1)\n",
    "tr_cv_acc_knn = np.mean(ts_acc_knn, axis=1)"
   ]
  },
  {
   "cell_type": "code",
   "execution_count": 59,
   "metadata": {
    "collapsed": false
   },
   "outputs": [
    {
     "data": {
      "image/png": "[encoded data removed]",
      "text/plain": [
       "<matplotlib.figure.Figure at 0x11b676588>"
      ]
     },
     "metadata": {},
     "output_type": "display_data"
    }
   ],
   "source": [
    "plt.plot(m_knn, tr_cv_acc_knn)\n",
    "plt.plot(m_knn, ts_cv_acc_knn)\n",
    "plt.title('KNN Learning Curve')\n",
    "plt.xlabel('Number of Training Samples')\n",
    "plt.ylabel('Accuracy')\n",
    "plt.legend(['Train Set', 'Test Set'], loc = 'lower right');"
   ]
  },
  {
   "cell_type": "markdown",
   "metadata": {},
   "source": [
    "**Challenge 5.8**"
   ]
  },
  {
   "cell_type": "code",
   "execution_count": 61,
   "metadata": {
    "collapsed": false
   },
   "outputs": [
    {
     "name": "stdout",
     "output_type": "stream",
     "text": [
      "0.93893129771\n"
     ]
    }
   ],
   "source": [
    "from sklearn.naive_bayes import GaussianNB\n",
    "\n",
    "gnb = GaussianNB().fit(X_train, y_train)\n",
    "y_pred_gnb = gnb.predict(X_test)\n",
    "print(accuracy_score(y_test, y_pred_gnb))"
   ]
  },
  {
   "cell_type": "code",
   "execution_count": 76,
   "metadata": {
    "collapsed": false
   },
   "outputs": [
    {
     "name": "stdout",
     "output_type": "stream",
     "text": [
      "0.954198473282\n"
     ]
    }
   ],
   "source": [
    "from sklearn.svm import SVC\n",
    "\n",
    "svc = SVC().fit(X_train, y_train)\n",
    "y_pred_svc = svc.predict(X_test)\n",
    "print(accuracy_score(y_test, y_pred_svc))"
   ]
  },
  {
   "cell_type": "code",
   "execution_count": 77,
   "metadata": {
    "collapsed": false
   },
   "outputs": [
    {
     "name": "stdout",
     "output_type": "stream",
     "text": [
      "0.946564885496\n"
     ]
    }
   ],
   "source": [
    "from sklearn.tree import DecisionTreeClassifier\n",
    "\n",
    "dtc = DecisionTreeClassifier().fit(X_train, y_train)\n",
    "y_pred_dtc = dtc.predict(X_test)\n",
    "print(accuracy_score(y_test, y_pred_dtc))"
   ]
  },
  {
   "cell_type": "code",
   "execution_count": 79,
   "metadata": {
    "collapsed": false
   },
   "outputs": [
    {
     "name": "stdout",
     "output_type": "stream",
     "text": [
      "0.961832061069\n"
     ]
    }
   ],
   "source": [
    "from sklearn.ensemble import RandomForestClassifier\n",
    "\n",
    "rf = RandomForestClassifier().fit(X_train, y_train)\n",
    "y_pred_rf = rf.predict(X_test)\n",
    "print(accuracy_score(y_test, y_pred_rf))"
   ]
  },
  {
   "cell_type": "markdown",
   "metadata": {},
   "source": [
    "**Challenge 5.9**"
   ]
  },
  {
   "cell_type": "code",
   "execution_count": 80,
   "metadata": {
    "collapsed": true
   },
   "outputs": [],
   "source": [
    "from sklearn.cross_validation import cross_val_score"
   ]
  },
  {
   "cell_type": "code",
   "execution_count": 104,
   "metadata": {
    "collapsed": false
   },
   "outputs": [
    {
     "data": {
      "text/plain": [
       "0.9584839979587374"
      ]
     },
     "execution_count": 104,
     "metadata": {},
     "output_type": "execute_result"
    }
   ],
   "source": [
    "cv_acc_logit = cross_val_score(LogisticRegression(), X, y, cv=5)\n",
    "cv_acc_logit = np.mean(cv_acc_logit)\n",
    "cv_acc_logit"
   ]
  },
  {
   "cell_type": "code",
   "execution_count": 95,
   "metadata": {
    "collapsed": false
   },
   "outputs": [
    {
     "data": {
      "text/plain": [
       "0.92418227989599289"
      ]
     },
     "execution_count": 95,
     "metadata": {},
     "output_type": "execute_result"
    }
   ],
   "source": [
    "cv_acc_knn = cross_val_score(KNeighborsClassifier(n_neighbors = 9), X, y, cv=5)\n",
    "cv_acc_knn = np.mean(cv_acc_knn)\n",
    "cv_acc_knn"
   ]
  },
  {
   "cell_type": "code",
   "execution_count": 105,
   "metadata": {
    "collapsed": false
   },
   "outputs": [
    {
     "data": {
      "text/plain": [
       "0.94014422492770533"
      ]
     },
     "execution_count": 105,
     "metadata": {},
     "output_type": "execute_result"
    }
   ],
   "source": [
    "cv_acc_gnb = cross_val_score(GaussianNB(), X, y, cv=5)\n",
    "cv_acc_gnb = np.mean(cv_acc_gnb)\n",
    "cv_acc_gnb"
   ]
  },
  {
   "cell_type": "code",
   "execution_count": 106,
   "metadata": {
    "collapsed": false
   },
   "outputs": [
    {
     "data": {
      "text/plain": [
       "0.95396527423391897"
      ]
     },
     "execution_count": 106,
     "metadata": {},
     "output_type": "execute_result"
    }
   ],
   "source": [
    "cv_acc_svc = cross_val_score(SVC(), X, y, cv=5)\n",
    "cv_acc_svc = np.mean(cv_acc_svc)\n",
    "cv_acc_svc"
   ]
  },
  {
   "cell_type": "code",
   "execution_count": 107,
   "metadata": {
    "collapsed": false
   },
   "outputs": [
    {
     "data": {
      "text/plain": [
       "0.94236349055916013"
      ]
     },
     "execution_count": 107,
     "metadata": {},
     "output_type": "execute_result"
    }
   ],
   "source": [
    "cv_acc_dtc = cross_val_score(DecisionTreeClassifier(), X, y, cv=5)\n",
    "cv_acc_dtc = np.mean(cv_acc_dtc)\n",
    "cv_acc_dtc"
   ]
  },
  {
   "cell_type": "code",
   "execution_count": 108,
   "metadata": {
    "collapsed": false
   },
   "outputs": [
    {
     "data": {
      "text/plain": [
       "0.93995893173920442"
      ]
     },
     "execution_count": 108,
     "metadata": {},
     "output_type": "execute_result"
    }
   ],
   "source": [
    "cv_acc_rf = cross_val_score(RandomForestClassifier(), X, y, cv=5)\n",
    "cv_acc_rf = np.mean(cv_acc_rf)\n",
    "cv_acc_rf"
   ]
  },
  {
   "cell_type": "markdown",
   "metadata": {},
   "source": [
    "**Challenge 5.10**"
   ]
  },
  {
   "cell_type": "code",
   "execution_count": 147,
   "metadata": {
    "collapsed": true
   },
   "outputs": [],
   "source": [
    "df_vote = pd.read_csv('https://archive.ics.uci.edu/ml/machine-learning-databases/voting-records/house-votes-84.data', header=None)"
   ]
  },
  {
   "cell_type": "code",
   "execution_count": 148,
   "metadata": {
    "collapsed": true
   },
   "outputs": [],
   "source": [
    "for index in range(1, 17):\n",
    "    df_vote[index] = df_vote[index].map(lambda x: 1 if x == 'y' else 0 if x == 'n' else np.nan)"
   ]
  },
  {
   "cell_type": "code",
   "execution_count": 149,
   "metadata": {
    "collapsed": false
   },
   "outputs": [],
   "source": [
    "df_vote = df_vote.fillna(df_vote.mode().iloc[0])"
   ]
  },
  {
   "cell_type": "code",
   "execution_count": 150,
   "metadata": {
    "collapsed": false
   },
   "outputs": [
    {
     "data": {
      "text/html": [
       "<div>\n",
       "<table border=\"1\" class=\"dataframe\">\n",
       "  <thead>\n",
       "    <tr style=\"text-align: right;\">\n",
       "      <th></th>\n",
       "      <th>0</th>\n",
       "      <th>1</th>\n",
       "      <th>2</th>\n",
       "      <th>3</th>\n",
       "      <th>4</th>\n",
       "      <th>5</th>\n",
       "      <th>6</th>\n",
       "      <th>7</th>\n",
       "      <th>8</th>\n",
       "      <th>9</th>\n",
       "      <th>10</th>\n",
       "      <th>11</th>\n",
       "      <th>12</th>\n",
       "      <th>13</th>\n",
       "      <th>14</th>\n",
       "      <th>15</th>\n",
       "      <th>16</th>\n",
       "    </tr>\n",
       "  </thead>\n",
       "  <tbody>\n",
       "    <tr>\n",
       "      <th>0</th>\n",
       "      <td>republican</td>\n",
       "      <td>0.0</td>\n",
       "      <td>1.0</td>\n",
       "      <td>0.0</td>\n",
       "      <td>1.0</td>\n",
       "      <td>1.0</td>\n",
       "      <td>1.0</td>\n",
       "      <td>0.0</td>\n",
       "      <td>0.0</td>\n",
       "      <td>0.0</td>\n",
       "      <td>1.0</td>\n",
       "      <td>0.0</td>\n",
       "      <td>1.0</td>\n",
       "      <td>1.0</td>\n",
       "      <td>1.0</td>\n",
       "      <td>0.0</td>\n",
       "      <td>1.0</td>\n",
       "    </tr>\n",
       "    <tr>\n",
       "      <th>1</th>\n",
       "      <td>republican</td>\n",
       "      <td>0.0</td>\n",
       "      <td>1.0</td>\n",
       "      <td>0.0</td>\n",
       "      <td>1.0</td>\n",
       "      <td>1.0</td>\n",
       "      <td>1.0</td>\n",
       "      <td>0.0</td>\n",
       "      <td>0.0</td>\n",
       "      <td>0.0</td>\n",
       "      <td>0.0</td>\n",
       "      <td>0.0</td>\n",
       "      <td>1.0</td>\n",
       "      <td>1.0</td>\n",
       "      <td>1.0</td>\n",
       "      <td>0.0</td>\n",
       "      <td>1.0</td>\n",
       "    </tr>\n",
       "    <tr>\n",
       "      <th>2</th>\n",
       "      <td>democrat</td>\n",
       "      <td>0.0</td>\n",
       "      <td>1.0</td>\n",
       "      <td>1.0</td>\n",
       "      <td>0.0</td>\n",
       "      <td>1.0</td>\n",
       "      <td>1.0</td>\n",
       "      <td>0.0</td>\n",
       "      <td>0.0</td>\n",
       "      <td>0.0</td>\n",
       "      <td>0.0</td>\n",
       "      <td>1.0</td>\n",
       "      <td>0.0</td>\n",
       "      <td>1.0</td>\n",
       "      <td>1.0</td>\n",
       "      <td>0.0</td>\n",
       "      <td>0.0</td>\n",
       "    </tr>\n",
       "    <tr>\n",
       "      <th>3</th>\n",
       "      <td>democrat</td>\n",
       "      <td>0.0</td>\n",
       "      <td>1.0</td>\n",
       "      <td>1.0</td>\n",
       "      <td>0.0</td>\n",
       "      <td>1.0</td>\n",
       "      <td>1.0</td>\n",
       "      <td>0.0</td>\n",
       "      <td>0.0</td>\n",
       "      <td>0.0</td>\n",
       "      <td>0.0</td>\n",
       "      <td>1.0</td>\n",
       "      <td>0.0</td>\n",
       "      <td>1.0</td>\n",
       "      <td>0.0</td>\n",
       "      <td>0.0</td>\n",
       "      <td>1.0</td>\n",
       "    </tr>\n",
       "    <tr>\n",
       "      <th>4</th>\n",
       "      <td>democrat</td>\n",
       "      <td>1.0</td>\n",
       "      <td>1.0</td>\n",
       "      <td>1.0</td>\n",
       "      <td>0.0</td>\n",
       "      <td>1.0</td>\n",
       "      <td>1.0</td>\n",
       "      <td>0.0</td>\n",
       "      <td>0.0</td>\n",
       "      <td>0.0</td>\n",
       "      <td>0.0</td>\n",
       "      <td>1.0</td>\n",
       "      <td>0.0</td>\n",
       "      <td>1.0</td>\n",
       "      <td>1.0</td>\n",
       "      <td>1.0</td>\n",
       "      <td>1.0</td>\n",
       "    </tr>\n",
       "  </tbody>\n",
       "</table>\n",
       "</div>"
      ],
      "text/plain": [
       "           0    1    2    3    4    5    6    7    8    9    10   11   12  \\\n",
       "0  republican  0.0  1.0  0.0  1.0  1.0  1.0  0.0  0.0  0.0  1.0  0.0  1.0   \n",
       "1  republican  0.0  1.0  0.0  1.0  1.0  1.0  0.0  0.0  0.0  0.0  0.0  1.0   \n",
       "2    democrat  0.0  1.0  1.0  0.0  1.0  1.0  0.0  0.0  0.0  0.0  1.0  0.0   \n",
       "3    democrat  0.0  1.0  1.0  0.0  1.0  1.0  0.0  0.0  0.0  0.0  1.0  0.0   \n",
       "4    democrat  1.0  1.0  1.0  0.0  1.0  1.0  0.0  0.0  0.0  0.0  1.0  0.0   \n",
       "\n",
       "    13   14   15   16  \n",
       "0  1.0  1.0  0.0  1.0  \n",
       "1  1.0  1.0  0.0  1.0  \n",
       "2  1.0  1.0  0.0  0.0  \n",
       "3  1.0  0.0  0.0  1.0  \n",
       "4  1.0  1.0  1.0  1.0  "
      ]
     },
     "execution_count": 150,
     "metadata": {},
     "output_type": "execute_result"
    }
   ],
   "source": [
    "df_vote.head()"
   ]
  },
  {
   "cell_type": "code",
   "execution_count": 161,
   "metadata": {
    "collapsed": true
   },
   "outputs": [],
   "source": [
    "y = df_vote.iloc[:,1]\n",
    "X = df_vote.iloc[:,2:]"
   ]
  },
  {
   "cell_type": "code",
   "execution_count": 165,
   "metadata": {
    "collapsed": false
   },
   "outputs": [
    {
     "data": {
      "text/plain": [
       "0.66652511482102494"
      ]
     },
     "execution_count": 165,
     "metadata": {},
     "output_type": "execute_result"
    }
   ],
   "source": [
    "cv_acc_logit = cross_val_score(LogisticRegression(), X, y, cv=5)\n",
    "cv_acc_logit = np.mean(cv_acc_logit)\n",
    "cv_acc_logit"
   ]
  },
  {
   "cell_type": "markdown",
   "metadata": {},
   "source": [
    "**Challenge 5.11**"
   ]
  },
  {
   "cell_type": "code",
   "execution_count": 170,
   "metadata": {
    "collapsed": true
   },
   "outputs": [],
   "source": [
    "import pickle"
   ]
  },
  {
   "cell_type": "code",
   "execution_count": 185,
   "metadata": {
    "collapsed": false
   },
   "outputs": [],
   "source": [
    "with open(\"movie_df.pkl\", 'rb') as picklefile: \n",
    "    movie_df = pickle.load(picklefile)"
   ]
  },
  {
   "cell_type": "code",
   "execution_count": 186,
   "metadata": {
    "collapsed": false
   },
   "outputs": [
    {
     "data": {
      "text/html": [
       "<div>\n",
       "<table border=\"1\" class=\"dataframe\">\n",
       "  <thead>\n",
       "    <tr style=\"text-align: right;\">\n",
       "      <th></th>\n",
       "      <th>index</th>\n",
       "      <th>Budget</th>\n",
       "      <th>Genre1</th>\n",
       "      <th>Genre2</th>\n",
       "      <th>Gross_Revenue</th>\n",
       "      <th>IMDB_Reviews</th>\n",
       "      <th>IMDB_Score</th>\n",
       "      <th>Metascore</th>\n",
       "      <th>Month</th>\n",
       "      <th>Opening_Week_Revenue</th>\n",
       "      <th>Oscar_Wins</th>\n",
       "      <th>Rating</th>\n",
       "      <th>Run_Time</th>\n",
       "      <th>Title</th>\n",
       "      <th>Year</th>\n",
       "      <th>CPI Adjustment</th>\n",
       "    </tr>\n",
       "  </thead>\n",
       "  <tbody>\n",
       "    <tr>\n",
       "      <th>0</th>\n",
       "      <td>0</td>\n",
       "      <td>207015000.0</td>\n",
       "      <td>Action</td>\n",
       "      <td>Crime</td>\n",
       "      <td>5.967807e+08</td>\n",
       "      <td>1698798</td>\n",
       "      <td>9.0</td>\n",
       "      <td>82.0</td>\n",
       "      <td>July</td>\n",
       "      <td>1.772624e+08</td>\n",
       "      <td>2</td>\n",
       "      <td>PG-13</td>\n",
       "      <td>152</td>\n",
       "      <td>The Dark Knight</td>\n",
       "      <td>2008</td>\n",
       "      <td>1.119</td>\n",
       "    </tr>\n",
       "    <tr>\n",
       "      <th>1</th>\n",
       "      <td>1</td>\n",
       "      <td>122200000.0</td>\n",
       "      <td>Action</td>\n",
       "      <td>Adventure</td>\n",
       "      <td>4.901250e+08</td>\n",
       "      <td>1230627</td>\n",
       "      <td>8.9</td>\n",
       "      <td>94.0</td>\n",
       "      <td>December</td>\n",
       "      <td>2.519149e+07</td>\n",
       "      <td>11</td>\n",
       "      <td>PG-13</td>\n",
       "      <td>201</td>\n",
       "      <td>The Lord of the Rings: The Return of the King</td>\n",
       "      <td>2003</td>\n",
       "      <td>1.300</td>\n",
       "    </tr>\n",
       "    <tr>\n",
       "      <th>2</th>\n",
       "      <td>2</td>\n",
       "      <td>176800000.0</td>\n",
       "      <td>Action</td>\n",
       "      <td>Adventure</td>\n",
       "      <td>3.232886e+08</td>\n",
       "      <td>1489333</td>\n",
       "      <td>8.8</td>\n",
       "      <td>74.0</td>\n",
       "      <td>July</td>\n",
       "      <td>8.428421e+06</td>\n",
       "      <td>4</td>\n",
       "      <td>PG-13</td>\n",
       "      <td>148</td>\n",
       "      <td>Inception</td>\n",
       "      <td>2010</td>\n",
       "      <td>1.105</td>\n",
       "    </tr>\n",
       "    <tr>\n",
       "      <th>3</th>\n",
       "      <td>3</td>\n",
       "      <td>52200000.0</td>\n",
       "      <td>Action</td>\n",
       "      <td>Adventure</td>\n",
       "      <td>8.414604e+08</td>\n",
       "      <td>849150</td>\n",
       "      <td>8.8</td>\n",
       "      <td>80.0</td>\n",
       "      <td>June</td>\n",
       "      <td>1.025320e+06</td>\n",
       "      <td>1</td>\n",
       "      <td>PG</td>\n",
       "      <td>124</td>\n",
       "      <td>Star Wars: Episode V - The Empire Strikes Back</td>\n",
       "      <td>1980</td>\n",
       "      <td>2.900</td>\n",
       "    </tr>\n",
       "    <tr>\n",
       "      <th>4</th>\n",
       "      <td>4</td>\n",
       "      <td>130200000.0</td>\n",
       "      <td>Action</td>\n",
       "      <td>Adventure</td>\n",
       "      <td>4.393726e+08</td>\n",
       "      <td>1253381</td>\n",
       "      <td>8.8</td>\n",
       "      <td>92.0</td>\n",
       "      <td>December</td>\n",
       "      <td>1.997083e+07</td>\n",
       "      <td>4</td>\n",
       "      <td>PG-13</td>\n",
       "      <td>178</td>\n",
       "      <td>The Lord of the Rings: The Fellowship of the Ring</td>\n",
       "      <td>2001</td>\n",
       "      <td>1.400</td>\n",
       "    </tr>\n",
       "  </tbody>\n",
       "</table>\n",
       "</div>"
      ],
      "text/plain": [
       "   index       Budget  Genre1     Genre2  Gross_Revenue  IMDB_Reviews  \\\n",
       "0      0  207015000.0  Action      Crime   5.967807e+08       1698798   \n",
       "1      1  122200000.0  Action  Adventure   4.901250e+08       1230627   \n",
       "2      2  176800000.0  Action  Adventure   3.232886e+08       1489333   \n",
       "3      3   52200000.0  Action  Adventure   8.414604e+08        849150   \n",
       "4      4  130200000.0  Action  Adventure   4.393726e+08       1253381   \n",
       "\n",
       "   IMDB_Score  Metascore     Month  Opening_Week_Revenue  Oscar_Wins Rating  \\\n",
       "0         9.0       82.0      July          1.772624e+08           2  PG-13   \n",
       "1         8.9       94.0  December          2.519149e+07          11  PG-13   \n",
       "2         8.8       74.0      July          8.428421e+06           4  PG-13   \n",
       "3         8.8       80.0      June          1.025320e+06           1     PG   \n",
       "4         8.8       92.0  December          1.997083e+07           4  PG-13   \n",
       "\n",
       "   Run_Time                                              Title  Year  \\\n",
       "0       152                                    The Dark Knight  2008   \n",
       "1       201      The Lord of the Rings: The Return of the King  2003   \n",
       "2       148                                          Inception  2010   \n",
       "3       124     Star Wars: Episode V - The Empire Strikes Back  1980   \n",
       "4       178  The Lord of the Rings: The Fellowship of the Ring  2001   \n",
       "\n",
       "   CPI Adjustment  \n",
       "0           1.119  \n",
       "1           1.300  \n",
       "2           1.105  \n",
       "3           2.900  \n",
       "4           1.400  "
      ]
     },
     "execution_count": 186,
     "metadata": {},
     "output_type": "execute_result"
    }
   ],
   "source": [
    "movie_df.head()"
   ]
  },
  {
   "cell_type": "code",
   "execution_count": 187,
   "metadata": {
    "collapsed": false
   },
   "outputs": [],
   "source": [
    "movie_df = movie_df.drop(['index', 'CPI Adjustment'], axis=1)"
   ]
  },
  {
   "cell_type": "code",
   "execution_count": 205,
   "metadata": {
    "collapsed": true
   },
   "outputs": [],
   "source": [
    "y = movie_df['Rating']\n",
    "X = movie_df.drop(['Rating', 'Title'], axis=1)"
   ]
  },
  {
   "cell_type": "code",
   "execution_count": 208,
   "metadata": {
    "collapsed": true
   },
   "outputs": [],
   "source": [
    "X = pd.get_dummies(X)"
   ]
  },
  {
   "cell_type": "code",
   "execution_count": 196,
   "metadata": {
    "collapsed": false
   },
   "outputs": [
    {
     "data": {
      "text/plain": [
       "array(['PG-13', 'PG', 'R', 'UNRATED', 'G', 'PASSED', 'NOT RATED',\n",
       "       'APPROVED', 'NC-17'], dtype=object)"
      ]
     },
     "execution_count": 196,
     "metadata": {},
     "output_type": "execute_result"
    }
   ],
   "source": [
    "y.unique()"
   ]
  },
  {
   "cell_type": "code",
   "execution_count": 197,
   "metadata": {
    "collapsed": true
   },
   "outputs": [],
   "source": [
    "pg_13 = 0\n",
    "pg = 0\n",
    "r = 0\n",
    "unrated = 0\n",
    "g = 0\n",
    "passed = 0\n",
    "not_rated = 0\n",
    "approved = 0\n",
    "nc_17 = 0\n",
    "\n",
    "for rating in y:\n",
    "    if rating == 'PG-13':\n",
    "        pg_13 += 1\n",
    "    elif rating == 'PG':\n",
    "        pg += 1\n",
    "    elif rating == 'R':\n",
    "        r += 1\n",
    "    elif rating == 'UNRATED':\n",
    "        unrated += 1\n",
    "    elif rating == 'G':\n",
    "        g += 1\n",
    "    elif rating == 'PASSED':\n",
    "        passed += 1\n",
    "    elif rating == 'NOT RATED':\n",
    "        not_rated += 1\n",
    "    elif rating == 'APPROVED':\n",
    "        approved += 1\n",
    "    else:\n",
    "        nc_17 +=1"
   ]
  },
  {
   "cell_type": "code",
   "execution_count": 198,
   "metadata": {
    "collapsed": true
   },
   "outputs": [],
   "source": [
    "rating_counts = (g, pg, pg_13, r, nc_17, passed, unrated, not_rated, approved)\n",
    "ratings = ('G', 'PG', 'PG-13', 'R', 'NC-17', 'PASSED', 'UNRATED', 'NOT RATED', 'APPROVED')\n",
    "y_pos = np.arange(len(ratings))"
   ]
  },
  {
   "cell_type": "code",
   "execution_count": 202,
   "metadata": {
    "collapsed": false
   },
   "outputs": [
    {
     "data": {
      "image/png": "[encoded data removed]",
      "text/plain": [
       "<matplotlib.figure.Figure at 0x11c5a65c0>"
      ]
     },
     "metadata": {},
     "output_type": "display_data"
    }
   ],
   "source": [
    "plt.bar(y_pos, rating_counts, align = 'center')\n",
    "plt.xticks(y_pos, ratings, rotation = 'vertical')\n",
    "plt.xlabel('MPAA Rating')\n",
    "plt.ylabel('Number of Movies Receiving Rating')\n",
    "plt.title('Number of Movies by MPAA Rating');"
   ]
  },
  {
   "cell_type": "code",
   "execution_count": 209,
   "metadata": {
    "collapsed": true
   },
   "outputs": [],
   "source": [
    "X_train, X_test, y_train, y_test = train_test_split(X, y, test_size = 0.3)"
   ]
  },
  {
   "cell_type": "code",
   "execution_count": 210,
   "metadata": {
    "collapsed": false
   },
   "outputs": [
    {
     "name": "stdout",
     "output_type": "stream",
     "text": [
      "0.601851851852\n"
     ]
    }
   ],
   "source": [
    "logit_movie = LogisticRegression().fit(X_train, y_train)\n",
    "y_pred_logit = logit_movie.predict(X_test)\n",
    "print(accuracy_score(y_test, y_pred_logit))"
   ]
  },
  {
   "cell_type": "code",
   "execution_count": 212,
   "metadata": {
    "collapsed": true
   },
   "outputs": [],
   "source": [
    "accuracy_scores = []\n",
    "for i in range(1,21):\n",
    "    knn = KNeighborsClassifier(n_neighbors = i).fit(X_train, y_train)\n",
    "    y_pred = knn.predict(X_test)\n",
    "    acc = accuracy_score(y_test, y_pred)\n",
    "    accuracy_scores.append(acc)"
   ]
  },
  {
   "cell_type": "code",
   "execution_count": 213,
   "metadata": {
    "collapsed": false
   },
   "outputs": [
    {
     "data": {
      "text/plain": [
       "[0.45370370370370372,\n",
       " 0.35648148148148145,\n",
       " 0.46759259259259262,\n",
       " 0.46296296296296297,\n",
       " 0.45833333333333331,\n",
       " 0.5,\n",
       " 0.49074074074074076,\n",
       " 0.50462962962962965,\n",
       " 0.52314814814814814,\n",
       " 0.56018518518518523,\n",
       " 0.52314814814814814,\n",
       " 0.56018518518518523,\n",
       " 0.55092592592592593,\n",
       " 0.54629629629629628,\n",
       " 0.55555555555555558,\n",
       " 0.54629629629629628,\n",
       " 0.55092592592592593,\n",
       " 0.55092592592592593,\n",
       " 0.54166666666666663,\n",
       " 0.56018518518518523]"
      ]
     },
     "execution_count": 213,
     "metadata": {},
     "output_type": "execute_result"
    }
   ],
   "source": [
    "accuracy_scores"
   ]
  },
  {
   "cell_type": "code",
   "execution_count": 214,
   "metadata": {
    "collapsed": false
   },
   "outputs": [
    {
     "name": "stdout",
     "output_type": "stream",
     "text": [
      "0.523148148148\n"
     ]
    }
   ],
   "source": [
    "knn_movie = KNeighborsClassifier(n_neighbors=9).fit(X_train, y_train)\n",
    "y_pred_knn = knn_movie.predict(X_test)\n",
    "print(accuracy_score(y_test, y_pred_knn))"
   ]
  },
  {
   "cell_type": "code",
   "execution_count": 215,
   "metadata": {
    "collapsed": true
   },
   "outputs": [],
   "source": [
    "common_rating = y.mode().iloc[0]"
   ]
  },
  {
   "cell_type": "code",
   "execution_count": 221,
   "metadata": {
    "collapsed": true
   },
   "outputs": [],
   "source": [
    "y_dumb = [common_rating]*len(y_test)"
   ]
  },
  {
   "cell_type": "code",
   "execution_count": 222,
   "metadata": {
    "collapsed": false
   },
   "outputs": [
    {
     "name": "stdout",
     "output_type": "stream",
     "text": [
      "0.5\n"
     ]
    }
   ],
   "source": [
    "print(accuracy_score(y_test, y_dumb))"
   ]
  },
  {
   "cell_type": "markdown",
   "metadata": {},
   "source": [
    "KNN does slightly better than the baseline predictor, by about 2.3%. The logistic regression performs significantly better, however, with a score improvement of over 10%."
   ]
  },
  {
   "cell_type": "code",
   "execution_count": 224,
   "metadata": {
    "collapsed": false
   },
   "outputs": [
    {
     "data": {
      "text/plain": [
       "array([[ -1.02289031e-07,   3.52919976e-08,  -1.05245530e-04,\n",
       "         -1.82258341e-08,  -1.00572711e-07,  -8.06586355e-07,\n",
       "         -7.36022812e-10,  -3.65864915e-07,  -2.73199755e-10,\n",
       "         -2.29401357e-11,  -8.76797301e-11,  -1.31527377e-09,\n",
       "          3.12619179e-09,  -3.58354245e-09,  -5.21844592e-10,\n",
       "          0.00000000e+00,  -1.21829868e-10,  -2.50155280e-17,\n",
       "         -3.32052992e-16,  -3.38608365e-18,  -2.86762002e-18,\n",
       "         -6.07430383e-11,  -1.50205542e-11,  -9.67251557e-10,\n",
       "         -4.62967715e-10,  -3.60583593e-09,  -1.43636118e-09,\n",
       "         -1.03738382e-10,  -2.38428921e-15,  -2.13543523e-10,\n",
       "         -3.34312967e-12,   4.86352656e-09,  -7.36170841e-11,\n",
       "         -3.05664734e-12,  -1.98111521e-14,  -6.30740557e-17,\n",
       "         -5.30523379e-10,  -1.87621042e-10,  -5.45203796e-19,\n",
       "         -5.98401692e-10,  -2.57129128e-09,   4.25475993e-10,\n",
       "         -1.10651644e-09,  -3.58772221e-10,   4.59240987e-09,\n",
       "         -4.41270137e-10,  -6.72033424e-10,  -1.25185595e-10,\n",
       "         -6.04748350e-10,  -4.05342583e-10,  -9.34443007e-10,\n",
       "         -1.31072742e-16,  -3.03008263e-16,   0.00000000e+00,\n",
       "         -1.66010996e-16,   0.00000000e+00,   4.86352656e-09,\n",
       "         -4.16798344e-11,   6.21284723e-10,  -1.73910605e-17,\n",
       "         -1.85785419e-12,   5.00042963e-17,   3.70676884e-19,\n",
       "          8.73526954e-20,  -2.29808004e-15,  -9.11081584e-18,\n",
       "          0.00000000e+00,  -2.96775045e-11,  -9.30356913e-14,\n",
       "         -1.20217091e-13,   0.00000000e+00,  -6.51449665e-14,\n",
       "         -3.47871081e-10,  -6.68959422e-14,  -8.93476252e-10,\n",
       "         -1.80826114e-11,  -4.59301507e-10,  -2.94347155e-12,\n",
       "         -3.35726121e-10,  -1.06246646e-09,  -1.58763507e-09,\n",
       "         -1.60101982e-10,  -1.01443989e-09,  -4.80010112e-10,\n",
       "         -3.37416666e-11,  -3.79225593e-11,  -1.06356407e-10,\n",
       "         -4.30317919e-10,  -2.35812912e-10,  -1.07967303e-10,\n",
       "         -4.31603301e-10,  -2.54146049e-10,  -4.34229624e-11,\n",
       "         -1.60517142e-10,  -7.50400081e-12],\n",
       "       [ -6.03515302e-09,   1.82081891e-09,  -1.59642569e-05,\n",
       "         -3.18481775e-09,  -3.14929442e-08,   1.23683957e-08,\n",
       "         -7.49141881e-11,  -5.12090658e-08,  -6.71428448e-11,\n",
       "         -4.68000313e-11,   6.67154248e-11,  -1.05497061e-10,\n",
       "         -9.94233553e-11,  -1.19758047e-10,  -6.06465250e-11,\n",
       "          0.00000000e+00,  -3.61370359e-12,  -2.90291208e-12,\n",
       "         -1.50594165e-13,  -9.32288969e-14,  -2.76003465e-12,\n",
       "          5.00435071e-11,  -1.51301384e-11,  -4.86661417e-11,\n",
       "         -4.90807348e-11,  -2.74982477e-10,  -9.66923154e-12,\n",
       "         -1.74125170e-11,  -3.64942367e-12,  -1.44572001e-11,\n",
       "         -8.74069239e-12,  -3.04770951e-12,  -1.35669029e-11,\n",
       "         -8.96978797e-12,  -2.15409678e-12,  -2.81036907e-12,\n",
       "         -8.39371210e-12,  -5.85746674e-12,  -7.74936322e-15,\n",
       "         -3.79860476e-11,  -5.81379227e-11,  -2.02016737e-11,\n",
       "         -4.50009192e-11,  -5.60809456e-11,  -4.43089702e-11,\n",
       "          1.06459720e-12,  -3.41642743e-11,  -2.79025345e-11,\n",
       "         -2.20759062e-11,  -4.38518132e-11,  -5.06664683e-11,\n",
       "         -1.10319701e-12,   6.41705462e-12,   0.00000000e+00,\n",
       "         -6.93436271e-13,   0.00000000e+00,  -3.04770951e-12,\n",
       "         -2.89437749e-12,  -3.14292721e-13,  -1.17085385e-17,\n",
       "         -4.50939167e-13,  -3.42969418e-16,  -1.08149380e-14,\n",
       "         -4.04225688e-13,  -2.34706966e-12,  -2.20144446e-12,\n",
       "          0.00000000e+00,  -4.58966526e-12,  -1.81388317e-12,\n",
       "         -1.35407700e-12,   0.00000000e+00,  -2.50778563e-12,\n",
       "         -4.19391105e-12,   5.49328488e-12,  -1.18244919e-11,\n",
       "         -1.02985130e-11,  -6.98512507e-12,   3.95982072e-12,\n",
       "         -9.07616253e-12,  -2.07755297e-11,  -2.64081911e-11,\n",
       "         -2.00892172e-11,  -2.85431769e-11,  -3.51572663e-11,\n",
       "         -2.85518290e-11,  -2.63191311e-11,  -1.18089265e-12,\n",
       "         -2.34731270e-11,  -2.21069296e-11,  -2.17674415e-11,\n",
       "         -2.16305716e-11,  -3.15739275e-11,  -2.90293875e-11,\n",
       "         -3.14232923e-11,  -2.10416516e-11],\n",
       "       [ -1.81437337e-07,  -8.80454013e-08,  -7.07651756e-05,\n",
       "         -1.40435776e-08,  -1.28113665e-07,   2.76887546e-07,\n",
       "         -4.43525679e-10,  -1.80177842e-07,  -3.71487329e-10,\n",
       "         -5.27792857e-12,  -2.99751053e-11,  -3.55833109e-10,\n",
       "         -6.31745773e-10,  -2.44303506e-10,  -2.12973378e-10,\n",
       "          0.00000000e+00,  -6.64561352e-11,  -4.74821170e-15,\n",
       "          4.40046804e-17,  -2.05309812e-18,   1.23930098e-18,\n",
       "         -1.32008913e-10,  -2.76226209e-12,  -3.33242303e-10,\n",
       "         -4.11488930e-10,  -2.68497952e-10,  -1.65873757e-12,\n",
       "         -6.63964293e-11,  -3.79816485e-16,  -1.28255899e-10,\n",
       "         -7.30502506e-13,  -6.55112718e-11,  -1.66994340e-11,\n",
       "         -1.04353811e-11,  -1.88075566e-13,  -2.34933710e-17,\n",
       "         -3.65206715e-10,  -1.14973762e-10,   1.00165840e-19,\n",
       "         -2.86473681e-10,  -6.72576149e-10,  -7.11935111e-11,\n",
       "          1.78500905e-09,  -1.72232152e-10,  -3.77019760e-10,\n",
       "         -3.14219924e-10,  -3.02610719e-10,  -1.25893575e-10,\n",
       "         -2.94743213e-10,  -4.65981476e-10,  -6.20121863e-10,\n",
       "         -2.06036516e-17,  -4.20639116e-16,   0.00000000e+00,\n",
       "         -5.55311357e-16,   0.00000000e+00,  -6.55112718e-11,\n",
       "         -2.31288179e-11,   1.16730137e-17,   8.86791125e-18,\n",
       "         -2.04732555e-12,   6.92090412e-18,   1.09703272e-18,\n",
       "         -5.19541486e-18,  -1.81190731e-12,   1.31072646e-17,\n",
       "          0.00000000e+00,  -1.71360708e-11,  -6.90461194e-15,\n",
       "          2.65973542e-19,   0.00000000e+00,  -2.55316013e-15,\n",
       "         -1.26559963e-12,   1.31996465e-17,  -5.08763660e-10,\n",
       "         -1.84504454e-14,  -1.27930920e-10,  -3.48337648e-13,\n",
       "         -2.40110789e-10,  -1.40704414e-10,  -1.43831694e-11,\n",
       "         -2.35463271e-10,   1.26234635e-09,  -3.88917007e-10,\n",
       "         -1.13473591e-11,  -1.02919136e-10,  -1.45477222e-10,\n",
       "         -2.29097934e-10,  -1.69070893e-10,  -5.82190805e-11,\n",
       "         -2.27155247e-10,  -2.36257643e-10,  -1.24255876e-10,\n",
       "         -7.88295682e-11,  -3.02219476e-11],\n",
       "       [ -1.18595819e-08,  -5.72543240e-07,  -1.58503680e-05,\n",
       "         -4.05413082e-09,  -3.33015153e-08,  -9.76030545e-09,\n",
       "         -1.43070425e-10,  -3.99571269e-08,  -3.40577764e-10,\n",
       "         -2.96411300e-11,  -5.29696438e-11,  -1.70671474e-12,\n",
       "         -1.73392806e-10,  -3.82205854e-10,   4.69732418e-10,\n",
       "          0.00000000e+00,  -7.10480299e-11,   1.88108980e-17,\n",
       "         -6.10501409e-17,  -1.97578721e-18,   1.70895780e-18,\n",
       "         -1.11363116e-10,  -5.66553777e-11,  -2.37192456e-10,\n",
       "         -1.18909898e-10,  -5.48273850e-10,  -1.20477006e-16,\n",
       "          2.19401634e-10,  -1.22784073e-15,  -9.34009330e-11,\n",
       "         -8.00485209e-14,  -1.00874348e-11,  -4.24471657e-11,\n",
       "         -5.22706174e-11,   1.89265744e-10,  -2.96083444e-16,\n",
       "          1.14534465e-10,   1.65671129e-10,   2.17810136e-19,\n",
       "         -1.60568400e-10,  -5.72834620e-11,  -5.06228599e-11,\n",
       "         -1.11328236e-10,  -9.28079694e-11,  -2.63174325e-10,\n",
       "         -9.53605287e-11,   8.16731158e-11,   1.19204048e-11,\n",
       "          3.19531746e-10,  -2.51764810e-11,  -1.38612573e-10,\n",
       "          1.92536556e-10,  -4.28188908e-12,   0.00000000e+00,\n",
       "         -3.38886779e-12,   0.00000000e+00,  -1.00874348e-11,\n",
       "          2.06488149e-10,   1.08737718e-17,   8.39918364e-18,\n",
       "         -2.99399714e-13,   6.72068269e-18,   1.22227063e-18,\n",
       "         -5.76195918e-12,  -2.20223716e-16,   1.18405747e-17,\n",
       "          0.00000000e+00,  -4.07689780e-12,  -4.06142774e-13,\n",
       "          1.95732872e-19,   0.00000000e+00,  -3.86506765e-18,\n",
       "         -1.11265475e-16,   1.44299465e-17,   4.25391023e-11,\n",
       "         -1.12980552e-12,  -1.36525188e-11,  -2.11511614e-12,\n",
       "         -1.09855271e-10,  -1.40273990e-10,  -1.87401880e-11,\n",
       "         -3.77033869e-11,  -1.57867805e-10,  -1.25198840e-10,\n",
       "         -4.59237274e-11,  -4.02332576e-11,   2.24058303e-12,\n",
       "         -1.96461610e-11,  -1.80178542e-10,  -6.18083316e-11,\n",
       "          3.84663674e-11,  -1.26284393e-10,   1.09299551e-10,\n",
       "         -5.56485145e-11,  -8.81715583e-12],\n",
       "       [  1.86042648e-09,   1.13040667e-08,  -1.30226452e-05,\n",
       "         -2.06322827e-09,  -2.08208537e-08,  -6.51218441e-09,\n",
       "         -5.56472062e-11,  -3.48845488e-08,  -6.99307072e-11,\n",
       "          3.52513918e-11,   7.99209869e-11,  -8.65710773e-11,\n",
       "         -8.72435553e-11,  -9.97724525e-11,  -4.47266893e-11,\n",
       "          0.00000000e+00,  -3.59644420e-12,  -2.72624528e-12,\n",
       "         -1.64578160e-13,  -1.68613268e-13,   3.21005887e-11,\n",
       "          1.69775691e-11,  -1.00598948e-11,   2.03243249e-12,\n",
       "         -4.77846139e-11,  -2.14473772e-10,   1.59305460e-11,\n",
       "         -1.45861699e-11,  -6.28552068e-12,  -1.23151795e-11,\n",
       "         -7.68210390e-12,  -2.05148342e-12,  -1.18958733e-11,\n",
       "         -5.56430548e-12,  -3.46080265e-12,   1.39644654e-12,\n",
       "         -7.55675089e-12,  -4.39914627e-12,  -4.99504873e-14,\n",
       "         -3.06212383e-11,  -3.49360146e-11,  -2.93101733e-11,\n",
       "         -1.53826193e-11,  -5.10417783e-11,  -1.97307936e-11,\n",
       "         -9.04879400e-12,  -1.59877793e-11,  -1.91298591e-11,\n",
       "          1.19631127e-11,  -3.45946213e-11,  -3.19074255e-11,\n",
       "         -1.15943814e-12,  -9.49090593e-13,   0.00000000e+00,\n",
       "         -5.27503777e-13,   0.00000000e+00,  -2.05148342e-12,\n",
       "         -1.99923235e-12,  -4.53820730e-12,  -1.32167460e-13,\n",
       "          4.53262180e-12,   1.40213472e-13,  -4.43463980e-13,\n",
       "          3.25376531e-12,   1.65307899e-12,   1.51329512e-12,\n",
       "          0.00000000e+00,  -2.85361901e-12,   2.97939706e-12,\n",
       "         -2.46527324e-12,   0.00000000e+00,  -5.26748182e-12,\n",
       "         -5.26953704e-13,  -2.53863223e-12,  -1.05709944e-11,\n",
       "         -1.45297537e-11,  -1.59192177e-11,  -1.02784279e-11,\n",
       "         -2.78675957e-11,  -1.15918877e-11,  -1.62806354e-11,\n",
       "         -1.00347031e-11,  -7.03020725e-12,  -7.75935766e-12,\n",
       "         -1.22751374e-11,  -1.61470833e-11,  -1.75328167e-11,\n",
       "         -9.51453832e-12,  -5.16246482e-12,  -5.69943536e-12,\n",
       "         -3.56772730e-12,  -2.68189270e-11,  -1.15037407e-11,\n",
       "         -1.78958960e-11,  -1.03672613e-11],\n",
       "       [ -2.58170465e-09,  -5.00476804e-11,  -1.57737404e-06,\n",
       "         -3.04822312e-10,  -3.17193800e-09,   8.80728256e-09,\n",
       "         -1.86960363e-12,  -4.13374778e-09,   5.02625394e-12,\n",
       "         -4.25787916e-12,  -1.17499054e-11,  -2.94912537e-12,\n",
       "         -6.57380804e-12,  -1.59467901e-11,  -3.72767156e-12,\n",
       "          0.00000000e+00,  -1.75397494e-13,  -5.51580278e-13,\n",
       "         -3.52677916e-13,  -1.97401986e-13,  -1.98903748e-12,\n",
       "          2.21893092e-12,  -4.07013275e-13,  -8.25380399e-12,\n",
       "         -5.47783484e-12,  -2.07129375e-11,  -6.04860217e-13,\n",
       "          2.16720801e-17,  -1.69146102e-14,  -2.14283680e-12,\n",
       "         -9.40201584e-13,  -2.66472069e-13,  -7.63541166e-13,\n",
       "         -9.20864557e-13,  -3.72667430e-13,   7.01771990e-13,\n",
       "         -6.81774893e-13,  -6.82107813e-13,  -1.43839693e-13,\n",
       "         -3.20851268e-12,  -4.13931569e-12,  -1.03816978e-12,\n",
       "         -5.57136158e-12,  -4.24198486e-12,   4.93591150e-13,\n",
       "         -5.02252005e-12,  -4.28644233e-12,   1.29193160e-12,\n",
       "         -7.30322929e-12,  -3.99583747e-12,  -4.43413242e-12,\n",
       "         -2.35464105e-13,  -2.42017931e-13,   0.00000000e+00,\n",
       "         -2.35581692e-13,   0.00000000e+00,  -2.66472069e-13,\n",
       "         -2.64891063e-13,  -1.73295194e-13,  -8.57526315e-14,\n",
       "         -2.25265726e-13,  -1.64655353e-13,  -1.51246099e-13,\n",
       "         -3.17003626e-13,  -6.21687032e-13,  -4.73285492e-13,\n",
       "          0.00000000e+00,  -9.26039001e-13,  -3.84279163e-13,\n",
       "          3.12829906e-13,   0.00000000e+00,  -6.88738477e-14,\n",
       "         -2.78096435e-13,  -4.39707672e-13,  -7.37419110e-13,\n",
       "          1.11752123e-13,  -2.58163169e-12,  -2.81413682e-12,\n",
       "         -2.31528490e-12,  -3.07503930e-12,  -4.59086860e-13,\n",
       "         -7.57372832e-13,  -3.13324608e-12,  -4.08782094e-12,\n",
       "         -3.23212324e-12,  -1.58994954e-12,  -2.09503861e-12,\n",
       "         -1.93409013e-12,  -2.75677252e-12,   2.40123554e-13,\n",
       "          4.10830399e-13,   2.78985005e-13,  -1.52359556e-12,\n",
       "         -2.67452920e-12,  -1.48975290e-12],\n",
       "       [ -7.40822021e-09,  -8.28088863e-09,   4.80316744e-06,\n",
       "          2.72831301e-10,   2.71609389e-09,  -8.09845423e-09,\n",
       "          1.17287969e-11,   4.61375798e-09,   7.80478656e-12,\n",
       "         -2.65345959e-12,  -1.17381022e-11,   3.18809276e-12,\n",
       "          8.36938692e-12,   2.67625035e-11,   2.35306842e-12,\n",
       "          0.00000000e+00,   7.31401828e-13,   1.17730591e-12,\n",
       "          4.52834577e-13,   3.52398077e-13,  -1.63250352e-12,\n",
       "         -1.61811116e-11,   2.78737606e-13,   4.35141615e-12,\n",
       "          1.22835588e-11,   3.09117424e-11,  -2.36754648e-12,\n",
       "         -7.78561010e-13,   7.35182737e-13,   4.04750093e-12,\n",
       "          1.53599638e-12,  -4.62789461e-13,   2.14621042e-12,\n",
       "          1.06833754e-12,   7.42330017e-13,  -1.85879773e-12,\n",
       "          1.15132273e-12,   5.65550203e-13,   2.63640614e-13,\n",
       "          4.11365249e-12,   2.23507372e-12,   3.03956649e-12,\n",
       "          3.13284397e-12,   8.82686621e-12,   1.22763698e-12,\n",
       "          3.06493733e-12,   3.49887522e-12,   3.15337467e-13,\n",
       "         -1.76607911e-12,   3.74291941e-12,   5.36858665e-12,\n",
       "         -4.67389775e-13,  -5.12261388e-13,   0.00000000e+00,\n",
       "         -5.75345199e-13,   0.00000000e+00,  -4.62789461e-13,\n",
       "         -4.62251433e-13,  -5.63271073e-14,   6.56638069e-13,\n",
       "         -6.67299405e-13,  -2.03681137e-15,   5.94037840e-13,\n",
       "          2.68153523e-13,   6.88625514e-13,   1.51857435e-13,\n",
       "          0.00000000e+00,   1.21519897e-12,   1.11469883e-13,\n",
       "         -3.30151610e-13,   0.00000000e+00,   5.61712028e-13,\n",
       "          1.99320775e-13,   1.02196805e-14,   6.98125234e-13,\n",
       "          1.54771272e-12,   4.45908559e-12,   1.97645142e-12,\n",
       "          3.48830460e-12,   4.06264193e-12,   1.03986927e-12,\n",
       "          1.81753528e-12,   1.04452954e-12,   1.41630209e-12,\n",
       "          1.77319814e-12,   2.69776833e-12,   1.78980288e-12,\n",
       "          7.58091589e-13,   2.14686770e-12,  -2.84379137e-12,\n",
       "         -1.01518462e-12,   2.02420718e-12,   6.92068459e-13,\n",
       "          4.34379306e-12,   1.96145629e-12],\n",
       "       [ -5.66599973e-08,  -2.94603296e-07,  -1.53996305e-05,\n",
       "         -1.04432458e-08,  -1.02744223e-07,  -4.02483810e-06,\n",
       "         -1.96383796e-10,  -1.15732181e-07,   8.24689764e-11,\n",
       "         -1.60395018e-11,  -7.05240749e-11,   1.56058931e-10,\n",
       "         -3.36917635e-10,  -7.28184235e-10,  -4.76870912e-10,\n",
       "          0.00000000e+00,  -8.98881675e-11,   2.96763361e-17,\n",
       "         -4.90175866e-17,  -1.98380965e-18,   1.44702446e-18,\n",
       "          2.87473512e-10,  -3.96858205e-11,   1.42610235e-10,\n",
       "         -2.08675387e-10,  -8.85129823e-10,  -1.10111025e-14,\n",
       "         -2.46792530e-10,  -5.36205465e-14,  -1.41824291e-10,\n",
       "         -1.50367976e-12,  -8.57063615e-12,  -7.12133721e-11,\n",
       "         -5.15695405e-11,  -5.99033380e-12,  -1.66630091e-17,\n",
       "         -1.66118923e-10,  -8.28414047e-11,   1.46316740e-19,\n",
       "         -2.67273364e-10,   3.26883564e-10,  -5.45711774e-11,\n",
       "         -1.35441777e-10,  -1.26207331e-10,  -2.67625376e-10,\n",
       "         -1.66115300e-10,  -5.43662236e-11,  -1.86830404e-10,\n",
       "          2.58416690e-10,  -3.37709819e-10,  -4.69056122e-10,\n",
       "         -3.43676674e-12,  -2.06172950e-12,   0.00000000e+00,\n",
       "          3.62136810e-10,   0.00000000e+00,  -8.57063615e-12,\n",
       "         -2.59085164e-12,   1.13412174e-17,   8.67185196e-18,\n",
       "         -9.95286404e-13,   6.83315504e-18,   1.14719348e-18,\n",
       "         -6.43175288e-13,  -4.43791651e-16,   1.38551089e-17,\n",
       "          0.00000000e+00,  -1.82939604e-11,  -2.24426396e-12,\n",
       "          5.75422851e-19,   0.00000000e+00,   3.71054377e-17,\n",
       "         -7.88702145e-16,   1.41621249e-17,  -2.45579737e-10,\n",
       "         -3.61372378e-13,  -4.98297573e-11,  -3.82731326e-12,\n",
       "          1.80738907e-10,  -1.62315489e-10,  -9.87156553e-12,\n",
       "         -1.61307074e-11,  -2.41740932e-10,  -1.51875747e-10,\n",
       "          3.42976754e-10,  -1.91090940e-11,  -1.81485503e-10,\n",
       "         -2.26176940e-10,  -2.89131287e-10,  -1.11604901e-10,\n",
       "         -2.11762694e-10,  -1.91100302e-10,  -1.20777950e-10,\n",
       "         -8.54340867e-11,  -8.79592309e-12]])"
      ]
     },
     "execution_count": 224,
     "metadata": {},
     "output_type": "execute_result"
    }
   ],
   "source": [
    "logit_movie.coef_"
   ]
  },
  {
   "cell_type": "markdown",
   "metadata": {},
   "source": [
    "**Challenge 5.12**"
   ]
  },
  {
   "cell_type": "code",
   "execution_count": 263,
   "metadata": {
    "collapsed": true
   },
   "outputs": [],
   "source": [
    "bcs_df = pd.read_csv('https://archive.ics.uci.edu/ml/machine-learning-databases/haberman/haberman.data', header=None)"
   ]
  },
  {
   "cell_type": "code",
   "execution_count": 264,
   "metadata": {
    "collapsed": false
   },
   "outputs": [
    {
     "data": {
      "text/html": [
       "<div>\n",
       "<table border=\"1\" class=\"dataframe\">\n",
       "  <thead>\n",
       "    <tr style=\"text-align: right;\">\n",
       "      <th></th>\n",
       "      <th>0</th>\n",
       "      <th>1</th>\n",
       "      <th>2</th>\n",
       "      <th>3</th>\n",
       "    </tr>\n",
       "  </thead>\n",
       "  <tbody>\n",
       "    <tr>\n",
       "      <th>0</th>\n",
       "      <td>30</td>\n",
       "      <td>64</td>\n",
       "      <td>1</td>\n",
       "      <td>1</td>\n",
       "    </tr>\n",
       "    <tr>\n",
       "      <th>1</th>\n",
       "      <td>30</td>\n",
       "      <td>62</td>\n",
       "      <td>3</td>\n",
       "      <td>1</td>\n",
       "    </tr>\n",
       "    <tr>\n",
       "      <th>2</th>\n",
       "      <td>30</td>\n",
       "      <td>65</td>\n",
       "      <td>0</td>\n",
       "      <td>1</td>\n",
       "    </tr>\n",
       "    <tr>\n",
       "      <th>3</th>\n",
       "      <td>31</td>\n",
       "      <td>59</td>\n",
       "      <td>2</td>\n",
       "      <td>1</td>\n",
       "    </tr>\n",
       "    <tr>\n",
       "      <th>4</th>\n",
       "      <td>31</td>\n",
       "      <td>65</td>\n",
       "      <td>4</td>\n",
       "      <td>1</td>\n",
       "    </tr>\n",
       "  </tbody>\n",
       "</table>\n",
       "</div>"
      ],
      "text/plain": [
       "    0   1  2  3\n",
       "0  30  64  1  1\n",
       "1  30  62  3  1\n",
       "2  30  65  0  1\n",
       "3  31  59  2  1\n",
       "4  31  65  4  1"
      ]
     },
     "execution_count": 264,
     "metadata": {},
     "output_type": "execute_result"
    }
   ],
   "source": [
    "bcs_df.head()"
   ]
  },
  {
   "cell_type": "code",
   "execution_count": 265,
   "metadata": {
    "collapsed": false
   },
   "outputs": [
    {
     "data": {
      "text/plain": [
       "52.45751633986928"
      ]
     },
     "execution_count": 265,
     "metadata": {},
     "output_type": "execute_result"
    }
   ],
   "source": [
    "bcs_df[0].mean()"
   ]
  },
  {
   "cell_type": "code",
   "execution_count": 233,
   "metadata": {
    "collapsed": false
   },
   "outputs": [
    {
     "data": {
      "text/plain": [
       "10.80345234930328"
      ]
     },
     "execution_count": 233,
     "metadata": {},
     "output_type": "execute_result"
    }
   ],
   "source": [
    "bcs_df[0].std()"
   ]
  },
  {
   "cell_type": "code",
   "execution_count": 248,
   "metadata": {
    "collapsed": false
   },
   "outputs": [
    {
     "data": {
      "text/plain": [
       "52.01777777777778"
      ]
     },
     "execution_count": 248,
     "metadata": {},
     "output_type": "execute_result"
    }
   ],
   "source": [
    "bcs_df[bcs_df[3] == 1][0].mean()"
   ]
  },
  {
   "cell_type": "code",
   "execution_count": 249,
   "metadata": {
    "collapsed": false
   },
   "outputs": [
    {
     "data": {
      "text/plain": [
       "11.012154179929546"
      ]
     },
     "execution_count": 249,
     "metadata": {},
     "output_type": "execute_result"
    }
   ],
   "source": [
    "bcs_df[bcs_df[3] == 1][0].std()"
   ]
  },
  {
   "cell_type": "code",
   "execution_count": 250,
   "metadata": {
    "collapsed": false
   },
   "outputs": [
    {
     "data": {
      "text/plain": [
       "53.67901234567901"
      ]
     },
     "execution_count": 250,
     "metadata": {},
     "output_type": "execute_result"
    }
   ],
   "source": [
    "bcs_df[bcs_df[3] == 2][0].mean()"
   ]
  },
  {
   "cell_type": "code",
   "execution_count": 251,
   "metadata": {
    "collapsed": false
   },
   "outputs": [
    {
     "data": {
      "text/plain": [
       "10.16713720829741"
      ]
     },
     "execution_count": 251,
     "metadata": {},
     "output_type": "execute_result"
    }
   ],
   "source": [
    "bcs_df[bcs_df[3] == 2][0].std()"
   ]
  },
  {
   "cell_type": "code",
   "execution_count": 253,
   "metadata": {
    "collapsed": false
   },
   "outputs": [
    {
     "data": {
      "image/png": "[encoded data removed]",
      "text/plain": [
       "<matplotlib.figure.Figure at 0x11d5ad668>"
      ]
     },
     "metadata": {},
     "output_type": "display_data"
    }
   ],
   "source": [
    "plt.figure(figsize=(10, 4))\n",
    "\n",
    "plt.subplot(1, 2, 1)\n",
    "plt.hist(bcs_df[0])\n",
    "plt.xlabel('Age')\n",
    "plt.ylabel('Frequency')\n",
    "plt.title('Histogram of Age of Patient')\n",
    "\n",
    "plt.subplot(1, 2, 2)\n",
    "plt.hist(bcs_df[2])\n",
    "plt.xlabel('Number of Positive Auxiliary Nodes Detected')\n",
    "plt.ylabel('Frequency')\n",
    "plt.title('Histogram of Number of Positive Auxiliary Nodes');"
   ]
  },
  {
   "cell_type": "code",
   "execution_count": 255,
   "metadata": {
    "collapsed": false
   },
   "outputs": [
    {
     "data": {
      "text/plain": [
       "58"
      ]
     },
     "execution_count": 255,
     "metadata": {},
     "output_type": "execute_result"
    }
   ],
   "source": [
    "bcs_df[1].min()"
   ]
  },
  {
   "cell_type": "code",
   "execution_count": 256,
   "metadata": {
    "collapsed": false
   },
   "outputs": [
    {
     "data": {
      "text/plain": [
       "69"
      ]
     },
     "execution_count": 256,
     "metadata": {},
     "output_type": "execute_result"
    }
   ],
   "source": [
    "bcs_df[1].max()"
   ]
  },
  {
   "cell_type": "markdown",
   "metadata": {},
   "source": [
    "The earliest year of surgery is 1958. The most recent year is 1969."
   ]
  },
  {
   "cell_type": "code",
   "execution_count": 268,
   "metadata": {
    "collapsed": false
   },
   "outputs": [],
   "source": [
    "X_train, X_test, y_train, y_test = train_test_split(bcs_df.iloc[:,:3], bcs_df.iloc[:,3], test_size=0.3)"
   ]
  },
  {
   "cell_type": "code",
   "execution_count": 269,
   "metadata": {
    "collapsed": false
   },
   "outputs": [
    {
     "name": "stdout",
     "output_type": "stream",
     "text": [
      "0.673913043478\n"
     ]
    }
   ],
   "source": [
    "logit_survival = LogisticRegression().fit(X_train, y_train)\n",
    "y_pred_survival = logit_survival.predict(X_test)\n",
    "print(accuracy_score(y_test, y_pred_survival))"
   ]
  },
  {
   "cell_type": "markdown",
   "metadata": {},
   "source": [
    "The model performs alright, predicting 67.38% of survival statuses correctly. In the medical field, however, this result may not be sufficient."
   ]
  },
  {
   "cell_type": "code",
   "execution_count": 270,
   "metadata": {
    "collapsed": false
   },
   "outputs": [
    {
     "data": {
      "text/plain": [
       "array([[ 0.01619891, -0.03809211,  0.12405369]])"
      ]
     },
     "execution_count": 270,
     "metadata": {},
     "output_type": "execute_result"
    }
   ],
   "source": [
    "logit_survival.coef_"
   ]
  },
  {
   "cell_type": "markdown",
   "metadata": {},
   "source": [
    "As patients surviving for more than five years is actually the smaller number in our binary scale, a positive coefficient actually negatively affects a pacients odds at long term survival. Thus, the log odds of surviving for more than five years decreases as age and the number of auxillary nodes increases, and increases as the year of the operation becomes more recent."
   ]
  },
  {
   "cell_type": "code",
   "execution_count": 271,
   "metadata": {
    "collapsed": false
   },
   "outputs": [
    {
     "name": "stderr",
     "output_type": "stream",
     "text": [
      "/Users/travisjames/anaconda3/lib/python3.5/site-packages/sklearn/cross_validation.py:532: Warning: The least populated class in y has only 1 members, which is too few. The minimum number of labels for any class cannot be less than n_folds=5.\n",
      "  % (min_labels, self.n_folds)), Warning)\n"
     ]
    }
   ],
   "source": [
    "m, train_acc, test_acc = learning_curve(LogisticRegression(), X, y, cv=5)\n",
    "train_cv_acc = np.mean(train_acc, axis=1)\n",
    "test_cv_acc = np.mean(test_acc, axis=1)"
   ]
  },
  {
   "cell_type": "code",
   "execution_count": 272,
   "metadata": {
    "collapsed": false
   },
   "outputs": [
    {
     "data": {
      "image/png": "[encoded data removed]",
      "text/plain": [
       "<matplotlib.figure.Figure at 0x11d5d1c18>"
      ]
     },
     "metadata": {},
     "output_type": "display_data"
    }
   ],
   "source": [
    "plt.plot(m, train_cv_acc)\n",
    "plt.plot(m, test_cv_acc)\n",
    "plt.title('Logistic Regression Learning Curve')\n",
    "plt.xlabel('Number of Training Samples')\n",
    "plt.ylabel('Accuracy')\n",
    "plt.legend(['Train Set', 'Test Set'], loc = 'lower right');"
   ]
  }
 ],
 "metadata": {
  "anaconda-cloud": {},
  "kernelspec": {
   "display_name": "Python [Root]",
   "language": "python",
   "name": "Python [Root]"
  },
  "language_info": {
   "codemirror_mode": {
    "name": "ipython",
    "version": 3
   },
   "file_extension": ".py",
   "mimetype": "text/x-python",
   "name": "python",
   "nbconvert_exporter": "python",
   "pygments_lexer": "ipython3",
   "version": "3.5.2"
  }
 },
 "nbformat": 4,
 "nbformat_minor": 0
}
