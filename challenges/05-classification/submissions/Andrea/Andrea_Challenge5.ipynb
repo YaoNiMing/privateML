{
 "cells": [
  {
   "cell_type": "markdown",
   "metadata": {},
   "source": [
    "**DATA SETUP**  \n",
    "\n",
    "*Where applicable, use test_size=.30, random_state=4444. This will permit comparison of results across users.*  \n",
    "\n",
    "Exercises 1-10: congressional votes Congressional Voting Records Dataset. Download the congressional votes data. These are votes of U.S. House of Representatives Congressmen on 16 key issues in 1984. Read the description of the fields and download the data: house-votes-84.data. We will try to see if we can predict the house members' party based on their votes. We will also use some of the general machine learning tools we learned (a bit more efficiently this time).    "
   ]
  },
  {
   "cell_type": "code",
   "execution_count": 3,
   "metadata": {
    "collapsed": false
   },
   "outputs": [],
   "source": [
    "#Import necessary stuff to start\n",
    "import pandas as pd\n",
    "import numpy as np\n",
    "import matplotlib.pyplot as plt\n",
    "\n",
    "import matplotlib.dates as dte\n",
    "import matplotlib.pyplot as plt\n",
    "import seaborn as sns\n",
    "from seaborn import plt\n",
    "from sklearn.linear_model import LogisticRegression\n",
    "from sklearn.neighbors import KNeighborsClassifier\n",
    "from sklearn.metrics import accuracy_score\n",
    "from sklearn.learning_curve import learning_curve\n",
    "from sklearn.naive_bayes import GaussianNB\n",
    "from sklearn.svm import SVC\n",
    "from sklearn.tree import DecisionTreeClassifier\n",
    "from sklearn.ensemble import RandomForestClassifier\n",
    "from sklearn.model_selection import cross_val_score\n",
    "from sklearn.model_selection import train_test_split\n",
    "\n",
    "%matplotlib inline"
   ]
  },
  {
   "cell_type": "markdown",
   "metadata": {},
   "source": [
    "**Exercise 5.1**\n",
    "\n",
    "Load the data into a pandas dataframe. Replace 'y's with 1s, 'n's with 0s. Now, almost every representative has a ?. This represents the absence of a vote (they were absent or some other similar reason). If we dropped all the rows that had a ?, we would throw out most of our data. Instead, we will replace ? with the best guess in the Bayesian sense: in the absence of any other information, we will say that the probability of the representative saying YES is the ratio of others that said YES over the whole votes. So, convert each ? to this probability (when yes=1 and no=0, this is the mean of the column)."
   ]
  },
  {
   "cell_type": "code",
   "execution_count": 30,
   "metadata": {
    "collapsed": false
   },
   "outputs": [],
   "source": [
    "#Import the data \n",
    "congress = pd.read_csv('https://archive.ics.uci.edu/ml/machine-learning-databases/voting-records/house-votes-84.data', delimiter = \",\", names = ['party', 'handicapped-infants', 'water-project-cost-sharing', 'adoption-of-the-budget-resolution', 'physician-fee-freeze', 'el-salvador-aid', 'religious-groups-in-schools', 'anti-satellite-test-ban', 'aid-to-nicaraguan-contras', 'mx-missile', 'immigration', 'synfuels-corporation-cutback', 'education-spending', 'superfund-right-to-sue', 'crime', 'duty-free-exports', 'export-administration-act-south-africa'])"
   ]
  },
  {
   "cell_type": "code",
   "execution_count": 31,
   "metadata": {
    "collapsed": false
   },
   "outputs": [
    {
     "name": "stdout",
     "output_type": "stream",
     "text": [
      "<class 'pandas.core.frame.DataFrame'>\n",
      "RangeIndex: 435 entries, 0 to 434\n",
      "Data columns (total 17 columns):\n",
      "party                                     435 non-null object\n",
      "handicapped-infants                       435 non-null object\n",
      "water-project-cost-sharing                435 non-null object\n",
      "adoption-of-the-budget-resolution         435 non-null object\n",
      "physician-fee-freeze                      435 non-null object\n",
      "el-salvador-aid                           435 non-null object\n",
      "religious-groups-in-schools               435 non-null object\n",
      "anti-satellite-test-ban                   435 non-null object\n",
      "aid-to-nicaraguan-contras                 435 non-null object\n",
      "mx-missile                                435 non-null object\n",
      "immigration                               435 non-null object\n",
      "synfuels-corporation-cutback              435 non-null object\n",
      "education-spending                        435 non-null object\n",
      "superfund-right-to-sue                    435 non-null object\n",
      "crime                                     435 non-null object\n",
      "duty-free-exports                         435 non-null object\n",
      "export-administration-act-south-africa    435 non-null object\n",
      "dtypes: object(17)\n",
      "memory usage: 57.8+ KB\n"
     ]
    }
   ],
   "source": [
    "congress.info()"
   ]
  },
  {
   "cell_type": "code",
   "execution_count": 51,
   "metadata": {
    "collapsed": false
   },
   "outputs": [],
   "source": [
    "congress = congress.replace(to_replace='y', value=1)\n",
    "congress = congress.replace(to_replace='n', value=0)\n",
    "congress = congress.replace(to_replace='?', value=np.nan)"
   ]
  },
  {
   "cell_type": "code",
   "execution_count": 54,
   "metadata": {
    "collapsed": true
   },
   "outputs": [],
   "source": [
    "congress = congress.fillna(congress.mean())"
   ]
  },
  {
   "cell_type": "code",
   "execution_count": 58,
   "metadata": {
    "collapsed": false
   },
   "outputs": [
    {
     "data": {
      "text/html": [
       "<div>\n",
       "<table border=\"1\" class=\"dataframe\">\n",
       "  <thead>\n",
       "    <tr style=\"text-align: right;\">\n",
       "      <th></th>\n",
       "      <th>party</th>\n",
       "      <th>handicapped-infants</th>\n",
       "      <th>water-project-cost-sharing</th>\n",
       "      <th>adoption-of-the-budget-resolution</th>\n",
       "      <th>physician-fee-freeze</th>\n",
       "      <th>el-salvador-aid</th>\n",
       "      <th>religious-groups-in-schools</th>\n",
       "      <th>anti-satellite-test-ban</th>\n",
       "      <th>aid-to-nicaraguan-contras</th>\n",
       "      <th>mx-missile</th>\n",
       "      <th>immigration</th>\n",
       "      <th>synfuels-corporation-cutback</th>\n",
       "      <th>education-spending</th>\n",
       "      <th>superfund-right-to-sue</th>\n",
       "      <th>crime</th>\n",
       "      <th>duty-free-exports</th>\n",
       "      <th>export-administration-act-south-africa</th>\n",
       "    </tr>\n",
       "  </thead>\n",
       "  <tbody>\n",
       "    <tr>\n",
       "      <th>0</th>\n",
       "      <td>republican</td>\n",
       "      <td>0.00000</td>\n",
       "      <td>1.0</td>\n",
       "      <td>0.0</td>\n",
       "      <td>1.000000</td>\n",
       "      <td>1.000000</td>\n",
       "      <td>1.0</td>\n",
       "      <td>0.0</td>\n",
       "      <td>0.0</td>\n",
       "      <td>0.0</td>\n",
       "      <td>1.0</td>\n",
       "      <td>0.362319</td>\n",
       "      <td>1.000000</td>\n",
       "      <td>1.0</td>\n",
       "      <td>1.0</td>\n",
       "      <td>0.0</td>\n",
       "      <td>1.000000</td>\n",
       "    </tr>\n",
       "    <tr>\n",
       "      <th>1</th>\n",
       "      <td>republican</td>\n",
       "      <td>0.00000</td>\n",
       "      <td>1.0</td>\n",
       "      <td>0.0</td>\n",
       "      <td>1.000000</td>\n",
       "      <td>1.000000</td>\n",
       "      <td>1.0</td>\n",
       "      <td>0.0</td>\n",
       "      <td>0.0</td>\n",
       "      <td>0.0</td>\n",
       "      <td>0.0</td>\n",
       "      <td>0.000000</td>\n",
       "      <td>1.000000</td>\n",
       "      <td>1.0</td>\n",
       "      <td>1.0</td>\n",
       "      <td>0.0</td>\n",
       "      <td>0.812689</td>\n",
       "    </tr>\n",
       "    <tr>\n",
       "      <th>2</th>\n",
       "      <td>democrat</td>\n",
       "      <td>0.44208</td>\n",
       "      <td>1.0</td>\n",
       "      <td>1.0</td>\n",
       "      <td>0.417453</td>\n",
       "      <td>1.000000</td>\n",
       "      <td>1.0</td>\n",
       "      <td>0.0</td>\n",
       "      <td>0.0</td>\n",
       "      <td>0.0</td>\n",
       "      <td>0.0</td>\n",
       "      <td>1.000000</td>\n",
       "      <td>0.000000</td>\n",
       "      <td>1.0</td>\n",
       "      <td>1.0</td>\n",
       "      <td>0.0</td>\n",
       "      <td>0.000000</td>\n",
       "    </tr>\n",
       "    <tr>\n",
       "      <th>3</th>\n",
       "      <td>democrat</td>\n",
       "      <td>0.00000</td>\n",
       "      <td>1.0</td>\n",
       "      <td>1.0</td>\n",
       "      <td>0.000000</td>\n",
       "      <td>0.504762</td>\n",
       "      <td>1.0</td>\n",
       "      <td>0.0</td>\n",
       "      <td>0.0</td>\n",
       "      <td>0.0</td>\n",
       "      <td>0.0</td>\n",
       "      <td>1.000000</td>\n",
       "      <td>0.000000</td>\n",
       "      <td>1.0</td>\n",
       "      <td>0.0</td>\n",
       "      <td>0.0</td>\n",
       "      <td>1.000000</td>\n",
       "    </tr>\n",
       "    <tr>\n",
       "      <th>4</th>\n",
       "      <td>democrat</td>\n",
       "      <td>1.00000</td>\n",
       "      <td>1.0</td>\n",
       "      <td>1.0</td>\n",
       "      <td>0.000000</td>\n",
       "      <td>1.000000</td>\n",
       "      <td>1.0</td>\n",
       "      <td>0.0</td>\n",
       "      <td>0.0</td>\n",
       "      <td>0.0</td>\n",
       "      <td>0.0</td>\n",
       "      <td>1.000000</td>\n",
       "      <td>0.423267</td>\n",
       "      <td>1.0</td>\n",
       "      <td>1.0</td>\n",
       "      <td>1.0</td>\n",
       "      <td>1.000000</td>\n",
       "    </tr>\n",
       "  </tbody>\n",
       "</table>\n",
       "</div>"
      ],
      "text/plain": [
       "        party  handicapped-infants  water-project-cost-sharing  \\\n",
       "0  republican              0.00000                         1.0   \n",
       "1  republican              0.00000                         1.0   \n",
       "2    democrat              0.44208                         1.0   \n",
       "3    democrat              0.00000                         1.0   \n",
       "4    democrat              1.00000                         1.0   \n",
       "\n",
       "   adoption-of-the-budget-resolution  physician-fee-freeze  el-salvador-aid  \\\n",
       "0                                0.0              1.000000         1.000000   \n",
       "1                                0.0              1.000000         1.000000   \n",
       "2                                1.0              0.417453         1.000000   \n",
       "3                                1.0              0.000000         0.504762   \n",
       "4                                1.0              0.000000         1.000000   \n",
       "\n",
       "   religious-groups-in-schools  anti-satellite-test-ban  \\\n",
       "0                          1.0                      0.0   \n",
       "1                          1.0                      0.0   \n",
       "2                          1.0                      0.0   \n",
       "3                          1.0                      0.0   \n",
       "4                          1.0                      0.0   \n",
       "\n",
       "   aid-to-nicaraguan-contras  mx-missile  immigration  \\\n",
       "0                        0.0         0.0          1.0   \n",
       "1                        0.0         0.0          0.0   \n",
       "2                        0.0         0.0          0.0   \n",
       "3                        0.0         0.0          0.0   \n",
       "4                        0.0         0.0          0.0   \n",
       "\n",
       "   synfuels-corporation-cutback  education-spending  superfund-right-to-sue  \\\n",
       "0                      0.362319            1.000000                     1.0   \n",
       "1                      0.000000            1.000000                     1.0   \n",
       "2                      1.000000            0.000000                     1.0   \n",
       "3                      1.000000            0.000000                     1.0   \n",
       "4                      1.000000            0.423267                     1.0   \n",
       "\n",
       "   crime  duty-free-exports  export-administration-act-south-africa  \n",
       "0    1.0                0.0                                1.000000  \n",
       "1    1.0                0.0                                0.812689  \n",
       "2    1.0                0.0                                0.000000  \n",
       "3    0.0                0.0                                1.000000  \n",
       "4    1.0                1.0                                1.000000  "
      ]
     },
     "execution_count": 58,
     "metadata": {},
     "output_type": "execute_result"
    }
   ],
   "source": [
    "congress.head()"
   ]
  },
  {
   "cell_type": "markdown",
   "metadata": {},
   "source": [
    "**Exercise 5.2**\n",
    "\n",
    "Split the data into a test and training set."
   ]
  },
  {
   "cell_type": "code",
   "execution_count": 75,
   "metadata": {
    "collapsed": true
   },
   "outputs": [],
   "source": [
    "y = congress.iloc[:, 0]\n",
    "y = y.replace(to_replace='republican', value=1)\n",
    "y = y.replace(to_replace='democrat', value=0)\n",
    "X = congress.iloc[:, 1:]"
   ]
  },
  {
   "cell_type": "code",
   "execution_count": 76,
   "metadata": {
    "collapsed": true
   },
   "outputs": [],
   "source": [
    "X_train, X_test, y_train, y_test = train_test_split(X, y, test_size=0.3, random_state=4444)"
   ]
  },
  {
   "cell_type": "code",
   "execution_count": 78,
   "metadata": {
    "collapsed": false
   },
   "outputs": [
    {
     "name": "stdout",
     "output_type": "stream",
     "text": [
      "<class 'pandas.core.frame.DataFrame'>\n",
      "Int64Index: 304 entries, 243 to 41\n",
      "Data columns (total 16 columns):\n",
      "handicapped-infants                       304 non-null float64\n",
      "water-project-cost-sharing                304 non-null float64\n",
      "adoption-of-the-budget-resolution         304 non-null float64\n",
      "physician-fee-freeze                      304 non-null float64\n",
      "el-salvador-aid                           304 non-null float64\n",
      "religious-groups-in-schools               304 non-null float64\n",
      "anti-satellite-test-ban                   304 non-null float64\n",
      "aid-to-nicaraguan-contras                 304 non-null float64\n",
      "mx-missile                                304 non-null float64\n",
      "immigration                               304 non-null float64\n",
      "synfuels-corporation-cutback              304 non-null float64\n",
      "education-spending                        304 non-null float64\n",
      "superfund-right-to-sue                    304 non-null float64\n",
      "crime                                     304 non-null float64\n",
      "duty-free-exports                         304 non-null float64\n",
      "export-administration-act-south-africa    304 non-null float64\n",
      "dtypes: float64(16)\n",
      "memory usage: 40.4 KB\n"
     ]
    }
   ],
   "source": [
    "X_train.info()"
   ]
  },
  {
   "cell_type": "markdown",
   "metadata": {},
   "source": [
    "**Exercise 5.3**\n",
    "\n",
    "Using scikit.learn's KNN algorithm, train a model that predicts the party (republican/democrat): from sklearn.neighbors import KNeighborsClassifier. Try it with a lot of different k values (number of neighbors), from 1 to 20, and on the test set calculate the accuracy (number of correct predictions / number of all predictions) for each k. You can use this to calculate accuracy: from sklearn.metrics import accuracy_score. Which k value gives the highest accuracy?\n",
    "\n",
    "> **I find that three Ks give the same accuracy score of .931298: K = 6, 9, and 10**"
   ]
  },
  {
   "cell_type": "code",
   "execution_count": 130,
   "metadata": {
    "collapsed": false
   },
   "outputs": [],
   "source": [
    "neighbors = range(1, 21)\n",
    "accuracy = []\n",
    "for k in neighbors:\n",
    "    knn = KNeighborsClassifier(n_neighbors=k)\n",
    "    knn.fit(X_train, y_train)\n",
    "    ypred_knn = knn.predict(X_test)\n",
    "    accuracy.append(accuracy_score(y_test, ypred_knn))"
   ]
  },
  {
   "cell_type": "code",
   "execution_count": 131,
   "metadata": {
    "collapsed": false
   },
   "outputs": [
    {
     "data": {
      "text/html": [
       "<div>\n",
       "<table border=\"1\" class=\"dataframe\">\n",
       "  <thead>\n",
       "    <tr style=\"text-align: right;\">\n",
       "      <th></th>\n",
       "      <th>0</th>\n",
       "      <th>1</th>\n",
       "    </tr>\n",
       "  </thead>\n",
       "  <tbody>\n",
       "    <tr>\n",
       "      <th>5</th>\n",
       "      <td>6</td>\n",
       "      <td>0.931298</td>\n",
       "    </tr>\n",
       "    <tr>\n",
       "      <th>8</th>\n",
       "      <td>9</td>\n",
       "      <td>0.931298</td>\n",
       "    </tr>\n",
       "    <tr>\n",
       "      <th>9</th>\n",
       "      <td>10</td>\n",
       "      <td>0.931298</td>\n",
       "    </tr>\n",
       "    <tr>\n",
       "      <th>10</th>\n",
       "      <td>11</td>\n",
       "      <td>0.923664</td>\n",
       "    </tr>\n",
       "    <tr>\n",
       "      <th>13</th>\n",
       "      <td>14</td>\n",
       "      <td>0.923664</td>\n",
       "    </tr>\n",
       "    <tr>\n",
       "      <th>16</th>\n",
       "      <td>17</td>\n",
       "      <td>0.923664</td>\n",
       "    </tr>\n",
       "    <tr>\n",
       "      <th>15</th>\n",
       "      <td>16</td>\n",
       "      <td>0.923664</td>\n",
       "    </tr>\n",
       "    <tr>\n",
       "      <th>7</th>\n",
       "      <td>8</td>\n",
       "      <td>0.923664</td>\n",
       "    </tr>\n",
       "    <tr>\n",
       "      <th>14</th>\n",
       "      <td>15</td>\n",
       "      <td>0.923664</td>\n",
       "    </tr>\n",
       "    <tr>\n",
       "      <th>11</th>\n",
       "      <td>12</td>\n",
       "      <td>0.923664</td>\n",
       "    </tr>\n",
       "    <tr>\n",
       "      <th>12</th>\n",
       "      <td>13</td>\n",
       "      <td>0.923664</td>\n",
       "    </tr>\n",
       "    <tr>\n",
       "      <th>18</th>\n",
       "      <td>19</td>\n",
       "      <td>0.916031</td>\n",
       "    </tr>\n",
       "    <tr>\n",
       "      <th>17</th>\n",
       "      <td>18</td>\n",
       "      <td>0.916031</td>\n",
       "    </tr>\n",
       "    <tr>\n",
       "      <th>19</th>\n",
       "      <td>20</td>\n",
       "      <td>0.916031</td>\n",
       "    </tr>\n",
       "    <tr>\n",
       "      <th>6</th>\n",
       "      <td>7</td>\n",
       "      <td>0.916031</td>\n",
       "    </tr>\n",
       "    <tr>\n",
       "      <th>4</th>\n",
       "      <td>5</td>\n",
       "      <td>0.916031</td>\n",
       "    </tr>\n",
       "    <tr>\n",
       "      <th>3</th>\n",
       "      <td>4</td>\n",
       "      <td>0.900763</td>\n",
       "    </tr>\n",
       "    <tr>\n",
       "      <th>2</th>\n",
       "      <td>3</td>\n",
       "      <td>0.900763</td>\n",
       "    </tr>\n",
       "    <tr>\n",
       "      <th>0</th>\n",
       "      <td>1</td>\n",
       "      <td>0.900763</td>\n",
       "    </tr>\n",
       "    <tr>\n",
       "      <th>1</th>\n",
       "      <td>2</td>\n",
       "      <td>0.893130</td>\n",
       "    </tr>\n",
       "  </tbody>\n",
       "</table>\n",
       "</div>"
      ],
      "text/plain": [
       "     0         1\n",
       "5    6  0.931298\n",
       "8    9  0.931298\n",
       "9   10  0.931298\n",
       "10  11  0.923664\n",
       "13  14  0.923664\n",
       "16  17  0.923664\n",
       "15  16  0.923664\n",
       "7    8  0.923664\n",
       "14  15  0.923664\n",
       "11  12  0.923664\n",
       "12  13  0.923664\n",
       "18  19  0.916031\n",
       "17  18  0.916031\n",
       "19  20  0.916031\n",
       "6    7  0.916031\n",
       "4    5  0.916031\n",
       "3    4  0.900763\n",
       "2    3  0.900763\n",
       "0    1  0.900763\n",
       "1    2  0.893130"
      ]
     },
     "execution_count": 131,
     "metadata": {},
     "output_type": "execute_result"
    }
   ],
   "source": [
    "knn_acc = pd.DataFrame(zip(neighbors, accuracy))\n",
    "knn_acc.sort_values(1, ascending=False)"
   ]
  },
  {
   "cell_type": "markdown",
   "metadata": {},
   "source": [
    "**Exercise 5.4**\n",
    "\n",
    "Make a similar model but with LogisticRegression instead, calculate test accuracy.\n",
    "> **It looks like this is slightly better than even the best KNN classifier**"
   ]
  },
  {
   "cell_type": "code",
   "execution_count": 169,
   "metadata": {
    "collapsed": false
   },
   "outputs": [
    {
     "name": "stdout",
     "output_type": "stream",
     "text": [
      "0.93893129771\n"
     ]
    }
   ],
   "source": [
    "logit = LogisticRegression()\n",
    "logit.fit(X_train, y_train)\n",
    "ypred_logit = logit.predict(X_test)\n",
    "\n",
    "logit_acc = accuracy_score(y_test, ypred_logit)\n",
    "print logit_acc"
   ]
  },
  {
   "cell_type": "code",
   "execution_count": 240,
   "metadata": {
    "collapsed": false
   },
   "outputs": [
    {
     "data": {
      "text/html": [
       "<div>\n",
       "<table border=\"1\" class=\"dataframe\">\n",
       "  <thead>\n",
       "    <tr style=\"text-align: right;\">\n",
       "      <th></th>\n",
       "      <th>355</th>\n",
       "      <th>388</th>\n",
       "      <th>161</th>\n",
       "      <th>107</th>\n",
       "      <th>176</th>\n",
       "      <th>364</th>\n",
       "      <th>71</th>\n",
       "      <th>393</th>\n",
       "    </tr>\n",
       "  </thead>\n",
       "  <tbody>\n",
       "    <tr>\n",
       "      <th>party</th>\n",
       "      <td>True</td>\n",
       "      <td>True</td>\n",
       "      <td>True</td>\n",
       "      <td>True</td>\n",
       "      <td>True</td>\n",
       "      <td>True</td>\n",
       "      <td>True</td>\n",
       "      <td>True</td>\n",
       "    </tr>\n",
       "  </tbody>\n",
       "</table>\n",
       "</div>"
      ],
      "text/plain": [
       "        355   388   161   107   176   364   71    393\n",
       "party  True  True  True  True  True  True  True  True"
      ]
     },
     "execution_count": 240,
     "metadata": {},
     "output_type": "execute_result"
    }
   ],
   "source": [
    "#Here I want to check which ones it's getting wrong because some of the other classifiers return the exact same result.\n",
    "#So, do they get the same ones wrong?\n",
    "wrong_lo = pd.DataFrame([y_test != ypred_logit])\n",
    "wrong_lo = wrong_lo.loc[:, (wrong_lo != False).any(axis=0)]\n",
    "wrong_lo"
   ]
  },
  {
   "cell_type": "markdown",
   "metadata": {},
   "source": [
    "**Exercise 5.5**\n",
    "\n",
    "Make a bar graph of democrats and republicans. How many of each are there? Make a very simple predictor that predicts 'democrat' for every incoming example. Just make a function that takes in an X --an array or matrix with input examples--, and returns an array of the same length as X, where each value is 'democrat'. For example, if X is three rows, your function should return ['democrat','democrat','democrat']. Make a y_predicted vector using this and measure its accuracy. Do the same with predicting 'republican' all the time and measure its accuracy.\n",
    "\n",
    "> **There are 168 Republicans and 267 Democrats**"
   ]
  },
  {
   "cell_type": "code",
   "execution_count": 102,
   "metadata": {
    "collapsed": false
   },
   "outputs": [
    {
     "data": {
      "image/png": "[encoded data removed]",
      "text/plain": [
       "<matplotlib.figure.Figure at 0x118d15410>"
      ]
     },
     "metadata": {},
     "output_type": "display_data"
    }
   ],
   "source": [
    "#First make the bar graph\n",
    "party = [1, 0]\n",
    "labels = ['Republicans', 'Democrats']\n",
    "members = [(y==1).sum(), (y==0).sum()]\n",
    "plt.bar(party, members, align='center')\n",
    "plt.xticks(party, labels)\n",
    "plt.show();"
   ]
  },
  {
   "cell_type": "code",
   "execution_count": 121,
   "metadata": {
    "collapsed": false
   },
   "outputs": [],
   "source": [
    "#Now make predictor functions: Since I have to convert everything to 0s and 1s to make predictions anyway, \n",
    "# I am going to just generate 0s and 1s here for greater efficiency\n",
    "\n",
    "def predict_dem(X):\n",
    "    dems = []\n",
    "    i=1\n",
    "    while i <= len(X):\n",
    "        dems.append(0)\n",
    "        i+=1\n",
    "    return np.asarray(dems)\n",
    "\n",
    "def predict_repub(X):\n",
    "    repubs = []\n",
    "    i=1\n",
    "    while i <= len(X):\n",
    "        repubs.append(1)\n",
    "        i+=1\n",
    "    return np.asarray(repubs)"
   ]
  },
  {
   "cell_type": "code",
   "execution_count": 126,
   "metadata": {
    "collapsed": false
   },
   "outputs": [
    {
     "name": "stdout",
     "output_type": "stream",
     "text": [
      "0.587786259542\n",
      "0.412213740458\n"
     ]
    }
   ],
   "source": [
    "ypred_dems = predict_dem(X_test)\n",
    "ypred_repubs = predict_repub(X_test)\n",
    "\n",
    "dems_acc = accuracy_score(y_test, ypred_dems)\n",
    "repubs_acc = accuracy_score(y_test, ypred_repubs)\n",
    "\n",
    "print dems_acc\n",
    "print repubs_acc"
   ]
  },
  {
   "cell_type": "markdown",
   "metadata": {},
   "source": [
    "**Exercise 5.6**\n",
    "\n",
    "Plot the accuracies as a function of k. Since k only matters for KNN, your logistic regression accuracy, 'democrat' predictor accuracy and 'republican' predictor accuracy will stay the same over all k, so each of these three will be a horizontal line. But the KNN accuracy will change with k."
   ]
  },
  {
   "cell_type": "code",
   "execution_count": 138,
   "metadata": {
    "collapsed": false
   },
   "outputs": [
    {
     "data": {
      "text/plain": [
       "0.93893129770992367"
      ]
     },
     "execution_count": 138,
     "metadata": {},
     "output_type": "execute_result"
    }
   ],
   "source": [
    "logit_acc"
   ]
  },
  {
   "cell_type": "code",
   "execution_count": 157,
   "metadata": {
    "collapsed": false
   },
   "outputs": [
    {
     "data": {
      "image/png": "[encoded data removed]",
      "text/plain": [
       "<matplotlib.figure.Figure at 0x11b8edad0>"
      ]
     },
     "metadata": {},
     "output_type": "display_data"
    }
   ],
   "source": [
    "#First create arrays of length 20 for the ones that don't vary\n",
    "def list20(accuracy_score):\n",
    "    i = 1\n",
    "    list = []\n",
    "    while i <=20:\n",
    "        list.append(accuracy_score)\n",
    "        i += 1\n",
    "    return list    \n",
    "    \n",
    "#Now plot the results\n",
    "plt.figure(figsize = (8,6))\n",
    "plt.plot(knn_acc[0], knn_acc[1], label = 'KNN')\n",
    "plt.plot(knn_acc[0], list20(logit_acc), label = 'Logit')\n",
    "plt.plot(knn_acc[0], list20(dems_acc), label = 'Predict Dem')\n",
    "plt.plot(knn_acc[0], list20(repubs_acc), label = 'Predict Repub')\n",
    "plt.ylabel(\"Accuracy\")\n",
    "plt.xlabel(\"K\")\n",
    "plt.xlim((1.0, 20.0))\n",
    "plt.ylim((.4, .95))\n",
    "plt.legend(loc='lower right')\n",
    "plt.xticks(np.arange(1, 21, 1.0));\n",
    "plt.yticks(np.arange(.4, .96, .05));"
   ]
  },
  {
   "cell_type": "markdown",
   "metadata": {},
   "source": [
    "**Exercise 5.7**\n",
    "\n",
    "Plot a learning curve for the logistic regression model. But instead of going through the painstaking steps of doing it yourself, use this function: from sklearn.learning_curve import learning_curve\n",
    "\n",
    "This will give you the m, training errors and testing errors. All you need to do is plot them. You don't even need to give it separate training/test sets. It will do crossvalidation all by itself. Easy, isn't it? : ) Remember, since it does cross-validation, it doesn't have a single training error or test error per m value. Instead, it has one for each fold (separate partition) of the cross validation. A good idea is to take the mean of these errors from different folds. This gives you a meaningful single number per m. What I mean is that doing something like:  \n",
    "\n",
    "train_cv_err = np.mean(train_err, axis=1)  \n",
    "test_cv_err = np.mean(ts_err, axis=1)  \n",
    "\n",
    "Before plotting m vs train_cv_err and m vs test_cv_err, where train_err and test_err are the vectors returned by the learning curve function. The np.mean(...., axis=1) means take the mean along axis 1 (axis 1 is the columns axis-- for each row, you have a bunch of columns, each corresponding to a cross validation fold, you are averaging these columns for each row). Draw the learning curve for KNN with the best k value as well."
   ]
  },
  {
   "cell_type": "code",
   "execution_count": 167,
   "metadata": {
    "collapsed": false
   },
   "outputs": [
    {
     "data": {
      "image/png": "[encoded data removed]",
      "text/plain": [
       "<matplotlib.figure.Figure at 0x11c8490d0>"
      ]
     },
     "metadata": {},
     "output_type": "display_data"
    }
   ],
   "source": [
    "#Logistic learning curve\n",
    "train_sizes, train_scores, test_scores = learning_curve(LogisticRegression(), X, y)\n",
    "\n",
    "train_cv_err = np.mean(train_scores, axis = 1)\n",
    "test_cv_err = np.mean(test_scores, axis = 1)\n",
    "\n",
    "\n",
    "plt.figure(figsize = (8,6))\n",
    "plt.plot(train_sizes, train_cv_err, label = 'Training Score')\n",
    "plt.plot(train_sizes, test_cv_err, label = 'Test Score')\n",
    "plt.legend(loc='best')\n",
    "plt.xlabel(\"Training examples\")\n",
    "plt.ylabel(\"Score\")\n",
    "plt.title(\"Learning Curve: Logistic Regression\");"
   ]
  },
  {
   "cell_type": "code",
   "execution_count": 168,
   "metadata": {
    "collapsed": false
   },
   "outputs": [
    {
     "data": {
      "image/png": "[encoded data removed]",
      "text/plain": [
       "<matplotlib.figure.Figure at 0x11ba10d50>"
      ]
     },
     "metadata": {},
     "output_type": "display_data"
    }
   ],
   "source": [
    "#KNN learning curve (I use 6 neighbors even though 6, 9, and 10 were all alike)\n",
    "train_sizes, train_scores, test_scores = learning_curve(KNeighborsClassifier(n_neighbors=6), X, y)\n",
    "\n",
    "train_cv_err = np.mean(train_scores, axis = 1)\n",
    "test_cv_err = np.mean(test_scores, axis = 1)\n",
    "\n",
    "\n",
    "plt.figure(figsize = (8,6))\n",
    "plt.plot(train_sizes, train_cv_err, label = 'Training Score')\n",
    "plt.plot(train_sizes, test_cv_err, label = 'Test Score')\n",
    "plt.legend(loc='best')\n",
    "plt.xlabel(\"Training examples\")\n",
    "plt.ylabel(\"Score\")\n",
    "plt.title(\"Learning Curve: KNN Classifier\");"
   ]
  },
  {
   "cell_type": "markdown",
   "metadata": {},
   "source": [
    "**Exercise 5.8**\n",
    "\n",
    "This is a preview of many other classification algorithms that we will go over. Scikit.learn has the same interface for all of these, so you can use them exactly the same way as you did LogisticRegression and KNeighborsClassifier. Use each of these to classify your data and print the test accuracy of each:  \n",
    "\n",
    "*Gaussian Naive Bayes*  \n",
    "\n",
    "from sklearn.naive_bayes import GaussianNB  \n",
    "\n",
    "*SVM (Support Vector Machine) Classifier*  \n",
    "\n",
    "from sklearn.svm import SVC  \n",
    "\n",
    "*Decision Tree*  \n",
    "\n",
    "from sklearn.tree import DecisionTreeClassifier  \n",
    "\n",
    "*Random Forest*  \n",
    "\n",
    "from sklearn.ensemble import RandomForestClassifier  "
   ]
  },
  {
   "cell_type": "code",
   "execution_count": 188,
   "metadata": {
    "collapsed": false
   },
   "outputs": [
    {
     "name": "stdout",
     "output_type": "stream",
     "text": [
      "0.93893129771\n"
     ]
    }
   ],
   "source": [
    "#Gaussian Naive Bayes\n",
    "nb = GaussianNB()\n",
    "nbfit = nb.fit(X_train, y_train)\n",
    "ypred_nb = nb.predict(X_test)\n",
    "\n",
    "nb_acc = accuracy_score(y_test, ypred_nb)\n",
    "print nb_acc\n",
    "\n",
    "#This returns the EXACT same figure as the logistic regression: 0.93893129771\n",
    "#This raises the question: are they getting the same ones wrong?"
   ]
  },
  {
   "cell_type": "code",
   "execution_count": 238,
   "metadata": {
    "collapsed": false
   },
   "outputs": [
    {
     "data": {
      "text/html": [
       "<div>\n",
       "<table border=\"1\" class=\"dataframe\">\n",
       "  <thead>\n",
       "    <tr style=\"text-align: right;\">\n",
       "      <th></th>\n",
       "      <th>355</th>\n",
       "      <th>388</th>\n",
       "      <th>107</th>\n",
       "      <th>176</th>\n",
       "      <th>363</th>\n",
       "      <th>281</th>\n",
       "      <th>71</th>\n",
       "      <th>393</th>\n",
       "    </tr>\n",
       "  </thead>\n",
       "  <tbody>\n",
       "    <tr>\n",
       "      <th>party</th>\n",
       "      <td>True</td>\n",
       "      <td>True</td>\n",
       "      <td>True</td>\n",
       "      <td>True</td>\n",
       "      <td>True</td>\n",
       "      <td>True</td>\n",
       "      <td>True</td>\n",
       "      <td>True</td>\n",
       "    </tr>\n",
       "  </tbody>\n",
       "</table>\n",
       "</div>"
      ],
      "text/plain": [
       "        355   388   107   176   363   281   71    393\n",
       "party  True  True  True  True  True  True  True  True"
      ]
     },
     "execution_count": 238,
     "metadata": {},
     "output_type": "execute_result"
    }
   ],
   "source": [
    "wrong_nb = pd.DataFrame([y_test != ypred_nb])\n",
    "wrong_nb = wrong_nb.loc[:, (wrong_nb != False).any(axis=0)]\n",
    "wrong_nb"
   ]
  },
  {
   "cell_type": "code",
   "execution_count": 187,
   "metadata": {
    "collapsed": false
   },
   "outputs": [
    {
     "name": "stdout",
     "output_type": "stream",
     "text": [
      "0.954198473282\n"
     ]
    }
   ],
   "source": [
    "#Support Vector Machine\n",
    "\n",
    "svc = SVC()\n",
    "svcfit = svc.fit(X_train, y_train)\n",
    "ypred_svc = svc.predict(X_test)\n",
    "\n",
    "svc_acc = accuracy_score(y_test, ypred_svc)\n",
    "print svc_acc"
   ]
  },
  {
   "cell_type": "code",
   "execution_count": 186,
   "metadata": {
    "collapsed": false
   },
   "outputs": [
    {
     "name": "stdout",
     "output_type": "stream",
     "text": [
      "0.93893129771\n"
     ]
    }
   ],
   "source": [
    "#Decision Tree\n",
    "\n",
    "dt = DecisionTreeClassifier()\n",
    "dtfit = dt.fit(X_train, y_train)\n",
    "ypred_dt = dt.predict(X_test)\n",
    "\n",
    "dt_acc = accuracy_score(y_test, ypred_dt)\n",
    "print dt_acc\n",
    "\n",
    "#This ALSO returns the EXACT same figure as the logistic regression: 0.93893129771\n",
    "#Again check if they are getting the same ones wrong?"
   ]
  },
  {
   "cell_type": "code",
   "execution_count": 241,
   "metadata": {
    "collapsed": false
   },
   "outputs": [
    {
     "data": {
      "text/html": [
       "<div>\n",
       "<table border=\"1\" class=\"dataframe\">\n",
       "  <thead>\n",
       "    <tr style=\"text-align: right;\">\n",
       "      <th></th>\n",
       "      <th>388</th>\n",
       "      <th>363</th>\n",
       "      <th>364</th>\n",
       "      <th>71</th>\n",
       "      <th>276</th>\n",
       "      <th>393</th>\n",
       "      <th>103</th>\n",
       "      <th>410</th>\n",
       "    </tr>\n",
       "  </thead>\n",
       "  <tbody>\n",
       "    <tr>\n",
       "      <th>party</th>\n",
       "      <td>True</td>\n",
       "      <td>True</td>\n",
       "      <td>True</td>\n",
       "      <td>True</td>\n",
       "      <td>True</td>\n",
       "      <td>True</td>\n",
       "      <td>True</td>\n",
       "      <td>True</td>\n",
       "    </tr>\n",
       "  </tbody>\n",
       "</table>\n",
       "</div>"
      ],
      "text/plain": [
       "        388   363   364   71    276   393   103   410\n",
       "party  True  True  True  True  True  True  True  True"
      ]
     },
     "execution_count": 241,
     "metadata": {},
     "output_type": "execute_result"
    }
   ],
   "source": [
    "wrong_dt = pd.DataFrame([y_test != ypred_dt])\n",
    "wrong_dt = wrong_dt.loc[:, (wrong_dt != False).any(axis=0)]\n",
    "wrong_dt"
   ]
  },
  {
   "cell_type": "code",
   "execution_count": 185,
   "metadata": {
    "collapsed": false
   },
   "outputs": [
    {
     "name": "stdout",
     "output_type": "stream",
     "text": [
      "0.93893129771\n"
     ]
    }
   ],
   "source": [
    "#Random Forest\n",
    "\n",
    "rf = RandomForestClassifier()\n",
    "rffit = rf.fit(X_train, y_train)\n",
    "ypred_rf = rf.predict(X_test)\n",
    "\n",
    "rf_acc = accuracy_score(y_test, ypred_rf)\n",
    "print rf_acc\n",
    "\n",
    "#This ALSO returns the EXACT same figure as the NB and DT and logistic regression: 0.93893129771\n",
    "#Again check if they are getting the same ones wrong?"
   ]
  },
  {
   "cell_type": "code",
   "execution_count": 242,
   "metadata": {
    "collapsed": false
   },
   "outputs": [
    {
     "data": {
      "text/html": [
       "<div>\n",
       "<table border=\"1\" class=\"dataframe\">\n",
       "  <thead>\n",
       "    <tr style=\"text-align: right;\">\n",
       "      <th></th>\n",
       "      <th>355</th>\n",
       "      <th>161</th>\n",
       "      <th>363</th>\n",
       "      <th>364</th>\n",
       "      <th>281</th>\n",
       "      <th>71</th>\n",
       "      <th>393</th>\n",
       "      <th>392</th>\n",
       "    </tr>\n",
       "  </thead>\n",
       "  <tbody>\n",
       "    <tr>\n",
       "      <th>party</th>\n",
       "      <td>True</td>\n",
       "      <td>True</td>\n",
       "      <td>True</td>\n",
       "      <td>True</td>\n",
       "      <td>True</td>\n",
       "      <td>True</td>\n",
       "      <td>True</td>\n",
       "      <td>True</td>\n",
       "    </tr>\n",
       "  </tbody>\n",
       "</table>\n",
       "</div>"
      ],
      "text/plain": [
       "        355   161   363   364   281   71    393   392\n",
       "party  True  True  True  True  True  True  True  True"
      ]
     },
     "execution_count": 242,
     "metadata": {},
     "output_type": "execute_result"
    }
   ],
   "source": [
    "wrong_rf = pd.DataFrame([y_test != ypred_rf])\n",
    "wrong_rf = wrong_rf.loc[:, (wrong_rf != False).any(axis=0)]\n",
    "wrong_rf"
   ]
  },
  {
   "cell_type": "code",
   "execution_count": 243,
   "metadata": {
    "collapsed": false
   },
   "outputs": [
    {
     "name": "stdout",
     "output_type": "stream",
     "text": [
      "        355   388   161   107   176   364   71    393\n",
      "party  True  True  True  True  True  True  True  True\n",
      "        355   388   107   176   363   281   71    393\n",
      "party  True  True  True  True  True  True  True  True\n",
      "        388   363   364   71    276   393   103   410\n",
      "party  True  True  True  True  True  True  True  True\n",
      "        355   161   363   364   281   71    393   392\n",
      "party  True  True  True  True  True  True  True  True\n"
     ]
    }
   ],
   "source": [
    "#Compare which observations the four models with the same accuracy scores got wrong\n",
    "#They're similar, but they do get some different ones wrong, so I gather I didn't screw up the modeling\n",
    "print wrong_lo\n",
    "print wrong_nb\n",
    "print wrong_dt\n",
    "print wrong_rf"
   ]
  },
  {
   "cell_type": "markdown",
   "metadata": {},
   "source": [
    "**Exercise 5.9**\n",
    "\n",
    "There is actually a way to do cross validation quickly to get your accuracy results for an algorithm, without separating training and test yourself: from sklearn.cross_validation import cross_val_score.  \n",
    "\n",
    "Just like the learning_curve function, this takes a classifier object, X and Y. Returns accuracy (or whatever score you prefer by using the scoring keyword argument). Of course, it will return a score for each cross validation fold, so to get the generalized accuracy, you need to take the mean of what it returns.  \n",
    "\n",
    "Use this function to calculate the cross validation score of each of the classifiers you tried before."
   ]
  },
  {
   "cell_type": "code",
   "execution_count": 189,
   "metadata": {
    "collapsed": false
   },
   "outputs": [
    {
     "name": "stdout",
     "output_type": "stream",
     "text": [
      "0.958483997959\n"
     ]
    }
   ],
   "source": [
    "#Logit\n",
    "logit_score = np.mean(cross_val_score(LogisticRegression(), X, y, cv=5))\n",
    "print logit_score"
   ]
  },
  {
   "cell_type": "code",
   "execution_count": 190,
   "metadata": {
    "collapsed": false
   },
   "outputs": [
    {
     "name": "stdout",
     "output_type": "stream",
     "text": [
      "0.93332604311\n"
     ]
    }
   ],
   "source": [
    "#KNN\n",
    "knn_score = np.mean(cross_val_score(KNeighborsClassifier(n_neighbors=6), X, y, cv=5))\n",
    "print knn_score"
   ]
  },
  {
   "cell_type": "code",
   "execution_count": 193,
   "metadata": {
    "collapsed": false
   },
   "outputs": [
    {
     "name": "stdout",
     "output_type": "stream",
     "text": [
      "0.940144224928\n"
     ]
    }
   ],
   "source": [
    "#Naive Bayes\n",
    "nb_score = np.mean(cross_val_score(GaussianNB(), X, y, cv=5))\n",
    "print nb_score"
   ]
  },
  {
   "cell_type": "code",
   "execution_count": 194,
   "metadata": {
    "collapsed": false
   },
   "outputs": [
    {
     "name": "stdout",
     "output_type": "stream",
     "text": [
      "0.953965274234\n"
     ]
    }
   ],
   "source": [
    "#Support Vector Machine\n",
    "svm_score = np.mean(cross_val_score(SVC(), X, y, cv=5))\n",
    "print svm_score"
   ]
  },
  {
   "cell_type": "code",
   "execution_count": 195,
   "metadata": {
    "collapsed": false
   },
   "outputs": [
    {
     "name": "stdout",
     "output_type": "stream",
     "text": [
      "0.937765181891\n"
     ]
    }
   ],
   "source": [
    "#Decision Tree\n",
    "dt_score = np.mean(cross_val_score(DecisionTreeClassifier(), X, y, cv=5))\n",
    "print dt_score"
   ]
  },
  {
   "cell_type": "code",
   "execution_count": 196,
   "metadata": {
    "collapsed": false
   },
   "outputs": [
    {
     "name": "stdout",
     "output_type": "stream",
     "text": [
      "0.949340234745\n"
     ]
    }
   ],
   "source": [
    "#Random Forest\n",
    "rf_score = np.mean(cross_val_score(RandomForestClassifier(), X, y, cv=5))\n",
    "print rf_score"
   ]
  },
  {
   "cell_type": "markdown",
   "metadata": {},
   "source": [
    "**Exercise 5.10**\n",
    "\n",
    "Instead of 'democrat' or 'republican', can you predict the vote of a representative based on their other votes?  \n",
    "\n",
    "Reload the data from scratch. Convert y-->1, n-->0.\n",
    "\n",
    "Choose one vote. Build a classifier (logistic regression or KNN), that uses the other votes (do not use the party as a feature) to predict if the vote will be 1 or 0.  \n",
    "\n",
    "Convert each ? to the mode of the column (if a senator has not voted, make their vote 1 if most others voted 1, make it 0 if most others voted 0).  \n",
    "\n",
    "Calculate the cross validation accuracy of your classifier for predicting how each representative will vote on the issue.  "
   ]
  },
  {
   "cell_type": "code",
   "execution_count": 244,
   "metadata": {
    "collapsed": true
   },
   "outputs": [],
   "source": [
    "#Import the data again\n",
    "congress2 = pd.read_csv('https://archive.ics.uci.edu/ml/machine-learning-databases/voting-records/house-votes-84.data', delimiter = \",\", names = ['party', 'handicapped-infants', 'water-project-cost-sharing', 'adoption-of-the-budget-resolution', 'physician-fee-freeze', 'el-salvador-aid', 'religious-groups-in-schools', 'anti-satellite-test-ban', 'aid-to-nicaraguan-contras', 'mx-missile', 'immigration', 'synfuels-corporation-cutback', 'education-spending', 'superfund-right-to-sue', 'crime', 'duty-free-exports', 'export-administration-act-south-africa'])"
   ]
  },
  {
   "cell_type": "code",
   "execution_count": 245,
   "metadata": {
    "collapsed": true
   },
   "outputs": [],
   "source": [
    "congress2 = congress2.drop('party', axis = 1)\n",
    "congress2 = congress2.replace(to_replace='y', value=1)\n",
    "congress2 = congress2.replace(to_replace='n', value=0)\n",
    "congress2 = congress2.replace(to_replace='?', value=np.nan)"
   ]
  },
  {
   "cell_type": "code",
   "execution_count": 248,
   "metadata": {
    "collapsed": true
   },
   "outputs": [],
   "source": [
    "#Really strange that to fill nan values with the mode it's not the same syntax as for the mean\n",
    "congress2 = congress2.fillna(congress2.mode().ix[0])"
   ]
  },
  {
   "cell_type": "code",
   "execution_count": 249,
   "metadata": {
    "collapsed": false
   },
   "outputs": [
    {
     "name": "stdout",
     "output_type": "stream",
     "text": [
      "<class 'pandas.core.frame.DataFrame'>\n",
      "RangeIndex: 435 entries, 0 to 434\n",
      "Data columns (total 16 columns):\n",
      "handicapped-infants                       435 non-null float64\n",
      "water-project-cost-sharing                435 non-null float64\n",
      "adoption-of-the-budget-resolution         435 non-null float64\n",
      "physician-fee-freeze                      435 non-null float64\n",
      "el-salvador-aid                           435 non-null float64\n",
      "religious-groups-in-schools               435 non-null float64\n",
      "anti-satellite-test-ban                   435 non-null float64\n",
      "aid-to-nicaraguan-contras                 435 non-null float64\n",
      "mx-missile                                435 non-null float64\n",
      "immigration                               435 non-null float64\n",
      "synfuels-corporation-cutback              435 non-null float64\n",
      "education-spending                        435 non-null float64\n",
      "superfund-right-to-sue                    435 non-null float64\n",
      "crime                                     435 non-null float64\n",
      "duty-free-exports                         435 non-null float64\n",
      "export-administration-act-south-africa    435 non-null float64\n",
      "dtypes: float64(16)\n",
      "memory usage: 54.4 KB\n",
      "None\n"
     ]
    },
    {
     "data": {
      "text/html": [
       "<div>\n",
       "<table border=\"1\" class=\"dataframe\">\n",
       "  <thead>\n",
       "    <tr style=\"text-align: right;\">\n",
       "      <th></th>\n",
       "      <th>handicapped-infants</th>\n",
       "      <th>water-project-cost-sharing</th>\n",
       "      <th>adoption-of-the-budget-resolution</th>\n",
       "      <th>physician-fee-freeze</th>\n",
       "      <th>el-salvador-aid</th>\n",
       "      <th>religious-groups-in-schools</th>\n",
       "      <th>anti-satellite-test-ban</th>\n",
       "      <th>aid-to-nicaraguan-contras</th>\n",
       "      <th>mx-missile</th>\n",
       "      <th>immigration</th>\n",
       "      <th>synfuels-corporation-cutback</th>\n",
       "      <th>education-spending</th>\n",
       "      <th>superfund-right-to-sue</th>\n",
       "      <th>crime</th>\n",
       "      <th>duty-free-exports</th>\n",
       "      <th>export-administration-act-south-africa</th>\n",
       "    </tr>\n",
       "  </thead>\n",
       "  <tbody>\n",
       "    <tr>\n",
       "      <th>0</th>\n",
       "      <td>0.0</td>\n",
       "      <td>1.0</td>\n",
       "      <td>0.0</td>\n",
       "      <td>1.0</td>\n",
       "      <td>1.0</td>\n",
       "      <td>1.0</td>\n",
       "      <td>0.0</td>\n",
       "      <td>0.0</td>\n",
       "      <td>0.0</td>\n",
       "      <td>1.0</td>\n",
       "      <td>0.0</td>\n",
       "      <td>1.0</td>\n",
       "      <td>1.0</td>\n",
       "      <td>1.0</td>\n",
       "      <td>0.0</td>\n",
       "      <td>1.0</td>\n",
       "    </tr>\n",
       "    <tr>\n",
       "      <th>1</th>\n",
       "      <td>0.0</td>\n",
       "      <td>1.0</td>\n",
       "      <td>0.0</td>\n",
       "      <td>1.0</td>\n",
       "      <td>1.0</td>\n",
       "      <td>1.0</td>\n",
       "      <td>0.0</td>\n",
       "      <td>0.0</td>\n",
       "      <td>0.0</td>\n",
       "      <td>0.0</td>\n",
       "      <td>0.0</td>\n",
       "      <td>1.0</td>\n",
       "      <td>1.0</td>\n",
       "      <td>1.0</td>\n",
       "      <td>0.0</td>\n",
       "      <td>1.0</td>\n",
       "    </tr>\n",
       "    <tr>\n",
       "      <th>2</th>\n",
       "      <td>0.0</td>\n",
       "      <td>1.0</td>\n",
       "      <td>1.0</td>\n",
       "      <td>0.0</td>\n",
       "      <td>1.0</td>\n",
       "      <td>1.0</td>\n",
       "      <td>0.0</td>\n",
       "      <td>0.0</td>\n",
       "      <td>0.0</td>\n",
       "      <td>0.0</td>\n",
       "      <td>1.0</td>\n",
       "      <td>0.0</td>\n",
       "      <td>1.0</td>\n",
       "      <td>1.0</td>\n",
       "      <td>0.0</td>\n",
       "      <td>0.0</td>\n",
       "    </tr>\n",
       "    <tr>\n",
       "      <th>3</th>\n",
       "      <td>0.0</td>\n",
       "      <td>1.0</td>\n",
       "      <td>1.0</td>\n",
       "      <td>0.0</td>\n",
       "      <td>1.0</td>\n",
       "      <td>1.0</td>\n",
       "      <td>0.0</td>\n",
       "      <td>0.0</td>\n",
       "      <td>0.0</td>\n",
       "      <td>0.0</td>\n",
       "      <td>1.0</td>\n",
       "      <td>0.0</td>\n",
       "      <td>1.0</td>\n",
       "      <td>0.0</td>\n",
       "      <td>0.0</td>\n",
       "      <td>1.0</td>\n",
       "    </tr>\n",
       "    <tr>\n",
       "      <th>4</th>\n",
       "      <td>1.0</td>\n",
       "      <td>1.0</td>\n",
       "      <td>1.0</td>\n",
       "      <td>0.0</td>\n",
       "      <td>1.0</td>\n",
       "      <td>1.0</td>\n",
       "      <td>0.0</td>\n",
       "      <td>0.0</td>\n",
       "      <td>0.0</td>\n",
       "      <td>0.0</td>\n",
       "      <td>1.0</td>\n",
       "      <td>0.0</td>\n",
       "      <td>1.0</td>\n",
       "      <td>1.0</td>\n",
       "      <td>1.0</td>\n",
       "      <td>1.0</td>\n",
       "    </tr>\n",
       "  </tbody>\n",
       "</table>\n",
       "</div>"
      ],
      "text/plain": [
       "   handicapped-infants  water-project-cost-sharing  \\\n",
       "0                  0.0                         1.0   \n",
       "1                  0.0                         1.0   \n",
       "2                  0.0                         1.0   \n",
       "3                  0.0                         1.0   \n",
       "4                  1.0                         1.0   \n",
       "\n",
       "   adoption-of-the-budget-resolution  physician-fee-freeze  el-salvador-aid  \\\n",
       "0                                0.0                   1.0              1.0   \n",
       "1                                0.0                   1.0              1.0   \n",
       "2                                1.0                   0.0              1.0   \n",
       "3                                1.0                   0.0              1.0   \n",
       "4                                1.0                   0.0              1.0   \n",
       "\n",
       "   religious-groups-in-schools  anti-satellite-test-ban  \\\n",
       "0                          1.0                      0.0   \n",
       "1                          1.0                      0.0   \n",
       "2                          1.0                      0.0   \n",
       "3                          1.0                      0.0   \n",
       "4                          1.0                      0.0   \n",
       "\n",
       "   aid-to-nicaraguan-contras  mx-missile  immigration  \\\n",
       "0                        0.0         0.0          1.0   \n",
       "1                        0.0         0.0          0.0   \n",
       "2                        0.0         0.0          0.0   \n",
       "3                        0.0         0.0          0.0   \n",
       "4                        0.0         0.0          0.0   \n",
       "\n",
       "   synfuels-corporation-cutback  education-spending  superfund-right-to-sue  \\\n",
       "0                           0.0                 1.0                     1.0   \n",
       "1                           0.0                 1.0                     1.0   \n",
       "2                           1.0                 0.0                     1.0   \n",
       "3                           1.0                 0.0                     1.0   \n",
       "4                           1.0                 0.0                     1.0   \n",
       "\n",
       "   crime  duty-free-exports  export-administration-act-south-africa  \n",
       "0    1.0                0.0                                     1.0  \n",
       "1    1.0                0.0                                     1.0  \n",
       "2    1.0                0.0                                     0.0  \n",
       "3    0.0                0.0                                     1.0  \n",
       "4    1.0                1.0                                     1.0  "
      ]
     },
     "execution_count": 249,
     "metadata": {},
     "output_type": "execute_result"
    }
   ],
   "source": [
    "print congress2.info()\n",
    "congress2.head()"
   ]
  },
  {
   "cell_type": "code",
   "execution_count": 256,
   "metadata": {
    "collapsed": false
   },
   "outputs": [],
   "source": [
    "#Set target and features\n",
    "#Choose y as Aid to Nicaraguan Contras\n",
    "y_contras = congress2.iloc[:, 7]\n",
    "X_contras = congress2.drop('aid-to-nicaraguan-contras', axis = 1).copy()"
   ]
  },
  {
   "cell_type": "code",
   "execution_count": 257,
   "metadata": {
    "collapsed": false
   },
   "outputs": [
    {
     "name": "stdout",
     "output_type": "stream",
     "text": [
      "0.89627591067\n"
     ]
    }
   ],
   "source": [
    "#Logit\n",
    "logit_contras = np.mean(cross_val_score(LogisticRegression(), X_contras, y_contras, cv=5))\n",
    "print logit_contras"
   ]
  },
  {
   "cell_type": "markdown",
   "metadata": {},
   "source": [
    "**It looks like we can predict fairly well with logistic regression how a member would vote on aid to the contras based on their other votes (.896).  We can't predict this quite as well as we can predict the members' party, but still pretty impressive.**"
   ]
  },
  {
   "cell_type": "markdown",
   "metadata": {},
   "source": [
    "**Exercise 5.11**\n",
    "\n",
    "Back to movie data! Choose one categoric feature to predict. I chose MPAA Rating, but genre, month, etc. are all decent choices. If you don't have any non-numeric features, you can make two bins out of a numeric one (like \"Runtime>100 mins\" and \"Runtime<=100 mins\").  \n",
    "\n",
    "Make a bar graph of how many of each movie there is in the data. For example, with Ratings, show how many G, PG, PG-13, R movies there are, etc. (basically a histogram of your labels).  \n",
    "\n",
    "Predict your outcome variable (labels) using KNN and logistic regression. Calculate their accuracies.  \n",
    "\n",
    "Make a baseline stupid predictor that always predicts the label that is present the most in the data. Calculate its accuracy on a test set. How much better do KNN and logistic regression do versus the baseline?  \n",
    "\n",
    "What are the coefficients of logistic regression? Which features affect the outcome how?"
   ]
  },
  {
   "cell_type": "code",
   "execution_count": 258,
   "metadata": {
    "collapsed": true
   },
   "outputs": [],
   "source": [
    "#Import the Challenge 2 & 3 movies data from '2013_movies.csv'\n",
    "movies = pd.read_csv('../challenges/02-pandas/2013_movies.csv', parse_dates=['ReleaseDate'])"
   ]
  },
  {
   "cell_type": "code",
   "execution_count": 276,
   "metadata": {
    "collapsed": false
   },
   "outputs": [
    {
     "name": "stdout",
     "output_type": "stream",
     "text": [
      "<class 'pandas.core.frame.DataFrame'>\n",
      "Int64Index: 89 entries, 0 to 99\n",
      "Data columns (total 4 columns):\n",
      "Rating                89 non-null object\n",
      "DomesticTotalGross    89 non-null int64\n",
      "Runtime               89 non-null int64\n",
      "Budget                89 non-null float64\n",
      "dtypes: float64(1), int64(2), object(1)\n",
      "memory usage: 3.5+ KB\n"
     ]
    }
   ],
   "source": [
    "#Generate df with target and feature variables I will include in my model\n",
    "movies_df = movies[['Rating', 'DomesticTotalGross', 'Runtime', 'Budget']].dropna(how='any')\n",
    "movies_df.info()"
   ]
  },
  {
   "cell_type": "code",
   "execution_count": 292,
   "metadata": {
    "collapsed": false
   },
   "outputs": [
    {
     "data": {
      "image/png": "[encoded data removed]",
      "text/plain": [
       "<matplotlib.figure.Figure at 0x11b357490>"
      ]
     },
     "metadata": {},
     "output_type": "display_data"
    }
   ],
   "source": [
    "pd.value_counts(movies_df.Rating).plot(kind=\"bar\", rot=0);\n",
    "\n",
    "#Note no G movies because the only couple in the dataset had no budget information"
   ]
  },
  {
   "cell_type": "code",
   "execution_count": 293,
   "metadata": {
    "collapsed": false
   },
   "outputs": [],
   "source": [
    "y11 = movies_df.iloc[:, 0]\n",
    "X11 = movies_df.iloc[:, 1:]"
   ]
  },
  {
   "cell_type": "code",
   "execution_count": 294,
   "metadata": {
    "collapsed": true
   },
   "outputs": [],
   "source": [
    "X11_train, X11_test, y11_train, y11_test = train_test_split(X11, y11, test_size=0.3, random_state=4444)"
   ]
  },
  {
   "cell_type": "code",
   "execution_count": 295,
   "metadata": {
    "collapsed": true
   },
   "outputs": [],
   "source": [
    "neighbors = range(1, 21)\n",
    "accuracy = []\n",
    "for k in neighbors:\n",
    "    knn = KNeighborsClassifier(n_neighbors=k)\n",
    "    knn.fit(X11_train, y11_train)\n",
    "    ypred11_knn = knn.predict(X11_test)\n",
    "    accuracy.append(accuracy_score(y11_test, ypred11_knn))"
   ]
  },
  {
   "cell_type": "code",
   "execution_count": 296,
   "metadata": {
    "collapsed": false
   },
   "outputs": [
    {
     "data": {
      "text/html": [
       "<div>\n",
       "<table border=\"1\" class=\"dataframe\">\n",
       "  <thead>\n",
       "    <tr style=\"text-align: right;\">\n",
       "      <th></th>\n",
       "      <th>0</th>\n",
       "      <th>1</th>\n",
       "    </tr>\n",
       "  </thead>\n",
       "  <tbody>\n",
       "    <tr>\n",
       "      <th>13</th>\n",
       "      <td>14</td>\n",
       "      <td>0.518519</td>\n",
       "    </tr>\n",
       "    <tr>\n",
       "      <th>3</th>\n",
       "      <td>4</td>\n",
       "      <td>0.481481</td>\n",
       "    </tr>\n",
       "    <tr>\n",
       "      <th>2</th>\n",
       "      <td>3</td>\n",
       "      <td>0.444444</td>\n",
       "    </tr>\n",
       "    <tr>\n",
       "      <th>4</th>\n",
       "      <td>5</td>\n",
       "      <td>0.444444</td>\n",
       "    </tr>\n",
       "    <tr>\n",
       "      <th>7</th>\n",
       "      <td>8</td>\n",
       "      <td>0.444444</td>\n",
       "    </tr>\n",
       "    <tr>\n",
       "      <th>12</th>\n",
       "      <td>13</td>\n",
       "      <td>0.444444</td>\n",
       "    </tr>\n",
       "    <tr>\n",
       "      <th>10</th>\n",
       "      <td>11</td>\n",
       "      <td>0.407407</td>\n",
       "    </tr>\n",
       "    <tr>\n",
       "      <th>5</th>\n",
       "      <td>6</td>\n",
       "      <td>0.407407</td>\n",
       "    </tr>\n",
       "    <tr>\n",
       "      <th>6</th>\n",
       "      <td>7</td>\n",
       "      <td>0.407407</td>\n",
       "    </tr>\n",
       "    <tr>\n",
       "      <th>8</th>\n",
       "      <td>9</td>\n",
       "      <td>0.407407</td>\n",
       "    </tr>\n",
       "    <tr>\n",
       "      <th>11</th>\n",
       "      <td>12</td>\n",
       "      <td>0.407407</td>\n",
       "    </tr>\n",
       "    <tr>\n",
       "      <th>14</th>\n",
       "      <td>15</td>\n",
       "      <td>0.407407</td>\n",
       "    </tr>\n",
       "    <tr>\n",
       "      <th>15</th>\n",
       "      <td>16</td>\n",
       "      <td>0.407407</td>\n",
       "    </tr>\n",
       "    <tr>\n",
       "      <th>17</th>\n",
       "      <td>18</td>\n",
       "      <td>0.370370</td>\n",
       "    </tr>\n",
       "    <tr>\n",
       "      <th>9</th>\n",
       "      <td>10</td>\n",
       "      <td>0.370370</td>\n",
       "    </tr>\n",
       "    <tr>\n",
       "      <th>18</th>\n",
       "      <td>19</td>\n",
       "      <td>0.370370</td>\n",
       "    </tr>\n",
       "    <tr>\n",
       "      <th>19</th>\n",
       "      <td>20</td>\n",
       "      <td>0.333333</td>\n",
       "    </tr>\n",
       "    <tr>\n",
       "      <th>16</th>\n",
       "      <td>17</td>\n",
       "      <td>0.333333</td>\n",
       "    </tr>\n",
       "    <tr>\n",
       "      <th>1</th>\n",
       "      <td>2</td>\n",
       "      <td>0.296296</td>\n",
       "    </tr>\n",
       "    <tr>\n",
       "      <th>0</th>\n",
       "      <td>1</td>\n",
       "      <td>0.296296</td>\n",
       "    </tr>\n",
       "  </tbody>\n",
       "</table>\n",
       "</div>"
      ],
      "text/plain": [
       "     0         1\n",
       "13  14  0.518519\n",
       "3    4  0.481481\n",
       "2    3  0.444444\n",
       "4    5  0.444444\n",
       "7    8  0.444444\n",
       "12  13  0.444444\n",
       "10  11  0.407407\n",
       "5    6  0.407407\n",
       "6    7  0.407407\n",
       "8    9  0.407407\n",
       "11  12  0.407407\n",
       "14  15  0.407407\n",
       "15  16  0.407407\n",
       "17  18  0.370370\n",
       "9   10  0.370370\n",
       "18  19  0.370370\n",
       "19  20  0.333333\n",
       "16  17  0.333333\n",
       "1    2  0.296296\n",
       "0    1  0.296296"
      ]
     },
     "execution_count": 296,
     "metadata": {},
     "output_type": "execute_result"
    }
   ],
   "source": [
    "knn_acc = pd.DataFrame(zip(neighbors, accuracy))\n",
    "knn_acc.sort_values(1, ascending=False)"
   ]
  },
  {
   "cell_type": "code",
   "execution_count": 297,
   "metadata": {
    "collapsed": false
   },
   "outputs": [
    {
     "name": "stdout",
     "output_type": "stream",
     "text": [
      "0.481481481481\n",
      "[[ -9.31976740e-09  -1.04210267e-13  -3.99723246e-09]\n",
      " [ -3.93653307e-09  -5.51148928e-14   9.62798957e-09]\n",
      " [  5.08501166e-09   1.18139138e-13  -2.11481432e-08]]\n"
     ]
    }
   ],
   "source": [
    "logit11 = LogisticRegression()\n",
    "logit11.fit(X11_train, y11_train)\n",
    "ypred11_logit = logit11.predict(X11_test)\n",
    "\n",
    "logit11_acc = accuracy_score(y11_test, ypred11_logit)\n",
    "print logit11_acc\n",
    "print logit11.coef_"
   ]
  },
  {
   "cell_type": "code",
   "execution_count": 323,
   "metadata": {
    "collapsed": false
   },
   "outputs": [
    {
     "name": "stdout",
     "output_type": "stream",
     "text": [
      "('DomesticTotalGross', ' c1_beta:', -1e-08, 'c2_beta:', -0.0, 'c3_beta:', 1e-08)\n",
      "('Runtime', ' c1_beta:', -0.0, 'c2_beta:', -0.0, 'c3_beta:', 0.0)\n",
      "('Budget', ' c1_beta:', -0.0, 'c2_beta:', 1e-08, 'c3_beta:', -2e-08)\n"
     ]
    }
   ],
   "source": [
    "#Record the coefficients\n",
    "for i in range(len(list(logit11.coef_[0]))):\n",
    "    c1_beta = logit11.coef_[0][i]\n",
    "    c2_beta = logit11.coef_[1][i]\n",
    "    c3_beta = logit11.coef_[2][i]\n",
    "    print(X11.columns[i],' c1_beta:', np.round(logit11.coef_[0][i], decimals=8), 'c2_beta:',np.round(logit11.coef_[1][i], decimals=8), 'c3_beta:',np.round(logit11.coef_[2][i], decimals=8))"
   ]
  },
  {
   "cell_type": "code",
   "execution_count": 299,
   "metadata": {
    "collapsed": true
   },
   "outputs": [],
   "source": [
    "#Now make predictor functions for always PG-13\n",
    "\n",
    "def predict_pg13(X):\n",
    "    pg13 = []\n",
    "    i=1\n",
    "    while i <= len(X):\n",
    "        pg13.append('PG-13')\n",
    "        i+=1\n",
    "    return np.asarray(pg13)"
   ]
  },
  {
   "cell_type": "code",
   "execution_count": 300,
   "metadata": {
    "collapsed": false
   },
   "outputs": [
    {
     "name": "stdout",
     "output_type": "stream",
     "text": [
      "0.444444444444\n"
     ]
    }
   ],
   "source": [
    "#Test the baseline predictor's accuracy\n",
    "ypred_pg13 = predict_pg13(X11_test)\n",
    "\n",
    "pg13_acc = accuracy_score(y11_test, ypred_pg13)\n",
    "\n",
    "print pg13_acc"
   ]
  },
  {
   "cell_type": "markdown",
   "metadata": {},
   "source": [
    "**Interpretation**  \n",
    "In this case the baseline predictor of PG-13 is accurate 44% of the time on the test set.  Logistic regression is only slightly better at about 48%, and KNN (best, at 14 neighbors) gets up to almost 52%.  So the three features in my model aren't particularly great at predicting movie rating.\n",
    "\n",
    "As for the coefficients on the logistic regression, there are three coefficients given per feature: one each for the three categories in the data, as compared to the others (taken together).  I haven't been able to figure out which class is which or what the p-values are (from what I can tell I 'd have to code these myself).  The interpretation of the coefficients depends on the values of the other variables in the model, but very roughly it looks like higher levels of all three variables may reduce the likelihood of class 1.  Meanwhile, higher budgets along with shorter runtimes and lower levels of Domestic Total Gross are potentially affiliated with greater odds of class 2.  Finally, longer runtimes and higher Domestic Total Gross may be associated with higher odds of class 3, as may lower budgets.  "
   ]
  },
  {
   "cell_type": "code",
   "execution_count": null,
   "metadata": {
    "collapsed": true
   },
   "outputs": [],
   "source": []
  },
  {
   "cell_type": "markdown",
   "metadata": {},
   "source": [
    "**Exercise 5.12**\n",
    "\n",
    "Now you are a classification master. The representative votes dataset only had 0s and 1s. Let's just swiftly tackle the breast cancer surgery data.  \n",
    "\n",
    "Get it from here: Haberman Survival Dataset  \n",
    "\n",
    "    What is the average and standard deviation of the age of all of the patients?  \n",
    "    What is the average and standard deviation of the age of those patients that survived 5 or more years after surgery?  \n",
    "    What is the average and standard deviation of the age of those patients who survived fewer than 5 years after surgery?  \n",
    "    Plot a histogram of the ages side by side with a histogram of the number of axillary nodes.  \n",
    "    What is the earliest year of surgery in this dataset?  \n",
    "    What is the most recent year of surgery?  \n",
    "    Use logistic regression to predict survival after 5 years. How well does your model do?  \n",
    "    What are the coefficients of logistic regression? Which features affect the outcome how?  \n",
    "    Draw the learning curve for logistic regression in this case.  \n"
   ]
  },
  {
   "cell_type": "code",
   "execution_count": 6,
   "metadata": {
    "collapsed": true
   },
   "outputs": [],
   "source": [
    "haberman = pd.read_csv('https://archive.ics.uci.edu/ml/machine-learning-databases/haberman/haberman.data', delimiter = \",\", names = ['patient-age', 'operation-year', 'nodes-detected', 'survival-status'])"
   ]
  },
  {
   "cell_type": "code",
   "execution_count": 7,
   "metadata": {
    "collapsed": false
   },
   "outputs": [
    {
     "name": "stdout",
     "output_type": "stream",
     "text": [
      "<class 'pandas.core.frame.DataFrame'>\n",
      "RangeIndex: 306 entries, 0 to 305\n",
      "Data columns (total 4 columns):\n",
      "patient-age        306 non-null int64\n",
      "operation-year     306 non-null int64\n",
      "nodes-detected     306 non-null int64\n",
      "survival-status    306 non-null int64\n",
      "dtypes: int64(4)\n",
      "memory usage: 9.6 KB\n"
     ]
    }
   ],
   "source": [
    "haberman.info()"
   ]
  },
  {
   "cell_type": "code",
   "execution_count": 326,
   "metadata": {
    "collapsed": false
   },
   "outputs": [
    {
     "name": "stdout",
     "output_type": "stream",
     "text": [
      "52.4575163399\n",
      "10.7857852036\n"
     ]
    }
   ],
   "source": [
    "#Patient age -- average & std deviation\n",
    "print np.mean(haberman['patient-age'])\n",
    "print np.std(haberman['patient-age'])"
   ]
  },
  {
   "cell_type": "code",
   "execution_count": 338,
   "metadata": {
    "collapsed": false
   },
   "outputs": [
    {
     "name": "stdout",
     "output_type": "stream",
     "text": [
      "Age, 52.0177777778\n",
      "Standard Deviation (Age), 11.0121541799\n"
     ]
    }
   ],
   "source": [
    "#Average age and standard deviation for those who survived 5+ years post-surgery\n",
    "print 'Age,', haberman['patient-age'][haberman['survival-status'] == 1].mean()\n",
    "print 'Standard Deviation (Age),', haberman['patient-age'][haberman['survival-status'] == 1].std()"
   ]
  },
  {
   "cell_type": "code",
   "execution_count": 339,
   "metadata": {
    "collapsed": false
   },
   "outputs": [
    {
     "name": "stdout",
     "output_type": "stream",
     "text": [
      "Age, 53.6790123457\n",
      "Standard Deviation (Age), 10.1671372083\n"
     ]
    }
   ],
   "source": [
    "#Average age and standard deviation for those who survived fewer than 5 years post-surgery\n",
    "print 'Age,', haberman['patient-age'][haberman['survival-status'] == 2].mean()\n",
    "print 'Standard Deviation (Age),', haberman['patient-age'][haberman['survival-status'] == 2].std()"
   ]
  },
  {
   "cell_type": "code",
   "execution_count": 353,
   "metadata": {
    "collapsed": false
   },
   "outputs": [
    {
     "data": {
      "image/png": "[encoded data removed]",
      "text/plain": [
       "<matplotlib.figure.Figure at 0x11c087290>"
      ]
     },
     "metadata": {},
     "output_type": "display_data"
    }
   ],
   "source": [
    "#Plot a histogram of the ages side by side with a histogram of the number of axillary nodes. \n",
    "plt.figure(1)\n",
    "plt.subplot(121)\n",
    "plt.hist(haberman['patient-age'], color='dodgerblue')\n",
    "plt.xlabel('Age')\n",
    "plt.ylabel('Frequency')\n",
    "plt.subplot(122)\n",
    "plt.hist(haberman['nodes-detected'], color='forestgreen')\n",
    "plt.xlabel('Nodes Detected');"
   ]
  },
  {
   "cell_type": "code",
   "execution_count": 340,
   "metadata": {
    "collapsed": false
   },
   "outputs": [
    {
     "data": {
      "text/plain": [
       "58"
      ]
     },
     "execution_count": 340,
     "metadata": {},
     "output_type": "execute_result"
    }
   ],
   "source": [
    "#Earliest surgery year\n",
    "haberman['operation-year'].min()  #Result is 1958"
   ]
  },
  {
   "cell_type": "code",
   "execution_count": 341,
   "metadata": {
    "collapsed": false
   },
   "outputs": [
    {
     "data": {
      "text/plain": [
       "69"
      ]
     },
     "execution_count": 341,
     "metadata": {},
     "output_type": "execute_result"
    }
   ],
   "source": [
    "#Most recent surgery year\n",
    "haberman['operation-year'].max()  #Result is 1969"
   ]
  },
  {
   "cell_type": "code",
   "execution_count": 357,
   "metadata": {
    "collapsed": false
   },
   "outputs": [
    {
     "name": "stdout",
     "output_type": "stream",
     "text": [
      "0.815217391304\n"
     ]
    }
   ],
   "source": [
    "#Use logistic regression to predict survival after 5 years\n",
    "X_hab = haberman.iloc[:, 0:3]\n",
    "y_hab = haberman.iloc[:, 3]\n",
    "\n",
    "Xhab_train, Xhab_test, yhab_train, yhab_test = train_test_split(X_hab, y_hab, test_size=0.3, random_state=4444)\n",
    "\n",
    "logit_hab = LogisticRegression()\n",
    "logit_hab.fit(Xhab_train, yhab_train)\n",
    "ypred_hab = logit_hab.predict(Xhab_test)\n",
    "\n",
    "logit_hab_acc = accuracy_score(yhab_test, ypred_hab)\n",
    "print logit_hab_acc"
   ]
  },
  {
   "cell_type": "code",
   "execution_count": 364,
   "metadata": {
    "collapsed": false
   },
   "outputs": [
    {
     "name": "stdout",
     "output_type": "stream",
     "text": [
      "('patient-age', ' beta:', 0.015551502481860288)\n",
      "('operation-year', ' beta:', -0.028992790586247961)\n",
      "('nodes-detected', ' beta:', 0.071361965504665614)\n"
     ]
    }
   ],
   "source": [
    "for i in range(len(list(logit_hab.coef_[0]))):\n",
    "    beta = logit_hab.coef_[0][i]\n",
    "    print(X_hab.columns[i],' beta:',logit_hab.coef_[0][i])"
   ]
  },
  {
   "cell_type": "markdown",
   "metadata": {},
   "source": [
    "**Discussion**\n",
    "The model is accurate 81.5% of the time.  It looks as if an older patient and a higher number of nodes detected may encourage earlier death (in this case, 2, the code for fewer than 5 years survival). In contrast, a more recent operation year may encourage a longer survival time."
   ]
  },
  {
   "cell_type": "code",
   "execution_count": 366,
   "metadata": {
    "collapsed": false
   },
   "outputs": [
    {
     "data": {
      "image/png": "[encoded data removed]",
      "text/plain": [
       "<matplotlib.figure.Figure at 0x11c614f10>"
      ]
     },
     "metadata": {},
     "output_type": "display_data"
    }
   ],
   "source": [
    "#Logistic learning curve\n",
    "train_sizes, train_scores, test_scores = learning_curve(LogisticRegression(), X_hab, y_hab)\n",
    "\n",
    "train_cv_err = np.mean(train_scores, axis = 1)\n",
    "test_cv_err = np.mean(test_scores, axis = 1)\n",
    "\n",
    "\n",
    "plt.figure(figsize = (8,6))\n",
    "plt.plot(train_sizes, train_cv_err, label = 'Training Score')\n",
    "plt.plot(train_sizes, test_cv_err, label = 'Test Score')\n",
    "plt.legend(loc='best')\n",
    "plt.xlabel(\"Training examples\")\n",
    "plt.ylabel(\"Score\")\n",
    "plt.title(\"Learning Curve: Logistic Regression\");"
   ]
  },
  {
   "cell_type": "code",
   "execution_count": null,
   "metadata": {
    "collapsed": true
   },
   "outputs": [],
   "source": []
  }
 ],
 "metadata": {
  "anaconda-cloud": {},
  "kernelspec": {
   "display_name": "Python [Root]",
   "language": "python",
   "name": "Python [Root]"
  },
  "language_info": {
   "codemirror_mode": {
    "name": "ipython",
    "version": 2
   },
   "file_extension": ".py",
   "mimetype": "text/x-python",
   "name": "python",
   "nbconvert_exporter": "python",
   "pygments_lexer": "ipython2",
   "version": "2.7.12"
  }
 },
 "nbformat": 4,
 "nbformat_minor": 0
}
