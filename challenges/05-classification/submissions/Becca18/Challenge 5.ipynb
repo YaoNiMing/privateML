{
 "cells": [
  {
   "cell_type": "markdown",
   "metadata": {},
   "source": [
    "**Settings: Where applicable, use test_size=.30, random_state=4444. This will permit comparison of results across users.\n",
    "\n",
    "Data:\n",
    "\n",
    "Exercises 1-10: congressional votes Congressional Voting Records Dataset\n",
    "\n",
    "Exercise 11: movie data\n",
    "\n",
    "Exercise 12: breast cancer surgery Haberman Survival Dataset\n",
    "\n",
    "Data – Congressional Votes\n",
    "\n",
    "Download the congressional votes data from here:Congressional Voting Records Dataset\n",
    "\n",
    "These are votes of U.S. House of Representatives Congressmen on 16 key issues in 1984.\n",
    "\n",
    "Read the description of the fields and download the data: house-votes-84.data\n",
    "\n",
    "We will try to see if we can predict the house members' party based on their votes.\n",
    "\n",
    "We will also use some of the general machine learning tools we learned (a bit more efficiently this time)."
   ]
  },
  {
   "cell_type": "markdown",
   "metadata": {},
   "source": [
    "Exercise 5.1\n",
    "\n",
    "Load the data into a pandas dataframe. Replace 'y's with 1s, 'n's with 0s.\n",
    "\n",
    "Now, almost every representative has a ?. This represents the absence of a vote (they were absent or some other similar reason). If we dropped all the rows that had a ?, we would throw out most of our data. Instead, we will replace ? with the best guess in the Bayesian sense: in the absence of any other information, we will say that the probability of the representative saying YES is the ratio of others that said YES over the whole votes.\n",
    "\n",
    "So, convert each ? to this probability (when yes=1 and no=0, this is the mean of the column)"
   ]
  },
  {
   "cell_type": "code",
   "execution_count": 1,
   "metadata": {
    "collapsed": false
   },
   "outputs": [],
   "source": [
    "import pandas as pd"
   ]
  },
  {
   "cell_type": "code",
   "execution_count": 2,
   "metadata": {
    "collapsed": false
   },
   "outputs": [],
   "source": [
    "df=pd.read_csv(\"house-votes-84.data.txt\",na_values=['?'], header=None)"
   ]
  },
  {
   "cell_type": "code",
   "execution_count": 3,
   "metadata": {
    "collapsed": false
   },
   "outputs": [],
   "source": [
    "df.columns = [\"Class-Name\", \"handicapped-infants\", \"water-project-cost-sharing\", \n",
    "              \"adoption-of-the-budget-resolution\", \"physician-fee-freeze\", \"el-salvador-aid\",\n",
    "             \"religious-groups-in-schools\", \"anti-satellite-test-ban\", \"aid-to-nicaraguan-contras\",\n",
    "             \"mx-missile\", \"immigration\", \"synfuels-corporation-cutback\", \"education-spending\",\n",
    "             \"superfund-right-to-sue\", \"crime\", \"duty-free-exports\", \"export-administration-act-south-africa\"]"
   ]
  },
  {
   "cell_type": "code",
   "execution_count": 4,
   "metadata": {
    "collapsed": false
   },
   "outputs": [],
   "source": [
    "df= df.replace(to_replace='y', value=float(1))\n",
    "df= df.replace(to_replace='n', value=float(0))"
   ]
  },
  {
   "cell_type": "code",
   "execution_count": 5,
   "metadata": {
    "collapsed": false
   },
   "outputs": [],
   "source": [
    "df2=df.iloc[:,1:]"
   ]
  },
  {
   "cell_type": "code",
   "execution_count": 6,
   "metadata": {
    "collapsed": false
   },
   "outputs": [
    {
     "data": {
      "text/plain": [
       "handicapped-infants                       None\n",
       "water-project-cost-sharing                None\n",
       "adoption-of-the-budget-resolution         None\n",
       "physician-fee-freeze                      None\n",
       "el-salvador-aid                           None\n",
       "religious-groups-in-schools               None\n",
       "anti-satellite-test-ban                   None\n",
       "aid-to-nicaraguan-contras                 None\n",
       "mx-missile                                None\n",
       "immigration                               None\n",
       "synfuels-corporation-cutback              None\n",
       "education-spending                        None\n",
       "superfund-right-to-sue                    None\n",
       "crime                                     None\n",
       "duty-free-exports                         None\n",
       "export-administration-act-south-africa    None\n",
       "dtype: object"
      ]
     },
     "execution_count": 6,
     "metadata": {},
     "output_type": "execute_result"
    }
   ],
   "source": [
    "df2.apply(lambda x: x.fillna(x.mean(), inplace=True), axis=0)"
   ]
  },
  {
   "cell_type": "code",
   "execution_count": 7,
   "metadata": {
    "collapsed": true
   },
   "outputs": [],
   "source": [
    "df3=df.iloc[:,0]"
   ]
  },
  {
   "cell_type": "code",
   "execution_count": 8,
   "metadata": {
    "collapsed": true
   },
   "outputs": [],
   "source": [
    "df4 = pd.concat([df3, df2], axis=1)"
   ]
  },
  {
   "cell_type": "code",
   "execution_count": 9,
   "metadata": {
    "collapsed": false
   },
   "outputs": [
    {
     "data": {
      "text/html": [
       "<div>\n",
       "<table border=\"1\" class=\"dataframe\">\n",
       "  <thead>\n",
       "    <tr style=\"text-align: right;\">\n",
       "      <th></th>\n",
       "      <th>Class-Name</th>\n",
       "      <th>handicapped-infants</th>\n",
       "      <th>water-project-cost-sharing</th>\n",
       "      <th>adoption-of-the-budget-resolution</th>\n",
       "      <th>physician-fee-freeze</th>\n",
       "      <th>el-salvador-aid</th>\n",
       "      <th>religious-groups-in-schools</th>\n",
       "      <th>anti-satellite-test-ban</th>\n",
       "      <th>aid-to-nicaraguan-contras</th>\n",
       "      <th>mx-missile</th>\n",
       "      <th>immigration</th>\n",
       "      <th>synfuels-corporation-cutback</th>\n",
       "      <th>education-spending</th>\n",
       "      <th>superfund-right-to-sue</th>\n",
       "      <th>crime</th>\n",
       "      <th>duty-free-exports</th>\n",
       "      <th>export-administration-act-south-africa</th>\n",
       "    </tr>\n",
       "  </thead>\n",
       "  <tbody>\n",
       "    <tr>\n",
       "      <th>0</th>\n",
       "      <td>republican</td>\n",
       "      <td>0.00000</td>\n",
       "      <td>1.000000</td>\n",
       "      <td>0.000000</td>\n",
       "      <td>1.000000</td>\n",
       "      <td>1.000000</td>\n",
       "      <td>1.000000</td>\n",
       "      <td>0.000000</td>\n",
       "      <td>0.00000</td>\n",
       "      <td>0.000000</td>\n",
       "      <td>1.000000</td>\n",
       "      <td>0.362319</td>\n",
       "      <td>1.000000</td>\n",
       "      <td>1.000000</td>\n",
       "      <td>1.000000</td>\n",
       "      <td>0.000000</td>\n",
       "      <td>1.000000</td>\n",
       "    </tr>\n",
       "    <tr>\n",
       "      <th>1</th>\n",
       "      <td>republican</td>\n",
       "      <td>0.00000</td>\n",
       "      <td>1.000000</td>\n",
       "      <td>0.000000</td>\n",
       "      <td>1.000000</td>\n",
       "      <td>1.000000</td>\n",
       "      <td>1.000000</td>\n",
       "      <td>0.000000</td>\n",
       "      <td>0.00000</td>\n",
       "      <td>0.000000</td>\n",
       "      <td>0.000000</td>\n",
       "      <td>0.000000</td>\n",
       "      <td>1.000000</td>\n",
       "      <td>1.000000</td>\n",
       "      <td>1.000000</td>\n",
       "      <td>0.000000</td>\n",
       "      <td>0.812689</td>\n",
       "    </tr>\n",
       "    <tr>\n",
       "      <th>2</th>\n",
       "      <td>democrat</td>\n",
       "      <td>0.44208</td>\n",
       "      <td>1.000000</td>\n",
       "      <td>1.000000</td>\n",
       "      <td>0.417453</td>\n",
       "      <td>1.000000</td>\n",
       "      <td>1.000000</td>\n",
       "      <td>0.000000</td>\n",
       "      <td>0.00000</td>\n",
       "      <td>0.000000</td>\n",
       "      <td>0.000000</td>\n",
       "      <td>1.000000</td>\n",
       "      <td>0.000000</td>\n",
       "      <td>1.000000</td>\n",
       "      <td>1.000000</td>\n",
       "      <td>0.000000</td>\n",
       "      <td>0.000000</td>\n",
       "    </tr>\n",
       "    <tr>\n",
       "      <th>3</th>\n",
       "      <td>democrat</td>\n",
       "      <td>0.00000</td>\n",
       "      <td>1.000000</td>\n",
       "      <td>1.000000</td>\n",
       "      <td>0.000000</td>\n",
       "      <td>0.504762</td>\n",
       "      <td>1.000000</td>\n",
       "      <td>0.000000</td>\n",
       "      <td>0.00000</td>\n",
       "      <td>0.000000</td>\n",
       "      <td>0.000000</td>\n",
       "      <td>1.000000</td>\n",
       "      <td>0.000000</td>\n",
       "      <td>1.000000</td>\n",
       "      <td>0.000000</td>\n",
       "      <td>0.000000</td>\n",
       "      <td>1.000000</td>\n",
       "    </tr>\n",
       "    <tr>\n",
       "      <th>4</th>\n",
       "      <td>democrat</td>\n",
       "      <td>1.00000</td>\n",
       "      <td>1.000000</td>\n",
       "      <td>1.000000</td>\n",
       "      <td>0.000000</td>\n",
       "      <td>1.000000</td>\n",
       "      <td>1.000000</td>\n",
       "      <td>0.000000</td>\n",
       "      <td>0.00000</td>\n",
       "      <td>0.000000</td>\n",
       "      <td>0.000000</td>\n",
       "      <td>1.000000</td>\n",
       "      <td>0.423267</td>\n",
       "      <td>1.000000</td>\n",
       "      <td>1.000000</td>\n",
       "      <td>1.000000</td>\n",
       "      <td>1.000000</td>\n",
       "    </tr>\n",
       "    <tr>\n",
       "      <th>5</th>\n",
       "      <td>democrat</td>\n",
       "      <td>0.00000</td>\n",
       "      <td>1.000000</td>\n",
       "      <td>1.000000</td>\n",
       "      <td>0.000000</td>\n",
       "      <td>1.000000</td>\n",
       "      <td>1.000000</td>\n",
       "      <td>0.000000</td>\n",
       "      <td>0.00000</td>\n",
       "      <td>0.000000</td>\n",
       "      <td>0.000000</td>\n",
       "      <td>0.000000</td>\n",
       "      <td>0.000000</td>\n",
       "      <td>1.000000</td>\n",
       "      <td>1.000000</td>\n",
       "      <td>1.000000</td>\n",
       "      <td>1.000000</td>\n",
       "    </tr>\n",
       "    <tr>\n",
       "      <th>6</th>\n",
       "      <td>democrat</td>\n",
       "      <td>0.00000</td>\n",
       "      <td>1.000000</td>\n",
       "      <td>0.000000</td>\n",
       "      <td>1.000000</td>\n",
       "      <td>1.000000</td>\n",
       "      <td>1.000000</td>\n",
       "      <td>0.000000</td>\n",
       "      <td>0.00000</td>\n",
       "      <td>0.000000</td>\n",
       "      <td>0.000000</td>\n",
       "      <td>0.000000</td>\n",
       "      <td>0.000000</td>\n",
       "      <td>0.509756</td>\n",
       "      <td>1.000000</td>\n",
       "      <td>1.000000</td>\n",
       "      <td>1.000000</td>\n",
       "    </tr>\n",
       "    <tr>\n",
       "      <th>7</th>\n",
       "      <td>republican</td>\n",
       "      <td>0.00000</td>\n",
       "      <td>1.000000</td>\n",
       "      <td>0.000000</td>\n",
       "      <td>1.000000</td>\n",
       "      <td>1.000000</td>\n",
       "      <td>1.000000</td>\n",
       "      <td>0.000000</td>\n",
       "      <td>0.00000</td>\n",
       "      <td>0.000000</td>\n",
       "      <td>0.000000</td>\n",
       "      <td>0.000000</td>\n",
       "      <td>0.000000</td>\n",
       "      <td>1.000000</td>\n",
       "      <td>1.000000</td>\n",
       "      <td>0.427518</td>\n",
       "      <td>1.000000</td>\n",
       "    </tr>\n",
       "    <tr>\n",
       "      <th>8</th>\n",
       "      <td>republican</td>\n",
       "      <td>0.00000</td>\n",
       "      <td>1.000000</td>\n",
       "      <td>0.000000</td>\n",
       "      <td>1.000000</td>\n",
       "      <td>1.000000</td>\n",
       "      <td>1.000000</td>\n",
       "      <td>0.000000</td>\n",
       "      <td>0.00000</td>\n",
       "      <td>0.000000</td>\n",
       "      <td>0.000000</td>\n",
       "      <td>0.000000</td>\n",
       "      <td>1.000000</td>\n",
       "      <td>1.000000</td>\n",
       "      <td>1.000000</td>\n",
       "      <td>0.000000</td>\n",
       "      <td>1.000000</td>\n",
       "    </tr>\n",
       "    <tr>\n",
       "      <th>9</th>\n",
       "      <td>democrat</td>\n",
       "      <td>1.00000</td>\n",
       "      <td>1.000000</td>\n",
       "      <td>1.000000</td>\n",
       "      <td>0.000000</td>\n",
       "      <td>0.000000</td>\n",
       "      <td>0.000000</td>\n",
       "      <td>1.000000</td>\n",
       "      <td>1.00000</td>\n",
       "      <td>1.000000</td>\n",
       "      <td>0.000000</td>\n",
       "      <td>0.000000</td>\n",
       "      <td>0.000000</td>\n",
       "      <td>0.000000</td>\n",
       "      <td>0.000000</td>\n",
       "      <td>0.427518</td>\n",
       "      <td>0.812689</td>\n",
       "    </tr>\n",
       "    <tr>\n",
       "      <th>10</th>\n",
       "      <td>republican</td>\n",
       "      <td>0.00000</td>\n",
       "      <td>1.000000</td>\n",
       "      <td>0.000000</td>\n",
       "      <td>1.000000</td>\n",
       "      <td>1.000000</td>\n",
       "      <td>0.000000</td>\n",
       "      <td>0.000000</td>\n",
       "      <td>0.00000</td>\n",
       "      <td>0.000000</td>\n",
       "      <td>0.000000</td>\n",
       "      <td>0.362319</td>\n",
       "      <td>0.423267</td>\n",
       "      <td>1.000000</td>\n",
       "      <td>1.000000</td>\n",
       "      <td>0.000000</td>\n",
       "      <td>0.000000</td>\n",
       "    </tr>\n",
       "    <tr>\n",
       "      <th>11</th>\n",
       "      <td>republican</td>\n",
       "      <td>0.00000</td>\n",
       "      <td>1.000000</td>\n",
       "      <td>0.000000</td>\n",
       "      <td>1.000000</td>\n",
       "      <td>1.000000</td>\n",
       "      <td>1.000000</td>\n",
       "      <td>0.000000</td>\n",
       "      <td>0.00000</td>\n",
       "      <td>0.000000</td>\n",
       "      <td>0.000000</td>\n",
       "      <td>1.000000</td>\n",
       "      <td>0.423267</td>\n",
       "      <td>1.000000</td>\n",
       "      <td>1.000000</td>\n",
       "      <td>0.427518</td>\n",
       "      <td>0.812689</td>\n",
       "    </tr>\n",
       "    <tr>\n",
       "      <th>12</th>\n",
       "      <td>democrat</td>\n",
       "      <td>0.00000</td>\n",
       "      <td>1.000000</td>\n",
       "      <td>1.000000</td>\n",
       "      <td>0.000000</td>\n",
       "      <td>0.000000</td>\n",
       "      <td>0.000000</td>\n",
       "      <td>1.000000</td>\n",
       "      <td>1.00000</td>\n",
       "      <td>1.000000</td>\n",
       "      <td>0.000000</td>\n",
       "      <td>0.000000</td>\n",
       "      <td>0.000000</td>\n",
       "      <td>1.000000</td>\n",
       "      <td>0.000000</td>\n",
       "      <td>0.427518</td>\n",
       "      <td>0.812689</td>\n",
       "    </tr>\n",
       "    <tr>\n",
       "      <th>13</th>\n",
       "      <td>democrat</td>\n",
       "      <td>1.00000</td>\n",
       "      <td>1.000000</td>\n",
       "      <td>1.000000</td>\n",
       "      <td>0.000000</td>\n",
       "      <td>0.000000</td>\n",
       "      <td>1.000000</td>\n",
       "      <td>1.000000</td>\n",
       "      <td>1.00000</td>\n",
       "      <td>0.501211</td>\n",
       "      <td>1.000000</td>\n",
       "      <td>1.000000</td>\n",
       "      <td>0.423267</td>\n",
       "      <td>0.000000</td>\n",
       "      <td>0.000000</td>\n",
       "      <td>1.000000</td>\n",
       "      <td>0.812689</td>\n",
       "    </tr>\n",
       "    <tr>\n",
       "      <th>14</th>\n",
       "      <td>republican</td>\n",
       "      <td>0.00000</td>\n",
       "      <td>1.000000</td>\n",
       "      <td>0.000000</td>\n",
       "      <td>1.000000</td>\n",
       "      <td>1.000000</td>\n",
       "      <td>1.000000</td>\n",
       "      <td>0.000000</td>\n",
       "      <td>0.00000</td>\n",
       "      <td>0.000000</td>\n",
       "      <td>0.000000</td>\n",
       "      <td>0.000000</td>\n",
       "      <td>1.000000</td>\n",
       "      <td>0.509756</td>\n",
       "      <td>0.593301</td>\n",
       "      <td>0.000000</td>\n",
       "      <td>0.812689</td>\n",
       "    </tr>\n",
       "    <tr>\n",
       "      <th>15</th>\n",
       "      <td>republican</td>\n",
       "      <td>0.00000</td>\n",
       "      <td>1.000000</td>\n",
       "      <td>0.000000</td>\n",
       "      <td>1.000000</td>\n",
       "      <td>1.000000</td>\n",
       "      <td>1.000000</td>\n",
       "      <td>0.000000</td>\n",
       "      <td>0.00000</td>\n",
       "      <td>0.000000</td>\n",
       "      <td>1.000000</td>\n",
       "      <td>0.000000</td>\n",
       "      <td>1.000000</td>\n",
       "      <td>1.000000</td>\n",
       "      <td>0.593301</td>\n",
       "      <td>0.000000</td>\n",
       "      <td>0.812689</td>\n",
       "    </tr>\n",
       "    <tr>\n",
       "      <th>16</th>\n",
       "      <td>democrat</td>\n",
       "      <td>1.00000</td>\n",
       "      <td>0.000000</td>\n",
       "      <td>1.000000</td>\n",
       "      <td>0.000000</td>\n",
       "      <td>0.000000</td>\n",
       "      <td>1.000000</td>\n",
       "      <td>0.000000</td>\n",
       "      <td>1.00000</td>\n",
       "      <td>0.501211</td>\n",
       "      <td>1.000000</td>\n",
       "      <td>1.000000</td>\n",
       "      <td>1.000000</td>\n",
       "      <td>0.509756</td>\n",
       "      <td>0.000000</td>\n",
       "      <td>0.000000</td>\n",
       "      <td>1.000000</td>\n",
       "    </tr>\n",
       "    <tr>\n",
       "      <th>17</th>\n",
       "      <td>democrat</td>\n",
       "      <td>1.00000</td>\n",
       "      <td>0.503876</td>\n",
       "      <td>1.000000</td>\n",
       "      <td>0.000000</td>\n",
       "      <td>0.000000</td>\n",
       "      <td>0.000000</td>\n",
       "      <td>1.000000</td>\n",
       "      <td>1.00000</td>\n",
       "      <td>1.000000</td>\n",
       "      <td>0.000000</td>\n",
       "      <td>0.000000</td>\n",
       "      <td>0.000000</td>\n",
       "      <td>1.000000</td>\n",
       "      <td>0.000000</td>\n",
       "      <td>1.000000</td>\n",
       "      <td>1.000000</td>\n",
       "    </tr>\n",
       "    <tr>\n",
       "      <th>18</th>\n",
       "      <td>republican</td>\n",
       "      <td>0.00000</td>\n",
       "      <td>1.000000</td>\n",
       "      <td>0.000000</td>\n",
       "      <td>1.000000</td>\n",
       "      <td>1.000000</td>\n",
       "      <td>1.000000</td>\n",
       "      <td>0.000000</td>\n",
       "      <td>0.00000</td>\n",
       "      <td>0.000000</td>\n",
       "      <td>0.000000</td>\n",
       "      <td>0.000000</td>\n",
       "      <td>0.423267</td>\n",
       "      <td>1.000000</td>\n",
       "      <td>1.000000</td>\n",
       "      <td>0.000000</td>\n",
       "      <td>0.000000</td>\n",
       "    </tr>\n",
       "    <tr>\n",
       "      <th>19</th>\n",
       "      <td>democrat</td>\n",
       "      <td>1.00000</td>\n",
       "      <td>1.000000</td>\n",
       "      <td>1.000000</td>\n",
       "      <td>0.000000</td>\n",
       "      <td>0.000000</td>\n",
       "      <td>0.000000</td>\n",
       "      <td>1.000000</td>\n",
       "      <td>1.00000</td>\n",
       "      <td>1.000000</td>\n",
       "      <td>0.000000</td>\n",
       "      <td>1.000000</td>\n",
       "      <td>0.000000</td>\n",
       "      <td>0.000000</td>\n",
       "      <td>0.000000</td>\n",
       "      <td>1.000000</td>\n",
       "      <td>1.000000</td>\n",
       "    </tr>\n",
       "    <tr>\n",
       "      <th>20</th>\n",
       "      <td>democrat</td>\n",
       "      <td>1.00000</td>\n",
       "      <td>1.000000</td>\n",
       "      <td>1.000000</td>\n",
       "      <td>0.000000</td>\n",
       "      <td>0.000000</td>\n",
       "      <td>0.641509</td>\n",
       "      <td>1.000000</td>\n",
       "      <td>1.00000</td>\n",
       "      <td>0.000000</td>\n",
       "      <td>0.000000</td>\n",
       "      <td>1.000000</td>\n",
       "      <td>0.000000</td>\n",
       "      <td>0.000000</td>\n",
       "      <td>0.000000</td>\n",
       "      <td>1.000000</td>\n",
       "      <td>1.000000</td>\n",
       "    </tr>\n",
       "    <tr>\n",
       "      <th>21</th>\n",
       "      <td>democrat</td>\n",
       "      <td>1.00000</td>\n",
       "      <td>1.000000</td>\n",
       "      <td>1.000000</td>\n",
       "      <td>0.000000</td>\n",
       "      <td>0.000000</td>\n",
       "      <td>0.000000</td>\n",
       "      <td>1.000000</td>\n",
       "      <td>1.00000</td>\n",
       "      <td>1.000000</td>\n",
       "      <td>0.000000</td>\n",
       "      <td>0.000000</td>\n",
       "      <td>0.000000</td>\n",
       "      <td>0.509756</td>\n",
       "      <td>0.593301</td>\n",
       "      <td>1.000000</td>\n",
       "      <td>1.000000</td>\n",
       "    </tr>\n",
       "    <tr>\n",
       "      <th>22</th>\n",
       "      <td>democrat</td>\n",
       "      <td>1.00000</td>\n",
       "      <td>0.503876</td>\n",
       "      <td>1.000000</td>\n",
       "      <td>0.000000</td>\n",
       "      <td>0.000000</td>\n",
       "      <td>0.000000</td>\n",
       "      <td>1.000000</td>\n",
       "      <td>1.00000</td>\n",
       "      <td>1.000000</td>\n",
       "      <td>0.000000</td>\n",
       "      <td>0.000000</td>\n",
       "      <td>0.423267</td>\n",
       "      <td>0.000000</td>\n",
       "      <td>0.000000</td>\n",
       "      <td>1.000000</td>\n",
       "      <td>1.000000</td>\n",
       "    </tr>\n",
       "    <tr>\n",
       "      <th>23</th>\n",
       "      <td>democrat</td>\n",
       "      <td>1.00000</td>\n",
       "      <td>1.000000</td>\n",
       "      <td>1.000000</td>\n",
       "      <td>0.000000</td>\n",
       "      <td>0.000000</td>\n",
       "      <td>0.000000</td>\n",
       "      <td>1.000000</td>\n",
       "      <td>1.00000</td>\n",
       "      <td>1.000000</td>\n",
       "      <td>0.000000</td>\n",
       "      <td>0.000000</td>\n",
       "      <td>0.000000</td>\n",
       "      <td>0.000000</td>\n",
       "      <td>0.000000</td>\n",
       "      <td>1.000000</td>\n",
       "      <td>1.000000</td>\n",
       "    </tr>\n",
       "    <tr>\n",
       "      <th>24</th>\n",
       "      <td>democrat</td>\n",
       "      <td>1.00000</td>\n",
       "      <td>0.000000</td>\n",
       "      <td>1.000000</td>\n",
       "      <td>0.000000</td>\n",
       "      <td>0.000000</td>\n",
       "      <td>0.000000</td>\n",
       "      <td>1.000000</td>\n",
       "      <td>1.00000</td>\n",
       "      <td>1.000000</td>\n",
       "      <td>0.000000</td>\n",
       "      <td>0.000000</td>\n",
       "      <td>0.000000</td>\n",
       "      <td>0.000000</td>\n",
       "      <td>0.000000</td>\n",
       "      <td>1.000000</td>\n",
       "      <td>0.812689</td>\n",
       "    </tr>\n",
       "    <tr>\n",
       "      <th>25</th>\n",
       "      <td>democrat</td>\n",
       "      <td>1.00000</td>\n",
       "      <td>0.000000</td>\n",
       "      <td>1.000000</td>\n",
       "      <td>0.000000</td>\n",
       "      <td>0.000000</td>\n",
       "      <td>0.000000</td>\n",
       "      <td>1.000000</td>\n",
       "      <td>1.00000</td>\n",
       "      <td>1.000000</td>\n",
       "      <td>1.000000</td>\n",
       "      <td>0.000000</td>\n",
       "      <td>0.000000</td>\n",
       "      <td>0.000000</td>\n",
       "      <td>0.000000</td>\n",
       "      <td>1.000000</td>\n",
       "      <td>1.000000</td>\n",
       "    </tr>\n",
       "    <tr>\n",
       "      <th>26</th>\n",
       "      <td>democrat</td>\n",
       "      <td>1.00000</td>\n",
       "      <td>0.000000</td>\n",
       "      <td>1.000000</td>\n",
       "      <td>0.000000</td>\n",
       "      <td>0.000000</td>\n",
       "      <td>0.000000</td>\n",
       "      <td>1.000000</td>\n",
       "      <td>1.00000</td>\n",
       "      <td>1.000000</td>\n",
       "      <td>0.000000</td>\n",
       "      <td>1.000000</td>\n",
       "      <td>0.000000</td>\n",
       "      <td>0.000000</td>\n",
       "      <td>0.000000</td>\n",
       "      <td>1.000000</td>\n",
       "      <td>1.000000</td>\n",
       "    </tr>\n",
       "    <tr>\n",
       "      <th>27</th>\n",
       "      <td>democrat</td>\n",
       "      <td>1.00000</td>\n",
       "      <td>1.000000</td>\n",
       "      <td>1.000000</td>\n",
       "      <td>0.000000</td>\n",
       "      <td>0.000000</td>\n",
       "      <td>0.000000</td>\n",
       "      <td>1.000000</td>\n",
       "      <td>1.00000</td>\n",
       "      <td>1.000000</td>\n",
       "      <td>0.000000</td>\n",
       "      <td>1.000000</td>\n",
       "      <td>0.000000</td>\n",
       "      <td>0.000000</td>\n",
       "      <td>0.000000</td>\n",
       "      <td>1.000000</td>\n",
       "      <td>1.000000</td>\n",
       "    </tr>\n",
       "    <tr>\n",
       "      <th>28</th>\n",
       "      <td>republican</td>\n",
       "      <td>1.00000</td>\n",
       "      <td>0.000000</td>\n",
       "      <td>0.000000</td>\n",
       "      <td>1.000000</td>\n",
       "      <td>1.000000</td>\n",
       "      <td>0.000000</td>\n",
       "      <td>1.000000</td>\n",
       "      <td>1.00000</td>\n",
       "      <td>1.000000</td>\n",
       "      <td>0.000000</td>\n",
       "      <td>0.000000</td>\n",
       "      <td>1.000000</td>\n",
       "      <td>1.000000</td>\n",
       "      <td>1.000000</td>\n",
       "      <td>0.000000</td>\n",
       "      <td>1.000000</td>\n",
       "    </tr>\n",
       "    <tr>\n",
       "      <th>29</th>\n",
       "      <td>democrat</td>\n",
       "      <td>1.00000</td>\n",
       "      <td>1.000000</td>\n",
       "      <td>1.000000</td>\n",
       "      <td>0.000000</td>\n",
       "      <td>0.000000</td>\n",
       "      <td>0.000000</td>\n",
       "      <td>1.000000</td>\n",
       "      <td>1.00000</td>\n",
       "      <td>1.000000</td>\n",
       "      <td>0.000000</td>\n",
       "      <td>1.000000</td>\n",
       "      <td>0.000000</td>\n",
       "      <td>0.000000</td>\n",
       "      <td>0.000000</td>\n",
       "      <td>1.000000</td>\n",
       "      <td>1.000000</td>\n",
       "    </tr>\n",
       "    <tr>\n",
       "      <th>...</th>\n",
       "      <td>...</td>\n",
       "      <td>...</td>\n",
       "      <td>...</td>\n",
       "      <td>...</td>\n",
       "      <td>...</td>\n",
       "      <td>...</td>\n",
       "      <td>...</td>\n",
       "      <td>...</td>\n",
       "      <td>...</td>\n",
       "      <td>...</td>\n",
       "      <td>...</td>\n",
       "      <td>...</td>\n",
       "      <td>...</td>\n",
       "      <td>...</td>\n",
       "      <td>...</td>\n",
       "      <td>...</td>\n",
       "      <td>...</td>\n",
       "    </tr>\n",
       "    <tr>\n",
       "      <th>405</th>\n",
       "      <td>republican</td>\n",
       "      <td>0.00000</td>\n",
       "      <td>0.000000</td>\n",
       "      <td>0.000000</td>\n",
       "      <td>1.000000</td>\n",
       "      <td>1.000000</td>\n",
       "      <td>1.000000</td>\n",
       "      <td>0.000000</td>\n",
       "      <td>0.00000</td>\n",
       "      <td>0.000000</td>\n",
       "      <td>0.000000</td>\n",
       "      <td>0.000000</td>\n",
       "      <td>1.000000</td>\n",
       "      <td>1.000000</td>\n",
       "      <td>1.000000</td>\n",
       "      <td>0.000000</td>\n",
       "      <td>1.000000</td>\n",
       "    </tr>\n",
       "    <tr>\n",
       "      <th>406</th>\n",
       "      <td>democrat</td>\n",
       "      <td>1.00000</td>\n",
       "      <td>0.000000</td>\n",
       "      <td>1.000000</td>\n",
       "      <td>0.000000</td>\n",
       "      <td>1.000000</td>\n",
       "      <td>1.000000</td>\n",
       "      <td>0.000000</td>\n",
       "      <td>0.00000</td>\n",
       "      <td>1.000000</td>\n",
       "      <td>1.000000</td>\n",
       "      <td>0.000000</td>\n",
       "      <td>0.000000</td>\n",
       "      <td>1.000000</td>\n",
       "      <td>1.000000</td>\n",
       "      <td>0.000000</td>\n",
       "      <td>1.000000</td>\n",
       "    </tr>\n",
       "    <tr>\n",
       "      <th>407</th>\n",
       "      <td>democrat</td>\n",
       "      <td>0.00000</td>\n",
       "      <td>0.000000</td>\n",
       "      <td>0.000000</td>\n",
       "      <td>1.000000</td>\n",
       "      <td>1.000000</td>\n",
       "      <td>1.000000</td>\n",
       "      <td>0.000000</td>\n",
       "      <td>0.00000</td>\n",
       "      <td>0.000000</td>\n",
       "      <td>0.000000</td>\n",
       "      <td>1.000000</td>\n",
       "      <td>1.000000</td>\n",
       "      <td>1.000000</td>\n",
       "      <td>1.000000</td>\n",
       "      <td>0.000000</td>\n",
       "      <td>0.000000</td>\n",
       "    </tr>\n",
       "    <tr>\n",
       "      <th>408</th>\n",
       "      <td>democrat</td>\n",
       "      <td>1.00000</td>\n",
       "      <td>0.000000</td>\n",
       "      <td>1.000000</td>\n",
       "      <td>0.000000</td>\n",
       "      <td>0.000000</td>\n",
       "      <td>1.000000</td>\n",
       "      <td>1.000000</td>\n",
       "      <td>1.00000</td>\n",
       "      <td>1.000000</td>\n",
       "      <td>0.000000</td>\n",
       "      <td>0.000000</td>\n",
       "      <td>1.000000</td>\n",
       "      <td>0.509756</td>\n",
       "      <td>1.000000</td>\n",
       "      <td>1.000000</td>\n",
       "      <td>1.000000</td>\n",
       "    </tr>\n",
       "    <tr>\n",
       "      <th>409</th>\n",
       "      <td>republican</td>\n",
       "      <td>0.00000</td>\n",
       "      <td>0.000000</td>\n",
       "      <td>0.000000</td>\n",
       "      <td>1.000000</td>\n",
       "      <td>1.000000</td>\n",
       "      <td>1.000000</td>\n",
       "      <td>0.000000</td>\n",
       "      <td>0.00000</td>\n",
       "      <td>0.000000</td>\n",
       "      <td>0.000000</td>\n",
       "      <td>0.000000</td>\n",
       "      <td>1.000000</td>\n",
       "      <td>1.000000</td>\n",
       "      <td>1.000000</td>\n",
       "      <td>0.000000</td>\n",
       "      <td>0.000000</td>\n",
       "    </tr>\n",
       "    <tr>\n",
       "      <th>410</th>\n",
       "      <td>republican</td>\n",
       "      <td>0.00000</td>\n",
       "      <td>0.000000</td>\n",
       "      <td>0.000000</td>\n",
       "      <td>1.000000</td>\n",
       "      <td>1.000000</td>\n",
       "      <td>1.000000</td>\n",
       "      <td>0.000000</td>\n",
       "      <td>0.00000</td>\n",
       "      <td>0.000000</td>\n",
       "      <td>0.000000</td>\n",
       "      <td>1.000000</td>\n",
       "      <td>1.000000</td>\n",
       "      <td>1.000000</td>\n",
       "      <td>1.000000</td>\n",
       "      <td>0.000000</td>\n",
       "      <td>1.000000</td>\n",
       "    </tr>\n",
       "    <tr>\n",
       "      <th>411</th>\n",
       "      <td>democrat</td>\n",
       "      <td>1.00000</td>\n",
       "      <td>0.000000</td>\n",
       "      <td>1.000000</td>\n",
       "      <td>0.000000</td>\n",
       "      <td>0.000000</td>\n",
       "      <td>1.000000</td>\n",
       "      <td>1.000000</td>\n",
       "      <td>1.00000</td>\n",
       "      <td>1.000000</td>\n",
       "      <td>1.000000</td>\n",
       "      <td>1.000000</td>\n",
       "      <td>0.000000</td>\n",
       "      <td>0.000000</td>\n",
       "      <td>0.000000</td>\n",
       "      <td>0.000000</td>\n",
       "      <td>1.000000</td>\n",
       "    </tr>\n",
       "    <tr>\n",
       "      <th>412</th>\n",
       "      <td>republican</td>\n",
       "      <td>0.00000</td>\n",
       "      <td>0.000000</td>\n",
       "      <td>0.000000</td>\n",
       "      <td>1.000000</td>\n",
       "      <td>1.000000</td>\n",
       "      <td>1.000000</td>\n",
       "      <td>0.000000</td>\n",
       "      <td>0.00000</td>\n",
       "      <td>0.000000</td>\n",
       "      <td>1.000000</td>\n",
       "      <td>0.000000</td>\n",
       "      <td>1.000000</td>\n",
       "      <td>1.000000</td>\n",
       "      <td>1.000000</td>\n",
       "      <td>0.000000</td>\n",
       "      <td>1.000000</td>\n",
       "    </tr>\n",
       "    <tr>\n",
       "      <th>413</th>\n",
       "      <td>republican</td>\n",
       "      <td>1.00000</td>\n",
       "      <td>1.000000</td>\n",
       "      <td>1.000000</td>\n",
       "      <td>1.000000</td>\n",
       "      <td>1.000000</td>\n",
       "      <td>1.000000</td>\n",
       "      <td>1.000000</td>\n",
       "      <td>1.00000</td>\n",
       "      <td>0.000000</td>\n",
       "      <td>1.000000</td>\n",
       "      <td>0.362319</td>\n",
       "      <td>0.423267</td>\n",
       "      <td>0.509756</td>\n",
       "      <td>1.000000</td>\n",
       "      <td>0.000000</td>\n",
       "      <td>1.000000</td>\n",
       "    </tr>\n",
       "    <tr>\n",
       "      <th>414</th>\n",
       "      <td>democrat</td>\n",
       "      <td>1.00000</td>\n",
       "      <td>1.000000</td>\n",
       "      <td>1.000000</td>\n",
       "      <td>0.000000</td>\n",
       "      <td>0.000000</td>\n",
       "      <td>0.000000</td>\n",
       "      <td>1.000000</td>\n",
       "      <td>1.00000</td>\n",
       "      <td>1.000000</td>\n",
       "      <td>0.000000</td>\n",
       "      <td>0.000000</td>\n",
       "      <td>0.000000</td>\n",
       "      <td>0.000000</td>\n",
       "      <td>0.000000</td>\n",
       "      <td>0.000000</td>\n",
       "      <td>1.000000</td>\n",
       "    </tr>\n",
       "    <tr>\n",
       "      <th>415</th>\n",
       "      <td>democrat</td>\n",
       "      <td>0.00000</td>\n",
       "      <td>1.000000</td>\n",
       "      <td>1.000000</td>\n",
       "      <td>0.000000</td>\n",
       "      <td>0.000000</td>\n",
       "      <td>1.000000</td>\n",
       "      <td>1.000000</td>\n",
       "      <td>1.00000</td>\n",
       "      <td>0.501211</td>\n",
       "      <td>1.000000</td>\n",
       "      <td>0.000000</td>\n",
       "      <td>0.000000</td>\n",
       "      <td>0.000000</td>\n",
       "      <td>0.000000</td>\n",
       "      <td>0.000000</td>\n",
       "      <td>1.000000</td>\n",
       "    </tr>\n",
       "    <tr>\n",
       "      <th>416</th>\n",
       "      <td>republican</td>\n",
       "      <td>1.00000</td>\n",
       "      <td>1.000000</td>\n",
       "      <td>0.000000</td>\n",
       "      <td>1.000000</td>\n",
       "      <td>1.000000</td>\n",
       "      <td>1.000000</td>\n",
       "      <td>0.000000</td>\n",
       "      <td>0.00000</td>\n",
       "      <td>0.000000</td>\n",
       "      <td>1.000000</td>\n",
       "      <td>0.000000</td>\n",
       "      <td>0.000000</td>\n",
       "      <td>1.000000</td>\n",
       "      <td>1.000000</td>\n",
       "      <td>0.000000</td>\n",
       "      <td>1.000000</td>\n",
       "    </tr>\n",
       "    <tr>\n",
       "      <th>417</th>\n",
       "      <td>democrat</td>\n",
       "      <td>1.00000</td>\n",
       "      <td>1.000000</td>\n",
       "      <td>1.000000</td>\n",
       "      <td>0.000000</td>\n",
       "      <td>0.000000</td>\n",
       "      <td>0.000000</td>\n",
       "      <td>1.000000</td>\n",
       "      <td>1.00000</td>\n",
       "      <td>1.000000</td>\n",
       "      <td>1.000000</td>\n",
       "      <td>1.000000</td>\n",
       "      <td>0.000000</td>\n",
       "      <td>1.000000</td>\n",
       "      <td>0.000000</td>\n",
       "      <td>0.000000</td>\n",
       "      <td>1.000000</td>\n",
       "    </tr>\n",
       "    <tr>\n",
       "      <th>418</th>\n",
       "      <td>democrat</td>\n",
       "      <td>1.00000</td>\n",
       "      <td>1.000000</td>\n",
       "      <td>1.000000</td>\n",
       "      <td>0.000000</td>\n",
       "      <td>0.000000</td>\n",
       "      <td>0.000000</td>\n",
       "      <td>1.000000</td>\n",
       "      <td>1.00000</td>\n",
       "      <td>0.000000</td>\n",
       "      <td>1.000000</td>\n",
       "      <td>0.000000</td>\n",
       "      <td>0.000000</td>\n",
       "      <td>0.000000</td>\n",
       "      <td>0.000000</td>\n",
       "      <td>0.000000</td>\n",
       "      <td>1.000000</td>\n",
       "    </tr>\n",
       "    <tr>\n",
       "      <th>419</th>\n",
       "      <td>democrat</td>\n",
       "      <td>1.00000</td>\n",
       "      <td>1.000000</td>\n",
       "      <td>1.000000</td>\n",
       "      <td>0.000000</td>\n",
       "      <td>0.000000</td>\n",
       "      <td>0.000000</td>\n",
       "      <td>1.000000</td>\n",
       "      <td>1.00000</td>\n",
       "      <td>1.000000</td>\n",
       "      <td>0.000000</td>\n",
       "      <td>0.000000</td>\n",
       "      <td>0.000000</td>\n",
       "      <td>0.000000</td>\n",
       "      <td>0.000000</td>\n",
       "      <td>0.000000</td>\n",
       "      <td>1.000000</td>\n",
       "    </tr>\n",
       "    <tr>\n",
       "      <th>420</th>\n",
       "      <td>republican</td>\n",
       "      <td>1.00000</td>\n",
       "      <td>1.000000</td>\n",
       "      <td>1.000000</td>\n",
       "      <td>1.000000</td>\n",
       "      <td>1.000000</td>\n",
       "      <td>1.000000</td>\n",
       "      <td>1.000000</td>\n",
       "      <td>1.00000</td>\n",
       "      <td>0.000000</td>\n",
       "      <td>1.000000</td>\n",
       "      <td>0.000000</td>\n",
       "      <td>0.000000</td>\n",
       "      <td>1.000000</td>\n",
       "      <td>1.000000</td>\n",
       "      <td>0.000000</td>\n",
       "      <td>1.000000</td>\n",
       "    </tr>\n",
       "    <tr>\n",
       "      <th>421</th>\n",
       "      <td>democrat</td>\n",
       "      <td>0.00000</td>\n",
       "      <td>1.000000</td>\n",
       "      <td>1.000000</td>\n",
       "      <td>0.000000</td>\n",
       "      <td>1.000000</td>\n",
       "      <td>1.000000</td>\n",
       "      <td>1.000000</td>\n",
       "      <td>1.00000</td>\n",
       "      <td>0.000000</td>\n",
       "      <td>0.000000</td>\n",
       "      <td>1.000000</td>\n",
       "      <td>0.000000</td>\n",
       "      <td>1.000000</td>\n",
       "      <td>0.000000</td>\n",
       "      <td>1.000000</td>\n",
       "      <td>1.000000</td>\n",
       "    </tr>\n",
       "    <tr>\n",
       "      <th>422</th>\n",
       "      <td>democrat</td>\n",
       "      <td>0.00000</td>\n",
       "      <td>0.000000</td>\n",
       "      <td>1.000000</td>\n",
       "      <td>0.000000</td>\n",
       "      <td>0.000000</td>\n",
       "      <td>1.000000</td>\n",
       "      <td>1.000000</td>\n",
       "      <td>1.00000</td>\n",
       "      <td>1.000000</td>\n",
       "      <td>0.000000</td>\n",
       "      <td>1.000000</td>\n",
       "      <td>0.000000</td>\n",
       "      <td>0.000000</td>\n",
       "      <td>0.000000</td>\n",
       "      <td>1.000000</td>\n",
       "      <td>1.000000</td>\n",
       "    </tr>\n",
       "    <tr>\n",
       "      <th>423</th>\n",
       "      <td>democrat</td>\n",
       "      <td>0.00000</td>\n",
       "      <td>1.000000</td>\n",
       "      <td>1.000000</td>\n",
       "      <td>0.000000</td>\n",
       "      <td>0.000000</td>\n",
       "      <td>1.000000</td>\n",
       "      <td>1.000000</td>\n",
       "      <td>1.00000</td>\n",
       "      <td>1.000000</td>\n",
       "      <td>0.000000</td>\n",
       "      <td>1.000000</td>\n",
       "      <td>0.000000</td>\n",
       "      <td>0.000000</td>\n",
       "      <td>1.000000</td>\n",
       "      <td>1.000000</td>\n",
       "      <td>1.000000</td>\n",
       "    </tr>\n",
       "    <tr>\n",
       "      <th>424</th>\n",
       "      <td>democrat</td>\n",
       "      <td>0.00000</td>\n",
       "      <td>1.000000</td>\n",
       "      <td>1.000000</td>\n",
       "      <td>0.000000</td>\n",
       "      <td>0.000000</td>\n",
       "      <td>0.641509</td>\n",
       "      <td>1.000000</td>\n",
       "      <td>1.00000</td>\n",
       "      <td>1.000000</td>\n",
       "      <td>1.000000</td>\n",
       "      <td>1.000000</td>\n",
       "      <td>0.000000</td>\n",
       "      <td>0.509756</td>\n",
       "      <td>1.000000</td>\n",
       "      <td>1.000000</td>\n",
       "      <td>1.000000</td>\n",
       "    </tr>\n",
       "    <tr>\n",
       "      <th>425</th>\n",
       "      <td>democrat</td>\n",
       "      <td>0.00000</td>\n",
       "      <td>0.000000</td>\n",
       "      <td>1.000000</td>\n",
       "      <td>0.000000</td>\n",
       "      <td>0.000000</td>\n",
       "      <td>0.000000</td>\n",
       "      <td>1.000000</td>\n",
       "      <td>1.00000</td>\n",
       "      <td>0.000000</td>\n",
       "      <td>1.000000</td>\n",
       "      <td>1.000000</td>\n",
       "      <td>0.000000</td>\n",
       "      <td>0.000000</td>\n",
       "      <td>0.000000</td>\n",
       "      <td>1.000000</td>\n",
       "      <td>0.812689</td>\n",
       "    </tr>\n",
       "    <tr>\n",
       "      <th>426</th>\n",
       "      <td>democrat</td>\n",
       "      <td>1.00000</td>\n",
       "      <td>0.000000</td>\n",
       "      <td>1.000000</td>\n",
       "      <td>0.000000</td>\n",
       "      <td>0.000000</td>\n",
       "      <td>0.000000</td>\n",
       "      <td>1.000000</td>\n",
       "      <td>1.00000</td>\n",
       "      <td>1.000000</td>\n",
       "      <td>1.000000</td>\n",
       "      <td>0.000000</td>\n",
       "      <td>0.000000</td>\n",
       "      <td>0.000000</td>\n",
       "      <td>0.000000</td>\n",
       "      <td>1.000000</td>\n",
       "      <td>1.000000</td>\n",
       "    </tr>\n",
       "    <tr>\n",
       "      <th>427</th>\n",
       "      <td>republican</td>\n",
       "      <td>0.00000</td>\n",
       "      <td>0.000000</td>\n",
       "      <td>0.000000</td>\n",
       "      <td>1.000000</td>\n",
       "      <td>1.000000</td>\n",
       "      <td>1.000000</td>\n",
       "      <td>1.000000</td>\n",
       "      <td>1.00000</td>\n",
       "      <td>0.000000</td>\n",
       "      <td>1.000000</td>\n",
       "      <td>0.000000</td>\n",
       "      <td>1.000000</td>\n",
       "      <td>1.000000</td>\n",
       "      <td>1.000000</td>\n",
       "      <td>0.000000</td>\n",
       "      <td>1.000000</td>\n",
       "    </tr>\n",
       "    <tr>\n",
       "      <th>428</th>\n",
       "      <td>democrat</td>\n",
       "      <td>0.44208</td>\n",
       "      <td>0.503876</td>\n",
       "      <td>0.596698</td>\n",
       "      <td>0.000000</td>\n",
       "      <td>0.000000</td>\n",
       "      <td>0.000000</td>\n",
       "      <td>1.000000</td>\n",
       "      <td>1.00000</td>\n",
       "      <td>1.000000</td>\n",
       "      <td>1.000000</td>\n",
       "      <td>0.000000</td>\n",
       "      <td>0.000000</td>\n",
       "      <td>1.000000</td>\n",
       "      <td>0.000000</td>\n",
       "      <td>1.000000</td>\n",
       "      <td>1.000000</td>\n",
       "    </tr>\n",
       "    <tr>\n",
       "      <th>429</th>\n",
       "      <td>democrat</td>\n",
       "      <td>1.00000</td>\n",
       "      <td>0.000000</td>\n",
       "      <td>1.000000</td>\n",
       "      <td>0.000000</td>\n",
       "      <td>0.504762</td>\n",
       "      <td>0.000000</td>\n",
       "      <td>1.000000</td>\n",
       "      <td>1.00000</td>\n",
       "      <td>1.000000</td>\n",
       "      <td>1.000000</td>\n",
       "      <td>0.000000</td>\n",
       "      <td>1.000000</td>\n",
       "      <td>0.000000</td>\n",
       "      <td>0.593301</td>\n",
       "      <td>1.000000</td>\n",
       "      <td>1.000000</td>\n",
       "    </tr>\n",
       "    <tr>\n",
       "      <th>430</th>\n",
       "      <td>republican</td>\n",
       "      <td>0.00000</td>\n",
       "      <td>0.000000</td>\n",
       "      <td>1.000000</td>\n",
       "      <td>1.000000</td>\n",
       "      <td>1.000000</td>\n",
       "      <td>1.000000</td>\n",
       "      <td>0.000000</td>\n",
       "      <td>0.00000</td>\n",
       "      <td>1.000000</td>\n",
       "      <td>1.000000</td>\n",
       "      <td>0.000000</td>\n",
       "      <td>1.000000</td>\n",
       "      <td>1.000000</td>\n",
       "      <td>1.000000</td>\n",
       "      <td>0.000000</td>\n",
       "      <td>1.000000</td>\n",
       "    </tr>\n",
       "    <tr>\n",
       "      <th>431</th>\n",
       "      <td>democrat</td>\n",
       "      <td>0.00000</td>\n",
       "      <td>0.000000</td>\n",
       "      <td>1.000000</td>\n",
       "      <td>0.000000</td>\n",
       "      <td>0.000000</td>\n",
       "      <td>0.000000</td>\n",
       "      <td>1.000000</td>\n",
       "      <td>1.00000</td>\n",
       "      <td>1.000000</td>\n",
       "      <td>1.000000</td>\n",
       "      <td>0.000000</td>\n",
       "      <td>0.000000</td>\n",
       "      <td>0.000000</td>\n",
       "      <td>0.000000</td>\n",
       "      <td>0.000000</td>\n",
       "      <td>1.000000</td>\n",
       "    </tr>\n",
       "    <tr>\n",
       "      <th>432</th>\n",
       "      <td>republican</td>\n",
       "      <td>0.00000</td>\n",
       "      <td>0.503876</td>\n",
       "      <td>0.000000</td>\n",
       "      <td>1.000000</td>\n",
       "      <td>1.000000</td>\n",
       "      <td>1.000000</td>\n",
       "      <td>0.000000</td>\n",
       "      <td>0.00000</td>\n",
       "      <td>0.000000</td>\n",
       "      <td>0.000000</td>\n",
       "      <td>1.000000</td>\n",
       "      <td>1.000000</td>\n",
       "      <td>1.000000</td>\n",
       "      <td>1.000000</td>\n",
       "      <td>0.000000</td>\n",
       "      <td>1.000000</td>\n",
       "    </tr>\n",
       "    <tr>\n",
       "      <th>433</th>\n",
       "      <td>republican</td>\n",
       "      <td>0.00000</td>\n",
       "      <td>0.000000</td>\n",
       "      <td>0.000000</td>\n",
       "      <td>1.000000</td>\n",
       "      <td>1.000000</td>\n",
       "      <td>1.000000</td>\n",
       "      <td>0.567696</td>\n",
       "      <td>0.57619</td>\n",
       "      <td>0.501211</td>\n",
       "      <td>0.504673</td>\n",
       "      <td>0.000000</td>\n",
       "      <td>1.000000</td>\n",
       "      <td>1.000000</td>\n",
       "      <td>1.000000</td>\n",
       "      <td>0.000000</td>\n",
       "      <td>1.000000</td>\n",
       "    </tr>\n",
       "    <tr>\n",
       "      <th>434</th>\n",
       "      <td>republican</td>\n",
       "      <td>0.00000</td>\n",
       "      <td>1.000000</td>\n",
       "      <td>0.000000</td>\n",
       "      <td>1.000000</td>\n",
       "      <td>1.000000</td>\n",
       "      <td>1.000000</td>\n",
       "      <td>0.000000</td>\n",
       "      <td>0.00000</td>\n",
       "      <td>0.000000</td>\n",
       "      <td>1.000000</td>\n",
       "      <td>0.000000</td>\n",
       "      <td>1.000000</td>\n",
       "      <td>1.000000</td>\n",
       "      <td>1.000000</td>\n",
       "      <td>0.427518</td>\n",
       "      <td>0.000000</td>\n",
       "    </tr>\n",
       "  </tbody>\n",
       "</table>\n",
       "<p>435 rows × 17 columns</p>\n",
       "</div>"
      ],
      "text/plain": [
       "     Class-Name  handicapped-infants  water-project-cost-sharing  \\\n",
       "0    republican              0.00000                    1.000000   \n",
       "1    republican              0.00000                    1.000000   \n",
       "2      democrat              0.44208                    1.000000   \n",
       "3      democrat              0.00000                    1.000000   \n",
       "4      democrat              1.00000                    1.000000   \n",
       "5      democrat              0.00000                    1.000000   \n",
       "6      democrat              0.00000                    1.000000   \n",
       "7    republican              0.00000                    1.000000   \n",
       "8    republican              0.00000                    1.000000   \n",
       "9      democrat              1.00000                    1.000000   \n",
       "10   republican              0.00000                    1.000000   \n",
       "11   republican              0.00000                    1.000000   \n",
       "12     democrat              0.00000                    1.000000   \n",
       "13     democrat              1.00000                    1.000000   \n",
       "14   republican              0.00000                    1.000000   \n",
       "15   republican              0.00000                    1.000000   \n",
       "16     democrat              1.00000                    0.000000   \n",
       "17     democrat              1.00000                    0.503876   \n",
       "18   republican              0.00000                    1.000000   \n",
       "19     democrat              1.00000                    1.000000   \n",
       "20     democrat              1.00000                    1.000000   \n",
       "21     democrat              1.00000                    1.000000   \n",
       "22     democrat              1.00000                    0.503876   \n",
       "23     democrat              1.00000                    1.000000   \n",
       "24     democrat              1.00000                    0.000000   \n",
       "25     democrat              1.00000                    0.000000   \n",
       "26     democrat              1.00000                    0.000000   \n",
       "27     democrat              1.00000                    1.000000   \n",
       "28   republican              1.00000                    0.000000   \n",
       "29     democrat              1.00000                    1.000000   \n",
       "..          ...                  ...                         ...   \n",
       "405  republican              0.00000                    0.000000   \n",
       "406    democrat              1.00000                    0.000000   \n",
       "407    democrat              0.00000                    0.000000   \n",
       "408    democrat              1.00000                    0.000000   \n",
       "409  republican              0.00000                    0.000000   \n",
       "410  republican              0.00000                    0.000000   \n",
       "411    democrat              1.00000                    0.000000   \n",
       "412  republican              0.00000                    0.000000   \n",
       "413  republican              1.00000                    1.000000   \n",
       "414    democrat              1.00000                    1.000000   \n",
       "415    democrat              0.00000                    1.000000   \n",
       "416  republican              1.00000                    1.000000   \n",
       "417    democrat              1.00000                    1.000000   \n",
       "418    democrat              1.00000                    1.000000   \n",
       "419    democrat              1.00000                    1.000000   \n",
       "420  republican              1.00000                    1.000000   \n",
       "421    democrat              0.00000                    1.000000   \n",
       "422    democrat              0.00000                    0.000000   \n",
       "423    democrat              0.00000                    1.000000   \n",
       "424    democrat              0.00000                    1.000000   \n",
       "425    democrat              0.00000                    0.000000   \n",
       "426    democrat              1.00000                    0.000000   \n",
       "427  republican              0.00000                    0.000000   \n",
       "428    democrat              0.44208                    0.503876   \n",
       "429    democrat              1.00000                    0.000000   \n",
       "430  republican              0.00000                    0.000000   \n",
       "431    democrat              0.00000                    0.000000   \n",
       "432  republican              0.00000                    0.503876   \n",
       "433  republican              0.00000                    0.000000   \n",
       "434  republican              0.00000                    1.000000   \n",
       "\n",
       "     adoption-of-the-budget-resolution  physician-fee-freeze  el-salvador-aid  \\\n",
       "0                             0.000000              1.000000         1.000000   \n",
       "1                             0.000000              1.000000         1.000000   \n",
       "2                             1.000000              0.417453         1.000000   \n",
       "3                             1.000000              0.000000         0.504762   \n",
       "4                             1.000000              0.000000         1.000000   \n",
       "5                             1.000000              0.000000         1.000000   \n",
       "6                             0.000000              1.000000         1.000000   \n",
       "7                             0.000000              1.000000         1.000000   \n",
       "8                             0.000000              1.000000         1.000000   \n",
       "9                             1.000000              0.000000         0.000000   \n",
       "10                            0.000000              1.000000         1.000000   \n",
       "11                            0.000000              1.000000         1.000000   \n",
       "12                            1.000000              0.000000         0.000000   \n",
       "13                            1.000000              0.000000         0.000000   \n",
       "14                            0.000000              1.000000         1.000000   \n",
       "15                            0.000000              1.000000         1.000000   \n",
       "16                            1.000000              0.000000         0.000000   \n",
       "17                            1.000000              0.000000         0.000000   \n",
       "18                            0.000000              1.000000         1.000000   \n",
       "19                            1.000000              0.000000         0.000000   \n",
       "20                            1.000000              0.000000         0.000000   \n",
       "21                            1.000000              0.000000         0.000000   \n",
       "22                            1.000000              0.000000         0.000000   \n",
       "23                            1.000000              0.000000         0.000000   \n",
       "24                            1.000000              0.000000         0.000000   \n",
       "25                            1.000000              0.000000         0.000000   \n",
       "26                            1.000000              0.000000         0.000000   \n",
       "27                            1.000000              0.000000         0.000000   \n",
       "28                            0.000000              1.000000         1.000000   \n",
       "29                            1.000000              0.000000         0.000000   \n",
       "..                                 ...                   ...              ...   \n",
       "405                           0.000000              1.000000         1.000000   \n",
       "406                           1.000000              0.000000         1.000000   \n",
       "407                           0.000000              1.000000         1.000000   \n",
       "408                           1.000000              0.000000         0.000000   \n",
       "409                           0.000000              1.000000         1.000000   \n",
       "410                           0.000000              1.000000         1.000000   \n",
       "411                           1.000000              0.000000         0.000000   \n",
       "412                           0.000000              1.000000         1.000000   \n",
       "413                           1.000000              1.000000         1.000000   \n",
       "414                           1.000000              0.000000         0.000000   \n",
       "415                           1.000000              0.000000         0.000000   \n",
       "416                           0.000000              1.000000         1.000000   \n",
       "417                           1.000000              0.000000         0.000000   \n",
       "418                           1.000000              0.000000         0.000000   \n",
       "419                           1.000000              0.000000         0.000000   \n",
       "420                           1.000000              1.000000         1.000000   \n",
       "421                           1.000000              0.000000         1.000000   \n",
       "422                           1.000000              0.000000         0.000000   \n",
       "423                           1.000000              0.000000         0.000000   \n",
       "424                           1.000000              0.000000         0.000000   \n",
       "425                           1.000000              0.000000         0.000000   \n",
       "426                           1.000000              0.000000         0.000000   \n",
       "427                           0.000000              1.000000         1.000000   \n",
       "428                           0.596698              0.000000         0.000000   \n",
       "429                           1.000000              0.000000         0.504762   \n",
       "430                           1.000000              1.000000         1.000000   \n",
       "431                           1.000000              0.000000         0.000000   \n",
       "432                           0.000000              1.000000         1.000000   \n",
       "433                           0.000000              1.000000         1.000000   \n",
       "434                           0.000000              1.000000         1.000000   \n",
       "\n",
       "     religious-groups-in-schools  anti-satellite-test-ban  \\\n",
       "0                       1.000000                 0.000000   \n",
       "1                       1.000000                 0.000000   \n",
       "2                       1.000000                 0.000000   \n",
       "3                       1.000000                 0.000000   \n",
       "4                       1.000000                 0.000000   \n",
       "5                       1.000000                 0.000000   \n",
       "6                       1.000000                 0.000000   \n",
       "7                       1.000000                 0.000000   \n",
       "8                       1.000000                 0.000000   \n",
       "9                       0.000000                 1.000000   \n",
       "10                      0.000000                 0.000000   \n",
       "11                      1.000000                 0.000000   \n",
       "12                      0.000000                 1.000000   \n",
       "13                      1.000000                 1.000000   \n",
       "14                      1.000000                 0.000000   \n",
       "15                      1.000000                 0.000000   \n",
       "16                      1.000000                 0.000000   \n",
       "17                      0.000000                 1.000000   \n",
       "18                      1.000000                 0.000000   \n",
       "19                      0.000000                 1.000000   \n",
       "20                      0.641509                 1.000000   \n",
       "21                      0.000000                 1.000000   \n",
       "22                      0.000000                 1.000000   \n",
       "23                      0.000000                 1.000000   \n",
       "24                      0.000000                 1.000000   \n",
       "25                      0.000000                 1.000000   \n",
       "26                      0.000000                 1.000000   \n",
       "27                      0.000000                 1.000000   \n",
       "28                      0.000000                 1.000000   \n",
       "29                      0.000000                 1.000000   \n",
       "..                           ...                      ...   \n",
       "405                     1.000000                 0.000000   \n",
       "406                     1.000000                 0.000000   \n",
       "407                     1.000000                 0.000000   \n",
       "408                     1.000000                 1.000000   \n",
       "409                     1.000000                 0.000000   \n",
       "410                     1.000000                 0.000000   \n",
       "411                     1.000000                 1.000000   \n",
       "412                     1.000000                 0.000000   \n",
       "413                     1.000000                 1.000000   \n",
       "414                     0.000000                 1.000000   \n",
       "415                     1.000000                 1.000000   \n",
       "416                     1.000000                 0.000000   \n",
       "417                     0.000000                 1.000000   \n",
       "418                     0.000000                 1.000000   \n",
       "419                     0.000000                 1.000000   \n",
       "420                     1.000000                 1.000000   \n",
       "421                     1.000000                 1.000000   \n",
       "422                     1.000000                 1.000000   \n",
       "423                     1.000000                 1.000000   \n",
       "424                     0.641509                 1.000000   \n",
       "425                     0.000000                 1.000000   \n",
       "426                     0.000000                 1.000000   \n",
       "427                     1.000000                 1.000000   \n",
       "428                     0.000000                 1.000000   \n",
       "429                     0.000000                 1.000000   \n",
       "430                     1.000000                 0.000000   \n",
       "431                     0.000000                 1.000000   \n",
       "432                     1.000000                 0.000000   \n",
       "433                     1.000000                 0.567696   \n",
       "434                     1.000000                 0.000000   \n",
       "\n",
       "     aid-to-nicaraguan-contras  mx-missile  immigration  \\\n",
       "0                      0.00000    0.000000     1.000000   \n",
       "1                      0.00000    0.000000     0.000000   \n",
       "2                      0.00000    0.000000     0.000000   \n",
       "3                      0.00000    0.000000     0.000000   \n",
       "4                      0.00000    0.000000     0.000000   \n",
       "5                      0.00000    0.000000     0.000000   \n",
       "6                      0.00000    0.000000     0.000000   \n",
       "7                      0.00000    0.000000     0.000000   \n",
       "8                      0.00000    0.000000     0.000000   \n",
       "9                      1.00000    1.000000     0.000000   \n",
       "10                     0.00000    0.000000     0.000000   \n",
       "11                     0.00000    0.000000     0.000000   \n",
       "12                     1.00000    1.000000     0.000000   \n",
       "13                     1.00000    0.501211     1.000000   \n",
       "14                     0.00000    0.000000     0.000000   \n",
       "15                     0.00000    0.000000     1.000000   \n",
       "16                     1.00000    0.501211     1.000000   \n",
       "17                     1.00000    1.000000     0.000000   \n",
       "18                     0.00000    0.000000     0.000000   \n",
       "19                     1.00000    1.000000     0.000000   \n",
       "20                     1.00000    0.000000     0.000000   \n",
       "21                     1.00000    1.000000     0.000000   \n",
       "22                     1.00000    1.000000     0.000000   \n",
       "23                     1.00000    1.000000     0.000000   \n",
       "24                     1.00000    1.000000     0.000000   \n",
       "25                     1.00000    1.000000     1.000000   \n",
       "26                     1.00000    1.000000     0.000000   \n",
       "27                     1.00000    1.000000     0.000000   \n",
       "28                     1.00000    1.000000     0.000000   \n",
       "29                     1.00000    1.000000     0.000000   \n",
       "..                         ...         ...          ...   \n",
       "405                    0.00000    0.000000     0.000000   \n",
       "406                    0.00000    1.000000     1.000000   \n",
       "407                    0.00000    0.000000     0.000000   \n",
       "408                    1.00000    1.000000     0.000000   \n",
       "409                    0.00000    0.000000     0.000000   \n",
       "410                    0.00000    0.000000     0.000000   \n",
       "411                    1.00000    1.000000     1.000000   \n",
       "412                    0.00000    0.000000     1.000000   \n",
       "413                    1.00000    0.000000     1.000000   \n",
       "414                    1.00000    1.000000     0.000000   \n",
       "415                    1.00000    0.501211     1.000000   \n",
       "416                    0.00000    0.000000     1.000000   \n",
       "417                    1.00000    1.000000     1.000000   \n",
       "418                    1.00000    0.000000     1.000000   \n",
       "419                    1.00000    1.000000     0.000000   \n",
       "420                    1.00000    0.000000     1.000000   \n",
       "421                    1.00000    0.000000     0.000000   \n",
       "422                    1.00000    1.000000     0.000000   \n",
       "423                    1.00000    1.000000     0.000000   \n",
       "424                    1.00000    1.000000     1.000000   \n",
       "425                    1.00000    0.000000     1.000000   \n",
       "426                    1.00000    1.000000     1.000000   \n",
       "427                    1.00000    0.000000     1.000000   \n",
       "428                    1.00000    1.000000     1.000000   \n",
       "429                    1.00000    1.000000     1.000000   \n",
       "430                    0.00000    1.000000     1.000000   \n",
       "431                    1.00000    1.000000     1.000000   \n",
       "432                    0.00000    0.000000     0.000000   \n",
       "433                    0.57619    0.501211     0.504673   \n",
       "434                    0.00000    0.000000     1.000000   \n",
       "\n",
       "     synfuels-corporation-cutback  education-spending  superfund-right-to-sue  \\\n",
       "0                        0.362319            1.000000                1.000000   \n",
       "1                        0.000000            1.000000                1.000000   \n",
       "2                        1.000000            0.000000                1.000000   \n",
       "3                        1.000000            0.000000                1.000000   \n",
       "4                        1.000000            0.423267                1.000000   \n",
       "5                        0.000000            0.000000                1.000000   \n",
       "6                        0.000000            0.000000                0.509756   \n",
       "7                        0.000000            0.000000                1.000000   \n",
       "8                        0.000000            1.000000                1.000000   \n",
       "9                        0.000000            0.000000                0.000000   \n",
       "10                       0.362319            0.423267                1.000000   \n",
       "11                       1.000000            0.423267                1.000000   \n",
       "12                       0.000000            0.000000                1.000000   \n",
       "13                       1.000000            0.423267                0.000000   \n",
       "14                       0.000000            1.000000                0.509756   \n",
       "15                       0.000000            1.000000                1.000000   \n",
       "16                       1.000000            1.000000                0.509756   \n",
       "17                       0.000000            0.000000                1.000000   \n",
       "18                       0.000000            0.423267                1.000000   \n",
       "19                       1.000000            0.000000                0.000000   \n",
       "20                       1.000000            0.000000                0.000000   \n",
       "21                       0.000000            0.000000                0.509756   \n",
       "22                       0.000000            0.423267                0.000000   \n",
       "23                       0.000000            0.000000                0.000000   \n",
       "24                       0.000000            0.000000                0.000000   \n",
       "25                       0.000000            0.000000                0.000000   \n",
       "26                       1.000000            0.000000                0.000000   \n",
       "27                       1.000000            0.000000                0.000000   \n",
       "28                       0.000000            1.000000                1.000000   \n",
       "29                       1.000000            0.000000                0.000000   \n",
       "..                            ...                 ...                     ...   \n",
       "405                      0.000000            1.000000                1.000000   \n",
       "406                      0.000000            0.000000                1.000000   \n",
       "407                      1.000000            1.000000                1.000000   \n",
       "408                      0.000000            1.000000                0.509756   \n",
       "409                      0.000000            1.000000                1.000000   \n",
       "410                      1.000000            1.000000                1.000000   \n",
       "411                      1.000000            0.000000                0.000000   \n",
       "412                      0.000000            1.000000                1.000000   \n",
       "413                      0.362319            0.423267                0.509756   \n",
       "414                      0.000000            0.000000                0.000000   \n",
       "415                      0.000000            0.000000                0.000000   \n",
       "416                      0.000000            0.000000                1.000000   \n",
       "417                      1.000000            0.000000                1.000000   \n",
       "418                      0.000000            0.000000                0.000000   \n",
       "419                      0.000000            0.000000                0.000000   \n",
       "420                      0.000000            0.000000                1.000000   \n",
       "421                      1.000000            0.000000                1.000000   \n",
       "422                      1.000000            0.000000                0.000000   \n",
       "423                      1.000000            0.000000                0.000000   \n",
       "424                      1.000000            0.000000                0.509756   \n",
       "425                      1.000000            0.000000                0.000000   \n",
       "426                      0.000000            0.000000                0.000000   \n",
       "427                      0.000000            1.000000                1.000000   \n",
       "428                      0.000000            0.000000                1.000000   \n",
       "429                      0.000000            1.000000                0.000000   \n",
       "430                      0.000000            1.000000                1.000000   \n",
       "431                      0.000000            0.000000                0.000000   \n",
       "432                      1.000000            1.000000                1.000000   \n",
       "433                      0.000000            1.000000                1.000000   \n",
       "434                      0.000000            1.000000                1.000000   \n",
       "\n",
       "        crime  duty-free-exports  export-administration-act-south-africa  \n",
       "0    1.000000           0.000000                                1.000000  \n",
       "1    1.000000           0.000000                                0.812689  \n",
       "2    1.000000           0.000000                                0.000000  \n",
       "3    0.000000           0.000000                                1.000000  \n",
       "4    1.000000           1.000000                                1.000000  \n",
       "5    1.000000           1.000000                                1.000000  \n",
       "6    1.000000           1.000000                                1.000000  \n",
       "7    1.000000           0.427518                                1.000000  \n",
       "8    1.000000           0.000000                                1.000000  \n",
       "9    0.000000           0.427518                                0.812689  \n",
       "10   1.000000           0.000000                                0.000000  \n",
       "11   1.000000           0.427518                                0.812689  \n",
       "12   0.000000           0.427518                                0.812689  \n",
       "13   0.000000           1.000000                                0.812689  \n",
       "14   0.593301           0.000000                                0.812689  \n",
       "15   0.593301           0.000000                                0.812689  \n",
       "16   0.000000           0.000000                                1.000000  \n",
       "17   0.000000           1.000000                                1.000000  \n",
       "18   1.000000           0.000000                                0.000000  \n",
       "19   0.000000           1.000000                                1.000000  \n",
       "20   0.000000           1.000000                                1.000000  \n",
       "21   0.593301           1.000000                                1.000000  \n",
       "22   0.000000           1.000000                                1.000000  \n",
       "23   0.000000           1.000000                                1.000000  \n",
       "24   0.000000           1.000000                                0.812689  \n",
       "25   0.000000           1.000000                                1.000000  \n",
       "26   0.000000           1.000000                                1.000000  \n",
       "27   0.000000           1.000000                                1.000000  \n",
       "28   1.000000           0.000000                                1.000000  \n",
       "29   0.000000           1.000000                                1.000000  \n",
       "..        ...                ...                                     ...  \n",
       "405  1.000000           0.000000                                1.000000  \n",
       "406  1.000000           0.000000                                1.000000  \n",
       "407  1.000000           0.000000                                0.000000  \n",
       "408  1.000000           1.000000                                1.000000  \n",
       "409  1.000000           0.000000                                0.000000  \n",
       "410  1.000000           0.000000                                1.000000  \n",
       "411  0.000000           0.000000                                1.000000  \n",
       "412  1.000000           0.000000                                1.000000  \n",
       "413  1.000000           0.000000                                1.000000  \n",
       "414  0.000000           0.000000                                1.000000  \n",
       "415  0.000000           0.000000                                1.000000  \n",
       "416  1.000000           0.000000                                1.000000  \n",
       "417  0.000000           0.000000                                1.000000  \n",
       "418  0.000000           0.000000                                1.000000  \n",
       "419  0.000000           0.000000                                1.000000  \n",
       "420  1.000000           0.000000                                1.000000  \n",
       "421  0.000000           1.000000                                1.000000  \n",
       "422  0.000000           1.000000                                1.000000  \n",
       "423  1.000000           1.000000                                1.000000  \n",
       "424  1.000000           1.000000                                1.000000  \n",
       "425  0.000000           1.000000                                0.812689  \n",
       "426  0.000000           1.000000                                1.000000  \n",
       "427  1.000000           0.000000                                1.000000  \n",
       "428  0.000000           1.000000                                1.000000  \n",
       "429  0.593301           1.000000                                1.000000  \n",
       "430  1.000000           0.000000                                1.000000  \n",
       "431  0.000000           0.000000                                1.000000  \n",
       "432  1.000000           0.000000                                1.000000  \n",
       "433  1.000000           0.000000                                1.000000  \n",
       "434  1.000000           0.427518                                0.000000  \n",
       "\n",
       "[435 rows x 17 columns]"
      ]
     },
     "execution_count": 9,
     "metadata": {},
     "output_type": "execute_result"
    }
   ],
   "source": [
    "df4"
   ]
  },
  {
   "cell_type": "markdown",
   "metadata": {},
   "source": [
    "Exercise 5.2\n",
    "\n",
    "Split the data into a test and training set. Use this function:\n",
    "\n",
    "from sklearn.cross_validation import train_test_split"
   ]
  },
  {
   "cell_type": "code",
   "execution_count": 10,
   "metadata": {
    "collapsed": false
   },
   "outputs": [
    {
     "name": "stderr",
     "output_type": "stream",
     "text": [
      "/Users/rebeccahyde/anaconda/lib/python2.7/site-packages/sklearn/cross_validation.py:44: DeprecationWarning: This module was deprecated in version 0.18 in favor of the model_selection module into which all the refactored classes and functions are moved. Also note that the interface of the new CV iterators are different from that of this module. This module will be removed in 0.20.\n",
      "  \"This module will be removed in 0.20.\", DeprecationWarning)\n"
     ]
    }
   ],
   "source": [
    "from sklearn.cross_validation import train_test_split"
   ]
  },
  {
   "cell_type": "code",
   "execution_count": 11,
   "metadata": {
    "collapsed": false
   },
   "outputs": [],
   "source": [
    "y=df4.iloc[:,0]\n",
    "X=df4.iloc[:,1:]"
   ]
  },
  {
   "cell_type": "code",
   "execution_count": 12,
   "metadata": {
    "collapsed": false
   },
   "outputs": [],
   "source": [
    "X_train, X_test, y_train, y_test = train_test_split(X, y, test_size=.30, random_state=4444)"
   ]
  },
  {
   "cell_type": "markdown",
   "metadata": {},
   "source": [
    "Exercise 5.3\n",
    "\n",
    "Using scikit.learn's KNN algorithm, train a model that predicts the party (republican/democrat):\n",
    "\n",
    "from sklearn.neighbors import KNeighborsClassifier  \n",
    "Try it with a lot of different k values (number of neighbors), from 1 to 20, and on the test set calculate the accuracy (number of correct predictions / number of all predictions) for each k  \n",
    "\n",
    "You can use this to calculate accuracy:  \n",
    "\n",
    "from sklearn.metrics import accuracy_score  \n",
    "\n",
    "Which k value gives the highest accuracy?"
   ]
  },
  {
   "cell_type": "code",
   "execution_count": 13,
   "metadata": {
    "collapsed": false
   },
   "outputs": [
    {
     "name": "stdout",
     "output_type": "stream",
     "text": [
      "[0.9007633587786259, 0.89312977099236646, 0.9007633587786259, 0.9007633587786259, 0.91603053435114501, 0.93129770992366412, 0.91603053435114501, 0.92366412213740456, 0.93129770992366412, 0.93129770992366412, 0.92366412213740456, 0.92366412213740456, 0.92366412213740456, 0.92366412213740456, 0.92366412213740456, 0.92366412213740456, 0.92366412213740456, 0.91603053435114501, 0.91603053435114501, 0.91603053435114501]\n"
     ]
    }
   ],
   "source": [
    "from sklearn.neighbors import KNeighborsClassifier\n",
    "from sklearn import metrics\n",
    "k_range = list(range(1,21))\n",
    "scoreknn=[]\n",
    "for i in k_range:\n",
    "    knn = KNeighborsClassifier(n_neighbors=i)\n",
    "    knn.fit(X_train, y_train)\n",
    "    y_pred_test = knn.predict(X_test)\n",
    "    scoreknn.append(metrics.accuracy_score(y_test, y_pred_test))\n",
    "print (scoreknn)"
   ]
  },
  {
   "cell_type": "code",
   "execution_count": 14,
   "metadata": {
    "collapsed": false
   },
   "outputs": [
    {
     "data": {
      "text/plain": [
       "[5, 8, 9]"
      ]
     },
     "execution_count": 14,
     "metadata": {},
     "output_type": "execute_result"
    }
   ],
   "source": [
    "m = max(scoreknn)\n",
    "[i for i, j in enumerate(scoreknn) if j == m]"
   ]
  },
  {
   "cell_type": "markdown",
   "metadata": {},
   "source": [
    "k=6, k=9, k=10 gives the highest accuracy."
   ]
  },
  {
   "cell_type": "markdown",
   "metadata": {},
   "source": [
    "Exercise 5.4\n",
    "\n",
    "Make a similar model but with LogisticRegression instead, calculate test accuracy."
   ]
  },
  {
   "cell_type": "code",
   "execution_count": 15,
   "metadata": {
    "collapsed": false
   },
   "outputs": [
    {
     "data": {
      "text/plain": [
       "0.93893129770992367"
      ]
     },
     "execution_count": 15,
     "metadata": {},
     "output_type": "execute_result"
    }
   ],
   "source": [
    "from sklearn.linear_model import LogisticRegression\n",
    "X_train, X_test, y_train, y_test = train_test_split(X, y, test_size=.30, random_state=4444)\n",
    "logreg=LogisticRegression()\n",
    "logreg.fit(X_train, y_train)\n",
    "y_pred_test = logreg.predict(X_test)\n",
    "logscore=metrics.accuracy_score(y_test, y_pred_test)\n",
    "logscore"
   ]
  },
  {
   "cell_type": "code",
   "execution_count": 16,
   "metadata": {
    "collapsed": false
   },
   "outputs": [
    {
     "name": "stdout",
     "output_type": "stream",
     "text": [
      "[0.93893129770992367, 0.93893129770992367, 0.93893129770992367, 0.93893129770992367, 0.93893129770992367, 0.93893129770992367, 0.93893129770992367, 0.93893129770992367, 0.93893129770992367, 0.93893129770992367, 0.93893129770992367, 0.93893129770992367, 0.93893129770992367, 0.93893129770992367, 0.93893129770992367, 0.93893129770992367, 0.93893129770992367, 0.93893129770992367, 0.93893129770992367, 0.93893129770992367]\n"
     ]
    }
   ],
   "source": [
    "k_range = list(range(1,21))\n",
    "scorelog=[]\n",
    "for i in k_range:\n",
    "    scorelog.append(logscore)\n",
    "print (scorelog)"
   ]
  },
  {
   "cell_type": "markdown",
   "metadata": {},
   "source": [
    "Exercise 5.5\n",
    "\n",
    "Make a bar graph of democrats and republicans. How many of each are there?\n",
    "\n",
    "Make a very simple predictor that predicts 'democrat' for every incoming example.\n",
    "\n",
    "Just make a function that takes in an X --an array or matrix with input examples--, and returns an array of the same length as X, where each value is 'democrat'. For example, if X is three rows, your function should return ['democrat','democrat','democrat']. Make a y_predicted vector using this and measure its accuracy.\n",
    "\n",
    "Do the same with predicting 'republican' all the time and measure its accuracy."
   ]
  },
  {
   "cell_type": "code",
   "execution_count": 17,
   "metadata": {
    "collapsed": false
   },
   "outputs": [
    {
     "data": {
      "text/plain": [
       "<matplotlib.axes._subplots.AxesSubplot at 0x116bf2c50>"
      ]
     },
     "execution_count": 17,
     "metadata": {},
     "output_type": "execute_result"
    },
    {
     "data": {
      "image/png": "[encoded data removed]",
      "text/plain": [
       "<matplotlib.figure.Figure at 0x116bf2510>"
      ]
     },
     "metadata": {},
     "output_type": "display_data"
    }
   ],
   "source": [
    "import matplotlib.pyplot as plt\n",
    "%matplotlib inline\n",
    "df[\"Class-Name\"].value_counts().plot('bar', title= \"Number of Democrats vs. Republicans\")"
   ]
  },
  {
   "cell_type": "code",
   "execution_count": 18,
   "metadata": {
    "collapsed": false
   },
   "outputs": [
    {
     "data": {
      "text/plain": [
       "democrat      267\n",
       "republican    168\n",
       "Name: Class-Name, dtype: int64"
      ]
     },
     "execution_count": 18,
     "metadata": {},
     "output_type": "execute_result"
    }
   ],
   "source": [
    "df[\"Class-Name\"].value_counts()"
   ]
  },
  {
   "cell_type": "code",
   "execution_count": 19,
   "metadata": {
    "collapsed": false
   },
   "outputs": [
    {
     "name": "stdout",
     "output_type": "stream",
     "text": [
      "('All Predictions Democrat Accuracy Score:', 0.58778625954198471, 'All Predictions Republican Accuracy Score', 0.41221374045801529)\n"
     ]
    }
   ],
   "source": [
    "X_train, X_test, y_train, y_test = train_test_split(X, y, test_size=.30, random_state=4444)\n",
    "def pred_dem(X):\n",
    "    return ['democrat' for x in range(len(X))]\n",
    "def pred_rep(X):\n",
    "    return ['republican' for x in range(len(X))]\n",
    "y_pred = pred_dem(X_test)\n",
    "ScoreD = metrics.accuracy_score(y_test,y_pred)\n",
    "y_pred = pred_rep(X_test)\n",
    "ScoreR = metrics.accuracy_score(y_test,y_pred)\n",
    "print('All Predictions Democrat Accuracy Score:',ScoreD,'All Predictions Republican Accuracy Score',ScoreR)"
   ]
  },
  {
   "cell_type": "code",
   "execution_count": 20,
   "metadata": {
    "collapsed": true
   },
   "outputs": [],
   "source": [
    "k_range = list(range(1,21))\n",
    "scoreDem=[]\n",
    "for i in k_range:\n",
    "    scoreDem.append(ScoreD)"
   ]
  },
  {
   "cell_type": "code",
   "execution_count": 21,
   "metadata": {
    "collapsed": true
   },
   "outputs": [],
   "source": [
    "k_range = list(range(1,21))\n",
    "scoreRep=[]\n",
    "for i in k_range:\n",
    "    scoreRep.append(ScoreR)"
   ]
  },
  {
   "cell_type": "markdown",
   "metadata": {},
   "source": [
    "Exercise 5.6\n",
    "\n",
    "Plot the accuracies as a function of k. Since k only matters for KNN, your logistic regression accuracy, 'democrat' predictor accuracy and 'republican' predictor accuracy will stay the same over all k, so each of these three will be a horizontal line. But the KNN accuracy will change with k."
   ]
  },
  {
   "cell_type": "code",
   "execution_count": 22,
   "metadata": {
    "collapsed": false
   },
   "outputs": [
    {
     "data": {
      "text/plain": [
       "<matplotlib.legend.Legend at 0x1173cea90>"
      ]
     },
     "execution_count": 22,
     "metadata": {},
     "output_type": "execute_result"
    },
    {
     "data": {
      "image/png": "[encoded data removed]",
      "text/plain": [
       "<matplotlib.figure.Figure at 0x116c1fa10>"
      ]
     },
     "metadata": {},
     "output_type": "display_data"
    }
   ],
   "source": [
    "\n",
    "plt.figure(figsize=(10,10))\n",
    "plt.plot(k_range,scoreknn)\n",
    "plt.plot(k_range,scorelog)\n",
    "plt.plot(k_range,scoreDem)\n",
    "plt.plot(k_range,scoreRep)\n",
    "plt.xlabel('Value of K')\n",
    "plt.ylabel('Accuracy Score')\n",
    "plt.title('Value of K for KNN vs Accuracy Score')\n",
    "plt.xlim(1,20)\n",
    "plt.xticks(list(range(1,21)))\n",
    "plt.legend([\"KNN Model\", \"Logistic Regression Model\", \"Democrat Predictor Model\", \"Republican Predictor Model\"])\n"
   ]
  },
  {
   "cell_type": "markdown",
   "metadata": {},
   "source": [
    "Exercise 5.7\n",
    "\n",
    "Plot a learning curve for the logistic regression model. But instead of going through the painstaking steps of doing it yourself, use this function:  \n",
    "\n",
    "from sklearn.learning_curve import learning_curve  \n",
    "\n",
    "This will give you the m, training errors and testing errors. All you need to do is plot them. You don't even need to give it separate training/test sets. It will do crossvalidation all by itself. Easy, isn't it? : ) Remember, since it does cross-validation, it doesn't have a single training error or test error per m value. Instead, it has one for each fold (separate partition) of the cross validation. A good idea is to take the mean of these errors from different folds. This gives you a meaningful single number per m. What I mean is that doing something like:  \n",
    "\n",
    "train_cv_err = np.mean(train_err, axis=1)  \n",
    "test_cv_err = np.mean(ts_err, axis=1)  \n",
    "\n",
    "Before plotting m vs train_cv_err and m vs test_cv_err, where train_err and test_err are the vectors returned by the learning curve function. The np.mean(...., axis=1) means take the mean along axis 1 (axis 1 is the columns axis-- for each row, you have a bunch of columns, each corresponding to a cross validation fold, you are averaging these columns for each row).  \n",
    "\n",
    "Draw the learning curve for KNN with the best k value as well.  "
   ]
  },
  {
   "cell_type": "code",
   "execution_count": 23,
   "metadata": {
    "collapsed": false
   },
   "outputs": [
    {
     "name": "stderr",
     "output_type": "stream",
     "text": [
      "/Users/rebeccahyde/anaconda/lib/python2.7/site-packages/sklearn/learning_curve.py:23: DeprecationWarning: This module was deprecated in version 0.18 in favor of the model_selection module into which all the functions are moved. This module will be removed in 0.20\n",
      "  DeprecationWarning)\n"
     ]
    },
    {
     "data": {
      "text/plain": [
       "<matplotlib.text.Text at 0x117955950>"
      ]
     },
     "execution_count": 23,
     "metadata": {},
     "output_type": "execute_result"
    },
    {
     "data": {
      "image/png": "[encoded data removed]",
      "text/plain": [
       "<matplotlib.figure.Figure at 0x11754e310>"
      ]
     },
     "metadata": {},
     "output_type": "display_data"
    }
   ],
   "source": [
    "import numpy as np\n",
    "from sklearn.learning_curve import learning_curve\n",
    "m, train_err, test_err = learning_curve(LogisticRegression(), X, y, cv=10)\n",
    "train_cv_err = np.mean(train_err, axis=1)\n",
    "test_cv_err = np.mean(test_err, axis=1)\n",
    "plt.plot(m,train_cv_err)\n",
    "plt.plot(m,test_cv_err)\n",
    "plt.ylabel('Accuracy Score')\n",
    "plt.xlabel('Training Set Size')\n",
    "plt.legend(['Training Accuracy','Testing Accuracy'])\n",
    "plt.title('Logistic Regression Learning Curves')"
   ]
  },
  {
   "cell_type": "code",
   "execution_count": 24,
   "metadata": {
    "collapsed": false
   },
   "outputs": [
    {
     "name": "stderr",
     "output_type": "stream",
     "text": [
      "/Users/rebeccahyde/anaconda/lib/python2.7/site-packages/sklearn/grid_search.py:43: DeprecationWarning: This module was deprecated in version 0.18 in favor of the model_selection module into which all the refactored classes and functions are moved. This module will be removed in 0.20.\n",
      "  DeprecationWarning)\n"
     ]
    },
    {
     "data": {
      "text/plain": [
       "[mean: 0.92644, std: 0.07053, params: {'n_neighbors': 1},\n",
       " mean: 0.93563, std: 0.04755, params: {'n_neighbors': 2},\n",
       " mean: 0.93563, std: 0.04962, params: {'n_neighbors': 3},\n",
       " mean: 0.94023, std: 0.04629, params: {'n_neighbors': 4},\n",
       " mean: 0.92874, std: 0.05409, params: {'n_neighbors': 5},\n",
       " mean: 0.93563, std: 0.04159, params: {'n_neighbors': 6},\n",
       " mean: 0.93103, std: 0.04859, params: {'n_neighbors': 7},\n",
       " mean: 0.93563, std: 0.04740, params: {'n_neighbors': 8},\n",
       " mean: 0.93333, std: 0.04858, params: {'n_neighbors': 9},\n",
       " mean: 0.93333, std: 0.04412, params: {'n_neighbors': 10},\n",
       " mean: 0.92874, std: 0.04847, params: {'n_neighbors': 11},\n",
       " mean: 0.93103, std: 0.04910, params: {'n_neighbors': 12},\n",
       " mean: 0.92644, std: 0.05429, params: {'n_neighbors': 13},\n",
       " mean: 0.92644, std: 0.05341, params: {'n_neighbors': 14},\n",
       " mean: 0.92644, std: 0.05429, params: {'n_neighbors': 15},\n",
       " mean: 0.93103, std: 0.05457, params: {'n_neighbors': 16},\n",
       " mean: 0.92644, std: 0.05944, params: {'n_neighbors': 17},\n",
       " mean: 0.92874, std: 0.05003, params: {'n_neighbors': 18},\n",
       " mean: 0.92184, std: 0.05794, params: {'n_neighbors': 19},\n",
       " mean: 0.91954, std: 0.06055, params: {'n_neighbors': 20},\n",
       " mean: 0.92414, std: 0.05785, params: {'n_neighbors': 21},\n",
       " mean: 0.91954, std: 0.06140, params: {'n_neighbors': 22},\n",
       " mean: 0.92184, std: 0.06055, params: {'n_neighbors': 23},\n",
       " mean: 0.92184, std: 0.06055, params: {'n_neighbors': 24},\n",
       " mean: 0.91954, std: 0.06140, params: {'n_neighbors': 25},\n",
       " mean: 0.92184, std: 0.06055, params: {'n_neighbors': 26},\n",
       " mean: 0.91954, std: 0.06140, params: {'n_neighbors': 27},\n",
       " mean: 0.91724, std: 0.05960, params: {'n_neighbors': 28},\n",
       " mean: 0.91494, std: 0.06522, params: {'n_neighbors': 29},\n",
       " mean: 0.91724, std: 0.06214, params: {'n_neighbors': 30}]"
      ]
     },
     "execution_count": 24,
     "metadata": {},
     "output_type": "execute_result"
    }
   ],
   "source": [
    "from sklearn.grid_search import GridSearchCV\n",
    "k_range = list(range(1,31))\n",
    "param_grid = dict(n_neighbors=k_range)\n",
    "grid = GridSearchCV(knn, param_grid, cv=10, scoring='accuracy')\n",
    "grid.fit(X,y)\n",
    "grid.grid_scores_"
   ]
  },
  {
   "cell_type": "code",
   "execution_count": 25,
   "metadata": {
    "collapsed": false
   },
   "outputs": [
    {
     "data": {
      "text/plain": [
       "0.9402298850574713"
      ]
     },
     "execution_count": 25,
     "metadata": {},
     "output_type": "execute_result"
    }
   ],
   "source": [
    "grid.best_score_"
   ]
  },
  {
   "cell_type": "code",
   "execution_count": 26,
   "metadata": {
    "collapsed": false
   },
   "outputs": [
    {
     "data": {
      "text/plain": [
       "{'n_neighbors': 4}"
      ]
     },
     "execution_count": 26,
     "metadata": {},
     "output_type": "execute_result"
    }
   ],
   "source": [
    "grid.best_params_"
   ]
  },
  {
   "cell_type": "code",
   "execution_count": 27,
   "metadata": {
    "collapsed": false
   },
   "outputs": [
    {
     "data": {
      "text/plain": [
       "KNeighborsClassifier(algorithm='auto', leaf_size=30, metric='minkowski',\n",
       "           metric_params=None, n_jobs=1, n_neighbors=4, p=2,\n",
       "           weights='uniform')"
      ]
     },
     "execution_count": 27,
     "metadata": {},
     "output_type": "execute_result"
    }
   ],
   "source": [
    "grid.best_estimator_"
   ]
  },
  {
   "cell_type": "code",
   "execution_count": 28,
   "metadata": {
    "collapsed": false
   },
   "outputs": [
    {
     "data": {
      "text/plain": [
       "<matplotlib.text.Text at 0x117a24790>"
      ]
     },
     "execution_count": 28,
     "metadata": {},
     "output_type": "execute_result"
    },
    {
     "data": {
      "image/png": "[encoded data removed]",
      "text/plain": [
       "<matplotlib.figure.Figure at 0x1177a5d50>"
      ]
     },
     "metadata": {},
     "output_type": "display_data"
    }
   ],
   "source": [
    "m, train_err, test_err = learning_curve(KNeighborsClassifier(n_neighbors=4), X, y, cv=10)\n",
    "train_cv_err = np.mean(train_err, axis=1)\n",
    "test_cv_err = np.mean(test_err, axis=1)\n",
    "plt.plot(m,train_cv_err)\n",
    "plt.plot(m,test_cv_err)\n",
    "plt.ylabel('Accuracy Score')\n",
    "plt.xlabel('Training Set Size')\n",
    "plt.legend(['Training Accuracy','Testing Accuracy'])\n",
    "plt.title('Logistic Regression Learning Curves')"
   ]
  },
  {
   "cell_type": "markdown",
   "metadata": {},
   "source": [
    "Exercise 5.8\n",
    "\n",
    "This is a preview of many other classification algorithms that we will go over. Scikit.learn has the same interface for all of these, so you can use them exactly the same way as you did LogisticRegression and KNeighborsClassifier. Use each of these to classify your data and print the test accuracy of each:"
   ]
  },
  {
   "cell_type": "code",
   "execution_count": 29,
   "metadata": {
    "collapsed": false
   },
   "outputs": [
    {
     "name": "stdout",
     "output_type": "stream",
     "text": [
      "Gaussian:  0.93893129771\n"
     ]
    }
   ],
   "source": [
    "from __future__ import print_function, division\n",
    "from sklearn.naive_bayes import GaussianNB\n",
    "X_train, X_test, y_train, y_test = train_test_split(X, y, test_size=.30, random_state=4444)\n",
    "alg=GaussianNB()\n",
    "alg.fit(X_train, y_train)\n",
    "y_pred_test = alg.predict(X_test)\n",
    "score= metrics.accuracy_score(y_test, y_pred_test)\n",
    "print ('Gaussian: ', score)"
   ]
  },
  {
   "cell_type": "code",
   "execution_count": 30,
   "metadata": {
    "collapsed": false
   },
   "outputs": [
    {
     "name": "stdout",
     "output_type": "stream",
     "text": [
      "SVC:  0.954198473282\n"
     ]
    }
   ],
   "source": [
    "from sklearn.svm import SVC\n",
    "X_train, X_test, y_train, y_test = train_test_split(X, y, test_size=.30, random_state=4444)\n",
    "alg=SVC()\n",
    "alg.fit(X_train, y_train)\n",
    "y_pred_test = alg.predict(X_test)\n",
    "score= metrics.accuracy_score(y_test, y_pred_test)\n",
    "print ('SVC: ', score)"
   ]
  },
  {
   "cell_type": "code",
   "execution_count": 31,
   "metadata": {
    "collapsed": false
   },
   "outputs": [
    {
     "name": "stdout",
     "output_type": "stream",
     "text": [
      "DecisionTreeClassifier:  0.946564885496\n"
     ]
    }
   ],
   "source": [
    "from sklearn.tree import DecisionTreeClassifier\n",
    "X_train, X_test, y_train, y_test = train_test_split(X, y, test_size=.30, random_state=4444)\n",
    "alg=DecisionTreeClassifier()\n",
    "alg.fit(X_train, y_train)\n",
    "y_pred_test = alg.predict(X_test)\n",
    "score= metrics.accuracy_score(y_test, y_pred_test)\n",
    "print ('DecisionTreeClassifier: ', score)"
   ]
  },
  {
   "cell_type": "code",
   "execution_count": 32,
   "metadata": {
    "collapsed": false
   },
   "outputs": [
    {
     "name": "stdout",
     "output_type": "stream",
     "text": [
      "RandomForestClassifier:  0.954198473282\n"
     ]
    }
   ],
   "source": [
    "from sklearn.ensemble import RandomForestClassifier\n",
    "X_train, X_test, y_train, y_test = train_test_split(X, y, test_size=.30, random_state=4444)\n",
    "alg=RandomForestClassifier()\n",
    "alg.fit(X_train, y_train)\n",
    "y_pred_test = alg.predict(X_test)\n",
    "score= metrics.accuracy_score(y_test, y_pred_test)\n",
    "print ('RandomForestClassifier: ', score)"
   ]
  },
  {
   "cell_type": "markdown",
   "metadata": {},
   "source": [
    "Exercise 5.9\n",
    "\n",
    "There is actually a way to do cross validation quickly to get your accuracy results for an algorithm, without separating training and test yourself:\n",
    "\n",
    "from sklearn.cross_validation import cross_val_score  \n",
    "\n",
    "Just like the learning_curve function, this takes a classifier object, X and Y. Returns accuracy (or whatever score you prefer by using the scoring keyword argument). Of course, it will return a score for each cross validation fold, so to get the generalized accuracy, you need to take the mean of what it returns.\n",
    "\n",
    "Use this function to calculate the cross validation score of each of the classifiers you tried before."
   ]
  },
  {
   "cell_type": "code",
   "execution_count": 33,
   "metadata": {
    "collapsed": false
   },
   "outputs": [
    {
     "name": "stdout",
     "output_type": "stream",
     "text": [
      "Logistic Regression CV: 0.958227625088\n"
     ]
    }
   ],
   "source": [
    "from sklearn.cross_validation import cross_val_score\n",
    "score = np.mean(cross_val_score(LogisticRegression(), X, y, cv=10, scoring='accuracy'))\n",
    "print('Logistic Regression CV:',score)"
   ]
  },
  {
   "cell_type": "code",
   "execution_count": 34,
   "metadata": {
    "collapsed": false
   },
   "outputs": [
    {
     "name": "stdout",
     "output_type": "stream",
     "text": [
      "KNN CV: 0.939773985704\n"
     ]
    }
   ],
   "source": [
    "score = np.mean(cross_val_score(KNeighborsClassifier(n_neighbors=4), X, y, cv=10, scoring='accuracy'))\n",
    "print('KNN CV:',score)"
   ]
  },
  {
   "cell_type": "code",
   "execution_count": 35,
   "metadata": {
    "collapsed": false
   },
   "outputs": [
    {
     "name": "stdout",
     "output_type": "stream",
     "text": [
      "Gaussian CV: 0.939773985704\n"
     ]
    }
   ],
   "source": [
    "score = np.mean(cross_val_score(GaussianNB(), X, y, cv=10, scoring='accuracy'))\n",
    "print('Gaussian CV:',score)"
   ]
  },
  {
   "cell_type": "code",
   "execution_count": 36,
   "metadata": {
    "collapsed": false
   },
   "outputs": [
    {
     "name": "stdout",
     "output_type": "stream",
     "text": [
      "SVC CV: 0.958280479211\n"
     ]
    }
   ],
   "source": [
    "score = np.mean(cross_val_score(SVC(), X, y, cv=10, scoring='accuracy'))\n",
    "print('SVC CV:',score)"
   ]
  },
  {
   "cell_type": "code",
   "execution_count": 37,
   "metadata": {
    "collapsed": false
   },
   "outputs": [
    {
     "name": "stdout",
     "output_type": "stream",
     "text": [
      "Decision Tree CV: 0.928362528944\n"
     ]
    }
   ],
   "source": [
    "score = np.mean(cross_val_score(DecisionTreeClassifier(), X, y, cv=10, scoring='accuracy'))\n",
    "print('Decision Tree CV:',score)"
   ]
  },
  {
   "cell_type": "code",
   "execution_count": 38,
   "metadata": {
    "collapsed": false
   },
   "outputs": [
    {
     "name": "stdout",
     "output_type": "stream",
     "text": [
      "Random Forest: 0.963042383973\n"
     ]
    }
   ],
   "source": [
    "score = np.mean(cross_val_score(RandomForestClassifier(), X, y, cv=10, scoring='accuracy'))\n",
    "print('Random Forest:',score)"
   ]
  },
  {
   "cell_type": "markdown",
   "metadata": {},
   "source": [
    "Exercise 5.10\n",
    "\n",
    "Instead of 'democrat' or 'republican', can you predict the vote of a representative based on their other votes?\n",
    "\n",
    "Reload the data from scratch. Convert y-->1, n-->0.\n",
    "\n",
    "Choose one vote. Build a classifier (logistic regression or KNN), that uses the other votes (do not use the party as a feature) to predict if the vote will be 1 or 0.\n",
    "\n",
    "Convert each ? to the mode of the column (if a senator has not voted, make their vote 1 if most others voted 1, make it 0 if most others voted 0).\n",
    "\n",
    "Calculate the cross validation accuracy of your classifier for predicting how each representative will vote on the issue."
   ]
  },
  {
   "cell_type": "code",
   "execution_count": 39,
   "metadata": {
    "collapsed": false
   },
   "outputs": [],
   "source": [
    "df=pd.read_csv(\"house-votes-84.data.txt\",na_values=['?'], header=None)"
   ]
  },
  {
   "cell_type": "code",
   "execution_count": 40,
   "metadata": {
    "collapsed": true
   },
   "outputs": [],
   "source": [
    "df.columns = [\"Class-Name\", \"handicapped-infants\", \"water-project-cost-sharing\", \n",
    "              \"adoption-of-the-budget-resolution\", \"physician-fee-freeze\", \"el-salvador-aid\",\n",
    "             \"religious-groups-in-schools\", \"anti-satellite-test-ban\", \"aid-to-nicaraguan-contras\",\n",
    "             \"mx-missile\", \"immigration\", \"synfuels-corporation-cutback\", \"education-spending\",\n",
    "             \"superfund-right-to-sue\", \"crime\", \"duty-free-exports\", \"export-administration-act-south-africa\"]"
   ]
  },
  {
   "cell_type": "code",
   "execution_count": 41,
   "metadata": {
    "collapsed": true
   },
   "outputs": [],
   "source": [
    "df= df.replace(to_replace='y', value=float(1))\n",
    "df= df.replace(to_replace='n', value=float(0))"
   ]
  },
  {
   "cell_type": "code",
   "execution_count": 42,
   "metadata": {
    "collapsed": false
   },
   "outputs": [
    {
     "data": {
      "text/html": [
       "<div>\n",
       "<table border=\"1\" class=\"dataframe\">\n",
       "  <thead>\n",
       "    <tr style=\"text-align: right;\">\n",
       "      <th></th>\n",
       "      <th>Class-Name</th>\n",
       "      <th>handicapped-infants</th>\n",
       "      <th>water-project-cost-sharing</th>\n",
       "      <th>adoption-of-the-budget-resolution</th>\n",
       "      <th>physician-fee-freeze</th>\n",
       "      <th>el-salvador-aid</th>\n",
       "      <th>religious-groups-in-schools</th>\n",
       "      <th>anti-satellite-test-ban</th>\n",
       "      <th>aid-to-nicaraguan-contras</th>\n",
       "      <th>mx-missile</th>\n",
       "      <th>immigration</th>\n",
       "      <th>synfuels-corporation-cutback</th>\n",
       "      <th>education-spending</th>\n",
       "      <th>superfund-right-to-sue</th>\n",
       "      <th>crime</th>\n",
       "      <th>duty-free-exports</th>\n",
       "      <th>export-administration-act-south-africa</th>\n",
       "    </tr>\n",
       "  </thead>\n",
       "  <tbody>\n",
       "    <tr>\n",
       "      <th>0</th>\n",
       "      <td>republican</td>\n",
       "      <td>0.0</td>\n",
       "      <td>1.0</td>\n",
       "      <td>0.0</td>\n",
       "      <td>1.0</td>\n",
       "      <td>1.0</td>\n",
       "      <td>1.0</td>\n",
       "      <td>0.0</td>\n",
       "      <td>0.0</td>\n",
       "      <td>0.0</td>\n",
       "      <td>1.0</td>\n",
       "      <td>NaN</td>\n",
       "      <td>1.0</td>\n",
       "      <td>1.0</td>\n",
       "      <td>1.0</td>\n",
       "      <td>0.0</td>\n",
       "      <td>1.0</td>\n",
       "    </tr>\n",
       "    <tr>\n",
       "      <th>1</th>\n",
       "      <td>republican</td>\n",
       "      <td>0.0</td>\n",
       "      <td>1.0</td>\n",
       "      <td>0.0</td>\n",
       "      <td>1.0</td>\n",
       "      <td>1.0</td>\n",
       "      <td>1.0</td>\n",
       "      <td>0.0</td>\n",
       "      <td>0.0</td>\n",
       "      <td>0.0</td>\n",
       "      <td>0.0</td>\n",
       "      <td>0.0</td>\n",
       "      <td>1.0</td>\n",
       "      <td>1.0</td>\n",
       "      <td>1.0</td>\n",
       "      <td>0.0</td>\n",
       "      <td>NaN</td>\n",
       "    </tr>\n",
       "    <tr>\n",
       "      <th>2</th>\n",
       "      <td>democrat</td>\n",
       "      <td>NaN</td>\n",
       "      <td>1.0</td>\n",
       "      <td>1.0</td>\n",
       "      <td>NaN</td>\n",
       "      <td>1.0</td>\n",
       "      <td>1.0</td>\n",
       "      <td>0.0</td>\n",
       "      <td>0.0</td>\n",
       "      <td>0.0</td>\n",
       "      <td>0.0</td>\n",
       "      <td>1.0</td>\n",
       "      <td>0.0</td>\n",
       "      <td>1.0</td>\n",
       "      <td>1.0</td>\n",
       "      <td>0.0</td>\n",
       "      <td>0.0</td>\n",
       "    </tr>\n",
       "    <tr>\n",
       "      <th>3</th>\n",
       "      <td>democrat</td>\n",
       "      <td>0.0</td>\n",
       "      <td>1.0</td>\n",
       "      <td>1.0</td>\n",
       "      <td>0.0</td>\n",
       "      <td>NaN</td>\n",
       "      <td>1.0</td>\n",
       "      <td>0.0</td>\n",
       "      <td>0.0</td>\n",
       "      <td>0.0</td>\n",
       "      <td>0.0</td>\n",
       "      <td>1.0</td>\n",
       "      <td>0.0</td>\n",
       "      <td>1.0</td>\n",
       "      <td>0.0</td>\n",
       "      <td>0.0</td>\n",
       "      <td>1.0</td>\n",
       "    </tr>\n",
       "    <tr>\n",
       "      <th>4</th>\n",
       "      <td>democrat</td>\n",
       "      <td>1.0</td>\n",
       "      <td>1.0</td>\n",
       "      <td>1.0</td>\n",
       "      <td>0.0</td>\n",
       "      <td>1.0</td>\n",
       "      <td>1.0</td>\n",
       "      <td>0.0</td>\n",
       "      <td>0.0</td>\n",
       "      <td>0.0</td>\n",
       "      <td>0.0</td>\n",
       "      <td>1.0</td>\n",
       "      <td>NaN</td>\n",
       "      <td>1.0</td>\n",
       "      <td>1.0</td>\n",
       "      <td>1.0</td>\n",
       "      <td>1.0</td>\n",
       "    </tr>\n",
       "  </tbody>\n",
       "</table>\n",
       "</div>"
      ],
      "text/plain": [
       "   Class-Name  handicapped-infants  water-project-cost-sharing  \\\n",
       "0  republican                  0.0                         1.0   \n",
       "1  republican                  0.0                         1.0   \n",
       "2    democrat                  NaN                         1.0   \n",
       "3    democrat                  0.0                         1.0   \n",
       "4    democrat                  1.0                         1.0   \n",
       "\n",
       "   adoption-of-the-budget-resolution  physician-fee-freeze  el-salvador-aid  \\\n",
       "0                                0.0                   1.0              1.0   \n",
       "1                                0.0                   1.0              1.0   \n",
       "2                                1.0                   NaN              1.0   \n",
       "3                                1.0                   0.0              NaN   \n",
       "4                                1.0                   0.0              1.0   \n",
       "\n",
       "   religious-groups-in-schools  anti-satellite-test-ban  \\\n",
       "0                          1.0                      0.0   \n",
       "1                          1.0                      0.0   \n",
       "2                          1.0                      0.0   \n",
       "3                          1.0                      0.0   \n",
       "4                          1.0                      0.0   \n",
       "\n",
       "   aid-to-nicaraguan-contras  mx-missile  immigration  \\\n",
       "0                        0.0         0.0          1.0   \n",
       "1                        0.0         0.0          0.0   \n",
       "2                        0.0         0.0          0.0   \n",
       "3                        0.0         0.0          0.0   \n",
       "4                        0.0         0.0          0.0   \n",
       "\n",
       "   synfuels-corporation-cutback  education-spending  superfund-right-to-sue  \\\n",
       "0                           NaN                 1.0                     1.0   \n",
       "1                           0.0                 1.0                     1.0   \n",
       "2                           1.0                 0.0                     1.0   \n",
       "3                           1.0                 0.0                     1.0   \n",
       "4                           1.0                 NaN                     1.0   \n",
       "\n",
       "   crime  duty-free-exports  export-administration-act-south-africa  \n",
       "0    1.0                0.0                                     1.0  \n",
       "1    1.0                0.0                                     NaN  \n",
       "2    1.0                0.0                                     0.0  \n",
       "3    0.0                0.0                                     1.0  \n",
       "4    1.0                1.0                                     1.0  "
      ]
     },
     "execution_count": 42,
     "metadata": {},
     "output_type": "execute_result"
    }
   ],
   "source": [
    "df.head()"
   ]
  },
  {
   "cell_type": "code",
   "execution_count": 43,
   "metadata": {
    "collapsed": false
   },
   "outputs": [
    {
     "data": {
      "text/plain": [
       "handicapped-infants                       None\n",
       "water-project-cost-sharing                None\n",
       "adoption-of-the-budget-resolution         None\n",
       "physician-fee-freeze                      None\n",
       "el-salvador-aid                           None\n",
       "religious-groups-in-schools               None\n",
       "anti-satellite-test-ban                   None\n",
       "aid-to-nicaraguan-contras                 None\n",
       "mx-missile                                None\n",
       "immigration                               None\n",
       "synfuels-corporation-cutback              None\n",
       "education-spending                        None\n",
       "superfund-right-to-sue                    None\n",
       "crime                                     None\n",
       "duty-free-exports                         None\n",
       "export-administration-act-south-africa    None\n",
       "dtype: object"
      ]
     },
     "execution_count": 43,
     "metadata": {},
     "output_type": "execute_result"
    }
   ],
   "source": [
    "df2=df.iloc[:,1:]\n",
    "df2.apply(lambda x: x.fillna(x.mode()[0], inplace=True), axis=0)"
   ]
  },
  {
   "cell_type": "code",
   "execution_count": 44,
   "metadata": {
    "collapsed": false
   },
   "outputs": [
    {
     "data": {
      "text/html": [
       "<div>\n",
       "<table border=\"1\" class=\"dataframe\">\n",
       "  <thead>\n",
       "    <tr style=\"text-align: right;\">\n",
       "      <th></th>\n",
       "      <th>handicapped-infants</th>\n",
       "      <th>water-project-cost-sharing</th>\n",
       "      <th>adoption-of-the-budget-resolution</th>\n",
       "      <th>physician-fee-freeze</th>\n",
       "      <th>el-salvador-aid</th>\n",
       "      <th>religious-groups-in-schools</th>\n",
       "      <th>anti-satellite-test-ban</th>\n",
       "      <th>aid-to-nicaraguan-contras</th>\n",
       "      <th>mx-missile</th>\n",
       "      <th>immigration</th>\n",
       "      <th>synfuels-corporation-cutback</th>\n",
       "      <th>education-spending</th>\n",
       "      <th>superfund-right-to-sue</th>\n",
       "      <th>crime</th>\n",
       "      <th>duty-free-exports</th>\n",
       "      <th>export-administration-act-south-africa</th>\n",
       "    </tr>\n",
       "  </thead>\n",
       "  <tbody>\n",
       "    <tr>\n",
       "      <th>0</th>\n",
       "      <td>0.0</td>\n",
       "      <td>1.0</td>\n",
       "      <td>0.0</td>\n",
       "      <td>1.0</td>\n",
       "      <td>1.0</td>\n",
       "      <td>1.0</td>\n",
       "      <td>0.0</td>\n",
       "      <td>0.0</td>\n",
       "      <td>0.0</td>\n",
       "      <td>1.0</td>\n",
       "      <td>0.0</td>\n",
       "      <td>1.0</td>\n",
       "      <td>1.0</td>\n",
       "      <td>1.0</td>\n",
       "      <td>0.0</td>\n",
       "      <td>1.0</td>\n",
       "    </tr>\n",
       "    <tr>\n",
       "      <th>1</th>\n",
       "      <td>0.0</td>\n",
       "      <td>1.0</td>\n",
       "      <td>0.0</td>\n",
       "      <td>1.0</td>\n",
       "      <td>1.0</td>\n",
       "      <td>1.0</td>\n",
       "      <td>0.0</td>\n",
       "      <td>0.0</td>\n",
       "      <td>0.0</td>\n",
       "      <td>0.0</td>\n",
       "      <td>0.0</td>\n",
       "      <td>1.0</td>\n",
       "      <td>1.0</td>\n",
       "      <td>1.0</td>\n",
       "      <td>0.0</td>\n",
       "      <td>1.0</td>\n",
       "    </tr>\n",
       "    <tr>\n",
       "      <th>2</th>\n",
       "      <td>0.0</td>\n",
       "      <td>1.0</td>\n",
       "      <td>1.0</td>\n",
       "      <td>0.0</td>\n",
       "      <td>1.0</td>\n",
       "      <td>1.0</td>\n",
       "      <td>0.0</td>\n",
       "      <td>0.0</td>\n",
       "      <td>0.0</td>\n",
       "      <td>0.0</td>\n",
       "      <td>1.0</td>\n",
       "      <td>0.0</td>\n",
       "      <td>1.0</td>\n",
       "      <td>1.0</td>\n",
       "      <td>0.0</td>\n",
       "      <td>0.0</td>\n",
       "    </tr>\n",
       "    <tr>\n",
       "      <th>3</th>\n",
       "      <td>0.0</td>\n",
       "      <td>1.0</td>\n",
       "      <td>1.0</td>\n",
       "      <td>0.0</td>\n",
       "      <td>1.0</td>\n",
       "      <td>1.0</td>\n",
       "      <td>0.0</td>\n",
       "      <td>0.0</td>\n",
       "      <td>0.0</td>\n",
       "      <td>0.0</td>\n",
       "      <td>1.0</td>\n",
       "      <td>0.0</td>\n",
       "      <td>1.0</td>\n",
       "      <td>0.0</td>\n",
       "      <td>0.0</td>\n",
       "      <td>1.0</td>\n",
       "    </tr>\n",
       "    <tr>\n",
       "      <th>4</th>\n",
       "      <td>1.0</td>\n",
       "      <td>1.0</td>\n",
       "      <td>1.0</td>\n",
       "      <td>0.0</td>\n",
       "      <td>1.0</td>\n",
       "      <td>1.0</td>\n",
       "      <td>0.0</td>\n",
       "      <td>0.0</td>\n",
       "      <td>0.0</td>\n",
       "      <td>0.0</td>\n",
       "      <td>1.0</td>\n",
       "      <td>0.0</td>\n",
       "      <td>1.0</td>\n",
       "      <td>1.0</td>\n",
       "      <td>1.0</td>\n",
       "      <td>1.0</td>\n",
       "    </tr>\n",
       "  </tbody>\n",
       "</table>\n",
       "</div>"
      ],
      "text/plain": [
       "   handicapped-infants  water-project-cost-sharing  \\\n",
       "0                  0.0                         1.0   \n",
       "1                  0.0                         1.0   \n",
       "2                  0.0                         1.0   \n",
       "3                  0.0                         1.0   \n",
       "4                  1.0                         1.0   \n",
       "\n",
       "   adoption-of-the-budget-resolution  physician-fee-freeze  el-salvador-aid  \\\n",
       "0                                0.0                   1.0              1.0   \n",
       "1                                0.0                   1.0              1.0   \n",
       "2                                1.0                   0.0              1.0   \n",
       "3                                1.0                   0.0              1.0   \n",
       "4                                1.0                   0.0              1.0   \n",
       "\n",
       "   religious-groups-in-schools  anti-satellite-test-ban  \\\n",
       "0                          1.0                      0.0   \n",
       "1                          1.0                      0.0   \n",
       "2                          1.0                      0.0   \n",
       "3                          1.0                      0.0   \n",
       "4                          1.0                      0.0   \n",
       "\n",
       "   aid-to-nicaraguan-contras  mx-missile  immigration  \\\n",
       "0                        0.0         0.0          1.0   \n",
       "1                        0.0         0.0          0.0   \n",
       "2                        0.0         0.0          0.0   \n",
       "3                        0.0         0.0          0.0   \n",
       "4                        0.0         0.0          0.0   \n",
       "\n",
       "   synfuels-corporation-cutback  education-spending  superfund-right-to-sue  \\\n",
       "0                           0.0                 1.0                     1.0   \n",
       "1                           0.0                 1.0                     1.0   \n",
       "2                           1.0                 0.0                     1.0   \n",
       "3                           1.0                 0.0                     1.0   \n",
       "4                           1.0                 0.0                     1.0   \n",
       "\n",
       "   crime  duty-free-exports  export-administration-act-south-africa  \n",
       "0    1.0                0.0                                     1.0  \n",
       "1    1.0                0.0                                     1.0  \n",
       "2    1.0                0.0                                     0.0  \n",
       "3    0.0                0.0                                     1.0  \n",
       "4    1.0                1.0                                     1.0  "
      ]
     },
     "execution_count": 44,
     "metadata": {},
     "output_type": "execute_result"
    }
   ],
   "source": [
    "df2.head()"
   ]
  },
  {
   "cell_type": "code",
   "execution_count": 45,
   "metadata": {
    "collapsed": false
   },
   "outputs": [
    {
     "name": "stdout",
     "output_type": "stream",
     "text": [
      "Logistic Regression CV: 0.622964529011\n"
     ]
    }
   ],
   "source": [
    "X = df2.iloc[:,2:]\n",
    "y = df2.iloc[:,1]\n",
    "score = np.mean(cross_val_score(LogisticRegression(), X, y, cv=10, scoring='accuracy'))\n",
    "print('Logistic Regression CV:',score)"
   ]
  },
  {
   "cell_type": "code",
   "execution_count": 46,
   "metadata": {
    "collapsed": false
   },
   "outputs": [
    {
     "data": {
      "text/plain": [
       "{'n_neighbors': 13}"
      ]
     },
     "execution_count": 46,
     "metadata": {},
     "output_type": "execute_result"
    }
   ],
   "source": [
    "from sklearn.grid_search import GridSearchCV\n",
    "k_range = list(range(1,31))\n",
    "param_grid = dict(n_neighbors=k_range)\n",
    "grid = GridSearchCV(knn, param_grid, cv=10, scoring='accuracy')\n",
    "grid.fit(X,y)\n",
    "grid.best_params_"
   ]
  },
  {
   "cell_type": "code",
   "execution_count": 47,
   "metadata": {
    "collapsed": false
   },
   "outputs": [
    {
     "data": {
      "text/plain": [
       "0.6298850574712643"
      ]
     },
     "execution_count": 47,
     "metadata": {},
     "output_type": "execute_result"
    }
   ],
   "source": [
    "grid.best_score_"
   ]
  },
  {
   "cell_type": "code",
   "execution_count": 48,
   "metadata": {
    "collapsed": false
   },
   "outputs": [
    {
     "name": "stdout",
     "output_type": "stream",
     "text": [
      "KNN CV: 0.62983321588\n"
     ]
    }
   ],
   "source": [
    "score = np.mean(cross_val_score(KNeighborsClassifier(n_neighbors=13), X, y, cv=10, scoring='accuracy'))\n",
    "print('KNN CV:',score)"
   ]
  },
  {
   "cell_type": "markdown",
   "metadata": {},
   "source": [
    "Exercise 5.11\n",
    "\n",
    "Back to movie data! Choose one categoric feature to predict. I chose MPAA Rating, but genre, month, etc. are all decent choices. If you don't have any non-numeric features, you can make two bins out of a numeric one (like \"Runtime>100 mins\" and \"Runtime<=100 mins\")\n",
    "\n",
    "Make a bar graph of how many of each movie there is in the data. For example, with Ratings, show how many G, PG, PG-13, R movies there are, etc. (basically a histogram of your labels).\n",
    "\n",
    "Predict your outcome variable (labels) using KNN and logistic regression. Calculate their accuracies.\n",
    "\n",
    "Make a baseline stupid predictor that always predicts the label that is present the most in the data. Calculate its accuracy on a test set.\n",
    "\n",
    "How much better do KNN and logistic regression do versus the baseline?\n",
    "\n",
    "What are the coefficients of logistic regression? Which features affect the outcome how?"
   ]
  },
  {
   "cell_type": "code",
   "execution_count": 49,
   "metadata": {
    "collapsed": false
   },
   "outputs": [],
   "source": [
    "df = pd.read_csv(\"2013_movies.csv\")"
   ]
  },
  {
   "cell_type": "code",
   "execution_count": 50,
   "metadata": {
    "collapsed": false
   },
   "outputs": [],
   "source": [
    "df=df[[\"Rating\", \"Runtime\",\"DomesticTotalGross\"]]"
   ]
  },
  {
   "cell_type": "code",
   "execution_count": 51,
   "metadata": {
    "collapsed": false
   },
   "outputs": [
    {
     "data": {
      "text/plain": [
       "<matplotlib.axes._subplots.AxesSubplot at 0x119030690>"
      ]
     },
     "execution_count": 51,
     "metadata": {},
     "output_type": "execute_result"
    },
    {
     "data": {
      "image/png": "[encoded data removed]",
      "text/plain": [
       "<matplotlib.figure.Figure at 0x117dadc50>"
      ]
     },
     "metadata": {},
     "output_type": "display_data"
    }
   ],
   "source": [
    "df[\"Rating\"].value_counts().plot('bar', title= \"Histogram of Ratings\")"
   ]
  },
  {
   "cell_type": "code",
   "execution_count": 52,
   "metadata": {
    "collapsed": false
   },
   "outputs": [
    {
     "data": {
      "text/html": [
       "<div>\n",
       "<table border=\"1\" class=\"dataframe\">\n",
       "  <thead>\n",
       "    <tr style=\"text-align: right;\">\n",
       "      <th></th>\n",
       "      <th>Rating</th>\n",
       "      <th>Runtime</th>\n",
       "      <th>DomesticTotalGross</th>\n",
       "    </tr>\n",
       "  </thead>\n",
       "  <tbody>\n",
       "    <tr>\n",
       "      <th>0</th>\n",
       "      <td>PG-13</td>\n",
       "      <td>146</td>\n",
       "      <td>424668047</td>\n",
       "    </tr>\n",
       "    <tr>\n",
       "      <th>1</th>\n",
       "      <td>PG-13</td>\n",
       "      <td>129</td>\n",
       "      <td>409013994</td>\n",
       "    </tr>\n",
       "    <tr>\n",
       "      <th>2</th>\n",
       "      <td>PG</td>\n",
       "      <td>108</td>\n",
       "      <td>400738009</td>\n",
       "    </tr>\n",
       "    <tr>\n",
       "      <th>3</th>\n",
       "      <td>PG</td>\n",
       "      <td>98</td>\n",
       "      <td>368061265</td>\n",
       "    </tr>\n",
       "    <tr>\n",
       "      <th>4</th>\n",
       "      <td>PG-13</td>\n",
       "      <td>143</td>\n",
       "      <td>291045518</td>\n",
       "    </tr>\n",
       "    <tr>\n",
       "      <th>5</th>\n",
       "      <td>PG-13</td>\n",
       "      <td>91</td>\n",
       "      <td>274092705</td>\n",
       "    </tr>\n",
       "    <tr>\n",
       "      <th>6</th>\n",
       "      <td>G</td>\n",
       "      <td>107</td>\n",
       "      <td>268492764</td>\n",
       "    </tr>\n",
       "    <tr>\n",
       "      <th>7</th>\n",
       "      <td>PG-13</td>\n",
       "      <td>161</td>\n",
       "      <td>258366855</td>\n",
       "    </tr>\n",
       "    <tr>\n",
       "      <th>8</th>\n",
       "      <td>PG-13</td>\n",
       "      <td>130</td>\n",
       "      <td>238679850</td>\n",
       "    </tr>\n",
       "    <tr>\n",
       "      <th>9</th>\n",
       "      <td>PG</td>\n",
       "      <td>127</td>\n",
       "      <td>234911825</td>\n",
       "    </tr>\n",
       "    <tr>\n",
       "      <th>10</th>\n",
       "      <td>PG-13</td>\n",
       "      <td>123</td>\n",
       "      <td>228778661</td>\n",
       "    </tr>\n",
       "    <tr>\n",
       "      <th>11</th>\n",
       "      <td>PG-13</td>\n",
       "      <td>120</td>\n",
       "      <td>206362140</td>\n",
       "    </tr>\n",
       "    <tr>\n",
       "      <th>12</th>\n",
       "      <td>PG-13</td>\n",
       "      <td>116</td>\n",
       "      <td>202359711</td>\n",
       "    </tr>\n",
       "    <tr>\n",
       "      <th>13</th>\n",
       "      <td>PG</td>\n",
       "      <td>98</td>\n",
       "      <td>187168425</td>\n",
       "    </tr>\n",
       "    <tr>\n",
       "      <th>14</th>\n",
       "      <td>R</td>\n",
       "      <td>117</td>\n",
       "      <td>159582188</td>\n",
       "    </tr>\n",
       "    <tr>\n",
       "      <th>15</th>\n",
       "      <td>R</td>\n",
       "      <td>110</td>\n",
       "      <td>150394119</td>\n",
       "    </tr>\n",
       "    <tr>\n",
       "      <th>16</th>\n",
       "      <td>R</td>\n",
       "      <td>138</td>\n",
       "      <td>150117807</td>\n",
       "    </tr>\n",
       "    <tr>\n",
       "      <th>17</th>\n",
       "      <td>PG-13</td>\n",
       "      <td>143</td>\n",
       "      <td>144840419</td>\n",
       "    </tr>\n",
       "    <tr>\n",
       "      <th>18</th>\n",
       "      <td>R</td>\n",
       "      <td>112</td>\n",
       "      <td>137400141</td>\n",
       "    </tr>\n",
       "    <tr>\n",
       "      <th>19</th>\n",
       "      <td>R</td>\n",
       "      <td>111</td>\n",
       "      <td>134506920</td>\n",
       "    </tr>\n",
       "    <tr>\n",
       "      <th>20</th>\n",
       "      <td>PG-13</td>\n",
       "      <td>101</td>\n",
       "      <td>133668525</td>\n",
       "    </tr>\n",
       "    <tr>\n",
       "      <th>21</th>\n",
       "      <td>PG-13</td>\n",
       "      <td>126</td>\n",
       "      <td>132556852</td>\n",
       "    </tr>\n",
       "    <tr>\n",
       "      <th>22</th>\n",
       "      <td>PG-13</td>\n",
       "      <td>119</td>\n",
       "      <td>125168368</td>\n",
       "    </tr>\n",
       "    <tr>\n",
       "      <th>23</th>\n",
       "      <td>R</td>\n",
       "      <td>121</td>\n",
       "      <td>125095601</td>\n",
       "    </tr>\n",
       "    <tr>\n",
       "      <th>24</th>\n",
       "      <td>PG-13</td>\n",
       "      <td>99</td>\n",
       "      <td>122523060</td>\n",
       "    </tr>\n",
       "    <tr>\n",
       "      <th>25</th>\n",
       "      <td>PG</td>\n",
       "      <td>95</td>\n",
       "      <td>119793567</td>\n",
       "    </tr>\n",
       "    <tr>\n",
       "      <th>26</th>\n",
       "      <td>PG-13</td>\n",
       "      <td>116</td>\n",
       "      <td>117723989</td>\n",
       "    </tr>\n",
       "    <tr>\n",
       "      <th>27</th>\n",
       "      <td>R</td>\n",
       "      <td>180</td>\n",
       "      <td>116900694</td>\n",
       "    </tr>\n",
       "    <tr>\n",
       "      <th>28</th>\n",
       "      <td>PG-13</td>\n",
       "      <td>132</td>\n",
       "      <td>116632095</td>\n",
       "    </tr>\n",
       "    <tr>\n",
       "      <th>29</th>\n",
       "      <td>R</td>\n",
       "      <td>100</td>\n",
       "      <td>112200072</td>\n",
       "    </tr>\n",
       "    <tr>\n",
       "      <th>...</th>\n",
       "      <td>...</td>\n",
       "      <td>...</td>\n",
       "      <td>...</td>\n",
       "    </tr>\n",
       "    <tr>\n",
       "      <th>70</th>\n",
       "      <td>R</td>\n",
       "      <td>113</td>\n",
       "      <td>46000903</td>\n",
       "    </tr>\n",
       "    <tr>\n",
       "      <th>71</th>\n",
       "      <td>PG-13</td>\n",
       "      <td>127</td>\n",
       "      <td>45385935</td>\n",
       "    </tr>\n",
       "    <tr>\n",
       "      <th>72</th>\n",
       "      <td>PG-13</td>\n",
       "      <td>119</td>\n",
       "      <td>44672764</td>\n",
       "    </tr>\n",
       "    <tr>\n",
       "      <th>73</th>\n",
       "      <td>PG-13</td>\n",
       "      <td>115</td>\n",
       "      <td>44467206</td>\n",
       "    </tr>\n",
       "    <tr>\n",
       "      <th>74</th>\n",
       "      <td>PG-13</td>\n",
       "      <td>112</td>\n",
       "      <td>42930462</td>\n",
       "    </tr>\n",
       "    <tr>\n",
       "      <th>75</th>\n",
       "      <td>R</td>\n",
       "      <td>119</td>\n",
       "      <td>42025135</td>\n",
       "    </tr>\n",
       "    <tr>\n",
       "      <th>76</th>\n",
       "      <td>R</td>\n",
       "      <td>80</td>\n",
       "      <td>40041683</td>\n",
       "    </tr>\n",
       "    <tr>\n",
       "      <th>77</th>\n",
       "      <td>PG-13</td>\n",
       "      <td>127</td>\n",
       "      <td>38362475</td>\n",
       "    </tr>\n",
       "    <tr>\n",
       "      <th>78</th>\n",
       "      <td>R</td>\n",
       "      <td>130</td>\n",
       "      <td>37738810</td>\n",
       "    </tr>\n",
       "    <tr>\n",
       "      <th>79</th>\n",
       "      <td>PG-13</td>\n",
       "      <td>95</td>\n",
       "      <td>37709979</td>\n",
       "    </tr>\n",
       "    <tr>\n",
       "      <th>80</th>\n",
       "      <td>R</td>\n",
       "      <td>112</td>\n",
       "      <td>36918811</td>\n",
       "    </tr>\n",
       "    <tr>\n",
       "      <th>81</th>\n",
       "      <td>PG</td>\n",
       "      <td>87</td>\n",
       "      <td>36076121</td>\n",
       "    </tr>\n",
       "    <tr>\n",
       "      <th>82</th>\n",
       "      <td>R</td>\n",
       "      <td>92</td>\n",
       "      <td>35266619</td>\n",
       "    </tr>\n",
       "    <tr>\n",
       "      <th>83</th>\n",
       "      <td>R</td>\n",
       "      <td>92</td>\n",
       "      <td>34341945</td>\n",
       "    </tr>\n",
       "    <tr>\n",
       "      <th>84</th>\n",
       "      <td>PG-13</td>\n",
       "      <td>96</td>\n",
       "      <td>33618855</td>\n",
       "    </tr>\n",
       "    <tr>\n",
       "      <th>85</th>\n",
       "      <td>PG-13</td>\n",
       "      <td>98</td>\n",
       "      <td>33405481</td>\n",
       "    </tr>\n",
       "    <tr>\n",
       "      <th>86</th>\n",
       "      <td>R</td>\n",
       "      <td>75</td>\n",
       "      <td>32244051</td>\n",
       "    </tr>\n",
       "    <tr>\n",
       "      <th>87</th>\n",
       "      <td>R</td>\n",
       "      <td>106</td>\n",
       "      <td>32172757</td>\n",
       "    </tr>\n",
       "    <tr>\n",
       "      <th>88</th>\n",
       "      <td>PG-13</td>\n",
       "      <td>85</td>\n",
       "      <td>32015787</td>\n",
       "    </tr>\n",
       "    <tr>\n",
       "      <th>89</th>\n",
       "      <td>PG-13</td>\n",
       "      <td>120</td>\n",
       "      <td>31165421</td>\n",
       "    </tr>\n",
       "    <tr>\n",
       "      <th>90</th>\n",
       "      <td>PG-13</td>\n",
       "      <td>105</td>\n",
       "      <td>30664106</td>\n",
       "    </tr>\n",
       "    <tr>\n",
       "      <th>91</th>\n",
       "      <td>PG-13</td>\n",
       "      <td>113</td>\n",
       "      <td>29807260</td>\n",
       "    </tr>\n",
       "    <tr>\n",
       "      <th>92</th>\n",
       "      <td>PG</td>\n",
       "      <td>92</td>\n",
       "      <td>28873374</td>\n",
       "    </tr>\n",
       "    <tr>\n",
       "      <th>93</th>\n",
       "      <td>R</td>\n",
       "      <td>103</td>\n",
       "      <td>28795985</td>\n",
       "    </tr>\n",
       "    <tr>\n",
       "      <th>94</th>\n",
       "      <td>R</td>\n",
       "      <td>117</td>\n",
       "      <td>27298285</td>\n",
       "    </tr>\n",
       "    <tr>\n",
       "      <th>95</th>\n",
       "      <td>R</td>\n",
       "      <td>123</td>\n",
       "      <td>26947624</td>\n",
       "    </tr>\n",
       "    <tr>\n",
       "      <th>96</th>\n",
       "      <td>PG-13</td>\n",
       "      <td>125</td>\n",
       "      <td>26627201</td>\n",
       "    </tr>\n",
       "    <tr>\n",
       "      <th>97</th>\n",
       "      <td>R</td>\n",
       "      <td>109</td>\n",
       "      <td>26004851</td>\n",
       "    </tr>\n",
       "    <tr>\n",
       "      <th>98</th>\n",
       "      <td>R</td>\n",
       "      <td>93</td>\n",
       "      <td>25682380</td>\n",
       "    </tr>\n",
       "    <tr>\n",
       "      <th>99</th>\n",
       "      <td>R</td>\n",
       "      <td>120</td>\n",
       "      <td>25568251</td>\n",
       "    </tr>\n",
       "  </tbody>\n",
       "</table>\n",
       "<p>100 rows × 3 columns</p>\n",
       "</div>"
      ],
      "text/plain": [
       "   Rating  Runtime  DomesticTotalGross\n",
       "0   PG-13      146           424668047\n",
       "1   PG-13      129           409013994\n",
       "2      PG      108           400738009\n",
       "3      PG       98           368061265\n",
       "4   PG-13      143           291045518\n",
       "5   PG-13       91           274092705\n",
       "6       G      107           268492764\n",
       "7   PG-13      161           258366855\n",
       "8   PG-13      130           238679850\n",
       "9      PG      127           234911825\n",
       "10  PG-13      123           228778661\n",
       "11  PG-13      120           206362140\n",
       "12  PG-13      116           202359711\n",
       "13     PG       98           187168425\n",
       "14      R      117           159582188\n",
       "15      R      110           150394119\n",
       "16      R      138           150117807\n",
       "17  PG-13      143           144840419\n",
       "18      R      112           137400141\n",
       "19      R      111           134506920\n",
       "20  PG-13      101           133668525\n",
       "21  PG-13      126           132556852\n",
       "22  PG-13      119           125168368\n",
       "23      R      121           125095601\n",
       "24  PG-13       99           122523060\n",
       "25     PG       95           119793567\n",
       "26  PG-13      116           117723989\n",
       "27      R      180           116900694\n",
       "28  PG-13      132           116632095\n",
       "29      R      100           112200072\n",
       "..    ...      ...                 ...\n",
       "70      R      113            46000903\n",
       "71  PG-13      127            45385935\n",
       "72  PG-13      119            44672764\n",
       "73  PG-13      115            44467206\n",
       "74  PG-13      112            42930462\n",
       "75      R      119            42025135\n",
       "76      R       80            40041683\n",
       "77  PG-13      127            38362475\n",
       "78      R      130            37738810\n",
       "79  PG-13       95            37709979\n",
       "80      R      112            36918811\n",
       "81     PG       87            36076121\n",
       "82      R       92            35266619\n",
       "83      R       92            34341945\n",
       "84  PG-13       96            33618855\n",
       "85  PG-13       98            33405481\n",
       "86      R       75            32244051\n",
       "87      R      106            32172757\n",
       "88  PG-13       85            32015787\n",
       "89  PG-13      120            31165421\n",
       "90  PG-13      105            30664106\n",
       "91  PG-13      113            29807260\n",
       "92     PG       92            28873374\n",
       "93      R      103            28795985\n",
       "94      R      117            27298285\n",
       "95      R      123            26947624\n",
       "96  PG-13      125            26627201\n",
       "97      R      109            26004851\n",
       "98      R       93            25682380\n",
       "99      R      120            25568251\n",
       "\n",
       "[100 rows x 3 columns]"
      ]
     },
     "execution_count": 52,
     "metadata": {},
     "output_type": "execute_result"
    }
   ],
   "source": [
    "df.dropna()"
   ]
  },
  {
   "cell_type": "code",
   "execution_count": 53,
   "metadata": {
    "collapsed": false
   },
   "outputs": [
    {
     "data": {
      "text/plain": [
       "Rating                object\n",
       "Runtime                int64\n",
       "DomesticTotalGross     int64\n",
       "dtype: object"
      ]
     },
     "execution_count": 53,
     "metadata": {},
     "output_type": "execute_result"
    }
   ],
   "source": [
    "df.dtypes"
   ]
  },
  {
   "cell_type": "code",
   "execution_count": 54,
   "metadata": {
    "collapsed": false
   },
   "outputs": [
    {
     "name": "stdout",
     "output_type": "stream",
     "text": [
      "Logistic Regression CV: 0.473484848485\n"
     ]
    },
    {
     "name": "stderr",
     "output_type": "stream",
     "text": [
      "/Users/rebeccahyde/anaconda/lib/python2.7/site-packages/sklearn/cross_validation.py:532: Warning: The least populated class in y has only 1 members, which is too few. The minimum number of labels for any class cannot be less than n_folds=10.\n",
      "  % (min_labels, self.n_folds)), Warning)\n"
     ]
    }
   ],
   "source": [
    "X = df.iloc[:,1:]\n",
    "y = df.iloc[:,0]\n",
    "score = np.mean(cross_val_score(LogisticRegression(), X, y, cv=10, scoring='accuracy'))\n",
    "print('Logistic Regression CV:',score)"
   ]
  },
  {
   "cell_type": "code",
   "execution_count": 55,
   "metadata": {
    "collapsed": false
   },
   "outputs": [
    {
     "data": {
      "text/plain": [
       "{'n_neighbors': 30}"
      ]
     },
     "execution_count": 55,
     "metadata": {},
     "output_type": "execute_result"
    }
   ],
   "source": [
    "k_range = list(range(1,31))\n",
    "param_grid = dict(n_neighbors=k_range)\n",
    "grid = GridSearchCV(knn, param_grid, cv=10, scoring='accuracy')\n",
    "grid.fit(X,y)\n",
    "grid.best_params_"
   ]
  },
  {
   "cell_type": "code",
   "execution_count": 56,
   "metadata": {
    "collapsed": false
   },
   "outputs": [
    {
     "name": "stdout",
     "output_type": "stream",
     "text": [
      "KNN CV: 0.488484848485\n"
     ]
    }
   ],
   "source": [
    "score = np.mean(cross_val_score(KNeighborsClassifier(n_neighbors=30), X, y, cv=10, scoring='accuracy'))\n",
    "print('KNN CV:',score)"
   ]
  },
  {
   "cell_type": "code",
   "execution_count": 57,
   "metadata": {
    "collapsed": false
   },
   "outputs": [
    {
     "name": "stdout",
     "output_type": "stream",
     "text": [
      "All Predictions PG-13 Accuracy Score: 0.466666666667\n"
     ]
    }
   ],
   "source": [
    "X_train, X_test, y_train, y_test = train_test_split(X, y, test_size=.30, random_state=4444)\n",
    "def pred_rating(X):\n",
    "    return ['PG-13' for x in range(len(X))]\n",
    "y_pred = pred_rating(X_test)\n",
    "ScoreR = metrics.accuracy_score(y_test,y_pred)\n",
    "print('All Predictions PG-13 Accuracy Score:', ScoreR)"
   ]
  },
  {
   "cell_type": "markdown",
   "metadata": {},
   "source": [
    "The KNN and Logistic Regression accuracy scores are not any better than the \"predict PG-13 for every movie\" accuracy score."
   ]
  },
  {
   "cell_type": "code",
   "execution_count": 58,
   "metadata": {
    "collapsed": false
   },
   "outputs": [
    {
     "data": {
      "text/plain": [
       "array([[ -2.67922080e-13,  -4.73607165e-08],\n",
       "       [ -4.22409750e-14,  -1.03876992e-08],\n",
       "       [ -7.22558926e-16,   4.71945999e-10],\n",
       "       [ -1.25224250e-15,  -7.03183167e-09]])"
      ]
     },
     "execution_count": 58,
     "metadata": {},
     "output_type": "execute_result"
    }
   ],
   "source": [
    "lr=LogisticRegression()\n",
    "fit = lr.fit(X,y)\n",
    "fit.coef_"
   ]
  },
  {
   "cell_type": "markdown",
   "metadata": {},
   "source": [
    "There are no features that affect any of the 4 outcomes. Hence the fact that predicting PG-13 for every movie has the same accuracy score as logistic regression."
   ]
  },
  {
   "cell_type": "markdown",
   "metadata": {},
   "source": [
    "Exercise 5.12\n",
    "\n",
    "Now you are a classification master. The representative votes dataset only had 0s and 1s. Let's just swiftly tackle the breast cancer surgery data.\n",
    "\n",
    "Get it from here: Haberman Survival Dataset\n",
    "\n",
    "What is the average and standard deviation of the age of all of the patients?\n",
    "What is the average and standard deviation of the age of those patients that survived 5 or more years after surgery?\n",
    "What is the average and standard deviation of the age of those patients who survived fewer than 5 years after surgery?\n",
    "Plot a histogram of the ages side by side with a histogram of the number of axillary nodes.\n",
    "What is the earliest year of surgery in this dataset?\n",
    "What is the most recent year of surgery?\n",
    "Use logistic regression to predict survival after 5 years. How well does your model do?\n",
    "What are the coefficients of logistic regression? Which features affect the outcome how?\n",
    "Draw the learning curve for logistic regression in this case."
   ]
  },
  {
   "cell_type": "code",
   "execution_count": 59,
   "metadata": {
    "collapsed": false
   },
   "outputs": [],
   "source": [
    "df = pd.read_csv(\"https://archive.ics.uci.edu/ml/machine-learning-databases/haberman/haberman.data\", header=None)"
   ]
  },
  {
   "cell_type": "code",
   "execution_count": 60,
   "metadata": {
    "collapsed": true
   },
   "outputs": [],
   "source": [
    "df.columns = [\"Age_at_op\", \"Year_of_op\", \"#_of_pos_aux_nodes\", \n",
    "              \"Survival_status\"]"
   ]
  },
  {
   "cell_type": "markdown",
   "metadata": {},
   "source": [
    "What is the average and standard deviation of the age of all of the patients?"
   ]
  },
  {
   "cell_type": "code",
   "execution_count": 61,
   "metadata": {
    "collapsed": false
   },
   "outputs": [
    {
     "name": "stdout",
     "output_type": "stream",
     "text": [
      "Mean: 52.4575163399 Standard Deviation 10.8034523493\n"
     ]
    }
   ],
   "source": [
    "print('Mean:',df['Age_at_op'].mean(),'Standard Deviation',df['Age_at_op'].std())"
   ]
  },
  {
   "cell_type": "markdown",
   "metadata": {},
   "source": [
    "What is the average and standard deviation of the age of those patients that survived 5 or more years after surgery?"
   ]
  },
  {
   "cell_type": "code",
   "execution_count": 62,
   "metadata": {
    "collapsed": false
   },
   "outputs": [
    {
     "name": "stdout",
     "output_type": "stream",
     "text": [
      "Mean: 52.0177777778 Standard Deviation 11.0121541799\n"
     ]
    }
   ],
   "source": [
    "print('Mean:',df.loc[df['Survival_status']==1,'Age_at_op'].mean(),'Standard Deviation',df.loc[df['Survival_status']==1,'Age_at_op'].std())"
   ]
  },
  {
   "cell_type": "markdown",
   "metadata": {},
   "source": [
    "What is the average and standard deviation of the age of those patients who survived fewer than 5 years after surgery?"
   ]
  },
  {
   "cell_type": "code",
   "execution_count": 63,
   "metadata": {
    "collapsed": false
   },
   "outputs": [
    {
     "name": "stdout",
     "output_type": "stream",
     "text": [
      "Mean: 53.6790123457 Standard Deviation 10.1671372083\n"
     ]
    }
   ],
   "source": [
    "print('Mean:',df.loc[df['Survival_status']==2,'Age_at_op'].mean(),'Standard Deviation',df.loc[df['Survival_status']==2,'Age_at_op'].std())"
   ]
  },
  {
   "cell_type": "markdown",
   "metadata": {},
   "source": [
    "Plot a histogram of the ages side by side with a histogram of the number of axillary nodes."
   ]
  },
  {
   "cell_type": "code",
   "execution_count": 64,
   "metadata": {
    "collapsed": false
   },
   "outputs": [
    {
     "data": {
      "text/plain": [
       "<matplotlib.legend.Legend at 0x1190e7a50>"
      ]
     },
     "execution_count": 64,
     "metadata": {},
     "output_type": "execute_result"
    },
    {
     "data": {
      "image/png": "[encoded data removed]",
      "text/plain": [
       "<matplotlib.figure.Figure at 0x1190e7310>"
      ]
     },
     "metadata": {},
     "output_type": "display_data"
    }
   ],
   "source": [
    "plt.hist(df[\"#_of_pos_aux_nodes\"])\n",
    "plt.hist(df[\"Age_at_op\"])\n",
    "plt.ylabel(\"Count\")\n",
    "plt.xlabel(\"Number of Positive Auxillary Nodes or Age at Operation\")\n",
    "plt.title(\"Histogram: Number of Positive Auxillary Nodes or Age at Operation\")\n",
    "plt.legend([\"Number of Positive Auxillary Nodes\", \"Age at Operation\"])"
   ]
  },
  {
   "cell_type": "markdown",
   "metadata": {},
   "source": [
    "What is the earliest year of surgery in this dataset?"
   ]
  },
  {
   "cell_type": "code",
   "execution_count": 65,
   "metadata": {
    "collapsed": false
   },
   "outputs": [
    {
     "name": "stdout",
     "output_type": "stream",
     "text": [
      "Earliest year:  1958\n"
     ]
    }
   ],
   "source": [
    "print (\"Earliest year: \", \"19\"+str(df[\"Year_of_op\"].min()))"
   ]
  },
  {
   "cell_type": "markdown",
   "metadata": {},
   "source": [
    "What is the most recent year of surgery?"
   ]
  },
  {
   "cell_type": "code",
   "execution_count": 66,
   "metadata": {
    "collapsed": false
   },
   "outputs": [
    {
     "name": "stdout",
     "output_type": "stream",
     "text": [
      "Most recent year:  1969\n"
     ]
    }
   ],
   "source": [
    "print (\"Most recent year: \", \"19\"+str(df[\"Year_of_op\"].max()))"
   ]
  },
  {
   "cell_type": "markdown",
   "metadata": {},
   "source": [
    "Use logistic regression to predict survival after 5 years. How well does your model do?"
   ]
  },
  {
   "cell_type": "code",
   "execution_count": 67,
   "metadata": {
    "collapsed": false
   },
   "outputs": [],
   "source": [
    "X=df.iloc[:,0:3]\n",
    "y=df.iloc[:,3]\n",
    "y[y==2]=0"
   ]
  },
  {
   "cell_type": "code",
   "execution_count": 68,
   "metadata": {
    "collapsed": false
   },
   "outputs": [
    {
     "data": {
      "text/plain": [
       "1    225\n",
       "0     81\n",
       "Name: Survival_status, dtype: int64"
      ]
     },
     "execution_count": 68,
     "metadata": {},
     "output_type": "execute_result"
    }
   ],
   "source": [
    "y.value_counts()"
   ]
  },
  {
   "cell_type": "code",
   "execution_count": 69,
   "metadata": {
    "collapsed": false
   },
   "outputs": [
    {
     "name": "stdout",
     "output_type": "stream",
     "text": [
      "Logistic Regression CV: 0.751659946237\n"
     ]
    }
   ],
   "source": [
    "score = np.mean(cross_val_score(LogisticRegression(), X, y, cv=10, scoring='accuracy'))\n",
    "print('Logistic Regression CV:',score)"
   ]
  },
  {
   "cell_type": "markdown",
   "metadata": {},
   "source": [
    "What are the coefficients of logistic regression? Which features affect the outcome how?"
   ]
  },
  {
   "cell_type": "code",
   "execution_count": 74,
   "metadata": {
    "collapsed": false
   },
   "outputs": [
    {
     "data": {
      "text/plain": [
       "array([[-0.01854689,  0.0345458 , -0.08812314]])"
      ]
     },
     "execution_count": 74,
     "metadata": {},
     "output_type": "execute_result"
    }
   ],
   "source": [
    "lr = LogisticRegression()\n",
    "fit = lr.fit(X,y)\n",
    "fit.coef_"
   ]
  },
  {
   "cell_type": "markdown",
   "metadata": {},
   "source": [
    "Older age at operation and greater number of positive auxillary nodes decreases probability of survival >5 years.  Having surgery in a later year increases probability of survival >5 years."
   ]
  },
  {
   "cell_type": "markdown",
   "metadata": {},
   "source": [
    "Draw the learning curve for logistic regression in this case."
   ]
  },
  {
   "cell_type": "code",
   "execution_count": 71,
   "metadata": {
    "collapsed": true
   },
   "outputs": [],
   "source": [
    "X_train, X_test, y_train, y_test = train_test_split(X, y, test_size=.30, random_state=4444)"
   ]
  },
  {
   "cell_type": "code",
   "execution_count": 72,
   "metadata": {
    "collapsed": false
   },
   "outputs": [
    {
     "data": {
      "text/plain": [
       "<matplotlib.text.Text at 0x117dbd550>"
      ]
     },
     "execution_count": 72,
     "metadata": {},
     "output_type": "execute_result"
    },
    {
     "data": {
      "image/png": "[encoded data removed]",
      "text/plain": [
       "<matplotlib.figure.Figure at 0x117a85a90>"
      ]
     },
     "metadata": {},
     "output_type": "display_data"
    }
   ],
   "source": [
    "m, train_err, test_err = learning_curve(LogisticRegression(), X, y, cv=5)\n",
    "train_cv_err = np.mean(train_err, axis=1)\n",
    "test_cv_err = np.mean(test_err, axis=1)\n",
    "plt.plot(m,train_cv_err)\n",
    "plt.plot(m,test_cv_err)\n",
    "plt.ylabel('Accuracy Score')\n",
    "plt.xlabel('Training Set Size')\n",
    "plt.legend(['Training Accuracy','Testing Accuracy'])\n",
    "plt.title('Logistic Regression Learning Curves')"
   ]
  }
 ],
 "metadata": {
  "anaconda-cloud": {},
  "kernelspec": {
   "display_name": "Python [Root]",
   "language": "python",
   "name": "Python [Root]"
  },
  "language_info": {
   "codemirror_mode": {
    "name": "ipython",
    "version": 2
   },
   "file_extension": ".py",
   "mimetype": "text/x-python",
   "name": "python",
   "nbconvert_exporter": "python",
   "pygments_lexer": "ipython2",
   "version": "2.7.12"
  }
 },
 "nbformat": 4,
 "nbformat_minor": 0
}
