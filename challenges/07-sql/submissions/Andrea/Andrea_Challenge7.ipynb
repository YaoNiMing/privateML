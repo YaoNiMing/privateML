{
 "cells": [
  {
   "cell_type": "markdown",
   "metadata": {},
   "source": [
    "**Challenge 1: What customers are from the UK?**  \n",
    "\n",
    "**Query**  \n",
    "SELECT * FROM Customers WHERE Country = 'UK';  \n",
    "\n",
    "**Result**  \n",
    "CustomerID\tCustomerName\tContactName\tAddress\tCity\tPostalCode\tCountry  \n",
    "4\tAround the Horn\tThomas Hardy\t120 Hanover Sq.\tLondon\tWA1 1DP\tUK  \n",
    "11\tB's Beverages\tVictoria Ashworth\tFauntleroy Circus\tLondon\tEC2 5NT\tUK  \n",
    "16\tConsolidated Holdings\tElizabeth Brown\tBerkeley Gardens 12 Brewery\tLondon\tWX1 6LT\tUK  \n",
    "19\tEastern Connection\tAnn Devon\t35 King George\tLondon\tWX3 6FW\tUK  \n",
    "38\tIsland Trading\tHelen Bennett\tGarden House Crowther Way\tCowes\tPO31 7PJ\tUK  \n",
    "53\tNorth/South\tSimon Crowther\tSouth House 300 Queensbridge\tLondon\tSW7 1RZ\tUK  \n",
    "72\tSeven Seas Imports\tHari Kumar\t90 Wadhurst Rd.\tLondon\tOX15 4NB\tUK  "
   ]
  },
  {
   "cell_type": "markdown",
   "metadata": {},
   "source": [
    "**Challenge 2: What is the name of the customer who has the most orders?**\n",
    "\n",
    "**Query**  \n",
    "SELECT c.CustomerName, COUNT(*) as order_count FROM Customers c, Orders o WHERE c.CustomerID=o.CustomerID GROUP BY c.CustomerName ORDER BY COUNT(*) DESC;\n",
    "\n",
    "**Result**  \n",
    "The top record is:  \n",
    "CustomerName\torder_count  \n",
    "Ernst Handel\t10  "
   ]
  },
  {
   "cell_type": "markdown",
   "metadata": {},
   "source": [
    "**Challenge 3: What supplier has the highest average product price?**  \n",
    "\n",
    "**Query**  \n",
    "SELECT s.SupplierName, AVG(Price) as avg_price FROM Suppliers s, Products p where s.SupplierID=p.SupplierID GROUP BY s.SupplierName ORDER BY avg_price DESC;  \n",
    "\n",
    "**Result**  \n",
    "SupplierName\tavg_price  \n",
    "Aux joyeux ecclésiastiques\t140.75  "
   ]
  },
  {
   "cell_type": "markdown",
   "metadata": {},
   "source": [
    "**Challenge 4: How many different countries are their customers from? (Hint: Consider DISTINCT.)**  \n",
    "\n",
    "**Query**  \n",
    "SELECT DISTINCT Country FROM Customers;\n",
    "\n",
    "**Result**  \n",
    "Number of Records: 21 (they are then listed)  "
   ]
  },
  {
   "cell_type": "markdown",
   "metadata": {},
   "source": [
    "**Challenge 5: What category appears in the most orders?**  \n",
    "\n",
    "**Query**  \n",
    "SELECT inner.CategoryName, max(inner.count) from\n",
    "(SELECT c.CategoryID, c.CategoryName, count(distinct od.OrderID) as count\n",
    "FROM OrderDetails od\n",
    "INNER JOIN Products p\n",
    "on od.ProductID = p.ProductID\n",
    "INNER JOIN Categories c \n",
    "on p.CategoryID = c.CategoryID\n",
    "group by c.CategoryID        \n",
    "order by 3 desc) as inner;\n",
    "\n",
    "**Result**  \n",
    "\n",
    "CategoryName\tmax(inner.count)  \n",
    "Beverages\t80"
   ]
  },
  {
   "cell_type": "markdown",
   "metadata": {},
   "source": [
    "**Challenge 6: What was the total cost for each order?**\n",
    "\n",
    "**Query**  \n",
    "SELECT OrderID, sum(Price*Quantity) as cost\n",
    "FROM\n",
    "OrderDetails\n",
    "INNER JOIN\n",
    "Products\n",
    "ON OrderDetails.ProductID = Products.ProductID\n",
    "GROUP BY OrderID\n",
    "\n",
    "**Result**  \n",
    "Here there are 196 records.  Rather than showing them all, I show the first five:    \n",
    "OrderID\tcost  \n",
    "10248\t566  \n",
    "10249\t2329.25  \n",
    "10250\t2267.25  \n",
    "10251\t839.5  \n",
    "10252\t4662.5  "
   ]
  },
  {
   "cell_type": "markdown",
   "metadata": {},
   "source": [
    "**Challenge 7: What employee made the most sales (by total cost)?**\n",
    "\n",
    "**Query**  \n",
    "SELECT Employees.LastName, Sum(Products.Price) as TotalCost  \n",
    "FROM Employees, Orders, Products, OrderDetails  \n",
    "WHERE Orders.EmployeeID=Employees.EmployeeID  \n",
    "AND Orders.OrderID = OrderDetails.OrderID  \n",
    "AND Products.ProductID=OrderDetails.ProductID  \n",
    "GROUP BY Employees.LastName  \n",
    "ORDER BY Sum(Products.Price) DESC;  \n",
    "\n",
    "**Result**  \n",
    "The top result is:  \n",
    "LastName\tTotalCost  \n",
    "Peacock\t3887.22  "
   ]
  },
  {
   "cell_type": "markdown",
   "metadata": {},
   "source": [
    "**Challenge 8: What employees have BS degrees? (Hint: Look at the LIKE operator.)**\n",
    "\n",
    "**Query**  \n",
    "SELECT * FROM Employees WHERE Notes LIKE '%BS%';  \n",
    "\n",
    "**Result**  \n",
    "Number of Records: 2 (I've left off the 'Notes' section here)  \n",
    "EmployeeID\tLastName\tFirstName\tBirthDate\tPhoto  \n",
    "3\tLeverling\tJanet\t1963-08-30\tEmpID3.pic\t  \n",
    "5\tBuchanan\tSteven\t1955-03-04\tEmpID5.pic  "
   ]
  },
  {
   "cell_type": "markdown",
   "metadata": {},
   "source": [
    "**Challenge 9: What supplier of three or more products has the highest average product price? (Hint: Look at the HAVING operator.)**\n",
    "\n",
    "**Query**  \n",
    "SELECT SupplierName, avg(Products.Price)  \n",
    "FROM Suppliers, Products  \n",
    "WHERE Products.SupplierID = Suppliers.SupplierID  \n",
    "GROUP BY Suppliers.SupplierID  \n",
    "HAVING count(DISTINCT Products.ProductID) >= 3  \n",
    "ORDER BY avg(Products.Price) DESC;  \n",
    "\n",
    "**Result**  \n",
    "SupplierName\tavg(Products.Price)  \n",
    "Tokyo Traders\t46  "
   ]
  }
 ],
 "metadata": {
  "anaconda-cloud": {},
  "kernelspec": {
   "display_name": "Python [Root]",
   "language": "python",
   "name": "Python [Root]"
  },
  "language_info": {
   "codemirror_mode": {
    "name": "ipython",
    "version": 2
   },
   "file_extension": ".py",
   "mimetype": "text/x-python",
   "name": "python",
   "nbconvert_exporter": "python",
   "pygments_lexer": "ipython2",
   "version": "2.7.12"
  }
 },
 "nbformat": 4,
 "nbformat_minor": 0
}
