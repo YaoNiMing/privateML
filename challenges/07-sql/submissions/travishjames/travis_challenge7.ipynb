{
 "cells": [
  {
   "cell_type": "markdown",
   "metadata": {},
   "source": [
    "# Challenge 7\n",
    "\n",
    "Topic: SQL<br>\n",
    "Date: 10/31/2016 <br>\n",
    "Name: Travis James <br>"
   ]
  },
  {
   "cell_type": "markdown",
   "metadata": {},
   "source": [
    "**Challenge 7.1**\n",
    "\n",
    "What customers are from the UK?\n",
    "\n",
    "```sql\n",
    "SELECT * FROM Customers WHERE Country = 'UK';\n",
    "```\n",
    "\n",
    ">4\tAround the Horn\tThomas Hardy\t120 Hanover Sq.\tLondon\tWA1 1DP\tUK<br/>\n",
    "11\tB's Beverages\tVictoria Ashworth\tFauntleroy Circus\tLondon\tEC2 5NT\tUK<br/>\n",
    "16\tConsolidated Holdings\tElizabeth Brown\tBerkeley Gardens 12 Brewery\tLondon\tWX1 6LT\tUK<br/>\n",
    "19\tEastern Connection\tAnn Devon\t35 King George\tLondon\tWX3 6FW\tUK<br/>\n",
    "38\tIsland Trading\tHelen Bennett\tGarden House Crowther Way\tCowes\tPO31 7PJ\tUK<br/>\n",
    "53\tNorth/South\tSimon Crowther\tSouth House 300 Queensbridge\tLondon\tSW7 1RZ\tUK<br/>\n",
    "72\tSeven Seas Imports\tHari Kumar\t90 Wadhurst Rd.\tLondon\tOX15 4NB\tUK<br/>\n"
   ]
  },
  {
   "cell_type": "markdown",
   "metadata": {},
   "source": [
    "**Challenge 7.2**\n",
    "\n",
    "What is the name of the customer who has the most orders?\n",
    "\n",
    "```sql\n",
    "SELECT Quantity, CustomerName\n",
    "FROM OrderDetails\n",
    "JOIN Orders\n",
    "ON OrderDetails.OrderID = Orders.OrderID\n",
    "JOIN Customers\n",
    "ON Orders.CustomerID = Customers.CustomerID\n",
    "GROUP BY CustomerName\n",
    "ORDER BY Quantity DESC\n",
    "```\n",
    "\n",
    ">Quantity\tContactName <br/>\n",
    "90\tJose Pavarotti"
   ]
  },
  {
   "cell_type": "markdown",
   "metadata": {},
   "source": [
    "**Challenge 7.3**\n",
    "\n",
    "What supplier has the highest average product price?\n",
    "\n",
    "```sql\n",
    "SELECT SupplierName, AVG(Price)\n",
    "FROM Suppliers\n",
    "JOIN Products\n",
    "ON Suppliers.SupplierID = Products.SupplierID\n",
    "GROUP BY SupplierName\n",
    "ORDER BY AVG(Price) DESC\n",
    "```\n",
    ">SupplierName\tAVG(Price) <br/>\n",
    "Aux joyeux ecclésiastiques\t140.75"
   ]
  },
  {
   "cell_type": "markdown",
   "metadata": {},
   "source": [
    "**Challenge 7.4**\n",
    "\n",
    "How many different countries are their customers from? \n",
    "\n",
    "```sql\n",
    "SELECT COUNT(DISTINCT Country)\n",
    "FROM Customers\n",
    "```\n",
    "\n",
    ">COUNT(DISTINCT Country)<br/>\n",
    "21"
   ]
  },
  {
   "cell_type": "markdown",
   "metadata": {},
   "source": [
    "**Challenge 7.5**\n",
    "\n",
    "What category appears in the most orders?\n",
    "\n",
    "```sql\n",
    "SELECT CategoryName, SUM(Quantity) AS 'Total Orders'\n",
    "FROM OrderDetails\n",
    "JOIN Products\n",
    "ON OrderDetails.ProductID = Products.ProductID\n",
    "JOIN Categories\n",
    "ON Products.CategoryID = Categories.CategoryID\n",
    "```\n",
    "\n",
    ">CategoryName\tTotal Orders<br/>\n",
    "Dairy Products\t2601<br/>\n",
    "Beverages\t2289<br/>\n",
    "Confections\t2110<br/>\n",
    "Seafood\t1445<br/>\n",
    "Condiments\t1383<br/>\n",
    "Meat/Poultry\t1288<br/>\n",
    "Grains/Cereals\t912<br/>\n",
    "Produce\t715<br/>"
   ]
  },
  {
   "cell_type": "markdown",
   "metadata": {},
   "source": [
    "**Challenge 7.6**\n",
    "\n",
    "What was the total cost for each order?\n",
    "\n",
    "```sql\n",
    "SELECT OrderID, Quantity*Price AS 'Total Cost'\n",
    "FROM OrderDetails\n",
    "JOIN Products\n",
    "ON OrderDetails.ProductID = Products.ProductID\n",
    "GROUP BY OrderID\n",
    "ORDER BY Quantity*Price DESC\n",
    "```\n",
    "\n",
    ">OrderID\tTotal Cost<br/>\n",
    "10353\t13175<br/>\n",
    "10430\t3850<br/>\n",
    "10324\t3512<br/>\n",
    "10316\t3451<br/>\n",
    "10398\t2880<br/>\n",
    "10402\t2853.5<br/>\n",
    "etc..."
   ]
  },
  {
   "cell_type": "markdown",
   "metadata": {},
   "source": [
    "**Challenge 7.7**\n",
    "\n",
    "What employee made the most sales (by total cost)?\n",
    "\n",
    "```sql\n",
    "SELECT FirstName, LastName, Quantity*Price AS 'Total Sales'\n",
    "FROM OrderDetails\n",
    "JOIN Products\n",
    "ON OrderDetails.ProductID = Products.ProductID\n",
    "JOIN ORDERS\n",
    "ON Orders.OrderID = OrderDetails.OrderID\n",
    "JOIN Employees\n",
    "ON Orders.EmployeeID = Employees.EmployeeID\n",
    "GROUP BY FirstName, LastName\n",
    "```\n",
    "\n",
    ">FirstName\tLastName\tTotal Sales<br/>\n",
    "Margaret\tPeacock\t2565<br/>\n",
    "Janet\tLeverling\t1020<br/>\n",
    "Steven\tBuchanan\t954<br/>\n",
    "Laura\tCallahan\t547.2<br/>\n",
    "Nancy\tDavolio\t500<br/>\n",
    "Anne\tDodsworth\t495<br/>\n",
    "Michael\tSuyama\t300<br/>\n",
    "Robert\tKing\t240<br/>\n",
    "Andrew\tFuller\t62.46<br/>"
   ]
  },
  {
   "cell_type": "markdown",
   "metadata": {},
   "source": [
    "**Challenge 7.8**\n",
    "\n",
    "What employees have BS degrees?\n",
    "\n",
    "```sql\n",
    "SELECT FirstName, LastName\n",
    "FROM Employees\n",
    "WHERE Notes LIKE '%BS%'\n",
    "```\n",
    "\n",
    ">FirstName\tLastName<br/>\n",
    "Janet\tLeverling<br/>\n",
    "Steven\tBuchanan<br/>"
   ]
  },
  {
   "cell_type": "markdown",
   "metadata": {},
   "source": [
    "**Challenge 7.9**\n",
    "\n",
    "What supplier of three or more products has the highest average product price?\n",
    "\n",
    "```sql\n",
    "SELECT SupplierName, AVG(Price) AS 'Average Product Price'\n",
    "FROM Products\n",
    "JOIN Suppliers\n",
    "ON Products.SupplierID = Suppliers.SupplierID\n",
    "GROUP BY SupplierName\n",
    "HAVING COUNT(ProductID) >= 3\n",
    "ORDER BY AVG(Price) DESC\n",
    "```\n",
    "\n",
    ">SupplierName\tAverage Product Price<br/>\n",
    "Tokyo Traders\t46"
   ]
  },
  {
   "cell_type": "code",
   "execution_count": null,
   "metadata": {
    "collapsed": true
   },
   "outputs": [],
   "source": []
  }
 ],
 "metadata": {
  "anaconda-cloud": {},
  "kernelspec": {
   "display_name": "Python [default]",
   "language": "python",
   "name": "python3"
  },
  "language_info": {
   "codemirror_mode": {
    "name": "ipython",
    "version": 3
   },
   "file_extension": ".py",
   "mimetype": "text/x-python",
   "name": "python",
   "nbconvert_exporter": "python",
   "pygments_lexer": "ipython3",
   "version": "3.5.2"
  }
 },
 "nbformat": 4,
 "nbformat_minor": 1
}
