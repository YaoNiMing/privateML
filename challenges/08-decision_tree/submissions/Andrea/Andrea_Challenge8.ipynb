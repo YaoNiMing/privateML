{
 "cells": [
  {
   "cell_type": "markdown",
   "metadata": {
    "run_control": {
     "frozen": false,
     "read_only": false
    }
   },
   "source": [
    "**Challenge 1**\n",
    "\n",
    "Use Congressional Records Voting Dataset. For the house representatives data set, fit and plot a decision tree classifier to decide whether each member of the 1984 US Congressional assembly is (was?) a Democrat or a Republican. Examine the rules your tree uses."
   ]
  },
  {
   "cell_type": "code",
   "execution_count": 13,
   "metadata": {
    "collapsed": false
   },
   "outputs": [],
   "source": [
    "import pandas as pd\n",
    "import pickle\n",
    "from sklearn.tree import DecisionTreeClassifier, export_graphviz\n",
    "from sklearn.model_selection import train_test_split\n",
    "import pydotplus"
   ]
  },
  {
   "cell_type": "code",
   "execution_count": 2,
   "metadata": {
    "collapsed": true
   },
   "outputs": [],
   "source": [
    "#Import the data from the pickle file I saved during Challenge 5\n",
    "with open('vote_df.pkl', 'rb') as picklefile:\n",
    "   congress = pickle.load(picklefile)"
   ]
  },
  {
   "cell_type": "code",
   "execution_count": 3,
   "metadata": {
    "collapsed": false
   },
   "outputs": [
    {
     "name": "stdout",
     "output_type": "stream",
     "text": [
      "<class 'pandas.core.frame.DataFrame'>\n",
      "RangeIndex: 435 entries, 0 to 434\n",
      "Data columns (total 17 columns):\n",
      "party                                     435 non-null object\n",
      "handicapped-infants                       435 non-null float64\n",
      "water-project-cost-sharing                435 non-null float64\n",
      "adoption-of-the-budget-resolution         435 non-null float64\n",
      "physician-fee-freeze                      435 non-null float64\n",
      "el-salvador-aid                           435 non-null float64\n",
      "religious-groups-in-schools               435 non-null float64\n",
      "anti-satellite-test-ban                   435 non-null float64\n",
      "aid-to-nicaraguan-contras                 435 non-null float64\n",
      "mx-missile                                435 non-null float64\n",
      "immigration                               435 non-null float64\n",
      "synfuels-corporation-cutback              435 non-null float64\n",
      "education-spending                        435 non-null float64\n",
      "superfund-right-to-sue                    435 non-null float64\n",
      "crime                                     435 non-null float64\n",
      "duty-free-exports                         435 non-null float64\n",
      "export-administration-act-south-africa    435 non-null float64\n",
      "dtypes: float64(16), object(1)\n",
      "memory usage: 57.8+ KB\n"
     ]
    }
   ],
   "source": [
    "congress.info()"
   ]
  },
  {
   "cell_type": "code",
   "execution_count": 4,
   "metadata": {
    "collapsed": true
   },
   "outputs": [],
   "source": [
    "y = congress.iloc[:, 0]\n",
    "y = y.replace(to_replace='republican', value=1)\n",
    "y = y.replace(to_replace='democrat', value=0)\n",
    "X = congress.iloc[:, 1:]"
   ]
  },
  {
   "cell_type": "code",
   "execution_count": 7,
   "metadata": {
    "collapsed": false
   },
   "outputs": [],
   "source": [
    "X_train, X_test, y_train, y_test = train_test_split(X, y, test_size=0.3, random_state=4444)"
   ]
  },
  {
   "cell_type": "code",
   "execution_count": 8,
   "metadata": {
    "collapsed": false
   },
   "outputs": [
    {
     "name": "stdout",
     "output_type": "stream",
     "text": [
      "<class 'pandas.core.frame.DataFrame'>\n",
      "Int64Index: 304 entries, 243 to 41\n",
      "Data columns (total 16 columns):\n",
      "handicapped-infants                       304 non-null float64\n",
      "water-project-cost-sharing                304 non-null float64\n",
      "adoption-of-the-budget-resolution         304 non-null float64\n",
      "physician-fee-freeze                      304 non-null float64\n",
      "el-salvador-aid                           304 non-null float64\n",
      "religious-groups-in-schools               304 non-null float64\n",
      "anti-satellite-test-ban                   304 non-null float64\n",
      "aid-to-nicaraguan-contras                 304 non-null float64\n",
      "mx-missile                                304 non-null float64\n",
      "immigration                               304 non-null float64\n",
      "synfuels-corporation-cutback              304 non-null float64\n",
      "education-spending                        304 non-null float64\n",
      "superfund-right-to-sue                    304 non-null float64\n",
      "crime                                     304 non-null float64\n",
      "duty-free-exports                         304 non-null float64\n",
      "export-administration-act-south-africa    304 non-null float64\n",
      "dtypes: float64(16)\n",
      "memory usage: 40.4 KB\n"
     ]
    }
   ],
   "source": [
    "X_train.info()"
   ]
  },
  {
   "cell_type": "code",
   "execution_count": 14,
   "metadata": {
    "collapsed": false
   },
   "outputs": [],
   "source": [
    "#Decision Tree\n",
    "\n",
    "dt = DecisionTreeClassifier()\n",
    "dtfit = dt.fit(X_train, y_train)"
   ]
  },
  {
   "cell_type": "code",
   "execution_count": 15,
   "metadata": {
    "collapsed": false
   },
   "outputs": [
    {
     "data": {
      "text/plain": [
       "True"
      ]
     },
     "execution_count": 15,
     "metadata": {},
     "output_type": "execute_result"
    }
   ],
   "source": [
    "# Plot the tree\n",
    "\n",
    "dot_data = export_graphviz(dt, out_file=None) \n",
    "graph = pydotplus.graph_from_dot_data(dot_data) \n",
    "graph.write_pdf(\"party.pdf\") "
   ]
  },
  {
   "cell_type": "code",
   "execution_count": null,
   "metadata": {
    "collapsed": true
   },
   "outputs": [],
   "source": []
  },
  {
   "cell_type": "markdown",
   "metadata": {},
   "source": [
    "**Challenge 2 (Optional but recommended)**\n",
    "\n",
    "Tackle the Titanic Survivors kaggle competition with decision trees. Look at your splits; how does your tree decide?"
   ]
  },
  {
   "cell_type": "code",
   "execution_count": 19,
   "metadata": {
    "collapsed": false
   },
   "outputs": [],
   "source": [
    "titanic = pd.read_csv(\"../../kaggle-titanic/data/train.csv\")\n",
    "\n",
    "#Get rid of stuff that appears irrelevant to the prediction\n",
    "titanic = titanic.drop(['Cabin','Ticket','Name','Embarked','PassengerId'], axis=1)\n",
    "titanic = titanic.dropna(how='any')"
   ]
  },
  {
   "cell_type": "code",
   "execution_count": 20,
   "metadata": {
    "collapsed": true
   },
   "outputs": [],
   "source": [
    "titanic = titanic.replace('male', 1)\n",
    "titanic = titanic.replace('female', 0)"
   ]
  },
  {
   "cell_type": "code",
   "execution_count": 21,
   "metadata": {
    "collapsed": false
   },
   "outputs": [
    {
     "name": "stdout",
     "output_type": "stream",
     "text": [
      "<class 'pandas.core.frame.DataFrame'>\n",
      "Int64Index: 714 entries, 0 to 890\n",
      "Data columns (total 7 columns):\n",
      "Survived    714 non-null int64\n",
      "Pclass      714 non-null int64\n",
      "Sex         714 non-null int64\n",
      "Age         714 non-null float64\n",
      "SibSp       714 non-null int64\n",
      "Parch       714 non-null int64\n",
      "Fare        714 non-null float64\n",
      "dtypes: float64(2), int64(5)\n",
      "memory usage: 44.6 KB\n"
     ]
    }
   ],
   "source": [
    "titanic.info()"
   ]
  },
  {
   "cell_type": "code",
   "execution_count": 22,
   "metadata": {
    "collapsed": true
   },
   "outputs": [],
   "source": [
    "y = titanic.iloc[:, 0]\n",
    "X = titanic.iloc[:, 1:]"
   ]
  },
  {
   "cell_type": "code",
   "execution_count": 24,
   "metadata": {
    "collapsed": false
   },
   "outputs": [],
   "source": [
    "dt2 = DecisionTreeClassifier()\n",
    "dt2fit = dt2.fit(X,y)"
   ]
  },
  {
   "cell_type": "code",
   "execution_count": 25,
   "metadata": {
    "collapsed": false
   },
   "outputs": [
    {
     "data": {
      "text/plain": [
       "True"
      ]
     },
     "execution_count": 25,
     "metadata": {},
     "output_type": "execute_result"
    }
   ],
   "source": [
    "dot_data2 = export_graphviz(dt2, out_file=None) \n",
    "graph = pydotplus.graph_from_dot_data(dot_data2) \n",
    "graph.write_pdf(\"titanic.pdf\") "
   ]
  },
  {
   "cell_type": "code",
   "execution_count": null,
   "metadata": {
    "collapsed": true
   },
   "outputs": [],
   "source": []
  }
 ],
 "metadata": {
  "anaconda-cloud": {},
  "kernelspec": {
   "display_name": "Python [default]",
   "language": "python",
   "name": "python2"
  },
  "language_info": {
   "codemirror_mode": {
    "name": "ipython",
    "version": 2
   },
   "file_extension": ".py",
   "mimetype": "text/x-python",
   "name": "python",
   "nbconvert_exporter": "python",
   "pygments_lexer": "ipython2",
   "version": "2.7.12"
  },
  "toc": {
   "nav_menu": {
    "height": "12px",
    "width": "252px"
   },
   "navigate_menu": true,
   "number_sections": true,
   "sideBar": true,
   "threshold": 4,
   "toc_cell": false,
   "toc_section_display": "block",
   "toc_window_display": false
  }
 },
 "nbformat": 4,
 "nbformat_minor": 1
}
