{
 "cells": [
  {
   "cell_type": "code",
   "execution_count": 1,
   "metadata": {
    "collapsed": false
   },
   "outputs": [
    {
     "ename": "NameError",
     "evalue": "name 'pd' is not defined",
     "output_type": "error",
     "traceback": [
      "\u001b[0;31m---------------------------------------------------------------------------\u001b[0m",
      "\u001b[0;31mNameError\u001b[0m                                 Traceback (most recent call last)",
      "\u001b[0;32m<ipython-input-1-f634eb6a4e03>\u001b[0m in \u001b[0;36m<module>\u001b[0;34m()\u001b[0m\n\u001b[1;32m      1\u001b[0m \u001b[0;34m\u001b[0m\u001b[0m\n\u001b[0;32m----> 2\u001b[0;31m \u001b[0mnf\u001b[0m \u001b[0;34m=\u001b[0m \u001b[0mpd\u001b[0m\u001b[0;34m.\u001b[0m\u001b[0mread_csv\u001b[0m\u001b[0;34m(\u001b[0m\u001b[0;34m'2013_movies.csv'\u001b[0m\u001b[0;34m)\u001b[0m\u001b[0;34m\u001b[0m\u001b[0m\n\u001b[0m\u001b[1;32m      3\u001b[0m \u001b[0;34m\u001b[0m\u001b[0m\n\u001b[1;32m      4\u001b[0m \u001b[0;32mimport\u001b[0m \u001b[0mpandas\u001b[0m \u001b[0;32mas\u001b[0m \u001b[0mpd\u001b[0m\u001b[0;34m\u001b[0m\u001b[0m\n\u001b[1;32m      5\u001b[0m \u001b[0;32mimport\u001b[0m \u001b[0mnumpy\u001b[0m \u001b[0;32mas\u001b[0m \u001b[0mnp\u001b[0m\u001b[0;34m\u001b[0m\u001b[0m\n",
      "\u001b[0;31mNameError\u001b[0m: name 'pd' is not defined"
     ]
    }
   ],
   "source": [
    "\n",
    "nf = pd.read_csv('2013_movies.csv')\n",
    "\n",
    "import pandas as pd\n",
    "import numpy as np\n",
    "import matplotlib.pyplot as plt\n",
    "import seaborn as sns\n",
    "nf.head()\n",
    "nf['Date'] = pd.to_datetime(nf[\"ReleaseDate\"])\n",
    "nf['DomesticTotalGross'] = nf['DomesticTotalGross'].astype(float)\n",
    "nf['Runtime'] = nf['Runtime'].astype(float)\n",
    "\n"
   ]
  },
  {
   "cell_type": "code",
   "execution_count": null,
   "metadata": {
    "collapsed": true
   },
   "outputs": [],
   "source": [
    "nf = nf.sort_values('Date')\n",
    "plt.plot_date(x=nf[\"Date\"], y=nf[\"DomesticTotalGross\"],fmt=\"r-\") \n",
    "plt.title(\"Timeseries\")\n",
    "plt.ylabel(\"Total\")\n",
    "plt.grid(True)\n",
    "plt.show()\n",
    "\n",
    "\n",
    "nf = nf.sort_values('Runtime')\n",
    "plt.plot(nf[\"Runtime\"],nf[\"DomesticTotalGross\"])\n",
    "plt.title(\"Runtime vs Gross\")\n",
    "plt.ylabel(\"Total\")\n",
    "plt.xlabel(\"Runtime\")\n",
    "plt.grid(True)\n",
    "plt.show()\n",
    "\n",
    "##Group your data by Rating and find the average runtime \n",
    "#and domestic total gross at each level of Rating.\n",
    "\n",
    "\n",
    "nf.groupby([\"Rating\"])[\"Runtime\", \"DomesticTotalGross\"].mean(). plot(subplots=True)\n",
    "\n",
    "\"\"\"     \n",
    "          Runtime  DomesticTotalGross\n",
    "Rating                                \n",
    "G       107.000000        2.684928e+08\n",
    "PG       99.933333        1.311357e+08\n",
    "PG-13   117.510638        1.114498e+08\n",
    "R       110.729730        6.989243e+07\n",
    "\n",
    "\"\"\"\n",
    "\n",
    "#Make one figure with (N=the number of MPAA ratings there are) \n",
    "#subplots, and in each plot the release date vs the domestic total gross.\n",
    "\n",
    "\n",
    "\n"
   ]
  },
  {
   "cell_type": "code",
   "execution_count": null,
   "metadata": {
    "collapsed": true
   },
   "outputs": [],
   "source": [
    "pd.pivot_table(nf.reset_index(),\n",
    "               index='Date', columns='Rating', values='DomesticTotalGross'\n",
    "              ).plot(subplots=True, linestyle = '', marker = 'o')\n",
    "\n",
    "\n",
    "\n",
    "nf.groupby([\"Director\"])[\"DomesticTotalGross\"].mean().sort_values()\n",
    "#Francis Lawrence\n",
    "\n",
    "#Bin your dataset into months and make a bar graph of the mean domestic \n",
    "#total gross by month.  Error bars will represent the standard error of the mean.\n",
    "\n",
    "#Title of graph should include:  Mean Domestic Total Gross by Month in 2013\n",
    "\n",
    "#Topic for consideration:  what is the correct \n",
    "#formula for the standard error of the mean?  \n",
    "#Examine the error bars and see if they are \"reasonable.\"\n",
    "\n",
    "\n",
    "n = nf.groupby(pd.Grouper(key='Date', freq='M'))[\"DomesticTotalGross\"].mean()\n",
    "m = nf.groupby(pd.Grouper(key='Date', freq='M'))[\"DomesticTotalGross\"].std()\n",
    "m\n",
    "\n",
    "no = pd.DataFrame({'D':n.index, 'gross':n.values})\n",
    "mo = pd.DataFrame({'D':m.index, 'err':m.values})\n",
    "\n",
    "no.head()\n",
    "l1  = [1,2,3,4,5,6,7,8,9,10,11,12]\n",
    "no[\"month\"] = l1\n",
    "\n",
    "#######\n",
    "fig, ax = plt.subplots(1,1, figsize=(5,10))\n",
    "ax.set_title('Mean Domestic Total Gross by Month in 2013')\n",
    "sns.barplot(x=no['month'].sort_values(), y=no['gross'], errwidth = 20, errcolor = \"r\")\n",
    "plt.errorbar(no.month, no.gross, mo.err, linestyle='None', marker='^')\n",
    "ax.set_xlabel('Month')\n",
    "ax.set_ylabel('Total')"
   ]
  },
  {
   "cell_type": "code",
   "execution_count": null,
   "metadata": {
    "collapsed": true
   },
   "outputs": [],
   "source": []
  }
 ],
 "metadata": {
  "kernelspec": {
   "display_name": "Python [Root]",
   "language": "python",
   "name": "Python [Root]"
  },
  "language_info": {
   "codemirror_mode": {
    "name": "ipython",
    "version": 2
   },
   "file_extension": ".py",
   "mimetype": "text/x-python",
   "name": "python",
   "nbconvert_exporter": "python",
   "pygments_lexer": "ipython2",
   "version": "2.7.12"
  }
 },
 "nbformat": 4,
 "nbformat_minor": 0
}
