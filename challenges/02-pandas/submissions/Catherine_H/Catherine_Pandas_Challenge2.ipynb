{
 "cells": [
  {
   "cell_type": "code",
   "execution_count": null,
   "metadata": {
    "collapsed": true
   },
   "outputs": [],
   "source": [
    "import pandas as pd\n",
    "import numpy as np\n",
    "import matplotlib as plt\n",
    "import seaborn as sns\n",
    "import plotly\n",
    "import cufflinks as cf\n",
    "from scipy import stats\n",
    "plotly.offline.init_notebook_mode()\n",
    "%matplotlib inline"
   ]
  },
  {
   "cell_type": "code",
   "execution_count": null,
   "metadata": {
    "collapsed": true
   },
   "outputs": [],
   "source": [
    "data = pd.read_csv('2013_movies.csv')\n",
    "data.info()\n",
    "data['ReleaseDate'] = pd.to_datetime(data['ReleaseDate'], infer_datetime_format=True)"
   ]
  },
  {
   "cell_type": "code",
   "execution_count": null,
   "metadata": {
    "collapsed": true
   },
   "outputs": [],
   "source": [
    "#release date vs domestic total gross\n",
    "x = np.array(data['ReleaseDate'])\n",
    "y = np.array(data['DomesticTotalGross'])\n",
    "plt.pyplot.figure(figsize=(12,6))\n",
    "plt.pyplot.scatter(x,y,alpha=0.8,marker='o')\n"
   ]
  },
  {
   "cell_type": "code",
   "execution_count": null,
   "metadata": {
    "collapsed": true
   },
   "outputs": [],
   "source": [
    "# runtime vs domestic total gross\n",
    "x = np.array(data['Runtime'])\n",
    "y = np.array(data['DomesticTotalGross'])\n",
    "plt.pyplot.figure(figsize=(12,6))\n",
    "plt.pyplot.scatter(x,y,alpha=0.8,marker='o')"
   ]
  },
  {
   "cell_type": "code",
   "execution_count": null,
   "metadata": {
    "collapsed": true
   },
   "outputs": [],
   "source": [
    "by_rating_df = data.groupby(['Rating'])['Runtime','DomesticTotalGross'].mean()\n",
    "print by_rating_df"
   ]
  },
  {
   "cell_type": "code",
   "execution_count": null,
   "metadata": {
    "collapsed": true
   },
   "outputs": [],
   "source": [
    "rating_sort = data.groupby(['Rating','ReleaseDate'])['DomesticTotalGross'].mean().reset_index()\n",
    "rating_sort.set_index('ReleaseDate')\n",
    "\n",
    "rating_sort = rating_sort.pivot(index='ReleaseDate', columns='Rating', values='DomesticTotalGross')\n",
    "\n",
    "rating_sort.iplot( subplots=True, online=False, subplot_titles = True, kind='scatter',mode='markers', size='6',\n",
    "                   title='Release Date and Domestic Total Gross', xTitle='Date', yTitle='Domestic Gross')"
   ]
  },
  {
   "cell_type": "code",
   "execution_count": null,
   "metadata": {
    "collapsed": true
   },
   "outputs": [],
   "source": [
    "director_df = data.groupby(['Director'])['DomesticTotalGross'].agg([np.mean,len]).reset_index()\n",
    "\n",
    "print director_df.head(5).sort_values('mean', ascending = False)\n"
   ]
  },
  {
   "cell_type": "code",
   "execution_count": null,
   "metadata": {
    "collapsed": true
   },
   "outputs": [],
   "source": [
    "data['month'] = pd.DatetimeIndex(data['ReleaseDate']).month\n",
    "month_df = data.groupby(['month'])['DomesticTotalGross'].agg([np.mean,np.std,len, stats.sem])\n",
    "month_df.info()"
   ]
  },
  {
   "cell_type": "code",
   "execution_count": null,
   "metadata": {
    "collapsed": true
   },
   "outputs": [],
   "source": [
    "import plotly.plotly as py\n",
    "import plotly.graph_objs as go\n",
    "\n",
    "x = ['Jan','Feb','Mar','Apr','May','Jun','Jul','Aug','Sept','Oct','Nov','Dec']\n",
    "\n",
    "# x = by_month_df.index\n",
    "y = by_month_df['mean']\n",
    "y1 = by_month_df['len']\n",
    "e = by_month_df['sem']\n",
    "\n",
    "\n",
    "trace1 = go.Bar(\n",
    "    x = x,\n",
    "    y = y,\n",
    "    error_y=dict(type='data',array=e),\n",
    "    name='Mean GTD (m)',marker=dict(color='rgba(50, 171, 96, 0.6)',line=dict(color='rgba(50, 171, 96, 1.0)',\n",
    "    width=2)\n",
    "    )\n",
    ")\n",
    "\n",
    "trace2 = go.Scatter(\n",
    "    x=x,\n",
    "    y=y1,\n",
    "    name='Monthly Count',\n",
    "    marker=dict(color = 'rgb(148, 103, 189)'),\n",
    "    yaxis='y2'\n",
    ")\n",
    "\n",
    "data = [trace1,trace2]\n",
    "layout = go.Layout(\n",
    "    title='Mean Domestic Total Gross by Month in 2013',\n",
    "    xaxis=dict(\n",
    "        tickfont=dict(\n",
    "            size=14,\n",
    "            color='rgb(107, 107, 107)'\n",
    "        )\n",
    "    ),\n",
    "    yaxis=dict(\n",
    "        title='Gross Domestic Profit (millions)',\n",
    "        titlefont=dict(\n",
    "            size=12,\n",
    "            color='rgb(107, 107, 107)'\n",
    "        ),\n",
    "        tickfont=dict(\n",
    "            size=12,\n",
    "            color='rgb(107, 107, 107)'\n",
    "        )\n",
    "    ),\n",
    "        yaxis2=dict(\n",
    "        title='Monthly Count',\n",
    "        titlefont=dict(\n",
    "            color='rgb(148, 103, 189)'\n",
    "        ),\n",
    "        tickfont=dict(\n",
    "            color='rgb(148, 103, 189)'\n",
    "        ),\n",
    "        overlaying='y',\n",
    "        side='right'\n",
    "    )\n",
    "   ) \n",
    "fig = go.Figure(data=data, layout=layout)\n",
    "plotly.offline.iplot(fig)"
   ]
  }
 ],
 "metadata": {
  "kernelspec": {
   "display_name": "Python 2",
   "language": "python",
   "name": "python2"
  },
  "language_info": {
   "codemirror_mode": {
    "name": "ipython",
    "version": 2
   },
   "file_extension": ".py",
   "mimetype": "text/x-python",
   "name": "python",
   "nbconvert_exporter": "python",
   "pygments_lexer": "ipython2",
   "version": "2.7.11"
  }
 },
 "nbformat": 4,
 "nbformat_minor": 0
}
