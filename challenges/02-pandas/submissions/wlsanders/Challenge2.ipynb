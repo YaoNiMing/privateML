{
 "cells": [
  {
   "cell_type": "code",
   "execution_count": 2,
   "metadata": {
    "collapsed": false
   },
   "outputs": [
    {
     "name": "stdout",
     "output_type": "stream",
     "text": [
      "Populating the interactive namespace from numpy and matplotlib\n"
     ]
    }
   ],
   "source": [
    "import pandas as pd\n",
    "import numpy as np\n",
    "import matplotlib.pyplot as plt\n",
    "import seaborn as sns\n",
    "%pylab inline"
   ]
  },
  {
   "cell_type": "code",
   "execution_count": 3,
   "metadata": {
    "collapsed": false
   },
   "outputs": [],
   "source": [
    "# !open 2013_movies.csv"
   ]
  },
  {
   "cell_type": "code",
   "execution_count": 4,
   "metadata": {
    "collapsed": false
   },
   "outputs": [],
   "source": [
    "dataset = '2013_movies.csv'\n",
    "datasetscrape = \"scrapeddata2005.csv\"\n",
    "scraped_data = pd.read_csv(datasetscrape)\n",
    "movie_data = pd.read_csv(dataset)"
   ]
  },
  {
   "cell_type": "markdown",
   "metadata": {},
   "source": [
    "## Exercise 2.1\n",
    "\n",
    "Plot domestic total gross over time."
   ]
  },
  {
   "cell_type": "code",
   "execution_count": 35,
   "metadata": {
    "collapsed": false
   },
   "outputs": [],
   "source": [
    "movie_data = movie_data.dropna()"
   ]
  },
  {
   "cell_type": "code",
   "execution_count": 36,
   "metadata": {
    "collapsed": false
   },
   "outputs": [
    {
     "data": {
      "text/html": [
       "<div>\n",
       "<table border=\"1\" class=\"dataframe\">\n",
       "  <thead>\n",
       "    <tr style=\"text-align: right;\">\n",
       "      <th></th>\n",
       "      <th>Title</th>\n",
       "      <th>Budget</th>\n",
       "      <th>DomesticTotalGross</th>\n",
       "      <th>Director</th>\n",
       "      <th>Rating</th>\n",
       "      <th>Runtime</th>\n",
       "      <th>ReleaseDate</th>\n",
       "      <th>Date</th>\n",
       "    </tr>\n",
       "  </thead>\n",
       "  <tbody>\n",
       "    <tr>\n",
       "      <th>0</th>\n",
       "      <td>The Hunger Games: Catching Fire</td>\n",
       "      <td>130000000.0</td>\n",
       "      <td>424668047</td>\n",
       "      <td>Francis Lawrence</td>\n",
       "      <td>PG-13</td>\n",
       "      <td>146</td>\n",
       "      <td>11/22/13 0:00</td>\n",
       "      <td>2013-11-22</td>\n",
       "    </tr>\n",
       "    <tr>\n",
       "      <th>1</th>\n",
       "      <td>Iron Man 3</td>\n",
       "      <td>200000000.0</td>\n",
       "      <td>409013994</td>\n",
       "      <td>Shane Black</td>\n",
       "      <td>PG-13</td>\n",
       "      <td>129</td>\n",
       "      <td>5/3/13 0:00</td>\n",
       "      <td>2013-05-03</td>\n",
       "    </tr>\n",
       "    <tr>\n",
       "      <th>2</th>\n",
       "      <td>Frozen</td>\n",
       "      <td>150000000.0</td>\n",
       "      <td>400738009</td>\n",
       "      <td>Chris BuckJennifer Lee</td>\n",
       "      <td>PG</td>\n",
       "      <td>108</td>\n",
       "      <td>11/22/13 0:00</td>\n",
       "      <td>2013-11-22</td>\n",
       "    </tr>\n",
       "    <tr>\n",
       "      <th>3</th>\n",
       "      <td>Despicable Me 2</td>\n",
       "      <td>76000000.0</td>\n",
       "      <td>368061265</td>\n",
       "      <td>Pierre CoffinChris Renaud</td>\n",
       "      <td>PG</td>\n",
       "      <td>98</td>\n",
       "      <td>7/3/13 0:00</td>\n",
       "      <td>2013-07-03</td>\n",
       "    </tr>\n",
       "    <tr>\n",
       "      <th>4</th>\n",
       "      <td>Man of Steel</td>\n",
       "      <td>225000000.0</td>\n",
       "      <td>291045518</td>\n",
       "      <td>Zack Snyder</td>\n",
       "      <td>PG-13</td>\n",
       "      <td>143</td>\n",
       "      <td>6/14/13 0:00</td>\n",
       "      <td>2013-06-14</td>\n",
       "    </tr>\n",
       "  </tbody>\n",
       "</table>\n",
       "</div>"
      ],
      "text/plain": [
       "                             Title       Budget  DomesticTotalGross  \\\n",
       "0  The Hunger Games: Catching Fire  130000000.0           424668047   \n",
       "1                       Iron Man 3  200000000.0           409013994   \n",
       "2                           Frozen  150000000.0           400738009   \n",
       "3                  Despicable Me 2   76000000.0           368061265   \n",
       "4                     Man of Steel  225000000.0           291045518   \n",
       "\n",
       "                    Director Rating  Runtime    ReleaseDate       Date  \n",
       "0           Francis Lawrence  PG-13      146  11/22/13 0:00 2013-11-22  \n",
       "1                Shane Black  PG-13      129    5/3/13 0:00 2013-05-03  \n",
       "2     Chris BuckJennifer Lee     PG      108  11/22/13 0:00 2013-11-22  \n",
       "3  Pierre CoffinChris Renaud     PG       98    7/3/13 0:00 2013-07-03  \n",
       "4                Zack Snyder  PG-13      143   6/14/13 0:00 2013-06-14  "
      ]
     },
     "execution_count": 36,
     "metadata": {},
     "output_type": "execute_result"
    }
   ],
   "source": [
    "movie_data.head()"
   ]
  },
  {
   "cell_type": "code",
   "execution_count": 37,
   "metadata": {
    "collapsed": false
   },
   "outputs": [
    {
     "name": "stderr",
     "output_type": "stream",
     "text": [
      "/Users/williamsanders/anaconda/lib/python2.7/site-packages/ipykernel/__main__.py:1: SettingWithCopyWarning: \n",
      "A value is trying to be set on a copy of a slice from a DataFrame.\n",
      "Try using .loc[row_indexer,col_indexer] = value instead\n",
      "\n",
      "See the caveats in the documentation: http://pandas.pydata.org/pandas-docs/stable/indexing.html#indexing-view-versus-copy\n",
      "  if __name__ == '__main__':\n"
     ]
    }
   ],
   "source": [
    "movie_data['Date'] = pd.to_datetime(movie_data['ReleaseDate'])"
   ]
  },
  {
   "cell_type": "markdown",
   "metadata": {},
   "source": []
  },
  {
   "cell_type": "code",
   "execution_count": 38,
   "metadata": {
    "collapsed": false
   },
   "outputs": [],
   "source": [
    "# movie_data.head()"
   ]
  },
  {
   "cell_type": "code",
   "execution_count": 39,
   "metadata": {
    "collapsed": false
   },
   "outputs": [],
   "source": [
    "# movie_data.DomesticTotalGross.values\n",
    "time = np.array(movie_data.Date)\n",
    "gross = np.array(movie_data.DomesticTotalGross)"
   ]
  },
  {
   "cell_type": "code",
   "execution_count": 40,
   "metadata": {
    "collapsed": false
   },
   "outputs": [
    {
     "data": {
      "image/png": "[encoded data removed]",
      "text/plain": [
       "<matplotlib.figure.Figure at 0x11b41a7d0>"
      ]
     },
     "metadata": {},
     "output_type": "display_data"
    }
   ],
   "source": [
    "plt.scatter(time,gross)\n",
    "plt.show()\n",
    "\n",
    "# movie_data.plot.scatter(movie_data['DomesticTotalGross'],movie_data['ReleaseDate'])"
   ]
  },
  {
   "cell_type": "markdown",
   "metadata": {},
   "source": [
    "## Exercise 2.2\n",
    "\n",
    "Plot runtime vs. domestic total gross"
   ]
  },
  {
   "cell_type": "code",
   "execution_count": 41,
   "metadata": {
    "collapsed": false
   },
   "outputs": [
    {
     "data": {
      "text/plain": [
       "Index([u'Title', u'Budget', u'DomesticTotalGross', u'Director', u'Rating',\n",
       "       u'Runtime', u'ReleaseDate', u'Date'],\n",
       "      dtype='object')"
      ]
     },
     "execution_count": 41,
     "metadata": {},
     "output_type": "execute_result"
    }
   ],
   "source": [
    "movie_data.columns"
   ]
  },
  {
   "cell_type": "code",
   "execution_count": 42,
   "metadata": {
    "collapsed": false
   },
   "outputs": [
    {
     "data": {
      "text/plain": [
       "<matplotlib.axes._subplots.AxesSubplot at 0x11b4caf50>"
      ]
     },
     "execution_count": 42,
     "metadata": {},
     "output_type": "execute_result"
    },
    {
     "data": {
      "image/png": "[encoded data removed]",
      "text/plain": [
       "<matplotlib.figure.Figure at 0x11b18bb10>"
      ]
     },
     "metadata": {},
     "output_type": "display_data"
    }
   ],
   "source": [
    "movie_data.plot.scatter(x='Runtime', y='DomesticTotalGross')"
   ]
  },
  {
   "cell_type": "markdown",
   "metadata": {},
   "source": [
    "## Exercise 2.3\n",
    "\n",
    "Group your data by Rating and find the average runtime and domestic total gross at each level of Rating."
   ]
  },
  {
   "cell_type": "code",
   "execution_count": 43,
   "metadata": {
    "collapsed": false
   },
   "outputs": [
    {
     "data": {
      "text/html": [
       "<div>\n",
       "<table border=\"1\" class=\"dataframe\">\n",
       "  <thead>\n",
       "    <tr style=\"text-align: right;\">\n",
       "      <th></th>\n",
       "      <th>Budget</th>\n",
       "      <th>DomesticTotalGross</th>\n",
       "      <th>Runtime</th>\n",
       "    </tr>\n",
       "    <tr>\n",
       "      <th>Rating</th>\n",
       "      <th></th>\n",
       "      <th></th>\n",
       "      <th></th>\n",
       "    </tr>\n",
       "  </thead>\n",
       "  <tbody>\n",
       "    <tr>\n",
       "      <th>PG</th>\n",
       "      <td>9.507143e+07</td>\n",
       "      <td>1.319459e+08</td>\n",
       "      <td>100.285714</td>\n",
       "    </tr>\n",
       "    <tr>\n",
       "      <th>PG-13</th>\n",
       "      <td>9.877500e+07</td>\n",
       "      <td>1.177266e+08</td>\n",
       "      <td>117.350000</td>\n",
       "    </tr>\n",
       "    <tr>\n",
       "      <th>R</th>\n",
       "      <td>3.886364e+07</td>\n",
       "      <td>7.422795e+07</td>\n",
       "      <td>111.939394</td>\n",
       "    </tr>\n",
       "  </tbody>\n",
       "</table>\n",
       "</div>"
      ],
      "text/plain": [
       "              Budget  DomesticTotalGross     Runtime\n",
       "Rating                                              \n",
       "PG      9.507143e+07        1.319459e+08  100.285714\n",
       "PG-13   9.877500e+07        1.177266e+08  117.350000\n",
       "R       3.886364e+07        7.422795e+07  111.939394"
      ]
     },
     "execution_count": 43,
     "metadata": {},
     "output_type": "execute_result"
    }
   ],
   "source": [
    "movie_data.groupby(['Rating','Runtime','DomesticTotalGross']).mean()\n",
    "movie_data.groupby(['Rating']).mean()"
   ]
  },
  {
   "cell_type": "markdown",
   "metadata": {},
   "source": [
    "## Exercise 2.4\n",
    "\n",
    "Make one figure with (N=the number of MPAA ratings there are) subplots, and in each plot the release date vs the domestic total gross.\n",
    "\n"
   ]
  },
  {
   "cell_type": "code",
   "execution_count": 44,
   "metadata": {
    "collapsed": false
   },
   "outputs": [
    {
     "data": {
      "text/plain": [
       "Index([u'Title', u'Budget', u'DomesticTotalGross', u'Director', u'Rating',\n",
       "       u'Runtime', u'ReleaseDate', u'Date'],\n",
       "      dtype='object')"
      ]
     },
     "execution_count": 44,
     "metadata": {},
     "output_type": "execute_result"
    }
   ],
   "source": [
    "movie_data.columns"
   ]
  },
  {
   "cell_type": "code",
   "execution_count": 45,
   "metadata": {
    "collapsed": false
   },
   "outputs": [
    {
     "data": {
      "image/png": "[encoded data removed]",
      "text/plain": [
       "<matplotlib.figure.Figure at 0x11b0bf250>"
      ]
     },
     "metadata": {},
     "output_type": "display_data"
    }
   ],
   "source": [
    "# movie_data_G = movie_data.loc[movie_data.Rating == 'G']\n",
    "movie_data_PG = movie_data.loc[movie_data.Rating == 'PG']\n",
    "movie_data_PG13 = movie_data.loc[movie_data.Rating == 'PG-13']\n",
    "movie_data_R = movie_data.loc[movie_data.Rating == 'R']\n",
    "\n",
    "# plt.figure(figsize=(25,5))\n",
    "# plt.subplot(131)\n",
    "# plt.title('PG Movies')\n",
    "# plt.xlabel('Budget')\n",
    "# plt.ylabel('Domestic Total Gross')\n",
    "# plt.regplot(movie_data_PG.ReleaseDate, movie_data_PG.DomesticTotalGross, scatter = True)\n",
    "# x = movie_data_PG.ReleaseDate\n",
    "# y = movie_data_PG.DomesticTotalGross\n",
    "\n",
    "# # plt.scatter(x, y, alpha=0.5)\n",
    "# # plt.show()\n",
    "\n",
    "\n",
    "# # ax = movie_data_PG.plot.scatter(x='ReleaseDate', y='DomesticTotalGross', color='DarkBlue', label='Group 1');\n",
    "\n",
    "# # movie_data_PG.plot.scatter(x='ReleaseDate', y='DomesticTotalGross', color='DarkGreen', label='Group 2', ax=ax);\n",
    "# ax = sns.regplot(x=x, y=y, color=\"g\")\n",
    "\n",
    "\n",
    "import seaborn as sns\n",
    "\n",
    "grid_plot = sns.FacetGrid(movie_data, col='Rating')\n",
    "grid_plot.map(sns.regplot, 'DomesticTotalGross', 'Runtime', fit_reg=False)\n",
    "grid_plot.set_xlabels('Domestic Total Gross')\n",
    "plt.subplots_adjust(top=1)\n",
    "grid_plot.fig.suptitle('Runtime by MPAA Rating');"
   ]
  },
  {
   "cell_type": "code",
   "execution_count": 46,
   "metadata": {
    "collapsed": false
   },
   "outputs": [
    {
     "data": {
      "text/html": [
       "<div>\n",
       "<table border=\"1\" class=\"dataframe\">\n",
       "  <thead>\n",
       "    <tr style=\"text-align: right;\">\n",
       "      <th></th>\n",
       "      <th>Title</th>\n",
       "      <th>Budget</th>\n",
       "      <th>DomesticTotalGross</th>\n",
       "      <th>Director</th>\n",
       "      <th>Rating</th>\n",
       "      <th>Runtime</th>\n",
       "      <th>ReleaseDate</th>\n",
       "      <th>Date</th>\n",
       "    </tr>\n",
       "  </thead>\n",
       "  <tbody>\n",
       "    <tr>\n",
       "      <th>2</th>\n",
       "      <td>Frozen</td>\n",
       "      <td>150000000.0</td>\n",
       "      <td>400738009</td>\n",
       "      <td>Chris BuckJennifer Lee</td>\n",
       "      <td>PG</td>\n",
       "      <td>108</td>\n",
       "      <td>11/22/13 0:00</td>\n",
       "      <td>2013-11-22</td>\n",
       "    </tr>\n",
       "    <tr>\n",
       "      <th>3</th>\n",
       "      <td>Despicable Me 2</td>\n",
       "      <td>76000000.0</td>\n",
       "      <td>368061265</td>\n",
       "      <td>Pierre CoffinChris Renaud</td>\n",
       "      <td>PG</td>\n",
       "      <td>98</td>\n",
       "      <td>7/3/13 0:00</td>\n",
       "      <td>2013-07-03</td>\n",
       "    </tr>\n",
       "    <tr>\n",
       "      <th>9</th>\n",
       "      <td>Oz The Great and Powerful</td>\n",
       "      <td>215000000.0</td>\n",
       "      <td>234911825</td>\n",
       "      <td>Sam Raimi</td>\n",
       "      <td>PG</td>\n",
       "      <td>127</td>\n",
       "      <td>3/8/13 0:00</td>\n",
       "      <td>2013-03-08</td>\n",
       "    </tr>\n",
       "    <tr>\n",
       "      <th>13</th>\n",
       "      <td>The Croods</td>\n",
       "      <td>135000000.0</td>\n",
       "      <td>187168425</td>\n",
       "      <td>Kirk De MiccoChris Sanders</td>\n",
       "      <td>PG</td>\n",
       "      <td>98</td>\n",
       "      <td>3/22/13 0:00</td>\n",
       "      <td>2013-03-22</td>\n",
       "    </tr>\n",
       "    <tr>\n",
       "      <th>30</th>\n",
       "      <td>Epic</td>\n",
       "      <td>100000000.0</td>\n",
       "      <td>107518682</td>\n",
       "      <td>Chris Wedge</td>\n",
       "      <td>PG</td>\n",
       "      <td>102</td>\n",
       "      <td>5/24/13 0:00</td>\n",
       "      <td>2013-05-24</td>\n",
       "    </tr>\n",
       "  </tbody>\n",
       "</table>\n",
       "</div>"
      ],
      "text/plain": [
       "                        Title       Budget  DomesticTotalGross  \\\n",
       "2                      Frozen  150000000.0           400738009   \n",
       "3             Despicable Me 2   76000000.0           368061265   \n",
       "9   Oz The Great and Powerful  215000000.0           234911825   \n",
       "13                 The Croods  135000000.0           187168425   \n",
       "30                       Epic  100000000.0           107518682   \n",
       "\n",
       "                      Director Rating  Runtime    ReleaseDate       Date  \n",
       "2       Chris BuckJennifer Lee     PG      108  11/22/13 0:00 2013-11-22  \n",
       "3    Pierre CoffinChris Renaud     PG       98    7/3/13 0:00 2013-07-03  \n",
       "9                    Sam Raimi     PG      127    3/8/13 0:00 2013-03-08  \n",
       "13  Kirk De MiccoChris Sanders     PG       98   3/22/13 0:00 2013-03-22  \n",
       "30                 Chris Wedge     PG      102   5/24/13 0:00 2013-05-24  "
      ]
     },
     "execution_count": 46,
     "metadata": {},
     "output_type": "execute_result"
    }
   ],
   "source": [
    "movie_data_PG.head()"
   ]
  },
  {
   "cell_type": "markdown",
   "metadata": {},
   "source": [
    "## Exercise 2.5\n",
    "\n",
    "What director in your dataset has the highest gross per movie?"
   ]
  },
  {
   "cell_type": "code",
   "execution_count": 121,
   "metadata": {
    "collapsed": false,
    "scrolled": true
   },
   "outputs": [
    {
     "data": {
      "text/html": [
       "<div>\n",
       "<table border=\"1\" class=\"dataframe\">\n",
       "  <thead>\n",
       "    <tr style=\"text-align: right;\">\n",
       "      <th></th>\n",
       "      <th>Budget</th>\n",
       "      <th>DomesticTotalGross</th>\n",
       "      <th>Runtime</th>\n",
       "      <th>Month</th>\n",
       "    </tr>\n",
       "    <tr>\n",
       "      <th>Director</th>\n",
       "      <th></th>\n",
       "      <th></th>\n",
       "      <th></th>\n",
       "      <th></th>\n",
       "    </tr>\n",
       "  </thead>\n",
       "  <tbody>\n",
       "    <tr>\n",
       "      <th>Francis Lawrence</th>\n",
       "      <td>130000000.0</td>\n",
       "      <td>424668047.0</td>\n",
       "      <td>146.0</td>\n",
       "      <td>11.0</td>\n",
       "    </tr>\n",
       "  </tbody>\n",
       "</table>\n",
       "</div>"
      ],
      "text/plain": [
       "                       Budget  DomesticTotalGross  Runtime  Month\n",
       "Director                                                         \n",
       "Francis Lawrence  130000000.0         424668047.0    146.0   11.0"
      ]
     },
     "execution_count": 121,
     "metadata": {},
     "output_type": "execute_result"
    }
   ],
   "source": [
    "movie_data.groupby(['Director']).mean().sort_values('DomesticTotalGross', ascending = False).head(1)"
   ]
  },
  {
   "cell_type": "code",
   "execution_count": 38,
   "metadata": {
    "collapsed": false
   },
   "outputs": [],
   "source": [
    "grouped = movie_data.groupby('Director')"
   ]
  },
  {
   "cell_type": "code",
   "execution_count": 40,
   "metadata": {
    "collapsed": false
   },
   "outputs": [
    {
     "data": {
      "text/plain": [
       "Director\n",
       "Spike Jonze                    25568251\n",
       "Jon LucasScott Moore           25682380\n",
       "Edgar Wright                   26004851\n",
       "Andrew Niccol                  26627201\n",
       "Ron Howard                     26947624\n",
       "Jean-Marc Vallee               27298285\n",
       "Jeff Wadlow                    28795985\n",
       "Morgan Spurlock                28873374\n",
       "Peter Segal                    29807260\n",
       "Ken Scott                      30664106\n",
       "Harald Zwart                   31165421\n",
       "Steven Soderbergh              32172757\n",
       "Woody Allen                    33405481\n",
       "Robert Schwentke               33618855\n",
       "John Luessenhop                34341945\n",
       "Kimberly Peirce                35266619\n",
       "Barry CookNeil Nightingale     36076121\n",
       "Luc Besson                     36918811\n",
       "Stephen Frears                 37709979\n",
       "John Wells                     37738810\n",
       "Carl Rinsch                    38362475\n",
       "Michael Tiddes                 40041683\n",
       "David Twohy                    42025135\n",
       "Ric Roman Waugh                42930462\n",
       "Shawn Levy                     44672764\n",
       "Ruben Fleischer                46000903\n",
       "Michael Bay                    49875291\n",
       "Malcolm D. Lee                 51270491\n",
       "Brad Anderson                  51872378\n",
       "Tyler Perry                    52259354\n",
       "                                ...    \n",
       "Chris Wedge                   107518682\n",
       "James Wan                     110493294\n",
       "Todd Phillips                 112200072\n",
       "Lee Daniels                   116632095\n",
       "Martin Scorsese               116900694\n",
       "Louis Leterrier               117723989\n",
       "Jon Chu                       122523060\n",
       "Peter Berg                    125095601\n",
       "Adam McKay                    125168368\n",
       "James Mangold                 132556852\n",
       "Dennis Dugan                  133668525\n",
       "Seth Gordon                   134506920\n",
       "Baz Luhrmann                  144840419\n",
       "David O. Russell              150117807\n",
       "Rawson Marshall Thurber       150394119\n",
       "Paul Feig                     159582188\n",
       "Kirk De MiccoChris Sanders    187168425\n",
       "Marc Forster                  202359711\n",
       "Alan Taylor                   206362140\n",
       "J.J. Abrams                   228778661\n",
       "Sam Raimi                     234911825\n",
       "Justin Lin                    238679850\n",
       "Peter Jackson                 258366855\n",
       "Dan Scanlon                   268492764\n",
       "Alfonso Cuaron                274092705\n",
       "Zack Snyder                   291045518\n",
       "Pierre CoffinChris Renaud     368061265\n",
       "Chris BuckJennifer Lee        400738009\n",
       "Shane Black                   409013994\n",
       "Francis Lawrence              424668047\n",
       "Name: DomesticTotalGross, dtype: int64"
      ]
     },
     "execution_count": 40,
     "metadata": {},
     "output_type": "execute_result"
    }
   ],
   "source": [
    "grouped['DomesticTotalGross'].mean().sort_values()"
   ]
  },
  {
   "cell_type": "markdown",
   "metadata": {},
   "source": [
    "## Exercise 2.6\n",
    "\n",
    "Bin your dataset into months and make a bar graph of the mean domestic total gross by month. Error bars will represent the standard error of the mean.\n",
    "\n",
    "Title of graph should include: Mean Domestic Total Gross by Month in 2013\n",
    "\n",
    "Topic for consideration: what is the correct formula for the standard error of the mean? Examine the error bars and see if they are \"reasonable.\""
   ]
  },
  {
   "cell_type": "code",
   "execution_count": null,
   "metadata": {
    "collapsed": true
   },
   "outputs": [],
   "source": []
  },
  {
   "cell_type": "code",
   "execution_count": 124,
   "metadata": {
    "collapsed": false
   },
   "outputs": [],
   "source": [
    "# movie_data.rename(index=lambda x: x.strftime('%B'))\n",
    "import calendar\n",
    "\n",
    "# movie_data['Month'] = movie_data['Date'].apply(lambda x: calendar.month_abbr[x])\n",
    "# d = datetime.datetime.strptime('2015-01-01', '%Y-%m-%d')\n",
    "# d.strftime('%B')\n",
    "\n",
    "# time = movie_data['Date'][0]"
   ]
  },
  {
   "cell_type": "code",
   "execution_count": 130,
   "metadata": {
    "collapsed": false
   },
   "outputs": [
    {
     "data": {
      "text/plain": [
       "<matplotlib.text.Text at 0x11b6b4990>"
      ]
     },
     "execution_count": 130,
     "metadata": {},
     "output_type": "execute_result"
    },
    {
     "data": {
      "image/png": "[encoded data removed]",
      "text/plain": [
       "<matplotlib.figure.Figure at 0x11b7a0490>"
      ]
     },
     "metadata": {},
     "output_type": "display_data"
    }
   ],
   "source": [
    "movie_data['Month'] = movie_data['Date'].apply(lambda x: pd.to_datetime(x).month)\n",
    "ax = sns.barplot(x='Month', y='DomesticTotalGross', data=movie_data, estimator=mean)\n",
    "ax.set(xlabel='Month', ylabel='Mean Domestic Total Gross')\n",
    "ax.set_title('Mean Domestic Total Gross by Month in 2013')\n",
    "\n",
    "# ReleaseMonth = df.ReleaseDate.apply(lambda x:pd.to_datetime(x).month)\n",
    "# ReleaseMonth.name = \"ReleaseMonth\"\n",
    "# dfnew = pd.concat([df,ReleaseMonth],axis=1)\n",
    "# ax = plt.axes()\n",
    "# sb.barplot(x=dfnew['ReleaseMonth'].sort_values(), y=dfnew['DomesticTotalGross'])\n",
    "# ax.set_title('Mean Domestic Total Gross by Month in 2013')"
   ]
  },
  {
   "cell_type": "code",
   "execution_count": 126,
   "metadata": {
    "collapsed": false
   },
   "outputs": [
    {
     "data": {
      "text/html": [
       "<div>\n",
       "<table border=\"1\" class=\"dataframe\">\n",
       "  <thead>\n",
       "    <tr style=\"text-align: right;\">\n",
       "      <th></th>\n",
       "      <th>Title</th>\n",
       "      <th>Budget</th>\n",
       "      <th>DomesticTotalGross</th>\n",
       "      <th>Director</th>\n",
       "      <th>Rating</th>\n",
       "      <th>Runtime</th>\n",
       "      <th>ReleaseDate</th>\n",
       "      <th>Date</th>\n",
       "      <th>Month</th>\n",
       "    </tr>\n",
       "  </thead>\n",
       "  <tbody>\n",
       "    <tr>\n",
       "      <th>0</th>\n",
       "      <td>The Hunger Games: Catching Fire</td>\n",
       "      <td>130000000.0</td>\n",
       "      <td>424668047</td>\n",
       "      <td>Francis Lawrence</td>\n",
       "      <td>PG-13</td>\n",
       "      <td>146</td>\n",
       "      <td>11/22/13 0:00</td>\n",
       "      <td>2013-11-22</td>\n",
       "      <td>11</td>\n",
       "    </tr>\n",
       "    <tr>\n",
       "      <th>1</th>\n",
       "      <td>Iron Man 3</td>\n",
       "      <td>200000000.0</td>\n",
       "      <td>409013994</td>\n",
       "      <td>Shane Black</td>\n",
       "      <td>PG-13</td>\n",
       "      <td>129</td>\n",
       "      <td>5/3/13 0:00</td>\n",
       "      <td>2013-05-03</td>\n",
       "      <td>5</td>\n",
       "    </tr>\n",
       "    <tr>\n",
       "      <th>2</th>\n",
       "      <td>Frozen</td>\n",
       "      <td>150000000.0</td>\n",
       "      <td>400738009</td>\n",
       "      <td>Chris BuckJennifer Lee</td>\n",
       "      <td>PG</td>\n",
       "      <td>108</td>\n",
       "      <td>11/22/13 0:00</td>\n",
       "      <td>2013-11-22</td>\n",
       "      <td>11</td>\n",
       "    </tr>\n",
       "    <tr>\n",
       "      <th>3</th>\n",
       "      <td>Despicable Me 2</td>\n",
       "      <td>76000000.0</td>\n",
       "      <td>368061265</td>\n",
       "      <td>Pierre CoffinChris Renaud</td>\n",
       "      <td>PG</td>\n",
       "      <td>98</td>\n",
       "      <td>7/3/13 0:00</td>\n",
       "      <td>2013-07-03</td>\n",
       "      <td>7</td>\n",
       "    </tr>\n",
       "    <tr>\n",
       "      <th>4</th>\n",
       "      <td>Man of Steel</td>\n",
       "      <td>225000000.0</td>\n",
       "      <td>291045518</td>\n",
       "      <td>Zack Snyder</td>\n",
       "      <td>PG-13</td>\n",
       "      <td>143</td>\n",
       "      <td>6/14/13 0:00</td>\n",
       "      <td>2013-06-14</td>\n",
       "      <td>6</td>\n",
       "    </tr>\n",
       "  </tbody>\n",
       "</table>\n",
       "</div>"
      ],
      "text/plain": [
       "                             Title       Budget  DomesticTotalGross  \\\n",
       "0  The Hunger Games: Catching Fire  130000000.0           424668047   \n",
       "1                       Iron Man 3  200000000.0           409013994   \n",
       "2                           Frozen  150000000.0           400738009   \n",
       "3                  Despicable Me 2   76000000.0           368061265   \n",
       "4                     Man of Steel  225000000.0           291045518   \n",
       "\n",
       "                    Director Rating  Runtime    ReleaseDate       Date  Month  \n",
       "0           Francis Lawrence  PG-13      146  11/22/13 0:00 2013-11-22     11  \n",
       "1                Shane Black  PG-13      129    5/3/13 0:00 2013-05-03      5  \n",
       "2     Chris BuckJennifer Lee     PG      108  11/22/13 0:00 2013-11-22     11  \n",
       "3  Pierre CoffinChris Renaud     PG       98    7/3/13 0:00 2013-07-03      7  \n",
       "4                Zack Snyder  PG-13      143   6/14/13 0:00 2013-06-14      6  "
      ]
     },
     "execution_count": 126,
     "metadata": {},
     "output_type": "execute_result"
    }
   ],
   "source": [
    "movie_data.head()"
   ]
  },
  {
   "cell_type": "code",
   "execution_count": null,
   "metadata": {
    "collapsed": true
   },
   "outputs": [],
   "source": []
  }
 ],
 "metadata": {
  "anaconda-cloud": {},
  "kernelspec": {
   "display_name": "Python [Root]",
   "language": "python",
   "name": "Python [Root]"
  },
  "language_info": {
   "codemirror_mode": {
    "name": "ipython",
    "version": 2
   },
   "file_extension": ".py",
   "mimetype": "text/x-python",
   "name": "python",
   "nbconvert_exporter": "python",
   "pygments_lexer": "ipython2",
   "version": "2.7.11"
  }
 },
 "nbformat": 4,
 "nbformat_minor": 1
}
