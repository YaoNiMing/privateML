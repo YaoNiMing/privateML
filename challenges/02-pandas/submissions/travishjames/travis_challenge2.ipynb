{
 "cells": [
  {
   "cell_type": "markdown",
   "metadata": {},
   "source": [
    "# Challenge Set 2\n",
    "\n",
    "Topic: Pandas Data Manipulation and Plotting <br>\n",
    "Date: 10/10/2016 <br>\n",
    "Name: Travis James <br>"
   ]
  },
  {
   "cell_type": "code",
   "execution_count": 1,
   "metadata": {
    "collapsed": true
   },
   "outputs": [],
   "source": [
    "import pandas as pd\n",
    "import matplotlib.pyplot as plt\n",
    "import dateutil.parser\n",
    "%matplotlib inline"
   ]
  },
  {
   "cell_type": "code",
   "execution_count": 2,
   "metadata": {
    "collapsed": false
   },
   "outputs": [],
   "source": [
    "movie_df = pd.read_csv('https://raw.githubusercontent.com/travishjames/sf16_ds4/master/challenges/02-pandas/2013_movies.csv?token=AUIhtmYeebYMazrEXWFR37pqXbKbmh1pks5X-wV3wA%3D%3D')"
   ]
  },
  {
   "cell_type": "code",
   "execution_count": 3,
   "metadata": {
    "collapsed": false
   },
   "outputs": [
    {
     "data": {
      "text/html": [
       "<div>\n",
       "<table border=\"1\" class=\"dataframe\">\n",
       "  <thead>\n",
       "    <tr style=\"text-align: right;\">\n",
       "      <th></th>\n",
       "      <th>Title</th>\n",
       "      <th>Budget</th>\n",
       "      <th>DomesticTotalGross</th>\n",
       "      <th>Director</th>\n",
       "      <th>Rating</th>\n",
       "      <th>Runtime</th>\n",
       "      <th>ReleaseDate</th>\n",
       "    </tr>\n",
       "  </thead>\n",
       "  <tbody>\n",
       "    <tr>\n",
       "      <th>0</th>\n",
       "      <td>The Hunger Games: Catching Fire</td>\n",
       "      <td>130000000.0</td>\n",
       "      <td>424668047</td>\n",
       "      <td>Francis Lawrence</td>\n",
       "      <td>PG-13</td>\n",
       "      <td>146</td>\n",
       "      <td>11/22/13 0:00</td>\n",
       "    </tr>\n",
       "    <tr>\n",
       "      <th>1</th>\n",
       "      <td>Iron Man 3</td>\n",
       "      <td>200000000.0</td>\n",
       "      <td>409013994</td>\n",
       "      <td>Shane Black</td>\n",
       "      <td>PG-13</td>\n",
       "      <td>129</td>\n",
       "      <td>5/3/13 0:00</td>\n",
       "    </tr>\n",
       "    <tr>\n",
       "      <th>2</th>\n",
       "      <td>Frozen</td>\n",
       "      <td>150000000.0</td>\n",
       "      <td>400738009</td>\n",
       "      <td>Chris BuckJennifer Lee</td>\n",
       "      <td>PG</td>\n",
       "      <td>108</td>\n",
       "      <td>11/22/13 0:00</td>\n",
       "    </tr>\n",
       "    <tr>\n",
       "      <th>3</th>\n",
       "      <td>Despicable Me 2</td>\n",
       "      <td>76000000.0</td>\n",
       "      <td>368061265</td>\n",
       "      <td>Pierre CoffinChris Renaud</td>\n",
       "      <td>PG</td>\n",
       "      <td>98</td>\n",
       "      <td>7/3/13 0:00</td>\n",
       "    </tr>\n",
       "    <tr>\n",
       "      <th>4</th>\n",
       "      <td>Man of Steel</td>\n",
       "      <td>225000000.0</td>\n",
       "      <td>291045518</td>\n",
       "      <td>Zack Snyder</td>\n",
       "      <td>PG-13</td>\n",
       "      <td>143</td>\n",
       "      <td>6/14/13 0:00</td>\n",
       "    </tr>\n",
       "  </tbody>\n",
       "</table>\n",
       "</div>"
      ],
      "text/plain": [
       "                             Title       Budget  DomesticTotalGross  \\\n",
       "0  The Hunger Games: Catching Fire  130000000.0           424668047   \n",
       "1                       Iron Man 3  200000000.0           409013994   \n",
       "2                           Frozen  150000000.0           400738009   \n",
       "3                  Despicable Me 2   76000000.0           368061265   \n",
       "4                     Man of Steel  225000000.0           291045518   \n",
       "\n",
       "                    Director Rating  Runtime    ReleaseDate  \n",
       "0           Francis Lawrence  PG-13      146  11/22/13 0:00  \n",
       "1                Shane Black  PG-13      129    5/3/13 0:00  \n",
       "2     Chris BuckJennifer Lee     PG      108  11/22/13 0:00  \n",
       "3  Pierre CoffinChris Renaud     PG       98    7/3/13 0:00  \n",
       "4                Zack Snyder  PG-13      143   6/14/13 0:00  "
      ]
     },
     "execution_count": 3,
     "metadata": {},
     "output_type": "execute_result"
    }
   ],
   "source": [
    "movie_df.head()"
   ]
  },
  {
   "cell_type": "code",
   "execution_count": 4,
   "metadata": {
    "collapsed": false
   },
   "outputs": [],
   "source": [
    "movie_df[['Budget','DomesticTotalGross','Runtime']] = movie_df[['Budget','DomesticTotalGross','Runtime']].apply(pd.to_numeric)"
   ]
  },
  {
   "cell_type": "code",
   "execution_count": 5,
   "metadata": {
    "collapsed": false
   },
   "outputs": [],
   "source": [
    "movie_df[['ReleaseDate']] = movie_df[['ReleaseDate']].apply(pd.to_datetime)"
   ]
  },
  {
   "cell_type": "markdown",
   "metadata": {},
   "source": [
    "**Challenge 2.1**"
   ]
  },
  {
   "cell_type": "code",
   "execution_count": 6,
   "metadata": {
    "collapsed": false
   },
   "outputs": [],
   "source": [
    "movie_df = movie_df.sort_values('ReleaseDate')"
   ]
  },
  {
   "cell_type": "code",
   "execution_count": 52,
   "metadata": {
    "collapsed": false,
    "scrolled": true
   },
   "outputs": [
    {
     "data": {
      "image/png": "[encoded data removed]",
      "text/plain": [
       "<matplotlib.figure.Figure at 0x11ae14a58>"
      ]
     },
     "metadata": {},
     "output_type": "display_data"
    }
   ],
   "source": [
    "plt.plot(movie_df['ReleaseDate'], movie_df['DomesticTotalGross'])\n",
    "plt.xlabel('Date')\n",
    "plt.xticks(rotation = 'vertical')\n",
    "plt.ylabel('Domestic Total Gross')\n",
    "plt.title('Domestic Total Gross Over Time in 2013');"
   ]
  },
  {
   "cell_type": "markdown",
   "metadata": {},
   "source": [
    "**Challenge 2.2**"
   ]
  },
  {
   "cell_type": "code",
   "execution_count": 47,
   "metadata": {
    "collapsed": false
   },
   "outputs": [
    {
     "data": {
      "image/png": "[encoded data removed]",
      "text/plain": [
       "<matplotlib.figure.Figure at 0x11bb15b00>"
      ]
     },
     "metadata": {},
     "output_type": "display_data"
    }
   ],
   "source": [
    "plt.plot(movie_df['Runtime'], movie_df['DomesticTotalGross'], 'o')\n",
    "plt.xlabel('Runtime')\n",
    "plt.ylabel('Domestic Total Gross')\n",
    "plt.title('Plot of Domestic Total Gross vs. Runtime');"
   ]
  },
  {
   "cell_type": "markdown",
   "metadata": {},
   "source": [
    "**Challenge 2.3**"
   ]
  },
  {
   "cell_type": "code",
   "execution_count": 9,
   "metadata": {
    "collapsed": false
   },
   "outputs": [
    {
     "data": {
      "text/html": [
       "<div>\n",
       "<table border=\"1\" class=\"dataframe\">\n",
       "  <thead>\n",
       "    <tr style=\"text-align: right;\">\n",
       "      <th></th>\n",
       "      <th>DomesticTotalGross</th>\n",
       "      <th>Runtime</th>\n",
       "    </tr>\n",
       "    <tr>\n",
       "      <th>Rating</th>\n",
       "      <th></th>\n",
       "      <th></th>\n",
       "    </tr>\n",
       "  </thead>\n",
       "  <tbody>\n",
       "    <tr>\n",
       "      <th>G</th>\n",
       "      <td>2.684928e+08</td>\n",
       "      <td>107.000000</td>\n",
       "    </tr>\n",
       "    <tr>\n",
       "      <th>PG</th>\n",
       "      <td>1.311357e+08</td>\n",
       "      <td>99.933333</td>\n",
       "    </tr>\n",
       "    <tr>\n",
       "      <th>PG-13</th>\n",
       "      <td>1.114498e+08</td>\n",
       "      <td>117.510638</td>\n",
       "    </tr>\n",
       "    <tr>\n",
       "      <th>R</th>\n",
       "      <td>6.989243e+07</td>\n",
       "      <td>110.729730</td>\n",
       "    </tr>\n",
       "  </tbody>\n",
       "</table>\n",
       "</div>"
      ],
      "text/plain": [
       "        DomesticTotalGross     Runtime\n",
       "Rating                                \n",
       "G             2.684928e+08  107.000000\n",
       "PG            1.311357e+08   99.933333\n",
       "PG-13         1.114498e+08  117.510638\n",
       "R             6.989243e+07  110.729730"
      ]
     },
     "execution_count": 9,
     "metadata": {},
     "output_type": "execute_result"
    }
   ],
   "source": [
    "movie_df.groupby(['Rating'])[['DomesticTotalGross', 'Runtime']].mean()"
   ]
  },
  {
   "cell_type": "markdown",
   "metadata": {
    "collapsed": true
   },
   "source": [
    "**Challenge 2.4**"
   ]
  },
  {
   "cell_type": "code",
   "execution_count": 44,
   "metadata": {
    "collapsed": false
   },
   "outputs": [
    {
     "data": {
      "image/png": "[encoded data removed]",
      "text/plain": [
       "<matplotlib.figure.Figure at 0x11ac18b70>"
      ]
     },
     "metadata": {},
     "output_type": "display_data"
    }
   ],
   "source": [
    "import seaborn as sns\n",
    "\n",
    "grid_plot = sns.FacetGrid(movie_df, col='Rating')\n",
    "grid_plot.map(sns.regplot, 'DomesticTotalGross', 'Runtime',color='.3', fit_reg=False)\n",
    "grid_plot.set_xlabels('Domestic Total Gross')\n",
    "plt.subplots_adjust(top=0.8)\n",
    "grid_plot.fig.suptitle('Runtime by MPAA Rating');"
   ]
  },
  {
   "cell_type": "markdown",
   "metadata": {},
   "source": [
    "**Challenge 2.5**"
   ]
  },
  {
   "cell_type": "code",
   "execution_count": 11,
   "metadata": {
    "collapsed": false
   },
   "outputs": [
    {
     "data": {
      "text/html": [
       "<div>\n",
       "<table border=\"1\" class=\"dataframe\">\n",
       "  <thead>\n",
       "    <tr style=\"text-align: right;\">\n",
       "      <th></th>\n",
       "      <th>DomesticTotalGross</th>\n",
       "    </tr>\n",
       "    <tr>\n",
       "      <th>Director</th>\n",
       "      <th></th>\n",
       "    </tr>\n",
       "  </thead>\n",
       "  <tbody>\n",
       "    <tr>\n",
       "      <th>Francis Lawrence</th>\n",
       "      <td>424668047</td>\n",
       "    </tr>\n",
       "    <tr>\n",
       "      <th>Shane Black</th>\n",
       "      <td>409013994</td>\n",
       "    </tr>\n",
       "    <tr>\n",
       "      <th>Chris BuckJennifer Lee</th>\n",
       "      <td>400738009</td>\n",
       "    </tr>\n",
       "    <tr>\n",
       "      <th>Pierre CoffinChris Renaud</th>\n",
       "      <td>368061265</td>\n",
       "    </tr>\n",
       "    <tr>\n",
       "      <th>Zack Snyder</th>\n",
       "      <td>291045518</td>\n",
       "    </tr>\n",
       "    <tr>\n",
       "      <th>Alfonso Cuaron</th>\n",
       "      <td>274092705</td>\n",
       "    </tr>\n",
       "    <tr>\n",
       "      <th>Dan Scanlon</th>\n",
       "      <td>268492764</td>\n",
       "    </tr>\n",
       "    <tr>\n",
       "      <th>Peter Jackson</th>\n",
       "      <td>258366855</td>\n",
       "    </tr>\n",
       "    <tr>\n",
       "      <th>Justin Lin</th>\n",
       "      <td>238679850</td>\n",
       "    </tr>\n",
       "    <tr>\n",
       "      <th>Sam Raimi</th>\n",
       "      <td>234911825</td>\n",
       "    </tr>\n",
       "    <tr>\n",
       "      <th>J.J. Abrams</th>\n",
       "      <td>228778661</td>\n",
       "    </tr>\n",
       "    <tr>\n",
       "      <th>Alan Taylor</th>\n",
       "      <td>206362140</td>\n",
       "    </tr>\n",
       "    <tr>\n",
       "      <th>Marc Forster</th>\n",
       "      <td>202359711</td>\n",
       "    </tr>\n",
       "    <tr>\n",
       "      <th>Kirk De MiccoChris Sanders</th>\n",
       "      <td>187168425</td>\n",
       "    </tr>\n",
       "    <tr>\n",
       "      <th>Paul Feig</th>\n",
       "      <td>159582188</td>\n",
       "    </tr>\n",
       "    <tr>\n",
       "      <th>Rawson Marshall Thurber</th>\n",
       "      <td>150394119</td>\n",
       "    </tr>\n",
       "    <tr>\n",
       "      <th>David O. Russell</th>\n",
       "      <td>150117807</td>\n",
       "    </tr>\n",
       "    <tr>\n",
       "      <th>Baz Luhrmann</th>\n",
       "      <td>144840419</td>\n",
       "    </tr>\n",
       "    <tr>\n",
       "      <th>Seth Gordon</th>\n",
       "      <td>134506920</td>\n",
       "    </tr>\n",
       "    <tr>\n",
       "      <th>Dennis Dugan</th>\n",
       "      <td>133668525</td>\n",
       "    </tr>\n",
       "    <tr>\n",
       "      <th>James Mangold</th>\n",
       "      <td>132556852</td>\n",
       "    </tr>\n",
       "    <tr>\n",
       "      <th>Adam McKay</th>\n",
       "      <td>125168368</td>\n",
       "    </tr>\n",
       "    <tr>\n",
       "      <th>Peter Berg</th>\n",
       "      <td>125095601</td>\n",
       "    </tr>\n",
       "    <tr>\n",
       "      <th>Jon Chu</th>\n",
       "      <td>122523060</td>\n",
       "    </tr>\n",
       "    <tr>\n",
       "      <th>Louis Leterrier</th>\n",
       "      <td>117723989</td>\n",
       "    </tr>\n",
       "    <tr>\n",
       "      <th>Martin Scorsese</th>\n",
       "      <td>116900694</td>\n",
       "    </tr>\n",
       "    <tr>\n",
       "      <th>Lee Daniels</th>\n",
       "      <td>116632095</td>\n",
       "    </tr>\n",
       "    <tr>\n",
       "      <th>Todd Phillips</th>\n",
       "      <td>112200072</td>\n",
       "    </tr>\n",
       "    <tr>\n",
       "      <th>James Wan</th>\n",
       "      <td>110493294</td>\n",
       "    </tr>\n",
       "    <tr>\n",
       "      <th>Chris Wedge</th>\n",
       "      <td>107518682</td>\n",
       "    </tr>\n",
       "    <tr>\n",
       "      <th>...</th>\n",
       "      <td>...</td>\n",
       "    </tr>\n",
       "    <tr>\n",
       "      <th>Tyler Perry</th>\n",
       "      <td>52259354</td>\n",
       "    </tr>\n",
       "    <tr>\n",
       "      <th>Brad Anderson</th>\n",
       "      <td>51872378</td>\n",
       "    </tr>\n",
       "    <tr>\n",
       "      <th>Malcolm D. Lee</th>\n",
       "      <td>51270491</td>\n",
       "    </tr>\n",
       "    <tr>\n",
       "      <th>Michael Bay</th>\n",
       "      <td>49875291</td>\n",
       "    </tr>\n",
       "    <tr>\n",
       "      <th>Ruben Fleischer</th>\n",
       "      <td>46000903</td>\n",
       "    </tr>\n",
       "    <tr>\n",
       "      <th>Shawn Levy</th>\n",
       "      <td>44672764</td>\n",
       "    </tr>\n",
       "    <tr>\n",
       "      <th>Ric Roman Waugh</th>\n",
       "      <td>42930462</td>\n",
       "    </tr>\n",
       "    <tr>\n",
       "      <th>David Twohy</th>\n",
       "      <td>42025135</td>\n",
       "    </tr>\n",
       "    <tr>\n",
       "      <th>Michael Tiddes</th>\n",
       "      <td>40041683</td>\n",
       "    </tr>\n",
       "    <tr>\n",
       "      <th>Carl Rinsch</th>\n",
       "      <td>38362475</td>\n",
       "    </tr>\n",
       "    <tr>\n",
       "      <th>John Wells</th>\n",
       "      <td>37738810</td>\n",
       "    </tr>\n",
       "    <tr>\n",
       "      <th>Stephen Frears</th>\n",
       "      <td>37709979</td>\n",
       "    </tr>\n",
       "    <tr>\n",
       "      <th>Luc Besson</th>\n",
       "      <td>36918811</td>\n",
       "    </tr>\n",
       "    <tr>\n",
       "      <th>Barry CookNeil Nightingale</th>\n",
       "      <td>36076121</td>\n",
       "    </tr>\n",
       "    <tr>\n",
       "      <th>Kimberly Peirce</th>\n",
       "      <td>35266619</td>\n",
       "    </tr>\n",
       "    <tr>\n",
       "      <th>John Luessenhop</th>\n",
       "      <td>34341945</td>\n",
       "    </tr>\n",
       "    <tr>\n",
       "      <th>Robert Schwentke</th>\n",
       "      <td>33618855</td>\n",
       "    </tr>\n",
       "    <tr>\n",
       "      <th>Woody Allen</th>\n",
       "      <td>33405481</td>\n",
       "    </tr>\n",
       "    <tr>\n",
       "      <th>Steven Soderbergh</th>\n",
       "      <td>32172757</td>\n",
       "    </tr>\n",
       "    <tr>\n",
       "      <th>Harald Zwart</th>\n",
       "      <td>31165421</td>\n",
       "    </tr>\n",
       "    <tr>\n",
       "      <th>Ken Scott</th>\n",
       "      <td>30664106</td>\n",
       "    </tr>\n",
       "    <tr>\n",
       "      <th>Peter Segal</th>\n",
       "      <td>29807260</td>\n",
       "    </tr>\n",
       "    <tr>\n",
       "      <th>Morgan Spurlock</th>\n",
       "      <td>28873374</td>\n",
       "    </tr>\n",
       "    <tr>\n",
       "      <th>Jeff Wadlow</th>\n",
       "      <td>28795985</td>\n",
       "    </tr>\n",
       "    <tr>\n",
       "      <th>Jean-Marc Vallee</th>\n",
       "      <td>27298285</td>\n",
       "    </tr>\n",
       "    <tr>\n",
       "      <th>Ron Howard</th>\n",
       "      <td>26947624</td>\n",
       "    </tr>\n",
       "    <tr>\n",
       "      <th>Andrew Niccol</th>\n",
       "      <td>26627201</td>\n",
       "    </tr>\n",
       "    <tr>\n",
       "      <th>Edgar Wright</th>\n",
       "      <td>26004851</td>\n",
       "    </tr>\n",
       "    <tr>\n",
       "      <th>Jon LucasScott Moore</th>\n",
       "      <td>25682380</td>\n",
       "    </tr>\n",
       "    <tr>\n",
       "      <th>Spike Jonze</th>\n",
       "      <td>25568251</td>\n",
       "    </tr>\n",
       "  </tbody>\n",
       "</table>\n",
       "<p>93 rows × 1 columns</p>\n",
       "</div>"
      ],
      "text/plain": [
       "                            DomesticTotalGross\n",
       "Director                                      \n",
       "Francis Lawrence                     424668047\n",
       "Shane Black                          409013994\n",
       "Chris BuckJennifer Lee               400738009\n",
       "Pierre CoffinChris Renaud            368061265\n",
       "Zack Snyder                          291045518\n",
       "Alfonso Cuaron                       274092705\n",
       "Dan Scanlon                          268492764\n",
       "Peter Jackson                        258366855\n",
       "Justin Lin                           238679850\n",
       "Sam Raimi                            234911825\n",
       "J.J. Abrams                          228778661\n",
       "Alan Taylor                          206362140\n",
       "Marc Forster                         202359711\n",
       "Kirk De MiccoChris Sanders           187168425\n",
       "Paul Feig                            159582188\n",
       "Rawson Marshall Thurber              150394119\n",
       "David O. Russell                     150117807\n",
       "Baz Luhrmann                         144840419\n",
       "Seth Gordon                          134506920\n",
       "Dennis Dugan                         133668525\n",
       "James Mangold                        132556852\n",
       "Adam McKay                           125168368\n",
       "Peter Berg                           125095601\n",
       "Jon Chu                              122523060\n",
       "Louis Leterrier                      117723989\n",
       "Martin Scorsese                      116900694\n",
       "Lee Daniels                          116632095\n",
       "Todd Phillips                        112200072\n",
       "James Wan                            110493294\n",
       "Chris Wedge                          107518682\n",
       "...                                        ...\n",
       "Tyler Perry                           52259354\n",
       "Brad Anderson                         51872378\n",
       "Malcolm D. Lee                        51270491\n",
       "Michael Bay                           49875291\n",
       "Ruben Fleischer                       46000903\n",
       "Shawn Levy                            44672764\n",
       "Ric Roman Waugh                       42930462\n",
       "David Twohy                           42025135\n",
       "Michael Tiddes                        40041683\n",
       "Carl Rinsch                           38362475\n",
       "John Wells                            37738810\n",
       "Stephen Frears                        37709979\n",
       "Luc Besson                            36918811\n",
       "Barry CookNeil Nightingale            36076121\n",
       "Kimberly Peirce                       35266619\n",
       "John Luessenhop                       34341945\n",
       "Robert Schwentke                      33618855\n",
       "Woody Allen                           33405481\n",
       "Steven Soderbergh                     32172757\n",
       "Harald Zwart                          31165421\n",
       "Ken Scott                             30664106\n",
       "Peter Segal                           29807260\n",
       "Morgan Spurlock                       28873374\n",
       "Jeff Wadlow                           28795985\n",
       "Jean-Marc Vallee                      27298285\n",
       "Ron Howard                            26947624\n",
       "Andrew Niccol                         26627201\n",
       "Edgar Wright                          26004851\n",
       "Jon LucasScott Moore                  25682380\n",
       "Spike Jonze                           25568251\n",
       "\n",
       "[93 rows x 1 columns]"
      ]
     },
     "execution_count": 11,
     "metadata": {},
     "output_type": "execute_result"
    }
   ],
   "source": [
    "directors_df = movie_df.groupby(['Director'])[['DomesticTotalGross']].mean()\n",
    "directors_df.sort_values('DomesticTotalGross', ascending = False)\n",
    "\n",
    "#Francis Lawrence is the highest grossing director per film"
   ]
  },
  {
   "cell_type": "markdown",
   "metadata": {},
   "source": [
    "**Challenge 2.6**"
   ]
  },
  {
   "cell_type": "code",
   "execution_count": 23,
   "metadata": {
    "collapsed": false
   },
   "outputs": [],
   "source": [
    "movie_df['month'] = movie_df['ReleaseDate'].dt.month"
   ]
  },
  {
   "cell_type": "code",
   "execution_count": 29,
   "metadata": {
    "collapsed": false
   },
   "outputs": [
    {
     "data": {
      "image/png": "[encoded data removed]",
      "text/plain": [
       "<matplotlib.figure.Figure at 0x11ac87da0>"
      ]
     },
     "metadata": {},
     "output_type": "display_data"
    }
   ],
   "source": [
    "plot = sns.barplot(x=\"month\", y=\"DomesticTotalGross\", data=movie_df)\n",
    "plot.set_title('Mean Domestic Total Gross by Month in 2013')\n",
    "plot.set_ylabel('Mean Domestic Total Gross')\n",
    "plot.set_xlabel('Month');"
   ]
  },
  {
   "cell_type": "code",
   "execution_count": null,
   "metadata": {
    "collapsed": true
   },
   "outputs": [],
   "source": []
  }
 ],
 "metadata": {
  "anaconda-cloud": {},
  "kernelspec": {
   "display_name": "Python [Root]",
   "language": "python",
   "name": "Python [Root]"
  },
  "language_info": {
   "codemirror_mode": {
    "name": "ipython",
    "version": 3
   },
   "file_extension": ".py",
   "mimetype": "text/x-python",
   "name": "python",
   "nbconvert_exporter": "python",
   "pygments_lexer": "ipython3",
   "version": "3.5.2"
  }
 },
 "nbformat": 4,
 "nbformat_minor": 0
}
