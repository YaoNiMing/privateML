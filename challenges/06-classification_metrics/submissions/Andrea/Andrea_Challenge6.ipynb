{
 "cells": [
  {
   "cell_type": "markdown",
   "metadata": {},
   "source": [
    "**Topic: Classification Metrics**\n",
    "\n",
    "Settings: Where applicable, use test_size=0.30, random_state=4444. This will permit comparison of results across users. Use congressional votes data."
   ]
  },
  {
   "cell_type": "code",
   "execution_count": 44,
   "metadata": {
    "collapsed": false
   },
   "outputs": [],
   "source": [
    "#Import necessary stuff to start\n",
    "import pandas as pd\n",
    "import numpy as np\n",
    "import matplotlib.pyplot as plt\n",
    "\n",
    "import matplotlib.dates as dte\n",
    "import matplotlib.pyplot as plt\n",
    "import seaborn as sns\n",
    "from seaborn import plt\n",
    "from sklearn.linear_model import LogisticRegression\n",
    "from sklearn.neighbors import KNeighborsClassifier\n",
    "from sklearn.metrics import accuracy_score\n",
    "from sklearn.model_selection import learning_curve\n",
    "from sklearn.naive_bayes import GaussianNB\n",
    "from sklearn.svm import SVC\n",
    "from sklearn.tree import DecisionTreeClassifier\n",
    "from sklearn.ensemble import RandomForestClassifier\n",
    "from sklearn.model_selection import cross_val_score\n",
    "from sklearn.model_selection import train_test_split\n",
    "import pickle\n",
    "\n",
    "from sklearn.metrics import precision_score\n",
    "from sklearn.metrics import recall_score\n",
    "from sklearn.metrics import f1_score\n",
    "\n",
    "from sklearn.metrics import precision_recall_curve\n",
    "from sklearn.metrics import roc_curve, auc\n",
    "\n",
    "%matplotlib inline"
   ]
  },
  {
   "cell_type": "code",
   "execution_count": 4,
   "metadata": {
    "collapsed": true
   },
   "outputs": [],
   "source": [
    "#Bring back the dataframe from challenge 5.1\n",
    "with open('vote_df.pkl', 'rb') as picklefile: \n",
    "   congress = pickle.load(picklefile)"
   ]
  },
  {
   "cell_type": "code",
   "execution_count": 5,
   "metadata": {
    "collapsed": false
   },
   "outputs": [
    {
     "name": "stdout",
     "output_type": "stream",
     "text": [
      "<class 'pandas.core.frame.DataFrame'>\n",
      "RangeIndex: 435 entries, 0 to 434\n",
      "Data columns (total 17 columns):\n",
      "party                                     435 non-null object\n",
      "handicapped-infants                       435 non-null float64\n",
      "water-project-cost-sharing                435 non-null float64\n",
      "adoption-of-the-budget-resolution         435 non-null float64\n",
      "physician-fee-freeze                      435 non-null float64\n",
      "el-salvador-aid                           435 non-null float64\n",
      "religious-groups-in-schools               435 non-null float64\n",
      "anti-satellite-test-ban                   435 non-null float64\n",
      "aid-to-nicaraguan-contras                 435 non-null float64\n",
      "mx-missile                                435 non-null float64\n",
      "immigration                               435 non-null float64\n",
      "synfuels-corporation-cutback              435 non-null float64\n",
      "education-spending                        435 non-null float64\n",
      "superfund-right-to-sue                    435 non-null float64\n",
      "crime                                     435 non-null float64\n",
      "duty-free-exports                         435 non-null float64\n",
      "export-administration-act-south-africa    435 non-null float64\n",
      "dtypes: float64(16), object(1)\n",
      "memory usage: 57.8+ KB\n"
     ]
    }
   ],
   "source": [
    "congress.info()"
   ]
  },
  {
   "cell_type": "code",
   "execution_count": 7,
   "metadata": {
    "collapsed": false
   },
   "outputs": [],
   "source": [
    "y = congress.iloc[:, 0]\n",
    "y = y.replace(to_replace='republican', value=1)\n",
    "y = y.replace(to_replace='democrat', value=0)\n",
    "X = congress.iloc[:, 1:]\n",
    "\n",
    "X_train, X_test, y_train, y_test = train_test_split(X, y, test_size=0.3, random_state=4444)"
   ]
  },
  {
   "cell_type": "markdown",
   "metadata": {},
   "source": [
    "**Exercise 6.1**\n",
    "\n",
    "For the house representatives data set, calculate the accuracy, precision, recall and f1 scores of each classifier you built (on the test set)."
   ]
  },
  {
   "cell_type": "code",
   "execution_count": 14,
   "metadata": {
    "collapsed": false
   },
   "outputs": [
    {
     "name": "stdout",
     "output_type": "stream",
     "text": [
      "Accuracy 0.931297709924\n",
      "Precision 0.941176470588\n",
      "Recall 0.888888888889\n",
      "F1 0.914285714286\n"
     ]
    }
   ],
   "source": [
    "#KNN\n",
    "knn = KNeighborsClassifier(n_neighbors=6)\n",
    "knn.fit(X_train, y_train)\n",
    "ypred_knn = knn.predict(X_test)\n",
    "\n",
    "knn.predict_proba(X_test)\n",
    "\n",
    "knn_acc = accuracy_score(y_test, ypred_knn)\n",
    "print \"Accuracy\", knn_acc\n",
    "\n",
    "knn_precision = precision_score(y_test, ypred_knn)\n",
    "print \"Precision\", knn_precision # Portion of your predicted positives that are actually positive\n",
    "\n",
    "knn_recall = recall_score(y_test, ypred_knn)\n",
    "print \"Recall\", knn_recall # Actual positives your model caught\n",
    "\n",
    "knn_f1 = f1_score(y_test, ypred_knn) \n",
    "print \"F1\", knn_f1 # Average of precision and recall"
   ]
  },
  {
   "cell_type": "code",
   "execution_count": 15,
   "metadata": {
    "collapsed": false
   },
   "outputs": [
    {
     "name": "stdout",
     "output_type": "stream",
     "text": [
      "Accuracy 0.93893129771\n",
      "Precision 0.96\n",
      "Recall 0.888888888889\n",
      "F1 0.923076923077\n"
     ]
    }
   ],
   "source": [
    "#Logit\n",
    "logit = LogisticRegression()\n",
    "logit.fit(X_train, y_train)\n",
    "ypred_logit = logit.predict(X_test)\n",
    "\n",
    "logit_acc = accuracy_score(y_test, ypred_logit)\n",
    "print \"Accuracy\", logit_acc\n",
    "\n",
    "logit_precision = precision_score(y_test, ypred_logit)\n",
    "print \"Precision\", logit_precision # Portion of your predicted positives that are actually positive\n",
    "\n",
    "logit_recall = recall_score(y_test, ypred_logit)\n",
    "print \"Recall\", logit_recall # Actual positives your model caught\n",
    "\n",
    "logit_f1 = f1_score(y_test, ypred_logit) \n",
    "print \"F1\", logit_f1 # Average of precision and recall"
   ]
  },
  {
   "cell_type": "code",
   "execution_count": 16,
   "metadata": {
    "collapsed": false
   },
   "outputs": [
    {
     "name": "stdout",
     "output_type": "stream",
     "text": [
      "Accuracy 0.93893129771\n",
      "Precision 0.979166666667\n",
      "Recall 0.87037037037\n",
      "F1 0.921568627451\n"
     ]
    }
   ],
   "source": [
    "#Gaussian Naive Bayes\n",
    "nb = GaussianNB()\n",
    "nbfit = nb.fit(X_train, y_train)\n",
    "ypred_nb = nb.predict(X_test)\n",
    "\n",
    "nb_acc = accuracy_score(y_test, ypred_nb)\n",
    "print \"Accuracy\", nb_acc\n",
    "\n",
    "nb_precision = precision_score(y_test, ypred_nb)\n",
    "print \"Precision\", nb_precision # Portion of your predicted positives that are actually positive\n",
    "\n",
    "nb_recall = recall_score(y_test, ypred_nb)\n",
    "print \"Recall\", nb_recall # Actual positives your model caught\n",
    "\n",
    "nb_f1 = f1_score(y_test, ypred_nb) \n",
    "print \"F1\", nb_f1 # Average of precision and recall"
   ]
  },
  {
   "cell_type": "code",
   "execution_count": 40,
   "metadata": {
    "collapsed": false
   },
   "outputs": [
    {
     "name": "stdout",
     "output_type": "stream",
     "text": [
      "Accuracy 0.954198473282\n",
      "Precision 0.961538461538\n",
      "Recall 0.925925925926\n",
      "F1 0.943396226415\n"
     ]
    }
   ],
   "source": [
    "#Support Vector Machine\n",
    "\n",
    "svc = SVC(probability = True)\n",
    "svcfit = svc.fit(X_train, y_train)\n",
    "ypred_svc = svc.predict(X_test)\n",
    "\n",
    "svc_acc = accuracy_score(y_test, ypred_svc)\n",
    "print \"Accuracy\", svc_acc\n",
    "\n",
    "svc_precision = precision_score(y_test, ypred_svc)\n",
    "print \"Precision\", svc_precision # Portion of your predicted positives that are actually positive\n",
    "\n",
    "svc_recall = recall_score(y_test, ypred_svc)\n",
    "print \"Recall\", svc_recall # Actual positives your model caught\n",
    "\n",
    "svc_f1 = f1_score(y_test, ypred_svc) \n",
    "print \"F1\", svc_f1 # Average of precision and recall"
   ]
  },
  {
   "cell_type": "code",
   "execution_count": 18,
   "metadata": {
    "collapsed": false
   },
   "outputs": [
    {
     "name": "stdout",
     "output_type": "stream",
     "text": [
      "Accuracy 0.93893129771\n",
      "Precision 0.942307692308\n",
      "Recall 0.907407407407\n",
      "F1 0.924528301887\n"
     ]
    }
   ],
   "source": [
    "#Decision Tree\n",
    "\n",
    "dt = DecisionTreeClassifier()\n",
    "dtfit = dt.fit(X_train, y_train)\n",
    "ypred_dt = dt.predict(X_test)\n",
    "\n",
    "dt_acc = accuracy_score(y_test, ypred_dt)\n",
    "print \"Accuracy\", dt_acc\n",
    "\n",
    "dt_precision = precision_score(y_test, ypred_dt)\n",
    "print \"Precision\", dt_precision # Portion of your predicted positives that are actually positive\n",
    "\n",
    "dt_recall = recall_score(y_test, ypred_dt)\n",
    "print \"Recall\", dt_recall # Actual positives your model caught\n",
    "\n",
    "dt_f1 = f1_score(y_test, ypred_dt) \n",
    "print \"F1\", dt_f1 # Average of precision and recall"
   ]
  },
  {
   "cell_type": "code",
   "execution_count": 19,
   "metadata": {
    "collapsed": false
   },
   "outputs": [
    {
     "name": "stdout",
     "output_type": "stream",
     "text": [
      "Accuracy 0.969465648855\n",
      "Precision 0.980769230769\n",
      "Recall 0.944444444444\n",
      "F1 0.962264150943\n"
     ]
    }
   ],
   "source": [
    "#Random Forest\n",
    "\n",
    "rf = RandomForestClassifier()\n",
    "rffit = rf.fit(X_train, y_train)\n",
    "ypred_rf = rf.predict(X_test)\n",
    "\n",
    "rf_acc = accuracy_score(y_test, ypred_rf)\n",
    "print \"Accuracy\", rf_acc\n",
    "\n",
    "rf_precision = precision_score(y_test, ypred_rf)\n",
    "print \"Precision\", rf_precision # Portion of your predicted positives that are actually positive\n",
    "\n",
    "rf_recall = recall_score(y_test, ypred_rf)\n",
    "print \"Recall\", rf_recall # Actual positives your model caught\n",
    "\n",
    "rf_f1 = f1_score(y_test, ypred_rf) \n",
    "print \"F1\", rf_f1 # Average of precision and recall"
   ]
  },
  {
   "cell_type": "markdown",
   "metadata": {},
   "source": [
    "**Exercise 6.2**\n",
    "\n",
    "For each, draw the Precision-Recall curve, ROC curve and calculate the AUC."
   ]
  },
  {
   "cell_type": "code",
   "execution_count": 49,
   "metadata": {
    "collapsed": false
   },
   "outputs": [
    {
     "name": "stdout",
     "output_type": "stream",
     "text": [
      "AUC 0.948412698413\n"
     ]
    },
    {
     "data": {
      "image/png": "[encoded data removed]",
      "text/plain": [
       "<matplotlib.figure.Figure at 0x11c47e110>"
      ]
     },
     "metadata": {},
     "output_type": "display_data"
    },
    {
     "data": {
      "image/png": "[encoded data removed]",
      "text/plain": [
       "<matplotlib.figure.Figure at 0x11b6e50d0>"
      ]
     },
     "metadata": {},
     "output_type": "display_data"
    }
   ],
   "source": [
    "#KNN\n",
    "knn_proba = knn.predict_proba(X_test) #Predicts probability of 0 (Democrat), then 1 (Republican)\n",
    "precision1, recall1, thresholds1 = precision_recall_curve(y_test, knn_proba[:, 1])\n",
    "\n",
    "#Plot precision-recall curve\n",
    "plt.plot(precision1, recall1)\n",
    "plt.title(\"KNN: Precision-Recall\")\n",
    "plt.xlabel(\"Precision\")\n",
    "plt.ylabel(\"Recall\");\n",
    "\n",
    "fpr1, tpr1, thresholds1 = roc_curve(y_test, knn_proba[:, 1])\n",
    "\n",
    "# Plot the ROC curve!\n",
    "plt.figure()\n",
    "plt.plot(fpr1, tpr1)\n",
    "plt.title(\"KNN: ROC\")\n",
    "plt.xlabel('FPR')\n",
    "plt.ylabel('TPR');\n",
    "\n",
    "#Calculate AUC\n",
    "knn_auc = auc(fpr1, tpr1)\n",
    "print \"AUC\", knn_auc"
   ]
  },
  {
   "cell_type": "code",
   "execution_count": 50,
   "metadata": {
    "collapsed": false
   },
   "outputs": [
    {
     "name": "stdout",
     "output_type": "stream",
     "text": [
      "AUC 0.987734487734\n"
     ]
    },
    {
     "data": {
      "image/png": "[encoded data removed]",
      "text/plain": [
       "<matplotlib.figure.Figure at 0x11c826f50>"
      ]
     },
     "metadata": {},
     "output_type": "display_data"
    },
    {
     "data": {
      "image/png": "[encoded data removed]",
      "text/plain": [
       "<matplotlib.figure.Figure at 0x11c123810>"
      ]
     },
     "metadata": {},
     "output_type": "display_data"
    }
   ],
   "source": [
    "#Logit\n",
    "logit_proba = logit.predict_proba(X_test) #Predicts probability of 0 (Democrat), then 1 (Republican)\n",
    "precision2, recall2, thresholds2 = precision_recall_curve(y_test, logit_proba[:, 1])\n",
    "\n",
    "#Plot precision-recall curve\n",
    "plt.plot(precision2, recall2)\n",
    "plt.title(\"Logit: Precision-Recall\")\n",
    "plt.xlabel(\"Precision\")\n",
    "plt.ylabel(\"Recall\");\n",
    "\n",
    "fpr2, tpr2, thresholds2 = roc_curve(y_test, logit_proba[:, 1])\n",
    "\n",
    "# Plot the ROC curve!\n",
    "plt.figure()\n",
    "plt.plot(fpr2, tpr2)\n",
    "plt.title(\"Logit: ROC\")\n",
    "plt.xlabel('FPR')\n",
    "plt.ylabel('TPR');\n",
    "\n",
    "#Calculate AUC\n",
    "logit_auc = auc(fpr2, tpr2)\n",
    "print \"AUC\", logit_auc"
   ]
  },
  {
   "cell_type": "code",
   "execution_count": 51,
   "metadata": {
    "collapsed": false
   },
   "outputs": [
    {
     "name": "stdout",
     "output_type": "stream",
     "text": [
      "AUC 0.984126984127\n"
     ]
    },
    {
     "data": {
      "image/png": "[encoded data removed]",
      "text/plain": [
       "<matplotlib.figure.Figure at 0x11c5b6610>"
      ]
     },
     "metadata": {},
     "output_type": "display_data"
    },
    {
     "data": {
      "image/png": "[encoded data removed]",
      "text/plain": [
       "<matplotlib.figure.Figure at 0x11c3f8410>"
      ]
     },
     "metadata": {},
     "output_type": "display_data"
    }
   ],
   "source": [
    "#Gaussian Naive Bayes\n",
    "nb_proba = nb.predict_proba(X_test) #Predicts probability of 0 (Democrat), then 1 (Republican)\n",
    "precision3, recall3, thresholds3 = precision_recall_curve(y_test, nb_proba[:, 1])\n",
    "\n",
    "#Plot precision-recall curve\n",
    "plt.plot(precision3, recall3)\n",
    "plt.title(\"Gaussian Naive Bayes: Precision-Recall\")\n",
    "plt.xlabel(\"Precision\")\n",
    "plt.ylabel(\"Recall\");\n",
    "\n",
    "fpr3, tpr3, thresholds3 = roc_curve(y_test, nb_proba[:, 1])\n",
    "\n",
    "# Plot the ROC curve!\n",
    "plt.figure()\n",
    "plt.plot(fpr3, tpr3)\n",
    "plt.title(\"Gaussian Naive Bayes: ROC\")\n",
    "plt.xlabel('FPR')\n",
    "plt.ylabel('TPR');\n",
    "\n",
    "#Calculate AUC\n",
    "nb_auc = auc(fpr3, tpr3)\n",
    "print \"AUC\", nb_auc"
   ]
  },
  {
   "cell_type": "code",
   "execution_count": 52,
   "metadata": {
    "collapsed": false
   },
   "outputs": [
    {
     "name": "stdout",
     "output_type": "stream",
     "text": [
      "AUC 0.994949494949\n"
     ]
    },
    {
     "data": {
      "image/png": "[encoded data removed]",
      "text/plain": [
       "<matplotlib.figure.Figure at 0x11c5a8b90>"
      ]
     },
     "metadata": {},
     "output_type": "display_data"
    },
    {
     "data": {
      "image/png": "[encoded data removed]",
      "text/plain": [
       "<matplotlib.figure.Figure at 0x11b7a2810>"
      ]
     },
     "metadata": {},
     "output_type": "display_data"
    }
   ],
   "source": [
    "#Support Vector Machine\n",
    "svc_proba = svc.predict_proba(X_test) #Predicts probability of 0 (Democrat), then 1 (Republican)\n",
    "precision4, recall4, thresholds4 = precision_recall_curve(y_test, svc_proba[:, 1])\n",
    "\n",
    "#Plot precision-recall curve\n",
    "plt.plot(precision4, recall4)\n",
    "plt.title(\"Support Vector Machine: Precision-Recall\")\n",
    "plt.xlabel(\"Precision\")\n",
    "plt.ylabel(\"Recall\");\n",
    "\n",
    "\n",
    "fpr4, tpr4, thresholds4 = roc_curve(y_test, svc_proba[:, 1])\n",
    "\n",
    "# Plot the ROC curve!\n",
    "plt.figure()\n",
    "plt.plot(fpr4, tpr4)\n",
    "plt.title(\"Support Vector Machine: ROC\")\n",
    "plt.xlabel('FPR')\n",
    "plt.ylabel('TPR');\n",
    "\n",
    "#Calculate AUC\n",
    "svc_auc = auc(fpr4, tpr4)\n",
    "print \"AUC\", svc_auc"
   ]
  },
  {
   "cell_type": "code",
   "execution_count": 54,
   "metadata": {
    "collapsed": false
   },
   "outputs": [
    {
     "name": "stdout",
     "output_type": "stream",
     "text": [
      "AUC 0.934223184223\n"
     ]
    },
    {
     "data": {
      "image/png": "[encoded data removed]",
      "text/plain": [
       "<matplotlib.figure.Figure at 0x11c4f5950>"
      ]
     },
     "metadata": {},
     "output_type": "display_data"
    },
    {
     "data": {
      "image/png": "[encoded data removed]",
      "text/plain": [
       "<matplotlib.figure.Figure at 0x11c48a950>"
      ]
     },
     "metadata": {},
     "output_type": "display_data"
    }
   ],
   "source": [
    "#Decision Tree\n",
    "dt_proba = dt.predict_proba(X_test) #Predicts probability of 0 (Democrat), then 1 (Republican)\n",
    "precision5, recall5, thresholds5 = precision_recall_curve(y_test, dt_proba[:, 1])\n",
    "\n",
    "#Plot precision-recall curve\n",
    "plt.plot(precision5, recall5)\n",
    "plt.title(\"Decision Tree: Precision-Recall\")\n",
    "plt.xlabel(\"Precision\")\n",
    "plt.ylabel(\"Recall\");\n",
    "\n",
    "fpr5, tpr5, thresholds5 = roc_curve(y_test, dt_proba[:, 1])\n",
    "\n",
    "# Plot the ROC curve!\n",
    "plt.figure()\n",
    "plt.plot(fpr5, tpr5)\n",
    "plt.title(\"Decision Tree: ROC\")\n",
    "plt.xlabel('FPR')\n",
    "plt.ylabel('TPR');\n",
    "\n",
    "#Calculate AUC\n",
    "dt_auc = auc(fpr5, tpr5)\n",
    "print \"AUC\", dt_auc"
   ]
  },
  {
   "cell_type": "code",
   "execution_count": 55,
   "metadata": {
    "collapsed": false
   },
   "outputs": [
    {
     "name": "stdout",
     "output_type": "stream",
     "text": [
      "AUC 0.986171236171\n"
     ]
    },
    {
     "data": {
      "image/png": "[encoded data removed]",
      "text/plain": [
       "<matplotlib.figure.Figure at 0x11c3a44d0>"
      ]
     },
     "metadata": {},
     "output_type": "display_data"
    },
    {
     "data": {
      "image/png": "[encoded data removed]",
      "text/plain": [
       "<matplotlib.figure.Figure at 0x11caf0950>"
      ]
     },
     "metadata": {},
     "output_type": "display_data"
    }
   ],
   "source": [
    "#Random Forest\n",
    "rf_proba = rf.predict_proba(X_test) #Predicts probability of 0 (Democrat), then 1 (Republican)\n",
    "precision6, recall6, thresholds6 = precision_recall_curve(y_test, rf_proba[:, 1])\n",
    "\n",
    "#Plot precision-recall curve\n",
    "plt.plot(precision6, recall6)\n",
    "plt.title(\"Random Forest: Precision-Recall\")\n",
    "plt.xlabel(\"Precision\")\n",
    "plt.ylabel(\"Recall\");\n",
    "\n",
    "fpr6, tpr6, thresholds6 = roc_curve(y_test, rf_proba[:, 1])\n",
    "\n",
    "# Plot the ROC curve!\n",
    "plt.figure()\n",
    "plt.plot(fpr6, tpr6)\n",
    "plt.title(\"Random Forest: ROC\")\n",
    "plt.xlabel('FPR')\n",
    "plt.ylabel('TPR');\n",
    "\n",
    "#Calculate AUC\n",
    "dt_auc = auc(fpr6, tpr6)\n",
    "print \"AUC\", dt_auc"
   ]
  },
  {
   "cell_type": "markdown",
   "metadata": {},
   "source": [
    "**Exercise 6.3**\n",
    "\n",
    "Draw the Precision-Recall curve, ROC curve (and calculate AUC) for the logistic regression classifier from Exercise 5.12 in 05-Classification Challenge that uses Haberman Survival Dataset."
   ]
  },
  {
   "cell_type": "code",
   "execution_count": 56,
   "metadata": {
    "collapsed": true
   },
   "outputs": [],
   "source": [
    "haberman = pd.read_csv('https://archive.ics.uci.edu/ml/machine-learning-databases/haberman/haberman.data', delimiter = \",\", names = ['patient-age', 'operation-year', 'nodes-detected', 'survival-status'])"
   ]
  },
  {
   "cell_type": "code",
   "execution_count": 62,
   "metadata": {
    "collapsed": false
   },
   "outputs": [
    {
     "name": "stdout",
     "output_type": "stream",
     "text": [
      "0.815217391304\n"
     ]
    }
   ],
   "source": [
    "#Use logistic regression to predict survival after 5 years\n",
    "X_hab = haberman.iloc[:, 0:3]\n",
    "y_hab = haberman.iloc[:, 3]\n",
    "y_hab = y_hab - 1\n",
    "\n",
    "Xhab_train, Xhab_test, yhab_train, yhab_test = train_test_split(X_hab, y_hab, test_size=0.3, random_state=4444)\n",
    "\n",
    "logit_hab = LogisticRegression()\n",
    "logit_hab.fit(Xhab_train, yhab_train)\n",
    "ypred_hab = logit_hab.predict(Xhab_test)\n",
    "\n",
    "logit_hab_acc = accuracy_score(yhab_test, ypred_hab)\n",
    "print logit_hab_acc"
   ]
  },
  {
   "cell_type": "code",
   "execution_count": 63,
   "metadata": {
    "collapsed": false
   },
   "outputs": [
    {
     "name": "stdout",
     "output_type": "stream",
     "text": [
      "AUC 0.647522522523\n"
     ]
    },
    {
     "data": {
      "image/png": "[encoded data removed]",
      "text/plain": [
       "<matplotlib.figure.Figure at 0x11c137d50>"
      ]
     },
     "metadata": {},
     "output_type": "display_data"
    },
    {
     "data": {
      "image/png": "[encoded data removed]",
      "text/plain": [
       "<matplotlib.figure.Figure at 0x11c124390>"
      ]
     },
     "metadata": {},
     "output_type": "display_data"
    }
   ],
   "source": [
    "#Logit probabilities for Haberman data\n",
    "hab_proba = logit_hab.predict_proba(Xhab_test) #Predicts probability of 0 (Democrat), then 1 (Republican)\n",
    "precision7, recall7, thresholds7 = precision_recall_curve(yhab_test, hab_proba[:, 1])\n",
    "\n",
    "#Plot precision-recall curve\n",
    "plt.plot(precision7, recall7)\n",
    "plt.title(\"Haberman Logit: Precision-Recall\")\n",
    "plt.xlabel(\"Precision\")\n",
    "plt.ylabel(\"Recall\");\n",
    "\n",
    "fpr7, tpr7, thresholds7 = roc_curve(yhab_test, hab_proba[:, 1])\n",
    "\n",
    "# Plot the ROC curve!\n",
    "plt.figure()\n",
    "plt.plot(fpr7, tpr7)\n",
    "plt.title(\"Haberman Logit: ROC\")\n",
    "plt.xlabel('FPR')\n",
    "plt.ylabel('TPR');\n",
    "\n",
    "#Calculate AUC\n",
    "hab_auc = auc(fpr7, tpr7)\n",
    "print \"AUC\", hab_auc"
   ]
  },
  {
   "cell_type": "code",
   "execution_count": null,
   "metadata": {
    "collapsed": true
   },
   "outputs": [],
   "source": []
  }
 ],
 "metadata": {
  "anaconda-cloud": {},
  "kernelspec": {
   "display_name": "Python [Root]",
   "language": "python",
   "name": "Python [Root]"
  },
  "language_info": {
   "codemirror_mode": {
    "name": "ipython",
    "version": 2
   },
   "file_extension": ".py",
   "mimetype": "text/x-python",
   "name": "python",
   "nbconvert_exporter": "python",
   "pygments_lexer": "ipython2",
   "version": "2.7.12"
  }
 },
 "nbformat": 4,
 "nbformat_minor": 0
}
