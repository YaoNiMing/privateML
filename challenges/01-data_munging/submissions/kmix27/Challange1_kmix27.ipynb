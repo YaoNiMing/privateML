{
 "cells": [
  {
   "cell_type": "code",
   "execution_count": 192,
   "metadata": {
    "collapsed": false
   },
   "outputs": [],
   "source": [
    "%matplotlib inline\n",
    "import pandas as pd\n",
    "import matplotlib.pyplot as plt\n",
    "import csv\n",
    "import datetime\n",
    "from dateutil import parser\n",
    "import dateutil\n",
    "\n",
    "rawWeek2 = pd.read_csv('turnstile_160910.csv')\n",
    "rawWeek3 = pd.read_csv('turnstile_160917.csv')\n",
    "rawWeek1 = pd.read_csv('turnstile_160903.csv')\n",
    "\n",
    "frames = [rawWeek1,rawWeek2,rawWeek3]"
   ]
  },
  {
   "cell_type": "code",
   "execution_count": 233,
   "metadata": {
    "collapsed": false
   },
   "outputs": [
    {
     "data": {
      "text/html": [
       "<div>\n",
       "<table border=\"1\" class=\"dataframe\">\n",
       "  <thead>\n",
       "    <tr style=\"text-align: right;\">\n",
       "      <th></th>\n",
       "      <th>C/A</th>\n",
       "      <th>UNIT</th>\n",
       "      <th>SCP</th>\n",
       "      <th>STATION</th>\n",
       "      <th>LINENAME</th>\n",
       "      <th>DIVISION</th>\n",
       "      <th>DATE</th>\n",
       "      <th>TIME</th>\n",
       "      <th>DESC</th>\n",
       "      <th>ENTRIES</th>\n",
       "      <th>EXITS</th>\n",
       "    </tr>\n",
       "  </thead>\n",
       "  <tbody>\n",
       "    <tr>\n",
       "      <th>0</th>\n",
       "      <td>A002</td>\n",
       "      <td>R051</td>\n",
       "      <td>02-00-00</td>\n",
       "      <td>59 ST</td>\n",
       "      <td>NQR456</td>\n",
       "      <td>BMT</td>\n",
       "      <td>08/27/2016</td>\n",
       "      <td>00:00:00</td>\n",
       "      <td>REGULAR</td>\n",
       "      <td>5799442</td>\n",
       "      <td>1966041</td>\n",
       "    </tr>\n",
       "    <tr>\n",
       "      <th>1</th>\n",
       "      <td>A002</td>\n",
       "      <td>R051</td>\n",
       "      <td>02-00-00</td>\n",
       "      <td>59 ST</td>\n",
       "      <td>NQR456</td>\n",
       "      <td>BMT</td>\n",
       "      <td>08/27/2016</td>\n",
       "      <td>04:00:00</td>\n",
       "      <td>REGULAR</td>\n",
       "      <td>5799463</td>\n",
       "      <td>1966044</td>\n",
       "    </tr>\n",
       "    <tr>\n",
       "      <th>2</th>\n",
       "      <td>A002</td>\n",
       "      <td>R051</td>\n",
       "      <td>02-00-00</td>\n",
       "      <td>59 ST</td>\n",
       "      <td>NQR456</td>\n",
       "      <td>BMT</td>\n",
       "      <td>08/27/2016</td>\n",
       "      <td>08:00:00</td>\n",
       "      <td>REGULAR</td>\n",
       "      <td>5799492</td>\n",
       "      <td>1966079</td>\n",
       "    </tr>\n",
       "    <tr>\n",
       "      <th>3</th>\n",
       "      <td>A002</td>\n",
       "      <td>R051</td>\n",
       "      <td>02-00-00</td>\n",
       "      <td>59 ST</td>\n",
       "      <td>NQR456</td>\n",
       "      <td>BMT</td>\n",
       "      <td>08/27/2016</td>\n",
       "      <td>12:00:00</td>\n",
       "      <td>REGULAR</td>\n",
       "      <td>5799610</td>\n",
       "      <td>1966155</td>\n",
       "    </tr>\n",
       "    <tr>\n",
       "      <th>4</th>\n",
       "      <td>A002</td>\n",
       "      <td>R051</td>\n",
       "      <td>02-00-00</td>\n",
       "      <td>59 ST</td>\n",
       "      <td>NQR456</td>\n",
       "      <td>BMT</td>\n",
       "      <td>08/27/2016</td>\n",
       "      <td>16:00:00</td>\n",
       "      <td>REGULAR</td>\n",
       "      <td>5799833</td>\n",
       "      <td>1966214</td>\n",
       "    </tr>\n",
       "  </tbody>\n",
       "</table>\n",
       "</div>"
      ],
      "text/plain": [
       "    C/A  UNIT       SCP STATION LINENAME DIVISION        DATE      TIME  \\\n",
       "0  A002  R051  02-00-00   59 ST   NQR456      BMT  08/27/2016  00:00:00   \n",
       "1  A002  R051  02-00-00   59 ST   NQR456      BMT  08/27/2016  04:00:00   \n",
       "2  A002  R051  02-00-00   59 ST   NQR456      BMT  08/27/2016  08:00:00   \n",
       "3  A002  R051  02-00-00   59 ST   NQR456      BMT  08/27/2016  12:00:00   \n",
       "4  A002  R051  02-00-00   59 ST   NQR456      BMT  08/27/2016  16:00:00   \n",
       "\n",
       "      DESC  ENTRIES  \\\n",
       "0  REGULAR  5799442   \n",
       "1  REGULAR  5799463   \n",
       "2  REGULAR  5799492   \n",
       "3  REGULAR  5799610   \n",
       "4  REGULAR  5799833   \n",
       "\n",
       "   EXITS                                                                 \n",
       "0                                            1966041                     \n",
       "1                                            1966044                     \n",
       "2                                            1966079                     \n",
       "3                                            1966155                     \n",
       "4                                            1966214                     "
      ]
     },
     "execution_count": 233,
     "metadata": {},
     "output_type": "execute_result"
    }
   ],
   "source": [
    "rawDf = pd.concat(frames,axis=0)\n",
    "rawDf.head()"
   ]
  },
  {
   "cell_type": "code",
   "execution_count": 235,
   "metadata": {
    "collapsed": true
   },
   "outputs": [
    {
     "data": {
      "text/html": [
       "<div>\n",
       "<table border=\"1\" class=\"dataframe\">\n",
       "  <thead>\n",
       "    <tr style=\"text-align: right;\">\n",
       "      <th></th>\n",
       "      <th>C/A</th>\n",
       "      <th>UNIT</th>\n",
       "      <th>SCP</th>\n",
       "      <th>STATION</th>\n",
       "      <th>DATE</th>\n",
       "      <th>TIME</th>\n",
       "      <th>ENTRIES</th>\n",
       "    </tr>\n",
       "  </thead>\n",
       "  <tbody>\n",
       "    <tr>\n",
       "      <th>0</th>\n",
       "      <td>A002</td>\n",
       "      <td>R051</td>\n",
       "      <td>02-00-00</td>\n",
       "      <td>59 ST</td>\n",
       "      <td>08/27/2016</td>\n",
       "      <td>00:00:00</td>\n",
       "      <td>5799442</td>\n",
       "    </tr>\n",
       "    <tr>\n",
       "      <th>1</th>\n",
       "      <td>A002</td>\n",
       "      <td>R051</td>\n",
       "      <td>02-00-00</td>\n",
       "      <td>59 ST</td>\n",
       "      <td>08/27/2016</td>\n",
       "      <td>04:00:00</td>\n",
       "      <td>5799463</td>\n",
       "    </tr>\n",
       "    <tr>\n",
       "      <th>2</th>\n",
       "      <td>A002</td>\n",
       "      <td>R051</td>\n",
       "      <td>02-00-00</td>\n",
       "      <td>59 ST</td>\n",
       "      <td>08/27/2016</td>\n",
       "      <td>08:00:00</td>\n",
       "      <td>5799492</td>\n",
       "    </tr>\n",
       "    <tr>\n",
       "      <th>3</th>\n",
       "      <td>A002</td>\n",
       "      <td>R051</td>\n",
       "      <td>02-00-00</td>\n",
       "      <td>59 ST</td>\n",
       "      <td>08/27/2016</td>\n",
       "      <td>12:00:00</td>\n",
       "      <td>5799610</td>\n",
       "    </tr>\n",
       "    <tr>\n",
       "      <th>4</th>\n",
       "      <td>A002</td>\n",
       "      <td>R051</td>\n",
       "      <td>02-00-00</td>\n",
       "      <td>59 ST</td>\n",
       "      <td>08/27/2016</td>\n",
       "      <td>16:00:00</td>\n",
       "      <td>5799833</td>\n",
       "    </tr>\n",
       "  </tbody>\n",
       "</table>\n",
       "</div>"
      ],
      "text/plain": [
       "    C/A  UNIT       SCP STATION        DATE      TIME  ENTRIES\n",
       "0  A002  R051  02-00-00   59 ST  08/27/2016  00:00:00  5799442\n",
       "1  A002  R051  02-00-00   59 ST  08/27/2016  04:00:00  5799463\n",
       "2  A002  R051  02-00-00   59 ST  08/27/2016  08:00:00  5799492\n",
       "3  A002  R051  02-00-00   59 ST  08/27/2016  12:00:00  5799610\n",
       "4  A002  R051  02-00-00   59 ST  08/27/2016  16:00:00  5799833"
      ]
     },
     "execution_count": 235,
     "metadata": {},
     "output_type": "execute_result"
    }
   ],
   "source": [
    "# rename and remove unneeded columns\n",
    "rawDf.columns = ['C/A', 'UNIT', 'SCP', 'STATION', 'LINENAME', 'DIVISION', 'DATE', 'TIME', 'DESC', 'ENTRIES', 'EXITS']\n",
    "df=rawDf.drop(['LINENAME', 'DIVISION', 'DESC', 'EXITS'], axis = 1)\n",
    "#  ex 1 organize data \n",
    "ex_1_1 = df.head()\n",
    "ex_1_1\n"
   ]
  },
  {
   "cell_type": "code",
   "execution_count": 236,
   "metadata": {
    "collapsed": false
   },
   "outputs": [
    {
     "data": {
      "text/html": [
       "<div>\n",
       "<table border=\"1\" class=\"dataframe\">\n",
       "  <thead>\n",
       "    <tr style=\"text-align: right;\">\n",
       "      <th></th>\n",
       "      <th>C/A</th>\n",
       "      <th>UNIT</th>\n",
       "      <th>SCP</th>\n",
       "      <th>STATION</th>\n",
       "      <th>DATE</th>\n",
       "      <th>TIME</th>\n",
       "      <th>DATETIME</th>\n",
       "      <th>ENTRIES</th>\n",
       "    </tr>\n",
       "  </thead>\n",
       "  <tbody>\n",
       "    <tr>\n",
       "      <th>0</th>\n",
       "      <td>A002</td>\n",
       "      <td>R051</td>\n",
       "      <td>02-00-00</td>\n",
       "      <td>59 ST</td>\n",
       "      <td>08/27/2016</td>\n",
       "      <td>00:00:00</td>\n",
       "      <td>08/27/2016 00:00:00</td>\n",
       "      <td>5799442</td>\n",
       "    </tr>\n",
       "    <tr>\n",
       "      <th>1</th>\n",
       "      <td>A002</td>\n",
       "      <td>R051</td>\n",
       "      <td>02-00-00</td>\n",
       "      <td>59 ST</td>\n",
       "      <td>08/27/2016</td>\n",
       "      <td>04:00:00</td>\n",
       "      <td>08/27/2016 04:00:00</td>\n",
       "      <td>5799463</td>\n",
       "    </tr>\n",
       "    <tr>\n",
       "      <th>2</th>\n",
       "      <td>A002</td>\n",
       "      <td>R051</td>\n",
       "      <td>02-00-00</td>\n",
       "      <td>59 ST</td>\n",
       "      <td>08/27/2016</td>\n",
       "      <td>08:00:00</td>\n",
       "      <td>08/27/2016 08:00:00</td>\n",
       "      <td>5799492</td>\n",
       "    </tr>\n",
       "    <tr>\n",
       "      <th>3</th>\n",
       "      <td>A002</td>\n",
       "      <td>R051</td>\n",
       "      <td>02-00-00</td>\n",
       "      <td>59 ST</td>\n",
       "      <td>08/27/2016</td>\n",
       "      <td>12:00:00</td>\n",
       "      <td>08/27/2016 12:00:00</td>\n",
       "      <td>5799610</td>\n",
       "    </tr>\n",
       "    <tr>\n",
       "      <th>4</th>\n",
       "      <td>A002</td>\n",
       "      <td>R051</td>\n",
       "      <td>02-00-00</td>\n",
       "      <td>59 ST</td>\n",
       "      <td>08/27/2016</td>\n",
       "      <td>16:00:00</td>\n",
       "      <td>08/27/2016 16:00:00</td>\n",
       "      <td>5799833</td>\n",
       "    </tr>\n",
       "  </tbody>\n",
       "</table>\n",
       "</div>"
      ],
      "text/plain": [
       "    C/A  UNIT       SCP STATION        DATE      TIME             DATETIME  \\\n",
       "0  A002  R051  02-00-00   59 ST  08/27/2016  00:00:00  08/27/2016 00:00:00   \n",
       "1  A002  R051  02-00-00   59 ST  08/27/2016  04:00:00  08/27/2016 04:00:00   \n",
       "2  A002  R051  02-00-00   59 ST  08/27/2016  08:00:00  08/27/2016 08:00:00   \n",
       "3  A002  R051  02-00-00   59 ST  08/27/2016  12:00:00  08/27/2016 12:00:00   \n",
       "4  A002  R051  02-00-00   59 ST  08/27/2016  16:00:00  08/27/2016 16:00:00   \n",
       "\n",
       "   ENTRIES  \n",
       "0  5799442  \n",
       "1  5799463  \n",
       "2  5799492  \n",
       "3  5799610  \n",
       "4  5799833  "
      ]
     },
     "execution_count": 236,
     "metadata": {},
     "output_type": "execute_result"
    }
   ],
   "source": [
    "# create a a single column with date and time data\n",
    "df['DATETIME'] = df.DATE.astype(str).str.cat(df.TIME.astype(str), sep=' ')\n",
    "df = df[['C/A', 'UNIT', 'SCP', 'STATION','DATE', 'TIME', 'DATETIME','ENTRIES']]\n",
    "df.head()"
   ]
  },
  {
   "cell_type": "code",
   "execution_count": 237,
   "metadata": {
    "collapsed": false
   },
   "outputs": [],
   "source": [
    "# create a parser object to pass to the datetime column to creat time series\n",
    "dtConvert = lambda x: parser.parse(x)\n",
    "df['DATETIME'] = df['DATETIME'].map(dtConvert)\n"
   ]
  },
  {
   "cell_type": "code",
   "execution_count": 238,
   "metadata": {
    "collapsed": false
   },
   "outputs": [
    {
     "data": {
      "text/html": [
       "<div>\n",
       "<table border=\"1\" class=\"dataframe\">\n",
       "  <thead>\n",
       "    <tr style=\"text-align: right;\">\n",
       "      <th></th>\n",
       "      <th>C/A</th>\n",
       "      <th>UNIT</th>\n",
       "      <th>SCP</th>\n",
       "      <th>STATION</th>\n",
       "      <th>DATE</th>\n",
       "      <th>TIME</th>\n",
       "      <th>DATETIME</th>\n",
       "      <th>ENTRIES</th>\n",
       "    </tr>\n",
       "  </thead>\n",
       "  <tbody>\n",
       "    <tr>\n",
       "      <th>0</th>\n",
       "      <td>A002</td>\n",
       "      <td>R051</td>\n",
       "      <td>02-00-00</td>\n",
       "      <td>59 ST</td>\n",
       "      <td>08/27/2016</td>\n",
       "      <td>00:00:00</td>\n",
       "      <td>2016-08-27 00:00:00</td>\n",
       "      <td>5799442</td>\n",
       "    </tr>\n",
       "    <tr>\n",
       "      <th>1</th>\n",
       "      <td>A002</td>\n",
       "      <td>R051</td>\n",
       "      <td>02-00-00</td>\n",
       "      <td>59 ST</td>\n",
       "      <td>08/27/2016</td>\n",
       "      <td>04:00:00</td>\n",
       "      <td>2016-08-27 04:00:00</td>\n",
       "      <td>5799463</td>\n",
       "    </tr>\n",
       "    <tr>\n",
       "      <th>2</th>\n",
       "      <td>A002</td>\n",
       "      <td>R051</td>\n",
       "      <td>02-00-00</td>\n",
       "      <td>59 ST</td>\n",
       "      <td>08/27/2016</td>\n",
       "      <td>08:00:00</td>\n",
       "      <td>2016-08-27 08:00:00</td>\n",
       "      <td>5799492</td>\n",
       "    </tr>\n",
       "    <tr>\n",
       "      <th>3</th>\n",
       "      <td>A002</td>\n",
       "      <td>R051</td>\n",
       "      <td>02-00-00</td>\n",
       "      <td>59 ST</td>\n",
       "      <td>08/27/2016</td>\n",
       "      <td>12:00:00</td>\n",
       "      <td>2016-08-27 12:00:00</td>\n",
       "      <td>5799610</td>\n",
       "    </tr>\n",
       "    <tr>\n",
       "      <th>4</th>\n",
       "      <td>A002</td>\n",
       "      <td>R051</td>\n",
       "      <td>02-00-00</td>\n",
       "      <td>59 ST</td>\n",
       "      <td>08/27/2016</td>\n",
       "      <td>16:00:00</td>\n",
       "      <td>2016-08-27 16:00:00</td>\n",
       "      <td>5799833</td>\n",
       "    </tr>\n",
       "  </tbody>\n",
       "</table>\n",
       "</div>"
      ],
      "text/plain": [
       "    C/A  UNIT       SCP STATION        DATE      TIME            DATETIME  \\\n",
       "0  A002  R051  02-00-00   59 ST  08/27/2016  00:00:00 2016-08-27 00:00:00   \n",
       "1  A002  R051  02-00-00   59 ST  08/27/2016  04:00:00 2016-08-27 04:00:00   \n",
       "2  A002  R051  02-00-00   59 ST  08/27/2016  08:00:00 2016-08-27 08:00:00   \n",
       "3  A002  R051  02-00-00   59 ST  08/27/2016  12:00:00 2016-08-27 12:00:00   \n",
       "4  A002  R051  02-00-00   59 ST  08/27/2016  16:00:00 2016-08-27 16:00:00   \n",
       "\n",
       "   ENTRIES  \n",
       "0  5799442  \n",
       "1  5799463  \n",
       "2  5799492  \n",
       "3  5799610  \n",
       "4  5799833  "
      ]
     },
     "execution_count": 238,
     "metadata": {},
     "output_type": "execute_result"
    }
   ],
   "source": [
    "# turn data into time series\n",
    "ex_1_2= df.head()\n",
    "ex_1_2\n"
   ]
  },
  {
   "cell_type": "code",
   "execution_count": 239,
   "metadata": {
    "collapsed": true
   },
   "outputs": [],
   "source": [
    "# creat new frame and convert date column to datetime for 1-3, drop unnecessary cols\n",
    "dfDate = rawDf.drop(['LINENAME', 'DIVISION', 'DESC', 'EXITS', 'TIME'], axis = 1)\n",
    "dfDate['DATE'] = dfDate['DATE'].map(dtConvert)"
   ]
  },
  {
   "cell_type": "code",
   "execution_count": 240,
   "metadata": {
    "collapsed": false
   },
   "outputs": [
    {
     "data": {
      "text/plain": [
       "0    5799442\n",
       "1         21\n",
       "2         29\n",
       "3        118\n",
       "4        223\n",
       "Name: ENTRIES, dtype: float64"
      ]
     },
     "execution_count": 240,
     "metadata": {},
     "output_type": "execute_result"
    }
   ],
   "source": [
    "# calculate the entry count as diffrence between shifted entry column, will be off for the first value of each scp\n",
    "dfEntries = dfDate['ENTRIES'].sub(dfDate['ENTRIES'].shift(), fill_value = 0)\n",
    "dfEntries.head()"
   ]
  },
  {
   "cell_type": "code",
   "execution_count": 241,
   "metadata": {
    "collapsed": false
   },
   "outputs": [],
   "source": [
    "# drop the old entries column and replace it with the diffrence column from above\n",
    "dfDate = dfDate.drop('ENTRIES', axis = 1)\n",
    "dfDate = pd.concat([dfDate, dfEntries], axis = 1, join_axes = [dfDate.index])\n",
    "# concat c/a,unit,and station into a station key for each unique station,unit,ca combo\n",
    "dfDate['stationKey'] = dfDate['C/A'].astype(str).str.cat(dfDate.UNIT.astype(str),sep=', ').str.cat(dfDate.STATION.astype(str),sep=', ')"
   ]
  },
  {
   "cell_type": "code",
   "execution_count": 243,
   "metadata": {
    "collapsed": false
   },
   "outputs": [
    {
     "data": {
      "text/html": [
       "<div>\n",
       "<table border=\"1\" class=\"dataframe\">\n",
       "  <thead>\n",
       "    <tr style=\"text-align: right;\">\n",
       "      <th></th>\n",
       "      <th>stationKey</th>\n",
       "      <th>SCP</th>\n",
       "      <th>DATE</th>\n",
       "      <th>ENTRIES</th>\n",
       "    </tr>\n",
       "  </thead>\n",
       "  <tbody>\n",
       "    <tr>\n",
       "      <th>0</th>\n",
       "      <td>A002, R051, 59 ST</td>\n",
       "      <td>02-00-00</td>\n",
       "      <td>2016-08-27</td>\n",
       "      <td>5800121</td>\n",
       "    </tr>\n",
       "    <tr>\n",
       "      <th>1</th>\n",
       "      <td>A002, R051, 59 ST</td>\n",
       "      <td>02-00-00</td>\n",
       "      <td>2016-08-28</td>\n",
       "      <td>677</td>\n",
       "    </tr>\n",
       "    <tr>\n",
       "      <th>2</th>\n",
       "      <td>A002, R051, 59 ST</td>\n",
       "      <td>02-00-00</td>\n",
       "      <td>2016-08-29</td>\n",
       "      <td>1538</td>\n",
       "    </tr>\n",
       "    <tr>\n",
       "      <th>3</th>\n",
       "      <td>A002, R051, 59 ST</td>\n",
       "      <td>02-00-00</td>\n",
       "      <td>2016-08-30</td>\n",
       "      <td>1539</td>\n",
       "    </tr>\n",
       "    <tr>\n",
       "      <th>4</th>\n",
       "      <td>A002, R051, 59 ST</td>\n",
       "      <td>02-00-00</td>\n",
       "      <td>2016-08-31</td>\n",
       "      <td>1508</td>\n",
       "    </tr>\n",
       "  </tbody>\n",
       "</table>\n",
       "</div>"
      ],
      "text/plain": [
       "          stationKey       SCP       DATE  ENTRIES\n",
       "0  A002, R051, 59 ST  02-00-00 2016-08-27  5800121\n",
       "1  A002, R051, 59 ST  02-00-00 2016-08-28      677\n",
       "2  A002, R051, 59 ST  02-00-00 2016-08-29     1538\n",
       "3  A002, R051, 59 ST  02-00-00 2016-08-30     1539\n",
       "4  A002, R051, 59 ST  02-00-00 2016-08-31     1508"
      ]
     },
     "execution_count": 243,
     "metadata": {},
     "output_type": "execute_result"
    }
   ],
   "source": [
    "# ex 1-3 solution, group by station key, turnstile and date,  sum on result\n",
    "ex_1_3 = dfDate.groupby(['stationKey','SCP', 'DATE']).ENTRIES.sum().reset_index()\n",
    "ex_1_3.head()"
   ]
  },
  {
   "cell_type": "code",
   "execution_count": 244,
   "metadata": {
    "collapsed": false
   },
   "outputs": [
    {
     "data": {
      "text/plain": [
       "count    9.600200e+04\n",
       "mean     5.785296e-02\n",
       "std      9.972429e+07\n",
       "min     -2.147115e+09\n",
       "25%      1.880000e+02\n",
       "50%      8.520000e+02\n",
       "75%      1.828000e+03\n",
       "max      2.147113e+09\n",
       "Name: ENTRIES, dtype: float64"
      ]
     },
     "execution_count": 244,
     "metadata": {},
     "output_type": "execute_result"
    }
   ],
   "source": [
    "# for graphing we have to deal with the inaccurate values caused by our subtraction,  lets take a look\n",
    "# at summary statistics so we can get rid of those accurately\n",
    "ex_1_3.ENTRIES.describe()"
   ]
  },
  {
   "cell_type": "code",
   "execution_count": 245,
   "metadata": {
    "collapsed": true
   },
   "outputs": [
    {
     "data": {
      "text/plain": [
       "[2133.0,\n",
       " 2169.0,\n",
       " 2204.0,\n",
       " 2242.0,\n",
       " 2283.0,\n",
       " 2323.0,\n",
       " 2370.8300000000017,\n",
       " 2416.0,\n",
       " 2469.0,\n",
       " 2526.0,\n",
       " 2577.0,\n",
       " 2634.0,\n",
       " 2702.8600000000006,\n",
       " 2771.0,\n",
       " 2843.0,\n",
       " 2921.0,\n",
       " 3005.0,\n",
       " 3097.0,\n",
       " 3197.0,\n",
       " 3324.0,\n",
       " 3460.0,\n",
       " 3620.9049999999988,\n",
       " 3815.0,\n",
       " 4109.8300000000163,\n",
       " 4469.7599999999948,\n",
       " 5047.9250000000029,\n",
       " 7239.8600000000151,\n",
       " 103483.47500000104,\n",
       " 301439.39999999927,\n",
       " 605907.73499999079,\n",
       " 991413.09999999986,\n",
       " 1354568.1950000015,\n",
       " 1864254.5199999779,\n",
       " 2532437.6649999977,\n",
       " 3425696.5700000119,\n",
       " 4351459.4499999406]"
      ]
     },
     "execution_count": 245,
     "metadata": {},
     "output_type": "execute_result"
    }
   ],
   "source": [
    "# the diffrence between the mx and the 75th quantile is massive,  to get a closer look\n",
    "# we'll plot quantiles and see where they spike,  this will help us remove outliers\n",
    "quantiles = [ex_1_3.ENTRIES.quantile(x) for x in [y/1000 for y in range(800,980,5)]]\n"
   ]
  },
  {
   "cell_type": "code",
   "execution_count": 246,
   "metadata": {
    "collapsed": false
   },
   "outputs": [
    {
     "data": {
      "text/plain": [
       "[<matplotlib.lines.Line2D at 0x139f45358>]"
      ]
     },
     "execution_count": 246,
     "metadata": {},
     "output_type": "execute_result"
    },
    {
     "data": {
      "image/png": "[encoded data removed]",
      "text/plain": [
       "<matplotlib.figure.Figure at 0x120675a58>"
      ]
     },
     "metadata": {},
     "output_type": "display_data"
    }
   ],
   "source": [
    "plt.figure(figsize = (10,5))\n",
    "plt.plot(quantiles)"
   ]
  },
  {
   "cell_type": "code",
   "execution_count": 247,
   "metadata": {
    "collapsed": false
   },
   "outputs": [
    {
     "data": {
      "text/plain": [
       "7239.8600000000151"
      ]
     },
     "execution_count": 247,
     "metadata": {},
     "output_type": "execute_result"
    }
   ],
   "source": [
    "# as the graph shows, there is a steep increase beginning at the 27th value\n",
    "quantiles[26]"
   ]
  },
  {
   "cell_type": "code",
   "execution_count": 248,
   "metadata": {
    "collapsed": false
   },
   "outputs": [
    {
     "data": {
      "text/html": [
       "<div>\n",
       "<table border=\"1\" class=\"dataframe\">\n",
       "  <thead>\n",
       "    <tr style=\"text-align: right;\">\n",
       "      <th></th>\n",
       "      <th>stationKey</th>\n",
       "      <th>SCP</th>\n",
       "      <th>DATE</th>\n",
       "      <th>ENTRIES</th>\n",
       "    </tr>\n",
       "  </thead>\n",
       "  <tbody>\n",
       "    <tr>\n",
       "      <th>1</th>\n",
       "      <td>A002, R051, 59 ST</td>\n",
       "      <td>02-00-00</td>\n",
       "      <td>2016-08-28</td>\n",
       "      <td>677</td>\n",
       "    </tr>\n",
       "    <tr>\n",
       "      <th>2</th>\n",
       "      <td>A002, R051, 59 ST</td>\n",
       "      <td>02-00-00</td>\n",
       "      <td>2016-08-29</td>\n",
       "      <td>1538</td>\n",
       "    </tr>\n",
       "    <tr>\n",
       "      <th>3</th>\n",
       "      <td>A002, R051, 59 ST</td>\n",
       "      <td>02-00-00</td>\n",
       "      <td>2016-08-30</td>\n",
       "      <td>1539</td>\n",
       "    </tr>\n",
       "    <tr>\n",
       "      <th>4</th>\n",
       "      <td>A002, R051, 59 ST</td>\n",
       "      <td>02-00-00</td>\n",
       "      <td>2016-08-31</td>\n",
       "      <td>1508</td>\n",
       "    </tr>\n",
       "    <tr>\n",
       "      <th>5</th>\n",
       "      <td>A002, R051, 59 ST</td>\n",
       "      <td>02-00-00</td>\n",
       "      <td>2016-09-01</td>\n",
       "      <td>1607</td>\n",
       "    </tr>\n",
       "  </tbody>\n",
       "</table>\n",
       "</div>"
      ],
      "text/plain": [
       "          stationKey       SCP       DATE  ENTRIES\n",
       "1  A002, R051, 59 ST  02-00-00 2016-08-28      677\n",
       "2  A002, R051, 59 ST  02-00-00 2016-08-29     1538\n",
       "3  A002, R051, 59 ST  02-00-00 2016-08-30     1539\n",
       "4  A002, R051, 59 ST  02-00-00 2016-08-31     1508\n",
       "5  A002, R051, 59 ST  02-00-00 2016-09-01     1607"
      ]
     },
     "execution_count": 248,
     "metadata": {},
     "output_type": "execute_result"
    }
   ],
   "source": [
    "# we'll get rid of anything higher than 10000 as it's likely do to inaccurate counting, \n",
    "# errors in the data, or the effect of the subtraction we did\n",
    "# anything less than 0 is also likely an error in the data,  that can go too,\n",
    "# part of this is decided by the quantiles, part by the fact that there are 0nly 86000 seconds in a day,\n",
    "# and it's very unlikely any 1 turnstile had an entry every 8.6 seconds consistently for 24 hours\n",
    "\n",
    "ex_1_3 = ex_1_3.loc[(ex_1_3.ENTRIES > 0)&(ex_1_3.ENTRIES < 10000)]\n",
    "ex_1_3.head()"
   ]
  },
  {
   "cell_type": "code",
   "execution_count": 249,
   "metadata": {
    "collapsed": false
   },
   "outputs": [
    {
     "data": {
      "text/html": [
       "<div>\n",
       "<table border=\"1\" class=\"dataframe\">\n",
       "  <thead>\n",
       "    <tr style=\"text-align: right;\">\n",
       "      <th></th>\n",
       "      <th>stationKey</th>\n",
       "      <th>SCP</th>\n",
       "      <th>DATE</th>\n",
       "      <th>ENTRIES</th>\n",
       "    </tr>\n",
       "  </thead>\n",
       "  <tbody>\n",
       "    <tr>\n",
       "      <th>1</th>\n",
       "      <td>A002, R051, 59 ST</td>\n",
       "      <td>02-00-00</td>\n",
       "      <td>2016-08-28</td>\n",
       "      <td>677</td>\n",
       "    </tr>\n",
       "    <tr>\n",
       "      <th>2</th>\n",
       "      <td>A002, R051, 59 ST</td>\n",
       "      <td>02-00-00</td>\n",
       "      <td>2016-08-29</td>\n",
       "      <td>1538</td>\n",
       "    </tr>\n",
       "    <tr>\n",
       "      <th>3</th>\n",
       "      <td>A002, R051, 59 ST</td>\n",
       "      <td>02-00-00</td>\n",
       "      <td>2016-08-30</td>\n",
       "      <td>1539</td>\n",
       "    </tr>\n",
       "    <tr>\n",
       "      <th>4</th>\n",
       "      <td>A002, R051, 59 ST</td>\n",
       "      <td>02-00-00</td>\n",
       "      <td>2016-08-31</td>\n",
       "      <td>1508</td>\n",
       "    </tr>\n",
       "    <tr>\n",
       "      <th>5</th>\n",
       "      <td>A002, R051, 59 ST</td>\n",
       "      <td>02-00-00</td>\n",
       "      <td>2016-09-01</td>\n",
       "      <td>1607</td>\n",
       "    </tr>\n",
       "  </tbody>\n",
       "</table>\n",
       "</div>"
      ],
      "text/plain": [
       "          stationKey       SCP       DATE  ENTRIES\n",
       "1  A002, R051, 59 ST  02-00-00 2016-08-28      677\n",
       "2  A002, R051, 59 ST  02-00-00 2016-08-29     1538\n",
       "3  A002, R051, 59 ST  02-00-00 2016-08-30     1539\n",
       "4  A002, R051, 59 ST  02-00-00 2016-08-31     1508\n",
       "5  A002, R051, 59 ST  02-00-00 2016-09-01     1607"
      ]
     },
     "execution_count": 249,
     "metadata": {},
     "output_type": "execute_result"
    }
   ],
   "source": [
    "# now we filter down to the turnstile level at one station unit to create a plot\n",
    "ex_1_4 = ex_1_3.loc[(ex_1_3.stationKey=='A002, R051, 59 ST')&(ex_1_3.SCP=='02-00-00')]\n",
    "ex_1_4.head()"
   ]
  },
  {
   "cell_type": "code",
   "execution_count": 250,
   "metadata": {
    "collapsed": false
   },
   "outputs": [
    {
     "data": {
      "text/plain": [
       "[<matplotlib.lines.Line2D at 0x128701cf8>]"
      ]
     },
     "execution_count": 250,
     "metadata": {},
     "output_type": "execute_result"
    },
    {
     "data": {
      "image/png": "[encoded data removed]",
      "text/plain": [
       "<matplotlib.figure.Figure at 0x139f3e518>"
      ]
     },
     "metadata": {},
     "output_type": "display_data"
    }
   ],
   "source": [
    "plt.figure(figsize=(10,3))\n",
    "plt.plot(ex_1_4.DATE,ex_1_4.ENTRIES)"
   ]
  },
  {
   "cell_type": "code",
   "execution_count": 251,
   "metadata": {
    "collapsed": false
   },
   "outputs": [
    {
     "data": {
      "text/html": [
       "<div>\n",
       "<table border=\"1\" class=\"dataframe\">\n",
       "  <thead>\n",
       "    <tr style=\"text-align: right;\">\n",
       "      <th></th>\n",
       "      <th>stationKey</th>\n",
       "      <th>DATE</th>\n",
       "      <th>ENTRIES</th>\n",
       "    </tr>\n",
       "  </thead>\n",
       "  <tbody>\n",
       "    <tr>\n",
       "      <th>0</th>\n",
       "      <td>A002, R051, 59 ST</td>\n",
       "      <td>2016-08-28</td>\n",
       "      <td>7896</td>\n",
       "    </tr>\n",
       "    <tr>\n",
       "      <th>1</th>\n",
       "      <td>A002, R051, 59 ST</td>\n",
       "      <td>2016-08-29</td>\n",
       "      <td>15462</td>\n",
       "    </tr>\n",
       "    <tr>\n",
       "      <th>2</th>\n",
       "      <td>A002, R051, 59 ST</td>\n",
       "      <td>2016-08-30</td>\n",
       "      <td>16622</td>\n",
       "    </tr>\n",
       "    <tr>\n",
       "      <th>3</th>\n",
       "      <td>A002, R051, 59 ST</td>\n",
       "      <td>2016-08-31</td>\n",
       "      <td>16557</td>\n",
       "    </tr>\n",
       "    <tr>\n",
       "      <th>4</th>\n",
       "      <td>A002, R051, 59 ST</td>\n",
       "      <td>2016-09-01</td>\n",
       "      <td>16464</td>\n",
       "    </tr>\n",
       "    <tr>\n",
       "      <th>5</th>\n",
       "      <td>A002, R051, 59 ST</td>\n",
       "      <td>2016-09-02</td>\n",
       "      <td>15919</td>\n",
       "    </tr>\n",
       "    <tr>\n",
       "      <th>6</th>\n",
       "      <td>A002, R051, 59 ST</td>\n",
       "      <td>2016-09-04</td>\n",
       "      <td>7303</td>\n",
       "    </tr>\n",
       "    <tr>\n",
       "      <th>7</th>\n",
       "      <td>A002, R051, 59 ST</td>\n",
       "      <td>2016-09-05</td>\n",
       "      <td>7105</td>\n",
       "    </tr>\n",
       "    <tr>\n",
       "      <th>8</th>\n",
       "      <td>A002, R051, 59 ST</td>\n",
       "      <td>2016-09-06</td>\n",
       "      <td>15694</td>\n",
       "    </tr>\n",
       "    <tr>\n",
       "      <th>9</th>\n",
       "      <td>A002, R051, 59 ST</td>\n",
       "      <td>2016-09-07</td>\n",
       "      <td>17425</td>\n",
       "    </tr>\n",
       "    <tr>\n",
       "      <th>10</th>\n",
       "      <td>A002, R051, 59 ST</td>\n",
       "      <td>2016-09-08</td>\n",
       "      <td>18063</td>\n",
       "    </tr>\n",
       "    <tr>\n",
       "      <th>11</th>\n",
       "      <td>A002, R051, 59 ST</td>\n",
       "      <td>2016-09-09</td>\n",
       "      <td>17826</td>\n",
       "    </tr>\n",
       "    <tr>\n",
       "      <th>12</th>\n",
       "      <td>A002, R051, 59 ST</td>\n",
       "      <td>2016-09-11</td>\n",
       "      <td>8339</td>\n",
       "    </tr>\n",
       "    <tr>\n",
       "      <th>13</th>\n",
       "      <td>A002, R051, 59 ST</td>\n",
       "      <td>2016-09-12</td>\n",
       "      <td>16101</td>\n",
       "    </tr>\n",
       "    <tr>\n",
       "      <th>14</th>\n",
       "      <td>A002, R051, 59 ST</td>\n",
       "      <td>2016-09-13</td>\n",
       "      <td>18075</td>\n",
       "    </tr>\n",
       "  </tbody>\n",
       "</table>\n",
       "</div>"
      ],
      "text/plain": [
       "           stationKey       DATE  ENTRIES\n",
       "0   A002, R051, 59 ST 2016-08-28     7896\n",
       "1   A002, R051, 59 ST 2016-08-29    15462\n",
       "2   A002, R051, 59 ST 2016-08-30    16622\n",
       "3   A002, R051, 59 ST 2016-08-31    16557\n",
       "4   A002, R051, 59 ST 2016-09-01    16464\n",
       "5   A002, R051, 59 ST 2016-09-02    15919\n",
       "6   A002, R051, 59 ST 2016-09-04     7303\n",
       "7   A002, R051, 59 ST 2016-09-05     7105\n",
       "8   A002, R051, 59 ST 2016-09-06    15694\n",
       "9   A002, R051, 59 ST 2016-09-07    17425\n",
       "10  A002, R051, 59 ST 2016-09-08    18063\n",
       "11  A002, R051, 59 ST 2016-09-09    17826\n",
       "12  A002, R051, 59 ST 2016-09-11     8339\n",
       "13  A002, R051, 59 ST 2016-09-12    16101\n",
       "14  A002, R051, 59 ST 2016-09-13    18075"
      ]
     },
     "execution_count": 251,
     "metadata": {},
     "output_type": "execute_result"
    }
   ],
   "source": [
    "# initialize a new DF transfer values from 1_3, group by station key, sum on entries\n",
    "# this shows us how many entries happened for 1 day at any 1 station\n",
    "ex_1_5= pd.DataFrame()\n",
    "ex_1_5[['stationKey','DATE','ENTRIES']] = ex_1_3[['stationKey','DATE','ENTRIES']]\n",
    "ex_1_5 = ex_1_5.groupby(['stationKey', 'DATE' ]).ENTRIES.sum().reset_index()\n",
    "ex_1_5.head(15)"
   ]
  },
  {
   "cell_type": "code",
   "execution_count": 252,
   "metadata": {
    "collapsed": false
   },
   "outputs": [
    {
     "data": {
      "text/html": [
       "<div>\n",
       "<table border=\"1\" class=\"dataframe\">\n",
       "  <thead>\n",
       "    <tr style=\"text-align: right;\">\n",
       "      <th></th>\n",
       "      <th>stationKey</th>\n",
       "      <th>DATE</th>\n",
       "      <th>ENTRIES</th>\n",
       "    </tr>\n",
       "  </thead>\n",
       "  <tbody>\n",
       "    <tr>\n",
       "      <th>0</th>\n",
       "      <td>A002, R051, 59 ST</td>\n",
       "      <td>2016-08-28</td>\n",
       "      <td>7896</td>\n",
       "    </tr>\n",
       "    <tr>\n",
       "      <th>1</th>\n",
       "      <td>A002, R051, 59 ST</td>\n",
       "      <td>2016-08-29</td>\n",
       "      <td>15462</td>\n",
       "    </tr>\n",
       "    <tr>\n",
       "      <th>2</th>\n",
       "      <td>A002, R051, 59 ST</td>\n",
       "      <td>2016-08-30</td>\n",
       "      <td>16622</td>\n",
       "    </tr>\n",
       "    <tr>\n",
       "      <th>3</th>\n",
       "      <td>A002, R051, 59 ST</td>\n",
       "      <td>2016-08-31</td>\n",
       "      <td>16557</td>\n",
       "    </tr>\n",
       "    <tr>\n",
       "      <th>4</th>\n",
       "      <td>A002, R051, 59 ST</td>\n",
       "      <td>2016-09-01</td>\n",
       "      <td>16464</td>\n",
       "    </tr>\n",
       "    <tr>\n",
       "      <th>5</th>\n",
       "      <td>A002, R051, 59 ST</td>\n",
       "      <td>2016-09-02</td>\n",
       "      <td>15919</td>\n",
       "    </tr>\n",
       "    <tr>\n",
       "      <th>6</th>\n",
       "      <td>A002, R051, 59 ST</td>\n",
       "      <td>2016-09-04</td>\n",
       "      <td>7303</td>\n",
       "    </tr>\n",
       "    <tr>\n",
       "      <th>7</th>\n",
       "      <td>A002, R051, 59 ST</td>\n",
       "      <td>2016-09-05</td>\n",
       "      <td>7105</td>\n",
       "    </tr>\n",
       "    <tr>\n",
       "      <th>8</th>\n",
       "      <td>A002, R051, 59 ST</td>\n",
       "      <td>2016-09-06</td>\n",
       "      <td>15694</td>\n",
       "    </tr>\n",
       "    <tr>\n",
       "      <th>9</th>\n",
       "      <td>A002, R051, 59 ST</td>\n",
       "      <td>2016-09-07</td>\n",
       "      <td>17425</td>\n",
       "    </tr>\n",
       "    <tr>\n",
       "      <th>10</th>\n",
       "      <td>A002, R051, 59 ST</td>\n",
       "      <td>2016-09-08</td>\n",
       "      <td>18063</td>\n",
       "    </tr>\n",
       "    <tr>\n",
       "      <th>11</th>\n",
       "      <td>A002, R051, 59 ST</td>\n",
       "      <td>2016-09-09</td>\n",
       "      <td>17826</td>\n",
       "    </tr>\n",
       "    <tr>\n",
       "      <th>12</th>\n",
       "      <td>A002, R051, 59 ST</td>\n",
       "      <td>2016-09-11</td>\n",
       "      <td>8339</td>\n",
       "    </tr>\n",
       "    <tr>\n",
       "      <th>13</th>\n",
       "      <td>A002, R051, 59 ST</td>\n",
       "      <td>2016-09-12</td>\n",
       "      <td>16101</td>\n",
       "    </tr>\n",
       "    <tr>\n",
       "      <th>14</th>\n",
       "      <td>A002, R051, 59 ST</td>\n",
       "      <td>2016-09-13</td>\n",
       "      <td>18075</td>\n",
       "    </tr>\n",
       "    <tr>\n",
       "      <th>15</th>\n",
       "      <td>A002, R051, 59 ST</td>\n",
       "      <td>2016-09-14</td>\n",
       "      <td>18213</td>\n",
       "    </tr>\n",
       "    <tr>\n",
       "      <th>16</th>\n",
       "      <td>A002, R051, 59 ST</td>\n",
       "      <td>2016-09-15</td>\n",
       "      <td>18419</td>\n",
       "    </tr>\n",
       "    <tr>\n",
       "      <th>17</th>\n",
       "      <td>A002, R051, 59 ST</td>\n",
       "      <td>2016-09-16</td>\n",
       "      <td>18315</td>\n",
       "    </tr>\n",
       "  </tbody>\n",
       "</table>\n",
       "</div>"
      ],
      "text/plain": [
       "           stationKey       DATE  ENTRIES\n",
       "0   A002, R051, 59 ST 2016-08-28     7896\n",
       "1   A002, R051, 59 ST 2016-08-29    15462\n",
       "2   A002, R051, 59 ST 2016-08-30    16622\n",
       "3   A002, R051, 59 ST 2016-08-31    16557\n",
       "4   A002, R051, 59 ST 2016-09-01    16464\n",
       "5   A002, R051, 59 ST 2016-09-02    15919\n",
       "6   A002, R051, 59 ST 2016-09-04     7303\n",
       "7   A002, R051, 59 ST 2016-09-05     7105\n",
       "8   A002, R051, 59 ST 2016-09-06    15694\n",
       "9   A002, R051, 59 ST 2016-09-07    17425\n",
       "10  A002, R051, 59 ST 2016-09-08    18063\n",
       "11  A002, R051, 59 ST 2016-09-09    17826\n",
       "12  A002, R051, 59 ST 2016-09-11     8339\n",
       "13  A002, R051, 59 ST 2016-09-12    16101\n",
       "14  A002, R051, 59 ST 2016-09-13    18075\n",
       "15  A002, R051, 59 ST 2016-09-14    18213\n",
       "16  A002, R051, 59 ST 2016-09-15    18419\n",
       "17  A002, R051, 59 ST 2016-09-16    18315"
      ]
     },
     "execution_count": 252,
     "metadata": {},
     "output_type": "execute_result"
    }
   ],
   "source": [
    "# drill down to the same station we looked at in 1_4\n",
    "ex_1_6 = ex_1_5.loc[(ex_1_5.stationKey=='A002, R051, 59 ST')]\n",
    "ex_1_6"
   ]
  },
  {
   "cell_type": "code",
   "execution_count": 253,
   "metadata": {
    "collapsed": false
   },
   "outputs": [
    {
     "data": {
      "text/plain": [
       "[<matplotlib.lines.Line2D at 0x14325abe0>]"
      ]
     },
     "execution_count": 253,
     "metadata": {},
     "output_type": "execute_result"
    },
    {
     "data": {
      "image/png": "[encoded data removed]",
      "text/plain": [
       "<matplotlib.figure.Figure at 0x139fae978>"
      ]
     },
     "metadata": {},
     "output_type": "display_data"
    }
   ],
   "source": [
    "# ex_1_7 plot timeseries for 1 station for all weeks sampled\n",
    "plt.figure(figsize=(10,3))\n",
    "plt.plot(ex_1_6.DATE,ex_1_6.ENTRIES);"
   ]
  },
  {
   "cell_type": "code",
   "execution_count": 280,
   "metadata": {
    "collapsed": false
   },
   "outputs": [
    {
     "data": {
      "text/html": [
       "<div>\n",
       "<table border=\"1\" class=\"dataframe\">\n",
       "  <thead>\n",
       "    <tr style=\"text-align: right;\">\n",
       "      <th></th>\n",
       "      <th>stationKey</th>\n",
       "      <th>DATE</th>\n",
       "      <th>weekOfYear</th>\n",
       "      <th>ENTRIES</th>\n",
       "    </tr>\n",
       "  </thead>\n",
       "  <tbody>\n",
       "    <tr>\n",
       "      <th>7</th>\n",
       "      <td>A002, R051, 59 ST</td>\n",
       "      <td>2016-09-05</td>\n",
       "      <td>36</td>\n",
       "      <td>7105</td>\n",
       "    </tr>\n",
       "    <tr>\n",
       "      <th>8</th>\n",
       "      <td>A002, R051, 59 ST</td>\n",
       "      <td>2016-09-06</td>\n",
       "      <td>36</td>\n",
       "      <td>15694</td>\n",
       "    </tr>\n",
       "    <tr>\n",
       "      <th>9</th>\n",
       "      <td>A002, R051, 59 ST</td>\n",
       "      <td>2016-09-07</td>\n",
       "      <td>36</td>\n",
       "      <td>17425</td>\n",
       "    </tr>\n",
       "    <tr>\n",
       "      <th>10</th>\n",
       "      <td>A002, R051, 59 ST</td>\n",
       "      <td>2016-09-08</td>\n",
       "      <td>36</td>\n",
       "      <td>18063</td>\n",
       "    </tr>\n",
       "    <tr>\n",
       "      <th>11</th>\n",
       "      <td>A002, R051, 59 ST</td>\n",
       "      <td>2016-09-09</td>\n",
       "      <td>36</td>\n",
       "      <td>17826</td>\n",
       "    </tr>\n",
       "  </tbody>\n",
       "</table>\n",
       "</div>"
      ],
      "text/plain": [
       "           stationKey       DATE  weekOfYear  ENTRIES\n",
       "7   A002, R051, 59 ST 2016-09-05          36     7105\n",
       "8   A002, R051, 59 ST 2016-09-06          36    15694\n",
       "9   A002, R051, 59 ST 2016-09-07          36    17425\n",
       "10  A002, R051, 59 ST 2016-09-08          36    18063\n",
       "11  A002, R051, 59 ST 2016-09-09          36    17826"
      ]
     },
     "execution_count": 280,
     "metadata": {},
     "output_type": "execute_result"
    }
   ],
   "source": [
    "# creat a new frame, fill with values from 1_5 \n",
    "ex_1_8 = pd.DataFrame()\n",
    "ex_1_8[['stationKey','DATE','ENTRIES']] = ex_1_5[['stationKey','DATE','ENTRIES']] \n",
    "\n",
    "# add week of year so we can filter on that condition\n",
    "ex_1_8['weekOfYear'] = ex_1_8.DATE.dt.weekofyear\n",
    "ex_1_8 = ex_1_8.groupby(['stationKey', 'DATE', 'weekOfYear' ]).ENTRIES.sum().reset_index()\n",
    "\n",
    "# create a view from which we can plot 1 week at 1 station\n",
    "ex8 = ex_1_8.loc[(ex_1_8.weekOfYear ==36)&(ex_1_8.stationKey =='A002, R051, 59 ST')]\n",
    "ex8.head()"
   ]
  },
  {
   "cell_type": "code",
   "execution_count": 281,
   "metadata": {
    "collapsed": false
   },
   "outputs": [
    {
     "data": {
      "text/plain": [
       "[<matplotlib.lines.Line2D at 0x14430db00>]"
      ]
     },
     "execution_count": 281,
     "metadata": {},
     "output_type": "execute_result"
    },
    {
     "data": {
      "image/png": "[encoded data removed]",
      "text/plain": [
       "<matplotlib.figure.Figure at 0x14320cc88>"
      ]
     },
     "metadata": {},
     "output_type": "display_data"
    }
   ],
   "source": [
    "plt.figure(figsize=(10,3))\n",
    "plt.plot(ex8.DATE,ex8.ENTRIES)"
   ]
  },
  {
   "cell_type": "code",
   "execution_count": 303,
   "metadata": {
    "collapsed": false
   },
   "outputs": [
    {
     "data": {
      "text/html": [
       "<div>\n",
       "<table border=\"1\" class=\"dataframe\">\n",
       "  <thead>\n",
       "    <tr style=\"text-align: right;\">\n",
       "      <th></th>\n",
       "      <th>stationKey</th>\n",
       "      <th>ENTRIES</th>\n",
       "    </tr>\n",
       "  </thead>\n",
       "  <tbody>\n",
       "    <tr>\n",
       "      <th>551</th>\n",
       "      <td>R238, R046, GRD CNTRL-42 ST</td>\n",
       "      <td>901456</td>\n",
       "    </tr>\n",
       "    <tr>\n",
       "      <th>566</th>\n",
       "      <td>R250, R179, 86 ST</td>\n",
       "      <td>778083</td>\n",
       "    </tr>\n",
       "    <tr>\n",
       "      <th>474</th>\n",
       "      <td>R138, R293, 34 ST-PENN STA</td>\n",
       "      <td>740592</td>\n",
       "    </tr>\n",
       "    <tr>\n",
       "      <th>677</th>\n",
       "      <td>R533, R055, FLUSHING-MAIN</td>\n",
       "      <td>730308</td>\n",
       "    </tr>\n",
       "    <tr>\n",
       "      <th>325</th>\n",
       "      <td>N324, R018, JKSN HT-ROOSVLT</td>\n",
       "      <td>631043</td>\n",
       "    </tr>\n",
       "    <tr>\n",
       "      <th>206</th>\n",
       "      <td>N051, R084, 59 ST COLUMBUS</td>\n",
       "      <td>614099</td>\n",
       "    </tr>\n",
       "    <tr>\n",
       "      <th>553</th>\n",
       "      <td>R240, R047, GRD CNTRL-42 ST</td>\n",
       "      <td>608726</td>\n",
       "    </tr>\n",
       "    <tr>\n",
       "      <th>562</th>\n",
       "      <td>R246, R177, 68ST-HUNTER CO</td>\n",
       "      <td>551843</td>\n",
       "    </tr>\n",
       "    <tr>\n",
       "      <th>371</th>\n",
       "      <td>N506, R022, 34 ST-HERALD SQ</td>\n",
       "      <td>547840</td>\n",
       "    </tr>\n",
       "    <tr>\n",
       "      <th>536</th>\n",
       "      <td>R221, R170, 14 ST-UNION SQ</td>\n",
       "      <td>534249</td>\n",
       "    </tr>\n",
       "    <tr>\n",
       "      <th>423</th>\n",
       "      <td>N606, R025, JAMAICA CENTER</td>\n",
       "      <td>500679</td>\n",
       "    </tr>\n",
       "    <tr>\n",
       "      <th>121</th>\n",
       "      <td>H009, R235, BEDFORD AV</td>\n",
       "      <td>472384</td>\n",
       "    </tr>\n",
       "    <tr>\n",
       "      <th>226</th>\n",
       "      <td>N083, R138, W 4 ST-WASH SQ</td>\n",
       "      <td>458772</td>\n",
       "    </tr>\n",
       "    <tr>\n",
       "      <th>364</th>\n",
       "      <td>N500, R020, 47-50 STS ROCK</td>\n",
       "      <td>443941</td>\n",
       "    </tr>\n",
       "    <tr>\n",
       "      <th>564</th>\n",
       "      <td>R248, R178, 77 ST</td>\n",
       "      <td>438256</td>\n",
       "    </tr>\n",
       "  </tbody>\n",
       "</table>\n",
       "</div>"
      ],
      "text/plain": [
       "                      stationKey  ENTRIES\n",
       "551  R238, R046, GRD CNTRL-42 ST   901456\n",
       "566            R250, R179, 86 ST   778083\n",
       "474   R138, R293, 34 ST-PENN STA   740592\n",
       "677    R533, R055, FLUSHING-MAIN   730308\n",
       "325  N324, R018, JKSN HT-ROOSVLT   631043\n",
       "206   N051, R084, 59 ST COLUMBUS   614099\n",
       "553  R240, R047, GRD CNTRL-42 ST   608726\n",
       "562   R246, R177, 68ST-HUNTER CO   551843\n",
       "371  N506, R022, 34 ST-HERALD SQ   547840\n",
       "536   R221, R170, 14 ST-UNION SQ   534249\n",
       "423   N606, R025, JAMAICA CENTER   500679\n",
       "121       H009, R235, BEDFORD AV   472384\n",
       "226   N083, R138, W 4 ST-WASH SQ   458772\n",
       "364   N500, R020, 47-50 STS ROCK   443941\n",
       "564            R248, R178, 77 ST   438256"
      ]
     },
     "execution_count": 303,
     "metadata": {},
     "output_type": "execute_result"
    }
   ],
   "source": [
    "\n",
    "# group by stations and sum on entries over multiple weeks, sort entry counts descending\n",
    "\n",
    "ex_1_9 = ex_1_8.groupby(['stationKey']).ENTRIES.sum().reset_index()\n",
    "ex_1_9.sort_values('ENTRIES',ascending=False,inplace=True)\n",
    "ex_1_9.head(15)\n"
   ]
  },
  {
   "cell_type": "code",
   "execution_count": 304,
   "metadata": {
    "collapsed": false,
    "scrolled": true
   },
   "outputs": [
    {
     "data": {
      "image/png": "[encoded data removed]",
      "text/plain": [
       "<matplotlib.figure.Figure at 0x16948cdd8>"
      ]
     },
     "metadata": {},
     "output_type": "display_data"
    }
   ],
   "source": [
    "# create a histogram of total entry counts \n",
    "ex_1_10 = ex_1_9.ENTRIES\n",
    "plt.figure(figsize = (12, 12))\n",
    "plt.hist(ex_1_10,bins=75);"
   ]
  }
 ],
 "metadata": {
  "kernelspec": {
   "display_name": "Python 3",
   "language": "python",
   "name": "python3"
  },
  "language_info": {
   "codemirror_mode": {
    "name": "ipython",
    "version": 3
   },
   "file_extension": ".py",
   "mimetype": "text/x-python",
   "name": "python",
   "nbconvert_exporter": "python",
   "pygments_lexer": "ipython3",
   "version": "3.5.2"
  }
 },
 "nbformat": 4,
 "nbformat_minor": 0
}
