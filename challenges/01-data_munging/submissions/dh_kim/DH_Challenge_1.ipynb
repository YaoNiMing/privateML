{
 "cells": [
  {
   "cell_type": "markdown",
   "metadata": {},
   "source": [
    "# Challenge Set 1:  MTA Turnstile Data\n",
    "#### Exercise 1.1"
   ]
  },
  {
   "cell_type": "markdown",
   "metadata": {},
   "source": [
    "- Open up a new Jupyter notebook\n",
    "- Download a few MTA turnstile data files\n",
    "- Open up a file, use csv reader to read it, make a python dict where\n",
    "  there is a key for each (C/A, UNIT, SCP, STATION). These are the\n",
    "  first four columns. The value for this key should be a list of\n",
    "  lists. Each list in the list is the rest of the columns in a\n",
    "  row. For example, one key-value pair should look like\n",
    "\n",
    "\n",
    "{    ('A002','R051','02-00-00','LEXINGTON AVE'):\n",
    "[\n",
    "['NQR456', 'BMT', '01/03/2015', '03:00:00', 'REGULAR', '0004945474', '0001675324'],\n",
    "['NQR456', 'BMT', '01/03/2015', '07:00:00', 'REGULAR', '0004945478', '0001675333'],\n",
    "['NQR456', 'BMT', '01/03/2015', '11:00:00', 'REGULAR', '0004945515', '0001675364'],\n",
    "...\n",
    "]\n",
    "}"
   ]
  },
  {
   "cell_type": "code",
   "execution_count": 40,
   "metadata": {
    "collapsed": false
   },
   "outputs": [],
   "source": [
    "import urllib2\n",
    "response = urllib2.urlopen('http://web.mta.info/developers/turnstile.html')\n",
    "main_doc = response.read() "
   ]
  },
  {
   "cell_type": "code",
   "execution_count": 41,
   "metadata": {
    "collapsed": true
   },
   "outputs": [],
   "source": [
    "re1='(data)'\n",
    "re2='(\\\\/)'\n",
    "re3='(nyct)'\n",
    "re4='(\\\\/)'\n",
    "re5='(turnstile)'\n",
    "re6='(\\\\/)'\n",
    "re7='(turnstile)'\n",
    "re8='(_)'\n",
    "re9='.*?'\n",
    "re10='(\\\\.)'\n",
    "re11='(txt)'\n",
    "\n",
    "rg = re.compile(re1+re2+re3+re4+re5+re6+re7+re8+re9+re10+re11,re.IGNORECASE|re.DOTALL)"
   ]
  },
  {
   "cell_type": "code",
   "execution_count": 42,
   "metadata": {
    "collapsed": false
   },
   "outputs": [],
   "source": [
    "from bs4 import BeautifulSoup\n",
    "import re \n",
    "\n",
    "def txt_link_downloader(main_link):\n",
    "\n",
    "    soup = BeautifulSoup(main_link, 'html.parser')\n",
    "\n",
    "    list_of_links = []\n",
    "    \n",
    "    for a in soup.find_all('a', href=True):\n",
    "        if re.search(rg,a['href']):  \n",
    "            list_of_links.append(a['href'])\n",
    "\n",
    "    return list_of_links\n",
    "\n",
    "\n",
    "list_of_links = txt_link_downloader(main_doc)\n",
    "\n",
    "formatted_links = map(lambda link: 'http://web.mta.info/developers/'+link, list_of_links)\n",
    "\n",
    "sorted_list = sorted(formatted_links, reverse=True)"
   ]
  },
  {
   "cell_type": "code",
   "execution_count": 46,
   "metadata": {
    "collapsed": true
   },
   "outputs": [],
   "source": [
    "import pandas as pd\n",
    "import urllib\n",
    "\n",
    "def to_csv_downloader(html_list, n_limit): \n",
    "    csv_opener = urllib.URLopener()\n",
    "    for html_link in html_list[:n_limit]: \n",
    "        new_name = html_link[-10:-4] + '.csv'\n",
    "        csv_opener.retrieve(html_link,new_name)\n",
    "        \n",
    "to_csv_downloader(sorted_list,2) # download files "
   ]
  },
  {
   "cell_type": "code",
   "execution_count": 114,
   "metadata": {
    "collapsed": false
   },
   "outputs": [],
   "source": [
    "import glob, os\n",
    "import pandas as pd \n",
    "import csv\n",
    "\n",
    "def read_dataframe():\n",
    "    csv_list = []\n",
    "    for csv_file_name in glob.glob(('[0-9]'*6+'.csv')):\n",
    "        csv_list.append(pd.read_csv(csv_file_name))\n",
    "    return pd.concat(csv_list)\n",
    "\n",
    "df = read_dataframe()"
   ]
  },
  {
   "cell_type": "code",
   "execution_count": 155,
   "metadata": {
    "collapsed": false
   },
   "outputs": [
    {
     "data": {
      "text/html": [
       "<div>\n",
       "<table border=\"1\" class=\"dataframe\">\n",
       "  <thead>\n",
       "    <tr style=\"text-align: right;\">\n",
       "      <th></th>\n",
       "      <th>C/A</th>\n",
       "      <th>UNIT</th>\n",
       "      <th>SCP</th>\n",
       "      <th>STATION</th>\n",
       "      <th>LINENAME</th>\n",
       "      <th>DIVISION</th>\n",
       "      <th>DATE</th>\n",
       "      <th>TIME</th>\n",
       "      <th>DESC</th>\n",
       "      <th>ENTRIES</th>\n",
       "      <th>EXITS</th>\n",
       "      <th>DATETIME</th>\n",
       "      <th>ENTERED</th>\n",
       "    </tr>\n",
       "  </thead>\n",
       "  <tbody>\n",
       "    <tr>\n",
       "      <th>0</th>\n",
       "      <td>A002</td>\n",
       "      <td>R051</td>\n",
       "      <td>02-00-00</td>\n",
       "      <td>59 ST</td>\n",
       "      <td>NQR456</td>\n",
       "      <td>BMT</td>\n",
       "      <td>09/10/2016</td>\n",
       "      <td>00:00:00</td>\n",
       "      <td>REGULAR</td>\n",
       "      <td>5817505</td>\n",
       "      <td>1971936</td>\n",
       "      <td>2016-09-10 00:00:00</td>\n",
       "      <td></td>\n",
       "    </tr>\n",
       "    <tr>\n",
       "      <th>1</th>\n",
       "      <td>A002</td>\n",
       "      <td>R051</td>\n",
       "      <td>02-00-00</td>\n",
       "      <td>59 ST</td>\n",
       "      <td>NQR456</td>\n",
       "      <td>BMT</td>\n",
       "      <td>09/10/2016</td>\n",
       "      <td>04:00:00</td>\n",
       "      <td>REGULAR</td>\n",
       "      <td>5817544</td>\n",
       "      <td>1971940</td>\n",
       "      <td>2016-09-10 04:00:00</td>\n",
       "      <td></td>\n",
       "    </tr>\n",
       "  </tbody>\n",
       "</table>\n",
       "</div>"
      ],
      "text/plain": [
       "    C/A  UNIT       SCP STATION LINENAME DIVISION        DATE      TIME  \\\n",
       "0  A002  R051  02-00-00   59 ST   NQR456      BMT  09/10/2016  00:00:00   \n",
       "1  A002  R051  02-00-00   59 ST   NQR456      BMT  09/10/2016  04:00:00   \n",
       "\n",
       "      DESC  ENTRIES  \\\n",
       "0  REGULAR  5817505   \n",
       "1  REGULAR  5817544   \n",
       "\n",
       "   EXITS                                                                 \\\n",
       "0                                            1971936                      \n",
       "1                                            1971940                      \n",
       "\n",
       "             DATETIME ENTERED  \n",
       "0 2016-09-10 00:00:00          \n",
       "1 2016-09-10 04:00:00          "
      ]
     },
     "execution_count": 155,
     "metadata": {},
     "output_type": "execute_result"
    }
   ],
   "source": [
    "df.head(2)"
   ]
  },
  {
   "cell_type": "code",
   "execution_count": 159,
   "metadata": {
    "collapsed": true
   },
   "outputs": [],
   "source": [
    "df.columns = df.columns.map(lambda x: str(x).strip())"
   ]
  },
  {
   "cell_type": "code",
   "execution_count": 49,
   "metadata": {
    "collapsed": true
   },
   "outputs": [],
   "source": [
    "# so back to the challenge \n",
    "\n",
    "dictionary = {}\n",
    "\n",
    "df.columns = df.columns.map(lambda x: str(x).strip())\n",
    "usecols = df.columns[4:]\n",
    "\n",
    "grouped_object = list(df.groupby(['C/A','UNIT','SCP','STATION']))\n",
    "\n",
    "for group in grouped_object:\n",
    "    dictionary[group[0]] = group[1][usecols].values"
   ]
  },
  {
   "cell_type": "code",
   "execution_count": 52,
   "metadata": {
    "collapsed": false
   },
   "outputs": [
    {
     "data": {
      "text/plain": [
       "[(('N134', 'R385', '00-00-00', 'ROCKAWAY BLVD'),\n",
       "  array([['A', 'IND', '09/10/2016', '01:00:00', 'REGULAR', 7454169, 2939249],\n",
       "         ['A', 'IND', '09/10/2016', '05:00:00', 'REGULAR', 7454197, 2939268],\n",
       "         ['A', 'IND', '09/10/2016', '09:00:00', 'REGULAR', 7454413, 2939293],\n",
       "         ['A', 'IND', '09/10/2016', '13:00:00', 'REGULAR', 7454628, 2939344],\n",
       "         ['A', 'IND', '09/10/2016', '17:00:00', 'REGULAR', 7454843, 2939404],\n",
       "         ['A', 'IND', '09/10/2016', '21:00:00', 'REGULAR', 7455027, 2939461],\n",
       "         ['A', 'IND', '09/11/2016', '01:00:00', 'REGULAR', 7455150, 2939480],\n",
       "         ['A', 'IND', '09/11/2016', '05:00:00', 'REGULAR', 7455172, 2939487],\n",
       "         ['A', 'IND', '09/11/2016', '09:00:00', 'REGULAR', 7455306, 2939511],\n",
       "         ['A', 'IND', '09/11/2016', '13:00:00', 'REGULAR', 7455467, 2939547],\n",
       "         ['A', 'IND', '09/11/2016', '17:00:00', 'REGULAR', 7455612, 2939595],\n",
       "         ['A', 'IND', '09/11/2016', '21:00:00', 'REGULAR', 7455783, 2939646],\n",
       "         ['A', 'IND', '09/12/2016', '01:00:00', 'REGULAR', 7455880, 2939660],\n",
       "         ['A', 'IND', '09/12/2016', '05:00:00', 'REGULAR', 7455913, 2939667],\n",
       "         ['A', 'IND', '09/12/2016', '09:00:00', 'REGULAR', 7456541, 2939718],\n",
       "         ['A', 'IND', '09/12/2016', '13:00:00', 'REGULAR', 7456842, 2939768],\n",
       "         ['A', 'IND', '09/12/2016', '17:00:00', 'REGULAR', 7457088, 2939834],\n",
       "         ['A', 'IND', '09/12/2016', '21:00:00', 'REGULAR', 7457316, 2939946],\n",
       "         ['A', 'IND', '09/13/2016', '01:00:00', 'REGULAR', 7457425, 2939966],\n",
       "         ['A', 'IND', '09/13/2016', '05:00:00', 'REGULAR', 7457467, 2939973],\n",
       "         ['A', 'IND', '09/13/2016', '09:00:00', 'REGULAR', 7458159, 2940037],\n",
       "         ['A', 'IND', '09/13/2016', '13:00:00', 'REGULAR', 7458475, 2940081],\n",
       "         ['A', 'IND', '09/13/2016', '17:00:00', 'REGULAR', 7458792, 2940160],\n",
       "         ['A', 'IND', '09/13/2016', '21:00:00', 'REGULAR', 7459022, 2940264],\n",
       "         ['A', 'IND', '09/14/2016', '01:00:00', 'REGULAR', 7459118, 2940285],\n",
       "         ['A', 'IND', '09/14/2016', '05:00:00', 'REGULAR', 7459158, 2940292],\n",
       "         ['A', 'IND', '09/14/2016', '09:00:00', 'REGULAR', 7459895, 2940371],\n",
       "         ['A', 'IND', '09/14/2016', '13:00:00', 'REGULAR', 7460243, 2940409],\n",
       "         ['A', 'IND', '09/14/2016', '17:00:00', 'REGULAR', 7460515, 2940499],\n",
       "         ['A', 'IND', '09/14/2016', '21:00:00', 'REGULAR', 7460748, 2940604],\n",
       "         ['A', 'IND', '09/15/2016', '01:00:00', 'REGULAR', 7460842, 2940634],\n",
       "         ['A', 'IND', '09/15/2016', '05:00:00', 'REGULAR', 7460883, 2940645],\n",
       "         ['A', 'IND', '09/15/2016', '09:00:00', 'REGULAR', 7461613, 2940710],\n",
       "         ['A', 'IND', '09/15/2016', '13:00:00', 'REGULAR', 7461912, 2940752],\n",
       "         ['A', 'IND', '09/15/2016', '17:00:00', 'REGULAR', 7462202, 2940831],\n",
       "         ['A', 'IND', '09/15/2016', '21:00:00', 'REGULAR', 7462441, 2940924],\n",
       "         ['A', 'IND', '09/16/2016', '01:00:00', 'REGULAR', 7462544, 2940959],\n",
       "         ['A', 'IND', '09/16/2016', '05:00:00', 'REGULAR', 7462581, 2940966],\n",
       "         ['A', 'IND', '09/16/2016', '09:00:00', 'REGULAR', 7463268, 2941036],\n",
       "         ['A', 'IND', '09/16/2016', '13:00:00', 'REGULAR', 7463530, 2941073],\n",
       "         ['A', 'IND', '09/16/2016', '17:00:00', 'REGULAR', 7463815, 2941168],\n",
       "         ['A', 'IND', '09/16/2016', '21:00:00', 'REGULAR', 7464063, 2941269],\n",
       "         ['A', 'IND', '09/17/2016', '01:00:00', 'REGULAR', 7464189, 2941318],\n",
       "         ['A', 'IND', '09/17/2016', '05:00:00', 'REGULAR', 7464217, 2941326],\n",
       "         ['A', 'IND', '09/17/2016', '09:00:00', 'REGULAR', 7464404, 2941363],\n",
       "         ['A', 'IND', '09/17/2016', '13:00:00', 'REGULAR', 7464610, 2941410],\n",
       "         ['A', 'IND', '09/17/2016', '17:00:00', 'REGULAR', 7464836, 2941471],\n",
       "         ['A', 'IND', '09/17/2016', '21:00:00', 'REGULAR', 7465048, 2941534],\n",
       "         ['A', 'IND', '09/18/2016', '01:00:00', 'REGULAR', 7465159, 2941566],\n",
       "         ['A', 'IND', '09/18/2016', '05:00:00', 'REGULAR', 7465183, 2941574],\n",
       "         ['A', 'IND', '09/18/2016', '09:00:00', 'REGULAR', 7465297, 2941609],\n",
       "         ['A', 'IND', '09/18/2016', '13:00:00', 'REGULAR', 7465457, 2941646],\n",
       "         ['A', 'IND', '09/18/2016', '17:00:00', 'REGULAR', 7465602, 2941697],\n",
       "         ['A', 'IND', '09/18/2016', '21:00:00', 'REGULAR', 7465759, 2941741],\n",
       "         ['A', 'IND', '09/19/2016', '01:00:00', 'REGULAR', 7465833, 2941761],\n",
       "         ['A', 'IND', '09/19/2016', '05:00:00', 'REGULAR', 7465873, 2941770],\n",
       "         ['A', 'IND', '09/19/2016', '09:00:00', 'REGULAR', 7466552, 2941838],\n",
       "         ['A', 'IND', '09/19/2016', '13:00:00', 'REGULAR', 7466828, 2941876],\n",
       "         ['A', 'IND', '09/19/2016', '17:00:00', 'REGULAR', 7467084, 2941945],\n",
       "         ['A', 'IND', '09/19/2016', '21:00:00', 'REGULAR', 7467284, 2942027],\n",
       "         ['A', 'IND', '09/20/2016', '01:00:00', 'REGULAR', 7467386, 2942052],\n",
       "         ['A', 'IND', '09/20/2016', '05:00:00', 'REGULAR', 7467420, 2942059],\n",
       "         ['A', 'IND', '09/20/2016', '09:00:00', 'REGULAR', 7468142, 2942122],\n",
       "         ['A', 'IND', '09/20/2016', '13:00:00', 'REGULAR', 7468429, 2942158],\n",
       "         ['A', 'IND', '09/20/2016', '17:00:00', 'REGULAR', 7468710, 2942226],\n",
       "         ['A', 'IND', '09/20/2016', '21:00:00', 'REGULAR', 7468918, 2942332],\n",
       "         ['A', 'IND', '09/21/2016', '01:00:00', 'REGULAR', 7469016, 2942359],\n",
       "         ['A', 'IND', '09/21/2016', '05:00:00', 'REGULAR', 7469053, 2942364],\n",
       "         ['A', 'IND', '09/21/2016', '09:00:00', 'REGULAR', 7469808, 2942436],\n",
       "         ['A', 'IND', '09/21/2016', '13:00:00', 'REGULAR', 7470100, 2942475],\n",
       "         ['A', 'IND', '09/21/2016', '17:00:00', 'REGULAR', 7470414, 2942565],\n",
       "         ['A', 'IND', '09/21/2016', '21:00:00', 'REGULAR', 7470663, 2942653],\n",
       "         ['A', 'IND', '09/22/2016', '01:00:00', 'REGULAR', 7470760, 2942676],\n",
       "         ['A', 'IND', '09/22/2016', '05:00:00', 'REGULAR', 7470795, 2942687],\n",
       "         ['A', 'IND', '09/22/2016', '09:00:00', 'REGULAR', 7471530, 2942750],\n",
       "         ['A', 'IND', '09/22/2016', '13:00:00', 'REGULAR', 7471824, 2942785],\n",
       "         ['A', 'IND', '09/22/2016', '17:00:00', 'REGULAR', 7472119, 2942848],\n",
       "         ['A', 'IND', '09/22/2016', '21:00:00', 'REGULAR', 7472451, 2942977],\n",
       "         ['A', 'IND', '09/23/2016', '01:00:00', 'REGULAR', 7472609, 2943052],\n",
       "         ['A', 'IND', '09/23/2016', '05:00:00', 'REGULAR', 7472665, 2943065],\n",
       "         ['A', 'IND', '09/23/2016', '09:00:00', 'REGULAR', 7473689, 2943137],\n",
       "         ['A', 'IND', '09/23/2016', '13:00:00', 'REGULAR', 7473934, 2943182],\n",
       "         ['A', 'IND', '09/23/2016', '17:00:00', 'REGULAR', 7474215, 2943262],\n",
       "         ['A', 'IND', '09/23/2016', '21:00:00', 'REGULAR', 7474475, 2943356]], dtype=object)),\n",
       " (('N192', 'R336', '00-05-00', 'BEACH 60 ST'),\n",
       "  array([['A', 'IND', '09/10/2016', '00:00:00', 'REGULAR', 117440622, 0],\n",
       "         ['A', 'IND', '09/10/2016', '04:00:00', 'REGULAR', 117440622, 0],\n",
       "         ['A', 'IND', '09/10/2016', '08:00:00', 'REGULAR', 117440622, 0],\n",
       "         ['A', 'IND', '09/10/2016', '12:00:00', 'REGULAR', 117440622, 0],\n",
       "         ['A', 'IND', '09/10/2016', '16:00:00', 'REGULAR', 117440622, 0],\n",
       "         ['A', 'IND', '09/10/2016', '20:00:00', 'REGULAR', 117440622, 0],\n",
       "         ['A', 'IND', '09/11/2016', '00:00:00', 'REGULAR', 117440622, 0],\n",
       "         ['A', 'IND', '09/11/2016', '04:00:00', 'REGULAR', 117440622, 0],\n",
       "         ['A', 'IND', '09/11/2016', '08:00:00', 'REGULAR', 117440622, 0],\n",
       "         ['A', 'IND', '09/11/2016', '12:00:00', 'REGULAR', 117440622, 0],\n",
       "         ['A', 'IND', '09/11/2016', '16:00:00', 'REGULAR', 117440622, 0],\n",
       "         ['A', 'IND', '09/11/2016', '20:00:00', 'REGULAR', 117440622, 0],\n",
       "         ['A', 'IND', '09/12/2016', '00:00:00', 'REGULAR', 117440622, 0],\n",
       "         ['A', 'IND', '09/12/2016', '04:00:00', 'REGULAR', 117440622, 0],\n",
       "         ['A', 'IND', '09/12/2016', '08:00:00', 'REGULAR', 117440622, 0],\n",
       "         ['A', 'IND', '09/12/2016', '12:00:00', 'REGULAR', 117440622, 0],\n",
       "         ['A', 'IND', '09/12/2016', '16:00:00', 'REGULAR', 117440622, 0],\n",
       "         ['A', 'IND', '09/12/2016', '20:00:00', 'REGULAR', 117440622, 0],\n",
       "         ['A', 'IND', '09/13/2016', '00:00:00', 'REGULAR', 117440622, 0],\n",
       "         ['A', 'IND', '09/13/2016', '04:00:00', 'REGULAR', 117440622, 0],\n",
       "         ['A', 'IND', '09/13/2016', '08:00:00', 'REGULAR', 117440622, 0],\n",
       "         ['A', 'IND', '09/13/2016', '12:00:00', 'REGULAR', 117440622, 0],\n",
       "         ['A', 'IND', '09/13/2016', '16:00:00', 'REGULAR', 117440622, 0],\n",
       "         ['A', 'IND', '09/13/2016', '20:00:00', 'REGULAR', 117440622, 0],\n",
       "         ['A', 'IND', '09/14/2016', '00:00:00', 'REGULAR', 117440622, 0],\n",
       "         ['A', 'IND', '09/14/2016', '04:00:00', 'REGULAR', 117440622, 0],\n",
       "         ['A', 'IND', '09/14/2016', '08:00:00', 'REGULAR', 117440622, 0],\n",
       "         ['A', 'IND', '09/14/2016', '12:00:00', 'REGULAR', 117440622, 0],\n",
       "         ['A', 'IND', '09/14/2016', '16:00:00', 'REGULAR', 117440622, 0],\n",
       "         ['A', 'IND', '09/14/2016', '20:00:00', 'REGULAR', 117440622, 0],\n",
       "         ['A', 'IND', '09/15/2016', '00:00:00', 'REGULAR', 117440622, 0],\n",
       "         ['A', 'IND', '09/15/2016', '04:00:00', 'REGULAR', 117440622, 0],\n",
       "         ['A', 'IND', '09/15/2016', '08:00:00', 'REGULAR', 117440622, 0],\n",
       "         ['A', 'IND', '09/15/2016', '12:00:00', 'REGULAR', 117440622, 0],\n",
       "         ['A', 'IND', '09/15/2016', '16:00:00', 'REGULAR', 117440622, 0],\n",
       "         ['A', 'IND', '09/15/2016', '20:00:00', 'REGULAR', 117440622, 0],\n",
       "         ['A', 'IND', '09/16/2016', '00:00:00', 'REGULAR', 117440622, 0],\n",
       "         ['A', 'IND', '09/16/2016', '04:00:00', 'REGULAR', 117440622, 0],\n",
       "         ['A', 'IND', '09/16/2016', '08:00:00', 'REGULAR', 117440622, 0],\n",
       "         ['A', 'IND', '09/16/2016', '12:00:00', 'REGULAR', 117440622, 0],\n",
       "         ['A', 'IND', '09/16/2016', '16:00:00', 'REGULAR', 117440622, 0],\n",
       "         ['A', 'IND', '09/16/2016', '20:00:00', 'REGULAR', 117440622, 0],\n",
       "         ['A', 'IND', '09/17/2016', '00:00:00', 'REGULAR', 117440622, 0],\n",
       "         ['A', 'IND', '09/17/2016', '04:00:00', 'REGULAR', 117440622, 0],\n",
       "         ['A', 'IND', '09/17/2016', '08:00:00', 'REGULAR', 117440622, 0],\n",
       "         ['A', 'IND', '09/17/2016', '12:00:00', 'REGULAR', 117440622, 0],\n",
       "         ['A', 'IND', '09/17/2016', '16:00:00', 'REGULAR', 117440622, 0],\n",
       "         ['A', 'IND', '09/17/2016', '20:00:00', 'REGULAR', 117440622, 0],\n",
       "         ['A', 'IND', '09/18/2016', '00:00:00', 'REGULAR', 117440622, 0],\n",
       "         ['A', 'IND', '09/18/2016', '04:00:00', 'REGULAR', 117440622, 0],\n",
       "         ['A', 'IND', '09/18/2016', '08:00:00', 'REGULAR', 117440622, 0],\n",
       "         ['A', 'IND', '09/18/2016', '12:00:00', 'REGULAR', 117440622, 0],\n",
       "         ['A', 'IND', '09/18/2016', '16:00:00', 'REGULAR', 117440622, 0],\n",
       "         ['A', 'IND', '09/18/2016', '20:00:00', 'REGULAR', 117440622, 0],\n",
       "         ['A', 'IND', '09/19/2016', '00:00:00', 'REGULAR', 117440622, 0],\n",
       "         ['A', 'IND', '09/19/2016', '04:00:00', 'REGULAR', 117440622, 0],\n",
       "         ['A', 'IND', '09/19/2016', '08:00:00', 'REGULAR', 117440622, 0],\n",
       "         ['A', 'IND', '09/19/2016', '12:00:00', 'REGULAR', 117440622, 0],\n",
       "         ['A', 'IND', '09/19/2016', '16:00:00', 'REGULAR', 117440622, 0],\n",
       "         ['A', 'IND', '09/19/2016', '20:00:00', 'REGULAR', 117440622, 0],\n",
       "         ['A', 'IND', '09/20/2016', '00:00:00', 'REGULAR', 117440622, 0],\n",
       "         ['A', 'IND', '09/20/2016', '04:00:00', 'REGULAR', 117440622, 0],\n",
       "         ['A', 'IND', '09/20/2016', '08:00:00', 'REGULAR', 117440622, 0],\n",
       "         ['A', 'IND', '09/20/2016', '08:48:48', 'REGULAR', 117440622, 0],\n",
       "         ['A', 'IND', '09/20/2016', '12:00:00', 'REGULAR', 117440622, 0],\n",
       "         ['A', 'IND', '09/20/2016', '16:00:00', 'REGULAR', 117440622, 0],\n",
       "         ['A', 'IND', '09/20/2016', '20:00:00', 'REGULAR', 117440622, 0],\n",
       "         ['A', 'IND', '09/21/2016', '00:00:00', 'REGULAR', 117440622, 0],\n",
       "         ['A', 'IND', '09/21/2016', '04:00:00', 'REGULAR', 117440622, 0],\n",
       "         ['A', 'IND', '09/21/2016', '08:00:00', 'REGULAR', 117440622, 0],\n",
       "         ['A', 'IND', '09/21/2016', '12:00:00', 'REGULAR', 117440622, 0],\n",
       "         ['A', 'IND', '09/21/2016', '16:00:00', 'REGULAR', 117440622, 0],\n",
       "         ['A', 'IND', '09/21/2016', '20:00:00', 'REGULAR', 117440622, 0],\n",
       "         ['A', 'IND', '09/22/2016', '00:00:00', 'REGULAR', 117440622, 0],\n",
       "         ['A', 'IND', '09/22/2016', '04:00:00', 'REGULAR', 117440622, 0],\n",
       "         ['A', 'IND', '09/22/2016', '08:00:00', 'REGULAR', 117440622, 0],\n",
       "         ['A', 'IND', '09/22/2016', '12:00:00', 'REGULAR', 117440622, 0],\n",
       "         ['A', 'IND', '09/22/2016', '16:00:00', 'REGULAR', 117440622, 0],\n",
       "         ['A', 'IND', '09/22/2016', '20:00:00', 'REGULAR', 117440622, 0],\n",
       "         ['A', 'IND', '09/23/2016', '00:00:00', 'REGULAR', 117440622, 0],\n",
       "         ['A', 'IND', '09/23/2016', '04:00:00', 'REGULAR', 117440622, 0],\n",
       "         ['A', 'IND', '09/23/2016', '08:00:00', 'REGULAR', 117440622, 0],\n",
       "         ['A', 'IND', '09/23/2016', '12:00:00', 'REGULAR', 117440622, 0],\n",
       "         ['A', 'IND', '09/23/2016', '16:00:00', 'REGULAR', 117440622, 0],\n",
       "         ['A', 'IND', '09/23/2016', '20:00:00', 'REGULAR', 117440622, 0]], dtype=object))]"
      ]
     },
     "execution_count": 52,
     "metadata": {},
     "output_type": "execute_result"
    }
   ],
   "source": [
    "# this is for your visualization\n",
    "from itertools import islice\n",
    "def take(n, iterable):\n",
    "    \"Return first n items of the iterable as a list\"\n",
    "    return list(islice(iterable, n))\n",
    "\n",
    "n_items = take(2, dictionary.iteritems())\n",
    "n_items"
   ]
  },
  {
   "cell_type": "markdown",
   "metadata": {},
   "source": [
    "#### Exercise 1.2"
   ]
  },
  {
   "cell_type": "markdown",
   "metadata": {},
   "source": [
    "- Let's turn this into a time series.\n",
    "\n",
    " For each key (basically the control area, unit, device address and\n",
    " station of a specific turnstile), have a list again, but let the list\n",
    " be comprised of just the point in time and the count of entries.\n",
    "\n",
    "This basically means keeping only the date, time, and entries fields\n",
    "in each list. You can convert the date and time into datetime objects\n",
    "-- That is a python class that represents a point in time. You can\n",
    "combine the date and time fields into a string and use the\n",
    "[dateutil](https://labix.org/python-dateutil) module to convert it\n",
    "into a datetime object. For an example check\n",
    "[this StackOverflow question](http://stackoverflow.com/questions/23385003/attributeerror-when-using-import-dateutil-and-dateutil-parser-parse-but-no).\n",
    "\n",
    "Your new dict should look something like\n",
    "\n",
    "{    ('A002','R051','02-00-00','LEXINGTON AVE'):\n",
    "[\n",
    "[datetime.datetime(2013, 3, 2, 3, 0), 3788],\n",
    "[datetime.datetime(2013, 3, 2, 7, 0), 2585],\n",
    "[datetime.datetime(2013, 3, 2, 12, 0), 10653],\n",
    "[datetime.datetime(2013, 3, 2, 17, 0), 11016],\n",
    "[datetime.datetime(2013, 3, 2, 23, 0), 10666],\n",
    "[datetime.datetime(2013, 3, 3, 3, 0), 10814],\n",
    "[datetime.datetime(2013, 3, 3, 7, 0), 10229],\n",
    "...\n",
    "],\n",
    "....\n",
    "}"
   ]
  },
  {
   "cell_type": "code",
   "execution_count": 53,
   "metadata": {
    "collapsed": false
   },
   "outputs": [
    {
     "data": {
      "text/plain": [
       "[(('N134', 'R385', '00-00-00', 'ROCKAWAY BLVD'),\n",
       "  [[datetime.datetime(2016, 9, 10, 1, 0), 7454169],\n",
       "   [datetime.datetime(2016, 9, 10, 5, 0), 7454197],\n",
       "   [datetime.datetime(2016, 9, 10, 9, 0), 7454413],\n",
       "   [datetime.datetime(2016, 9, 10, 13, 0), 7454628],\n",
       "   [datetime.datetime(2016, 9, 10, 17, 0), 7454843],\n",
       "   [datetime.datetime(2016, 9, 10, 21, 0), 7455027],\n",
       "   [datetime.datetime(2016, 9, 11, 1, 0), 7455150],\n",
       "   [datetime.datetime(2016, 9, 11, 5, 0), 7455172],\n",
       "   [datetime.datetime(2016, 9, 11, 9, 0), 7455306],\n",
       "   [datetime.datetime(2016, 9, 11, 13, 0), 7455467],\n",
       "   [datetime.datetime(2016, 9, 11, 17, 0), 7455612],\n",
       "   [datetime.datetime(2016, 9, 11, 21, 0), 7455783],\n",
       "   [datetime.datetime(2016, 9, 12, 1, 0), 7455880],\n",
       "   [datetime.datetime(2016, 9, 12, 5, 0), 7455913],\n",
       "   [datetime.datetime(2016, 9, 12, 9, 0), 7456541],\n",
       "   [datetime.datetime(2016, 9, 12, 13, 0), 7456842],\n",
       "   [datetime.datetime(2016, 9, 12, 17, 0), 7457088],\n",
       "   [datetime.datetime(2016, 9, 12, 21, 0), 7457316],\n",
       "   [datetime.datetime(2016, 9, 13, 1, 0), 7457425],\n",
       "   [datetime.datetime(2016, 9, 13, 5, 0), 7457467],\n",
       "   [datetime.datetime(2016, 9, 13, 9, 0), 7458159],\n",
       "   [datetime.datetime(2016, 9, 13, 13, 0), 7458475],\n",
       "   [datetime.datetime(2016, 9, 13, 17, 0), 7458792],\n",
       "   [datetime.datetime(2016, 9, 13, 21, 0), 7459022],\n",
       "   [datetime.datetime(2016, 9, 14, 1, 0), 7459118],\n",
       "   [datetime.datetime(2016, 9, 14, 5, 0), 7459158],\n",
       "   [datetime.datetime(2016, 9, 14, 9, 0), 7459895],\n",
       "   [datetime.datetime(2016, 9, 14, 13, 0), 7460243],\n",
       "   [datetime.datetime(2016, 9, 14, 17, 0), 7460515],\n",
       "   [datetime.datetime(2016, 9, 14, 21, 0), 7460748],\n",
       "   [datetime.datetime(2016, 9, 15, 1, 0), 7460842],\n",
       "   [datetime.datetime(2016, 9, 15, 5, 0), 7460883],\n",
       "   [datetime.datetime(2016, 9, 15, 9, 0), 7461613],\n",
       "   [datetime.datetime(2016, 9, 15, 13, 0), 7461912],\n",
       "   [datetime.datetime(2016, 9, 15, 17, 0), 7462202],\n",
       "   [datetime.datetime(2016, 9, 15, 21, 0), 7462441],\n",
       "   [datetime.datetime(2016, 9, 16, 1, 0), 7462544],\n",
       "   [datetime.datetime(2016, 9, 16, 5, 0), 7462581],\n",
       "   [datetime.datetime(2016, 9, 16, 9, 0), 7463268],\n",
       "   [datetime.datetime(2016, 9, 16, 13, 0), 7463530],\n",
       "   [datetime.datetime(2016, 9, 16, 17, 0), 7463815],\n",
       "   [datetime.datetime(2016, 9, 16, 21, 0), 7464063],\n",
       "   [datetime.datetime(2016, 9, 17, 1, 0), 7464189],\n",
       "   [datetime.datetime(2016, 9, 17, 5, 0), 7464217],\n",
       "   [datetime.datetime(2016, 9, 17, 9, 0), 7464404],\n",
       "   [datetime.datetime(2016, 9, 17, 13, 0), 7464610],\n",
       "   [datetime.datetime(2016, 9, 17, 17, 0), 7464836],\n",
       "   [datetime.datetime(2016, 9, 17, 21, 0), 7465048],\n",
       "   [datetime.datetime(2016, 9, 18, 1, 0), 7465159],\n",
       "   [datetime.datetime(2016, 9, 18, 5, 0), 7465183],\n",
       "   [datetime.datetime(2016, 9, 18, 9, 0), 7465297],\n",
       "   [datetime.datetime(2016, 9, 18, 13, 0), 7465457],\n",
       "   [datetime.datetime(2016, 9, 18, 17, 0), 7465602],\n",
       "   [datetime.datetime(2016, 9, 18, 21, 0), 7465759],\n",
       "   [datetime.datetime(2016, 9, 19, 1, 0), 7465833],\n",
       "   [datetime.datetime(2016, 9, 19, 5, 0), 7465873],\n",
       "   [datetime.datetime(2016, 9, 19, 9, 0), 7466552],\n",
       "   [datetime.datetime(2016, 9, 19, 13, 0), 7466828],\n",
       "   [datetime.datetime(2016, 9, 19, 17, 0), 7467084],\n",
       "   [datetime.datetime(2016, 9, 19, 21, 0), 7467284],\n",
       "   [datetime.datetime(2016, 9, 20, 1, 0), 7467386],\n",
       "   [datetime.datetime(2016, 9, 20, 5, 0), 7467420],\n",
       "   [datetime.datetime(2016, 9, 20, 9, 0), 7468142],\n",
       "   [datetime.datetime(2016, 9, 20, 13, 0), 7468429],\n",
       "   [datetime.datetime(2016, 9, 20, 17, 0), 7468710],\n",
       "   [datetime.datetime(2016, 9, 20, 21, 0), 7468918],\n",
       "   [datetime.datetime(2016, 9, 21, 1, 0), 7469016],\n",
       "   [datetime.datetime(2016, 9, 21, 5, 0), 7469053],\n",
       "   [datetime.datetime(2016, 9, 21, 9, 0), 7469808],\n",
       "   [datetime.datetime(2016, 9, 21, 13, 0), 7470100],\n",
       "   [datetime.datetime(2016, 9, 21, 17, 0), 7470414],\n",
       "   [datetime.datetime(2016, 9, 21, 21, 0), 7470663],\n",
       "   [datetime.datetime(2016, 9, 22, 1, 0), 7470760],\n",
       "   [datetime.datetime(2016, 9, 22, 5, 0), 7470795],\n",
       "   [datetime.datetime(2016, 9, 22, 9, 0), 7471530],\n",
       "   [datetime.datetime(2016, 9, 22, 13, 0), 7471824],\n",
       "   [datetime.datetime(2016, 9, 22, 17, 0), 7472119],\n",
       "   [datetime.datetime(2016, 9, 22, 21, 0), 7472451],\n",
       "   [datetime.datetime(2016, 9, 23, 1, 0), 7472609],\n",
       "   [datetime.datetime(2016, 9, 23, 5, 0), 7472665],\n",
       "   [datetime.datetime(2016, 9, 23, 9, 0), 7473689],\n",
       "   [datetime.datetime(2016, 9, 23, 13, 0), 7473934],\n",
       "   [datetime.datetime(2016, 9, 23, 17, 0), 7474215],\n",
       "   [datetime.datetime(2016, 9, 23, 21, 0), 7474475]]),\n",
       " (('R190', 'R038', '00-00-02', '215 ST'),\n",
       "  [[datetime.datetime(2016, 9, 10, 0, 0), 3674398],\n",
       "   [datetime.datetime(2016, 9, 10, 4, 0), 3674404],\n",
       "   [datetime.datetime(2016, 9, 10, 8, 0), 3674452],\n",
       "   [datetime.datetime(2016, 9, 10, 12, 0), 3674571],\n",
       "   [datetime.datetime(2016, 9, 10, 16, 0), 3674721],\n",
       "   [datetime.datetime(2016, 9, 10, 20, 0), 3674823],\n",
       "   [datetime.datetime(2016, 9, 11, 0, 0), 3674867],\n",
       "   [datetime.datetime(2016, 9, 11, 4, 0), 3674887],\n",
       "   [datetime.datetime(2016, 9, 11, 8, 0), 3674914],\n",
       "   [datetime.datetime(2016, 9, 11, 12, 0), 3675011],\n",
       "   [datetime.datetime(2016, 9, 11, 16, 0), 3675114],\n",
       "   [datetime.datetime(2016, 9, 11, 20, 0), 3675200],\n",
       "   [datetime.datetime(2016, 9, 12, 0, 0), 3675235],\n",
       "   [datetime.datetime(2016, 9, 12, 4, 0), 3675244],\n",
       "   [datetime.datetime(2016, 9, 12, 8, 0), 3675347],\n",
       "   [datetime.datetime(2016, 9, 12, 12, 0), 3675539],\n",
       "   [datetime.datetime(2016, 9, 12, 16, 0), 3675672],\n",
       "   [datetime.datetime(2016, 9, 12, 20, 0), 3675830],\n",
       "   [datetime.datetime(2016, 9, 13, 0, 0), 3675886],\n",
       "   [datetime.datetime(2016, 9, 13, 4, 0), 3675899],\n",
       "   [datetime.datetime(2016, 9, 13, 8, 0), 3676048],\n",
       "   [datetime.datetime(2016, 9, 13, 12, 0), 3676242],\n",
       "   [datetime.datetime(2016, 9, 13, 16, 0), 3676399],\n",
       "   [datetime.datetime(2016, 9, 13, 20, 0), 3676540],\n",
       "   [datetime.datetime(2016, 9, 14, 0, 0), 3676597],\n",
       "   [datetime.datetime(2016, 9, 14, 4, 0), 3676616],\n",
       "   [datetime.datetime(2016, 9, 14, 8, 0), 3676758],\n",
       "   [datetime.datetime(2016, 9, 14, 12, 0), 3676939],\n",
       "   [datetime.datetime(2016, 9, 14, 16, 0), 3677127],\n",
       "   [datetime.datetime(2016, 9, 14, 20, 0), 3677286],\n",
       "   [datetime.datetime(2016, 9, 15, 0, 0), 3677329],\n",
       "   [datetime.datetime(2016, 9, 15, 4, 0), 3677341],\n",
       "   [datetime.datetime(2016, 9, 15, 8, 0), 3677474],\n",
       "   [datetime.datetime(2016, 9, 15, 12, 0), 3677675],\n",
       "   [datetime.datetime(2016, 9, 15, 16, 0), 3677873],\n",
       "   [datetime.datetime(2016, 9, 15, 20, 0), 3678044],\n",
       "   [datetime.datetime(2016, 9, 16, 0, 0), 3678105],\n",
       "   [datetime.datetime(2016, 9, 16, 4, 0), 3678122],\n",
       "   [datetime.datetime(2016, 9, 16, 8, 0), 3678265],\n",
       "   [datetime.datetime(2016, 9, 16, 12, 0), 3678473],\n",
       "   [datetime.datetime(2016, 9, 16, 16, 0), 3678649],\n",
       "   [datetime.datetime(2016, 9, 16, 20, 0), 3678805],\n",
       "   [datetime.datetime(2016, 9, 17, 0, 0), 3678846],\n",
       "   [datetime.datetime(2016, 9, 17, 4, 0), 3678854],\n",
       "   [datetime.datetime(2016, 9, 17, 8, 0), 3678909],\n",
       "   [datetime.datetime(2016, 9, 17, 12, 0), 3679043],\n",
       "   [datetime.datetime(2016, 9, 17, 16, 0), 3679208],\n",
       "   [datetime.datetime(2016, 9, 17, 20, 0), 3679389],\n",
       "   [datetime.datetime(2016, 9, 18, 0, 0), 3679433],\n",
       "   [datetime.datetime(2016, 9, 18, 4, 0), 3679442],\n",
       "   [datetime.datetime(2016, 9, 18, 8, 0), 3679472],\n",
       "   [datetime.datetime(2016, 9, 18, 12, 0), 3679570],\n",
       "   [datetime.datetime(2016, 9, 18, 16, 0), 3679650],\n",
       "   [datetime.datetime(2016, 9, 18, 20, 0), 3679735],\n",
       "   [datetime.datetime(2016, 9, 19, 0, 0), 3679766],\n",
       "   [datetime.datetime(2016, 9, 19, 4, 0), 3679778],\n",
       "   [datetime.datetime(2016, 9, 19, 8, 0), 3679919],\n",
       "   [datetime.datetime(2016, 9, 19, 12, 0), 3680098],\n",
       "   [datetime.datetime(2016, 9, 19, 16, 0), 3680285],\n",
       "   [datetime.datetime(2016, 9, 19, 20, 0), 3680422],\n",
       "   [datetime.datetime(2016, 9, 20, 0, 0), 3680461],\n",
       "   [datetime.datetime(2016, 9, 20, 4, 0), 3680475],\n",
       "   [datetime.datetime(2016, 9, 20, 8, 0), 3680614],\n",
       "   [datetime.datetime(2016, 9, 20, 12, 0), 3680844],\n",
       "   [datetime.datetime(2016, 9, 20, 16, 0), 3681031],\n",
       "   [datetime.datetime(2016, 9, 20, 20, 0), 3681186],\n",
       "   [datetime.datetime(2016, 9, 21, 0, 0), 3681246],\n",
       "   [datetime.datetime(2016, 9, 21, 4, 0), 3681262],\n",
       "   [datetime.datetime(2016, 9, 21, 8, 0), 3681410],\n",
       "   [datetime.datetime(2016, 9, 21, 12, 0), 3681614],\n",
       "   [datetime.datetime(2016, 9, 21, 16, 0), 3681790],\n",
       "   [datetime.datetime(2016, 9, 21, 20, 0), 3681928],\n",
       "   [datetime.datetime(2016, 9, 22, 0, 0), 3681975],\n",
       "   [datetime.datetime(2016, 9, 22, 4, 0), 3681996],\n",
       "   [datetime.datetime(2016, 9, 22, 8, 0), 3682135],\n",
       "   [datetime.datetime(2016, 9, 22, 12, 0), 3682321],\n",
       "   [datetime.datetime(2016, 9, 22, 16, 0), 3682503],\n",
       "   [datetime.datetime(2016, 9, 22, 20, 0), 3682672],\n",
       "   [datetime.datetime(2016, 9, 23, 0, 0), 3682735],\n",
       "   [datetime.datetime(2016, 9, 23, 4, 0), 3682770],\n",
       "   [datetime.datetime(2016, 9, 23, 8, 0), 3682898],\n",
       "   [datetime.datetime(2016, 9, 23, 12, 0), 3683095],\n",
       "   [datetime.datetime(2016, 9, 23, 16, 0), 3683247],\n",
       "   [datetime.datetime(2016, 9, 23, 20, 0), 3683408]])]"
      ]
     },
     "execution_count": 53,
     "metadata": {},
     "output_type": "execute_result"
    }
   ],
   "source": [
    "from collections import defaultdict\n",
    "from dateutil.parser import parse\n",
    "\n",
    "time_dictionary = {}\n",
    "\n",
    "for key,values in dictionary.items():\n",
    "    list_of_times = map(lambda x: [parse(' '.join(x[2:4])), x[5]], values)\n",
    "    time_dictionary[key] = list_of_times\n",
    "    \n",
    "n_items = take(2, time_dictionary.iteritems())\n",
    "n_items"
   ]
  },
  {
   "cell_type": "markdown",
   "metadata": {},
   "source": [
    "#### Exercise 1.3"
   ]
  },
  {
   "cell_type": "markdown",
   "metadata": {},
   "source": [
    "- These counts are for every n hours. (What is n?) We want total daily\n",
    "  entries.\n",
    "\n",
    "Now make it that we again have the same keys, but now we have a single\n",
    "value for a single day, which is the total number of passengers that\n",
    "entered through this turnstile on this day."
   ]
  },
  {
   "cell_type": "code",
   "execution_count": 315,
   "metadata": {
    "collapsed": false
   },
   "outputs": [],
   "source": [
    "df['DATETIME'] = df[['DATE','TIME']].apply(lambda x: ' '.join(x),axis=1)\n",
    "df['DATETIME'] = df['DATETIME'].map(lambda x: parse(x)) "
   ]
  },
  {
   "cell_type": "code",
   "execution_count": 316,
   "metadata": {
    "collapsed": false
   },
   "outputs": [
    {
     "data": {
      "text/html": [
       "<div>\n",
       "<table border=\"1\" class=\"dataframe\">\n",
       "  <thead>\n",
       "    <tr style=\"text-align: right;\">\n",
       "      <th></th>\n",
       "      <th>C/A</th>\n",
       "      <th>UNIT</th>\n",
       "      <th>SCP</th>\n",
       "      <th>STATION</th>\n",
       "      <th>LINENAME</th>\n",
       "      <th>DIVISION</th>\n",
       "      <th>DATE</th>\n",
       "      <th>TIME</th>\n",
       "      <th>DESC</th>\n",
       "      <th>ENTRIES</th>\n",
       "      <th>EXITS</th>\n",
       "      <th>DATETIME</th>\n",
       "    </tr>\n",
       "  </thead>\n",
       "  <tbody>\n",
       "    <tr>\n",
       "      <th>0</th>\n",
       "      <td>A002</td>\n",
       "      <td>R051</td>\n",
       "      <td>02-00-00</td>\n",
       "      <td>59 ST</td>\n",
       "      <td>NQR456</td>\n",
       "      <td>BMT</td>\n",
       "      <td>09/10/2016</td>\n",
       "      <td>00:00:00</td>\n",
       "      <td>REGULAR</td>\n",
       "      <td>5817505</td>\n",
       "      <td>1971936</td>\n",
       "      <td>2016-09-10 00:00:00</td>\n",
       "    </tr>\n",
       "    <tr>\n",
       "      <th>1</th>\n",
       "      <td>A002</td>\n",
       "      <td>R051</td>\n",
       "      <td>02-00-00</td>\n",
       "      <td>59 ST</td>\n",
       "      <td>NQR456</td>\n",
       "      <td>BMT</td>\n",
       "      <td>09/10/2016</td>\n",
       "      <td>04:00:00</td>\n",
       "      <td>REGULAR</td>\n",
       "      <td>5817544</td>\n",
       "      <td>1971940</td>\n",
       "      <td>2016-09-10 04:00:00</td>\n",
       "    </tr>\n",
       "    <tr>\n",
       "      <th>2</th>\n",
       "      <td>A002</td>\n",
       "      <td>R051</td>\n",
       "      <td>02-00-00</td>\n",
       "      <td>59 ST</td>\n",
       "      <td>NQR456</td>\n",
       "      <td>BMT</td>\n",
       "      <td>09/10/2016</td>\n",
       "      <td>08:00:00</td>\n",
       "      <td>REGULAR</td>\n",
       "      <td>5817564</td>\n",
       "      <td>1971981</td>\n",
       "      <td>2016-09-10 08:00:00</td>\n",
       "    </tr>\n",
       "  </tbody>\n",
       "</table>\n",
       "</div>"
      ],
      "text/plain": [
       "    C/A  UNIT       SCP STATION LINENAME DIVISION        DATE      TIME  \\\n",
       "0  A002  R051  02-00-00   59 ST   NQR456      BMT  09/10/2016  00:00:00   \n",
       "1  A002  R051  02-00-00   59 ST   NQR456      BMT  09/10/2016  04:00:00   \n",
       "2  A002  R051  02-00-00   59 ST   NQR456      BMT  09/10/2016  08:00:00   \n",
       "\n",
       "      DESC  ENTRIES    EXITS            DATETIME  \n",
       "0  REGULAR  5817505  1971936 2016-09-10 00:00:00  \n",
       "1  REGULAR  5817544  1971940 2016-09-10 04:00:00  \n",
       "2  REGULAR  5817564  1971981 2016-09-10 08:00:00  "
      ]
     },
     "execution_count": 316,
     "metadata": {},
     "output_type": "execute_result"
    }
   ],
   "source": [
    "df.head(3)"
   ]
  },
  {
   "cell_type": "code",
   "execution_count": 317,
   "metadata": {
    "collapsed": false
   },
   "outputs": [
    {
     "data": {
      "text/html": [
       "<div>\n",
       "<table border=\"1\" class=\"dataframe\">\n",
       "  <thead>\n",
       "    <tr style=\"text-align: right;\">\n",
       "      <th></th>\n",
       "      <th>C/A</th>\n",
       "      <th>UNIT</th>\n",
       "      <th>SCP</th>\n",
       "      <th>STATION</th>\n",
       "      <th>DATETIME</th>\n",
       "      <th>ENTRIES</th>\n",
       "    </tr>\n",
       "  </thead>\n",
       "  <tbody>\n",
       "    <tr>\n",
       "      <th>0</th>\n",
       "      <td>A002</td>\n",
       "      <td>R051</td>\n",
       "      <td>02-00-00</td>\n",
       "      <td>59 ST</td>\n",
       "      <td>2016-09-10</td>\n",
       "      <td>1</td>\n",
       "    </tr>\n",
       "  </tbody>\n",
       "</table>\n",
       "</div>"
      ],
      "text/plain": [
       "    C/A  UNIT       SCP STATION   DATETIME  ENTRIES\n",
       "0  A002  R051  02-00-00   59 ST 2016-09-10        1"
      ]
     },
     "execution_count": 317,
     "metadata": {},
     "output_type": "execute_result"
    }
   ],
   "source": [
    "# with sort_values I only have to display the first entry to confirm whether or not there is \n",
    "# a duplicate \"C/A\", \"UNIT\", \"SCP\", \"STATION\", \"DATETIME\" combination\n",
    "(df\n",
    " .groupby([\"C/A\", \"UNIT\", \"SCP\", \"STATION\", \"DATETIME\"])\n",
    " .ENTRIES.count()\n",
    " .reset_index()\n",
    " .sort_values(\"ENTRIES\", ascending=False)).head(1)"
   ]
  },
  {
   "cell_type": "code",
   "execution_count": 318,
   "metadata": {
    "collapsed": false
   },
   "outputs": [],
   "source": [
    "df.drop_duplicates(subset=[\"C/A\", \"UNIT\", \"SCP\", \"STATION\", \"DATETIME\"], inplace=True)"
   ]
  },
  {
   "cell_type": "code",
   "execution_count": 319,
   "metadata": {
    "collapsed": false
   },
   "outputs": [
    {
     "data": {
      "text/html": [
       "<div>\n",
       "<table border=\"1\" class=\"dataframe\">\n",
       "  <thead>\n",
       "    <tr style=\"text-align: right;\">\n",
       "      <th></th>\n",
       "      <th>C/A</th>\n",
       "      <th>UNIT</th>\n",
       "      <th>SCP</th>\n",
       "      <th>STATION</th>\n",
       "      <th>LINENAME</th>\n",
       "      <th>DIVISION</th>\n",
       "      <th>DATE</th>\n",
       "      <th>TIME</th>\n",
       "      <th>DESC</th>\n",
       "      <th>ENTRIES</th>\n",
       "      <th>EXITS</th>\n",
       "      <th>DATETIME</th>\n",
       "    </tr>\n",
       "  </thead>\n",
       "  <tbody>\n",
       "    <tr>\n",
       "      <th>0</th>\n",
       "      <td>A002</td>\n",
       "      <td>R051</td>\n",
       "      <td>02-00-00</td>\n",
       "      <td>59 ST</td>\n",
       "      <td>NQR456</td>\n",
       "      <td>BMT</td>\n",
       "      <td>09/10/2016</td>\n",
       "      <td>00:00:00</td>\n",
       "      <td>REGULAR</td>\n",
       "      <td>5817505</td>\n",
       "      <td>1971936</td>\n",
       "      <td>2016-09-10</td>\n",
       "    </tr>\n",
       "  </tbody>\n",
       "</table>\n",
       "</div>"
      ],
      "text/plain": [
       "    C/A  UNIT       SCP STATION LINENAME DIVISION        DATE      TIME  \\\n",
       "0  A002  R051  02-00-00   59 ST   NQR456      BMT  09/10/2016  00:00:00   \n",
       "\n",
       "      DESC  ENTRIES    EXITS   DATETIME  \n",
       "0  REGULAR  5817505  1971936 2016-09-10  "
      ]
     },
     "execution_count": 319,
     "metadata": {},
     "output_type": "execute_result"
    }
   ],
   "source": [
    "df.head(1)"
   ]
  },
  {
   "cell_type": "code",
   "execution_count": 320,
   "metadata": {
    "collapsed": false
   },
   "outputs": [
    {
     "data": {
      "text/plain": [
       "Index([u'C/A', u'UNIT', u'SCP', u'STATION', u'LINENAME', u'DIVISION', u'DATE',\n",
       "       u'TIME', u'DESC', u'ENTRIES', u'EXITS', u'DATETIME'],\n",
       "      dtype='object')"
      ]
     },
     "execution_count": 320,
     "metadata": {},
     "output_type": "execute_result"
    }
   ],
   "source": [
    "df.columns"
   ]
  },
  {
   "cell_type": "code",
   "execution_count": 321,
   "metadata": {
    "collapsed": false
   },
   "outputs": [
    {
     "data": {
      "text/html": [
       "<div>\n",
       "<table border=\"1\" class=\"dataframe\">\n",
       "  <thead>\n",
       "    <tr style=\"text-align: right;\">\n",
       "      <th></th>\n",
       "      <th>C/A</th>\n",
       "      <th>UNIT</th>\n",
       "      <th>SCP</th>\n",
       "      <th>STATION</th>\n",
       "      <th>LINENAME</th>\n",
       "      <th>DIVISION</th>\n",
       "      <th>DATE</th>\n",
       "      <th>TIME</th>\n",
       "      <th>DESC</th>\n",
       "      <th>ENTRIES</th>\n",
       "      <th>EXITS</th>\n",
       "      <th>DATETIME</th>\n",
       "      <th>PERIOD_ENTERED</th>\n",
       "      <th>PERIOD_EXITED</th>\n",
       "      <th>PERIOD_IMPRESSION</th>\n",
       "    </tr>\n",
       "  </thead>\n",
       "  <tbody>\n",
       "    <tr>\n",
       "      <th>0</th>\n",
       "      <td>A002</td>\n",
       "      <td>R051</td>\n",
       "      <td>02-00-00</td>\n",
       "      <td>59 ST</td>\n",
       "      <td>NQR456</td>\n",
       "      <td>BMT</td>\n",
       "      <td>09/10/2016</td>\n",
       "      <td>00:00:00</td>\n",
       "      <td>REGULAR</td>\n",
       "      <td>5817505</td>\n",
       "      <td>1971936</td>\n",
       "      <td>2016-09-10 00:00:00</td>\n",
       "      <td>0.0</td>\n",
       "      <td>0.0</td>\n",
       "      <td>0.0</td>\n",
       "    </tr>\n",
       "    <tr>\n",
       "      <th>1</th>\n",
       "      <td>A002</td>\n",
       "      <td>R051</td>\n",
       "      <td>02-00-00</td>\n",
       "      <td>59 ST</td>\n",
       "      <td>NQR456</td>\n",
       "      <td>BMT</td>\n",
       "      <td>09/10/2016</td>\n",
       "      <td>04:00:00</td>\n",
       "      <td>REGULAR</td>\n",
       "      <td>5817544</td>\n",
       "      <td>1971940</td>\n",
       "      <td>2016-09-10 04:00:00</td>\n",
       "      <td>39.0</td>\n",
       "      <td>4.0</td>\n",
       "      <td>43.0</td>\n",
       "    </tr>\n",
       "    <tr>\n",
       "      <th>2</th>\n",
       "      <td>A002</td>\n",
       "      <td>R051</td>\n",
       "      <td>02-00-00</td>\n",
       "      <td>59 ST</td>\n",
       "      <td>NQR456</td>\n",
       "      <td>BMT</td>\n",
       "      <td>09/10/2016</td>\n",
       "      <td>08:00:00</td>\n",
       "      <td>REGULAR</td>\n",
       "      <td>5817564</td>\n",
       "      <td>1971981</td>\n",
       "      <td>2016-09-10 08:00:00</td>\n",
       "      <td>20.0</td>\n",
       "      <td>41.0</td>\n",
       "      <td>61.0</td>\n",
       "    </tr>\n",
       "  </tbody>\n",
       "</table>\n",
       "</div>"
      ],
      "text/plain": [
       "    C/A  UNIT       SCP STATION LINENAME DIVISION        DATE      TIME  \\\n",
       "0  A002  R051  02-00-00   59 ST   NQR456      BMT  09/10/2016  00:00:00   \n",
       "1  A002  R051  02-00-00   59 ST   NQR456      BMT  09/10/2016  04:00:00   \n",
       "2  A002  R051  02-00-00   59 ST   NQR456      BMT  09/10/2016  08:00:00   \n",
       "\n",
       "      DESC  ENTRIES    EXITS            DATETIME  PERIOD_ENTERED  \\\n",
       "0  REGULAR  5817505  1971936 2016-09-10 00:00:00             0.0   \n",
       "1  REGULAR  5817544  1971940 2016-09-10 04:00:00            39.0   \n",
       "2  REGULAR  5817564  1971981 2016-09-10 08:00:00            20.0   \n",
       "\n",
       "   PERIOD_EXITED  PERIOD_IMPRESSION  \n",
       "0            0.0                0.0  \n",
       "1            4.0               43.0  \n",
       "2           41.0               61.0  "
      ]
     },
     "execution_count": 321,
     "metadata": {},
     "output_type": "execute_result"
    }
   ],
   "source": [
    "pd.options.mode.chained_assignment = None\n",
    "\n",
    "listz = []  \n",
    "\n",
    "grouped_object = df.groupby(['C/A','UNIT','SCP','STATION'])\n",
    "\n",
    "for category, dataframe in grouped_object:    \n",
    "    \n",
    "    dataframe['PERIOD_ENTERED'] = (dataframe['ENTRIES'] - dataframe['ENTRIES'].shift()).abs()  \n",
    "    dataframe['PERIOD_EXITED'] = (dataframe['EXITS'] - dataframe['EXITS'].shift()).abs()\n",
    "    dataframe['PERIOD_IMPRESSION'] = dataframe['PERIOD_ENTERED'] + dataframe['PERIOD_EXITED']\n",
    "    \n",
    "    dataframe.loc[dataframe['PERIOD_ENTERED']>3000, 'PERIOD_ENTERED'] = 0\n",
    "    dataframe.loc[dataframe['PERIOD_EXITED']>3000, 'PERIOD_EXITED'] = 0\n",
    "    \n",
    "    listz.append(dataframe)    \n",
    "    \n",
    "df1 = pd.concat(listz, ignore_index=True)\n",
    "df1.fillna(0, inplace=True)\n",
    "df1.head(3)"
   ]
  },
  {
   "cell_type": "code",
   "execution_count": 322,
   "metadata": {
    "collapsed": false
   },
   "outputs": [
    {
     "data": {
      "text/html": [
       "<div>\n",
       "<table border=\"1\" class=\"dataframe\">\n",
       "  <thead>\n",
       "    <tr style=\"text-align: right;\">\n",
       "      <th></th>\n",
       "      <th>C/A</th>\n",
       "      <th>UNIT</th>\n",
       "      <th>SCP</th>\n",
       "      <th>STATION</th>\n",
       "      <th>LINENAME</th>\n",
       "      <th>DIVISION</th>\n",
       "      <th>DATE</th>\n",
       "      <th>TIME</th>\n",
       "      <th>DESC</th>\n",
       "      <th>ENTRIES</th>\n",
       "      <th>EXITS</th>\n",
       "      <th>DATETIME</th>\n",
       "      <th>PERIOD_ENTERED</th>\n",
       "      <th>PERIOD_EXITED</th>\n",
       "      <th>PERIOD_IMPRESSION</th>\n",
       "      <th>DAILY_ENTRY</th>\n",
       "      <th>DAILY_EXIT</th>\n",
       "      <th>DAILY_IMPRESSION</th>\n",
       "    </tr>\n",
       "  </thead>\n",
       "  <tbody>\n",
       "    <tr>\n",
       "      <th>0</th>\n",
       "      <td>A002</td>\n",
       "      <td>R051</td>\n",
       "      <td>02-00-00</td>\n",
       "      <td>59 ST</td>\n",
       "      <td>NQR456</td>\n",
       "      <td>BMT</td>\n",
       "      <td>09/10/2016</td>\n",
       "      <td>00:00:00</td>\n",
       "      <td>REGULAR</td>\n",
       "      <td>5817505</td>\n",
       "      <td>1971936</td>\n",
       "      <td>2016-09-10 00:00:00</td>\n",
       "      <td>0.0</td>\n",
       "      <td>0.0</td>\n",
       "      <td>0.0</td>\n",
       "      <td>742.0</td>\n",
       "      <td>309.0</td>\n",
       "      <td>1051.0</td>\n",
       "    </tr>\n",
       "    <tr>\n",
       "      <th>1</th>\n",
       "      <td>A002</td>\n",
       "      <td>R051</td>\n",
       "      <td>02-00-00</td>\n",
       "      <td>59 ST</td>\n",
       "      <td>NQR456</td>\n",
       "      <td>BMT</td>\n",
       "      <td>09/10/2016</td>\n",
       "      <td>04:00:00</td>\n",
       "      <td>REGULAR</td>\n",
       "      <td>5817544</td>\n",
       "      <td>1971940</td>\n",
       "      <td>2016-09-10 04:00:00</td>\n",
       "      <td>39.0</td>\n",
       "      <td>4.0</td>\n",
       "      <td>43.0</td>\n",
       "      <td>742.0</td>\n",
       "      <td>309.0</td>\n",
       "      <td>1051.0</td>\n",
       "    </tr>\n",
       "  </tbody>\n",
       "</table>\n",
       "</div>"
      ],
      "text/plain": [
       "    C/A  UNIT       SCP STATION LINENAME DIVISION        DATE      TIME  \\\n",
       "0  A002  R051  02-00-00   59 ST   NQR456      BMT  09/10/2016  00:00:00   \n",
       "1  A002  R051  02-00-00   59 ST   NQR456      BMT  09/10/2016  04:00:00   \n",
       "\n",
       "      DESC  ENTRIES    EXITS            DATETIME  PERIOD_ENTERED  \\\n",
       "0  REGULAR  5817505  1971936 2016-09-10 00:00:00             0.0   \n",
       "1  REGULAR  5817544  1971940 2016-09-10 04:00:00            39.0   \n",
       "\n",
       "   PERIOD_EXITED  PERIOD_IMPRESSION  DAILY_ENTRY  DAILY_EXIT  DAILY_IMPRESSION  \n",
       "0            0.0                0.0        742.0       309.0            1051.0  \n",
       "1            4.0               43.0        742.0       309.0            1051.0  "
      ]
     },
     "execution_count": 322,
     "metadata": {},
     "output_type": "execute_result"
    }
   ],
   "source": [
    "listz = []  \n",
    "\n",
    "grouped_object = df1.groupby(['C/A','UNIT','SCP','STATION','DATE']) \n",
    "\n",
    "for category, dataframe in grouped_object:    \n",
    "    \n",
    "    dataframe['DAILY_ENTRY'] = dataframe['PERIOD_ENTERED'].sum()\n",
    "    dataframe['DAILY_EXIT'] = dataframe['PERIOD_EXITED'].sum()\n",
    "    dataframe['DAILY_IMPRESSION'] = dataframe['DAILY_ENTRY'] + dataframe['DAILY_EXIT']\n",
    "    \n",
    "    listz.append(dataframe)    \n",
    "    \n",
    "df2 = pd.concat(listz, ignore_index=True)\n",
    "df2.head(2)"
   ]
  },
  {
   "cell_type": "code",
   "execution_count": 323,
   "metadata": {
    "collapsed": false
   },
   "outputs": [
    {
     "data": {
      "text/html": [
       "<div>\n",
       "<table border=\"1\" class=\"dataframe\">\n",
       "  <thead>\n",
       "    <tr style=\"text-align: right;\">\n",
       "      <th></th>\n",
       "      <th>C/A</th>\n",
       "      <th>UNIT</th>\n",
       "      <th>SCP</th>\n",
       "      <th>STATION</th>\n",
       "      <th>LINENAME</th>\n",
       "      <th>DIVISION</th>\n",
       "      <th>DATE</th>\n",
       "      <th>TIME</th>\n",
       "      <th>DESC</th>\n",
       "      <th>ENTRIES</th>\n",
       "      <th>EXITS</th>\n",
       "      <th>DATETIME</th>\n",
       "      <th>PERIOD_ENTERED</th>\n",
       "      <th>PERIOD_EXITED</th>\n",
       "      <th>PERIOD_IMPRESSION</th>\n",
       "      <th>DAILY_ENTRY</th>\n",
       "      <th>DAILY_EXIT</th>\n",
       "      <th>DAILY_IMPRESSION</th>\n",
       "    </tr>\n",
       "  </thead>\n",
       "  <tbody>\n",
       "    <tr>\n",
       "      <th>0</th>\n",
       "      <td>A002</td>\n",
       "      <td>R051</td>\n",
       "      <td>02-00-00</td>\n",
       "      <td>59 ST</td>\n",
       "      <td>NQR456</td>\n",
       "      <td>BMT</td>\n",
       "      <td>09/10/2016</td>\n",
       "      <td>00:00:00</td>\n",
       "      <td>REGULAR</td>\n",
       "      <td>5817505</td>\n",
       "      <td>1971936</td>\n",
       "      <td>2016-09-10 00:00:00</td>\n",
       "      <td>0.0</td>\n",
       "      <td>0.0</td>\n",
       "      <td>0.0</td>\n",
       "      <td>742.0</td>\n",
       "      <td>309.0</td>\n",
       "      <td>1051.0</td>\n",
       "    </tr>\n",
       "    <tr>\n",
       "      <th>1</th>\n",
       "      <td>A002</td>\n",
       "      <td>R051</td>\n",
       "      <td>02-00-00</td>\n",
       "      <td>59 ST</td>\n",
       "      <td>NQR456</td>\n",
       "      <td>BMT</td>\n",
       "      <td>09/10/2016</td>\n",
       "      <td>04:00:00</td>\n",
       "      <td>REGULAR</td>\n",
       "      <td>5817544</td>\n",
       "      <td>1971940</td>\n",
       "      <td>2016-09-10 04:00:00</td>\n",
       "      <td>39.0</td>\n",
       "      <td>4.0</td>\n",
       "      <td>43.0</td>\n",
       "      <td>742.0</td>\n",
       "      <td>309.0</td>\n",
       "      <td>1051.0</td>\n",
       "    </tr>\n",
       "  </tbody>\n",
       "</table>\n",
       "</div>"
      ],
      "text/plain": [
       "    C/A  UNIT       SCP STATION LINENAME DIVISION        DATE      TIME  \\\n",
       "0  A002  R051  02-00-00   59 ST   NQR456      BMT  09/10/2016  00:00:00   \n",
       "1  A002  R051  02-00-00   59 ST   NQR456      BMT  09/10/2016  04:00:00   \n",
       "\n",
       "      DESC  ENTRIES    EXITS            DATETIME  PERIOD_ENTERED  \\\n",
       "0  REGULAR  5817505  1971936 2016-09-10 00:00:00             0.0   \n",
       "1  REGULAR  5817544  1971940 2016-09-10 04:00:00            39.0   \n",
       "\n",
       "   PERIOD_EXITED  PERIOD_IMPRESSION  DAILY_ENTRY  DAILY_EXIT  DAILY_IMPRESSION  \n",
       "0            0.0                0.0        742.0       309.0            1051.0  \n",
       "1            4.0               43.0        742.0       309.0            1051.0  "
      ]
     },
     "execution_count": 323,
     "metadata": {},
     "output_type": "execute_result"
    }
   ],
   "source": [
    "df2.head(2)"
   ]
  },
  {
   "cell_type": "markdown",
   "metadata": {},
   "source": [
    "#### Exercise 1.4"
   ]
  },
  {
   "cell_type": "markdown",
   "metadata": {},
   "source": [
    "We will plot the daily time series for a turnstile.\n",
    "\n",
    "In Jupyter notebook, add this to the beginning of your next cell:\n",
    "\n",
    "    %matplotlib inline\n",
    "\n",
    "This will make your matplotlib graphs integrate nicely with the\n",
    "notebook. To plot the time series, import matplotlib with\n",
    "\n",
    "    import matplotlib.pyplot as plt\n",
    "\n",
    "Take the list of [(date1, count1), (date2, count2), ...], for the\n",
    "turnstile and turn it into two lists:\n",
    "dates and counts. This should plot it:\n",
    "\n",
    "    plt.figure(figsize=(10,3))\n",
    "    plt.plot(dates,counts)"
   ]
  },
  {
   "cell_type": "code",
   "execution_count": 324,
   "metadata": {
    "collapsed": false
   },
   "outputs": [
    {
     "data": {
      "text/html": [
       "<div>\n",
       "<table border=\"1\" class=\"dataframe\">\n",
       "  <thead>\n",
       "    <tr style=\"text-align: right;\">\n",
       "      <th></th>\n",
       "      <th>C/A</th>\n",
       "      <th>UNIT</th>\n",
       "      <th>SCP</th>\n",
       "      <th>STATION</th>\n",
       "      <th>LINENAME</th>\n",
       "      <th>DIVISION</th>\n",
       "      <th>DATE</th>\n",
       "      <th>TIME</th>\n",
       "      <th>DESC</th>\n",
       "      <th>ENTRIES</th>\n",
       "      <th>EXITS</th>\n",
       "      <th>DATETIME</th>\n",
       "      <th>PERIOD_ENTERED</th>\n",
       "      <th>PERIOD_EXITED</th>\n",
       "      <th>PERIOD_IMPRESSION</th>\n",
       "      <th>DAILY_ENTRY</th>\n",
       "      <th>DAILY_EXIT</th>\n",
       "      <th>DAILY_IMPRESSION</th>\n",
       "    </tr>\n",
       "  </thead>\n",
       "  <tbody>\n",
       "    <tr>\n",
       "      <th>0</th>\n",
       "      <td>A002</td>\n",
       "      <td>R051</td>\n",
       "      <td>02-00-00</td>\n",
       "      <td>59 ST</td>\n",
       "      <td>NQR456</td>\n",
       "      <td>BMT</td>\n",
       "      <td>09/10/2016</td>\n",
       "      <td>00:00:00</td>\n",
       "      <td>REGULAR</td>\n",
       "      <td>5817505</td>\n",
       "      <td>1971936</td>\n",
       "      <td>2016-09-10 00:00:00</td>\n",
       "      <td>0.0</td>\n",
       "      <td>0.0</td>\n",
       "      <td>0.0</td>\n",
       "      <td>742.0</td>\n",
       "      <td>309.0</td>\n",
       "      <td>1051.0</td>\n",
       "    </tr>\n",
       "    <tr>\n",
       "      <th>1</th>\n",
       "      <td>A002</td>\n",
       "      <td>R051</td>\n",
       "      <td>02-00-00</td>\n",
       "      <td>59 ST</td>\n",
       "      <td>NQR456</td>\n",
       "      <td>BMT</td>\n",
       "      <td>09/10/2016</td>\n",
       "      <td>04:00:00</td>\n",
       "      <td>REGULAR</td>\n",
       "      <td>5817544</td>\n",
       "      <td>1971940</td>\n",
       "      <td>2016-09-10 04:00:00</td>\n",
       "      <td>39.0</td>\n",
       "      <td>4.0</td>\n",
       "      <td>43.0</td>\n",
       "      <td>742.0</td>\n",
       "      <td>309.0</td>\n",
       "      <td>1051.0</td>\n",
       "    </tr>\n",
       "  </tbody>\n",
       "</table>\n",
       "</div>"
      ],
      "text/plain": [
       "    C/A  UNIT       SCP STATION LINENAME DIVISION        DATE      TIME  \\\n",
       "0  A002  R051  02-00-00   59 ST   NQR456      BMT  09/10/2016  00:00:00   \n",
       "1  A002  R051  02-00-00   59 ST   NQR456      BMT  09/10/2016  04:00:00   \n",
       "\n",
       "      DESC  ENTRIES    EXITS            DATETIME  PERIOD_ENTERED  \\\n",
       "0  REGULAR  5817505  1971936 2016-09-10 00:00:00             0.0   \n",
       "1  REGULAR  5817544  1971940 2016-09-10 04:00:00            39.0   \n",
       "\n",
       "   PERIOD_EXITED  PERIOD_IMPRESSION  DAILY_ENTRY  DAILY_EXIT  DAILY_IMPRESSION  \n",
       "0            0.0                0.0        742.0       309.0            1051.0  \n",
       "1            4.0               43.0        742.0       309.0            1051.0  "
      ]
     },
     "execution_count": 324,
     "metadata": {},
     "output_type": "execute_result"
    }
   ],
   "source": [
    "df2.head(2)"
   ]
  },
  {
   "cell_type": "code",
   "execution_count": 325,
   "metadata": {
    "collapsed": false
   },
   "outputs": [
    {
     "data": {
      "text/html": [
       "<div>\n",
       "<table border=\"1\" class=\"dataframe\">\n",
       "  <thead>\n",
       "    <tr style=\"text-align: right;\">\n",
       "      <th></th>\n",
       "      <th>C/A</th>\n",
       "      <th>UNIT</th>\n",
       "      <th>SCP</th>\n",
       "      <th>STATION</th>\n",
       "      <th>DATE</th>\n",
       "      <th>level_5</th>\n",
       "      <th>0</th>\n",
       "    </tr>\n",
       "  </thead>\n",
       "  <tbody>\n",
       "    <tr>\n",
       "      <th>0</th>\n",
       "      <td>A002</td>\n",
       "      <td>R051</td>\n",
       "      <td>02-00-00</td>\n",
       "      <td>59 ST</td>\n",
       "      <td>09/10/2016</td>\n",
       "      <td>0</td>\n",
       "      <td>742.0</td>\n",
       "    </tr>\n",
       "    <tr>\n",
       "      <th>1</th>\n",
       "      <td>A002</td>\n",
       "      <td>R051</td>\n",
       "      <td>02-00-00</td>\n",
       "      <td>59 ST</td>\n",
       "      <td>09/11/2016</td>\n",
       "      <td>6</td>\n",
       "      <td>727.0</td>\n",
       "    </tr>\n",
       "    <tr>\n",
       "      <th>2</th>\n",
       "      <td>A002</td>\n",
       "      <td>R051</td>\n",
       "      <td>02-00-00</td>\n",
       "      <td>59 ST</td>\n",
       "      <td>09/12/2016</td>\n",
       "      <td>12</td>\n",
       "      <td>1574.0</td>\n",
       "    </tr>\n",
       "    <tr>\n",
       "      <th>3</th>\n",
       "      <td>A002</td>\n",
       "      <td>R051</td>\n",
       "      <td>02-00-00</td>\n",
       "      <td>59 ST</td>\n",
       "      <td>09/13/2016</td>\n",
       "      <td>18</td>\n",
       "      <td>1724.0</td>\n",
       "    </tr>\n",
       "    <tr>\n",
       "      <th>4</th>\n",
       "      <td>A002</td>\n",
       "      <td>R051</td>\n",
       "      <td>02-00-00</td>\n",
       "      <td>59 ST</td>\n",
       "      <td>09/14/2016</td>\n",
       "      <td>24</td>\n",
       "      <td>1760.0</td>\n",
       "    </tr>\n",
       "  </tbody>\n",
       "</table>\n",
       "</div>"
      ],
      "text/plain": [
       "    C/A  UNIT       SCP STATION        DATE  level_5       0\n",
       "0  A002  R051  02-00-00   59 ST  09/10/2016        0   742.0\n",
       "1  A002  R051  02-00-00   59 ST  09/11/2016        6   727.0\n",
       "2  A002  R051  02-00-00   59 ST  09/12/2016       12  1574.0\n",
       "3  A002  R051  02-00-00   59 ST  09/13/2016       18  1724.0\n",
       "4  A002  R051  02-00-00   59 ST  09/14/2016       24  1760.0"
      ]
     },
     "execution_count": 325,
     "metadata": {},
     "output_type": "execute_result"
    }
   ],
   "source": [
    "# we just need one value of the groupby object for unique turnstile total daily entry count\n",
    "# this is one way but I later realized there were two better methods \n",
    "df2.groupby([\"C/A\", \"UNIT\", \"SCP\", \"STATION\", \"DATE\"])['DAILY_ENTRY'].apply(lambda x:x[0:1]).reset_index().head()"
   ]
  },
  {
   "cell_type": "code",
   "execution_count": 461,
   "metadata": {
    "collapsed": false
   },
   "outputs": [
    {
     "data": {
      "text/html": [
       "<div>\n",
       "<table border=\"1\" class=\"dataframe\">\n",
       "  <thead>\n",
       "    <tr style=\"text-align: right;\">\n",
       "      <th></th>\n",
       "      <th></th>\n",
       "      <th></th>\n",
       "      <th></th>\n",
       "      <th></th>\n",
       "      <th>DAILY_ENTRY</th>\n",
       "    </tr>\n",
       "    <tr>\n",
       "      <th>C/A</th>\n",
       "      <th>UNIT</th>\n",
       "      <th>SCP</th>\n",
       "      <th>STATION</th>\n",
       "      <th>DATE</th>\n",
       "      <th></th>\n",
       "    </tr>\n",
       "  </thead>\n",
       "  <tbody>\n",
       "    <tr>\n",
       "      <th rowspan=\"5\" valign=\"top\">A002</th>\n",
       "      <th rowspan=\"5\" valign=\"top\">R051</th>\n",
       "      <th rowspan=\"5\" valign=\"top\">02-00-00</th>\n",
       "      <th rowspan=\"5\" valign=\"top\">59 ST</th>\n",
       "      <th>09/10/2016</th>\n",
       "      <td>742.0</td>\n",
       "    </tr>\n",
       "    <tr>\n",
       "      <th>09/11/2016</th>\n",
       "      <td>727.0</td>\n",
       "    </tr>\n",
       "    <tr>\n",
       "      <th>09/12/2016</th>\n",
       "      <td>1574.0</td>\n",
       "    </tr>\n",
       "    <tr>\n",
       "      <th>09/13/2016</th>\n",
       "      <td>1724.0</td>\n",
       "    </tr>\n",
       "    <tr>\n",
       "      <th>09/14/2016</th>\n",
       "      <td>1760.0</td>\n",
       "    </tr>\n",
       "  </tbody>\n",
       "</table>\n",
       "</div>"
      ],
      "text/plain": [
       "                                       DAILY_ENTRY\n",
       "C/A  UNIT SCP      STATION DATE                   \n",
       "A002 R051 02-00-00 59 ST   09/10/2016        742.0\n",
       "                           09/11/2016        727.0\n",
       "                           09/12/2016       1574.0\n",
       "                           09/13/2016       1724.0\n",
       "                           09/14/2016       1760.0"
      ]
     },
     "execution_count": 461,
     "metadata": {},
     "output_type": "execute_result"
    }
   ],
   "source": [
    "df2.groupby([\"C/A\", \"UNIT\", \"SCP\", \"STATION\", \"DATE\"])[['DAILY_ENTRY']].nth(0).head()"
   ]
  },
  {
   "cell_type": "code",
   "execution_count": 465,
   "metadata": {
    "collapsed": false
   },
   "outputs": [],
   "source": [
    "df2.set_index('DATETIME',inplace=True)"
   ]
  },
  {
   "cell_type": "code",
   "execution_count": 466,
   "metadata": {
    "collapsed": false
   },
   "outputs": [
    {
     "name": "stderr",
     "output_type": "stream",
     "text": [
      "/Users/dhkim/anaconda/lib/python2.7/site-packages/ipykernel/__main__.py:1: FutureWarning: how in .resample() is deprecated\n",
      "the new syntax is .resample(...).sum()\n",
      "  if __name__ == '__main__':\n"
     ]
    },
    {
     "data": {
      "text/html": [
       "<div>\n",
       "<table border=\"1\" class=\"dataframe\">\n",
       "  <thead>\n",
       "    <tr style=\"text-align: right;\">\n",
       "      <th></th>\n",
       "      <th></th>\n",
       "      <th></th>\n",
       "      <th></th>\n",
       "      <th></th>\n",
       "      <th></th>\n",
       "      <th>DAILY_ENTRY</th>\n",
       "    </tr>\n",
       "    <tr>\n",
       "      <th>C/A</th>\n",
       "      <th>UNIT</th>\n",
       "      <th>SCP</th>\n",
       "      <th>STATION</th>\n",
       "      <th>DATE</th>\n",
       "      <th>DATETIME</th>\n",
       "      <th></th>\n",
       "    </tr>\n",
       "  </thead>\n",
       "  <tbody>\n",
       "    <tr>\n",
       "      <th rowspan=\"30\" valign=\"top\">A002</th>\n",
       "      <th rowspan=\"30\" valign=\"top\">R051</th>\n",
       "      <th rowspan=\"14\" valign=\"top\">02-00-00</th>\n",
       "      <th rowspan=\"14\" valign=\"top\">59 ST</th>\n",
       "      <th>09/10/2016</th>\n",
       "      <th>2016-09-11</th>\n",
       "      <td>4452.0</td>\n",
       "    </tr>\n",
       "    <tr>\n",
       "      <th>09/11/2016</th>\n",
       "      <th>2016-09-11</th>\n",
       "      <td>4362.0</td>\n",
       "    </tr>\n",
       "    <tr>\n",
       "      <th>09/12/2016</th>\n",
       "      <th>2016-09-18</th>\n",
       "      <td>9444.0</td>\n",
       "    </tr>\n",
       "    <tr>\n",
       "      <th>09/13/2016</th>\n",
       "      <th>2016-09-18</th>\n",
       "      <td>10344.0</td>\n",
       "    </tr>\n",
       "    <tr>\n",
       "      <th>09/14/2016</th>\n",
       "      <th>2016-09-18</th>\n",
       "      <td>10560.0</td>\n",
       "    </tr>\n",
       "    <tr>\n",
       "      <th>09/15/2016</th>\n",
       "      <th>2016-09-18</th>\n",
       "      <td>10650.0</td>\n",
       "    </tr>\n",
       "    <tr>\n",
       "      <th>09/16/2016</th>\n",
       "      <th>2016-09-18</th>\n",
       "      <td>10740.0</td>\n",
       "    </tr>\n",
       "    <tr>\n",
       "      <th>09/17/2016</th>\n",
       "      <th>2016-09-18</th>\n",
       "      <td>6690.0</td>\n",
       "    </tr>\n",
       "    <tr>\n",
       "      <th>09/18/2016</th>\n",
       "      <th>2016-09-18</th>\n",
       "      <td>4404.0</td>\n",
       "    </tr>\n",
       "    <tr>\n",
       "      <th>09/19/2016</th>\n",
       "      <th>2016-09-25</th>\n",
       "      <td>9696.0</td>\n",
       "    </tr>\n",
       "    <tr>\n",
       "      <th>09/20/2016</th>\n",
       "      <th>2016-09-25</th>\n",
       "      <td>10668.0</td>\n",
       "    </tr>\n",
       "    <tr>\n",
       "      <th>09/21/2016</th>\n",
       "      <th>2016-09-25</th>\n",
       "      <td>10890.0</td>\n",
       "    </tr>\n",
       "    <tr>\n",
       "      <th>09/22/2016</th>\n",
       "      <th>2016-09-25</th>\n",
       "      <td>10662.0</td>\n",
       "    </tr>\n",
       "    <tr>\n",
       "      <th>09/23/2016</th>\n",
       "      <th>2016-09-25</th>\n",
       "      <td>10812.0</td>\n",
       "    </tr>\n",
       "    <tr>\n",
       "      <th rowspan=\"14\" valign=\"top\">02-00-01</th>\n",
       "      <th rowspan=\"14\" valign=\"top\">59 ST</th>\n",
       "      <th>09/10/2016</th>\n",
       "      <th>2016-09-11</th>\n",
       "      <td>4026.0</td>\n",
       "    </tr>\n",
       "    <tr>\n",
       "      <th>09/11/2016</th>\n",
       "      <th>2016-09-11</th>\n",
       "      <td>4050.0</td>\n",
       "    </tr>\n",
       "    <tr>\n",
       "      <th>09/12/2016</th>\n",
       "      <th>2016-09-18</th>\n",
       "      <td>7812.0</td>\n",
       "    </tr>\n",
       "    <tr>\n",
       "      <th>09/13/2016</th>\n",
       "      <th>2016-09-18</th>\n",
       "      <td>8868.0</td>\n",
       "    </tr>\n",
       "    <tr>\n",
       "      <th>09/14/2016</th>\n",
       "      <th>2016-09-18</th>\n",
       "      <td>8904.0</td>\n",
       "    </tr>\n",
       "    <tr>\n",
       "      <th>09/15/2016</th>\n",
       "      <th>2016-09-18</th>\n",
       "      <td>8436.0</td>\n",
       "    </tr>\n",
       "    <tr>\n",
       "      <th>09/16/2016</th>\n",
       "      <th>2016-09-18</th>\n",
       "      <td>8916.0</td>\n",
       "    </tr>\n",
       "    <tr>\n",
       "      <th>09/17/2016</th>\n",
       "      <th>2016-09-18</th>\n",
       "      <td>5916.0</td>\n",
       "    </tr>\n",
       "    <tr>\n",
       "      <th>09/18/2016</th>\n",
       "      <th>2016-09-18</th>\n",
       "      <td>4110.0</td>\n",
       "    </tr>\n",
       "    <tr>\n",
       "      <th>09/19/2016</th>\n",
       "      <th>2016-09-25</th>\n",
       "      <td>7986.0</td>\n",
       "    </tr>\n",
       "    <tr>\n",
       "      <th>09/20/2016</th>\n",
       "      <th>2016-09-25</th>\n",
       "      <td>9234.0</td>\n",
       "    </tr>\n",
       "    <tr>\n",
       "      <th>09/21/2016</th>\n",
       "      <th>2016-09-25</th>\n",
       "      <td>8778.0</td>\n",
       "    </tr>\n",
       "    <tr>\n",
       "      <th>09/22/2016</th>\n",
       "      <th>2016-09-25</th>\n",
       "      <td>8730.0</td>\n",
       "    </tr>\n",
       "    <tr>\n",
       "      <th>09/23/2016</th>\n",
       "      <th>2016-09-25</th>\n",
       "      <td>9360.0</td>\n",
       "    </tr>\n",
       "    <tr>\n",
       "      <th rowspan=\"2\" valign=\"top\">02-03-00</th>\n",
       "      <th rowspan=\"2\" valign=\"top\">59 ST</th>\n",
       "      <th>09/10/2016</th>\n",
       "      <th>2016-09-11</th>\n",
       "      <td>3378.0</td>\n",
       "    </tr>\n",
       "    <tr>\n",
       "      <th>09/11/2016</th>\n",
       "      <th>2016-09-11</th>\n",
       "      <td>3822.0</td>\n",
       "    </tr>\n",
       "    <tr>\n",
       "      <th>...</th>\n",
       "      <th>...</th>\n",
       "      <th>...</th>\n",
       "      <th>...</th>\n",
       "      <th>...</th>\n",
       "      <th>...</th>\n",
       "      <td>...</td>\n",
       "    </tr>\n",
       "    <tr>\n",
       "      <th rowspan=\"30\" valign=\"top\">TRAM2</th>\n",
       "      <th rowspan=\"30\" valign=\"top\">R469</th>\n",
       "      <th rowspan=\"2\" valign=\"top\">00-03-01</th>\n",
       "      <th rowspan=\"2\" valign=\"top\">RIT-ROOSEVELT</th>\n",
       "      <th>09/22/2016</th>\n",
       "      <th>2016-09-25</th>\n",
       "      <td>1530.0</td>\n",
       "    </tr>\n",
       "    <tr>\n",
       "      <th>09/23/2016</th>\n",
       "      <th>2016-09-25</th>\n",
       "      <td>1878.0</td>\n",
       "    </tr>\n",
       "    <tr>\n",
       "      <th rowspan=\"14\" valign=\"top\">00-05-00</th>\n",
       "      <th rowspan=\"14\" valign=\"top\">RIT-ROOSEVELT</th>\n",
       "      <th>09/10/2016</th>\n",
       "      <th>2016-09-11</th>\n",
       "      <td>12.0</td>\n",
       "    </tr>\n",
       "    <tr>\n",
       "      <th>09/11/2016</th>\n",
       "      <th>2016-09-11</th>\n",
       "      <td>0.0</td>\n",
       "    </tr>\n",
       "    <tr>\n",
       "      <th>09/12/2016</th>\n",
       "      <th>2016-09-18</th>\n",
       "      <td>6.0</td>\n",
       "    </tr>\n",
       "    <tr>\n",
       "      <th>09/13/2016</th>\n",
       "      <th>2016-09-18</th>\n",
       "      <td>18.0</td>\n",
       "    </tr>\n",
       "    <tr>\n",
       "      <th>09/14/2016</th>\n",
       "      <th>2016-09-18</th>\n",
       "      <td>6.0</td>\n",
       "    </tr>\n",
       "    <tr>\n",
       "      <th>09/15/2016</th>\n",
       "      <th>2016-09-18</th>\n",
       "      <td>6.0</td>\n",
       "    </tr>\n",
       "    <tr>\n",
       "      <th>09/16/2016</th>\n",
       "      <th>2016-09-18</th>\n",
       "      <td>12.0</td>\n",
       "    </tr>\n",
       "    <tr>\n",
       "      <th>09/17/2016</th>\n",
       "      <th>2016-09-18</th>\n",
       "      <td>18.0</td>\n",
       "    </tr>\n",
       "    <tr>\n",
       "      <th>09/18/2016</th>\n",
       "      <th>2016-09-18</th>\n",
       "      <td>0.0</td>\n",
       "    </tr>\n",
       "    <tr>\n",
       "      <th>09/19/2016</th>\n",
       "      <th>2016-09-25</th>\n",
       "      <td>0.0</td>\n",
       "    </tr>\n",
       "    <tr>\n",
       "      <th>09/20/2016</th>\n",
       "      <th>2016-09-25</th>\n",
       "      <td>12.0</td>\n",
       "    </tr>\n",
       "    <tr>\n",
       "      <th>09/21/2016</th>\n",
       "      <th>2016-09-25</th>\n",
       "      <td>0.0</td>\n",
       "    </tr>\n",
       "    <tr>\n",
       "      <th>09/22/2016</th>\n",
       "      <th>2016-09-25</th>\n",
       "      <td>0.0</td>\n",
       "    </tr>\n",
       "    <tr>\n",
       "      <th>09/23/2016</th>\n",
       "      <th>2016-09-25</th>\n",
       "      <td>0.0</td>\n",
       "    </tr>\n",
       "    <tr>\n",
       "      <th rowspan=\"14\" valign=\"top\">00-05-01</th>\n",
       "      <th rowspan=\"14\" valign=\"top\">RIT-ROOSEVELT</th>\n",
       "      <th>09/10/2016</th>\n",
       "      <th>2016-09-11</th>\n",
       "      <td>0.0</td>\n",
       "    </tr>\n",
       "    <tr>\n",
       "      <th>09/11/2016</th>\n",
       "      <th>2016-09-11</th>\n",
       "      <td>0.0</td>\n",
       "    </tr>\n",
       "    <tr>\n",
       "      <th>09/12/2016</th>\n",
       "      <th>2016-09-18</th>\n",
       "      <td>0.0</td>\n",
       "    </tr>\n",
       "    <tr>\n",
       "      <th>09/13/2016</th>\n",
       "      <th>2016-09-18</th>\n",
       "      <td>0.0</td>\n",
       "    </tr>\n",
       "    <tr>\n",
       "      <th>09/14/2016</th>\n",
       "      <th>2016-09-18</th>\n",
       "      <td>0.0</td>\n",
       "    </tr>\n",
       "    <tr>\n",
       "      <th>09/15/2016</th>\n",
       "      <th>2016-09-18</th>\n",
       "      <td>0.0</td>\n",
       "    </tr>\n",
       "    <tr>\n",
       "      <th>09/16/2016</th>\n",
       "      <th>2016-09-18</th>\n",
       "      <td>0.0</td>\n",
       "    </tr>\n",
       "    <tr>\n",
       "      <th>09/17/2016</th>\n",
       "      <th>2016-09-18</th>\n",
       "      <td>0.0</td>\n",
       "    </tr>\n",
       "    <tr>\n",
       "      <th>09/18/2016</th>\n",
       "      <th>2016-09-18</th>\n",
       "      <td>0.0</td>\n",
       "    </tr>\n",
       "    <tr>\n",
       "      <th>09/19/2016</th>\n",
       "      <th>2016-09-25</th>\n",
       "      <td>0.0</td>\n",
       "    </tr>\n",
       "    <tr>\n",
       "      <th>09/20/2016</th>\n",
       "      <th>2016-09-25</th>\n",
       "      <td>0.0</td>\n",
       "    </tr>\n",
       "    <tr>\n",
       "      <th>09/21/2016</th>\n",
       "      <th>2016-09-25</th>\n",
       "      <td>0.0</td>\n",
       "    </tr>\n",
       "    <tr>\n",
       "      <th>09/22/2016</th>\n",
       "      <th>2016-09-25</th>\n",
       "      <td>0.0</td>\n",
       "    </tr>\n",
       "    <tr>\n",
       "      <th>09/23/2016</th>\n",
       "      <th>2016-09-25</th>\n",
       "      <td>0.0</td>\n",
       "    </tr>\n",
       "  </tbody>\n",
       "</table>\n",
       "<p>63916 rows × 1 columns</p>\n",
       "</div>"
      ],
      "text/plain": [
       "                                                         DAILY_ENTRY\n",
       "C/A   UNIT SCP      STATION       DATE       DATETIME               \n",
       "A002  R051 02-00-00 59 ST         09/10/2016 2016-09-11       4452.0\n",
       "                                  09/11/2016 2016-09-11       4362.0\n",
       "                                  09/12/2016 2016-09-18       9444.0\n",
       "                                  09/13/2016 2016-09-18      10344.0\n",
       "                                  09/14/2016 2016-09-18      10560.0\n",
       "                                  09/15/2016 2016-09-18      10650.0\n",
       "                                  09/16/2016 2016-09-18      10740.0\n",
       "                                  09/17/2016 2016-09-18       6690.0\n",
       "                                  09/18/2016 2016-09-18       4404.0\n",
       "                                  09/19/2016 2016-09-25       9696.0\n",
       "                                  09/20/2016 2016-09-25      10668.0\n",
       "                                  09/21/2016 2016-09-25      10890.0\n",
       "                                  09/22/2016 2016-09-25      10662.0\n",
       "                                  09/23/2016 2016-09-25      10812.0\n",
       "           02-00-01 59 ST         09/10/2016 2016-09-11       4026.0\n",
       "                                  09/11/2016 2016-09-11       4050.0\n",
       "                                  09/12/2016 2016-09-18       7812.0\n",
       "                                  09/13/2016 2016-09-18       8868.0\n",
       "                                  09/14/2016 2016-09-18       8904.0\n",
       "                                  09/15/2016 2016-09-18       8436.0\n",
       "                                  09/16/2016 2016-09-18       8916.0\n",
       "                                  09/17/2016 2016-09-18       5916.0\n",
       "                                  09/18/2016 2016-09-18       4110.0\n",
       "                                  09/19/2016 2016-09-25       7986.0\n",
       "                                  09/20/2016 2016-09-25       9234.0\n",
       "                                  09/21/2016 2016-09-25       8778.0\n",
       "                                  09/22/2016 2016-09-25       8730.0\n",
       "                                  09/23/2016 2016-09-25       9360.0\n",
       "           02-03-00 59 ST         09/10/2016 2016-09-11       3378.0\n",
       "                                  09/11/2016 2016-09-11       3822.0\n",
       "...                                                              ...\n",
       "TRAM2 R469 00-03-01 RIT-ROOSEVELT 09/22/2016 2016-09-25       1530.0\n",
       "                                  09/23/2016 2016-09-25       1878.0\n",
       "           00-05-00 RIT-ROOSEVELT 09/10/2016 2016-09-11         12.0\n",
       "                                  09/11/2016 2016-09-11          0.0\n",
       "                                  09/12/2016 2016-09-18          6.0\n",
       "                                  09/13/2016 2016-09-18         18.0\n",
       "                                  09/14/2016 2016-09-18          6.0\n",
       "                                  09/15/2016 2016-09-18          6.0\n",
       "                                  09/16/2016 2016-09-18         12.0\n",
       "                                  09/17/2016 2016-09-18         18.0\n",
       "                                  09/18/2016 2016-09-18          0.0\n",
       "                                  09/19/2016 2016-09-25          0.0\n",
       "                                  09/20/2016 2016-09-25         12.0\n",
       "                                  09/21/2016 2016-09-25          0.0\n",
       "                                  09/22/2016 2016-09-25          0.0\n",
       "                                  09/23/2016 2016-09-25          0.0\n",
       "           00-05-01 RIT-ROOSEVELT 09/10/2016 2016-09-11          0.0\n",
       "                                  09/11/2016 2016-09-11          0.0\n",
       "                                  09/12/2016 2016-09-18          0.0\n",
       "                                  09/13/2016 2016-09-18          0.0\n",
       "                                  09/14/2016 2016-09-18          0.0\n",
       "                                  09/15/2016 2016-09-18          0.0\n",
       "                                  09/16/2016 2016-09-18          0.0\n",
       "                                  09/17/2016 2016-09-18          0.0\n",
       "                                  09/18/2016 2016-09-18          0.0\n",
       "                                  09/19/2016 2016-09-25          0.0\n",
       "                                  09/20/2016 2016-09-25          0.0\n",
       "                                  09/21/2016 2016-09-25          0.0\n",
       "                                  09/22/2016 2016-09-25          0.0\n",
       "                                  09/23/2016 2016-09-25          0.0\n",
       "\n",
       "[63916 rows x 1 columns]"
      ]
     },
     "execution_count": 466,
     "metadata": {},
     "output_type": "execute_result"
    }
   ],
   "source": [
    "df2.groupby([\"C/A\", \"UNIT\", \"SCP\", \"STATION\", \"DATE\"])[['DAILY_ENTRY']].resample('1w',how='sum')"
   ]
  },
  {
   "cell_type": "code",
   "execution_count": 326,
   "metadata": {
    "collapsed": false
   },
   "outputs": [
    {
     "data": {
      "text/html": [
       "<div>\n",
       "<table border=\"1\" class=\"dataframe\">\n",
       "  <thead>\n",
       "    <tr style=\"text-align: right;\">\n",
       "      <th></th>\n",
       "      <th>C/A</th>\n",
       "      <th>UNIT</th>\n",
       "      <th>SCP</th>\n",
       "      <th>STATION</th>\n",
       "      <th>DATE</th>\n",
       "      <th>DAILY_ENTRY</th>\n",
       "    </tr>\n",
       "  </thead>\n",
       "  <tbody>\n",
       "    <tr>\n",
       "      <th>0</th>\n",
       "      <td>A002</td>\n",
       "      <td>R051</td>\n",
       "      <td>02-00-00</td>\n",
       "      <td>59 ST</td>\n",
       "      <td>09/10/2016</td>\n",
       "      <td>742.0</td>\n",
       "    </tr>\n",
       "    <tr>\n",
       "      <th>1</th>\n",
       "      <td>A002</td>\n",
       "      <td>R051</td>\n",
       "      <td>02-00-00</td>\n",
       "      <td>59 ST</td>\n",
       "      <td>09/11/2016</td>\n",
       "      <td>727.0</td>\n",
       "    </tr>\n",
       "    <tr>\n",
       "      <th>2</th>\n",
       "      <td>A002</td>\n",
       "      <td>R051</td>\n",
       "      <td>02-00-00</td>\n",
       "      <td>59 ST</td>\n",
       "      <td>09/12/2016</td>\n",
       "      <td>1574.0</td>\n",
       "    </tr>\n",
       "    <tr>\n",
       "      <th>3</th>\n",
       "      <td>A002</td>\n",
       "      <td>R051</td>\n",
       "      <td>02-00-00</td>\n",
       "      <td>59 ST</td>\n",
       "      <td>09/13/2016</td>\n",
       "      <td>1724.0</td>\n",
       "    </tr>\n",
       "    <tr>\n",
       "      <th>4</th>\n",
       "      <td>A002</td>\n",
       "      <td>R051</td>\n",
       "      <td>02-00-00</td>\n",
       "      <td>59 ST</td>\n",
       "      <td>09/14/2016</td>\n",
       "      <td>1760.0</td>\n",
       "    </tr>\n",
       "  </tbody>\n",
       "</table>\n",
       "</div>"
      ],
      "text/plain": [
       "    C/A  UNIT       SCP STATION        DATE  DAILY_ENTRY\n",
       "0  A002  R051  02-00-00   59 ST  09/10/2016        742.0\n",
       "1  A002  R051  02-00-00   59 ST  09/11/2016        727.0\n",
       "2  A002  R051  02-00-00   59 ST  09/12/2016       1574.0\n",
       "3  A002  R051  02-00-00   59 ST  09/13/2016       1724.0\n",
       "4  A002  R051  02-00-00   59 ST  09/14/2016       1760.0"
      ]
     },
     "execution_count": 326,
     "metadata": {},
     "output_type": "execute_result"
    }
   ],
   "source": [
    "# these two are easier to follow (by the way sometimes it's important to think about whether \n",
    "# or not you need single bracket [] or double bracket [[]]\n",
    "# single is to return a Series while double is for returning a DataFrame\n",
    "# sometimes it also depends on the method \n",
    "\n",
    "df2.groupby([\"C/A\", \"UNIT\", \"SCP\", \"STATION\", \"DATE\"])[['DAILY_ENTRY']].nth(0).head()\n",
    "df2.groupby([\"C/A\", \"UNIT\", \"SCP\", \"STATION\", \"DATE\"])['DAILY_ENTRY'].first().reset_index()\n",
    "\n",
    "df2_daily = df2.groupby([\"C/A\", \"UNIT\", \"SCP\", \"STATION\", \"DATE\"])['DAILY_ENTRY'].first().reset_index()\n",
    "df2_daily.head()"
   ]
  },
  {
   "cell_type": "code",
   "execution_count": 327,
   "metadata": {
    "collapsed": true
   },
   "outputs": [],
   "source": [
    "import matplotlib.pyplot as plt \n",
    "%matplotlib inline "
   ]
  },
  {
   "cell_type": "code",
   "execution_count": 328,
   "metadata": {
    "collapsed": true
   },
   "outputs": [],
   "source": [
    "# we should note that without loss of generality it can be shown that plotting one turnstile \n",
    "# can be applied to plotting multiple (for loop / groupby / others)"
   ]
  },
  {
   "cell_type": "code",
   "execution_count": 329,
   "metadata": {
    "collapsed": false
   },
   "outputs": [
    {
     "data": {
      "text/html": [
       "<div>\n",
       "<table border=\"1\" class=\"dataframe\">\n",
       "  <thead>\n",
       "    <tr style=\"text-align: right;\">\n",
       "      <th></th>\n",
       "      <th>C/A</th>\n",
       "      <th>UNIT</th>\n",
       "      <th>SCP</th>\n",
       "      <th>STATION</th>\n",
       "      <th>DATE</th>\n",
       "      <th>DAILY_ENTRY</th>\n",
       "    </tr>\n",
       "  </thead>\n",
       "  <tbody>\n",
       "    <tr>\n",
       "      <th>0</th>\n",
       "      <td>A002</td>\n",
       "      <td>R051</td>\n",
       "      <td>02-00-00</td>\n",
       "      <td>59 ST</td>\n",
       "      <td>09/10/2016</td>\n",
       "      <td>742.0</td>\n",
       "    </tr>\n",
       "    <tr>\n",
       "      <th>1</th>\n",
       "      <td>A002</td>\n",
       "      <td>R051</td>\n",
       "      <td>02-00-00</td>\n",
       "      <td>59 ST</td>\n",
       "      <td>09/11/2016</td>\n",
       "      <td>727.0</td>\n",
       "    </tr>\n",
       "    <tr>\n",
       "      <th>2</th>\n",
       "      <td>A002</td>\n",
       "      <td>R051</td>\n",
       "      <td>02-00-00</td>\n",
       "      <td>59 ST</td>\n",
       "      <td>09/12/2016</td>\n",
       "      <td>1574.0</td>\n",
       "    </tr>\n",
       "    <tr>\n",
       "      <th>3</th>\n",
       "      <td>A002</td>\n",
       "      <td>R051</td>\n",
       "      <td>02-00-00</td>\n",
       "      <td>59 ST</td>\n",
       "      <td>09/13/2016</td>\n",
       "      <td>1724.0</td>\n",
       "    </tr>\n",
       "    <tr>\n",
       "      <th>4</th>\n",
       "      <td>A002</td>\n",
       "      <td>R051</td>\n",
       "      <td>02-00-00</td>\n",
       "      <td>59 ST</td>\n",
       "      <td>09/14/2016</td>\n",
       "      <td>1760.0</td>\n",
       "    </tr>\n",
       "  </tbody>\n",
       "</table>\n",
       "</div>"
      ],
      "text/plain": [
       "    C/A  UNIT       SCP STATION        DATE  DAILY_ENTRY\n",
       "0  A002  R051  02-00-00   59 ST  09/10/2016        742.0\n",
       "1  A002  R051  02-00-00   59 ST  09/11/2016        727.0\n",
       "2  A002  R051  02-00-00   59 ST  09/12/2016       1574.0\n",
       "3  A002  R051  02-00-00   59 ST  09/13/2016       1724.0\n",
       "4  A002  R051  02-00-00   59 ST  09/14/2016       1760.0"
      ]
     },
     "execution_count": 329,
     "metadata": {},
     "output_type": "execute_result"
    }
   ],
   "source": [
    "df2_daily.head()"
   ]
  },
  {
   "cell_type": "code",
   "execution_count": 330,
   "metadata": {
    "collapsed": false
   },
   "outputs": [],
   "source": [
    "df2_daily['DATE'] = df2_daily['DATE'].map(lambda x: parse(x))"
   ]
  },
  {
   "cell_type": "code",
   "execution_count": 331,
   "metadata": {
    "collapsed": false,
    "scrolled": true
   },
   "outputs": [
    {
     "data": {
      "text/plain": [
       "[<matplotlib.lines.Line2D at 0x13ccbec50>]"
      ]
     },
     "execution_count": 331,
     "metadata": {},
     "output_type": "execute_result"
    },
    {
     "data": {
      "image/png": "[encoded data removed]",
      "text/plain": [
       "<matplotlib.figure.Figure at 0x1623a1f10>"
      ]
     },
     "metadata": {},
     "output_type": "display_data"
    }
   ],
   "source": [
    "import matplotlib.pyplot as plt \n",
    "%matplotlib inline \n",
    "\n",
    "def turnstile_plotter(ca,unit,scp,station,dataframe): \n",
    "    turnstile_index = ((dataframe[\"C/A\"] == ca) & \n",
    "                      (dataframe[\"UNIT\"] == unit) &\n",
    "                      (dataframe[\"SCP\"] == scp) & \n",
    "                      (dataframe[\"STATION\"] == station))\n",
    "    \n",
    "    daily_df = dataframe[turnstile_index]\n",
    "\n",
    "    date = daily_df[\"DATE\"]\n",
    "    daily_entry = daily_df[\"DAILY_ENTRY\"]\n",
    "    \n",
    "    plt.figure(figsize=(10,3))\n",
    "    plt.xticks(rotation=50)\n",
    "    plt.ylabel('Entry')\n",
    "    plt.xlabel('Day')\n",
    "    plt.title('Daily Entry of Turnstile')\n",
    "    \n",
    "    return plt.plot(date,daily_entry)\n",
    "    \n",
    "turnstile_plotter('A002','R051','02-00-01','59 ST', df2_daily)"
   ]
  },
  {
   "cell_type": "markdown",
   "metadata": {},
   "source": [
    "#### Exercise 1.5"
   ]
  },
  {
   "cell_type": "markdown",
   "metadata": {},
   "source": [
    "- So far we've been operating on a single turnstile level, let's\n",
    "  combine turnstiles in the same ControlArea/Unit/Station combo. There\n",
    "  are some ControlArea/Unit/Station groups that have a single\n",
    "  turnstile, but most have multiple turnstilea-- same value for the\n",
    "  C/A, UNIT and STATION columns, different values for the SCP column.\n",
    "\n",
    "We want to combine the numbers together -- for each\n",
    "ControlArea/UNIT/STATION combo, for each day, add the counts from each\n",
    "turnstile belonging to that combo."
   ]
  },
  {
   "cell_type": "code",
   "execution_count": 332,
   "metadata": {
    "collapsed": false
   },
   "outputs": [
    {
     "data": {
      "text/html": [
       "<div>\n",
       "<table border=\"1\" class=\"dataframe\">\n",
       "  <thead>\n",
       "    <tr style=\"text-align: right;\">\n",
       "      <th></th>\n",
       "      <th>C/A</th>\n",
       "      <th>UNIT</th>\n",
       "      <th>SCP</th>\n",
       "      <th>STATION</th>\n",
       "      <th>DATE</th>\n",
       "      <th>DAILY_ENTRY</th>\n",
       "    </tr>\n",
       "  </thead>\n",
       "  <tbody>\n",
       "    <tr>\n",
       "      <th>0</th>\n",
       "      <td>A002</td>\n",
       "      <td>R051</td>\n",
       "      <td>02-00-00</td>\n",
       "      <td>59 ST</td>\n",
       "      <td>2016-09-10</td>\n",
       "      <td>742.0</td>\n",
       "    </tr>\n",
       "    <tr>\n",
       "      <th>1</th>\n",
       "      <td>A002</td>\n",
       "      <td>R051</td>\n",
       "      <td>02-00-00</td>\n",
       "      <td>59 ST</td>\n",
       "      <td>2016-09-11</td>\n",
       "      <td>727.0</td>\n",
       "    </tr>\n",
       "    <tr>\n",
       "      <th>2</th>\n",
       "      <td>A002</td>\n",
       "      <td>R051</td>\n",
       "      <td>02-00-00</td>\n",
       "      <td>59 ST</td>\n",
       "      <td>2016-09-12</td>\n",
       "      <td>1574.0</td>\n",
       "    </tr>\n",
       "    <tr>\n",
       "      <th>3</th>\n",
       "      <td>A002</td>\n",
       "      <td>R051</td>\n",
       "      <td>02-00-00</td>\n",
       "      <td>59 ST</td>\n",
       "      <td>2016-09-13</td>\n",
       "      <td>1724.0</td>\n",
       "    </tr>\n",
       "    <tr>\n",
       "      <th>4</th>\n",
       "      <td>A002</td>\n",
       "      <td>R051</td>\n",
       "      <td>02-00-00</td>\n",
       "      <td>59 ST</td>\n",
       "      <td>2016-09-14</td>\n",
       "      <td>1760.0</td>\n",
       "    </tr>\n",
       "  </tbody>\n",
       "</table>\n",
       "</div>"
      ],
      "text/plain": [
       "    C/A  UNIT       SCP STATION       DATE  DAILY_ENTRY\n",
       "0  A002  R051  02-00-00   59 ST 2016-09-10        742.0\n",
       "1  A002  R051  02-00-00   59 ST 2016-09-11        727.0\n",
       "2  A002  R051  02-00-00   59 ST 2016-09-12       1574.0\n",
       "3  A002  R051  02-00-00   59 ST 2016-09-13       1724.0\n",
       "4  A002  R051  02-00-00   59 ST 2016-09-14       1760.0"
      ]
     },
     "execution_count": 332,
     "metadata": {},
     "output_type": "execute_result"
    }
   ],
   "source": [
    "df2_daily.head()"
   ]
  },
  {
   "cell_type": "code",
   "execution_count": 333,
   "metadata": {
    "collapsed": false
   },
   "outputs": [],
   "source": [
    "turnstile_cluster = (df2_daily\n",
    "                     .groupby(['C/A','UNIT','STATION','DATE'])['DAILY_ENTRY']\n",
    "                     .sum()\n",
    "                     .reset_index())"
   ]
  },
  {
   "cell_type": "code",
   "execution_count": 334,
   "metadata": {
    "collapsed": false
   },
   "outputs": [
    {
     "data": {
      "text/html": [
       "<div>\n",
       "<table border=\"1\" class=\"dataframe\">\n",
       "  <thead>\n",
       "    <tr style=\"text-align: right;\">\n",
       "      <th></th>\n",
       "      <th>C/A</th>\n",
       "      <th>UNIT</th>\n",
       "      <th>STATION</th>\n",
       "      <th>DATE</th>\n",
       "      <th>DAILY_ENTRY</th>\n",
       "    </tr>\n",
       "  </thead>\n",
       "  <tbody>\n",
       "    <tr>\n",
       "      <th>0</th>\n",
       "      <td>A002</td>\n",
       "      <td>R051</td>\n",
       "      <td>59 ST</td>\n",
       "      <td>2016-09-10</td>\n",
       "      <td>8037.0</td>\n",
       "    </tr>\n",
       "    <tr>\n",
       "      <th>1</th>\n",
       "      <td>A002</td>\n",
       "      <td>R051</td>\n",
       "      <td>59 ST</td>\n",
       "      <td>2016-09-11</td>\n",
       "      <td>8339.0</td>\n",
       "    </tr>\n",
       "    <tr>\n",
       "      <th>2</th>\n",
       "      <td>A002</td>\n",
       "      <td>R051</td>\n",
       "      <td>59 ST</td>\n",
       "      <td>2016-09-12</td>\n",
       "      <td>16101.0</td>\n",
       "    </tr>\n",
       "    <tr>\n",
       "      <th>3</th>\n",
       "      <td>A002</td>\n",
       "      <td>R051</td>\n",
       "      <td>59 ST</td>\n",
       "      <td>2016-09-13</td>\n",
       "      <td>18075.0</td>\n",
       "    </tr>\n",
       "    <tr>\n",
       "      <th>4</th>\n",
       "      <td>A002</td>\n",
       "      <td>R051</td>\n",
       "      <td>59 ST</td>\n",
       "      <td>2016-09-14</td>\n",
       "      <td>18213.0</td>\n",
       "    </tr>\n",
       "  </tbody>\n",
       "</table>\n",
       "</div>"
      ],
      "text/plain": [
       "    C/A  UNIT STATION       DATE  DAILY_ENTRY\n",
       "0  A002  R051   59 ST 2016-09-10       8037.0\n",
       "1  A002  R051   59 ST 2016-09-11       8339.0\n",
       "2  A002  R051   59 ST 2016-09-12      16101.0\n",
       "3  A002  R051   59 ST 2016-09-13      18075.0\n",
       "4  A002  R051   59 ST 2016-09-14      18213.0"
      ]
     },
     "execution_count": 334,
     "metadata": {},
     "output_type": "execute_result"
    }
   ],
   "source": [
    "turnstile_cluster.head()"
   ]
  },
  {
   "cell_type": "markdown",
   "metadata": {},
   "source": [
    "#### Exercise 1.6"
   ]
  },
  {
   "cell_type": "markdown",
   "metadata": {},
   "source": [
    "Similarly, combine everything in each station, and come up with a time\n",
    "series of `[(date1, count1),(date2,count2),...]` type of time series\n",
    "for each STATION, by adding up all the turnstiles in a station.\n"
   ]
  },
  {
   "cell_type": "code",
   "execution_count": 335,
   "metadata": {
    "collapsed": true
   },
   "outputs": [],
   "source": [
    "station_cluster = (turnstile_cluster\n",
    "                     .groupby(['STATION','DATE'])['DAILY_ENTRY']\n",
    "                     .sum()\n",
    "                     .reset_index()\n",
    "                     )"
   ]
  },
  {
   "cell_type": "code",
   "execution_count": 336,
   "metadata": {
    "collapsed": false
   },
   "outputs": [
    {
     "data": {
      "text/html": [
       "<div>\n",
       "<table border=\"1\" class=\"dataframe\">\n",
       "  <thead>\n",
       "    <tr style=\"text-align: right;\">\n",
       "      <th></th>\n",
       "      <th>STATION</th>\n",
       "      <th>DATE</th>\n",
       "      <th>DAILY_ENTRY</th>\n",
       "    </tr>\n",
       "  </thead>\n",
       "  <tbody>\n",
       "    <tr>\n",
       "      <th>0</th>\n",
       "      <td>1 AV</td>\n",
       "      <td>2016-09-10</td>\n",
       "      <td>14615.0</td>\n",
       "    </tr>\n",
       "    <tr>\n",
       "      <th>1</th>\n",
       "      <td>1 AV</td>\n",
       "      <td>2016-09-11</td>\n",
       "      <td>15778.0</td>\n",
       "    </tr>\n",
       "    <tr>\n",
       "      <th>2</th>\n",
       "      <td>1 AV</td>\n",
       "      <td>2016-09-12</td>\n",
       "      <td>19249.0</td>\n",
       "    </tr>\n",
       "    <tr>\n",
       "      <th>3</th>\n",
       "      <td>1 AV</td>\n",
       "      <td>2016-09-13</td>\n",
       "      <td>22949.0</td>\n",
       "    </tr>\n",
       "    <tr>\n",
       "      <th>4</th>\n",
       "      <td>1 AV</td>\n",
       "      <td>2016-09-14</td>\n",
       "      <td>23671.0</td>\n",
       "    </tr>\n",
       "  </tbody>\n",
       "</table>\n",
       "</div>"
      ],
      "text/plain": [
       "  STATION       DATE  DAILY_ENTRY\n",
       "0    1 AV 2016-09-10      14615.0\n",
       "1    1 AV 2016-09-11      15778.0\n",
       "2    1 AV 2016-09-12      19249.0\n",
       "3    1 AV 2016-09-13      22949.0\n",
       "4    1 AV 2016-09-14      23671.0"
      ]
     },
     "execution_count": 336,
     "metadata": {},
     "output_type": "execute_result"
    }
   ],
   "source": [
    "station_cluster.head()"
   ]
  },
  {
   "cell_type": "markdown",
   "metadata": {},
   "source": [
    "#### Exercise 1.7"
   ]
  },
  {
   "cell_type": "markdown",
   "metadata": {},
   "source": [
    "Plot the time series for a station."
   ]
  },
  {
   "cell_type": "code",
   "execution_count": 337,
   "metadata": {
    "collapsed": true
   },
   "outputs": [],
   "source": [
    "# select an arbitrary station"
   ]
  },
  {
   "cell_type": "code",
   "execution_count": 338,
   "metadata": {
    "collapsed": false
   },
   "outputs": [
    {
     "data": {
      "text/html": [
       "<div>\n",
       "<table border=\"1\" class=\"dataframe\">\n",
       "  <thead>\n",
       "    <tr style=\"text-align: right;\">\n",
       "      <th></th>\n",
       "      <th>STATION</th>\n",
       "      <th>DATE</th>\n",
       "      <th>DAILY_ENTRY</th>\n",
       "    </tr>\n",
       "  </thead>\n",
       "  <tbody>\n",
       "    <tr>\n",
       "      <th>0</th>\n",
       "      <td>1 AV</td>\n",
       "      <td>2016-09-10</td>\n",
       "      <td>14615.0</td>\n",
       "    </tr>\n",
       "    <tr>\n",
       "      <th>1</th>\n",
       "      <td>1 AV</td>\n",
       "      <td>2016-09-11</td>\n",
       "      <td>15778.0</td>\n",
       "    </tr>\n",
       "    <tr>\n",
       "      <th>2</th>\n",
       "      <td>1 AV</td>\n",
       "      <td>2016-09-12</td>\n",
       "      <td>19249.0</td>\n",
       "    </tr>\n",
       "    <tr>\n",
       "      <th>3</th>\n",
       "      <td>1 AV</td>\n",
       "      <td>2016-09-13</td>\n",
       "      <td>22949.0</td>\n",
       "    </tr>\n",
       "    <tr>\n",
       "      <th>4</th>\n",
       "      <td>1 AV</td>\n",
       "      <td>2016-09-14</td>\n",
       "      <td>23671.0</td>\n",
       "    </tr>\n",
       "  </tbody>\n",
       "</table>\n",
       "</div>"
      ],
      "text/plain": [
       "  STATION       DATE  DAILY_ENTRY\n",
       "0    1 AV 2016-09-10      14615.0\n",
       "1    1 AV 2016-09-11      15778.0\n",
       "2    1 AV 2016-09-12      19249.0\n",
       "3    1 AV 2016-09-13      22949.0\n",
       "4    1 AV 2016-09-14      23671.0"
      ]
     },
     "execution_count": 338,
     "metadata": {},
     "output_type": "execute_result"
    }
   ],
   "source": [
    "station_cluster.head()"
   ]
  },
  {
   "cell_type": "code",
   "execution_count": 341,
   "metadata": {
    "collapsed": false
   },
   "outputs": [],
   "source": [
    "station_cluster['DATE'] = pd.to_datetime(station_cluster['DATE'], format='%y/%m/%d')"
   ]
  },
  {
   "cell_type": "code",
   "execution_count": 342,
   "metadata": {
    "collapsed": false
   },
   "outputs": [
    {
     "data": {
      "text/plain": [
       "[<matplotlib.lines.Line2D at 0x163ae1d50>]"
      ]
     },
     "execution_count": 342,
     "metadata": {},
     "output_type": "execute_result"
    },
    {
     "data": {
      "image/png": "[encoded data removed]",
      "text/plain": [
       "<matplotlib.figure.Figure at 0x16b7beed0>"
      ]
     },
     "metadata": {},
     "output_type": "display_data"
    }
   ],
   "source": [
    "import matplotlib.pyplot as plt \n",
    "%matplotlib inline \n",
    "\n",
    "def station_plotter(station,dataframe): \n",
    "    station_index = (dataframe[\"STATION\"] == station)\n",
    "    \n",
    "    daily_df = dataframe[station_index]\n",
    "\n",
    "    date = daily_df[\"DATE\"]\n",
    "    daily_entry = daily_df[\"DAILY_ENTRY\"]\n",
    "    \n",
    "    plt.figure(figsize=(10,3))\n",
    "    plt.xticks(rotation=50)\n",
    "    plt.ylabel('Entry')\n",
    "    plt.xlabel('Day')\n",
    "    plt.title('Daily Entry of a Station')\n",
    "    \n",
    "    return plt.plot(date,daily_entry)\n",
    "    \n",
    "station_plotter('1 AV', station_cluster)"
   ]
  },
  {
   "cell_type": "markdown",
   "metadata": {},
   "source": [
    "#### Exercise 1.8"
   ]
  },
  {
   "cell_type": "markdown",
   "metadata": {},
   "source": [
    "- Make one list of counts for **one** week for one station. Monday's\n",
    "count, Tuesday's count, etc. so it's a list of 7 counts.\n",
    "Make the same list for another week, and another week, and another\n",
    "week.\n",
    "`plt.plot(week_count_list)` for every `week_count_list` you created\n",
    "this way. You should get a rainbow plot of weekly commute numbers on\n",
    "top of each other."
   ]
  },
  {
   "cell_type": "code",
   "execution_count": 343,
   "metadata": {
    "collapsed": false
   },
   "outputs": [
    {
     "data": {
      "text/html": [
       "<div>\n",
       "<table border=\"1\" class=\"dataframe\">\n",
       "  <thead>\n",
       "    <tr style=\"text-align: right;\">\n",
       "      <th></th>\n",
       "      <th>STATION</th>\n",
       "      <th>DATE</th>\n",
       "      <th>DAILY_ENTRY</th>\n",
       "    </tr>\n",
       "  </thead>\n",
       "  <tbody>\n",
       "    <tr>\n",
       "      <th>0</th>\n",
       "      <td>1 AV</td>\n",
       "      <td>2016-09-10</td>\n",
       "      <td>14615.0</td>\n",
       "    </tr>\n",
       "    <tr>\n",
       "      <th>1</th>\n",
       "      <td>1 AV</td>\n",
       "      <td>2016-09-11</td>\n",
       "      <td>15778.0</td>\n",
       "    </tr>\n",
       "    <tr>\n",
       "      <th>2</th>\n",
       "      <td>1 AV</td>\n",
       "      <td>2016-09-12</td>\n",
       "      <td>19249.0</td>\n",
       "    </tr>\n",
       "    <tr>\n",
       "      <th>3</th>\n",
       "      <td>1 AV</td>\n",
       "      <td>2016-09-13</td>\n",
       "      <td>22949.0</td>\n",
       "    </tr>\n",
       "    <tr>\n",
       "      <th>4</th>\n",
       "      <td>1 AV</td>\n",
       "      <td>2016-09-14</td>\n",
       "      <td>23671.0</td>\n",
       "    </tr>\n",
       "  </tbody>\n",
       "</table>\n",
       "</div>"
      ],
      "text/plain": [
       "  STATION       DATE  DAILY_ENTRY\n",
       "0    1 AV 2016-09-10      14615.0\n",
       "1    1 AV 2016-09-11      15778.0\n",
       "2    1 AV 2016-09-12      19249.0\n",
       "3    1 AV 2016-09-13      22949.0\n",
       "4    1 AV 2016-09-14      23671.0"
      ]
     },
     "execution_count": 343,
     "metadata": {},
     "output_type": "execute_result"
    }
   ],
   "source": [
    "station_cluster.head()"
   ]
  },
  {
   "cell_type": "code",
   "execution_count": 411,
   "metadata": {
    "collapsed": false
   },
   "outputs": [
    {
     "name": "stdout",
     "output_type": "stream",
     "text": [
      "[(36,   STATION       DATE  DAILY_ENTRY\n",
      "0    1 AV 2016-09-10      14615.0\n",
      "1    1 AV 2016-09-11      15778.0), (37,   STATION       DATE  DAILY_ENTRY\n",
      "2    1 AV 2016-09-12      19249.0\n",
      "3    1 AV 2016-09-13      22949.0\n",
      "4    1 AV 2016-09-14      23671.0\n",
      "5    1 AV 2016-09-15      24269.0\n",
      "6    1 AV 2016-09-16      24650.0\n",
      "7    1 AV 2016-09-17      19406.0\n",
      "8    1 AV 2016-09-18      14472.0), (38,    STATION       DATE  DAILY_ENTRY\n",
      "9     1 AV 2016-09-19      22314.0\n",
      "10    1 AV 2016-09-20      23194.0\n",
      "11    1 AV 2016-09-21      24368.0\n",
      "12    1 AV 2016-09-22      24238.0\n",
      "13    1 AV 2016-09-23      23626.0)]\n"
     ]
    },
    {
     "data": {
      "image/png": "[encoded data removed]",
      "text/plain": [
       "<matplotlib.figure.Figure at 0x16fec5790>"
      ]
     },
     "metadata": {},
     "output_type": "display_data"
    }
   ],
   "source": [
    "def week_station_plotter(station,dataframe): \n",
    "    \n",
    "    plt.figure(figsize=(10,3))\n",
    "    \n",
    "    station_index = (dataframe[\"STATION\"] == station)\n",
    "    \n",
    "    daily_df = dataframe[station_index]\n",
    "    grouped = daily_df.groupby([daily_df['DATE'].map(lambda x: x.isocalendar()[1])])\n",
    "    print list(grouped)\n",
    "    \n",
    "    for index,group in grouped: \n",
    "        date = group[\"DATE\"].map(lambda x:x.isoweekday())\n",
    "        daily_entry = group[\"DAILY_ENTRY\"]\n",
    "        plt.plot(date,daily_entry)\n",
    "        \n",
    "    plt.xticks([1,2,3,4,5,6,7],['M','T','W','TH','F','S','SS'])\n",
    "    plt.legend(grouped,loc='center left', bbox_to_anchor=(1, 0.5))\n",
    "    plt.title('Daily Entry of a Station By Day')\n",
    "    plt.xlabel('Day')\n",
    "    plt.ylabel('Entry')\n",
    "\n",
    "    \n",
    "week_station_plotter('1 AV', station_cluster)"
   ]
  },
  {
   "cell_type": "markdown",
   "metadata": {},
   "source": [
    "#### Exercise 1.9"
   ]
  },
  {
   "cell_type": "markdown",
   "metadata": {},
   "source": [
    "- Over multiple weeks, sum total ridership for each station and sort\n",
    "  them, so you can find out the stations with the highest traffic\n",
    "  during the time you investigate"
   ]
  },
  {
   "cell_type": "code",
   "execution_count": null,
   "metadata": {
    "collapsed": false
   },
   "outputs": [],
   "source": [
    "# you can get more creative than me here and specify setting the datetime as index and resampling\n",
    "# or groupby week or month to detemrine "
   ]
  },
  {
   "cell_type": "code",
   "execution_count": 460,
   "metadata": {
    "collapsed": false
   },
   "outputs": [
    {
     "data": {
      "text/html": [
       "<div>\n",
       "<table border=\"1\" class=\"dataframe\">\n",
       "  <thead>\n",
       "    <tr style=\"text-align: right;\">\n",
       "      <th></th>\n",
       "      <th>C/A</th>\n",
       "      <th>UNIT</th>\n",
       "      <th>SCP</th>\n",
       "      <th>STATION</th>\n",
       "      <th>DATE</th>\n",
       "      <th>DAILY_ENTRY</th>\n",
       "    </tr>\n",
       "  </thead>\n",
       "  <tbody>\n",
       "    <tr>\n",
       "      <th>0</th>\n",
       "      <td>A002</td>\n",
       "      <td>R051</td>\n",
       "      <td>02-00-00</td>\n",
       "      <td>59 ST</td>\n",
       "      <td>2016-09-10</td>\n",
       "      <td>742.0</td>\n",
       "    </tr>\n",
       "    <tr>\n",
       "      <th>1</th>\n",
       "      <td>A002</td>\n",
       "      <td>R051</td>\n",
       "      <td>02-00-00</td>\n",
       "      <td>59 ST</td>\n",
       "      <td>2016-09-11</td>\n",
       "      <td>727.0</td>\n",
       "    </tr>\n",
       "    <tr>\n",
       "      <th>2</th>\n",
       "      <td>A002</td>\n",
       "      <td>R051</td>\n",
       "      <td>02-00-00</td>\n",
       "      <td>59 ST</td>\n",
       "      <td>2016-09-12</td>\n",
       "      <td>1574.0</td>\n",
       "    </tr>\n",
       "    <tr>\n",
       "      <th>3</th>\n",
       "      <td>A002</td>\n",
       "      <td>R051</td>\n",
       "      <td>02-00-00</td>\n",
       "      <td>59 ST</td>\n",
       "      <td>2016-09-13</td>\n",
       "      <td>1724.0</td>\n",
       "    </tr>\n",
       "    <tr>\n",
       "      <th>4</th>\n",
       "      <td>A002</td>\n",
       "      <td>R051</td>\n",
       "      <td>02-00-00</td>\n",
       "      <td>59 ST</td>\n",
       "      <td>2016-09-14</td>\n",
       "      <td>1760.0</td>\n",
       "    </tr>\n",
       "  </tbody>\n",
       "</table>\n",
       "</div>"
      ],
      "text/plain": [
       "    C/A  UNIT       SCP STATION       DATE  DAILY_ENTRY\n",
       "0  A002  R051  02-00-00   59 ST 2016-09-10        742.0\n",
       "1  A002  R051  02-00-00   59 ST 2016-09-11        727.0\n",
       "2  A002  R051  02-00-00   59 ST 2016-09-12       1574.0\n",
       "3  A002  R051  02-00-00   59 ST 2016-09-13       1724.0\n",
       "4  A002  R051  02-00-00   59 ST 2016-09-14       1760.0"
      ]
     },
     "execution_count": 460,
     "metadata": {},
     "output_type": "execute_result"
    }
   ],
   "source": [
    "df2_daily.head()"
   ]
  },
  {
   "cell_type": "code",
   "execution_count": 459,
   "metadata": {
    "collapsed": false
   },
   "outputs": [
    {
     "name": "stderr",
     "output_type": "stream",
     "text": [
      "/Users/dhkim/anaconda/lib/python2.7/site-packages/ipykernel/__main__.py:1: FutureWarning: how in .resample() is deprecated\n",
      "the new syntax is .resample(...).sum()\n",
      "  if __name__ == '__main__':\n"
     ]
    },
    {
     "data": {
      "text/html": [
       "<div>\n",
       "<table border=\"1\" class=\"dataframe\">\n",
       "  <thead>\n",
       "    <tr style=\"text-align: right;\">\n",
       "      <th></th>\n",
       "      <th>DAILY_ENTRY</th>\n",
       "    </tr>\n",
       "    <tr>\n",
       "      <th>DATE</th>\n",
       "      <th></th>\n",
       "    </tr>\n",
       "  </thead>\n",
       "  <tbody>\n",
       "    <tr>\n",
       "      <th>2016-09-11</th>\n",
       "      <td>5790742.0</td>\n",
       "    </tr>\n",
       "    <tr>\n",
       "      <th>2016-09-18</th>\n",
       "      <td>37190245.0</td>\n",
       "    </tr>\n",
       "    <tr>\n",
       "      <th>2016-09-25</th>\n",
       "      <td>30958837.0</td>\n",
       "    </tr>\n",
       "  </tbody>\n",
       "</table>\n",
       "</div>"
      ],
      "text/plain": [
       "            DAILY_ENTRY\n",
       "DATE                   \n",
       "2016-09-11    5790742.0\n",
       "2016-09-18   37190245.0\n",
       "2016-09-25   30958837.0"
      ]
     },
     "execution_count": 459,
     "metadata": {},
     "output_type": "execute_result"
    }
   ],
   "source": [
    "df2_daily.set_index('DATE').resample('1W',how='sum')"
   ]
  },
  {
   "cell_type": "code",
   "execution_count": 412,
   "metadata": {
    "collapsed": false
   },
   "outputs": [
    {
     "data": {
      "text/html": [
       "<div>\n",
       "<table border=\"1\" class=\"dataframe\">\n",
       "  <thead>\n",
       "    <tr style=\"text-align: right;\">\n",
       "      <th></th>\n",
       "      <th>C/A</th>\n",
       "      <th>UNIT</th>\n",
       "      <th>SCP</th>\n",
       "      <th>STATION</th>\n",
       "      <th>DATE</th>\n",
       "      <th>DAILY_ENTRY</th>\n",
       "    </tr>\n",
       "  </thead>\n",
       "  <tbody>\n",
       "    <tr>\n",
       "      <th>0</th>\n",
       "      <td>A002</td>\n",
       "      <td>R051</td>\n",
       "      <td>02-00-00</td>\n",
       "      <td>59 ST</td>\n",
       "      <td>2016-09-10</td>\n",
       "      <td>742.0</td>\n",
       "    </tr>\n",
       "    <tr>\n",
       "      <th>1</th>\n",
       "      <td>A002</td>\n",
       "      <td>R051</td>\n",
       "      <td>02-00-00</td>\n",
       "      <td>59 ST</td>\n",
       "      <td>2016-09-11</td>\n",
       "      <td>727.0</td>\n",
       "    </tr>\n",
       "    <tr>\n",
       "      <th>2</th>\n",
       "      <td>A002</td>\n",
       "      <td>R051</td>\n",
       "      <td>02-00-00</td>\n",
       "      <td>59 ST</td>\n",
       "      <td>2016-09-12</td>\n",
       "      <td>1574.0</td>\n",
       "    </tr>\n",
       "    <tr>\n",
       "      <th>3</th>\n",
       "      <td>A002</td>\n",
       "      <td>R051</td>\n",
       "      <td>02-00-00</td>\n",
       "      <td>59 ST</td>\n",
       "      <td>2016-09-13</td>\n",
       "      <td>1724.0</td>\n",
       "    </tr>\n",
       "    <tr>\n",
       "      <th>4</th>\n",
       "      <td>A002</td>\n",
       "      <td>R051</td>\n",
       "      <td>02-00-00</td>\n",
       "      <td>59 ST</td>\n",
       "      <td>2016-09-14</td>\n",
       "      <td>1760.0</td>\n",
       "    </tr>\n",
       "  </tbody>\n",
       "</table>\n",
       "</div>"
      ],
      "text/plain": [
       "    C/A  UNIT       SCP STATION       DATE  DAILY_ENTRY\n",
       "0  A002  R051  02-00-00   59 ST 2016-09-10        742.0\n",
       "1  A002  R051  02-00-00   59 ST 2016-09-11        727.0\n",
       "2  A002  R051  02-00-00   59 ST 2016-09-12       1574.0\n",
       "3  A002  R051  02-00-00   59 ST 2016-09-13       1724.0\n",
       "4  A002  R051  02-00-00   59 ST 2016-09-14       1760.0"
      ]
     },
     "execution_count": 412,
     "metadata": {},
     "output_type": "execute_result"
    }
   ],
   "source": [
    "df2_daily.head()"
   ]
  },
  {
   "cell_type": "code",
   "execution_count": 422,
   "metadata": {
    "collapsed": false
   },
   "outputs": [
    {
     "data": {
      "text/html": [
       "<div>\n",
       "<table border=\"1\" class=\"dataframe\">\n",
       "  <thead>\n",
       "    <tr style=\"text-align: right;\">\n",
       "      <th></th>\n",
       "      <th>STATION</th>\n",
       "      <th>DAILY_ENTRY</th>\n",
       "    </tr>\n",
       "  </thead>\n",
       "  <tbody>\n",
       "    <tr>\n",
       "      <th>0</th>\n",
       "      <td>1 AV</td>\n",
       "      <td>296799.0</td>\n",
       "    </tr>\n",
       "    <tr>\n",
       "      <th>1</th>\n",
       "      <td>103 ST</td>\n",
       "      <td>363206.0</td>\n",
       "    </tr>\n",
       "    <tr>\n",
       "      <th>2</th>\n",
       "      <td>103 ST-CORONA</td>\n",
       "      <td>269935.0</td>\n",
       "    </tr>\n",
       "    <tr>\n",
       "      <th>3</th>\n",
       "      <td>104 ST</td>\n",
       "      <td>60323.0</td>\n",
       "    </tr>\n",
       "    <tr>\n",
       "      <th>4</th>\n",
       "      <td>110 ST</td>\n",
       "      <td>163383.0</td>\n",
       "    </tr>\n",
       "  </tbody>\n",
       "</table>\n",
       "</div>"
      ],
      "text/plain": [
       "         STATION  DAILY_ENTRY\n",
       "0           1 AV     296799.0\n",
       "1         103 ST     363206.0\n",
       "2  103 ST-CORONA     269935.0\n",
       "3         104 ST      60323.0\n",
       "4         110 ST     163383.0"
      ]
     },
     "execution_count": 422,
     "metadata": {},
     "output_type": "execute_result"
    }
   ],
   "source": [
    "df2_daily.groupby(['STATION'])[['DAILY_ENTRY']].sum().head()"
   ]
  },
  {
   "cell_type": "code",
   "execution_count": 429,
   "metadata": {
    "collapsed": false
   },
   "outputs": [
    {
     "data": {
      "text/html": [
       "<div>\n",
       "<table border=\"1\" class=\"dataframe\">\n",
       "  <thead>\n",
       "    <tr style=\"text-align: right;\">\n",
       "      <th></th>\n",
       "      <th>STATION</th>\n",
       "      <th>DAILY_ENTRY</th>\n",
       "    </tr>\n",
       "  </thead>\n",
       "  <tbody>\n",
       "    <tr>\n",
       "      <th>61</th>\n",
       "      <td>34 ST-PENN STA</td>\n",
       "      <td>2072154.0</td>\n",
       "    </tr>\n",
       "    <tr>\n",
       "      <th>230</th>\n",
       "      <td>GRD CNTRL-42 ST</td>\n",
       "      <td>1842183.0</td>\n",
       "    </tr>\n",
       "    <tr>\n",
       "      <th>46</th>\n",
       "      <td>23 ST</td>\n",
       "      <td>1542058.0</td>\n",
       "    </tr>\n",
       "    <tr>\n",
       "      <th>59</th>\n",
       "      <td>34 ST-HERALD SQ</td>\n",
       "      <td>1487660.0</td>\n",
       "    </tr>\n",
       "    <tr>\n",
       "      <th>109</th>\n",
       "      <td>86 ST</td>\n",
       "      <td>1370356.0</td>\n",
       "    </tr>\n",
       "  </tbody>\n",
       "</table>\n",
       "</div>"
      ],
      "text/plain": [
       "             STATION  DAILY_ENTRY\n",
       "61    34 ST-PENN STA    2072154.0\n",
       "230  GRD CNTRL-42 ST    1842183.0\n",
       "46             23 ST    1542058.0\n",
       "59   34 ST-HERALD SQ    1487660.0\n",
       "109            86 ST    1370356.0"
      ]
     },
     "execution_count": 429,
     "metadata": {},
     "output_type": "execute_result"
    }
   ],
   "source": [
    "station_totals=(df2_daily\n",
    "                .groupby(\"STATION\")['DAILY_ENTRY'].sum()\n",
    "                .reset_index()\n",
    "                .sort_values(\"DAILY_ENTRY\", ascending=False)\n",
    "                )\n",
    "station_totals.head()"
   ]
  },
  {
   "cell_type": "markdown",
   "metadata": {},
   "source": [
    "#### Exercise 1.10"
   ]
  },
  {
   "cell_type": "markdown",
   "metadata": {},
   "source": [
    "- Make a single list of these total ridership values and plot it with\n",
    "\n",
    "    plt.hist(total_ridership_counts)\n",
    "\n",
    "to get an idea about the distribution of total ridership among\n",
    "different stations.\n",
    "\n",
    "This should show you that most stations have a small traffic, and the\n",
    "histogram bins for large traffic volumes have small bars.\n",
    "\n",
    "*Additional Hint*:\n",
    "\n",
    "If you want to see which stations take the meat of the traffic, you\n",
    "can sort the total ridership counts and make a `plt.bar` graph. For\n",
    "this, you want to have two lists: the indices of each bar, and the\n",
    "values. The indices can just be `0,1,2,3,...`, so you can do\n",
    "\n",
    "    indices = range(len(total_ridership_values))"
   ]
  },
  {
   "cell_type": "code",
   "execution_count": 435,
   "metadata": {
    "collapsed": false
   },
   "outputs": [
    {
     "data": {
      "text/plain": [
       "(array([ 272.,   65.,   16.,    6.,    5.,    3.,    3.,    2.,    1.,    1.]),\n",
       " array([  1.40000000e+01,   2.07228000e+05,   4.14442000e+05,\n",
       "          6.21656000e+05,   8.28870000e+05,   1.03608400e+06,\n",
       "          1.24329800e+06,   1.45051200e+06,   1.65772600e+06,\n",
       "          1.86494000e+06,   2.07215400e+06]),\n",
       " <a list of 10 Patch objects>)"
      ]
     },
     "execution_count": 435,
     "metadata": {},
     "output_type": "execute_result"
    },
    {
     "data": {
      "image/png": "[encoded data removed]",
      "text/plain": [
       "<matplotlib.figure.Figure at 0x172143510>"
      ]
     },
     "metadata": {},
     "output_type": "display_data"
    }
   ],
   "source": [
    "plt.hist(station_totals[\"DAILY_ENTRY\"])"
   ]
  },
  {
   "cell_type": "code",
   "execution_count": null,
   "metadata": {
    "collapsed": true
   },
   "outputs": [],
   "source": []
  },
  {
   "cell_type": "code",
   "execution_count": null,
   "metadata": {
    "collapsed": true
   },
   "outputs": [],
   "source": [
    "# too much data so without loss of generality, limit scope to few"
   ]
  },
  {
   "cell_type": "code",
   "execution_count": 453,
   "metadata": {
    "collapsed": false
   },
   "outputs": [
    {
     "data": {
      "text/html": [
       "<div>\n",
       "<table border=\"1\" class=\"dataframe\">\n",
       "  <thead>\n",
       "    <tr style=\"text-align: right;\">\n",
       "      <th></th>\n",
       "      <th>STATION</th>\n",
       "      <th>DAILY_ENTRY</th>\n",
       "    </tr>\n",
       "  </thead>\n",
       "  <tbody>\n",
       "    <tr>\n",
       "      <th>61</th>\n",
       "      <td>34 ST-PENN STA</td>\n",
       "      <td>2072154.0</td>\n",
       "    </tr>\n",
       "    <tr>\n",
       "      <th>230</th>\n",
       "      <td>GRD CNTRL-42 ST</td>\n",
       "      <td>1842183.0</td>\n",
       "    </tr>\n",
       "    <tr>\n",
       "      <th>46</th>\n",
       "      <td>23 ST</td>\n",
       "      <td>1542058.0</td>\n",
       "    </tr>\n",
       "    <tr>\n",
       "      <th>59</th>\n",
       "      <td>34 ST-HERALD SQ</td>\n",
       "      <td>1487660.0</td>\n",
       "    </tr>\n",
       "    <tr>\n",
       "      <th>109</th>\n",
       "      <td>86 ST</td>\n",
       "      <td>1370356.0</td>\n",
       "    </tr>\n",
       "    <tr>\n",
       "      <th>14</th>\n",
       "      <td>14 ST-UNION SQ</td>\n",
       "      <td>1356074.0</td>\n",
       "    </tr>\n",
       "    <tr>\n",
       "      <th>68</th>\n",
       "      <td>42 ST-PORT AUTH</td>\n",
       "      <td>1267658.0</td>\n",
       "    </tr>\n",
       "    <tr>\n",
       "      <th>349</th>\n",
       "      <td>TIMES SQ-42 ST</td>\n",
       "      <td>1233784.0</td>\n",
       "    </tr>\n",
       "    <tr>\n",
       "      <th>223</th>\n",
       "      <td>FULTON ST</td>\n",
       "      <td>1195311.0</td>\n",
       "    </tr>\n",
       "    <tr>\n",
       "      <th>9</th>\n",
       "      <td>125 ST</td>\n",
       "      <td>1052901.0</td>\n",
       "    </tr>\n",
       "  </tbody>\n",
       "</table>\n",
       "</div>"
      ],
      "text/plain": [
       "             STATION  DAILY_ENTRY\n",
       "61    34 ST-PENN STA    2072154.0\n",
       "230  GRD CNTRL-42 ST    1842183.0\n",
       "46             23 ST    1542058.0\n",
       "59   34 ST-HERALD SQ    1487660.0\n",
       "109            86 ST    1370356.0\n",
       "14    14 ST-UNION SQ    1356074.0\n",
       "68   42 ST-PORT AUTH    1267658.0\n",
       "349   TIMES SQ-42 ST    1233784.0\n",
       "223        FULTON ST    1195311.0\n",
       "9             125 ST    1052901.0"
      ]
     },
     "execution_count": 453,
     "metadata": {},
     "output_type": "execute_result"
    }
   ],
   "source": [
    "sample_station_totals = station_totals.head(10)\n",
    "sample_station_totals"
   ]
  },
  {
   "cell_type": "code",
   "execution_count": 454,
   "metadata": {
    "collapsed": false
   },
   "outputs": [
    {
     "data": {
      "text/plain": [
       "[0, 1, 2, 3, 4, 5, 6, 7, 8, 9]"
      ]
     },
     "execution_count": 454,
     "metadata": {},
     "output_type": "execute_result"
    }
   ],
   "source": [
    "indices = range(len(sample_station_totals))\n",
    "indices"
   ]
  },
  {
   "cell_type": "code",
   "execution_count": 456,
   "metadata": {
    "collapsed": false
   },
   "outputs": [
    {
     "data": {
      "image/png": "[encoded data removed]",
      "text/plain": [
       "<matplotlib.figure.Figure at 0x17cd0d850>"
      ]
     },
     "metadata": {},
     "output_type": "display_data"
    }
   ],
   "source": [
    "plt.bar(indices,sample_station_totals['DAILY_ENTRY'], color=\"#b3ccff\")\n",
    "\n",
    "\n",
    "plt.xticks(indices,sample_station_totals['STATION'], rotation=70)\n",
    "plt.xlabel()\n",
    "\n",
    "plt.show()"
   ]
  },
  {
   "cell_type": "code",
   "execution_count": null,
   "metadata": {
    "collapsed": true
   },
   "outputs": [],
   "source": []
  },
  {
   "cell_type": "code",
   "execution_count": null,
   "metadata": {
    "collapsed": true
   },
   "outputs": [],
   "source": []
  }
 ],
 "metadata": {
  "kernelspec": {
   "display_name": "Python 2",
   "language": "python",
   "name": "python2"
  },
  "language_info": {
   "codemirror_mode": {
    "name": "ipython",
    "version": 2
   },
   "file_extension": ".py",
   "mimetype": "text/x-python",
   "name": "python",
   "nbconvert_exporter": "python",
   "pygments_lexer": "ipython2",
   "version": "2.7.10"
  }
 },
 "nbformat": 4,
 "nbformat_minor": 0
}
