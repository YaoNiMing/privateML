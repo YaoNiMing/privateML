{
 "cells": [
  {
   "cell_type": "code",
   "execution_count": 11,
   "metadata": {
    "collapsed": false
   },
   "outputs": [],
   "source": [
    "import csv\n",
    "import copy\n",
    "import dateutil.parser\n",
    "import datetime\n",
    "import pandas as pd\n",
    "import numpy as np\n",
    "from matplotlib import pyplot as plt\n",
    "\n",
    "# various options in pandas\n",
    "pd.set_option('display.max_columns', None)\n",
    "pd.set_option('display.max_rows', 9)\n",
    "pd.set_option('display.precision', 10)"
   ]
  },
  {
   "cell_type": "code",
   "execution_count": 2,
   "metadata": {
    "collapsed": false
   },
   "outputs": [
    {
     "data": {
      "text/plain": [
       "(193139, 11)"
      ]
     },
     "execution_count": 2,
     "metadata": {},
     "output_type": "execute_result"
    }
   ],
   "source": [
    "# ex1.1 alternate pandas - no dictionary\n",
    "mtaa = pd.read_csv('turnstile_160903.txt')\n",
    "mtaa.shape"
   ]
  },
  {
   "cell_type": "code",
   "execution_count": 3,
   "metadata": {
    "collapsed": false
   },
   "outputs": [
    {
     "data": {
      "text/html": [
       "<div>\n",
       "<table border=\"1\" class=\"dataframe\">\n",
       "  <thead>\n",
       "    <tr style=\"text-align: right;\">\n",
       "      <th></th>\n",
       "      <th>C/A</th>\n",
       "      <th>UNIT</th>\n",
       "      <th>SCP</th>\n",
       "      <th>STATION</th>\n",
       "      <th>LINENAME</th>\n",
       "      <th>DIVISION</th>\n",
       "      <th>DATE</th>\n",
       "      <th>TIME</th>\n",
       "      <th>DESC</th>\n",
       "      <th>ENTRIES</th>\n",
       "      <th>EXITS</th>\n",
       "    </tr>\n",
       "  </thead>\n",
       "  <tbody>\n",
       "    <tr>\n",
       "      <th>0</th>\n",
       "      <td>A002</td>\n",
       "      <td>R051</td>\n",
       "      <td>02-00-00</td>\n",
       "      <td>59 ST</td>\n",
       "      <td>NQR456</td>\n",
       "      <td>BMT</td>\n",
       "      <td>08/27/2016</td>\n",
       "      <td>00:00:00</td>\n",
       "      <td>REGULAR</td>\n",
       "      <td>5799442</td>\n",
       "      <td>1966041</td>\n",
       "    </tr>\n",
       "    <tr>\n",
       "      <th>1</th>\n",
       "      <td>A002</td>\n",
       "      <td>R051</td>\n",
       "      <td>02-00-00</td>\n",
       "      <td>59 ST</td>\n",
       "      <td>NQR456</td>\n",
       "      <td>BMT</td>\n",
       "      <td>08/27/2016</td>\n",
       "      <td>04:00:00</td>\n",
       "      <td>REGULAR</td>\n",
       "      <td>5799463</td>\n",
       "      <td>1966044</td>\n",
       "    </tr>\n",
       "    <tr>\n",
       "      <th>2</th>\n",
       "      <td>A002</td>\n",
       "      <td>R051</td>\n",
       "      <td>02-00-00</td>\n",
       "      <td>59 ST</td>\n",
       "      <td>NQR456</td>\n",
       "      <td>BMT</td>\n",
       "      <td>08/27/2016</td>\n",
       "      <td>08:00:00</td>\n",
       "      <td>REGULAR</td>\n",
       "      <td>5799492</td>\n",
       "      <td>1966079</td>\n",
       "    </tr>\n",
       "    <tr>\n",
       "      <th>3</th>\n",
       "      <td>A002</td>\n",
       "      <td>R051</td>\n",
       "      <td>02-00-00</td>\n",
       "      <td>59 ST</td>\n",
       "      <td>NQR456</td>\n",
       "      <td>BMT</td>\n",
       "      <td>08/27/2016</td>\n",
       "      <td>12:00:00</td>\n",
       "      <td>REGULAR</td>\n",
       "      <td>5799610</td>\n",
       "      <td>1966155</td>\n",
       "    </tr>\n",
       "    <tr>\n",
       "      <th>...</th>\n",
       "      <td>...</td>\n",
       "      <td>...</td>\n",
       "      <td>...</td>\n",
       "      <td>...</td>\n",
       "      <td>...</td>\n",
       "      <td>...</td>\n",
       "      <td>...</td>\n",
       "      <td>...</td>\n",
       "      <td>...</td>\n",
       "      <td>...</td>\n",
       "      <td>...</td>\n",
       "    </tr>\n",
       "    <tr>\n",
       "      <th>193135</th>\n",
       "      <td>TRAM2</td>\n",
       "      <td>R469</td>\n",
       "      <td>00-05-01</td>\n",
       "      <td>RIT-ROOSEVELT</td>\n",
       "      <td>R</td>\n",
       "      <td>RIT</td>\n",
       "      <td>09/02/2016</td>\n",
       "      <td>09:00:00</td>\n",
       "      <td>REGULAR</td>\n",
       "      <td>5554</td>\n",
       "      <td>259</td>\n",
       "    </tr>\n",
       "    <tr>\n",
       "      <th>193136</th>\n",
       "      <td>TRAM2</td>\n",
       "      <td>R469</td>\n",
       "      <td>00-05-01</td>\n",
       "      <td>RIT-ROOSEVELT</td>\n",
       "      <td>R</td>\n",
       "      <td>RIT</td>\n",
       "      <td>09/02/2016</td>\n",
       "      <td>13:00:00</td>\n",
       "      <td>REGULAR</td>\n",
       "      <td>5554</td>\n",
       "      <td>259</td>\n",
       "    </tr>\n",
       "    <tr>\n",
       "      <th>193137</th>\n",
       "      <td>TRAM2</td>\n",
       "      <td>R469</td>\n",
       "      <td>00-05-01</td>\n",
       "      <td>RIT-ROOSEVELT</td>\n",
       "      <td>R</td>\n",
       "      <td>RIT</td>\n",
       "      <td>09/02/2016</td>\n",
       "      <td>17:00:00</td>\n",
       "      <td>REGULAR</td>\n",
       "      <td>5554</td>\n",
       "      <td>259</td>\n",
       "    </tr>\n",
       "    <tr>\n",
       "      <th>193138</th>\n",
       "      <td>TRAM2</td>\n",
       "      <td>R469</td>\n",
       "      <td>00-05-01</td>\n",
       "      <td>RIT-ROOSEVELT</td>\n",
       "      <td>R</td>\n",
       "      <td>RIT</td>\n",
       "      <td>09/02/2016</td>\n",
       "      <td>21:00:00</td>\n",
       "      <td>REGULAR</td>\n",
       "      <td>5554</td>\n",
       "      <td>259</td>\n",
       "    </tr>\n",
       "  </tbody>\n",
       "</table>\n",
       "<p>193139 rows × 11 columns</p>\n",
       "</div>"
      ],
      "text/plain": [
       "          C/A  UNIT       SCP        STATION LINENAME DIVISION        DATE  \\\n",
       "0        A002  R051  02-00-00          59 ST   NQR456      BMT  08/27/2016   \n",
       "1        A002  R051  02-00-00          59 ST   NQR456      BMT  08/27/2016   \n",
       "2        A002  R051  02-00-00          59 ST   NQR456      BMT  08/27/2016   \n",
       "3        A002  R051  02-00-00          59 ST   NQR456      BMT  08/27/2016   \n",
       "...       ...   ...       ...            ...      ...      ...         ...   \n",
       "193135  TRAM2  R469  00-05-01  RIT-ROOSEVELT        R      RIT  09/02/2016   \n",
       "193136  TRAM2  R469  00-05-01  RIT-ROOSEVELT        R      RIT  09/02/2016   \n",
       "193137  TRAM2  R469  00-05-01  RIT-ROOSEVELT        R      RIT  09/02/2016   \n",
       "193138  TRAM2  R469  00-05-01  RIT-ROOSEVELT        R      RIT  09/02/2016   \n",
       "\n",
       "            TIME     DESC  ENTRIES  \\\n",
       "0       00:00:00  REGULAR  5799442   \n",
       "1       04:00:00  REGULAR  5799463   \n",
       "2       08:00:00  REGULAR  5799492   \n",
       "3       12:00:00  REGULAR  5799610   \n",
       "...          ...      ...      ...   \n",
       "193135  09:00:00  REGULAR     5554   \n",
       "193136  13:00:00  REGULAR     5554   \n",
       "193137  17:00:00  REGULAR     5554   \n",
       "193138  21:00:00  REGULAR     5554   \n",
       "\n",
       "        EXITS                                                                 \n",
       "0                                                 1966041                     \n",
       "1                                                 1966044                     \n",
       "2                                                 1966079                     \n",
       "3                                                 1966155                     \n",
       "...                                                   ...                     \n",
       "193135                                                259                     \n",
       "193136                                                259                     \n",
       "193137                                                259                     \n",
       "193138                                                259                     \n",
       "\n",
       "[193139 rows x 11 columns]"
      ]
     },
     "execution_count": 3,
     "metadata": {},
     "output_type": "execute_result"
    }
   ],
   "source": [
    "mtaa"
   ]
  },
  {
   "cell_type": "code",
   "execution_count": 5,
   "metadata": {
    "collapsed": false
   },
   "outputs": [],
   "source": [
    "# ex1.2 turn time column into time object\n",
    "mtaa['timestamp'] = (mtaa['DATE'] + ' ' + mtaa['TIME']).apply(lambda x : dateutil.parser.parse(x))\n",
    "# convert DATE and TIME columes into time objects\n",
    "mtaa['DATE'] = mtaa['timestamp'].map(lambda x: x.date())\n",
    "mtaa['TIME'] = mtaa['timestamp'].map(lambda x: x.time())\n",
    "mtaa2 = mtaa.set_index(['C/A', 'UNIT', 'SCP', 'STATION'])\n",
    "\n",
    "# increase speed\n",
    "mtaa2.sortlevel(level=0, inplace=True)"
   ]
  },
  {
   "cell_type": "code",
   "execution_count": 6,
   "metadata": {
    "collapsed": false
   },
   "outputs": [],
   "source": [
    "# ex1.3\n",
    "\n",
    "mtaa2['entry_nxt'] = 0\n",
    "\n",
    "for ind_1 in mtaa2.index.unique():\n",
    "    mtaa2.ix[ind_1, 'entry_nxt'] = np.array(mtaa2.ix[ind_1]['ENTRIES'].shift(periods = -1))\\\n",
    "    - np.array(mtaa2.ix[ind_1]['ENTRIES']) # creates NaN on the last row for each index\n",
    "\n",
    "\n",
    "mtaa2 = mtaa2.dropna() # remove NaN\n",
    "mtaa2 = mtaa2[(0< mtaa2['entry_nxt']) & (mtaa2['entry_nxt'] < 10000)] # remove negative counts and obviously too large values\n",
    "\n",
    "mtaa2['entry_nxt'].sort_values()"
   ]
  },
  {
   "cell_type": "code",
   "execution_count": 17,
   "metadata": {
    "collapsed": false
   },
   "outputs": [
    {
     "data": {
      "text/html": [
       "<div>\n",
       "<table border=\"1\" class=\"dataframe\">\n",
       "  <thead>\n",
       "    <tr style=\"text-align: right;\">\n",
       "      <th></th>\n",
       "      <th></th>\n",
       "      <th></th>\n",
       "      <th></th>\n",
       "      <th>DATE</th>\n",
       "      <th>ENTRIES</th>\n",
       "      <th>EXITS</th>\n",
       "      <th>entry_nxt</th>\n",
       "    </tr>\n",
       "    <tr>\n",
       "      <th>C/A</th>\n",
       "      <th>UNIT</th>\n",
       "      <th>SCP</th>\n",
       "      <th>STATION</th>\n",
       "      <th></th>\n",
       "      <th></th>\n",
       "      <th></th>\n",
       "      <th></th>\n",
       "    </tr>\n",
       "  </thead>\n",
       "  <tbody>\n",
       "    <tr>\n",
       "      <th rowspan=\"4\" valign=\"top\">A002</th>\n",
       "      <th rowspan=\"4\" valign=\"top\">R051</th>\n",
       "      <th rowspan=\"4\" valign=\"top\">02-00-00</th>\n",
       "      <th>59 ST</th>\n",
       "      <td>2016-08-27</td>\n",
       "      <td>34797961</td>\n",
       "      <td>11796804</td>\n",
       "      <td>810.0</td>\n",
       "    </tr>\n",
       "    <tr>\n",
       "      <th>59 ST</th>\n",
       "      <td>2016-08-28</td>\n",
       "      <td>34802575</td>\n",
       "      <td>11798274</td>\n",
       "      <td>682.0</td>\n",
       "    </tr>\n",
       "    <tr>\n",
       "      <th>59 ST</th>\n",
       "      <td>2016-08-29</td>\n",
       "      <td>34807884</td>\n",
       "      <td>11800679</td>\n",
       "      <td>1580.0</td>\n",
       "    </tr>\n",
       "    <tr>\n",
       "      <th>59 ST</th>\n",
       "      <td>2016-08-30</td>\n",
       "      <td>34817299</td>\n",
       "      <td>11803720</td>\n",
       "      <td>1557.0</td>\n",
       "    </tr>\n",
       "    <tr>\n",
       "      <th>...</th>\n",
       "      <th>...</th>\n",
       "      <th>...</th>\n",
       "      <th>...</th>\n",
       "      <td>...</td>\n",
       "      <td>...</td>\n",
       "      <td>...</td>\n",
       "      <td>...</td>\n",
       "    </tr>\n",
       "    <tr>\n",
       "      <th rowspan=\"4\" valign=\"top\">TRAM2</th>\n",
       "      <th rowspan=\"4\" valign=\"top\">R469</th>\n",
       "      <th rowspan=\"4\" valign=\"top\">00-05-00</th>\n",
       "      <th>RIT-ROOSEVELT</th>\n",
       "      <td>2016-08-28</td>\n",
       "      <td>4711</td>\n",
       "      <td>124</td>\n",
       "      <td>2.0</td>\n",
       "    </tr>\n",
       "    <tr>\n",
       "      <th>RIT-ROOSEVELT</th>\n",
       "      <td>2016-08-30</td>\n",
       "      <td>4715</td>\n",
       "      <td>124</td>\n",
       "      <td>2.0</td>\n",
       "    </tr>\n",
       "    <tr>\n",
       "      <th>RIT-ROOSEVELT</th>\n",
       "      <td>2016-08-31</td>\n",
       "      <td>4719</td>\n",
       "      <td>124</td>\n",
       "      <td>3.0</td>\n",
       "    </tr>\n",
       "    <tr>\n",
       "      <th>RIT-ROOSEVELT</th>\n",
       "      <td>2016-09-02</td>\n",
       "      <td>2362</td>\n",
       "      <td>62</td>\n",
       "      <td>1.0</td>\n",
       "    </tr>\n",
       "  </tbody>\n",
       "</table>\n",
       "<p>28433 rows × 4 columns</p>\n",
       "</div>"
      ],
      "text/plain": [
       "                                         DATE   ENTRIES  \\\n",
       "C/A   UNIT SCP      STATION                               \n",
       "A002  R051 02-00-00 59 ST          2016-08-27  34797961   \n",
       "                    59 ST          2016-08-28  34802575   \n",
       "                    59 ST          2016-08-29  34807884   \n",
       "                    59 ST          2016-08-30  34817299   \n",
       "...                                       ...       ...   \n",
       "TRAM2 R469 00-05-00 RIT-ROOSEVELT  2016-08-28      4711   \n",
       "                    RIT-ROOSEVELT  2016-08-30      4715   \n",
       "                    RIT-ROOSEVELT  2016-08-31      4719   \n",
       "                    RIT-ROOSEVELT  2016-09-02      2362   \n",
       "\n",
       "                                   EXITS                                                                 \\\n",
       "C/A   UNIT SCP      STATION                                                                               \n",
       "A002  R051 02-00-00 59 ST                                                   11796804                      \n",
       "                    59 ST                                                   11798274                      \n",
       "                    59 ST                                                   11800679                      \n",
       "                    59 ST                                                   11803720                      \n",
       "...                                                                              ...                      \n",
       "TRAM2 R469 00-05-00 RIT-ROOSEVELT                                                124                      \n",
       "                    RIT-ROOSEVELT                                                124                      \n",
       "                    RIT-ROOSEVELT                                                124                      \n",
       "                    RIT-ROOSEVELT                                                 62                      \n",
       "\n",
       "                                   entry_nxt  \n",
       "C/A   UNIT SCP      STATION                   \n",
       "A002  R051 02-00-00 59 ST              810.0  \n",
       "                    59 ST              682.0  \n",
       "                    59 ST             1580.0  \n",
       "                    59 ST             1557.0  \n",
       "...                                      ...  \n",
       "TRAM2 R469 00-05-00 RIT-ROOSEVELT        2.0  \n",
       "                    RIT-ROOSEVELT        2.0  \n",
       "                    RIT-ROOSEVELT        3.0  \n",
       "                    RIT-ROOSEVELT        1.0  \n",
       "\n",
       "[28433 rows x 4 columns]"
      ]
     },
     "execution_count": 17,
     "metadata": {},
     "output_type": "execute_result"
    }
   ],
   "source": [
    "# prepare for plot in ex1.4\n",
    "mtaa3 = mtaa2.reset_index()\n",
    "mtaa3 = mtaa3.groupby(['C/A','UNIT','SCP','STATION','DATE']).sum()\n",
    "mtaa3 = mtaa3.reset_index()\n",
    "mtaa3 = mtaa3.set_index(['C/A','UNIT','SCP','STATION'])\n",
    "mtaa3"
   ]
  },
  {
   "cell_type": "code",
   "execution_count": 18,
   "metadata": {
    "collapsed": false
   },
   "outputs": [
    {
     "data": {
      "text/plain": [
       "[<matplotlib.lines.Line2D at 0x118f139b0>]"
      ]
     },
     "execution_count": 18,
     "metadata": {},
     "output_type": "execute_result"
    },
    {
     "data": {
      "image/png": "[encoded data removed]",
      "text/plain": [
       "<matplotlib.figure.Figure at 0x118ecb358>"
      ]
     },
     "metadata": {},
     "output_type": "display_data"
    }
   ],
   "source": [
    "%matplotlib inline\n",
    "# ex1.4 plot for one turnstile\n",
    "\n",
    "mtaa3_1 = mtaa3.ix[('A002', 'R051', '02-00-00', '59 ST')]\n",
    "dates = mtaa3_1.ix[:,'DATE']\n",
    "counts = mtaa3_1.ix[:,'entry_nxt']\n",
    "\n",
    "fig, ax = plt.subplots(1,1,figsize=[10,5])\n",
    "ax.plot(dates, counts)"
   ]
  },
  {
   "cell_type": "code",
   "execution_count": 19,
   "metadata": {
    "collapsed": false
   },
   "outputs": [
    {
     "data": {
      "text/html": [
       "<div>\n",
       "<table border=\"1\" class=\"dataframe\">\n",
       "  <thead>\n",
       "    <tr style=\"text-align: right;\">\n",
       "      <th></th>\n",
       "      <th></th>\n",
       "      <th></th>\n",
       "      <th>DATE</th>\n",
       "      <th>ENTRIES</th>\n",
       "      <th>EXITS</th>\n",
       "      <th>entry_nxt</th>\n",
       "    </tr>\n",
       "    <tr>\n",
       "      <th>C/A</th>\n",
       "      <th>UNIT</th>\n",
       "      <th>STATION</th>\n",
       "      <th></th>\n",
       "      <th></th>\n",
       "      <th></th>\n",
       "      <th></th>\n",
       "    </tr>\n",
       "  </thead>\n",
       "  <tbody>\n",
       "    <tr>\n",
       "      <th rowspan=\"4\" valign=\"top\">A002</th>\n",
       "      <th rowspan=\"4\" valign=\"top\">R051</th>\n",
       "      <th>59 ST</th>\n",
       "      <td>2016-08-27</td>\n",
       "      <td>339083534</td>\n",
       "      <td>192587271</td>\n",
       "      <td>9302.0</td>\n",
       "    </tr>\n",
       "    <tr>\n",
       "      <th>59 ST</th>\n",
       "      <td>2016-08-28</td>\n",
       "      <td>334460339</td>\n",
       "      <td>187014555</td>\n",
       "      <td>7674.0</td>\n",
       "    </tr>\n",
       "    <tr>\n",
       "      <th>59 ST</th>\n",
       "      <td>2016-08-29</td>\n",
       "      <td>339196944</td>\n",
       "      <td>192664141</td>\n",
       "      <td>16086.0</td>\n",
       "    </tr>\n",
       "    <tr>\n",
       "      <th>59 ST</th>\n",
       "      <td>2016-08-30</td>\n",
       "      <td>339293228</td>\n",
       "      <td>192723348</td>\n",
       "      <td>16703.0</td>\n",
       "    </tr>\n",
       "    <tr>\n",
       "      <th>...</th>\n",
       "      <th>...</th>\n",
       "      <th>...</th>\n",
       "      <td>...</td>\n",
       "      <td>...</td>\n",
       "      <td>...</td>\n",
       "      <td>...</td>\n",
       "    </tr>\n",
       "    <tr>\n",
       "      <th rowspan=\"4\" valign=\"top\">TRAM2</th>\n",
       "      <th rowspan=\"4\" valign=\"top\">R469</th>\n",
       "      <th>RIT-ROOSEVELT</th>\n",
       "      <td>2016-08-30</td>\n",
       "      <td>45840280</td>\n",
       "      <td>2358170</td>\n",
       "      <td>3912.0</td>\n",
       "    </tr>\n",
       "    <tr>\n",
       "      <th>RIT-ROOSEVELT</th>\n",
       "      <td>2016-08-31</td>\n",
       "      <td>45862843</td>\n",
       "      <td>2358723</td>\n",
       "      <td>3746.0</td>\n",
       "    </tr>\n",
       "    <tr>\n",
       "      <th>RIT-ROOSEVELT</th>\n",
       "      <td>2016-09-01</td>\n",
       "      <td>44044934</td>\n",
       "      <td>2339860</td>\n",
       "      <td>3365.0</td>\n",
       "    </tr>\n",
       "    <tr>\n",
       "      <th>RIT-ROOSEVELT</th>\n",
       "      <td>2016-09-02</td>\n",
       "      <td>40409940</td>\n",
       "      <td>2279610</td>\n",
       "      <td>3972.0</td>\n",
       "    </tr>\n",
       "  </tbody>\n",
       "</table>\n",
       "<p>5009 rows × 4 columns</p>\n",
       "</div>"
      ],
      "text/plain": [
       "                                DATE    ENTRIES  \\\n",
       "C/A   UNIT STATION                                \n",
       "A002  R051 59 ST          2016-08-27  339083534   \n",
       "           59 ST          2016-08-28  334460339   \n",
       "           59 ST          2016-08-29  339196944   \n",
       "           59 ST          2016-08-30  339293228   \n",
       "...                              ...        ...   \n",
       "TRAM2 R469 RIT-ROOSEVELT  2016-08-30   45840280   \n",
       "           RIT-ROOSEVELT  2016-08-31   45862843   \n",
       "           RIT-ROOSEVELT  2016-09-01   44044934   \n",
       "           RIT-ROOSEVELT  2016-09-02   40409940   \n",
       "\n",
       "                          EXITS                                                                 \\\n",
       "C/A   UNIT STATION                                                                               \n",
       "A002  R051 59 ST                                                  192587271                      \n",
       "           59 ST                                                  187014555                      \n",
       "           59 ST                                                  192664141                      \n",
       "           59 ST                                                  192723348                      \n",
       "...                                                                     ...                      \n",
       "TRAM2 R469 RIT-ROOSEVELT                                            2358170                      \n",
       "           RIT-ROOSEVELT                                            2358723                      \n",
       "           RIT-ROOSEVELT                                            2339860                      \n",
       "           RIT-ROOSEVELT                                            2279610                      \n",
       "\n",
       "                          entry_nxt  \n",
       "C/A   UNIT STATION                   \n",
       "A002  R051 59 ST             9302.0  \n",
       "           59 ST             7674.0  \n",
       "           59 ST            16086.0  \n",
       "           59 ST            16703.0  \n",
       "...                             ...  \n",
       "TRAM2 R469 RIT-ROOSEVELT     3912.0  \n",
       "           RIT-ROOSEVELT     3746.0  \n",
       "           RIT-ROOSEVELT     3365.0  \n",
       "           RIT-ROOSEVELT     3972.0  \n",
       "\n",
       "[5009 rows x 4 columns]"
      ]
     },
     "execution_count": 19,
     "metadata": {},
     "output_type": "execute_result"
    }
   ],
   "source": [
    "# ex1.5 combine all turnstiles in a station\n",
    "mtaa3 = mtaa3.reset_index()\n",
    "mtaa3 = mtaa3.groupby(['C/A','UNIT','STATION','DATE']).sum()\n",
    "mtaa3 = mtaa3.reset_index()\n",
    "mtaa3 = mtaa3.set_index(['C/A','UNIT','STATION'])\n",
    "mtaa3"
   ]
  },
  {
   "cell_type": "code",
   "execution_count": 20,
   "metadata": {
    "collapsed": false
   },
   "outputs": [
    {
     "data": {
      "text/plain": [
       "[<matplotlib.lines.Line2D at 0x118d38198>]"
      ]
     },
     "execution_count": 20,
     "metadata": {},
     "output_type": "execute_result"
    },
    {
     "data": {
      "image/png": "[encoded data removed]",
      "text/plain": [
       "<matplotlib.figure.Figure at 0x118efe8d0>"
      ]
     },
     "metadata": {},
     "output_type": "display_data"
    }
   ],
   "source": [
    "# ex1.6 ex1.7 plot for a station\n",
    "%matplotlib inline\n",
    "\n",
    "mtaa3_1 = mtaa3.ix[('A002', 'R051', '59 ST'),:]\n",
    "dates = mtaa3_1.ix[:,'DATE']\n",
    "counts = mtaa3_1.ix[:,'entry_nxt']\n",
    "\n",
    "fig, ax = plt.subplots(1,1,figsize=[10,5])\n",
    "ax.plot(dates, counts)"
   ]
  },
  {
   "cell_type": "code",
   "execution_count": null,
   "metadata": {
    "collapsed": true
   },
   "outputs": [],
   "source": []
  },
  {
   "cell_type": "code",
   "execution_count": 27,
   "metadata": {
    "collapsed": true
   },
   "outputs": [],
   "source": [
    "# define a function to do everything we have done so far for ex1.8 (multiple weeks)\n",
    "\n",
    "def create_count_list(filename, station_key):\n",
    "\n",
    "    # ex1.1 alternate pandas - no dictionary\n",
    "    mtaa = pd.read_csv(filename)\n",
    "\n",
    "    # ex1.2 turn time column into time object\n",
    "    mtaa['timestamp'] = (mtaa['DATE'] + ' ' + mtaa['TIME']).apply(lambda x : dateutil.parser.parse(x))\n",
    "    # convert DATE and TIME columes into time objects\n",
    "    mtaa['DATE'] = mtaa['timestamp'].map(lambda x: x.date())\n",
    "    mtaa['TIME'] = mtaa['timestamp'].map(lambda x: x.time())\n",
    "    mtaa2 = mtaa.set_index(['C/A', 'UNIT', 'SCP', 'STATION'])\n",
    "\n",
    "    # increase speed\n",
    "    mtaa2.sortlevel(level=0, inplace=True)\n",
    "\n",
    "    # ex1.3\n",
    "\n",
    "    mtaa2['entry_nxt'] = 0\n",
    "\n",
    "    for ind_1 in mtaa2.index.unique():\n",
    "        mtaa2.ix[ind_1, 'entry_nxt'] = np.array(mtaa2.ix[ind_1]['ENTRIES'].shift(periods = -1))\\\n",
    "        - np.array(mtaa2.ix[ind_1]['ENTRIES']) # creates NaN on the last row for each index\n",
    "\n",
    "    mtaa2 = mtaa2.dropna() # remove NaN\n",
    "    mtaa2 = mtaa2[(0< mtaa2['entry_nxt']) & (mtaa2['entry_nxt'] < 10000)] # remove negative counts and obviously too large values\n",
    "\n",
    "    # ex1.5 combine all turnstiles in a station\n",
    "    mtaa3 = mtaa2.reset_index()\n",
    "    mtaa3 = mtaa3.groupby(['C/A','UNIT','STATION','DATE']).sum()\n",
    "    mtaa3 = mtaa3.reset_index()\n",
    "    mtaa3 = mtaa3.set_index(['C/A','UNIT','STATION'])\n",
    "    \n",
    "    \n",
    "    mtaa3_1 = mtaa3.ix[station_key,:]\n",
    "    dates = mtaa3_1.ix[:,'DATE']\n",
    "    counts = mtaa3_1.ix[:,'entry_nxt']\n",
    "    \n",
    "    return dates, counts, mtaa3"
   ]
  },
  {
   "cell_type": "code",
   "execution_count": 12,
   "metadata": {
    "collapsed": false
   },
   "outputs": [],
   "source": [
    "station_key = ('A002', 'R051', '59 ST')\n",
    "\n",
    "filename1 = 'turnstile_160903.txt'\n",
    "date1, count1, station_df1 = create_count_list(filename1, station_key)\n",
    "\n",
    "filename2 = 'turnstile_160910.txt'\n",
    "date2, count2, station_df2 = create_count_list(filename2, station_key)\n",
    "\n",
    "filename3 = 'turnstile_160917.txt'\n",
    "date3, count3, station_df3 = create_count_list(filename3, station_key)\n",
    "\n",
    "filename4 = 'turnstile_160924.txt'\n",
    "date4, count4, station_df4 = create_count_list(filename4, station_key)"
   ]
  },
  {
   "cell_type": "code",
   "execution_count": 81,
   "metadata": {
    "collapsed": false
   },
   "outputs": [
    {
     "data": {
      "text/plain": [
       "[<matplotlib.lines.Line2D at 0x117da6f28>]"
      ]
     },
     "execution_count": 81,
     "metadata": {},
     "output_type": "execute_result"
    },
    {
     "data": {
      "image/png": "[encoded data removed]",
      "text/plain": [
       "<matplotlib.figure.Figure at 0x1223ca4a8>"
      ]
     },
     "metadata": {},
     "output_type": "display_data"
    }
   ],
   "source": [
    "def convert_weekend(date):\n",
    "    date_w = date.apply(datetime.date.weekday)\n",
    "    date_w = date_w.apply(lambda x: (x+2)%7)\n",
    "    return date_w\n",
    "\n",
    "date1_w = convert_weekend(date1)\n",
    "date2_w = convert_weekend(date2)\n",
    "date3_w = convert_weekend(date3)\n",
    "date4_w = convert_weekend(date4)\n",
    "\n",
    "# ex1.8 plot\n",
    "%matplotlib inline\n",
    "import matplotlib.pyplot as plt\n",
    "plt.figure(figsize=(10,3))\n",
    "plt.plot(date1_w,count1,'r')\n",
    "plt.plot(date2_w,count2,'g')\n",
    "plt.plot(date3_w,count3,'b')\n",
    "plt.plot(date4_w,count4,'k')"
   ]
  },
  {
   "cell_type": "code",
   "execution_count": 82,
   "metadata": {
    "collapsed": false
   },
   "outputs": [
    {
     "data": {
      "text/plain": [
       "STATION\n",
       "34 ST-PENN STA     3933459.0\n",
       "GRD CNTRL-42 ST    3448265.0\n",
       "34 ST-HERALD SQ    2720424.0\n",
       "23 ST              2703190.0\n",
       "                     ...    \n",
       "BEACH 105 ST          9304.0\n",
       "BROAD CHANNEL         7797.0\n",
       "ORCHARD BEACH         1940.0\n",
       "PATH NEW WTC            14.0\n",
       "Name: entry_nxt, dtype: float64"
      ]
     },
     "execution_count": 82,
     "metadata": {},
     "output_type": "execute_result"
    }
   ],
   "source": [
    "# ex1.9 combine weeks of date into one dataframe\n",
    "# and find the highest volume\n",
    "\n",
    "sd1 = station_df1.reset_index()\n",
    "sd2 = station_df2.reset_index()\n",
    "sd3 = station_df3.reset_index()\n",
    "sd4 = station_df4.reset_index()\n",
    "\n",
    "sd_all = pd.concat([sd1, sd2, sd3, sd4])\n",
    "sd_all = sd_all.groupby('STATION').sum()\n",
    "sd_all = sd_all.sort_values('entry_nxt', ascending = False)\n",
    "\n",
    "# display sorted values\n",
    "# 34 ST-PENN STA has the highest total entries\n",
    "sd_all['entry_nxt']"
   ]
  },
  {
   "cell_type": "code",
   "execution_count": 80,
   "metadata": {
    "collapsed": false
   },
   "outputs": [
    {
     "data": {
      "image/png": "[encoded data removed]",
      "text/plain": [
       "<matplotlib.figure.Figure at 0x121649a90>"
      ]
     },
     "metadata": {},
     "output_type": "display_data"
    }
   ],
   "source": [
    "# ex1.10 plot histogram\n",
    "total_ridership_counts = sd_all['entry_nxt'].tolist()\n",
    "\n",
    "plt.hist(total_ridership_counts);"
   ]
  }
 ],
 "metadata": {
  "anaconda-cloud": {},
  "kernelspec": {
   "display_name": "Python [py3k]",
   "language": "python",
   "name": "Python [py3k]"
  },
  "language_info": {
   "codemirror_mode": {
    "name": "ipython",
    "version": 3
   },
   "file_extension": ".py",
   "mimetype": "text/x-python",
   "name": "python",
   "nbconvert_exporter": "python",
   "pygments_lexer": "ipython3",
   "version": "3.5.2"
  }
 },
 "nbformat": 4,
 "nbformat_minor": 0
}
