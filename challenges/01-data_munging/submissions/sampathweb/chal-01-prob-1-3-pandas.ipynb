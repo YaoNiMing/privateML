{
 "cells": [
  {
   "cell_type": "markdown",
   "metadata": {},
   "source": [
    "# Challenge Set 1:  MTA Turnstile Data"
   ]
  },
  {
   "cell_type": "code",
   "execution_count": 6,
   "metadata": {
    "collapsed": true
   },
   "outputs": [],
   "source": [
    "from __future__ import print_function, division"
   ]
  },
  {
   "cell_type": "code",
   "execution_count": 7,
   "metadata": {
    "collapsed": true
   },
   "outputs": [],
   "source": [
    "import pandas as pd\n",
    "import numpy as np\n",
    "import matplotlib.pyplot as plt\n",
    "\n",
    "%matplotlib inline"
   ]
  },
  {
   "cell_type": "code",
   "execution_count": 32,
   "metadata": {
    "collapsed": true
   },
   "outputs": [],
   "source": [
    "import datetime"
   ]
  },
  {
   "cell_type": "markdown",
   "metadata": {},
   "source": [
    "#### Exercise 1.1\n",
    "\n",
    "- Open up a new Jupyter notebook\n",
    "- Download a few MTA turnstile data files\n",
    "- Open up a file, use csv reader to read it, make a python dict where\n",
    "  there is a key for each (C/A, UNIT, SCP, STATION). These are the\n",
    "  first four columns. The value for this key should be a list of\n",
    "  lists. Each list in the list is the rest of the columns in a\n",
    "  row. For example, one key-value pair should look like\n",
    "\n",
    "\n",
    "{    ('A002','R051','02-00-00','LEXINGTON AVE'):\n",
    "[\n",
    "['NQR456', 'BMT', '01/03/2015', '03:00:00', 'REGULAR', '0004945474', '0001675324'],\n",
    "['NQR456', 'BMT', '01/03/2015', '07:00:00', 'REGULAR', '0004945478', '0001675333'],\n",
    "['NQR456', 'BMT', '01/03/2015', '11:00:00', 'REGULAR', '0004945515', '0001675364'],\n",
    "...\n",
    "]\n",
    "}"
   ]
  },
  {
   "cell_type": "code",
   "execution_count": 4,
   "metadata": {
    "collapsed": true
   },
   "outputs": [],
   "source": [
    "# Source: http://web.mta.info/developers/turnstile.html\n",
    "def get_data(week_nums):\n",
    "    url = \"http://web.mta.info/developers/data/nyct/turnstile/turnstile_{}.txt\"\n",
    "    dfs = []\n",
    "    for week_num in week_nums:\n",
    "        file_url = url.format(week_num)\n",
    "        dfs.append(pd.read_csv(file_url))\n",
    "    return pd.concat(dfs)\n",
    "        \n",
    "week_nums = [160903, 160910, 160917]\n",
    "turnstiles_df = get_data(week_nums)"
   ]
  },
  {
   "cell_type": "code",
   "execution_count": 9,
   "metadata": {
    "collapsed": false
   },
   "outputs": [
    {
     "data": {
      "text/html": [
       "<div>\n",
       "<table border=\"1\" class=\"dataframe\">\n",
       "  <thead>\n",
       "    <tr style=\"text-align: right;\">\n",
       "      <th></th>\n",
       "      <th>C/A</th>\n",
       "      <th>UNIT</th>\n",
       "      <th>SCP</th>\n",
       "      <th>STATION</th>\n",
       "      <th>LINENAME</th>\n",
       "      <th>DIVISION</th>\n",
       "      <th>DATE</th>\n",
       "      <th>TIME</th>\n",
       "      <th>DESC</th>\n",
       "      <th>ENTRIES</th>\n",
       "      <th>EXITS</th>\n",
       "    </tr>\n",
       "  </thead>\n",
       "  <tbody>\n",
       "    <tr>\n",
       "      <th>0</th>\n",
       "      <td>A002</td>\n",
       "      <td>R051</td>\n",
       "      <td>02-00-00</td>\n",
       "      <td>59 ST</td>\n",
       "      <td>NQR456</td>\n",
       "      <td>BMT</td>\n",
       "      <td>08/27/2016</td>\n",
       "      <td>00:00:00</td>\n",
       "      <td>REGULAR</td>\n",
       "      <td>5799442</td>\n",
       "      <td>1966041</td>\n",
       "    </tr>\n",
       "    <tr>\n",
       "      <th>1</th>\n",
       "      <td>A002</td>\n",
       "      <td>R051</td>\n",
       "      <td>02-00-00</td>\n",
       "      <td>59 ST</td>\n",
       "      <td>NQR456</td>\n",
       "      <td>BMT</td>\n",
       "      <td>08/27/2016</td>\n",
       "      <td>04:00:00</td>\n",
       "      <td>REGULAR</td>\n",
       "      <td>5799463</td>\n",
       "      <td>1966044</td>\n",
       "    </tr>\n",
       "    <tr>\n",
       "      <th>2</th>\n",
       "      <td>A002</td>\n",
       "      <td>R051</td>\n",
       "      <td>02-00-00</td>\n",
       "      <td>59 ST</td>\n",
       "      <td>NQR456</td>\n",
       "      <td>BMT</td>\n",
       "      <td>08/27/2016</td>\n",
       "      <td>08:00:00</td>\n",
       "      <td>REGULAR</td>\n",
       "      <td>5799492</td>\n",
       "      <td>1966079</td>\n",
       "    </tr>\n",
       "    <tr>\n",
       "      <th>3</th>\n",
       "      <td>A002</td>\n",
       "      <td>R051</td>\n",
       "      <td>02-00-00</td>\n",
       "      <td>59 ST</td>\n",
       "      <td>NQR456</td>\n",
       "      <td>BMT</td>\n",
       "      <td>08/27/2016</td>\n",
       "      <td>12:00:00</td>\n",
       "      <td>REGULAR</td>\n",
       "      <td>5799610</td>\n",
       "      <td>1966155</td>\n",
       "    </tr>\n",
       "    <tr>\n",
       "      <th>4</th>\n",
       "      <td>A002</td>\n",
       "      <td>R051</td>\n",
       "      <td>02-00-00</td>\n",
       "      <td>59 ST</td>\n",
       "      <td>NQR456</td>\n",
       "      <td>BMT</td>\n",
       "      <td>08/27/2016</td>\n",
       "      <td>16:00:00</td>\n",
       "      <td>REGULAR</td>\n",
       "      <td>5799833</td>\n",
       "      <td>1966214</td>\n",
       "    </tr>\n",
       "  </tbody>\n",
       "</table>\n",
       "</div>"
      ],
      "text/plain": [
       "    C/A  UNIT       SCP STATION LINENAME DIVISION        DATE      TIME  \\\n",
       "0  A002  R051  02-00-00   59 ST   NQR456      BMT  08/27/2016  00:00:00   \n",
       "1  A002  R051  02-00-00   59 ST   NQR456      BMT  08/27/2016  04:00:00   \n",
       "2  A002  R051  02-00-00   59 ST   NQR456      BMT  08/27/2016  08:00:00   \n",
       "3  A002  R051  02-00-00   59 ST   NQR456      BMT  08/27/2016  12:00:00   \n",
       "4  A002  R051  02-00-00   59 ST   NQR456      BMT  08/27/2016  16:00:00   \n",
       "\n",
       "      DESC  ENTRIES  \\\n",
       "0  REGULAR  5799442   \n",
       "1  REGULAR  5799463   \n",
       "2  REGULAR  5799492   \n",
       "3  REGULAR  5799610   \n",
       "4  REGULAR  5799833   \n",
       "\n",
       "   EXITS                                                                 \n",
       "0                                            1966041                     \n",
       "1                                            1966044                     \n",
       "2                                            1966079                     \n",
       "3                                            1966155                     \n",
       "4                                            1966214                     "
      ]
     },
     "execution_count": 9,
     "metadata": {},
     "output_type": "execute_result"
    }
   ],
   "source": [
    "turnstiles_df.head()"
   ]
  },
  {
   "cell_type": "code",
   "execution_count": 10,
   "metadata": {
    "collapsed": false
   },
   "outputs": [
    {
     "data": {
      "text/plain": [
       "Index(['C/A', 'UNIT', 'SCP', 'STATION', 'LINENAME', 'DIVISION', 'DATE', 'TIME',\n",
       "       'DESC', 'ENTRIES',\n",
       "       'EXITS                                                               '],\n",
       "      dtype='object')"
      ]
     },
     "execution_count": 10,
     "metadata": {},
     "output_type": "execute_result"
    }
   ],
   "source": [
    "turnstiles_df.columns"
   ]
  },
  {
   "cell_type": "code",
   "execution_count": 13,
   "metadata": {
    "collapsed": false
   },
   "outputs": [],
   "source": [
    "turnstiles_df.columns = [column.strip() for column in turnstiles_df.columns]"
   ]
  },
  {
   "cell_type": "code",
   "execution_count": 14,
   "metadata": {
    "collapsed": false
   },
   "outputs": [
    {
     "data": {
      "text/plain": [
       "Index(['C/A', 'UNIT', 'SCP', 'STATION', 'LINENAME', 'DIVISION', 'DATE', 'TIME',\n",
       "       'DESC', 'ENTRIES', 'EXITS'],\n",
       "      dtype='object')"
      ]
     },
     "execution_count": 14,
     "metadata": {},
     "output_type": "execute_result"
    }
   ],
   "source": [
    "turnstiles_df.columns"
   ]
  },
  {
   "cell_type": "code",
   "execution_count": 15,
   "metadata": {
    "collapsed": false
   },
   "outputs": [
    {
     "data": {
      "text/html": [
       "<div>\n",
       "<table border=\"1\" class=\"dataframe\">\n",
       "  <thead>\n",
       "    <tr style=\"text-align: right;\">\n",
       "      <th></th>\n",
       "      <th>C/A</th>\n",
       "      <th>UNIT</th>\n",
       "      <th>SCP</th>\n",
       "      <th>STATION</th>\n",
       "      <th>LINENAME</th>\n",
       "      <th>DIVISION</th>\n",
       "      <th>DATE</th>\n",
       "      <th>TIME</th>\n",
       "      <th>DESC</th>\n",
       "      <th>ENTRIES</th>\n",
       "      <th>EXITS</th>\n",
       "    </tr>\n",
       "  </thead>\n",
       "  <tbody>\n",
       "    <tr>\n",
       "      <th>0</th>\n",
       "      <td>A002</td>\n",
       "      <td>R051</td>\n",
       "      <td>02-00-00</td>\n",
       "      <td>59 ST</td>\n",
       "      <td>NQR456</td>\n",
       "      <td>BMT</td>\n",
       "      <td>08/27/2016</td>\n",
       "      <td>00:00:00</td>\n",
       "      <td>REGULAR</td>\n",
       "      <td>5799442</td>\n",
       "      <td>1966041</td>\n",
       "    </tr>\n",
       "    <tr>\n",
       "      <th>1</th>\n",
       "      <td>A002</td>\n",
       "      <td>R051</td>\n",
       "      <td>02-00-00</td>\n",
       "      <td>59 ST</td>\n",
       "      <td>NQR456</td>\n",
       "      <td>BMT</td>\n",
       "      <td>08/27/2016</td>\n",
       "      <td>04:00:00</td>\n",
       "      <td>REGULAR</td>\n",
       "      <td>5799463</td>\n",
       "      <td>1966044</td>\n",
       "    </tr>\n",
       "    <tr>\n",
       "      <th>2</th>\n",
       "      <td>A002</td>\n",
       "      <td>R051</td>\n",
       "      <td>02-00-00</td>\n",
       "      <td>59 ST</td>\n",
       "      <td>NQR456</td>\n",
       "      <td>BMT</td>\n",
       "      <td>08/27/2016</td>\n",
       "      <td>08:00:00</td>\n",
       "      <td>REGULAR</td>\n",
       "      <td>5799492</td>\n",
       "      <td>1966079</td>\n",
       "    </tr>\n",
       "    <tr>\n",
       "      <th>3</th>\n",
       "      <td>A002</td>\n",
       "      <td>R051</td>\n",
       "      <td>02-00-00</td>\n",
       "      <td>59 ST</td>\n",
       "      <td>NQR456</td>\n",
       "      <td>BMT</td>\n",
       "      <td>08/27/2016</td>\n",
       "      <td>12:00:00</td>\n",
       "      <td>REGULAR</td>\n",
       "      <td>5799610</td>\n",
       "      <td>1966155</td>\n",
       "    </tr>\n",
       "    <tr>\n",
       "      <th>4</th>\n",
       "      <td>A002</td>\n",
       "      <td>R051</td>\n",
       "      <td>02-00-00</td>\n",
       "      <td>59 ST</td>\n",
       "      <td>NQR456</td>\n",
       "      <td>BMT</td>\n",
       "      <td>08/27/2016</td>\n",
       "      <td>16:00:00</td>\n",
       "      <td>REGULAR</td>\n",
       "      <td>5799833</td>\n",
       "      <td>1966214</td>\n",
       "    </tr>\n",
       "  </tbody>\n",
       "</table>\n",
       "</div>"
      ],
      "text/plain": [
       "    C/A  UNIT       SCP STATION LINENAME DIVISION        DATE      TIME  \\\n",
       "0  A002  R051  02-00-00   59 ST   NQR456      BMT  08/27/2016  00:00:00   \n",
       "1  A002  R051  02-00-00   59 ST   NQR456      BMT  08/27/2016  04:00:00   \n",
       "2  A002  R051  02-00-00   59 ST   NQR456      BMT  08/27/2016  08:00:00   \n",
       "3  A002  R051  02-00-00   59 ST   NQR456      BMT  08/27/2016  12:00:00   \n",
       "4  A002  R051  02-00-00   59 ST   NQR456      BMT  08/27/2016  16:00:00   \n",
       "\n",
       "      DESC  ENTRIES    EXITS  \n",
       "0  REGULAR  5799442  1966041  \n",
       "1  REGULAR  5799463  1966044  \n",
       "2  REGULAR  5799492  1966079  \n",
       "3  REGULAR  5799610  1966155  \n",
       "4  REGULAR  5799833  1966214  "
      ]
     },
     "execution_count": 15,
     "metadata": {},
     "output_type": "execute_result"
    }
   ],
   "source": [
    "turnstiles_df.head()"
   ]
  },
  {
   "cell_type": "code",
   "execution_count": 16,
   "metadata": {
    "collapsed": false
   },
   "outputs": [
    {
     "data": {
      "text/html": [
       "<div>\n",
       "<table border=\"1\" class=\"dataframe\">\n",
       "  <thead>\n",
       "    <tr style=\"text-align: right;\">\n",
       "      <th></th>\n",
       "      <th>C/A</th>\n",
       "      <th>UNIT</th>\n",
       "      <th>SCP</th>\n",
       "      <th>STATION</th>\n",
       "      <th>LINENAME</th>\n",
       "      <th>DIVISION</th>\n",
       "      <th>DATE</th>\n",
       "      <th>TIME</th>\n",
       "      <th>DESC</th>\n",
       "      <th>ENTRIES</th>\n",
       "      <th>EXITS</th>\n",
       "    </tr>\n",
       "  </thead>\n",
       "  <tbody>\n",
       "    <tr>\n",
       "      <th>192873</th>\n",
       "      <td>TRAM2</td>\n",
       "      <td>R469</td>\n",
       "      <td>00-05-01</td>\n",
       "      <td>RIT-ROOSEVELT</td>\n",
       "      <td>R</td>\n",
       "      <td>RIT</td>\n",
       "      <td>09/16/2016</td>\n",
       "      <td>05:00:00</td>\n",
       "      <td>REGULAR</td>\n",
       "      <td>5554</td>\n",
       "      <td>271</td>\n",
       "    </tr>\n",
       "    <tr>\n",
       "      <th>192874</th>\n",
       "      <td>TRAM2</td>\n",
       "      <td>R469</td>\n",
       "      <td>00-05-01</td>\n",
       "      <td>RIT-ROOSEVELT</td>\n",
       "      <td>R</td>\n",
       "      <td>RIT</td>\n",
       "      <td>09/16/2016</td>\n",
       "      <td>09:00:00</td>\n",
       "      <td>REGULAR</td>\n",
       "      <td>5554</td>\n",
       "      <td>271</td>\n",
       "    </tr>\n",
       "    <tr>\n",
       "      <th>192875</th>\n",
       "      <td>TRAM2</td>\n",
       "      <td>R469</td>\n",
       "      <td>00-05-01</td>\n",
       "      <td>RIT-ROOSEVELT</td>\n",
       "      <td>R</td>\n",
       "      <td>RIT</td>\n",
       "      <td>09/16/2016</td>\n",
       "      <td>13:00:00</td>\n",
       "      <td>REGULAR</td>\n",
       "      <td>5554</td>\n",
       "      <td>271</td>\n",
       "    </tr>\n",
       "    <tr>\n",
       "      <th>192876</th>\n",
       "      <td>TRAM2</td>\n",
       "      <td>R469</td>\n",
       "      <td>00-05-01</td>\n",
       "      <td>RIT-ROOSEVELT</td>\n",
       "      <td>R</td>\n",
       "      <td>RIT</td>\n",
       "      <td>09/16/2016</td>\n",
       "      <td>17:00:00</td>\n",
       "      <td>REGULAR</td>\n",
       "      <td>5554</td>\n",
       "      <td>271</td>\n",
       "    </tr>\n",
       "    <tr>\n",
       "      <th>192877</th>\n",
       "      <td>TRAM2</td>\n",
       "      <td>R469</td>\n",
       "      <td>00-05-01</td>\n",
       "      <td>RIT-ROOSEVELT</td>\n",
       "      <td>R</td>\n",
       "      <td>RIT</td>\n",
       "      <td>09/16/2016</td>\n",
       "      <td>21:00:00</td>\n",
       "      <td>REGULAR</td>\n",
       "      <td>5554</td>\n",
       "      <td>271</td>\n",
       "    </tr>\n",
       "  </tbody>\n",
       "</table>\n",
       "</div>"
      ],
      "text/plain": [
       "          C/A  UNIT       SCP        STATION LINENAME DIVISION        DATE  \\\n",
       "192873  TRAM2  R469  00-05-01  RIT-ROOSEVELT        R      RIT  09/16/2016   \n",
       "192874  TRAM2  R469  00-05-01  RIT-ROOSEVELT        R      RIT  09/16/2016   \n",
       "192875  TRAM2  R469  00-05-01  RIT-ROOSEVELT        R      RIT  09/16/2016   \n",
       "192876  TRAM2  R469  00-05-01  RIT-ROOSEVELT        R      RIT  09/16/2016   \n",
       "192877  TRAM2  R469  00-05-01  RIT-ROOSEVELT        R      RIT  09/16/2016   \n",
       "\n",
       "            TIME     DESC  ENTRIES  EXITS  \n",
       "192873  05:00:00  REGULAR     5554    271  \n",
       "192874  09:00:00  REGULAR     5554    271  \n",
       "192875  13:00:00  REGULAR     5554    271  \n",
       "192876  17:00:00  REGULAR     5554    271  \n",
       "192877  21:00:00  REGULAR     5554    271  "
      ]
     },
     "execution_count": 16,
     "metadata": {},
     "output_type": "execute_result"
    }
   ],
   "source": [
    "turnstiles_df.tail()"
   ]
  },
  {
   "cell_type": "code",
   "execution_count": 17,
   "metadata": {
    "collapsed": false
   },
   "outputs": [
    {
     "data": {
      "text/plain": [
       "08/27/2016    27290\n",
       "08/28/2016    27300\n",
       "08/29/2016    27828\n",
       "08/30/2016    27775\n",
       "08/31/2016    27352\n",
       "09/01/2016    28116\n",
       "09/02/2016    27478\n",
       "09/03/2016    27353\n",
       "09/04/2016    27304\n",
       "09/05/2016    27325\n",
       "09/06/2016    28826\n",
       "09/07/2016    27977\n",
       "09/08/2016    28137\n",
       "09/09/2016    27956\n",
       "09/10/2016    27325\n",
       "09/11/2016    27334\n",
       "09/12/2016    28074\n",
       "09/13/2016    27343\n",
       "09/14/2016    27359\n",
       "09/15/2016    27283\n",
       "09/16/2016    28160\n",
       "Name: DATE, dtype: int64"
      ]
     },
     "execution_count": 17,
     "metadata": {},
     "output_type": "execute_result"
    }
   ],
   "source": [
    "# Three weeks of Data\n",
    "turnstiles_df.DATE.value_counts().sort_index()"
   ]
  },
  {
   "cell_type": "markdown",
   "metadata": {},
   "source": [
    "\n",
    "#### Exercise 1.2\n",
    "\n",
    "- Let's turn this into a time series.\n",
    "\n",
    " For each key (basically the control area, unit, device address and\n",
    " station of a specific turnstile), have a list again, but let the list\n",
    " be comprised of just the point in time and the count of entries.\n",
    "\n",
    "This basically means keeping only the date, time, and entries fields\n",
    "in each list. You can convert the date and time into datetime objects\n",
    "-- That is a python class that represents a point in time. You can\n",
    "combine the date and time fields into a string and use the\n",
    "[dateutil](https://labix.org/python-dateutil) module to convert it\n",
    "into a datetime object. For an example check\n",
    "[this StackOverflow question](http://stackoverflow.com/questions/23385003/attributeerror-when-using-import-dateutil-and-dateutil-parser-parse-but-no).\n",
    "\n",
    "Your new dict should look something like\n",
    "\n",
    "{    ('A002','R051','02-00-00','LEXINGTON AVE'):\n",
    "[\n",
    "[datetime.datetime(2013, 3, 2, 3, 0), 3788],\n",
    "[datetime.datetime(2013, 3, 2, 7, 0), 2585],\n",
    "[datetime.datetime(2013, 3, 2, 12, 0), 10653],\n",
    "[datetime.datetime(2013, 3, 2, 17, 0), 11016],\n",
    "[datetime.datetime(2013, 3, 2, 23, 0), 10666],\n",
    "[datetime.datetime(2013, 3, 3, 3, 0), 10814],\n",
    "[datetime.datetime(2013, 3, 3, 7, 0), 10229],\n",
    "...\n",
    "],\n",
    "....\n",
    "}"
   ]
  },
  {
   "cell_type": "code",
   "execution_count": 104,
   "metadata": {
    "collapsed": false
   },
   "outputs": [
    {
     "data": {
      "text/plain": [
       "Index(['C/A', 'UNIT', 'SCP', 'STATION', 'LINENAME', 'DIVISION', 'DATE', 'TIME',\n",
       "       'DESC', 'ENTRIES', 'EXITS'],\n",
       "      dtype='object')"
      ]
     },
     "execution_count": 104,
     "metadata": {},
     "output_type": "execute_result"
    }
   ],
   "source": [
    "turnstiles_df.columns"
   ]
  },
  {
   "cell_type": "code",
   "execution_count": 105,
   "metadata": {
    "collapsed": true
   },
   "outputs": [],
   "source": [
    "from datetime import datetime as dt"
   ]
  },
  {
   "cell_type": "code",
   "execution_count": 18,
   "metadata": {
    "collapsed": false
   },
   "outputs": [
    {
     "data": {
      "text/html": [
       "<div>\n",
       "<table border=\"1\" class=\"dataframe\">\n",
       "  <thead>\n",
       "    <tr style=\"text-align: right;\">\n",
       "      <th></th>\n",
       "      <th>C/A</th>\n",
       "      <th>UNIT</th>\n",
       "      <th>SCP</th>\n",
       "      <th>STATION</th>\n",
       "      <th>LINENAME</th>\n",
       "      <th>DIVISION</th>\n",
       "      <th>DATE</th>\n",
       "      <th>TIME</th>\n",
       "      <th>DESC</th>\n",
       "      <th>ENTRIES</th>\n",
       "      <th>EXITS</th>\n",
       "    </tr>\n",
       "  </thead>\n",
       "  <tbody>\n",
       "    <tr>\n",
       "      <th>0</th>\n",
       "      <td>A002</td>\n",
       "      <td>R051</td>\n",
       "      <td>02-00-00</td>\n",
       "      <td>59 ST</td>\n",
       "      <td>NQR456</td>\n",
       "      <td>BMT</td>\n",
       "      <td>08/27/2016</td>\n",
       "      <td>00:00:00</td>\n",
       "      <td>REGULAR</td>\n",
       "      <td>5799442</td>\n",
       "      <td>1966041</td>\n",
       "    </tr>\n",
       "    <tr>\n",
       "      <th>1</th>\n",
       "      <td>A002</td>\n",
       "      <td>R051</td>\n",
       "      <td>02-00-00</td>\n",
       "      <td>59 ST</td>\n",
       "      <td>NQR456</td>\n",
       "      <td>BMT</td>\n",
       "      <td>08/27/2016</td>\n",
       "      <td>04:00:00</td>\n",
       "      <td>REGULAR</td>\n",
       "      <td>5799463</td>\n",
       "      <td>1966044</td>\n",
       "    </tr>\n",
       "    <tr>\n",
       "      <th>2</th>\n",
       "      <td>A002</td>\n",
       "      <td>R051</td>\n",
       "      <td>02-00-00</td>\n",
       "      <td>59 ST</td>\n",
       "      <td>NQR456</td>\n",
       "      <td>BMT</td>\n",
       "      <td>08/27/2016</td>\n",
       "      <td>08:00:00</td>\n",
       "      <td>REGULAR</td>\n",
       "      <td>5799492</td>\n",
       "      <td>1966079</td>\n",
       "    </tr>\n",
       "    <tr>\n",
       "      <th>3</th>\n",
       "      <td>A002</td>\n",
       "      <td>R051</td>\n",
       "      <td>02-00-00</td>\n",
       "      <td>59 ST</td>\n",
       "      <td>NQR456</td>\n",
       "      <td>BMT</td>\n",
       "      <td>08/27/2016</td>\n",
       "      <td>12:00:00</td>\n",
       "      <td>REGULAR</td>\n",
       "      <td>5799610</td>\n",
       "      <td>1966155</td>\n",
       "    </tr>\n",
       "    <tr>\n",
       "      <th>4</th>\n",
       "      <td>A002</td>\n",
       "      <td>R051</td>\n",
       "      <td>02-00-00</td>\n",
       "      <td>59 ST</td>\n",
       "      <td>NQR456</td>\n",
       "      <td>BMT</td>\n",
       "      <td>08/27/2016</td>\n",
       "      <td>16:00:00</td>\n",
       "      <td>REGULAR</td>\n",
       "      <td>5799833</td>\n",
       "      <td>1966214</td>\n",
       "    </tr>\n",
       "  </tbody>\n",
       "</table>\n",
       "</div>"
      ],
      "text/plain": [
       "    C/A  UNIT       SCP STATION LINENAME DIVISION        DATE      TIME  \\\n",
       "0  A002  R051  02-00-00   59 ST   NQR456      BMT  08/27/2016  00:00:00   \n",
       "1  A002  R051  02-00-00   59 ST   NQR456      BMT  08/27/2016  04:00:00   \n",
       "2  A002  R051  02-00-00   59 ST   NQR456      BMT  08/27/2016  08:00:00   \n",
       "3  A002  R051  02-00-00   59 ST   NQR456      BMT  08/27/2016  12:00:00   \n",
       "4  A002  R051  02-00-00   59 ST   NQR456      BMT  08/27/2016  16:00:00   \n",
       "\n",
       "      DESC  ENTRIES    EXITS  \n",
       "0  REGULAR  5799442  1966041  \n",
       "1  REGULAR  5799463  1966044  \n",
       "2  REGULAR  5799492  1966079  \n",
       "3  REGULAR  5799610  1966155  \n",
       "4  REGULAR  5799833  1966214  "
      ]
     },
     "execution_count": 18,
     "metadata": {},
     "output_type": "execute_result"
    }
   ],
   "source": [
    "mask = ((turnstiles_df[\"C/A\"] == \"A002\") & \n",
    "        (turnstiles_df[\"UNIT\"] == \"R051\") & \n",
    "        (turnstiles_df[\"SCP\"] == \"02-00-00\") & \n",
    "        (turnstiles_df[\"STATION\"] == \"59 ST\"))\n",
    "turnstiles_df[mask].head()"
   ]
  },
  {
   "cell_type": "code",
   "execution_count": 23,
   "metadata": {
    "collapsed": false
   },
   "outputs": [],
   "source": [
    "# Take the date and time fields into a single datetime column\n",
    "turnstiles_df[\"DATE_TIME\"] = pd.to_datetime(turnstiles_df.DATE + \" \" + turnstiles_df.TIME, format=\"%m/%d/%Y %H:%M:%S\")"
   ]
  },
  {
   "cell_type": "code",
   "execution_count": 24,
   "metadata": {
    "collapsed": false
   },
   "outputs": [
    {
     "data": {
      "text/html": [
       "<div>\n",
       "<table border=\"1\" class=\"dataframe\">\n",
       "  <thead>\n",
       "    <tr style=\"text-align: right;\">\n",
       "      <th></th>\n",
       "      <th>C/A</th>\n",
       "      <th>UNIT</th>\n",
       "      <th>SCP</th>\n",
       "      <th>STATION</th>\n",
       "      <th>LINENAME</th>\n",
       "      <th>DIVISION</th>\n",
       "      <th>DATE</th>\n",
       "      <th>TIME</th>\n",
       "      <th>DESC</th>\n",
       "      <th>ENTRIES</th>\n",
       "      <th>EXITS</th>\n",
       "      <th>DATE_TIME</th>\n",
       "    </tr>\n",
       "  </thead>\n",
       "  <tbody>\n",
       "    <tr>\n",
       "      <th>186607</th>\n",
       "      <td>R626</td>\n",
       "      <td>R062</td>\n",
       "      <td>00-00-00</td>\n",
       "      <td>CROWN HTS-UTICA</td>\n",
       "      <td>34</td>\n",
       "      <td>IRT</td>\n",
       "      <td>08/27/2016</td>\n",
       "      <td>00:00:00</td>\n",
       "      <td>REGULAR</td>\n",
       "      <td>12079591</td>\n",
       "      <td>2684445</td>\n",
       "      <td>2016-08-27 00:00:00</td>\n",
       "    </tr>\n",
       "    <tr>\n",
       "      <th>186608</th>\n",
       "      <td>R626</td>\n",
       "      <td>R062</td>\n",
       "      <td>00-00-00</td>\n",
       "      <td>CROWN HTS-UTICA</td>\n",
       "      <td>34</td>\n",
       "      <td>IRT</td>\n",
       "      <td>08/27/2016</td>\n",
       "      <td>04:00:00</td>\n",
       "      <td>REGULAR</td>\n",
       "      <td>12079636</td>\n",
       "      <td>2684479</td>\n",
       "      <td>2016-08-27 04:00:00</td>\n",
       "    </tr>\n",
       "    <tr>\n",
       "      <th>186609</th>\n",
       "      <td>R626</td>\n",
       "      <td>R062</td>\n",
       "      <td>00-00-00</td>\n",
       "      <td>CROWN HTS-UTICA</td>\n",
       "      <td>34</td>\n",
       "      <td>IRT</td>\n",
       "      <td>08/27/2016</td>\n",
       "      <td>08:00:00</td>\n",
       "      <td>REGULAR</td>\n",
       "      <td>12079894</td>\n",
       "      <td>2684489</td>\n",
       "      <td>2016-08-27 08:00:00</td>\n",
       "    </tr>\n",
       "    <tr>\n",
       "      <th>186610</th>\n",
       "      <td>R626</td>\n",
       "      <td>R062</td>\n",
       "      <td>00-00-00</td>\n",
       "      <td>CROWN HTS-UTICA</td>\n",
       "      <td>34</td>\n",
       "      <td>IRT</td>\n",
       "      <td>08/27/2016</td>\n",
       "      <td>12:00:00</td>\n",
       "      <td>REGULAR</td>\n",
       "      <td>12080369</td>\n",
       "      <td>2684533</td>\n",
       "      <td>2016-08-27 12:00:00</td>\n",
       "    </tr>\n",
       "    <tr>\n",
       "      <th>186611</th>\n",
       "      <td>R626</td>\n",
       "      <td>R062</td>\n",
       "      <td>00-00-00</td>\n",
       "      <td>CROWN HTS-UTICA</td>\n",
       "      <td>34</td>\n",
       "      <td>IRT</td>\n",
       "      <td>08/27/2016</td>\n",
       "      <td>16:00:00</td>\n",
       "      <td>REGULAR</td>\n",
       "      <td>12080831</td>\n",
       "      <td>2684606</td>\n",
       "      <td>2016-08-27 16:00:00</td>\n",
       "    </tr>\n",
       "  </tbody>\n",
       "</table>\n",
       "</div>"
      ],
      "text/plain": [
       "         C/A  UNIT       SCP          STATION LINENAME DIVISION        DATE  \\\n",
       "186607  R626  R062  00-00-00  CROWN HTS-UTICA       34      IRT  08/27/2016   \n",
       "186608  R626  R062  00-00-00  CROWN HTS-UTICA       34      IRT  08/27/2016   \n",
       "186609  R626  R062  00-00-00  CROWN HTS-UTICA       34      IRT  08/27/2016   \n",
       "186610  R626  R062  00-00-00  CROWN HTS-UTICA       34      IRT  08/27/2016   \n",
       "186611  R626  R062  00-00-00  CROWN HTS-UTICA       34      IRT  08/27/2016   \n",
       "\n",
       "            TIME     DESC   ENTRIES    EXITS           DATE_TIME  \n",
       "186607  00:00:00  REGULAR  12079591  2684445 2016-08-27 00:00:00  \n",
       "186608  04:00:00  REGULAR  12079636  2684479 2016-08-27 04:00:00  \n",
       "186609  08:00:00  REGULAR  12079894  2684489 2016-08-27 08:00:00  \n",
       "186610  12:00:00  REGULAR  12080369  2684533 2016-08-27 12:00:00  \n",
       "186611  16:00:00  REGULAR  12080831  2684606 2016-08-27 16:00:00  "
      ]
     },
     "execution_count": 24,
     "metadata": {},
     "output_type": "execute_result"
    }
   ],
   "source": [
    "mask = ((turnstiles_df[\"C/A\"] == \"R626\") & \n",
    "(turnstiles_df[\"UNIT\"] == \"R062\") & \n",
    "(turnstiles_df[\"SCP\"] == \"00-00-00\") & \n",
    "(turnstiles_df[\"STATION\"] == \"CROWN HTS-UTICA\"))\n",
    "turnstiles_df[mask].head()"
   ]
  },
  {
   "cell_type": "code",
   "execution_count": 25,
   "metadata": {
    "collapsed": true
   },
   "outputs": [],
   "source": [
    "# turnstiles_df = .groupby([\"C/A\", \"UNIT\", \"SCP\", \"STATION\", \"DATE_TIME\"]).ENTRIES.count().reset_index().sort_values(\"ENTRIES\", ascending=False)"
   ]
  },
  {
   "cell_type": "code",
   "execution_count": 28,
   "metadata": {
    "collapsed": false
   },
   "outputs": [
    {
     "data": {
      "text/html": [
       "<div>\n",
       "<table border=\"1\" class=\"dataframe\">\n",
       "  <thead>\n",
       "    <tr style=\"text-align: right;\">\n",
       "      <th></th>\n",
       "      <th>C/A</th>\n",
       "      <th>UNIT</th>\n",
       "      <th>SCP</th>\n",
       "      <th>STATION</th>\n",
       "      <th>DATE_TIME</th>\n",
       "      <th>ENTRIES</th>\n",
       "    </tr>\n",
       "  </thead>\n",
       "  <tbody>\n",
       "    <tr>\n",
       "      <th>513722</th>\n",
       "      <td>R504</td>\n",
       "      <td>R276</td>\n",
       "      <td>00-00-01</td>\n",
       "      <td>VERNON-JACKSON</td>\n",
       "      <td>2016-09-16 08:00:00</td>\n",
       "      <td>2</td>\n",
       "    </tr>\n",
       "    <tr>\n",
       "      <th>0</th>\n",
       "      <td>A002</td>\n",
       "      <td>R051</td>\n",
       "      <td>02-00-00</td>\n",
       "      <td>59 ST</td>\n",
       "      <td>2016-08-27 00:00:00</td>\n",
       "      <td>1</td>\n",
       "    </tr>\n",
       "    <tr>\n",
       "      <th>387264</th>\n",
       "      <td>R155</td>\n",
       "      <td>R116</td>\n",
       "      <td>01-00-03</td>\n",
       "      <td>50 ST</td>\n",
       "      <td>2016-09-15 20:00:00</td>\n",
       "      <td>1</td>\n",
       "    </tr>\n",
       "    <tr>\n",
       "      <th>387259</th>\n",
       "      <td>R155</td>\n",
       "      <td>R116</td>\n",
       "      <td>01-00-03</td>\n",
       "      <td>50 ST</td>\n",
       "      <td>2016-09-15 00:00:00</td>\n",
       "      <td>1</td>\n",
       "    </tr>\n",
       "    <tr>\n",
       "      <th>387260</th>\n",
       "      <td>R155</td>\n",
       "      <td>R116</td>\n",
       "      <td>01-00-03</td>\n",
       "      <td>50 ST</td>\n",
       "      <td>2016-09-15 04:00:00</td>\n",
       "      <td>1</td>\n",
       "    </tr>\n",
       "  </tbody>\n",
       "</table>\n",
       "</div>"
      ],
      "text/plain": [
       "         C/A  UNIT       SCP         STATION           DATE_TIME  ENTRIES\n",
       "513722  R504  R276  00-00-01  VERNON-JACKSON 2016-09-16 08:00:00        2\n",
       "0       A002  R051  02-00-00           59 ST 2016-08-27 00:00:00        1\n",
       "387264  R155  R116  01-00-03           50 ST 2016-09-15 20:00:00        1\n",
       "387259  R155  R116  01-00-03           50 ST 2016-09-15 00:00:00        1\n",
       "387260  R155  R116  01-00-03           50 ST 2016-09-15 04:00:00        1"
      ]
     },
     "execution_count": 28,
     "metadata": {},
     "output_type": "execute_result"
    }
   ],
   "source": [
    "# Sanity Check to verify that \"C/A\", \"UNIT\", \"SCP\", \"STATION\", \"DATE_TIME\" is unique\n",
    "(turnstiles_df\n",
    " .groupby([\"C/A\", \"UNIT\", \"SCP\", \"STATION\", \"DATE_TIME\"])\n",
    " .ENTRIES.count()\n",
    " .reset_index()\n",
    " .sort_values(\"ENTRIES\", ascending=False)).head(5)"
   ]
  },
  {
   "cell_type": "code",
   "execution_count": 40,
   "metadata": {
    "collapsed": false
   },
   "outputs": [
    {
     "data": {
      "text/html": [
       "<div>\n",
       "<table border=\"1\" class=\"dataframe\">\n",
       "  <thead>\n",
       "    <tr style=\"text-align: right;\">\n",
       "      <th></th>\n",
       "      <th>C/A</th>\n",
       "      <th>UNIT</th>\n",
       "      <th>SCP</th>\n",
       "      <th>STATION</th>\n",
       "      <th>LINENAME</th>\n",
       "      <th>DIVISION</th>\n",
       "      <th>DATE</th>\n",
       "      <th>TIME</th>\n",
       "      <th>DESC</th>\n",
       "      <th>ENTRIES</th>\n",
       "      <th>EXITS</th>\n",
       "      <th>DATE_TIME</th>\n",
       "    </tr>\n",
       "  </thead>\n",
       "  <tbody>\n",
       "    <tr>\n",
       "      <th>170562</th>\n",
       "      <td>R504</td>\n",
       "      <td>R276</td>\n",
       "      <td>00-00-01</td>\n",
       "      <td>VERNON-JACKSON</td>\n",
       "      <td>7</td>\n",
       "      <td>IRT</td>\n",
       "      <td>09/16/2016</td>\n",
       "      <td>00:00:00</td>\n",
       "      <td>REGULAR</td>\n",
       "      <td>8137913</td>\n",
       "      <td>1333972</td>\n",
       "      <td>2016-09-16 00:00:00</td>\n",
       "    </tr>\n",
       "    <tr>\n",
       "      <th>170563</th>\n",
       "      <td>R504</td>\n",
       "      <td>R276</td>\n",
       "      <td>00-00-01</td>\n",
       "      <td>VERNON-JACKSON</td>\n",
       "      <td>7</td>\n",
       "      <td>IRT</td>\n",
       "      <td>09/16/2016</td>\n",
       "      <td>04:00:00</td>\n",
       "      <td>REGULAR</td>\n",
       "      <td>8137913</td>\n",
       "      <td>1333975</td>\n",
       "      <td>2016-09-16 04:00:00</td>\n",
       "    </tr>\n",
       "    <tr>\n",
       "      <th>170564</th>\n",
       "      <td>R504</td>\n",
       "      <td>R276</td>\n",
       "      <td>00-00-01</td>\n",
       "      <td>VERNON-JACKSON</td>\n",
       "      <td>7</td>\n",
       "      <td>IRT</td>\n",
       "      <td>09/16/2016</td>\n",
       "      <td>08:00:00</td>\n",
       "      <td>REGULAR</td>\n",
       "      <td>8138271</td>\n",
       "      <td>1334066</td>\n",
       "      <td>2016-09-16 08:00:00</td>\n",
       "    </tr>\n",
       "    <tr>\n",
       "      <th>170565</th>\n",
       "      <td>R504</td>\n",
       "      <td>R276</td>\n",
       "      <td>00-00-01</td>\n",
       "      <td>VERNON-JACKSON</td>\n",
       "      <td>7</td>\n",
       "      <td>IRT</td>\n",
       "      <td>09/16/2016</td>\n",
       "      <td>08:00:00</td>\n",
       "      <td>RECOVR AUD</td>\n",
       "      <td>8138271</td>\n",
       "      <td>16735026</td>\n",
       "      <td>2016-09-16 08:00:00</td>\n",
       "    </tr>\n",
       "    <tr>\n",
       "      <th>170566</th>\n",
       "      <td>R504</td>\n",
       "      <td>R276</td>\n",
       "      <td>00-00-01</td>\n",
       "      <td>VERNON-JACKSON</td>\n",
       "      <td>7</td>\n",
       "      <td>IRT</td>\n",
       "      <td>09/16/2016</td>\n",
       "      <td>12:00:00</td>\n",
       "      <td>REGULAR</td>\n",
       "      <td>8139437</td>\n",
       "      <td>1334196</td>\n",
       "      <td>2016-09-16 12:00:00</td>\n",
       "    </tr>\n",
       "  </tbody>\n",
       "</table>\n",
       "</div>"
      ],
      "text/plain": [
       "         C/A  UNIT       SCP         STATION LINENAME DIVISION        DATE  \\\n",
       "170562  R504  R276  00-00-01  VERNON-JACKSON        7      IRT  09/16/2016   \n",
       "170563  R504  R276  00-00-01  VERNON-JACKSON        7      IRT  09/16/2016   \n",
       "170564  R504  R276  00-00-01  VERNON-JACKSON        7      IRT  09/16/2016   \n",
       "170565  R504  R276  00-00-01  VERNON-JACKSON        7      IRT  09/16/2016   \n",
       "170566  R504  R276  00-00-01  VERNON-JACKSON        7      IRT  09/16/2016   \n",
       "\n",
       "            TIME        DESC  ENTRIES     EXITS           DATE_TIME  \n",
       "170562  00:00:00     REGULAR  8137913   1333972 2016-09-16 00:00:00  \n",
       "170563  04:00:00     REGULAR  8137913   1333975 2016-09-16 04:00:00  \n",
       "170564  08:00:00     REGULAR  8138271   1334066 2016-09-16 08:00:00  \n",
       "170565  08:00:00  RECOVR AUD  8138271  16735026 2016-09-16 08:00:00  \n",
       "170566  12:00:00     REGULAR  8139437   1334196 2016-09-16 12:00:00  "
      ]
     },
     "execution_count": 40,
     "metadata": {},
     "output_type": "execute_result"
    }
   ],
   "source": [
    "# On 9/16, we seem to have two entries for same time.  Let's take a look\n",
    "mask = ((turnstiles_df[\"C/A\"] == \"R504\") & \n",
    "(turnstiles_df[\"UNIT\"] == \"R276\") & \n",
    "(turnstiles_df[\"SCP\"] == \"00-00-01\") & \n",
    "(turnstiles_df[\"STATION\"] == \"VERNON-JACKSON\") &\n",
    "(turnstiles_df[\"DATE_TIME\"].dt.date == datetime.datetime(2016, 9, 16).date()))\n",
    "turnstiles_df[mask].head()"
   ]
  },
  {
   "cell_type": "markdown",
   "metadata": {},
   "source": [
    "* Looks to be a incorrect AUD entry.  May be we should just select the Regular One."
   ]
  },
  {
   "cell_type": "code",
   "execution_count": 41,
   "metadata": {
    "collapsed": false
   },
   "outputs": [
    {
     "data": {
      "text/plain": [
       "REGULAR       579109\n",
       "RECOVR AUD      1786\n",
       "Name: DESC, dtype: int64"
      ]
     },
     "execution_count": 41,
     "metadata": {},
     "output_type": "execute_result"
    }
   ],
   "source": [
    "turnstiles_df.DESC.value_counts()"
   ]
  },
  {
   "cell_type": "markdown",
   "metadata": {},
   "source": [
    "* Since we are only interested in Entries, we might be OK."
   ]
  },
  {
   "cell_type": "code",
   "execution_count": 104,
   "metadata": {
    "collapsed": true
   },
   "outputs": [],
   "source": [
    "# Get rid of the duplicate entry\n",
    "turnstiles_df.sort_values([\"C/A\", \"UNIT\", \"SCP\", \"STATION\", \"DATE_TIME\"], inplace=True, ascending=False)\n",
    "turnstiles_df.drop_duplicates(subset=[\"C/A\", \"UNIT\", \"SCP\", \"STATION\", \"DATE_TIME\"], inplace=True)"
   ]
  },
  {
   "cell_type": "code",
   "execution_count": 105,
   "metadata": {
    "collapsed": false
   },
   "outputs": [
    {
     "data": {
      "text/html": [
       "<div>\n",
       "<table border=\"1\" class=\"dataframe\">\n",
       "  <thead>\n",
       "    <tr style=\"text-align: right;\">\n",
       "      <th></th>\n",
       "      <th>C/A</th>\n",
       "      <th>UNIT</th>\n",
       "      <th>SCP</th>\n",
       "      <th>STATION</th>\n",
       "      <th>DATE_TIME</th>\n",
       "      <th>ENTRIES</th>\n",
       "    </tr>\n",
       "  </thead>\n",
       "  <tbody>\n",
       "    <tr>\n",
       "      <th>0</th>\n",
       "      <td>A002</td>\n",
       "      <td>R051</td>\n",
       "      <td>02-00-00</td>\n",
       "      <td>59 ST</td>\n",
       "      <td>2016-08-27 00:00:00</td>\n",
       "      <td>1</td>\n",
       "    </tr>\n",
       "    <tr>\n",
       "      <th>387266</th>\n",
       "      <td>R155</td>\n",
       "      <td>R116</td>\n",
       "      <td>01-00-03</td>\n",
       "      <td>50 ST</td>\n",
       "      <td>2016-09-16 04:00:00</td>\n",
       "      <td>1</td>\n",
       "    </tr>\n",
       "    <tr>\n",
       "      <th>387260</th>\n",
       "      <td>R155</td>\n",
       "      <td>R116</td>\n",
       "      <td>01-00-03</td>\n",
       "      <td>50 ST</td>\n",
       "      <td>2016-09-15 04:00:00</td>\n",
       "      <td>1</td>\n",
       "    </tr>\n",
       "    <tr>\n",
       "      <th>387261</th>\n",
       "      <td>R155</td>\n",
       "      <td>R116</td>\n",
       "      <td>01-00-03</td>\n",
       "      <td>50 ST</td>\n",
       "      <td>2016-09-15 08:00:00</td>\n",
       "      <td>1</td>\n",
       "    </tr>\n",
       "    <tr>\n",
       "      <th>387262</th>\n",
       "      <td>R155</td>\n",
       "      <td>R116</td>\n",
       "      <td>01-00-03</td>\n",
       "      <td>50 ST</td>\n",
       "      <td>2016-09-15 12:00:00</td>\n",
       "      <td>1</td>\n",
       "    </tr>\n",
       "  </tbody>\n",
       "</table>\n",
       "</div>"
      ],
      "text/plain": [
       "         C/A  UNIT       SCP STATION           DATE_TIME  ENTRIES\n",
       "0       A002  R051  02-00-00   59 ST 2016-08-27 00:00:00        1\n",
       "387266  R155  R116  01-00-03   50 ST 2016-09-16 04:00:00        1\n",
       "387260  R155  R116  01-00-03   50 ST 2016-09-15 04:00:00        1\n",
       "387261  R155  R116  01-00-03   50 ST 2016-09-15 08:00:00        1\n",
       "387262  R155  R116  01-00-03   50 ST 2016-09-15 12:00:00        1"
      ]
     },
     "execution_count": 105,
     "metadata": {},
     "output_type": "execute_result"
    }
   ],
   "source": [
    "# Sanity Check to verify that \"C/A\", \"UNIT\", \"SCP\", \"STATION\", \"DATE_TIME\" is unique\n",
    "(turnstiles_df\n",
    " .groupby([\"C/A\", \"UNIT\", \"SCP\", \"STATION\", \"DATE_TIME\"])\n",
    " .ENTRIES.count()\n",
    " .reset_index()\n",
    " .sort_values(\"ENTRIES\", ascending=False)).head(5)"
   ]
  },
  {
   "cell_type": "markdown",
   "metadata": {},
   "source": [
    "* No more duplicate Entries"
   ]
  },
  {
   "cell_type": "code",
   "execution_count": 44,
   "metadata": {
    "collapsed": false
   },
   "outputs": [],
   "source": [
    "# Drop Exits and Desc Column.  To prevent errors in multiple run of cell, errors on drop is ignored\n",
    "turnstiles_df = turnstiles_df.drop([\"EXITS\", \"DESC\"], axis=1, errors=\"ignore\")"
   ]
  },
  {
   "cell_type": "markdown",
   "metadata": {},
   "source": [
    "#### Exercise 1.3\n",
    "\n",
    "- These counts are for every n hours. (What is n?) We want total daily\n",
    "  entries.\n",
    "\n",
    "Now make it that we again have the same keys, but now we have a single\n",
    "value for a single day, which is the total number of passengers that\n",
    "entered through this turnstile on this day."
   ]
  },
  {
   "cell_type": "code",
   "execution_count": 112,
   "metadata": {
    "collapsed": false
   },
   "outputs": [],
   "source": [
    "turnstiles_daily = turnstiles_df.groupby([\"C/A\", \"UNIT\", \"SCP\", \"STATION\", \"DATE\"]).ENTRIES.first().reset_index()"
   ]
  },
  {
   "cell_type": "code",
   "execution_count": 113,
   "metadata": {
    "collapsed": false
   },
   "outputs": [
    {
     "data": {
      "text/html": [
       "<div>\n",
       "<table border=\"1\" class=\"dataframe\">\n",
       "  <thead>\n",
       "    <tr style=\"text-align: right;\">\n",
       "      <th></th>\n",
       "      <th>C/A</th>\n",
       "      <th>UNIT</th>\n",
       "      <th>SCP</th>\n",
       "      <th>STATION</th>\n",
       "      <th>DATE</th>\n",
       "      <th>ENTRIES</th>\n",
       "    </tr>\n",
       "  </thead>\n",
       "  <tbody>\n",
       "    <tr>\n",
       "      <th>0</th>\n",
       "      <td>A002</td>\n",
       "      <td>R051</td>\n",
       "      <td>02-00-00</td>\n",
       "      <td>59 ST</td>\n",
       "      <td>08/27/2016</td>\n",
       "      <td>5800121</td>\n",
       "    </tr>\n",
       "    <tr>\n",
       "      <th>1</th>\n",
       "      <td>A002</td>\n",
       "      <td>R051</td>\n",
       "      <td>02-00-00</td>\n",
       "      <td>59 ST</td>\n",
       "      <td>08/28/2016</td>\n",
       "      <td>5800798</td>\n",
       "    </tr>\n",
       "    <tr>\n",
       "      <th>2</th>\n",
       "      <td>A002</td>\n",
       "      <td>R051</td>\n",
       "      <td>02-00-00</td>\n",
       "      <td>59 ST</td>\n",
       "      <td>08/29/2016</td>\n",
       "      <td>5802336</td>\n",
       "    </tr>\n",
       "    <tr>\n",
       "      <th>3</th>\n",
       "      <td>A002</td>\n",
       "      <td>R051</td>\n",
       "      <td>02-00-00</td>\n",
       "      <td>59 ST</td>\n",
       "      <td>08/30/2016</td>\n",
       "      <td>5803875</td>\n",
       "    </tr>\n",
       "    <tr>\n",
       "      <th>4</th>\n",
       "      <td>A002</td>\n",
       "      <td>R051</td>\n",
       "      <td>02-00-00</td>\n",
       "      <td>59 ST</td>\n",
       "      <td>08/31/2016</td>\n",
       "      <td>5805383</td>\n",
       "    </tr>\n",
       "  </tbody>\n",
       "</table>\n",
       "</div>"
      ],
      "text/plain": [
       "    C/A  UNIT       SCP STATION        DATE  ENTRIES\n",
       "0  A002  R051  02-00-00   59 ST  08/27/2016  5800121\n",
       "1  A002  R051  02-00-00   59 ST  08/28/2016  5800798\n",
       "2  A002  R051  02-00-00   59 ST  08/29/2016  5802336\n",
       "3  A002  R051  02-00-00   59 ST  08/30/2016  5803875\n",
       "4  A002  R051  02-00-00   59 ST  08/31/2016  5805383"
      ]
     },
     "execution_count": 113,
     "metadata": {},
     "output_type": "execute_result"
    }
   ],
   "source": [
    "turnstiles_daily.head()"
   ]
  },
  {
   "cell_type": "code",
   "execution_count": 114,
   "metadata": {
    "collapsed": false
   },
   "outputs": [],
   "source": [
    "turnstiles_daily[[\"PREV_DATE\", \"PREV_ENTRIES\"]] = (turnstiles_daily\n",
    "                                                       .groupby([\"C/A\", \"UNIT\", \"SCP\", \"STATION\"])[\"DATE\", \"ENTRIES\"]\n",
    "                                                       .transform(lambda grp: grp.shift(1)))"
   ]
  },
  {
   "cell_type": "code",
   "execution_count": 115,
   "metadata": {
    "collapsed": false
   },
   "outputs": [
    {
     "data": {
      "text/html": [
       "<div>\n",
       "<table border=\"1\" class=\"dataframe\">\n",
       "  <thead>\n",
       "    <tr style=\"text-align: right;\">\n",
       "      <th></th>\n",
       "      <th>C/A</th>\n",
       "      <th>UNIT</th>\n",
       "      <th>SCP</th>\n",
       "      <th>STATION</th>\n",
       "      <th>DATE</th>\n",
       "      <th>ENTRIES</th>\n",
       "      <th>PREV_DATE</th>\n",
       "      <th>PREV_ENTRIES</th>\n",
       "    </tr>\n",
       "  </thead>\n",
       "  <tbody>\n",
       "    <tr>\n",
       "      <th>0</th>\n",
       "      <td>A002</td>\n",
       "      <td>R051</td>\n",
       "      <td>02-00-00</td>\n",
       "      <td>59 ST</td>\n",
       "      <td>08/27/2016</td>\n",
       "      <td>5800121</td>\n",
       "      <td>NaN</td>\n",
       "      <td>NaN</td>\n",
       "    </tr>\n",
       "    <tr>\n",
       "      <th>1</th>\n",
       "      <td>A002</td>\n",
       "      <td>R051</td>\n",
       "      <td>02-00-00</td>\n",
       "      <td>59 ST</td>\n",
       "      <td>08/28/2016</td>\n",
       "      <td>5800798</td>\n",
       "      <td>08/27/2016</td>\n",
       "      <td>5800121.0</td>\n",
       "    </tr>\n",
       "    <tr>\n",
       "      <th>2</th>\n",
       "      <td>A002</td>\n",
       "      <td>R051</td>\n",
       "      <td>02-00-00</td>\n",
       "      <td>59 ST</td>\n",
       "      <td>08/29/2016</td>\n",
       "      <td>5802336</td>\n",
       "      <td>08/28/2016</td>\n",
       "      <td>5800798.0</td>\n",
       "    </tr>\n",
       "    <tr>\n",
       "      <th>3</th>\n",
       "      <td>A002</td>\n",
       "      <td>R051</td>\n",
       "      <td>02-00-00</td>\n",
       "      <td>59 ST</td>\n",
       "      <td>08/30/2016</td>\n",
       "      <td>5803875</td>\n",
       "      <td>08/29/2016</td>\n",
       "      <td>5802336.0</td>\n",
       "    </tr>\n",
       "    <tr>\n",
       "      <th>4</th>\n",
       "      <td>A002</td>\n",
       "      <td>R051</td>\n",
       "      <td>02-00-00</td>\n",
       "      <td>59 ST</td>\n",
       "      <td>08/31/2016</td>\n",
       "      <td>5805383</td>\n",
       "      <td>08/30/2016</td>\n",
       "      <td>5803875.0</td>\n",
       "    </tr>\n",
       "  </tbody>\n",
       "</table>\n",
       "</div>"
      ],
      "text/plain": [
       "    C/A  UNIT       SCP STATION        DATE  ENTRIES   PREV_DATE  PREV_ENTRIES\n",
       "0  A002  R051  02-00-00   59 ST  08/27/2016  5800121         NaN           NaN\n",
       "1  A002  R051  02-00-00   59 ST  08/28/2016  5800798  08/27/2016     5800121.0\n",
       "2  A002  R051  02-00-00   59 ST  08/29/2016  5802336  08/28/2016     5800798.0\n",
       "3  A002  R051  02-00-00   59 ST  08/30/2016  5803875  08/29/2016     5802336.0\n",
       "4  A002  R051  02-00-00   59 ST  08/31/2016  5805383  08/30/2016     5803875.0"
      ]
     },
     "execution_count": 115,
     "metadata": {},
     "output_type": "execute_result"
    }
   ],
   "source": [
    "turnstiles_daily.head()"
   ]
  },
  {
   "cell_type": "code",
   "execution_count": 116,
   "metadata": {
    "collapsed": false
   },
   "outputs": [
    {
     "data": {
      "text/html": [
       "<div>\n",
       "<table border=\"1\" class=\"dataframe\">\n",
       "  <thead>\n",
       "    <tr style=\"text-align: right;\">\n",
       "      <th></th>\n",
       "      <th>C/A</th>\n",
       "      <th>UNIT</th>\n",
       "      <th>SCP</th>\n",
       "      <th>STATION</th>\n",
       "      <th>DATE</th>\n",
       "      <th>ENTRIES</th>\n",
       "      <th>PREV_DATE</th>\n",
       "      <th>PREV_ENTRIES</th>\n",
       "    </tr>\n",
       "  </thead>\n",
       "  <tbody>\n",
       "    <tr>\n",
       "      <th>95997</th>\n",
       "      <td>TRAM2</td>\n",
       "      <td>R469</td>\n",
       "      <td>00-05-01</td>\n",
       "      <td>RIT-ROOSEVELT</td>\n",
       "      <td>09/12/2016</td>\n",
       "      <td>5554</td>\n",
       "      <td>09/11/2016</td>\n",
       "      <td>5554.0</td>\n",
       "    </tr>\n",
       "    <tr>\n",
       "      <th>95998</th>\n",
       "      <td>TRAM2</td>\n",
       "      <td>R469</td>\n",
       "      <td>00-05-01</td>\n",
       "      <td>RIT-ROOSEVELT</td>\n",
       "      <td>09/13/2016</td>\n",
       "      <td>5554</td>\n",
       "      <td>09/12/2016</td>\n",
       "      <td>5554.0</td>\n",
       "    </tr>\n",
       "    <tr>\n",
       "      <th>95999</th>\n",
       "      <td>TRAM2</td>\n",
       "      <td>R469</td>\n",
       "      <td>00-05-01</td>\n",
       "      <td>RIT-ROOSEVELT</td>\n",
       "      <td>09/14/2016</td>\n",
       "      <td>5554</td>\n",
       "      <td>09/13/2016</td>\n",
       "      <td>5554.0</td>\n",
       "    </tr>\n",
       "    <tr>\n",
       "      <th>96000</th>\n",
       "      <td>TRAM2</td>\n",
       "      <td>R469</td>\n",
       "      <td>00-05-01</td>\n",
       "      <td>RIT-ROOSEVELT</td>\n",
       "      <td>09/15/2016</td>\n",
       "      <td>5554</td>\n",
       "      <td>09/14/2016</td>\n",
       "      <td>5554.0</td>\n",
       "    </tr>\n",
       "    <tr>\n",
       "      <th>96001</th>\n",
       "      <td>TRAM2</td>\n",
       "      <td>R469</td>\n",
       "      <td>00-05-01</td>\n",
       "      <td>RIT-ROOSEVELT</td>\n",
       "      <td>09/16/2016</td>\n",
       "      <td>5554</td>\n",
       "      <td>09/15/2016</td>\n",
       "      <td>5554.0</td>\n",
       "    </tr>\n",
       "  </tbody>\n",
       "</table>\n",
       "</div>"
      ],
      "text/plain": [
       "         C/A  UNIT       SCP        STATION        DATE  ENTRIES   PREV_DATE  \\\n",
       "95997  TRAM2  R469  00-05-01  RIT-ROOSEVELT  09/12/2016     5554  09/11/2016   \n",
       "95998  TRAM2  R469  00-05-01  RIT-ROOSEVELT  09/13/2016     5554  09/12/2016   \n",
       "95999  TRAM2  R469  00-05-01  RIT-ROOSEVELT  09/14/2016     5554  09/13/2016   \n",
       "96000  TRAM2  R469  00-05-01  RIT-ROOSEVELT  09/15/2016     5554  09/14/2016   \n",
       "96001  TRAM2  R469  00-05-01  RIT-ROOSEVELT  09/16/2016     5554  09/15/2016   \n",
       "\n",
       "       PREV_ENTRIES  \n",
       "95997        5554.0  \n",
       "95998        5554.0  \n",
       "95999        5554.0  \n",
       "96000        5554.0  \n",
       "96001        5554.0  "
      ]
     },
     "execution_count": 116,
     "metadata": {},
     "output_type": "execute_result"
    }
   ],
   "source": [
    "turnstiles_daily.tail()"
   ]
  },
  {
   "cell_type": "code",
   "execution_count": 117,
   "metadata": {
    "collapsed": false
   },
   "outputs": [],
   "source": [
    "# Drop the rows for last date\n",
    "turnstiles_daily.dropna(subset=[\"PREV_DATE\"], axis=0, inplace=True)"
   ]
  },
  {
   "cell_type": "code",
   "execution_count": 118,
   "metadata": {
    "collapsed": false
   },
   "outputs": [
    {
     "data": {
      "text/html": [
       "<div>\n",
       "<table border=\"1\" class=\"dataframe\">\n",
       "  <thead>\n",
       "    <tr style=\"text-align: right;\">\n",
       "      <th></th>\n",
       "      <th>C/A</th>\n",
       "      <th>UNIT</th>\n",
       "      <th>SCP</th>\n",
       "      <th>STATION</th>\n",
       "      <th>DATE</th>\n",
       "      <th>ENTRIES</th>\n",
       "      <th>PREV_DATE</th>\n",
       "      <th>PREV_ENTRIES</th>\n",
       "    </tr>\n",
       "  </thead>\n",
       "  <tbody>\n",
       "    <tr>\n",
       "      <th>715</th>\n",
       "      <td>A011</td>\n",
       "      <td>R080</td>\n",
       "      <td>01-00-00</td>\n",
       "      <td>57 ST-7 AV</td>\n",
       "      <td>08/28/2016</td>\n",
       "      <td>887688133</td>\n",
       "      <td>08/27/2016</td>\n",
       "      <td>887689608.0</td>\n",
       "    </tr>\n",
       "    <tr>\n",
       "      <th>716</th>\n",
       "      <td>A011</td>\n",
       "      <td>R080</td>\n",
       "      <td>01-00-00</td>\n",
       "      <td>57 ST-7 AV</td>\n",
       "      <td>08/29/2016</td>\n",
       "      <td>887685714</td>\n",
       "      <td>08/28/2016</td>\n",
       "      <td>887688133.0</td>\n",
       "    </tr>\n",
       "    <tr>\n",
       "      <th>717</th>\n",
       "      <td>A011</td>\n",
       "      <td>R080</td>\n",
       "      <td>01-00-00</td>\n",
       "      <td>57 ST-7 AV</td>\n",
       "      <td>08/30/2016</td>\n",
       "      <td>887683207</td>\n",
       "      <td>08/29/2016</td>\n",
       "      <td>887685714.0</td>\n",
       "    </tr>\n",
       "    <tr>\n",
       "      <th>718</th>\n",
       "      <td>A011</td>\n",
       "      <td>R080</td>\n",
       "      <td>01-00-00</td>\n",
       "      <td>57 ST-7 AV</td>\n",
       "      <td>08/31/2016</td>\n",
       "      <td>887680260</td>\n",
       "      <td>08/30/2016</td>\n",
       "      <td>887683207.0</td>\n",
       "    </tr>\n",
       "    <tr>\n",
       "      <th>719</th>\n",
       "      <td>A011</td>\n",
       "      <td>R080</td>\n",
       "      <td>01-00-00</td>\n",
       "      <td>57 ST-7 AV</td>\n",
       "      <td>09/01/2016</td>\n",
       "      <td>887677354</td>\n",
       "      <td>08/31/2016</td>\n",
       "      <td>887680260.0</td>\n",
       "    </tr>\n",
       "  </tbody>\n",
       "</table>\n",
       "</div>"
      ],
      "text/plain": [
       "      C/A  UNIT       SCP     STATION        DATE    ENTRIES   PREV_DATE  \\\n",
       "715  A011  R080  01-00-00  57 ST-7 AV  08/28/2016  887688133  08/27/2016   \n",
       "716  A011  R080  01-00-00  57 ST-7 AV  08/29/2016  887685714  08/28/2016   \n",
       "717  A011  R080  01-00-00  57 ST-7 AV  08/30/2016  887683207  08/29/2016   \n",
       "718  A011  R080  01-00-00  57 ST-7 AV  08/31/2016  887680260  08/30/2016   \n",
       "719  A011  R080  01-00-00  57 ST-7 AV  09/01/2016  887677354  08/31/2016   \n",
       "\n",
       "     PREV_ENTRIES  \n",
       "715   887689608.0  \n",
       "716   887688133.0  \n",
       "717   887685714.0  \n",
       "718   887683207.0  \n",
       "719   887680260.0  "
      ]
     },
     "execution_count": 118,
     "metadata": {},
     "output_type": "execute_result"
    }
   ],
   "source": [
    "turnstiles_daily[turnstiles_daily[\"ENTRIES\"] < turnstiles_daily[\"PREV_ENTRIES\"]].head()"
   ]
  },
  {
   "cell_type": "code",
   "execution_count": 119,
   "metadata": {
    "collapsed": false
   },
   "outputs": [
    {
     "data": {
      "text/html": [
       "<div>\n",
       "<table border=\"1\" class=\"dataframe\">\n",
       "  <thead>\n",
       "    <tr style=\"text-align: right;\">\n",
       "      <th></th>\n",
       "      <th>C/A</th>\n",
       "      <th>UNIT</th>\n",
       "      <th>SCP</th>\n",
       "      <th>STATION</th>\n",
       "      <th>LINENAME</th>\n",
       "      <th>DIVISION</th>\n",
       "      <th>DATE</th>\n",
       "      <th>TIME</th>\n",
       "      <th>ENTRIES</th>\n",
       "      <th>DATE_TIME</th>\n",
       "    </tr>\n",
       "  </thead>\n",
       "  <tbody>\n",
       "    <tr>\n",
       "      <th>1446</th>\n",
       "      <td>A011</td>\n",
       "      <td>R080</td>\n",
       "      <td>01-00-00</td>\n",
       "      <td>57 ST-7 AV</td>\n",
       "      <td>NQR</td>\n",
       "      <td>BMT</td>\n",
       "      <td>08/27/2016</td>\n",
       "      <td>20:00:00</td>\n",
       "      <td>887689608</td>\n",
       "      <td>2016-08-27 20:00:00</td>\n",
       "    </tr>\n",
       "    <tr>\n",
       "      <th>1445</th>\n",
       "      <td>A011</td>\n",
       "      <td>R080</td>\n",
       "      <td>01-00-00</td>\n",
       "      <td>57 ST-7 AV</td>\n",
       "      <td>NQR</td>\n",
       "      <td>BMT</td>\n",
       "      <td>08/27/2016</td>\n",
       "      <td>16:00:00</td>\n",
       "      <td>887690085</td>\n",
       "      <td>2016-08-27 16:00:00</td>\n",
       "    </tr>\n",
       "    <tr>\n",
       "      <th>1444</th>\n",
       "      <td>A011</td>\n",
       "      <td>R080</td>\n",
       "      <td>01-00-00</td>\n",
       "      <td>57 ST-7 AV</td>\n",
       "      <td>NQR</td>\n",
       "      <td>BMT</td>\n",
       "      <td>08/27/2016</td>\n",
       "      <td>12:00:00</td>\n",
       "      <td>887690472</td>\n",
       "      <td>2016-08-27 12:00:00</td>\n",
       "    </tr>\n",
       "    <tr>\n",
       "      <th>1443</th>\n",
       "      <td>A011</td>\n",
       "      <td>R080</td>\n",
       "      <td>01-00-00</td>\n",
       "      <td>57 ST-7 AV</td>\n",
       "      <td>NQR</td>\n",
       "      <td>BMT</td>\n",
       "      <td>08/27/2016</td>\n",
       "      <td>08:00:00</td>\n",
       "      <td>887690738</td>\n",
       "      <td>2016-08-27 08:00:00</td>\n",
       "    </tr>\n",
       "    <tr>\n",
       "      <th>1442</th>\n",
       "      <td>A011</td>\n",
       "      <td>R080</td>\n",
       "      <td>01-00-00</td>\n",
       "      <td>57 ST-7 AV</td>\n",
       "      <td>NQR</td>\n",
       "      <td>BMT</td>\n",
       "      <td>08/27/2016</td>\n",
       "      <td>04:00:00</td>\n",
       "      <td>887690800</td>\n",
       "      <td>2016-08-27 04:00:00</td>\n",
       "    </tr>\n",
       "  </tbody>\n",
       "</table>\n",
       "</div>"
      ],
      "text/plain": [
       "       C/A  UNIT       SCP     STATION LINENAME DIVISION        DATE  \\\n",
       "1446  A011  R080  01-00-00  57 ST-7 AV      NQR      BMT  08/27/2016   \n",
       "1445  A011  R080  01-00-00  57 ST-7 AV      NQR      BMT  08/27/2016   \n",
       "1444  A011  R080  01-00-00  57 ST-7 AV      NQR      BMT  08/27/2016   \n",
       "1443  A011  R080  01-00-00  57 ST-7 AV      NQR      BMT  08/27/2016   \n",
       "1442  A011  R080  01-00-00  57 ST-7 AV      NQR      BMT  08/27/2016   \n",
       "\n",
       "          TIME    ENTRIES           DATE_TIME  \n",
       "1446  20:00:00  887689608 2016-08-27 20:00:00  \n",
       "1445  16:00:00  887690085 2016-08-27 16:00:00  \n",
       "1444  12:00:00  887690472 2016-08-27 12:00:00  \n",
       "1443  08:00:00  887690738 2016-08-27 08:00:00  \n",
       "1442  04:00:00  887690800 2016-08-27 04:00:00  "
      ]
     },
     "execution_count": 119,
     "metadata": {},
     "output_type": "execute_result"
    }
   ],
   "source": [
    "# What's the deal with counter being in reverse\n",
    "mask = ((turnstiles_df[\"C/A\"] == \"A011\") & \n",
    "(turnstiles_df[\"UNIT\"] == \"R080\") & \n",
    "(turnstiles_df[\"SCP\"] == \"01-00-00\") & \n",
    "(turnstiles_df[\"STATION\"] == \"57 ST-7 AV\") &\n",
    "(turnstiles_df[\"DATE_TIME\"].dt.date == datetime.datetime(2016, 8, 27).date()))\n",
    "turnstiles_df[mask].head()"
   ]
  },
  {
   "cell_type": "markdown",
   "metadata": {},
   "source": [
    "* Counter working in Reverse??? - WHHHAT"
   ]
  },
  {
   "cell_type": "code",
   "execution_count": 120,
   "metadata": {
    "collapsed": false
   },
   "outputs": [
    {
     "data": {
      "text/plain": [
       "C/A    UNIT  SCP       STATION        \n",
       "A011   R080  01-00-00  57 ST-7 AV         20\n",
       "             01-00-04  57 ST-7 AV         17\n",
       "             01-00-05  57 ST-7 AV         20\n",
       "A016   R081  03-06-01  49 ST               1\n",
       "A025   R023  01-03-02  34 ST-HERALD SQ    20\n",
       "A049   R088  02-05-00  CORTLANDT ST       15\n",
       "A066   R118  00-00-00  CANAL ST           20\n",
       "C019   R232  00-00-02  45 ST              20\n",
       "H003   R163  01-00-02  6 AV               20\n",
       "H023   R236  00-06-00  DEKALB AV          20\n",
       "J034   R007  00-00-02  104 ST             20\n",
       "JFK01  R535  00-00-01  HOWARD BCH JFK      1\n",
       "             00-00-02  HOWARD BCH JFK      1\n",
       "             00-00-03  HOWARD BCH JFK      2\n",
       "JFK02  R535  01-00-01  HOWARD BCH JFK      1\n",
       "             01-00-02  HOWARD BCH JFK      1\n",
       "             01-00-03  HOWARD BCH JFK      1\n",
       "             01-00-04  HOWARD BCH JFK      1\n",
       "             01-00-05  HOWARD BCH JFK      1\n",
       "             01-00-06  HOWARD BCH JFK      1\n",
       "JFK03  R536  00-00-01  JFK JAMAICA CT1     2\n",
       "             00-00-02  JFK JAMAICA CT1     2\n",
       "             00-00-03  JFK JAMAICA CT1     1\n",
       "             00-00-04  JFK JAMAICA CT1     1\n",
       "             00-00-05  JFK JAMAICA CT1     1\n",
       "             00-03-00  JFK JAMAICA CT1     1\n",
       "             00-03-01  JFK JAMAICA CT1     1\n",
       "             00-03-02  JFK JAMAICA CT1     1\n",
       "             00-03-03  JFK JAMAICA CT1     1\n",
       "             00-03-04  JFK JAMAICA CT1     1\n",
       "                                          ..\n",
       "PTH07  R550  00-01-02  CITY / BUS          1\n",
       "PTH16  R550  01-00-03  LACKAWANNA          1\n",
       "             01-02-03  LACKAWANNA          1\n",
       "PTH19  R549  02-00-01  NEWARK C            2\n",
       "R126   R189  01-00-02  CHRISTOPHER ST      6\n",
       "R127   R105  00-00-00  14 ST              20\n",
       "R148   R033  01-00-01  TIMES SQ-42 ST     20\n",
       "R158   R084  00-06-03  59 ST COLUMBUS      1\n",
       "R175   R169  01-00-04  137 ST CITY COL     1\n",
       "R210   R044  00-03-04  BROOKLYN BRIDGE     6\n",
       "R227   R131  00-00-00  23 ST              20\n",
       "R238A  R046  02-00-03  GRD CNTRL-42 ST     1\n",
       "R242   R049  01-00-02  51 ST               1\n",
       "R256   R182  00-00-02  116 ST              1\n",
       "R258   R132  00-00-03  125 ST             20\n",
       "R304   R206  00-00-00  125 ST             20\n",
       "R305   R206  01-00-00  125 ST              1\n",
       "             01-00-02  125 ST             20\n",
       "R310   R053  01-00-02  3 AV-149 ST        20\n",
       "R317   R408  01-05-01  SIMPSON ST          1\n",
       "R322   R386  00-00-02  174 ST             20\n",
       "R333   R366  00-00-01  225 ST              1\n",
       "R414   R162  00-00-01  ELDER AV            1\n",
       "             00-03-00  ELDER AV            1\n",
       "R526   R096  00-05-03  82 ST-JACKSON H     1\n",
       "R550   R072  00-03-0A  34 ST-HUDSON YD     2\n",
       "R622   R123  00-00-00  FRANKLIN AV        20\n",
       "R629   R065  00-03-02  ROCKAWAY AV         1\n",
       "R632   R067  00-00-02  PENNSYLVANIA AV     1\n",
       "R646   R110  01-00-01  FLATBUSH AV-B.C    20\n",
       "dtype: int64"
      ]
     },
     "execution_count": 120,
     "metadata": {},
     "output_type": "execute_result"
    }
   ],
   "source": [
    "# Let's see how many stations have this problem\n",
    "\n",
    "(turnstiles_daily[turnstiles_daily[\"ENTRIES\"] < turnstiles_daily[\"PREV_ENTRIES\"]]\n",
    "    .groupby([\"C/A\", \"UNIT\", \"SCP\", \"STATION\"])\n",
    "     .size())"
   ]
  },
  {
   "cell_type": "code",
   "execution_count": 121,
   "metadata": {
    "collapsed": false,
    "scrolled": false
   },
   "outputs": [
    {
     "name": "stdout",
     "output_type": "stream",
     "text": [
      "194 1894869683.0\n",
      "262183 67111299.0\n",
      "63 1054429.0\n",
      "2862 2044694.0\n",
      "1912607049 7509132.0\n",
      "285 1494569141.0\n",
      "2542 14129479.0\n",
      "67108864 0.0\n",
      "335600216 1374824.0\n",
      "36 3252790.0\n",
      "1117 3665497.0\n",
      "262269 10823938.0\n",
      "1452 1460387.0\n",
      "1154413610 8957775.0\n",
      "100665773 35655801.0\n",
      "1443 1014193.0\n",
      "186916568 604712476.0\n",
      "874 6130902.0\n",
      "598 11078528.0\n",
      "1160 74672293.0\n",
      "0 117440532.0\n",
      "100663296 1299.0\n",
      "117440514 100663296.0\n",
      "2123 9170483.0\n",
      "428 2336204.0\n",
      "1024 12498870.0\n"
     ]
    }
   ],
   "source": [
    "def get_daily_counts(row, max_counter):\n",
    "    counter = row[\"ENTRIES\"] - row[\"PREV_ENTRIES\"]\n",
    "    if counter < 0:\n",
    "        counter = -counter\n",
    "    if counter > max_counter:\n",
    "        print(row[\"ENTRIES\"], row[\"PREV_ENTRIES\"])\n",
    "        return 0\n",
    "    return counter\n",
    "\n",
    "# If counter is > 1Million, then the counter might have been reset.  \n",
    "# Just set it to zero as different counters have different cycle limits\n",
    "_ = turnstiles_daily.apply(get_daily_counts, axis=1, max_counter=1000000)"
   ]
  },
  {
   "cell_type": "code",
   "execution_count": 122,
   "metadata": {
    "collapsed": false
   },
   "outputs": [
    {
     "name": "stdout",
     "output_type": "stream",
     "text": [
      "194 1894869683.0\n",
      "262183 67111299.0\n",
      "63 1054429.0\n",
      "2862 2044694.0\n",
      "1912607049 7509132.0\n",
      "285 1494569141.0\n",
      "2542 14129479.0\n",
      "67108864 0.0\n",
      "335600216 1374824.0\n",
      "36 3252790.0\n",
      "1117 3665497.0\n",
      "262269 10823938.0\n",
      "1452 1460387.0\n",
      "1154413610 8957775.0\n",
      "100665773 35655801.0\n",
      "1443 1014193.0\n",
      "186916568 604712476.0\n",
      "874 6130902.0\n",
      "598 11078528.0\n",
      "1160 74672293.0\n",
      "0 117440532.0\n",
      "100663296 1299.0\n",
      "117440514 100663296.0\n",
      "2123 9170483.0\n",
      "428 2336204.0\n",
      "1024 12498870.0\n"
     ]
    }
   ],
   "source": [
    "def get_daily_counts(row, max_counter):\n",
    "    counter = row[\"ENTRIES\"] - row[\"PREV_ENTRIES\"]\n",
    "    if counter < 0:\n",
    "        # May be counter is reversed?\n",
    "        counter = -counter\n",
    "    if counter > max_counter:\n",
    "        print(row[\"ENTRIES\"], row[\"PREV_ENTRIES\"])\n",
    "        counter = min(row[\"ENTRIES\"], row[\"PREV_ENTRIES\"])\n",
    "    if counter > max_counter:\n",
    "        # Check it again to make sure we are not giving a counter that's too big\n",
    "        return 0\n",
    "    return counter\n",
    "\n",
    "# If counter is > 1Million, then the counter might have been reset.  \n",
    "# Just set it to zero as different counters have different cycle limits\n",
    "turnstiles_daily[\"DAILY_ENTRIES\"] = turnstiles_daily.apply(get_daily_counts, axis=1, max_counter=1000000)"
   ]
  },
  {
   "cell_type": "code",
   "execution_count": 123,
   "metadata": {
    "collapsed": false
   },
   "outputs": [
    {
     "data": {
      "text/html": [
       "<div>\n",
       "<table border=\"1\" class=\"dataframe\">\n",
       "  <thead>\n",
       "    <tr style=\"text-align: right;\">\n",
       "      <th></th>\n",
       "      <th>C/A</th>\n",
       "      <th>UNIT</th>\n",
       "      <th>SCP</th>\n",
       "      <th>STATION</th>\n",
       "      <th>DATE</th>\n",
       "      <th>ENTRIES</th>\n",
       "      <th>PREV_DATE</th>\n",
       "      <th>PREV_ENTRIES</th>\n",
       "      <th>DAILY_ENTRIES</th>\n",
       "    </tr>\n",
       "  </thead>\n",
       "  <tbody>\n",
       "    <tr>\n",
       "      <th>1</th>\n",
       "      <td>A002</td>\n",
       "      <td>R051</td>\n",
       "      <td>02-00-00</td>\n",
       "      <td>59 ST</td>\n",
       "      <td>08/28/2016</td>\n",
       "      <td>5800798</td>\n",
       "      <td>08/27/2016</td>\n",
       "      <td>5800121.0</td>\n",
       "      <td>677.0</td>\n",
       "    </tr>\n",
       "    <tr>\n",
       "      <th>2</th>\n",
       "      <td>A002</td>\n",
       "      <td>R051</td>\n",
       "      <td>02-00-00</td>\n",
       "      <td>59 ST</td>\n",
       "      <td>08/29/2016</td>\n",
       "      <td>5802336</td>\n",
       "      <td>08/28/2016</td>\n",
       "      <td>5800798.0</td>\n",
       "      <td>1538.0</td>\n",
       "    </tr>\n",
       "    <tr>\n",
       "      <th>3</th>\n",
       "      <td>A002</td>\n",
       "      <td>R051</td>\n",
       "      <td>02-00-00</td>\n",
       "      <td>59 ST</td>\n",
       "      <td>08/30/2016</td>\n",
       "      <td>5803875</td>\n",
       "      <td>08/29/2016</td>\n",
       "      <td>5802336.0</td>\n",
       "      <td>1539.0</td>\n",
       "    </tr>\n",
       "    <tr>\n",
       "      <th>4</th>\n",
       "      <td>A002</td>\n",
       "      <td>R051</td>\n",
       "      <td>02-00-00</td>\n",
       "      <td>59 ST</td>\n",
       "      <td>08/31/2016</td>\n",
       "      <td>5805383</td>\n",
       "      <td>08/30/2016</td>\n",
       "      <td>5803875.0</td>\n",
       "      <td>1508.0</td>\n",
       "    </tr>\n",
       "    <tr>\n",
       "      <th>5</th>\n",
       "      <td>A002</td>\n",
       "      <td>R051</td>\n",
       "      <td>02-00-00</td>\n",
       "      <td>59 ST</td>\n",
       "      <td>09/01/2016</td>\n",
       "      <td>5806990</td>\n",
       "      <td>08/31/2016</td>\n",
       "      <td>5805383.0</td>\n",
       "      <td>1607.0</td>\n",
       "    </tr>\n",
       "  </tbody>\n",
       "</table>\n",
       "</div>"
      ],
      "text/plain": [
       "    C/A  UNIT       SCP STATION        DATE  ENTRIES   PREV_DATE  \\\n",
       "1  A002  R051  02-00-00   59 ST  08/28/2016  5800798  08/27/2016   \n",
       "2  A002  R051  02-00-00   59 ST  08/29/2016  5802336  08/28/2016   \n",
       "3  A002  R051  02-00-00   59 ST  08/30/2016  5803875  08/29/2016   \n",
       "4  A002  R051  02-00-00   59 ST  08/31/2016  5805383  08/30/2016   \n",
       "5  A002  R051  02-00-00   59 ST  09/01/2016  5806990  08/31/2016   \n",
       "\n",
       "   PREV_ENTRIES  DAILY_ENTRIES  \n",
       "1     5800121.0          677.0  \n",
       "2     5800798.0         1538.0  \n",
       "3     5802336.0         1539.0  \n",
       "4     5803875.0         1508.0  \n",
       "5     5805383.0         1607.0  "
      ]
     },
     "execution_count": 123,
     "metadata": {},
     "output_type": "execute_result"
    }
   ],
   "source": [
    "turnstiles_daily.head()"
   ]
  },
  {
   "cell_type": "code",
   "execution_count": null,
   "metadata": {
    "collapsed": true
   },
   "outputs": [],
   "source": [
    "# Verify that we got same results via the non-pandas version."
   ]
  }
 ],
 "metadata": {
  "kernelspec": {
   "display_name": "Python 3",
   "language": "python",
   "name": "python3"
  },
  "language_info": {
   "codemirror_mode": {
    "name": "ipython",
    "version": 3
   },
   "file_extension": ".py",
   "mimetype": "text/x-python",
   "name": "python",
   "nbconvert_exporter": "python",
   "pygments_lexer": "ipython3",
   "version": "3.5.2"
  }
 },
 "nbformat": 4,
 "nbformat_minor": 0
}
