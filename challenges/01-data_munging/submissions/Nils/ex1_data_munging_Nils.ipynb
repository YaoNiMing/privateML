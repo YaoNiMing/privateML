{
 "cells": [
  {
   "cell_type": "markdown",
   "metadata": {},
   "source": [
    "## Challenge Set 1  \n",
    "Topic:        Explore MTA turnstile data (data munging)  \n",
    "Date:         09/27/2016  \n",
    "Name:         Nils Hansen  \n"
   ]
  },
  {
   "cell_type": "code",
   "execution_count": 183,
   "metadata": {
    "collapsed": true
   },
   "outputs": [],
   "source": [
    "# import libraries\n",
    "\n",
    "import pandas as pd\n",
    "import numpy as np\n",
    "import matplotlib.pyplot as plt\n",
    "import datetime as dt\n",
    "#import dateutil.parser\n",
    "\n",
    "from IPython.display import Image\n",
    "\n",
    "from IPython.display import Image\n",
    "\n",
    "# enables inline plots, without it plots don't show up in the notebook\n",
    "%matplotlib inline\n",
    "\n",
    "# various options in pandas\n",
    "pd.set_option('display.max_columns', None)\n",
    "pd.set_option('display.max_rows', 25)\n",
    "pd.set_option('display.precision', 3)"
   ]
  },
  {
   "cell_type": "markdown",
   "metadata": {},
   "source": [
    "1.: Download a couple of MTA data sets and combine them into a data frame"
   ]
  },
  {
   "cell_type": "code",
   "execution_count": 184,
   "metadata": {
    "collapsed": false
   },
   "outputs": [],
   "source": [
    "# downloading a couple of MTA data sets and combining them\n",
    "\n",
    "turnstile_df = pd.read_csv('http://web.mta.info/developers/data/nyct/turnstile/turnstile_160917.txt')\n",
    "dftemp = pd.read_csv('http://web.mta.info/developers/data/nyct/turnstile/turnstile_160910.txt')\n",
    "turnstile_df = turnstile_df.append(dftemp, ignore_index = True)\n",
    "dftemp = pd.read_csv('http://web.mta.info/developers/data/nyct/turnstile/turnstile_160903.txt')\n",
    "turnstile_df = turnstile_df.append(dftemp, ignore_index = True)\n",
    "dftemp = pd.read_csv('http://web.mta.info/developers/data/nyct/turnstile/turnstile_160827.txt')\n",
    "turnstile_df = turnstile_df.append(dftemp, ignore_index = True)\n",
    "dftemp = pd.read_csv('http://web.mta.info/developers/data/nyct/turnstile/turnstile_160820.txt')\n",
    "turnstile_df = turnstile_df.append(dftemp, ignore_index = True)\n",
    "\n",
    "\n",
    "# Sort by C/A, Unit, SCP, Station\n",
    "\n",
    "turnstile_df = turnstile_df.sort_values([\"C/A\", \"UNIT\", \"SCP\", \"STATION\"])"
   ]
  },
  {
   "cell_type": "code",
   "execution_count": 185,
   "metadata": {
    "collapsed": false
   },
   "outputs": [],
   "source": [
    "turnstile_df.columns = [column.strip() for column in turnstile_df.columns]"
   ]
  },
  {
   "cell_type": "markdown",
   "metadata": {},
   "source": [
    "2.: Turn this into a time series"
   ]
  },
  {
   "cell_type": "code",
   "execution_count": 186,
   "metadata": {
    "collapsed": false
   },
   "outputs": [],
   "source": [
    "# Add a column that combines date and time in the datetime format\n",
    "\n",
    "#df[\"DATETIME\"] = df[\"DATE\"] + \" \" + df[\"TIME\"] \n",
    "turnstile_df[\"DATE_TIME\"] = pd.to_datetime(turnstile_df.DATE + \" \" + turnstile_df.TIME, \n",
    "                                           format = \"%m/%d/%Y %H:%M:%S\")"
   ]
  },
  {
   "cell_type": "code",
   "execution_count": 187,
   "metadata": {
    "collapsed": false
   },
   "outputs": [
    {
     "data": {
      "text/html": [
       "<div>\n",
       "<table border=\"1\" class=\"dataframe\">\n",
       "  <thead>\n",
       "    <tr style=\"text-align: right;\">\n",
       "      <th></th>\n",
       "      <th>C/A</th>\n",
       "      <th>UNIT</th>\n",
       "      <th>SCP</th>\n",
       "      <th>STATION</th>\n",
       "      <th>DATE_TIME</th>\n",
       "      <th>ENTRIES</th>\n",
       "    </tr>\n",
       "  </thead>\n",
       "  <tbody>\n",
       "    <tr>\n",
       "      <th>938152</th>\n",
       "      <td>R634</td>\n",
       "      <td>R069</td>\n",
       "      <td>00-00-00</td>\n",
       "      <td>NEW LOTS AV</td>\n",
       "      <td>2016-08-21 12:00:00</td>\n",
       "      <td>2</td>\n",
       "    </tr>\n",
       "    <tr>\n",
       "      <th>938158</th>\n",
       "      <td>R634</td>\n",
       "      <td>R069</td>\n",
       "      <td>00-00-00</td>\n",
       "      <td>NEW LOTS AV</td>\n",
       "      <td>2016-08-22 12:00:00</td>\n",
       "      <td>2</td>\n",
       "    </tr>\n",
       "    <tr>\n",
       "      <th>852112</th>\n",
       "      <td>R504</td>\n",
       "      <td>R276</td>\n",
       "      <td>00-00-01</td>\n",
       "      <td>VERNON-JACKSON</td>\n",
       "      <td>2016-09-16 08:00:00</td>\n",
       "      <td>2</td>\n",
       "    </tr>\n",
       "    <tr>\n",
       "      <th>938151</th>\n",
       "      <td>R634</td>\n",
       "      <td>R069</td>\n",
       "      <td>00-00-00</td>\n",
       "      <td>NEW LOTS AV</td>\n",
       "      <td>2016-08-21 08:00:00</td>\n",
       "      <td>2</td>\n",
       "    </tr>\n",
       "    <tr>\n",
       "      <th>938148</th>\n",
       "      <td>R634</td>\n",
       "      <td>R069</td>\n",
       "      <td>00-00-00</td>\n",
       "      <td>NEW LOTS AV</td>\n",
       "      <td>2016-08-20 20:00:00</td>\n",
       "      <td>2</td>\n",
       "    </tr>\n",
       "  </tbody>\n",
       "</table>\n",
       "</div>"
      ],
      "text/plain": [
       "         C/A  UNIT       SCP         STATION           DATE_TIME  ENTRIES\n",
       "938152  R634  R069  00-00-00     NEW LOTS AV 2016-08-21 12:00:00        2\n",
       "938158  R634  R069  00-00-00     NEW LOTS AV 2016-08-22 12:00:00        2\n",
       "852112  R504  R276  00-00-01  VERNON-JACKSON 2016-09-16 08:00:00        2\n",
       "938151  R634  R069  00-00-00     NEW LOTS AV 2016-08-21 08:00:00        2\n",
       "938148  R634  R069  00-00-00     NEW LOTS AV 2016-08-20 20:00:00        2"
      ]
     },
     "execution_count": 187,
     "metadata": {},
     "output_type": "execute_result"
    }
   ],
   "source": [
    "# Sanity Check to verify that \"C/A\", \"UNIT\", \"SCP\", \"STATION\", \"DATE_TIME\" is unique\n",
    "(turnstile_df\n",
    " .groupby([\"C/A\", \"UNIT\", \"SCP\", \"STATION\", \"DATE_TIME\"])\n",
    " .ENTRIES.count()\n",
    " .reset_index()\n",
    " .sort_values(\"ENTRIES\", ascending=False)).head(5)"
   ]
  },
  {
   "cell_type": "code",
   "execution_count": 188,
   "metadata": {
    "collapsed": false
   },
   "outputs": [],
   "source": [
    "# Get rid of the duplicate entry\n",
    "turnstile_df.sort_values([\"C/A\", \"UNIT\", \"SCP\", \"STATION\", \"DATE_TIME\"], inplace=True, ascending=False)\n",
    "turnstile_df.drop_duplicates(subset=[\"C/A\", \"UNIT\", \"SCP\", \"STATION\", \"DATE_TIME\"], inplace=True)"
   ]
  },
  {
   "cell_type": "code",
   "execution_count": 189,
   "metadata": {
    "collapsed": false
   },
   "outputs": [],
   "source": [
    "# Get rid of not needed columns\n",
    "\n",
    "turnstile_df = turnstile_df.drop(['DESC', 'EXITS'], axis = 1, errors = \"ignore\")"
   ]
  },
  {
   "cell_type": "markdown",
   "metadata": {
    "collapsed": false
   },
   "source": [
    "3.: Reduce number of entries to daily data"
   ]
  },
  {
   "cell_type": "code",
   "execution_count": 190,
   "metadata": {
    "collapsed": false
   },
   "outputs": [],
   "source": [
    "turnstile_daily = turnstile_df.groupby([\"C/A\", \"UNIT\", \"SCP\", \"STATION\", \"DATE\"]).ENTRIES.first().reset_index()"
   ]
  },
  {
   "cell_type": "code",
   "execution_count": 191,
   "metadata": {
    "collapsed": false
   },
   "outputs": [
    {
     "data": {
      "text/html": [
       "<div>\n",
       "<table border=\"1\" class=\"dataframe\">\n",
       "  <thead>\n",
       "    <tr style=\"text-align: right;\">\n",
       "      <th></th>\n",
       "      <th>C/A</th>\n",
       "      <th>UNIT</th>\n",
       "      <th>SCP</th>\n",
       "      <th>STATION</th>\n",
       "      <th>DATE</th>\n",
       "      <th>ENTRIES</th>\n",
       "    </tr>\n",
       "  </thead>\n",
       "  <tbody>\n",
       "    <tr>\n",
       "      <th>0</th>\n",
       "      <td>A002</td>\n",
       "      <td>R051</td>\n",
       "      <td>02-00-00</td>\n",
       "      <td>59 ST</td>\n",
       "      <td>08/13/2016</td>\n",
       "      <td>5781349</td>\n",
       "    </tr>\n",
       "    <tr>\n",
       "      <th>1</th>\n",
       "      <td>A002</td>\n",
       "      <td>R051</td>\n",
       "      <td>02-00-00</td>\n",
       "      <td>59 ST</td>\n",
       "      <td>08/14/2016</td>\n",
       "      <td>5782092</td>\n",
       "    </tr>\n",
       "    <tr>\n",
       "      <th>2</th>\n",
       "      <td>A002</td>\n",
       "      <td>R051</td>\n",
       "      <td>02-00-00</td>\n",
       "      <td>59 ST</td>\n",
       "      <td>08/15/2016</td>\n",
       "      <td>5783580</td>\n",
       "    </tr>\n",
       "    <tr>\n",
       "      <th>3</th>\n",
       "      <td>A002</td>\n",
       "      <td>R051</td>\n",
       "      <td>02-00-00</td>\n",
       "      <td>59 ST</td>\n",
       "      <td>08/16/2016</td>\n",
       "      <td>5785168</td>\n",
       "    </tr>\n",
       "    <tr>\n",
       "      <th>4</th>\n",
       "      <td>A002</td>\n",
       "      <td>R051</td>\n",
       "      <td>02-00-00</td>\n",
       "      <td>59 ST</td>\n",
       "      <td>08/17/2016</td>\n",
       "      <td>5786747</td>\n",
       "    </tr>\n",
       "  </tbody>\n",
       "</table>\n",
       "</div>"
      ],
      "text/plain": [
       "    C/A  UNIT       SCP STATION        DATE  ENTRIES\n",
       "0  A002  R051  02-00-00   59 ST  08/13/2016  5781349\n",
       "1  A002  R051  02-00-00   59 ST  08/14/2016  5782092\n",
       "2  A002  R051  02-00-00   59 ST  08/15/2016  5783580\n",
       "3  A002  R051  02-00-00   59 ST  08/16/2016  5785168\n",
       "4  A002  R051  02-00-00   59 ST  08/17/2016  5786747"
      ]
     },
     "execution_count": 191,
     "metadata": {},
     "output_type": "execute_result"
    }
   ],
   "source": [
    "turnstile_daily.head()"
   ]
  },
  {
   "cell_type": "code",
   "execution_count": 192,
   "metadata": {
    "collapsed": false
   },
   "outputs": [],
   "source": [
    "# Create new columns with previous date and entries\n",
    "\n",
    "turnstile_daily[[\"PREV_DATE\", \"PREV_ENTRIES\"]] = (turnstile_daily\n",
    "                                                       .groupby([\"C/A\", \"UNIT\", \"SCP\", \"STATION\"])[\"DATE\", \"ENTRIES\"]\n",
    "                                                       .transform(lambda grp: grp.shift(1)))"
   ]
  },
  {
   "cell_type": "code",
   "execution_count": 193,
   "metadata": {
    "collapsed": false
   },
   "outputs": [
    {
     "data": {
      "text/html": [
       "<div>\n",
       "<table border=\"1\" class=\"dataframe\">\n",
       "  <thead>\n",
       "    <tr style=\"text-align: right;\">\n",
       "      <th></th>\n",
       "      <th>C/A</th>\n",
       "      <th>UNIT</th>\n",
       "      <th>SCP</th>\n",
       "      <th>STATION</th>\n",
       "      <th>DATE</th>\n",
       "      <th>ENTRIES</th>\n",
       "      <th>PREV_DATE</th>\n",
       "      <th>PREV_ENTRIES</th>\n",
       "    </tr>\n",
       "  </thead>\n",
       "  <tbody>\n",
       "    <tr>\n",
       "      <th>0</th>\n",
       "      <td>A002</td>\n",
       "      <td>R051</td>\n",
       "      <td>02-00-00</td>\n",
       "      <td>59 ST</td>\n",
       "      <td>08/13/2016</td>\n",
       "      <td>5781349</td>\n",
       "      <td>NaN</td>\n",
       "      <td>NaN</td>\n",
       "    </tr>\n",
       "    <tr>\n",
       "      <th>1</th>\n",
       "      <td>A002</td>\n",
       "      <td>R051</td>\n",
       "      <td>02-00-00</td>\n",
       "      <td>59 ST</td>\n",
       "      <td>08/14/2016</td>\n",
       "      <td>5782092</td>\n",
       "      <td>08/13/2016</td>\n",
       "      <td>5.781e+06</td>\n",
       "    </tr>\n",
       "    <tr>\n",
       "      <th>2</th>\n",
       "      <td>A002</td>\n",
       "      <td>R051</td>\n",
       "      <td>02-00-00</td>\n",
       "      <td>59 ST</td>\n",
       "      <td>08/15/2016</td>\n",
       "      <td>5783580</td>\n",
       "      <td>08/14/2016</td>\n",
       "      <td>5.782e+06</td>\n",
       "    </tr>\n",
       "    <tr>\n",
       "      <th>3</th>\n",
       "      <td>A002</td>\n",
       "      <td>R051</td>\n",
       "      <td>02-00-00</td>\n",
       "      <td>59 ST</td>\n",
       "      <td>08/16/2016</td>\n",
       "      <td>5785168</td>\n",
       "      <td>08/15/2016</td>\n",
       "      <td>5.784e+06</td>\n",
       "    </tr>\n",
       "    <tr>\n",
       "      <th>4</th>\n",
       "      <td>A002</td>\n",
       "      <td>R051</td>\n",
       "      <td>02-00-00</td>\n",
       "      <td>59 ST</td>\n",
       "      <td>08/17/2016</td>\n",
       "      <td>5786747</td>\n",
       "      <td>08/16/2016</td>\n",
       "      <td>5.785e+06</td>\n",
       "    </tr>\n",
       "  </tbody>\n",
       "</table>\n",
       "</div>"
      ],
      "text/plain": [
       "    C/A  UNIT       SCP STATION        DATE  ENTRIES   PREV_DATE  PREV_ENTRIES\n",
       "0  A002  R051  02-00-00   59 ST  08/13/2016  5781349         NaN           NaN\n",
       "1  A002  R051  02-00-00   59 ST  08/14/2016  5782092  08/13/2016     5.781e+06\n",
       "2  A002  R051  02-00-00   59 ST  08/15/2016  5783580  08/14/2016     5.782e+06\n",
       "3  A002  R051  02-00-00   59 ST  08/16/2016  5785168  08/15/2016     5.784e+06\n",
       "4  A002  R051  02-00-00   59 ST  08/17/2016  5786747  08/16/2016     5.785e+06"
      ]
     },
     "execution_count": 193,
     "metadata": {},
     "output_type": "execute_result"
    }
   ],
   "source": [
    "turnstile_daily.head()"
   ]
  },
  {
   "cell_type": "code",
   "execution_count": 194,
   "metadata": {
    "collapsed": true
   },
   "outputs": [],
   "source": [
    "# Drop the rows for last date (for these one would need to get another mta file, one week further back)\n",
    "turnstile_daily.dropna(subset=[\"PREV_DATE\"], axis=0, inplace=True)"
   ]
  },
  {
   "cell_type": "code",
   "execution_count": 195,
   "metadata": {
    "collapsed": false
   },
   "outputs": [],
   "source": [
    "#turnstile_daily[turnstile_daily[\"ENTRIES\"] < turnstile_daily[\"PREV_ENTRIES\"]].head()"
   ]
  },
  {
   "cell_type": "code",
   "execution_count": 196,
   "metadata": {
    "collapsed": false
   },
   "outputs": [],
   "source": [
    "# If counter is > 1Million, then the counter might have been reset.  \n",
    "# Just set it to zero as different counters have different cycle limits\n",
    "\n",
    "def get_daily_counts(row, max_counter):\n",
    "    counter = row[\"ENTRIES\"] - row[\"PREV_ENTRIES\"]\n",
    "    if counter < 0:\n",
    "        # May be counter is reversed?\n",
    "        counter = -counter\n",
    "    if counter > max_counter:\n",
    "        #print(row[\"ENTRIES\"], row[\"PREV_ENTRIES\"])\n",
    "        counter = min(row[\"ENTRIES\"], row[\"PREV_ENTRIES\"])\n",
    "    if counter > max_counter:\n",
    "        # Check it again to make sure we are not giving a counter that's too big\n",
    "        return 0\n",
    "    return counter\n",
    "\n",
    "turnstile_daily[\"DAILY_ENTRIES\"] = turnstile_daily.apply(get_daily_counts, axis=1, max_counter=1000000)"
   ]
  },
  {
   "cell_type": "code",
   "execution_count": 197,
   "metadata": {
    "collapsed": false
   },
   "outputs": [
    {
     "data": {
      "text/html": [
       "<div>\n",
       "<table border=\"1\" class=\"dataframe\">\n",
       "  <thead>\n",
       "    <tr style=\"text-align: right;\">\n",
       "      <th></th>\n",
       "      <th>C/A</th>\n",
       "      <th>UNIT</th>\n",
       "      <th>SCP</th>\n",
       "      <th>STATION</th>\n",
       "      <th>DATE</th>\n",
       "      <th>ENTRIES</th>\n",
       "      <th>PREV_DATE</th>\n",
       "      <th>PREV_ENTRIES</th>\n",
       "      <th>DAILY_ENTRIES</th>\n",
       "    </tr>\n",
       "  </thead>\n",
       "  <tbody>\n",
       "    <tr>\n",
       "      <th>1</th>\n",
       "      <td>A002</td>\n",
       "      <td>R051</td>\n",
       "      <td>02-00-00</td>\n",
       "      <td>59 ST</td>\n",
       "      <td>08/14/2016</td>\n",
       "      <td>5782092</td>\n",
       "      <td>08/13/2016</td>\n",
       "      <td>5.781e+06</td>\n",
       "      <td>743.0</td>\n",
       "    </tr>\n",
       "    <tr>\n",
       "      <th>2</th>\n",
       "      <td>A002</td>\n",
       "      <td>R051</td>\n",
       "      <td>02-00-00</td>\n",
       "      <td>59 ST</td>\n",
       "      <td>08/15/2016</td>\n",
       "      <td>5783580</td>\n",
       "      <td>08/14/2016</td>\n",
       "      <td>5.782e+06</td>\n",
       "      <td>1488.0</td>\n",
       "    </tr>\n",
       "    <tr>\n",
       "      <th>3</th>\n",
       "      <td>A002</td>\n",
       "      <td>R051</td>\n",
       "      <td>02-00-00</td>\n",
       "      <td>59 ST</td>\n",
       "      <td>08/16/2016</td>\n",
       "      <td>5785168</td>\n",
       "      <td>08/15/2016</td>\n",
       "      <td>5.784e+06</td>\n",
       "      <td>1588.0</td>\n",
       "    </tr>\n",
       "    <tr>\n",
       "      <th>4</th>\n",
       "      <td>A002</td>\n",
       "      <td>R051</td>\n",
       "      <td>02-00-00</td>\n",
       "      <td>59 ST</td>\n",
       "      <td>08/17/2016</td>\n",
       "      <td>5786747</td>\n",
       "      <td>08/16/2016</td>\n",
       "      <td>5.785e+06</td>\n",
       "      <td>1579.0</td>\n",
       "    </tr>\n",
       "    <tr>\n",
       "      <th>5</th>\n",
       "      <td>A002</td>\n",
       "      <td>R051</td>\n",
       "      <td>02-00-00</td>\n",
       "      <td>59 ST</td>\n",
       "      <td>08/18/2016</td>\n",
       "      <td>5788400</td>\n",
       "      <td>08/17/2016</td>\n",
       "      <td>5.787e+06</td>\n",
       "      <td>1653.0</td>\n",
       "    </tr>\n",
       "  </tbody>\n",
       "</table>\n",
       "</div>"
      ],
      "text/plain": [
       "    C/A  UNIT       SCP STATION        DATE  ENTRIES   PREV_DATE  \\\n",
       "1  A002  R051  02-00-00   59 ST  08/14/2016  5782092  08/13/2016   \n",
       "2  A002  R051  02-00-00   59 ST  08/15/2016  5783580  08/14/2016   \n",
       "3  A002  R051  02-00-00   59 ST  08/16/2016  5785168  08/15/2016   \n",
       "4  A002  R051  02-00-00   59 ST  08/17/2016  5786747  08/16/2016   \n",
       "5  A002  R051  02-00-00   59 ST  08/18/2016  5788400  08/17/2016   \n",
       "\n",
       "   PREV_ENTRIES  DAILY_ENTRIES  \n",
       "1     5.781e+06          743.0  \n",
       "2     5.782e+06         1488.0  \n",
       "3     5.784e+06         1588.0  \n",
       "4     5.785e+06         1579.0  \n",
       "5     5.787e+06         1653.0  "
      ]
     },
     "execution_count": 197,
     "metadata": {},
     "output_type": "execute_result"
    }
   ],
   "source": [
    "turnstile_daily.head()"
   ]
  },
  {
   "cell_type": "markdown",
   "metadata": {},
   "source": [
    "4.: Plot the daily time series for a turnstile."
   ]
  },
  {
   "cell_type": "code",
   "execution_count": 198,
   "metadata": {
    "collapsed": false
   },
   "outputs": [],
   "source": [
    "# Transform the Date column into a date time object\n",
    "\n",
    "turnstile_daily[\"DATEADJ\"] = pd.to_datetime(turnstile_daily.DATE, format = \"%m/%d/%Y\")"
   ]
  },
  {
   "cell_type": "code",
   "execution_count": 199,
   "metadata": {
    "collapsed": false
   },
   "outputs": [
    {
     "data": {
      "text/html": [
       "<div>\n",
       "<table border=\"1\" class=\"dataframe\">\n",
       "  <thead>\n",
       "    <tr style=\"text-align: right;\">\n",
       "      <th></th>\n",
       "      <th>C/A</th>\n",
       "      <th>UNIT</th>\n",
       "      <th>SCP</th>\n",
       "      <th>STATION</th>\n",
       "      <th>DATE</th>\n",
       "      <th>ENTRIES</th>\n",
       "      <th>PREV_DATE</th>\n",
       "      <th>PREV_ENTRIES</th>\n",
       "      <th>DAILY_ENTRIES</th>\n",
       "      <th>DATEADJ</th>\n",
       "    </tr>\n",
       "  </thead>\n",
       "  <tbody>\n",
       "    <tr>\n",
       "      <th>1</th>\n",
       "      <td>A002</td>\n",
       "      <td>R051</td>\n",
       "      <td>02-00-00</td>\n",
       "      <td>59 ST</td>\n",
       "      <td>08/14/2016</td>\n",
       "      <td>5782092</td>\n",
       "      <td>08/13/2016</td>\n",
       "      <td>5.781e+06</td>\n",
       "      <td>743.0</td>\n",
       "      <td>2016-08-14</td>\n",
       "    </tr>\n",
       "    <tr>\n",
       "      <th>2</th>\n",
       "      <td>A002</td>\n",
       "      <td>R051</td>\n",
       "      <td>02-00-00</td>\n",
       "      <td>59 ST</td>\n",
       "      <td>08/15/2016</td>\n",
       "      <td>5783580</td>\n",
       "      <td>08/14/2016</td>\n",
       "      <td>5.782e+06</td>\n",
       "      <td>1488.0</td>\n",
       "      <td>2016-08-15</td>\n",
       "    </tr>\n",
       "    <tr>\n",
       "      <th>3</th>\n",
       "      <td>A002</td>\n",
       "      <td>R051</td>\n",
       "      <td>02-00-00</td>\n",
       "      <td>59 ST</td>\n",
       "      <td>08/16/2016</td>\n",
       "      <td>5785168</td>\n",
       "      <td>08/15/2016</td>\n",
       "      <td>5.784e+06</td>\n",
       "      <td>1588.0</td>\n",
       "      <td>2016-08-16</td>\n",
       "    </tr>\n",
       "    <tr>\n",
       "      <th>4</th>\n",
       "      <td>A002</td>\n",
       "      <td>R051</td>\n",
       "      <td>02-00-00</td>\n",
       "      <td>59 ST</td>\n",
       "      <td>08/17/2016</td>\n",
       "      <td>5786747</td>\n",
       "      <td>08/16/2016</td>\n",
       "      <td>5.785e+06</td>\n",
       "      <td>1579.0</td>\n",
       "      <td>2016-08-17</td>\n",
       "    </tr>\n",
       "    <tr>\n",
       "      <th>5</th>\n",
       "      <td>A002</td>\n",
       "      <td>R051</td>\n",
       "      <td>02-00-00</td>\n",
       "      <td>59 ST</td>\n",
       "      <td>08/18/2016</td>\n",
       "      <td>5788400</td>\n",
       "      <td>08/17/2016</td>\n",
       "      <td>5.787e+06</td>\n",
       "      <td>1653.0</td>\n",
       "      <td>2016-08-18</td>\n",
       "    </tr>\n",
       "  </tbody>\n",
       "</table>\n",
       "</div>"
      ],
      "text/plain": [
       "    C/A  UNIT       SCP STATION        DATE  ENTRIES   PREV_DATE  \\\n",
       "1  A002  R051  02-00-00   59 ST  08/14/2016  5782092  08/13/2016   \n",
       "2  A002  R051  02-00-00   59 ST  08/15/2016  5783580  08/14/2016   \n",
       "3  A002  R051  02-00-00   59 ST  08/16/2016  5785168  08/15/2016   \n",
       "4  A002  R051  02-00-00   59 ST  08/17/2016  5786747  08/16/2016   \n",
       "5  A002  R051  02-00-00   59 ST  08/18/2016  5788400  08/17/2016   \n",
       "\n",
       "   PREV_ENTRIES  DAILY_ENTRIES    DATEADJ  \n",
       "1     5.781e+06          743.0 2016-08-14  \n",
       "2     5.782e+06         1488.0 2016-08-15  \n",
       "3     5.784e+06         1588.0 2016-08-16  \n",
       "4     5.785e+06         1579.0 2016-08-17  \n",
       "5     5.787e+06         1653.0 2016-08-18  "
      ]
     },
     "execution_count": 199,
     "metadata": {},
     "output_type": "execute_result"
    }
   ],
   "source": [
    "turnstile_daily.head()"
   ]
  },
  {
   "cell_type": "code",
   "execution_count": 200,
   "metadata": {
    "collapsed": false
   },
   "outputs": [
    {
     "data": {
      "text/plain": [
       "<matplotlib.figure.Figure at 0x10b493810>"
      ]
     },
     "metadata": {},
     "output_type": "display_data"
    }
   ],
   "source": [
    "plt.figure(figsize=(10,3))\n",
    "\n",
    "mask = ((turnstile_daily[\"C/A\"] == \"A002\") & \n",
    "        (turnstile_daily[\"UNIT\"] == \"R051\") & \n",
    "        (turnstile_daily[\"SCP\"] == \"02-00-00\") & \n",
    "        (turnstile_daily[\"STATION\"] == \"59 ST\"))\n",
    "\n",
    "selected_turnstile = turnstile_daily[(mask)]"
   ]
  },
  {
   "cell_type": "code",
   "execution_count": 201,
   "metadata": {
    "collapsed": false
   },
   "outputs": [
    {
     "data": {
      "text/plain": [
       "[<matplotlib.lines.Line2D at 0x10b467f10>]"
      ]
     },
     "execution_count": 201,
     "metadata": {},
     "output_type": "execute_result"
    },
    {
     "data": {
      "image/png": "[encoded data removed]",
      "text/plain": [
       "<matplotlib.figure.Figure at 0x11c5fe190>"
      ]
     },
     "metadata": {},
     "output_type": "display_data"
    }
   ],
   "source": [
    "dates = selected_turnstile[\"DATEADJ\"]\n",
    "counts = selected_turnstile[\"DAILY_ENTRIES\"]\n",
    "\n",
    "plt.xticks(rotation=70)\n",
    "plt.plot(dates, counts)"
   ]
  },
  {
   "cell_type": "markdown",
   "metadata": {
    "collapsed": false
   },
   "source": [
    "5.: Combine the numbers together for each ControlArea/UNIT/STATION combo"
   ]
  },
  {
   "cell_type": "code",
   "execution_count": 202,
   "metadata": {
    "collapsed": true
   },
   "outputs": [],
   "source": [
    "turnstile_combo = (turnstile_daily\n",
    "                   .groupby(['C/A', 'UNIT', 'STATION','DATEADJ'])\n",
    "                   .DAILY_ENTRIES\n",
    "                   .sum()\n",
    "                   .reset_index()\n",
    "                   )"
   ]
  },
  {
   "cell_type": "code",
   "execution_count": 203,
   "metadata": {
    "collapsed": false
   },
   "outputs": [
    {
     "data": {
      "text/html": [
       "<div>\n",
       "<table border=\"1\" class=\"dataframe\">\n",
       "  <thead>\n",
       "    <tr style=\"text-align: right;\">\n",
       "      <th></th>\n",
       "      <th>C/A</th>\n",
       "      <th>UNIT</th>\n",
       "      <th>STATION</th>\n",
       "      <th>DATEADJ</th>\n",
       "      <th>DAILY_ENTRIES</th>\n",
       "    </tr>\n",
       "  </thead>\n",
       "  <tbody>\n",
       "    <tr>\n",
       "      <th>0</th>\n",
       "      <td>A002</td>\n",
       "      <td>R051</td>\n",
       "      <td>59 ST</td>\n",
       "      <td>2016-08-14</td>\n",
       "      <td>8405.0</td>\n",
       "    </tr>\n",
       "    <tr>\n",
       "      <th>1</th>\n",
       "      <td>A002</td>\n",
       "      <td>R051</td>\n",
       "      <td>59 ST</td>\n",
       "      <td>2016-08-15</td>\n",
       "      <td>14988.0</td>\n",
       "    </tr>\n",
       "    <tr>\n",
       "      <th>2</th>\n",
       "      <td>A002</td>\n",
       "      <td>R051</td>\n",
       "      <td>59 ST</td>\n",
       "      <td>2016-08-16</td>\n",
       "      <td>16675.0</td>\n",
       "    </tr>\n",
       "    <tr>\n",
       "      <th>3</th>\n",
       "      <td>A002</td>\n",
       "      <td>R051</td>\n",
       "      <td>59 ST</td>\n",
       "      <td>2016-08-17</td>\n",
       "      <td>16860.0</td>\n",
       "    </tr>\n",
       "    <tr>\n",
       "      <th>4</th>\n",
       "      <td>A002</td>\n",
       "      <td>R051</td>\n",
       "      <td>59 ST</td>\n",
       "      <td>2016-08-18</td>\n",
       "      <td>16859.0</td>\n",
       "    </tr>\n",
       "  </tbody>\n",
       "</table>\n",
       "</div>"
      ],
      "text/plain": [
       "    C/A  UNIT STATION    DATEADJ  DAILY_ENTRIES\n",
       "0  A002  R051   59 ST 2016-08-14         8405.0\n",
       "1  A002  R051   59 ST 2016-08-15        14988.0\n",
       "2  A002  R051   59 ST 2016-08-16        16675.0\n",
       "3  A002  R051   59 ST 2016-08-17        16860.0\n",
       "4  A002  R051   59 ST 2016-08-18        16859.0"
      ]
     },
     "execution_count": 203,
     "metadata": {},
     "output_type": "execute_result"
    }
   ],
   "source": [
    "turnstile_combo.head()"
   ]
  },
  {
   "cell_type": "markdown",
   "metadata": {},
   "source": [
    "6.: Combine to the station level"
   ]
  },
  {
   "cell_type": "code",
   "execution_count": 204,
   "metadata": {
    "collapsed": false
   },
   "outputs": [],
   "source": [
    "turnstile_station = (turnstile_combo\n",
    "                     .groupby(['STATION','DATEADJ'])\n",
    "                     .DAILY_ENTRIES\n",
    "                     .sum()\n",
    "                     .reset_index()\n",
    "                     )\n",
    "    "
   ]
  },
  {
   "cell_type": "markdown",
   "metadata": {},
   "source": [
    "7.: Plot the time series for a station"
   ]
  },
  {
   "cell_type": "code",
   "execution_count": 205,
   "metadata": {
    "collapsed": false
   },
   "outputs": [],
   "source": [
    "mask = ((turnstile_station['STATION'] == \"59 ST\"))\n",
    "\n",
    "turnstile_59ST = turnstile_station[mask]"
   ]
  },
  {
   "cell_type": "code",
   "execution_count": 206,
   "metadata": {
    "collapsed": false
   },
   "outputs": [
    {
     "data": {
      "text/plain": [
       "[<matplotlib.lines.Line2D at 0x10b495590>]"
      ]
     },
     "execution_count": 206,
     "metadata": {},
     "output_type": "execute_result"
    },
    {
     "data": {
      "image/png": "[encoded data removed]",
      "text/plain": [
       "<matplotlib.figure.Figure at 0x11c6b5610>"
      ]
     },
     "metadata": {},
     "output_type": "display_data"
    }
   ],
   "source": [
    "plt.figure()\n",
    "\n",
    "dates = turnstile_59ST[\"DATEADJ\"]\n",
    "counts = turnstile_59ST[\"DAILY_ENTRIES\"]\n",
    "\n",
    "plt.xticks(rotation=70)\n",
    "plt.plot(dates, counts)\n"
   ]
  },
  {
   "cell_type": "markdown",
   "metadata": {},
   "source": [
    "8.: Plot several weeks for one station over one another"
   ]
  },
  {
   "cell_type": "code",
   "execution_count": 207,
   "metadata": {
    "collapsed": false
   },
   "outputs": [
    {
     "name": "stderr",
     "output_type": "stream",
     "text": [
      "/Users/Nils/anaconda/lib/python2.7/site-packages/ipykernel/__main__.py:3: SettingWithCopyWarning: \n",
      "A value is trying to be set on a copy of a slice from a DataFrame.\n",
      "Try using .loc[row_indexer,col_indexer] = value instead\n",
      "\n",
      "See the caveats in the documentation: http://pandas.pydata.org/pandas-docs/stable/indexing.html#indexing-view-versus-copy\n",
      "  app.launch_new_instance()\n"
     ]
    }
   ],
   "source": [
    "# Add weekday names\n",
    "\n",
    "turnstile_59ST[\"WEEKDAY\"] = turnstile_59ST[\"DATEADJ\"].dt.weekday"
   ]
  },
  {
   "cell_type": "code",
   "execution_count": 208,
   "metadata": {
    "collapsed": false
   },
   "outputs": [],
   "source": [
    "# Create dataframes for four weeks\n",
    "\n",
    "ST59_week1 = turnstile_59ST[((turnstile_59ST.DATEADJ >= \"2016-08-15\") & (turnstile_59ST.DATEADJ <= \"2016-08-21\"))]\n",
    "ST59_week2 = turnstile_59ST[((turnstile_59ST.DATEADJ >= \"2016-08-22\") & (turnstile_59ST.DATEADJ <= \"2016-08-28\"))]\n",
    "ST59_week3 = turnstile_59ST[((turnstile_59ST.DATEADJ >= \"2016-08-29\") & (turnstile_59ST.DATEADJ <= \"2016-09-04\"))]\n",
    "ST59_week4 = turnstile_59ST[((turnstile_59ST.DATEADJ >= \"2016-09-05\") & (turnstile_59ST.DATEADJ <= \"2016-09-11\"))]"
   ]
  },
  {
   "cell_type": "code",
   "execution_count": 209,
   "metadata": {
    "collapsed": false
   },
   "outputs": [
    {
     "data": {
      "text/html": [
       "<div>\n",
       "<table border=\"1\" class=\"dataframe\">\n",
       "  <thead>\n",
       "    <tr style=\"text-align: right;\">\n",
       "      <th></th>\n",
       "      <th>STATION</th>\n",
       "      <th>DATEADJ</th>\n",
       "      <th>DAILY_ENTRIES</th>\n",
       "      <th>WEEKDAY</th>\n",
       "    </tr>\n",
       "  </thead>\n",
       "  <tbody>\n",
       "    <tr>\n",
       "      <th>2890</th>\n",
       "      <td>59 ST</td>\n",
       "      <td>2016-08-15</td>\n",
       "      <td>67373.0</td>\n",
       "      <td>0</td>\n",
       "    </tr>\n",
       "    <tr>\n",
       "      <th>2891</th>\n",
       "      <td>59 ST</td>\n",
       "      <td>2016-08-16</td>\n",
       "      <td>75197.0</td>\n",
       "      <td>1</td>\n",
       "    </tr>\n",
       "    <tr>\n",
       "      <th>2892</th>\n",
       "      <td>59 ST</td>\n",
       "      <td>2016-08-17</td>\n",
       "      <td>76937.0</td>\n",
       "      <td>2</td>\n",
       "    </tr>\n",
       "    <tr>\n",
       "      <th>2893</th>\n",
       "      <td>59 ST</td>\n",
       "      <td>2016-08-18</td>\n",
       "      <td>75815.0</td>\n",
       "      <td>3</td>\n",
       "    </tr>\n",
       "    <tr>\n",
       "      <th>2894</th>\n",
       "      <td>59 ST</td>\n",
       "      <td>2016-08-19</td>\n",
       "      <td>73388.0</td>\n",
       "      <td>4</td>\n",
       "    </tr>\n",
       "    <tr>\n",
       "      <th>2895</th>\n",
       "      <td>59 ST</td>\n",
       "      <td>2016-08-20</td>\n",
       "      <td>46205.0</td>\n",
       "      <td>5</td>\n",
       "    </tr>\n",
       "    <tr>\n",
       "      <th>2896</th>\n",
       "      <td>59 ST</td>\n",
       "      <td>2016-08-21</td>\n",
       "      <td>37062.0</td>\n",
       "      <td>6</td>\n",
       "    </tr>\n",
       "  </tbody>\n",
       "</table>\n",
       "</div>"
      ],
      "text/plain": [
       "     STATION    DATEADJ  DAILY_ENTRIES  WEEKDAY\n",
       "2890   59 ST 2016-08-15        67373.0        0\n",
       "2891   59 ST 2016-08-16        75197.0        1\n",
       "2892   59 ST 2016-08-17        76937.0        2\n",
       "2893   59 ST 2016-08-18        75815.0        3\n",
       "2894   59 ST 2016-08-19        73388.0        4\n",
       "2895   59 ST 2016-08-20        46205.0        5\n",
       "2896   59 ST 2016-08-21        37062.0        6"
      ]
     },
     "execution_count": 209,
     "metadata": {},
     "output_type": "execute_result"
    }
   ],
   "source": [
    "ST59_week1"
   ]
  },
  {
   "cell_type": "code",
   "execution_count": 210,
   "metadata": {
    "collapsed": false
   },
   "outputs": [
    {
     "data": {
      "text/plain": [
       "<matplotlib.text.Text at 0x123d7a690>"
      ]
     },
     "execution_count": 210,
     "metadata": {},
     "output_type": "execute_result"
    },
    {
     "data": {
      "image/png": "[encoded data removed]",
      "text/plain": [
       "<matplotlib.figure.Figure at 0x10b4a1710>"
      ]
     },
     "metadata": {},
     "output_type": "display_data"
    }
   ],
   "source": [
    "# Plot the weekly data upon each other\n",
    "\n",
    "plt.plot(ST59_week1[\"WEEKDAY\"], ST59_week1[\"DAILY_ENTRIES\"])\n",
    "plt.plot(ST59_week2[\"WEEKDAY\"], ST59_week2[\"DAILY_ENTRIES\"])\n",
    "plt.plot(ST59_week3[\"WEEKDAY\"], ST59_week3[\"DAILY_ENTRIES\"])\n",
    "plt.plot(ST59_week4[\"WEEKDAY\"], ST59_week4[\"DAILY_ENTRIES\"])\n",
    "\n",
    "plt.title('59 ST Station: Day of Week vs. Daily Entries')\n",
    "plt.xlabel('Day of Week')\n",
    "plt.ylabel('Daily Entries')"
   ]
  },
  {
   "cell_type": "markdown",
   "metadata": {},
   "source": [
    "9.: Highest total ridership"
   ]
  },
  {
   "cell_type": "code",
   "execution_count": 211,
   "metadata": {
    "collapsed": false
   },
   "outputs": [],
   "source": [
    "# Sum up daily entries per station\n",
    "\n",
    "station_totals=(turnstile_station\n",
    "                .groupby(\"STATION\")\n",
    "                .DAILY_ENTRIES.sum()\n",
    "                .reset_index()\n",
    "                .sort_values(\"DAILY_ENTRIES\", ascending=False)\n",
    "                )"
   ]
  },
  {
   "cell_type": "markdown",
   "metadata": {},
   "source": [
    "10.: Plot Distribution of station totals"
   ]
  },
  {
   "cell_type": "code",
   "execution_count": 212,
   "metadata": {
    "collapsed": false
   },
   "outputs": [
    {
     "data": {
      "image/png": "[encoded data removed]",
      "text/plain": [
       "<matplotlib.figure.Figure at 0x10b493190>"
      ]
     },
     "metadata": {},
     "output_type": "display_data"
    }
   ],
   "source": [
    "plt.hist(station_totals[\"DAILY_ENTRIES\"]);"
   ]
  }
 ],
 "metadata": {
  "anaconda-cloud": {},
  "kernelspec": {
   "display_name": "Python [Root]",
   "language": "python",
   "name": "Python [Root]"
  },
  "language_info": {
   "codemirror_mode": {
    "name": "ipython",
    "version": 2
   },
   "file_extension": ".py",
   "mimetype": "text/x-python",
   "name": "python",
   "nbconvert_exporter": "python",
   "pygments_lexer": "ipython2",
   "version": "2.7.12"
  }
 },
 "nbformat": 4,
 "nbformat_minor": 0
}
